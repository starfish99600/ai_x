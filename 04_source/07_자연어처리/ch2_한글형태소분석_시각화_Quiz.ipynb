{
 "cells": [
  {
   "cell_type": "code",
   "execution_count": 1,
   "id": "6b927c6f",
   "metadata": {},
   "outputs": [
    {
     "data": {
      "text/html": [
       "\n",
       "<style>\n",
       "div.container{width:100% !important;}\n",
       "div.cell.code_cell.rendered{width:100%;}\n",
       "div.input_prompt{padding:0px;}\n",
       "div.CodeMirror {font-family:Consolas; font-size:20pt;}\n",
       "div.text_cell_render.rendered_html{font-size:18pt;}\n",
       "div.text_cell_render.rendered_html{font-size:15pt;}\n",
       "div.output {font-size:18pt; font-weight:bold;}\n",
       "div.input {font-family:Consolas; font-size:18pt;}\n",
       "div.prompt {min-width:70px;}\n",
       "div#toc-wrapper{padding-top:120px;}\n",
       "div.text_cell_render ul li{font-size:18pt;padding:5px;}\n",
       "table.dataframe{font-size:18px;}\n",
       "</style>\n"
      ],
      "text/plain": [
       "<IPython.core.display.HTML object>"
      ]
     },
     "metadata": {},
     "output_type": "display_data"
    }
   ],
   "source": [
    "from IPython.display import display, HTML\n",
    "display(HTML(\"\"\"\n",
    "<style>\n",
    "div.container{width:100% !important;}\n",
    "div.cell.code_cell.rendered{width:100%;}\n",
    "div.input_prompt{padding:0px;}\n",
    "div.CodeMirror {font-family:Consolas; font-size:20pt;}\n",
    "div.text_cell_render.rendered_html{font-size:18pt;}\n",
    "div.text_cell_render.rendered_html{font-size:15pt;}\n",
    "div.output {font-size:18pt; font-weight:bold;}\n",
    "div.input {font-family:Consolas; font-size:18pt;}\n",
    "div.prompt {min-width:70px;}\n",
    "div#toc-wrapper{padding-top:120px;}\n",
    "div.text_cell_render ul li{font-size:18pt;padding:5px;}\n",
    "table.dataframe{font-size:18px;}\n",
    "</style>\n",
    "\"\"\"))"
   ]
  },
  {
   "cell_type": "markdown",
   "id": "53e98b31",
   "metadata": {},
   "source": [
    "# ※ ①naver open API를 활용하여 네이버지식인 \"전주여행\"과 \"경주여행\"을 각각 500건씩 검색(re ? )후 백업 ->  ②품사태깅 백업 -> ③명사만 추출 -> ④빈도분석(DataFrame) 후 백업-> ⑤빈도 시각화(워드클라우드, Text) ->⑥ Word2Vec\n",
    "\n",
    "# 1. 네이버 open API를 활용하여 검색 추출\n",
    "- 검색어, no, title, link, description, title + ' ' + description(total_text)"
   ]
  },
  {
   "cell_type": "code",
   "execution_count": 2,
   "id": "53b3e51b",
   "metadata": {},
   "outputs": [
    {
     "data": {
      "text/plain": [
       "'D:\\\\ai_x\\\\source\\\\07_자연어처리'"
      ]
     },
     "execution_count": 2,
     "metadata": {},
     "output_type": "execute_result"
    }
   ],
   "source": [
    "# pip install python-dotenv (환경변수를 쓰기 위한 라이브러리)\n",
    "# pip install python-decouple (주피터 환경에서는 안 될 수도 있음)\n",
    "import os\n",
    "os.getcwd() # 현재 작업디렉토리"
   ]
  },
  {
   "cell_type": "code",
   "execution_count": 3,
   "id": "7ab6023c",
   "metadata": {},
   "outputs": [
    {
     "name": "stdout",
     "output_type": "stream",
     "text": [
      " D 드라이브의 볼륨: 새 볼륨\n",
      " 볼륨 일련 번호: BE7A-ADFF\n",
      "\n",
      " D:\\ai_x\\source\\07_자연어처리 디렉터리\n",
      "\n",
      "2025-06-18  오후 05:50                56 .env\n",
      "               1개 파일                  56 바이트\n",
      "               0개 디렉터리  487,580,237,824 바이트 남음\n"
     ]
    }
   ],
   "source": [
    "%ls .env"
   ]
  },
  {
   "cell_type": "code",
   "execution_count": 4,
   "id": "3c6dd332",
   "metadata": {},
   "outputs": [
    {
     "data": {
      "text/plain": [
       "True"
      ]
     },
     "execution_count": 4,
     "metadata": {},
     "output_type": "execute_result"
    }
   ],
   "source": [
    "from dotenv import load_dotenv\n",
    "load_dotenv()\n",
    "\n",
    "# print(os.getenv('Client_ID'))\n",
    "# print(os.getenv('Client_Secret'))"
   ]
  },
  {
   "cell_type": "code",
   "execution_count": 5,
   "id": "91d5876f",
   "metadata": {},
   "outputs": [],
   "source": [
    "from decouple import config\n",
    "# print(config('Client_ID'))\n",
    "# print(config('Client_Secret'))"
   ]
  },
  {
   "cell_type": "code",
   "execution_count": 6,
   "id": "29ce0f69",
   "metadata": {},
   "outputs": [
    {
     "name": "stdout",
     "output_type": "stream",
     "text": [
      "{\n",
      "\t\"lastBuildDate\":\"Thu, 19 Jun 2025 16:05:59 +0900\",\n",
      "\t\"total\":931230,\n",
      "\t\"start\":1,\n",
      "\t\"display\":10,\n",
      "\t\"items\":[\n",
      "\t\t{\n",
      "\t\t\t\"title\":\"<b>경주 여행<\\/b>코스 루지월드 해방감을 느꼈어요\",\n",
      "\t\t\t\"link\":\"https:\\/\\/blog.naver.com\\/sangil00\\/223903211939\",\n",
      "\t\t\t\"description\":\"오랜만에 활기차고 건강하게 하루를 보낼 수 있었고요. 날씨 좋은 계절에 경주를 방문하신다면 루지월드를 꼭 <b>경주 여행<\\/b>코스에 넣어보시길 바라요. 정말 후회 없는 경험이 될 거예요. #<b>경주여행<\\/b>코스 #루지월드\",\n",
      "\t\t\t\"bloggername\":\"길을 찾는 즐거움_거칠부\",\n",
      "\t\t\t\"bloggerlink\":\"blog.naver.com\\/sangil00\",\n",
      "\t\t\t\"postdate\":\"20250618\"\n",
      "\t\t},\n",
      "\t\t{\n",
      "\t\t\t\"title\":\"당일치기 <\n"
     ]
    }
   ],
   "source": [
    "# 네이버 개발자 센터 document에 있는 내용 그냥 그대로 가져와 봄\n",
    "import os\n",
    "import sys\n",
    "import urllib.request\n",
    "client_id = os.getenv('Client_ID')\n",
    "client_secret = os.getenv('Client_Secret')\n",
    "encText = urllib.parse.quote(\"경주 여행\")\n",
    "url = \"https://openapi.naver.com/v1/search/blog?query=\" + encText # JSON 결과\n",
    "# url = \"https://openapi.naver.com/v1/search/blog.xml?query=\" + encText # XML 결과\n",
    "request = urllib.request.Request(url)\n",
    "request.add_header(\"X-Naver-Client-Id\",client_id)\n",
    "request.add_header(\"X-Naver-Client-Secret\",client_secret)\n",
    "response = urllib.request.urlopen(request)\n",
    "rescode = response.getcode()\n",
    "if(rescode==200):\n",
    "    response_body = response.read()\n",
    "    print(response_body.decode('utf-8')[:500])\n",
    "else:\n",
    "    print(\"Error Code:\" + rescode)"
   ]
  },
  {
   "cell_type": "code",
   "execution_count": 7,
   "id": "40ddd9bc",
   "metadata": {},
   "outputs": [],
   "source": [
    "# 패키지 import\n",
    "import requests\n",
    "import time\n",
    "import os\n",
    "import json # response 텍스트를 json 딕셔너리로\n",
    "from html import unescape # description에 있는 &lt;(특수문자)을 <으로 변경, &gt;-> >\n",
    "import pandas as pd\n",
    "import re"
   ]
  },
  {
   "cell_type": "code",
   "execution_count": 8,
   "id": "3d88f54c",
   "metadata": {
    "scrolled": true
   },
   "outputs": [
    {
     "name": "stdout",
     "output_type": "stream",
     "text": [
      "100\n",
      "{'title': '<b>경주 여행</b> 코스 어디가★', 'link': 'https://kin.naver.com/qna/detail.naver?d1id=9&dirId=90111&docId=277365452&qb=6rK97KO8IOyXrO2WiQ==&enc=utf8', 'description': '가족들이랑 <b>경주여행</b>을 가려고 하는데 !! <b>경주 여행</b> 코스를 어떻게 해야할지 모르겟네요!! <b>경주 여행</b> 코스 어디가 좋을까요? 사실 중학교때 가보고 안가봤어요 <b>경주 여행</b>코스 가장 핫플레이스만 가보고 싶어요!! 혹시 <b>경주 여행</b>코스 다들... '} {'title': '<b>경주 여행</b>!! 황리단길 맛집추천', 'link': 'https://kin.naver.com/qna/detail.naver?d1id=9&dirId=901&docId=451834956&qb=6rK97KO8IOyXrO2WiQ==&enc=utf8', 'description': '이번주에 <b>경주여행</b> 가는데 황리단길 근처로 맛집 많이 추천해주세요 ~ 뚜벅이라 거리멀면 힘들어요 ㅠㅠ <b>경주 여행</b>을 위한 황리단길 맛집 추천과 황리단 맛집과 경주 맛집은 매일 많은 분들이 줄을 오랫동안 서서 기다려 먹는 곳과 배달... '}\n"
     ]
    }
   ],
   "source": [
    "query = \"경주 여행\"\n",
    "start = 1\n",
    "url = f\"https://openapi.naver.com/v1/search/kin.json?query={query}&display=100&start={start}\"\n",
    "headers = {\"X-Naver-Client-Id\":client_id,\n",
    "           \"X-Naver-Client-Secret\":client_secret}\n",
    "response = requests.get(url, headers=headers)\n",
    "items = json.loads(response.text)['items']\n",
    "print(len(items))\n",
    "print(items[51],items[58])"
   ]
  },
  {
   "cell_type": "code",
   "execution_count": 9,
   "id": "31c216c3",
   "metadata": {},
   "outputs": [
    {
     "name": "stdout",
     "output_type": "stream",
     "text": [
      "<b>경주 여행</b>!! 황리단길 맛집추천\n",
      "https://kin.naver.com/qna/detail.naver?d1id=9&dirId=901&docId=451834956&qb=6rK97KO8IOyXrO2WiQ==&enc=utf8\n",
      "이번주에 <b>경주여행</b> 가는데 황리단길 근처로 맛집 많이 추천해주세요 ~ 뚜벅이라 거리멀면 힘들어요 ㅠㅠ <b>경주 여행</b>을 위한 황리단길 맛집 추천과 황리단 맛집과 경주 맛집은 매일 많은 분들이 줄을 오랫동안 서서 기다려 먹는 곳과 배달... \n"
     ]
    }
   ],
   "source": [
    "item = items[58]\n",
    "title = item['title']\n",
    "link = item['link']\n",
    "description = item['description']\n",
    "print(title, link, description, sep='\\n')"
   ]
  },
  {
   "cell_type": "code",
   "execution_count": 10,
   "id": "c241ba84",
   "metadata": {},
   "outputs": [
    {
     "name": "stdout",
     "output_type": "stream",
     "text": [
      " 경주 여행 !! 황리단길 맛집추천\n",
      "https://kin.naver.com/qna/detail.naver?d1id=9&dirId=901&docId=451834956&qb=6rK97KO8IOyXrO2WiQ==&enc=utf8\n",
      "이번주에  경주여행  가는데 황리단길 근처로 맛집 많이 추천해주세요 ~ 뚜벅이라 거리멀면 힘들어요 ㅠㅠ  경주 여행 을 위한 황리단길 맛집 추천과 황리단 맛집과 경주 맛집은 매일 많은 분들이 줄을 오랫동안 서서 기다려 먹는 곳과 배달... \n"
     ]
    }
   ],
   "source": [
    "# 위의 title의 <b>태그 없애기, description의 <b>태그 없애고 html의 특수문자 없애기\n",
    "item = items[58]\n",
    "title = item['title'].replace('<b>', ' ').replace('</b>', ' ')\n",
    "link = item['link']\n",
    "description = item['description'].replace('<b>', ' ').replace('</b>', ' ')\n",
    "description = unescape(description) # html 특수문자 처리(&lt; -> <로 대체)\n",
    "print(title, link, description, sep='\\n')"
   ]
  },
  {
   "cell_type": "code",
   "execution_count": 11,
   "id": "42a3875b",
   "metadata": {},
   "outputs": [
    {
     "name": "stdout",
     "output_type": "stream",
     "text": [
      " 추억여행 ktx 타고 짱 \n"
     ]
    }
   ],
   "source": [
    "import re\n",
    "description = \"#추억여행 ####ktx 타고@짱@ ㅎㅎㅎ ㅠㅠ ㅋㅋ\"\n",
    "\n",
    "# 정규표현식: 알파벳, 숫자, 한글만 남기고 나머지는 제거\n",
    "description = re.sub(r'[^a-zA-Z0-9가-힣]', ' ', description)\n",
    "description = re.sub('\\s+', ' ', description)\n",
    "print(description)"
   ]
  },
  {
   "cell_type": "code",
   "execution_count": 12,
   "id": "b77079f7",
   "metadata": {},
   "outputs": [],
   "source": [
    "# 네이버 API 계정 정보\n",
    "from dotenv import load_dotenv\n",
    "import os\n",
    "load_dotenv()\n",
    "client_id = os.getenv('Client_ID')\n",
    "client_secret = os.getenv('Client_Secret')\n",
    "queries = ['전주 여행', '경주 여행']\n",
    "max_start = 5"
   ]
  },
  {
   "cell_type": "code",
   "execution_count": 13,
   "id": "05ea2ac1",
   "metadata": {},
   "outputs": [],
   "source": [
    "# 방법1\n",
    "def get_search_element_save(query, start):\n",
    "    headers = {'X-Naver-Client-Id':client_id,\n",
    "           'X-Naver-Client-Secret':client_secret}\n",
    "    url = f'https://openapi.naver.com/v1/search/kin.json?query={query}&display=100&start={start}'\n",
    "    response = requests.get(url, headers=headers)\n",
    "    items = json.loads(response.text)['items']\n",
    "    for i, item in enumerate(items):\n",
    "        title = item['title'].replace('<b>', ' ').replace('</b>', ' ')\n",
    "        link = item['link']\n",
    "        description = item['description'].replace('<b>', ' ').replace('</b>', ' ')\n",
    "#         print('수정전 :', description)\n",
    "        description = unescape(description) # html 특수문자 처리(&lt; -> <로 대체)\n",
    "        description = re.sub(r'[^a-zA-Z0-9가-힣]', ' ', description)\n",
    "        description = re.sub('\\s+', ' ', description)\n",
    "#         print('수정후 :', description)\n",
    "        # print(query, (start*100+i+1), title, link, description, title+' ' +description)\n",
    "        with open(file_name, 'a', encoding='utf-8') as file:\n",
    "            file.write('{}\\t{}\\t{}\\t{}\\t{}\\t{}\\n'.format(query, \n",
    "                                                         (start-1)*100+i+1,\n",
    "                                                         title,\n",
    "                                                         link,\n",
    "                                                         description, \n",
    "                                                         title + ' ' +description))"
   ]
  },
  {
   "cell_type": "code",
   "execution_count": 14,
   "id": "da537815",
   "metadata": {},
   "outputs": [],
   "source": [
    "# 데이터를 저장할 파일 생성 (naver_kin.txt)하고 title 저장(header저장)\n",
    "file_name = 'data/naver_kin.csv'\n",
    "with open(file_name, 'w', encoding='utf-8') as file:\n",
    "    file.write('{}\\t{}\\t{}\\t{}\\t{}\\t{}\\n'.format('query', \n",
    "                            'no','title','link', 'description', 'total_text'))"
   ]
  },
  {
   "cell_type": "code",
   "execution_count": 15,
   "id": "8d5ff85b",
   "metadata": {},
   "outputs": [
    {
     "name": "stdout",
     "output_type": "stream",
     "text": [
      "1 전주 여행 읽는 중\n",
      "2 전주 여행 읽는 중\n",
      "3 전주 여행 읽는 중\n",
      "4 전주 여행 읽는 중\n",
      "5 전주 여행 읽는 중\n",
      "1 경주 여행 읽는 중\n",
      "2 경주 여행 읽는 중\n",
      "3 경주 여행 읽는 중\n",
      "4 경주 여행 읽는 중\n",
      "5 경주 여행 읽는 중\n"
     ]
    }
   ],
   "source": [
    "for query in queries:\n",
    "    for start in range(1, max_start+1):\n",
    "        print(start, query, '읽는 중')\n",
    "        get_search_element_save(query, start)\n",
    "        time.sleep(0.5)"
   ]
  },
  {
   "cell_type": "code",
   "execution_count": 16,
   "id": "26a85788",
   "metadata": {},
   "outputs": [],
   "source": [
    "# 방법2 (수업시간 내용과 동일)\n",
    "def get_search_element_return(query, start):\n",
    "    headers = {'X-Naver-Client-Id':client_id,\n",
    "           'X-Naver-Client-Secret':client_secret}\n",
    "    url = f'https://openapi.naver.com/v1/search/kin.json?query={query}&display=100&start={start}'\n",
    "    response = requests.get(url, headers=headers)\n",
    "    items = json.loads(response.text)['items']\n",
    "    result = []\n",
    "    for i, item in enumerate(items):\n",
    "        title = item['title'].replace('<b>', ' ').replace('</b>', ' ')\n",
    "        link = item['link']\n",
    "        description = item['description'].replace('<b>', ' ').replace('</b>', ' ')\n",
    "#         print('수정전 :', description)\n",
    "        description = unescape(description) # html 특수문자 처리(&lt; -> <로 대체)\n",
    "        description = re.sub(r'[^a-zA-Z0-9가-힣]', ' ', description)\n",
    "        description = re.sub('\\s+', ' ', description)\n",
    "#         print('수정후 :', description)\n",
    "        # print(query, (start*100+i+1), title, link, description, title+' ' +description)\n",
    "        result.append({'query':query,\n",
    "                      'no':(start-1)*100+i+1,\n",
    "                      'title':title,\n",
    "                      'link':link,\n",
    "                      'description':description,\n",
    "                      'total_text':title+ ' ' + description})\n",
    "    return result"
   ]
  },
  {
   "cell_type": "code",
   "execution_count": 17,
   "id": "b3ae70f5",
   "metadata": {},
   "outputs": [
    {
     "name": "stdout",
     "output_type": "stream",
     "text": [
      "1 전주 여행 읽는 중\n",
      "2 전주 여행 읽는 중\n",
      "3 전주 여행 읽는 중\n",
      "4 전주 여행 읽는 중\n",
      "5 전주 여행 읽는 중\n",
      "1 경주 여행 읽는 중\n",
      "2 경주 여행 읽는 중\n",
      "3 경주 여행 읽는 중\n",
      "4 경주 여행 읽는 중\n",
      "5 경주 여행 읽는 중\n"
     ]
    }
   ],
   "source": [
    "result_total = []\n",
    "for query in queries:\n",
    "    for start in range(1, max_start+1):\n",
    "        print(start, query, '읽는 중')\n",
    "        result_total.extend(get_search_element_return(query, start))\n",
    "        time.sleep(0.5)\n",
    "df = pd.DataFrame(result_total)\n",
    "df.to_csv('data/naver_kin.csv', index=False, sep='\\t')"
   ]
  },
  {
   "cell_type": "markdown",
   "id": "7b551bf2",
   "metadata": {},
   "source": [
    "# 2. 품사태깅 백업"
   ]
  },
  {
   "cell_type": "code",
   "execution_count": 18,
   "id": "f6af70fa",
   "metadata": {},
   "outputs": [
    {
     "data": {
      "text/html": [
       "<div>\n",
       "<style scoped>\n",
       "    .dataframe tbody tr th:only-of-type {\n",
       "        vertical-align: middle;\n",
       "    }\n",
       "\n",
       "    .dataframe tbody tr th {\n",
       "        vertical-align: top;\n",
       "    }\n",
       "\n",
       "    .dataframe thead th {\n",
       "        text-align: right;\n",
       "    }\n",
       "</style>\n",
       "<table border=\"1\" class=\"dataframe\">\n",
       "  <thead>\n",
       "    <tr style=\"text-align: right;\">\n",
       "      <th></th>\n",
       "      <th>query</th>\n",
       "      <th>no</th>\n",
       "      <th>title</th>\n",
       "      <th>link</th>\n",
       "      <th>description</th>\n",
       "      <th>total_text</th>\n",
       "    </tr>\n",
       "  </thead>\n",
       "  <tbody>\n",
       "    <tr>\n",
       "      <th>0</th>\n",
       "      <td>전주 여행</td>\n",
       "      <td>1</td>\n",
       "      <td>전주  가볼만한곳 추천 받아요</td>\n",
       "      <td>https://kin.naver.com/qna/detail.naver?d1id=9&amp;...</td>\n",
       "      <td>추억의 7080 다양한체험 7080감성 추억여행 테마박물관 유익한시간 2 전북 전...</td>\n",
       "      <td>전주  가볼만한곳 추천 받아요  추억의 7080 다양한체험 7080감성 추억여행 ...</td>\n",
       "    </tr>\n",
       "    <tr>\n",
       "      <th>1</th>\n",
       "      <td>전주 여행</td>\n",
       "      <td>2</td>\n",
       "      <td>전주여행 갈려고하는데요!</td>\n",
       "      <td>https://kin.naver.com/qna/detail.naver?d1id=9&amp;...</td>\n",
       "      <td>전주여행 을 갈려고하는데요 아는사람과 갈려고하는데 호텔은 좋은가격에 정했고 음 2...</td>\n",
       "      <td>전주여행 갈려고하는데요!  전주여행 을 갈려고하는데요 아는사람과 갈려고하는데 호텔...</td>\n",
       "    </tr>\n",
       "  </tbody>\n",
       "</table>\n",
       "</div>"
      ],
      "text/plain": [
       "   query  no              title  \\\n",
       "0  전주 여행   1   전주  가볼만한곳 추천 받아요   \n",
       "1  전주 여행   2      전주여행 갈려고하는데요!   \n",
       "\n",
       "                                                link  \\\n",
       "0  https://kin.naver.com/qna/detail.naver?d1id=9&...   \n",
       "1  https://kin.naver.com/qna/detail.naver?d1id=9&...   \n",
       "\n",
       "                                         description  \\\n",
       "0   추억의 7080 다양한체험 7080감성 추억여행 테마박물관 유익한시간 2 전북 전...   \n",
       "1   전주여행 을 갈려고하는데요 아는사람과 갈려고하는데 호텔은 좋은가격에 정했고 음 2...   \n",
       "\n",
       "                                          total_text  \n",
       "0   전주  가볼만한곳 추천 받아요  추억의 7080 다양한체험 7080감성 추억여행 ...  \n",
       "1   전주여행 갈려고하는데요!  전주여행 을 갈려고하는데요 아는사람과 갈려고하는데 호텔...  "
      ]
     },
     "execution_count": 18,
     "metadata": {},
     "output_type": "execute_result"
    }
   ],
   "source": [
    "import pandas as pd\n",
    "df = pd.read_csv('data/naver_kin.csv', sep='\\t')\n",
    "df.head(2)"
   ]
  },
  {
   "cell_type": "code",
   "execution_count": 19,
   "id": "05dd8c45",
   "metadata": {},
   "outputs": [
    {
     "data": {
      "text/plain": [
       "[['전주 여행',\n",
       "  1,\n",
       "  ' 전주  가볼만한곳 추천 받아요  추억의 7080 다양한체험 7080감성 추억여행 테마박물관 유익한시간 2 전북 전북투어패스 통합이용권 전북핫플 여러여행지 다양한체험 카페이용추가 전주여행 필수 편안하고 즐거운 날이 되시길 바라겠습니다 감사합니다 '],\n",
       " ['경주 여행',\n",
       "  1,\n",
       "  '추석에  경주 여행  추석에 경주 여행 가는거 어떻게 생각하시나요 서울에서 버스를 타고 갈 경우 버스가 버스전용 차선에서 운행하나요 질문하신 추석 경주여행 관련 답변 드리도록 하겠습니다 첨성대 석굴암 불국사 등 유적지는 연중무휴로 ']]"
      ]
     },
     "execution_count": 19,
     "metadata": {},
     "output_type": "execute_result"
    }
   ],
   "source": [
    "df_list = df[['query','no','total_text']].values.tolist()\n",
    "df_list[::500]"
   ]
  },
  {
   "cell_type": "code",
   "execution_count": 20,
   "id": "ca2c0228",
   "metadata": {},
   "outputs": [],
   "source": [
    "from konlpy.tag import Komoran, Kkma, Hannanum, Okt\n",
    "from mecab import MeCab\n",
    "analyzer = MeCab()\n",
    "stopwords = ['전주','경주','여행']\n",
    "select_pos = ['NNG', 'NNP'] "
   ]
  },
  {
   "cell_type": "code",
   "execution_count": 21,
   "id": "f26a884f",
   "metadata": {},
   "outputs": [
    {
     "data": {
      "text/html": [
       "<div>\n",
       "<style scoped>\n",
       "    .dataframe tbody tr th:only-of-type {\n",
       "        vertical-align: middle;\n",
       "    }\n",
       "\n",
       "    .dataframe tbody tr th {\n",
       "        vertical-align: top;\n",
       "    }\n",
       "\n",
       "    .dataframe thead th {\n",
       "        text-align: right;\n",
       "    }\n",
       "</style>\n",
       "<table border=\"1\" class=\"dataframe\">\n",
       "  <thead>\n",
       "    <tr style=\"text-align: right;\">\n",
       "      <th></th>\n",
       "      <th>query</th>\n",
       "      <th>no</th>\n",
       "      <th>token</th>\n",
       "      <th>pos</th>\n",
       "    </tr>\n",
       "  </thead>\n",
       "  <tbody>\n",
       "    <tr>\n",
       "      <th>0</th>\n",
       "      <td>전주 여행</td>\n",
       "      <td>1</td>\n",
       "      <td>추천</td>\n",
       "      <td>NNG</td>\n",
       "    </tr>\n",
       "    <tr>\n",
       "      <th>1</th>\n",
       "      <td>전주 여행</td>\n",
       "      <td>1</td>\n",
       "      <td>아요</td>\n",
       "      <td>EF</td>\n",
       "    </tr>\n",
       "    <tr>\n",
       "      <th>2</th>\n",
       "      <td>전주 여행</td>\n",
       "      <td>1</td>\n",
       "      <td>추억</td>\n",
       "      <td>NNG</td>\n",
       "    </tr>\n",
       "    <tr>\n",
       "      <th>3</th>\n",
       "      <td>전주 여행</td>\n",
       "      <td>1</td>\n",
       "      <td>7080</td>\n",
       "      <td>SN</td>\n",
       "    </tr>\n",
       "    <tr>\n",
       "      <th>4</th>\n",
       "      <td>전주 여행</td>\n",
       "      <td>1</td>\n",
       "      <td>다양</td>\n",
       "      <td>NNG</td>\n",
       "    </tr>\n",
       "    <tr>\n",
       "      <th>...</th>\n",
       "      <td>...</td>\n",
       "      <td>...</td>\n",
       "      <td>...</td>\n",
       "      <td>...</td>\n",
       "    </tr>\n",
       "    <tr>\n",
       "      <th>24218</th>\n",
       "      <td>경주 여행</td>\n",
       "      <td>500</td>\n",
       "      <td>참고</td>\n",
       "      <td>NNG</td>\n",
       "    </tr>\n",
       "    <tr>\n",
       "      <th>24219</th>\n",
       "      <td>경주 여행</td>\n",
       "      <td>500</td>\n",
       "      <td>쭈니</td>\n",
       "      <td>NNP</td>\n",
       "    </tr>\n",
       "    <tr>\n",
       "      <th>24220</th>\n",
       "      <td>경주 여행</td>\n",
       "      <td>500</td>\n",
       "      <td>아빠</td>\n",
       "      <td>NNG</td>\n",
       "    </tr>\n",
       "    <tr>\n",
       "      <th>24221</th>\n",
       "      <td>경주 여행</td>\n",
       "      <td>500</td>\n",
       "      <td>블로그</td>\n",
       "      <td>NNG</td>\n",
       "    </tr>\n",
       "    <tr>\n",
       "      <th>24222</th>\n",
       "      <td>경주 여행</td>\n",
       "      <td>500</td>\n",
       "      <td>방문</td>\n",
       "      <td>NNG</td>\n",
       "    </tr>\n",
       "  </tbody>\n",
       "</table>\n",
       "<p>24223 rows × 4 columns</p>\n",
       "</div>"
      ],
      "text/plain": [
       "       query   no token  pos\n",
       "0      전주 여행    1    추천  NNG\n",
       "1      전주 여행    1    아요   EF\n",
       "2      전주 여행    1    추억  NNG\n",
       "3      전주 여행    1  7080   SN\n",
       "4      전주 여행    1    다양  NNG\n",
       "...      ...  ...   ...  ...\n",
       "24218  경주 여행  500    참고  NNG\n",
       "24219  경주 여행  500    쭈니  NNP\n",
       "24220  경주 여행  500    아빠  NNG\n",
       "24221  경주 여행  500   블로그  NNG\n",
       "24222  경주 여행  500    방문  NNG\n",
       "\n",
       "[24223 rows x 4 columns]"
      ]
     },
     "execution_count": 21,
     "metadata": {},
     "output_type": "execute_result"
    }
   ],
   "source": [
    "postagged_lst = []\n",
    "for i, row in enumerate(df_list):\n",
    "    query = row[0]\n",
    "    no = row[1]\n",
    "    text = row[2]\n",
    "    text_pos = analyzer.pos(text)\n",
    "    # analyzer가 MeCab이 아닐 경우 시간이 좀 걸려서 250개마다 로그 출력\n",
    "#     if i%250==0:\n",
    "#         print(\"{}의 {}번째 품사태깅 결과 {}개 저장중\".format(query, \n",
    "#                                                 no, \n",
    "#                                                 len(text_pos), end='\\n\\n'))\n",
    "    for token, pos in text_pos:\n",
    "        # if token not in stopwords and pos in select_pos: 라고 하면 명사만 추출\n",
    "        if token not in stopwords and len(token)>1: # 모든 품사를 우선 다 넣고 나중에 빼려면\n",
    "            postagged_lst.append({'query':query,\n",
    "                                 'no':no,\n",
    "                                 'token':token,\n",
    "                                 'pos':pos})\n",
    "df_postagged = pd.DataFrame(postagged_lst)\n",
    "df_postagged"
   ]
  },
  {
   "cell_type": "code",
   "execution_count": 22,
   "id": "f2dcdc7e",
   "metadata": {},
   "outputs": [],
   "source": [
    "df_postagged.to_csv('data/naver_kin_pos.csv', index=False, sep='\\t')"
   ]
  },
  {
   "cell_type": "markdown",
   "id": "5928e65a",
   "metadata": {},
   "source": [
    "# 3. 명사만 추출 "
   ]
  },
  {
   "cell_type": "code",
   "execution_count": 23,
   "id": "bfaa5b60",
   "metadata": {},
   "outputs": [],
   "source": [
    "df_postagged = pd.read_csv('data/naver_kin_pos.csv', sep='\\t')"
   ]
  },
  {
   "cell_type": "code",
   "execution_count": 24,
   "id": "63351c99",
   "metadata": {},
   "outputs": [
    {
     "data": {
      "text/html": [
       "<div>\n",
       "<style scoped>\n",
       "    .dataframe tbody tr th:only-of-type {\n",
       "        vertical-align: middle;\n",
       "    }\n",
       "\n",
       "    .dataframe tbody tr th {\n",
       "        vertical-align: top;\n",
       "    }\n",
       "\n",
       "    .dataframe thead th {\n",
       "        text-align: right;\n",
       "    }\n",
       "</style>\n",
       "<table border=\"1\" class=\"dataframe\">\n",
       "  <thead>\n",
       "    <tr style=\"text-align: right;\">\n",
       "      <th></th>\n",
       "      <th>query</th>\n",
       "      <th>token</th>\n",
       "      <th>pos</th>\n",
       "    </tr>\n",
       "  </thead>\n",
       "  <tbody>\n",
       "    <tr>\n",
       "      <th>0</th>\n",
       "      <td>전주 여행</td>\n",
       "      <td>추천</td>\n",
       "      <td>NNG</td>\n",
       "    </tr>\n",
       "    <tr>\n",
       "      <th>2</th>\n",
       "      <td>전주 여행</td>\n",
       "      <td>추억</td>\n",
       "      <td>NNG</td>\n",
       "    </tr>\n",
       "    <tr>\n",
       "      <th>4</th>\n",
       "      <td>전주 여행</td>\n",
       "      <td>다양</td>\n",
       "      <td>NNG</td>\n",
       "    </tr>\n",
       "    <tr>\n",
       "      <th>5</th>\n",
       "      <td>전주 여행</td>\n",
       "      <td>체험</td>\n",
       "      <td>NNG</td>\n",
       "    </tr>\n",
       "    <tr>\n",
       "      <th>7</th>\n",
       "      <td>전주 여행</td>\n",
       "      <td>감성</td>\n",
       "      <td>NNG</td>\n",
       "    </tr>\n",
       "  </tbody>\n",
       "</table>\n",
       "</div>"
      ],
      "text/plain": [
       "   query token  pos\n",
       "0  전주 여행    추천  NNG\n",
       "2  전주 여행    추억  NNG\n",
       "4  전주 여행    다양  NNG\n",
       "5  전주 여행    체험  NNG\n",
       "7  전주 여행    감성  NNG"
      ]
     },
     "execution_count": 24,
     "metadata": {},
     "output_type": "execute_result"
    }
   ],
   "source": [
    "df_nouns = df_postagged.loc[df_postagged['pos'].isin(['NNP', 'NNG']),\n",
    "                            ['query', 'token','pos']]\n",
    "df_nouns.head()"
   ]
  },
  {
   "cell_type": "code",
   "execution_count": 25,
   "id": "3f3ee4c5",
   "metadata": {},
   "outputs": [],
   "source": [
    "df_nouns.to_csv('data/naver_kin_pos_nouns.csv', index=False, sep='\\t')"
   ]
  },
  {
   "cell_type": "markdown",
   "id": "7d54982d",
   "metadata": {},
   "source": [
    "# 4.빈도분석(DataFrame) 후 백업"
   ]
  },
  {
   "cell_type": "code",
   "execution_count": 26,
   "id": "5b40e1ae",
   "metadata": {},
   "outputs": [
    {
     "data": {
      "text/plain": [
       "(14106, 3)"
      ]
     },
     "execution_count": 26,
     "metadata": {},
     "output_type": "execute_result"
    }
   ],
   "source": [
    "df_nouns = pd.read_csv('data/naver_kin_pos_nouns.csv', sep='\\t')\n",
    "df_nouns.shape"
   ]
  },
  {
   "cell_type": "code",
   "execution_count": 27,
   "id": "1aea5f81",
   "metadata": {},
   "outputs": [
    {
     "data": {
      "text/html": [
       "<div>\n",
       "<style scoped>\n",
       "    .dataframe tbody tr th:only-of-type {\n",
       "        vertical-align: middle;\n",
       "    }\n",
       "\n",
       "    .dataframe tbody tr th {\n",
       "        vertical-align: top;\n",
       "    }\n",
       "\n",
       "    .dataframe thead th {\n",
       "        text-align: right;\n",
       "    }\n",
       "</style>\n",
       "<table border=\"1\" class=\"dataframe\">\n",
       "  <thead>\n",
       "    <tr style=\"text-align: right;\">\n",
       "      <th></th>\n",
       "      <th>query</th>\n",
       "      <th>token</th>\n",
       "      <th>pos</th>\n",
       "    </tr>\n",
       "  </thead>\n",
       "  <tbody>\n",
       "    <tr>\n",
       "      <th>0</th>\n",
       "      <td>전주 여행</td>\n",
       "      <td>추천</td>\n",
       "      <td>NNG</td>\n",
       "    </tr>\n",
       "    <tr>\n",
       "      <th>5000</th>\n",
       "      <td>전주 여행</td>\n",
       "      <td>코스</td>\n",
       "      <td>NNG</td>\n",
       "    </tr>\n",
       "    <tr>\n",
       "      <th>10000</th>\n",
       "      <td>경주 여행</td>\n",
       "      <td>학년</td>\n",
       "      <td>NNG</td>\n",
       "    </tr>\n",
       "  </tbody>\n",
       "</table>\n",
       "</div>"
      ],
      "text/plain": [
       "       query token  pos\n",
       "0      전주 여행    추천  NNG\n",
       "5000   전주 여행    코스  NNG\n",
       "10000  경주 여행    학년  NNG"
      ]
     },
     "execution_count": 27,
     "metadata": {},
     "output_type": "execute_result"
    }
   ],
   "source": [
    "df_nouns.iloc[::5000]"
   ]
  },
  {
   "cell_type": "code",
   "execution_count": 28,
   "id": "4b0241d4",
   "metadata": {},
   "outputs": [
    {
     "data": {
      "text/html": [
       "<div>\n",
       "<style scoped>\n",
       "    .dataframe tbody tr th:only-of-type {\n",
       "        vertical-align: middle;\n",
       "    }\n",
       "\n",
       "    .dataframe tbody tr th {\n",
       "        vertical-align: top;\n",
       "    }\n",
       "\n",
       "    .dataframe thead th {\n",
       "        text-align: right;\n",
       "    }\n",
       "</style>\n",
       "<table border=\"1\" class=\"dataframe\">\n",
       "  <thead>\n",
       "    <tr style=\"text-align: right;\">\n",
       "      <th></th>\n",
       "      <th>query</th>\n",
       "      <th>token</th>\n",
       "      <th>pos</th>\n",
       "    </tr>\n",
       "  </thead>\n",
       "  <tbody>\n",
       "    <tr>\n",
       "      <th>0</th>\n",
       "      <td>경주 여행</td>\n",
       "      <td>가격</td>\n",
       "      <td>10</td>\n",
       "    </tr>\n",
       "    <tr>\n",
       "      <th>1</th>\n",
       "      <td>경주 여행</td>\n",
       "      <td>가능</td>\n",
       "      <td>24</td>\n",
       "    </tr>\n",
       "    <tr>\n",
       "      <th>2</th>\n",
       "      <td>경주 여행</td>\n",
       "      <td>가본적</td>\n",
       "      <td>5</td>\n",
       "    </tr>\n",
       "    <tr>\n",
       "      <th>3</th>\n",
       "      <td>경주 여행</td>\n",
       "      <td>가성</td>\n",
       "      <td>5</td>\n",
       "    </tr>\n",
       "    <tr>\n",
       "      <th>4</th>\n",
       "      <td>경주 여행</td>\n",
       "      <td>가시</td>\n",
       "      <td>5</td>\n",
       "    </tr>\n",
       "    <tr>\n",
       "      <th>...</th>\n",
       "      <td>...</td>\n",
       "      <td>...</td>\n",
       "      <td>...</td>\n",
       "    </tr>\n",
       "    <tr>\n",
       "      <th>878</th>\n",
       "      <td>전주 여행</td>\n",
       "      <td>환급</td>\n",
       "      <td>5</td>\n",
       "    </tr>\n",
       "    <tr>\n",
       "      <th>879</th>\n",
       "      <td>전주 여행</td>\n",
       "      <td>회관</td>\n",
       "      <td>5</td>\n",
       "    </tr>\n",
       "    <tr>\n",
       "      <th>880</th>\n",
       "      <td>전주 여행</td>\n",
       "      <td>휴가</td>\n",
       "      <td>5</td>\n",
       "    </tr>\n",
       "    <tr>\n",
       "      <th>881</th>\n",
       "      <td>전주 여행</td>\n",
       "      <td>휴무</td>\n",
       "      <td>5</td>\n",
       "    </tr>\n",
       "    <tr>\n",
       "      <th>882</th>\n",
       "      <td>전주 여행</td>\n",
       "      <td>흐노</td>\n",
       "      <td>5</td>\n",
       "    </tr>\n",
       "  </tbody>\n",
       "</table>\n",
       "<p>883 rows × 3 columns</p>\n",
       "</div>"
      ],
      "text/plain": [
       "     query token  pos\n",
       "0    경주 여행    가격   10\n",
       "1    경주 여행    가능   24\n",
       "2    경주 여행   가본적    5\n",
       "3    경주 여행    가성    5\n",
       "4    경주 여행    가시    5\n",
       "..     ...   ...  ...\n",
       "878  전주 여행    환급    5\n",
       "879  전주 여행    회관    5\n",
       "880  전주 여행    휴가    5\n",
       "881  전주 여행    휴무    5\n",
       "882  전주 여행    흐노    5\n",
       "\n",
       "[883 rows x 3 columns]"
      ]
     },
     "execution_count": 28,
     "metadata": {},
     "output_type": "execute_result"
    }
   ],
   "source": [
    "df_nouns.groupby(['query','token'], as_index=False)['pos'].count()"
   ]
  },
  {
   "cell_type": "code",
   "execution_count": 29,
   "id": "1ab032ae",
   "metadata": {},
   "outputs": [
    {
     "data": {
      "text/plain": [
       "query  token\n",
       "경주 여행  코스       446\n",
       "       추천       406\n",
       "       계획       154\n",
       "       숙소       139\n",
       "       맛집       130\n",
       "               ... \n",
       "전주 여행  카페이        1\n",
       "       통합         1\n",
       "       패스         1\n",
       "       편안         1\n",
       "       필수         1\n",
       "Name: token, Length: 883, dtype: int64"
      ]
     },
     "execution_count": 29,
     "metadata": {},
     "output_type": "execute_result"
    }
   ],
   "source": [
    "df_token_grp = df_nouns.groupby('query')['token'].value_counts()\n",
    "df_token_grp"
   ]
  },
  {
   "cell_type": "code",
   "execution_count": 30,
   "id": "93044f57",
   "metadata": {},
   "outputs": [
    {
     "data": {
      "text/html": [
       "<div>\n",
       "<style scoped>\n",
       "    .dataframe tbody tr th:only-of-type {\n",
       "        vertical-align: middle;\n",
       "    }\n",
       "\n",
       "    .dataframe tbody tr th {\n",
       "        vertical-align: top;\n",
       "    }\n",
       "\n",
       "    .dataframe thead th {\n",
       "        text-align: right;\n",
       "    }\n",
       "</style>\n",
       "<table border=\"1\" class=\"dataframe\">\n",
       "  <thead>\n",
       "    <tr style=\"text-align: right;\">\n",
       "      <th></th>\n",
       "      <th>query</th>\n",
       "      <th>token</th>\n",
       "      <th>token_count</th>\n",
       "    </tr>\n",
       "  </thead>\n",
       "  <tbody>\n",
       "    <tr>\n",
       "      <th>0</th>\n",
       "      <td>경주 여행</td>\n",
       "      <td>코스</td>\n",
       "      <td>446</td>\n",
       "    </tr>\n",
       "    <tr>\n",
       "      <th>1</th>\n",
       "      <td>경주 여행</td>\n",
       "      <td>추천</td>\n",
       "      <td>406</td>\n",
       "    </tr>\n",
       "    <tr>\n",
       "      <th>2</th>\n",
       "      <td>경주 여행</td>\n",
       "      <td>계획</td>\n",
       "      <td>154</td>\n",
       "    </tr>\n",
       "    <tr>\n",
       "      <th>3</th>\n",
       "      <td>경주 여행</td>\n",
       "      <td>숙소</td>\n",
       "      <td>139</td>\n",
       "    </tr>\n",
       "    <tr>\n",
       "      <th>4</th>\n",
       "      <td>경주 여행</td>\n",
       "      <td>맛집</td>\n",
       "      <td>130</td>\n",
       "    </tr>\n",
       "  </tbody>\n",
       "</table>\n",
       "</div>"
      ],
      "text/plain": [
       "   query token  token_count\n",
       "0  경주 여행    코스          446\n",
       "1  경주 여행    추천          406\n",
       "2  경주 여행    계획          154\n",
       "3  경주 여행    숙소          139\n",
       "4  경주 여행    맛집          130"
      ]
     },
     "execution_count": 30,
     "metadata": {},
     "output_type": "execute_result"
    }
   ],
   "source": [
    "df_token_grp = df_token_grp.reset_index(name='token_count')\n",
    "df_token_grp.head()"
   ]
  },
  {
   "cell_type": "code",
   "execution_count": 31,
   "id": "42a1f4c1",
   "metadata": {},
   "outputs": [
    {
     "data": {
      "text/html": [
       "<div>\n",
       "<style scoped>\n",
       "    .dataframe tbody tr th:only-of-type {\n",
       "        vertical-align: middle;\n",
       "    }\n",
       "\n",
       "    .dataframe tbody tr th {\n",
       "        vertical-align: top;\n",
       "    }\n",
       "\n",
       "    .dataframe thead th {\n",
       "        text-align: right;\n",
       "    }\n",
       "</style>\n",
       "<table border=\"1\" class=\"dataframe\">\n",
       "  <thead>\n",
       "    <tr style=\"text-align: right;\">\n",
       "      <th></th>\n",
       "      <th>단어</th>\n",
       "      <th>경주빈도</th>\n",
       "    </tr>\n",
       "  </thead>\n",
       "  <tbody>\n",
       "    <tr>\n",
       "      <th>0</th>\n",
       "      <td>단어1</td>\n",
       "      <td>90</td>\n",
       "    </tr>\n",
       "    <tr>\n",
       "      <th>1</th>\n",
       "      <td>단어2</td>\n",
       "      <td>80</td>\n",
       "    </tr>\n",
       "  </tbody>\n",
       "</table>\n",
       "</div>"
      ],
      "text/plain": [
       "    단어  경주빈도\n",
       "0  단어1    90\n",
       "1  단어2    80"
      ]
     },
     "metadata": {},
     "output_type": "display_data"
    },
    {
     "data": {
      "text/html": [
       "<div>\n",
       "<style scoped>\n",
       "    .dataframe tbody tr th:only-of-type {\n",
       "        vertical-align: middle;\n",
       "    }\n",
       "\n",
       "    .dataframe tbody tr th {\n",
       "        vertical-align: top;\n",
       "    }\n",
       "\n",
       "    .dataframe thead th {\n",
       "        text-align: right;\n",
       "    }\n",
       "</style>\n",
       "<table border=\"1\" class=\"dataframe\">\n",
       "  <thead>\n",
       "    <tr style=\"text-align: right;\">\n",
       "      <th></th>\n",
       "      <th>단어</th>\n",
       "      <th>전주빈도</th>\n",
       "    </tr>\n",
       "  </thead>\n",
       "  <tbody>\n",
       "    <tr>\n",
       "      <th>0</th>\n",
       "      <td>단어1</td>\n",
       "      <td>99</td>\n",
       "    </tr>\n",
       "    <tr>\n",
       "      <th>1</th>\n",
       "      <td>단어3</td>\n",
       "      <td>81</td>\n",
       "    </tr>\n",
       "  </tbody>\n",
       "</table>\n",
       "</div>"
      ],
      "text/plain": [
       "    단어  전주빈도\n",
       "0  단어1    99\n",
       "1  단어3    81"
      ]
     },
     "metadata": {},
     "output_type": "display_data"
    },
    {
     "name": "stdout",
     "output_type": "stream",
     "text": [
      "<class 'pandas.core.frame.DataFrame'>\n",
      "Int64Index: 3 entries, 0 to 2\n",
      "Data columns (total 3 columns):\n",
      " #   Column  Non-Null Count  Dtype \n",
      "---  ------  --------------  ----- \n",
      " 0   단어      3 non-null      object\n",
      " 1   경주빈도    3 non-null      int16 \n",
      " 2   전주빈도    3 non-null      int32 \n",
      "dtypes: int16(1), int32(1), object(1)\n",
      "memory usage: 66.0+ bytes\n"
     ]
    }
   ],
   "source": [
    "# 전주 여행과 경우 여행 여행 빈도 추출\n",
    "import numpy as np\n",
    "a = pd.DataFrame([['단어1', 90],\n",
    "                 ['단어2',80]], columns=['단어','경주빈도'])\n",
    "b = pd.DataFrame([['단어1', 99],\n",
    "                 ['단어3',81]], columns=['단어','전주빈도'])\n",
    "display(a)\n",
    "display(b)\n",
    "ab = pd.merge(a, b, \n",
    "         how='outer', # inner(공통), left, right, outer\n",
    "         on='단어')   # 두 프레임을 어떤 열 기준으로 합칠지 지정\n",
    "#pd.concat([a, b], axis=1)\n",
    "ab.fillna(0, inplace=True)\n",
    "ab['경주빈도'] = ab['경주빈도'].astype(np.int16)\n",
    "ab['전주빈도'] = ab['전주빈도'].astype('int')\n",
    "ab.info()"
   ]
  },
  {
   "cell_type": "code",
   "execution_count": 32,
   "id": "1da6ef32",
   "metadata": {},
   "outputs": [
    {
     "data": {
      "text/plain": [
       "((460, 2), (423, 2))"
      ]
     },
     "execution_count": 32,
     "metadata": {},
     "output_type": "execute_result"
    }
   ],
   "source": [
    "df_gj = df_token_grp.loc[df_token_grp['query']=='경주 여행', ['token','token_count']]\n",
    "df_jj = df_token_grp.loc[df_token_grp['query']=='전주 여행', ['token','token_count']]\n",
    "df_gj.shape, df_jj.shape"
   ]
  },
  {
   "cell_type": "code",
   "execution_count": 33,
   "id": "4e2bbc7c",
   "metadata": {},
   "outputs": [
    {
     "data": {
      "text/html": [
       "<div>\n",
       "<style scoped>\n",
       "    .dataframe tbody tr th:only-of-type {\n",
       "        vertical-align: middle;\n",
       "    }\n",
       "\n",
       "    .dataframe tbody tr th {\n",
       "        vertical-align: top;\n",
       "    }\n",
       "\n",
       "    .dataframe thead th {\n",
       "        text-align: right;\n",
       "    }\n",
       "</style>\n",
       "<table border=\"1\" class=\"dataframe\">\n",
       "  <thead>\n",
       "    <tr style=\"text-align: right;\">\n",
       "      <th></th>\n",
       "      <th>token</th>\n",
       "      <th>token_count</th>\n",
       "    </tr>\n",
       "  </thead>\n",
       "  <tbody>\n",
       "    <tr>\n",
       "      <th>0</th>\n",
       "      <td>코스</td>\n",
       "      <td>446</td>\n",
       "    </tr>\n",
       "    <tr>\n",
       "      <th>1</th>\n",
       "      <td>추천</td>\n",
       "      <td>406</td>\n",
       "    </tr>\n",
       "    <tr>\n",
       "      <th>2</th>\n",
       "      <td>계획</td>\n",
       "      <td>154</td>\n",
       "    </tr>\n",
       "    <tr>\n",
       "      <th>3</th>\n",
       "      <td>숙소</td>\n",
       "      <td>139</td>\n",
       "    </tr>\n",
       "    <tr>\n",
       "      <th>4</th>\n",
       "      <td>맛집</td>\n",
       "      <td>130</td>\n",
       "    </tr>\n",
       "  </tbody>\n",
       "</table>\n",
       "</div>"
      ],
      "text/plain": [
       "  token  token_count\n",
       "0    코스          446\n",
       "1    추천          406\n",
       "2    계획          154\n",
       "3    숙소          139\n",
       "4    맛집          130"
      ]
     },
     "execution_count": 33,
     "metadata": {},
     "output_type": "execute_result"
    }
   ],
   "source": [
    "df_gj.head()"
   ]
  },
  {
   "cell_type": "code",
   "execution_count": 34,
   "id": "9693defe",
   "metadata": {},
   "outputs": [
    {
     "data": {
      "text/html": [
       "<div>\n",
       "<style scoped>\n",
       "    .dataframe tbody tr th:only-of-type {\n",
       "        vertical-align: middle;\n",
       "    }\n",
       "\n",
       "    .dataframe tbody tr th {\n",
       "        vertical-align: top;\n",
       "    }\n",
       "\n",
       "    .dataframe thead th {\n",
       "        text-align: right;\n",
       "    }\n",
       "</style>\n",
       "<table border=\"1\" class=\"dataframe\">\n",
       "  <thead>\n",
       "    <tr style=\"text-align: right;\">\n",
       "      <th></th>\n",
       "      <th>token</th>\n",
       "      <th>token_count</th>\n",
       "    </tr>\n",
       "  </thead>\n",
       "  <tbody>\n",
       "    <tr>\n",
       "      <th>460</th>\n",
       "      <td>코스</td>\n",
       "      <td>481</td>\n",
       "    </tr>\n",
       "    <tr>\n",
       "      <th>461</th>\n",
       "      <td>여수</td>\n",
       "      <td>349</td>\n",
       "    </tr>\n",
       "    <tr>\n",
       "      <th>462</th>\n",
       "      <td>주달</td>\n",
       "      <td>304</td>\n",
       "    </tr>\n",
       "    <tr>\n",
       "      <th>463</th>\n",
       "      <td>추천</td>\n",
       "      <td>301</td>\n",
       "    </tr>\n",
       "    <tr>\n",
       "      <th>464</th>\n",
       "      <td>맛집</td>\n",
       "      <td>287</td>\n",
       "    </tr>\n",
       "  </tbody>\n",
       "</table>\n",
       "</div>"
      ],
      "text/plain": [
       "    token  token_count\n",
       "460    코스          481\n",
       "461    여수          349\n",
       "462    주달          304\n",
       "463    추천          301\n",
       "464    맛집          287"
      ]
     },
     "execution_count": 34,
     "metadata": {},
     "output_type": "execute_result"
    }
   ],
   "source": [
    "df_jj.head()"
   ]
  },
  {
   "cell_type": "code",
   "execution_count": 35,
   "id": "f02a10b2",
   "metadata": {},
   "outputs": [
    {
     "name": "stdout",
     "output_type": "stream",
     "text": [
      "(712, 3)\n"
     ]
    },
    {
     "data": {
      "text/html": [
       "<div>\n",
       "<style scoped>\n",
       "    .dataframe tbody tr th:only-of-type {\n",
       "        vertical-align: middle;\n",
       "    }\n",
       "\n",
       "    .dataframe tbody tr th {\n",
       "        vertical-align: top;\n",
       "    }\n",
       "\n",
       "    .dataframe thead th {\n",
       "        text-align: right;\n",
       "    }\n",
       "</style>\n",
       "<table border=\"1\" class=\"dataframe\">\n",
       "  <thead>\n",
       "    <tr style=\"text-align: right;\">\n",
       "      <th></th>\n",
       "      <th>token</th>\n",
       "      <th>token_count_x</th>\n",
       "      <th>token_count_y</th>\n",
       "    </tr>\n",
       "  </thead>\n",
       "  <tbody>\n",
       "    <tr>\n",
       "      <th>0</th>\n",
       "      <td>코스</td>\n",
       "      <td>446.0</td>\n",
       "      <td>481.0</td>\n",
       "    </tr>\n",
       "    <tr>\n",
       "      <th>1</th>\n",
       "      <td>추천</td>\n",
       "      <td>406.0</td>\n",
       "      <td>301.0</td>\n",
       "    </tr>\n",
       "    <tr>\n",
       "      <th>2</th>\n",
       "      <td>계획</td>\n",
       "      <td>154.0</td>\n",
       "      <td>61.0</td>\n",
       "    </tr>\n",
       "    <tr>\n",
       "      <th>3</th>\n",
       "      <td>숙소</td>\n",
       "      <td>139.0</td>\n",
       "      <td>60.0</td>\n",
       "    </tr>\n",
       "    <tr>\n",
       "      <th>4</th>\n",
       "      <td>맛집</td>\n",
       "      <td>130.0</td>\n",
       "      <td>287.0</td>\n",
       "    </tr>\n",
       "    <tr>\n",
       "      <th>...</th>\n",
       "      <td>...</td>\n",
       "      <td>...</td>\n",
       "      <td>...</td>\n",
       "    </tr>\n",
       "    <tr>\n",
       "      <th>707</th>\n",
       "      <td>유익</td>\n",
       "      <td>NaN</td>\n",
       "      <td>1.0</td>\n",
       "    </tr>\n",
       "    <tr>\n",
       "      <th>708</th>\n",
       "      <td>찜질방</td>\n",
       "      <td>NaN</td>\n",
       "      <td>1.0</td>\n",
       "    </tr>\n",
       "    <tr>\n",
       "      <th>709</th>\n",
       "      <td>카페이</td>\n",
       "      <td>NaN</td>\n",
       "      <td>1.0</td>\n",
       "    </tr>\n",
       "    <tr>\n",
       "      <th>710</th>\n",
       "      <td>통합</td>\n",
       "      <td>NaN</td>\n",
       "      <td>1.0</td>\n",
       "    </tr>\n",
       "    <tr>\n",
       "      <th>711</th>\n",
       "      <td>패스</td>\n",
       "      <td>NaN</td>\n",
       "      <td>1.0</td>\n",
       "    </tr>\n",
       "  </tbody>\n",
       "</table>\n",
       "<p>712 rows × 3 columns</p>\n",
       "</div>"
      ],
      "text/plain": [
       "    token  token_count_x  token_count_y\n",
       "0      코스          446.0          481.0\n",
       "1      추천          406.0          301.0\n",
       "2      계획          154.0           61.0\n",
       "3      숙소          139.0           60.0\n",
       "4      맛집          130.0          287.0\n",
       "..    ...            ...            ...\n",
       "707    유익            NaN            1.0\n",
       "708   찜질방            NaN            1.0\n",
       "709   카페이            NaN            1.0\n",
       "710    통합            NaN            1.0\n",
       "711    패스            NaN            1.0\n",
       "\n",
       "[712 rows x 3 columns]"
      ]
     },
     "execution_count": 35,
     "metadata": {},
     "output_type": "execute_result"
    }
   ],
   "source": [
    "df_mrg = pd.merge(df_gj, df_jj, how='outer', on='token')\n",
    "print(df_mrg.shape)\n",
    "df_mrg"
   ]
  },
  {
   "cell_type": "code",
   "execution_count": 36,
   "id": "604d64c5",
   "metadata": {},
   "outputs": [
    {
     "data": {
      "text/html": [
       "<div>\n",
       "<style scoped>\n",
       "    .dataframe tbody tr th:only-of-type {\n",
       "        vertical-align: middle;\n",
       "    }\n",
       "\n",
       "    .dataframe tbody tr th {\n",
       "        vertical-align: top;\n",
       "    }\n",
       "\n",
       "    .dataframe thead th {\n",
       "        text-align: right;\n",
       "    }\n",
       "</style>\n",
       "<table border=\"1\" class=\"dataframe\">\n",
       "  <thead>\n",
       "    <tr style=\"text-align: right;\">\n",
       "      <th></th>\n",
       "      <th>token</th>\n",
       "      <th>경주빈도</th>\n",
       "      <th>전주빈도</th>\n",
       "    </tr>\n",
       "  </thead>\n",
       "  <tbody>\n",
       "    <tr>\n",
       "      <th>0</th>\n",
       "      <td>코스</td>\n",
       "      <td>446</td>\n",
       "      <td>481</td>\n",
       "    </tr>\n",
       "    <tr>\n",
       "      <th>1</th>\n",
       "      <td>추천</td>\n",
       "      <td>406</td>\n",
       "      <td>301</td>\n",
       "    </tr>\n",
       "    <tr>\n",
       "      <th>2</th>\n",
       "      <td>계획</td>\n",
       "      <td>154</td>\n",
       "      <td>61</td>\n",
       "    </tr>\n",
       "    <tr>\n",
       "      <th>3</th>\n",
       "      <td>숙소</td>\n",
       "      <td>139</td>\n",
       "      <td>60</td>\n",
       "    </tr>\n",
       "    <tr>\n",
       "      <th>4</th>\n",
       "      <td>맛집</td>\n",
       "      <td>130</td>\n",
       "      <td>287</td>\n",
       "    </tr>\n",
       "    <tr>\n",
       "      <th>...</th>\n",
       "      <td>...</td>\n",
       "      <td>...</td>\n",
       "      <td>...</td>\n",
       "    </tr>\n",
       "    <tr>\n",
       "      <th>707</th>\n",
       "      <td>유익</td>\n",
       "      <td>0</td>\n",
       "      <td>1</td>\n",
       "    </tr>\n",
       "    <tr>\n",
       "      <th>708</th>\n",
       "      <td>찜질방</td>\n",
       "      <td>0</td>\n",
       "      <td>1</td>\n",
       "    </tr>\n",
       "    <tr>\n",
       "      <th>709</th>\n",
       "      <td>카페이</td>\n",
       "      <td>0</td>\n",
       "      <td>1</td>\n",
       "    </tr>\n",
       "    <tr>\n",
       "      <th>710</th>\n",
       "      <td>통합</td>\n",
       "      <td>0</td>\n",
       "      <td>1</td>\n",
       "    </tr>\n",
       "    <tr>\n",
       "      <th>711</th>\n",
       "      <td>패스</td>\n",
       "      <td>0</td>\n",
       "      <td>1</td>\n",
       "    </tr>\n",
       "  </tbody>\n",
       "</table>\n",
       "<p>712 rows × 3 columns</p>\n",
       "</div>"
      ],
      "text/plain": [
       "    token  경주빈도  전주빈도\n",
       "0      코스   446   481\n",
       "1      추천   406   301\n",
       "2      계획   154    61\n",
       "3      숙소   139    60\n",
       "4      맛집   130   287\n",
       "..    ...   ...   ...\n",
       "707    유익     0     1\n",
       "708   찜질방     0     1\n",
       "709   카페이     0     1\n",
       "710    통합     0     1\n",
       "711    패스     0     1\n",
       "\n",
       "[712 rows x 3 columns]"
      ]
     },
     "execution_count": 36,
     "metadata": {},
     "output_type": "execute_result"
    }
   ],
   "source": [
    "df_mrg.columns = ['token','경주빈도','전주빈도']\n",
    "df_mrg.fillna(0, inplace=True)\n",
    "df_mrg['경주빈도'] = df_mrg['경주빈도'].astype('int')\n",
    "df_mrg['전주빈도'] = df_mrg['전주빈도'].astype(np.int64) # 'int64'\n",
    "df_mrg"
   ]
  },
  {
   "cell_type": "code",
   "execution_count": 37,
   "id": "64094695",
   "metadata": {},
   "outputs": [
    {
     "data": {
      "text/html": [
       "<div>\n",
       "<style scoped>\n",
       "    .dataframe tbody tr th:only-of-type {\n",
       "        vertical-align: middle;\n",
       "    }\n",
       "\n",
       "    .dataframe tbody tr th {\n",
       "        vertical-align: top;\n",
       "    }\n",
       "\n",
       "    .dataframe thead th {\n",
       "        text-align: right;\n",
       "    }\n",
       "</style>\n",
       "<table border=\"1\" class=\"dataframe\">\n",
       "  <thead>\n",
       "    <tr style=\"text-align: right;\">\n",
       "      <th></th>\n",
       "      <th>token</th>\n",
       "      <th>경주빈도</th>\n",
       "      <th>전주빈도</th>\n",
       "      <th>빈도합</th>\n",
       "      <th>전주비율</th>\n",
       "      <th>경주비율</th>\n",
       "    </tr>\n",
       "  </thead>\n",
       "  <tbody>\n",
       "    <tr>\n",
       "      <th>0</th>\n",
       "      <td>코스</td>\n",
       "      <td>446</td>\n",
       "      <td>481</td>\n",
       "      <td>927</td>\n",
       "      <td>0.518878</td>\n",
       "      <td>0.481122</td>\n",
       "    </tr>\n",
       "    <tr>\n",
       "      <th>1</th>\n",
       "      <td>추천</td>\n",
       "      <td>406</td>\n",
       "      <td>301</td>\n",
       "      <td>707</td>\n",
       "      <td>0.425743</td>\n",
       "      <td>0.574257</td>\n",
       "    </tr>\n",
       "    <tr>\n",
       "      <th>2</th>\n",
       "      <td>계획</td>\n",
       "      <td>154</td>\n",
       "      <td>61</td>\n",
       "      <td>215</td>\n",
       "      <td>0.283721</td>\n",
       "      <td>0.716279</td>\n",
       "    </tr>\n",
       "    <tr>\n",
       "      <th>3</th>\n",
       "      <td>숙소</td>\n",
       "      <td>139</td>\n",
       "      <td>60</td>\n",
       "      <td>199</td>\n",
       "      <td>0.301508</td>\n",
       "      <td>0.698492</td>\n",
       "    </tr>\n",
       "    <tr>\n",
       "      <th>4</th>\n",
       "      <td>맛집</td>\n",
       "      <td>130</td>\n",
       "      <td>287</td>\n",
       "      <td>417</td>\n",
       "      <td>0.688249</td>\n",
       "      <td>0.311751</td>\n",
       "    </tr>\n",
       "    <tr>\n",
       "      <th>5</th>\n",
       "      <td>일정</td>\n",
       "      <td>118</td>\n",
       "      <td>80</td>\n",
       "      <td>198</td>\n",
       "      <td>0.404040</td>\n",
       "      <td>0.595960</td>\n",
       "    </tr>\n",
       "    <tr>\n",
       "      <th>6</th>\n",
       "      <td>질문</td>\n",
       "      <td>114</td>\n",
       "      <td>78</td>\n",
       "      <td>192</td>\n",
       "      <td>0.406250</td>\n",
       "      <td>0.593750</td>\n",
       "    </tr>\n",
       "    <tr>\n",
       "      <th>7</th>\n",
       "      <td>답변</td>\n",
       "      <td>106</td>\n",
       "      <td>55</td>\n",
       "      <td>161</td>\n",
       "      <td>0.341615</td>\n",
       "      <td>0.658385</td>\n",
       "    </tr>\n",
       "    <tr>\n",
       "      <th>8</th>\n",
       "      <td>부탁</td>\n",
       "      <td>105</td>\n",
       "      <td>75</td>\n",
       "      <td>180</td>\n",
       "      <td>0.416667</td>\n",
       "      <td>0.583333</td>\n",
       "    </tr>\n",
       "    <tr>\n",
       "      <th>9</th>\n",
       "      <td>가족</td>\n",
       "      <td>95</td>\n",
       "      <td>20</td>\n",
       "      <td>115</td>\n",
       "      <td>0.173913</td>\n",
       "      <td>0.826087</td>\n",
       "    </tr>\n",
       "  </tbody>\n",
       "</table>\n",
       "</div>"
      ],
      "text/plain": [
       "  token  경주빈도  전주빈도  빈도합      전주비율      경주비율\n",
       "0    코스   446   481  927  0.518878  0.481122\n",
       "1    추천   406   301  707  0.425743  0.574257\n",
       "2    계획   154    61  215  0.283721  0.716279\n",
       "3    숙소   139    60  199  0.301508  0.698492\n",
       "4    맛집   130   287  417  0.688249  0.311751\n",
       "5    일정   118    80  198  0.404040  0.595960\n",
       "6    질문   114    78  192  0.406250  0.593750\n",
       "7    답변   106    55  161  0.341615  0.658385\n",
       "8    부탁   105    75  180  0.416667  0.583333\n",
       "9    가족    95    20  115  0.173913  0.826087"
      ]
     },
     "execution_count": 37,
     "metadata": {},
     "output_type": "execute_result"
    }
   ],
   "source": [
    "df_mrg['빈도합'] = df_mrg['경주빈도'] + df_mrg['전주빈도']\n",
    "df_mrg['전주비율'] = df_mrg['전주빈도'] / df_mrg['빈도합']\n",
    "df_mrg['경주비율'] = df_mrg['경주빈도'] / df_mrg['빈도합']\n",
    "df_mrg.head(10)"
   ]
  },
  {
   "cell_type": "code",
   "execution_count": 38,
   "id": "59e6a770",
   "metadata": {},
   "outputs": [
    {
     "data": {
      "text/html": [
       "<div>\n",
       "<style scoped>\n",
       "    .dataframe tbody tr th:only-of-type {\n",
       "        vertical-align: middle;\n",
       "    }\n",
       "\n",
       "    .dataframe tbody tr th {\n",
       "        vertical-align: top;\n",
       "    }\n",
       "\n",
       "    .dataframe thead th {\n",
       "        text-align: right;\n",
       "    }\n",
       "</style>\n",
       "<table border=\"1\" class=\"dataframe\">\n",
       "  <thead>\n",
       "    <tr style=\"text-align: right;\">\n",
       "      <th></th>\n",
       "      <th>token</th>\n",
       "      <th>경주빈도</th>\n",
       "      <th>전주빈도</th>\n",
       "      <th>빈도합</th>\n",
       "      <th>전주비율</th>\n",
       "      <th>경주비율</th>\n",
       "    </tr>\n",
       "  </thead>\n",
       "  <tbody>\n",
       "    <tr>\n",
       "      <th>0</th>\n",
       "      <td>코스</td>\n",
       "      <td>446</td>\n",
       "      <td>481</td>\n",
       "      <td>927</td>\n",
       "      <td>0.518878</td>\n",
       "      <td>0.481122</td>\n",
       "    </tr>\n",
       "    <tr>\n",
       "      <th>1</th>\n",
       "      <td>추천</td>\n",
       "      <td>406</td>\n",
       "      <td>301</td>\n",
       "      <td>707</td>\n",
       "      <td>0.425743</td>\n",
       "      <td>0.574257</td>\n",
       "    </tr>\n",
       "    <tr>\n",
       "      <th>4</th>\n",
       "      <td>맛집</td>\n",
       "      <td>130</td>\n",
       "      <td>287</td>\n",
       "      <td>417</td>\n",
       "      <td>0.688249</td>\n",
       "      <td>0.311751</td>\n",
       "    </tr>\n",
       "    <tr>\n",
       "      <th>460</th>\n",
       "      <td>여수</td>\n",
       "      <td>0</td>\n",
       "      <td>349</td>\n",
       "      <td>349</td>\n",
       "      <td>1.000000</td>\n",
       "      <td>0.000000</td>\n",
       "    </tr>\n",
       "    <tr>\n",
       "      <th>461</th>\n",
       "      <td>주달</td>\n",
       "      <td>0</td>\n",
       "      <td>304</td>\n",
       "      <td>304</td>\n",
       "      <td>1.000000</td>\n",
       "      <td>0.000000</td>\n",
       "    </tr>\n",
       "    <tr>\n",
       "      <th>...</th>\n",
       "      <td>...</td>\n",
       "      <td>...</td>\n",
       "      <td>...</td>\n",
       "      <td>...</td>\n",
       "      <td>...</td>\n",
       "      <td>...</td>\n",
       "    </tr>\n",
       "    <tr>\n",
       "      <th>458</th>\n",
       "      <td>전용</td>\n",
       "      <td>1</td>\n",
       "      <td>0</td>\n",
       "      <td>1</td>\n",
       "      <td>0.000000</td>\n",
       "      <td>1.000000</td>\n",
       "    </tr>\n",
       "    <tr>\n",
       "      <th>454</th>\n",
       "      <td>권역</td>\n",
       "      <td>1</td>\n",
       "      <td>0</td>\n",
       "      <td>1</td>\n",
       "      <td>0.000000</td>\n",
       "      <td>1.000000</td>\n",
       "    </tr>\n",
       "    <tr>\n",
       "      <th>455</th>\n",
       "      <td>연중무휴</td>\n",
       "      <td>1</td>\n",
       "      <td>0</td>\n",
       "      <td>1</td>\n",
       "      <td>0.000000</td>\n",
       "      <td>1.000000</td>\n",
       "    </tr>\n",
       "    <tr>\n",
       "      <th>456</th>\n",
       "      <td>운행</td>\n",
       "      <td>1</td>\n",
       "      <td>0</td>\n",
       "      <td>1</td>\n",
       "      <td>0.000000</td>\n",
       "      <td>1.000000</td>\n",
       "    </tr>\n",
       "    <tr>\n",
       "      <th>711</th>\n",
       "      <td>패스</td>\n",
       "      <td>0</td>\n",
       "      <td>1</td>\n",
       "      <td>1</td>\n",
       "      <td>1.000000</td>\n",
       "      <td>0.000000</td>\n",
       "    </tr>\n",
       "  </tbody>\n",
       "</table>\n",
       "<p>712 rows × 6 columns</p>\n",
       "</div>"
      ],
      "text/plain": [
       "    token  경주빈도  전주빈도  빈도합      전주비율      경주비율\n",
       "0      코스   446   481  927  0.518878  0.481122\n",
       "1      추천   406   301  707  0.425743  0.574257\n",
       "4      맛집   130   287  417  0.688249  0.311751\n",
       "460    여수     0   349  349  1.000000  0.000000\n",
       "461    주달     0   304  304  1.000000  0.000000\n",
       "..    ...   ...   ...  ...       ...       ...\n",
       "458    전용     1     0    1  0.000000  1.000000\n",
       "454    권역     1     0    1  0.000000  1.000000\n",
       "455  연중무휴     1     0    1  0.000000  1.000000\n",
       "456    운행     1     0    1  0.000000  1.000000\n",
       "711    패스     0     1    1  1.000000  0.000000\n",
       "\n",
       "[712 rows x 6 columns]"
      ]
     },
     "execution_count": 38,
     "metadata": {},
     "output_type": "execute_result"
    }
   ],
   "source": [
    "df_mrg_srt = df_mrg.sort_values(by=['빈도합'], ascending=False)\n",
    "df_mrg_srt"
   ]
  },
  {
   "cell_type": "code",
   "execution_count": 39,
   "id": "a227165d",
   "metadata": {},
   "outputs": [
    {
     "data": {
      "text/html": [
       "<div>\n",
       "<style scoped>\n",
       "    .dataframe tbody tr th:only-of-type {\n",
       "        vertical-align: middle;\n",
       "    }\n",
       "\n",
       "    .dataframe tbody tr th {\n",
       "        vertical-align: top;\n",
       "    }\n",
       "\n",
       "    .dataframe thead th {\n",
       "        text-align: right;\n",
       "    }\n",
       "</style>\n",
       "<table border=\"1\" class=\"dataframe\">\n",
       "  <thead>\n",
       "    <tr style=\"text-align: right;\">\n",
       "      <th></th>\n",
       "      <th>token</th>\n",
       "      <th>경주빈도</th>\n",
       "      <th>전주빈도</th>\n",
       "      <th>빈도합</th>\n",
       "      <th>전주비율</th>\n",
       "      <th>경주비율</th>\n",
       "    </tr>\n",
       "  </thead>\n",
       "  <tbody>\n",
       "    <tr>\n",
       "      <th>0</th>\n",
       "      <td>코스</td>\n",
       "      <td>446</td>\n",
       "      <td>481</td>\n",
       "      <td>927</td>\n",
       "      <td>51.89%</td>\n",
       "      <td>48.11%</td>\n",
       "    </tr>\n",
       "    <tr>\n",
       "      <th>1</th>\n",
       "      <td>추천</td>\n",
       "      <td>406</td>\n",
       "      <td>301</td>\n",
       "      <td>707</td>\n",
       "      <td>42.57%</td>\n",
       "      <td>57.43%</td>\n",
       "    </tr>\n",
       "    <tr>\n",
       "      <th>4</th>\n",
       "      <td>맛집</td>\n",
       "      <td>130</td>\n",
       "      <td>287</td>\n",
       "      <td>417</td>\n",
       "      <td>68.82%</td>\n",
       "      <td>31.18%</td>\n",
       "    </tr>\n",
       "    <tr>\n",
       "      <th>460</th>\n",
       "      <td>여수</td>\n",
       "      <td>0</td>\n",
       "      <td>349</td>\n",
       "      <td>349</td>\n",
       "      <td>100.00%</td>\n",
       "      <td>0.00%</td>\n",
       "    </tr>\n",
       "    <tr>\n",
       "      <th>461</th>\n",
       "      <td>주달</td>\n",
       "      <td>0</td>\n",
       "      <td>304</td>\n",
       "      <td>304</td>\n",
       "      <td>100.00%</td>\n",
       "      <td>0.00%</td>\n",
       "    </tr>\n",
       "    <tr>\n",
       "      <th>...</th>\n",
       "      <td>...</td>\n",
       "      <td>...</td>\n",
       "      <td>...</td>\n",
       "      <td>...</td>\n",
       "      <td>...</td>\n",
       "      <td>...</td>\n",
       "    </tr>\n",
       "    <tr>\n",
       "      <th>458</th>\n",
       "      <td>전용</td>\n",
       "      <td>1</td>\n",
       "      <td>0</td>\n",
       "      <td>1</td>\n",
       "      <td>0.00%</td>\n",
       "      <td>100.00%</td>\n",
       "    </tr>\n",
       "    <tr>\n",
       "      <th>454</th>\n",
       "      <td>권역</td>\n",
       "      <td>1</td>\n",
       "      <td>0</td>\n",
       "      <td>1</td>\n",
       "      <td>0.00%</td>\n",
       "      <td>100.00%</td>\n",
       "    </tr>\n",
       "    <tr>\n",
       "      <th>455</th>\n",
       "      <td>연중무휴</td>\n",
       "      <td>1</td>\n",
       "      <td>0</td>\n",
       "      <td>1</td>\n",
       "      <td>0.00%</td>\n",
       "      <td>100.00%</td>\n",
       "    </tr>\n",
       "    <tr>\n",
       "      <th>456</th>\n",
       "      <td>운행</td>\n",
       "      <td>1</td>\n",
       "      <td>0</td>\n",
       "      <td>1</td>\n",
       "      <td>0.00%</td>\n",
       "      <td>100.00%</td>\n",
       "    </tr>\n",
       "    <tr>\n",
       "      <th>711</th>\n",
       "      <td>패스</td>\n",
       "      <td>0</td>\n",
       "      <td>1</td>\n",
       "      <td>1</td>\n",
       "      <td>100.00%</td>\n",
       "      <td>0.00%</td>\n",
       "    </tr>\n",
       "  </tbody>\n",
       "</table>\n",
       "<p>712 rows × 6 columns</p>\n",
       "</div>"
      ],
      "text/plain": [
       "    token  경주빈도  전주빈도  빈도합     전주비율     경주비율\n",
       "0      코스   446   481  927   51.89%   48.11%\n",
       "1      추천   406   301  707   42.57%   57.43%\n",
       "4      맛집   130   287  417   68.82%   31.18%\n",
       "460    여수     0   349  349  100.00%    0.00%\n",
       "461    주달     0   304  304  100.00%    0.00%\n",
       "..    ...   ...   ...  ...      ...      ...\n",
       "458    전용     1     0    1    0.00%  100.00%\n",
       "454    권역     1     0    1    0.00%  100.00%\n",
       "455  연중무휴     1     0    1    0.00%  100.00%\n",
       "456    운행     1     0    1    0.00%  100.00%\n",
       "711    패스     0     1    1  100.00%    0.00%\n",
       "\n",
       "[712 rows x 6 columns]"
      ]
     },
     "execution_count": 39,
     "metadata": {},
     "output_type": "execute_result"
    }
   ],
   "source": [
    "df_mrg_srt['전주비율'] = df_mrg_srt['전주비율'].apply(lambda x : \"{:.2%}\".format(x))\n",
    "df_mrg_srt['경주비율'] = df_mrg_srt['경주비율'].apply(lambda x : \"{:.2%}\".format(x))\n",
    "df_mrg_srt"
   ]
  },
  {
   "cell_type": "code",
   "execution_count": 40,
   "id": "da0bccc4",
   "metadata": {},
   "outputs": [
    {
     "data": {
      "text/html": [
       "<div>\n",
       "<style scoped>\n",
       "    .dataframe tbody tr th:only-of-type {\n",
       "        vertical-align: middle;\n",
       "    }\n",
       "\n",
       "    .dataframe tbody tr th {\n",
       "        vertical-align: top;\n",
       "    }\n",
       "\n",
       "    .dataframe thead th {\n",
       "        text-align: right;\n",
       "    }\n",
       "</style>\n",
       "<table border=\"1\" class=\"dataframe\">\n",
       "  <thead>\n",
       "    <tr style=\"text-align: right;\">\n",
       "      <th></th>\n",
       "      <th>token</th>\n",
       "      <th>경주빈도</th>\n",
       "      <th>전주빈도</th>\n",
       "      <th>빈도합</th>\n",
       "      <th>전주비율</th>\n",
       "      <th>경주비율</th>\n",
       "    </tr>\n",
       "  </thead>\n",
       "  <tbody>\n",
       "    <tr>\n",
       "      <th>0</th>\n",
       "      <td>코스</td>\n",
       "      <td>446</td>\n",
       "      <td>481</td>\n",
       "      <td>927</td>\n",
       "      <td>51.89%</td>\n",
       "      <td>48.11%</td>\n",
       "    </tr>\n",
       "    <tr>\n",
       "      <th>1</th>\n",
       "      <td>추천</td>\n",
       "      <td>406</td>\n",
       "      <td>301</td>\n",
       "      <td>707</td>\n",
       "      <td>42.57%</td>\n",
       "      <td>57.43%</td>\n",
       "    </tr>\n",
       "    <tr>\n",
       "      <th>2</th>\n",
       "      <td>맛집</td>\n",
       "      <td>130</td>\n",
       "      <td>287</td>\n",
       "      <td>417</td>\n",
       "      <td>68.82%</td>\n",
       "      <td>31.18%</td>\n",
       "    </tr>\n",
       "    <tr>\n",
       "      <th>3</th>\n",
       "      <td>여수</td>\n",
       "      <td>0</td>\n",
       "      <td>349</td>\n",
       "      <td>349</td>\n",
       "      <td>100.00%</td>\n",
       "      <td>0.00%</td>\n",
       "    </tr>\n",
       "    <tr>\n",
       "      <th>4</th>\n",
       "      <td>주달</td>\n",
       "      <td>0</td>\n",
       "      <td>304</td>\n",
       "      <td>304</td>\n",
       "      <td>100.00%</td>\n",
       "      <td>0.00%</td>\n",
       "    </tr>\n",
       "    <tr>\n",
       "      <th>...</th>\n",
       "      <td>...</td>\n",
       "      <td>...</td>\n",
       "      <td>...</td>\n",
       "      <td>...</td>\n",
       "      <td>...</td>\n",
       "      <td>...</td>\n",
       "    </tr>\n",
       "    <tr>\n",
       "      <th>707</th>\n",
       "      <td>전용</td>\n",
       "      <td>1</td>\n",
       "      <td>0</td>\n",
       "      <td>1</td>\n",
       "      <td>0.00%</td>\n",
       "      <td>100.00%</td>\n",
       "    </tr>\n",
       "    <tr>\n",
       "      <th>708</th>\n",
       "      <td>권역</td>\n",
       "      <td>1</td>\n",
       "      <td>0</td>\n",
       "      <td>1</td>\n",
       "      <td>0.00%</td>\n",
       "      <td>100.00%</td>\n",
       "    </tr>\n",
       "    <tr>\n",
       "      <th>709</th>\n",
       "      <td>연중무휴</td>\n",
       "      <td>1</td>\n",
       "      <td>0</td>\n",
       "      <td>1</td>\n",
       "      <td>0.00%</td>\n",
       "      <td>100.00%</td>\n",
       "    </tr>\n",
       "    <tr>\n",
       "      <th>710</th>\n",
       "      <td>운행</td>\n",
       "      <td>1</td>\n",
       "      <td>0</td>\n",
       "      <td>1</td>\n",
       "      <td>0.00%</td>\n",
       "      <td>100.00%</td>\n",
       "    </tr>\n",
       "    <tr>\n",
       "      <th>711</th>\n",
       "      <td>패스</td>\n",
       "      <td>0</td>\n",
       "      <td>1</td>\n",
       "      <td>1</td>\n",
       "      <td>100.00%</td>\n",
       "      <td>0.00%</td>\n",
       "    </tr>\n",
       "  </tbody>\n",
       "</table>\n",
       "<p>712 rows × 6 columns</p>\n",
       "</div>"
      ],
      "text/plain": [
       "    token  경주빈도  전주빈도  빈도합     전주비율     경주비율\n",
       "0      코스   446   481  927   51.89%   48.11%\n",
       "1      추천   406   301  707   42.57%   57.43%\n",
       "2      맛집   130   287  417   68.82%   31.18%\n",
       "3      여수     0   349  349  100.00%    0.00%\n",
       "4      주달     0   304  304  100.00%    0.00%\n",
       "..    ...   ...   ...  ...      ...      ...\n",
       "707    전용     1     0    1    0.00%  100.00%\n",
       "708    권역     1     0    1    0.00%  100.00%\n",
       "709  연중무휴     1     0    1    0.00%  100.00%\n",
       "710    운행     1     0    1    0.00%  100.00%\n",
       "711    패스     0     1    1  100.00%    0.00%\n",
       "\n",
       "[712 rows x 6 columns]"
      ]
     },
     "execution_count": 40,
     "metadata": {},
     "output_type": "execute_result"
    }
   ],
   "source": [
    "df_mrg_srt.reset_index(drop=True, inplace=True)\n",
    "df_mrg_srt"
   ]
  },
  {
   "cell_type": "code",
   "execution_count": 41,
   "id": "9408fa6c",
   "metadata": {},
   "outputs": [],
   "source": [
    "df_mrg_srt.to_csv('data/naver_kin_pos_nouns_count.csv', sep='\\t')"
   ]
  },
  {
   "cell_type": "markdown",
   "id": "c28dc809",
   "metadata": {},
   "source": [
    "# 5. 빈도 시각화(워드클라우드, Text)"
   ]
  },
  {
   "cell_type": "code",
   "execution_count": 42,
   "id": "fba7118d",
   "metadata": {},
   "outputs": [
    {
     "name": "stdout",
     "output_type": "stream",
     "text": [
      "(14106, 3)\n"
     ]
    },
    {
     "data": {
      "text/html": [
       "<div>\n",
       "<style scoped>\n",
       "    .dataframe tbody tr th:only-of-type {\n",
       "        vertical-align: middle;\n",
       "    }\n",
       "\n",
       "    .dataframe tbody tr th {\n",
       "        vertical-align: top;\n",
       "    }\n",
       "\n",
       "    .dataframe thead th {\n",
       "        text-align: right;\n",
       "    }\n",
       "</style>\n",
       "<table border=\"1\" class=\"dataframe\">\n",
       "  <thead>\n",
       "    <tr style=\"text-align: right;\">\n",
       "      <th></th>\n",
       "      <th>query</th>\n",
       "      <th>token</th>\n",
       "      <th>pos</th>\n",
       "    </tr>\n",
       "  </thead>\n",
       "  <tbody>\n",
       "    <tr>\n",
       "      <th>0</th>\n",
       "      <td>전주 여행</td>\n",
       "      <td>추천</td>\n",
       "      <td>NNG</td>\n",
       "    </tr>\n",
       "    <tr>\n",
       "      <th>3000</th>\n",
       "      <td>전주 여행</td>\n",
       "      <td>시간</td>\n",
       "      <td>NNG</td>\n",
       "    </tr>\n",
       "    <tr>\n",
       "      <th>6000</th>\n",
       "      <td>전주 여행</td>\n",
       "      <td>실내</td>\n",
       "      <td>NNG</td>\n",
       "    </tr>\n",
       "    <tr>\n",
       "      <th>9000</th>\n",
       "      <td>경주 여행</td>\n",
       "      <td>남자</td>\n",
       "      <td>NNG</td>\n",
       "    </tr>\n",
       "    <tr>\n",
       "      <th>12000</th>\n",
       "      <td>경주 여행</td>\n",
       "      <td>테마파크</td>\n",
       "      <td>NNG</td>\n",
       "    </tr>\n",
       "  </tbody>\n",
       "</table>\n",
       "</div>"
      ],
      "text/plain": [
       "       query token  pos\n",
       "0      전주 여행    추천  NNG\n",
       "3000   전주 여행    시간  NNG\n",
       "6000   전주 여행    실내  NNG\n",
       "9000   경주 여행    남자  NNG\n",
       "12000  경주 여행  테마파크  NNG"
      ]
     },
     "execution_count": 42,
     "metadata": {},
     "output_type": "execute_result"
    }
   ],
   "source": [
    "df_nouns = pd.read_csv('data/naver_kin_pos_nouns.csv', sep='\\t')\n",
    "print(df_nouns.shape)\n",
    "df_nouns.iloc[::3000]"
   ]
  },
  {
   "cell_type": "code",
   "execution_count": 43,
   "id": "31932ec6",
   "metadata": {},
   "outputs": [
    {
     "data": {
      "text/plain": [
       "array(['NNG', 'NNP'], dtype=object)"
      ]
     },
     "execution_count": 43,
     "metadata": {},
     "output_type": "execute_result"
    }
   ],
   "source": [
    "df_nouns['pos'].unique()"
   ]
  },
  {
   "cell_type": "code",
   "execution_count": 44,
   "id": "2c0ed81e",
   "metadata": {},
   "outputs": [
    {
     "name": "stdout",
     "output_type": "stream",
     "text": [
      "['추석', '추석', '생각', '서울', '버스']\n",
      "['추천', '추억', '다양', '체험', '감성']\n",
      "추석 추석 생각 서\n",
      "추천 추억 다양 체\n"
     ]
    }
   ],
   "source": [
    "df_gj_noun = df_nouns.loc[df_nouns['query']=='경주 여행','token'].to_list()\n",
    "df_jj_noun = df_nouns.loc[df_nouns['query']=='전주 여행','token'].to_list()\n",
    "print(df_gj_noun[:5])\n",
    "print(df_jj_noun[:5])\n",
    "gj = ' '.join(df_gj_noun)\n",
    "jj = ' '.join(df_jj_noun)\n",
    "print(gj[:10])\n",
    "print(jj[:10])"
   ]
  },
  {
   "cell_type": "code",
   "execution_count": 45,
   "id": "9281f316",
   "metadata": {},
   "outputs": [],
   "source": [
    "from wordcloud import WordCloud\n",
    "import matplotlib.pyplot as plt\n",
    "color_map = \"Blues\"\n",
    "font_path = 'data/NanumPenScript-Regular.ttf'"
   ]
  },
  {
   "cell_type": "code",
   "execution_count": 46,
   "id": "d98c4c0c",
   "metadata": {},
   "outputs": [
    {
     "data": {
      "image/png": "[encoded data removed]",
      "text/plain": [
       "<Figure size 640x480 with 1 Axes>"
      ]
     },
     "metadata": {},
     "output_type": "display_data"
    }
   ],
   "source": [
    "import numpy as np\n",
    "from PIL import Image\n",
    "mask = np.array(Image.open('data/heart.jpg'))\n",
    "불용어 = set(['여행'])\n",
    "wordcloud = WordCloud(\n",
    "    background_color='white',\n",
    "    colormap=color_map,\n",
    "    collocations=True, # 특정단어가 자주 같이 나오면 같이 뿌려 ex황리단같은거는 같이\n",
    "    max_words=200,\n",
    "    max_font_size=200,\n",
    "    scale=2, # 이미지 크기의 비율(다운로드시 달라짐)\n",
    "    random_state=777,\n",
    "    font_path = font_path,\n",
    "    stopwords=불용어,\n",
    "    mask = mask,\n",
    "    contour_color='blue',\n",
    "    contour_width=1\n",
    ").generate(gj)\n",
    "plt.imshow(wordcloud, interpolation='bilinear')\n",
    "plt.axis('off')\n",
    "plt.show()"
   ]
  },
  {
   "cell_type": "code",
   "execution_count": 47,
   "id": "5df5e469",
   "metadata": {},
   "outputs": [
    {
     "data": {
      "text/plain": [
       "<wordcloud.wordcloud.WordCloud at 0x20c713e2dd0>"
      ]
     },
     "execution_count": 47,
     "metadata": {},
     "output_type": "execute_result"
    }
   ],
   "source": [
    "# 생성된 wordcloud 저장\n",
    "wordcloud.to_file('data/naver_kin_경주.jpg')"
   ]
  },
  {
   "cell_type": "code",
   "execution_count": 48,
   "id": "62f4518d",
   "metadata": {},
   "outputs": [
    {
     "data": {
      "image/png": "[encoded data removed]",
      "text/plain": [
       "<Figure size 640x480 with 1 Axes>"
      ]
     },
     "metadata": {},
     "output_type": "display_data"
    }
   ],
   "source": [
    "import numpy as np\n",
    "from PIL import Image\n",
    "mask = np.array(Image.open('data/korea-house-black-fill.png'))\n",
    "불용어 = set(['여행'])\n",
    "wordcloud = WordCloud(\n",
    "    background_color='white',\n",
    "    colormap=color_map,\n",
    "    collocations=True, # 특정단어가 자주 같이 나오면 같이 뿌려 ex황리단같은거는 같이\n",
    "    max_words=200,\n",
    "    max_font_size=100,\n",
    "    scale=2, # 이미지 크기의 비율(다운로드시 달라짐)\n",
    "    random_state=777,\n",
    "    font_path = font_path,\n",
    "    stopwords=불용어,\n",
    "    mask = mask,\n",
    "    contour_color='blue',\n",
    "    contour_width=1\n",
    ").generate(jj)\n",
    "plt.imshow(wordcloud, interpolation='bilinear')\n",
    "plt.axis('off')\n",
    "plt.show()"
   ]
  },
  {
   "cell_type": "code",
   "execution_count": 49,
   "id": "542f34e5",
   "metadata": {},
   "outputs": [
    {
     "data": {
      "text/plain": [
       "<wordcloud.wordcloud.WordCloud at 0x20c714a6680>"
      ]
     },
     "execution_count": 49,
     "metadata": {},
     "output_type": "execute_result"
    }
   ],
   "source": [
    "# 생성된 wordcloud 저장\n",
    "wordcloud.to_file('data/naver_kin_전주.jpg')"
   ]
  },
  {
   "cell_type": "markdown",
   "id": "3c8de992",
   "metadata": {},
   "source": [
    "## 단어의 빈도수 시각화(nltk.Text)"
   ]
  },
  {
   "cell_type": "code",
   "execution_count": 50,
   "id": "80bd17cd",
   "metadata": {},
   "outputs": [
    {
     "name": "stdout",
     "output_type": "stream",
     "text": [
      "['추석', '추석', '생각', '서울', '버스']\n",
      "['추천', '추억', '다양', '체험', '감성']\n"
     ]
    }
   ],
   "source": [
    "import pandas as pd\n",
    "df_nouns = pd.read_csv('data/naver_kin_pos_nouns.csv', sep='\\t')\n",
    "df_gj_noun = df_nouns.loc[df_nouns['query']=='경주 여행','token'].to_list()\n",
    "df_jj_noun = df_nouns.loc[df_nouns['query']=='전주 여행','token'].to_list()\n",
    "print(df_gj_noun[:5])\n",
    "print(df_jj_noun[:5])"
   ]
  },
  {
   "cell_type": "code",
   "execution_count": 51,
   "id": "00894029",
   "metadata": {},
   "outputs": [
    {
     "data": {
      "image/png": "[encoded data removed]",
      "text/plain": [
       "<Figure size 1500x400 with 1 Axes>"
      ]
     },
     "metadata": {},
     "output_type": "display_data"
    }
   ],
   "source": [
    "import nltk\n",
    "import matplotlib.pyplot as plt\n",
    "data_text = nltk.Text(df_gj_noun)\n",
    "plt.figure(figsize=(15,4))\n",
    "plt.rc('font', family='Malgun Gothic')\n",
    "data_text.plot(15)\n",
    "plt.show()"
   ]
  },
  {
   "cell_type": "code",
   "execution_count": 52,
   "id": "f7125f7b",
   "metadata": {},
   "outputs": [
    {
     "data": {
      "image/png": "[encoded data removed]",
      "text/plain": [
       "<Figure size 1500x300 with 1 Axes>"
      ]
     },
     "metadata": {},
     "output_type": "display_data"
    }
   ],
   "source": [
    "word, counts = zip(*data_text.vocab().most_common(15))\n",
    "plt.figure(figsize=(15,3))\n",
    "plt.plot(word, counts)\n",
    "plt.xticks(rotation=45)\n",
    "plt.xlabel('word')\n",
    "plt.ylabel('count')\n",
    "plt.title('경주 최빈단어')\n",
    "plt.show()"
   ]
  },
  {
   "cell_type": "code",
   "execution_count": 53,
   "id": "3f32b627",
   "metadata": {},
   "outputs": [
    {
     "data": {
      "image/png": "[encoded data removed]",
      "text/plain": [
       "<Figure size 1500x400 with 1 Axes>"
      ]
     },
     "metadata": {},
     "output_type": "display_data"
    }
   ],
   "source": [
    "import nltk\n",
    "import matplotlib.pyplot as plt\n",
    "data_text = nltk.Text(df_jj_noun)\n",
    "plt.figure(figsize=(15,4))\n",
    "plt.rc('font', family='Malgun Gothic')\n",
    "data_text.plot(15)\n",
    "plt.show()"
   ]
  },
  {
   "cell_type": "code",
   "execution_count": 54,
   "id": "ac386b06",
   "metadata": {},
   "outputs": [
    {
     "data": {
      "image/png": "[encoded data removed]",
      "text/plain": [
       "<Figure size 1500x300 with 1 Axes>"
      ]
     },
     "metadata": {},
     "output_type": "display_data"
    }
   ],
   "source": [
    "word, counts = zip(*data_text.vocab().most_common(15))\n",
    "plt.figure(figsize=(15,3))\n",
    "plt.plot(word, counts)\n",
    "plt.xticks(rotation=45)\n",
    "plt.xlabel('word')\n",
    "plt.ylabel('count')\n",
    "plt.title('전주 최빈단어')\n",
    "plt.show()"
   ]
  },
  {
   "cell_type": "markdown",
   "id": "13920987",
   "metadata": {},
   "source": [
    "# 6. Word2Vec"
   ]
  },
  {
   "cell_type": "code",
   "execution_count": 55,
   "id": "8bcc499c",
   "metadata": {},
   "outputs": [
    {
     "data": {
      "text/html": [
       "<div>\n",
       "<style scoped>\n",
       "    .dataframe tbody tr th:only-of-type {\n",
       "        vertical-align: middle;\n",
       "    }\n",
       "\n",
       "    .dataframe tbody tr th {\n",
       "        vertical-align: top;\n",
       "    }\n",
       "\n",
       "    .dataframe thead th {\n",
       "        text-align: right;\n",
       "    }\n",
       "</style>\n",
       "<table border=\"1\" class=\"dataframe\">\n",
       "  <thead>\n",
       "    <tr style=\"text-align: right;\">\n",
       "      <th></th>\n",
       "      <th>query</th>\n",
       "      <th>no</th>\n",
       "      <th>title</th>\n",
       "      <th>link</th>\n",
       "      <th>description</th>\n",
       "      <th>total_text</th>\n",
       "    </tr>\n",
       "  </thead>\n",
       "  <tbody>\n",
       "    <tr>\n",
       "      <th>250</th>\n",
       "      <td>전주 여행</td>\n",
       "      <td>251</td>\n",
       "      <td>전주  한옥마을  여행 준비중입니다</td>\n",
       "      <td>https://kin.naver.com/qna/detail.naver?d1id=9&amp;...</td>\n",
       "      <td>대여는 천차만별입니다 기본 금액은 10000원 부터시작합니다 시간과 한복에따라서 ...</td>\n",
       "      <td>전주  한옥마을  여행 준비중입니다  대여는 천차만별입니다 기본 금액은 10000...</td>\n",
       "    </tr>\n",
       "  </tbody>\n",
       "</table>\n",
       "</div>"
      ],
      "text/plain": [
       "     query   no                 title  \\\n",
       "250  전주 여행  251   전주  한옥마을  여행 준비중입니다   \n",
       "\n",
       "                                                  link  \\\n",
       "250  https://kin.naver.com/qna/detail.naver?d1id=9&...   \n",
       "\n",
       "                                           description  \\\n",
       "250   대여는 천차만별입니다 기본 금액은 10000원 부터시작합니다 시간과 한복에따라서 ...   \n",
       "\n",
       "                                            total_text  \n",
       "250   전주  한옥마을  여행 준비중입니다  대여는 천차만별입니다 기본 금액은 10000...  "
      ]
     },
     "execution_count": 55,
     "metadata": {},
     "output_type": "execute_result"
    }
   ],
   "source": [
    "import pandas as pd\n",
    "df = pd.read_csv('data/naver_kin.csv', sep='\\t')\n",
    "df.sample()"
   ]
  },
  {
   "cell_type": "code",
   "execution_count": 56,
   "id": "2c602ab5",
   "metadata": {},
   "outputs": [
    {
     "data": {
      "text/plain": [
       "['2박  경주여행  11월 중순에 남편과 경주여행 을 계획하고 있는데요 처음 가보는곳이라 첫날은 황남관한옥호텔 에서 1박하고 이튿날은 청공한옥스테이에서 1박 총 2박3일 계획인데요 여행스케쥴을 어떻게 ',\n",
       " ' 경주 여행 지 추천  2 부산을 벗어난 경주 여행 지 알려주세요 3 당일치기로 경주 여행 코스 밑에 자세하게 권역별로 여행코스를 소개했습니다 경주여행 이 처음이라면 대릉원 첨성대 참고로 쭈니아빠 블로그를 방문하시면 경주여행 ']"
      ]
     },
     "execution_count": 56,
     "metadata": {},
     "output_type": "execute_result"
    }
   ],
   "source": [
    "total_text_list = df['total_text'].to_list()\n",
    "total_text_list[-2:]"
   ]
  },
  {
   "cell_type": "code",
   "execution_count": 57,
   "id": "870e8905",
   "metadata": {},
   "outputs": [],
   "source": [
    "select_pos = ['NNP', 'NNG'] # Komoran, Kkma, MeCab의 일반명사, 고유명사\n",
    "# select_pos = ['Noun'] # Okt의 일반명사, 고유명사\n",
    "# select_pos = ['NC', 'NQ']# Hannanum의 보통명사, 고유명사\n",
    "불용어 = {'여행'}"
   ]
  },
  {
   "cell_type": "code",
   "execution_count": 58,
   "id": "17718397",
   "metadata": {},
   "outputs": [
    {
     "name": "stdout",
     "output_type": "stream",
     "text": [
      "CPU times: total: 625 ms\n",
      "Wall time: 648 ms\n"
     ]
    }
   ],
   "source": [
    "%%time\n",
    "from konlpy.tag import Komoran, Kkma, Hannanum, Okt\n",
    "from mecab import MeCab\n",
    "analyzer = MeCab()\n",
    "total_noun_list = []\n",
    "for total_text in total_text_list:\n",
    "    noun_list = [token for token, tag in analyzer.pos(total_text) \n",
    "                     if tag in select_pos and \n",
    "                             len(token)>1 and\n",
    "                             token not in 불용어] # 명사, 2글자이상, 불용어제외\n",
    "    total_noun_list.append(noun_list)"
   ]
  },
  {
   "cell_type": "code",
   "execution_count": 59,
   "id": "892b52c4",
   "metadata": {},
   "outputs": [
    {
     "name": "stdout",
     "output_type": "stream",
     "text": [
      "[['경주', '중순', '남편', '경주', '계획', '첫날', '황남', '호텔', '이튿날', '청공', '옥스', '테이', '계획'], ['경주', '추천', '부산', '경주', '당일', '경주', '코스', '권역', '코스', '소개', '경주', '처음', '대릉원', '첨성대', '참고', '쭈니', '아빠', '블로그', '방문', '경주']]\n"
     ]
    }
   ],
   "source": [
    "print(total_noun_list[-2:])"
   ]
  },
  {
   "cell_type": "code",
   "execution_count": 60,
   "id": "bfc6a119",
   "metadata": {},
   "outputs": [],
   "source": [
    "from gensim.models import Word2Vec\n",
    "model = Word2Vec(total_noun_list, window=10, min_count=2, workers=-1, \n",
    "                 sg=1) # 소량데이터에 더 잘 맞음"
   ]
  },
  {
   "cell_type": "code",
   "execution_count": 61,
   "id": "45b50d25",
   "metadata": {},
   "outputs": [
    {
     "data": {
      "text/plain": [
       "[('연령', 0.3641005754470825),\n",
       " ('자연', 0.21867415308952332),\n",
       " ('콘도', 0.21632219851016998),\n",
       " ('초보', 0.2159893959760666),\n",
       " ('완산구', 0.21469099819660187),\n",
       " ('비빔', 0.2134207934141159),\n",
       " ('공용', 0.20914912223815918),\n",
       " ('관광공사', 0.20906010270118713),\n",
       " ('위치', 0.2070489227771759),\n",
       " ('활용', 0.20607852935791016)]"
      ]
     },
     "execution_count": 61,
     "metadata": {},
     "output_type": "execute_result"
    }
   ],
   "source": [
    "model.wv.most_similar('전주')"
   ]
  },
  {
   "cell_type": "code",
   "execution_count": 62,
   "id": "8fb3fee6",
   "metadata": {},
   "outputs": [
    {
     "data": {
      "text/plain": [
       "[('전통문화', 0.3595535457134247),\n",
       " ('월지', 0.2897421419620514),\n",
       " ('진행', 0.275379478931427),\n",
       " ('필수', 0.2731468081474304),\n",
       " ('텍스', 0.2580290138721466),\n",
       " ('서울', 0.2295033037662506),\n",
       " ('반려', 0.22023281455039978),\n",
       " ('제주', 0.21883943676948547),\n",
       " ('일정', 0.21617142856121063),\n",
       " ('기지', 0.2135322391986847)]"
      ]
     },
     "execution_count": 62,
     "metadata": {},
     "output_type": "execute_result"
    }
   ],
   "source": [
    "model.wv.most_similar('경주')"
   ]
  },
  {
   "cell_type": "code",
   "execution_count": 63,
   "id": "26603e84",
   "metadata": {},
   "outputs": [
    {
     "name": "stdout",
     "output_type": "stream",
     "text": [
      "2번이상 나와서 학습된 단어들 :  ['경주', '전주', '코스', '추천', '맛집', '여수', '주달', '계획', '숙소', '일정']\n",
      "702\n"
     ]
    }
   ],
   "source": [
    "print('2번이상 나와서 학습된 단어들 : ',list(model.wv.index_to_key[:10]))\n",
    "print(len(model.wv))"
   ]
  },
  {
   "cell_type": "code",
   "execution_count": 64,
   "id": "c4603138",
   "metadata": {},
   "outputs": [
    {
     "name": "stdout",
     "output_type": "stream",
     "text": [
      "입력된 단어와 유사한 단어 10개를 출력합니다.\n",
      "전주\n",
      "전주와 유사한 단어:\n",
      "[('연령', 0.3641005754470825), ('자연', 0.21867415308952332), ('콘도', 0.21632219851016998), ('초보', 0.2159893959760666), ('완산구', 0.21469099819660187), ('비빔', 0.2134207934141159), ('공용', 0.20914912223815918), ('관광공사', 0.20906010270118713), ('위치', 0.2070489227771759), ('활용', 0.20607852935791016)]\n"
     ]
    }
   ],
   "source": [
    "# 유사한 단어 출력\n",
    "print(\"입력된 단어와 유사한 단어 10개를 출력합니다.\")\n",
    "key = input()\n",
    "if key in model.wv:\n",
    "    print(\"{}와 유사한 단어:\".format(key))\n",
    "    print(model.wv.most_similar(key, topn=10))\n",
    "else:\n",
    "    print(\"{} 단어가 훈련 데이터에 없음\".format(key))"
   ]
  },
  {
   "cell_type": "code",
   "execution_count": null,
   "id": "3ca5d695",
   "metadata": {},
   "outputs": [],
   "source": []
  }
 ],
 "metadata": {
  "kernelspec": {
   "display_name": "ml-dl-nlp",
   "language": "python",
   "name": "ml-dl-nlp"
  },
  "language_info": {
   "codemirror_mode": {
    "name": "ipython",
    "version": 3
   },
   "file_extension": ".py",
   "mimetype": "text/x-python",
   "name": "python",
   "nbconvert_exporter": "python",
   "pygments_lexer": "ipython3",
   "version": "3.10.18"
  },
  "toc": {
   "base_numbering": 1,
   "nav_menu": {},
   "number_sections": false,
   "sideBar": true,
   "skip_h1_title": false,
   "title_cell": "Table of Contents",
   "title_sidebar": "Contents",
   "toc_cell": false,
   "toc_position": {
    "height": "calc(100% - 180px)",
    "left": "10px",
    "top": "150px",
    "width": "165px"
   },
   "toc_section_display": true,
   "toc_window_display": false
  }
 },
 "nbformat": 4,
 "nbformat_minor": 5
}
