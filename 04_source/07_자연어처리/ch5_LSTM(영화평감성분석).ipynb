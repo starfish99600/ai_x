{
 "cells": [
  {
   "cell_type": "code",
   "execution_count": 1,
   "id": "07a0ba14",
   "metadata": {},
   "outputs": [
    {
     "data": {
      "text/html": [
       "\n",
       "<style>\n",
       "div.container{width:85% !important;}\n",
       "div.cell.code_cell.rendered{width:100%;}\n",
       "div.input_prompt{padding:0px;}\n",
       "div.CodeMirror {font-family:Consolas; font-size:12pt;}\n",
       "div.output {font-size:12pt; font-weight:bold;}\n",
       "div.input {font-family:Consolas; font-size:12pt;}\n",
       "div.prompt {min-width:70px;}\n",
       "div#toc-wrapper{padding-top:120px;}\n",
       "div.text_cell_render ul li{font-size:12pt;padding:5px;}\n",
       "table.dataframe{font-size:12px;}\n",
       "</style>\n"
      ],
      "text/plain": [
       "<IPython.core.display.HTML object>"
      ]
     },
     "metadata": {},
     "output_type": "display_data"
    }
   ],
   "source": [
    "from IPython.display import display, HTML\n",
    "display(HTML(\"\"\"\n",
    "<style>\n",
    "div.container{width:85% !important;}\n",
    "div.cell.code_cell.rendered{width:100%;}\n",
    "div.input_prompt{padding:0px;}\n",
    "div.CodeMirror {font-family:Consolas; font-size:12pt;}\n",
    "div.output {font-size:12pt; font-weight:bold;}\n",
    "div.input {font-family:Consolas; font-size:12pt;}\n",
    "div.prompt {min-width:70px;}\n",
    "div#toc-wrapper{padding-top:120px;}\n",
    "div.text_cell_render ul li{font-size:12pt;padding:5px;}\n",
    "table.dataframe{font-size:12px;}\n",
    "</style>\n",
    "\"\"\"))"
   ]
  },
  {
   "cell_type": "markdown",
   "id": "8bc72537",
   "metadata": {},
   "source": [
    "**<font size=\"6\" color=\"red\">ch5. LSTM/GRU</font>**\n",
    "- 5만개 영화 감상평(독립변수) -> 부정/긍정(타겟변수)\n",
    "\n",
    "## 1. 패키지"
   ]
  },
  {
   "cell_type": "code",
   "execution_count": 2,
   "id": "7476977f",
   "metadata": {},
   "outputs": [],
   "source": [
    "import numpy as np\n",
    "from tensorflow.keras.datasets import imdb\n",
    "from tensorflow.keras.preprocessing.sequence import pad_sequences\n",
    "\n",
    "from tensorflow.keras.models import Sequential\n",
    "from tensorflow.keras.layers import Embedding, LSTM, Dense, GRU\n",
    "from time import time #70.1.1부터 현재까지의 밀리세컨\n",
    "\n",
    "from sklearn.metrics import confusion_matrix\n",
    "from sklearn.metrics import f1_score, precision_score, recall_score"
   ]
  },
  {
   "cell_type": "markdown",
   "id": "6e2459fa",
   "metadata": {},
   "source": [
    "## 2. 하이퍼 파리미터 설정(이 파라미터를 바꾸면 정확도나 학습 속도에 차이남)"
   ]
  },
  {
   "cell_type": "code",
   "execution_count": 3,
   "id": "669f333e",
   "metadata": {},
   "outputs": [],
   "source": [
    "MY_WORDS  = 10000 # imdb 데이터의 단어수\n",
    "MY_LENGTH = 80    # 영화평 단어수 80개만 독립변수\n",
    "MY_EMBED  = 32    # Embedding layer의 결과 차원\n",
    "MY_HIDDEN = 64    # LSTM의 units 차원\n",
    "\n",
    "MY_EPOCH  = 10    # 학습 수(fit)\n",
    "MY_BATCH  = 200   # batch_size(fit시 매번 데이터를 가져오는 데이터)"
   ]
  },
  {
   "cell_type": "markdown",
   "id": "8b5a9517",
   "metadata": {},
   "source": [
    "## 3. 데이터 불러오기"
   ]
  },
  {
   "cell_type": "code",
   "execution_count": 4,
   "id": "f2ed9cc2",
   "metadata": {
    "scrolled": true
   },
   "outputs": [],
   "source": [
    "(x_train, y_train), (x_test, y_test) = imdb.load_data(num_words=MY_WORDS)"
   ]
  },
  {
   "cell_type": "code",
   "execution_count": 5,
   "id": "44eec52f",
   "metadata": {},
   "outputs": [
    {
     "name": "stdout",
     "output_type": "stream",
     "text": [
      "학습셋 입력변수 모양 : (25000,)\n",
      "학습셋 타겟변수 모양 : (25000,)\n",
      "학습셋 샘플 : <class 'list'> [1, 13, 244, 6, 87, 337, 7, 628, 2219, 5, 28, 285, 15, 240, 93, 23, 288, 549, 18, 1455, 673, 4, 241, 534, 3635, 8448, 20, 38, 54, 13, 258, 46, 44, 14, 13, 1241, 7258, 12, 5, 5, 51, 9, 14, 45, 6, 762, 7, 2, 1309, 328, 5, 428, 2473, 15, 26, 1292, 5, 3939, 6728, 5, 1960, 279, 13, 92, 124, 803, 52, 21, 279, 14, 9, 43, 6, 762, 7, 595, 15, 16, 2, 23, 4, 1071, 467, 4, 403, 7, 628, 2219, 8, 97, 6, 171, 3596, 99, 387, 72, 97, 12, 788, 15, 13, 161, 459, 44, 4, 3939, 1101, 173, 21, 69, 8, 401, 2, 4, 481, 88, 61, 4731, 238, 28, 32, 11, 32, 14, 9, 6, 545, 1332, 766, 5, 203, 73, 28, 43, 77, 317, 11, 4, 2, 953, 270, 17, 6, 3616, 13, 545, 386, 25, 92, 1142, 129, 278, 23, 14, 241, 46, 7, 158] 0\n",
      "테스트셋 변수들 모양 : (25000,) (25000,)\n"
     ]
    }
   ],
   "source": [
    "print('학습셋 입력변수 모양 :', x_train.shape)\n",
    "print('학습셋 타겟변수 모양 :', y_train.shape)\n",
    "print('학습셋 샘플 :', type(x_train[2]), x_train[100], y_train[2])\n",
    "print('테스트셋 변수들 모양 :', x_test.shape, y_test.shape)"
   ]
  },
  {
   "cell_type": "code",
   "execution_count": 6,
   "id": "56272af7",
   "metadata": {},
   "outputs": [
    {
     "name": "stdout",
     "output_type": "stream",
     "text": [
      "학습셋의 긍정 갯수 : 12500\n",
      "테스트셋의 긍정 갯수 : 12500\n"
     ]
    }
   ],
   "source": [
    "# 긍정/부정 갯수\n",
    "print('학습셋의 긍정 갯수 :', y_train.sum())\n",
    "print('테스트셋의 긍정 갯수 :', y_test.sum())"
   ]
  },
  {
   "cell_type": "markdown",
   "id": "a1ab8f45",
   "metadata": {},
   "source": [
    "## 4. 문자단어 -> 정수"
   ]
  },
  {
   "cell_type": "code",
   "execution_count": 7,
   "id": "74b90b1d",
   "metadata": {},
   "outputs": [
    {
     "name": "stdout",
     "output_type": "stream",
     "text": [
      "17\n",
      "19\n",
      "16816\n",
      "3\n",
      "1\n",
      "the\n",
      "a\n"
     ]
    }
   ],
   "source": [
    "word_to_id = imdb.get_word_index() # {'word':id}\n",
    "print(word_to_id['movie'])\n",
    "print(word_to_id['film'])\n",
    "print(word_to_id['sonja'])\n",
    "print(word_to_id['a'])\n",
    "print(word_to_id['the'])\n",
    "# 정수 -> 문자 단어\n",
    "id_to_word = {} #{1:'the', 3: 'a', 16816:'sonja'}\n",
    "for word, value in word_to_id.items():\n",
    "    id_to_word[value] = word\n",
    "print(id_to_word[1])\n",
    "print(id_to_word[3])"
   ]
  },
  {
   "cell_type": "code",
   "execution_count": 8,
   "id": "6bb0ca19",
   "metadata": {},
   "outputs": [
    {
     "name": "stdout",
     "output_type": "stream",
     "text": [
      "원 후기 내용 : ['what', 'a', 'wonderful', 'movie']\n",
      "encoded된 data : [1, 51, 6, 389, 20]\n",
      "추정된 data : ['???', 'what', 'a', 'wonderful', 'movie']\n",
      "추정된 data : ??? what a wonderful movie\n"
     ]
    }
   ],
   "source": [
    "msg = \"What a wonderful movie\"\n",
    "msg = msg.lower().split()\n",
    "# 1:리뷰시작을 알리는 숫자, 2:문자가짤려서잘못읽어옴, 3:padding처리\n",
    "data = [1] + [word_to_id.get(m, -1)+3 for m in msg]\n",
    "print('원 후기 내용 :', msg)\n",
    "print('encoded된 data :', data)\n",
    "print('추정된 data :', [id_to_word.get(d-3, '???') for d in data])\n",
    "print('추정된 data :', ' '.join([id_to_word.get(d-3, '???') for d in data]))"
   ]
  },
  {
   "cell_type": "markdown",
   "id": "9941bad7",
   "metadata": {},
   "source": [
    "## 5. 숫자영화평 -> 자연어 영화평 return 함수"
   ]
  },
  {
   "cell_type": "code",
   "execution_count": 9,
   "id": "2ec1dde6",
   "metadata": {},
   "outputs": [],
   "source": [
    "def decoding(review_num):\n",
    "    decoded = [id_to_word.get(num-3, '???') for num in review_num]\n",
    "    return ' '.join(decoded)"
   ]
  },
  {
   "cell_type": "code",
   "execution_count": 10,
   "id": "ee33acf1",
   "metadata": {},
   "outputs": [
    {
     "name": "stdout",
     "output_type": "stream",
     "text": [
      "??? big hair big boobs bad music and a giant safety pin these are the words to best describe this terrible movie i love cheesy horror movies and i've seen hundreds but this had got to be on of the worst ever made the plot is paper thin and ridiculous the acting is an abomination the script is completely laughable the best is the end showdown with the cop and how he worked out who the killer is it's just so damn terribly written the clothes are sickening and funny in equal ??? the hair is big lots of boobs ??? men wear those cut ??? shirts that show off their ??? sickening that men actually wore them and the music is just ??? trash that plays over and over again in almost every scene there is trashy music boobs and ??? taking away bodies and the gym still doesn't close for ??? all joking aside this is a truly bad film whose only charm is to look back on the disaster that was the 80's and have a good old laugh at how bad everything was back then 0\n"
     ]
    }
   ],
   "source": [
    "print(decoding(x_train[1]), y_train[1])"
   ]
  },
  {
   "cell_type": "markdown",
   "id": "83273cc7",
   "metadata": {},
   "source": [
    "## 6. 영화평 (입력변수)의 길이"
   ]
  },
  {
   "cell_type": "code",
   "execution_count": 11,
   "id": "d1b6e78a",
   "metadata": {},
   "outputs": [],
   "source": [
    "def show_length(x_train):\n",
    "    print('첫 20개 영화평 길이')\n",
    "    print([len(x_data) for x_data in x_train[:20]])"
   ]
  },
  {
   "cell_type": "code",
   "execution_count": 12,
   "id": "ec782b31",
   "metadata": {},
   "outputs": [
    {
     "name": "stdout",
     "output_type": "stream",
     "text": [
      "첫 20개 영화평 길이\n",
      "[218, 189, 141, 550, 147, 43, 123, 562, 233, 130, 450, 99, 117, 238, 109, 129, 163, 752, 212, 177]\n"
     ]
    }
   ],
   "source": [
    "# pad_sequence 전\n",
    "show_length(x_train)"
   ]
  },
  {
   "cell_type": "code",
   "execution_count": 13,
   "id": "70eaea1e",
   "metadata": {},
   "outputs": [
    {
     "name": "stdout",
     "output_type": "stream",
     "text": [
      "제일 긴 영화평 단어 길이 : 2494\n",
      "제일 짧은 영화평 단어 길이 : 11\n",
      "영화평 단어 길이 중위수 : 178.0\n"
     ]
    }
   ],
   "source": [
    "print('제일 긴 영화평 단어 길이 :', \n",
    "     max(len(x_data) for x_data in x_train))\n",
    "print('제일 짧은 영화평 단어 길이 :', \n",
    "     min(len(x_data) for x_data in x_train))\n",
    "print('영화평 단어 길이 중위수 :',\n",
    "     np.median([len(x_data) for x_data in x_train]))"
   ]
  },
  {
   "cell_type": "markdown",
   "id": "1827c749",
   "metadata": {},
   "source": [
    "## 7. 모든 영화평 길이를 동일하게(MY_LENGTH=80)"
   ]
  },
  {
   "cell_type": "code",
   "execution_count": 14,
   "id": "e09cafcc",
   "metadata": {},
   "outputs": [
    {
     "name": "stdout",
     "output_type": "stream",
     "text": [
      "첫 20개 영화평 길이\n",
      "[80, 80, 80, 80, 80, 80, 80, 80, 80, 80, 80, 80, 80, 80, 80, 80, 80, 80, 80, 80]\n",
      "첫 20개 영화평 길이\n",
      "[80, 80, 80, 80, 80, 80, 80, 80, 80, 80, 80, 80, 80, 80, 80, 80, 80, 80, 80, 80]\n"
     ]
    },
    {
     "data": {
      "text/plain": [
       "(None, None)"
      ]
     },
     "execution_count": 14,
     "metadata": {},
     "output_type": "execute_result"
    }
   ],
   "source": [
    "X_train = pad_sequences(x_train,\n",
    "                       padding='pre',\n",
    "                       truncating='pre', # 뒷부분을 짜르고 앞부분을 남김\n",
    "                       maxlen=MY_LENGTH)\n",
    "X_test = pad_sequences(x_test,\n",
    "                      padding='pre',\n",
    "                      truncating='pre',\n",
    "                      maxlen=MY_LENGTH)\n",
    "show_length(X_train), show_length(X_test)"
   ]
  },
  {
   "cell_type": "markdown",
   "id": "15ae69d1",
   "metadata": {},
   "source": [
    "## 8. 최종 데이터 shape 확인"
   ]
  },
  {
   "cell_type": "code",
   "execution_count": 15,
   "id": "edd6df2a",
   "metadata": {},
   "outputs": [
    {
     "data": {
      "text/plain": [
       "((25000, 80), (25000,), (25000, 80), (25000,))"
      ]
     },
     "execution_count": 15,
     "metadata": {},
     "output_type": "execute_result"
    }
   ],
   "source": [
    "X_train.shape, y_train.shape, X_test.shape, y_test.shape"
   ]
  },
  {
   "cell_type": "code",
   "execution_count": 16,
   "id": "03464a31",
   "metadata": {},
   "outputs": [
    {
     "name": "stdout",
     "output_type": "stream",
     "text": [
      "[1, 14, 22, 16, 43, 530, 973, 1622, 1385, 65, 458, 4468, 66, 3941, 4, 173, 36, 256, 5, 25, 100, 43, 838, 112, 50, 670, 2, 9, 35, 480, 284, 5, 150, 4, 172, 112, 167, 2, 336, 385, 39, 4, 172, 4536, 1111, 17, 546, 38, 13, 447, 4, 192, 50, 16, 6, 147, 2025, 19, 14, 22, 4, 1920, 4613, 469, 4, 22, 71, 87, 12, 16, 43, 530, 38, 76, 15, 13, 1247, 4, 22, 17, 515, 17, 12, 16, 626, 18, 2, 5, 62, 386, 12, 8, 316, 8, 106, 5, 4, 2223, 5244, 16, 480, 66, 3785, 33, 4, 130, 12, 16, 38, 619, 5, 25, 124, 51, 36, 135, 48, 25, 1415, 33, 6, 22, 12, 215, 28, 77, 52, 5, 14, 407, 16, 82, 2, 8, 4, 107, 117, 5952, 15, 256, 4, 2, 7, 3766, 5, 723, 36, 71, 43, 530, 476, 26, 400, 317, 46, 7, 4, 2, 1029, 13, 104, 88, 4, 381, 15, 297, 98, 32, 2071, 56, 26, 141, 6, 194, 7486, 18, 4, 226, 22, 21, 134, 476, 26, 480, 5, 144, 30, 5535, 18, 51, 36, 28, 224, 92, 25, 104, 4, 226, 65, 16, 38, 1334, 88, 12, 16, 283, 5, 16, 4472, 113, 103, 32, 15, 16, 5345, 19, 178, 32]\n"
     ]
    }
   ],
   "source": [
    "print(x_train[0])"
   ]
  },
  {
   "cell_type": "code",
   "execution_count": 17,
   "id": "dfaa5434",
   "metadata": {},
   "outputs": [
    {
     "data": {
      "text/plain": [
       "array([  15,  256,    4,    2,    7, 3766,    5,  723,   36,   71,   43,\n",
       "        530,  476,   26,  400,  317,   46,    7,    4,    2, 1029,   13,\n",
       "        104,   88,    4,  381,   15,  297,   98,   32, 2071,   56,   26,\n",
       "        141,    6,  194, 7486,   18,    4,  226,   22,   21,  134,  476,\n",
       "         26,  480,    5,  144,   30, 5535,   18,   51,   36,   28,  224,\n",
       "         92,   25,  104,    4,  226,   65,   16,   38, 1334,   88,   12,\n",
       "         16,  283,    5,   16, 4472,  113,  103,   32,   15,   16, 5345,\n",
       "         19,  178,   32])"
      ]
     },
     "execution_count": 17,
     "metadata": {},
     "output_type": "execute_result"
    }
   ],
   "source": [
    "X_train[0]"
   ]
  },
  {
   "cell_type": "markdown",
   "id": "e2abd99e",
   "metadata": {},
   "source": [
    "## 9. 모델 생성"
   ]
  },
  {
   "cell_type": "code",
   "execution_count": 18,
   "id": "394c4403",
   "metadata": {},
   "outputs": [
    {
     "name": "stdout",
     "output_type": "stream",
     "text": [
      "Model: \"sequential\"\n",
      "_________________________________________________________________\n",
      " Layer (type)                Output Shape              Param #   \n",
      "=================================================================\n",
      " embedding (Embedding)       (None, 80, 32)            320000    \n",
      "                                                                 \n",
      " gru (GRU)                   (None, 64)                18816     \n",
      "                                                                 \n",
      " dense (Dense)               (None, 1)                 65        \n",
      "                                                                 \n",
      "=================================================================\n",
      "Total params: 338,881\n",
      "Trainable params: 338,881\n",
      "Non-trainable params: 0\n",
      "_________________________________________________________________\n"
     ]
    }
   ],
   "source": [
    "model = Sequential()\n",
    "model.add(Embedding(input_dim=MY_WORDS, # 10000\n",
    "                   output_dim=MY_EMBED, # 32\n",
    "                   input_length=MY_LENGTH)) # 80\n",
    "# RNN : 입력 단어의 길이 수가 너무 길면 파리미터 업데이트 안 됨\n",
    "# 개선모델1. LSTM 개선모델2. GRU\n",
    "model.add(GRU(units=MY_HIDDEN,\n",
    "              input_shape=(MY_LENGTH, MY_EMBED)\n",
    "         ))\n",
    "model.add(Dense(units=1, activation='sigmoid'))\n",
    "model.summary()"
   ]
  },
  {
   "cell_type": "markdown",
   "id": "f3faaa93",
   "metadata": {},
   "source": [
    "## 10. 학습환경 설정 및 학습하기"
   ]
  },
  {
   "cell_type": "code",
   "execution_count": 19,
   "id": "d65dd53c",
   "metadata": {},
   "outputs": [
    {
     "name": "stdout",
     "output_type": "stream",
     "text": [
      "Epoch 1/10\n",
      "100/100 [==============================] - 6s 52ms/step - loss: 0.5565 - acc: 0.6952 - val_loss: 0.3889 - val_acc: 0.8210\n",
      "Epoch 2/10\n",
      "100/100 [==============================] - 5s 47ms/step - loss: 0.3111 - acc: 0.8690 - val_loss: 0.3739 - val_acc: 0.8334\n",
      "Epoch 3/10\n",
      "100/100 [==============================] - 5s 47ms/step - loss: 0.2382 - acc: 0.9087 - val_loss: 0.3859 - val_acc: 0.8312\n",
      "Epoch 4/10\n",
      "100/100 [==============================] - 5s 46ms/step - loss: 0.1936 - acc: 0.9276 - val_loss: 0.4428 - val_acc: 0.8242\n",
      "Epoch 5/10\n",
      "100/100 [==============================] - 5s 48ms/step - loss: 0.1619 - acc: 0.9416 - val_loss: 0.5103 - val_acc: 0.8132\n",
      "Epoch 6/10\n",
      "100/100 [==============================] - 5s 48ms/step - loss: 0.1311 - acc: 0.9545 - val_loss: 0.5490 - val_acc: 0.8198\n",
      "Epoch 7/10\n",
      "100/100 [==============================] - 5s 46ms/step - loss: 0.1054 - acc: 0.9658 - val_loss: 0.6101 - val_acc: 0.8160\n",
      "Epoch 8/10\n",
      "100/100 [==============================] - 5s 47ms/step - loss: 0.0836 - acc: 0.9725 - val_loss: 0.7517 - val_acc: 0.8070\n",
      "Epoch 9/10\n",
      "100/100 [==============================] - 5s 46ms/step - loss: 0.0718 - acc: 0.9769 - val_loss: 0.7661 - val_acc: 0.8094\n",
      "Epoch 10/10\n",
      "100/100 [==============================] - 5s 47ms/step - loss: 0.0493 - acc: 0.9860 - val_loss: 0.8933 - val_acc: 0.8008\n",
      "총 학습시간 : 48.76979374885559\n"
     ]
    }
   ],
   "source": [
    "model.compile(loss='binary_crossentropy', # 이진분류시 손실함수\n",
    "             optimizer='adam',\n",
    "             metrics=['acc'])\n",
    "begin = time() # 70.1.1부터 현재까지의 초수\n",
    "hist = model.fit(X_train, y_train,\n",
    "                epochs=MY_EPOCH,\n",
    "                batch_size=MY_BATCH,\n",
    "                validation_split=0.2,\n",
    "                verbose=1)\n",
    "end = time() # 70.1.1부터 이 시점까지의 초수\n",
    "print('총 학습시간 :', (end-begin))"
   ]
  },
  {
   "cell_type": "code",
   "execution_count": 20,
   "id": "8cf89891",
   "metadata": {},
   "outputs": [
    {
     "data": {
      "text/plain": [
       "dict_keys(['loss', 'acc', 'val_loss', 'val_acc'])"
      ]
     },
     "execution_count": 20,
     "metadata": {},
     "output_type": "execute_result"
    }
   ],
   "source": [
    "hist.history.keys()"
   ]
  },
  {
   "cell_type": "code",
   "execution_count": 21,
   "id": "77a7c764",
   "metadata": {},
   "outputs": [
    {
     "data": {
      "image/png": "[encoded data removed]",
      "text/plain": [
       "<Figure size 1200x600 with 2 Axes>"
      ]
     },
     "metadata": {},
     "output_type": "display_data"
    }
   ],
   "source": [
    "# 5. 모델 학습과정 시각화\n",
    "import matplotlib.pyplot as plt\n",
    "fig, loss_ax = plt.subplots(figsize=(12,6))\n",
    "loss_ax.plot(hist.history['loss'], 'y', label='train loss')\n",
    "loss_ax.plot(hist.history['val_loss'], 'r', label='val loss')\n",
    "acc_ax = loss_ax.twinx()\n",
    "acc_ax.plot(hist.history['acc'], 'g', label='train accuracy')\n",
    "acc_ax.plot(hist.history['val_acc'], 'b', label='val accuracy')\n",
    "loss_ax.set_xlabel('epochs')\n",
    "loss_ax.set_ylabel('loss')\n",
    "acc_ax.set_ylabel('accuracy')\n",
    "loss_ax.legend(loc='center right')\n",
    "acc_ax.legend(loc='upper left')\n",
    "plt.show()"
   ]
  },
  {
   "cell_type": "markdown",
   "id": "a0da5e1f",
   "metadata": {},
   "source": [
    "## 11. 모델 평가"
   ]
  },
  {
   "cell_type": "code",
   "execution_count": 22,
   "id": "c034a08f",
   "metadata": {},
   "outputs": [
    {
     "name": "stdout",
     "output_type": "stream",
     "text": [
      "782/782 [==============================] - 4s 5ms/step - loss: 0.8961 - acc: 0.7973\n",
      "정확도 : 0.7973200082778931\n"
     ]
    }
   ],
   "source": [
    "# pad_sequences 'post' : 75.81%\n",
    "# pad_sequences 'pre' : 80.19%\n",
    "# MY_LENGTH=178: 83.89%\n",
    "loss, acc = model.evaluate(X_test, y_test)\n",
    "print('정확도 :', acc)"
   ]
  },
  {
   "cell_type": "code",
   "execution_count": 23,
   "id": "f948629c",
   "metadata": {},
   "outputs": [
    {
     "data": {
      "text/plain": [
       "array([0, 1, 0, ..., 0, 0, 1], dtype=int16)"
      ]
     },
     "execution_count": 23,
     "metadata": {},
     "output_type": "execute_result"
    }
   ],
   "source": [
    "# 혼동행렬, recall, precision을 위한 yhat\n",
    "yhat = (model.predict(X_test, \n",
    "                      verbose=0) > 0.5).astype(np.int16).reshape(-1)\n",
    "yhat"
   ]
  },
  {
   "cell_type": "code",
   "execution_count": 24,
   "id": "144c311b",
   "metadata": {},
   "outputs": [
    {
     "data": {
      "text/plain": [
       "array([[10067,  2433],\n",
       "       [ 2634,  9866]], dtype=int64)"
      ]
     },
     "execution_count": 24,
     "metadata": {},
     "output_type": "execute_result"
    }
   ],
   "source": [
    "# 혼동행렬\n",
    "confusion_matrix(y_test, yhat)"
   ]
  },
  {
   "cell_type": "code",
   "execution_count": 25,
   "id": "74ff386b",
   "metadata": {},
   "outputs": [
    {
     "data": {
      "text/plain": [
       "0.78928"
      ]
     },
     "execution_count": 25,
     "metadata": {},
     "output_type": "execute_result"
    }
   ],
   "source": [
    "# recall(실제 True인 것 중 True로 예측한 비율) 10238/(2262+10238)\n",
    "recall_score(y_test, yhat)"
   ]
  },
  {
   "cell_type": "code",
   "execution_count": 26,
   "id": "15fa2017",
   "metadata": {},
   "outputs": [
    {
     "data": {
      "text/plain": [
       "0.8021790389462558"
      ]
     },
     "execution_count": 26,
     "metadata": {},
     "output_type": "execute_result"
    }
   ],
   "source": [
    "# precision(True로 예측한 것 중 실제값이 True인 비율) 10238/(2778+10238)\n",
    "precision_score(y_test, yhat)"
   ]
  },
  {
   "cell_type": "markdown",
   "id": "6b208836",
   "metadata": {},
   "source": [
    "## 12. 모델 사용하기"
   ]
  },
  {
   "cell_type": "code",
   "execution_count": 27,
   "id": "b03373dd",
   "metadata": {},
   "outputs": [
    {
     "name": "stdout",
     "output_type": "stream",
     "text": [
      "[1, 4, 20, 16, 66, 1127, 5, 13, 296, 12, 469, 4, 20, 1383, 12, 586, 130, 209, 149, 4, 5431, 13, 2303, 386, 12, 12, 16, 60, 53, 221, 536, 15, 12, 100, 593, 11, 147, 113, 4, 293, 109, 16, 2252, 5, 917, 73, 38, 61, 523, 71, 654, 5, 4, 65, 16, 253] 56\n"
     ]
    }
   ],
   "source": [
    "review = \"\"\"The movie was really exciting, \n",
    "and I watched it throughout the movie hoping it wouldn't end without \n",
    "watching the clock. I strongly recommend it. \n",
    "It was even more interesting thinking that it could happen in real life. \n",
    "The main character was handsome and acted well, so my eyes were happy, \n",
    "and the story was fun @_@ㅠ.ㅠ\"\"\".lower()\n",
    "import re\n",
    "review = re.sub('[^a-zA-Z\\'\\s]', '', review)\n",
    "review = review.split() # 단어 list\n",
    "review = [1] + [word_to_id.get(word, -1)+3 for word in review]\n",
    "print(review, len(review))"
   ]
  },
  {
   "cell_type": "code",
   "execution_count": 28,
   "id": "aa617e22",
   "metadata": {},
   "outputs": [
    {
     "data": {
      "text/plain": [
       "array([[   0,    0,    0,    0,    0,    0,    0,    0,    0,    0,    0,\n",
       "           0,    0,    0,    0,    0,    0,    0,    0,    0,    0,    0,\n",
       "           0,    0,    1,    4,   20,   16,   66, 1127,    5,   13,  296,\n",
       "          12,  469,    4,   20, 1383,   12,  586,  130,  209,  149,    4,\n",
       "        5431,   13, 2303,  386,   12,   12,   16,   60,   53,  221,  536,\n",
       "          15,   12,  100,  593,   11,  147,  113,    4,  293,  109,   16,\n",
       "        2252,    5,  917,   73,   38,   61,  523,   71,  654,    5,    4,\n",
       "          65,   16,  253]])"
      ]
     },
     "execution_count": 28,
     "metadata": {},
     "output_type": "execute_result"
    }
   ],
   "source": [
    "input_data = pad_sequences([review],\n",
    "                      padding='pre',\n",
    "                      truncating='pre',\n",
    "                      maxlen=MY_LENGTH)\n",
    "input_data"
   ]
  },
  {
   "cell_type": "code",
   "execution_count": 29,
   "id": "0720a454",
   "metadata": {},
   "outputs": [
    {
     "name": "stdout",
     "output_type": "stream",
     "text": [
      "1/1 [==============================] - 0s 17ms/step\n"
     ]
    },
    {
     "data": {
      "text/plain": [
       "array([1], dtype=int8)"
      ]
     },
     "execution_count": 29,
     "metadata": {},
     "output_type": "execute_result"
    }
   ],
   "source": [
    "result = (model.predict(input_data)>0.5).astype('int8').reshape(-1)\n",
    "result"
   ]
  },
  {
   "cell_type": "code",
   "execution_count": null,
   "id": "999051d8",
   "metadata": {},
   "outputs": [],
   "source": []
  },
  {
   "cell_type": "code",
   "execution_count": null,
   "id": "fd01d7e7",
   "metadata": {},
   "outputs": [],
   "source": []
  },
  {
   "cell_type": "code",
   "execution_count": null,
   "id": "84bf380a",
   "metadata": {},
   "outputs": [],
   "source": []
  },
  {
   "cell_type": "code",
   "execution_count": null,
   "id": "72476d70",
   "metadata": {},
   "outputs": [],
   "source": []
  },
  {
   "cell_type": "code",
   "execution_count": null,
   "id": "546dc2dc",
   "metadata": {},
   "outputs": [],
   "source": []
  }
 ],
 "metadata": {
  "kernelspec": {
   "display_name": "ml-dl-nlp",
   "language": "python",
   "name": "ml-dl-nlp"
  },
  "language_info": {
   "codemirror_mode": {
    "name": "ipython",
    "version": 3
   },
   "file_extension": ".py",
   "mimetype": "text/x-python",
   "name": "python",
   "nbconvert_exporter": "python",
   "pygments_lexer": "ipython3",
   "version": "3.10.18"
  },
  "toc": {
   "base_numbering": 1,
   "nav_menu": {},
   "number_sections": false,
   "sideBar": true,
   "skip_h1_title": false,
   "title_cell": "Table of Contents",
   "title_sidebar": "Contents",
   "toc_cell": false,
   "toc_position": {
    "height": "calc(100% - 180px)",
    "left": "10px",
    "top": "150px",
    "width": "165px"
   },
   "toc_section_display": true,
   "toc_window_display": true
  }
 },
 "nbformat": 4,
 "nbformat_minor": 5
}
