{
 "cells": [
  {
   "cell_type": "code",
   "execution_count": 1,
   "id": "35ef0957",
   "metadata": {},
   "outputs": [
    {
     "data": {
      "text/html": [
       "\n",
       "<style>\n",
       "div.container{width:85% !important;}\n",
       "div.cell.code_cell.rendered{width:100%;}\n",
       "div.input_prompt{padding:0px;}\n",
       "div.CodeMirror {font-family:Consolas; font-size:12pt;}\n",
       "div.output {font-size:12pt; font-weight:bold;}\n",
       "div.input {font-family:Consolas; font-size:12pt;}\n",
       "div.prompt {min-width:70px;}\n",
       "div#toc-wrapper{padding-top:120px;}\n",
       "div.text_cell_render ul li{font-size:12pt;padding:5px;}\n",
       "table.dataframe{font-size:12px;}\n",
       "</style>\n"
      ],
      "text/plain": [
       "<IPython.core.display.HTML object>"
      ]
     },
     "metadata": {},
     "output_type": "display_data"
    }
   ],
   "source": [
    "from IPython.display import display, HTML\n",
    "display(HTML(\"\"\"\n",
    "<style>\n",
    "div.container{width:85% !important;}\n",
    "div.cell.code_cell.rendered{width:100%;}\n",
    "div.input_prompt{padding:0px;}\n",
    "div.CodeMirror {font-family:Consolas; font-size:12pt;}\n",
    "div.output {font-size:12pt; font-weight:bold;}\n",
    "div.input {font-family:Consolas; font-size:12pt;}\n",
    "div.prompt {min-width:70px;}\n",
    "div#toc-wrapper{padding-top:120px;}\n",
    "div.text_cell_render ul li{font-size:12pt;padding:5px;}\n",
    "table.dataframe{font-size:12px;}\n",
    "</style>\n",
    "\"\"\"))"
   ]
  },
  {
   "cell_type": "markdown",
   "id": "edf1492b",
   "metadata": {},
   "source": [
    "# 1. tensorflow v.2.xx에서 v1사용하기"
   ]
  },
  {
   "cell_type": "code",
   "execution_count": 3,
   "id": "55b1d340",
   "metadata": {},
   "outputs": [],
   "source": [
    "import tensorflow.compat.v1 as tf\n",
    "tf.disable_v2_behavior() # v2를 비활성화하고 v1활성화\n",
    "import numpy as np\n",
    "import pandas as pd"
   ]
  },
  {
   "cell_type": "markdown",
   "id": "bb86f5cc",
   "metadata": {},
   "source": [
    "## Tensorflow\n",
    "- 데이터 흐름 그래프(tensor객체의 흐름)\n",
    "- 이 그래프는 node(상수, 변수, 연산)와 edge로 구성\n",
    "- sess = tf.Session()으로 실행\n",
    "- sess.run()을 통해 값을 확인"
   ]
  },
  {
   "cell_type": "code",
   "execution_count": 6,
   "id": "2a7f7bff",
   "metadata": {},
   "outputs": [
    {
     "name": "stdout",
     "output_type": "stream",
     "text": [
      "b'Hello, Tensorflow'\n"
     ]
    }
   ],
   "source": [
    "# tensor = data(상수, 변수)와 연산\n",
    "node1 = tf.constant('Hello, Tensorflow')\n",
    "sess = tf.Session()\n",
    "print(sess.run(node1))"
   ]
  },
  {
   "cell_type": "code",
   "execution_count": 10,
   "id": "74bf0eff",
   "metadata": {},
   "outputs": [
    {
     "name": "stdout",
     "output_type": "stream",
     "text": [
      "[10.0, 20.0, 30.0]\n"
     ]
    }
   ],
   "source": [
    "# 간단한 연산 tensor 그래프\n",
    "node1 = tf.constant(10, dtype=tf.float16)\n",
    "node2 = tf.constant(20, dtype=tf.float16)\n",
    "node3 = tf.add(node1, node2)\n",
    "sess = tf.Session()\n",
    "print(sess.run([node1, node2, node3]))"
   ]
  },
  {
   "cell_type": "code",
   "execution_count": 13,
   "id": "0038da1e",
   "metadata": {},
   "outputs": [
    {
     "data": {
      "text/plain": [
       "[array([1, 2, 3], dtype=int16), array([1., 2., 3.], dtype=float32)]"
      ]
     },
     "execution_count": 13,
     "metadata": {},
     "output_type": "execute_result"
    }
   ],
   "source": [
    "# 타입 변경\n",
    "node1 = tf.constant(np.array([1,2,3]), dtype=tf.int16)\n",
    "node2 = tf.cast(node1, dtype=tf.float32)\n",
    "sess = tf.Session()\n",
    "sess.run([node1, node2])"
   ]
  },
  {
   "cell_type": "code",
   "execution_count": 15,
   "id": "54470785",
   "metadata": {},
   "outputs": [
    {
     "data": {
      "text/plain": [
       "2.0"
      ]
     },
     "execution_count": 15,
     "metadata": {},
     "output_type": "execute_result"
    }
   ],
   "source": [
    "# 평균값 계산 : tf.reduce_mean()\n",
    "data = np.array([1., 2., 3.])\n",
    "tensor = tf.reduce_mean(data)\n",
    "sess = tf.Session()\n",
    "sess.run(tensor)"
   ]
  },
  {
   "cell_type": "code",
   "execution_count": 17,
   "id": "bdd6061d",
   "metadata": {},
   "outputs": [
    {
     "data": {
      "text/plain": [
       "[array([0.12661324], dtype=float32), array([1.0671515], dtype=float32)]"
      ]
     },
     "execution_count": 17,
     "metadata": {},
     "output_type": "execute_result"
    }
   ],
   "source": [
    "# 랜덤값을 갖는 tensor\n",
    "a = tf.random_normal([1]) # 평균0, 표준편차가 1인 난수 실수 2개(정규분포이루는 난수)\n",
    "b = tf.random_normal([1])\n",
    "sess = tf.Session()\n",
    "sess.run([a,b])"
   ]
  },
  {
   "cell_type": "code",
   "execution_count": 20,
   "id": "9afda0d8",
   "metadata": {},
   "outputs": [
    {
     "data": {
      "text/plain": [
       "array([0.5116679], dtype=float32)"
      ]
     },
     "execution_count": 20,
     "metadata": {},
     "output_type": "execute_result"
    }
   ],
   "source": [
    "w = tf.Variable(tf.random.normal([1]))\n",
    "sess = tf.Session()\n",
    "sess.run(tf.global_variables_initializer()) # w변수의 난수 초기화\n",
    "sess.run(w)"
   ]
  },
  {
   "cell_type": "markdown",
   "id": "16e8718b",
   "metadata": {},
   "source": [
    "# 2. tensorflow v1을 이용한 linear regression을 구현\n",
    "## 2.1 입력(독립)변수 x가 1개, 타겟변수 y가 1개"
   ]
  },
  {
   "cell_type": "code",
   "execution_count": 24,
   "id": "8e08b16a",
   "metadata": {},
   "outputs": [
    {
     "name": "stdout",
     "output_type": "stream",
     "text": [
      "0번째 cost:51.893341064453125, W:[-0.69966435], b:[-1.8605034]\n",
      "200번째 cost:0.17249281704425812, W:[1.4812118], b:[-0.09390736]\n",
      "400번째 cost:0.06586617976427078, W:[1.2973596], b:[0.32403183]\n",
      "600번째 cost:0.02515093982219696, W:[1.1837503], b:[0.5822927]\n",
      "800번째 cost:0.009603876620531082, W:[1.1135466], b:[0.7418821]\n",
      "1000번째 cost:0.0036672186106443405, W:[1.0701648], b:[0.84049886]\n",
      "1200번째 cost:0.0014003239339217544, W:[1.0433575], b:[0.9014381]\n",
      "1400번째 cost:0.0005347124533727765, W:[1.0267923], b:[0.93909466]\n",
      "1600번째 cost:0.000204175608814694, W:[1.0165559], b:[0.96236455]\n",
      "1800번째 cost:7.796645513735712e-05, W:[1.0102308], b:[0.9767434]\n",
      "2000번째 cost:2.977029544126708e-05, W:[1.0063218], b:[0.9856289]\n",
      "2200번째 cost:1.1368450941517949e-05, W:[1.0039066], b:[0.9911193]\n",
      "2400번째 cost:4.341121439210838e-06, W:[1.0024141], b:[0.99451226]\n",
      "2600번째 cost:1.6580606825300492e-06, W:[1.001492], b:[0.9966085]\n",
      "2800번째 cost:6.336264277706505e-07, W:[1.0009223], b:[0.99790347]\n",
      "3000번째 cost:2.4232096507148526e-07, W:[1.0005703], b:[0.9987034]\n",
      "3200번째 cost:9.279023061026237e-08, W:[1.0003533], b:[0.9991977]\n",
      "3400번째 cost:3.559425820753859e-08, W:[1.0002187], b:[0.999503]\n",
      "3600번째 cost:1.3692964095923799e-08, W:[1.0001354], b:[0.99969167]\n",
      "3800번째 cost:5.287825732835927e-09, W:[1.0000842], b:[0.9998083]\n",
      "4000번째 cost:2.0622827889837936e-09, W:[1.0000529], b:[0.9998807]\n",
      "4200번째 cost:7.943914970276467e-10, W:[1.0000324], b:[0.9999258]\n",
      "4400번째 cost:3.033401585472717e-10, W:[1.0000204], b:[0.9999541]\n",
      "4600번째 cost:1.3822780420280623e-10, W:[1.0000138], b:[0.9999691]\n",
      "4800번째 cost:5.392545784910219e-11, W:[1.0000087], b:[0.9999809]\n",
      "5000번째 cost:5.328478283606053e-11, W:[1.0000087], b:[0.9999811]\n"
     ]
    }
   ],
   "source": [
    "x = np.array([1,2,3])\n",
    "y = np.array([2,3,4])\n",
    "# weight와 bias(처음엔 랜덤값으로 셋팅, 학습과정에서 변경)\n",
    "W = tf.Variable(tf.random.normal([1]), name='weight')\n",
    "b = tf.Variable(tf.random.normal([1]), name='bias')\n",
    "# Hypothesis : 예측값\n",
    "H = W*x + b\n",
    "# cost function(손실함수 = mse;최소제곱법)\n",
    "cost = tf.reduce_mean(tf.square(H-y))\n",
    "'''\n",
    "학습목적 : cost가 최소가 되는 w,b를 찾아내는 것\n",
    "cost는 2차 함수이므로 곡선그래프. 곡선위 미분값이 줄어드는 방향으로 학습(경사하강)\n",
    "=> GradientDescentOptimizer\n",
    "'''\n",
    "optimizer = tf.train.GradientDescentOptimizer(learning_rate=0.01)\n",
    "train = optimizer.minimize(cost)\n",
    "# Session 생성\n",
    "sess = tf.Session()\n",
    "# w, b 변수 노드에 초기화\n",
    "sess.run(tf.global_variables_initializer())\n",
    "# 5000번 학습 (v2에서는 fit함수)\n",
    "for step in range(5001):\n",
    "    _, cost_val, W_val, b_val = sess.run([train, cost, W, b])\n",
    "    if step%200 == 0:\n",
    "        print(\"{}번째 cost:{}, W:{}, b:{}\".format(step,\n",
    "                                               cost_val,\n",
    "                                               W_val,\n",
    "                                               b_val))"
   ]
  },
  {
   "cell_type": "code",
   "execution_count": 25,
   "id": "254846ef",
   "metadata": {},
   "outputs": [
    {
     "data": {
      "text/plain": [
       "[array([1.0000087], dtype=float32), array([0.9999811], dtype=float32)]"
      ]
     },
     "execution_count": 25,
     "metadata": {},
     "output_type": "execute_result"
    }
   ],
   "source": [
    "# 최종적으로 나온 회귀식 : H = W*x + b\n",
    "sess.run([W, b])"
   ]
  },
  {
   "cell_type": "code",
   "execution_count": 29,
   "id": "43f69b35",
   "metadata": {},
   "outputs": [
    {
     "data": {
      "text/plain": [
       "(1.0000087, 0.9999811)"
      ]
     },
     "execution_count": 29,
     "metadata": {},
     "output_type": "execute_result"
    }
   ],
   "source": [
    "W_, b_ = sess.run([W, b])\n",
    "W_[0], b_[0]"
   ]
  },
  {
   "cell_type": "code",
   "execution_count": 32,
   "id": "99545b75",
   "metadata": {},
   "outputs": [],
   "source": [
    "def predict(x):\n",
    "    return W_[0]*x + b_[0]"
   ]
  },
  {
   "cell_type": "code",
   "execution_count": 33,
   "id": "58d2a8ca",
   "metadata": {},
   "outputs": [
    {
     "name": "stdout",
     "output_type": "stream",
     "text": [
      "입력값은 ?3\n",
      "예측값은 4.000007212162018\n"
     ]
    }
   ],
   "source": [
    "input_x = int(input('입력값은 ?'))\n",
    "print('예측값은', predict(input_x))"
   ]
  },
  {
   "cell_type": "markdown",
   "id": "f4abe452",
   "metadata": {},
   "source": [
    "## 2.2 predict를 위한 placeholder이용\n",
    "- placeholder : 텐서플로우 외부에서 데이터를 입력받는 노드"
   ]
  },
  {
   "cell_type": "code",
   "execution_count": 34,
   "id": "bd936b63",
   "metadata": {},
   "outputs": [
    {
     "data": {
      "text/plain": [
       "array([2., 3., 4.], dtype=float16)"
      ]
     },
     "execution_count": 34,
     "metadata": {},
     "output_type": "execute_result"
    }
   ],
   "source": [
    "# x = np.array([1,2,3])\n",
    "x = tf.placeholder(tf.float16)\n",
    "H = 1*x + 1\n",
    "sess = tf.Session()\n",
    "sess.run(H, feed_dict={x:5})\n",
    "sess.run(H, feed_dict={x:np.array([1,2,3])})"
   ]
  },
  {
   "cell_type": "code",
   "execution_count": 36,
   "id": "9464cd2d",
   "metadata": {},
   "outputs": [
    {
     "name": "stdout",
     "output_type": "stream",
     "text": [
      "0째 : cost:24.221302032470703, W:[1.739087], b:[-0.86695945]\n",
      "200째 : cost:0.09186318516731262, W:[2.1030734], b:[0.44907457]\n",
      "400째 : cost:0.009035510942339897, W:[2.032326], b:[0.82721806]\n",
      "600째 : cost:0.0008887364529073238, W:[2.0101383], b:[0.94581175]\n",
      "800째 : cost:8.740871271584183e-05, W:[2.0031796], b:[0.9830056]\n",
      "1000째 : cost:8.598157364758663e-06, W:[2.0009973], b:[0.9946699]\n",
      "1200째 : cost:8.460785352326639e-07, W:[2.0003126], b:[0.99832845]\n",
      "1400째 : cost:8.314570010270472e-08, W:[2.0000982], b:[0.9994755]\n",
      "1600째 : cost:8.164500187035628e-09, W:[2.0000308], b:[0.9998355]\n",
      "1800째 : cost:8.280153229733855e-10, W:[2.0000098], b:[0.9999481]\n",
      "2000째 : cost:8.86757334228605e-11, W:[2.0000033], b:[0.9999828]\n",
      "2200째 : cost:2.060005464821213e-11, W:[2.0000017], b:[0.99999213]\n",
      "2400째 : cost:2.060005464821213e-11, W:[2.0000017], b:[0.99999213]\n",
      "2600째 : cost:2.060005464821213e-11, W:[2.0000017], b:[0.99999213]\n",
      "2800째 : cost:2.060005464821213e-11, W:[2.0000017], b:[0.99999213]\n",
      "3000째 : cost:2.060005464821213e-11, W:[2.0000017], b:[0.99999213]\n",
      "3200째 : cost:2.060005464821213e-11, W:[2.0000017], b:[0.99999213]\n",
      "3400째 : cost:2.060005464821213e-11, W:[2.0000017], b:[0.99999213]\n",
      "3600째 : cost:2.060005464821213e-11, W:[2.0000017], b:[0.99999213]\n",
      "3800째 : cost:2.060005464821213e-11, W:[2.0000017], b:[0.99999213]\n",
      "4000째 : cost:2.060005464821213e-11, W:[2.0000017], b:[0.99999213]\n",
      "4200째 : cost:2.060005464821213e-11, W:[2.0000017], b:[0.99999213]\n",
      "4400째 : cost:2.060005464821213e-11, W:[2.0000017], b:[0.99999213]\n",
      "4600째 : cost:2.060005464821213e-11, W:[2.0000017], b:[0.99999213]\n",
      "4800째 : cost:2.060005464821213e-11, W:[2.0000017], b:[0.99999213]\n",
      "5000째 : cost:2.060005464821213e-11, W:[2.0000017], b:[0.99999213]\n"
     ]
    }
   ],
   "source": [
    "# H = 2x+1\n",
    "x_data = np.array([1,2,3,5,8])\n",
    "y_data = np.array([3,5,7,11,17])\n",
    "# placeholder 설정 (입력변수 x, 타겟변수 y)\n",
    "x = tf.placeholder(dtype=tf.float32)\n",
    "y = tf.placeholder(dtype=tf.float32)\n",
    "# W, b\n",
    "W = tf.Variable(tf.random.normal([1]))\n",
    "b = tf.Variable(tf.random.normal([1]))\n",
    "# Hypothesis(예측값)\n",
    "H = W*x + b\n",
    "# 손실함수\n",
    "cost = tf.reduce_mean(tf.square(H-y))\n",
    "# 경사하강법\n",
    "train = tf.train.GradientDescentOptimizer(learning_rate=0.01).minimize(cost)\n",
    "# Session 객체 생성\n",
    "sess = tf.Session()\n",
    "sess.run(tf.global_variables_initializer()) # W, b 초기화\n",
    "# 5000번 학습\n",
    "for step in range(5001):\n",
    "    _, cost_val, W_val, b_val = sess.run([train, cost, W, b], \n",
    "                                         feed_dict={x:x_data,\n",
    "                                                   y:y_data})\n",
    "    if step%200 == 0:\n",
    "        print('{}째 : cost:{}, W:{}, b:{}'.format(step, cost_val, W_val, b_val))"
   ]
  },
  {
   "cell_type": "code",
   "execution_count": 37,
   "id": "aed7a87e",
   "metadata": {},
   "outputs": [
    {
     "data": {
      "text/plain": [
       "array([11.000001], dtype=float32)"
      ]
     },
     "execution_count": 37,
     "metadata": {},
     "output_type": "execute_result"
    }
   ],
   "source": [
    "# 예측하기\n",
    "sess.run(H, feed_dict={x:5})"
   ]
  },
  {
   "cell_type": "code",
   "execution_count": 39,
   "id": "c5662289",
   "metadata": {},
   "outputs": [
    {
     "data": {
      "text/plain": [
       "array([11.000001, 13.000002, 15.000004], dtype=float32)"
      ]
     },
     "execution_count": 39,
     "metadata": {},
     "output_type": "execute_result"
    }
   ],
   "source": [
    "sess.run(H, feed_dict={x:np.array([5, 6, 7])})"
   ]
  },
  {
   "cell_type": "markdown",
   "id": "08757f26",
   "metadata": {},
   "source": [
    "## 2.3 scale이 다른 데이터의 linear regression 구현(scale조정X)"
   ]
  },
  {
   "cell_type": "code",
   "execution_count": 40,
   "id": "2525f3c5",
   "metadata": {},
   "outputs": [
    {
     "name": "stdout",
     "output_type": "stream",
     "text": [
      "0째 : cost:5591.599609375, W:[7.3931284], b:[1.6516212]\n",
      "200째 : cost:83.79957580566406, W:[10.165374], b:[-0.35719]\n",
      "400째 : cost:83.51139831542969, W:[10.26112], b:[-1.06612]\n",
      "600째 : cost:83.48500061035156, W:[10.29012], b:[-1.2808503]\n",
      "800째 : cost:83.4825439453125, W:[10.298904], b:[-1.3458896]\n",
      "1000째 : cost:83.48233032226562, W:[10.301565], b:[-1.3655903]\n",
      "1200째 : cost:83.4822998046875, W:[10.302371], b:[-1.371557]\n",
      "1400째 : cost:83.48231506347656, W:[10.302615], b:[-1.3733642]\n",
      "1600째 : cost:83.48231506347656, W:[10.302689], b:[-1.3739114]\n",
      "1800째 : cost:83.48231506347656, W:[10.3027115], b:[-1.3740755]\n",
      "2000째 : cost:83.48230743408203, W:[10.302717], b:[-1.3741244]\n",
      "2200째 : cost:83.48233032226562, W:[10.302718], b:[-1.3741326]\n",
      "2400째 : cost:83.48233032226562, W:[10.302718], b:[-1.3741326]\n",
      "2600째 : cost:83.48233032226562, W:[10.302718], b:[-1.3741326]\n",
      "2800째 : cost:83.48233032226562, W:[10.302718], b:[-1.3741326]\n",
      "3000째 : cost:83.48233032226562, W:[10.302718], b:[-1.3741326]\n",
      "3200째 : cost:83.48233032226562, W:[10.302718], b:[-1.3741326]\n",
      "3400째 : cost:83.48233032226562, W:[10.302718], b:[-1.3741326]\n",
      "3600째 : cost:83.48233032226562, W:[10.302718], b:[-1.3741326]\n",
      "3800째 : cost:83.48233032226562, W:[10.302718], b:[-1.3741326]\n",
      "4000째 : cost:83.48233032226562, W:[10.302718], b:[-1.3741326]\n",
      "4200째 : cost:83.48233032226562, W:[10.302718], b:[-1.3741326]\n",
      "4400째 : cost:83.48233032226562, W:[10.302718], b:[-1.3741326]\n",
      "4600째 : cost:83.48233032226562, W:[10.302718], b:[-1.3741326]\n",
      "4800째 : cost:83.48233032226562, W:[10.302718], b:[-1.3741326]\n",
      "5000째 : cost:83.48233032226562, W:[10.302718], b:[-1.3741326]\n"
     ]
    }
   ],
   "source": [
    "x_data = np.array([1,2,5,8,10])\n",
    "y_data = np.array([3,15,68,80,95])\n",
    "# placeholder 설정 (입력변수 x, 타겟변수 y)\n",
    "x = tf.placeholder(dtype=tf.float32)\n",
    "y = tf.placeholder(dtype=tf.float32)\n",
    "# W, b\n",
    "W = tf.Variable(tf.random.normal([1]))\n",
    "b = tf.Variable(tf.random.normal([1]))\n",
    "# Hypothesis(예측값)\n",
    "H = W*x + b\n",
    "# 손실함수\n",
    "cost = tf.reduce_mean(tf.square(H-y))\n",
    "# 경사하강법\n",
    "train = tf.train.GradientDescentOptimizer(learning_rate=0.01).minimize(cost)\n",
    "# Session 객체 생성\n",
    "sess = tf.Session()\n",
    "sess.run(tf.global_variables_initializer()) # W, b 초기화\n",
    "# 3000번 학습\n",
    "for step in range(3001):\n",
    "    _, cost_val, W_val, b_val = sess.run([train, cost, W, b], \n",
    "                                         feed_dict={x:x_data,\n",
    "                                                   y:y_data})\n",
    "    if step%200 == 0:\n",
    "        print('{}째 : cost:{}, W:{}, b:{}'.format(step, cost_val, W_val, b_val))"
   ]
  },
  {
   "cell_type": "code",
   "execution_count": 41,
   "id": "11621444",
   "metadata": {},
   "outputs": [],
   "source": [
    "# cost값이 멈춤 : local 최소값"
   ]
  },
  {
   "cell_type": "markdown",
   "id": "a29ee411",
   "metadata": {},
   "source": [
    "## 2.4 scale이 다른 데이터의 linear regression을 구현(scale 조정 O)\n",
    "### scale을 맞추기 : 모든 데이터를 일정 범위내로 조정\n",
    "- normalization(정규화)\n",
    "                     X - Xmin\n",
    "    normalization = ------------\n",
    "                     Xmax - Xmin\n",
    "        * 위의 식을 써도 되지만 라이브러리를 씀(sklearn.preprocessing.MinMaxScaler이용)\n",
    "        \n",
    "- standardization(표준화)\n",
    "                        X - Xmean(평균)\n",
    "    standardization = -------------------\n",
    "                          Xstd(표준편차)\n",
    "        * 위의 식을 써도 되지만 라이브러리를 씀(sklearn.preprocessing.StandardScaler이용)                      "
   ]
  },
  {
   "cell_type": "code",
   "execution_count": 43,
   "id": "f10831f6",
   "metadata": {},
   "outputs": [
    {
     "name": "stdout",
     "output_type": "stream",
     "text": [
      "[0.         0.11111111 0.44444444 0.77777778 1.        ]\n",
      "[0.         0.13043478 0.70652174 0.83695652 1.        ]\n"
     ]
    }
   ],
   "source": [
    "# 라이브러리를 쓰지 않고 정규화\n",
    "x_data = np.array([1,2,5,8,10])\n",
    "y_data = np.array([3,15,68,80,95])\n",
    "scaled_x_data = (x_data - x_data.min() ) / (x_data.max() - x_data.min())\n",
    "scaled_y_data = (y_data - y_data.min() ) / (y_data.max() - y_data.min())\n",
    "print(scaled_x_data)\n",
    "print(scaled_y_data)"
   ]
  },
  {
   "cell_type": "code",
   "execution_count": 49,
   "id": "8b79dfdd",
   "metadata": {},
   "outputs": [
    {
     "data": {
      "text/plain": [
       "array([[ 1.        ,  3.        ,  0.        ,  0.        ],\n",
       "       [ 2.        , 15.        ,  0.11111111,  0.13043478],\n",
       "       [ 5.        , 68.        ,  0.44444444,  0.70652174],\n",
       "       [ 8.        , 80.        ,  0.77777778,  0.83695652],\n",
       "       [10.        , 95.        ,  1.        ,  1.        ]])"
      ]
     },
     "execution_count": 49,
     "metadata": {},
     "output_type": "execute_result"
    }
   ],
   "source": [
    "# 라이브러리를 쓰고 정규화 (MinMaxScaler이용)\n",
    "x_data = np.array([1,2,5,8,10]).reshape(-1, 1)\n",
    "y_data = np.array([3,15,68,80,95]).reshape(-1, 1)\n",
    "# np.column_stack([x_data, y_data])\n",
    "from sklearn.preprocessing import MinMaxScaler\n",
    "scaler_x = MinMaxScaler() # x_data를 정규화시킬 객체\n",
    "# scaled_x.fit(x_data)\n",
    "# scaled_x_data = scaler_x.transform(x_data)\n",
    "scaled_x_data = scaler_x.fit_transform(x_data)\n",
    "scaled_y = MinMaxScaler() # y_data를 정규화시킬 객체\n",
    "scaled_y_data = scaled_y.fit_transform(y_data)\n",
    "np.column_stack([x_data, y_data, scaled_x_data, scaled_y_data])"
   ]
  },
  {
   "cell_type": "code",
   "execution_count": 53,
   "id": "2b96df17",
   "metadata": {},
   "outputs": [
    {
     "name": "stdout",
     "output_type": "stream",
     "text": [
      "0째 : cost:0.7729796171188354, W:[-0.32300463], b:[1.3953488]\n",
      "600째 : cost:0.31414806842803955, W:[-0.31688064], b:[0.90460443]\n",
      "1200째 : cost:0.22629372775554657, W:[-0.18151951], b:[0.7240756]\n",
      "1800째 : cost:0.17282530665397644, W:[-0.03473401], b:[0.6221593]\n",
      "2400째 : cost:0.13304570317268372, W:[0.09940705], b:[0.5458536]\n",
      "3000째 : cost:0.10300058126449585, W:[0.21750323], b:[0.48225683]\n",
      "3600째 : cost:0.08028483390808105, W:[0.32051873], b:[0.4275726]\n",
      "4200째 : cost:0.06310941278934479, W:[0.41016778], b:[0.38016003]\n",
      "4800째 : cost:0.05012301355600357, W:[0.4881376], b:[0.33896348]\n",
      "5400째 : cost:0.04030389338731766, W:[0.5559397], b:[0.3031483]\n",
      "6000째 : cost:0.03287959471344948, W:[0.6148973], b:[0.272007]\n",
      "6600째 : cost:0.027265984565019608, W:[0.66616434], b:[0.2449284]\n",
      "7200째 : cost:0.023021550849080086, W:[0.7107427], b:[0.22138256]\n",
      "7800째 : cost:0.019812321290373802, W:[0.7495054], b:[0.20090862]\n",
      "8400째 : cost:0.01738579012453556, W:[0.78321147], b:[0.18310548]\n",
      "9000째 : cost:0.015551088377833366, W:[0.8125201], b:[0.167625]\n",
      "9600째 : cost:0.014163871295750141, W:[0.83800507], b:[0.15416409]\n",
      "10200째 : cost:0.01311496365815401, W:[0.86016566], b:[0.14245911]\n",
      "10800째 : cost:0.012321891263127327, W:[0.8794351], b:[0.13228124]\n",
      "11400째 : cost:0.01172223687171936, W:[0.89619094], b:[0.12343105]\n",
      "12000째 : cost:0.011268837377429008, W:[0.91076076], b:[0.11573543]\n"
     ]
    }
   ],
   "source": [
    "# placeholder 설정 (입력변수 x, 타겟변수 y)\n",
    "x = tf.placeholder(dtype=tf.float32)\n",
    "y = tf.placeholder(dtype=tf.float32)\n",
    "# W, b\n",
    "W = tf.Variable(tf.random.normal([1]))\n",
    "b = tf.Variable(tf.random.normal([1]))\n",
    "# Hypothesis(예측값)\n",
    "H = W*x + b\n",
    "# 손실함수\n",
    "cost = tf.reduce_mean(tf.square(H-y))\n",
    "# 경사하강법\n",
    "train = tf.train.GradientDescentOptimizer(learning_rate=0.001).minimize(cost)\n",
    "# Session 객체 생성\n",
    "sess = tf.Session()\n",
    "sess.run(tf.global_variables_initializer()) # W, b 초기화\n",
    "# 12000번 학습\n",
    "for step in range(12001):\n",
    "    _, cost_val, W_val, b_val = sess.run([train, cost, W, b], \n",
    "                                         feed_dict={x:scaled_x_data,\n",
    "                                                   y:scaled_y_data})\n",
    "    if step%600 == 0:\n",
    "        print('{}째 : cost:{}, W:{}, b:{}'.format(step, cost_val, W_val, b_val))"
   ]
  },
  {
   "cell_type": "code",
   "execution_count": 59,
   "id": "caddbc04",
   "metadata": {},
   "outputs": [
    {
     "name": "stdout",
     "output_type": "stream",
     "text": [
      "모델 예측을 위한 입력:\n",
      "[[0.11111111]\n",
      " [0.22222222]]\n",
      "모델 예측 결과 :\n",
      "[[0.21693107]\n",
      " [0.3181267 ]]\n",
      "결과 :\n",
      "[[22.957659]\n",
      " [32.26766 ]]\n"
     ]
    }
   ],
   "source": [
    "# 예측 : 모델에 scale 조정된 값으로 예측=>scale 조정된 y값\n",
    "scaled_input = scaler_x.transform(np.array([[2],\n",
    "                                            [3]]))\n",
    "print('모델 예측을 위한 입력:', scaled_input, sep='\\n')\n",
    "scaled_output = sess.run(H, feed_dict={x:scaled_input})\n",
    "print('모델 예측 결과 :', scaled_output, sep='\\n')\n",
    "print('결과 :', scaled_y.inverse_transform(scaled_output), sep='\\n')"
   ]
  },
  {
   "cell_type": "code",
   "execution_count": 63,
   "id": "1eeef4ad",
   "metadata": {},
   "outputs": [],
   "source": [
    "# x_data들의 예측값\n",
    "scaled_y_hat = sess.run(H, feed_dict={x:scaled_x_data})\n",
    "y_hat = scaled_y.inverse_transform(scaled_y_hat)"
   ]
  },
  {
   "cell_type": "code",
   "execution_count": 64,
   "id": "f3a852c2",
   "metadata": {},
   "outputs": [
    {
     "data": {
      "text/plain": [
       "[<matplotlib.lines.Line2D at 0x18fe0092cb0>]"
      ]
     },
     "execution_count": 64,
     "metadata": {},
     "output_type": "execute_result"
    },
    {
     "data": {
      "image/png": "[encoded data removed]",
      "text/plain": [
       "<Figure size 640x480 with 1 Axes>"
      ]
     },
     "metadata": {},
     "output_type": "display_data"
    }
   ],
   "source": [
    "import matplotlib.pyplot as plt\n",
    "plt.plot(x_data, y_data, 'r')\n",
    "plt.plot(x_data, y_hat, 'b')"
   ]
  },
  {
   "cell_type": "code",
   "execution_count": 68,
   "id": "bd23dcd4",
   "metadata": {},
   "outputs": [
    {
     "name": "stdout",
     "output_type": "stream",
     "text": [
      "[[ 1  3]\n",
      " [ 2 15]\n",
      " [ 5 68]\n",
      " [ 8 80]\n",
      " [10 95]]\n",
      "[[ 0.         -1.34819316]\n",
      " [ 0.11111111 -1.01936556]\n",
      " [ 0.44444444  0.43295634]\n",
      " [ 0.77777778  0.76178394]\n",
      " [ 1.          1.17281844]]\n"
     ]
    }
   ],
   "source": [
    "# 라이브러리를 사용하여 표준화(StandardScaler이용)\n",
    "x_data = np.array([1,2,5,8,10]).reshape(-1, 1)\n",
    "y_data = np.array([3,15,68,80,95]).reshape(-1, 1)\n",
    "\n",
    "from sklearn.preprocessing import StandardScaler\n",
    "scaler_x = StandardScaler() # x_data를 표준화할 객체\n",
    "scaled_y = StandardScaler() # y_data를 표준화할 객체\n",
    "scaler_x_data = scaler_x.fit_transform(x_data)\n",
    "scaled_y_data = scaled_y.fit_transform(y_data)\n",
    "print(np.column_stack([x_data, y_data]))\n",
    "print(np.column_stack([scaled_x_data, scaled_y_data]))"
   ]
  },
  {
   "cell_type": "code",
   "execution_count": 69,
   "id": "aa55e335",
   "metadata": {},
   "outputs": [
    {
     "name": "stdout",
     "output_type": "stream",
     "text": [
      "0째 : cost:2.1816773414611816, W:[-0.5257124], b:[-0.6194176]\n",
      "600째 : cost:0.8974326252937317, W:[0.15532404], b:[-0.1613238]\n",
      "1200째 : cost:0.6554546356201172, W:[0.52937603], b:[-0.1759866]\n",
      "1800째 : cost:0.5089616775512695, W:[0.8058426], b:[-0.28110492]\n",
      "2400째 : cost:0.40002164244651794, W:[1.0353307], b:[-0.3931683]\n",
      "3000째 : cost:0.31774240732192993, W:[1.232441], b:[-0.49523306]\n",
      "3600째 : cost:0.2555355429649353, W:[1.4032899], b:[-0.5850159]\n",
      "4200째 : cost:0.20850077271461487, W:[1.5517282], b:[-0.6633173]\n",
      "4800째 : cost:0.17293736338615417, W:[1.6807752], b:[-0.7314552]\n",
      "5400째 : cost:0.1460476815700531, W:[1.792981], b:[-0.7907158]\n",
      "6000째 : cost:0.1257161945104599, W:[1.8905476], b:[-0.8422481]\n",
      "6600째 : cost:0.11034344136714935, W:[1.9753857], b:[-0.8870581]\n",
      "7200째 : cost:0.09872005134820938, W:[2.049156], b:[-0.9260223]\n",
      "7800째 : cost:0.089931420981884, W:[2.113303], b:[-0.95990384]\n",
      "8400째 : cost:0.08328636735677719, W:[2.1690807], b:[-0.9893652]\n",
      "9000째 : cost:0.07826204597949982, W:[2.2175817], b:[-1.0149832]\n",
      "9600째 : cost:0.07446305453777313, W:[2.2597563], b:[-1.0372589]\n",
      "10200째 : cost:0.07159063220024109, W:[2.2964287], b:[-1.0566288]\n",
      "10800째 : cost:0.0694187730550766, W:[2.3283167], b:[-1.0734718]\n",
      "11400째 : cost:0.06777660548686981, W:[2.3560452], b:[-1.0881171]\n",
      "12000째 : cost:0.06653501093387604, W:[2.3801548], b:[-1.1008521]\n"
     ]
    }
   ],
   "source": [
    "# placeholder 설정 (입력변수 x, 타겟변수 y)\n",
    "x = tf.placeholder(dtype=tf.float32)\n",
    "y = tf.placeholder(dtype=tf.float32)\n",
    "# W, b\n",
    "W = tf.Variable(tf.random.normal([1]))\n",
    "b = tf.Variable(tf.random.normal([1]))\n",
    "# Hypothesis(예측값)\n",
    "H = W*x + b\n",
    "# 손실함수\n",
    "cost = tf.reduce_mean(tf.square(H-y))\n",
    "# 경사하강법\n",
    "train = tf.train.GradientDescentOptimizer(learning_rate=0.001).minimize(cost)\n",
    "# Session 객체 생성\n",
    "sess = tf.Session()\n",
    "sess.run(tf.global_variables_initializer()) # W, b 초기화\n",
    "# 12000번 학습\n",
    "for step in range(12001):\n",
    "    _, cost_val, W_val, b_val = sess.run([train, cost, W, b], \n",
    "                                         feed_dict={x:scaled_x_data,\n",
    "                                                   y:scaled_y_data})\n",
    "    if step%600 == 0:\n",
    "        print('{}째 : cost:{}, W:{}, b:{}'.format(step, cost_val, W_val, b_val))"
   ]
  },
  {
   "cell_type": "code",
   "execution_count": 70,
   "id": "802d3be9",
   "metadata": {},
   "outputs": [
    {
     "data": {
      "text/plain": [
       "[<matplotlib.lines.Line2D at 0x18fe2300430>]"
      ]
     },
     "execution_count": 70,
     "metadata": {},
     "output_type": "execute_result"
    },
    {
     "data": {
      "image/png": "[encoded data removed]",
      "text/plain": [
       "<Figure size 640x480 with 1 Axes>"
      ]
     },
     "metadata": {},
     "output_type": "display_data"
    }
   ],
   "source": [
    "# x_data들의 예측값\n",
    "scaled_y_hat = sess.run(H, feed_dict={x:scaled_x_data})\n",
    "y_hat = scaled_y.inverse_transform(scaled_y_hat)\n",
    "import matplotlib.pyplot as plt\n",
    "plt.plot(x_data, y_data, 'r')\n",
    "plt.plot(x_data, y_hat, 'b')"
   ]
  },
  {
   "cell_type": "code",
   "execution_count": null,
   "id": "e933cded",
   "metadata": {},
   "outputs": [],
   "source": []
  },
  {
   "cell_type": "code",
   "execution_count": null,
   "id": "a12e6bfe",
   "metadata": {},
   "outputs": [],
   "source": []
  },
  {
   "cell_type": "code",
   "execution_count": null,
   "id": "dd8bb95e",
   "metadata": {},
   "outputs": [],
   "source": []
  },
  {
   "cell_type": "code",
   "execution_count": null,
   "id": "19509715",
   "metadata": {},
   "outputs": [],
   "source": []
  },
  {
   "cell_type": "code",
   "execution_count": null,
   "id": "8c0ed2ec",
   "metadata": {},
   "outputs": [],
   "source": []
  },
  {
   "cell_type": "code",
   "execution_count": null,
   "id": "c7b60214",
   "metadata": {},
   "outputs": [],
   "source": []
  },
  {
   "cell_type": "code",
   "execution_count": null,
   "id": "09008cd6",
   "metadata": {},
   "outputs": [],
   "source": []
  },
  {
   "cell_type": "code",
   "execution_count": null,
   "id": "3b5da324",
   "metadata": {},
   "outputs": [],
   "source": []
  },
  {
   "cell_type": "code",
   "execution_count": null,
   "id": "c3f736a7",
   "metadata": {},
   "outputs": [],
   "source": []
  },
  {
   "cell_type": "code",
   "execution_count": null,
   "id": "fba65919",
   "metadata": {},
   "outputs": [],
   "source": []
  },
  {
   "cell_type": "code",
   "execution_count": null,
   "id": "01cd59b1",
   "metadata": {},
   "outputs": [],
   "source": []
  },
  {
   "cell_type": "code",
   "execution_count": null,
   "id": "0b8067e0",
   "metadata": {},
   "outputs": [],
   "source": []
  },
  {
   "cell_type": "code",
   "execution_count": null,
   "id": "9766de81",
   "metadata": {},
   "outputs": [],
   "source": []
  }
 ],
 "metadata": {
  "kernelspec": {
   "display_name": "ml-dl-nlp",
   "language": "python",
   "name": "ml-dl-nlp"
  },
  "language_info": {
   "codemirror_mode": {
    "name": "ipython",
    "version": 3
   },
   "file_extension": ".py",
   "mimetype": "text/x-python",
   "name": "python",
   "nbconvert_exporter": "python",
   "pygments_lexer": "ipython3",
   "version": "3.10.18"
  },
  "toc": {
   "base_numbering": 1,
   "nav_menu": {},
   "number_sections": false,
   "sideBar": true,
   "skip_h1_title": false,
   "title_cell": "Table of Contents",
   "title_sidebar": "Contents",
   "toc_cell": false,
   "toc_position": {},
   "toc_section_display": true,
   "toc_window_display": false
  }
 },
 "nbformat": 4,
 "nbformat_minor": 5
}
