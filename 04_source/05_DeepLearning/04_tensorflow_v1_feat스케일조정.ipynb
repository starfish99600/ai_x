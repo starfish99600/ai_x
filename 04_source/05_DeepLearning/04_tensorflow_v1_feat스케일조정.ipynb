{
 "cells": [
  {
   "cell_type": "code",
   "execution_count": 1,
   "id": "35ef0957",
   "metadata": {},
   "outputs": [
    {
     "data": {
      "text/html": [
       "\n",
       "<style>\n",
       "div.container{width:85% !important;}\n",
       "div.cell.code_cell.rendered{width:100%;}\n",
       "div.input_prompt{padding:0px;}\n",
       "div.CodeMirror {font-family:Consolas; font-size:12pt;}\n",
       "div.output {font-size:12pt; font-weight:bold;}\n",
       "div.input {font-family:Consolas; font-size:12pt;}\n",
       "div.prompt {min-width:70px;}\n",
       "div#toc-wrapper{padding-top:120px;}\n",
       "div.text_cell_render ul li{font-size:12pt;padding:5px;}\n",
       "table.dataframe{font-size:12px;}\n",
       "</style>\n"
      ],
      "text/plain": [
       "<IPython.core.display.HTML object>"
      ]
     },
     "metadata": {},
     "output_type": "display_data"
    }
   ],
   "source": [
    "from IPython.display import display, HTML\n",
    "display(HTML(\"\"\"\n",
    "<style>\n",
    "div.container{width:85% !important;}\n",
    "div.cell.code_cell.rendered{width:100%;}\n",
    "div.input_prompt{padding:0px;}\n",
    "div.CodeMirror {font-family:Consolas; font-size:12pt;}\n",
    "div.output {font-size:12pt; font-weight:bold;}\n",
    "div.input {font-family:Consolas; font-size:12pt;}\n",
    "div.prompt {min-width:70px;}\n",
    "div#toc-wrapper{padding-top:120px;}\n",
    "div.text_cell_render ul li{font-size:12pt;padding:5px;}\n",
    "table.dataframe{font-size:12px;}\n",
    "</style>\n",
    "\"\"\"))"
   ]
  },
  {
   "cell_type": "markdown",
   "id": "edf1492b",
   "metadata": {},
   "source": [
    "# 1. tensorflow v.2.xx에서 v1사용하기"
   ]
  },
  {
   "cell_type": "code",
   "execution_count": 2,
   "id": "55b1d340",
   "metadata": {},
   "outputs": [
    {
     "name": "stdout",
     "output_type": "stream",
     "text": [
      "WARNING:tensorflow:From C:\\Users\\Admin\\anaconda3\\envs\\ml-dl-nlp\\lib\\site-packages\\tensorflow\\python\\compat\\v2_compat.py:107: disable_resource_variables (from tensorflow.python.ops.variable_scope) is deprecated and will be removed in a future version.\n",
      "Instructions for updating:\n",
      "non-resource variables are not supported in the long term\n"
     ]
    }
   ],
   "source": [
    "import tensorflow.compat.v1 as tf\n",
    "tf.disable_v2_behavior() # v2를 비활성화하고 v1활성화\n",
    "import numpy as np\n",
    "import pandas as pd"
   ]
  },
  {
   "cell_type": "markdown",
   "id": "bb86f5cc",
   "metadata": {},
   "source": [
    "## Tensorflow\n",
    "- 데이터 흐름 그래프(tensor객체의 흐름)\n",
    "- 이 그래프는 node(상수, 변수, 연산)와 edge로 구성\n",
    "- sess = tf.Session()으로 실행\n",
    "- sess.run()을 통해 값을 확인"
   ]
  },
  {
   "cell_type": "code",
   "execution_count": 3,
   "id": "2a7f7bff",
   "metadata": {},
   "outputs": [
    {
     "name": "stdout",
     "output_type": "stream",
     "text": [
      "b'Hello, Tensorflow'\n"
     ]
    }
   ],
   "source": [
    "# tensor = data(상수, 변수)와 연산\n",
    "node1 = tf.constant('Hello, Tensorflow')\n",
    "sess = tf.Session()\n",
    "print(sess.run(node1))"
   ]
  },
  {
   "cell_type": "code",
   "execution_count": 4,
   "id": "74bf0eff",
   "metadata": {},
   "outputs": [
    {
     "name": "stdout",
     "output_type": "stream",
     "text": [
      "[10.0, 20.0, 30.0]\n"
     ]
    }
   ],
   "source": [
    "# 간단한 연산 tensor 그래프\n",
    "node1 = tf.constant(10, dtype=tf.float16)\n",
    "node2 = tf.constant(20, dtype=tf.float16)\n",
    "node3 = tf.add(node1, node2)\n",
    "sess = tf.Session()\n",
    "print(sess.run([node1, node2, node3]))"
   ]
  },
  {
   "cell_type": "code",
   "execution_count": 5,
   "id": "0038da1e",
   "metadata": {},
   "outputs": [
    {
     "data": {
      "text/plain": [
       "[array([1, 2, 3], dtype=int16), array([1., 2., 3.], dtype=float32)]"
      ]
     },
     "execution_count": 5,
     "metadata": {},
     "output_type": "execute_result"
    }
   ],
   "source": [
    "# 타입 변경\n",
    "node1 = tf.constant(np.array([1,2,3]), dtype=tf.int16)\n",
    "node2 = tf.cast(node1, dtype=tf.float32)\n",
    "sess = tf.Session()\n",
    "sess.run([node1, node2])"
   ]
  },
  {
   "cell_type": "code",
   "execution_count": 6,
   "id": "54470785",
   "metadata": {},
   "outputs": [
    {
     "data": {
      "text/plain": [
       "2.0"
      ]
     },
     "execution_count": 6,
     "metadata": {},
     "output_type": "execute_result"
    }
   ],
   "source": [
    "# 평균값 계산 : tf.reduce_mean()\n",
    "data = np.array([1., 2., 3.])\n",
    "tensor = tf.reduce_mean(data)\n",
    "sess = tf.Session()\n",
    "sess.run(tensor)"
   ]
  },
  {
   "cell_type": "code",
   "execution_count": 7,
   "id": "bdd6061d",
   "metadata": {},
   "outputs": [
    {
     "data": {
      "text/plain": [
       "[array([1.2421035], dtype=float32), array([1.0867627], dtype=float32)]"
      ]
     },
     "execution_count": 7,
     "metadata": {},
     "output_type": "execute_result"
    }
   ],
   "source": [
    "# 랜덤값을 갖는 tensor\n",
    "a = tf.random_normal([1]) # 평균0, 표준편차가 1인 난수 실수 2개(정규분포이루는 난수)\n",
    "b = tf.random_normal([1])\n",
    "sess = tf.Session()\n",
    "sess.run([a,b])"
   ]
  },
  {
   "cell_type": "code",
   "execution_count": 8,
   "id": "9afda0d8",
   "metadata": {},
   "outputs": [
    {
     "data": {
      "text/plain": [
       "array([-1.1711673], dtype=float32)"
      ]
     },
     "execution_count": 8,
     "metadata": {},
     "output_type": "execute_result"
    }
   ],
   "source": [
    "w = tf.Variable(tf.random.normal([1]))\n",
    "sess = tf.Session()\n",
    "sess.run(tf.global_variables_initializer()) # w변수의 난수 초기화\n",
    "sess.run(w)"
   ]
  },
  {
   "cell_type": "markdown",
   "id": "16e8718b",
   "metadata": {},
   "source": [
    "# 2. tensorflow v1을 이용한 linear regression을 구현\n",
    "## 2.1 입력(독립)변수 x가 1개, 타겟변수 y가 1개"
   ]
  },
  {
   "cell_type": "code",
   "execution_count": 9,
   "id": "8e08b16a",
   "metadata": {},
   "outputs": [
    {
     "name": "stdout",
     "output_type": "stream",
     "text": [
      "0번째 cost:27.61713218688965, W:[-0.22573808], b:[-1.1179752]\n",
      "200번째 cost:0.0963129922747612, W:[1.359578], b:[0.18259457]\n",
      "400번째 cost:0.036777012050151825, W:[1.2221974], b:[0.4948931]\n",
      "600번째 cost:0.014043229632079601, W:[1.1373043], b:[0.6878749]\n",
      "800번째 cost:0.005362400785088539, W:[1.0848459], b:[0.8071256]\n",
      "1000번째 cost:0.002047623274847865, W:[1.0524296], b:[0.8808153]\n",
      "1200번째 cost:0.0007818939629942179, W:[1.0323985], b:[0.9263507]\n",
      "1400번째 cost:0.00029856545734219253, W:[1.0200201], b:[0.9544891]\n",
      "1600번째 cost:0.00011400579387554899, W:[1.0123713], b:[0.9718772]\n",
      "1800번째 cost:4.3531545088626444e-05, W:[1.0076445], b:[0.98262215]\n",
      "2000번째 cost:1.6622756447759457e-05, W:[1.0047239], b:[0.9892614]\n",
      "2200번째 cost:6.347152520902455e-06, W:[1.0029191], b:[0.99336433]\n",
      "2400번째 cost:2.4242519884865033e-06, W:[1.001804], b:[0.99589914]\n",
      "2600번째 cost:9.261227091883484e-07, W:[1.001115], b:[0.99746525]\n",
      "2800번째 cost:3.5417806998339074e-07, W:[1.0006897], b:[0.9984326]\n",
      "3000번째 cost:1.3553254518683389e-07, W:[1.0004264], b:[0.9990303]\n",
      "3200번째 cost:5.196828212206128e-08, W:[1.0002643], b:[0.9993996]\n",
      "3400번째 cost:1.9972981490923303e-08, W:[1.000164], b:[0.99962777]\n",
      "3600번째 cost:7.71308350522304e-09, W:[1.000102], b:[0.9997688]\n",
      "3800번째 cost:2.9638680398846873e-09, W:[1.0000633], b:[0.9998567]\n",
      "4000번째 cost:1.1722486314980074e-09, W:[1.0000395], b:[0.99990964]\n",
      "4200번째 cost:4.404370201882557e-10, W:[1.0000243], b:[0.9999447]\n",
      "4400번째 cost:1.8401162538150828e-10, W:[1.0000159], b:[0.9999644]\n",
      "4600번째 cost:8.186399474974237e-11, W:[1.0000107], b:[0.99997634]\n",
      "4800번째 cost:5.328478283606053e-11, W:[1.0000087], b:[0.9999811]\n",
      "5000번째 cost:5.328478283606053e-11, W:[1.0000087], b:[0.9999811]\n"
     ]
    }
   ],
   "source": [
    "x = np.array([1,2,3])\n",
    "y = np.array([2,3,4])\n",
    "# weight와 bias(처음엔 랜덤값으로 셋팅, 학습과정에서 변경)\n",
    "W = tf.Variable(tf.random.normal([1]), name='weight')\n",
    "b = tf.Variable(tf.random.normal([1]), name='bias')\n",
    "# Hypothesis : 예측값\n",
    "H = W*x + b\n",
    "# cost function(손실함수 = mse;최소제곱법)\n",
    "cost = tf.reduce_mean(tf.square(H-y))\n",
    "'''\n",
    "학습목적 : cost가 최소가 되는 w,b를 찾아내는 것\n",
    "cost는 2차 함수이므로 곡선그래프. 곡선위 미분값이 줄어드는 방향으로 학습(경사하강)\n",
    "=> GradientDescentOptimizer\n",
    "'''\n",
    "optimizer = tf.train.GradientDescentOptimizer(learning_rate=0.01)\n",
    "train = optimizer.minimize(cost)\n",
    "# Session 생성\n",
    "sess = tf.Session()\n",
    "# w, b 변수 노드에 초기화\n",
    "sess.run(tf.global_variables_initializer())\n",
    "# 5000번 학습 (v2에서는 fit함수)\n",
    "for step in range(5001):\n",
    "    _, cost_val, W_val, b_val = sess.run([train, cost, W, b])\n",
    "    if step%200 == 0:\n",
    "        print(\"{}번째 cost:{}, W:{}, b:{}\".format(step,\n",
    "                                               cost_val,\n",
    "                                               W_val,\n",
    "                                               b_val))"
   ]
  },
  {
   "cell_type": "code",
   "execution_count": 10,
   "id": "254846ef",
   "metadata": {},
   "outputs": [
    {
     "data": {
      "text/plain": [
       "[array([1.0000087], dtype=float32), array([0.9999811], dtype=float32)]"
      ]
     },
     "execution_count": 10,
     "metadata": {},
     "output_type": "execute_result"
    }
   ],
   "source": [
    "# 최종적으로 나온 회귀식 : H = W*x + b\n",
    "sess.run([W, b])"
   ]
  },
  {
   "cell_type": "code",
   "execution_count": 11,
   "id": "43f69b35",
   "metadata": {},
   "outputs": [
    {
     "data": {
      "text/plain": [
       "(1.0000087, 0.9999811)"
      ]
     },
     "execution_count": 11,
     "metadata": {},
     "output_type": "execute_result"
    }
   ],
   "source": [
    "W_, b_ = sess.run([W, b])\n",
    "W_[0], b_[0]"
   ]
  },
  {
   "cell_type": "code",
   "execution_count": 12,
   "id": "99545b75",
   "metadata": {},
   "outputs": [],
   "source": [
    "def predict(x):\n",
    "    return W_[0]*x + b_[0]"
   ]
  },
  {
   "cell_type": "code",
   "execution_count": 13,
   "id": "58d2a8ca",
   "metadata": {},
   "outputs": [
    {
     "name": "stdout",
     "output_type": "stream",
     "text": [
      "입력값은 ?1\n",
      "예측값은 1.9999898076057434\n"
     ]
    }
   ],
   "source": [
    "input_x = int(input('입력값은 ?'))\n",
    "print('예측값은', predict(input_x))"
   ]
  },
  {
   "cell_type": "markdown",
   "id": "f4abe452",
   "metadata": {},
   "source": [
    "## 2.2 predict를 위한 placeholder이용\n",
    "- placeholder : 텐서플로우 외부에서 데이터를 입력받는 노드"
   ]
  },
  {
   "cell_type": "code",
   "execution_count": 14,
   "id": "bd936b63",
   "metadata": {},
   "outputs": [
    {
     "data": {
      "text/plain": [
       "array([2., 3., 4.], dtype=float16)"
      ]
     },
     "execution_count": 14,
     "metadata": {},
     "output_type": "execute_result"
    }
   ],
   "source": [
    "# x = np.array([1,2,3])\n",
    "x = tf.placeholder(tf.float16)\n",
    "H = 1*x + 1\n",
    "sess = tf.Session()\n",
    "sess.run(H, feed_dict={x:5})\n",
    "sess.run(H, feed_dict={x:np.array([1,2,3])})"
   ]
  },
  {
   "cell_type": "code",
   "execution_count": 15,
   "id": "9464cd2d",
   "metadata": {},
   "outputs": [
    {
     "name": "stdout",
     "output_type": "stream",
     "text": [
      "0째 : cost:61.42265701293945, W:[1.2235912], b:[-0.13511339]\n",
      "200째 : cost:0.027228590101003647, W:[2.0561163], b:[0.7000595]\n",
      "400째 : cost:0.0026781794149428606, W:[2.0175993], b:[0.90593225]\n",
      "600째 : cost:0.0002634146367199719, W:[2.0055194], b:[0.9704987]\n",
      "800째 : cost:2.5908204406732693e-05, W:[2.001731], b:[0.9907478]\n",
      "1000째 : cost:2.549900500525837e-06, W:[2.000543], b:[0.99709785]\n",
      "1200째 : cost:2.5080885279749054e-07, W:[2.0001705], b:[0.99908984]\n",
      "1400째 : cost:2.4608244331147944e-08, W:[2.0000534], b:[0.99971443]\n",
      "1600째 : cost:2.443596214263266e-09, W:[2.0000167], b:[0.99991035]\n",
      "1800째 : cost:2.575347990418919e-10, W:[2.0000055], b:[0.9999711]\n",
      "2000째 : cost:3.715285717964534e-11, W:[2.0000021], b:[0.99998915]\n",
      "2200째 : cost:2.060005464821213e-11, W:[2.0000017], b:[0.99999213]\n",
      "2400째 : cost:2.060005464821213e-11, W:[2.0000017], b:[0.99999213]\n",
      "2600째 : cost:2.060005464821213e-11, W:[2.0000017], b:[0.99999213]\n",
      "2800째 : cost:2.060005464821213e-11, W:[2.0000017], b:[0.99999213]\n",
      "3000째 : cost:2.060005464821213e-11, W:[2.0000017], b:[0.99999213]\n",
      "3200째 : cost:2.060005464821213e-11, W:[2.0000017], b:[0.99999213]\n",
      "3400째 : cost:2.060005464821213e-11, W:[2.0000017], b:[0.99999213]\n",
      "3600째 : cost:2.060005464821213e-11, W:[2.0000017], b:[0.99999213]\n",
      "3800째 : cost:2.060005464821213e-11, W:[2.0000017], b:[0.99999213]\n",
      "4000째 : cost:2.060005464821213e-11, W:[2.0000017], b:[0.99999213]\n",
      "4200째 : cost:2.060005464821213e-11, W:[2.0000017], b:[0.99999213]\n",
      "4400째 : cost:2.060005464821213e-11, W:[2.0000017], b:[0.99999213]\n",
      "4600째 : cost:2.060005464821213e-11, W:[2.0000017], b:[0.99999213]\n",
      "4800째 : cost:2.060005464821213e-11, W:[2.0000017], b:[0.99999213]\n",
      "5000째 : cost:2.060005464821213e-11, W:[2.0000017], b:[0.99999213]\n"
     ]
    }
   ],
   "source": [
    "# H = 2x+1\n",
    "x_data = np.array([1,2,3,5,8])\n",
    "y_data = np.array([3,5,7,11,17])\n",
    "# placeholder 설정 (입력변수 x, 타겟변수 y)\n",
    "x = tf.placeholder(dtype=tf.float32)\n",
    "y = tf.placeholder(dtype=tf.float32)\n",
    "# W, b\n",
    "W = tf.Variable(tf.random.normal([1]))\n",
    "b = tf.Variable(tf.random.normal([1]))\n",
    "# Hypothesis(예측값)\n",
    "H = W*x + b\n",
    "# 손실함수\n",
    "cost = tf.reduce_mean(tf.square(H-y))\n",
    "# 경사하강법\n",
    "train = tf.train.GradientDescentOptimizer(learning_rate=0.01).minimize(cost)\n",
    "# Session 객체 생성\n",
    "sess = tf.Session()\n",
    "sess.run(tf.global_variables_initializer()) # W, b 초기화\n",
    "# 5000번 학습\n",
    "for step in range(5001):\n",
    "    _, cost_val, W_val, b_val = sess.run([train, cost, W, b], \n",
    "                                         feed_dict={x:x_data,\n",
    "                                                   y:y_data})\n",
    "    if step%200 == 0:\n",
    "        print('{}째 : cost:{}, W:{}, b:{}'.format(step, cost_val, W_val, b_val))"
   ]
  },
  {
   "cell_type": "code",
   "execution_count": 16,
   "id": "aed7a87e",
   "metadata": {},
   "outputs": [
    {
     "data": {
      "text/plain": [
       "array([11.000001], dtype=float32)"
      ]
     },
     "execution_count": 16,
     "metadata": {},
     "output_type": "execute_result"
    }
   ],
   "source": [
    "# 예측하기\n",
    "sess.run(H, feed_dict={x:5})"
   ]
  },
  {
   "cell_type": "code",
   "execution_count": 17,
   "id": "c5662289",
   "metadata": {},
   "outputs": [
    {
     "data": {
      "text/plain": [
       "array([11.000001, 13.000002, 15.000004], dtype=float32)"
      ]
     },
     "execution_count": 17,
     "metadata": {},
     "output_type": "execute_result"
    }
   ],
   "source": [
    "sess.run(H, feed_dict={x:np.array([5, 6, 7])})"
   ]
  },
  {
   "cell_type": "markdown",
   "id": "08757f26",
   "metadata": {},
   "source": [
    "## 2.3 scale이 다른 데이터의 linear regression 구현(scale조정X)"
   ]
  },
  {
   "cell_type": "code",
   "execution_count": 18,
   "id": "2525f3c5",
   "metadata": {},
   "outputs": [
    {
     "name": "stdout",
     "output_type": "stream",
     "text": [
      "0째 : cost:4375.00390625, W:[7.8320026], b:[0.5723348]\n",
      "200째 : cost:83.6234359741211, W:[10.211115], b:[-0.6958747]\n",
      "400째 : cost:83.49528503417969, W:[10.274975], b:[-1.1687055]\n",
      "600째 : cost:83.4835205078125, W:[10.294317], b:[-1.3119224]\n",
      "800째 : cost:83.48241424560547, W:[10.300175], b:[-1.3553011]\n",
      "1000째 : cost:83.4823226928711, W:[10.30195], b:[-1.3684406]\n",
      "1200째 : cost:83.48231506347656, W:[10.302487], b:[-1.37242]\n",
      "1400째 : cost:83.4822998046875, W:[10.30265], b:[-1.3736261]\n",
      "1600째 : cost:83.4822998046875, W:[10.3027], b:[-1.3739904]\n",
      "1800째 : cost:83.48231506347656, W:[10.302714], b:[-1.3741004]\n",
      "2000째 : cost:83.48233032226562, W:[10.302718], b:[-1.3741324]\n",
      "2200째 : cost:83.48233032226562, W:[10.302718], b:[-1.3741326]\n",
      "2400째 : cost:83.48233032226562, W:[10.302718], b:[-1.3741326]\n",
      "2600째 : cost:83.48233032226562, W:[10.302718], b:[-1.3741326]\n",
      "2800째 : cost:83.48233032226562, W:[10.302718], b:[-1.3741326]\n",
      "3000째 : cost:83.48233032226562, W:[10.302718], b:[-1.3741326]\n"
     ]
    }
   ],
   "source": [
    "x_data = np.array([1,2,5,8,10])\n",
    "y_data = np.array([3,15,68,80,95])\n",
    "# placeholder 설정 (입력변수 x, 타겟변수 y)\n",
    "x = tf.placeholder(dtype=tf.float32)\n",
    "y = tf.placeholder(dtype=tf.float32)\n",
    "# W, b\n",
    "W = tf.Variable(tf.random.normal([1]))\n",
    "b = tf.Variable(tf.random.normal([1]))\n",
    "# Hypothesis(예측값)\n",
    "H = W*x + b\n",
    "# 손실함수\n",
    "cost = tf.reduce_mean(tf.square(H-y))\n",
    "# 경사하강법\n",
    "train = tf.train.GradientDescentOptimizer(learning_rate=0.01).minimize(cost)\n",
    "# Session 객체 생성\n",
    "sess = tf.Session()\n",
    "sess.run(tf.global_variables_initializer()) # W, b 초기화\n",
    "# 3000번 학습\n",
    "for step in range(3001):\n",
    "    _, cost_val, W_val, b_val = sess.run([train, cost, W, b], \n",
    "                                         feed_dict={x:x_data,\n",
    "                                                   y:y_data})\n",
    "    if step%200 == 0:\n",
    "        print('{}째 : cost:{}, W:{}, b:{}'.format(step, cost_val, W_val, b_val))"
   ]
  },
  {
   "cell_type": "code",
   "execution_count": 19,
   "id": "11621444",
   "metadata": {},
   "outputs": [],
   "source": [
    "# cost값이 멈춤 : local 최소값"
   ]
  },
  {
   "cell_type": "markdown",
   "id": "a29ee411",
   "metadata": {},
   "source": [
    "## 2.4 scale이 다른 데이터의 linear regression을 구현(scale 조정 O)\n",
    "### scale을 맞추기 : 모든 데이터를 일정 범위내로 조정\n",
    "- normalization(정규화)\n",
    "                     X - Xmin\n",
    "    normalization = ------------\n",
    "                     Xmax - Xmin\n",
    "        * 위의 식을 써도 되지만 라이브러리를 씀(sklearn.preprocessing.MinMaxScaler이용)\n",
    "        \n",
    "- standardization(표준화)\n",
    "                        X - Xmean(평균)\n",
    "    standardization = -------------------\n",
    "                          Xstd(표준편차)\n",
    "        * 위의 식을 써도 되지만 라이브러리를 씀(sklearn.preprocessing.StandardScaler이용)                      "
   ]
  },
  {
   "cell_type": "code",
   "execution_count": 20,
   "id": "f10831f6",
   "metadata": {},
   "outputs": [
    {
     "name": "stdout",
     "output_type": "stream",
     "text": [
      "[0.         0.11111111 0.44444444 0.77777778 1.        ]\n",
      "[0.         0.13043478 0.70652174 0.83695652 1.        ]\n"
     ]
    }
   ],
   "source": [
    "# 라이브러리를 쓰지 않고 정규화\n",
    "x_data = np.array([1,2,5,8,10])\n",
    "y_data = np.array([3,15,68,80,95])\n",
    "scaled_x_data = (x_data - x_data.min() ) / (x_data.max() - x_data.min())\n",
    "scaled_y_data = (y_data - y_data.min() ) / (y_data.max() - y_data.min())\n",
    "print(scaled_x_data)\n",
    "print(scaled_y_data)"
   ]
  },
  {
   "cell_type": "code",
   "execution_count": 21,
   "id": "8b79dfdd",
   "metadata": {},
   "outputs": [
    {
     "data": {
      "text/plain": [
       "array([[ 1.        ,  3.        ,  0.        ,  0.        ],\n",
       "       [ 2.        , 15.        ,  0.11111111,  0.13043478],\n",
       "       [ 5.        , 68.        ,  0.44444444,  0.70652174],\n",
       "       [ 8.        , 80.        ,  0.77777778,  0.83695652],\n",
       "       [10.        , 95.        ,  1.        ,  1.        ]])"
      ]
     },
     "execution_count": 21,
     "metadata": {},
     "output_type": "execute_result"
    }
   ],
   "source": [
    "# 라이브러리를 쓰고 정규화 (MinMaxScaler이용)\n",
    "x_data = np.array([1,2,5,8,10]).reshape(-1, 1)\n",
    "y_data = np.array([3,15,68,80,95]).reshape(-1, 1)\n",
    "# np.column_stack([x_data, y_data])\n",
    "from sklearn.preprocessing import MinMaxScaler\n",
    "scaler_x = MinMaxScaler() # x_data를 정규화시킬 객체\n",
    "# scaled_x.fit(x_data)\n",
    "# scaled_x_data = scaler_x.transform(x_data)\n",
    "scaled_x_data = scaler_x.fit_transform(x_data)\n",
    "scaled_y = MinMaxScaler() # y_data를 정규화시킬 객체\n",
    "scaled_y_data = scaled_y.fit_transform(y_data)\n",
    "np.column_stack([x_data, y_data, scaled_x_data, scaled_y_data])"
   ]
  },
  {
   "cell_type": "code",
   "execution_count": 22,
   "id": "2b96df17",
   "metadata": {},
   "outputs": [
    {
     "name": "stdout",
     "output_type": "stream",
     "text": [
      "0째 : cost:0.029606666415929794, W:[1.2086785], b:[0.08822954]\n",
      "600째 : cost:0.013130292296409607, W:[1.1478453], b:[0.01955148]\n",
      "1200째 : cost:0.011750214733183384, W:[1.1218395], b:[0.01074163]\n",
      "1800째 : cost:0.011260809376835823, W:[1.1052396], b:[0.0144669]\n",
      "2400째 : cost:0.01091848686337471, W:[1.0921503], b:[0.02025267]\n",
      "3000째 : cost:0.010661040432751179, W:[1.0810692], b:[0.02585328]\n",
      "3600째 : cost:0.010466450825333595, W:[1.0715011], b:[0.03085055]\n",
      "4200째 : cost:0.010319337248802185, W:[1.0631969], b:[0.03522437]\n",
      "4800째 : cost:0.01020809169858694, W:[1.0559789], b:[0.03903401]\n",
      "5400째 : cost:0.010123984888195992, W:[1.0497032], b:[0.04234804]\n",
      "6000째 : cost:0.010060390457510948, W:[1.0442468], b:[0.04523007]\n",
      "6600째 : cost:0.010012299753725529, W:[1.0395019], b:[0.04773616]\n",
      "7200째 : cost:0.009975944645702839, W:[1.0353762], b:[0.04991531]\n",
      "7800째 : cost:0.009948451071977615, W:[1.0317887], b:[0.05181015]\n",
      "8400째 : cost:0.009927665814757347, W:[1.0286689], b:[0.05345781]\n",
      "9000째 : cost:0.009911949746310711, W:[1.0259565], b:[0.05489052]\n",
      "9600째 : cost:0.009900068864226341, W:[1.0235982], b:[0.05613627]\n",
      "10200째 : cost:0.009891086257994175, W:[1.0215476], b:[0.05721949]\n",
      "10800째 : cost:0.00988429319113493, W:[1.0197648], b:[0.05816137]\n",
      "11400째 : cost:0.009879154153168201, W:[1.0182145], b:[0.05898034]\n",
      "12000째 : cost:0.009875268675386906, W:[1.0168643], b:[0.05969236]\n"
     ]
    }
   ],
   "source": [
    "# placeholder 설정 (입력변수 x, 타겟변수 y)\n",
    "x = tf.placeholder(dtype=tf.float32)\n",
    "y = tf.placeholder(dtype=tf.float32)\n",
    "# W, b\n",
    "W = tf.Variable(tf.random.normal([1]))\n",
    "b = tf.Variable(tf.random.normal([1]))\n",
    "# Hypothesis(예측값)\n",
    "H = W*x + b\n",
    "# 손실함수\n",
    "cost = tf.reduce_mean(tf.square(H-y))\n",
    "# 경사하강법\n",
    "train = tf.train.GradientDescentOptimizer(learning_rate=0.001).minimize(cost)\n",
    "# Session 객체 생성\n",
    "sess = tf.Session()\n",
    "sess.run(tf.global_variables_initializer()) # W, b 초기화\n",
    "# 12000번 학습\n",
    "for step in range(12001):\n",
    "    _, cost_val, W_val, b_val = sess.run([train, cost, W, b], \n",
    "                                         feed_dict={x:scaled_x_data,\n",
    "                                                   y:scaled_y_data})\n",
    "    if step%600 == 0:\n",
    "        print('{}째 : cost:{}, W:{}, b:{}'.format(step, cost_val, W_val, b_val))"
   ]
  },
  {
   "cell_type": "code",
   "execution_count": 23,
   "id": "caddbc04",
   "metadata": {},
   "outputs": [
    {
     "name": "stdout",
     "output_type": "stream",
     "text": [
      "모델 예측을 위한 입력:\n",
      "[[0.11111111]\n",
      " [0.22222222]]\n",
      "모델 예측 결과 :\n",
      "[[0.17267728]\n",
      " [0.2856622 ]]\n",
      "결과 :\n",
      "[[18.88631 ]\n",
      " [29.280922]]\n"
     ]
    }
   ],
   "source": [
    "# 예측 : 모델에 scale 조정된 값으로 예측=>scale 조정된 y값\n",
    "scaled_input = scaler_x.transform(np.array([[2],\n",
    "                                            [3]]))\n",
    "print('모델 예측을 위한 입력:', scaled_input, sep='\\n')\n",
    "scaled_output = sess.run(H, feed_dict={x:scaled_input})\n",
    "print('모델 예측 결과 :', scaled_output, sep='\\n')\n",
    "print('결과 :', scaled_y.inverse_transform(scaled_output), sep='\\n')"
   ]
  },
  {
   "cell_type": "code",
   "execution_count": 24,
   "id": "1eeef4ad",
   "metadata": {},
   "outputs": [],
   "source": [
    "# x_data들의 예측값\n",
    "scaled_y_hat = sess.run(H, feed_dict={x:scaled_x_data})\n",
    "y_hat = scaled_y.inverse_transform(scaled_y_hat)"
   ]
  },
  {
   "cell_type": "code",
   "execution_count": 25,
   "id": "f3a852c2",
   "metadata": {},
   "outputs": [
    {
     "data": {
      "text/plain": [
       "[<matplotlib.lines.Line2D at 0x23dd38d75b0>]"
      ]
     },
     "execution_count": 25,
     "metadata": {},
     "output_type": "execute_result"
    },
    {
     "data": {
      "image/png": "[encoded data removed]",
      "text/plain": [
       "<Figure size 640x480 with 1 Axes>"
      ]
     },
     "metadata": {},
     "output_type": "display_data"
    }
   ],
   "source": [
    "import matplotlib.pyplot as plt\n",
    "plt.plot(x_data, y_data, 'r')\n",
    "plt.plot(x_data, y_hat, 'b')"
   ]
  },
  {
   "cell_type": "code",
   "execution_count": 26,
   "id": "bd23dcd4",
   "metadata": {},
   "outputs": [
    {
     "name": "stdout",
     "output_type": "stream",
     "text": [
      "[[ 1  3]\n",
      " [ 2 15]\n",
      " [ 5 68]\n",
      " [ 8 80]\n",
      " [10 95]]\n",
      "[[ 0.         -1.34819316]\n",
      " [ 0.11111111 -1.01936556]\n",
      " [ 0.44444444  0.43295634]\n",
      " [ 0.77777778  0.76178394]\n",
      " [ 1.          1.17281844]]\n"
     ]
    }
   ],
   "source": [
    "# 라이브러리를 사용하여 표준화(StandardScaler이용)\n",
    "x_data = np.array([1,2,5,8,10]).reshape(-1, 1)\n",
    "y_data = np.array([3,15,68,80,95]).reshape(-1, 1)\n",
    "\n",
    "from sklearn.preprocessing import StandardScaler\n",
    "scaler_x = StandardScaler() # x_data를 표준화할 객체\n",
    "scaled_y = StandardScaler() # y_data를 표준화할 객체\n",
    "scaler_x_data = scaler_x.fit_transform(x_data)\n",
    "scaled_y_data = scaled_y.fit_transform(y_data)\n",
    "print(np.column_stack([x_data, y_data]))\n",
    "print(np.column_stack([scaled_x_data, scaled_y_data]))"
   ]
  },
  {
   "cell_type": "code",
   "execution_count": 27,
   "id": "aa55e335",
   "metadata": {},
   "outputs": [
    {
     "name": "stdout",
     "output_type": "stream",
     "text": [
      "0째 : cost:2.3294482231140137, W:[0.8044316], b:[-1.7239487]\n",
      "600째 : cost:0.31173309683799744, W:[1.4191622], b:[-0.91876864]\n",
      "1200째 : cost:0.17771753668785095, W:[1.6523175], b:[-0.7892172]\n",
      "1800째 : cost:0.1459963619709015, W:[1.787654], b:[-0.8041821]\n",
      "2400째 : cost:0.1254941076040268, W:[1.8902577], b:[-0.84573615]\n",
      "3000째 : cost:0.11016638576984406, W:[1.9761046], b:[-0.8882522]\n",
      "3600째 : cost:0.09858562797307968, W:[2.0499988], b:[-0.92664963]\n",
      "4200째 : cost:0.08982987701892853, W:[2.1140835], b:[-0.9603571]\n",
      "4800째 : cost:0.08320963382720947, W:[2.1697702], b:[-0.9897386]\n",
      "5400째 : cost:0.0782039612531662, W:[2.2181842], b:[-1.0153031]\n",
      "6000째 : cost:0.07441917806863785, W:[2.2602801], b:[-1.037536]\n",
      "6600째 : cost:0.0715574398636818, W:[2.2968845], b:[-1.0568694]\n",
      "7200째 : cost:0.06939370930194855, W:[2.328713], b:[-1.0736809]\n",
      "7800째 : cost:0.06775765120983124, W:[2.3563895], b:[-1.0882993]\n",
      "8400째 : cost:0.06652067601680756, W:[2.3804548], b:[-1.1010107]\n",
      "9000째 : cost:0.06558533757925034, W:[2.401381], b:[-1.1120632]\n",
      "9600째 : cost:0.06487815082073212, W:[2.4195778], b:[-1.1216742]\n",
      "10200째 : cost:0.06434344500303268, W:[2.4353995], b:[-1.1300313]\n",
      "10800째 : cost:0.06393913179636002, W:[2.4491587], b:[-1.1372983]\n",
      "11400째 : cost:0.06363345682621002, W:[2.4611208], b:[-1.1436172]\n",
      "12000째 : cost:0.06340230256319046, W:[2.4715238], b:[-1.1491121]\n"
     ]
    }
   ],
   "source": [
    "# placeholder 설정 (입력변수 x, 타겟변수 y)\n",
    "x = tf.placeholder(dtype=tf.float32)\n",
    "y = tf.placeholder(dtype=tf.float32)\n",
    "# W, b\n",
    "W = tf.Variable(tf.random.normal([1]))\n",
    "b = tf.Variable(tf.random.normal([1]))\n",
    "# Hypothesis(예측값)\n",
    "H = W*x + b\n",
    "# 손실함수\n",
    "cost = tf.reduce_mean(tf.square(H-y))\n",
    "# 경사하강법\n",
    "train = tf.train.GradientDescentOptimizer(learning_rate=0.001).minimize(cost)\n",
    "# Session 객체 생성\n",
    "sess = tf.Session()\n",
    "sess.run(tf.global_variables_initializer()) # W, b 초기화\n",
    "# 12000번 학습\n",
    "for step in range(12001):\n",
    "    _, cost_val, W_val, b_val = sess.run([train, cost, W, b], \n",
    "                                         feed_dict={x:scaled_x_data,\n",
    "                                                   y:scaled_y_data})\n",
    "    if step%600 == 0:\n",
    "        print('{}째 : cost:{}, W:{}, b:{}'.format(step, cost_val, W_val, b_val))"
   ]
  },
  {
   "cell_type": "code",
   "execution_count": 28,
   "id": "802d3be9",
   "metadata": {},
   "outputs": [
    {
     "data": {
      "text/plain": [
       "[<matplotlib.lines.Line2D at 0x23dd5b72350>]"
      ]
     },
     "execution_count": 28,
     "metadata": {},
     "output_type": "execute_result"
    },
    {
     "data": {
      "image/png": "[encoded data removed]",
      "text/plain": [
       "<Figure size 640x480 with 1 Axes>"
      ]
     },
     "metadata": {},
     "output_type": "display_data"
    }
   ],
   "source": [
    "# x_data들의 예측값\n",
    "scaled_y_hat = sess.run(H, feed_dict={x:scaled_x_data})\n",
    "y_hat = scaled_y.inverse_transform(scaled_y_hat)\n",
    "import matplotlib.pyplot as plt\n",
    "plt.plot(x_data, y_data, 'r')\n",
    "plt.plot(x_data, y_hat, 'b')"
   ]
  },
  {
   "cell_type": "markdown",
   "id": "b46c1814",
   "metadata": {},
   "source": [
    "## 2.5 입력(독립)변수 x가 3개, 타겟(종속)변수 y가 1개(csv->array)"
   ]
  },
  {
   "cell_type": "code",
   "execution_count": 29,
   "id": "a12e6bfe",
   "metadata": {},
   "outputs": [
    {
     "data": {
      "text/plain": [
       "array([[ 41. , 190. ,   7.4,  67. ,   5. ,   1. ],\n",
       "       [ 36. , 118. ,   8. ,  72. ,   5. ,   2. ],\n",
       "       [ 12. , 149. ,  12.6,  74. ,   5. ,   3. ],\n",
       "       [ 18. , 313. ,  11.5,  62. ,   5. ,   4. ],\n",
       "       [  nan,   nan,  14.3,  56. ,   5. ,   5. ]])"
      ]
     },
     "execution_count": 29,
     "metadata": {},
     "output_type": "execute_result"
    }
   ],
   "source": [
    "# 방법 1 : csv -> array\n",
    "import numpy as np\n",
    "# data = np.loadtxt('data/ozone.csv', delimiter=',') # 결측치가 없고\n",
    "data = np.genfromtxt('data/ozone.csv',\n",
    "                    delimiter=',',\n",
    "                    skip_header=1,\n",
    "                    missing_values='NA',\n",
    "                    filling_values=np.nan)\n",
    "data[:5]"
   ]
  },
  {
   "cell_type": "code",
   "execution_count": 30,
   "id": "dd8bb95e",
   "metadata": {},
   "outputs": [
    {
     "data": {
      "text/plain": [
       "Ozone      37\n",
       "Solar.R     7\n",
       "Wind        0\n",
       "Temp        0\n",
       "Month       0\n",
       "Day         0\n",
       "dtype: int64"
      ]
     },
     "execution_count": 30,
     "metadata": {},
     "output_type": "execute_result"
    }
   ],
   "source": [
    "# 방법 2: csv 파일 -> 데이터 프레인 -> 결측치 처리 -> 넘파이배열 -> 머신러닝 처리\n",
    "# 1. csv를 데이터프레임으로 읽기\n",
    "import pandas as pd\n",
    "data = pd.read_csv('data/ozone.csv', encoding='utf-8')\n",
    "data.isna().sum() # 열별 결측치 갯수"
   ]
  },
  {
   "cell_type": "code",
   "execution_count": 31,
   "id": "19509715",
   "metadata": {},
   "outputs": [
    {
     "data": {
      "text/html": [
       "<div>\n",
       "<style scoped>\n",
       "    .dataframe tbody tr th:only-of-type {\n",
       "        vertical-align: middle;\n",
       "    }\n",
       "\n",
       "    .dataframe tbody tr th {\n",
       "        vertical-align: top;\n",
       "    }\n",
       "\n",
       "    .dataframe thead th {\n",
       "        text-align: right;\n",
       "    }\n",
       "</style>\n",
       "<table border=\"1\" class=\"dataframe\">\n",
       "  <thead>\n",
       "    <tr style=\"text-align: right;\">\n",
       "      <th></th>\n",
       "      <th>Ozone</th>\n",
       "      <th>Solar.R</th>\n",
       "    </tr>\n",
       "    <tr>\n",
       "      <th>Month</th>\n",
       "      <th></th>\n",
       "      <th></th>\n",
       "    </tr>\n",
       "  </thead>\n",
       "  <tbody>\n",
       "    <tr>\n",
       "      <th>5</th>\n",
       "      <td>23.615385</td>\n",
       "      <td>181.296296</td>\n",
       "    </tr>\n",
       "    <tr>\n",
       "      <th>6</th>\n",
       "      <td>29.444444</td>\n",
       "      <td>190.166667</td>\n",
       "    </tr>\n",
       "    <tr>\n",
       "      <th>7</th>\n",
       "      <td>59.115385</td>\n",
       "      <td>216.483871</td>\n",
       "    </tr>\n",
       "    <tr>\n",
       "      <th>8</th>\n",
       "      <td>59.961538</td>\n",
       "      <td>171.857143</td>\n",
       "    </tr>\n",
       "    <tr>\n",
       "      <th>9</th>\n",
       "      <td>31.448276</td>\n",
       "      <td>167.433333</td>\n",
       "    </tr>\n",
       "  </tbody>\n",
       "</table>\n",
       "</div>"
      ],
      "text/plain": [
       "           Ozone     Solar.R\n",
       "Month                       \n",
       "5      23.615385  181.296296\n",
       "6      29.444444  190.166667\n",
       "7      59.115385  216.483871\n",
       "8      59.961538  171.857143\n",
       "9      31.448276  167.433333"
      ]
     },
     "metadata": {},
     "output_type": "display_data"
    },
    {
     "name": "stdout",
     "output_type": "stream",
     "text": [
      "5월에 Ozone으로 대체할 값 : 23.615384615384617\n"
     ]
    }
   ],
   "source": [
    "import pandas as pd\n",
    "# 결측치 처리 방법 1 : 결측치가 있는 행을 제거\n",
    "# data.dropna(how='any', axis=0).shape\n",
    "\n",
    "# 결측치 처리 방법 2 : 결측치 대체(열별 평균값으로 대체)\n",
    "# data.mean() # 열별평균\n",
    "# data.fillna(value=data.mean(), inplace=True)\n",
    "\n",
    "# 결측치 처리 방법 3 : 결측치 대체(월별 열별 평균값으로 대체)\n",
    "mean_data = data.groupby('Month')[['Ozone','Solar.R']].mean()\n",
    "display(mean_data)\n",
    "print('5월에 Ozone으로 대체할 값 :', mean_data.loc[5, 'Ozone'])"
   ]
  },
  {
   "cell_type": "code",
   "execution_count": 32,
   "id": "8c0ed2ec",
   "metadata": {},
   "outputs": [
    {
     "data": {
      "text/html": [
       "<div>\n",
       "<style scoped>\n",
       "    .dataframe tbody tr th:only-of-type {\n",
       "        vertical-align: middle;\n",
       "    }\n",
       "\n",
       "    .dataframe tbody tr th {\n",
       "        vertical-align: top;\n",
       "    }\n",
       "\n",
       "    .dataframe thead th {\n",
       "        text-align: right;\n",
       "    }\n",
       "</style>\n",
       "<table border=\"1\" class=\"dataframe\">\n",
       "  <thead>\n",
       "    <tr style=\"text-align: right;\">\n",
       "      <th></th>\n",
       "      <th>Ozone</th>\n",
       "      <th>Solar.R</th>\n",
       "      <th>Wind</th>\n",
       "      <th>Temp</th>\n",
       "      <th>Month</th>\n",
       "      <th>Day</th>\n",
       "    </tr>\n",
       "  </thead>\n",
       "  <tbody>\n",
       "    <tr>\n",
       "      <th>4</th>\n",
       "      <td>NaN</td>\n",
       "      <td>NaN</td>\n",
       "      <td>14.3</td>\n",
       "      <td>56</td>\n",
       "      <td>5</td>\n",
       "      <td>5</td>\n",
       "    </tr>\n",
       "    <tr>\n",
       "      <th>5</th>\n",
       "      <td>28.0</td>\n",
       "      <td>NaN</td>\n",
       "      <td>14.9</td>\n",
       "      <td>66</td>\n",
       "      <td>5</td>\n",
       "      <td>6</td>\n",
       "    </tr>\n",
       "    <tr>\n",
       "      <th>9</th>\n",
       "      <td>NaN</td>\n",
       "      <td>194.0</td>\n",
       "      <td>8.6</td>\n",
       "      <td>69</td>\n",
       "      <td>5</td>\n",
       "      <td>10</td>\n",
       "    </tr>\n",
       "    <tr>\n",
       "      <th>10</th>\n",
       "      <td>7.0</td>\n",
       "      <td>NaN</td>\n",
       "      <td>6.9</td>\n",
       "      <td>74</td>\n",
       "      <td>5</td>\n",
       "      <td>11</td>\n",
       "    </tr>\n",
       "    <tr>\n",
       "      <th>24</th>\n",
       "      <td>NaN</td>\n",
       "      <td>66.0</td>\n",
       "      <td>16.6</td>\n",
       "      <td>57</td>\n",
       "      <td>5</td>\n",
       "      <td>25</td>\n",
       "    </tr>\n",
       "    <tr>\n",
       "      <th>25</th>\n",
       "      <td>NaN</td>\n",
       "      <td>266.0</td>\n",
       "      <td>14.9</td>\n",
       "      <td>58</td>\n",
       "      <td>5</td>\n",
       "      <td>26</td>\n",
       "    </tr>\n",
       "    <tr>\n",
       "      <th>26</th>\n",
       "      <td>NaN</td>\n",
       "      <td>NaN</td>\n",
       "      <td>8.0</td>\n",
       "      <td>57</td>\n",
       "      <td>5</td>\n",
       "      <td>27</td>\n",
       "    </tr>\n",
       "    <tr>\n",
       "      <th>31</th>\n",
       "      <td>NaN</td>\n",
       "      <td>286.0</td>\n",
       "      <td>8.6</td>\n",
       "      <td>78</td>\n",
       "      <td>6</td>\n",
       "      <td>1</td>\n",
       "    </tr>\n",
       "    <tr>\n",
       "      <th>32</th>\n",
       "      <td>NaN</td>\n",
       "      <td>287.0</td>\n",
       "      <td>9.7</td>\n",
       "      <td>74</td>\n",
       "      <td>6</td>\n",
       "      <td>2</td>\n",
       "    </tr>\n",
       "    <tr>\n",
       "      <th>33</th>\n",
       "      <td>NaN</td>\n",
       "      <td>242.0</td>\n",
       "      <td>16.1</td>\n",
       "      <td>67</td>\n",
       "      <td>6</td>\n",
       "      <td>3</td>\n",
       "    </tr>\n",
       "    <tr>\n",
       "      <th>34</th>\n",
       "      <td>NaN</td>\n",
       "      <td>186.0</td>\n",
       "      <td>9.2</td>\n",
       "      <td>84</td>\n",
       "      <td>6</td>\n",
       "      <td>4</td>\n",
       "    </tr>\n",
       "    <tr>\n",
       "      <th>35</th>\n",
       "      <td>NaN</td>\n",
       "      <td>220.0</td>\n",
       "      <td>8.6</td>\n",
       "      <td>85</td>\n",
       "      <td>6</td>\n",
       "      <td>5</td>\n",
       "    </tr>\n",
       "    <tr>\n",
       "      <th>36</th>\n",
       "      <td>NaN</td>\n",
       "      <td>264.0</td>\n",
       "      <td>14.3</td>\n",
       "      <td>79</td>\n",
       "      <td>6</td>\n",
       "      <td>6</td>\n",
       "    </tr>\n",
       "    <tr>\n",
       "      <th>38</th>\n",
       "      <td>NaN</td>\n",
       "      <td>273.0</td>\n",
       "      <td>6.9</td>\n",
       "      <td>87</td>\n",
       "      <td>6</td>\n",
       "      <td>8</td>\n",
       "    </tr>\n",
       "    <tr>\n",
       "      <th>41</th>\n",
       "      <td>NaN</td>\n",
       "      <td>259.0</td>\n",
       "      <td>10.9</td>\n",
       "      <td>93</td>\n",
       "      <td>6</td>\n",
       "      <td>11</td>\n",
       "    </tr>\n",
       "    <tr>\n",
       "      <th>42</th>\n",
       "      <td>NaN</td>\n",
       "      <td>250.0</td>\n",
       "      <td>9.2</td>\n",
       "      <td>92</td>\n",
       "      <td>6</td>\n",
       "      <td>12</td>\n",
       "    </tr>\n",
       "    <tr>\n",
       "      <th>44</th>\n",
       "      <td>NaN</td>\n",
       "      <td>332.0</td>\n",
       "      <td>13.8</td>\n",
       "      <td>80</td>\n",
       "      <td>6</td>\n",
       "      <td>14</td>\n",
       "    </tr>\n",
       "    <tr>\n",
       "      <th>45</th>\n",
       "      <td>NaN</td>\n",
       "      <td>322.0</td>\n",
       "      <td>11.5</td>\n",
       "      <td>79</td>\n",
       "      <td>6</td>\n",
       "      <td>15</td>\n",
       "    </tr>\n",
       "    <tr>\n",
       "      <th>51</th>\n",
       "      <td>NaN</td>\n",
       "      <td>150.0</td>\n",
       "      <td>6.3</td>\n",
       "      <td>77</td>\n",
       "      <td>6</td>\n",
       "      <td>21</td>\n",
       "    </tr>\n",
       "    <tr>\n",
       "      <th>52</th>\n",
       "      <td>NaN</td>\n",
       "      <td>59.0</td>\n",
       "      <td>1.7</td>\n",
       "      <td>76</td>\n",
       "      <td>6</td>\n",
       "      <td>22</td>\n",
       "    </tr>\n",
       "    <tr>\n",
       "      <th>53</th>\n",
       "      <td>NaN</td>\n",
       "      <td>91.0</td>\n",
       "      <td>4.6</td>\n",
       "      <td>76</td>\n",
       "      <td>6</td>\n",
       "      <td>23</td>\n",
       "    </tr>\n",
       "    <tr>\n",
       "      <th>54</th>\n",
       "      <td>NaN</td>\n",
       "      <td>250.0</td>\n",
       "      <td>6.3</td>\n",
       "      <td>76</td>\n",
       "      <td>6</td>\n",
       "      <td>24</td>\n",
       "    </tr>\n",
       "    <tr>\n",
       "      <th>55</th>\n",
       "      <td>NaN</td>\n",
       "      <td>135.0</td>\n",
       "      <td>8.0</td>\n",
       "      <td>75</td>\n",
       "      <td>6</td>\n",
       "      <td>25</td>\n",
       "    </tr>\n",
       "    <tr>\n",
       "      <th>56</th>\n",
       "      <td>NaN</td>\n",
       "      <td>127.0</td>\n",
       "      <td>8.0</td>\n",
       "      <td>78</td>\n",
       "      <td>6</td>\n",
       "      <td>26</td>\n",
       "    </tr>\n",
       "    <tr>\n",
       "      <th>57</th>\n",
       "      <td>NaN</td>\n",
       "      <td>47.0</td>\n",
       "      <td>10.3</td>\n",
       "      <td>73</td>\n",
       "      <td>6</td>\n",
       "      <td>27</td>\n",
       "    </tr>\n",
       "    <tr>\n",
       "      <th>58</th>\n",
       "      <td>NaN</td>\n",
       "      <td>98.0</td>\n",
       "      <td>11.5</td>\n",
       "      <td>80</td>\n",
       "      <td>6</td>\n",
       "      <td>28</td>\n",
       "    </tr>\n",
       "    <tr>\n",
       "      <th>59</th>\n",
       "      <td>NaN</td>\n",
       "      <td>31.0</td>\n",
       "      <td>14.9</td>\n",
       "      <td>77</td>\n",
       "      <td>6</td>\n",
       "      <td>29</td>\n",
       "    </tr>\n",
       "    <tr>\n",
       "      <th>60</th>\n",
       "      <td>NaN</td>\n",
       "      <td>138.0</td>\n",
       "      <td>8.0</td>\n",
       "      <td>83</td>\n",
       "      <td>6</td>\n",
       "      <td>30</td>\n",
       "    </tr>\n",
       "    <tr>\n",
       "      <th>64</th>\n",
       "      <td>NaN</td>\n",
       "      <td>101.0</td>\n",
       "      <td>10.9</td>\n",
       "      <td>84</td>\n",
       "      <td>7</td>\n",
       "      <td>4</td>\n",
       "    </tr>\n",
       "    <tr>\n",
       "      <th>71</th>\n",
       "      <td>NaN</td>\n",
       "      <td>139.0</td>\n",
       "      <td>8.6</td>\n",
       "      <td>82</td>\n",
       "      <td>7</td>\n",
       "      <td>11</td>\n",
       "    </tr>\n",
       "    <tr>\n",
       "      <th>74</th>\n",
       "      <td>NaN</td>\n",
       "      <td>291.0</td>\n",
       "      <td>14.9</td>\n",
       "      <td>91</td>\n",
       "      <td>7</td>\n",
       "      <td>14</td>\n",
       "    </tr>\n",
       "    <tr>\n",
       "      <th>82</th>\n",
       "      <td>NaN</td>\n",
       "      <td>258.0</td>\n",
       "      <td>9.7</td>\n",
       "      <td>81</td>\n",
       "      <td>7</td>\n",
       "      <td>22</td>\n",
       "    </tr>\n",
       "    <tr>\n",
       "      <th>83</th>\n",
       "      <td>NaN</td>\n",
       "      <td>295.0</td>\n",
       "      <td>11.5</td>\n",
       "      <td>82</td>\n",
       "      <td>7</td>\n",
       "      <td>23</td>\n",
       "    </tr>\n",
       "    <tr>\n",
       "      <th>95</th>\n",
       "      <td>78.0</td>\n",
       "      <td>NaN</td>\n",
       "      <td>6.9</td>\n",
       "      <td>86</td>\n",
       "      <td>8</td>\n",
       "      <td>4</td>\n",
       "    </tr>\n",
       "    <tr>\n",
       "      <th>96</th>\n",
       "      <td>35.0</td>\n",
       "      <td>NaN</td>\n",
       "      <td>7.4</td>\n",
       "      <td>85</td>\n",
       "      <td>8</td>\n",
       "      <td>5</td>\n",
       "    </tr>\n",
       "    <tr>\n",
       "      <th>97</th>\n",
       "      <td>66.0</td>\n",
       "      <td>NaN</td>\n",
       "      <td>4.6</td>\n",
       "      <td>87</td>\n",
       "      <td>8</td>\n",
       "      <td>6</td>\n",
       "    </tr>\n",
       "    <tr>\n",
       "      <th>101</th>\n",
       "      <td>NaN</td>\n",
       "      <td>222.0</td>\n",
       "      <td>8.6</td>\n",
       "      <td>92</td>\n",
       "      <td>8</td>\n",
       "      <td>10</td>\n",
       "    </tr>\n",
       "    <tr>\n",
       "      <th>102</th>\n",
       "      <td>NaN</td>\n",
       "      <td>137.0</td>\n",
       "      <td>11.5</td>\n",
       "      <td>86</td>\n",
       "      <td>8</td>\n",
       "      <td>11</td>\n",
       "    </tr>\n",
       "    <tr>\n",
       "      <th>106</th>\n",
       "      <td>NaN</td>\n",
       "      <td>64.0</td>\n",
       "      <td>11.5</td>\n",
       "      <td>79</td>\n",
       "      <td>8</td>\n",
       "      <td>15</td>\n",
       "    </tr>\n",
       "    <tr>\n",
       "      <th>114</th>\n",
       "      <td>NaN</td>\n",
       "      <td>255.0</td>\n",
       "      <td>12.6</td>\n",
       "      <td>75</td>\n",
       "      <td>8</td>\n",
       "      <td>23</td>\n",
       "    </tr>\n",
       "    <tr>\n",
       "      <th>118</th>\n",
       "      <td>NaN</td>\n",
       "      <td>153.0</td>\n",
       "      <td>5.7</td>\n",
       "      <td>88</td>\n",
       "      <td>8</td>\n",
       "      <td>27</td>\n",
       "    </tr>\n",
       "    <tr>\n",
       "      <th>149</th>\n",
       "      <td>NaN</td>\n",
       "      <td>145.0</td>\n",
       "      <td>13.2</td>\n",
       "      <td>77</td>\n",
       "      <td>9</td>\n",
       "      <td>27</td>\n",
       "    </tr>\n",
       "  </tbody>\n",
       "</table>\n",
       "</div>"
      ],
      "text/plain": [
       "     Ozone  Solar.R  Wind  Temp  Month  Day\n",
       "4      NaN      NaN  14.3    56      5    5\n",
       "5     28.0      NaN  14.9    66      5    6\n",
       "9      NaN    194.0   8.6    69      5   10\n",
       "10     7.0      NaN   6.9    74      5   11\n",
       "24     NaN     66.0  16.6    57      5   25\n",
       "25     NaN    266.0  14.9    58      5   26\n",
       "26     NaN      NaN   8.0    57      5   27\n",
       "31     NaN    286.0   8.6    78      6    1\n",
       "32     NaN    287.0   9.7    74      6    2\n",
       "33     NaN    242.0  16.1    67      6    3\n",
       "34     NaN    186.0   9.2    84      6    4\n",
       "35     NaN    220.0   8.6    85      6    5\n",
       "36     NaN    264.0  14.3    79      6    6\n",
       "38     NaN    273.0   6.9    87      6    8\n",
       "41     NaN    259.0  10.9    93      6   11\n",
       "42     NaN    250.0   9.2    92      6   12\n",
       "44     NaN    332.0  13.8    80      6   14\n",
       "45     NaN    322.0  11.5    79      6   15\n",
       "51     NaN    150.0   6.3    77      6   21\n",
       "52     NaN     59.0   1.7    76      6   22\n",
       "53     NaN     91.0   4.6    76      6   23\n",
       "54     NaN    250.0   6.3    76      6   24\n",
       "55     NaN    135.0   8.0    75      6   25\n",
       "56     NaN    127.0   8.0    78      6   26\n",
       "57     NaN     47.0  10.3    73      6   27\n",
       "58     NaN     98.0  11.5    80      6   28\n",
       "59     NaN     31.0  14.9    77      6   29\n",
       "60     NaN    138.0   8.0    83      6   30\n",
       "64     NaN    101.0  10.9    84      7    4\n",
       "71     NaN    139.0   8.6    82      7   11\n",
       "74     NaN    291.0  14.9    91      7   14\n",
       "82     NaN    258.0   9.7    81      7   22\n",
       "83     NaN    295.0  11.5    82      7   23\n",
       "95    78.0      NaN   6.9    86      8    4\n",
       "96    35.0      NaN   7.4    85      8    5\n",
       "97    66.0      NaN   4.6    87      8    6\n",
       "101    NaN    222.0   8.6    92      8   10\n",
       "102    NaN    137.0  11.5    86      8   11\n",
       "106    NaN     64.0  11.5    79      8   15\n",
       "114    NaN    255.0  12.6    75      8   23\n",
       "118    NaN    153.0   5.7    88      8   27\n",
       "149    NaN    145.0  13.2    77      9   27"
      ]
     },
     "execution_count": 32,
     "metadata": {},
     "output_type": "execute_result"
    }
   ],
   "source": [
    "# 결측치가 있는 데이터\n",
    "data[data['Ozone'].isna()|data['Solar.R'].isna()]"
   ]
  },
  {
   "cell_type": "code",
   "execution_count": 33,
   "id": "c7b60214",
   "metadata": {},
   "outputs": [
    {
     "data": {
      "text/plain": [
       "Ozone       23.615385\n",
       "Solar.R    181.296296\n",
       "Wind        14.300000\n",
       "Temp        56.000000\n",
       "Month        5.000000\n",
       "Day          5.000000\n",
       "Name: 4, dtype: float64"
      ]
     },
     "execution_count": 33,
     "metadata": {},
     "output_type": "execute_result"
    }
   ],
   "source": [
    "def fill_nan(row):\n",
    "    # print(row)\n",
    "    # print(row.isna())\n",
    "    'row[\"Ozone\"]이나 row[\"Solar.R\"]가 결측치면 mean_data[월, 열이름]으로 대체'\n",
    "    # if np.isna(row['Ozone']):\n",
    "    pd.options.mode.copy_on_write = True\n",
    "    # row = row.copy()\n",
    "    if row.isna()['Ozone']:\n",
    "        row['Ozone'] = mean_data.loc[int(row.Month), 'Ozone']\n",
    "    if row.isna()['Solar.R']:\n",
    "        row['Solar.R'] = mean_data.loc[int(row['Month']), 'Solar.R']\n",
    "    return row\n",
    "fill_nan(data.loc[4])"
   ]
  },
  {
   "cell_type": "code",
   "execution_count": 34,
   "id": "09008cd6",
   "metadata": {},
   "outputs": [
    {
     "data": {
      "text/plain": [
       "((153, 3), (153, 1))"
      ]
     },
     "execution_count": 34,
     "metadata": {},
     "output_type": "execute_result"
    }
   ],
   "source": [
    "data = data.apply(fill_nan, axis=1)\n",
    "X_data = data[['Solar.R', 'Wind', 'Temp']]\n",
    "y_data = data[['Ozone']].values\n",
    "X_data.shape, y_data.shape"
   ]
  },
  {
   "cell_type": "code",
   "execution_count": 44,
   "id": "3b5da324",
   "metadata": {},
   "outputs": [
    {
     "name": "stdout",
     "output_type": "stream",
     "text": [
      "1000번째 cost499.7618408203125\n",
      "2000번째 cost481.2039794921875\n",
      "3000번째 cost471.8970947265625\n",
      "4000번째 cost467.2274169921875\n",
      "5000번째 cost464.8822937011719\n",
      "6000번째 cost463.7022705078125\n",
      "7000번째 cost463.10626220703125\n",
      "8000번째 cost462.80303955078125\n",
      "9000번째 cost462.64654541015625\n",
      "10000번째 cost462.56378173828125\n",
      "최종 cost:462.56378173828125, W:[[ 0.05526245]\n",
      " [-3.5319674 ]\n",
      " [ 0.84895265]], b:[0.14259292]\n"
     ]
    }
   ],
   "source": [
    "# tensorflow 구현\n",
    "# 1. x, y\n",
    "X = tf.placeholder(shape=[None, 3], dtype=tf.float32)\n",
    "y = tf.placeholder(shape=[None, 1], dtype=tf.float32)\n",
    "# 2. 독립변수 3개, 타겟변수 1개인 모델의 weight, bias\n",
    "W = tf.Variable(tf.random.normal([3, 1]))\n",
    "b = tf.Variable(tf.random.normal([1]))\n",
    "# 3. Hypothesis\n",
    "# H = X@W + b\n",
    "H = tf.matmul(X, W) + b\n",
    "# 4. cost 함수(손실함수) : mse\n",
    "cost = tf.reduce_mean(tf.square(H-y))\n",
    "# 5. train\n",
    "train = tf.train.GradientDescentOptimizer(learning_rate=1e-5).minimize(cost)\n",
    "# sess 객체 생성 & W,b 초기화\n",
    "sess = tf.Session()\n",
    "sess.run(tf.global_variables_initializer())\n",
    "# 6. 학습\n",
    "for step in range(1, 10001):\n",
    "    _, cost_val = sess.run([train, cost], feed_dict={X:X_data,\n",
    "                                                    y:y_data})\n",
    "    if step%1000 == 0:\n",
    "        print(\"{}번째 cost{}\".format(step, cost_val))\n",
    "print(\"최종 cost:{}, W:{}, b:{}\".format(cost_val,\n",
    "                                     sess.run(W),\n",
    "                                     sess.run(b)))"
   ]
  },
  {
   "cell_type": "code",
   "execution_count": 49,
   "id": "f7b0393e",
   "metadata": {},
   "outputs": [
    {
     "data": {
      "text/plain": [
       "array([[190. ,   7.4,  67. ,  41. ],\n",
       "       [118. ,   8. ,  72. ,  36. ],\n",
       "       [149. ,  12.6,  74. ,  12. ]])"
      ]
     },
     "execution_count": 49,
     "metadata": {},
     "output_type": "execute_result"
    }
   ],
   "source": [
    "np.column_stack([X_data, y_data])[:3]"
   ]
  },
  {
   "cell_type": "code",
   "execution_count": 50,
   "id": "c3f736a7",
   "metadata": {},
   "outputs": [
    {
     "data": {
      "text/plain": [
       "array([[41.38573]], dtype=float32)"
      ]
     },
     "execution_count": 50,
     "metadata": {},
     "output_type": "execute_result"
    }
   ],
   "source": [
    "# 예측하기\n",
    "input_data = np.array([[190, 7.4, 67]]) # 41\n",
    "sess.run(H, feed_dict={X:input_data})"
   ]
  },
  {
   "cell_type": "markdown",
   "id": "b438d4f7",
   "metadata": {},
   "source": [
    "### 스케일 조정\n",
    "```\n",
    "MinMaxScaler, StanderdScaler\n",
    "    0~1          -2 ~ 2. 주로 0 근처\n",
    "```"
   ]
  },
  {
   "cell_type": "code",
   "execution_count": 69,
   "id": "01cd59b1",
   "metadata": {},
   "outputs": [
    {
     "data": {
      "text/plain": [
       "((153, 3), (153, 1))"
      ]
     },
     "execution_count": 69,
     "metadata": {},
     "output_type": "execute_result"
    }
   ],
   "source": [
    "from sklearn.preprocessing import MinMaxScaler\n",
    "x_scaler = MinMaxScaler()\n",
    "y_scaler = MinMaxScaler()\n",
    "scaled_x_data = x_scaler.fit_transform(X_data)\n",
    "scaled_y_data = y_scaler.fit_transform(y_data)\n",
    "scaler_x_data.shape, scaled_y_data.shape"
   ]
  },
  {
   "cell_type": "code",
   "execution_count": 71,
   "id": "0b8067e0",
   "metadata": {},
   "outputs": [
    {
     "data": {
      "text/plain": [
       "(153, 4)"
      ]
     },
     "execution_count": 71,
     "metadata": {},
     "output_type": "execute_result"
    }
   ],
   "source": [
    "np.column_stack([scaled_x_data, scaled_y_data]).shape"
   ]
  },
  {
   "cell_type": "code",
   "execution_count": 74,
   "id": "05f97381",
   "metadata": {},
   "outputs": [
    {
     "name": "stdout",
     "output_type": "stream",
     "text": [
      "1000번째 cost2.04665470123291\n",
      "2000번째 cost1.908487319946289\n",
      "3000번째 cost1.7799046039581299\n",
      "4000번째 cost1.6602275371551514\n",
      "5000번째 cost1.5488522052764893\n",
      "6000번째 cost1.4451960325241089\n",
      "7000번째 cost1.3487244844436646\n",
      "8000번째 cost1.2589377164840698\n",
      "9000번째 cost1.1753737926483154\n",
      "10000번째 cost1.0976052284240723\n",
      "11000번째 cost1.0252275466918945\n",
      "12000번째 cost0.9578595161437988\n",
      "13000번째 cost0.8951687216758728\n",
      "14000번째 cost0.8368192911148071\n",
      "15000번째 cost0.7825086712837219\n",
      "16000번째 cost0.7319694757461548\n",
      "17000번째 cost0.6849313378334045\n",
      "18000번째 cost0.6411503553390503\n",
      "19000번째 cost0.600403904914856\n",
      "20000번째 cost0.562480628490448\n",
      "21000번째 cost0.5271816253662109\n",
      "22000번째 cost0.4943353533744812\n",
      "23000번째 cost0.46376118063926697\n",
      "24000번째 cost0.43530362844467163\n",
      "25000번째 cost0.4088202714920044\n",
      "26000번째 cost0.38416919112205505\n",
      "27000번째 cost0.3612283766269684\n",
      "28000번째 cost0.33987191319465637\n",
      "29000번째 cost0.3200003504753113\n",
      "30000번째 cost0.3014989495277405\n",
      "최종 cost:0.3014989495277405, W:[[-0.06842116]\n",
      " [-1.455363  ]\n",
      " [-0.551879  ]], b:[0.7231536]\n"
     ]
    }
   ],
   "source": [
    "# tensorflow 구현\n",
    "# 1. x, y\n",
    "X = tf.placeholder(shape=[None, 3], dtype=tf.float32)\n",
    "y = tf.placeholder(shape=[None, 1], dtype=tf.float32)\n",
    "# 2. 독립변수 3개, 타겟변수 1개인 모델의 weight, bias\n",
    "W = tf.Variable(tf.random.normal([3, 1]))\n",
    "b = tf.Variable(tf.random.normal([1]))\n",
    "# 3. Hypothesis\n",
    "# H = X@W + b\n",
    "H = tf.matmul(X, W) + b\n",
    "# 4. cost 함수(손실함수) : mse\n",
    "cost = tf.reduce_mean(tf.square(H-y))\n",
    "# 5. train\n",
    "train = tf.train.GradientDescentOptimizer(learning_rate=1e-5).minimize(cost)\n",
    "# sess 객체 생성 & W,b 초기화\n",
    "sess = tf.Session()\n",
    "sess.run(tf.global_variables_initializer())\n",
    "# 6. 학습\n",
    "for step in range(1, 30001):\n",
    "    _, cost_val = sess.run([train, cost], feed_dict={X:scaled_x_data,\n",
    "                                                    y:scaled_y_data})\n",
    "    if step%1000 == 0:\n",
    "        print(\"{}번째 cost{}\".format(step, cost_val))\n",
    "print(\"최종 cost:{}, W:{}, b:{}\".format(cost_val,\n",
    "                                     sess.run(W),\n",
    "                                     sess.run(b)))"
   ]
  },
  {
   "cell_type": "code",
   "execution_count": 75,
   "id": "2cdf637e",
   "metadata": {},
   "outputs": [
    {
     "name": "stderr",
     "output_type": "stream",
     "text": [
      "C:\\Users\\Admin\\anaconda3\\envs\\ml-dl-nlp\\lib\\site-packages\\sklearn\\base.py:420: UserWarning: X does not have valid feature names, but MinMaxScaler was fitted with feature names\n",
      "  warnings.warn(\n"
     ]
    },
    {
     "data": {
      "text/plain": [
       "array([[17.731527]], dtype=float32)"
      ]
     },
     "execution_count": 75,
     "metadata": {},
     "output_type": "execute_result"
    }
   ],
   "source": [
    "# 예측하기\n",
    "input_data = np.array([[190, 7.4, 67]])\n",
    "scaled_y_hat = sess.run(H, feed_dict={X:x_scaler.transform(input_data)})\n",
    "y_scaler.inverse_transform(scaled_y_hat)"
   ]
  },
  {
   "cell_type": "markdown",
   "id": "6514eb75",
   "metadata": {},
   "source": [
    "# 3. 이진분류 = logistic Regression (분류분석)\n",
    "- logistic 회귀분석 : 기존의 회귀분석과 다른 처리 필요시"
   ]
  },
  {
   "cell_type": "code",
   "execution_count": 79,
   "id": "76deb4f7",
   "metadata": {},
   "outputs": [
    {
     "data": {
      "text/plain": [
       "<matplotlib.collections.PathCollection at 0x23de220a170>"
      ]
     },
     "execution_count": 79,
     "metadata": {},
     "output_type": "execute_result"
    },
    {
     "data": {
      "image/png": "[encoded data removed]",
      "text/plain": [
       "<Figure size 640x480 with 1 Axes>"
      ]
     },
     "metadata": {},
     "output_type": "display_data"
    }
   ],
   "source": [
    "x = np.array([1, 2, 5, 8, 10])\n",
    "y = np.array([0, 0, 0, 1, 1]) #실제값\n",
    "from scipy import stats\n",
    "lm = stats.linregress(x, y) # 기울기(W)와 y절편(b)\n",
    "H = lm[0]*x + lm[1]\n",
    "import matplotlib.pyplot as plt\n",
    "plt.plot(x, H, 'r')\n",
    "plt.scatter(x, y)"
   ]
  },
  {
   "cell_type": "code",
   "execution_count": 80,
   "id": "72382b11",
   "metadata": {},
   "outputs": [
    {
     "data": {
      "text/plain": [
       "<matplotlib.collections.PathCollection at 0x23de16469e0>"
      ]
     },
     "execution_count": 80,
     "metadata": {},
     "output_type": "execute_result"
    },
    {
     "data": {
      "image/png": "[encoded data removed]",
      "text/plain": [
       "<Figure size 640x480 with 1 Axes>"
      ]
     },
     "metadata": {},
     "output_type": "display_data"
    }
   ],
   "source": [
    "x = np.array([1, 2, 5, 8, 10, 40])\n",
    "y = np.array([0, 0, 0, 1, 1, 1]) #실제값\n",
    "from scipy import stats\n",
    "lm = stats.linregress(x, y) # 기울기(W)와 y절편(b)\n",
    "H = lm[0]*x + lm[1]\n",
    "import matplotlib.pyplot as plt\n",
    "plt.plot(x, H, 'r')\n",
    "plt.scatter(x, y)"
   ]
  },
  {
   "cell_type": "code",
   "execution_count": 93,
   "id": "251f8bbd",
   "metadata": {},
   "outputs": [
    {
     "name": "stdout",
     "output_type": "stream",
     "text": [
      "800번째 cost:0.19962848722934723\n",
      "1600번째 cost:0.16029317677021027\n",
      "2400번째 cost:0.13607679307460785\n",
      "3200번째 cost:0.11833933740854263\n",
      "4000번째 cost:0.10453418642282486\n",
      "4800번째 cost:0.09344930201768875\n",
      "5600번째 cost:0.08436184376478195\n",
      "6400번째 cost:0.07679153978824615\n",
      "7200번째 cost:0.07040031999349594\n",
      "8000번째 cost:0.06494209915399551\n"
     ]
    }
   ],
   "source": [
    "# 교안 50pt\n",
    "import numpy as np\n",
    "X_data = np.array([[10,0],\n",
    "                   [8,1],\n",
    "                   [3,3],\n",
    "                   [2,3],\n",
    "                   [5,1],\n",
    "                   [2,0],\n",
    "                   [1,0]])\n",
    "y_data = np.array([[1],[1],[1],[1],[0],[0],[0],])\n",
    "# tensorflow 구현(tensor 그래프)\n",
    "X = tf.placeholder(shape=[None, 2], dtype=tf.float32)\n",
    "y = tf.placeholder(shape=[None, 1], dtype=tf.float32)\n",
    "# 독립변수가 2개, 종속변수가 1개의 weight, bias\n",
    "W = tf.Variable(tf.random.normal([2, 1]))\n",
    "b = tf.Variable(tf.random.normal([1]))\n",
    "# Hypothesis\n",
    "logits = tf.matmul(X, W) + b\n",
    "H      = tf.sigmoid(logits)\n",
    "#cost 함수\n",
    "# cost = tf.reduce_mean(tf.square(H-y))\n",
    "cost = tf.reduce_mean(tf.nn.sigmoid_cross_entropy_with_logits(logits=logits,\n",
    "                                                             labels=y))\n",
    "#train\n",
    "train = tf.train.GradientDescentOptimizer(learning_rate=0.1).minimize(cost)\n",
    "# sess객체 생성\n",
    "sess = tf.Session()\n",
    "sess.run(tf.global_variables_initializer())\n",
    "# 학습\n",
    "for step in range(1, 8001):\n",
    "    _, cost_val = sess.run([train, cost], feed_dict={X:X_data,\n",
    "                                                    y:y_data})\n",
    "    if step%800==0:\n",
    "        print(\"{}번째 cost:{}\".format(step, cost_val))"
   ]
  },
  {
   "cell_type": "code",
   "execution_count": 94,
   "id": "ec306e4c",
   "metadata": {},
   "outputs": [
    {
     "data": {
      "text/plain": [
       "array([[1.]], dtype=float32)"
      ]
     },
     "execution_count": 94,
     "metadata": {},
     "output_type": "execute_result"
    }
   ],
   "source": [
    "# 모델 사용\n",
    "input_data = np.array([[5, 2]])\n",
    "predict = tf.cast(H>=0.5, dtype=tf.float32)\n",
    "sess.run(predict, feed_dict={X:input_data})"
   ]
  },
  {
   "cell_type": "code",
   "execution_count": 95,
   "id": "d790cdf1",
   "metadata": {},
   "outputs": [
    {
     "name": "stdout",
     "output_type": "stream",
     "text": [
      "모델 정확도 : 1.0\n"
     ]
    }
   ],
   "source": [
    "# accuracy\n",
    "correct = tf.equal(predict, y)\n",
    "sess.run(correct, feed_dict={X:X_data,\n",
    "                            y:y_data})\n",
    "accuracy = tf.reduce_mean( tf.cast(correct, dtype=tf.float32))\n",
    "print('모델 정확도 :', sess.run(accuracy, feed_dict={X:X_data,\n",
    "                                               y:y_data}))"
   ]
  },
  {
   "cell_type": "markdown",
   "id": "e8ac8a6c",
   "metadata": {},
   "source": [
    "# 4. XOR"
   ]
  },
  {
   "cell_type": "code",
   "execution_count": 96,
   "id": "cbfc1cab",
   "metadata": {},
   "outputs": [
    {
     "name": "stdout",
     "output_type": "stream",
     "text": [
      "0번째 cost:1.296794056892395\n",
      "1000번째 cost:0.6959463953971863\n",
      "2000번째 cost:0.6940104365348816\n",
      "3000번째 cost:0.6934802532196045\n",
      "4000번째 cost:0.6932817697525024\n",
      "5000번째 cost:0.6932035684585571\n",
      "6000번째 cost:0.6931714415550232\n",
      "7000번째 cost:0.6931578516960144\n",
      "8000번째 cost:0.6931519508361816\n"
     ]
    }
   ],
   "source": [
    "X_data = np.array([[0, 0],\n",
    "                   [0, 1],\n",
    "                   [1, 0],\n",
    "                   [1, 1]])\n",
    "y_data = np.array([[0], [1], [1], [0]])\n",
    "# X, y\n",
    "X = tf.placeholder(shape=[None, 2], dtype=tf.float32)\n",
    "y = tf.placeholder(shape=[None, 1], dtype=tf.float32)\n",
    "# 독립변수가 2개, 종속변수가 1개 W, b\n",
    "W = tf.Variable(tf.random.normal([2, 1]))\n",
    "b = tf.Variable(tf.random.normal([1]))\n",
    "# H\n",
    "logits = tf.matmul(X, W) + b\n",
    "H      = tf.sigmoid(logits)\n",
    "# cost\n",
    "cost = tf.reduce_mean(tf.nn.sigmoid_cross_entropy_with_logits(logits=logits,\n",
    "                                                             labels=y))\n",
    "# train\n",
    "train = tf.train.GradientDescentOptimizer(learning_rate=0.01).minimize(cost)\n",
    "# sess 객체 생성\n",
    "sess = tf.Session()\n",
    "sess.run(tf.global_variables_initializer())\n",
    "# 학습\n",
    "for step in range(8001):\n",
    "    _, cost_val = sess.run([train, cost], feed_dict={X:X_data,\n",
    "                                                    y:y_data})\n",
    "    if step%1000==0:\n",
    "        print(\"{}번째 cost:{}\".format(step, cost_val))"
   ]
  },
  {
   "cell_type": "code",
   "execution_count": 97,
   "id": "9d5e1702",
   "metadata": {},
   "outputs": [
    {
     "name": "stdout",
     "output_type": "stream",
     "text": [
      "모델 정확도 : 0.5\n"
     ]
    }
   ],
   "source": [
    "# accuracy\n",
    "predict = tf.cast(H>=0.5, dtype=tf.float32)\n",
    "correct = tf.equal(predict, y)\n",
    "sess.run(correct, feed_dict={X:X_data,\n",
    "                            y:y_data})\n",
    "accuracy = tf.reduce_mean( tf.cast(correct, dtype=tf.float32))\n",
    "print('모델 정확도 :', sess.run(accuracy, feed_dict={X:X_data,\n",
    "                                               y:y_data}))"
   ]
  },
  {
   "cell_type": "markdown",
   "id": "c8f81604",
   "metadata": {},
   "source": [
    "# 5. Deep Learning XOR 예제"
   ]
  },
  {
   "cell_type": "code",
   "execution_count": 98,
   "id": "89f15702",
   "metadata": {},
   "outputs": [
    {
     "name": "stdout",
     "output_type": "stream",
     "text": [
      "0번째 cost:1.9159603118896484\n",
      "1000번째 cost:0.42743948101997375\n",
      "2000번째 cost:0.23004427552223206\n",
      "3000번째 cost:0.12729595601558685\n",
      "4000번째 cost:0.07370701432228088\n",
      "5000번째 cost:0.046478163450956345\n",
      "6000번째 cost:0.03205157071352005\n",
      "7000번째 cost:0.02392313815653324\n",
      "8000번째 cost:0.018765736371278763\n",
      "9000번째 cost:0.015256509184837341\n",
      "10000번째 cost:0.012747520580887794\n"
     ]
    }
   ],
   "source": [
    "X_data = np.array([[0, 0],\n",
    "                   [0, 1],\n",
    "                   [1, 0],\n",
    "                   [1, 1]])\n",
    "y_data = np.array([[0], [1], [1], [0]])\n",
    "# X, y\n",
    "X = tf.placeholder(shape=[None, 2], dtype=tf.float32)\n",
    "y = tf.placeholder(shape=[None, 1], dtype=tf.float32)\n",
    "# layer1 : (입력2, 출력4)\n",
    "W1 = tf.Variable(tf.random.normal([2, 4]))\n",
    "b1 = tf.Variable(tf.random.normal([4]))\n",
    "# H\n",
    "layer1= tf.nn.relu(tf.matmul(X, W1) + b1)\n",
    "\n",
    "# layer2 : (입력4, 출력1)\n",
    "W2 = tf.Variable(tf.random.normal([4, 1]))\n",
    "b2 = tf.Variable(tf.random.normal([1]))\n",
    "# H\n",
    "logits = tf.matmul(layer1, W2) + b2\n",
    "H      = tf.sigmoid(logits)\n",
    "\n",
    "# cost\n",
    "cost = tf.reduce_mean(tf.nn.sigmoid_cross_entropy_with_logits(logits=logits,\n",
    "                                                             labels=y))\n",
    "# train\n",
    "train = tf.train.GradientDescentOptimizer(learning_rate=0.01).minimize(cost)\n",
    "# sess 객체 생성\n",
    "sess = tf.Session()\n",
    "sess.run(tf.global_variables_initializer())\n",
    "# 학습\n",
    "for step in range(10001):\n",
    "    _, cost_val = sess.run([train, cost], feed_dict={X:X_data,\n",
    "                                                    y:y_data})\n",
    "    if step%1000==0:\n",
    "        print(\"{}번째 cost:{}\".format(step, cost_val))"
   ]
  },
  {
   "cell_type": "code",
   "execution_count": 99,
   "id": "1e869b3b",
   "metadata": {},
   "outputs": [
    {
     "name": "stdout",
     "output_type": "stream",
     "text": [
      "모델 정확도 : 1.0\n"
     ]
    }
   ],
   "source": [
    "# accuracy\n",
    "predict = tf.cast(H>=0.5, dtype=tf.float32)\n",
    "correct = tf.equal(predict, y)\n",
    "sess.run(correct, feed_dict={X:X_data,\n",
    "                            y:y_data})\n",
    "accuracy = tf.reduce_mean( tf.cast(correct, dtype=tf.float32))\n",
    "print('모델 정확도 :', sess.run(accuracy, feed_dict={X:X_data,\n",
    "                                               y:y_data}))"
   ]
  },
  {
   "cell_type": "markdown",
   "id": "5f828d71",
   "metadata": {},
   "source": [
    "## layer 층 x_data 2개 -> 4 -> 1을\n",
    "## layer 층 x_data 2개 -> 10 -> 20 -> 10 -> 1"
   ]
  },
  {
   "cell_type": "code",
   "execution_count": 104,
   "id": "a7eb82a1",
   "metadata": {},
   "outputs": [
    {
     "name": "stdout",
     "output_type": "stream",
     "text": [
      "0번째 cost:6.096261978149414\n",
      "50번째 cost:0.058127161115407944\n",
      "100번째 cost:0.022259298712015152\n",
      "150번째 cost:0.014014692977070808\n",
      "200번째 cost:0.010271023958921432\n",
      "250번째 cost:0.008063092827796936\n",
      "300번째 cost:0.0066125839948654175\n"
     ]
    }
   ],
   "source": [
    "X_data = np.array([[0, 0],\n",
    "                   [0, 1],\n",
    "                   [1, 0],\n",
    "                   [1, 1]])\n",
    "y_data = np.array([[0], [1], [1], [0]])\n",
    "# X, y\n",
    "X = tf.placeholder(shape=[None, 2], dtype=tf.float32)\n",
    "y = tf.placeholder(shape=[None, 1], dtype=tf.float32)\n",
    "# layer1(입력층 relu) : 입력 2, 출력 10\n",
    "W1 = tf.Variable(tf.random.normal([2, 10]))\n",
    "b1 = tf.Variable(tf.random.normal([10]))\n",
    "layer1 = tf.nn.relu(tf.matmul(X, W1) + b1)\n",
    "\n",
    "# layer2(은닉층 relu) : 입력 10, 출력 20\n",
    "W2 = tf.Variable(tf.random.normal([10, 20]))\n",
    "b2 = tf.Variable(tf.random.normal([20]))\n",
    "layer2 = tf.nn.relu(tf.matmul(layer1, W2) + b2)\n",
    "\n",
    "# layer3(은닉층 relu) : 입력 20, 출력10\n",
    "W3 = tf.Variable(tf.random.normal([20, 10]))\n",
    "b3 = tf.Variable(tf.random.normal([10]))\n",
    "layer3 = tf.nn.relu(tf.matmul(layer2, W3) + b3)\n",
    "\n",
    "# layer4(출력층 이진분류에서는sigmoid, 일반분류에서는 softmax) : 입력 10, 출력1\n",
    "W4 = tf.Variable(tf.random.normal([10, 1]))\n",
    "b4 = tf.Variable(tf.random.normal([1]))\n",
    "logits = tf.matmul(layer3, W4) + b4\n",
    "H = tf.sigmoid(logits)\n",
    "\n",
    "# cost\n",
    "cost = tf.reduce_mean(tf.nn.sigmoid_cross_entropy_with_logits(logits=logits,\n",
    "                                                             labels=y))\n",
    "# train\n",
    "train = tf.train.GradientDescentOptimizer(learning_rate=0.01).minimize(cost)\n",
    "# sess 객체 생성\n",
    "sess = tf.Session()\n",
    "sess.run(tf.global_variables_initializer())\n",
    "# 학습\n",
    "for step in range(301):\n",
    "    _, cost_val = sess.run([train, cost], feed_dict={X:X_data,\n",
    "                                                    y:y_data})\n",
    "    if step%50==0:\n",
    "        print(\"{}번째 cost:{}\".format(step, cost_val))"
   ]
  },
  {
   "cell_type": "code",
   "execution_count": 105,
   "id": "c725023f",
   "metadata": {},
   "outputs": [
    {
     "name": "stdout",
     "output_type": "stream",
     "text": [
      "모델 정확도 : 1.0\n"
     ]
    }
   ],
   "source": [
    "# accuracy\n",
    "predict = tf.cast(H>=0.5, dtype=tf.float32)\n",
    "correct = tf.equal(predict, y)\n",
    "sess.run(correct, feed_dict={X:X_data,\n",
    "                            y:y_data})\n",
    "accuracy = tf.reduce_mean( tf.cast(correct, dtype=tf.float32))\n",
    "print('모델 정확도 :', sess.run(accuracy, feed_dict={X:X_data,\n",
    "                                               y:y_data}))"
   ]
  },
  {
   "cell_type": "code",
   "execution_count": null,
   "id": "77907abf",
   "metadata": {},
   "outputs": [],
   "source": []
  },
  {
   "cell_type": "code",
   "execution_count": null,
   "id": "376adc31",
   "metadata": {},
   "outputs": [],
   "source": []
  },
  {
   "cell_type": "code",
   "execution_count": null,
   "id": "1a5188b7",
   "metadata": {},
   "outputs": [],
   "source": []
  },
  {
   "cell_type": "code",
   "execution_count": null,
   "id": "1d0a099c",
   "metadata": {},
   "outputs": [],
   "source": []
  },
  {
   "cell_type": "code",
   "execution_count": null,
   "id": "636a1320",
   "metadata": {},
   "outputs": [],
   "source": []
  },
  {
   "cell_type": "code",
   "execution_count": null,
   "id": "a32f61d3",
   "metadata": {},
   "outputs": [],
   "source": []
  },
  {
   "cell_type": "code",
   "execution_count": null,
   "id": "8e6a6c14",
   "metadata": {},
   "outputs": [],
   "source": []
  },
  {
   "cell_type": "code",
   "execution_count": null,
   "id": "754eafe8",
   "metadata": {},
   "outputs": [],
   "source": []
  },
  {
   "cell_type": "code",
   "execution_count": null,
   "id": "9766de81",
   "metadata": {},
   "outputs": [],
   "source": []
  }
 ],
 "metadata": {
  "kernelspec": {
   "display_name": "ml-dl-nlp",
   "language": "python",
   "name": "ml-dl-nlp"
  },
  "language_info": {
   "codemirror_mode": {
    "name": "ipython",
    "version": 3
   },
   "file_extension": ".py",
   "mimetype": "text/x-python",
   "name": "python",
   "nbconvert_exporter": "python",
   "pygments_lexer": "ipython3",
   "version": "3.10.18"
  },
  "toc": {
   "base_numbering": 1,
   "nav_menu": {},
   "number_sections": false,
   "sideBar": true,
   "skip_h1_title": false,
   "title_cell": "Table of Contents",
   "title_sidebar": "Contents",
   "toc_cell": false,
   "toc_position": {},
   "toc_section_display": true,
   "toc_window_display": false
  }
 },
 "nbformat": 4,
 "nbformat_minor": 5
}
