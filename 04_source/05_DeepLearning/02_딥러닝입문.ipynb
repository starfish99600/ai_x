{
 "cells": [
  {
   "cell_type": "code",
   "execution_count": 1,
   "id": "74abbf9a",
   "metadata": {},
   "outputs": [
    {
     "data": {
      "text/html": [
       "\n",
       "<style>\n",
       "div.container{width:85% !important;}\n",
       "div.cell.code_cell.rendered{width:100%;}\n",
       "div.input_prompt{padding:0px;}\n",
       "div.CodeMirror {font-family:Consolas; font-size:12pt;}\n",
       "div.output {font-size:12pt; font-weight:bold;}\n",
       "div.input {font-family:Consolas; font-size:12pt;}\n",
       "div.prompt {min-width:70px;}\n",
       "div#toc-wrapper{padding-top:120px;}\n",
       "div.text_cell_render ul li{font-size:12pt;padding:5px;}\n",
       "table.dataframe{font-size:12px;}\n",
       "</style>\n"
      ],
      "text/plain": [
       "<IPython.core.display.HTML object>"
      ]
     },
     "metadata": {},
     "output_type": "display_data"
    }
   ],
   "source": [
    "from IPython.display import display, HTML\n",
    "display(HTML(\"\"\"\n",
    "<style>\n",
    "div.container{width:85% !important;}\n",
    "div.cell.code_cell.rendered{width:100%;}\n",
    "div.input_prompt{padding:0px;}\n",
    "div.CodeMirror {font-family:Consolas; font-size:12pt;}\n",
    "div.output {font-size:12pt; font-weight:bold;}\n",
    "div.input {font-family:Consolas; font-size:12pt;}\n",
    "div.prompt {min-width:70px;}\n",
    "div#toc-wrapper{padding-top:120px;}\n",
    "div.text_cell_render ul li{font-size:12pt;padding:5px;}\n",
    "table.dataframe{font-size:12px;}\n",
    "</style>\n",
    "\"\"\"))"
   ]
  },
  {
   "cell_type": "code",
   "execution_count": 5,
   "id": "d034222a",
   "metadata": {},
   "outputs": [],
   "source": [
    "from tensorflow.keras.utils import to_categorical  #분류분석시 원핫인코딩\n",
    "from tensorflow.keras.models import Sequential #모델생성\n",
    "from tensorflow.keras.layers import Dense, Input\n",
    "import numpy as np"
   ]
  },
  {
   "cell_type": "markdown",
   "id": "a1ae51d8",
   "metadata": {},
   "source": [
    "# 머신러닝/딥러닝 : 데이터의 법칙성을 추출\n",
    "- 다양한 분야에서 응용 : 글씨인식, 문장분류, 질병진단,...\n",
    "※ ML/DL의 종류\n",
    "- 지도학습(독립=입력변수와 종속=타겟=출력변수가 모두 주어졌을 경우)\n",
    "    회귀분석(타겟변수가 연속형) VS 분류분석(multi, binary)\n",
    "- 비지도학습(입력변수만)\n",
    "    군집화\n",
    "- 강화학습\n",
    "\n",
    "※ 지도학습에서의 ML, DL 프로그래밍 방식\n",
    "1. 데이터 셋 확보(input=입력변수, target=종속변수)\n",
    "    원본데이터 및 시뮬레이션을 통해 데이터 생성\n",
    "2. 전처리\n",
    "    스케일 조정\n",
    "    훈련셋(학습), 검증셋, 시험셋(테스트셋)\n",
    "    학습 및 평가 가능한 포맷으로 변환\n",
    "3. 모델구성\n",
    "    Sequential 객체 생성뒤 필요한 층을 add()함수로 추가\n",
    "4. 모델학습과정 설정\n",
    "    compile()함수 이용. 손실함수, optimizer, metrics(평가지표)\n",
    "5. 모델 학습시키기 (ft. 학습과정 지켜보기)\n",
    "    fit()함수 이용 - 훈련셋입력=독립변수 , 훈련셋타겟=종속변수, 학습횟수, 검증셋\n",
    "6. 모델평가\n",
    "    시험셋(테스트셋)을 인자로 넣은 evaluate()함수 이용, 그래프\n",
    "7. 모델사용\n",
    "    predict()이용. 입력데이터는 2차원 데이터\n",
    "8. 모델 저장\n",
    "    save()함수를 이용해서 저장. 저장된 모델은 load_model()함수를 이용해서 불러올 수 있음."
   ]
  },
  {
   "cell_type": "markdown",
   "id": "7e8a9cae",
   "metadata": {},
   "source": [
    "# 1. 데이터 셋 생성"
   ]
  },
  {
   "cell_type": "markdown",
   "id": "8b4ec081",
   "metadata": {},
   "source": [
    "# 2. 데이터 전처리"
   ]
  },
  {
   "cell_type": "code",
   "execution_count": 24,
   "id": "26a54f88",
   "metadata": {},
   "outputs": [
    {
     "data": {
      "text/plain": [
       "((90,), (9,), (9,), (90,), (9,), (9,))"
      ]
     },
     "execution_count": 24,
     "metadata": {},
     "output_type": "execute_result"
    }
   ],
   "source": [
    "# 학습데이터 = 훈련데이터\n",
    "x_train = np.array([1,2,3,4,5,6,7,8,9]*10)\n",
    "y_train = np.array([2,4,6,8,10,12,14,16,18]*10)\n",
    "# 검증데이터\n",
    "x_val = np.array([1,2,3,4,5,6,7,8,9])\n",
    "y_val = np.array([2,4,6,8,10,12,14,16,18])\n",
    "# 테스트셋 = 시험데이터\n",
    "x_test = np.array([1,2,3,4,5,6,7,8,9])\n",
    "y_test = np.array([2,4,6,8,10,12,14,16,18])\n",
    "x_train.shape, x_val.shape, x_test.shape, y_train.shape, y_val.shape, y_test.shape"
   ]
  },
  {
   "cell_type": "code",
   "execution_count": 4,
   "id": "c2d6cc91",
   "metadata": {},
   "outputs": [
    {
     "name": "stdout",
     "output_type": "stream",
     "text": [
      "원 데이터: ['a' 'b' 'c' 'd']\n",
      "라벨이노딩된 데이터 : [0 1 2 3]\n",
      "원핫인코딩된 데이터 : [[1. 0. 0. 0.]\n",
      " [0. 1. 0. 0.]\n",
      " [0. 0. 1. 0.]\n",
      " [0. 0. 0. 1.]]\n"
     ]
    }
   ],
   "source": [
    "# 인코딩 종류\n",
    "data = np.array(['a','b','c','d'])\n",
    "print('원 데이터:', data)\n",
    "from sklearn.preprocessing import LabelEncoder\n",
    "le = LabelEncoder()\n",
    "# le.fit(data)\n",
    "# labeled_data = le.transform(data)\n",
    "labeled_data = le.fit_transform(data)\n",
    "print('라벨이노딩된 데이터 :', labeled_data)\n",
    "one_hot_encoded_data = to_categorical(labeled_data)\n",
    "print('원핫인코딩된 데이터 :', one_hot_encoded_data)"
   ]
  },
  {
   "cell_type": "code",
   "execution_count": 5,
   "id": "5e665bf1",
   "metadata": {},
   "outputs": [
    {
     "name": "stdout",
     "output_type": "stream",
     "text": [
      "[1 2 2 4 2]\n",
      "to_categorical을 이용한 원핫인코딩 :\n",
      " [[0. 1. 0. 0. 0.]\n",
      " [0. 0. 1. 0. 0.]\n",
      " [0. 0. 1. 0. 0.]\n",
      " [0. 0. 0. 0. 1.]\n",
      " [0. 0. 1. 0. 0.]]\n"
     ]
    },
    {
     "data": {
      "text/plain": [
       "'get_dumies를 이용한 원핫인코딩 :'"
      ]
     },
     "metadata": {},
     "output_type": "display_data"
    },
    {
     "data": {
      "text/html": [
       "<div>\n",
       "<style scoped>\n",
       "    .dataframe tbody tr th:only-of-type {\n",
       "        vertical-align: middle;\n",
       "    }\n",
       "\n",
       "    .dataframe tbody tr th {\n",
       "        vertical-align: top;\n",
       "    }\n",
       "\n",
       "    .dataframe thead th {\n",
       "        text-align: right;\n",
       "    }\n",
       "</style>\n",
       "<table border=\"1\" class=\"dataframe\">\n",
       "  <thead>\n",
       "    <tr style=\"text-align: right;\">\n",
       "      <th></th>\n",
       "      <th>1</th>\n",
       "      <th>2</th>\n",
       "      <th>4</th>\n",
       "    </tr>\n",
       "  </thead>\n",
       "  <tbody>\n",
       "    <tr>\n",
       "      <th>0</th>\n",
       "      <td>1</td>\n",
       "      <td>0</td>\n",
       "      <td>0</td>\n",
       "    </tr>\n",
       "    <tr>\n",
       "      <th>1</th>\n",
       "      <td>0</td>\n",
       "      <td>1</td>\n",
       "      <td>0</td>\n",
       "    </tr>\n",
       "    <tr>\n",
       "      <th>2</th>\n",
       "      <td>0</td>\n",
       "      <td>1</td>\n",
       "      <td>0</td>\n",
       "    </tr>\n",
       "    <tr>\n",
       "      <th>3</th>\n",
       "      <td>0</td>\n",
       "      <td>0</td>\n",
       "      <td>1</td>\n",
       "    </tr>\n",
       "    <tr>\n",
       "      <th>4</th>\n",
       "      <td>0</td>\n",
       "      <td>1</td>\n",
       "      <td>0</td>\n",
       "    </tr>\n",
       "  </tbody>\n",
       "</table>\n",
       "</div>"
      ],
      "text/plain": [
       "   1  2  4\n",
       "0  1  0  0\n",
       "1  0  1  0\n",
       "2  0  1  0\n",
       "3  0  0  1\n",
       "4  0  1  0"
      ]
     },
     "metadata": {},
     "output_type": "display_data"
    }
   ],
   "source": [
    "# 분류분석을 위해, tatget을 원핫인코딩(라벨링 전환)\n",
    "data = np.array([1,2,2,4,2])\n",
    "print(data)\n",
    "categorical_one_hot = to_categorical(data)\n",
    "print('to_categorical을 이용한 원핫인코딩 :\\n', categorical_one_hot)\n",
    "import pandas as pd\n",
    "get_dumies_one_hot = pd.get_dummies(data)\n",
    "display('get_dumies를 이용한 원핫인코딩 :', get_dumies_one_hot)"
   ]
  },
  {
   "cell_type": "code",
   "execution_count": 25,
   "id": "89d41022",
   "metadata": {},
   "outputs": [],
   "source": [
    "# 분류분석을 위한 target변수 라벨링 전환(=원핫인코딩)\n",
    "Y_train = to_categorical(y_train, 19)\n",
    "Y_val   = to_categorical(y_val)\n",
    "Y_test  = to_categorical(y_test)"
   ]
  },
  {
   "cell_type": "code",
   "execution_count": 26,
   "id": "7643e216",
   "metadata": {},
   "outputs": [
    {
     "name": "stdout",
     "output_type": "stream",
     "text": [
      "훈련셋 구조 : (90,) (90, 19)\n",
      "검증셋 구조 : (9,) (9, 19)\n",
      "테스트셋 구조 : (9,) (9, 19)\n"
     ]
    }
   ],
   "source": [
    "print('훈련셋 구조 :', x_train.shape, Y_train.shape) # 독립변수 1개, 타겟변수 19\n",
    "print('검증셋 구조 :', x_val.shape, Y_val.shape)\n",
    "print('테스트셋 구조 :', x_test.shape, Y_test.shape)"
   ]
  },
  {
   "cell_type": "markdown",
   "id": "e524df1d",
   "metadata": {},
   "source": [
    "# 3. 모델 구성하기"
   ]
  },
  {
   "cell_type": "code",
   "execution_count": 7,
   "id": "74c50ba5",
   "metadata": {},
   "outputs": [
    {
     "name": "stdout",
     "output_type": "stream",
     "text": [
      "Model: \"sequential\"\n",
      "_________________________________________________________________\n",
      " Layer (type)                Output Shape              Param #   \n",
      "=================================================================\n",
      " dense (Dense)               (None, 38)                76        \n",
      "                                                                 \n",
      " dense_1 (Dense)             (None, 64)                2496      \n",
      "                                                                 \n",
      " dense_2 (Dense)             (None, 32)                2080      \n",
      "                                                                 \n",
      " dense_3 (Dense)             (None, 19)                627       \n",
      "                                                                 \n",
      "=================================================================\n",
      "Total params: 5,279\n",
      "Trainable params: 5,279\n",
      "Non-trainable params: 0\n",
      "_________________________________________________________________\n"
     ]
    }
   ],
   "source": [
    "model = Sequential()\n",
    "model.add(Input(shape=(1,)))# 입력층\n",
    "model.add(Dense(units=38, activation='sigmoid')) # units출력수, 활성화함수 :relu, tanh\n",
    "model.add(Dense(units=64, activation='elu'))\n",
    "model.add(Dense(units=32, activation='elu'))\n",
    "model.add(Dense(units=19, activation='softmax'))\n",
    "# softmax : 모든 출력결과의 합이 1. 분류분석 마지막 layer(출력층)에서 activation으로\n",
    "model.summary()"
   ]
  },
  {
   "cell_type": "markdown",
   "id": "538ecdb3",
   "metadata": {},
   "source": [
    "# 4. 모델 학습과정"
   ]
  },
  {
   "cell_type": "code",
   "execution_count": 28,
   "id": "5012b2c5",
   "metadata": {},
   "outputs": [],
   "source": [
    "model.compile(loss=\"categorical_crossentropy\", # 분류분석에서의 손실함수(원핫인코딩 있음)\n",
    "             optimizer='sgd',\n",
    "             metrics=['accuracy']) # 평가지표 : accuracy"
   ]
  },
  {
   "cell_type": "markdown",
   "id": "9f9c803a",
   "metadata": {},
   "source": [
    "# 5. 모델 학습 시키기"
   ]
  },
  {
   "cell_type": "code",
   "execution_count": 29,
   "id": "2e471dbd",
   "metadata": {},
   "outputs": [
    {
     "name": "stdout",
     "output_type": "stream",
     "text": [
      "Epoch 1/300\n",
      "9/9 - 0s - loss: 3.1243 - accuracy: 0.1111 - val_loss: 3.0253 - val_accuracy: 0.1111 - 467ms/epoch - 52ms/step\n",
      "Epoch 2/300\n",
      "9/9 - 0s - loss: 2.9784 - accuracy: 0.1111 - val_loss: 2.9065 - val_accuracy: 0.1111 - 43ms/epoch - 5ms/step\n",
      "Epoch 3/300\n",
      "9/9 - 0s - loss: 2.8734 - accuracy: 0.1111 - val_loss: 2.8159 - val_accuracy: 0.1111 - 43ms/epoch - 5ms/step\n",
      "Epoch 4/300\n",
      "9/9 - 0s - loss: 2.7911 - accuracy: 0.1111 - val_loss: 2.7443 - val_accuracy: 0.1111 - 47ms/epoch - 5ms/step\n",
      "Epoch 5/300\n",
      "9/9 - 0s - loss: 2.7260 - accuracy: 0.1111 - val_loss: 2.6837 - val_accuracy: 0.1111 - 46ms/epoch - 5ms/step\n",
      "Epoch 6/300\n",
      "9/9 - 0s - loss: 2.6681 - accuracy: 0.1111 - val_loss: 2.6307 - val_accuracy: 0.1111 - 45ms/epoch - 5ms/step\n",
      "Epoch 7/300\n",
      "9/9 - 0s - loss: 2.6169 - accuracy: 0.1111 - val_loss: 2.5829 - val_accuracy: 0.1111 - 46ms/epoch - 5ms/step\n",
      "Epoch 8/300\n",
      "9/9 - 0s - loss: 2.5739 - accuracy: 0.1111 - val_loss: 2.5396 - val_accuracy: 0.1111 - 41ms/epoch - 5ms/step\n",
      "Epoch 9/300\n",
      "9/9 - 0s - loss: 2.5284 - accuracy: 0.1111 - val_loss: 2.4993 - val_accuracy: 0.2222 - 43ms/epoch - 5ms/step\n",
      "Epoch 10/300\n",
      "9/9 - 0s - loss: 2.4932 - accuracy: 0.1889 - val_loss: 2.4616 - val_accuracy: 0.2222 - 43ms/epoch - 5ms/step\n",
      "Epoch 11/300\n",
      "9/9 - 0s - loss: 2.4553 - accuracy: 0.1778 - val_loss: 2.4257 - val_accuracy: 0.2222 - 43ms/epoch - 5ms/step\n",
      "Epoch 12/300\n",
      "9/9 - 0s - loss: 2.4224 - accuracy: 0.1778 - val_loss: 2.3916 - val_accuracy: 0.3333 - 41ms/epoch - 5ms/step\n",
      "Epoch 13/300\n",
      "9/9 - 0s - loss: 2.3883 - accuracy: 0.2000 - val_loss: 2.3590 - val_accuracy: 0.3333 - 41ms/epoch - 5ms/step\n",
      "Epoch 14/300\n",
      "9/9 - 0s - loss: 2.3558 - accuracy: 0.2333 - val_loss: 2.3277 - val_accuracy: 0.3333 - 40ms/epoch - 4ms/step\n",
      "Epoch 15/300\n",
      "9/9 - 0s - loss: 2.3234 - accuracy: 0.2333 - val_loss: 2.2978 - val_accuracy: 0.3333 - 43ms/epoch - 5ms/step\n",
      "Epoch 16/300\n",
      "9/9 - 0s - loss: 2.2977 - accuracy: 0.2556 - val_loss: 2.2691 - val_accuracy: 0.3333 - 44ms/epoch - 5ms/step\n",
      "Epoch 17/300\n",
      "9/9 - 0s - loss: 2.2686 - accuracy: 0.2444 - val_loss: 2.2416 - val_accuracy: 0.3333 - 48ms/epoch - 5ms/step\n",
      "Epoch 18/300\n",
      "9/9 - 0s - loss: 2.2424 - accuracy: 0.2778 - val_loss: 2.2152 - val_accuracy: 0.3333 - 43ms/epoch - 5ms/step\n",
      "Epoch 19/300\n",
      "9/9 - 0s - loss: 2.2150 - accuracy: 0.2444 - val_loss: 2.1898 - val_accuracy: 0.3333 - 44ms/epoch - 5ms/step\n",
      "Epoch 20/300\n",
      "9/9 - 0s - loss: 2.1910 - accuracy: 0.2556 - val_loss: 2.1655 - val_accuracy: 0.3333 - 44ms/epoch - 5ms/step\n",
      "Epoch 21/300\n",
      "9/9 - 0s - loss: 2.1679 - accuracy: 0.2778 - val_loss: 2.1422 - val_accuracy: 0.3333 - 45ms/epoch - 5ms/step\n",
      "Epoch 22/300\n",
      "9/9 - 0s - loss: 2.1470 - accuracy: 0.2667 - val_loss: 2.1197 - val_accuracy: 0.3333 - 41ms/epoch - 5ms/step\n",
      "Epoch 23/300\n",
      "9/9 - 0s - loss: 2.1244 - accuracy: 0.2778 - val_loss: 2.0979 - val_accuracy: 0.3333 - 52ms/epoch - 6ms/step\n",
      "Epoch 24/300\n",
      "9/9 - 0s - loss: 2.1010 - accuracy: 0.2778 - val_loss: 2.0769 - val_accuracy: 0.4444 - 46ms/epoch - 5ms/step\n",
      "Epoch 25/300\n",
      "9/9 - 0s - loss: 2.0821 - accuracy: 0.3556 - val_loss: 2.0565 - val_accuracy: 0.4444 - 45ms/epoch - 5ms/step\n",
      "Epoch 26/300\n",
      "9/9 - 0s - loss: 2.0635 - accuracy: 0.2889 - val_loss: 2.0366 - val_accuracy: 0.4444 - 43ms/epoch - 5ms/step\n",
      "Epoch 27/300\n",
      "9/9 - 0s - loss: 2.0422 - accuracy: 0.3556 - val_loss: 2.0174 - val_accuracy: 0.3333 - 48ms/epoch - 5ms/step\n",
      "Epoch 28/300\n",
      "9/9 - 0s - loss: 2.0233 - accuracy: 0.3333 - val_loss: 1.9983 - val_accuracy: 0.2222 - 44ms/epoch - 5ms/step\n",
      "Epoch 29/300\n",
      "9/9 - 0s - loss: 2.0040 - accuracy: 0.2889 - val_loss: 1.9796 - val_accuracy: 0.3333 - 43ms/epoch - 5ms/step\n",
      "Epoch 30/300\n",
      "9/9 - 0s - loss: 1.9848 - accuracy: 0.3667 - val_loss: 1.9613 - val_accuracy: 0.3333 - 40ms/epoch - 4ms/step\n",
      "Epoch 31/300\n",
      "9/9 - 0s - loss: 1.9678 - accuracy: 0.3000 - val_loss: 1.9436 - val_accuracy: 0.3333 - 47ms/epoch - 5ms/step\n",
      "Epoch 32/300\n",
      "9/9 - 0s - loss: 1.9503 - accuracy: 0.2778 - val_loss: 1.9256 - val_accuracy: 0.3333 - 49ms/epoch - 5ms/step\n",
      "Epoch 33/300\n",
      "9/9 - 0s - loss: 1.9334 - accuracy: 0.2444 - val_loss: 1.9079 - val_accuracy: 0.3333 - 43ms/epoch - 5ms/step\n",
      "Epoch 34/300\n",
      "9/9 - 0s - loss: 1.9181 - accuracy: 0.3444 - val_loss: 1.8905 - val_accuracy: 0.3333 - 42ms/epoch - 5ms/step\n",
      "Epoch 35/300\n",
      "9/9 - 0s - loss: 1.9006 - accuracy: 0.3556 - val_loss: 1.8737 - val_accuracy: 0.3333 - 41ms/epoch - 5ms/step\n",
      "Epoch 36/300\n",
      "9/9 - 0s - loss: 1.8785 - accuracy: 0.2889 - val_loss: 1.8562 - val_accuracy: 0.3333 - 40ms/epoch - 4ms/step\n",
      "Epoch 37/300\n",
      "9/9 - 0s - loss: 1.8659 - accuracy: 0.2333 - val_loss: 1.8394 - val_accuracy: 0.3333 - 43ms/epoch - 5ms/step\n",
      "Epoch 38/300\n",
      "9/9 - 0s - loss: 1.8489 - accuracy: 0.2556 - val_loss: 1.8224 - val_accuracy: 0.3333 - 41ms/epoch - 5ms/step\n",
      "Epoch 39/300\n",
      "9/9 - 0s - loss: 1.8271 - accuracy: 0.2111 - val_loss: 1.8057 - val_accuracy: 0.3333 - 45ms/epoch - 5ms/step\n",
      "Epoch 40/300\n",
      "9/9 - 0s - loss: 1.8100 - accuracy: 0.3000 - val_loss: 1.7892 - val_accuracy: 0.3333 - 42ms/epoch - 5ms/step\n",
      "Epoch 41/300\n",
      "9/9 - 0s - loss: 1.7958 - accuracy: 0.2444 - val_loss: 1.7730 - val_accuracy: 0.3333 - 44ms/epoch - 5ms/step\n",
      "Epoch 42/300\n",
      "9/9 - 0s - loss: 1.7739 - accuracy: 0.2778 - val_loss: 1.7571 - val_accuracy: 0.3333 - 43ms/epoch - 5ms/step\n",
      "Epoch 43/300\n",
      "9/9 - 0s - loss: 1.7674 - accuracy: 0.3111 - val_loss: 1.7416 - val_accuracy: 0.3333 - 44ms/epoch - 5ms/step\n",
      "Epoch 44/300\n",
      "9/9 - 0s - loss: 1.7492 - accuracy: 0.2778 - val_loss: 1.7262 - val_accuracy: 0.3333 - 49ms/epoch - 5ms/step\n",
      "Epoch 45/300\n",
      "9/9 - 0s - loss: 1.7344 - accuracy: 0.3556 - val_loss: 1.7111 - val_accuracy: 0.4444 - 48ms/epoch - 5ms/step\n",
      "Epoch 46/300\n",
      "9/9 - 0s - loss: 1.7242 - accuracy: 0.3222 - val_loss: 1.6964 - val_accuracy: 0.3333 - 44ms/epoch - 5ms/step\n",
      "Epoch 47/300\n",
      "9/9 - 0s - loss: 1.7156 - accuracy: 0.2889 - val_loss: 1.6822 - val_accuracy: 0.3333 - 45ms/epoch - 5ms/step\n",
      "Epoch 48/300\n",
      "9/9 - 0s - loss: 1.6922 - accuracy: 0.3667 - val_loss: 1.6678 - val_accuracy: 0.3333 - 47ms/epoch - 5ms/step\n",
      "Epoch 49/300\n",
      "9/9 - 0s - loss: 1.6800 - accuracy: 0.3333 - val_loss: 1.6537 - val_accuracy: 0.3333 - 43ms/epoch - 5ms/step\n",
      "Epoch 50/300\n",
      "9/9 - 0s - loss: 1.6662 - accuracy: 0.3778 - val_loss: 1.6400 - val_accuracy: 0.4444 - 45ms/epoch - 5ms/step\n",
      "Epoch 51/300\n",
      "9/9 - 0s - loss: 1.6505 - accuracy: 0.2778 - val_loss: 1.6267 - val_accuracy: 0.4444 - 50ms/epoch - 6ms/step\n",
      "Epoch 52/300\n",
      "9/9 - 0s - loss: 1.6336 - accuracy: 0.3444 - val_loss: 1.6136 - val_accuracy: 0.5556 - 61ms/epoch - 7ms/step\n",
      "Epoch 53/300\n",
      "9/9 - 0s - loss: 1.6282 - accuracy: 0.3667 - val_loss: 1.6006 - val_accuracy: 0.5556 - 38ms/epoch - 4ms/step\n",
      "Epoch 54/300\n",
      "9/9 - 0s - loss: 1.6109 - accuracy: 0.4000 - val_loss: 1.5886 - val_accuracy: 0.4444 - 42ms/epoch - 5ms/step\n",
      "Epoch 55/300\n",
      "9/9 - 0s - loss: 1.6033 - accuracy: 0.3444 - val_loss: 1.5768 - val_accuracy: 0.3333 - 38ms/epoch - 4ms/step\n",
      "Epoch 56/300\n",
      "9/9 - 0s - loss: 1.5898 - accuracy: 0.3667 - val_loss: 1.5637 - val_accuracy: 0.5556 - 40ms/epoch - 4ms/step\n",
      "Epoch 57/300\n",
      "9/9 - 0s - loss: 1.5770 - accuracy: 0.4222 - val_loss: 1.5517 - val_accuracy: 0.4444 - 38ms/epoch - 4ms/step\n",
      "Epoch 58/300\n",
      "9/9 - 0s - loss: 1.5643 - accuracy: 0.5222 - val_loss: 1.5400 - val_accuracy: 0.4444 - 47ms/epoch - 5ms/step\n",
      "Epoch 59/300\n",
      "9/9 - 0s - loss: 1.5494 - accuracy: 0.5222 - val_loss: 1.5283 - val_accuracy: 0.3333 - 46ms/epoch - 5ms/step\n",
      "Epoch 60/300\n",
      "9/9 - 0s - loss: 1.5402 - accuracy: 0.4111 - val_loss: 1.5172 - val_accuracy: 0.4444 - 45ms/epoch - 5ms/step\n",
      "Epoch 61/300\n",
      "9/9 - 0s - loss: 1.5314 - accuracy: 0.4667 - val_loss: 1.5061 - val_accuracy: 0.3333 - 47ms/epoch - 5ms/step\n",
      "Epoch 62/300\n",
      "9/9 - 0s - loss: 1.5200 - accuracy: 0.4778 - val_loss: 1.4953 - val_accuracy: 0.4444 - 40ms/epoch - 4ms/step\n",
      "Epoch 63/300\n",
      "9/9 - 0s - loss: 1.5109 - accuracy: 0.3111 - val_loss: 1.4844 - val_accuracy: 0.5556 - 38ms/epoch - 4ms/step\n",
      "Epoch 64/300\n",
      "9/9 - 0s - loss: 1.4942 - accuracy: 0.4556 - val_loss: 1.4738 - val_accuracy: 0.4444 - 39ms/epoch - 4ms/step\n",
      "Epoch 65/300\n",
      "9/9 - 0s - loss: 1.4888 - accuracy: 0.4000 - val_loss: 1.4634 - val_accuracy: 0.6667 - 38ms/epoch - 4ms/step\n",
      "Epoch 66/300\n",
      "9/9 - 0s - loss: 1.4810 - accuracy: 0.4556 - val_loss: 1.4532 - val_accuracy: 0.6667 - 40ms/epoch - 4ms/step\n",
      "Epoch 67/300\n",
      "9/9 - 0s - loss: 1.4669 - accuracy: 0.4556 - val_loss: 1.4432 - val_accuracy: 0.6667 - 39ms/epoch - 4ms/step\n",
      "Epoch 68/300\n",
      "9/9 - 0s - loss: 1.4586 - accuracy: 0.5444 - val_loss: 1.4339 - val_accuracy: 0.4444 - 40ms/epoch - 4ms/step\n"
     ]
    },
    {
     "name": "stdout",
     "output_type": "stream",
     "text": [
      "Epoch 69/300\n",
      "9/9 - 0s - loss: 1.4522 - accuracy: 0.4111 - val_loss: 1.4240 - val_accuracy: 0.5556 - 38ms/epoch - 4ms/step\n",
      "Epoch 70/300\n",
      "9/9 - 0s - loss: 1.4433 - accuracy: 0.4778 - val_loss: 1.4148 - val_accuracy: 0.6667 - 40ms/epoch - 4ms/step\n",
      "Epoch 71/300\n",
      "9/9 - 0s - loss: 1.4259 - accuracy: 0.5556 - val_loss: 1.4050 - val_accuracy: 0.5556 - 39ms/epoch - 4ms/step\n",
      "Epoch 72/300\n",
      "9/9 - 0s - loss: 1.4225 - accuracy: 0.5111 - val_loss: 1.3953 - val_accuracy: 0.6667 - 42ms/epoch - 5ms/step\n",
      "Epoch 73/300\n",
      "9/9 - 0s - loss: 1.4045 - accuracy: 0.5000 - val_loss: 1.3859 - val_accuracy: 0.6667 - 49ms/epoch - 5ms/step\n",
      "Epoch 74/300\n",
      "9/9 - 0s - loss: 1.3983 - accuracy: 0.5667 - val_loss: 1.3771 - val_accuracy: 0.7778 - 48ms/epoch - 5ms/step\n",
      "Epoch 75/300\n",
      "9/9 - 0s - loss: 1.3931 - accuracy: 0.6000 - val_loss: 1.3688 - val_accuracy: 0.5556 - 51ms/epoch - 6ms/step\n",
      "Epoch 76/300\n",
      "9/9 - 0s - loss: 1.3832 - accuracy: 0.5333 - val_loss: 1.3593 - val_accuracy: 0.6667 - 49ms/epoch - 5ms/step\n",
      "Epoch 77/300\n",
      "9/9 - 0s - loss: 1.3755 - accuracy: 0.5556 - val_loss: 1.3502 - val_accuracy: 0.6667 - 49ms/epoch - 5ms/step\n",
      "Epoch 78/300\n",
      "9/9 - 0s - loss: 1.3668 - accuracy: 0.5667 - val_loss: 1.3421 - val_accuracy: 0.7778 - 43ms/epoch - 5ms/step\n",
      "Epoch 79/300\n",
      "9/9 - 0s - loss: 1.3550 - accuracy: 0.6222 - val_loss: 1.3331 - val_accuracy: 0.7778 - 40ms/epoch - 4ms/step\n",
      "Epoch 80/300\n",
      "9/9 - 0s - loss: 1.3439 - accuracy: 0.5889 - val_loss: 1.3241 - val_accuracy: 0.5556 - 43ms/epoch - 5ms/step\n",
      "Epoch 81/300\n",
      "9/9 - 0s - loss: 1.3381 - accuracy: 0.6556 - val_loss: 1.3160 - val_accuracy: 0.7778 - 39ms/epoch - 4ms/step\n",
      "Epoch 82/300\n",
      "9/9 - 0s - loss: 1.3395 - accuracy: 0.5778 - val_loss: 1.3075 - val_accuracy: 0.7778 - 40ms/epoch - 4ms/step\n",
      "Epoch 83/300\n",
      "9/9 - 0s - loss: 1.3259 - accuracy: 0.6444 - val_loss: 1.2994 - val_accuracy: 0.6667 - 39ms/epoch - 4ms/step\n",
      "Epoch 84/300\n",
      "9/9 - 0s - loss: 1.3143 - accuracy: 0.5444 - val_loss: 1.2918 - val_accuracy: 0.7778 - 39ms/epoch - 4ms/step\n",
      "Epoch 85/300\n",
      "9/9 - 0s - loss: 1.3070 - accuracy: 0.7333 - val_loss: 1.2839 - val_accuracy: 0.5556 - 40ms/epoch - 4ms/step\n",
      "Epoch 86/300\n",
      "9/9 - 0s - loss: 1.3010 - accuracy: 0.5778 - val_loss: 1.2767 - val_accuracy: 0.7778 - 39ms/epoch - 4ms/step\n",
      "Epoch 87/300\n",
      "9/9 - 0s - loss: 1.2986 - accuracy: 0.7111 - val_loss: 1.2679 - val_accuracy: 0.6667 - 40ms/epoch - 4ms/step\n",
      "Epoch 88/300\n",
      "9/9 - 0s - loss: 1.2856 - accuracy: 0.6556 - val_loss: 1.2601 - val_accuracy: 0.6667 - 42ms/epoch - 5ms/step\n",
      "Epoch 89/300\n",
      "9/9 - 0s - loss: 1.2857 - accuracy: 0.6333 - val_loss: 1.2526 - val_accuracy: 0.6667 - 44ms/epoch - 5ms/step\n",
      "Epoch 90/300\n",
      "9/9 - 0s - loss: 1.2650 - accuracy: 0.7222 - val_loss: 1.2448 - val_accuracy: 0.6667 - 46ms/epoch - 5ms/step\n",
      "Epoch 91/300\n",
      "9/9 - 0s - loss: 1.2618 - accuracy: 0.6111 - val_loss: 1.2374 - val_accuracy: 0.7778 - 46ms/epoch - 5ms/step\n",
      "Epoch 92/300\n",
      "9/9 - 0s - loss: 1.2530 - accuracy: 0.8000 - val_loss: 1.2303 - val_accuracy: 0.7778 - 45ms/epoch - 5ms/step\n",
      "Epoch 93/300\n",
      "9/9 - 0s - loss: 1.2403 - accuracy: 0.7444 - val_loss: 1.2226 - val_accuracy: 0.7778 - 46ms/epoch - 5ms/step\n",
      "Epoch 94/300\n",
      "9/9 - 0s - loss: 1.2391 - accuracy: 0.6333 - val_loss: 1.2155 - val_accuracy: 0.7778 - 42ms/epoch - 5ms/step\n",
      "Epoch 95/300\n",
      "9/9 - 0s - loss: 1.2327 - accuracy: 0.7222 - val_loss: 1.2082 - val_accuracy: 0.7778 - 45ms/epoch - 5ms/step\n",
      "Epoch 96/300\n",
      "9/9 - 0s - loss: 1.2328 - accuracy: 0.7111 - val_loss: 1.2011 - val_accuracy: 0.7778 - 50ms/epoch - 6ms/step\n",
      "Epoch 97/300\n",
      "9/9 - 0s - loss: 1.2300 - accuracy: 0.6333 - val_loss: 1.1952 - val_accuracy: 0.7778 - 48ms/epoch - 5ms/step\n",
      "Epoch 98/300\n",
      "9/9 - 0s - loss: 1.2144 - accuracy: 0.7889 - val_loss: 1.1868 - val_accuracy: 0.7778 - 52ms/epoch - 6ms/step\n",
      "Epoch 99/300\n",
      "9/9 - 0s - loss: 1.2065 - accuracy: 0.5444 - val_loss: 1.1808 - val_accuracy: 0.8889 - 44ms/epoch - 5ms/step\n",
      "Epoch 100/300\n",
      "9/9 - 0s - loss: 1.1935 - accuracy: 0.7444 - val_loss: 1.1737 - val_accuracy: 0.7778 - 38ms/epoch - 4ms/step\n",
      "Epoch 101/300\n",
      "9/9 - 0s - loss: 1.1928 - accuracy: 0.7667 - val_loss: 1.1666 - val_accuracy: 0.7778 - 42ms/epoch - 5ms/step\n",
      "Epoch 102/300\n",
      "9/9 - 0s - loss: 1.1807 - accuracy: 0.7444 - val_loss: 1.1603 - val_accuracy: 0.7778 - 39ms/epoch - 4ms/step\n",
      "Epoch 103/300\n",
      "9/9 - 0s - loss: 1.1754 - accuracy: 0.7556 - val_loss: 1.1547 - val_accuracy: 0.7778 - 52ms/epoch - 6ms/step\n",
      "Epoch 104/300\n",
      "9/9 - 0s - loss: 1.1759 - accuracy: 0.7111 - val_loss: 1.1469 - val_accuracy: 0.8889 - 41ms/epoch - 5ms/step\n",
      "Epoch 105/300\n",
      "9/9 - 0s - loss: 1.1631 - accuracy: 0.7889 - val_loss: 1.1402 - val_accuracy: 0.7778 - 41ms/epoch - 5ms/step\n",
      "Epoch 106/300\n",
      "9/9 - 0s - loss: 1.1651 - accuracy: 0.6889 - val_loss: 1.1339 - val_accuracy: 0.7778 - 39ms/epoch - 4ms/step\n",
      "Epoch 107/300\n",
      "9/9 - 0s - loss: 1.1501 - accuracy: 0.7556 - val_loss: 1.1281 - val_accuracy: 0.7778 - 40ms/epoch - 4ms/step\n",
      "Epoch 108/300\n",
      "9/9 - 0s - loss: 1.1481 - accuracy: 0.7444 - val_loss: 1.1214 - val_accuracy: 0.8889 - 39ms/epoch - 4ms/step\n",
      "Epoch 109/300\n",
      "9/9 - 0s - loss: 1.1368 - accuracy: 0.8000 - val_loss: 1.1178 - val_accuracy: 0.7778 - 42ms/epoch - 5ms/step\n",
      "Epoch 110/300\n",
      "9/9 - 0s - loss: 1.1306 - accuracy: 0.7556 - val_loss: 1.1098 - val_accuracy: 0.7778 - 42ms/epoch - 5ms/step\n",
      "Epoch 111/300\n",
      "9/9 - 0s - loss: 1.1282 - accuracy: 0.7333 - val_loss: 1.1056 - val_accuracy: 1.0000 - 43ms/epoch - 5ms/step\n",
      "Epoch 112/300\n",
      "9/9 - 0s - loss: 1.1256 - accuracy: 0.7889 - val_loss: 1.0977 - val_accuracy: 0.8889 - 41ms/epoch - 5ms/step\n",
      "Epoch 113/300\n",
      "9/9 - 0s - loss: 1.1176 - accuracy: 0.7667 - val_loss: 1.0923 - val_accuracy: 0.8889 - 43ms/epoch - 5ms/step\n",
      "Epoch 114/300\n",
      "9/9 - 0s - loss: 1.1169 - accuracy: 0.7444 - val_loss: 1.0856 - val_accuracy: 0.8889 - 43ms/epoch - 5ms/step\n",
      "Epoch 115/300\n",
      "9/9 - 0s - loss: 1.1030 - accuracy: 0.8222 - val_loss: 1.0786 - val_accuracy: 0.8889 - 40ms/epoch - 4ms/step\n",
      "Epoch 116/300\n",
      "9/9 - 0s - loss: 1.0980 - accuracy: 0.7778 - val_loss: 1.0756 - val_accuracy: 0.8889 - 44ms/epoch - 5ms/step\n",
      "Epoch 117/300\n",
      "9/9 - 0s - loss: 1.0986 - accuracy: 0.7778 - val_loss: 1.0678 - val_accuracy: 0.7778 - 45ms/epoch - 5ms/step\n",
      "Epoch 118/300\n",
      "9/9 - 0s - loss: 1.0840 - accuracy: 0.8000 - val_loss: 1.0615 - val_accuracy: 0.7778 - 52ms/epoch - 6ms/step\n",
      "Epoch 119/300\n",
      "9/9 - 0s - loss: 1.0889 - accuracy: 0.7333 - val_loss: 1.0554 - val_accuracy: 0.7778 - 51ms/epoch - 6ms/step\n",
      "Epoch 120/300\n",
      "9/9 - 0s - loss: 1.0781 - accuracy: 0.8000 - val_loss: 1.0507 - val_accuracy: 0.7778 - 52ms/epoch - 6ms/step\n",
      "Epoch 121/300\n",
      "9/9 - 0s - loss: 1.0755 - accuracy: 0.8222 - val_loss: 1.0435 - val_accuracy: 0.8889 - 53ms/epoch - 6ms/step\n",
      "Epoch 122/300\n",
      "9/9 - 0s - loss: 1.0615 - accuracy: 0.8333 - val_loss: 1.0374 - val_accuracy: 0.8889 - 48ms/epoch - 5ms/step\n",
      "Epoch 123/300\n",
      "9/9 - 0s - loss: 1.0587 - accuracy: 0.8778 - val_loss: 1.0326 - val_accuracy: 0.8889 - 50ms/epoch - 6ms/step\n",
      "Epoch 124/300\n",
      "9/9 - 0s - loss: 1.0550 - accuracy: 0.8889 - val_loss: 1.0271 - val_accuracy: 0.8889 - 47ms/epoch - 5ms/step\n",
      "Epoch 125/300\n",
      "9/9 - 0s - loss: 1.0473 - accuracy: 0.8778 - val_loss: 1.0206 - val_accuracy: 0.8889 - 40ms/epoch - 4ms/step\n",
      "Epoch 126/300\n",
      "9/9 - 0s - loss: 1.0422 - accuracy: 0.8556 - val_loss: 1.0167 - val_accuracy: 0.7778 - 41ms/epoch - 5ms/step\n",
      "Epoch 127/300\n",
      "9/9 - 0s - loss: 1.0354 - accuracy: 0.8556 - val_loss: 1.0099 - val_accuracy: 0.8889 - 39ms/epoch - 4ms/step\n",
      "Epoch 128/300\n",
      "9/9 - 0s - loss: 1.0431 - accuracy: 0.7444 - val_loss: 1.0086 - val_accuracy: 0.8889 - 43ms/epoch - 5ms/step\n",
      "Epoch 129/300\n",
      "9/9 - 0s - loss: 1.0248 - accuracy: 0.9111 - val_loss: 1.0002 - val_accuracy: 0.8889 - 43ms/epoch - 5ms/step\n",
      "Epoch 130/300\n",
      "9/9 - 0s - loss: 1.0182 - accuracy: 0.7778 - val_loss: 0.9964 - val_accuracy: 0.8889 - 45ms/epoch - 5ms/step\n",
      "Epoch 131/300\n",
      "9/9 - 0s - loss: 1.0145 - accuracy: 0.7889 - val_loss: 0.9917 - val_accuracy: 0.8889 - 52ms/epoch - 6ms/step\n",
      "Epoch 132/300\n",
      "9/9 - 0s - loss: 1.0157 - accuracy: 0.8444 - val_loss: 0.9843 - val_accuracy: 0.7778 - 61ms/epoch - 7ms/step\n",
      "Epoch 133/300\n",
      "9/9 - 0s - loss: 1.0158 - accuracy: 0.7667 - val_loss: 0.9794 - val_accuracy: 0.8889 - 48ms/epoch - 5ms/step\n",
      "Epoch 134/300\n",
      "9/9 - 0s - loss: 1.0084 - accuracy: 0.7667 - val_loss: 0.9724 - val_accuracy: 0.8889 - 42ms/epoch - 5ms/step\n",
      "Epoch 135/300\n",
      "9/9 - 0s - loss: 1.0046 - accuracy: 0.8333 - val_loss: 0.9689 - val_accuracy: 0.8889 - 41ms/epoch - 5ms/step\n"
     ]
    },
    {
     "name": "stdout",
     "output_type": "stream",
     "text": [
      "Epoch 136/300\n",
      "9/9 - 0s - loss: 0.9850 - accuracy: 0.8778 - val_loss: 0.9623 - val_accuracy: 0.8889 - 51ms/epoch - 6ms/step\n",
      "Epoch 137/300\n",
      "9/9 - 0s - loss: 0.9833 - accuracy: 0.8444 - val_loss: 0.9612 - val_accuracy: 0.7778 - 49ms/epoch - 5ms/step\n",
      "Epoch 138/300\n",
      "9/9 - 0s - loss: 0.9796 - accuracy: 0.8222 - val_loss: 0.9532 - val_accuracy: 0.8889 - 51ms/epoch - 6ms/step\n",
      "Epoch 139/300\n",
      "9/9 - 0s - loss: 0.9800 - accuracy: 0.8333 - val_loss: 0.9477 - val_accuracy: 0.8889 - 55ms/epoch - 6ms/step\n",
      "Epoch 140/300\n",
      "9/9 - 0s - loss: 0.9691 - accuracy: 0.8889 - val_loss: 0.9458 - val_accuracy: 0.8889 - 47ms/epoch - 5ms/step\n",
      "Epoch 141/300\n",
      "9/9 - 0s - loss: 0.9848 - accuracy: 0.8333 - val_loss: 0.9405 - val_accuracy: 1.0000 - 40ms/epoch - 4ms/step\n",
      "Epoch 142/300\n",
      "9/9 - 0s - loss: 0.9556 - accuracy: 0.9222 - val_loss: 0.9318 - val_accuracy: 0.8889 - 43ms/epoch - 5ms/step\n",
      "Epoch 143/300\n",
      "9/9 - 0s - loss: 0.9489 - accuracy: 0.9000 - val_loss: 0.9273 - val_accuracy: 0.8889 - 38ms/epoch - 4ms/step\n",
      "Epoch 144/300\n",
      "9/9 - 0s - loss: 0.9508 - accuracy: 0.9000 - val_loss: 0.9230 - val_accuracy: 0.8889 - 43ms/epoch - 5ms/step\n",
      "Epoch 145/300\n",
      "9/9 - 0s - loss: 0.9525 - accuracy: 0.8333 - val_loss: 0.9236 - val_accuracy: 1.0000 - 42ms/epoch - 5ms/step\n",
      "Epoch 146/300\n",
      "9/9 - 0s - loss: 0.9425 - accuracy: 0.9333 - val_loss: 0.9120 - val_accuracy: 0.8889 - 42ms/epoch - 5ms/step\n",
      "Epoch 147/300\n",
      "9/9 - 0s - loss: 0.9397 - accuracy: 0.8778 - val_loss: 0.9075 - val_accuracy: 0.8889 - 46ms/epoch - 5ms/step\n",
      "Epoch 148/300\n",
      "9/9 - 0s - loss: 0.9282 - accuracy: 0.8556 - val_loss: 0.9031 - val_accuracy: 0.8889 - 50ms/epoch - 6ms/step\n",
      "Epoch 149/300\n",
      "9/9 - 0s - loss: 0.9210 - accuracy: 0.8556 - val_loss: 0.9024 - val_accuracy: 0.7778 - 44ms/epoch - 5ms/step\n",
      "Epoch 150/300\n",
      "9/9 - 0s - loss: 0.9137 - accuracy: 0.8556 - val_loss: 0.8945 - val_accuracy: 0.8889 - 46ms/epoch - 5ms/step\n",
      "Epoch 151/300\n",
      "9/9 - 0s - loss: 0.9090 - accuracy: 0.9444 - val_loss: 0.8912 - val_accuracy: 0.8889 - 44ms/epoch - 5ms/step\n",
      "Epoch 152/300\n",
      "9/9 - 0s - loss: 0.9107 - accuracy: 0.8444 - val_loss: 0.8840 - val_accuracy: 1.0000 - 43ms/epoch - 5ms/step\n",
      "Epoch 153/300\n",
      "9/9 - 0s - loss: 0.9008 - accuracy: 0.8778 - val_loss: 0.8848 - val_accuracy: 0.8889 - 41ms/epoch - 5ms/step\n",
      "Epoch 154/300\n",
      "9/9 - 0s - loss: 0.9033 - accuracy: 0.8222 - val_loss: 0.8763 - val_accuracy: 1.0000 - 40ms/epoch - 4ms/step\n",
      "Epoch 155/300\n",
      "9/9 - 0s - loss: 0.8952 - accuracy: 0.8778 - val_loss: 0.8734 - val_accuracy: 0.8889 - 41ms/epoch - 5ms/step\n",
      "Epoch 156/300\n",
      "9/9 - 0s - loss: 0.9002 - accuracy: 0.8111 - val_loss: 0.8670 - val_accuracy: 1.0000 - 42ms/epoch - 5ms/step\n",
      "Epoch 157/300\n",
      "9/9 - 0s - loss: 0.8894 - accuracy: 0.8444 - val_loss: 0.8634 - val_accuracy: 0.8889 - 43ms/epoch - 5ms/step\n",
      "Epoch 158/300\n",
      "9/9 - 0s - loss: 0.8937 - accuracy: 0.8333 - val_loss: 0.8551 - val_accuracy: 0.8889 - 43ms/epoch - 5ms/step\n",
      "Epoch 159/300\n",
      "9/9 - 0s - loss: 0.8763 - accuracy: 0.9000 - val_loss: 0.8531 - val_accuracy: 1.0000 - 41ms/epoch - 5ms/step\n",
      "Epoch 160/300\n",
      "9/9 - 0s - loss: 0.8710 - accuracy: 0.9222 - val_loss: 0.8484 - val_accuracy: 0.8889 - 45ms/epoch - 5ms/step\n",
      "Epoch 161/300\n",
      "9/9 - 0s - loss: 0.8772 - accuracy: 0.8222 - val_loss: 0.8442 - val_accuracy: 0.8889 - 42ms/epoch - 5ms/step\n",
      "Epoch 162/300\n",
      "9/9 - 0s - loss: 0.8633 - accuracy: 0.8778 - val_loss: 0.8382 - val_accuracy: 0.8889 - 42ms/epoch - 5ms/step\n",
      "Epoch 163/300\n",
      "9/9 - 0s - loss: 0.8626 - accuracy: 0.9000 - val_loss: 0.8329 - val_accuracy: 1.0000 - 43ms/epoch - 5ms/step\n",
      "Epoch 164/300\n",
      "9/9 - 0s - loss: 0.8584 - accuracy: 0.8667 - val_loss: 0.8305 - val_accuracy: 1.0000 - 44ms/epoch - 5ms/step\n",
      "Epoch 165/300\n",
      "9/9 - 0s - loss: 0.8501 - accuracy: 0.8778 - val_loss: 0.8273 - val_accuracy: 1.0000 - 44ms/epoch - 5ms/step\n",
      "Epoch 166/300\n",
      "9/9 - 0s - loss: 0.8514 - accuracy: 0.8667 - val_loss: 0.8241 - val_accuracy: 0.8889 - 43ms/epoch - 5ms/step\n",
      "Epoch 167/300\n",
      "9/9 - 0s - loss: 0.8445 - accuracy: 0.9000 - val_loss: 0.8190 - val_accuracy: 1.0000 - 41ms/epoch - 5ms/step\n",
      "Epoch 168/300\n",
      "9/9 - 0s - loss: 0.8362 - accuracy: 0.9111 - val_loss: 0.8147 - val_accuracy: 0.8889 - 42ms/epoch - 5ms/step\n",
      "Epoch 169/300\n",
      "9/9 - 0s - loss: 0.8461 - accuracy: 0.9000 - val_loss: 0.8073 - val_accuracy: 0.8889 - 44ms/epoch - 5ms/step\n",
      "Epoch 170/300\n",
      "9/9 - 0s - loss: 0.8424 - accuracy: 0.8778 - val_loss: 0.8099 - val_accuracy: 0.8889 - 42ms/epoch - 5ms/step\n",
      "Epoch 171/300\n",
      "9/9 - 0s - loss: 0.8505 - accuracy: 0.8333 - val_loss: 0.8000 - val_accuracy: 0.8889 - 40ms/epoch - 4ms/step\n",
      "Epoch 172/300\n",
      "9/9 - 0s - loss: 0.8268 - accuracy: 0.8889 - val_loss: 0.7963 - val_accuracy: 0.8889 - 45ms/epoch - 5ms/step\n",
      "Epoch 173/300\n",
      "9/9 - 0s - loss: 0.8171 - accuracy: 0.8889 - val_loss: 0.7914 - val_accuracy: 1.0000 - 47ms/epoch - 5ms/step\n",
      "Epoch 174/300\n",
      "9/9 - 0s - loss: 0.8083 - accuracy: 0.9333 - val_loss: 0.7876 - val_accuracy: 0.8889 - 41ms/epoch - 5ms/step\n",
      "Epoch 175/300\n",
      "9/9 - 0s - loss: 0.8119 - accuracy: 0.8222 - val_loss: 0.7874 - val_accuracy: 0.8889 - 41ms/epoch - 5ms/step\n",
      "Epoch 176/300\n",
      "9/9 - 0s - loss: 0.7989 - accuracy: 0.9111 - val_loss: 0.7896 - val_accuracy: 0.7778 - 41ms/epoch - 5ms/step\n",
      "Epoch 177/300\n",
      "9/9 - 0s - loss: 0.8062 - accuracy: 0.8556 - val_loss: 0.7748 - val_accuracy: 1.0000 - 42ms/epoch - 5ms/step\n",
      "Epoch 178/300\n",
      "9/9 - 0s - loss: 0.7988 - accuracy: 0.8889 - val_loss: 0.7736 - val_accuracy: 0.8889 - 58ms/epoch - 6ms/step\n",
      "Epoch 179/300\n",
      "9/9 - 0s - loss: 0.7961 - accuracy: 0.8889 - val_loss: 0.7711 - val_accuracy: 0.8889 - 42ms/epoch - 5ms/step\n",
      "Epoch 180/300\n",
      "9/9 - 0s - loss: 0.7976 - accuracy: 0.8556 - val_loss: 0.7633 - val_accuracy: 0.8889 - 42ms/epoch - 5ms/step\n",
      "Epoch 181/300\n",
      "9/9 - 0s - loss: 0.7865 - accuracy: 0.9222 - val_loss: 0.7689 - val_accuracy: 0.7778 - 44ms/epoch - 5ms/step\n",
      "Epoch 182/300\n",
      "9/9 - 0s - loss: 0.7819 - accuracy: 0.9556 - val_loss: 0.7651 - val_accuracy: 0.7778 - 45ms/epoch - 5ms/step\n",
      "Epoch 183/300\n",
      "9/9 - 0s - loss: 0.7832 - accuracy: 0.8556 - val_loss: 0.7564 - val_accuracy: 0.8889 - 41ms/epoch - 5ms/step\n",
      "Epoch 184/300\n",
      "9/9 - 0s - loss: 0.7829 - accuracy: 0.8667 - val_loss: 0.7475 - val_accuracy: 1.0000 - 46ms/epoch - 5ms/step\n",
      "Epoch 185/300\n",
      "9/9 - 0s - loss: 0.7659 - accuracy: 0.9111 - val_loss: 0.7429 - val_accuracy: 1.0000 - 49ms/epoch - 5ms/step\n",
      "Epoch 186/300\n",
      "9/9 - 0s - loss: 0.7814 - accuracy: 0.9000 - val_loss: 0.7436 - val_accuracy: 0.8889 - 52ms/epoch - 6ms/step\n",
      "Epoch 187/300\n",
      "9/9 - 0s - loss: 0.7574 - accuracy: 0.9111 - val_loss: 0.7397 - val_accuracy: 1.0000 - 53ms/epoch - 6ms/step\n",
      "Epoch 188/300\n",
      "9/9 - 0s - loss: 0.7619 - accuracy: 0.9667 - val_loss: 0.7311 - val_accuracy: 0.8889 - 52ms/epoch - 6ms/step\n",
      "Epoch 189/300\n",
      "9/9 - 0s - loss: 0.7608 - accuracy: 0.9000 - val_loss: 0.7303 - val_accuracy: 1.0000 - 41ms/epoch - 5ms/step\n",
      "Epoch 190/300\n",
      "9/9 - 0s - loss: 0.7424 - accuracy: 0.9222 - val_loss: 0.7305 - val_accuracy: 0.8889 - 46ms/epoch - 5ms/step\n",
      "Epoch 191/300\n",
      "9/9 - 0s - loss: 0.7520 - accuracy: 0.8667 - val_loss: 0.7255 - val_accuracy: 0.7778 - 49ms/epoch - 5ms/step\n",
      "Epoch 192/300\n",
      "9/9 - 0s - loss: 0.7432 - accuracy: 0.9667 - val_loss: 0.7183 - val_accuracy: 0.8889 - 51ms/epoch - 6ms/step\n",
      "Epoch 193/300\n",
      "9/9 - 0s - loss: 0.7518 - accuracy: 0.9333 - val_loss: 0.7156 - val_accuracy: 0.8889 - 50ms/epoch - 6ms/step\n",
      "Epoch 194/300\n",
      "9/9 - 0s - loss: 0.7540 - accuracy: 0.8778 - val_loss: 0.7069 - val_accuracy: 1.0000 - 49ms/epoch - 5ms/step\n",
      "Epoch 195/300\n",
      "9/9 - 0s - loss: 0.7374 - accuracy: 0.9333 - val_loss: 0.7048 - val_accuracy: 0.8889 - 44ms/epoch - 5ms/step\n",
      "Epoch 196/300\n",
      "9/9 - 0s - loss: 0.7428 - accuracy: 0.9000 - val_loss: 0.7126 - val_accuracy: 0.8889 - 40ms/epoch - 4ms/step\n",
      "Epoch 197/300\n",
      "9/9 - 0s - loss: 0.7254 - accuracy: 0.8556 - val_loss: 0.7012 - val_accuracy: 1.0000 - 39ms/epoch - 4ms/step\n",
      "Epoch 198/300\n",
      "9/9 - 0s - loss: 0.7254 - accuracy: 0.9222 - val_loss: 0.6963 - val_accuracy: 0.8889 - 40ms/epoch - 4ms/step\n",
      "Epoch 199/300\n",
      "9/9 - 0s - loss: 0.7231 - accuracy: 0.9111 - val_loss: 0.6939 - val_accuracy: 0.8889 - 41ms/epoch - 5ms/step\n",
      "Epoch 200/300\n",
      "9/9 - 0s - loss: 0.7301 - accuracy: 0.8889 - val_loss: 0.6922 - val_accuracy: 0.8889 - 42ms/epoch - 5ms/step\n",
      "Epoch 201/300\n",
      "9/9 - 0s - loss: 0.7193 - accuracy: 0.9000 - val_loss: 0.6825 - val_accuracy: 1.0000 - 42ms/epoch - 5ms/step\n",
      "Epoch 202/300\n",
      "9/9 - 0s - loss: 0.7081 - accuracy: 0.9222 - val_loss: 0.6918 - val_accuracy: 0.8889 - 40ms/epoch - 4ms/step\n"
     ]
    },
    {
     "name": "stdout",
     "output_type": "stream",
     "text": [
      "Epoch 203/300\n",
      "9/9 - 0s - loss: 0.7110 - accuracy: 0.9000 - val_loss: 0.6820 - val_accuracy: 1.0000 - 45ms/epoch - 5ms/step\n",
      "Epoch 204/300\n",
      "9/9 - 0s - loss: 0.6947 - accuracy: 0.8778 - val_loss: 0.6750 - val_accuracy: 1.0000 - 48ms/epoch - 5ms/step\n",
      "Epoch 205/300\n",
      "9/9 - 0s - loss: 0.6849 - accuracy: 0.9778 - val_loss: 0.6681 - val_accuracy: 0.8889 - 65ms/epoch - 7ms/step\n",
      "Epoch 206/300\n",
      "9/9 - 0s - loss: 0.6856 - accuracy: 0.8889 - val_loss: 0.6676 - val_accuracy: 1.0000 - 51ms/epoch - 6ms/step\n",
      "Epoch 207/300\n",
      "9/9 - 0s - loss: 0.6889 - accuracy: 0.9222 - val_loss: 0.6636 - val_accuracy: 1.0000 - 48ms/epoch - 5ms/step\n",
      "Epoch 208/300\n",
      "9/9 - 0s - loss: 0.6872 - accuracy: 0.9333 - val_loss: 0.6645 - val_accuracy: 0.8889 - 41ms/epoch - 5ms/step\n",
      "Epoch 209/300\n",
      "9/9 - 0s - loss: 0.6796 - accuracy: 0.8778 - val_loss: 0.6579 - val_accuracy: 0.8889 - 42ms/epoch - 5ms/step\n",
      "Epoch 210/300\n",
      "9/9 - 0s - loss: 0.6830 - accuracy: 0.9111 - val_loss: 0.6525 - val_accuracy: 1.0000 - 43ms/epoch - 5ms/step\n",
      "Epoch 211/300\n",
      "9/9 - 0s - loss: 0.6846 - accuracy: 0.9111 - val_loss: 0.6584 - val_accuracy: 0.8889 - 40ms/epoch - 4ms/step\n",
      "Epoch 212/300\n",
      "9/9 - 0s - loss: 0.6736 - accuracy: 0.9444 - val_loss: 0.6500 - val_accuracy: 0.8889 - 43ms/epoch - 5ms/step\n",
      "Epoch 213/300\n",
      "9/9 - 0s - loss: 0.6705 - accuracy: 0.9667 - val_loss: 0.6448 - val_accuracy: 0.8889 - 42ms/epoch - 5ms/step\n",
      "Epoch 214/300\n",
      "9/9 - 0s - loss: 0.6611 - accuracy: 0.8667 - val_loss: 0.6416 - val_accuracy: 1.0000 - 40ms/epoch - 4ms/step\n",
      "Epoch 215/300\n",
      "9/9 - 0s - loss: 0.6618 - accuracy: 0.9222 - val_loss: 0.6389 - val_accuracy: 1.0000 - 44ms/epoch - 5ms/step\n",
      "Epoch 216/300\n",
      "9/9 - 0s - loss: 0.6619 - accuracy: 0.9000 - val_loss: 0.6334 - val_accuracy: 0.8889 - 44ms/epoch - 5ms/step\n",
      "Epoch 217/300\n",
      "9/9 - 0s - loss: 0.6701 - accuracy: 0.9333 - val_loss: 0.6475 - val_accuracy: 0.8889 - 42ms/epoch - 5ms/step\n",
      "Epoch 218/300\n",
      "9/9 - 0s - loss: 0.6527 - accuracy: 0.9333 - val_loss: 0.6305 - val_accuracy: 1.0000 - 40ms/epoch - 4ms/step\n",
      "Epoch 219/300\n",
      "9/9 - 0s - loss: 0.6541 - accuracy: 0.9444 - val_loss: 0.6204 - val_accuracy: 1.0000 - 41ms/epoch - 5ms/step\n",
      "Epoch 220/300\n",
      "9/9 - 0s - loss: 0.6405 - accuracy: 0.9222 - val_loss: 0.6202 - val_accuracy: 0.8889 - 41ms/epoch - 5ms/step\n",
      "Epoch 221/300\n",
      "9/9 - 0s - loss: 0.6489 - accuracy: 0.9222 - val_loss: 0.6173 - val_accuracy: 1.0000 - 45ms/epoch - 5ms/step\n",
      "Epoch 222/300\n",
      "9/9 - 0s - loss: 0.6354 - accuracy: 0.9111 - val_loss: 0.6284 - val_accuracy: 0.8889 - 43ms/epoch - 5ms/step\n",
      "Epoch 223/300\n",
      "9/9 - 0s - loss: 0.6294 - accuracy: 0.9000 - val_loss: 0.6081 - val_accuracy: 1.0000 - 42ms/epoch - 5ms/step\n",
      "Epoch 224/300\n",
      "9/9 - 0s - loss: 0.6534 - accuracy: 0.9667 - val_loss: 0.6077 - val_accuracy: 1.0000 - 42ms/epoch - 5ms/step\n",
      "Epoch 225/300\n",
      "9/9 - 0s - loss: 0.6429 - accuracy: 0.9000 - val_loss: 0.6217 - val_accuracy: 0.7778 - 44ms/epoch - 5ms/step\n",
      "Epoch 226/300\n",
      "9/9 - 0s - loss: 0.6392 - accuracy: 0.9000 - val_loss: 0.6087 - val_accuracy: 1.0000 - 40ms/epoch - 4ms/step\n",
      "Epoch 227/300\n",
      "9/9 - 0s - loss: 0.6368 - accuracy: 0.9111 - val_loss: 0.6001 - val_accuracy: 1.0000 - 40ms/epoch - 4ms/step\n",
      "Epoch 228/300\n",
      "9/9 - 0s - loss: 0.6301 - accuracy: 0.9444 - val_loss: 0.5935 - val_accuracy: 1.0000 - 41ms/epoch - 5ms/step\n",
      "Epoch 229/300\n",
      "9/9 - 0s - loss: 0.6254 - accuracy: 0.9444 - val_loss: 0.5896 - val_accuracy: 1.0000 - 41ms/epoch - 5ms/step\n",
      "Epoch 230/300\n",
      "9/9 - 0s - loss: 0.6078 - accuracy: 0.9111 - val_loss: 0.6027 - val_accuracy: 0.8889 - 41ms/epoch - 5ms/step\n",
      "Epoch 231/300\n",
      "9/9 - 0s - loss: 0.6047 - accuracy: 0.9333 - val_loss: 0.5984 - val_accuracy: 0.8889 - 42ms/epoch - 5ms/step\n",
      "Epoch 232/300\n",
      "9/9 - 0s - loss: 0.6022 - accuracy: 0.9333 - val_loss: 0.5786 - val_accuracy: 1.0000 - 41ms/epoch - 5ms/step\n",
      "Epoch 233/300\n",
      "9/9 - 0s - loss: 0.5904 - accuracy: 0.9111 - val_loss: 0.5974 - val_accuracy: 0.8889 - 43ms/epoch - 5ms/step\n",
      "Epoch 234/300\n",
      "9/9 - 0s - loss: 0.6131 - accuracy: 0.9222 - val_loss: 0.5731 - val_accuracy: 1.0000 - 43ms/epoch - 5ms/step\n",
      "Epoch 235/300\n",
      "9/9 - 0s - loss: 0.5915 - accuracy: 0.9000 - val_loss: 0.5705 - val_accuracy: 1.0000 - 40ms/epoch - 4ms/step\n",
      "Epoch 236/300\n",
      "9/9 - 0s - loss: 0.5907 - accuracy: 0.9667 - val_loss: 0.5823 - val_accuracy: 0.8889 - 45ms/epoch - 5ms/step\n",
      "Epoch 237/300\n",
      "9/9 - 0s - loss: 0.6104 - accuracy: 0.9222 - val_loss: 0.5681 - val_accuracy: 1.0000 - 42ms/epoch - 5ms/step\n",
      "Epoch 238/300\n",
      "9/9 - 0s - loss: 0.5743 - accuracy: 0.9556 - val_loss: 0.5686 - val_accuracy: 1.0000 - 42ms/epoch - 5ms/step\n",
      "Epoch 239/300\n",
      "9/9 - 0s - loss: 0.6031 - accuracy: 0.9222 - val_loss: 0.5622 - val_accuracy: 1.0000 - 42ms/epoch - 5ms/step\n",
      "Epoch 240/300\n",
      "9/9 - 0s - loss: 0.5914 - accuracy: 0.9444 - val_loss: 0.5623 - val_accuracy: 0.8889 - 42ms/epoch - 5ms/step\n",
      "Epoch 241/300\n",
      "9/9 - 0s - loss: 0.5863 - accuracy: 0.9111 - val_loss: 0.5551 - val_accuracy: 1.0000 - 41ms/epoch - 5ms/step\n",
      "Epoch 242/300\n",
      "9/9 - 0s - loss: 0.5876 - accuracy: 0.9444 - val_loss: 0.5490 - val_accuracy: 1.0000 - 42ms/epoch - 5ms/step\n",
      "Epoch 243/300\n",
      "9/9 - 0s - loss: 0.5871 - accuracy: 0.9444 - val_loss: 0.5477 - val_accuracy: 1.0000 - 42ms/epoch - 5ms/step\n",
      "Epoch 244/300\n",
      "9/9 - 0s - loss: 0.5716 - accuracy: 0.9444 - val_loss: 0.5511 - val_accuracy: 1.0000 - 41ms/epoch - 5ms/step\n",
      "Epoch 245/300\n",
      "9/9 - 0s - loss: 0.5657 - accuracy: 0.9333 - val_loss: 0.5420 - val_accuracy: 1.0000 - 43ms/epoch - 5ms/step\n",
      "Epoch 246/300\n",
      "9/9 - 0s - loss: 0.5664 - accuracy: 0.9000 - val_loss: 0.5822 - val_accuracy: 0.8889 - 40ms/epoch - 4ms/step\n",
      "Epoch 247/300\n",
      "9/9 - 0s - loss: 0.5995 - accuracy: 0.8889 - val_loss: 0.5344 - val_accuracy: 1.0000 - 39ms/epoch - 4ms/step\n",
      "Epoch 248/300\n",
      "9/9 - 0s - loss: 0.5535 - accuracy: 0.9778 - val_loss: 0.5353 - val_accuracy: 0.8889 - 57ms/epoch - 6ms/step\n",
      "Epoch 249/300\n",
      "9/9 - 0s - loss: 0.5523 - accuracy: 0.9111 - val_loss: 0.5384 - val_accuracy: 1.0000 - 41ms/epoch - 5ms/step\n",
      "Epoch 250/300\n",
      "9/9 - 0s - loss: 0.5501 - accuracy: 0.9444 - val_loss: 0.5344 - val_accuracy: 1.0000 - 44ms/epoch - 5ms/step\n",
      "Epoch 251/300\n",
      "9/9 - 0s - loss: 0.5635 - accuracy: 0.9556 - val_loss: 0.5254 - val_accuracy: 1.0000 - 42ms/epoch - 5ms/step\n",
      "Epoch 252/300\n",
      "9/9 - 0s - loss: 0.5684 - accuracy: 0.9333 - val_loss: 0.5219 - val_accuracy: 1.0000 - 40ms/epoch - 4ms/step\n",
      "Epoch 253/300\n",
      "9/9 - 0s - loss: 0.5392 - accuracy: 0.9556 - val_loss: 0.5189 - val_accuracy: 0.8889 - 42ms/epoch - 5ms/step\n",
      "Epoch 254/300\n",
      "9/9 - 0s - loss: 0.5306 - accuracy: 0.9000 - val_loss: 0.5228 - val_accuracy: 1.0000 - 42ms/epoch - 5ms/step\n",
      "Epoch 255/300\n",
      "9/9 - 0s - loss: 0.5385 - accuracy: 0.9778 - val_loss: 0.5082 - val_accuracy: 1.0000 - 40ms/epoch - 4ms/step\n",
      "Epoch 256/300\n",
      "9/9 - 0s - loss: 0.5347 - accuracy: 0.9667 - val_loss: 0.5080 - val_accuracy: 1.0000 - 44ms/epoch - 5ms/step\n",
      "Epoch 257/300\n",
      "9/9 - 0s - loss: 0.5280 - accuracy: 0.9889 - val_loss: 0.5184 - val_accuracy: 0.8889 - 41ms/epoch - 5ms/step\n",
      "Epoch 258/300\n",
      "9/9 - 0s - loss: 0.5344 - accuracy: 0.9000 - val_loss: 0.5072 - val_accuracy: 1.0000 - 40ms/epoch - 4ms/step\n",
      "Epoch 259/300\n",
      "9/9 - 0s - loss: 0.5297 - accuracy: 0.9667 - val_loss: 0.5003 - val_accuracy: 1.0000 - 42ms/epoch - 5ms/step\n",
      "Epoch 260/300\n",
      "9/9 - 0s - loss: 0.5139 - accuracy: 0.9667 - val_loss: 0.4968 - val_accuracy: 1.0000 - 41ms/epoch - 5ms/step\n",
      "Epoch 261/300\n",
      "9/9 - 0s - loss: 0.5207 - accuracy: 0.9778 - val_loss: 0.4928 - val_accuracy: 1.0000 - 44ms/epoch - 5ms/step\n",
      "Epoch 262/300\n",
      "9/9 - 0s - loss: 0.5267 - accuracy: 0.9556 - val_loss: 0.4926 - val_accuracy: 1.0000 - 43ms/epoch - 5ms/step\n",
      "Epoch 263/300\n",
      "9/9 - 0s - loss: 0.5089 - accuracy: 1.0000 - val_loss: 0.4870 - val_accuracy: 1.0000 - 42ms/epoch - 5ms/step\n",
      "Epoch 264/300\n",
      "9/9 - 0s - loss: 0.5084 - accuracy: 0.9667 - val_loss: 0.4844 - val_accuracy: 1.0000 - 42ms/epoch - 5ms/step\n",
      "Epoch 265/300\n",
      "9/9 - 0s - loss: 0.5115 - accuracy: 0.9667 - val_loss: 0.4793 - val_accuracy: 1.0000 - 42ms/epoch - 5ms/step\n",
      "Epoch 266/300\n",
      "9/9 - 0s - loss: 0.5265 - accuracy: 0.9556 - val_loss: 0.4781 - val_accuracy: 1.0000 - 42ms/epoch - 5ms/step\n",
      "Epoch 267/300\n",
      "9/9 - 0s - loss: 0.5003 - accuracy: 0.9444 - val_loss: 0.5018 - val_accuracy: 0.8889 - 40ms/epoch - 4ms/step\n",
      "Epoch 268/300\n",
      "9/9 - 0s - loss: 0.4932 - accuracy: 0.9556 - val_loss: 0.4745 - val_accuracy: 1.0000 - 40ms/epoch - 4ms/step\n",
      "Epoch 269/300\n",
      "9/9 - 0s - loss: 0.4998 - accuracy: 0.9444 - val_loss: 0.4717 - val_accuracy: 1.0000 - 42ms/epoch - 5ms/step\n"
     ]
    },
    {
     "name": "stdout",
     "output_type": "stream",
     "text": [
      "Epoch 270/300\n",
      "9/9 - 0s - loss: 0.5260 - accuracy: 0.9889 - val_loss: 0.4791 - val_accuracy: 0.8889 - 41ms/epoch - 5ms/step\n",
      "Epoch 271/300\n",
      "9/9 - 0s - loss: 0.4840 - accuracy: 0.9556 - val_loss: 0.5008 - val_accuracy: 0.8889 - 42ms/epoch - 5ms/step\n",
      "Epoch 272/300\n",
      "9/9 - 0s - loss: 0.5383 - accuracy: 0.9000 - val_loss: 0.4767 - val_accuracy: 0.8889 - 42ms/epoch - 5ms/step\n",
      "Epoch 273/300\n",
      "9/9 - 0s - loss: 0.4898 - accuracy: 0.9333 - val_loss: 0.4617 - val_accuracy: 1.0000 - 40ms/epoch - 4ms/step\n",
      "Epoch 274/300\n",
      "9/9 - 0s - loss: 0.5059 - accuracy: 0.9444 - val_loss: 0.4610 - val_accuracy: 1.0000 - 41ms/epoch - 5ms/step\n",
      "Epoch 275/300\n",
      "9/9 - 0s - loss: 0.4720 - accuracy: 0.9556 - val_loss: 0.4613 - val_accuracy: 1.0000 - 41ms/epoch - 5ms/step\n",
      "Epoch 276/300\n",
      "9/9 - 0s - loss: 0.4848 - accuracy: 0.9111 - val_loss: 0.4630 - val_accuracy: 1.0000 - 42ms/epoch - 5ms/step\n",
      "Epoch 277/300\n",
      "9/9 - 0s - loss: 0.4819 - accuracy: 0.9778 - val_loss: 0.4551 - val_accuracy: 1.0000 - 42ms/epoch - 5ms/step\n",
      "Epoch 278/300\n",
      "9/9 - 0s - loss: 0.4685 - accuracy: 0.9556 - val_loss: 0.4686 - val_accuracy: 1.0000 - 48ms/epoch - 5ms/step\n",
      "Epoch 279/300\n",
      "9/9 - 0s - loss: 0.4807 - accuracy: 0.9556 - val_loss: 0.4437 - val_accuracy: 1.0000 - 47ms/epoch - 5ms/step\n",
      "Epoch 280/300\n",
      "9/9 - 0s - loss: 0.4630 - accuracy: 1.0000 - val_loss: 0.4430 - val_accuracy: 1.0000 - 46ms/epoch - 5ms/step\n",
      "Epoch 281/300\n",
      "9/9 - 0s - loss: 0.4762 - accuracy: 1.0000 - val_loss: 0.4468 - val_accuracy: 1.0000 - 49ms/epoch - 5ms/step\n",
      "Epoch 282/300\n",
      "9/9 - 0s - loss: 0.4872 - accuracy: 0.9444 - val_loss: 0.4475 - val_accuracy: 1.0000 - 42ms/epoch - 5ms/step\n",
      "Epoch 283/300\n",
      "9/9 - 0s - loss: 0.4566 - accuracy: 0.9444 - val_loss: 0.4574 - val_accuracy: 0.8889 - 45ms/epoch - 5ms/step\n",
      "Epoch 284/300\n",
      "9/9 - 0s - loss: 0.4728 - accuracy: 0.9333 - val_loss: 0.4309 - val_accuracy: 1.0000 - 61ms/epoch - 7ms/step\n",
      "Epoch 285/300\n",
      "9/9 - 0s - loss: 0.4825 - accuracy: 0.9000 - val_loss: 0.4849 - val_accuracy: 0.8889 - 51ms/epoch - 6ms/step\n",
      "Epoch 286/300\n",
      "9/9 - 0s - loss: 0.4637 - accuracy: 0.9444 - val_loss: 0.4313 - val_accuracy: 1.0000 - 56ms/epoch - 6ms/step\n",
      "Epoch 287/300\n",
      "9/9 - 0s - loss: 0.4611 - accuracy: 0.9556 - val_loss: 0.4497 - val_accuracy: 0.8889 - 50ms/epoch - 6ms/step\n",
      "Epoch 288/300\n",
      "9/9 - 0s - loss: 0.4535 - accuracy: 0.9333 - val_loss: 0.4220 - val_accuracy: 1.0000 - 40ms/epoch - 4ms/step\n",
      "Epoch 289/300\n",
      "9/9 - 0s - loss: 0.4732 - accuracy: 0.9556 - val_loss: 0.4281 - val_accuracy: 1.0000 - 44ms/epoch - 5ms/step\n",
      "Epoch 290/300\n",
      "9/9 - 0s - loss: 0.4600 - accuracy: 0.9556 - val_loss: 0.4200 - val_accuracy: 1.0000 - 45ms/epoch - 5ms/step\n",
      "Epoch 291/300\n",
      "9/9 - 0s - loss: 0.4432 - accuracy: 0.9556 - val_loss: 0.4175 - val_accuracy: 1.0000 - 42ms/epoch - 5ms/step\n",
      "Epoch 292/300\n",
      "9/9 - 0s - loss: 0.4295 - accuracy: 0.9667 - val_loss: 0.4504 - val_accuracy: 0.8889 - 41ms/epoch - 5ms/step\n",
      "Epoch 293/300\n",
      "9/9 - 0s - loss: 0.4453 - accuracy: 0.9556 - val_loss: 0.4197 - val_accuracy: 0.8889 - 42ms/epoch - 5ms/step\n",
      "Epoch 294/300\n",
      "9/9 - 0s - loss: 0.4509 - accuracy: 0.9111 - val_loss: 0.4136 - val_accuracy: 1.0000 - 43ms/epoch - 5ms/step\n",
      "Epoch 295/300\n",
      "9/9 - 0s - loss: 0.4368 - accuracy: 1.0000 - val_loss: 0.4118 - val_accuracy: 1.0000 - 41ms/epoch - 5ms/step\n",
      "Epoch 296/300\n",
      "9/9 - 0s - loss: 0.4228 - accuracy: 0.9778 - val_loss: 0.4031 - val_accuracy: 1.0000 - 43ms/epoch - 5ms/step\n",
      "Epoch 297/300\n",
      "9/9 - 0s - loss: 0.4143 - accuracy: 0.9889 - val_loss: 0.4083 - val_accuracy: 1.0000 - 41ms/epoch - 5ms/step\n",
      "Epoch 298/300\n",
      "9/9 - 0s - loss: 0.4405 - accuracy: 0.9333 - val_loss: 0.4018 - val_accuracy: 1.0000 - 43ms/epoch - 5ms/step\n",
      "Epoch 299/300\n",
      "9/9 - 0s - loss: 0.4317 - accuracy: 1.0000 - val_loss: 0.3980 - val_accuracy: 1.0000 - 41ms/epoch - 5ms/step\n",
      "Epoch 300/300\n",
      "9/9 - 0s - loss: 0.4296 - accuracy: 0.9778 - val_loss: 0.4148 - val_accuracy: 1.0000 - 43ms/epoch - 5ms/step\n"
     ]
    }
   ],
   "source": [
    "hist = model.fit(x_train, Y_train,\n",
    "                epochs=300,\n",
    "                batch_size=10,\n",
    "                verbose=2, # 학습결과 출력 옵션 0 : 출력없음. 1:기본값, 2:에포크별로그상세추력\n",
    "                validation_data=(x_val, Y_val)\n",
    "                )"
   ]
  },
  {
   "cell_type": "markdown",
   "id": "a9c99dfd",
   "metadata": {},
   "source": [
    "# 6. 모델평가하기(모델 학습과정 살펴보고, evalute)"
   ]
  },
  {
   "cell_type": "code",
   "execution_count": 11,
   "id": "58c332ef",
   "metadata": {},
   "outputs": [
    {
     "data": {
      "text/plain": [
       "dict_keys(['loss', 'accuracy', 'val_loss', 'val_accuracy'])"
      ]
     },
     "execution_count": 11,
     "metadata": {},
     "output_type": "execute_result"
    }
   ],
   "source": [
    "hist.history.keys()"
   ]
  },
  {
   "cell_type": "code",
   "execution_count": 30,
   "id": "57b78673",
   "metadata": {},
   "outputs": [
    {
     "data": {
      "image/png": "[encoded data removed]",
      "text/plain": [
       "<Figure size 1000x500 with 2 Axes>"
      ]
     },
     "metadata": {},
     "output_type": "display_data"
    }
   ],
   "source": [
    "# 모델 학습과정 시각화\n",
    "import matplotlib.pyplot as plt\n",
    "fig, loss_ax = plt.subplots(figsize=(10,5))\n",
    "loss_ax.plot(hist.history['loss'], 'y', label='train loss')\n",
    "loss_ax.plot(hist.history['val_loss'], 'r', label='val loss')\n",
    "loss_ax.set_xlabel('epoch')\n",
    "loss_ax.set_ylabel('loss')\n",
    "\n",
    "acc_ax = loss_ax.twinx() # loss_ax와 x축을 공유하는 acc_ax생성\n",
    "acc_ax.plot(hist.history['accuracy'], 'g', label='train accuracy')\n",
    "acc_ax.plot(hist.history['val_accuracy'], 'b', label='val accuracy')\n",
    "acc_ax.set_ylabel('accuracy')\n",
    "loss_ax.legend(loc='upper left')\n",
    "acc_ax.legend(loc='center right')\n",
    "plt.show()"
   ]
  },
  {
   "cell_type": "code",
   "execution_count": 31,
   "id": "f95a60bf",
   "metadata": {},
   "outputs": [
    {
     "name": "stdout",
     "output_type": "stream",
     "text": [
      "9/9 [==============================] - 0s 2ms/step - loss: 0.4148 - accuracy: 1.0000\n"
     ]
    }
   ],
   "source": [
    "# 모델 평가\n",
    "score = model.evaluate(x_test, Y_test, batch_size=1)"
   ]
  },
  {
   "cell_type": "code",
   "execution_count": 32,
   "id": "ce8bebd2",
   "metadata": {},
   "outputs": [
    {
     "data": {
      "text/plain": [
       "[0.4148350954055786, 1.0]"
      ]
     },
     "execution_count": 32,
     "metadata": {},
     "output_type": "execute_result"
    }
   ],
   "source": [
    "score # loss, accuracy"
   ]
  },
  {
   "cell_type": "code",
   "execution_count": 33,
   "id": "f217655b",
   "metadata": {},
   "outputs": [
    {
     "name": "stdout",
     "output_type": "stream",
     "text": [
      "평가된 loss : 0.4148350954055786\n",
      "평가된 accuracy : 100.0 %\n"
     ]
    }
   ],
   "source": [
    "print('평가된 loss :', score[0])\n",
    "print('평가된 accuracy :', score[1]*100, '%')"
   ]
  },
  {
   "cell_type": "markdown",
   "id": "6ab82bd6",
   "metadata": {},
   "source": [
    "# 7. 모델 사용하기"
   ]
  },
  {
   "cell_type": "code",
   "execution_count": 34,
   "id": "766694ef",
   "metadata": {},
   "outputs": [
    {
     "name": "stdout",
     "output_type": "stream",
     "text": [
      "1/1 [==============================] - 0s 60ms/step\n"
     ]
    },
    {
     "data": {
      "text/plain": [
       "array([[4.83542329e-12, 6.40118080e-12, 9.22902375e-02, 1.28434741e-12,\n",
       "        7.93506682e-01, 3.53426533e-12, 1.13467194e-01, 3.16125182e-11,\n",
       "        7.35450420e-04, 1.51495982e-12, 4.13944406e-07, 4.28484451e-13,\n",
       "        1.46933160e-10, 5.09497026e-14, 2.77712450e-13, 4.98465748e-11,\n",
       "        4.54196758e-19, 2.41162316e-11, 7.94463198e-25]], dtype=float32)"
      ]
     },
     "execution_count": 34,
     "metadata": {},
     "output_type": "execute_result"
    }
   ],
   "source": [
    "H = model.predict(np.array([[2]]))\n",
    "H"
   ]
  },
  {
   "cell_type": "code",
   "execution_count": 35,
   "id": "92860339",
   "metadata": {},
   "outputs": [
    {
     "name": "stdout",
     "output_type": "stream",
     "text": [
      "1/1 [==============================] - 0s 21ms/step\n"
     ]
    },
    {
     "data": {
      "text/plain": [
       "4"
      ]
     },
     "execution_count": 35,
     "metadata": {},
     "output_type": "execute_result"
    }
   ],
   "source": [
    "# 분류분석의 예측은 predict()후 argmax()\n",
    "model.predict(np.array([[2]])).argmax()"
   ]
  },
  {
   "cell_type": "code",
   "execution_count": 36,
   "id": "59dd8687",
   "metadata": {},
   "outputs": [
    {
     "data": {
      "text/plain": [
       "79.35066819190979"
      ]
     },
     "execution_count": 36,
     "metadata": {},
     "output_type": "execute_result"
    }
   ],
   "source": [
    "# 4를 몇%확률로 예측했는지?\n",
    "H[0, H.argmax()]*100"
   ]
  },
  {
   "cell_type": "markdown",
   "id": "c734096f",
   "metadata": {},
   "source": [
    "# 7. 모델 저장하기"
   ]
  },
  {
   "cell_type": "code",
   "execution_count": 37,
   "id": "7754fb30",
   "metadata": {},
   "outputs": [],
   "source": [
    "# model.save('model/02_deep.h5')\n",
    "from tensorflow.keras.models import save_model\n",
    "save_model(model, 'model/02_deep.h5')"
   ]
  },
  {
   "cell_type": "markdown",
   "id": "894a5d1e",
   "metadata": {},
   "source": [
    "## 저장된 모델 사용하기"
   ]
  },
  {
   "cell_type": "code",
   "execution_count": 2,
   "id": "336b460c",
   "metadata": {},
   "outputs": [],
   "source": [
    "from tensorflow.keras.models import load_model\n",
    "model2 = load_model('model/02_deep.h5')"
   ]
  },
  {
   "cell_type": "code",
   "execution_count": 3,
   "id": "d62dc41e",
   "metadata": {},
   "outputs": [
    {
     "name": "stdout",
     "output_type": "stream",
     "text": [
      "Model: \"sequential_1\"\n",
      "_________________________________________________________________\n",
      " Layer (type)                Output Shape              Param #   \n",
      "=================================================================\n",
      " dense_4 (Dense)             (None, 38)                76        \n",
      "                                                                 \n",
      " dense_5 (Dense)             (None, 64)                2496      \n",
      "                                                                 \n",
      " dense_6 (Dense)             (None, 32)                2080      \n",
      "                                                                 \n",
      " dense_7 (Dense)             (None, 19)                627       \n",
      "                                                                 \n",
      "=================================================================\n",
      "Total params: 5,279\n",
      "Trainable params: 5,279\n",
      "Non-trainable params: 0\n",
      "_________________________________________________________________\n"
     ]
    }
   ],
   "source": [
    "model2.summary()"
   ]
  },
  {
   "cell_type": "code",
   "execution_count": 8,
   "id": "0a28e98b",
   "metadata": {},
   "outputs": [
    {
     "name": "stdout",
     "output_type": "stream",
     "text": [
      "1/1 [==============================] - 0s 213ms/step\n"
     ]
    },
    {
     "data": {
      "text/plain": [
       "array([[0.06592948, 0.06849714, 0.04110867, 0.0358652 , 0.04908619,\n",
       "        0.03987683, 0.07696008, 0.0645326 , 0.0575591 , 0.04740672,\n",
       "        0.0326909 , 0.05757444, 0.05356486, 0.03242625, 0.04970352,\n",
       "        0.07711137, 0.06393892, 0.04709888, 0.0390688 ],\n",
       "       [0.06684425, 0.06857079, 0.03981613, 0.03859943, 0.05045055,\n",
       "        0.04033109, 0.07799793, 0.06110502, 0.05369918, 0.04923232,\n",
       "        0.03356862, 0.05735354, 0.05642837, 0.03129095, 0.05429719,\n",
       "        0.07571074, 0.06528486, 0.04473537, 0.03468368]], dtype=float32)"
      ]
     },
     "execution_count": 8,
     "metadata": {},
     "output_type": "execute_result"
    }
   ],
   "source": [
    "data = np.array([[2],\n",
    "                 [3]])\n",
    "predictions = model.predict(data)\n",
    "predictions"
   ]
  },
  {
   "cell_type": "code",
   "execution_count": 9,
   "id": "a17fc77c",
   "metadata": {},
   "outputs": [],
   "source": [
    "def predict_classes(model, data):\n",
    "    predictions = model.predict(data)\n",
    "    return predictions.argmax(axis=-1)"
   ]
  },
  {
   "cell_type": "code",
   "execution_count": 12,
   "id": "ea785ad0",
   "metadata": {},
   "outputs": [],
   "source": [
    "import tensorflow as tf\n",
    "@tf.function(reduce_retracing=True)\n",
    "def predict_classes(model, data):\n",
    "    predictions = model(data, training=False)\n",
    "    return tf.argmax(predictions, axis=-1)"
   ]
  },
  {
   "cell_type": "code",
   "execution_count": 13,
   "id": "98f61c20",
   "metadata": {},
   "outputs": [
    {
     "name": "stdout",
     "output_type": "stream",
     "text": [
      "어떤 데이터를 예측할까요?6\n",
      "예측된 분류는 tf.Tensor([12], shape=(1,), dtype=int64)\n"
     ]
    }
   ],
   "source": [
    "import numpy as np\n",
    "input_data = int(input('어떤 데이터를 예측할까요?'))\n",
    "data = np.array([[input_data]])\n",
    "print('예측된 분류는', predict_classes(model2, data))"
   ]
  },
  {
   "cell_type": "code",
   "execution_count": null,
   "id": "83e7b01c",
   "metadata": {},
   "outputs": [],
   "source": []
  },
  {
   "cell_type": "code",
   "execution_count": null,
   "id": "3044d7f8",
   "metadata": {},
   "outputs": [],
   "source": []
  },
  {
   "cell_type": "code",
   "execution_count": null,
   "id": "3d408d3f",
   "metadata": {},
   "outputs": [],
   "source": []
  },
  {
   "cell_type": "code",
   "execution_count": null,
   "id": "daa69f81",
   "metadata": {},
   "outputs": [],
   "source": []
  }
 ],
 "metadata": {
  "kernelspec": {
   "display_name": "ml-dl-nlp",
   "language": "python",
   "name": "ml-dl-nlp"
  },
  "language_info": {
   "codemirror_mode": {
    "name": "ipython",
    "version": 3
   },
   "file_extension": ".py",
   "mimetype": "text/x-python",
   "name": "python",
   "nbconvert_exporter": "python",
   "pygments_lexer": "ipython3",
   "version": "3.10.18"
  },
  "toc": {
   "base_numbering": 1,
   "nav_menu": {},
   "number_sections": false,
   "sideBar": true,
   "skip_h1_title": false,
   "title_cell": "Table of Contents",
   "title_sidebar": "Contents",
   "toc_cell": false,
   "toc_position": {},
   "toc_section_display": true,
   "toc_window_display": false
  }
 },
 "nbformat": 4,
 "nbformat_minor": 5
}
