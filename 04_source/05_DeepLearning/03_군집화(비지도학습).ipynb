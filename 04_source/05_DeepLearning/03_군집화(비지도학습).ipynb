{
 "cells": [
  {
   "cell_type": "code",
   "execution_count": 1,
   "id": "d099d4ba",
   "metadata": {},
   "outputs": [
    {
     "data": {
      "text/html": [
       "\n",
       "<style>\n",
       "div.container{width:85% !important;}\n",
       "div.cell.code_cell.rendered{width:100%;}\n",
       "div.input_prompt{padding:0px;}\n",
       "div.CodeMirror {font-family:Consolas; font-size:12pt;}\n",
       "div.output {font-size:12pt; font-weight:bold;}\n",
       "div.input {font-family:Consolas; font-size:12pt;}\n",
       "div.prompt {min-width:70px;}\n",
       "div#toc-wrapper{padding-top:120px;}\n",
       "div.text_cell_render ul li{font-size:12pt;padding:5px;}\n",
       "table.dataframe{font-size:12px;}\n",
       "</style>\n"
      ],
      "text/plain": [
       "<IPython.core.display.HTML object>"
      ]
     },
     "metadata": {},
     "output_type": "display_data"
    }
   ],
   "source": [
    "from IPython.display import display, HTML\n",
    "display(HTML(\"\"\"\n",
    "<style>\n",
    "div.container{width:85% !important;}\n",
    "div.cell.code_cell.rendered{width:100%;}\n",
    "div.input_prompt{padding:0px;}\n",
    "div.CodeMirror {font-family:Consolas; font-size:12pt;}\n",
    "div.output {font-size:12pt; font-weight:bold;}\n",
    "div.input {font-family:Consolas; font-size:12pt;}\n",
    "div.prompt {min-width:70px;}\n",
    "div#toc-wrapper{padding-top:120px;}\n",
    "div.text_cell_render ul li{font-size:12pt;padding:5px;}\n",
    "table.dataframe{font-size:12px;}\n",
    "</style>\n",
    "\"\"\"))"
   ]
  },
  {
   "cell_type": "markdown",
   "id": "0cc7a828",
   "metadata": {},
   "source": [
    "# 1. 데이터 생성\n",
    "- 남자, 여자의 키와 몸무게 데이터를 군집화"
   ]
  },
  {
   "cell_type": "code",
   "execution_count": 2,
   "id": "24df03d6",
   "metadata": {},
   "outputs": [],
   "source": [
    "import random\n",
    "import numpy as np\n",
    "import matplotlib.pyplot as plt"
   ]
  },
  {
   "cell_type": "code",
   "execution_count": 6,
   "id": "31ebcc1f",
   "metadata": {},
   "outputs": [
    {
     "data": {
      "text/plain": [
       "70"
      ]
     },
     "execution_count": 6,
     "metadata": {},
     "output_type": "execute_result"
    }
   ],
   "source": [
    "random.randint(40,95) # 40부터 95까지의 정수 중 하나를 무작위 선택 반환"
   ]
  },
  {
   "cell_type": "code",
   "execution_count": 7,
   "id": "03a1e159",
   "metadata": {},
   "outputs": [
    {
     "data": {
      "text/plain": [
       "[[54, 155],\n",
       " [71, 182],\n",
       " [66, 164],\n",
       " [93, 162],\n",
       " [63, 147],\n",
       " [62, 190],\n",
       " [57, 168],\n",
       " [68, 190],\n",
       " [49, 166],\n",
       " [67, 195],\n",
       " [46, 146],\n",
       " [69, 164],\n",
       " [55, 159],\n",
       " [82, 162],\n",
       " [51, 141],\n",
       " [90, 180],\n",
       " [60, 159],\n",
       " [87, 189],\n",
       " [57, 140],\n",
       " [78, 194],\n",
       " [45, 156],\n",
       " [65, 175],\n",
       " [57, 155],\n",
       " [94, 191],\n",
       " [58, 143],\n",
       " [74, 177],\n",
       " [70, 164],\n",
       " [64, 178],\n",
       " [60, 160],\n",
       " [77, 163],\n",
       " [44, 167],\n",
       " [84, 168],\n",
       " [53, 164],\n",
       " [86, 189],\n",
       " [64, 162],\n",
       " [67, 184],\n",
       " [52, 169],\n",
       " [92, 173],\n",
       " [41, 164],\n",
       " [77, 169],\n",
       " [45, 167],\n",
       " [94, 188],\n",
       " [59, 170],\n",
       " [68, 193],\n",
       " [59, 165],\n",
       " [94, 180],\n",
       " [47, 160],\n",
       " [91, 186],\n",
       " [49, 151],\n",
       " [74, 167],\n",
       " [57, 150],\n",
       " [82, 187],\n",
       " [42, 168],\n",
       " [63, 176],\n",
       " [55, 152],\n",
       " [79, 164],\n",
       " [56, 166],\n",
       " [78, 166],\n",
       " [69, 169],\n",
       " [93, 162],\n",
       " [58, 148],\n",
       " [92, 183],\n",
       " [68, 147],\n",
       " [91, 169],\n",
       " [48, 168],\n",
       " [90, 192],\n",
       " [69, 158],\n",
       " [85, 168],\n",
       " [41, 154],\n",
       " [76, 191],\n",
       " [68, 141],\n",
       " [60, 171],\n",
       " [59, 157],\n",
       " [73, 162],\n",
       " [53, 150],\n",
       " [78, 162],\n",
       " [68, 168],\n",
       " [94, 179],\n",
       " [56, 170],\n",
       " [61, 187],\n",
       " [69, 150],\n",
       " [83, 169],\n",
       " [66, 170],\n",
       " [63, 178],\n",
       " [56, 166],\n",
       " [64, 164],\n",
       " [55, 168],\n",
       " [84, 173],\n",
       " [49, 153],\n",
       " [63, 182],\n",
       " [66, 148],\n",
       " [83, 185],\n",
       " [64, 151],\n",
       " [89, 181],\n",
       " [45, 148],\n",
       " [71, 161],\n",
       " [67, 159],\n",
       " [76, 164],\n",
       " [48, 167],\n",
       " [92, 172]]"
      ]
     },
     "execution_count": 7,
     "metadata": {},
     "output_type": "execute_result"
    }
   ],
   "source": [
    "data = []\n",
    "for i in range(50):\n",
    "    # 여자 데이터\n",
    "    data.append([random.randint(40,70), random.randint(140,170)])\n",
    "    # 남자 데이터\n",
    "    data.append([random.randint(60,95), random.randint(160,195)])\n",
    "data"
   ]
  },
  {
   "cell_type": "code",
   "execution_count": 9,
   "id": "be0ef54a",
   "metadata": {},
   "outputs": [
    {
     "name": "stdout",
     "output_type": "stream",
     "text": [
      "[54, 155] [66, 164] [63, 147] [57, 168] [49, 166] [46, 146] [55, 159] [51, 141] [60, 159] [57, 140] [45, 156] [57, 155] [58, 143] [70, 164] [60, 160] [44, 167] [53, 164] [64, 162] [52, 169] [41, 164] [45, 167] [59, 170] [59, 165] [47, 160] [49, 151] [57, 150] [42, 168] [55, 152] [56, 166] [69, 169] [58, 148] [68, 147] [48, 168] [69, 158] [41, 154] [68, 141] [59, 157] [53, 150] [68, 168] [56, 170] [69, 150] [66, 170] [56, 166] [55, 168] [49, 153] [66, 148] [64, 151] [45, 148] [67, 159] [48, 167] \n",
      "-------------------------------\n",
      "[71, 182] [93, 162] [62, 190] [68, 190] [67, 195] [69, 164] [82, 162] [90, 180] [87, 189] [78, 194] [65, 175] [94, 191] [74, 177] [64, 178] [77, 163] [84, 168] [86, 189] [67, 184] [92, 173] [77, 169] [94, 188] [68, 193] [94, 180] [91, 186] [74, 167] [82, 187] [63, 176] [79, 164] [78, 166] [93, 162] [92, 183] [91, 169] [90, 192] [85, 168] [76, 191] [60, 171] [73, 162] [78, 162] [94, 179] [61, 187] [83, 169] [63, 178] [64, 164] [84, 173] [63, 182] [83, 185] [89, 181] [71, 161] [76, 164] [92, 172] "
     ]
    }
   ],
   "source": [
    "# 여자\n",
    "for female in data[:100:2]:\n",
    "    print(female, end=' ')\n",
    "# 남자\n",
    "print('\\n-------------------------------')\n",
    "for male in data[1:100:2]:\n",
    "    print(male, end=' ')"
   ]
  },
  {
   "cell_type": "code",
   "execution_count": 11,
   "id": "959618f5",
   "metadata": {},
   "outputs": [
    {
     "name": "stdout",
     "output_type": "stream",
     "text": [
      "여자 몸무게 : [54, 66, 63, 57, 49, 46, 55, 51, 60, 57, 45, 57, 58, 70, 60, 44, 53, 64, 52, 41, 45, 59, 59, 47, 49, 57, 42, 55, 56, 69, 58, 68, 48, 69, 41, 68, 59, 53, 68, 56, 69, 66, 56, 55, 49, 66, 64, 45, 67, 48]\n",
      "여자 키 : [155, 164, 147, 168, 166, 146, 159, 141, 159, 140, 156, 155, 143, 164, 160, 167, 164, 162, 169, 164, 167, 170, 165, 160, 151, 150, 168, 152, 166, 169, 148, 147, 168, 158, 154, 141, 157, 150, 168, 170, 150, 170, 166, 168, 153, 148, 151, 148, 159, 167]\n",
      "남자 몸무게 : [71, 93, 62, 68, 67, 69, 82, 90, 87, 78, 65, 94, 74, 64, 77, 84, 86, 67, 92, 77, 94, 68, 94, 91, 74, 82, 63, 79, 78, 93, 92, 91, 90, 85, 76, 60, 73, 78, 94, 61, 83, 63, 64, 84, 63, 83, 89, 71, 76, 92]\n",
      "남자 키 : [182, 162, 190, 190, 195, 164, 162, 180, 189, 194, 175, 191, 177, 178, 163, 168, 189, 184, 173, 169, 188, 193, 180, 186, 167, 187, 176, 164, 166, 162, 183, 169, 192, 168, 191, 171, 162, 162, 179, 187, 169, 178, 164, 173, 182, 185, 181, 161, 164, 172]\n"
     ]
    }
   ],
   "source": [
    "print('여자 몸무게 :',[d[0] for d in data[::2]])\n",
    "print('여자 키 :',   [d[1] for d in data[::2]])\n",
    "print('남자 몸무게 :',[d[0] for d in data[1::2]])\n",
    "print('남자 키 :',   [d[1] for d in data[1::2]])"
   ]
  },
  {
   "cell_type": "code",
   "execution_count": 15,
   "id": "cc7baf86",
   "metadata": {},
   "outputs": [
    {
     "data": {
      "text/plain": [
       "[<matplotlib.lines.Line2D at 0x1db789265f0>]"
      ]
     },
     "execution_count": 15,
     "metadata": {},
     "output_type": "execute_result"
    },
    {
     "data": {
      "image/png": "[encoded data removed]",
      "text/plain": [
       "<Figure size 640x480 with 1 Axes>"
      ]
     },
     "metadata": {},
     "output_type": "display_data"
    }
   ],
   "source": [
    "plt.plot([d[0] for d in data[::2]],\n",
    "    [d[1] for d in data[::2]], 'o', color='r')\n",
    "plt.plot([d[0] for d in data[1::2]],\n",
    "    [d[1] for d in data[1::2]], '^', color='b')"
   ]
  },
  {
   "cell_type": "markdown",
   "id": "f1c0485b",
   "metadata": {},
   "source": [
    "# 2. 군집화 로직"
   ]
  },
  {
   "cell_type": "code",
   "execution_count": 16,
   "id": "3780610d",
   "metadata": {},
   "outputs": [
    {
     "data": {
      "text/plain": [
       "[[84, 156], [95, 173]]"
      ]
     },
     "execution_count": 16,
     "metadata": {},
     "output_type": "execute_result"
    }
   ],
   "source": [
    "# 초기 랜덤지점 2개\n",
    "random_point = [[random.randint(40, 95), random.randint(140, 195)],\n",
    "                [random.randint(40, 95), random.randint(140, 195)]]\n",
    "random_point"
   ]
  },
  {
   "cell_type": "code",
   "execution_count": 18,
   "id": "92fcbe12",
   "metadata": {},
   "outputs": [
    {
     "data": {
      "text/plain": [
       "[<matplotlib.lines.Line2D at 0x1db7abc74f0>]"
      ]
     },
     "execution_count": 18,
     "metadata": {},
     "output_type": "execute_result"
    },
    {
     "data": {
      "image/png": "[encoded data removed]",
      "text/plain": [
       "<Figure size 640x480 with 1 Axes>"
      ]
     },
     "metadata": {},
     "output_type": "display_data"
    }
   ],
   "source": [
    "plt.plot([d[0] for d in data],\n",
    "        [d[1] for d in data], 'o', color='k')\n",
    "plt.plot(random_point[0][0],\n",
    "        random_point[0][1], 'x', color='r', markersize=20) # 기준점1\n",
    "plt.plot(random_point[1][0],\n",
    "        random_point[1][1], 'x', color='b', markersize=20) # 기준점2"
   ]
  },
  {
   "cell_type": "code",
   "execution_count": 24,
   "id": "0882ee4c",
   "metadata": {},
   "outputs": [],
   "source": [
    "# 두 점의 거리를 return a:(0,0) ~ b:(4,3)\n",
    "def dist(a, b):\n",
    "    return (a[0]-b[0])**2 + (a[1]-b[1])**2 # np.sqrt():루트"
   ]
  },
  {
   "cell_type": "code",
   "execution_count": 25,
   "id": "693eb93a",
   "metadata": {},
   "outputs": [
    {
     "data": {
      "text/plain": [
       "25"
      ]
     },
     "execution_count": 25,
     "metadata": {},
     "output_type": "execute_result"
    }
   ],
   "source": [
    "a=[0,0]; b=[4,3]\n",
    "dist(a,b)"
   ]
  },
  {
   "cell_type": "code",
   "execution_count": 26,
   "id": "19711f6c",
   "metadata": {},
   "outputs": [
    {
     "data": {
      "text/plain": [
       "(70, 30)"
      ]
     },
     "execution_count": 26,
     "metadata": {},
     "output_type": "execute_result"
    }
   ],
   "source": [
    "# random_points[0]과 random_points[1]을 기준으로 나눈 두 영역\n",
    "group1 = [] # random_points[0]이 가까운 그룹\n",
    "group2 = [] # random_points[0]이 가까운 그룹\n",
    "for d in data:\n",
    "    if dist(random_point[0], d) < dist(random_point[1], d):\n",
    "        group1.append(d) # 빨간 x랑 더 가까운 그룹\n",
    "    else:\n",
    "        group2.append(d) # vkfks x랑 더 가까운 그룹\n",
    "len(group1), len(group2)"
   ]
  },
  {
   "cell_type": "code",
   "execution_count": 28,
   "id": "f648d523",
   "metadata": {},
   "outputs": [
    {
     "data": {
      "image/png": "[encoded data removed]",
      "text/plain": [
       "<Figure size 640x480 with 1 Axes>"
      ]
     },
     "metadata": {},
     "output_type": "display_data"
    }
   ],
   "source": [
    "# 새로운 그룸 group1과 group2, 초기 랜덤 지점\n",
    "plt.plot([d[0] for d in group1],\n",
    "        [d[1] for d in group1], 'o', color='r')\n",
    "plt.plot([d[0] for d in group2],\n",
    "        [d[1] for d in group2], 'o', color='b')\n",
    "plt.plot(random_point[0][0],\n",
    "        random_point[0][1], 'x', color='r', markersize=20) # 기준점1\n",
    "plt.plot(random_point[1][0],\n",
    "        random_point[1][1], 'x', color='b', markersize=20) # 기준점2\n",
    "plt.show()"
   ]
  },
  {
   "cell_type": "code",
   "execution_count": 30,
   "id": "6757956d",
   "metadata": {},
   "outputs": [
    {
     "data": {
      "text/plain": [
       "[[61.371428571428574, 160.65714285714284], [81.6, 183.3]]"
      ]
     },
     "execution_count": 30,
     "metadata": {},
     "output_type": "execute_result"
    }
   ],
   "source": [
    "# 기준점 이동 group1의 중심점, group2중심점\n",
    "sumX=0 ; sumY=0\n",
    "for g in group1:\n",
    "    sumX += g[0]\n",
    "    sumY += g[1]\n",
    "# 새로운 기준점으로 할당\n",
    "random_point[0] = [sumX/len(group1), sumY/len(group1)]\n",
    "sumX=0 ; sumY=0\n",
    "for g in group2:\n",
    "    sumX += g[0]\n",
    "    sumY += g[1]\n",
    "# 새로운 기준점으로 할당\n",
    "random_point[1] = [sumX/len(group2), sumY/len(group2)]\n",
    "random_point"
   ]
  },
  {
   "cell_type": "code",
   "execution_count": 31,
   "id": "2bbcde47",
   "metadata": {},
   "outputs": [
    {
     "data": {
      "image/png": "[encoded data removed]",
      "text/plain": [
       "<Figure size 640x480 with 1 Axes>"
      ]
     },
     "metadata": {},
     "output_type": "display_data"
    }
   ],
   "source": [
    "plt.plot([d[0] for d in group1],\n",
    "        [d[1] for d in group1], 'o', color='r')\n",
    "plt.plot([d[0] for d in group2],\n",
    "        [d[1] for d in group2], 'o', color='b')\n",
    "plt.plot(random_point[0][0],\n",
    "        random_point[0][1], 'x', color='r', markersize=20) # 기준점1\n",
    "plt.plot(random_point[1][0],\n",
    "        random_point[1][1], 'x', color='b', markersize=20) # 기준점2\n",
    "plt.show()"
   ]
  },
  {
   "cell_type": "markdown",
   "id": "a9307d9b",
   "metadata": {},
   "source": [
    "# 3. 전체 코드(for문 이용)\n",
    "- data 생성\n",
    "- 랜덤포인트 2지점\n",
    "- 랜덤포인드 2지점 기준으로 group1과 group2\n",
    "- 랜덤포인트 이용(group1중간점, group2중간점)"
   ]
  },
  {
   "cell_type": "code",
   "execution_count": 44,
   "id": "ffb25781",
   "metadata": {},
   "outputs": [
    {
     "name": "stdout",
     "output_type": "stream",
     "text": [
      "초기 points : [[73, 144], [78, 174]]\n",
      "1 번째 points : [[54.170731707317074, 150.9268292682927], [74.42372881355932, 178.16949152542372]]\n",
      "2 번째 points : [[54.95744680851064, 152.61702127659575], [76.01886792452831, 179.75471698113208]]\n",
      "3 번째 points : [[55.627450980392155, 153.68627450980392], [77.04081632653062, 180.85714285714286]]\n",
      "4 번째 points : [[55.84615384615385, 153.92307692307693], [77.25, 181.16666666666666]]\n",
      "5 번째 points : [[55.84615384615385, 153.92307692307693], [77.25, 181.16666666666666]]\n",
      "6 번째 points : [[55.84615384615385, 153.92307692307693], [77.25, 181.16666666666666]]\n",
      "7 번째 points : [[55.84615384615385, 153.92307692307693], [77.25, 181.16666666666666]]\n",
      "8 번째 points : [[55.84615384615385, 153.92307692307693], [77.25, 181.16666666666666]]\n",
      "9 번째 points : [[55.84615384615385, 153.92307692307693], [77.25, 181.16666666666666]]\n",
      "10 번째 points : [[55.84615384615385, 153.92307692307693], [77.25, 181.16666666666666]]\n"
     ]
    },
    {
     "data": {
      "image/png": "[encoded data removed]",
      "text/plain": [
       "<Figure size 640x480 with 1 Axes>"
      ]
     },
     "metadata": {},
     "output_type": "display_data"
    }
   ],
   "source": [
    "# 데이터 생성\n",
    "data = []\n",
    "for i in range(50):\n",
    "    # 여자 데이터\n",
    "    data.append([random.randint(40,70), random.randint(140,170)])\n",
    "    # 남자 데이터\n",
    "    data.append([random.randint(60,95), random.randint(160,195)])\n",
    "#point 지정\n",
    "points = [[random.randint(40,95), random.randint(140,170)],\n",
    "         [random.randint(60,95), random.randint(160,195)]]\n",
    "print(\"초기 points :\", points)\n",
    "plt.plot(points[0][0], points[0][1], 'o', c='r', markersize=20)\n",
    "plt.plot(points[1][0], points[1][1], 'o', c='b', markersize=20)\n",
    "# 포인트 2지점기준으로 group1과 group2\n",
    "for i in range(1, 11):\n",
    "    group1 = [] #points[0]과 가까운 그룹\n",
    "    group2 = [] #points[1]과 가까운 그룹\n",
    "    for d in data:\n",
    "        if dist(d, points[0]) < dist(d, points[1]):\n",
    "            group1.append(d)\n",
    "        else:\n",
    "            group2.append(d)\n",
    "    #새로운 포인트로 할당\n",
    "    sumX = 0; sumY=0\n",
    "    for g in group1:\n",
    "        sumX += g[0]\n",
    "        sumY += g[1]\n",
    "    points[0] = [sumX/len(group1), sumY/len(group1)]\n",
    "    sumX = 0; sumY=0\n",
    "    for g in group2:\n",
    "        sumX += g[0]\n",
    "        sumY += g[1]\n",
    "    points[1] = [sumX/len(group2), sumY/len(group2)]\n",
    "    print(i, \"번째 points :\", points)\n",
    "    plt.plot(points[0][0], points[0][1], '^', c='r')\n",
    "    plt.plot(points[1][0], points[1][1], '^', c='b')\n",
    "plt.xlim(40,95)\n",
    "plt.ylim(40,95)"
   ]
  },
  {
   "cell_type": "code",
   "execution_count": 45,
   "id": "565ec524",
   "metadata": {},
   "outputs": [
    {
     "data": {
      "text/plain": [
       "[<matplotlib.lines.Line2D at 0x1db7d2a97b0>]"
      ]
     },
     "execution_count": 45,
     "metadata": {},
     "output_type": "execute_result"
    },
    {
     "data": {
      "image/png": "[encoded data removed]",
      "text/plain": [
       "<Figure size 640x480 with 1 Axes>"
      ]
     },
     "metadata": {},
     "output_type": "display_data"
    }
   ],
   "source": [
    "plt.plot([d[0] for d in group1],\n",
    "         [d[1] for d in group1], 'o', color='r')\n",
    "plt.plot([d[0] for d in group2],\n",
    "         [d[1] for d in group2], 'o', color='b')\n",
    "plt.plot(random_point[0][0], random_point[0][1], 'x', color='r', markersize=20)\n",
    "plt.plot(random_point[1][0], random_point[1][1], 'x', color='b', markersize=20)"
   ]
  },
  {
   "cell_type": "markdown",
   "id": "b759aeac",
   "metadata": {},
   "source": [
    "# 4. api(sklearn)를 이용한 군집화\n",
    "- sklearn 머신러닝\n",
    "    * 예측함수\n",
    "        ; 분류, 회귀, 군집분석\n",
    "        fit(학습), predict(예측)\n",
    "    * 변환함수(전처리 함수)\n",
    "        ; 전처리 ex. 스케일조정\n",
    "        fit(학습), transform(변환함수)"
   ]
  },
  {
   "cell_type": "code",
   "execution_count": 46,
   "id": "e93c21a3",
   "metadata": {},
   "outputs": [],
   "source": [
    "# 군집분석 라이브러리가 joblib충돌 경고 메세지 출력\n",
    "import os\n",
    "os.environ[\"OMP_MUM_THREADS\"] = \"1\""
   ]
  },
  {
   "cell_type": "code",
   "execution_count": 66,
   "id": "721437c0",
   "metadata": {},
   "outputs": [
    {
     "data": {
      "text/html": [
       "<style>#sk-container-id-2 {color: black;background-color: white;}#sk-container-id-2 pre{padding: 0;}#sk-container-id-2 div.sk-toggleable {background-color: white;}#sk-container-id-2 label.sk-toggleable__label {cursor: pointer;display: block;width: 100%;margin-bottom: 0;padding: 0.3em;box-sizing: border-box;text-align: center;}#sk-container-id-2 label.sk-toggleable__label-arrow:before {content: \"▸\";float: left;margin-right: 0.25em;color: #696969;}#sk-container-id-2 label.sk-toggleable__label-arrow:hover:before {color: black;}#sk-container-id-2 div.sk-estimator:hover label.sk-toggleable__label-arrow:before {color: black;}#sk-container-id-2 div.sk-toggleable__content {max-height: 0;max-width: 0;overflow: hidden;text-align: left;background-color: #f0f8ff;}#sk-container-id-2 div.sk-toggleable__content pre {margin: 0.2em;color: black;border-radius: 0.25em;background-color: #f0f8ff;}#sk-container-id-2 input.sk-toggleable__control:checked~div.sk-toggleable__content {max-height: 200px;max-width: 100%;overflow: auto;}#sk-container-id-2 input.sk-toggleable__control:checked~label.sk-toggleable__label-arrow:before {content: \"▾\";}#sk-container-id-2 div.sk-estimator input.sk-toggleable__control:checked~label.sk-toggleable__label {background-color: #d4ebff;}#sk-container-id-2 div.sk-label input.sk-toggleable__control:checked~label.sk-toggleable__label {background-color: #d4ebff;}#sk-container-id-2 input.sk-hidden--visually {border: 0;clip: rect(1px 1px 1px 1px);clip: rect(1px, 1px, 1px, 1px);height: 1px;margin: -1px;overflow: hidden;padding: 0;position: absolute;width: 1px;}#sk-container-id-2 div.sk-estimator {font-family: monospace;background-color: #f0f8ff;border: 1px dotted black;border-radius: 0.25em;box-sizing: border-box;margin-bottom: 0.5em;}#sk-container-id-2 div.sk-estimator:hover {background-color: #d4ebff;}#sk-container-id-2 div.sk-parallel-item::after {content: \"\";width: 100%;border-bottom: 1px solid gray;flex-grow: 1;}#sk-container-id-2 div.sk-label:hover label.sk-toggleable__label {background-color: #d4ebff;}#sk-container-id-2 div.sk-serial::before {content: \"\";position: absolute;border-left: 1px solid gray;box-sizing: border-box;top: 0;bottom: 0;left: 50%;z-index: 0;}#sk-container-id-2 div.sk-serial {display: flex;flex-direction: column;align-items: center;background-color: white;padding-right: 0.2em;padding-left: 0.2em;position: relative;}#sk-container-id-2 div.sk-item {position: relative;z-index: 1;}#sk-container-id-2 div.sk-parallel {display: flex;align-items: stretch;justify-content: center;background-color: white;position: relative;}#sk-container-id-2 div.sk-item::before, #sk-container-id-2 div.sk-parallel-item::before {content: \"\";position: absolute;border-left: 1px solid gray;box-sizing: border-box;top: 0;bottom: 0;left: 50%;z-index: -1;}#sk-container-id-2 div.sk-parallel-item {display: flex;flex-direction: column;z-index: 1;position: relative;background-color: white;}#sk-container-id-2 div.sk-parallel-item:first-child::after {align-self: flex-end;width: 50%;}#sk-container-id-2 div.sk-parallel-item:last-child::after {align-self: flex-start;width: 50%;}#sk-container-id-2 div.sk-parallel-item:only-child::after {width: 0;}#sk-container-id-2 div.sk-dashed-wrapped {border: 1px dashed gray;margin: 0 0.4em 0.5em 0.4em;box-sizing: border-box;padding-bottom: 0.4em;background-color: white;}#sk-container-id-2 div.sk-label label {font-family: monospace;font-weight: bold;display: inline-block;line-height: 1.2em;}#sk-container-id-2 div.sk-label-container {text-align: center;}#sk-container-id-2 div.sk-container {/* jupyter's `normalize.less` sets `[hidden] { display: none; }` but bootstrap.min.css set `[hidden] { display: none !important; }` so we also need the `!important` here to be able to override the default hidden behavior on the sphinx rendered scikit-learn.org. See: https://github.com/scikit-learn/scikit-learn/issues/21755 */display: inline-block !important;position: relative;}#sk-container-id-2 div.sk-text-repr-fallback {display: none;}</style><div id=\"sk-container-id-2\" class=\"sk-top-container\"><div class=\"sk-text-repr-fallback\"><pre>KMeans(init=&#x27;random&#x27;, n_clusters=2, n_init=10, random_state=7)</pre><b>In a Jupyter environment, please rerun this cell to show the HTML representation or trust the notebook. <br />On GitHub, the HTML representation is unable to render, please try loading this page with nbviewer.org.</b></div><div class=\"sk-container\" hidden><div class=\"sk-item\"><div class=\"sk-estimator sk-toggleable\"><input class=\"sk-toggleable__control sk-hidden--visually\" id=\"sk-estimator-id-2\" type=\"checkbox\" checked><label for=\"sk-estimator-id-2\" class=\"sk-toggleable__label sk-toggleable__label-arrow\">KMeans</label><div class=\"sk-toggleable__content\"><pre>KMeans(init=&#x27;random&#x27;, n_clusters=2, n_init=10, random_state=7)</pre></div></div></div></div></div>"
      ],
      "text/plain": [
       "KMeans(init='random', n_clusters=2, n_init=10, random_state=7)"
      ]
     },
     "execution_count": 66,
     "metadata": {},
     "output_type": "execute_result"
    }
   ],
   "source": [
    "data = np.array(data)\n",
    "from sklearn.cluster import KMeans\n",
    "model = KMeans(n_clusters=2, # 2개 그룹으로 나눠\n",
    "              init='random', # 초기 중심점 랜덤하게\n",
    "              n_init=10, # 10번 실행\n",
    "              random_state=7)\n",
    "model.fit(data)"
   ]
  },
  {
   "cell_type": "code",
   "execution_count": 65,
   "id": "2c5d6980",
   "metadata": {},
   "outputs": [
    {
     "data": {
      "text/plain": [
       "array([[ 77.25      , 181.16666667],\n",
       "       [ 55.84615385, 153.92307692]])"
      ]
     },
     "execution_count": 65,
     "metadata": {},
     "output_type": "execute_result"
    }
   ],
   "source": [
    "# 중심점\n",
    "model.cluster_centers_"
   ]
  },
  {
   "cell_type": "code",
   "execution_count": 67,
   "id": "74b03629",
   "metadata": {},
   "outputs": [
    {
     "data": {
      "text/plain": [
       "array([1, 0, 1, 0, 1, 0, 1, 0, 1, 0, 1, 0, 1, 0, 1, 0, 1, 0, 1, 1, 1, 0,\n",
       "       1, 0, 1, 0, 1, 0, 1, 0, 1, 1, 1, 0, 1, 0, 1, 0, 1, 0, 1, 0, 1, 0,\n",
       "       1, 0, 1, 0, 1, 0, 1, 0, 1, 0, 1, 0, 1, 0, 1, 0, 1, 0, 1, 0, 1, 0,\n",
       "       1, 0, 1, 0, 1, 0, 1, 0, 1, 0, 1, 0, 1, 0, 1, 0, 1, 0, 1, 0, 1, 0,\n",
       "       1, 0, 1, 0, 1, 1, 0, 0, 1, 0, 1, 0])"
      ]
     },
     "execution_count": 67,
     "metadata": {},
     "output_type": "execute_result"
    }
   ],
   "source": [
    "# 나눠진 그룹들의 인덱스\n",
    "model.labels_"
   ]
  },
  {
   "cell_type": "code",
   "execution_count": 70,
   "id": "c89adafc",
   "metadata": {},
   "outputs": [],
   "source": [
    "group1 = data[model.labels_==1]\n",
    "group2 = data[model.labels_==0]\n",
    "c1, c2 = model.cluster_centers_"
   ]
  },
  {
   "cell_type": "code",
   "execution_count": 74,
   "id": "a285a476",
   "metadata": {},
   "outputs": [
    {
     "data": {
      "text/plain": [
       "[<matplotlib.lines.Line2D at 0x1db0f928640>]"
      ]
     },
     "execution_count": 74,
     "metadata": {},
     "output_type": "execute_result"
    },
    {
     "data": {
      "image/png": "[encoded data removed]",
      "text/plain": [
       "<Figure size 640x480 with 1 Axes>"
      ]
     },
     "metadata": {},
     "output_type": "display_data"
    }
   ],
   "source": [
    "plt.plot([d[0] for d in group1],\n",
    "         [d[1] for d in group1], 'o', color='r')\n",
    "plt.plot([d[0] for d in group2],\n",
    "         [d[1] for d in group2], 'o', color='b')\n",
    "plt.plot(c1[0], c1[1], 'x', color='b') # group2의 중심점\n",
    "plt.plot(c2[0], c2[1], 'x', color='r') # group1의 중심점"
   ]
  },
  {
   "cell_type": "code",
   "execution_count": null,
   "id": "475f9219",
   "metadata": {},
   "outputs": [],
   "source": []
  },
  {
   "cell_type": "code",
   "execution_count": null,
   "id": "e8e5696f",
   "metadata": {},
   "outputs": [],
   "source": []
  },
  {
   "cell_type": "code",
   "execution_count": null,
   "id": "4543159c",
   "metadata": {},
   "outputs": [],
   "source": []
  },
  {
   "cell_type": "code",
   "execution_count": null,
   "id": "d485990f",
   "metadata": {},
   "outputs": [],
   "source": []
  },
  {
   "cell_type": "code",
   "execution_count": null,
   "id": "91c0d0fc",
   "metadata": {},
   "outputs": [],
   "source": []
  },
  {
   "cell_type": "code",
   "execution_count": null,
   "id": "30d0e5e0",
   "metadata": {},
   "outputs": [],
   "source": []
  },
  {
   "cell_type": "code",
   "execution_count": null,
   "id": "9015f662",
   "metadata": {},
   "outputs": [],
   "source": []
  },
  {
   "cell_type": "code",
   "execution_count": null,
   "id": "9de3ca90",
   "metadata": {},
   "outputs": [],
   "source": []
  },
  {
   "cell_type": "code",
   "execution_count": null,
   "id": "650221b1",
   "metadata": {},
   "outputs": [],
   "source": []
  },
  {
   "cell_type": "code",
   "execution_count": null,
   "id": "963424a9",
   "metadata": {},
   "outputs": [],
   "source": []
  },
  {
   "cell_type": "code",
   "execution_count": null,
   "id": "b993e2c4",
   "metadata": {},
   "outputs": [],
   "source": []
  },
  {
   "cell_type": "code",
   "execution_count": null,
   "id": "dfd59213",
   "metadata": {},
   "outputs": [],
   "source": []
  },
  {
   "cell_type": "code",
   "execution_count": null,
   "id": "cef50f39",
   "metadata": {},
   "outputs": [],
   "source": []
  },
  {
   "cell_type": "code",
   "execution_count": null,
   "id": "a55586f7",
   "metadata": {},
   "outputs": [],
   "source": []
  }
 ],
 "metadata": {
  "kernelspec": {
   "display_name": "ml-dl-nlp",
   "language": "python",
   "name": "ml-dl-nlp"
  },
  "language_info": {
   "codemirror_mode": {
    "name": "ipython",
    "version": 3
   },
   "file_extension": ".py",
   "mimetype": "text/x-python",
   "name": "python",
   "nbconvert_exporter": "python",
   "pygments_lexer": "ipython3",
   "version": "3.10.18"
  },
  "toc": {
   "base_numbering": 1,
   "nav_menu": {},
   "number_sections": false,
   "sideBar": true,
   "skip_h1_title": false,
   "title_cell": "Table of Contents",
   "title_sidebar": "Contents",
   "toc_cell": false,
   "toc_position": {},
   "toc_section_display": true,
   "toc_window_display": false
  }
 },
 "nbformat": 4,
 "nbformat_minor": 5
}
