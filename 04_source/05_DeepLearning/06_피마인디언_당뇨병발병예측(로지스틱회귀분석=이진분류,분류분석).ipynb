{
 "cells": [
  {
   "cell_type": "code",
   "execution_count": 1,
   "id": "b4114002",
   "metadata": {},
   "outputs": [
    {
     "data": {
      "text/html": [
       "\n",
       "<style>\n",
       "div.container{width:85% !important;}\n",
       "div.cell.code_cell.rendered{width:100%;}\n",
       "div.input_prompt{padding:0px;}\n",
       "div.CodeMirror {font-family:Consolas; font-size:12pt;}\n",
       "div.output {font-size:12pt; font-weight:bold;}\n",
       "div.input {font-family:Consolas; font-size:12pt;}\n",
       "div.prompt {min-width:70px;}\n",
       "div#toc-wrapper{padding-top:120px;}\n",
       "div.text_cell_render ul li{font-size:12pt;padding:5px;}\n",
       "table.dataframe{font-size:12px;}\n",
       "</style>\n"
      ],
      "text/plain": [
       "<IPython.core.display.HTML object>"
      ]
     },
     "metadata": {},
     "output_type": "display_data"
    }
   ],
   "source": [
    "from IPython.display import display, HTML\n",
    "display(HTML(\"\"\"\n",
    "<style>\n",
    "div.container{width:85% !important;}\n",
    "div.cell.code_cell.rendered{width:100%;}\n",
    "div.input_prompt{padding:0px;}\n",
    "div.CodeMirror {font-family:Consolas; font-size:12pt;}\n",
    "div.output {font-size:12pt; font-weight:bold;}\n",
    "div.input {font-family:Consolas; font-size:12pt;}\n",
    "div.prompt {min-width:70px;}\n",
    "div#toc-wrapper{padding-top:120px;}\n",
    "div.text_cell_render ul li{font-size:12pt;padding:5px;}\n",
    "table.dataframe{font-size:12px;}\n",
    "</style>\n",
    "\"\"\"))"
   ]
  },
  {
   "cell_type": "code",
   "execution_count": 2,
   "id": "f0c35bc7",
   "metadata": {},
   "outputs": [],
   "source": [
    "import numpy as np\n",
    "import pandas as pd\n",
    "import sys\n",
    "from tensorflow.keras import utils # utils.to_categorical 원핫인코딩\n",
    "from tensorflow.keras.models import Sequential\n",
    "from tensorflow.keras.layers import Dense, Input\n",
    "from matplotlib import pyplot as plt"
   ]
  },
  {
   "cell_type": "markdown",
   "id": "bbc6ea4d",
   "metadata": {},
   "source": [
    "# 로지스틱회귀분석(이진분류)\n",
    "## 1. 데이터셋 생성 & 전처리"
   ]
  },
  {
   "cell_type": "code",
   "execution_count": 3,
   "id": "296cc784",
   "metadata": {},
   "outputs": [
    {
     "name": "stdout",
     "output_type": "stream",
     "text": [
      "<class 'pandas.core.frame.DataFrame'>\n",
      "RangeIndex: 768 entries, 0 to 767\n",
      "Data columns (total 9 columns):\n",
      " #   Column  Non-Null Count  Dtype  \n",
      "---  ------  --------------  -----  \n",
      " 0   0       768 non-null    int64  \n",
      " 1   1       768 non-null    int64  \n",
      " 2   2       768 non-null    int64  \n",
      " 3   3       768 non-null    int64  \n",
      " 4   4       768 non-null    int64  \n",
      " 5   5       768 non-null    float64\n",
      " 6   6       768 non-null    float64\n",
      " 7   7       768 non-null    int64  \n",
      " 8   8       768 non-null    int64  \n",
      "dtypes: float64(2), int64(7)\n",
      "memory usage: 54.1 KB\n"
     ]
    }
   ],
   "source": [
    "df = pd.read_csv('data/pima-indians-diabetes.csv', \n",
    "                 comment='#',\n",
    "                 header=None)\n",
    "df.info() # 결측치 없음"
   ]
  },
  {
   "cell_type": "code",
   "execution_count": 4,
   "id": "e4b10173",
   "metadata": {},
   "outputs": [
    {
     "data": {
      "text/plain": [
       "0    500\n",
       "1    268\n",
       "Name: 8, dtype: int64"
      ]
     },
     "execution_count": 4,
     "metadata": {},
     "output_type": "execute_result"
    }
   ],
   "source": [
    "# 타겟 변수의 균형\n",
    "df.iloc[:,-1].value_counts()"
   ]
  },
  {
   "cell_type": "code",
   "execution_count": 5,
   "id": "fcad84c7",
   "metadata": {},
   "outputs": [
    {
     "data": {
      "text/html": [
       "<div>\n",
       "<style scoped>\n",
       "    .dataframe tbody tr th:only-of-type {\n",
       "        vertical-align: middle;\n",
       "    }\n",
       "\n",
       "    .dataframe tbody tr th {\n",
       "        vertical-align: top;\n",
       "    }\n",
       "\n",
       "    .dataframe thead th {\n",
       "        text-align: right;\n",
       "    }\n",
       "</style>\n",
       "<table border=\"1\" class=\"dataframe\">\n",
       "  <thead>\n",
       "    <tr style=\"text-align: right;\">\n",
       "      <th></th>\n",
       "      <th>0</th>\n",
       "      <th>1</th>\n",
       "      <th>2</th>\n",
       "      <th>3</th>\n",
       "      <th>4</th>\n",
       "      <th>5</th>\n",
       "      <th>6</th>\n",
       "      <th>7</th>\n",
       "      <th>8</th>\n",
       "    </tr>\n",
       "  </thead>\n",
       "  <tbody>\n",
       "    <tr>\n",
       "      <th>0</th>\n",
       "      <td>6</td>\n",
       "      <td>148</td>\n",
       "      <td>72</td>\n",
       "      <td>35</td>\n",
       "      <td>0</td>\n",
       "      <td>33.6</td>\n",
       "      <td>0.627</td>\n",
       "      <td>50</td>\n",
       "      <td>1</td>\n",
       "    </tr>\n",
       "    <tr>\n",
       "      <th>1</th>\n",
       "      <td>1</td>\n",
       "      <td>85</td>\n",
       "      <td>66</td>\n",
       "      <td>29</td>\n",
       "      <td>0</td>\n",
       "      <td>26.6</td>\n",
       "      <td>0.351</td>\n",
       "      <td>31</td>\n",
       "      <td>0</td>\n",
       "    </tr>\n",
       "    <tr>\n",
       "      <th>2</th>\n",
       "      <td>8</td>\n",
       "      <td>183</td>\n",
       "      <td>64</td>\n",
       "      <td>0</td>\n",
       "      <td>0</td>\n",
       "      <td>23.3</td>\n",
       "      <td>0.672</td>\n",
       "      <td>32</td>\n",
       "      <td>1</td>\n",
       "    </tr>\n",
       "    <tr>\n",
       "      <th>3</th>\n",
       "      <td>1</td>\n",
       "      <td>89</td>\n",
       "      <td>66</td>\n",
       "      <td>23</td>\n",
       "      <td>94</td>\n",
       "      <td>28.1</td>\n",
       "      <td>0.167</td>\n",
       "      <td>21</td>\n",
       "      <td>0</td>\n",
       "    </tr>\n",
       "    <tr>\n",
       "      <th>4</th>\n",
       "      <td>0</td>\n",
       "      <td>137</td>\n",
       "      <td>40</td>\n",
       "      <td>35</td>\n",
       "      <td>168</td>\n",
       "      <td>43.1</td>\n",
       "      <td>2.288</td>\n",
       "      <td>33</td>\n",
       "      <td>1</td>\n",
       "    </tr>\n",
       "  </tbody>\n",
       "</table>\n",
       "</div>"
      ],
      "text/plain": [
       "   0    1   2   3    4     5      6   7  8\n",
       "0  6  148  72  35    0  33.6  0.627  50  1\n",
       "1  1   85  66  29    0  26.6  0.351  31  0\n",
       "2  8  183  64   0    0  23.3  0.672  32  1\n",
       "3  1   89  66  23   94  28.1  0.167  21  0\n",
       "4  0  137  40  35  168  43.1  2.288  33  1"
      ]
     },
     "execution_count": 5,
     "metadata": {},
     "output_type": "execute_result"
    }
   ],
   "source": [
    "df.head()\n",
    "# X_data = df.iloc[,:-1].values"
   ]
  },
  {
   "cell_type": "code",
   "execution_count": 6,
   "id": "531e6393",
   "metadata": {},
   "outputs": [
    {
     "data": {
      "text/plain": [
       "(768, 9)"
      ]
     },
     "execution_count": 6,
     "metadata": {},
     "output_type": "execute_result"
    }
   ],
   "source": [
    "# csv 파일을 numpy 로 읽어오기 : np.loadtxt(결측치가없는경우), np.genfromtxt(결측치있을 경우)\n",
    "dataset = np.loadtxt('data/pima-indians-diabetes.csv', \n",
    "                    encoding='utf-8',\n",
    "                    delimiter=',')\n",
    "dataset.shape"
   ]
  },
  {
   "cell_type": "code",
   "execution_count": 7,
   "id": "bd9d990b",
   "metadata": {},
   "outputs": [
    {
     "data": {
      "text/plain": [
       "((700, 8), (700,), (68, 8), (68,))"
      ]
     },
     "execution_count": 7,
     "metadata": {},
     "output_type": "execute_result"
    }
   ],
   "source": [
    "# 데이터 분할 : 학습데이터셋(모델학습용)+시험데이터셋(모델평가용)\n",
    "X_train = dataset[:700, :-1]\n",
    "y_train = dataset[:700, -1]\n",
    "X_test  = dataset[700:, :-1]\n",
    "y_test  = dataset[700:, -1]\n",
    "X_train.shape, y_train.shape, X_test.shape, y_test.shape"
   ]
  },
  {
   "cell_type": "markdown",
   "id": "9e480c88",
   "metadata": {},
   "source": [
    "## 2. 모델 구성"
   ]
  },
  {
   "cell_type": "code",
   "execution_count": 8,
   "id": "57d8083e",
   "metadata": {},
   "outputs": [
    {
     "name": "stdout",
     "output_type": "stream",
     "text": [
      "Model: \"sequential\"\n",
      "_________________________________________________________________\n",
      " Layer (type)                Output Shape              Param #   \n",
      "=================================================================\n",
      " dense (Dense)               (None, 32)                288       \n",
      "                                                                 \n",
      " dense_1 (Dense)             (None, 16)                528       \n",
      "                                                                 \n",
      " dense_2 (Dense)             (None, 1)                 17        \n",
      "                                                                 \n",
      "=================================================================\n",
      "Total params: 833\n",
      "Trainable params: 833\n",
      "Non-trainable params: 0\n",
      "_________________________________________________________________\n"
     ]
    }
   ],
   "source": [
    "model = Sequential()\n",
    "model.add(Input(shape=(8,)))\n",
    "model.add(Dense(units=32, activation='relu'))\n",
    "model.add(Dense(units=16, activation='relu'))\n",
    "model.add(Dense(units=1,  activation='sigmoid'))\n",
    "model.summary()"
   ]
  },
  {
   "cell_type": "markdown",
   "id": "9ca52ea6",
   "metadata": {},
   "source": [
    "## 3. 학습과정 설정"
   ]
  },
  {
   "cell_type": "code",
   "execution_count": 9,
   "id": "c5d31a66",
   "metadata": {},
   "outputs": [],
   "source": [
    "model.compile(loss='binary_crossentropy',\n",
    "             optimizer='adam',\n",
    "             metrics=['binary_accuracy'])"
   ]
  },
  {
   "cell_type": "markdown",
   "id": "24996e79",
   "metadata": {},
   "source": [
    "## 4. 학습"
   ]
  },
  {
   "cell_type": "code",
   "execution_count": 10,
   "id": "6d742f5b",
   "metadata": {},
   "outputs": [
    {
     "name": "stdout",
     "output_type": "stream",
     "text": [
      "CPU times: total: 1.56 s\n",
      "Wall time: 1.37 s\n"
     ]
    }
   ],
   "source": [
    "%%time\n",
    "hist = model.fit(X_train, y_train, # 훈련데이터\n",
    "                epochs=200, # 학습횟수\n",
    "                batch_size=350, # 한번에 읽어들이는 데이터 양\n",
    "                # validation_data=(X_test, y_test), # 검증데이터\n",
    "                # validation_split=0.1, \n",
    "                verbose=0 # 학습 로그 출력 여부(0:출력X, 1:출력O, 2:출력자세히O)\n",
    "                )"
   ]
  },
  {
   "cell_type": "markdown",
   "id": "2332b592",
   "metadata": {},
   "source": [
    "## 5. 모델 평가하기(학습과정 보기, 평가, 혼동행렬)"
   ]
  },
  {
   "cell_type": "code",
   "execution_count": 11,
   "id": "ef71c262",
   "metadata": {},
   "outputs": [
    {
     "data": {
      "text/plain": [
       "dict_keys(['loss', 'binary_accuracy'])"
      ]
     },
     "execution_count": 11,
     "metadata": {},
     "output_type": "execute_result"
    }
   ],
   "source": [
    "hist.history.keys()"
   ]
  },
  {
   "cell_type": "code",
   "execution_count": 12,
   "id": "4c350375",
   "metadata": {},
   "outputs": [
    {
     "data": {
      "text/plain": [
       "[<matplotlib.lines.Line2D at 0x2183317f370>]"
      ]
     },
     "execution_count": 12,
     "metadata": {},
     "output_type": "execute_result"
    },
    {
     "data": {
      "image/png": "[encoded data removed]",
      "text/plain": [
       "<Figure size 1000x500 with 2 Axes>"
      ]
     },
     "metadata": {},
     "output_type": "display_data"
    }
   ],
   "source": [
    "# 학습과정 표시(학습데이터에 대한 loss와 accuracy)\n",
    "fig, loss_ax = plt.subplots(figsize=(10,5))\n",
    "loss_ax.plot(hist.history['loss'], 'r')\n",
    "acc_ax = loss_ax.twinx() # loss_ax와 x축을 공유하는 acc_ax\n",
    "acc_ax.plot(hist.history.get('binary_accuracy'), 'b')"
   ]
  },
  {
   "cell_type": "code",
   "execution_count": 13,
   "id": "d2a627d7",
   "metadata": {},
   "outputs": [
    {
     "name": "stdout",
     "output_type": "stream",
     "text": [
      "22/22 [==============================] - 0s 1ms/step - loss: 0.5044 - binary_accuracy: 0.7457\n"
     ]
    },
    {
     "data": {
      "text/plain": [
       "[0.5044279098510742, 0.7457143068313599]"
      ]
     },
     "execution_count": 13,
     "metadata": {},
     "output_type": "execute_result"
    }
   ],
   "source": [
    "# 모델 평가(X)\n",
    "model.evaluate(X_train, y_train)"
   ]
  },
  {
   "cell_type": "code",
   "execution_count": 14,
   "id": "f2df5cc0",
   "metadata": {},
   "outputs": [
    {
     "name": "stdout",
     "output_type": "stream",
     "text": [
      "3/3 [==============================] - 0s 2ms/step - loss: 0.6886 - binary_accuracy: 0.6324\n"
     ]
    },
    {
     "data": {
      "text/plain": [
       "[0.6886334419250488, 0.6323529481887817]"
      ]
     },
     "execution_count": 14,
     "metadata": {},
     "output_type": "execute_result"
    }
   ],
   "source": [
    "# 모델 평가(O)\n",
    "model.evaluate(X_test, y_test)"
   ]
  },
  {
   "cell_type": "markdown",
   "id": "b7abdcda",
   "metadata": {},
   "source": [
    "## 혼동행렬\n",
    "- 테스트 데이터 셋의 실제값과 예측값으로 작성된 교차표"
   ]
  },
  {
   "cell_type": "code",
   "execution_count": 15,
   "id": "3e72308d",
   "metadata": {},
   "outputs": [
    {
     "data": {
      "text/plain": [
       "array([0., 1., 1., 0., 0.])"
      ]
     },
     "execution_count": 15,
     "metadata": {},
     "output_type": "execute_result"
    }
   ],
   "source": [
    "y_test[:5]"
   ]
  },
  {
   "cell_type": "code",
   "execution_count": 16,
   "id": "1c03d79a",
   "metadata": {},
   "outputs": [
    {
     "name": "stdout",
     "output_type": "stream",
     "text": [
      "3/3 [==============================] - 0s 1ms/step\n"
     ]
    }
   ],
   "source": [
    "# 실제값 : y_test (68개)\n",
    "# 예측값\n",
    "y_hat = (model.predict(X_test)>=0.5).astype(float)"
   ]
  },
  {
   "cell_type": "code",
   "execution_count": 17,
   "id": "7e8be184",
   "metadata": {},
   "outputs": [
    {
     "name": "stdout",
     "output_type": "stream",
     "text": [
      "(68,) (68, 1)\n",
      "34 7\n",
      "18 9\n"
     ]
    }
   ],
   "source": [
    "TN = 0  # 0을 0으로 예측한 경우의 수(T)\n",
    "FP = 0  # 0을 1로 예측한 경우의 수(F)\n",
    "FN = 0  # 1을 0으로 예측한 경우의 수(F)\n",
    "TP = 0  # 1을 1로 예측한 경우의 수(T)\n",
    "print(y_test.shape, y_hat.shape)\n",
    "for y, h in zip(y_test, y_hat.reshape(-1)):\n",
    "    if y==0 and h==0:\n",
    "        TN += 1\n",
    "    elif y==0 and h==1:\n",
    "        FP += 1\n",
    "    elif y==1 and h==0:\n",
    "        FN += 1\n",
    "    else:\n",
    "        TP += 1\n",
    "print(TN, FP)\n",
    "print(FN, TP)"
   ]
  },
  {
   "cell_type": "code",
   "execution_count": 18,
   "id": "e20bedee",
   "metadata": {},
   "outputs": [
    {
     "data": {
      "text/html": [
       "<div>\n",
       "<style scoped>\n",
       "    .dataframe tbody tr th:only-of-type {\n",
       "        vertical-align: middle;\n",
       "    }\n",
       "\n",
       "    .dataframe tbody tr th {\n",
       "        vertical-align: top;\n",
       "    }\n",
       "\n",
       "    .dataframe thead th {\n",
       "        text-align: right;\n",
       "    }\n",
       "</style>\n",
       "<table border=\"1\" class=\"dataframe\">\n",
       "  <thead>\n",
       "    <tr style=\"text-align: right;\">\n",
       "      <th>예측값</th>\n",
       "      <th>0.0</th>\n",
       "      <th>1.0</th>\n",
       "    </tr>\n",
       "    <tr>\n",
       "      <th>실제값</th>\n",
       "      <th></th>\n",
       "      <th></th>\n",
       "    </tr>\n",
       "  </thead>\n",
       "  <tbody>\n",
       "    <tr>\n",
       "      <th>0.0</th>\n",
       "      <td>34</td>\n",
       "      <td>7</td>\n",
       "    </tr>\n",
       "    <tr>\n",
       "      <th>1.0</th>\n",
       "      <td>18</td>\n",
       "      <td>9</td>\n",
       "    </tr>\n",
       "  </tbody>\n",
       "</table>\n",
       "</div>"
      ],
      "text/plain": [
       "예측값  0.0  1.0\n",
       "실제값          \n",
       "0.0   34    7\n",
       "1.0   18    9"
      ]
     },
     "execution_count": 18,
     "metadata": {},
     "output_type": "execute_result"
    }
   ],
   "source": [
    "# 교차표\n",
    "ctab = pd.crosstab(y_test,   # 실제값\n",
    "                  y_hat.reshape(-1)) # 예측값\n",
    "ctab.index.name = '실제값'\n",
    "ctab.columns.name = '예측값'\n",
    "ctab\n",
    "pd.crosstab(y_test,   # 실제값\n",
    "            y_hat.reshape(-1), # 예측값\n",
    "            rownames=['실제값'],\n",
    "            colnames=['예측값']) "
   ]
  },
  {
   "cell_type": "code",
   "execution_count": 19,
   "id": "e8227788",
   "metadata": {},
   "outputs": [
    {
     "data": {
      "text/plain": [
       "array([[34,  7],\n",
       "       [18,  9]], dtype=int64)"
      ]
     },
     "execution_count": 19,
     "metadata": {},
     "output_type": "execute_result"
    }
   ],
   "source": [
    "# 혼동행렬\n",
    "from sklearn.metrics import confusion_matrix\n",
    "confusion_matrix(y_test,\n",
    "                y_hat.reshape(-1))"
   ]
  },
  {
   "cell_type": "code",
   "execution_count": 20,
   "id": "2eb32f0f",
   "metadata": {},
   "outputs": [
    {
     "name": "stdout",
     "output_type": "stream",
     "text": [
      "accuracy : 0.6323529411764706\n",
      "recall : 0.3333333333333333\n",
      "precision : 0.5625\n"
     ]
    }
   ],
   "source": [
    "# accuracy\n",
    "print('accuracy :', (TN+TP)/(TN+FP+FN+TP))\n",
    "print('recall :', (TP)/(FN+TP))\n",
    "print('precision :', (TP)/(FP+TP))"
   ]
  },
  {
   "cell_type": "markdown",
   "id": "785b9d18",
   "metadata": {},
   "source": [
    "## 6. 모델 사용"
   ]
  },
  {
   "cell_type": "code",
   "execution_count": 21,
   "id": "d047588f",
   "metadata": {},
   "outputs": [
    {
     "data": {
      "text/plain": [
       "array([  2.   , 122.   ,  76.   ,  27.   , 200.   ,  35.9  ,   0.483,\n",
       "        26.   ])"
      ]
     },
     "execution_count": 21,
     "metadata": {},
     "output_type": "execute_result"
    }
   ],
   "source": [
    "X_test[0]"
   ]
  },
  {
   "cell_type": "code",
   "execution_count": 22,
   "id": "3f15dc1a",
   "metadata": {},
   "outputs": [
    {
     "name": "stdout",
     "output_type": "stream",
     "text": [
      "1/1 [==============================] - 0s 23ms/step\n"
     ]
    },
    {
     "data": {
      "text/plain": [
       "0"
      ]
     },
     "execution_count": 22,
     "metadata": {},
     "output_type": "execute_result"
    }
   ],
   "source": [
    "int(model.predict(np.array([[2, 122,76,27,200,35.9,0.483,26]]))>=0.5)"
   ]
  },
  {
   "cell_type": "code",
   "execution_count": 23,
   "id": "c9b20a39",
   "metadata": {},
   "outputs": [
    {
     "name": "stdout",
     "output_type": "stream",
     "text": [
      "1/1 [==============================] - 0s 45ms/step\n"
     ]
    },
    {
     "data": {
      "text/plain": [
       "array([[0],\n",
       "       [0]])"
      ]
     },
     "execution_count": 23,
     "metadata": {},
     "output_type": "execute_result"
    }
   ],
   "source": [
    "(model.predict([[2, 122,76,27,200,35.9,0.483,26],\n",
    "               [0, 122,76,27,200,35.9,0.483,26]])).astype(int)"
   ]
  },
  {
   "cell_type": "markdown",
   "id": "7ce077a6",
   "metadata": {},
   "source": [
    "# 분류분석\n",
    "1. 데이터셋 생성 및 전처리 : 훈련셋(600), 검증셋(100), 테스트셋(68)\n",
    "2. 모델 생성(input8, output 2) : 출력층 softmax(출력합을 1)\n",
    "    * model.summary() 파라미터 수와 메모리 확인\n",
    "3. 모델 학습과정 설정 : loss=\"categorical_crossentropy, metrics=['accuracy']\n",
    "4. 모델 학습 : 훈련셋과 검증셋\n",
    "5. 모델 평가 : 그래프(hist.history), 평가(테스트셋), 교차표(테스트셋)\n",
    "6. 모델 저장 및 사용 : predict결과에 argmax()\n",
    " [99.2, 0.8]"
   ]
  },
  {
   "cell_type": "markdown",
   "id": "8a8b69ee",
   "metadata": {},
   "source": [
    "## 1. 데이터 셋 생성 및 전저리"
   ]
  },
  {
   "cell_type": "code",
   "execution_count": 24,
   "id": "fd97db4b",
   "metadata": {},
   "outputs": [
    {
     "data": {
      "text/plain": [
       "(768, 9)"
      ]
     },
     "execution_count": 24,
     "metadata": {},
     "output_type": "execute_result"
    }
   ],
   "source": [
    "dataset = np.loadtxt('data/pima-indians-diabetes.csv',\n",
    "                    encoding='utf-8',\n",
    "                    delimiter=',')\n",
    "dataset.shape"
   ]
  },
  {
   "cell_type": "code",
   "execution_count": 25,
   "id": "cf28a255",
   "metadata": {},
   "outputs": [
    {
     "data": {
      "text/plain": [
       "((600, 8), (600,), (100, 8), (100,), (68, 8), (68,))"
      ]
     },
     "execution_count": 25,
     "metadata": {},
     "output_type": "execute_result"
    }
   ],
   "source": [
    "# 훈련셋(600), 검증셋(100), 테스트셋(68)\n",
    "X_train = dataset[:600, :-1]\n",
    "y_train = dataset[:600, -1]\n",
    "X_val = dataset[600:700, :-1]\n",
    "y_val = dataset[600:700, -1]\n",
    "X_test = dataset[700:, :-1]\n",
    "y_test = dataset[700:, -1]\n",
    "X_train.shape, y_train.shape, X_val.shape, y_val.shape, X_test.shape, y_test.shape"
   ]
  },
  {
   "cell_type": "code",
   "execution_count": 26,
   "id": "4b6d2285",
   "metadata": {},
   "outputs": [
    {
     "name": "stdout",
     "output_type": "stream",
     "text": [
      "[1. 0. 1. 0. 1.]\n",
      "[[0. 1.]\n",
      " [1. 0.]\n",
      " [0. 1.]\n",
      " [1. 0.]\n",
      " [0. 1.]]\n"
     ]
    },
    {
     "data": {
      "text/plain": [
       "((600,), (600, 2), (100, 2), (68, 2))"
      ]
     },
     "execution_count": 26,
     "metadata": {},
     "output_type": "execute_result"
    }
   ],
   "source": [
    "# 타겟변수의 원핫인코딩(분류분석)\n",
    "print(y_train[:5])\n",
    "print(utils.to_categorical(y_train[:5]))\n",
    "Y_train = utils.to_categorical(y_train)\n",
    "Y_val   = utils.to_categorical(y_val)\n",
    "Y_test  = utils.to_categorical(y_test)\n",
    "y_train.shape, Y_train.shape, Y_val.shape, Y_test.shape"
   ]
  },
  {
   "cell_type": "markdown",
   "id": "acbb533d",
   "metadata": {},
   "source": [
    "## 2. 모델 생성(input8, target2)\n",
    "- 과적합 줄이는 단계 추가(dropout 추가)"
   ]
  },
  {
   "cell_type": "code",
   "execution_count": 27,
   "id": "6dc4a1a7",
   "metadata": {},
   "outputs": [
    {
     "name": "stdout",
     "output_type": "stream",
     "text": [
      "Model: \"sequential_1\"\n",
      "_________________________________________________________________\n",
      " Layer (type)                Output Shape              Param #   \n",
      "=================================================================\n",
      " dense_3 (Dense)             (None, 32)                288       \n",
      "                                                                 \n",
      " dropout (Dropout)           (None, 32)                0         \n",
      "                                                                 \n",
      " dense_4 (Dense)             (None, 64)                2112      \n",
      "                                                                 \n",
      " dropout_1 (Dropout)         (None, 64)                0         \n",
      "                                                                 \n",
      " dense_5 (Dense)             (None, 16)                1040      \n",
      "                                                                 \n",
      " dropout_2 (Dropout)         (None, 16)                0         \n",
      "                                                                 \n",
      " dense_6 (Dense)             (None, 8)                 136       \n",
      "                                                                 \n",
      " dense_7 (Dense)             (None, 2)                 18        \n",
      "                                                                 \n",
      "=================================================================\n",
      "Total params: 3,594\n",
      "Trainable params: 3,594\n",
      "Non-trainable params: 0\n",
      "_________________________________________________________________\n"
     ]
    }
   ],
   "source": [
    "from tensorflow.keras.layers import Dropout\n",
    "model = Sequential()\n",
    "model.add(Input(shape=(8,)))\n",
    "model.add(Dense(units=32, activation='relu'))\n",
    "model.add(Dropout(0.2)) # 과적합을 해결\n",
    "model.add(Dense(units=64, activation='relu'))\n",
    "model.add(Dropout(0.1))\n",
    "model.add(Dense(units=16, activation='relu'))\n",
    "model.add(Dropout(0.2))\n",
    "model.add(Dense(units=8, activation='relu'))\n",
    "model.add(Dense(units=2, activation='softmax'))\n",
    "model.summary()"
   ]
  },
  {
   "cell_type": "markdown",
   "id": "b8c7f045",
   "metadata": {},
   "source": [
    "## 3. 학습과정 설정"
   ]
  },
  {
   "cell_type": "code",
   "execution_count": 28,
   "id": "9d13699e",
   "metadata": {},
   "outputs": [],
   "source": [
    "model.compile(loss='categorical_crossentropy',\n",
    "             optimizer='nadam',\n",
    "             metrics=['accuracy'])"
   ]
  },
  {
   "cell_type": "markdown",
   "id": "d1db8001",
   "metadata": {},
   "source": [
    "## 4. 모델 학습"
   ]
  },
  {
   "cell_type": "code",
   "execution_count": 29,
   "id": "3cfc6452",
   "metadata": {},
   "outputs": [
    {
     "name": "stdout",
     "output_type": "stream",
     "text": [
      "Epoch 1/300\n",
      "19/19 [==============================] - 1s 11ms/step - loss: 2.1711 - accuracy: 0.4333 - val_loss: 0.6519 - val_accuracy: 0.6300\n",
      "Epoch 2/300\n",
      "19/19 [==============================] - 0s 4ms/step - loss: 1.1458 - accuracy: 0.5283 - val_loss: 0.6673 - val_accuracy: 0.6300\n",
      "Epoch 3/300\n",
      "19/19 [==============================] - 0s 4ms/step - loss: 0.8785 - accuracy: 0.5750 - val_loss: 0.6592 - val_accuracy: 0.6500\n",
      "Epoch 4/300\n",
      "19/19 [==============================] - 0s 4ms/step - loss: 0.8592 - accuracy: 0.5733 - val_loss: 0.6675 - val_accuracy: 0.6800\n",
      "Epoch 5/300\n",
      "19/19 [==============================] - 0s 4ms/step - loss: 0.7507 - accuracy: 0.6217 - val_loss: 0.6646 - val_accuracy: 0.6700\n",
      "Epoch 6/300\n",
      "19/19 [==============================] - 0s 4ms/step - loss: 0.7661 - accuracy: 0.6500 - val_loss: 0.6637 - val_accuracy: 0.6700\n",
      "Epoch 7/300\n",
      "19/19 [==============================] - 0s 4ms/step - loss: 0.6879 - accuracy: 0.6400 - val_loss: 0.6601 - val_accuracy: 0.6700\n",
      "Epoch 8/300\n",
      "19/19 [==============================] - 0s 4ms/step - loss: 0.6768 - accuracy: 0.6483 - val_loss: 0.6572 - val_accuracy: 0.6700\n",
      "Epoch 9/300\n",
      "19/19 [==============================] - 0s 4ms/step - loss: 0.6891 - accuracy: 0.6483 - val_loss: 0.6567 - val_accuracy: 0.6700\n",
      "Epoch 10/300\n",
      "19/19 [==============================] - 0s 4ms/step - loss: 0.6682 - accuracy: 0.6517 - val_loss: 0.6573 - val_accuracy: 0.6700\n",
      "Epoch 11/300\n",
      "19/19 [==============================] - 0s 4ms/step - loss: 0.6654 - accuracy: 0.6617 - val_loss: 0.6520 - val_accuracy: 0.6700\n",
      "Epoch 12/300\n",
      "19/19 [==============================] - 0s 4ms/step - loss: 0.6731 - accuracy: 0.6400 - val_loss: 0.6509 - val_accuracy: 0.6700\n",
      "Epoch 13/300\n",
      "19/19 [==============================] - 0s 4ms/step - loss: 0.6801 - accuracy: 0.6483 - val_loss: 0.6488 - val_accuracy: 0.6700\n",
      "Epoch 14/300\n",
      "19/19 [==============================] - 0s 4ms/step - loss: 0.6615 - accuracy: 0.6467 - val_loss: 0.6470 - val_accuracy: 0.6700\n",
      "Epoch 15/300\n",
      "19/19 [==============================] - 0s 4ms/step - loss: 0.6577 - accuracy: 0.6567 - val_loss: 0.6446 - val_accuracy: 0.6700\n",
      "Epoch 16/300\n",
      "19/19 [==============================] - 0s 4ms/step - loss: 0.6638 - accuracy: 0.6500 - val_loss: 0.6434 - val_accuracy: 0.6700\n",
      "Epoch 17/300\n",
      "19/19 [==============================] - 0s 4ms/step - loss: 0.6640 - accuracy: 0.6483 - val_loss: 0.6420 - val_accuracy: 0.6700\n",
      "Epoch 18/300\n",
      "19/19 [==============================] - 0s 5ms/step - loss: 0.6429 - accuracy: 0.6483 - val_loss: 0.6406 - val_accuracy: 0.6700\n",
      "Epoch 19/300\n",
      "19/19 [==============================] - 0s 4ms/step - loss: 0.6520 - accuracy: 0.6467 - val_loss: 0.6387 - val_accuracy: 0.6700\n",
      "Epoch 20/300\n",
      "19/19 [==============================] - 0s 4ms/step - loss: 0.6540 - accuracy: 0.6550 - val_loss: 0.6380 - val_accuracy: 0.6700\n",
      "Epoch 21/300\n",
      "19/19 [==============================] - 0s 4ms/step - loss: 0.6473 - accuracy: 0.6483 - val_loss: 0.6362 - val_accuracy: 0.6700\n",
      "Epoch 22/300\n",
      "19/19 [==============================] - 0s 4ms/step - loss: 0.6498 - accuracy: 0.6467 - val_loss: 0.6339 - val_accuracy: 0.6700\n",
      "Epoch 23/300\n",
      "19/19 [==============================] - 0s 4ms/step - loss: 0.6468 - accuracy: 0.6567 - val_loss: 0.6331 - val_accuracy: 0.6700\n",
      "Epoch 24/300\n",
      "19/19 [==============================] - 0s 4ms/step - loss: 0.6562 - accuracy: 0.6483 - val_loss: 0.6332 - val_accuracy: 0.6700\n",
      "Epoch 25/300\n",
      "19/19 [==============================] - 0s 4ms/step - loss: 0.6384 - accuracy: 0.6567 - val_loss: 0.6341 - val_accuracy: 0.6700\n",
      "Epoch 26/300\n",
      "19/19 [==============================] - 0s 4ms/step - loss: 0.6403 - accuracy: 0.6550 - val_loss: 0.6353 - val_accuracy: 0.6700\n",
      "Epoch 27/300\n",
      "19/19 [==============================] - 0s 4ms/step - loss: 0.6490 - accuracy: 0.6550 - val_loss: 0.6351 - val_accuracy: 0.6700\n",
      "Epoch 28/300\n",
      "19/19 [==============================] - 0s 4ms/step - loss: 0.6522 - accuracy: 0.6517 - val_loss: 0.6321 - val_accuracy: 0.6700\n",
      "Epoch 29/300\n",
      "19/19 [==============================] - 0s 4ms/step - loss: 0.6349 - accuracy: 0.6750 - val_loss: 0.6246 - val_accuracy: 0.6700\n",
      "Epoch 30/300\n",
      "19/19 [==============================] - 0s 4ms/step - loss: 0.6358 - accuracy: 0.6617 - val_loss: 0.6254 - val_accuracy: 0.6700\n",
      "Epoch 31/300\n",
      "19/19 [==============================] - 0s 4ms/step - loss: 0.6388 - accuracy: 0.6467 - val_loss: 0.6235 - val_accuracy: 0.6700\n",
      "Epoch 32/300\n",
      "19/19 [==============================] - 0s 4ms/step - loss: 0.6347 - accuracy: 0.6667 - val_loss: 0.6256 - val_accuracy: 0.6800\n",
      "Epoch 33/300\n",
      "19/19 [==============================] - 0s 4ms/step - loss: 0.6312 - accuracy: 0.6650 - val_loss: 0.6199 - val_accuracy: 0.6800\n",
      "Epoch 34/300\n",
      "19/19 [==============================] - 0s 4ms/step - loss: 0.6401 - accuracy: 0.6633 - val_loss: 0.6240 - val_accuracy: 0.6700\n",
      "Epoch 35/300\n",
      "19/19 [==============================] - 0s 5ms/step - loss: 0.6280 - accuracy: 0.6583 - val_loss: 0.6195 - val_accuracy: 0.6700\n",
      "Epoch 36/300\n",
      "19/19 [==============================] - 0s 3ms/step - loss: 0.6303 - accuracy: 0.6867 - val_loss: 0.6275 - val_accuracy: 0.6700\n",
      "Epoch 37/300\n",
      "19/19 [==============================] - 0s 4ms/step - loss: 0.6454 - accuracy: 0.6500 - val_loss: 0.6195 - val_accuracy: 0.6700\n",
      "Epoch 38/300\n",
      "19/19 [==============================] - 0s 4ms/step - loss: 0.6292 - accuracy: 0.6800 - val_loss: 0.6230 - val_accuracy: 0.6700\n",
      "Epoch 39/300\n",
      "19/19 [==============================] - 0s 4ms/step - loss: 0.6280 - accuracy: 0.6567 - val_loss: 0.6205 - val_accuracy: 0.6700\n",
      "Epoch 40/300\n",
      "19/19 [==============================] - 0s 4ms/step - loss: 0.6238 - accuracy: 0.6583 - val_loss: 0.6146 - val_accuracy: 0.6900\n",
      "Epoch 41/300\n",
      "19/19 [==============================] - 0s 4ms/step - loss: 0.6242 - accuracy: 0.6683 - val_loss: 0.6145 - val_accuracy: 0.6800\n",
      "Epoch 42/300\n",
      "19/19 [==============================] - 0s 4ms/step - loss: 0.6321 - accuracy: 0.6683 - val_loss: 0.6129 - val_accuracy: 0.6900\n",
      "Epoch 43/300\n",
      "19/19 [==============================] - 0s 4ms/step - loss: 0.6255 - accuracy: 0.6800 - val_loss: 0.6103 - val_accuracy: 0.7100\n",
      "Epoch 44/300\n",
      "19/19 [==============================] - 0s 4ms/step - loss: 0.6120 - accuracy: 0.6717 - val_loss: 0.6106 - val_accuracy: 0.7100\n",
      "Epoch 45/300\n",
      "19/19 [==============================] - 0s 4ms/step - loss: 0.6144 - accuracy: 0.6733 - val_loss: 0.6043 - val_accuracy: 0.7000\n",
      "Epoch 46/300\n",
      "19/19 [==============================] - 0s 4ms/step - loss: 0.6115 - accuracy: 0.6733 - val_loss: 0.6015 - val_accuracy: 0.7100\n",
      "Epoch 47/300\n",
      "19/19 [==============================] - 0s 4ms/step - loss: 0.6395 - accuracy: 0.6817 - val_loss: 0.6066 - val_accuracy: 0.6900\n",
      "Epoch 48/300\n",
      "19/19 [==============================] - 0s 4ms/step - loss: 0.6259 - accuracy: 0.6700 - val_loss: 0.6012 - val_accuracy: 0.7200\n",
      "Epoch 49/300\n",
      "19/19 [==============================] - 0s 4ms/step - loss: 0.6041 - accuracy: 0.6933 - val_loss: 0.5988 - val_accuracy: 0.7100\n",
      "Epoch 50/300\n",
      "19/19 [==============================] - 0s 3ms/step - loss: 0.5997 - accuracy: 0.6917 - val_loss: 0.5970 - val_accuracy: 0.7100\n",
      "Epoch 51/300\n",
      "19/19 [==============================] - 0s 3ms/step - loss: 0.6043 - accuracy: 0.7017 - val_loss: 0.5965 - val_accuracy: 0.7100\n",
      "Epoch 52/300\n",
      "19/19 [==============================] - 0s 4ms/step - loss: 0.6051 - accuracy: 0.6850 - val_loss: 0.5990 - val_accuracy: 0.7100\n",
      "Epoch 53/300\n",
      "19/19 [==============================] - 0s 4ms/step - loss: 0.6227 - accuracy: 0.6767 - val_loss: 0.5970 - val_accuracy: 0.7100\n",
      "Epoch 54/300\n",
      "19/19 [==============================] - 0s 4ms/step - loss: 0.6029 - accuracy: 0.6850 - val_loss: 0.5915 - val_accuracy: 0.7100\n",
      "Epoch 55/300\n",
      "19/19 [==============================] - 0s 3ms/step - loss: 0.6092 - accuracy: 0.6767 - val_loss: 0.5935 - val_accuracy: 0.7100\n",
      "Epoch 56/300\n",
      "19/19 [==============================] - 0s 4ms/step - loss: 0.6057 - accuracy: 0.6867 - val_loss: 0.5971 - val_accuracy: 0.7200\n",
      "Epoch 57/300\n",
      "19/19 [==============================] - 0s 4ms/step - loss: 0.6166 - accuracy: 0.6533 - val_loss: 0.5999 - val_accuracy: 0.7100\n",
      "Epoch 58/300\n",
      "19/19 [==============================] - 0s 4ms/step - loss: 0.6091 - accuracy: 0.6617 - val_loss: 0.6002 - val_accuracy: 0.7000\n"
     ]
    },
    {
     "name": "stdout",
     "output_type": "stream",
     "text": [
      "Epoch 59/300\n",
      "19/19 [==============================] - 0s 4ms/step - loss: 0.5944 - accuracy: 0.7017 - val_loss: 0.5974 - val_accuracy: 0.7100\n",
      "Epoch 60/300\n",
      "19/19 [==============================] - 0s 3ms/step - loss: 0.6071 - accuracy: 0.6767 - val_loss: 0.6018 - val_accuracy: 0.7100\n",
      "Epoch 61/300\n",
      "19/19 [==============================] - 0s 4ms/step - loss: 0.6069 - accuracy: 0.6650 - val_loss: 0.5964 - val_accuracy: 0.7000\n",
      "Epoch 62/300\n",
      "19/19 [==============================] - 0s 4ms/step - loss: 0.5991 - accuracy: 0.6817 - val_loss: 0.5913 - val_accuracy: 0.7000\n",
      "Epoch 63/300\n",
      "19/19 [==============================] - 0s 4ms/step - loss: 0.5977 - accuracy: 0.6950 - val_loss: 0.5947 - val_accuracy: 0.7100\n",
      "Epoch 64/300\n",
      "19/19 [==============================] - 0s 3ms/step - loss: 0.6008 - accuracy: 0.6767 - val_loss: 0.5988 - val_accuracy: 0.7100\n",
      "Epoch 65/300\n",
      "19/19 [==============================] - 0s 4ms/step - loss: 0.5785 - accuracy: 0.6950 - val_loss: 0.6001 - val_accuracy: 0.7200\n",
      "Epoch 66/300\n",
      "19/19 [==============================] - 0s 4ms/step - loss: 0.5922 - accuracy: 0.6850 - val_loss: 0.5955 - val_accuracy: 0.7000\n",
      "Epoch 67/300\n",
      "19/19 [==============================] - 0s 4ms/step - loss: 0.5990 - accuracy: 0.6883 - val_loss: 0.6007 - val_accuracy: 0.7000\n",
      "Epoch 68/300\n",
      "19/19 [==============================] - 0s 4ms/step - loss: 0.5986 - accuracy: 0.7000 - val_loss: 0.5959 - val_accuracy: 0.7200\n",
      "Epoch 69/300\n",
      "19/19 [==============================] - 0s 3ms/step - loss: 0.5975 - accuracy: 0.6783 - val_loss: 0.5877 - val_accuracy: 0.7100\n",
      "Epoch 70/300\n",
      "19/19 [==============================] - 0s 4ms/step - loss: 0.5895 - accuracy: 0.6983 - val_loss: 0.5880 - val_accuracy: 0.7200\n",
      "Epoch 71/300\n",
      "19/19 [==============================] - 0s 4ms/step - loss: 0.6121 - accuracy: 0.6917 - val_loss: 0.5919 - val_accuracy: 0.7100\n",
      "Epoch 72/300\n",
      "19/19 [==============================] - 0s 4ms/step - loss: 0.6024 - accuracy: 0.6833 - val_loss: 0.5901 - val_accuracy: 0.7000\n",
      "Epoch 73/300\n",
      "19/19 [==============================] - 0s 4ms/step - loss: 0.5956 - accuracy: 0.6917 - val_loss: 0.5911 - val_accuracy: 0.7200\n",
      "Epoch 74/300\n",
      "19/19 [==============================] - 0s 4ms/step - loss: 0.5896 - accuracy: 0.7000 - val_loss: 0.5834 - val_accuracy: 0.7300\n",
      "Epoch 75/300\n",
      "19/19 [==============================] - 0s 4ms/step - loss: 0.6034 - accuracy: 0.6867 - val_loss: 0.5871 - val_accuracy: 0.7000\n",
      "Epoch 76/300\n",
      "19/19 [==============================] - 0s 4ms/step - loss: 0.5854 - accuracy: 0.7067 - val_loss: 0.5910 - val_accuracy: 0.7100\n",
      "Epoch 77/300\n",
      "19/19 [==============================] - 0s 4ms/step - loss: 0.5980 - accuracy: 0.6933 - val_loss: 0.5823 - val_accuracy: 0.6900\n",
      "Epoch 78/300\n",
      "19/19 [==============================] - 0s 4ms/step - loss: 0.6043 - accuracy: 0.6933 - val_loss: 0.5916 - val_accuracy: 0.7100\n",
      "Epoch 79/300\n",
      "19/19 [==============================] - 0s 3ms/step - loss: 0.5978 - accuracy: 0.7033 - val_loss: 0.5842 - val_accuracy: 0.7000\n",
      "Epoch 80/300\n",
      "19/19 [==============================] - 0s 3ms/step - loss: 0.5963 - accuracy: 0.6800 - val_loss: 0.5843 - val_accuracy: 0.7000\n",
      "Epoch 81/300\n",
      "19/19 [==============================] - 0s 3ms/step - loss: 0.5948 - accuracy: 0.6967 - val_loss: 0.5828 - val_accuracy: 0.7100\n",
      "Epoch 82/300\n",
      "19/19 [==============================] - 0s 3ms/step - loss: 0.5809 - accuracy: 0.7050 - val_loss: 0.5811 - val_accuracy: 0.7200\n",
      "Epoch 83/300\n",
      "19/19 [==============================] - 0s 3ms/step - loss: 0.5909 - accuracy: 0.7033 - val_loss: 0.5964 - val_accuracy: 0.6900\n",
      "Epoch 84/300\n",
      "19/19 [==============================] - 0s 4ms/step - loss: 0.6009 - accuracy: 0.6900 - val_loss: 0.5796 - val_accuracy: 0.7000\n",
      "Epoch 85/300\n",
      "19/19 [==============================] - 0s 4ms/step - loss: 0.5887 - accuracy: 0.7000 - val_loss: 0.5782 - val_accuracy: 0.7000\n",
      "Epoch 86/300\n",
      "19/19 [==============================] - 0s 4ms/step - loss: 0.5831 - accuracy: 0.7050 - val_loss: 0.5743 - val_accuracy: 0.7100\n",
      "Epoch 87/300\n",
      "19/19 [==============================] - 0s 3ms/step - loss: 0.5825 - accuracy: 0.7033 - val_loss: 0.5743 - val_accuracy: 0.7300\n",
      "Epoch 88/300\n",
      "19/19 [==============================] - 0s 4ms/step - loss: 0.5853 - accuracy: 0.6850 - val_loss: 0.5725 - val_accuracy: 0.7100\n",
      "Epoch 89/300\n",
      "19/19 [==============================] - 0s 3ms/step - loss: 0.6090 - accuracy: 0.6767 - val_loss: 0.5782 - val_accuracy: 0.7100\n",
      "Epoch 90/300\n",
      "19/19 [==============================] - 0s 4ms/step - loss: 0.5989 - accuracy: 0.6917 - val_loss: 0.5746 - val_accuracy: 0.7100\n",
      "Epoch 91/300\n",
      "19/19 [==============================] - 0s 4ms/step - loss: 0.5882 - accuracy: 0.6900 - val_loss: 0.5797 - val_accuracy: 0.7100\n",
      "Epoch 92/300\n",
      "19/19 [==============================] - 0s 4ms/step - loss: 0.5976 - accuracy: 0.7033 - val_loss: 0.5940 - val_accuracy: 0.7100\n",
      "Epoch 93/300\n",
      "19/19 [==============================] - 0s 4ms/step - loss: 0.5934 - accuracy: 0.6833 - val_loss: 0.5812 - val_accuracy: 0.7300\n",
      "Epoch 94/300\n",
      "19/19 [==============================] - 0s 3ms/step - loss: 0.5874 - accuracy: 0.6883 - val_loss: 0.5799 - val_accuracy: 0.7200\n",
      "Epoch 95/300\n",
      "19/19 [==============================] - 0s 4ms/step - loss: 0.5817 - accuracy: 0.7050 - val_loss: 0.5730 - val_accuracy: 0.7400\n",
      "Epoch 96/300\n",
      "19/19 [==============================] - 0s 4ms/step - loss: 0.5914 - accuracy: 0.6833 - val_loss: 0.5811 - val_accuracy: 0.7300\n",
      "Epoch 97/300\n",
      "19/19 [==============================] - 0s 4ms/step - loss: 0.5833 - accuracy: 0.7033 - val_loss: 0.5818 - val_accuracy: 0.7300\n",
      "Epoch 98/300\n",
      "19/19 [==============================] - 0s 3ms/step - loss: 0.5777 - accuracy: 0.6900 - val_loss: 0.5822 - val_accuracy: 0.7100\n",
      "Epoch 99/300\n",
      "19/19 [==============================] - 0s 3ms/step - loss: 0.5815 - accuracy: 0.6817 - val_loss: 0.5775 - val_accuracy: 0.7100\n",
      "Epoch 100/300\n",
      "19/19 [==============================] - 0s 4ms/step - loss: 0.5873 - accuracy: 0.6833 - val_loss: 0.5803 - val_accuracy: 0.7100\n",
      "Epoch 101/300\n",
      "19/19 [==============================] - 0s 4ms/step - loss: 0.5741 - accuracy: 0.7133 - val_loss: 0.5803 - val_accuracy: 0.7200\n",
      "Epoch 102/300\n",
      "19/19 [==============================] - 0s 3ms/step - loss: 0.5810 - accuracy: 0.6967 - val_loss: 0.5870 - val_accuracy: 0.7100\n",
      "Epoch 103/300\n",
      "19/19 [==============================] - 0s 4ms/step - loss: 0.5810 - accuracy: 0.6867 - val_loss: 0.5767 - val_accuracy: 0.7300\n",
      "Epoch 104/300\n",
      "19/19 [==============================] - 0s 4ms/step - loss: 0.5758 - accuracy: 0.7033 - val_loss: 0.5744 - val_accuracy: 0.7300\n",
      "Epoch 105/300\n",
      "19/19 [==============================] - 0s 3ms/step - loss: 0.5718 - accuracy: 0.7167 - val_loss: 0.5701 - val_accuracy: 0.7300\n",
      "Epoch 106/300\n",
      "19/19 [==============================] - 0s 4ms/step - loss: 0.5869 - accuracy: 0.7067 - val_loss: 0.5787 - val_accuracy: 0.7300\n",
      "Epoch 107/300\n",
      "19/19 [==============================] - 0s 4ms/step - loss: 0.5771 - accuracy: 0.6983 - val_loss: 0.5813 - val_accuracy: 0.7100\n",
      "Epoch 108/300\n",
      "19/19 [==============================] - 0s 3ms/step - loss: 0.5767 - accuracy: 0.6950 - val_loss: 0.5818 - val_accuracy: 0.7300\n",
      "Epoch 109/300\n",
      "19/19 [==============================] - 0s 3ms/step - loss: 0.5840 - accuracy: 0.7150 - val_loss: 0.5782 - val_accuracy: 0.7200\n",
      "Epoch 110/300\n",
      "19/19 [==============================] - 0s 4ms/step - loss: 0.5668 - accuracy: 0.7200 - val_loss: 0.5818 - val_accuracy: 0.7300\n",
      "Epoch 111/300\n",
      "19/19 [==============================] - 0s 3ms/step - loss: 0.5767 - accuracy: 0.6950 - val_loss: 0.5847 - val_accuracy: 0.7300\n",
      "Epoch 112/300\n",
      "19/19 [==============================] - 0s 3ms/step - loss: 0.5866 - accuracy: 0.6833 - val_loss: 0.5768 - val_accuracy: 0.7300\n",
      "Epoch 113/300\n",
      "19/19 [==============================] - 0s 3ms/step - loss: 0.5677 - accuracy: 0.7217 - val_loss: 0.5728 - val_accuracy: 0.7400\n",
      "Epoch 114/300\n",
      "19/19 [==============================] - 0s 3ms/step - loss: 0.5729 - accuracy: 0.7083 - val_loss: 0.5764 - val_accuracy: 0.7200\n",
      "Epoch 115/300\n",
      "19/19 [==============================] - 0s 4ms/step - loss: 0.5863 - accuracy: 0.6800 - val_loss: 0.5730 - val_accuracy: 0.7300\n",
      "Epoch 116/300\n"
     ]
    },
    {
     "name": "stdout",
     "output_type": "stream",
     "text": [
      "19/19 [==============================] - 0s 4ms/step - loss: 0.5732 - accuracy: 0.7017 - val_loss: 0.5825 - val_accuracy: 0.7100\n",
      "Epoch 117/300\n",
      "19/19 [==============================] - 0s 4ms/step - loss: 0.5650 - accuracy: 0.7067 - val_loss: 0.5698 - val_accuracy: 0.7300\n",
      "Epoch 118/300\n",
      "19/19 [==============================] - 0s 3ms/step - loss: 0.5659 - accuracy: 0.6967 - val_loss: 0.5669 - val_accuracy: 0.7300\n",
      "Epoch 119/300\n",
      "19/19 [==============================] - 0s 4ms/step - loss: 0.5737 - accuracy: 0.7083 - val_loss: 0.5744 - val_accuracy: 0.7100\n",
      "Epoch 120/300\n",
      "19/19 [==============================] - 0s 4ms/step - loss: 0.5801 - accuracy: 0.6950 - val_loss: 0.5765 - val_accuracy: 0.7200\n",
      "Epoch 121/300\n",
      "19/19 [==============================] - 0s 3ms/step - loss: 0.5600 - accuracy: 0.7200 - val_loss: 0.5691 - val_accuracy: 0.7400\n",
      "Epoch 122/300\n",
      "19/19 [==============================] - 0s 3ms/step - loss: 0.5735 - accuracy: 0.7083 - val_loss: 0.5711 - val_accuracy: 0.7300\n",
      "Epoch 123/300\n",
      "19/19 [==============================] - 0s 4ms/step - loss: 0.5676 - accuracy: 0.7150 - val_loss: 0.5705 - val_accuracy: 0.7500\n",
      "Epoch 124/300\n",
      "19/19 [==============================] - 0s 4ms/step - loss: 0.5775 - accuracy: 0.7167 - val_loss: 0.5705 - val_accuracy: 0.7400\n",
      "Epoch 125/300\n",
      "19/19 [==============================] - 0s 4ms/step - loss: 0.5693 - accuracy: 0.7017 - val_loss: 0.5760 - val_accuracy: 0.7300\n",
      "Epoch 126/300\n",
      "19/19 [==============================] - 0s 4ms/step - loss: 0.5916 - accuracy: 0.7050 - val_loss: 0.5769 - val_accuracy: 0.7100\n",
      "Epoch 127/300\n",
      "19/19 [==============================] - 0s 4ms/step - loss: 0.5573 - accuracy: 0.7183 - val_loss: 0.5708 - val_accuracy: 0.7200\n",
      "Epoch 128/300\n",
      "19/19 [==============================] - 0s 4ms/step - loss: 0.5733 - accuracy: 0.7267 - val_loss: 0.5708 - val_accuracy: 0.7200\n",
      "Epoch 129/300\n",
      "19/19 [==============================] - 0s 3ms/step - loss: 0.5724 - accuracy: 0.7150 - val_loss: 0.5649 - val_accuracy: 0.7300\n",
      "Epoch 130/300\n",
      "19/19 [==============================] - 0s 3ms/step - loss: 0.5610 - accuracy: 0.7150 - val_loss: 0.5651 - val_accuracy: 0.7400\n",
      "Epoch 131/300\n",
      "19/19 [==============================] - 0s 3ms/step - loss: 0.5665 - accuracy: 0.7000 - val_loss: 0.5720 - val_accuracy: 0.7400\n",
      "Epoch 132/300\n",
      "19/19 [==============================] - 0s 4ms/step - loss: 0.5678 - accuracy: 0.7200 - val_loss: 0.5709 - val_accuracy: 0.7300\n",
      "Epoch 133/300\n",
      "19/19 [==============================] - 0s 4ms/step - loss: 0.5647 - accuracy: 0.7017 - val_loss: 0.5760 - val_accuracy: 0.7100\n",
      "Epoch 134/300\n",
      "19/19 [==============================] - 0s 4ms/step - loss: 0.5620 - accuracy: 0.7300 - val_loss: 0.5660 - val_accuracy: 0.7400\n",
      "Epoch 135/300\n",
      "19/19 [==============================] - 0s 3ms/step - loss: 0.5770 - accuracy: 0.7167 - val_loss: 0.5695 - val_accuracy: 0.7300\n",
      "Epoch 136/300\n",
      "19/19 [==============================] - 0s 3ms/step - loss: 0.5787 - accuracy: 0.7033 - val_loss: 0.5659 - val_accuracy: 0.7400\n",
      "Epoch 137/300\n",
      "19/19 [==============================] - 0s 4ms/step - loss: 0.5562 - accuracy: 0.7083 - val_loss: 0.5735 - val_accuracy: 0.7200\n",
      "Epoch 138/300\n",
      "19/19 [==============================] - 0s 3ms/step - loss: 0.5600 - accuracy: 0.7117 - val_loss: 0.5773 - val_accuracy: 0.7200\n",
      "Epoch 139/300\n",
      "19/19 [==============================] - 0s 4ms/step - loss: 0.5803 - accuracy: 0.6967 - val_loss: 0.5732 - val_accuracy: 0.7200\n",
      "Epoch 140/300\n",
      "19/19 [==============================] - 0s 4ms/step - loss: 0.5776 - accuracy: 0.7133 - val_loss: 0.5738 - val_accuracy: 0.7100\n",
      "Epoch 141/300\n",
      "19/19 [==============================] - 0s 4ms/step - loss: 0.5710 - accuracy: 0.6983 - val_loss: 0.5868 - val_accuracy: 0.7200\n",
      "Epoch 142/300\n",
      "19/19 [==============================] - 0s 4ms/step - loss: 0.5795 - accuracy: 0.6967 - val_loss: 0.5811 - val_accuracy: 0.7200\n",
      "Epoch 143/300\n",
      "19/19 [==============================] - 0s 4ms/step - loss: 0.5637 - accuracy: 0.7033 - val_loss: 0.5713 - val_accuracy: 0.7300\n",
      "Epoch 144/300\n",
      "19/19 [==============================] - 0s 3ms/step - loss: 0.5495 - accuracy: 0.7167 - val_loss: 0.5579 - val_accuracy: 0.7400\n",
      "Epoch 145/300\n",
      "19/19 [==============================] - 0s 4ms/step - loss: 0.5608 - accuracy: 0.7233 - val_loss: 0.5670 - val_accuracy: 0.7400\n",
      "Epoch 146/300\n",
      "19/19 [==============================] - 0s 4ms/step - loss: 0.5507 - accuracy: 0.7367 - val_loss: 0.5603 - val_accuracy: 0.7500\n",
      "Epoch 147/300\n",
      "19/19 [==============================] - 0s 4ms/step - loss: 0.5669 - accuracy: 0.7167 - val_loss: 0.5756 - val_accuracy: 0.7200\n",
      "Epoch 148/300\n",
      "19/19 [==============================] - 0s 3ms/step - loss: 0.5563 - accuracy: 0.7167 - val_loss: 0.5651 - val_accuracy: 0.7400\n",
      "Epoch 149/300\n",
      "19/19 [==============================] - 0s 3ms/step - loss: 0.5589 - accuracy: 0.7050 - val_loss: 0.5741 - val_accuracy: 0.7200\n",
      "Epoch 150/300\n",
      "19/19 [==============================] - 0s 4ms/step - loss: 0.5610 - accuracy: 0.7183 - val_loss: 0.5637 - val_accuracy: 0.7100\n",
      "Epoch 151/300\n",
      "19/19 [==============================] - 0s 4ms/step - loss: 0.5518 - accuracy: 0.7233 - val_loss: 0.5586 - val_accuracy: 0.7300\n",
      "Epoch 152/300\n",
      "19/19 [==============================] - 0s 4ms/step - loss: 0.5487 - accuracy: 0.7317 - val_loss: 0.5549 - val_accuracy: 0.7400\n",
      "Epoch 153/300\n",
      "19/19 [==============================] - 0s 4ms/step - loss: 0.5480 - accuracy: 0.7250 - val_loss: 0.5556 - val_accuracy: 0.7500\n",
      "Epoch 154/300\n",
      "19/19 [==============================] - 0s 3ms/step - loss: 0.5595 - accuracy: 0.7067 - val_loss: 0.5536 - val_accuracy: 0.7200\n",
      "Epoch 155/300\n",
      "19/19 [==============================] - 0s 4ms/step - loss: 0.5471 - accuracy: 0.7250 - val_loss: 0.5628 - val_accuracy: 0.7400\n",
      "Epoch 156/300\n",
      "19/19 [==============================] - 0s 4ms/step - loss: 0.5572 - accuracy: 0.7100 - val_loss: 0.5693 - val_accuracy: 0.7200\n",
      "Epoch 157/300\n",
      "19/19 [==============================] - 0s 4ms/step - loss: 0.5524 - accuracy: 0.7333 - val_loss: 0.5637 - val_accuracy: 0.7200\n",
      "Epoch 158/300\n",
      "19/19 [==============================] - 0s 4ms/step - loss: 0.5384 - accuracy: 0.7267 - val_loss: 0.5652 - val_accuracy: 0.7200\n",
      "Epoch 159/300\n",
      "19/19 [==============================] - 0s 3ms/step - loss: 0.5433 - accuracy: 0.7167 - val_loss: 0.5617 - val_accuracy: 0.7400\n",
      "Epoch 160/300\n",
      "19/19 [==============================] - 0s 3ms/step - loss: 0.5457 - accuracy: 0.7300 - val_loss: 0.5589 - val_accuracy: 0.7500\n",
      "Epoch 161/300\n",
      "19/19 [==============================] - 0s 4ms/step - loss: 0.5587 - accuracy: 0.7033 - val_loss: 0.5861 - val_accuracy: 0.6800\n",
      "Epoch 162/300\n",
      "19/19 [==============================] - 0s 5ms/step - loss: 0.5470 - accuracy: 0.7183 - val_loss: 0.5578 - val_accuracy: 0.7200\n",
      "Epoch 163/300\n",
      "19/19 [==============================] - 0s 4ms/step - loss: 0.5504 - accuracy: 0.7217 - val_loss: 0.5497 - val_accuracy: 0.7400\n",
      "Epoch 164/300\n",
      "19/19 [==============================] - 0s 4ms/step - loss: 0.5700 - accuracy: 0.7100 - val_loss: 0.5558 - val_accuracy: 0.7200\n",
      "Epoch 165/300\n",
      "19/19 [==============================] - 0s 4ms/step - loss: 0.5360 - accuracy: 0.7167 - val_loss: 0.5580 - val_accuracy: 0.7300\n",
      "Epoch 166/300\n",
      "19/19 [==============================] - 0s 4ms/step - loss: 0.5505 - accuracy: 0.7117 - val_loss: 0.5554 - val_accuracy: 0.7200\n",
      "Epoch 167/300\n",
      "19/19 [==============================] - 0s 4ms/step - loss: 0.5435 - accuracy: 0.7417 - val_loss: 0.5457 - val_accuracy: 0.7600\n",
      "Epoch 168/300\n",
      "19/19 [==============================] - 0s 4ms/step - loss: 0.5576 - accuracy: 0.7200 - val_loss: 0.5575 - val_accuracy: 0.7300\n",
      "Epoch 169/300\n",
      "19/19 [==============================] - 0s 3ms/step - loss: 0.5623 - accuracy: 0.7183 - val_loss: 0.5576 - val_accuracy: 0.7400\n",
      "Epoch 170/300\n",
      "19/19 [==============================] - 0s 4ms/step - loss: 0.5382 - accuracy: 0.7267 - val_loss: 0.5598 - val_accuracy: 0.7400\n",
      "Epoch 171/300\n",
      "19/19 [==============================] - 0s 4ms/step - loss: 0.5433 - accuracy: 0.7300 - val_loss: 0.5565 - val_accuracy: 0.7400\n",
      "Epoch 172/300\n",
      "19/19 [==============================] - 0s 4ms/step - loss: 0.5470 - accuracy: 0.7300 - val_loss: 0.5544 - val_accuracy: 0.7400\n",
      "Epoch 173/300\n"
     ]
    },
    {
     "name": "stdout",
     "output_type": "stream",
     "text": [
      "19/19 [==============================] - 0s 4ms/step - loss: 0.5420 - accuracy: 0.7200 - val_loss: 0.5589 - val_accuracy: 0.7400\n",
      "Epoch 174/300\n",
      "19/19 [==============================] - 0s 4ms/step - loss: 0.5550 - accuracy: 0.6950 - val_loss: 0.5719 - val_accuracy: 0.7100\n",
      "Epoch 175/300\n",
      "19/19 [==============================] - 0s 3ms/step - loss: 0.5446 - accuracy: 0.7267 - val_loss: 0.5646 - val_accuracy: 0.7200\n",
      "Epoch 176/300\n",
      "19/19 [==============================] - 0s 3ms/step - loss: 0.5532 - accuracy: 0.7217 - val_loss: 0.5545 - val_accuracy: 0.7300\n",
      "Epoch 177/300\n",
      "19/19 [==============================] - 0s 4ms/step - loss: 0.5522 - accuracy: 0.7333 - val_loss: 0.5536 - val_accuracy: 0.7200\n",
      "Epoch 178/300\n",
      "19/19 [==============================] - 0s 4ms/step - loss: 0.5388 - accuracy: 0.7267 - val_loss: 0.5594 - val_accuracy: 0.7200\n",
      "Epoch 179/300\n",
      "19/19 [==============================] - 0s 4ms/step - loss: 0.5607 - accuracy: 0.7183 - val_loss: 0.5661 - val_accuracy: 0.7200\n",
      "Epoch 180/300\n",
      "19/19 [==============================] - 0s 3ms/step - loss: 0.5326 - accuracy: 0.7367 - val_loss: 0.5611 - val_accuracy: 0.7300\n",
      "Epoch 181/300\n",
      "19/19 [==============================] - 0s 4ms/step - loss: 0.5364 - accuracy: 0.7250 - val_loss: 0.5733 - val_accuracy: 0.7100\n",
      "Epoch 182/300\n",
      "19/19 [==============================] - 0s 3ms/step - loss: 0.5455 - accuracy: 0.7283 - val_loss: 0.5558 - val_accuracy: 0.7400\n",
      "Epoch 183/300\n",
      "19/19 [==============================] - 0s 4ms/step - loss: 0.5322 - accuracy: 0.7483 - val_loss: 0.5420 - val_accuracy: 0.7500\n",
      "Epoch 184/300\n",
      "19/19 [==============================] - 0s 4ms/step - loss: 0.5288 - accuracy: 0.7450 - val_loss: 0.5540 - val_accuracy: 0.7300\n",
      "Epoch 185/300\n",
      "19/19 [==============================] - 0s 4ms/step - loss: 0.5239 - accuracy: 0.7250 - val_loss: 0.5439 - val_accuracy: 0.7500\n",
      "Epoch 186/300\n",
      "19/19 [==============================] - 0s 4ms/step - loss: 0.5263 - accuracy: 0.7350 - val_loss: 0.5542 - val_accuracy: 0.7200\n",
      "Epoch 187/300\n",
      "19/19 [==============================] - 0s 4ms/step - loss: 0.5432 - accuracy: 0.7200 - val_loss: 0.5451 - val_accuracy: 0.7400\n",
      "Epoch 188/300\n",
      "19/19 [==============================] - 0s 4ms/step - loss: 0.5312 - accuracy: 0.7417 - val_loss: 0.5559 - val_accuracy: 0.7300\n",
      "Epoch 189/300\n",
      "19/19 [==============================] - 0s 3ms/step - loss: 0.5523 - accuracy: 0.7217 - val_loss: 0.5474 - val_accuracy: 0.7500\n",
      "Epoch 190/300\n",
      "19/19 [==============================] - 0s 4ms/step - loss: 0.5441 - accuracy: 0.7183 - val_loss: 0.5532 - val_accuracy: 0.7300\n",
      "Epoch 191/300\n",
      "19/19 [==============================] - 0s 4ms/step - loss: 0.5428 - accuracy: 0.7217 - val_loss: 0.5635 - val_accuracy: 0.7300\n",
      "Epoch 192/300\n",
      "19/19 [==============================] - 0s 4ms/step - loss: 0.5552 - accuracy: 0.7250 - val_loss: 0.5568 - val_accuracy: 0.7300\n",
      "Epoch 193/300\n",
      "19/19 [==============================] - 0s 4ms/step - loss: 0.5291 - accuracy: 0.7200 - val_loss: 0.5531 - val_accuracy: 0.7300\n",
      "Epoch 194/300\n",
      "19/19 [==============================] - 0s 3ms/step - loss: 0.5399 - accuracy: 0.7217 - val_loss: 0.5513 - val_accuracy: 0.7300\n",
      "Epoch 195/300\n",
      "19/19 [==============================] - 0s 3ms/step - loss: 0.5425 - accuracy: 0.7300 - val_loss: 0.5475 - val_accuracy: 0.7300\n",
      "Epoch 196/300\n",
      "19/19 [==============================] - 0s 3ms/step - loss: 0.5307 - accuracy: 0.7317 - val_loss: 0.5525 - val_accuracy: 0.7200\n",
      "Epoch 197/300\n",
      "19/19 [==============================] - 0s 3ms/step - loss: 0.5500 - accuracy: 0.7283 - val_loss: 0.5491 - val_accuracy: 0.7400\n",
      "Epoch 198/300\n",
      "19/19 [==============================] - 0s 4ms/step - loss: 0.5312 - accuracy: 0.7300 - val_loss: 0.5498 - val_accuracy: 0.7300\n",
      "Epoch 199/300\n",
      "19/19 [==============================] - 0s 4ms/step - loss: 0.5115 - accuracy: 0.7583 - val_loss: 0.5632 - val_accuracy: 0.7100\n",
      "Epoch 200/300\n",
      "19/19 [==============================] - 0s 3ms/step - loss: 0.5307 - accuracy: 0.7400 - val_loss: 0.5525 - val_accuracy: 0.7200\n",
      "Epoch 201/300\n",
      "19/19 [==============================] - 0s 4ms/step - loss: 0.5284 - accuracy: 0.7467 - val_loss: 0.5574 - val_accuracy: 0.7100\n",
      "Epoch 202/300\n",
      "19/19 [==============================] - 0s 4ms/step - loss: 0.5398 - accuracy: 0.7217 - val_loss: 0.5560 - val_accuracy: 0.7200\n",
      "Epoch 203/300\n",
      "19/19 [==============================] - 0s 4ms/step - loss: 0.5233 - accuracy: 0.7267 - val_loss: 0.5563 - val_accuracy: 0.7200\n",
      "Epoch 204/300\n",
      "19/19 [==============================] - 0s 4ms/step - loss: 0.5497 - accuracy: 0.7083 - val_loss: 0.5543 - val_accuracy: 0.7200\n",
      "Epoch 205/300\n",
      "19/19 [==============================] - 0s 4ms/step - loss: 0.5393 - accuracy: 0.7133 - val_loss: 0.5598 - val_accuracy: 0.7200\n",
      "Epoch 206/300\n",
      "19/19 [==============================] - 0s 3ms/step - loss: 0.5220 - accuracy: 0.7550 - val_loss: 0.5510 - val_accuracy: 0.7100\n",
      "Epoch 207/300\n",
      "19/19 [==============================] - 0s 4ms/step - loss: 0.5420 - accuracy: 0.7433 - val_loss: 0.5680 - val_accuracy: 0.7100\n",
      "Epoch 208/300\n",
      "19/19 [==============================] - 0s 4ms/step - loss: 0.5198 - accuracy: 0.7400 - val_loss: 0.5562 - val_accuracy: 0.7300\n",
      "Epoch 209/300\n",
      "19/19 [==============================] - 0s 4ms/step - loss: 0.5274 - accuracy: 0.7433 - val_loss: 0.5497 - val_accuracy: 0.7300\n",
      "Epoch 210/300\n",
      "19/19 [==============================] - 0s 4ms/step - loss: 0.5262 - accuracy: 0.7267 - val_loss: 0.5451 - val_accuracy: 0.7300\n",
      "Epoch 211/300\n",
      "19/19 [==============================] - 0s 4ms/step - loss: 0.5444 - accuracy: 0.7383 - val_loss: 0.5533 - val_accuracy: 0.7300\n",
      "Epoch 212/300\n",
      "19/19 [==============================] - 0s 4ms/step - loss: 0.5225 - accuracy: 0.7417 - val_loss: 0.5465 - val_accuracy: 0.7300\n",
      "Epoch 213/300\n",
      "19/19 [==============================] - 0s 4ms/step - loss: 0.5175 - accuracy: 0.7317 - val_loss: 0.5427 - val_accuracy: 0.7200\n",
      "Epoch 214/300\n",
      "19/19 [==============================] - 0s 4ms/step - loss: 0.5252 - accuracy: 0.7283 - val_loss: 0.5345 - val_accuracy: 0.7300\n",
      "Epoch 215/300\n",
      "19/19 [==============================] - 0s 3ms/step - loss: 0.5246 - accuracy: 0.7533 - val_loss: 0.5311 - val_accuracy: 0.7300\n",
      "Epoch 216/300\n",
      "19/19 [==============================] - 0s 4ms/step - loss: 0.5330 - accuracy: 0.7250 - val_loss: 0.5500 - val_accuracy: 0.7100\n",
      "Epoch 217/300\n",
      "19/19 [==============================] - 0s 3ms/step - loss: 0.5209 - accuracy: 0.7233 - val_loss: 0.5445 - val_accuracy: 0.7200\n",
      "Epoch 218/300\n",
      "19/19 [==============================] - 0s 5ms/step - loss: 0.5429 - accuracy: 0.7117 - val_loss: 0.5404 - val_accuracy: 0.7400\n",
      "Epoch 219/300\n",
      "19/19 [==============================] - 0s 4ms/step - loss: 0.5284 - accuracy: 0.7350 - val_loss: 0.5396 - val_accuracy: 0.7300\n",
      "Epoch 220/300\n",
      "19/19 [==============================] - 0s 4ms/step - loss: 0.5403 - accuracy: 0.7267 - val_loss: 0.5531 - val_accuracy: 0.7200\n",
      "Epoch 221/300\n",
      "19/19 [==============================] - 0s 3ms/step - loss: 0.5354 - accuracy: 0.7350 - val_loss: 0.5472 - val_accuracy: 0.7200\n",
      "Epoch 222/300\n",
      "19/19 [==============================] - 0s 3ms/step - loss: 0.5318 - accuracy: 0.7400 - val_loss: 0.5397 - val_accuracy: 0.7200\n",
      "Epoch 223/300\n",
      "19/19 [==============================] - 0s 4ms/step - loss: 0.5193 - accuracy: 0.7417 - val_loss: 0.5389 - val_accuracy: 0.7100\n",
      "Epoch 224/300\n",
      "19/19 [==============================] - 0s 4ms/step - loss: 0.5261 - accuracy: 0.7317 - val_loss: 0.5619 - val_accuracy: 0.6900\n",
      "Epoch 225/300\n",
      "19/19 [==============================] - 0s 4ms/step - loss: 0.5239 - accuracy: 0.7250 - val_loss: 0.5585 - val_accuracy: 0.7000\n",
      "Epoch 226/300\n",
      "19/19 [==============================] - 0s 3ms/step - loss: 0.5241 - accuracy: 0.7400 - val_loss: 0.5731 - val_accuracy: 0.6900\n",
      "Epoch 227/300\n",
      "19/19 [==============================] - 0s 3ms/step - loss: 0.5395 - accuracy: 0.7367 - val_loss: 0.5695 - val_accuracy: 0.7000\n",
      "Epoch 228/300\n",
      "19/19 [==============================] - 0s 4ms/step - loss: 0.5319 - accuracy: 0.7467 - val_loss: 0.5635 - val_accuracy: 0.7000\n",
      "Epoch 229/300\n",
      "19/19 [==============================] - 0s 4ms/step - loss: 0.5284 - accuracy: 0.7267 - val_loss: 0.5629 - val_accuracy: 0.6900\n",
      "Epoch 230/300\n"
     ]
    },
    {
     "name": "stdout",
     "output_type": "stream",
     "text": [
      "19/19 [==============================] - 0s 4ms/step - loss: 0.5338 - accuracy: 0.7267 - val_loss: 0.5494 - val_accuracy: 0.7200\n",
      "Epoch 231/300\n",
      "19/19 [==============================] - 0s 4ms/step - loss: 0.5286 - accuracy: 0.7383 - val_loss: 0.5555 - val_accuracy: 0.7000\n",
      "Epoch 232/300\n",
      "19/19 [==============================] - 0s 4ms/step - loss: 0.5277 - accuracy: 0.7367 - val_loss: 0.5487 - val_accuracy: 0.7000\n",
      "Epoch 233/300\n",
      "19/19 [==============================] - 0s 4ms/step - loss: 0.5441 - accuracy: 0.7233 - val_loss: 0.5658 - val_accuracy: 0.7000\n",
      "Epoch 234/300\n",
      "19/19 [==============================] - 0s 4ms/step - loss: 0.5111 - accuracy: 0.7450 - val_loss: 0.5439 - val_accuracy: 0.7100\n",
      "Epoch 235/300\n",
      "19/19 [==============================] - 0s 4ms/step - loss: 0.5062 - accuracy: 0.7500 - val_loss: 0.5646 - val_accuracy: 0.7100\n",
      "Epoch 236/300\n",
      "19/19 [==============================] - 0s 4ms/step - loss: 0.5319 - accuracy: 0.7367 - val_loss: 0.5607 - val_accuracy: 0.7000\n",
      "Epoch 237/300\n",
      "19/19 [==============================] - 0s 3ms/step - loss: 0.5152 - accuracy: 0.7300 - val_loss: 0.5581 - val_accuracy: 0.7000\n",
      "Epoch 238/300\n",
      "19/19 [==============================] - 0s 4ms/step - loss: 0.5202 - accuracy: 0.7417 - val_loss: 0.5744 - val_accuracy: 0.7100\n",
      "Epoch 239/300\n",
      "19/19 [==============================] - 0s 4ms/step - loss: 0.5378 - accuracy: 0.7400 - val_loss: 0.5757 - val_accuracy: 0.7100\n",
      "Epoch 240/300\n",
      "19/19 [==============================] - 0s 4ms/step - loss: 0.5172 - accuracy: 0.7417 - val_loss: 0.5478 - val_accuracy: 0.7400\n",
      "Epoch 241/300\n",
      "19/19 [==============================] - 0s 3ms/step - loss: 0.5161 - accuracy: 0.7583 - val_loss: 0.5643 - val_accuracy: 0.7100\n",
      "Epoch 242/300\n",
      "19/19 [==============================] - 0s 3ms/step - loss: 0.5191 - accuracy: 0.7583 - val_loss: 0.5562 - val_accuracy: 0.7100\n",
      "Epoch 243/300\n",
      "19/19 [==============================] - 0s 4ms/step - loss: 0.5127 - accuracy: 0.7467 - val_loss: 0.5636 - val_accuracy: 0.7200\n",
      "Epoch 244/300\n",
      "19/19 [==============================] - 0s 4ms/step - loss: 0.5169 - accuracy: 0.7300 - val_loss: 0.5607 - val_accuracy: 0.6900\n",
      "Epoch 245/300\n",
      "19/19 [==============================] - 0s 4ms/step - loss: 0.5230 - accuracy: 0.7300 - val_loss: 0.5725 - val_accuracy: 0.6800\n",
      "Epoch 246/300\n",
      "19/19 [==============================] - 0s 3ms/step - loss: 0.4973 - accuracy: 0.7433 - val_loss: 0.5638 - val_accuracy: 0.7000\n",
      "Epoch 247/300\n",
      "19/19 [==============================] - 0s 3ms/step - loss: 0.5227 - accuracy: 0.7367 - val_loss: 0.5625 - val_accuracy: 0.7000\n",
      "Epoch 248/300\n",
      "19/19 [==============================] - 0s 4ms/step - loss: 0.5413 - accuracy: 0.7350 - val_loss: 0.5641 - val_accuracy: 0.7100\n",
      "Epoch 249/300\n",
      "19/19 [==============================] - 0s 4ms/step - loss: 0.5022 - accuracy: 0.7467 - val_loss: 0.5654 - val_accuracy: 0.7100\n",
      "Epoch 250/300\n",
      "19/19 [==============================] - 0s 4ms/step - loss: 0.5179 - accuracy: 0.7350 - val_loss: 0.5534 - val_accuracy: 0.7100\n",
      "Epoch 251/300\n",
      "19/19 [==============================] - 0s 4ms/step - loss: 0.5162 - accuracy: 0.7300 - val_loss: 0.5573 - val_accuracy: 0.7200\n",
      "Epoch 252/300\n",
      "19/19 [==============================] - 0s 4ms/step - loss: 0.5201 - accuracy: 0.7333 - val_loss: 0.5707 - val_accuracy: 0.7000\n",
      "Epoch 253/300\n",
      "19/19 [==============================] - 0s 4ms/step - loss: 0.5143 - accuracy: 0.7533 - val_loss: 0.5515 - val_accuracy: 0.7000\n",
      "Epoch 254/300\n",
      "19/19 [==============================] - 0s 4ms/step - loss: 0.5203 - accuracy: 0.7333 - val_loss: 0.5715 - val_accuracy: 0.7100\n",
      "Epoch 255/300\n",
      "19/19 [==============================] - 0s 4ms/step - loss: 0.5215 - accuracy: 0.7333 - val_loss: 0.5611 - val_accuracy: 0.7100\n",
      "Epoch 256/300\n",
      "19/19 [==============================] - 0s 3ms/step - loss: 0.5251 - accuracy: 0.7333 - val_loss: 0.5492 - val_accuracy: 0.7200\n",
      "Epoch 257/300\n",
      "19/19 [==============================] - 0s 3ms/step - loss: 0.5099 - accuracy: 0.7400 - val_loss: 0.5702 - val_accuracy: 0.7000\n",
      "Epoch 258/300\n",
      "19/19 [==============================] - 0s 4ms/step - loss: 0.5064 - accuracy: 0.7517 - val_loss: 0.5509 - val_accuracy: 0.7100\n",
      "Epoch 259/300\n",
      "19/19 [==============================] - 0s 4ms/step - loss: 0.5232 - accuracy: 0.7200 - val_loss: 0.5630 - val_accuracy: 0.6900\n",
      "Epoch 260/300\n",
      "19/19 [==============================] - 0s 4ms/step - loss: 0.5079 - accuracy: 0.7633 - val_loss: 0.5512 - val_accuracy: 0.7300\n",
      "Epoch 261/300\n",
      "19/19 [==============================] - 0s 3ms/step - loss: 0.5192 - accuracy: 0.7333 - val_loss: 0.5590 - val_accuracy: 0.7100\n",
      "Epoch 262/300\n",
      "19/19 [==============================] - 0s 4ms/step - loss: 0.5119 - accuracy: 0.7517 - val_loss: 0.5686 - val_accuracy: 0.7100\n",
      "Epoch 263/300\n",
      "19/19 [==============================] - 0s 4ms/step - loss: 0.4866 - accuracy: 0.7817 - val_loss: 0.5669 - val_accuracy: 0.7100\n",
      "Epoch 264/300\n",
      "19/19 [==============================] - 0s 4ms/step - loss: 0.5324 - accuracy: 0.7200 - val_loss: 0.5745 - val_accuracy: 0.7000\n",
      "Epoch 265/300\n",
      "19/19 [==============================] - 0s 4ms/step - loss: 0.5149 - accuracy: 0.7483 - val_loss: 0.5732 - val_accuracy: 0.7000\n",
      "Epoch 266/300\n",
      "19/19 [==============================] - 0s 4ms/step - loss: 0.5266 - accuracy: 0.7350 - val_loss: 0.5541 - val_accuracy: 0.7200\n",
      "Epoch 267/300\n",
      "19/19 [==============================] - 0s 4ms/step - loss: 0.5289 - accuracy: 0.7133 - val_loss: 0.5750 - val_accuracy: 0.7000\n",
      "Epoch 268/300\n",
      "19/19 [==============================] - 0s 4ms/step - loss: 0.5183 - accuracy: 0.7383 - val_loss: 0.5583 - val_accuracy: 0.6900\n",
      "Epoch 269/300\n",
      "19/19 [==============================] - 0s 4ms/step - loss: 0.5188 - accuracy: 0.7467 - val_loss: 0.5521 - val_accuracy: 0.6900\n",
      "Epoch 270/300\n",
      "19/19 [==============================] - 0s 4ms/step - loss: 0.5068 - accuracy: 0.7433 - val_loss: 0.5669 - val_accuracy: 0.6900\n",
      "Epoch 271/300\n",
      "19/19 [==============================] - 0s 4ms/step - loss: 0.5114 - accuracy: 0.7500 - val_loss: 0.5527 - val_accuracy: 0.6900\n",
      "Epoch 272/300\n",
      "19/19 [==============================] - 0s 4ms/step - loss: 0.5205 - accuracy: 0.7333 - val_loss: 0.5475 - val_accuracy: 0.7000\n",
      "Epoch 273/300\n",
      "19/19 [==============================] - 0s 4ms/step - loss: 0.5117 - accuracy: 0.7567 - val_loss: 0.5472 - val_accuracy: 0.7000\n",
      "Epoch 274/300\n",
      "19/19 [==============================] - 0s 3ms/step - loss: 0.5142 - accuracy: 0.7383 - val_loss: 0.5617 - val_accuracy: 0.7000\n",
      "Epoch 275/300\n",
      "19/19 [==============================] - 0s 4ms/step - loss: 0.5212 - accuracy: 0.7517 - val_loss: 0.5642 - val_accuracy: 0.7000\n",
      "Epoch 276/300\n",
      "19/19 [==============================] - 0s 3ms/step - loss: 0.5082 - accuracy: 0.7433 - val_loss: 0.5758 - val_accuracy: 0.7000\n",
      "Epoch 277/300\n",
      "19/19 [==============================] - 0s 3ms/step - loss: 0.5199 - accuracy: 0.7300 - val_loss: 0.5687 - val_accuracy: 0.6900\n",
      "Epoch 278/300\n",
      "19/19 [==============================] - 0s 4ms/step - loss: 0.5060 - accuracy: 0.7483 - val_loss: 0.5602 - val_accuracy: 0.6900\n",
      "Epoch 279/300\n",
      "19/19 [==============================] - 0s 4ms/step - loss: 0.5109 - accuracy: 0.7467 - val_loss: 0.5672 - val_accuracy: 0.6900\n",
      "Epoch 280/300\n",
      "19/19 [==============================] - 0s 4ms/step - loss: 0.5103 - accuracy: 0.7517 - val_loss: 0.5732 - val_accuracy: 0.6900\n",
      "Epoch 281/300\n",
      "19/19 [==============================] - 0s 4ms/step - loss: 0.5085 - accuracy: 0.7483 - val_loss: 0.5771 - val_accuracy: 0.6900\n",
      "Epoch 282/300\n",
      "19/19 [==============================] - 0s 4ms/step - loss: 0.5073 - accuracy: 0.7517 - val_loss: 0.5644 - val_accuracy: 0.6900\n",
      "Epoch 283/300\n",
      "19/19 [==============================] - 0s 4ms/step - loss: 0.5101 - accuracy: 0.7417 - val_loss: 0.5654 - val_accuracy: 0.6900\n",
      "Epoch 284/300\n",
      "19/19 [==============================] - 0s 4ms/step - loss: 0.5094 - accuracy: 0.7233 - val_loss: 0.5648 - val_accuracy: 0.7000\n",
      "Epoch 285/300\n",
      "19/19 [==============================] - 0s 4ms/step - loss: 0.5019 - accuracy: 0.7517 - val_loss: 0.5613 - val_accuracy: 0.7000\n",
      "Epoch 286/300\n",
      "19/19 [==============================] - 0s 4ms/step - loss: 0.5148 - accuracy: 0.7333 - val_loss: 0.5592 - val_accuracy: 0.6900\n",
      "Epoch 287/300\n"
     ]
    },
    {
     "name": "stdout",
     "output_type": "stream",
     "text": [
      "19/19 [==============================] - 0s 4ms/step - loss: 0.5002 - accuracy: 0.7517 - val_loss: 0.5640 - val_accuracy: 0.6900\n",
      "Epoch 288/300\n",
      "19/19 [==============================] - 0s 4ms/step - loss: 0.4961 - accuracy: 0.7450 - val_loss: 0.5511 - val_accuracy: 0.7000\n",
      "Epoch 289/300\n",
      "19/19 [==============================] - 0s 3ms/step - loss: 0.5230 - accuracy: 0.7433 - val_loss: 0.5778 - val_accuracy: 0.7000\n",
      "Epoch 290/300\n",
      "19/19 [==============================] - 0s 4ms/step - loss: 0.5052 - accuracy: 0.7300 - val_loss: 0.5646 - val_accuracy: 0.6900\n",
      "Epoch 291/300\n",
      "19/19 [==============================] - 0s 4ms/step - loss: 0.5081 - accuracy: 0.7517 - val_loss: 0.5564 - val_accuracy: 0.7200\n",
      "Epoch 292/300\n",
      "19/19 [==============================] - 0s 4ms/step - loss: 0.4987 - accuracy: 0.7483 - val_loss: 0.5569 - val_accuracy: 0.7100\n",
      "Epoch 293/300\n",
      "19/19 [==============================] - 0s 4ms/step - loss: 0.5139 - accuracy: 0.7367 - val_loss: 0.5637 - val_accuracy: 0.7100\n",
      "Epoch 294/300\n",
      "19/19 [==============================] - 0s 4ms/step - loss: 0.4867 - accuracy: 0.7550 - val_loss: 0.5576 - val_accuracy: 0.7100\n",
      "Epoch 295/300\n",
      "19/19 [==============================] - 0s 3ms/step - loss: 0.5016 - accuracy: 0.7550 - val_loss: 0.5527 - val_accuracy: 0.7000\n",
      "Epoch 296/300\n",
      "19/19 [==============================] - 0s 4ms/step - loss: 0.5051 - accuracy: 0.7400 - val_loss: 0.5849 - val_accuracy: 0.6900\n",
      "Epoch 297/300\n",
      "19/19 [==============================] - 0s 4ms/step - loss: 0.5102 - accuracy: 0.7433 - val_loss: 0.5809 - val_accuracy: 0.7000\n",
      "Epoch 298/300\n",
      "19/19 [==============================] - 0s 4ms/step - loss: 0.5079 - accuracy: 0.7467 - val_loss: 0.5730 - val_accuracy: 0.6900\n",
      "Epoch 299/300\n",
      "19/19 [==============================] - 0s 4ms/step - loss: 0.5142 - accuracy: 0.7583 - val_loss: 0.5893 - val_accuracy: 0.7000\n",
      "Epoch 300/300\n",
      "19/19 [==============================] - 0s 3ms/step - loss: 0.4853 - accuracy: 0.7433 - val_loss: 0.5708 - val_accuracy: 0.7100\n"
     ]
    }
   ],
   "source": [
    "hist = model.fit(X_train, Y_train,\n",
    "                epochs=300,\n",
    "                validation_data=(X_val, Y_val),\n",
    "                verbose=1)"
   ]
  },
  {
   "cell_type": "markdown",
   "id": "5e80404a",
   "metadata": {},
   "source": [
    "## 5. 학습과정 살펴보기"
   ]
  },
  {
   "cell_type": "code",
   "execution_count": 30,
   "id": "b4ba7c2f",
   "metadata": {},
   "outputs": [
    {
     "data": {
      "text/plain": [
       "dict_keys(['loss', 'accuracy', 'val_loss', 'val_accuracy'])"
      ]
     },
     "execution_count": 30,
     "metadata": {},
     "output_type": "execute_result"
    }
   ],
   "source": [
    "hist.history.keys()"
   ]
  },
  {
   "cell_type": "code",
   "execution_count": 31,
   "id": "3a56f396",
   "metadata": {},
   "outputs": [
    {
     "data": {
      "image/png": "[encoded data removed]",
      "text/plain": [
       "<Figure size 1200x600 with 2 Axes>"
      ]
     },
     "metadata": {},
     "output_type": "display_data"
    }
   ],
   "source": [
    "fig, loss_ax = plt.subplots(figsize=(12,6))\n",
    "loss_ax.plot(hist.history['loss'], 'y', label='train loss')\n",
    "loss_ax.plot(hist.history['val_loss'], 'r', label='val loss')\n",
    "acc_ax = loss_ax.twinx()\n",
    "acc_ax.plot(hist.history['accuracy'], 'g', label='train accuracy')\n",
    "acc_ax.plot(hist.history['val_accuracy'], 'b', label='val accuracy')\n",
    "loss_ax.set_xlabel('epochs')\n",
    "loss_ax.set_ylabel('loss')\n",
    "acc_ax.set_ylabel('accuracy')\n",
    "loss_ax.legend(loc='center right')\n",
    "acc_ax.legend()\n",
    "plt.show()"
   ]
  },
  {
   "cell_type": "markdown",
   "id": "c13f62f6",
   "metadata": {},
   "source": [
    "## 6. 모델 평가 & 교차표"
   ]
  },
  {
   "cell_type": "code",
   "execution_count": 32,
   "id": "b6470113",
   "metadata": {},
   "outputs": [
    {
     "name": "stdout",
     "output_type": "stream",
     "text": [
      "loss : 0.6846415996551514, 정확도 : 0.6470588445663452\n"
     ]
    }
   ],
   "source": [
    "loss, accuracy = model.evaluate(X_test, Y_test, verbose=0)\n",
    "print(f\"loss : {loss}, 정확도 : {accuracy}\")"
   ]
  },
  {
   "cell_type": "code",
   "execution_count": 33,
   "id": "fec926ae",
   "metadata": {},
   "outputs": [
    {
     "data": {
      "text/plain": [
       "array([0, 1, 1, 0, 0, 0, 1, 0, 1, 1, 0, 0, 1, 0, 0, 1, 1, 0, 0, 1, 0, 0,\n",
       "       1, 0, 0, 0, 0, 0, 0, 0, 1, 1, 1, 0, 0, 0, 0, 0, 0, 1, 1, 0, 0, 1,\n",
       "       0, 0, 1, 0, 1, 1, 1, 0, 0, 1, 1, 1, 0, 1, 0, 1, 0, 1, 0, 0, 0, 0,\n",
       "       1, 0], dtype=int64)"
      ]
     },
     "execution_count": 33,
     "metadata": {},
     "output_type": "execute_result"
    }
   ],
   "source": [
    "# 교차표\n",
    "Y_test.argmax(axis=1) # 실제값 y_test"
   ]
  },
  {
   "cell_type": "code",
   "execution_count": 34,
   "id": "efb69fec",
   "metadata": {},
   "outputs": [
    {
     "name": "stdout",
     "output_type": "stream",
     "text": [
      "3/3 [==============================] - 0s 2ms/step\n"
     ]
    },
    {
     "data": {
      "text/plain": [
       "array([0, 0, 0, 0, 0, 0, 0, 0, 0, 0, 0, 0, 0, 0, 0, 1, 0, 0, 0, 0, 0, 0,\n",
       "       0, 0, 0, 0, 0, 0, 0, 0, 0, 0, 0, 0, 0, 0, 0, 0, 0, 0, 0, 0, 0, 0,\n",
       "       0, 0, 0, 0, 1, 0, 0, 0, 0, 0, 0, 0, 0, 0, 0, 0, 0, 1, 0, 0, 0, 0,\n",
       "       0, 0], dtype=int64)"
      ]
     },
     "execution_count": 34,
     "metadata": {},
     "output_type": "execute_result"
    }
   ],
   "source": [
    "y_hat = model.predict(X_test).argmax(axis=1)\n",
    "y_hat"
   ]
  },
  {
   "cell_type": "code",
   "execution_count": 35,
   "id": "6af888d6",
   "metadata": {},
   "outputs": [
    {
     "data": {
      "text/html": [
       "<div>\n",
       "<style scoped>\n",
       "    .dataframe tbody tr th:only-of-type {\n",
       "        vertical-align: middle;\n",
       "    }\n",
       "\n",
       "    .dataframe tbody tr th {\n",
       "        vertical-align: top;\n",
       "    }\n",
       "\n",
       "    .dataframe thead th {\n",
       "        text-align: right;\n",
       "    }\n",
       "</style>\n",
       "<table border=\"1\" class=\"dataframe\">\n",
       "  <thead>\n",
       "    <tr style=\"text-align: right;\">\n",
       "      <th>예측값</th>\n",
       "      <th>0</th>\n",
       "      <th>1</th>\n",
       "    </tr>\n",
       "    <tr>\n",
       "      <th>실제값</th>\n",
       "      <th></th>\n",
       "      <th></th>\n",
       "    </tr>\n",
       "  </thead>\n",
       "  <tbody>\n",
       "    <tr>\n",
       "      <th>0.0</th>\n",
       "      <td>41</td>\n",
       "      <td>0</td>\n",
       "    </tr>\n",
       "    <tr>\n",
       "      <th>1.0</th>\n",
       "      <td>24</td>\n",
       "      <td>3</td>\n",
       "    </tr>\n",
       "  </tbody>\n",
       "</table>\n",
       "</div>"
      ],
      "text/plain": [
       "예측값   0  1\n",
       "실제값       \n",
       "0.0  41  0\n",
       "1.0  24  3"
      ]
     },
     "execution_count": 35,
     "metadata": {},
     "output_type": "execute_result"
    }
   ],
   "source": [
    "pd.crosstab(y_test, y_hat, rownames=['실제값'], colnames=['예측값'])"
   ]
  },
  {
   "cell_type": "code",
   "execution_count": 36,
   "id": "a5c5a5ae",
   "metadata": {},
   "outputs": [
    {
     "data": {
      "text/plain": [
       "array([[41,  0],\n",
       "       [24,  3]], dtype=int64)"
      ]
     },
     "execution_count": 36,
     "metadata": {},
     "output_type": "execute_result"
    }
   ],
   "source": [
    "confusion_matrix(y_test, y_hat)"
   ]
  },
  {
   "cell_type": "markdown",
   "id": "7de2cffd",
   "metadata": {},
   "source": [
    "## 7. 모델 저장 및 사용"
   ]
  },
  {
   "cell_type": "code",
   "execution_count": 37,
   "id": "e5d8040d",
   "metadata": {},
   "outputs": [],
   "source": [
    "from tensorflow.keras.models import save_model, load_model\n",
    "# model.save('model/06_pima.h5')\n",
    "save_model(model, 'model/06_pima.h5')"
   ]
  },
  {
   "cell_type": "code",
   "execution_count": 38,
   "id": "babaaf7b",
   "metadata": {},
   "outputs": [],
   "source": [
    "model2 = load_model('model/06_pima.h5')"
   ]
  },
  {
   "cell_type": "code",
   "execution_count": 39,
   "id": "32f7f836",
   "metadata": {},
   "outputs": [
    {
     "name": "stdout",
     "output_type": "stream",
     "text": [
      "1/1 [==============================] - 0s 75ms/step\n"
     ]
    },
    {
     "data": {
      "text/plain": [
       "array([0, 0], dtype=int64)"
      ]
     },
     "execution_count": 39,
     "metadata": {},
     "output_type": "execute_result"
    }
   ],
   "source": [
    "pred = model2.predict([[2, 122,  76,  27, 200,  35.9,   0.483, 26 ],\n",
    "               [6, 125,  78,  31,   0,  27.6, 0.565,   49]])\n",
    "pred.argmax(axis=1)"
   ]
  },
  {
   "cell_type": "code",
   "execution_count": 40,
   "id": "371344de",
   "metadata": {},
   "outputs": [
    {
     "data": {
      "text/plain": [
       "array([0, 0], dtype=int64)"
      ]
     },
     "execution_count": 40,
     "metadata": {},
     "output_type": "execute_result"
    }
   ],
   "source": [
    "np.argmax(pred, axis=1)"
   ]
  }
 ],
 "metadata": {
  "kernelspec": {
   "display_name": "ml-dl-nlp",
   "language": "python",
   "name": "ml-dl-nlp"
  },
  "language_info": {
   "codemirror_mode": {
    "name": "ipython",
    "version": 3
   },
   "file_extension": ".py",
   "mimetype": "text/x-python",
   "name": "python",
   "nbconvert_exporter": "python",
   "pygments_lexer": "ipython3",
   "version": "3.10.18"
  },
  "toc": {
   "base_numbering": 1,
   "nav_menu": {},
   "number_sections": false,
   "sideBar": true,
   "skip_h1_title": false,
   "title_cell": "Table of Contents",
   "title_sidebar": "Contents",
   "toc_cell": false,
   "toc_position": {
    "height": "calc(100% - 180px)",
    "left": "10px",
    "top": "150px",
    "width": "248.4px"
   },
   "toc_section_display": true,
   "toc_window_display": true
  }
 },
 "nbformat": 4,
 "nbformat_minor": 5
}
