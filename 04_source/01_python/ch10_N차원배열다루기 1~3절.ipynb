{
 "cells": [
  {
   "cell_type": "code",
   "execution_count": 1,
   "id": "a42faad2",
   "metadata": {},
   "outputs": [
    {
     "data": {
      "text/html": [
       "\n",
       "<style>\n",
       "div.container{width:95% !important;}\n",
       "div.cell.code_cell.rendered{width:100%;}\n",
       "div.CodeMirror {font-family:Consolas; font-size:15pt;}\n",
       "div.output {font-size:15pt; font-weight:bold;}\n",
       "div.input {font-family:Consolas; font-size:15pt;}\n",
       "div.prompt {min-width:70px;}\n",
       "div#toc-wrapper{padding-top:120px;}\n",
       "div.text_cell_render ul li{font-size:12pt;padding:5px;}\n",
       "table.dataframe{font-size:15px;}\n",
       "</style>\n"
      ],
      "text/plain": [
       "<IPython.core.display.HTML object>"
      ]
     },
     "metadata": {},
     "output_type": "display_data"
    }
   ],
   "source": [
    "from IPython.display import display, HTML\n",
    "display(HTML(\"\"\"\n",
    "<style>\n",
    "div.container{width:95% !important;}\n",
    "div.cell.code_cell.rendered{width:100%;}\n",
    "div.CodeMirror {font-family:Consolas; font-size:15pt;}\n",
    "div.output {font-size:15pt; font-weight:bold;}\n",
    "div.input {font-family:Consolas; font-size:15pt;}\n",
    "div.prompt {min-width:70px;}\n",
    "div#toc-wrapper{padding-top:120px;}\n",
    "div.text_cell_render ul li{font-size:12pt;padding:5px;}\n",
    "table.dataframe{font-size:15px;}\n",
    "</style>\n",
    "\"\"\"))"
   ]
  },
  {
   "cell_type": "markdown",
   "id": "46233bec",
   "metadata": {},
   "source": [
    "<b><font color=\"red\" size=\"5\">ch.10 N차원 배열 다루기</font></b>\n",
    "- N차원 배열: 하나 이상의 축(axis)을 가지는 동일한 자료형의 값들로 구성된 다차원 배열\n",
    "- [numpy](https://numpy.org/doc/stable/)\n",
    "- [numpy_API](https://numpy.org/doc/stable/reference/index.html)\n",
    "- ↑ N차원 배열 객체 생성에 필요한 라이브러리\n",
    "- 2차원 배열을 행렬개념\n",
    "- numpy 패키지는 C언어로 구현되어 고성능 수치 계산 패키지\n",
    "# 1절 넘파이 패키지"
   ]
  },
  {
   "cell_type": "code",
   "execution_count": 2,
   "id": "3cad41a8",
   "metadata": {},
   "outputs": [
    {
     "data": {
      "text/plain": [
       "'1.23.5'"
      ]
     },
     "execution_count": 2,
     "metadata": {},
     "output_type": "execute_result"
    }
   ],
   "source": [
    "import numpy as np\n",
    "np.__version__"
   ]
  },
  {
   "cell_type": "code",
   "execution_count": 3,
   "id": "90d301da",
   "metadata": {},
   "outputs": [
    {
     "data": {
      "text/plain": [
       "array([ 0,  1,  2,  3,  4,  5,  6,  7,  8,  9, 10, 11, 12, 13, 14])"
      ]
     },
     "execution_count": 3,
     "metadata": {},
     "output_type": "execute_result"
    }
   ],
   "source": [
    "# np.arange(from, stop, step) : from 부터 stop앞까지 step씩 증감한 정수값을 배열로 생성\n",
    "a = np.arange(15)\n",
    "a"
   ]
  },
  {
   "cell_type": "markdown",
   "id": "0d7c3b48",
   "metadata": {},
   "source": [
    "## 1.1 배열 속성"
   ]
  },
  {
   "cell_type": "code",
   "execution_count": 4,
   "id": "2df68e21",
   "metadata": {},
   "outputs": [
    {
     "data": {
      "text/plain": [
       "array([[ 0,  1,  2,  3,  4],\n",
       "       [ 5,  6,  7,  8,  9],\n",
       "       [10, 11, 12, 13, 14]])"
      ]
     },
     "execution_count": 4,
     "metadata": {},
     "output_type": "execute_result"
    }
   ],
   "source": [
    "#arange(15): 0~14의 연속 정수 배열 (1차원)\n",
    "#reshape(3, 5): 3행 5열로 재구성 → 2차원 배열\n",
    "/ \n",
    "from numpy import arange #1차원 함수를 2차원 함수로 변경\n",
    "a = arange(15).reshape(3,5)  #3행 5열짜리 2차원 배열로 변환 reshpae(행,열) 함수사용\n",
    "a"
   ]
  },
  {
   "cell_type": "code",
   "execution_count": 5,
   "id": "523f77c1",
   "metadata": {},
   "outputs": [
    {
     "data": {
      "text/plain": [
       "numpy.ndarray"
      ]
     },
     "execution_count": 5,
     "metadata": {},
     "output_type": "execute_result"
    }
   ],
   "source": [
    "type(a) #a변수의 타입"
   ]
  },
  {
   "cell_type": "code",
   "execution_count": 6,
   "id": "381208ea",
   "metadata": {},
   "outputs": [
    {
     "data": {
      "text/plain": [
       "dtype('int32')"
      ]
     },
     "execution_count": 6,
     "metadata": {},
     "output_type": "execute_result"
    }
   ],
   "source": [
    "a.dtype #a배열 요소의 type"
   ]
  },
  {
   "cell_type": "code",
   "execution_count": 7,
   "id": "c3e5385c",
   "metadata": {},
   "outputs": [
    {
     "data": {
      "text/plain": [
       "'int32'"
      ]
     },
     "execution_count": 7,
     "metadata": {},
     "output_type": "execute_result"
    }
   ],
   "source": [
    "a.dtype.name #자료형 이름을 문자열로 반환"
   ]
  },
  {
   "cell_type": "code",
   "execution_count": 8,
   "id": "7adf99af",
   "metadata": {},
   "outputs": [
    {
     "data": {
      "text/plain": [
       "4"
      ]
     },
     "execution_count": 8,
     "metadata": {},
     "output_type": "execute_result"
    }
   ],
   "source": [
    "a.itemsize #한 요소의 bytesize"
   ]
  },
  {
   "cell_type": "code",
   "execution_count": 9,
   "id": "0d0758ae",
   "metadata": {},
   "outputs": [
    {
     "data": {
      "text/plain": [
       "2"
      ]
     },
     "execution_count": 9,
     "metadata": {},
     "output_type": "execute_result"
    }
   ],
   "source": [
    "a.ndim #차원수(축수)"
   ]
  },
  {
   "cell_type": "code",
   "execution_count": 10,
   "id": "470a6ba9",
   "metadata": {},
   "outputs": [
    {
     "data": {
      "text/plain": [
       "15"
      ]
     },
     "execution_count": 10,
     "metadata": {},
     "output_type": "execute_result"
    }
   ],
   "source": [
    "a.size #배열요소의 갯수"
   ]
  },
  {
   "cell_type": "code",
   "execution_count": 11,
   "id": "a7b123eb",
   "metadata": {},
   "outputs": [
    {
     "data": {
      "text/plain": [
       "(3, 5)"
      ]
     },
     "execution_count": 11,
     "metadata": {},
     "output_type": "execute_result"
    }
   ],
   "source": [
    "a.shape #배열의 구조(반드시 튜플로 들어가야함.)"
   ]
  },
  {
   "cell_type": "markdown",
   "id": "2650b1af",
   "metadata": {},
   "source": [
    "## 1.2 배열 변경(구조, 타입)"
   ]
  },
  {
   "cell_type": "code",
   "execution_count": 12,
   "id": "5833bcb3",
   "metadata": {},
   "outputs": [
    {
     "name": "stdout",
     "output_type": "stream",
     "text": [
      "구조변경 전\n",
      "[[ 0  1  2  3  4]\n",
      " [ 5  6  7  8  9]\n",
      " [10 11 12 13 14]]\n",
      "구조변경 후\n",
      "[[ 0  1  2]\n",
      " [ 3  4  5]\n",
      " [ 6  7  8]\n",
      " [ 9 10 11]\n",
      " [12 13 14]]\n"
     ]
    }
   ],
   "source": [
    "print('구조변경 전', a, sep='\\n')\n",
    "a.shape = (5, 3)\n",
    "print('구조변경 후', a, sep='\\n')"
   ]
  },
  {
   "cell_type": "code",
   "execution_count": 13,
   "id": "42f3cc09",
   "metadata": {},
   "outputs": [
    {
     "data": {
      "text/plain": [
       "array([[ 0,  1,  2,  3],\n",
       "       [ 4,  5,  6,  7],\n",
       "       [ 8,  9, 10, 11]])"
      ]
     },
     "execution_count": 13,
     "metadata": {},
     "output_type": "execute_result"
    }
   ],
   "source": [
    "# 타입변경(이런식으로 데이터를 변경하면 안된다. 다른 함수를 써서 데이터를 변경해야 한다.)\n",
    "a=arange(12).reshape(3,4)\n",
    "a"
   ]
  },
  {
   "cell_type": "code",
   "execution_count": 14,
   "id": "401969e4",
   "metadata": {},
   "outputs": [
    {
     "data": {
      "text/plain": [
       "dtype('int32')"
      ]
     },
     "execution_count": 14,
     "metadata": {},
     "output_type": "execute_result"
    }
   ],
   "source": [
    "a.dtype"
   ]
  },
  {
   "cell_type": "code",
   "execution_count": 15,
   "id": "057691ca",
   "metadata": {},
   "outputs": [
    {
     "data": {
      "text/plain": [
       "4"
      ]
     },
     "execution_count": 15,
     "metadata": {},
     "output_type": "execute_result"
    }
   ],
   "source": [
    "a.itemsize"
   ]
  },
  {
   "cell_type": "code",
   "execution_count": 16,
   "id": "4002b2af",
   "metadata": {},
   "outputs": [
    {
     "data": {
      "text/plain": [
       "(12, (3, 4))"
      ]
     },
     "execution_count": 16,
     "metadata": {},
     "output_type": "execute_result"
    }
   ],
   "source": [
    "a.size, a.shape #12개 요소가 3행 4열짜리로 되어있음."
   ]
  },
  {
   "cell_type": "code",
   "execution_count": 17,
   "id": "b56cfbcf",
   "metadata": {},
   "outputs": [
    {
     "data": {
      "text/plain": [
       "dtype('int64')"
      ]
     },
     "execution_count": 17,
     "metadata": {},
     "output_type": "execute_result"
    }
   ],
   "source": [
    "a.dtype = np.int64 # a배열을 읽을 때 64bit씩 읽는다.\n",
    "a.dtype"
   ]
  },
  {
   "cell_type": "code",
   "execution_count": 18,
   "id": "0c3a6e90",
   "metadata": {},
   "outputs": [
    {
     "data": {
      "text/plain": [
       "8"
      ]
     },
     "execution_count": 18,
     "metadata": {},
     "output_type": "execute_result"
    }
   ],
   "source": [
    "a.itemsize"
   ]
  },
  {
   "cell_type": "code",
   "execution_count": 19,
   "id": "cc321fb4",
   "metadata": {},
   "outputs": [
    {
     "data": {
      "text/plain": [
       "(6, (3, 2))"
      ]
     },
     "execution_count": 19,
     "metadata": {},
     "output_type": "execute_result"
    }
   ],
   "source": [
    "a.size, a.shape #a사이즈가 바뀌어있다."
   ]
  },
  {
   "cell_type": "code",
   "execution_count": 20,
   "id": "6d777873",
   "metadata": {},
   "outputs": [
    {
     "data": {
      "text/plain": [
       "array([[ 4294967296, 12884901890],\n",
       "       [21474836484, 30064771078],\n",
       "       [38654705672, 47244640266]], dtype=int64)"
      ]
     },
     "execution_count": 20,
     "metadata": {},
     "output_type": "execute_result"
    }
   ],
   "source": [
    "a #데이터가 변조되었다."
   ]
  },
  {
   "cell_type": "code",
   "execution_count": 21,
   "id": "f872a3e7",
   "metadata": {},
   "outputs": [
    {
     "data": {
      "text/plain": [
       "array([[ 0,  1,  2,  3],\n",
       "       [ 4,  5,  6,  7],\n",
       "       [ 8,  9, 10, 11]])"
      ]
     },
     "execution_count": 21,
     "metadata": {},
     "output_type": "execute_result"
    }
   ],
   "source": [
    "# 타입변경(이런식으로 바꾸어야 한다.)\n",
    "a=arange(12).reshape(3,4)\n",
    "a"
   ]
  },
  {
   "cell_type": "code",
   "execution_count": 22,
   "id": "683add20",
   "metadata": {},
   "outputs": [
    {
     "data": {
      "text/plain": [
       "array([[ 0,  1,  2,  3],\n",
       "       [ 4,  5,  6,  7],\n",
       "       [ 8,  9, 10, 11]], dtype=int64)"
      ]
     },
     "execution_count": 22,
     "metadata": {},
     "output_type": "execute_result"
    }
   ],
   "source": [
    "a = a.astype(np.int64) #= a.astype('int64')\n",
    "a"
   ]
  },
  {
   "cell_type": "code",
   "execution_count": 23,
   "id": "05f223fe",
   "metadata": {},
   "outputs": [
    {
     "data": {
      "text/plain": [
       "dtype('int64')"
      ]
     },
     "execution_count": 23,
     "metadata": {},
     "output_type": "execute_result"
    }
   ],
   "source": [
    "a.dtype"
   ]
  },
  {
   "cell_type": "code",
   "execution_count": 24,
   "id": "2b787aaa",
   "metadata": {},
   "outputs": [
    {
     "data": {
      "text/plain": [
       "8"
      ]
     },
     "execution_count": 24,
     "metadata": {},
     "output_type": "execute_result"
    }
   ],
   "source": [
    "a.itemsize"
   ]
  },
  {
   "cell_type": "code",
   "execution_count": 25,
   "id": "cf828f77",
   "metadata": {},
   "outputs": [
    {
     "data": {
      "text/plain": [
       "(12,)"
      ]
     },
     "execution_count": 25,
     "metadata": {},
     "output_type": "execute_result"
    }
   ],
   "source": [
    "a.size, "
   ]
  },
  {
   "cell_type": "code",
   "execution_count": 26,
   "id": "4046b9bb",
   "metadata": {},
   "outputs": [
    {
     "data": {
      "text/plain": [
       "array([[ 0,  1,  2,  3],\n",
       "       [ 4,  5,  6,  7],\n",
       "       [ 8,  9, 10, 11]], dtype=int64)"
      ]
     },
     "execution_count": 26,
     "metadata": {},
     "output_type": "execute_result"
    }
   ],
   "source": [
    "a"
   ]
  },
  {
   "cell_type": "code",
   "execution_count": 27,
   "id": "f430c074",
   "metadata": {},
   "outputs": [
    {
     "data": {
      "text/plain": [
       "array([ 0,  1,  2,  3,  4,  5,  6,  7,  8,  9, 10, 11], dtype=int64)"
      ]
     },
     "execution_count": 27,
     "metadata": {},
     "output_type": "execute_result"
    }
   ],
   "source": [
    "#1차원으로 변경(플랫한다고 표현함)\n",
    "a.flatten()"
   ]
  },
  {
   "cell_type": "code",
   "execution_count": 28,
   "id": "7c98c7a4",
   "metadata": {},
   "outputs": [
    {
     "data": {
      "text/plain": [
       "array([ 0,  1,  2,  3,  4,  5,  6,  7,  8,  9, 10, 11], dtype=int64)"
      ]
     },
     "execution_count": 28,
     "metadata": {},
     "output_type": "execute_result"
    }
   ],
   "source": [
    "# 배열.ravel() 배열을 1차원으로 펼쳐서 반환하는 함수(원본 배열을 수정하지 않고, 새로운 1차원 배열뷰를 반환)\n",
    "a.ravel()"
   ]
  },
  {
   "cell_type": "markdown",
   "id": "5120730e",
   "metadata": {},
   "source": [
    "## 1.3 배열저장"
   ]
  },
  {
   "cell_type": "code",
   "execution_count": 29,
   "id": "475b38f2",
   "metadata": {},
   "outputs": [
    {
     "data": {
      "text/plain": [
       "array([[ 0,  1,  2,  3],\n",
       "       [ 4,  5,  6,  7],\n",
       "       [ 8,  9, 10, 11]], dtype=int64)"
      ]
     },
     "execution_count": 29,
     "metadata": {},
     "output_type": "execute_result"
    }
   ],
   "source": [
    "a #를 저장하고 싶다면"
   ]
  },
  {
   "cell_type": "code",
   "execution_count": 30,
   "id": "28b19a68",
   "metadata": {},
   "outputs": [],
   "source": [
    "#피클파일 저장하는것처럼 하기(머신러닝이라 num파일 저장시)(모든 파이썬 객체 저장 가능\t파이썬 외부에서 읽기 어려움)\n",
    "import pickle #파이썬 내장 모듈인 피클을 불러옵니다.\n",
    "with open('data/ch10_a.pkl', 'wb') as f: #파일을 안전하게 열고 자동으로 닫아주는 구문입니다.\n",
    "    pickle.dump(a, f) #\t변수 a의 내용을 파일에 저장합니다."
   ]
  },
  {
   "cell_type": "code",
   "execution_count": 31,
   "id": "f6ebf50f",
   "metadata": {},
   "outputs": [],
   "source": [
    "# 저장된 배열 불러오기 (역직렬화)\n",
    "with open('data/ch10_a.pkl', 'rb') as f:\n",
    "    load_a=pickle.load(f)"
   ]
  },
  {
   "cell_type": "code",
   "execution_count": 32,
   "id": "8ae2add5",
   "metadata": {},
   "outputs": [
    {
     "data": {
      "text/plain": [
       "array([[ 0,  1,  2,  3],\n",
       "       [ 4,  5,  6,  7],\n",
       "       [ 8,  9, 10, 11]], dtype=int64)"
      ]
     },
     "execution_count": 32,
     "metadata": {},
     "output_type": "execute_result"
    }
   ],
   "source": [
    "load_a"
   ]
  },
  {
   "cell_type": "code",
   "execution_count": 33,
   "id": "670754c8",
   "metadata": {},
   "outputs": [
    {
     "data": {
      "text/plain": [
       "True"
      ]
     },
     "execution_count": 33,
     "metadata": {},
     "output_type": "execute_result"
    }
   ],
   "source": [
    "np.all(a == load_a) #a넘파이배열과 load_a 넘파이 배열이 같은지"
   ]
  },
  {
   "cell_type": "code",
   "execution_count": 34,
   "id": "332ccbf2",
   "metadata": {},
   "outputs": [],
   "source": [
    "#NumPy 전용 방식 (.npy), 저장 (빠르고, 넘파이 최적화\t넘파이 외 객체는 저장 불가)\n",
    "np.save('data/ch10_a.npy', a)"
   ]
  },
  {
   "cell_type": "code",
   "execution_count": 35,
   "id": "25b29fb2",
   "metadata": {},
   "outputs": [
    {
     "data": {
      "text/plain": [
       "True"
      ]
     },
     "execution_count": 35,
     "metadata": {},
     "output_type": "execute_result"
    }
   ],
   "source": [
    "#불러오기\n",
    "load_a2 = np.load('data/ch10_a.npy')\n",
    "#비교\n",
    "np.all(load_a2==a)"
   ]
  },
  {
   "cell_type": "markdown",
   "id": "b06ae43a",
   "metadata": {},
   "source": [
    "# 2절. 넘파이 배열\n",
    "- array()함수 : 다른 파이썬 데이터 구조를 배열로 변환\n",
    "- arange(), ones(), zeros(), empty()\n",
    "- 랜덤값을 갖는 함수들...\n",
    "## 2.1 array()함수로 넘파이 배열 만들기\n",
    "- array(리스트나 튜플, dtype=np.xxx, copy=T/F)"
   ]
  },
  {
   "cell_type": "code",
   "execution_count": 36,
   "id": "4c4a1e11",
   "metadata": {},
   "outputs": [
    {
     "data": {
      "text/plain": [
       "array([2, 4, 6], dtype=int8)"
      ]
     },
     "execution_count": 36,
     "metadata": {},
     "output_type": "execute_result"
    }
   ],
   "source": [
    "a= np.array([2., 4, 6], dtype=np.int8) # 정수의 기본 타입은 int 32 #리스트, 튜플 등을 넘파이 배열로 변환\n",
    "                                    #요소들의 데이터 타입을 int8로 지정 (1바이트 정수)\n",
    "#정수만 있을 경우 → int32 (기본값)\n",
    "#실수가 하나라도 있다면 → float64로 전체 변환\n",
    "#문자가 하나라도 있다면 → 전체가 str로 변환\n",
    "\n",
    "a"
   ]
  },
  {
   "cell_type": "code",
   "execution_count": 37,
   "id": "33720d07",
   "metadata": {},
   "outputs": [
    {
     "data": {
      "text/plain": [
       "(2, 4, 6)"
      ]
     },
     "execution_count": 37,
     "metadata": {},
     "output_type": "execute_result"
    }
   ],
   "source": [
    "#리스트처럼 순서대로 값 추출 가능\n",
    "#인덱스는 0부터 시작\n",
    "a[0], a[1], a[2]"
   ]
  },
  {
   "cell_type": "code",
   "execution_count": 38,
   "id": "26717f7a",
   "metadata": {},
   "outputs": [
    {
     "data": {
      "text/plain": [
       "dtype('int8')"
      ]
     },
     "execution_count": 38,
     "metadata": {},
     "output_type": "execute_result"
    }
   ],
   "source": [
    "a.dtype"
   ]
  },
  {
   "cell_type": "code",
   "execution_count": 39,
   "id": "199f566f",
   "metadata": {},
   "outputs": [
    {
     "data": {
      "text/plain": [
       "array([[1.3, 2.4],\n",
       "       [4. , 5. ]])"
      ]
     },
     "execution_count": 39,
     "metadata": {},
     "output_type": "execute_result"
    }
   ],
   "source": [
    "b =np.array([[1.3,2.4], \n",
    "             [4,5]])\n",
    "b"
   ]
  },
  {
   "cell_type": "code",
   "execution_count": 40,
   "id": "88335582",
   "metadata": {},
   "outputs": [
    {
     "data": {
      "text/plain": [
       "dtype('float64')"
      ]
     },
     "execution_count": 40,
     "metadata": {},
     "output_type": "execute_result"
    }
   ],
   "source": [
    "b.dtype"
   ]
  },
  {
   "cell_type": "code",
   "execution_count": 41,
   "id": "1dd16a93",
   "metadata": {},
   "outputs": [
    {
     "ename": "TypeError",
     "evalue": "array() got an unexpected keyword argument 'dtpe'",
     "output_type": "error",
     "traceback": [
      "\u001b[1;31m---------------------------------------------------------------------------\u001b[0m",
      "\u001b[1;31mTypeError\u001b[0m                                 Traceback (most recent call last)",
      "Cell \u001b[1;32mIn[41], line 2\u001b[0m\n\u001b[0;32m      1\u001b[0m \u001b[38;5;66;03m#2차원으로 만들기\u001b[39;00m\n\u001b[1;32m----> 2\u001b[0m b \u001b[38;5;241m=\u001b[39m \u001b[43mnp\u001b[49m\u001b[38;5;241;43m.\u001b[39;49m\u001b[43marray\u001b[49m\u001b[43m(\u001b[49m\u001b[43m[\u001b[49m\u001b[38;5;241;43m1.3\u001b[39;49m\u001b[43m,\u001b[49m\u001b[38;5;241;43m2.4\u001b[39;49m\u001b[43m]\u001b[49m\u001b[43m,\u001b[49m\u001b[43m[\u001b[49m\u001b[38;5;241;43m4\u001b[39;49m\u001b[43m,\u001b[49m\u001b[38;5;241;43m5\u001b[39;49m\u001b[43m]\u001b[49m\u001b[43m,\u001b[49m\u001b[43m \u001b[49m\u001b[43mdtpe\u001b[49m\u001b[38;5;241;43m=\u001b[39;49m\u001b[43mnp\u001b[49m\u001b[38;5;241;43m.\u001b[39;49m\u001b[43mfloat32\u001b[49m\u001b[43m)\u001b[49m\u001b[38;5;241m.\u001b[39mreshape(\u001b[38;5;241m1\u001b[39m,\u001b[38;5;241m4\u001b[39m)\n\u001b[0;32m      3\u001b[0m b\n",
      "\u001b[1;31mTypeError\u001b[0m: array() got an unexpected keyword argument 'dtpe'"
     ]
    }
   ],
   "source": [
    "#2차원으로 만들기\n",
    "b = np.array([1.3,2.4],[4,5], dtpe=np.float32).reshape(1,4)\n",
    "b"
   ]
  },
  {
   "cell_type": "code",
   "execution_count": null,
   "id": "bb0fcbea",
   "metadata": {},
   "outputs": [],
   "source": [
    "b.itemsize"
   ]
  },
  {
   "cell_type": "code",
   "execution_count": null,
   "id": "9319e8dc",
   "metadata": {},
   "outputs": [],
   "source": [
    "b.astype(np.float64)"
   ]
  },
  {
   "cell_type": "code",
   "execution_count": null,
   "id": "6ec95a43",
   "metadata": {},
   "outputs": [],
   "source": [
    "l = [[1, 2], [3.4, 4.5]]  # 2차원 리스트 정의\n",
    "\n",
    "for row in l:  # 각 행(row)을 반복\n",
    "    for data in row:  # 행 내의 각 데이터를 반복\n",
    "        print(data, end='\\t')  # 데이터를 탭 간격으로 출력 (가로 정렬)\n",
    "    print()  # 각 행 출력 후 줄바꿈\n"
   ]
  },
  {
   "cell_type": "code",
   "execution_count": null,
   "id": "8e69d30a",
   "metadata": {},
   "outputs": [],
   "source": [
    "c = np.array([[1, 2], [3.4, 4.5]], dtype=np.float16)  # float16 형식의 2차원 넘파이 배열 생성\n",
    "\n",
    "for i, row in enumerate(c):  # 행의 인덱스(i)와 행 데이터(row)를 함께 반복\n",
    "    for j, item in enumerate(row):  # 열의 인덱스(j)와 각 요소(item)를 함께 반복\n",
    "        print(\"{}행{}열:{}\".format(i, j, item), end='\\t')  # 위치와 값을 출력 (탭 간격)\n",
    "    print()  # 각 행 출력 후 줄바꿈"
   ]
  },
  {
   "cell_type": "code",
   "execution_count": null,
   "id": "6c9daeb8",
   "metadata": {},
   "outputs": [],
   "source": [
    "#인덱싱 슬라이싱한거처럼 이것도 똑같은짓을 할수있다.\n",
    "c"
   ]
  },
  {
   "cell_type": "code",
   "execution_count": null,
   "id": "005ca4d8",
   "metadata": {},
   "outputs": [],
   "source": [
    "c = np.array([[1,2,3,4,5], [6,7,8,9,10]], dtype=np.int16)\n",
    "c"
   ]
  },
  {
   "cell_type": "code",
   "execution_count": null,
   "id": "0f481a23",
   "metadata": {},
   "outputs": [],
   "source": [
    "c[0,3]"
   ]
  },
  {
   "cell_type": "code",
   "execution_count": null,
   "id": "d7af87ae",
   "metadata": {},
   "outputs": [],
   "source": [
    "c[:, 1:3] # 모든행, 1열부터 3열앞까지"
   ]
  },
  {
   "cell_type": "code",
   "execution_count": null,
   "id": "b4644818",
   "metadata": {},
   "outputs": [],
   "source": [
    "# 0행 2열~4열까지\n",
    "c[0, 2:5]"
   ]
  },
  {
   "cell_type": "code",
   "execution_count": null,
   "id": "128a8ff3",
   "metadata": {},
   "outputs": [],
   "source": [
    "# 모든행의 맨 마지막 열만 추출\n",
    "c[:, -1]"
   ]
  },
  {
   "cell_type": "code",
   "execution_count": null,
   "id": "beefa50c",
   "metadata": {},
   "outputs": [],
   "source": [
    "# 모든행의 맨 마지막 열을 제외한 추출\n",
    "c[:, :-1]"
   ]
  },
  {
   "cell_type": "code",
   "execution_count": null,
   "id": "2384e78d",
   "metadata": {},
   "outputs": [],
   "source": [
    "c = np.array([[1,2], [3,4]])\n",
    "d = np.array(c, copy=False) #d=c 얕은복사\n",
    "print('c=', c, sep='\\n')\n",
    "print('d=', d, sep='\\n')\n",
    "d[1, 0] = 3333\n",
    "print('c=', c, sep='\\n')\n",
    "print('d=', d, sep='\\n')\n",
    "print('c주소= {}, d주소:{}'.format(id(c), id(d)))\n",
    "#c값이 변경되었음"
   ]
  },
  {
   "cell_type": "code",
   "execution_count": null,
   "id": "159d70d0",
   "metadata": {},
   "outputs": [],
   "source": [
    "c = np.array([[1,2], [3,4]])\n",
    "d = np.array(c, copy=True) #d=c.copy() 깊은복사\n",
    "print('c=', c, sep='\\n')\n",
    "print('d=', d, sep='\\n')\n",
    "d[1, 0] = 3333\n",
    "print('c=', c, sep='\\n')\n",
    "print('d=', d, sep='\\n')\n",
    "print('c주소= {}, d주소:{}'.format(id(c), id(d)))\n",
    "#c값이 그대로임."
   ]
  },
  {
   "cell_type": "markdown",
   "id": "3a59ff64",
   "metadata": {},
   "source": [
    "## 2.2 기본값이 있는 배열만들기\n",
    "- np.zeros( (tup) ) : 요소들이 다 0으로 채워짐.\n",
    "- np.ones( (tupe) ) : 요소들이 다 1로 채워짐. 기본값이 float타입이 됨.\n",
    "- np.full( tup, 기본값) : 요소들이 다 기본값\n",
    "- np.empty(tup) : 요소들이 임의의 값(메모리상태에 따라 달라짐)\n",
    "※ 위의 함수를 이용해서 생성된 배열을 기본 dtype이 float64. dtype속성 따라 지정 가능"
   ]
  },
  {
   "cell_type": "code",
   "execution_count": null,
   "id": "744c61b5",
   "metadata": {},
   "outputs": [],
   "source": [
    "np.zeros( (3, 5) )"
   ]
  },
  {
   "cell_type": "code",
   "execution_count": null,
   "id": "a06b27e2",
   "metadata": {},
   "outputs": [],
   "source": [
    "x = np.ones((3,5))\n",
    "x.dtype, x"
   ]
  },
  {
   "cell_type": "code",
   "execution_count": null,
   "id": "4a584f0c",
   "metadata": {},
   "outputs": [],
   "source": [
    "np.full( (2, 5), -256)"
   ]
  },
  {
   "cell_type": "code",
   "execution_count": null,
   "id": "e7096fff",
   "metadata": {},
   "outputs": [],
   "source": [
    "np.empty((2,5)) #뭐가 나올지 나도 모름."
   ]
  },
  {
   "cell_type": "markdown",
   "id": "d6b18e93",
   "metadata": {},
   "source": [
    "## 2.3 랜덤값을 갖는 배열 만들기\n",
    "- np.random.random(tup) : 0부터 1미만의 균등분포를 갖는 랜덤값\n",
    "- np.random.uniform(low=0, high=1.0, size=tup) : low부터 high미만의 균등분포를 갖는 랜덤값\n",
    "- np.random.normal(loc=0, scale=1.0, size=tup) : 평균loc과 표준편차scale을 갖는 정규분포 랜덤값\n",
    "- np.random.rand(n) : 균등분포의 1차원 난수 배열 발생(난수 n개)\n",
    "- np.random.randn(n) : 표준정규분포(평균0, 표준편차1인 정규분포)의 1차원 난수배열 발생(난수 n개)\n",
    "cf. np.random.randint(n) : 0부터 n미만의 정수 난수 1개 발생"
   ]
  },
  {
   "cell_type": "code",
   "execution_count": null,
   "id": "6b2763d1",
   "metadata": {},
   "outputs": [],
   "source": [
    "import matplotlib.pyplot as plt\n",
    "x = np.random.rand(10000)\n",
    "plt.figure(figsize=(15, 2)) # 그래프 크기 figsize=(가로, 세로)\n",
    "plt.hist(x, bins=50)\n",
    "plt.show()"
   ]
  },
  {
   "cell_type": "code",
   "execution_count": null,
   "id": "a1bc5e20",
   "metadata": {},
   "outputs": [],
   "source": [
    "x = np.random.randn(10000)\n",
    "plt.figure(figsize=(15, 2)) # 그래프 크기 figsize=(가로, 세로)\n",
    "plt.hist(x, bins=50)\n",
    "plt.show()"
   ]
  },
  {
   "cell_type": "code",
   "execution_count": null,
   "id": "21f77299",
   "metadata": {},
   "outputs": [],
   "source": [
    "#2차원 난수 배열\n",
    "np.random.seed(7) # seed값을 맞추면 발생되는 난수 순서가 동일해짐\n",
    "np.random.random( (2, 5) ) #0부터 1미만 균등분포 난수 배열"
   ]
  },
  {
   "cell_type": "code",
   "execution_count": null,
   "id": "8cb14bec",
   "metadata": {},
   "outputs": [],
   "source": [
    "np.random.uniform(-1, 10, (2,5)) #-1~10미만의 균등분포 난수 배열"
   ]
  },
  {
   "cell_type": "code",
   "execution_count": null,
   "id": "3e400e80",
   "metadata": {},
   "outputs": [],
   "source": [
    "np.random.normal(10, 2, (2, 5)) #평균 10, 표준편차 2인 정규분포 난수 배열"
   ]
  },
  {
   "cell_type": "markdown",
   "id": "8df56e85",
   "metadata": {},
   "source": [
    "## 2.4 연속된 값을 갖는 배열 만들기\n",
    "- np.arange(from, stop, by, dtype) : from부터 stop앞까지 by씩 증감하는 정수배열\n",
    "- np.linspace(from, to, count) : from부터 to까지(to포함) count개 숫자를 1차원 배열로 생성"
   ]
  },
  {
   "cell_type": "code",
   "execution_count": null,
   "id": "5adb24d0",
   "metadata": {},
   "outputs": [],
   "source": [
    "np.linspace(0, 2, 20)"
   ]
  },
  {
   "cell_type": "code",
   "execution_count": null,
   "id": "ab9c6ab5",
   "metadata": {},
   "outputs": [],
   "source": [
    "# linspace : 많은 수의 점들을 생성\n",
    "x = np.linspace(0, 2*np.pi, 1000)\n",
    "y = np.sin(x)"
   ]
  },
  {
   "cell_type": "code",
   "execution_count": null,
   "id": "23436261",
   "metadata": {},
   "outputs": [],
   "source": [
    "import matplotlib.pyplot as plt\n",
    "plt.figure(figsize=(5, 2))\n",
    "plt.plot(x, y)\n",
    "plt.show"
   ]
  },
  {
   "cell_type": "code",
   "execution_count": null,
   "id": "eb375aff",
   "metadata": {},
   "outputs": [],
   "source": [
    "np.linspace(0,2, 20).reshape(2, 10)"
   ]
  },
  {
   "cell_type": "code",
   "execution_count": null,
   "id": "6a39b877",
   "metadata": {},
   "outputs": [],
   "source": [
    "np.arange(10, 30, 3, dtype=np.int8)"
   ]
  },
  {
   "cell_type": "markdown",
   "id": "0cc80276",
   "metadata": {},
   "source": [
    "## 2.5 배열의 차원 변경하기\n",
    "- 배열.reshape([면수,] 행수, 열수) : 배열의 형태(차원)를 바꿔서 새로운 배열을 만듬. (-1 사용 가능, 사용시 자동계산 가능)\n",
    "- 배열.resize([면수,] 행수, 열수) : 배열의 크기와 형태를 직접 수정 (-1 불가), 원본이 수정됨.\n",
    "- 배열.T : 배열을 전치(Transpose) 시킵니다. 즉, 행과 열을 뒤바꾼 배열을 만들어줍니다. T는 속성이라 함수처럼 ()를 붙이지 않습니다.\n",
    "- 배열. transpose() : 배열을 전치(Transpose) 시켜주는 함수(전치행렬로 변환)\n",
    "※ 실행결과가 출력되면 배열이 수정되지 않고, 실행결과가 없으면 배열 수정됨."
   ]
  },
  {
   "cell_type": "code",
   "execution_count": 42,
   "id": "f6df5a5d",
   "metadata": {},
   "outputs": [
    {
     "data": {
      "text/plain": [
       "array([[0.31735396, 0.14863928, 0.99812281],\n",
       "       [0.87905091, 0.8840262 , 0.85004207]])"
      ]
     },
     "execution_count": 42,
     "metadata": {},
     "output_type": "execute_result"
    }
   ],
   "source": [
    "a = np.random.random( (2,3) )\n",
    "a"
   ]
  },
  {
   "cell_type": "code",
   "execution_count": 43,
   "id": "015b76c2",
   "metadata": {},
   "outputs": [
    {
     "data": {
      "text/plain": [
       "array([[ 3.,  1., 10.],\n",
       "       [ 9.,  9.,  9.]])"
      ]
     },
     "execution_count": 43,
     "metadata": {},
     "output_type": "execute_result"
    }
   ],
   "source": [
    "a = np.round(a * 10) #round : 반올림 / floor : 내림 / ceil : 올림\n",
    "a"
   ]
  },
  {
   "cell_type": "code",
   "execution_count": 44,
   "id": "e5eeeff8",
   "metadata": {},
   "outputs": [
    {
     "data": {
      "text/plain": [
       "array([[ 3.,  1.],\n",
       "       [10.,  9.],\n",
       "       [ 9.,  9.]])"
      ]
     },
     "execution_count": 44,
     "metadata": {},
     "output_type": "execute_result"
    }
   ],
   "source": [
    "a=a.reshape(3,2)\n",
    "a"
   ]
  },
  {
   "cell_type": "code",
   "execution_count": 45,
   "id": "c2ce5a29",
   "metadata": {},
   "outputs": [
    {
     "data": {
      "text/plain": [
       "array([[ 3.,  1., 10.],\n",
       "       [ 9.,  9.,  9.]])"
      ]
     },
     "execution_count": 45,
     "metadata": {},
     "output_type": "execute_result"
    }
   ],
   "source": [
    "a.reshape(2, -1) # -1이 주어지면 해당 차원의 크기가 자동 계산"
   ]
  },
  {
   "cell_type": "code",
   "execution_count": 46,
   "id": "0984a93d",
   "metadata": {},
   "outputs": [
    {
     "data": {
      "text/plain": [
       "array([[ 3.],\n",
       "       [ 1.],\n",
       "       [10.],\n",
       "       [ 9.],\n",
       "       [ 9.],\n",
       "       [ 9.]])"
      ]
     },
     "execution_count": 46,
     "metadata": {},
     "output_type": "execute_result"
    }
   ],
   "source": [
    "a = a.reshape(-1, 1)\n",
    "a"
   ]
  },
  {
   "cell_type": "code",
   "execution_count": 47,
   "id": "06af4925",
   "metadata": {},
   "outputs": [],
   "source": [
    "a.resize( (2,3) ) # 결과를 출력하지 않는 함수는 배열을 바꿈 -1불가"
   ]
  },
  {
   "cell_type": "code",
   "execution_count": 48,
   "id": "a2f348ac",
   "metadata": {},
   "outputs": [
    {
     "data": {
      "text/plain": [
       "array([[ 3.,  1., 10.],\n",
       "       [ 9.,  9.,  9.]])"
      ]
     },
     "execution_count": 48,
     "metadata": {},
     "output_type": "execute_result"
    }
   ],
   "source": [
    "a"
   ]
  },
  {
   "cell_type": "code",
   "execution_count": 49,
   "id": "d6372974",
   "metadata": {},
   "outputs": [
    {
     "data": {
      "text/plain": [
       "(array([ 3.,  1., 10.,  9.,  9.,  9.]), array([ 3.,  1., 10.,  9.,  9.,  9.]))"
      ]
     },
     "execution_count": 49,
     "metadata": {},
     "output_type": "execute_result"
    }
   ],
   "source": [
    "a.ravel(), a.flatten()"
   ]
  },
  {
   "cell_type": "code",
   "execution_count": 50,
   "id": "70cac340",
   "metadata": {},
   "outputs": [
    {
     "data": {
      "text/plain": [
       "array([[ 3.,  1., 10.],\n",
       "       [ 9.,  9.,  9.]])"
      ]
     },
     "execution_count": 50,
     "metadata": {},
     "output_type": "execute_result"
    }
   ],
   "source": [
    "a"
   ]
  },
  {
   "cell_type": "code",
   "execution_count": 51,
   "id": "568916f3",
   "metadata": {},
   "outputs": [
    {
     "data": {
      "text/plain": [
       "array([[ 3.,  9.],\n",
       "       [ 1.,  9.],\n",
       "       [10.,  9.]])"
      ]
     },
     "execution_count": 51,
     "metadata": {},
     "output_type": "execute_result"
    }
   ],
   "source": [
    "a.T #전치행렬(행과 열을 뒤바뀐 행렬)"
   ]
  },
  {
   "cell_type": "code",
   "execution_count": 52,
   "id": "f31dc7b1",
   "metadata": {},
   "outputs": [
    {
     "data": {
      "text/plain": [
       "array([[ 3.,  9.],\n",
       "       [ 1.,  9.],\n",
       "       [10.,  9.]])"
      ]
     },
     "execution_count": 52,
     "metadata": {},
     "output_type": "execute_result"
    }
   ],
   "source": [
    "a.transpose() #전치행렬(transpose() = T와 동일한 역할을 수행함.)"
   ]
  },
  {
   "cell_type": "markdown",
   "id": "d35b8baf",
   "metadata": {},
   "source": [
    "## 2.6 배열인쇄\n",
    "- 배열 인쇄는 넘파이 배열 객체(ndarray)를 출력할 때, 보기 좋게 형식화해서 화면에 출력하는 기능을 말합니다.\n",
    "- 넘파이는 배열을 차원에 따라 가로/세로로 정렬해서 출력합니다.\n",
    "- 1차원: 한 줄에 출력\n",
    "- 2차원: 행렬 형태로 행/열 표시\n",
    "- 3차원 이상: 슬라이스 단위로 나눠 출력"
   ]
  },
  {
   "cell_type": "code",
   "execution_count": 56,
   "id": "1fe92203",
   "metadata": {},
   "outputs": [
    {
     "name": "stdout",
     "output_type": "stream",
     "text": [
      "[   0    1    2 ...  998  999 1000]\n"
     ]
    }
   ],
   "source": [
    "# 배열이 너무 클 때 어떻게 돼?\n",
    "# 예시 1 — 길이가 1001개인 1차원 배열\n",
    "# 배열이 커서 출력이 안 될 경우\n",
    "print(np.arange(1001))\n",
    "# ... 으로 생략되어 출력됨\n",
    "\n",
    "# 너무 긴 배열은 전부 출력하지 않음 (자동 요약)"
   ]
  },
  {
   "cell_type": "code",
   "execution_count": 57,
   "id": "28fb05fc",
   "metadata": {},
   "outputs": [
    {
     "data": {
      "text/plain": [
       "array([[   0,    1,    2, ...,   97,   98,   99],\n",
       "       [ 100,  101,  102, ...,  197,  198,  199],\n",
       "       [ 200,  201,  202, ...,  297,  298,  299],\n",
       "       ...,\n",
       "       [9700, 9701, 9702, ..., 9797, 9798, 9799],\n",
       "       [9800, 9801, 9802, ..., 9897, 9898, 9899],\n",
       "       [9900, 9901, 9902, ..., 9997, 9998, 9999]])"
      ]
     },
     "execution_count": 57,
     "metadata": {},
     "output_type": "execute_result"
    }
   ],
   "source": [
    "np.arange(10000).reshape(100, 100)"
   ]
  },
  {
   "cell_type": "code",
   "execution_count": 65,
   "id": "57254e5d",
   "metadata": {},
   "outputs": [],
   "source": [
    "# 배열 출력 옵션 변경(인쇄할 사이즈를 10000, 최대치, 무한대)\n",
    "import sys # 최대치 : sys.maxsize\n",
    "#np.set_printoptions(threshold=10000)\n",
    "#np.set_printoptions(threshold=sys.maxsize)\n",
    "np.set_printoptions(threshold=np.inf)\n",
    "# 커널 재시작시 threshold 값 복귀"
   ]
  },
  {
   "cell_type": "code",
   "execution_count": 67,
   "id": "69a4ac04",
   "metadata": {},
   "outputs": [],
   "source": [
    "#np.arange(10000).reshape(100, 100)"
   ]
  },
  {
   "cell_type": "markdown",
   "id": "b149ed5c",
   "metadata": {},
   "source": [
    "## 2.7 기본연산동작\n",
    "- 산술 연산자(+, -, , / 등) 또는 비교 연산자(==, >, < 등)를 리스트나 배열 같은 자료구조에 적용했을 때의 동작 방식을 말합니다.\n",
    "### 1) 배열"
   ]
  },
  {
   "cell_type": "code",
   "execution_count": 71,
   "id": "76c57086",
   "metadata": {},
   "outputs": [
    {
     "name": "stdout",
     "output_type": "stream",
     "text": [
      "[10 20 30 40] int8\n",
      "[0 1 2 3] int32\n"
     ]
    }
   ],
   "source": [
    "a = np.array([10, 20, 30, 40], dtype=np.int8)\n",
    "b = np.arange(4)\n",
    "print(a, a.dtype)\n",
    "print(b, b.dtype)"
   ]
  },
  {
   "cell_type": "code",
   "execution_count": 76,
   "id": "bea95acb",
   "metadata": {},
   "outputs": [
    {
     "data": {
      "text/plain": [
       "(array([10, 21, 32, 43]), dtype('int32'))"
      ]
     },
     "execution_count": 76,
     "metadata": {},
     "output_type": "execute_result"
    }
   ],
   "source": [
    "c = a + b\n",
    "c, c.dtype"
   ]
  },
  {
   "cell_type": "code",
   "execution_count": 80,
   "id": "b9e8c853",
   "metadata": {},
   "outputs": [
    {
     "data": {
      "text/plain": [
       "array([10, 24, 38, 52], dtype=int8)"
      ]
     },
     "execution_count": 80,
     "metadata": {},
     "output_type": "execute_result"
    }
   ],
   "source": [
    "a += b # a = a+b\n",
    "a"
   ]
  },
  {
   "cell_type": "code",
   "execution_count": 81,
   "id": "0fb7da7f",
   "metadata": {},
   "outputs": [
    {
     "data": {
      "text/plain": [
       "(array([10, 25, 40, 55]), dtype('int32'))"
      ]
     },
     "execution_count": 81,
     "metadata": {},
     "output_type": "execute_result"
    }
   ],
   "source": [
    "a = a + b\n",
    "a, a.dtype"
   ]
  },
  {
   "cell_type": "code",
   "execution_count": 83,
   "id": "cfdda804",
   "metadata": {},
   "outputs": [
    {
     "data": {
      "text/plain": [
       "array([     1,     25,   1600, 166375])"
      ]
     },
     "execution_count": 83,
     "metadata": {},
     "output_type": "execute_result"
    }
   ],
   "source": [
    " a ** b # ** 승연산 a의 b승"
   ]
  },
  {
   "cell_type": "code",
   "execution_count": 84,
   "id": "04bfd024",
   "metadata": {},
   "outputs": [
    {
     "data": {
      "text/plain": [
       "array([ True,  True, False, False])"
      ]
     },
     "execution_count": 84,
     "metadata": {},
     "output_type": "execute_result"
    }
   ],
   "source": [
    "a < 30"
   ]
  },
  {
   "cell_type": "code",
   "execution_count": 85,
   "id": "f49b72e2",
   "metadata": {},
   "outputs": [
    {
     "name": "stdout",
     "output_type": "stream",
     "text": [
      "[10 25]\n",
      "[10 25]\n"
     ]
    }
   ],
   "source": [
    "print(a[ [True, True, False, False] ])\n",
    "print(a[a<30])"
   ]
  },
  {
   "cell_type": "code",
   "execution_count": 87,
   "id": "e59d91e7",
   "metadata": {},
   "outputs": [
    {
     "name": "stdout",
     "output_type": "stream",
     "text": [
      "[10 25 40 55]\n",
      "[0 1 2 3]\n"
     ]
    },
    {
     "data": {
      "text/plain": [
       "array([  0,  25,  80, 165])"
      ]
     },
     "execution_count": 87,
     "metadata": {},
     "output_type": "execute_result"
    }
   ],
   "source": [
    "print(a)\n",
    "print(b)\n",
    "a * b"
   ]
  },
  {
   "cell_type": "markdown",
   "id": "90446420",
   "metadata": {},
   "source": [
    "### 2) 행렬(2차원 배열)의 곱(@, dot함수) \n",
    "cf*(요소별 곱)"
   ]
  },
  {
   "cell_type": "code",
   "execution_count": 90,
   "id": "9161e711",
   "metadata": {},
   "outputs": [
    {
     "data": {
      "text/plain": [
       "(array([[1, 2],\n",
       "        [0, 1]]),\n",
       " array([[2, 0],\n",
       "        [3, 4]]))"
      ]
     },
     "execution_count": 90,
     "metadata": {},
     "output_type": "execute_result"
    }
   ],
   "source": [
    "a = np.array([[1, 2],\n",
    "             [0, 1]])\n",
    "b = np.array([[2, 0],\n",
    "             [3, 4]])\n",
    "a, b"
   ]
  },
  {
   "cell_type": "code",
   "execution_count": 89,
   "id": "eee98e6e",
   "metadata": {},
   "outputs": [
    {
     "data": {
      "text/plain": [
       "array([[2, 0],\n",
       "       [0, 4]])"
      ]
     },
     "execution_count": 89,
     "metadata": {},
     "output_type": "execute_result"
    }
   ],
   "source": [
    "a * b"
   ]
  },
  {
   "cell_type": "code",
   "execution_count": 91,
   "id": "8959986c",
   "metadata": {},
   "outputs": [
    {
     "data": {
      "text/plain": [
       "array([[8, 8],\n",
       "       [3, 4]])"
      ]
     },
     "execution_count": 91,
     "metadata": {},
     "output_type": "execute_result"
    }
   ],
   "source": [
    "a @ b"
   ]
  },
  {
   "cell_type": "code",
   "execution_count": 92,
   "id": "ec3fc86c",
   "metadata": {},
   "outputs": [],
   "source": [
    "# 행렬 : 자를 직사각형 모양으로 배열한 것입니다. 즉, 2차원 배열 그 자체\n",
    "# 예시: 2행 3열짜리 행렬\n",
    "A = np.array([[1, 2, 3],\n",
    "              [4, 5, 6]])\n",
    "# 행(row): 가로 방향 (예: 위에서 [1, 2, 3])\n",
    "# 열(column): 세로 방향"
   ]
  },
  {
   "cell_type": "code",
   "execution_count": 94,
   "id": "fb193ccb",
   "metadata": {},
   "outputs": [
    {
     "name": "stdout",
     "output_type": "stream",
     "text": [
      "[[19 22]\n",
      " [43 50]]\n"
     ]
    }
   ],
   "source": [
    "# 행렬 곱\n",
    "import numpy as np # 넘파이 모듈을 np라는 이름으로 불러오기\n",
    "\n",
    "A = np.array([[1, 2],\n",
    "              [3, 4]])\n",
    "\n",
    "B = np.array([[5, 6],\n",
    "              [7, 8]])\n",
    "\n",
    "C = np.dot(A, B)  # 또는 A @ B *Python 3.5 이상에서는 @ 연산자도 사용 가능\n",
    "#np.dot 두 배열(벡터 또는 행렬)**의 내적(dot product) 또는 **행렬 곱(matrix multiplication)**을 계산하는 함수\n",
    "#**A 행렬의 행(row)**과 **B 행렬의 열(column)**을 서로 짝지어서 곱한 뒤 모두 더한 값이 결과 행렬의 원소가 됩니다.\n",
    "print(C)"
   ]
  },
  {
   "cell_type": "code",
   "execution_count": 95,
   "id": "438ad4ab",
   "metadata": {},
   "outputs": [
    {
     "name": "stdout",
     "output_type": "stream",
     "text": [
      "32\n"
     ]
    }
   ],
   "source": [
    "#np.dot함수 사용 예시 추가\n",
    "import numpy as np\n",
    "\n",
    "a = np.array([1, 2, 3])\n",
    "b = np.array([4, 5, 6])\n",
    "\n",
    "print(np.dot(a, b))  # 출력: 1×4 + 2×5 + 3×6 = 32"
   ]
  },
  {
   "cell_type": "code",
   "execution_count": 96,
   "id": "5554c6d4",
   "metadata": {},
   "outputs": [],
   "source": [
    "#np.dot함수의 작동방식 설명\n",
    "A = np.array([[1, 2],     # A: 2행 2열\n",
    "              [3, 4]])\n",
    "\n",
    "B = np.array([[5, 6],     # B: 2행 2열\n",
    "              [7, 8]])\n",
    "\n",
    "C = np.dot(A, B)\n",
    "#C[0, 0] 계산 방법\n",
    "# A의 0행: [1, 2]\n",
    "# B의 0열: [5, 7]\n",
    "#1×5 + 2×7 = 5 + 14 = 19\n",
    "#C[0, 0] = 19\n",
    "\n",
    "#C[0, 1] 계산 방법\n",
    "#A의 0행: [1, 2]\n",
    "#B의 1열: [6, 8]\n",
    "#1×6 + 2×8 = 6 + 16 = 22\n",
    "#C[0, 1] = 22\n",
    "\n",
    "#이런식으로 연산하여 곱셈을 통해 생성된 숫자들을 더함.\n",
    "#     B\n",
    "#     ↓\n",
    "#     5  6\n",
    "#A →  7  8\n",
    "\n",
    "#A[0,:] × B[:,0] → C[0,0]\n",
    "#A[0,:] × B[:,1] → C[0,1]\n",
    "#A[1,:] × B[:,0] → C[1,0]\n",
    "#A[1,:] × B[:,1] → C[1,1]"
   ]
  },
  {
   "cell_type": "code",
   "execution_count": null,
   "id": "616e81e6",
   "metadata": {},
   "outputs": [],
   "source": []
  },
  {
   "cell_type": "markdown",
   "id": "f39c95ae",
   "metadata": {},
   "source": [
    "### 3) 복합 대입연산자 사용\n",
    "- 배열에서는 a=a+b와 a+=b 다소 다르게 작동"
   ]
  },
  {
   "cell_type": "code",
   "execution_count": 97,
   "id": "09e671ae",
   "metadata": {},
   "outputs": [
    {
     "data": {
      "text/plain": [
       "array([[1, 1, 1],\n",
       "       [1, 1, 1]])"
      ]
     },
     "execution_count": 97,
     "metadata": {},
     "output_type": "execute_result"
    }
   ],
   "source": [
    "a=np.ones( (2,3), dtype=int ) # 2행 3열 int32배열\n",
    "a"
   ]
  },
  {
   "cell_type": "code",
   "execution_count": 98,
   "id": "dfb2e8dd",
   "metadata": {},
   "outputs": [
    {
     "data": {
      "text/plain": [
       "array([[0.09781219, 0.14779588, 0.24485052],\n",
       "       [0.27543825, 0.87526125, 0.1362464 ]])"
      ]
     },
     "execution_count": 98,
     "metadata": {},
     "output_type": "execute_result"
    }
   ],
   "source": [
    "b = np.random.random( (2,3) ) # 2행 3열 float62 배열\n",
    "b"
   ]
  },
  {
   "cell_type": "code",
   "execution_count": 100,
   "id": "f0b43751",
   "metadata": {},
   "outputs": [],
   "source": [
    "a += b # a=b를 b에 넣는다."
   ]
  },
  {
   "cell_type": "code",
   "execution_count": 99,
   "id": "a0b5ae01",
   "metadata": {},
   "outputs": [
    {
     "data": {
      "text/plain": [
       "array([[1.09781219, 1.14779588, 1.24485052],\n",
       "       [1.27543825, 1.87526125, 1.1362464 ]])"
      ]
     },
     "execution_count": 99,
     "metadata": {},
     "output_type": "execute_result"
    }
   ],
   "source": [
    "a = a+b #a+b를 새로운 변수 a에 할당\n",
    "a"
   ]
  },
  {
   "cell_type": "markdown",
   "id": "398b946a",
   "metadata": {},
   "source": [
    "### 4) 배열요소별 집계\n",
    "- sum, min, max, mean, var(분산), std(표준편차)"
   ]
  },
  {
   "cell_type": "code",
   "execution_count": 101,
   "id": "3297c546",
   "metadata": {},
   "outputs": [
    {
     "data": {
      "text/plain": [
       "array([[2, 2, 2, 3],\n",
       "       [4, 3, 2, 1]])"
      ]
     },
     "execution_count": 101,
     "metadata": {},
     "output_type": "execute_result"
    }
   ],
   "source": [
    "a = np.array([[2, 2, 2, 3],\n",
    "             [4, 3, 2, 1]])\n",
    "a"
   ]
  },
  {
   "cell_type": "code",
   "execution_count": 102,
   "id": "dd0601e9",
   "metadata": {},
   "outputs": [
    {
     "name": "stdout",
     "output_type": "stream",
     "text": [
      "전체합 : 19 19\n"
     ]
    }
   ],
   "source": [
    "# 배열요소 a를 전체 더함\n",
    "print('전체합 :', np.sum(a), a.sum())"
   ]
  },
  {
   "cell_type": "code",
   "execution_count": 103,
   "id": "4cb0e8ca",
   "metadata": {},
   "outputs": [
    {
     "name": "stdout",
     "output_type": "stream",
     "text": [
      "전체합 : 19 19\n",
      "전체최소 : 1 1\n",
      "전체최대 : 4 4\n",
      "전체평균 : 2.375 2.375\n",
      "전체분산 : 0.734375 0.734375\n",
      "전체표준편차 : 0.8569568250501305 0.8569568250501305\n"
     ]
    }
   ],
   "source": [
    "print('전체합 :', np.sum(a), a.sum())\n",
    "print('전체최소 :', np.min(a), a.min())\n",
    "print('전체최대 :', np.max(a), a.max())\n",
    "print('전체평균 :', np.mean(a), a.mean())\n",
    "print('전체분산 :', np.var(a), a.var())\n",
    "print('전체표준편차 :', np.std(a), a.std())"
   ]
  },
  {
   "cell_type": "markdown",
   "id": "daf052fb",
   "metadata": {},
   "source": [
    "### 5) 배열 축별 집계\n",
    "- sum, min, max, mean, var(분산), std(표준편차), argmax(최대값의 인덱스/제일 많이 사용됨.)"
   ]
  },
  {
   "cell_type": "code",
   "execution_count": 104,
   "id": "f0efac8b",
   "metadata": {},
   "outputs": [
    {
     "data": {
      "text/plain": [
       "array([[2, 2, 2, 3],\n",
       "       [4, 3, 2, 1]])"
      ]
     },
     "execution_count": 104,
     "metadata": {},
     "output_type": "execute_result"
    }
   ],
   "source": [
    "a"
   ]
  },
  {
   "cell_type": "code",
   "execution_count": 107,
   "id": "1c161ccd",
   "metadata": {},
   "outputs": [
    {
     "name": "stdout",
     "output_type": "stream",
     "text": [
      "a의 열별 합 : [6 5 4 4] [6 5 4 4]\n",
      "a의 행별 합 : [ 9 10] [ 9 10]\n"
     ]
    }
   ],
   "source": [
    "#axis : 넘파이 배열의 연산방향을 지정하는 값 axis=0은 열별 합을 구하는 함수, 1은 행별 합을 구하는 함수\n",
    "#axis=0 (세로 ↓) : 1축을 고정으로 0축(행)들의 합\n",
    "#[[2, 2, 2, 3],      → 열 방향으로 계산\n",
    "# [4, 3, 2, 1]]\n",
    "print('a의 열별 합 :', a.sum(axis=0), np.sum(a, axis=0))\n",
    "\n",
    "#axis=1 (가로 →)\n",
    "#[[2, 2, 2, 3],      → 행 방향으로 계산\n",
    "# [4, 3, 2, 1]]\n",
    "\n",
    "print('a의 행별 합 :', a.sum(axis=1), np.sum(a, axis=1))"
   ]
  },
  {
   "cell_type": "code",
   "execution_count": 111,
   "id": "2f2c7987",
   "metadata": {},
   "outputs": [
    {
     "name": "stdout",
     "output_type": "stream",
     "text": [
      "a의 행별 최대값 위치: [3 0] [3 0]\n"
     ]
    }
   ],
   "source": [
    "# argmax : 지정한 축(axis)을 따라 배열에서 **최댓값의 \"인덱스(위치)\"**를 반환합니다.\n",
    "#값 자체가 아니라 위치(index)를 반환\n",
    "#a.argmax(axis=1)\t각 행에서 최댓값의 열 인덱스\n",
    "#a.argmax(axis=0)\t각 열에서 최댓값의 행 인덱스\n",
    "#axis로 **\"어느 방향으로 비교할지\"**를 정합니다.\n",
    "print('a의 행별 최대값 위치:', a.argmax(axis=1), np.argmax(a, axis=1))"
   ]
  },
  {
   "cell_type": "code",
   "execution_count": 116,
   "id": "42d6c3d2",
   "metadata": {},
   "outputs": [
    {
     "data": {
      "text/plain": [
       "(array([[[ 0,  1,  2,  3],\n",
       "         [ 4,  5,  6,  7],\n",
       "         [ 8,  9, 10, 11]],\n",
       " \n",
       "        [[12, 13, 14, 15],\n",
       "         [16, 17, 18, 19],\n",
       "         [20, 21, 22, 23]]]),\n",
       " 3)"
      ]
     },
     "execution_count": 116,
     "metadata": {},
     "output_type": "execute_result"
    }
   ],
   "source": [
    "#3차원 배열의 축별 집계\n",
    "b = np.arange(24).reshape(2,3,4) #2면 3행 4열\n",
    "b, b.ndim"
   ]
  },
  {
   "cell_type": "code",
   "execution_count": 117,
   "id": "5d068f3d",
   "metadata": {},
   "outputs": [
    {
     "data": {
      "text/plain": [
       "(array([[12, 14, 16, 18],\n",
       "        [20, 22, 24, 26],\n",
       "        [28, 30, 32, 34]]),\n",
       " array([[12, 14, 16, 18],\n",
       "        [20, 22, 24, 26],\n",
       "        [28, 30, 32, 34]]))"
      ]
     },
     "execution_count": 117,
     "metadata": {},
     "output_type": "execute_result"
    }
   ],
   "source": [
    "# axis=0 : 1축과 2축을 고정하고 0축(0면, 1면)들의 합\n",
    "b.sum(axis=0), np.sum(b, axis=0)"
   ]
  },
  {
   "cell_type": "code",
   "execution_count": 118,
   "id": "53ef2402",
   "metadata": {},
   "outputs": [
    {
     "data": {
      "text/plain": [
       "array([[12, 15, 18, 21],\n",
       "       [48, 51, 54, 57]])"
      ]
     },
     "execution_count": 118,
     "metadata": {},
     "output_type": "execute_result"
    }
   ],
   "source": [
    "#axis=1 : 0축,2축 고정하고 1축(0행, 1행, 2행)들의 합\n",
    "b.sum(axis=1)"
   ]
  },
  {
   "cell_type": "code",
   "execution_count": 119,
   "id": "54a18c81",
   "metadata": {},
   "outputs": [
    {
     "data": {
      "text/plain": [
       "array([[ 6, 22, 38],\n",
       "       [54, 70, 86]])"
      ]
     },
     "execution_count": 119,
     "metadata": {},
     "output_type": "execute_result"
    }
   ],
   "source": [
    "b.sum(axis=2)"
   ]
  },
  {
   "cell_type": "markdown",
   "id": "9b92a07f",
   "metadata": {},
   "source": [
    "## 그외 요소별 계산하는 범용함수들\n",
    "- 메모리나 시간을 효율적으로 사용할 수 있음.\n",
    "- np.add(A, B, C) : C=np.add(A,B); C=A+B\n",
    "- np.subtract(A, B, C) : C=np.subtract(A,B); C=A+B\n",
    "- np.multiply(A, B, C) : C=np.multiply(A,B); C=A+B\n",
    "- np.sqrt(배열) ; 요소별 제곱근 cf.math.sqrt(스칼라값)"
   ]
  },
  {
   "cell_type": "code",
   "execution_count": 122,
   "id": "0774924b",
   "metadata": {},
   "outputs": [
    {
     "data": {
      "text/plain": [
       "array([4, 6])"
      ]
     },
     "execution_count": 122,
     "metadata": {},
     "output_type": "execute_result"
    }
   ],
   "source": [
    "a = np.array([1, 2])\n",
    "b = np.array([3, 4])\n",
    "c = a + b\n",
    "c"
   ]
  },
  {
   "cell_type": "code",
   "execution_count": 123,
   "id": "a52b99dd",
   "metadata": {},
   "outputs": [
    {
     "data": {
      "text/plain": [
       "array([4, 6])"
      ]
     },
     "execution_count": 123,
     "metadata": {},
     "output_type": "execute_result"
    }
   ],
   "source": [
    "np.add(a, b, c)\n",
    "c"
   ]
  },
  {
   "cell_type": "code",
   "execution_count": 124,
   "id": "20388369",
   "metadata": {},
   "outputs": [
    {
     "data": {
      "text/plain": [
       "array([4, 6])"
      ]
     },
     "execution_count": 124,
     "metadata": {},
     "output_type": "execute_result"
    }
   ],
   "source": [
    "c = np.add(a, b)\n",
    "c"
   ]
  },
  {
   "cell_type": "code",
   "execution_count": 126,
   "id": "72f096d2",
   "metadata": {},
   "outputs": [
    {
     "data": {
      "text/plain": [
       "(array([1, 2]), array([1.        , 1.41421356]), 2.0)"
      ]
     },
     "execution_count": 126,
     "metadata": {},
     "output_type": "execute_result"
    }
   ],
   "source": [
    "#np.sqrt(배열 또는 스칼라값) math.sqrt(스칼라)\n",
    "a, np.sqrt(a), np.sqrt(4)"
   ]
  },
  {
   "cell_type": "code",
   "execution_count": 127,
   "id": "9dce37f6",
   "metadata": {},
   "outputs": [
    {
     "ename": "TypeError",
     "evalue": "only size-1 arrays can be converted to Python scalars",
     "output_type": "error",
     "traceback": [
      "\u001b[1;31m---------------------------------------------------------------------------\u001b[0m",
      "\u001b[1;31mTypeError\u001b[0m                                 Traceback (most recent call last)",
      "Cell \u001b[1;32mIn[127], line 3\u001b[0m\n\u001b[0;32m      1\u001b[0m \u001b[38;5;28;01mimport\u001b[39;00m \u001b[38;5;21;01mmath\u001b[39;00m\n\u001b[0;32m      2\u001b[0m math\u001b[38;5;241m.\u001b[39msqrt(\u001b[38;5;241m4\u001b[39m)\n\u001b[1;32m----> 3\u001b[0m \u001b[43mmath\u001b[49m\u001b[38;5;241;43m.\u001b[39;49m\u001b[43msqrt\u001b[49m\u001b[43m(\u001b[49m\u001b[43ma\u001b[49m\u001b[43m)\u001b[49m\n",
      "\u001b[1;31mTypeError\u001b[0m: only size-1 arrays can be converted to Python scalars"
     ]
    }
   ],
   "source": [
    "import math\n",
    "math.sqrt(4)\n",
    "math.sqrt(a)"
   ]
  },
  {
   "cell_type": "markdown",
   "id": "40bd11e4",
   "metadata": {},
   "source": [
    "## 2.9 브로드 케이스팅\n",
    "- 서로 다른 크기의 배열 간 연산을 수행할 수 있도록 해주는 강력한 기능\n",
    "- shape(모양)이 다른 두 배열 간 연산에서, 넘파이가 자동으로 작은 배열을 큰 배열에 맞춰서 복제(확장)하여 연산을 가능하게 하는 기능"
   ]
  },
  {
   "cell_type": "code",
   "execution_count": 130,
   "id": "df43b1b4",
   "metadata": {},
   "outputs": [
    {
     "name": "stdout",
     "output_type": "stream",
     "text": [
      "[11 12 13]\n",
      "[11 12 13]\n"
     ]
    }
   ],
   "source": [
    "# 1차원 배열\n",
    "a = np.array([1,2,3])\n",
    "b = 10\n",
    "print(a + b)\n",
    "print(np.add(a,b))"
   ]
  },
  {
   "cell_type": "code",
   "execution_count": 132,
   "id": "38be101c",
   "metadata": {},
   "outputs": [
    {
     "name": "stdout",
     "output_type": "stream",
     "text": [
      "[11 12 13]\n",
      "[11 12 13]\n"
     ]
    }
   ],
   "source": [
    "# 1차원 배열의 브로드케스팅\n",
    "a = np.array([1,2,3])\n",
    "b = np.array([10])\n",
    "print(a + b)\n",
    "print(np.add(a,b))"
   ]
  },
  {
   "cell_type": "code",
   "execution_count": 137,
   "id": "2287ca38",
   "metadata": {},
   "outputs": [
    {
     "ename": "TypeError",
     "evalue": "array() takes from 1 to 2 positional arguments but 4 were given",
     "output_type": "error",
     "traceback": [
      "\u001b[1;31m---------------------------------------------------------------------------\u001b[0m",
      "\u001b[1;31mTypeError\u001b[0m                                 Traceback (most recent call last)",
      "Cell \u001b[1;32mIn[137], line 6\u001b[0m\n\u001b[0;32m      1\u001b[0m \u001b[38;5;66;03m# 2차원 배열의 브로드케스팅\u001b[39;00m\n\u001b[0;32m      2\u001b[0m a \u001b[38;5;241m=\u001b[39m np\u001b[38;5;241m.\u001b[39marray([[\u001b[38;5;241m0\u001b[39m,\u001b[38;5;241m0\u001b[39m,\u001b[38;5;241m0\u001b[39m],\n\u001b[0;32m      3\u001b[0m               [\u001b[38;5;241m10\u001b[39m,\u001b[38;5;241m10\u001b[39m,\u001b[38;5;241m10\u001b[39m],\n\u001b[0;32m      4\u001b[0m               [\u001b[38;5;241m20\u001b[39m,\u001b[38;5;241m20\u001b[39m,\u001b[38;5;241m20\u001b[39m],\n\u001b[0;32m      5\u001b[0m               [\u001b[38;5;241m30\u001b[39m,\u001b[38;5;241m30\u001b[39m,\u001b[38;5;241m30\u001b[39m]]) \u001b[38;5;66;03m# 4행 3열\u001b[39;00m\n\u001b[1;32m----> 6\u001b[0m b \u001b[38;5;241m=\u001b[39m \u001b[43mnp\u001b[49m\u001b[38;5;241;43m.\u001b[39;49m\u001b[43marray\u001b[49m\u001b[43m(\u001b[49m\u001b[43m[\u001b[49m\u001b[38;5;241;43m1\u001b[39;49m\u001b[43m]\u001b[49m\u001b[43m,\u001b[49m\n\u001b[0;32m      7\u001b[0m \u001b[43m             \u001b[49m\u001b[43m[\u001b[49m\u001b[38;5;241;43m2\u001b[39;49m\u001b[43m]\u001b[49m\u001b[43m,\u001b[49m\n\u001b[0;32m      8\u001b[0m \u001b[43m             \u001b[49m\u001b[43m[\u001b[49m\u001b[38;5;241;43m3\u001b[39;49m\u001b[43m]\u001b[49m\u001b[43m,\u001b[49m\n\u001b[0;32m      9\u001b[0m \u001b[43m             \u001b[49m\u001b[43m[\u001b[49m\u001b[38;5;241;43m4\u001b[39;49m\u001b[43m]\u001b[49m\u001b[43m)\u001b[49m \u001b[38;5;66;03m#4행 1열, 다만 이렇게 쓰면 거추장 스럽다.\u001b[39;00m\n\u001b[0;32m     10\u001b[0m a \u001b[38;5;241m+\u001b[39m b\n",
      "\u001b[1;31mTypeError\u001b[0m: array() takes from 1 to 2 positional arguments but 4 were given"
     ]
    }
   ],
   "source": [
    "# 2차원 배열의 브로드케스팅\n",
    "a = np.array([[0,0,0],\n",
    "              [10,10,10],\n",
    "              [20,20,20],\n",
    "              [30,30,30]]) # 4행 3열\n",
    "#b = np.array([1],\n",
    "#             [2],\n",
    "#             [3],\n",
    "#             [4]) #4행 1열, 다만 이렇게 쓰면 거추장 스럽다.\n",
    "b = np.array([1, 2, 3,4]) #4열에서 축증가를 통해 4행 1열로 바꾸려고 한다.\n",
    "\n",
    "a + b"
   ]
  },
  {
   "cell_type": "code",
   "execution_count": 147,
   "id": "fc70496a",
   "metadata": {},
   "outputs": [
    {
     "data": {
      "text/plain": [
       "array([[1],\n",
       "       [2],\n",
       "       [3],\n",
       "       [4]])"
      ]
     },
     "execution_count": 147,
     "metadata": {},
     "output_type": "execute_result"
    }
   ],
   "source": [
    "b = np.array([1, 2, 3,4]) #4열에서 축증가를 통해 4행 1열로 바꾸려고 한다.\n",
    "# 방법 1 : b_1 = b.reshape(4,1)\n",
    "# 방법 2(많이쓰임) : \n",
    "b_1 = b[:, np.newaxis]\n",
    "# 방법 3 : b_1 = np.expand_dims(b, axis=1)\n",
    "b_1"
   ]
  },
  {
   "cell_type": "code",
   "execution_count": 148,
   "id": "100292d3",
   "metadata": {},
   "outputs": [
    {
     "data": {
      "text/plain": [
       "array([[ 1,  1,  1],\n",
       "       [12, 12, 12],\n",
       "       [23, 23, 23],\n",
       "       [34, 34, 34]])"
      ]
     },
     "execution_count": 148,
     "metadata": {},
     "output_type": "execute_result"
    }
   ],
   "source": [
    "a + b[:, np.newaxis]"
   ]
  },
  {
   "cell_type": "code",
   "execution_count": 151,
   "id": "8af9f3c6",
   "metadata": {},
   "outputs": [
    {
     "data": {
      "text/plain": [
       "array([[12, 13, 14, 15],\n",
       "       [22, 23, 24, 25],\n",
       "       [32, 33, 34, 35],\n",
       "       [42, 43, 44, 45]])"
      ]
     },
     "execution_count": 151,
     "metadata": {},
     "output_type": "execute_result"
    }
   ],
   "source": [
    "# a와 b의 모든 쌍의 조합에 대해 계산하고 싶을 때\n",
    "a = np.array([2, 3, 4, 5])\n",
    "\n",
    "b = np.array([10,20,30,40])\n",
    "a+b[:, np.newaxis]\n",
    "# np.newaxis는 배열의 차원을 1개 늘리는 문법\n",
    "#b[:, np.newaxis]\tb를 2차원 (세로방향)으로 변형\n",
    "#a + b[:, np.newaxis]\tb의 각 값에 a 전체를 더함\n",
    "#결과\t4×4 형태의 모든 조합 합\n",
    "\n",
    "#   | +2 | +3 | +4 | +5\n",
    "#10 | 12 | 13 | 14 | 15\n",
    "#20 | 22 | 23 | 24 | 25\n",
    "#30 | 32 | 33 | 34 | 35\n",
    "#40 | 42 | 43 | 44 | 45"
   ]
  },
  {
   "cell_type": "code",
   "execution_count": 152,
   "id": "c7d8e72f",
   "metadata": {},
   "outputs": [
    {
     "data": {
      "text/plain": [
       "array([[12, 22, 32, 42],\n",
       "       [13, 23, 33, 43],\n",
       "       [14, 24, 34, 44],\n",
       "       [15, 25, 35, 45]])"
      ]
     },
     "execution_count": 152,
     "metadata": {},
     "output_type": "execute_result"
    }
   ],
   "source": [
    "ax, bx = np.ix_(a,b)\n",
    "ax+bx"
   ]
  },
  {
   "cell_type": "markdown",
   "id": "5d1b5d2d",
   "metadata": {},
   "source": [
    "# 3절. 배열 합치기/분리하기\n",
    "- 슬라이싱\n",
    "- 두배열을 합치는 함수\n",
    "- r_, c_\n",
    "- 두 배열을 분리하는 함수\n",
    "## 3.1 인덱싱과 슬라이싱\n",
    "- 인덱싱에는 없는 인덱스 사용시 에러발생\n",
    "- 슬라이싱에는 없는 인덱스 사용시 끝까지\n",
    "- 음수 인덱스는 끝에서부터"
   ]
  },
  {
   "cell_type": "code",
   "execution_count": 153,
   "id": "fec25b2a",
   "metadata": {},
   "outputs": [
    {
     "data": {
      "text/plain": [
       "array([ 0,  3,  6,  9, 12, 15, 18, 21, 24, 27])"
      ]
     },
     "execution_count": 153,
     "metadata": {},
     "output_type": "execute_result"
    }
   ],
   "source": [
    "a = np.arange(10)*3\n",
    "a"
   ]
  },
  {
   "cell_type": "code",
   "execution_count": 154,
   "id": "1c952655",
   "metadata": {},
   "outputs": [
    {
     "ename": "IndexError",
     "evalue": "index 20 is out of bounds for axis 0 with size 10",
     "output_type": "error",
     "traceback": [
      "\u001b[1;31m---------------------------------------------------------------------------\u001b[0m",
      "\u001b[1;31mIndexError\u001b[0m                                Traceback (most recent call last)",
      "Cell \u001b[1;32mIn[154], line 1\u001b[0m\n\u001b[1;32m----> 1\u001b[0m \u001b[43ma\u001b[49m\u001b[43m[\u001b[49m\u001b[38;5;241;43m20\u001b[39;49m\u001b[43m]\u001b[49m\n",
      "\u001b[1;31mIndexError\u001b[0m: index 20 is out of bounds for axis 0 with size 10"
     ]
    }
   ],
   "source": [
    "a[20]"
   ]
  },
  {
   "cell_type": "code",
   "execution_count": 155,
   "id": "251f10a0",
   "metadata": {},
   "outputs": [
    {
     "data": {
      "text/plain": [
       "array([[ 0,  1,  2,  3],\n",
       "       [ 4,  5,  6,  7],\n",
       "       [ 8,  9, 10, 11],\n",
       "       [12, 13, 14, 15],\n",
       "       [16, 17, 18, 19]])"
      ]
     },
     "execution_count": 155,
     "metadata": {},
     "output_type": "execute_result"
    }
   ],
   "source": [
    "a = np.arange(20).reshape(5, 4)\n",
    "a"
   ]
  },
  {
   "cell_type": "code",
   "execution_count": 156,
   "id": "825425f1",
   "metadata": {},
   "outputs": [
    {
     "data": {
      "text/plain": [
       "array([[ 5,  6],\n",
       "       [ 9, 10]])"
      ]
     },
     "execution_count": 156,
     "metadata": {},
     "output_type": "execute_result"
    }
   ],
   "source": [
    "a[1:3, 1:3]"
   ]
  },
  {
   "cell_type": "code",
   "execution_count": 159,
   "id": "4df4da9d",
   "metadata": {},
   "outputs": [
    {
     "data": {
      "text/plain": [
       "(array([[ 0,  1,  2],\n",
       "        [ 4,  5,  6],\n",
       "        [ 8,  9, 10],\n",
       "        [12, 13, 14],\n",
       "        [16, 17, 18]]),\n",
       " array([[ 0,  1,  2],\n",
       "        [ 4,  5,  6],\n",
       "        [ 8,  9, 10],\n",
       "        [12, 13, 14],\n",
       "        [16, 17, 18]]))"
      ]
     },
     "execution_count": 159,
     "metadata": {},
     "output_type": "execute_result"
    }
   ],
   "source": [
    "# 모든 행의 마지막 열 앞까지 (모든 행=모든 0축의 경우 : 나...을 반드시 명시)\n",
    "a[:, 0:-1] , a[..., :-1]"
   ]
  },
  {
   "cell_type": "code",
   "execution_count": 162,
   "id": "5019b878",
   "metadata": {},
   "outputs": [
    {
     "data": {
      "text/plain": [
       "(array([[0, 1, 2, 3],\n",
       "        [4, 5, 6, 7]]),\n",
       " array([[0, 1, 2, 3],\n",
       "        [4, 5, 6, 7]]),\n",
       " array([[0, 1, 2, 3],\n",
       "        [4, 5, 6, 7]]))"
      ]
     },
     "execution_count": 162,
     "metadata": {},
     "output_type": "execute_result"
    }
   ],
   "source": [
    "# 0~1행까지 모든열 추출(모든 열(1축)의 경우 생략 가능 :,... 사용 가능)\n",
    "a[0:2, :], a[:2,...], a[:2]"
   ]
  },
  {
   "cell_type": "code",
   "execution_count": 163,
   "id": "670c1dfc",
   "metadata": {},
   "outputs": [
    {
     "data": {
      "text/plain": [
       "array([[ 0,  1,  2,  3],\n",
       "       [ 4,  5,  6,  7],\n",
       "       [ 8,  9, 10, 11],\n",
       "       [12, 13, 14, 15],\n",
       "       [16, 17, 18, 19]])"
      ]
     },
     "execution_count": 163,
     "metadata": {},
     "output_type": "execute_result"
    }
   ],
   "source": [
    "a"
   ]
  },
  {
   "cell_type": "code",
   "execution_count": 167,
   "id": "1029248f",
   "metadata": {},
   "outputs": [
    {
     "data": {
      "text/plain": [
       "(array([[16],\n",
       "        [17],\n",
       "        [18],\n",
       "        [19]]),\n",
       " array([[16],\n",
       "        [17],\n",
       "        [18],\n",
       "        [19]]),\n",
       " array([[16],\n",
       "        [17],\n",
       "        [18],\n",
       "        [19]]))"
      ]
     },
     "execution_count": 167,
     "metadata": {},
     "output_type": "execute_result"
    }
   ],
   "source": [
    "# 마지막행의 데이터를 2차원으로 변경 -> 4행 1열\n",
    "# 자주사용하므로 잘 기억할것!\n",
    "# [16,17,18,19] 같은 1차원 배열을 (4, 1) 형태로 바꾸는 방법은\n",
    "# [:, np.newaxis], .reshape(4, -1), np.expand_dims(..., axis=1) 이 있다.\n",
    "\n",
    "a[-1][:, np.newaxis], a[-1].reshape(4, -1), np.expand_dims(a[-1], axis=1)"
   ]
  },
  {
   "cell_type": "markdown",
   "id": "460c5d0d",
   "metadata": {},
   "source": [
    "## 3.2 두 배열을 합치는 함수\n",
    "- **vstack(tup) : 아래로 추가하는 방식으로 수직으로(행으로)쌓는것. 반드시 내부에는 튜플이 들어가야함.**\n",
    "- **hstack(tup) : 옆으로 추가하는 방식으로 수평으로(열로) 쌓는것.  반드시 내부에는 튜플이 들어가야함.**\n",
    "- **dstack(tup) : 마지막 출(열)을 쌓아 함침(차원증가)(depth stack)**"
   ]
  },
  {
   "cell_type": "code",
   "execution_count": 170,
   "id": "491b2907",
   "metadata": {},
   "outputs": [
    {
     "name": "stdout",
     "output_type": "stream",
     "text": [
      "vstack 아래로 합치기\n",
      "[[1 2 3]\n",
      " [4 5 6]]\n",
      "(2, 3)\n"
     ]
    }
   ],
   "source": [
    "# vstack 예시\n",
    "a = np.array([1,2,3])\n",
    "b = np.array([4,5,6])\n",
    "v = np.vstack( (a,b) )\n",
    "print('vstack 아래로 합치기', v, v.shape, sep='\\n')"
   ]
  },
  {
   "cell_type": "code",
   "execution_count": 171,
   "id": "0d439491",
   "metadata": {},
   "outputs": [
    {
     "name": "stdout",
     "output_type": "stream",
     "text": [
      "hstack 옆으로 합치기\n",
      "[1 2 3 4 5 6]\n",
      "(6,)\n"
     ]
    }
   ],
   "source": [
    "# hstack 예시\n",
    "h = np.hstack( (a,b) )\n",
    "print('hstack 옆으로 합치기', h, h.shape, sep='\\n')"
   ]
  },
  {
   "cell_type": "code",
   "execution_count": 172,
   "id": "85cf4753",
   "metadata": {},
   "outputs": [
    {
     "name": "stdout",
     "output_type": "stream",
     "text": [
      "dstack 축을 depth로 합치기\n",
      "[[[1 4]\n",
      "  [2 5]\n",
      "  [3 6]]]\n",
      "(1, 3, 2)\n"
     ]
    }
   ],
   "source": [
    "#dstack예시\n",
    "d=np.dstack( (a,b) )\n",
    "print('dstack 축을 depth로 합치기', d, d.shape, sep='\\n')"
   ]
  },
  {
   "cell_type": "code",
   "execution_count": 176,
   "id": "7961c19f",
   "metadata": {},
   "outputs": [
    {
     "data": {
      "text/plain": [
       "(array([[ 0,  1,  2,  3],\n",
       "        [ 4,  5,  6,  7],\n",
       "        [ 8,  9, 10, 11]]),\n",
       " array([[12, 13, 14, 15],\n",
       "        [16, 17, 18, 19],\n",
       "        [20, 21, 22, 23]]))"
      ]
     },
     "execution_count": 176,
     "metadata": {},
     "output_type": "execute_result"
    }
   ],
   "source": [
    "c = np.arange(24).reshape(2, 3, 4)\n",
    "a, b = c[0], c[1]\n",
    "a, b"
   ]
  },
  {
   "cell_type": "code",
   "execution_count": 177,
   "id": "ac139969",
   "metadata": {},
   "outputs": [
    {
     "name": "stdout",
     "output_type": "stream",
     "text": [
      "vstack 아래로 합치기\n",
      "[[ 0  1  2  3]\n",
      " [ 4  5  6  7]\n",
      " [ 8  9 10 11]\n",
      " [12 13 14 15]\n",
      " [16 17 18 19]\n",
      " [20 21 22 23]]\n",
      "(6, 4)\n",
      "hstack 옆으로 합치기\n",
      "[[ 0  1  2  3 12 13 14 15]\n",
      " [ 4  5  6  7 16 17 18 19]\n",
      " [ 8  9 10 11 20 21 22 23]]\n",
      "(3, 8)\n",
      "dstack 축을 depth로 합치기\n",
      "[[[ 0 12]\n",
      "  [ 1 13]\n",
      "  [ 2 14]\n",
      "  [ 3 15]]\n",
      "\n",
      " [[ 4 16]\n",
      "  [ 5 17]\n",
      "  [ 6 18]\n",
      "  [ 7 19]]\n",
      "\n",
      " [[ 8 20]\n",
      "  [ 9 21]\n",
      "  [10 22]\n",
      "  [11 23]]]\n",
      "(3, 4, 2)\n"
     ]
    }
   ],
   "source": [
    "v = np.vstack( (a,b) )\n",
    "print('vstack 아래로 합치기', v, v.shape, sep='\\n')\n",
    "h = np.hstack( (a,b) )\n",
    "print('hstack 옆으로 합치기', h, h.shape, sep='\\n')\n",
    "d=np.dstack( (a,b) )\n",
    "print('dstack 축을 depth로 합치기', d, d.shape, sep='\\n')"
   ]
  },
  {
   "cell_type": "code",
   "execution_count": 179,
   "id": "71269de3",
   "metadata": {},
   "outputs": [
    {
     "data": {
      "text/plain": [
       "array([[ 0,  1,  2,  3],\n",
       "       [ 4,  5,  6,  7],\n",
       "       [ 8,  9, 10, 11],\n",
       "       [12, 13, 14, 15],\n",
       "       [16, 17, 18, 19],\n",
       "       [20, 21, 22, 23]])"
      ]
     },
     "execution_count": 179,
     "metadata": {},
     "output_type": "execute_result"
    }
   ],
   "source": [
    "np.concatenate( (a,b) , axis=0) #vstack( (a,b) )"
   ]
  },
  {
   "cell_type": "code",
   "execution_count": 180,
   "id": "fcba28ff",
   "metadata": {},
   "outputs": [
    {
     "data": {
      "text/plain": [
       "array([[ 0,  1,  2,  3, 12, 13, 14, 15],\n",
       "       [ 4,  5,  6,  7, 16, 17, 18, 19],\n",
       "       [ 8,  9, 10, 11, 20, 21, 22, 23]])"
      ]
     },
     "execution_count": 180,
     "metadata": {},
     "output_type": "execute_result"
    }
   ],
   "source": [
    "np.concatenate( (a,b), axis=1 ) #hstack( (a,b) )"
   ]
  },
  {
   "cell_type": "markdown",
   "id": "6e8afc1a",
   "metadata": {},
   "source": [
    "- **column_stack(tup) : 열단위로 합침 == hstack(tup)**\n",
    "- **row_stack(tup) : 행단위로 합침 == vstack(tup)**\n",
    "- **stack(tup, axis=0): axis=값에 따라 배열합침 axis값은 음수차원 가능**"
   ]
  },
  {
   "cell_type": "code",
   "execution_count": 181,
   "id": "d78f4b96",
   "metadata": {},
   "outputs": [
    {
     "data": {
      "text/plain": [
       "array([[1, 4, 7],\n",
       "       [2, 5, 8],\n",
       "       [3, 6, 9]])"
      ]
     },
     "execution_count": 181,
     "metadata": {},
     "output_type": "execute_result"
    }
   ],
   "source": [
    "a = np.array([1,2,3])\n",
    "b = np.array([4,5,6])\n",
    "c = np.array([7,8,9])\n",
    "np.column_stack( (a,b,c) )"
   ]
  },
  {
   "cell_type": "code",
   "execution_count": 182,
   "id": "e29f59dd",
   "metadata": {},
   "outputs": [
    {
     "data": {
      "text/plain": [
       "array([[1, 2, 3],\n",
       "       [4, 5, 6],\n",
       "       [7, 8, 9]])"
      ]
     },
     "execution_count": 182,
     "metadata": {},
     "output_type": "execute_result"
    }
   ],
   "source": [
    "np.row_stack( (a,b,c) )"
   ]
  },
  {
   "cell_type": "code",
   "execution_count": 183,
   "id": "57f4ddad",
   "metadata": {},
   "outputs": [
    {
     "data": {
      "text/plain": [
       "(array([[ 0,  1,  2,  3],\n",
       "        [ 4,  5,  6,  7],\n",
       "        [ 8,  9, 10, 11]]),\n",
       " array([[12, 13, 14, 15],\n",
       "        [16, 17, 18, 19],\n",
       "        [20, 21, 22, 23]]))"
      ]
     },
     "execution_count": 183,
     "metadata": {},
     "output_type": "execute_result"
    }
   ],
   "source": [
    "c = np.arange(24).reshape(2, 3, 4)\n",
    "a, b = c[0], c[1]\n",
    "a, b"
   ]
  },
  {
   "cell_type": "code",
   "execution_count": 184,
   "id": "3c447648",
   "metadata": {},
   "outputs": [
    {
     "data": {
      "text/plain": [
       "array([[[ 0,  1,  2,  3],\n",
       "        [ 4,  5,  6,  7],\n",
       "        [ 8,  9, 10, 11]],\n",
       "\n",
       "       [[12, 13, 14, 15],\n",
       "        [16, 17, 18, 19],\n",
       "        [20, 21, 22, 23]]])"
      ]
     },
     "execution_count": 184,
     "metadata": {},
     "output_type": "execute_result"
    }
   ],
   "source": [
    "np.stack( (a,b), axis=0) #0면 a, 1면 b"
   ]
  },
  {
   "cell_type": "code",
   "execution_count": 186,
   "id": "a09ba326",
   "metadata": {},
   "outputs": [
    {
     "data": {
      "text/plain": [
       "array([[[ 0,  1,  2,  3],\n",
       "        [12, 13, 14, 15]],\n",
       "\n",
       "       [[ 4,  5,  6,  7],\n",
       "        [16, 17, 18, 19]],\n",
       "\n",
       "       [[ 8,  9, 10, 11],\n",
       "        [20, 21, 22, 23]]])"
      ]
     },
     "execution_count": 186,
     "metadata": {},
     "output_type": "execute_result"
    }
   ],
   "source": [
    "np.stack( (a,b), axis=1 ) # 행(1축)끼리 합쳐서 면을 이룸"
   ]
  },
  {
   "cell_type": "code",
   "execution_count": 187,
   "id": "2ef10b54",
   "metadata": {},
   "outputs": [
    {
     "data": {
      "text/plain": [
       "array([[[ 0, 12],\n",
       "        [ 1, 13],\n",
       "        [ 2, 14],\n",
       "        [ 3, 15]],\n",
       "\n",
       "       [[ 4, 16],\n",
       "        [ 5, 17],\n",
       "        [ 6, 18],\n",
       "        [ 7, 19]],\n",
       "\n",
       "       [[ 8, 20],\n",
       "        [ 9, 21],\n",
       "        [10, 22],\n",
       "        [11, 23]]])"
      ]
     },
     "execution_count": 187,
     "metadata": {},
     "output_type": "execute_result"
    }
   ],
   "source": [
    "np.stack( (a,b), axis=-1 ) #a의 행과 b의 행을 열로 합쳐서 면을 이룸"
   ]
  },
  {
   "cell_type": "markdown",
   "id": "fc4b0cf7",
   "metadata": {},
   "source": [
    "## 3.3 r_, c_"
   ]
  },
  {
   "cell_type": "code",
   "execution_count": 189,
   "id": "47ac9635",
   "metadata": {},
   "outputs": [
    {
     "data": {
      "text/plain": [
       "array([1, 2, 3, 4, 5, 5, 5, 5, 6, 6, 6, 6])"
      ]
     },
     "execution_count": 189,
     "metadata": {},
     "output_type": "execute_result"
    }
   ],
   "source": [
    "a = np.array([1,2,3,4])\n",
    "b = np.array([5,5,5,5])\n",
    "c = np.array([6,6,6,6])\n",
    "np.r_[a,b,c] # 행 합치기"
   ]
  },
  {
   "cell_type": "code",
   "execution_count": 190,
   "id": "04a30412",
   "metadata": {},
   "outputs": [
    {
     "data": {
      "text/plain": [
       "array([[1, 2, 3, 4],\n",
       "       [5, 5, 5, 5],\n",
       "       [6, 6, 6, 6]])"
      ]
     },
     "execution_count": 190,
     "metadata": {},
     "output_type": "execute_result"
    }
   ],
   "source": [
    "np.r_[ [a], [b], [c] ]"
   ]
  },
  {
   "cell_type": "code",
   "execution_count": 191,
   "id": "2149bc74",
   "metadata": {},
   "outputs": [
    {
     "data": {
      "text/plain": [
       "array([[1, 5, 6],\n",
       "       [2, 5, 6],\n",
       "       [3, 5, 6],\n",
       "       [4, 5, 6]])"
      ]
     },
     "execution_count": 191,
     "metadata": {},
     "output_type": "execute_result"
    }
   ],
   "source": [
    "np.c_[a,b,c] #컬럼 쌓기"
   ]
  },
  {
   "cell_type": "markdown",
   "id": "208ea60e",
   "metadata": {},
   "source": [
    "## 3.4 배열 분리하는 함수\n",
    "- **vsplit(ary, 정수나 벡터) : stack의 반대라고 생각하면됨. 첫번째 축을 따라 분할**\n",
    "- **hsplit(ary, 정수나 벡터) : 두번째 축을 따라 분할**\n",
    "- **dsplit(ary, 정수나 벡터) : depth에 따라 나눔(3차원 이상에서만 동작)**\n",
    "    - 정수 n : n개로 분리\n",
    "    - [n] : n번째 인덱스를 기준으로\n",
    "    - [m,n] : m번째, n번째 인덱스를 기점으로 분리"
   ]
  },
  {
   "cell_type": "code",
   "execution_count": 193,
   "id": "bd258470",
   "metadata": {},
   "outputs": [
    {
     "data": {
      "text/plain": [
       "array([[ 0,  1,  2,  3],\n",
       "       [ 4,  5,  6,  7],\n",
       "       [ 8,  9, 10, 11]])"
      ]
     },
     "execution_count": 193,
     "metadata": {},
     "output_type": "execute_result"
    }
   ],
   "source": [
    "a = np.arange(12).reshape(3, 4)\n",
    "a"
   ]
  },
  {
   "cell_type": "code",
   "execution_count": 195,
   "id": "83761741",
   "metadata": {},
   "outputs": [
    {
     "data": {
      "text/plain": [
       "[array([[0, 1, 2, 3]]), array([[4, 5, 6, 7]]), array([[ 8,  9, 10, 11]])]"
      ]
     },
     "execution_count": 195,
     "metadata": {},
     "output_type": "execute_result"
    }
   ],
   "source": [
    "a_vsplit = np.vsplit(a, 3) #2개로 분리는 에러발생\n",
    "a_vsplit"
   ]
  },
  {
   "cell_type": "code",
   "execution_count": 197,
   "id": "e0343579",
   "metadata": {},
   "outputs": [
    {
     "data": {
      "text/plain": [
       "[array([[0, 1, 2, 3],\n",
       "        [4, 5, 6, 7]]),\n",
       " array([[ 8,  9, 10, 11]])]"
      ]
     },
     "execution_count": 197,
     "metadata": {},
     "output_type": "execute_result"
    }
   ],
   "source": [
    "np.vsplit(a, [2]) #[2] : 2번 인덱스를 기점으로 분할"
   ]
  },
  {
   "cell_type": "code",
   "execution_count": 198,
   "id": "a576c2ca",
   "metadata": {},
   "outputs": [
    {
     "data": {
      "text/plain": [
       "[array([[0, 1],\n",
       "        [4, 5],\n",
       "        [8, 9]]),\n",
       " array([[ 2,  3],\n",
       "        [ 6,  7],\n",
       "        [10, 11]])]"
      ]
     },
     "execution_count": 198,
     "metadata": {},
     "output_type": "execute_result"
    }
   ],
   "source": [
    "np.hsplit(a, 2) "
   ]
  },
  {
   "cell_type": "code",
   "execution_count": 199,
   "id": "e9622baa",
   "metadata": {},
   "outputs": [
    {
     "ename": "ValueError",
     "evalue": "array split does not result in an equal division",
     "output_type": "error",
     "traceback": [
      "\u001b[1;31m---------------------------------------------------------------------------\u001b[0m",
      "\u001b[1;31mValueError\u001b[0m                                Traceback (most recent call last)",
      "Cell \u001b[1;32mIn[199], line 1\u001b[0m\n\u001b[1;32m----> 1\u001b[0m \u001b[43mnp\u001b[49m\u001b[38;5;241;43m.\u001b[39;49m\u001b[43mhsplit\u001b[49m\u001b[43m(\u001b[49m\u001b[43ma\u001b[49m\u001b[43m,\u001b[49m\u001b[43m \u001b[49m\u001b[38;5;241;43m3\u001b[39;49m\u001b[43m)\u001b[49m\n",
      "File \u001b[1;32m<__array_function__ internals>:180\u001b[0m, in \u001b[0;36mhsplit\u001b[1;34m(*args, **kwargs)\u001b[0m\n",
      "File \u001b[1;32m~\\anaconda3\\lib\\site-packages\\numpy\\lib\\shape_base.py:946\u001b[0m, in \u001b[0;36mhsplit\u001b[1;34m(ary, indices_or_sections)\u001b[0m\n\u001b[0;32m    944\u001b[0m     \u001b[38;5;28;01mraise\u001b[39;00m \u001b[38;5;167;01mValueError\u001b[39;00m(\u001b[38;5;124m'\u001b[39m\u001b[38;5;124mhsplit only works on arrays of 1 or more dimensions\u001b[39m\u001b[38;5;124m'\u001b[39m)\n\u001b[0;32m    945\u001b[0m \u001b[38;5;28;01mif\u001b[39;00m ary\u001b[38;5;241m.\u001b[39mndim \u001b[38;5;241m>\u001b[39m \u001b[38;5;241m1\u001b[39m:\n\u001b[1;32m--> 946\u001b[0m     \u001b[38;5;28;01mreturn\u001b[39;00m \u001b[43msplit\u001b[49m\u001b[43m(\u001b[49m\u001b[43mary\u001b[49m\u001b[43m,\u001b[49m\u001b[43m \u001b[49m\u001b[43mindices_or_sections\u001b[49m\u001b[43m,\u001b[49m\u001b[43m \u001b[49m\u001b[38;5;241;43m1\u001b[39;49m\u001b[43m)\u001b[49m\n\u001b[0;32m    947\u001b[0m \u001b[38;5;28;01melse\u001b[39;00m:\n\u001b[0;32m    948\u001b[0m     \u001b[38;5;28;01mreturn\u001b[39;00m split(ary, indices_or_sections, \u001b[38;5;241m0\u001b[39m)\n",
      "File \u001b[1;32m<__array_function__ internals>:180\u001b[0m, in \u001b[0;36msplit\u001b[1;34m(*args, **kwargs)\u001b[0m\n",
      "File \u001b[1;32m~\\anaconda3\\lib\\site-packages\\numpy\\lib\\shape_base.py:872\u001b[0m, in \u001b[0;36msplit\u001b[1;34m(ary, indices_or_sections, axis)\u001b[0m\n\u001b[0;32m    870\u001b[0m     N \u001b[38;5;241m=\u001b[39m ary\u001b[38;5;241m.\u001b[39mshape[axis]\n\u001b[0;32m    871\u001b[0m     \u001b[38;5;28;01mif\u001b[39;00m N \u001b[38;5;241m%\u001b[39m sections:\n\u001b[1;32m--> 872\u001b[0m         \u001b[38;5;28;01mraise\u001b[39;00m \u001b[38;5;167;01mValueError\u001b[39;00m(\n\u001b[0;32m    873\u001b[0m             \u001b[38;5;124m'\u001b[39m\u001b[38;5;124marray split does not result in an equal division\u001b[39m\u001b[38;5;124m'\u001b[39m) \u001b[38;5;28;01mfrom\u001b[39;00m \u001b[38;5;28mNone\u001b[39m\n\u001b[0;32m    874\u001b[0m \u001b[38;5;28;01mreturn\u001b[39;00m array_split(ary, indices_or_sections, axis)\n",
      "\u001b[1;31mValueError\u001b[0m: array split does not result in an equal division"
     ]
    }
   ],
   "source": [
    "np.hsplit(a, 3) # a가 짝수열이므로 홀수열로 나누려고 하면 오류가 발생함. 정확히 딱 떨어지게 나눠야함."
   ]
  },
  {
   "cell_type": "code",
   "execution_count": 201,
   "id": "75590866",
   "metadata": {},
   "outputs": [
    {
     "data": {
      "text/plain": [
       "[array([[0, 1],\n",
       "        [4, 5],\n",
       "        [8, 9]]),\n",
       " array([[ 2],\n",
       "        [ 6],\n",
       "        [10]]),\n",
       " array([[ 3],\n",
       "        [ 7],\n",
       "        [11]])]"
      ]
     },
     "execution_count": 201,
     "metadata": {},
     "output_type": "execute_result"
    }
   ],
   "source": [
    "np.hsplit(a, [2,3]) #[2,3]:분리될 기준 인덱스"
   ]
  },
  {
   "cell_type": "markdown",
   "id": "0a12c8ad",
   "metadata": {},
   "source": [
    "- **split(ary, 갯수나 인덱스벡터, axis)**\n",
    "    - axis=0 : vsplit() 동일\n",
    "    - axis=1 : hsplit() 동일\n",
    "    - axis=2 : 3차원 이상에서만 동작 dsplit() 동일\n",
    "- **array_split(ary, 갯수나 인덱스벡터, axis)**\n",
    "    - split과의 차이점은 나눠지지 않은 정수로도 사용 가능"
   ]
  },
  {
   "cell_type": "code",
   "execution_count": 203,
   "id": "9f09b152",
   "metadata": {},
   "outputs": [
    {
     "data": {
      "text/plain": [
       "array([[ 0,  1,  2,  3,  4,  5,  6,  7,  8,  9],\n",
       "       [10, 11, 12, 13, 14, 15, 16, 17, 18, 19]])"
      ]
     },
     "execution_count": 203,
     "metadata": {},
     "output_type": "execute_result"
    }
   ],
   "source": [
    "a = np.arange(20).reshape(2, 10)\n",
    "a"
   ]
  },
  {
   "cell_type": "code",
   "execution_count": 205,
   "id": "229e056a",
   "metadata": {},
   "outputs": [
    {
     "data": {
      "text/plain": [
       "[array([[0, 1, 2, 3, 4, 5, 6, 7, 8, 9]]),\n",
       " array([[10, 11, 12, 13, 14, 15, 16, 17, 18, 19]])]"
      ]
     },
     "execution_count": 205,
     "metadata": {},
     "output_type": "execute_result"
    }
   ],
   "source": [
    "np.split(a, 2, axis=0) # 행분리"
   ]
  },
  {
   "cell_type": "code",
   "execution_count": 206,
   "id": "39da893e",
   "metadata": {},
   "outputs": [
    {
     "data": {
      "text/plain": [
       "[array([[ 0,  1,  2,  3,  4],\n",
       "        [10, 11, 12, 13, 14]]),\n",
       " array([[ 5,  6,  7,  8,  9],\n",
       "        [15, 16, 17, 18, 19]])]"
      ]
     },
     "execution_count": 206,
     "metadata": {},
     "output_type": "execute_result"
    }
   ],
   "source": [
    "np.split(a, 2, axis=1) # 열분리"
   ]
  },
  {
   "cell_type": "code",
   "execution_count": 207,
   "id": "cf07b53c",
   "metadata": {},
   "outputs": [
    {
     "data": {
      "text/plain": [
       "[array([[ 0,  1,  2,  3],\n",
       "        [10, 11, 12, 13]]),\n",
       " array([[ 4,  5,  6],\n",
       "        [14, 15, 16]]),\n",
       " array([[ 7,  8,  9],\n",
       "        [17, 18, 19]])]"
      ]
     },
     "execution_count": 207,
     "metadata": {},
     "output_type": "execute_result"
    }
   ],
   "source": [
    "# np.split(a, 3, axis=1) # 열분리\n",
    "np.array_split(a, 3, axis=1)"
   ]
  },
  {
   "cell_type": "code",
   "execution_count": null,
   "id": "abaffc40",
   "metadata": {},
   "outputs": [],
   "source": []
  },
  {
   "cell_type": "code",
   "execution_count": null,
   "id": "b94122f4",
   "metadata": {},
   "outputs": [],
   "source": []
  },
  {
   "cell_type": "code",
   "execution_count": null,
   "id": "f189d82c",
   "metadata": {},
   "outputs": [],
   "source": []
  },
  {
   "cell_type": "code",
   "execution_count": null,
   "id": "3b2dae73",
   "metadata": {},
   "outputs": [],
   "source": []
  },
  {
   "cell_type": "code",
   "execution_count": null,
   "id": "54abfa95",
   "metadata": {},
   "outputs": [],
   "source": []
  },
  {
   "cell_type": "code",
   "execution_count": null,
   "id": "b413d095",
   "metadata": {},
   "outputs": [],
   "source": []
  },
  {
   "cell_type": "code",
   "execution_count": null,
   "id": "92b8e77f",
   "metadata": {},
   "outputs": [],
   "source": []
  },
  {
   "cell_type": "code",
   "execution_count": null,
   "id": "fce06bed",
   "metadata": {},
   "outputs": [],
   "source": []
  },
  {
   "cell_type": "code",
   "execution_count": null,
   "id": "98915752",
   "metadata": {},
   "outputs": [],
   "source": []
  },
  {
   "cell_type": "code",
   "execution_count": null,
   "id": "bb8328da",
   "metadata": {},
   "outputs": [],
   "source": []
  },
  {
   "cell_type": "code",
   "execution_count": null,
   "id": "022c2358",
   "metadata": {},
   "outputs": [],
   "source": []
  }
 ],
 "metadata": {
  "kernelspec": {
   "display_name": "Python 3 (ipykernel)",
   "language": "python",
   "name": "python3"
  },
  "language_info": {
   "codemirror_mode": {
    "name": "ipython",
    "version": 3
   },
   "file_extension": ".py",
   "mimetype": "text/x-python",
   "name": "python",
   "nbconvert_exporter": "python",
   "pygments_lexer": "ipython3",
   "version": "3.10.9"
  },
  "toc": {
   "base_numbering": 1,
   "nav_menu": {},
   "number_sections": false,
   "sideBar": true,
   "skip_h1_title": false,
   "title_cell": "Table of Contents",
   "title_sidebar": "Contents",
   "toc_cell": false,
   "toc_position": {},
   "toc_section_display": true,
   "toc_window_display": false
  }
 },
 "nbformat": 4,
 "nbformat_minor": 5
}
