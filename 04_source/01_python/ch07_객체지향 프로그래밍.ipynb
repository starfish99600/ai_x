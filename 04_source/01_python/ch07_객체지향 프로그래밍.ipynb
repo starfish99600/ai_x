{
 "cells": [
  {
   "cell_type": "code",
   "execution_count": 1,
   "id": "15fbbc05",
   "metadata": {},
   "outputs": [
    {
     "data": {
      "text/html": [
       "\n",
       "<style>\n",
       "div.container{width:95% !important;}\n",
       "div.cell.code_cell.rendered{width:100%;}\n",
       "div.CodeMirror {font-family:Consolas; font-size:15pt;}\n",
       "div.output {font-size:15pt; font-weight:bold;}\n",
       "div.input {font-family:Consolas; font-size:15pt;}\n",
       "div.prompt {min-width:70px;}\n",
       "div#toc-wrapper{padding-top:120px;}\n",
       "div.text_cell_render ul li{font-size:12pt;padding:5px;}\n",
       "table.dataframe{font-size:15px;}\n",
       "</style>\n"
      ],
      "text/plain": [
       "<IPython.core.display.HTML object>"
      ]
     },
     "metadata": {},
     "output_type": "display_data"
    }
   ],
   "source": [
    "from IPython.display import display, HTML\n",
    "display(HTML(\"\"\"\n",
    "<style>\n",
    "div.container{width:95% !important;}\n",
    "div.cell.code_cell.rendered{width:100%;}\n",
    "div.CodeMirror {font-family:Consolas; font-size:15pt;}\n",
    "div.output {font-size:15pt; font-weight:bold;}\n",
    "div.input {font-family:Consolas; font-size:15pt;}\n",
    "div.prompt {min-width:70px;}\n",
    "div#toc-wrapper{padding-top:120px;}\n",
    "div.text_cell_render ul li{font-size:12pt;padding:5px;}\n",
    "table.dataframe{font-size:15px;}\n",
    "</style>\n",
    "\"\"\"))"
   ]
  },
  {
   "cell_type": "markdown",
   "id": "7e074fd8",
   "metadata": {},
   "source": [
    "<b><font color=\"red\" size=\"5\">ch07. 객체지향 프로그래밍</font></b>"
   ]
  },
  {
   "cell_type": "code",
   "execution_count": 12,
   "id": "7ac49964",
   "metadata": {},
   "outputs": [],
   "source": [
    "#정의 : 현실 세계의 사물(객체)을 흉내 내서 프로그램을 만드는 방법입니다.\n",
    "#즉, 사람, 자동차, 강아지 같은 걸 \"객체\"로 보고, 그 객체들이 가진 \"특징\"과 \"행동\"을 코드로 표현하는 거예요.\n",
    "\n",
    "#클래스 : 객체를 만들기 위한 설계도                   -class 클래스이름:        예시 : class Person :\n",
    "#객체 : 클래스에서 실제로 만들어진것(인스턴스)         -객체이름=클래스이름()     예시 : p=Person()\n",
    "#속성 : 객체가 가진 정보(예:이름, 나이)               -self.name = name\n",
    "#메서드 : 객체가 할 수 있는 행동(예: 걷기, 말하기)     -def say_hello(self):"
   ]
  },
  {
   "cell_type": "code",
   "execution_count": 16,
   "id": "3de94627",
   "metadata": {},
   "outputs": [
    {
     "name": "stdout",
     "output_type": "stream",
     "text": [
      "홍길동 남자 MBC\n",
      "홍낄쑥 None MBC\n",
      "{'name': '홍낄쑥', 'sender': '여자', 'accademy': 'MBC'}\n"
     ]
    }
   ],
   "source": [
    "person1 = {'name':'홍길동', 'gender':'남자', 'accademy':'MBC'}\n",
    "person2 = {'name':'홍길숙', 'sender':'여자', 'accademy':'MBC'}\n",
    "print(person1['name'], person1['gender'], person1['accademy'])\n",
    "person2['name'] = '홍낄쑥'\n",
    "print(person2['name'], person2.get('gender'), person2['accademy'])\n",
    "print(person2)"
   ]
  },
  {
   "cell_type": "code",
   "execution_count": 22,
   "id": "524032c1",
   "metadata": {},
   "outputs": [],
   "source": [
    "class Person:\n",
    "    accademy = 'MBC' # 클래스 변수\n",
    "    def __init__(self, name, gender): #생성자함수\n",
    "        self.name = name # 객체안의 변수(인스턴스 변수)\n",
    "        self.gender = gender\n",
    "    def print_info(self):\n",
    "        print(\"{}는 {}입니다 {}를 다닙니다\".format(self.name,\n",
    "                                                 self.gender,\n",
    "                                                 self.accademy))\n",
    "    def __str__(self):\n",
    "        return \"{}는 {}입니다 {}를 다닙니다\".format(self.name,\n",
    "                                                  self.gender,\n",
    "                                                  self.accademy)"
   ]
  },
  {
   "cell_type": "code",
   "execution_count": 23,
   "id": "e9ccb7bf",
   "metadata": {},
   "outputs": [
    {
     "name": "stdout",
     "output_type": "stream",
     "text": [
      "홍길동는 남자입니다 MBC를 다닙니다\n",
      "홍길숙는 여자입니다 MBC를 다닙니다\n",
      "마길동는 남자입니다 CBC를 다닙니다\n",
      "홍길숙는 여자입니다 MBC를 다닙니다\n"
     ]
    }
   ],
   "source": [
    "p1 = Person('홍길동','남자')\n",
    "p2 = Person('홍길숙','여자')\n",
    "p1.print_info()\n",
    "p2.print_info()\n",
    "p1.name = '마길동'\n",
    "p1.accademy = 'CBC'\n",
    "print(p1)\n",
    "print(p2)"
   ]
  },
  {
   "cell_type": "markdown",
   "id": "862b96d9",
   "metadata": {},
   "source": [
    "# 1절. 객체와 클래스\n",
    "class 클래스명(상속받을 클래스명)\n",
    "    변수나 함수들 선언\n",
    "클래스 : 객체를 만들기 위한 틀 (template, blueprint)\n",
    "객체 : 클래스의 인스턴스\n",
    "객체의 명사적 특성 : 데이터 (Data), 변수 (Variable), 필드 (Field), 속성(Attribute)\n",
    "객체의 동사적 특성 : 행위 (Behavior), 함수 (Function), 메서드(Method), 기능 (Operation)"
   ]
  },
  {
   "cell_type": "code",
   "execution_count": 27,
   "id": "e80d6af7",
   "metadata": {},
   "outputs": [
    {
     "name": "stdout",
     "output_type": "stream",
     "text": [
      "<__main__.Person object at 0x000001B83A4229E0>\n",
      "<class '__main__.Person'>\n"
     ]
    }
   ],
   "source": [
    "class Person:   #클래스 생성\n",
    "    '''\n",
    "    Person 클래스는 어쩌구 저쩌구 설명하는 독스트링\n",
    "    생성자 함수가 없을 경우, 디폴트 생성자 함수가 자동 생성\n",
    "    '''\n",
    "    pass\n",
    "p1 = Person()  #객체(인스턴스) 생성\n",
    "print(p1.__str__())\n",
    "print(type(p1))"
   ]
  },
  {
   "cell_type": "code",
   "execution_count": 28,
   "id": "08733266",
   "metadata": {},
   "outputs": [
    {
     "data": {
      "text/plain": [
       "True"
      ]
     },
     "execution_count": 28,
     "metadata": {},
     "output_type": "execute_result"
    }
   ],
   "source": [
    "isinstance(p1, Person)"
   ]
  },
  {
   "cell_type": "code",
   "execution_count": 29,
   "id": "fe09fef4",
   "metadata": {},
   "outputs": [
    {
     "data": {
      "text/plain": [
       "'\\n    Person 클래스는 어쩌구 저쩌구 설명하는 독스트링\\n    생성자 함수가 없을 경우, 디폴트 생성자 함수가 자동 생성\\n    '"
      ]
     },
     "execution_count": 29,
     "metadata": {},
     "output_type": "execute_result"
    }
   ],
   "source": [
    "p1.__doc__"
   ]
  },
  {
   "cell_type": "markdown",
   "id": "8daaa9f2",
   "metadata": {},
   "source": [
    "# 2절. 생성자와 소멸자\n",
    "```\n",
    "생성자 : __init__(self, 매개변수,..) -객체가 생성될 때 자동 실행\n",
    "        객체 생성시 필요한 인스턴스 변수 초기화를 포함\n",
    "소멸자 : __del__(self) - 객체가 소멸될 때 자동 실행\n",
    "        인스턴스 객체의 레퍼런스 카운트가 0이 될 때 실행\n",
    "특수 메서드 : __str__ -해당 객체를 사람이 보기 좋은 문자열로 변환\n",
    "            print(객체) 또는 str(객체)를 사용할 때 자동으로 호출\n",
    "```"
   ]
  },
  {
   "cell_type": "code",
   "execution_count": 8,
   "id": "8b09240d",
   "metadata": {},
   "outputs": [],
   "source": [
    "class Person:\n",
    "    # 파이썬은 오버로딩(함수 중복 정의) 지원 안 됨\n",
    "    def __init__(self, name, gender='남자'):\n",
    "        self.name = name\n",
    "        self.gender = gender\n",
    "        print('Person 객체 생성합니다', name)\n",
    "    def __del__(self):\n",
    "        print('Person 객체를 소멸시킵니다.', self.name)\n",
    "    def print_info(self):\n",
    "        print('{}는 {}입니다.'.format(self.name, self.gender))\n",
    "    def __str__(self): # 오버라이딩(함수 재정의)\n",
    "        return f\"{self.name}는 {self.gender}입니다.\""
   ]
  },
  {
   "cell_type": "code",
   "execution_count": 9,
   "id": "68ea41c7",
   "metadata": {},
   "outputs": [
    {
     "name": "stdout",
     "output_type": "stream",
     "text": [
      "Person 객체 생성합니다 신사임당\n"
     ]
    }
   ],
   "source": [
    "p1 = Person(\"신사임당\", \"여자\")"
   ]
  },
  {
   "cell_type": "code",
   "execution_count": 10,
   "id": "5a96843e",
   "metadata": {},
   "outputs": [
    {
     "name": "stdout",
     "output_type": "stream",
     "text": [
      "Person 객체 생성합니다 홍길동\n",
      "홍길동는 남자입니다.\n"
     ]
    }
   ],
   "source": [
    "p2 = Person(\"홍길동\")\n",
    "print(p2)"
   ]
  },
  {
   "cell_type": "code",
   "execution_count": 11,
   "id": "d72e601d",
   "metadata": {},
   "outputs": [],
   "source": [
    "p3 = p2"
   ]
  },
  {
   "cell_type": "code",
   "execution_count": 12,
   "id": "78ce86ae",
   "metadata": {},
   "outputs": [
    {
     "name": "stdout",
     "output_type": "stream",
     "text": [
      "Person 객체를 소멸시킵니다. 신사임당\n"
     ]
    }
   ],
   "source": [
    "del p1"
   ]
  },
  {
   "cell_type": "code",
   "execution_count": 13,
   "id": "e19e6e84",
   "metadata": {},
   "outputs": [],
   "source": [
    "del p2"
   ]
  },
  {
   "cell_type": "code",
   "execution_count": 14,
   "id": "158fb8e8",
   "metadata": {},
   "outputs": [
    {
     "name": "stdout",
     "output_type": "stream",
     "text": [
      "Person 객체를 소멸시킵니다. 홍길동\n"
     ]
    }
   ],
   "source": [
    "del p3"
   ]
  },
  {
   "cell_type": "markdown",
   "id": "75f6a5f3",
   "metadata": {},
   "source": [
    "# 3절. 변수와 메소드(함수)\n",
    "- 인스턴스 변수 vs 클래스 변수\n",
    "- 인스턴스 메소드(self) vs 클래스메소드(clz) vs static 메소드()"
   ]
  },
  {
   "cell_type": "code",
   "execution_count": 1,
   "id": "499fc0fc",
   "metadata": {},
   "outputs": [
    {
     "name": "stdout",
     "output_type": "stream",
     "text": [
      "홍길동 남자\n"
     ]
    }
   ],
   "source": [
    "class Person:\n",
    "    name = \"홍길동\" #클래스 변수\n",
    "    gender = \"남자\" #클래스 변수\n",
    "print(Person.name, Person.gender) #클래스 자체에 접근해 값을 출력"
   ]
  },
  {
   "cell_type": "code",
   "execution_count": 16,
   "id": "1e3e362e",
   "metadata": {},
   "outputs": [
    {
     "name": "stdout",
     "output_type": "stream",
     "text": [
      "홍길동 남자\n",
      "홍길동 남자\n",
      "홍길동 남자\n"
     ]
    }
   ],
   "source": [
    "p1 = Person() #인스턴스(객체) 변수\n",
    "p2 = Person()\n",
    "print(Person.name, Person.gender) #클래스 변수 출력\n",
    "print(p1.name, p1.gender)         #인스턴스에서 클래스 변수 참조\n",
    "print(p2.name, p2.gender)"
   ]
  },
  {
   "cell_type": "code",
   "execution_count": 17,
   "id": "38d758de",
   "metadata": {},
   "outputs": [
    {
     "name": "stdout",
     "output_type": "stream",
     "text": [
      "홍길동 남자\n",
      "홍길동 남자\n",
      "이순신 남자\n"
     ]
    }
   ],
   "source": [
    "p2.name = \"이순신\" #p2에 새로운 인스턴스 변수가 생성됨. 이 시점에서 클래스와 무관한 독립변수가됨.\n",
    "print(Person.name, Person.gender)\n",
    "print(p1.name, p1.gender)\n",
    "print(p2.name, p2.gender) #name은 인스턴스 변수로 덮어씀, gender는 여전히 클래스 변수 참조"
   ]
  },
  {
   "cell_type": "code",
   "execution_count": 18,
   "id": "17136d95",
   "metadata": {},
   "outputs": [
    {
     "name": "stdout",
     "output_type": "stream",
     "text": [
      "리사 여자\n",
      "리사 여자\n",
      "이순신 여자\n"
     ]
    }
   ],
   "source": [
    "Person.name = \"리사\"\n",
    "Person.gender = \"여자\"\n",
    "print(Person.name, Person.gender)\n",
    "print(p1.name, p1.gender)\n",
    "print(p2.name, p2.gender)"
   ]
  },
  {
   "cell_type": "markdown",
   "id": "8c8b4474",
   "metadata": {},
   "source": [
    "※ 인스턴스 메소드(self) vs 클래스메소드(clz) vs static 메소드()\n",
    "- 인스턴스 메소드 : 첫번째 인자에 self를 꼭 명시. 객체를 통해서만 호출할 수 있는 메소드\n",
    "- 클래스 메소드 : 메소드위에 @classmethod를 선언한 메소드. 첫번째 인자에 cls(clz) 꼭 명시\n",
    "- static 메소드 : 메소드위에 @staticmethod를 선언한 메소드. 인자를 넣지 않음"
   ]
  },
  {
   "cell_type": "code",
   "execution_count": 23,
   "id": "0c209b26",
   "metadata": {},
   "outputs": [],
   "source": [
    "class Person:\n",
    "    name = \"홍길동\"\n",
    "    gender = \"남자\"\n",
    "    def print_info(self): # 객체변수명.print_info()로 호출\n",
    "        print(f\"인스턴스(일반)메소드 - {self.name}는 {self.gender}입니다.\")\n",
    "    def change_info(self, name, gender=\"남자\"): #객체변수.change_info(\"김\",\"여자\")\n",
    "        self.name = name\n",
    "        self.gender = gender\n",
    "        print(f\"인스턴스(일반)메소드 - {self.name}/{felf.gender}로 변경 완료\")\n",
    "    @classmethod\n",
    "    def do_(clz): # clz==person. 클래스 변수를 이용한 로직. Person.do_() 호출\n",
    "        clz.name = \"신사임당\"\n",
    "        clz.gender = \"여자\"\n",
    "        print(f\"클래스 메소드 - {clz.name}/{clz.gender} 변경완료\")\n",
    "    @staticmethod\n",
    "    def that_(): # 클래스 변수를 이용하기 보다는 로직이 우선일 경우. Person.that_() 호출\n",
    "        Person.name = \"신길동\"\n",
    "        Person.gender = \"남자\"\n",
    "        print(f\"클래스 메소드 - {Person.name}/{Person.gender} 변경완료\")"
   ]
  },
  {
   "cell_type": "code",
   "execution_count": 24,
   "id": "27655cdd",
   "metadata": {},
   "outputs": [
    {
     "name": "stdout",
     "output_type": "stream",
     "text": [
      "인스턴스(일반)메소드 - 홍길동는 남자입니다.\n"
     ]
    }
   ],
   "source": [
    "p1 = Person()\n",
    "p1.print_info()"
   ]
  },
  {
   "cell_type": "code",
   "execution_count": 25,
   "id": "94283fc1",
   "metadata": {},
   "outputs": [
    {
     "name": "stdout",
     "output_type": "stream",
     "text": [
      "클래스 메소드 - 신사임당/여자 변경완료\n"
     ]
    }
   ],
   "source": [
    "Person.do_()"
   ]
  },
  {
   "cell_type": "code",
   "execution_count": 26,
   "id": "728a9632",
   "metadata": {},
   "outputs": [
    {
     "name": "stdout",
     "output_type": "stream",
     "text": [
      "클래스 메소드 - 신길동/남자 변경완료\n"
     ]
    }
   ],
   "source": [
    "Person.that_()"
   ]
  },
  {
   "cell_type": "code",
   "execution_count": 27,
   "id": "d8894665",
   "metadata": {},
   "outputs": [
    {
     "name": "stdout",
     "output_type": "stream",
     "text": [
      "인스턴스(일반)메소드 - 신길동는 남자입니다.\n"
     ]
    }
   ],
   "source": [
    "p1.print_info()"
   ]
  },
  {
   "cell_type": "markdown",
   "id": "5fa0d54b",
   "metadata": {},
   "source": [
    "## 요약\n",
    "** 객체를 이용하면 객체에 정보를 저장하고, 그 정보를 이용해서 어떤 기능을 수행할 수 있다. **\n",
    "** 객체 = 데이터(변수 : 객체마다 고유의 값) + 기능(메소드, 함수) **\n",
    "\n",
    "** 그 객체를 만들기 위한 틀 => 클래스**\n",
    "```\n",
    "클래스 구조(기초문법)\n",
    "    class 클래스명(대문자명을 사용하는게 일반적임.) :\n",
    "            '독스트링(클래스에 대한 설명)'\n",
    "            클래스변수명 = 값 # 모든 인스턴스가 공유\n",
    "            def __init__(self, [객체멤버를 초기화할 변수=값,...]):\n",
    "                self.인스턴스(일반)변수=값 #객체마다 고유하게 저장\n",
    "                객체를 생성할 때 객체 멤버변수의 초기화\n",
    "            def method(self):\n",
    "                인스턴스 메소드(일반함수)의 매개변수는 self를 반드시 포함\n",
    "            @classmethod     #클래스 자체를 대상으로 동작\n",
    "            def classmethod(cls):\n",
    "                코드\n",
    "            @staticmethod    #클래스나 인스턴트와 무관한 일반 함수처럼 동작\n",
    "            def staticmethod():\n",
    "                코드\n",
    "    객체변수 = 클래스명()\n",
    "    객체변수. method()\n",
    "    클래스명.classmethod()\n",
    "    클래스명.staticmethod()\n",
    "```\n",
    "** 다른사람이 만들어든 메소드를 사용할 일이 많다."
   ]
  },
  {
   "cell_type": "code",
   "execution_count": 6,
   "id": "4fc546c5",
   "metadata": {},
   "outputs": [
    {
     "name": "stdout",
     "output_type": "stream",
     "text": [
      "홍길동입니다\n",
      "홍길동입니다\n"
     ]
    },
    {
     "data": {
      "text/plain": [
       "(True, True)"
      ]
     },
     "execution_count": 6,
     "metadata": {},
     "output_type": "execute_result"
    }
   ],
   "source": [
    "class Person:                                #클래스 선언\n",
    "    def __init__(self, name):                #name 매개변수를 받아서 self.name에 저장(개별 객체마다 이름을 저장)\n",
    "        self.name = name\n",
    "    def __str__(self):                       #객체를 print할때의 출력 형식을 지정하는 \"함수\"\n",
    "        return f'{self.name}입니다'\n",
    "    def print_info(self):\n",
    "        #print(f'{self.name}입니다')\n",
    "        print(self)\n",
    "p = Person(\"홍길동\")                         \n",
    "#Person 클래스를 사용하여 인스턴트 p를 생성, __init__()가 실행되어 p.name = \"홍길동\"이 됨.\n",
    "p.print_info()\n",
    "print(p)\n",
    "# 파이썬은 동적으로 인스턴스 멤버 추가가 가능하다.\n",
    "p.nickname = \"홍별명\"\n",
    "p1 = Person(\"홍길숙\")\n",
    "isinstance(p, Person), isinstance(p1, Person)"
   ]
  },
  {
   "cell_type": "markdown",
   "id": "4a2c9ce6",
   "metadata": {},
   "source": [
    "# 4절. 상속과 재정의\n",
    "- 클래스를 재사용\n",
    "- 상속을 이용하면 부모클래스의 모든 속성을 자식클래스로 물려줄 수 있음.(생성자, 소멸자, 인스턴스 변수 등 모든것.)\n",
    "- 문법: class 자식클래스명(부모클래스명):"
   ]
  },
  {
   "cell_type": "code",
   "execution_count": 13,
   "id": "7b294c0a",
   "metadata": {},
   "outputs": [
    {
     "name": "stdout",
     "output_type": "stream",
     "text": [
      "두 수 초기화\n",
      "4\n",
      "4\n",
      "두 수 초기화\n",
      "5\n"
     ]
    }
   ],
   "source": [
    "class Cal:\n",
    "    def __init__(self, num1=1, num2=2):\n",
    "        print('두 수 초기화')\n",
    "        self.num1 = num1\n",
    "        self.num2 = num2\n",
    "    def add(self):                   #함수정의\n",
    "        return self.num1+self.num2   #self.num1과 self.num2를 더한값을 반환\n",
    "    def sub(self):\n",
    "        return self.num1-self.num2\n",
    "    def div(self):\n",
    "        return self.num1/self.num2\n",
    "    def __str__(self):\n",
    "        return 'num1={}, num2={}'.format(self.num1, self.num2)\n",
    "    \n",
    "class Cal_inherit(Cal):\n",
    "    def mul(self):\n",
    "        return self.num1*self.num2\n",
    "    \n",
    "obj1 = Cal_inherit(2, 2)\n",
    "print(obj1.add())\n",
    "print(obj1.mul())\n",
    "obj2 = Cal(2,3)\n",
    "print(obj2.add())"
   ]
  },
  {
   "cell_type": "code",
   "execution_count": 10,
   "id": "12938620",
   "metadata": {},
   "outputs": [
    {
     "data": {
      "text/plain": [
       "(type, type)"
      ]
     },
     "execution_count": 10,
     "metadata": {},
     "output_type": "execute_result"
    }
   ],
   "source": [
    "#클래스를 생성하는건 새로운 타입을 생성하는 것임.\n",
    "type(Cal), type(Cal_inherit) "
   ]
  },
  {
   "cell_type": "code",
   "execution_count": 11,
   "id": "62b700d0",
   "metadata": {},
   "outputs": [
    {
     "data": {
      "text/plain": [
       "(__main__.Cal_inherit, True, True)"
      ]
     },
     "execution_count": 11,
     "metadata": {},
     "output_type": "execute_result"
    }
   ],
   "source": [
    "type(obj1), isinstance(obj1, Cal_inherit), isinstance(obj1, Cal)\n",
    "# Cal_inherit is a Cal (상속은 is a 관계)"
   ]
  },
  {
   "cell_type": "code",
   "execution_count": 17,
   "id": "8acdfe08",
   "metadata": {},
   "outputs": [
    {
     "name": "stdout",
     "output_type": "stream",
     "text": [
      "이름과 성별 초기화\n",
      "홍길동님은 남자\n",
      "홍길동님은 남자\n"
     ]
    }
   ],
   "source": [
    "class Person:\n",
    "    'Person은 이름과 성별을 멤버변수로 갖고, 출력 가능'\n",
    "    def __init__(self, name, gender):\n",
    "        print('이름과 성별 초기화')\n",
    "        self.name = name\n",
    "        self.gender = gender\n",
    "    def __str__(self):\n",
    "        return\"{}님은 {}\".format(self.name, self.gender)\n",
    "    def print_info(self):\n",
    "        print(self)\n",
    "p = Person(\"홍길동\", \"남자\")\n",
    "p.print_info()\n",
    "Person.print_info(p)"
   ]
  },
  {
   "cell_type": "code",
   "execution_count": 20,
   "id": "dac2750e",
   "metadata": {},
   "outputs": [],
   "source": [
    "#Person으로부터 상속\n",
    "#override : 함수의 재정의(부모 클래스의 함수를 자식 클래스에서 다시 정의)\n",
    "#           부모클래스의 함수명과 매개변수 개수가 동일\n",
    "#overLoad : 함수의 중복정의(같은 이름의 함수를 매개변수 갯수를 달리해서 정의) - 파이썬에서 불가\n",
    "class Student(Person):     #Student 클래스는 Person 클래스를 상속받는다는 의미 (Person의 모든 속성과 메서드를 물려받음.)\n",
    "    def __init__(self, name, gender, major):\n",
    "#        self.name = mane\n",
    "#        self.gender = gender\n",
    "        super().__init__(name, gender) # super(): 부모클래스를 가르킴.\n",
    "        #person.__init__(self, name, gender)\n",
    "        self.major = major\n",
    "    def __str__(self): #override\n",
    "        return super().__str__() + \"이고, 전공은 {}\".format(self.major)"
   ]
  },
  {
   "cell_type": "code",
   "execution_count": 23,
   "id": "34a5c4ea",
   "metadata": {},
   "outputs": [
    {
     "name": "stdout",
     "output_type": "stream",
     "text": [
      "이름과 성별 초기화\n",
      "홍길숙님은 여자이고, 전공은 AI\n",
      "홍길숙님은 여자이고, 전공은 AI\n"
     ]
    }
   ],
   "source": [
    "s = Student(\"홍길숙\",\"여자\",\"AI\")\n",
    "print(s)\n",
    "s.print_info()"
   ]
  },
  {
   "cell_type": "code",
   "execution_count": 24,
   "id": "4b40613a",
   "metadata": {},
   "outputs": [
    {
     "data": {
      "text/plain": [
       "(True, True)"
      ]
     },
     "execution_count": 24,
     "metadata": {},
     "output_type": "execute_result"
    }
   ],
   "source": [
    "isinstance(s, Student), isinstance(s, Person)"
   ]
  },
  {
   "cell_type": "markdown",
   "id": "c33fe8ed",
   "metadata": {},
   "source": [
    "## 정적변수(static 변수) : 객체를 만들 때 객체와 다른 공간에 저장되는 데이터 여러 객체들 사이에 데이터를 공유하고 싶을 때 사용\n",
    "- static 변수 앞에 under scorc 2개(__)를 붙이며 클래스명._클래스명__static변수명으로 참조\n",
    "- 클래스 변수는 외부에서 바로 접근 가능.\n",
    "- static 변수는 외부에서 바로 접근하는 것을 방지\n",
    "- static 변수는 클래스 내부에서만 접근하도록 하려는 의도."
   ]
  },
  {
   "cell_type": "code",
   "execution_count": 1,
   "id": "91a2c0f5",
   "metadata": {},
   "outputs": [],
   "source": [
    "class Person:\n",
    "    def __init__(self, name, gender):\n",
    "        self.name = name                #인스턴스 변수 : 객체 마다 따로 저장되는 값(해당 객체의 변수를 의미함.)\n",
    "        self.gender = gender            #인스턴스 변수\n",
    "    def print_info(self): #추상메소드\n",
    "        raise Exception(\"이 메소드는 호출하면 예외가 납니다\") #강제로 예외 발생\n",
    "    def __str__(self):\n",
    "        return f'{self.name}은 {self.gender}'\n",
    "\n",
    "class Student(Person):\n",
    "    __count = 0 #static 변수(객체의 갯수)\n",
    "    #클래스명._클래스명__count로 사용\n",
    "    def __init__(self, name, gender, major):\n",
    "        super().__init__(name, gender)\n",
    "        self.major = major\n",
    "        Student._Student__count += 1 #객체가 생성될 때마다 __count 1 증가\n",
    "    def __del__(self):\n",
    "        Student._Student__count -= 1 #객체가 소멸될 때마다 __count 1 감소\n",
    "        print(\"객체소멸\")\n",
    "    def print_info(self):\n",
    "        print(\"{}는 {}이고, 전공은 {}({}번째 객체)\".format(self.name,\n",
    "                                     self.gender,\n",
    "                                     self.major,\n",
    "                                     Student._Student__count))\n",
    "    def __str__(self):\n",
    "        return super().__str__() + \"이고, 전공은 {}\".format(self.major)\n",
    "    @classmethod\n",
    "    def get_count(cls):\n",
    "        #return cls.__count\n",
    "        return Student._Student__count"
   ]
  },
  {
   "cell_type": "code",
   "execution_count": 2,
   "id": "bdd9e101",
   "metadata": {},
   "outputs": [
    {
     "name": "stdout",
     "output_type": "stream",
     "text": [
      "홍길동는 남자이고, 전공은 AI(1번째 객체)\n"
     ]
    }
   ],
   "source": [
    "# p=Person(\"홍\", \"남자\")\n",
    "# p.print_info() #추상메소드\n",
    "s1 = Student(\"홍길동\", \"남자\", \"AI\")\n",
    "s1.print_info()"
   ]
  },
  {
   "cell_type": "code",
   "execution_count": 3,
   "id": "87f93017",
   "metadata": {},
   "outputs": [
    {
     "name": "stdout",
     "output_type": "stream",
     "text": [
      "김길숙는 여자이고, 전공은 데이터(2번째 객체)\n"
     ]
    }
   ],
   "source": [
    "s2=Student(\"김길숙\", \"여자\", \"데이터\")\n",
    "s2.print_info()"
   ]
  },
  {
   "cell_type": "code",
   "execution_count": 4,
   "id": "5c614093",
   "metadata": {},
   "outputs": [
    {
     "name": "stdout",
     "output_type": "stream",
     "text": [
      "신길동는 남자이고, 전공은 컴공(3번째 객체)\n"
     ]
    }
   ],
   "source": [
    "s3=Student(\"신길동\", \"남자\", \"컴공\")\n",
    "s3.print_info()"
   ]
  },
  {
   "cell_type": "code",
   "execution_count": 5,
   "id": "b441ca36",
   "metadata": {},
   "outputs": [
    {
     "data": {
      "text/plain": [
       "3"
      ]
     },
     "execution_count": 5,
     "metadata": {},
     "output_type": "execute_result"
    }
   ],
   "source": [
    "Student.get_count()"
   ]
  },
  {
   "cell_type": "code",
   "execution_count": 6,
   "id": "cb38963e",
   "metadata": {},
   "outputs": [
    {
     "name": "stdout",
     "output_type": "stream",
     "text": [
      "객체소멸\n",
      "객체소멸\n"
     ]
    }
   ],
   "source": [
    "del s3, s2"
   ]
  },
  {
   "cell_type": "code",
   "execution_count": 7,
   "id": "d6f3a704",
   "metadata": {},
   "outputs": [
    {
     "data": {
      "text/plain": [
       "1"
      ]
     },
     "execution_count": 7,
     "metadata": {},
     "output_type": "execute_result"
    }
   ],
   "source": [
    "Student.get_count()"
   ]
  },
  {
   "cell_type": "markdown",
   "id": "29ddee5e",
   "metadata": {},
   "source": [
    "# 5절. 연습문제"
   ]
  },
  {
   "cell_type": "code",
   "execution_count": 9,
   "id": "7e192582",
   "metadata": {},
   "outputs": [],
   "source": [
    "# 1. 다음 조건을 만족하는 클래스를 작성하세요"
   ]
  },
  {
   "cell_type": "code",
   "execution_count": null,
   "id": "f917805e",
   "metadata": {},
   "outputs": [],
   "source": [
    "class Shape:\n",
    "    def __init__(self, x=0, y=0):\n",
    "        self.x = x\n",
    "        self.y = y\n",
    "    def move(self, x, y):\n",
    "        'x, y좌표이동'\n",
    "        self.x += x\n",
    "        self.y += y\n",
    "    def __str__(self):\n",
    "        return 'x좌표 : {}, y좌표 : {}'.format(self.x, self.y)\n",
    "    def calc_area(self) :\n",
    "        raise Exception('강제 예외발생(이 메소드는 상속받는 곳에서 재정의 강요) \\\n",
    "                        : 추상메소드')\n",
    "\n",
    "    @staticmethod\n",
    "    def get_count(cls):\n",
    "        #return Triangle._Triangle__count\n",
    "        return cls.__count"
   ]
  },
  {
   "cell_type": "code",
   "execution_count": null,
   "id": "763c632b",
   "metadata": {},
   "outputs": [],
   "source": []
  },
  {
   "cell_type": "code",
   "execution_count": 10,
   "id": "6c7a814d",
   "metadata": {},
   "outputs": [],
   "source": [
    "# 서술형"
   ]
  },
  {
   "cell_type": "code",
   "execution_count": 11,
   "id": "652050b0",
   "metadata": {},
   "outputs": [],
   "source": [
    "#1. 다음 중 올바른 클래스 정의는? 1번(0)"
   ]
  },
  {
   "cell_type": "code",
   "execution_count": 13,
   "id": "c7d07321",
   "metadata": {},
   "outputs": [],
   "source": [
    "#2. 다음 중 Person 클래스의 객체를 생성하는 올바른 방법은? 2번(0)"
   ]
  },
  {
   "cell_type": "code",
   "execution_count": 14,
   "id": "b764644b",
   "metadata": {},
   "outputs": [],
   "source": [
    "#3. 다음 중 인스턴트 메소드를 선언하는 가장 올바른 방법은? 4번(0)"
   ]
  },
  {
   "cell_type": "code",
   "execution_count": 19,
   "id": "ab1afadd",
   "metadata": {},
   "outputs": [],
   "source": [
    "#4. 다음 중 생성자와 소멸자에 대해 잘못 설명한 것은? x 1번"
   ]
  },
  {
   "cell_type": "code",
   "execution_count": 20,
   "id": "d22bb8a1",
   "metadata": {},
   "outputs": [],
   "source": [
    "#5. 다음 중 \"Student is a Person\"을 클래스 상속으로 바르게 표현한 것은?  1번 x 2번"
   ]
  },
  {
   "cell_type": "code",
   "execution_count": 15,
   "id": "d560755f",
   "metadata": {},
   "outputs": [],
   "source": [
    "#6. 다음 중 상속과 재정의(Overriding)에 대해 잘못 설명한 것은? 3번(0)"
   ]
  },
  {
   "cell_type": "code",
   "execution_count": 18,
   "id": "90af1264",
   "metadata": {},
   "outputs": [],
   "source": [
    "#7. 다음 클래스의 메소드를 호출하는 방법 중 잘못된 것은? x 3번"
   ]
  },
  {
   "cell_type": "code",
   "execution_count": 16,
   "id": "7644302e",
   "metadata": {},
   "outputs": [],
   "source": [
    "#8. 두 클래스와 코드의 실행결과 다음과 같이 출력되도록 해야한다면 빈칸에 넣을 수 없는 것을 고르세요. x 3번"
   ]
  },
  {
   "cell_type": "code",
   "execution_count": 17,
   "id": "0a2d5b7b",
   "metadata": {},
   "outputs": [],
   "source": [
    "#9. 다음 중 파이썬의 특별한 용도로 정의되어 있는 속성과 메소드에 대한 설명 중 잘못된 것은?  2번(0)"
   ]
  },
  {
   "cell_type": "code",
   "execution_count": null,
   "id": "e0309da5",
   "metadata": {},
   "outputs": [],
   "source": []
  },
  {
   "cell_type": "code",
   "execution_count": null,
   "id": "3696e8f2",
   "metadata": {},
   "outputs": [],
   "source": []
  },
  {
   "cell_type": "code",
   "execution_count": null,
   "id": "5a524686",
   "metadata": {},
   "outputs": [],
   "source": []
  }
 ],
 "metadata": {
  "kernelspec": {
   "display_name": "Python 3 (ipykernel)",
   "language": "python",
   "name": "python3"
  },
  "language_info": {
   "codemirror_mode": {
    "name": "ipython",
    "version": 3
   },
   "file_extension": ".py",
   "mimetype": "text/x-python",
   "name": "python",
   "nbconvert_exporter": "python",
   "pygments_lexer": "ipython3",
   "version": "3.10.9"
  },
  "toc": {
   "base_numbering": 1,
   "nav_menu": {},
   "number_sections": false,
   "sideBar": true,
   "skip_h1_title": false,
   "title_cell": "Table of Contents",
   "title_sidebar": "Contents",
   "toc_cell": false,
   "toc_position": {
    "height": "calc(100% - 180px)",
    "left": "10px",
    "top": "150px",
    "width": "165px"
   },
   "toc_section_display": true,
   "toc_window_display": true
  }
 },
 "nbformat": 4,
 "nbformat_minor": 5
}
