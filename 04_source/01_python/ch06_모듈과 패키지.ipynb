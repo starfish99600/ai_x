{
 "cells": [
  {
   "cell_type": "code",
   "execution_count": 60,
   "id": "55005739",
   "metadata": {},
   "outputs": [
    {
     "data": {
      "text/html": [
       "\n",
       "<style>\n",
       "div.container{width:95% !important;}\n",
       "div.cell.code_cell.rendered{width:100%;}\n",
       "div.CodeMirror {font-family:Consolas; font-size:15pt;}\n",
       "div.output {font-size:15pt; font-weight:bold;}\n",
       "div.input {font-family:Consolas; font-size:15pt;}\n",
       "div.prompt {min-width:70px;}\n",
       "div#toc-wrapper{padding-top:120px;}\n",
       "div.text_cell_render ul li{font-size:12pt;padding:5px;}\n",
       "table.dataframe{font-size:15px;}\n",
       "</style>\n"
      ],
      "text/plain": [
       "<IPython.core.display.HTML object>"
      ]
     },
     "metadata": {},
     "output_type": "display_data"
    }
   ],
   "source": [
    "from IPython.display import display, HTML\n",
    "display(HTML(\"\"\"\n",
    "<style>\n",
    "div.container{width:95% !important;}\n",
    "div.cell.code_cell.rendered{width:100%;}\n",
    "div.CodeMirror {font-family:Consolas; font-size:15pt;}\n",
    "div.output {font-size:15pt; font-weight:bold;}\n",
    "div.input {font-family:Consolas; font-size:15pt;}\n",
    "div.prompt {min-width:70px;}\n",
    "div#toc-wrapper{padding-top:120px;}\n",
    "div.text_cell_render ul li{font-size:12pt;padding:5px;}\n",
    "table.dataframe{font-size:15px;}\n",
    "</style>\n",
    "\"\"\"))"
   ]
  },
  {
   "cell_type": "markdown",
   "id": "ea6a1c55",
   "metadata": {},
   "source": [
    "<b><font color=\"red\" size=\"5\">ch06. 모듈과 패키지</font></b>\n",
    "\n",
    "- 모듈 : 함수, 변수, 클래스 등을 포함한 파이썬 코드 파일(*.py파일), 다른 코드에서 import로 불러와 사용가능\n",
    "- 패키지 : 모듈들이 포함된 폴더,구조화된 코드 작성에 유리\n",
    "\n",
    "# 1절. 파이썬 모듈 사용\n",
    "- anaconda는 1500개 이상의 패키지 사전 install(정확한 개수는 버전에 따라 상이)\n",
    "- miniconda : 아나콘다의 미니버젼 python.org 보다 조금 많이 install이 됨.(최소한의 것만)\n",
    "- python.org : 파이썬 인터프리터와 함께 파이썬 표준 모듈 200여개 install(re, datetime...)"
   ]
  },
  {
   "cell_type": "code",
   "execution_count": null,
   "id": "f8eb7729",
   "metadata": {},
   "outputs": [],
   "source": [
    "# 모듈을 불러오고 사용하는 방법"
   ]
  },
  {
   "cell_type": "code",
   "execution_count": 5,
   "id": "20caf873",
   "metadata": {},
   "outputs": [
    {
     "data": {
      "text/plain": [
       "'Fri Apr 18 10:46:02 2025'"
      ]
     },
     "execution_count": 5,
     "metadata": {},
     "output_type": "execute_result"
    }
   ],
   "source": [
    "#1. import 모듈명: 모듈안의 함수, 클래스, 변수를 모듈명.함수명().. 사용가능\n",
    "import time # time 모듈안의 모든 함수, 클래스, 변수를 메모리 load\n",
    "time.ctime()"
   ]
  },
  {
   "cell_type": "code",
   "execution_count": 4,
   "id": "1fad00a6",
   "metadata": {},
   "outputs": [
    {
     "data": {
      "text/plain": [
       "1744940738.6613762"
      ]
     },
     "execution_count": 4,
     "metadata": {},
     "output_type": "execute_result"
    }
   ],
   "source": [
    "time.time() # 1970.1.1 부터의 밀리세컨 수"
   ]
  },
  {
   "cell_type": "code",
   "execution_count": 6,
   "id": "3f635d33",
   "metadata": {},
   "outputs": [],
   "source": [
    "del time # time 모듈에서 unload"
   ]
  },
  {
   "cell_type": "code",
   "execution_count": 7,
   "id": "5c65bdbf",
   "metadata": {},
   "outputs": [],
   "source": [
    "#2. from 모듈(A) import 함수|클래스|변수(B) : A모듈안의 B만 load\n",
    "#   from 패키지(A) import 모듈(B) : A패키지안의 B모듈을 load\n",
    "#   from 패키지(A).모듈명(B) import 함수|클래스|변수(C) : A패키지 밑의 B모듈의 C만 load"
   ]
  },
  {
   "cell_type": "code",
   "execution_count": 12,
   "id": "06bb9eb3",
   "metadata": {},
   "outputs": [],
   "source": [
    "from time import ctime, time\n",
    "#from time import ctime\n",
    "#from time import time\n",
    "#으로 두줄로 사용할수도 있음"
   ]
  },
  {
   "cell_type": "code",
   "execution_count": 13,
   "id": "9d1302f5",
   "metadata": {},
   "outputs": [
    {
     "data": {
      "text/plain": [
       "'Fri Apr 18 10:53:54 2025'"
      ]
     },
     "execution_count": 13,
     "metadata": {},
     "output_type": "execute_result"
    }
   ],
   "source": [
    "ctime()"
   ]
  },
  {
   "cell_type": "code",
   "execution_count": 14,
   "id": "874ed585",
   "metadata": {},
   "outputs": [
    {
     "data": {
      "text/plain": [
       "1744941238.7473054"
      ]
     },
     "execution_count": 14,
     "metadata": {},
     "output_type": "execute_result"
    }
   ],
   "source": [
    "time()"
   ]
  },
  {
   "cell_type": "code",
   "execution_count": 15,
   "id": "efa4617b",
   "metadata": {},
   "outputs": [],
   "source": [
    "del ctime, time #del 불러온 모듈을 삭제하겠다는 명령어"
   ]
  },
  {
   "cell_type": "code",
   "execution_count": 16,
   "id": "34b09450",
   "metadata": {},
   "outputs": [],
   "source": [
    "# 3. import 모듈명 as 별칭 : 모듈명을 메모리에서 load하고 별칭으로 사용\n",
    "import time as t    #time를 t로 호출하겠다는 선언\n",
    "import numpy as np  #numpy를 np로 호출하겠다는 선언"
   ]
  },
  {
   "cell_type": "code",
   "execution_count": 17,
   "id": "d3462840",
   "metadata": {},
   "outputs": [
    {
     "data": {
      "text/plain": [
       "'Fri Apr 18 10:56:31 2025'"
      ]
     },
     "execution_count": 17,
     "metadata": {},
     "output_type": "execute_result"
    }
   ],
   "source": [
    "t.ctime()"
   ]
  },
  {
   "cell_type": "code",
   "execution_count": 18,
   "id": "94fb2deb",
   "metadata": {},
   "outputs": [
    {
     "data": {
      "text/plain": [
       "1744941398.5740428"
      ]
     },
     "execution_count": 18,
     "metadata": {},
     "output_type": "execute_result"
    }
   ],
   "source": [
    "t.time()"
   ]
  },
  {
   "cell_type": "code",
   "execution_count": 20,
   "id": "b945b20d",
   "metadata": {},
   "outputs": [],
   "source": [
    "del t"
   ]
  },
  {
   "cell_type": "code",
   "execution_count": 23,
   "id": "bbaccbbc",
   "metadata": {},
   "outputs": [],
   "source": [
    "#4. from 모듈명 import 함수 as 별칭\n",
    "#   from 패키지명 import 모듈명 as 별칭\n",
    "#   from 패키지명.모듈명 import 함수 as 별칭\n",
    "\n",
    "from time import ctime as ct, time as ti\n",
    "#from time import ctime as ct\n",
    "#from time import time as ti\n",
    "#두줄로도 표현가능하며 한줄로 줄일수 있다."
   ]
  },
  {
   "cell_type": "code",
   "execution_count": 24,
   "id": "6f3ffaf1",
   "metadata": {},
   "outputs": [
    {
     "data": {
      "text/plain": [
       "'Fri Apr 18 11:01:09 2025'"
      ]
     },
     "execution_count": 24,
     "metadata": {},
     "output_type": "execute_result"
    }
   ],
   "source": [
    "ct()"
   ]
  },
  {
   "cell_type": "code",
   "execution_count": 25,
   "id": "0efc4f9f",
   "metadata": {},
   "outputs": [
    {
     "data": {
      "text/plain": [
       "1744941670.772067"
      ]
     },
     "execution_count": 25,
     "metadata": {},
     "output_type": "execute_result"
    }
   ],
   "source": [
    "ti()"
   ]
  },
  {
   "cell_type": "code",
   "execution_count": 26,
   "id": "063acf5f",
   "metadata": {},
   "outputs": [],
   "source": [
    "#import A : A모듈을 load\n",
    "#import A : A패키지 밑의 __init__모듈을 load *실무에서 잘 사용되지는 않음.\n",
    "#from A import B : A패키지 안의 B모듈 load\n",
    "#from A import B : A모듈 안의 B함수 load\n",
    "#from A.B import C : A패키지 밑의 B모듈안의 C함수 load"
   ]
  },
  {
   "cell_type": "code",
   "execution_count": 27,
   "id": "d7168550",
   "metadata": {},
   "outputs": [],
   "source": [
    "#import A as L(임의의 별칭) : A모듈을 L이름으로 load\n",
    "#import A as L(임의의 별칭) : A패키지를 L이름으로 __init__모듈을 load *실무에서 잘 사용되지는 않음.\n",
    "#from A import B : A패키지 안의 B모듈을 L이름으로 load\n",
    "#from A import B : A모듈 안의 B함수를 L이름으로 load\n",
    "#from A.B import C : A패키지 밑의 B모듈안의 C함수를 L이름으로 load"
   ]
  },
  {
   "cell_type": "markdown",
   "id": "fe0879d1",
   "metadata": {},
   "source": [
    "# 2절. 사용자 정의 모듈\n",
    "- 모듈 가져오는 순서 (1) 파이썬 표준모듈 200개 중에서 찾아옴 -> (2)sys.path변수에 저장된 경로"
   ]
  },
  {
   "cell_type": "code",
   "execution_count": 29,
   "id": "7681ef2a",
   "metadata": {},
   "outputs": [
    {
     "data": {
      "text/plain": [
       "['C:\\\\AI_x\\\\04_source\\\\01_python',\n",
       " 'C:\\\\Users\\\\Admin\\\\anaconda3\\\\python310.zip',\n",
       " 'C:\\\\Users\\\\Admin\\\\anaconda3\\\\DLLs',\n",
       " 'C:\\\\Users\\\\Admin\\\\anaconda3\\\\lib',\n",
       " 'C:\\\\Users\\\\Admin\\\\anaconda3',\n",
       " '',\n",
       " 'C:\\\\Users\\\\Admin\\\\anaconda3\\\\lib\\\\site-packages',\n",
       " 'C:\\\\Users\\\\Admin\\\\anaconda3\\\\lib\\\\site-packages\\\\win32',\n",
       " 'C:\\\\Users\\\\Admin\\\\anaconda3\\\\lib\\\\site-packages\\\\win32\\\\lib',\n",
       " 'C:\\\\Users\\\\Admin\\\\anaconda3\\\\lib\\\\site-packages\\\\Pythonwin']"
      ]
     },
     "execution_count": 29,
     "metadata": {},
     "output_type": "execute_result"
    }
   ],
   "source": [
    "import sys\n",
    "sys.path"
   ]
  },
  {
   "cell_type": "code",
   "execution_count": 31,
   "id": "efb86b5e",
   "metadata": {},
   "outputs": [
    {
     "ename": "ModuleNotFoundError",
     "evalue": "No module named 'objgrap'",
     "output_type": "error",
     "traceback": [
      "\u001b[1;31m---------------------------------------------------------------------------\u001b[0m",
      "\u001b[1;31mModuleNotFoundError\u001b[0m                       Traceback (most recent call last)",
      "Cell \u001b[1;32mIn[31], line 1\u001b[0m\n\u001b[1;32m----> 1\u001b[0m \u001b[38;5;28;01mimport\u001b[39;00m \u001b[38;5;21;01mobjgrap\u001b[39;00m\n\u001b[0;32m      2\u001b[0m sys\u001b[38;5;241m.\u001b[39mpath\n",
      "\u001b[1;31mModuleNotFoundError\u001b[0m: No module named 'objgrap'"
     ]
    }
   ],
   "source": [
    "import objgrap\n",
    "sys.path\n",
    "#오파이썬 모듈이 아니므로 오류가 발생함. "
   ]
  },
  {
   "cell_type": "code",
   "execution_count": 33,
   "id": "633f03af",
   "metadata": {},
   "outputs": [
    {
     "data": {
      "text/plain": [
       "['C:\\\\AI_x\\\\04_source\\\\01_python',\n",
       " 'C:\\\\Users\\\\Admin\\\\anaconda3\\\\python310.zip',\n",
       " 'C:\\\\Users\\\\Admin\\\\anaconda3\\\\DLLs',\n",
       " 'C:\\\\Users\\\\Admin\\\\anaconda3\\\\lib',\n",
       " 'C:\\\\Users\\\\Admin\\\\anaconda3',\n",
       " '',\n",
       " 'C:\\\\Users\\\\Admin\\\\anaconda3\\\\lib\\\\site-packages',\n",
       " 'C:\\\\Users\\\\Admin\\\\anaconda3\\\\lib\\\\site-packages\\\\win32',\n",
       " 'C:\\\\Users\\\\Admin\\\\anaconda3\\\\lib\\\\site-packages\\\\win32\\\\lib',\n",
       " 'C:\\\\Users\\\\Admin\\\\anaconda3\\\\lib\\\\site-packages\\\\Pythonwin',\n",
       " 'C:\\\\AI_x\\\\04_source\\\\pylib',\n",
       " 'C:\\\\AI_x\\\\04_source\\\\pylib']"
      ]
     },
     "execution_count": 33,
     "metadata": {},
     "output_type": "execute_result"
    }
   ],
   "source": [
    "#파이썬 모듈을 불러오는 경로를 추가하는 코드\n",
    "sys.path.append(r'C:\\AI_x\\04_source\\pylib')\n",
    "sys.path"
   ]
  },
  {
   "cell_type": "code",
   "execution_count": 35,
   "id": "9163484e",
   "metadata": {},
   "outputs": [],
   "source": [
    "#모듈 만들고 불러오는법(강의내용 기록)\n",
    "#모듈 불러오는 경오 추가코드 작성(바로 위 코드)\n",
    "#vocode 실행\n",
    "#모듈 저장경로 설정 C:\\AI_x\\04_source\\pylib에 저장되도록 .py파일 제작 후 vscode로 작성\n",
    "#모듈 저장경로는 사용자 상황에 따라 설정"
   ]
  },
  {
   "cell_type": "code",
   "execution_count": 41,
   "id": "1acd5196",
   "metadata": {},
   "outputs": [
    {
     "name": "stdout",
     "output_type": "stream",
     "text": [
      "0 1 1 2 3 5 8 13 21 34 55 89 144 \n",
      "[0, 1, 1, 2, 3, 5, 8, 13, 21, 34, 55, 89]\n"
     ]
    }
   ],
   "source": [
    "#모듈을 불러와서 실행하는 1번째 방법(#import A : A모듈을 load)\n",
    "import fibo\n",
    "fibo.fibonacci_print(200) #실행코드는 모듈의 방식을 따름.\n",
    "print(fibo.fibonacci_return(100))"
   ]
  },
  {
   "cell_type": "code",
   "execution_count": 42,
   "id": "a26a0d7d",
   "metadata": {},
   "outputs": [],
   "source": [
    "del fibo #fibo모듈을 삭제함."
   ]
  },
  {
   "cell_type": "code",
   "execution_count": 43,
   "id": "565c1f9e",
   "metadata": {},
   "outputs": [
    {
     "name": "stdout",
     "output_type": "stream",
     "text": [
      "0 1 1 2 3 5 8 13 21 34 55 89 \n"
     ]
    }
   ],
   "source": [
    "# 2. #from A import B : A모듈 안의 B함수 load 하는 방법\n",
    "from fibo import fibonacci_print\n",
    "fibonacci_print(100)"
   ]
  },
  {
   "cell_type": "code",
   "execution_count": 44,
   "id": "79e805d0",
   "metadata": {},
   "outputs": [],
   "source": [
    "del fibonacci_print"
   ]
  },
  {
   "cell_type": "code",
   "execution_count": 45,
   "id": "fb9cb99d",
   "metadata": {},
   "outputs": [
    {
     "name": "stdout",
     "output_type": "stream",
     "text": [
      "0 1 1 2 3 5 8 13 21 34 55 89 144 \n",
      "[0, 1, 1, 2, 3, 5, 8, 13, 21, 34, 55, 89]\n"
     ]
    }
   ],
   "source": [
    "# 3. #import A as L(임의의 별칭) : A모듈을 L이름으로 load\n",
    "import fibo as f  \n",
    "f.fibonacci_print(200) #실행어\n",
    "print(f.fibonacci_return(100)) #출력지시"
   ]
  },
  {
   "cell_type": "code",
   "execution_count": 46,
   "id": "4caff60c",
   "metadata": {},
   "outputs": [
    {
     "data": {
      "text/plain": [
       "[0, 1, 1, 2, 3, 5, 8, 13, 21, 34, 55, 89, 144]"
      ]
     },
     "execution_count": 46,
     "metadata": {},
     "output_type": "execute_result"
    }
   ],
   "source": [
    "# 4.\n",
    "from fibo import fibonacci_return as fibo_r\n",
    "fibo_r(200)"
   ]
  },
  {
   "cell_type": "markdown",
   "id": "7f7f8c31",
   "metadata": {},
   "source": [
    "# 3. 패키지\n",
    "- 패키지 : 모듈들이 포함된 폴더,구조화된 코드 작성에 유리"
   ]
  },
  {
   "cell_type": "code",
   "execution_count": 48,
   "id": "cf645280",
   "metadata": {},
   "outputs": [
    {
     "name": "stdout",
     "output_type": "stream",
     "text": [
      "sample_pac 패키지를 로드 했습니다.\n"
     ]
    }
   ],
   "source": [
    "import sample_pac"
   ]
  },
  {
   "cell_type": "code",
   "execution_count": 58,
   "id": "28d940ed",
   "metadata": {},
   "outputs": [],
   "source": [
    "#패키지 만들기\n",
    "#디렉터리 추가시 반드시 '__(임의이름-반드시 영어 소문자만 사용)__.py'양식으로 지정"
   ]
  },
  {
   "cell_type": "code",
   "execution_count": 49,
   "id": "c7369e7f",
   "metadata": {},
   "outputs": [
    {
     "name": "stdout",
     "output_type": "stream",
     "text": [
      "sample_pac패키지 안의 ab패키지 로드됩니다\n"
     ]
    }
   ],
   "source": [
    "#from A.B import C : A패키지 밑의 B모듈안의 C함수를 load 라는 양식임.\n",
    "from sample_pac.ab import *\n",
    "##from A.B import C : sample_pac 패키지 밑의 ab모듈안의 모든함수를 load 라는 뜻."
   ]
  },
  {
   "cell_type": "code",
   "execution_count": 50,
   "id": "1b2f640e",
   "metadata": {},
   "outputs": [
    {
     "name": "stdout",
     "output_type": "stream",
     "text": [
      "sample_pac/ab/b모듈안의 world\n"
     ]
    }
   ],
   "source": [
    "from sample_pac.ab.b import world\n",
    "world()"
   ]
  },
  {
   "cell_type": "code",
   "execution_count": 51,
   "id": "35619831",
   "metadata": {},
   "outputs": [
    {
     "name": "stdout",
     "output_type": "stream",
     "text": [
      "sample_pac/cd/c모듈안의 nice\n",
      "sample_pac/ab/a모듈의 hello\n"
     ]
    }
   ],
   "source": [
    "# import sample_pac안의 cd안의 c함수를 c라고 지칭한다.\n",
    "import sample_pac.cd.c as c\n",
    "c.nice()"
   ]
  },
  {
   "cell_type": "markdown",
   "id": "c28e1d32",
   "metadata": {},
   "source": [
    "# 4절. 패키지 설치 및 삭제\n",
    "\n",
    "* 아나콘다 프롬프트에서 실행해야함.\n",
    "- pypi.org (웹사이트) 에서 설치\n",
    "- 패키지 설치 : pip install 패키지명[==버전] / conda install 패키지명[==버전] , pip install 패키지 화일명(*.whl 출처 : pypi.org) \n",
    "               *아나콘다 프롬프트에 입력하면 알아서 온라인에서 찾아서 설치해줌.\n",
    "- 버젼은 통상 한단계 아래버젼을 선호함.(안정성이 더 높음, 검증됨)\n",
    "- 패키지 설치여부 확인 : pip show 패키지명            / conda list 패키지명\n",
    "- 패키지 삭제 : pip uninstall 패키지명               / conda remove 패키지명"
   ]
  },
  {
   "cell_type": "code",
   "execution_count": 52,
   "id": "d84cc26c",
   "metadata": {},
   "outputs": [
    {
     "ename": "ModuleNotFoundError",
     "evalue": "No module named 'objgraph'",
     "output_type": "error",
     "traceback": [
      "\u001b[1;31m---------------------------------------------------------------------------\u001b[0m",
      "\u001b[1;31mModuleNotFoundError\u001b[0m                       Traceback (most recent call last)",
      "Cell \u001b[1;32mIn[52], line 2\u001b[0m\n\u001b[0;32m      1\u001b[0m \u001b[38;5;66;03m#메모리 사용량을 확인할 수 있는 함수\u001b[39;00m\n\u001b[1;32m----> 2\u001b[0m \u001b[38;5;28;01mimport\u001b[39;00m \u001b[38;5;21;01mobjgraph\u001b[39;00m\n",
      "\u001b[1;31mModuleNotFoundError\u001b[0m: No module named 'objgraph'"
     ]
    }
   ],
   "source": [
    "#메모리 사용량을 확인할 수 있는 함수\n",
    "import objgraph"
   ]
  },
  {
   "cell_type": "code",
   "execution_count": 54,
   "id": "9dae9fda",
   "metadata": {},
   "outputs": [
    {
     "name": "stdout",
     "output_type": "stream",
     "text": [
      "# packages in environment at C:\\Users\\Admin\\anaconda3:\n",
      "#\n",
      "# Name                    Version                   Build  Channel\n",
      "\n",
      "Note: you may need to restart the kernel to use updated packages.\n"
     ]
    }
   ],
   "source": [
    "#패키지가 설치되지 않았으므로 오류메세지가 출력됨.\n",
    "conda list objgraph"
   ]
  },
  {
   "cell_type": "code",
   "execution_count": 55,
   "id": "60c92f26",
   "metadata": {},
   "outputs": [],
   "source": [
    "import objgraph #패키지 설치 후 불러옴(방법은 상단 패키지 설치방법 참조)"
   ]
  },
  {
   "cell_type": "code",
   "execution_count": 57,
   "id": "d545e1b2",
   "metadata": {},
   "outputs": [
    {
     "name": "stdout",
     "output_type": "stream",
     "text": [
      "list          36353\n",
      "dict          35169\n",
      "function      20921\n",
      "Token         16830\n",
      "Operator      16374\n",
      "tuple         14115\n",
      "Name          13518\n",
      "PythonNode    11626\n",
      "ReferenceType 5776\n",
      "DFAPlan       5418\n"
     ]
    }
   ],
   "source": [
    "objgraph.show_most_common_types()"
   ]
  },
  {
   "cell_type": "markdown",
   "id": "45dfc8a5",
   "metadata": {},
   "source": [
    "# 5. 연습문제"
   ]
  },
  {
   "cell_type": "code",
   "execution_count": 59,
   "id": "8a7a99a8",
   "metadata": {},
   "outputs": [],
   "source": [
    "# 1 (3)\n",
    "# 2 (4)\n",
    "# 3 __init__.py\n",
    "# 4 __all__\n",
    "# 5 (1)python -m pip install --upgrade pip (pip 최신버전 업그레이드)"
   ]
  },
  {
   "cell_type": "code",
   "execution_count": null,
   "id": "2253f58c",
   "metadata": {},
   "outputs": [],
   "source": []
  },
  {
   "cell_type": "code",
   "execution_count": null,
   "id": "221b394d",
   "metadata": {},
   "outputs": [],
   "source": []
  },
  {
   "cell_type": "code",
   "execution_count": null,
   "id": "7ebfd777",
   "metadata": {},
   "outputs": [],
   "source": []
  },
  {
   "cell_type": "code",
   "execution_count": null,
   "id": "23e2e6a7",
   "metadata": {},
   "outputs": [],
   "source": []
  },
  {
   "cell_type": "code",
   "execution_count": null,
   "id": "0c2dd25e",
   "metadata": {},
   "outputs": [],
   "source": []
  },
  {
   "cell_type": "code",
   "execution_count": null,
   "id": "7da7389d",
   "metadata": {},
   "outputs": [],
   "source": []
  },
  {
   "cell_type": "code",
   "execution_count": null,
   "id": "13748fb9",
   "metadata": {},
   "outputs": [],
   "source": []
  },
  {
   "cell_type": "code",
   "execution_count": null,
   "id": "9ba801c4",
   "metadata": {},
   "outputs": [],
   "source": []
  },
  {
   "cell_type": "code",
   "execution_count": null,
   "id": "79ec56a3",
   "metadata": {},
   "outputs": [],
   "source": []
  },
  {
   "cell_type": "code",
   "execution_count": null,
   "id": "b1d5dfeb",
   "metadata": {},
   "outputs": [],
   "source": []
  },
  {
   "cell_type": "code",
   "execution_count": null,
   "id": "6f1b6767",
   "metadata": {},
   "outputs": [],
   "source": []
  },
  {
   "cell_type": "code",
   "execution_count": null,
   "id": "97aead57",
   "metadata": {},
   "outputs": [],
   "source": []
  },
  {
   "cell_type": "code",
   "execution_count": null,
   "id": "c53e4310",
   "metadata": {},
   "outputs": [],
   "source": []
  },
  {
   "cell_type": "code",
   "execution_count": null,
   "id": "540aad06",
   "metadata": {},
   "outputs": [],
   "source": []
  },
  {
   "cell_type": "code",
   "execution_count": null,
   "id": "a9e60e79",
   "metadata": {},
   "outputs": [],
   "source": []
  },
  {
   "cell_type": "code",
   "execution_count": null,
   "id": "b11a615c",
   "metadata": {},
   "outputs": [],
   "source": []
  },
  {
   "cell_type": "code",
   "execution_count": null,
   "id": "712a70ee",
   "metadata": {},
   "outputs": [],
   "source": []
  },
  {
   "cell_type": "code",
   "execution_count": null,
   "id": "31f7ee1c",
   "metadata": {},
   "outputs": [],
   "source": []
  }
 ],
 "metadata": {
  "kernelspec": {
   "display_name": "Python 3 (ipykernel)",
   "language": "python",
   "name": "python3"
  },
  "language_info": {
   "codemirror_mode": {
    "name": "ipython",
    "version": 3
   },
   "file_extension": ".py",
   "mimetype": "text/x-python",
   "name": "python",
   "nbconvert_exporter": "python",
   "pygments_lexer": "ipython3",
   "version": "3.10.9"
  },
  "toc": {
   "base_numbering": 1,
   "nav_menu": {},
   "number_sections": false,
   "sideBar": true,
   "skip_h1_title": false,
   "title_cell": "Table of Contents",
   "title_sidebar": "Contents",
   "toc_cell": false,
   "toc_position": {
    "height": "calc(100% - 180px)",
    "left": "10px",
    "top": "150px",
    "width": "171px"
   },
   "toc_section_display": true,
   "toc_window_display": false
  }
 },
 "nbformat": 4,
 "nbformat_minor": 5
}
