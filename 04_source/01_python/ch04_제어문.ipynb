{
 "cells": [
  {
   "cell_type": "code",
   "execution_count": 1,
   "id": "b0576686",
   "metadata": {},
   "outputs": [
    {
     "data": {
      "text/html": [
       "\n",
       "<style>\n",
       "div.container{width:95% !important;}\n",
       "div.cell.code_cell.rendered{width:100%;}\n",
       "div.CodeMirror {font-family:Consolas; font-size:15pt;}\n",
       "div.output {font-size:15pt; font-weight:bold;}\n",
       "div.input {font-family:Consolas; font-size:15pt;}\n",
       "div.prompt {min-width:70px;}\n",
       "div#toc-wrapper{padding-top:120px;}\n",
       "div.text_cell_render ul li{font-size:12pt;padding:5px;}\n",
       "table.dataframe{font-size:15px;}\n",
       "</style>\n"
      ],
      "text/plain": [
       "<IPython.core.display.HTML object>"
      ]
     },
     "metadata": {},
     "output_type": "display_data"
    }
   ],
   "source": [
    "from IPython.display import display, HTML\n",
    "display(HTML(\"\"\"\n",
    "<style>\n",
    "div.container{width:95% !important;}\n",
    "div.cell.code_cell.rendered{width:100%;}\n",
    "div.CodeMirror {font-family:Consolas; font-size:15pt;}\n",
    "div.output {font-size:15pt; font-weight:bold;}\n",
    "div.input {font-family:Consolas; font-size:15pt;}\n",
    "div.prompt {min-width:70px;}\n",
    "div#toc-wrapper{padding-top:120px;}\n",
    "div.text_cell_render ul li{font-size:12pt;padding:5px;}\n",
    "table.dataframe{font-size:15px;}\n",
    "</style>\n",
    "\"\"\"))"
   ]
  },
  {
   "cell_type": "markdown",
   "id": "e4f53c66",
   "metadata": {},
   "source": [
    "<b><font color=\"red\" size=\"5\">ch.04. 제어문</font></b>\n",
    "- 조건문 : if문\n",
    "- 반복문 : for문, while문, 중첩가능"
   ]
  },
  {
   "cell_type": "markdown",
   "id": "5d916029",
   "metadata": {},
   "source": [
    "# 1절. 조건문(if)\n",
    "```\n",
    "if 조건1 :\n",
    "    조건이 참일 경우 수행할 명령어들\n",
    "elif 조건2 :\n",
    "    조건 1이 거짓이고, 조건2가 참일 경우 수행할 명령어들\n",
    "else :\n",
    "    모든 조건을 만족하지 않을 때 수행할 명령어들\n",
    "```"
   ]
  },
  {
   "cell_type": "code",
   "execution_count": 6,
   "id": "cdb776d6",
   "metadata": {},
   "outputs": [
    {
     "name": "stdout",
     "output_type": "stream",
     "text": [
      "점수는 :77\n",
      "분발하세요\n",
      "뭐 그래도 고생하셨어요.\n"
     ]
    }
   ],
   "source": [
    "#if문 운용 기본개념\n",
    "score = int(input('점수는 :')) #변수선정, int는 정수, input는 사용자에게 입력토록하는 함수\n",
    "if score >= 90 :               # 1차 조건문\n",
    "    print('참 잘했어요')\n",
    "    print('다음에도 기대할게요')\n",
    "elif score >= 60 :             # 2차 조건문(1차 조건이 참이 아닌경우 동작함.)\n",
    "    print('분발하세요')\n",
    "    print('뭐 그래도 고생하셨어요.')\n",
    "else :                         # 1차와 2차 조건이 참이 아닌경우 처리방안.\n",
    "    print('재시험 응시하셔야 합니다')\n",
    "    print('화이팅') #들여쓰기가 중요함. 만약 이 구문을 맨 앞으로 두면, 어떠한 경우에도 출력됨."
   ]
  },
  {
   "cell_type": "code",
   "execution_count": 10,
   "id": "a574c5fb",
   "metadata": {
    "scrolled": true
   },
   "outputs": [
    {
     "name": "stdout",
     "output_type": "stream",
     "text": [
      "점수는 >102\n",
      "입력하신 점수는 102점이고, 유효하지 않은 점수등급입니다.\n"
     ]
    }
   ],
   "source": [
    "# 점수(0~100점)를 입력받아 학점을 출력하시오(A, B, C, D, E, F, 유효하지 않은 점수)\n",
    "score = int(input('점수는 >'))\n",
    "if 90<=score<=100 :  #(score>=90) & (score<=100):    ←이렇게 표현하는것도 가능함\n",
    "    grade='A'\n",
    "elif 80<=score<=90 :\n",
    "    grade='B'\n",
    "elif 70<=score<=80 :\n",
    "    grade='C'\n",
    "elif 60<=score<=70 :\n",
    "    grade='D'\n",
    "elif 0<=score<=60 :\n",
    "    grade='F'\n",
    "else:\n",
    "    grade = '유효하지 않은 점수'\n",
    "print(\"입력하신 점수는 {}점이고, {}등급입니다.\".format(score,grade))"
   ]
  },
  {
   "cell_type": "markdown",
   "id": "e124e728",
   "metadata": {},
   "source": [
    "# 2절. 반복문\n",
    "## 2.1 for-in문\n",
    "```\n",
    "반복가능한 자료형의 요소들을 하나씩 꺼내며 반복하는 문법\n",
    "\n",
    "for 임시변수 in 나열가능한자료:\n",
    "    반복할명령어1\n",
    "    반복할명령어2\n",
    "    if조건 :               -------------> 상황에 따라 넣을수도 있음.\n",
    "        break()           --------------> 상황에 따라 넣을수도 있음.(이 경우 else를 수행하지 않음)\n",
    "else :\n",
    "    나열가능한 자료가 다 소요되어 for블록을 다 수행한 후 최종 한번 수행할 명령어\n",
    "    for문 안에 break를 수행할 경우 else 블록은 수행되지 않음.\n",
    "```"
   ]
  },
  {
   "cell_type": "code",
   "execution_count": 18,
   "id": "60836cdf",
   "metadata": {},
   "outputs": [
    {
     "name": "stdout",
     "output_type": "stream",
     "text": [
      "1\t3\t5\t7\t9\t\n",
      "DONE\n",
      "END\n"
     ]
    }
   ],
   "source": [
    "#사용예시\n",
    "for i in range(1, 10, 2):      #range(시작값, 끝값(포함되지 않고 그 직전값), 증가값) : 정수의 연속된 범위를 설정하는 함수\n",
    "    print(i, end='\\t')         #end='\\t' 함수의 출력형식 변경  #\\t는 탭을 삽입하라는 뜻(간격이 생김)  #end는 줄바꿈대신 다른 문자열을 붙이도록 설정\n",
    "else :\n",
    "    print('\\nDONE')            #\\n 출력형식 변경, 줄을 바꾸어서 출력해라.\n",
    "print('END')"
   ]
  },
  {
   "cell_type": "code",
   "execution_count": 12,
   "id": "71f2748e",
   "metadata": {},
   "outputs": [
    {
     "name": "stdout",
     "output_type": "stream",
     "text": [
      "1\t3\tEND\n"
     ]
    }
   ],
   "source": [
    "for i in range(1, 10, 2):\n",
    "    if i==5:\n",
    "        break\n",
    "    print(i, end='\\t')\n",
    "else :\n",
    "    print('\\nDONE')\n",
    "print('END')"
   ]
  },
  {
   "cell_type": "code",
   "execution_count": 15,
   "id": "582a335d",
   "metadata": {},
   "outputs": [
    {
     "name": "stdout",
     "output_type": "stream",
     "text": [
      "1~100까지 합은 5050\n"
     ]
    }
   ],
   "source": [
    "# 1~100까지 짝수들의 누적합을 출력하시오(for-in문)\n",
    "tot = 0 # 누적변수\n",
    "for i in range(1, 101):\n",
    "    tot += i           #tot = tot + i  # \"=+\"복합할당 연산자 : 기존값에 어떤 값을 더해서 다시 저장할 때 사용\n",
    "print('1~100까지 합은', tot)"
   ]
  },
  {
   "cell_type": "code",
   "execution_count": 17,
   "id": "5328a64c",
   "metadata": {},
   "outputs": [
    {
     "name": "stdout",
     "output_type": "stream",
     "text": [
      "1~100까지 짝수들의 합은 2550\n"
     ]
    }
   ],
   "source": [
    "# 1~100까지 짝수들의 누적합을 출력하시오(for-in문)\n",
    "tot = 0 # 누적변수\n",
    "for i in range(1, 101):\n",
    "    if i%2==0:         #i%2 i를 2로 나눈 나머지 #==나머지가 1과 같은지 비교\n",
    "        tot += i       #tot = tot + i\n",
    "print('1~100까지 짝수들의 합은', tot)"
   ]
  },
  {
   "cell_type": "markdown",
   "id": "266e5940",
   "metadata": {},
   "source": [
    "## 2.2 while문\n",
    "```\n",
    "조건이 참인 동안 계속해서 반복함. 조건이 거짓이 되면 반복을 멈춤. 반드시 조건을 거짓이 되게 만들지 않으면 무한반복하다가 컴퓨터 박살남\n",
    "while 조건식:\n",
    "    조건이 참일 경우 반복할 문장들\n",
    "else:\n",
    "    조건이 거짓일 경우 한번 실행할 문장(else구문은 선택사항임.)\n",
    "\n",
    "비교: while vs for-in\n",
    "구분\twhile 문\tfor-in 문\n",
    "반복 조건 :\t직접 조건 지정\t요소 개수에 따라 자동 반복\n",
    "무한 반복 : 가능\t가능 (조건 명시)\t일반적으로 고정된 반복\n",
    "사용 대상 :\t숫자, 논리값 조건 등\t리스트, 문자열, range 등\n",
    "```"
   ]
  },
  {
   "cell_type": "code",
   "execution_count": null,
   "id": "43ad0276",
   "metadata": {},
   "outputs": [],
   "source": [
    "# 1~100까지 누적합 출력\n",
    "tot = 0\n",
    "i = 1\n",
    "while i<=100:\n",
    "    tot += i\n",
    "print('1~100까지 누적합은', tot)"
   ]
  },
  {
   "cell_type": "code",
   "execution_count": null,
   "id": "cd79b830",
   "metadata": {},
   "outputs": [],
   "source": [
    "# 예제문제"
   ]
  },
  {
   "cell_type": "code",
   "execution_count": 40,
   "id": "3625a7ba",
   "metadata": {},
   "outputs": [
    {
     "name": "stdout",
     "output_type": "stream",
     "text": [
      "정수1: 1\n",
      "정수2:100\n",
      "1~100까지 홀수들의 합은 2501\n"
     ]
    }
   ],
   "source": [
    "# 1.사용자에게 두 정수를 입력받아, 작은수부터 큰수까지 홀수의 합을 누적해서 출력\n",
    "tot = int(input('정수1: '))\n",
    "tot2 = int(input('정수2:'))\n",
    "for i in range(tot, tot2):\n",
    "    if i%2==1:\n",
    "        tot += i #여기에 문제가 있는거 같다. 다시 생각해보자.\n",
    "print('1~100까지 홀수들의 합은', tot)\n",
    "# 무언가가 잘못되었다. 다시 생각해보자."
   ]
  },
  {
   "cell_type": "code",
   "execution_count": 38,
   "id": "2795fc4d",
   "metadata": {},
   "outputs": [
    {
     "name": "stdout",
     "output_type": "stream",
     "text": [
      "첫번째 정수는 >1\n",
      "두번째 정수는 >100\n",
      "first=1, second=100\n",
      "1부터 100까지 홀수 누적합은 2500입니다\n"
     ]
    }
   ],
   "source": [
    "# (강사님 풀이) ex1. 사용자에게 두 정수를 입력받아, 작은수부터 큰수까지 홀수의 합을 누적해서 출력\n",
    "first = int(input(\"첫번째 정수는 >\"))\n",
    "second = int(input(\"두번째 정수는 >\"))\n",
    "# # (1-1) 두 수 중 작은 수는 min_에 큰수는 max_에 할당\n",
    "# if first<second:\n",
    "#     min_ = first\n",
    "#     max_ = second\n",
    "# else:\n",
    "#     min_ = second\n",
    "#     max_ = first\n",
    "# # (2-1) min_부터 max_까지 홀수합 누적\n",
    "# tot = 0\n",
    "# for i in range(min_, max_+1):\n",
    "#     if i%2: # i%2!=0: #(i%2==1) | (i%2==-1):\n",
    "#         tot += i\n",
    "# # (3-1) 출력\n",
    "# print(f\"{min_}부터 {max_}까지 홀수들의 합은 {tot}입니다\")\n",
    "# (1-2) first에 작은수로 second에 큰수가 되도록 함\n",
    "if first > second:\n",
    "    # 바꿔\n",
    "#     temp = first\n",
    "#     first = second\n",
    "#     second = temp\n",
    "    first, second = second, first\n",
    "print(\"first={}, second={}\".format(first, second))\n",
    "# (2-2) first부터 second까지 홀수들 누적\n",
    "tot = 0\n",
    "for i in range(first, second+1):\n",
    "    if i%2:\n",
    "        tot += i\n",
    "# (3-3) 출력\n",
    "print(\"{}부터 {}까지 홀수 누적합은 {}입니다\".format(first, second, tot))"
   ]
  },
  {
   "cell_type": "code",
   "execution_count": null,
   "id": "3da1d6f7",
   "metadata": {},
   "outputs": [],
   "source": [
    "# 2. 1~45까지의 로또번호 6개를 추출하여 출력(오름차순 정렬결과를 출력)\n"
   ]
  },
  {
   "cell_type": "code",
   "execution_count": 5,
   "id": "09fb8283",
   "metadata": {},
   "outputs": [
    {
     "name": "stdout",
     "output_type": "stream",
     "text": [
      "0번째까지 정렬 내용 : [23] / [23, 41, 42, 44, 35, 37]\n",
      "1번째까지 정렬 내용 : [23, 35] / [23, 35, 42, 44, 41, 37]\n",
      "2번째까지 정렬 내용 : [23, 35, 37] / [23, 35, 37, 44, 42, 41]\n",
      "3번째까지 정렬 내용 : [23, 35, 37, 41] / [23, 35, 37, 41, 44, 42]\n",
      "4번째까지 정렬 내용 : [23, 35, 37, 41, 42] / [23, 35, 37, 41, 42, 44]\n",
      "난수 7번 뽑아서 로또는 [23, 35, 37, 41, 42, 44]\n"
     ]
    }
   ],
   "source": [
    "# ex2. 1~45까지의 로또번호 6개를 추출하여 출력(오름차순 정렬결과를 출력) - 리스트 이용\n",
    "# 난수 발생\n",
    "import random\n",
    "# random.random() : 0<=실수난수<1\n",
    "# random.randint(a, b) : a~b의 정수 난수\n",
    "# int(random.random()*b)+a : a~b의 정수 난수\n",
    "# 실행할 때마다 난수의 순서를 일치시키려면 random.seed(특정수)\n",
    "lotto = []\n",
    "cnt = 0\n",
    "while len(lotto) < 6:\n",
    "    cnt += 1\n",
    "    temp = random.randint(1, 45)\n",
    "    if temp not in lotto:\n",
    "        lotto.append(temp)\n",
    "# 정렬하기\n",
    "for i in range(0, len(lotto)-1):\n",
    "    for j in range(i, len(lotto)):\n",
    "        if lotto[i] > lotto[j]:\n",
    "            lotto[i], lotto[j] = lotto[j], lotto[i]\n",
    "    print(f\"{i}번째까지 정렬 내용 : {lotto[:i+1]} / {lotto}\")\n",
    "# lotto.sort()\n",
    "print(\"난수 {}번 뽑아서 로또는 {}\".format(cnt, lotto))"
   ]
  },
  {
   "cell_type": "code",
   "execution_count": 6,
   "id": "ad16cff3",
   "metadata": {},
   "outputs": [
    {
     "data": {
      "text/plain": [
       "[1, 13, 19, 21, 24, 31]"
      ]
     },
     "execution_count": 6,
     "metadata": {},
     "output_type": "execute_result"
    }
   ],
   "source": [
    "# ex2. 1~45까지의 로또번호 6개를 추출하여 출력(오름차순 정렬결과를 출력) - set 이용\n",
    "lotto = set()\n",
    "while len(lotto)<6:\n",
    "    lotto.add(random.randint(1, 45))\n",
    "sorted(lotto)"
   ]
  },
  {
   "cell_type": "code",
   "execution_count": 47,
   "id": "f1fa50e4",
   "metadata": {},
   "outputs": [
    {
     "data": {
      "text/plain": [
       "[4, 11, 13, 14, 22, 37]"
      ]
     },
     "execution_count": 47,
     "metadata": {},
     "output_type": "execute_result"
    }
   ],
   "source": [
    "random.sample([1,2,3,4,5,6,7,8],3) #[]안의 숫자중 3개의 숫자를 임의로 선정하라는뜻"
   ]
  },
  {
   "cell_type": "code",
   "execution_count": 48,
   "id": "64825888",
   "metadata": {},
   "outputs": [
    {
     "data": {
      "text/plain": [
       "[2, 5, 6, 22, 26, 33]"
      ]
     },
     "execution_count": 48,
     "metadata": {},
     "output_type": "execute_result"
    }
   ],
   "source": [
    "sorted(random.sample(range(1, 45), 6))"
   ]
  },
  {
   "cell_type": "code",
   "execution_count": 27,
   "id": "a9d51c67",
   "metadata": {},
   "outputs": [
    {
     "data": {
      "text/plain": [
       "0.2689949546566046"
      ]
     },
     "execution_count": 27,
     "metadata": {},
     "output_type": "execute_result"
    }
   ],
   "source": [
    "#난수발생 시키는법\n",
    "#컴퓨터에게 난수를 발생시키라고 하면 실수를 출력함. 다만 위 문제에서는 정수난수를 발생시킬것을 요구하고 있음.\n",
    "import random   # 외부에서 난수생성기를 가져오라는뜻.\n",
    "random.__file__ # 이 코드는 해당 모듈의 설치 경로(파일 위치)를 확인할 때 사용하는 코드 (난수 생성과는 직접적 관계 X)\n",
    "random.random() # 0.0 이상 1.0 미만의 실수 난수를 하나 생성함\n",
    "\n",
    "# random.random() : 0<=실수난수<1\n",
    "# random.randint(a,b) : a~b사이의 정수 난수\n",
    "# int(random.fandom()*b+a) : a~b사이의 정수 난수\n",
    "# 실행할 때마다 난수의 순서를 일치시키려면 random.seed(특정수)"
   ]
  },
  {
   "cell_type": "code",
   "execution_count": 41,
   "id": "ea48152d",
   "metadata": {},
   "outputs": [
    {
     "data": {
      "text/plain": [
       "24"
      ]
     },
     "execution_count": 41,
     "metadata": {},
     "output_type": "execute_result"
    }
   ],
   "source": [
    "#정수난수를 발생시키는 방법 1\n",
    "int(random.random()*45)+1   #1~45까지의 정수 난수를 생성하라는 뜻"
   ]
  },
  {
   "cell_type": "code",
   "execution_count": 25,
   "id": "9fe3318d",
   "metadata": {},
   "outputs": [
    {
     "data": {
      "text/plain": [
       "13"
      ]
     },
     "execution_count": 25,
     "metadata": {},
     "output_type": "execute_result"
    }
   ],
   "source": [
    "#정수난수를 발생시키는 방법 2, 훨씬 직관적임.(추천)\n",
    "random.randint(1,45) #1~45까지의 정수 난수를 불러오라는뜻"
   ]
  },
  {
   "cell_type": "code",
   "execution_count": 26,
   "id": "bea7912c",
   "metadata": {},
   "outputs": [
    {
     "data": {
      "text/plain": [
       "31"
      ]
     },
     "execution_count": 26,
     "metadata": {},
     "output_type": "execute_result"
    }
   ],
   "source": [
    "#정수\n",
    "random.seed(12) \n",
    "# '시드값'을 주어 난수 생성기의 초기 상태를 고정함.(고정된 패턴의 난수 생성가능)\n",
    "#     → 같은 시드값을 주면 매번 동일한 난수들이 생성됨.\n",
    "#     → \"난수\"지만 \"예측 가능한 난수\"로 만드는 방법임.\n",
    "random.randint(1,45) #1~45까지의 정수 난수를 불러오라는뜻"
   ]
  },
  {
   "cell_type": "code",
   "execution_count": null,
   "id": "f6d83630",
   "metadata": {},
   "outputs": [],
   "source": []
  },
  {
   "cell_type": "markdown",
   "id": "0873cb82",
   "metadata": {},
   "source": [
    "## 2.3 break, continue"
   ]
  },
  {
   "cell_type": "code",
   "execution_count": 51,
   "id": "07b66fb3",
   "metadata": {},
   "outputs": [
    {
     "name": "stdout",
     "output_type": "stream",
     "text": [
      "1\t2\t3\t4\t6\t7\t8\t9\t10\tDONE\n"
     ]
    }
   ],
   "source": [
    "num=0\n",
    "while num<10:\n",
    "    num += 1\n",
    "    if num == 5:\n",
    "        #break # 반복문을 탈출\n",
    "        continue # while블록 수행을 중단하고 조건으로 감\n",
    "    print(num, end='\\t') \n",
    "print('DONE')"
   ]
  },
  {
   "cell_type": "code",
   "execution_count": 5,
   "id": "7e3922df",
   "metadata": {},
   "outputs": [
    {
     "name": "stdout",
     "output_type": "stream",
     "text": [
      "컴퓨터가 발생한 임의의 수: 78\n",
      "1~100사이의 수를 맞춰 보세요:3\n",
      "Up ↑\n",
      "1~100사이의 수를 맞춰 보세요:4\n",
      "Up ↑\n",
      "1~100사이의 수를 맞춰 보세요:56\n",
      "Up ↑\n",
      "1~100사이의 수를 맞춰 보세요:90\n",
      "Down ↓\n",
      "1~100사이의 수를 맞춰 보세요:101\n",
      "수의 범위를 벗어났습니다.\n",
      "1~100사이의 수를 맞춰 보세요:-1\n",
      "수의 범위를 벗어났습니다.\n",
      "1~100사이의 수를 맞춰 보세요:23\n",
      "Up ↑\n",
      "1~100사이의 수를 맞춰 보세요:78\n",
      "축하 축하 맞추셨습니다.\n",
      "끝\n"
     ]
    }
   ],
   "source": [
    "'''\n",
    "10. 1~100\n",
    "사이의 정수를 맞추는 프로그램을 구현하시오\n",
    "(프로그램안에 임의의 숫자가 만들어지고 그 숫자를 맞추도록 합니다)\n",
    "1단계 . 입력된 숫자가 틀리면 UP/DOWN 메시지를 출력하고 숫자를 맞추면 축하메세지와 함꼐 종료합니다.\n",
    "(맞출 때까지 반복)\n",
    "'''\n",
    "import random\n",
    "#(1) 1~100사이의 난수 발생\n",
    "randomNum=random.randint(1,100)\n",
    "print('컴퓨터가 발생한 임의의 수:', randomNum)\n",
    "#(2) 수를 입력받아 틀리면 UP/DOWN메시지를 출력, 맞추면 축하축하 메세지와 break하는 반복문\n",
    "while True :\n",
    "    inputNum = int(input(\"1~100사이의 수를 맞춰 보세요:\"))\n",
    "    if (inputNum<1) | (inputNum>100):\n",
    "        print('수의 범위를 벗어났습니다.')\n",
    "    elif randomNum < inputNum:\n",
    "        print('Down ↓')\n",
    "    elif randomNum > inputNum:\n",
    "        print('Up ↑')\n",
    "    else:\n",
    "        print('축하 축하 맞추셨습니다.')\n",
    "        break\n",
    "print('끝')"
   ]
  },
  {
   "cell_type": "markdown",
   "id": "177435e9",
   "metadata": {},
   "source": [
    "# 3절. 중첩루프\n",
    "(반복문 안의 반복문)"
   ]
  },
  {
   "cell_type": "code",
   "execution_count": null,
   "id": "fbe6cc68",
   "metadata": {},
   "outputs": [],
   "source": [
    "# 기본형태(for문 기준)\n",
    "#for 바깥 in 반복범위:\n",
    "#    for 안쪽 in 반복범위:\n",
    "#        반복실행할 코드\n",
    "\n",
    "# while문 기준\n",
    "#i = 1\n",
    "#while i <= 9:\n",
    "#    j = 2\n",
    "#    while j <= 9:\n",
    "#        print(f'{j}x{i}={j*i}', end='\\t')\n",
    "#        j += 1\n",
    "#    print()\n",
    "#    i += 1"
   ]
  },
  {
   "cell_type": "code",
   "execution_count": 8,
   "id": "13b47c80",
   "metadata": {},
   "outputs": [
    {
     "name": "stdout",
     "output_type": "stream",
     "text": [
      "2X1=2\t3X1=3\t4X1=4\t5X1=5\t6X1=6\t7X1=7\t8X1=8\t9X1=9\t\n",
      "2X2=4\t3X2=6\t4X2=8\t5X2=10\t6X2=12\t7X2=14\t8X2=16\t9X2=18\t\n",
      "2X3=6\t3X3=9\t4X3=12\t5X3=15\t6X3=18\t7X3=21\t8X3=24\t9X3=27\t\n",
      "2X4=8\t3X4=12\t4X4=16\t5X4=20\t6X4=24\t7X4=28\t8X4=32\t9X4=36\t\n",
      "2X5=10\t3X5=15\t4X5=20\t5X5=25\t6X5=30\t7X5=35\t8X5=40\t9X5=45\t\n",
      "2X6=12\t3X6=18\t4X6=24\t5X6=30\t6X6=36\t7X6=42\t8X6=48\t9X6=54\t\n",
      "2X7=14\t3X7=21\t4X7=28\t5X7=35\t6X7=42\t7X7=49\t8X7=56\t9X7=63\t\n",
      "2X8=16\t3X8=24\t4X8=32\t5X8=40\t6X8=48\t7X8=56\t8X8=64\t9X8=72\t\n",
      "2X9=18\t3X9=27\t4X9=36\t5X9=45\t6X9=54\t7X9=63\t8X9=72\t9X9=81\t\n"
     ]
    }
   ],
   "source": [
    "#구구단 만들기\n",
    "for i in range(1, 10):\n",
    "    for j in range(2,10):\n",
    "        print(f'{j}X{i}={i*j}', end='\\t')\n",
    "    print() #개행"
   ]
  },
  {
   "cell_type": "markdown",
   "id": "c4ed02e7",
   "metadata": {},
   "source": [
    "# 4절. 중첩루프 탈출\n",
    "- 반복문 안에 또 다른 반복문이 들어간 구조, 한 반복이 수행되는 동안 내부 반복문이 전체 실행되는 방식\n",
    "- 기본구조 ↓(for-in문 활용)\n",
    "- for 바깥변수 in 반복가능한객체:\n",
    "    for 안쪽변수 in 반복가능한객체:\n",
    "        실행할 코드\n",
    " \n",
    "- 기본구조 ↓(while 문 활용)\n",
    "- 변수 초기화\n",
    "- 변수 = 시작값\n",
    "\n",
    "- 조건식이 참인 동안 반복\n",
    "- while 조건식:\n",
    "    실행할 코드\n",
    "    실행문1\n",
    "    실행문2\n",
    "    ...\n",
    "    조건을 바꿔줄 증감식 (없으면 무한 루프 위험!)\n",
    "    변수 += 1"
   ]
  },
  {
   "cell_type": "code",
   "execution_count": 16,
   "id": "ff09b4ba",
   "metadata": {},
   "outputs": [
    {
     "name": "stdout",
     "output_type": "stream",
     "text": [
      "0 1\n",
      "0 2\n",
      "DONE\n"
     ]
    }
   ],
   "source": [
    "# 중첩 루프 탈출 하는 방법 1 : 플래그 변수 이용\n",
    "flag = False\n",
    "for a in range(0, 3):          # a = 0, 1, 2\n",
    "    for b in range(1, 3):     # b = 1, 2\n",
    "        if a == b:\n",
    "            flag = True\n",
    "            break             #반복문에서 아예 빠져나오기\n",
    "        print(a, b)\n",
    "    #break시 빠져나오는 부분\n",
    "    if flag:\n",
    "        break\n",
    "print('DONE')"
   ]
  },
  {
   "cell_type": "code",
   "execution_count": 1,
   "id": "c664554b",
   "metadata": {},
   "outputs": [
    {
     "name": "stdout",
     "output_type": "stream",
     "text": [
      "0 1\n",
      "0 2\n",
      "DONE\n"
     ]
    }
   ],
   "source": [
    "# 중첩 루프 탈출 방법2 : 예외발생 → 예외처리\n",
    "class BreakOutError(Exception):\n",
    "    pass\n",
    "try:\n",
    "    for a in range(0,3): # a=0, 1, 2\n",
    "        for b in range(1, 3): # b=1, 2\n",
    "            if a==b:\n",
    "                raise BreakOutError()  #강제로 예외를 발생시켜서 for문을 빠져나옴.(중첩 루프 빠져나가기)\n",
    "                                       #예외가 발생하였으므로 except문으로 빠져나옴\n",
    "            print(a, b)\n",
    "except BreakOutError:\n",
    "    print('DONE')"
   ]
  },
  {
   "cell_type": "markdown",
   "id": "3a169af4",
   "metadata": {},
   "source": [
    "# 5절. 연습문제"
   ]
  },
  {
   "cell_type": "code",
   "execution_count": 2,
   "id": "25b809bd",
   "metadata": {},
   "outputs": [
    {
     "name": "stdout",
     "output_type": "stream",
     "text": [
      "숫자를 입력하세요:4\n",
      "짝수입니다.\n"
     ]
    }
   ],
   "source": [
    "#1. 양의 정수를 입력 받아 홀수인지 짝수인지를 판별하는 프로그램을 작성하세요. 양의 정수가 아니면 숫자를 다시 입력 받아야 합니다.\n",
    "a=int(input('숫자를 입력하세요:', ))\n",
    "if a % 2==1 :\n",
    "    print('홀수입니다.')\n",
    "else :\n",
    "    print('짝수입니다.')"
   ]
  },
  {
   "cell_type": "code",
   "execution_count": 24,
   "id": "fe789abb",
   "metadata": {},
   "outputs": [
    {
     "name": "stdout",
     "output_type": "stream",
     "text": [
      "양의 점수를 입력하세요10\n",
      "입력하신 양의 정수는 10이고 짝수입니다.\n"
     ]
    }
   ],
   "source": [
    "#1. 풀이\n",
    "num = 0\n",
    "while num<=0:\n",
    "    num = int(input('양의 점수를 입력하세요'))\n",
    "even_odd = '홀수' if num%2 else '짝수'\n",
    "print('입력하신 양의 정수는 {}이고 {}입니다.'.format(num, even_odd))"
   ]
  },
  {
   "cell_type": "code",
   "execution_count": null,
   "id": "b4322933",
   "metadata": {},
   "outputs": [],
   "source": [
    "#2. 중첩 for 문을 이용하여 아래 패턴의 별을 출력하는 프로그램을 작성하세요."
   ]
  },
  {
   "cell_type": "code",
   "execution_count": 3,
   "id": "7dd34a6a",
   "metadata": {},
   "outputs": [
    {
     "name": "stdout",
     "output_type": "stream",
     "text": [
      "*****\n",
      "*****\n",
      "*****\n",
      "*****\n",
      "*****\n"
     ]
    }
   ],
   "source": [
    "for i in range(5) :               #range(5)=[0,1,2,3,4]를 분해해서 i를 수행할것.\n",
    "    for j in range(5) :           #range(5)=[0,1,2,3,4]를 분해해서 j를 수행할것.\n",
    "        print('*', end='')        #*를 출력하고 끝은 ' '으로 수행해라. 이것을 두번째줄에 있는 내용을 출력해라.\n",
    "    print()                       #맨 윗줄에 대한 내용을 출력해라."
   ]
  },
  {
   "cell_type": "code",
   "execution_count": 4,
   "id": "6ce70952",
   "metadata": {},
   "outputs": [
    {
     "name": "stdout",
     "output_type": "stream",
     "text": [
      "\n",
      "*\n",
      "**\n",
      "***\n",
      "****\n",
      "*****\n"
     ]
    }
   ],
   "source": [
    "for i in range(6) :\n",
    "    for j in range(i) :\n",
    "        print('*', end='')\n",
    "    print()"
   ]
  },
  {
   "cell_type": "code",
   "execution_count": 7,
   "id": "de2f2d52",
   "metadata": {},
   "outputs": [
    {
     "name": "stdout",
     "output_type": "stream",
     "text": [
      "165\n"
     ]
    }
   ],
   "source": [
    "#3. 다음 코드는 1 부터 30 까지 (30 포함 ) 자연수 중에서 3 의 배수의 총 합을 출력하는 프로그램입니다 . 빈칸의 코드를 완성하시오\n",
    "\n",
    "sum = 0                          #변수선언 sum=0이다.\n",
    "for i in range(1,31):            # i에 대한 내용을 0~30회 수행해라\n",
    "    if i%3==0:                   # 수행하는데, 만약 수행과정에서 3으로 나눈 숫자의 나머지가 0인경우(즉, 3의 배수인경우), 이것이 참이라면\n",
    "        sum=sum+i                # sum에 대한 숫자를 더해라. 그게 이제부터 sum이다.\n",
    "    else:                        # 만약 3번째열에 해당되지 않는 숫자들은\n",
    "        pass                     # 그냥 넘겨라\n",
    "print(sum)                       # 이제 조건에 맞는 sum을 출력해라."
   ]
  },
  {
   "cell_type": "code",
   "execution_count": 10,
   "id": "82f3684a",
   "metadata": {},
   "outputs": [
    {
     "name": "stdout",
     "output_type": "stream",
     "text": [
      "1 3 5 7 9 "
     ]
    }
   ],
   "source": [
    "#4. 다음 코드의 실행결과가 “1 3 5 7 9\" 가 되도록 빈칸을 완성하시오.\n",
    "num=0\n",
    "while num<=10:\n",
    "    if num%2==1:\n",
    "        print(num,end=' ')\n",
    "    num += 1"
   ]
  },
  {
   "cell_type": "code",
   "execution_count": 11,
   "id": "fe6365d4",
   "metadata": {},
   "outputs": [
    {
     "name": "stdout",
     "output_type": "stream",
     "text": [
      "123\n",
      "4567\n",
      "89\n"
     ]
    }
   ],
   "source": [
    "#5. 다음 2 차원 리스트의 모든 값을 출력하는 코드입니다 . 빈칸을 완성하시오.\n",
    "list2d = [[1,2,3],[4,5,6,7],[8,9]]\n",
    "for row in list2d:\n",
    "    for data in row:\n",
    "        print(data, end='')\n",
    "    print()"
   ]
  },
  {
   "cell_type": "code",
   "execution_count": 20,
   "id": "328bb493",
   "metadata": {},
   "outputs": [
    {
     "name": "stdout",
     "output_type": "stream",
     "text": [
      "0 apple\n",
      "1 banana\n"
     ]
    }
   ],
   "source": [
    "#6.다음 빈칸에 들어갈 함수 이름은?\n",
    "colors={\"red\":'apple','yellow':'banana'}\n",
    "for i, v in enumerate(colors.values()):\n",
    "    print(i,v)"
   ]
  },
  {
   "cell_type": "code",
   "execution_count": 22,
   "id": "f33b5460",
   "metadata": {},
   "outputs": [
    {
     "name": "stdout",
     "output_type": "stream",
     "text": [
      "1 0\n"
     ]
    }
   ],
   "source": [
    "#7. 다음 코드의 실행결과는?\n",
    "for i in range(0,2):         #i안에 0~1까지의 숫자를 넣음\n",
    "    for j in range(0,2):\n",
    "        if i==j:\n",
    "                break\n",
    "        print(i,j)"
   ]
  },
  {
   "cell_type": "code",
   "execution_count": 32,
   "id": "72340e19",
   "metadata": {},
   "outputs": [
    {
     "name": "stdout",
     "output_type": "stream",
     "text": [
      "0 0\n",
      "1 0\n",
      "1 1\n"
     ]
    }
   ],
   "source": [
    "#8. 다음 코드의 실행 결과로 출력될 수 없는 것은?\n",
    "for i in range(0,2):\n",
    "    for j in range(0,2):\n",
    "            print(i,j)\n",
    "            if i==j:\n",
    "                    break"
   ]
  },
  {
   "cell_type": "code",
   "execution_count": 33,
   "id": "8f317269",
   "metadata": {},
   "outputs": [
    {
     "name": "stdout",
     "output_type": "stream",
     "text": [
      "3 5 7 9 "
     ]
    },
    {
     "data": {
      "text/plain": [
       "[3, 5, 7, 9]"
      ]
     },
     "execution_count": 33,
     "metadata": {},
     "output_type": "execute_result"
    }
   ],
   "source": [
    "# 9 다음 코드의 실행결과는\n",
    "L = [3, 4, 5, 6, 7, 8, 9, 10]\n",
    "for i, data in enumerate(L):\n",
    "    if i%2 == 0:\n",
    "        print(data, end=' ')\n",
    "L[::2]"
   ]
  },
  {
   "cell_type": "code",
   "execution_count": 35,
   "id": "c53a2e1d",
   "metadata": {},
   "outputs": [
    {
     "name": "stdout",
     "output_type": "stream",
     "text": [
      "컴퓨터가 발생한 임의의 수 : 19\n",
      "1~100사이의 수를 맞춰 보세요 :3\n",
      "UP ↑\n",
      "4~100사이의 수를 맞춰 보세요 :19\n",
      "축하 축하 맞추셨습니다\n",
      "끝\n"
     ]
    }
   ],
   "source": [
    "# 10번 2단계\n",
    "'''\n",
    "1~100 사이의 정수를 맞추기 프로그램\n",
    "(프로그램 안에서 random수가 만들어지고 그 random수 맞추기)\n",
    "1단계 : 숫자를 못 맞추면 UP/DOWN을 출력하고, 맞추면 축하메세지 뿌리고 끝남\n",
    "2단계 : 숫자를 못 맞추면 fRom~to를 조정, 맞추면 축하메세지 뿌리고 끝남\n",
    "3단계 : 2단계의 기회를 5회 제한. 5회의 기회가 지나면 실패 메세지 뿌리고 끝남\n",
    "(2단계와 3단계 연습문제)\n",
    "'''\n",
    "import random\n",
    "# (1) 1~100사이의 난수 발생\n",
    "fRom, to = 1, 100\n",
    "inputNum = 0 # 사용자가 맞출 수가 저장될 변수\n",
    "randomNum = random.randint(fRom, to)\n",
    "print('컴퓨터가 발생한 임의의 수 :', randomNum)\n",
    "# (2) 수를 입력받아 틀리면 범위 조정과 UP/DOWN 메세지 출력, \n",
    "#    맞추면 축하축하 메세지와 break하는 반복문\n",
    "while randomNum!=inputNum :\n",
    "    inputNum = int(input(f\"{fRom}~{to}사이의 수를 맞춰 보세요 :\"))\n",
    "    \n",
    "    if (inputNum<fRom) | (inputNum>to):\n",
    "        print('수의 범위를 벗어났습니다')\n",
    "    elif randomNum < inputNum:\n",
    "        print('DOWN ↓')\n",
    "        to = inputNum - 1\n",
    "    elif randomNum > inputNum:\n",
    "        print('UP ↑')\n",
    "        fRom = inputNum+1\n",
    "    else:\n",
    "        print('축하 축하 맞추셨습니다')\n",
    "print('끝')"
   ]
  },
  {
   "cell_type": "code",
   "execution_count": null,
   "id": "157cd3d8",
   "metadata": {},
   "outputs": [],
   "source": [
    "# 10번 3단계\n",
    "'''\n",
    "1~100 사이의 정수를 맞추기 프로그램\n",
    "(프로그램 안에서 random수가 만들어지고 그 random수 맞추기)\n",
    "1단계 : 숫자를 못 맞추면 UP/DOWN을 출력하고, 맞추면 축하메세지 뿌리고 끝남\n",
    "2단계 : 숫자를 못 맞추면 fRom~to를 조정, 맞추면 축하메세지 뿌리고 끝남\n",
    "3단계 : 2단계의 기회를 5회 제한. 5회의 기회가 지나면 실패 메세지 뿌리고 끝남\n",
    "(2단계와 3단계 연습문제)\n",
    "'''\n",
    "import random\n",
    "# (1) 1~100사이의 난수 발생\n",
    "fRom, to = 1, 100\n",
    "inputNum = 0 # 사용자가 맞출 수가 저장될 변수\n",
    "randomNum = random.randint(fRom, to)\n",
    "print('컴퓨터가 발생한 임의의 수 :', randomNum)\n",
    "# (2) 수를 입력받아 틀리면 범위 조정과 UP/DOWN 메세지 출력, \n",
    "#    맞추면 축하축하 메세지와 break하는 반복문\n",
    "for cnt in range(5, 0, -1):\n",
    "    inputNum = int(input(f\"{fRom}~{to}사이의 수를 맞춰 보세요(남은기회 {cnt}회) :\"))\n",
    "    print(f\"{fRom}~{to}사이의 {inputNum}입력\")\n",
    "    if (inputNum<fRom) | (inputNum>to):\n",
    "        print('수의 범위를 벗어났습니다')\n",
    "    elif randomNum < inputNum:\n",
    "        print('DOWN ↓')\n",
    "        to = inputNum - 1\n",
    "    elif randomNum > inputNum:\n",
    "        print('UP ↑')\n",
    "        fRom = inputNum+1\n",
    "    else:\n",
    "        print('축하 축하 맞추셨습니다 {}번만에 성공하셨습니다.'.format(6-cnt))\n",
    "        break\n",
    "else:\n",
    "    print('기회를 모두 사용하셨습니다. 실패하셨습니다')"
   ]
  },
  {
   "cell_type": "code",
   "execution_count": null,
   "id": "78fa6563",
   "metadata": {},
   "outputs": [],
   "source": [
    "# 10번 3단계\n",
    "'''\n",
    "1~100 사이의 정수를 맞추기 프로그램\n",
    "(프로그램 안에서 random수가 만들어지고 그 random수 맞추기)\n",
    "1단계 : 숫자를 못 맞추면 UP/DOWN을 출력하고, 맞추면 축하메세지 뿌리고 끝남\n",
    "2단계 : 숫자를 못 맞추면 fRom~to를 조정, 맞추면 축하메세지 뿌리고 끝남\n",
    "3단계 : 2단계의 기회를 5회 제한. 5회의 기회가 지나면 실패 메세지 뿌리고 끝남\n",
    "(2단계와 3단계 연습문제)\n",
    "'''\n",
    "import random\n",
    "# (1) 1~100사이의 난수 발생\n",
    "fRom, to = 1, 100\n",
    "inputNum = 0 # 사용자가 맞출 수가 저장될 변수\n",
    "randomNum = random.randint(fRom, to)\n",
    "print('컴퓨터가 발생한 임의의 수 :', randomNum)\n",
    "message = '기회를 모두 사용하셨습니다. 실패하셨습니다'\n",
    "# (2) 수를 입력받아 틀리면 범위 조정과 UP/DOWN 메세지 출력, \n",
    "#    맞추면 축하축하 메세지와 break하는 반복문\n",
    "for cnt in range(5, 0, -1):\n",
    "    inputNum = int(input(f\"{fRom}~{to}사이의 수를 맞춰 보세요(남은기회 {cnt}회) :\"))\n",
    "    print(f\"{fRom}~{to}사이의 {inputNum}입력\")\n",
    "    if (inputNum<fRom) | (inputNum>to):\n",
    "        print('수의 범위를 벗어났습니다')\n",
    "    elif randomNum < inputNum:\n",
    "        print('DOWN ↓')\n",
    "        to = inputNum - 1\n",
    "    elif randomNum > inputNum:\n",
    "        print('UP ↑')\n",
    "        fRom = inputNum+1\n",
    "    else:\n",
    "        message = '축하 축하 맞추셨습니다 {}번만에 성공하셨습니다.'.format(6-cnt)\n",
    "        break\n",
    "print(message)"
   ]
  },
  {
   "cell_type": "code",
   "execution_count": null,
   "id": "03080543",
   "metadata": {},
   "outputs": [],
   "source": []
  }
 ],
 "metadata": {
  "kernelspec": {
   "display_name": "Python 3 (ipykernel)",
   "language": "python",
   "name": "python3"
  },
  "language_info": {
   "codemirror_mode": {
    "name": "ipython",
    "version": 3
   },
   "file_extension": ".py",
   "mimetype": "text/x-python",
   "name": "python",
   "nbconvert_exporter": "python",
   "pygments_lexer": "ipython3",
   "version": "3.10.9"
  },
  "toc": {
   "base_numbering": 1,
   "nav_menu": {},
   "number_sections": false,
   "sideBar": true,
   "skip_h1_title": false,
   "title_cell": "Table of Contents",
   "title_sidebar": "Contents",
   "toc_cell": false,
   "toc_position": {},
   "toc_section_display": true,
   "toc_window_display": false
  }
 },
 "nbformat": 4,
 "nbformat_minor": 5
}
