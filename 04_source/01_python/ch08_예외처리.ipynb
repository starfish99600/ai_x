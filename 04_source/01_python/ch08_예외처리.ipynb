{
 "cells": [
  {
   "cell_type": "code",
   "execution_count": 3,
   "id": "8f4a05c4",
   "metadata": {},
   "outputs": [
    {
     "data": {
      "text/html": [
       "\n",
       "<style>\n",
       "div.container{width:95% !important;}\n",
       "div.cell.code_cell.rendered{width:100%;}\n",
       "div.CodeMirror {font-family:Consolas; font-size:15pt;}\n",
       "div.output {font-size:15pt; font-weight:bold;}\n",
       "div.input {font-family:Consolas; font-size:15pt;}\n",
       "div.prompt {min-width:70px;}\n",
       "div#toc-wrapper{padding-top:120px;}\n",
       "div.text_cell_render ul li{font-size:12pt;padding:5px;}\n",
       "table.dataframe{font-size:15px;}\n",
       "</style>\n"
      ],
      "text/plain": [
       "<IPython.core.display.HTML object>"
      ]
     },
     "metadata": {},
     "output_type": "display_data"
    }
   ],
   "source": [
    "from IPython.display import display, HTML\n",
    "display(HTML(\"\"\"\n",
    "<style>\n",
    "div.container{width:95% !important;}\n",
    "div.cell.code_cell.rendered{width:100%;}\n",
    "div.CodeMirror {font-family:Consolas; font-size:15pt;}\n",
    "div.output {font-size:15pt; font-weight:bold;}\n",
    "div.input {font-family:Consolas; font-size:15pt;}\n",
    "div.prompt {min-width:70px;}\n",
    "div#toc-wrapper{padding-top:120px;}\n",
    "div.text_cell_render ul li{font-size:12pt;padding:5px;}\n",
    "table.dataframe{font-size:15px;}\n",
    "</style>\n",
    "\"\"\"))"
   ]
  },
  {
   "cell_type": "markdown",
   "id": "70c2c1ea",
   "metadata": {},
   "source": [
    "<b><font color=\"red\" size=\"5\">ch08. 예외처리</font></b>\n",
    "# 1절. 예외처리\n",
    "- 예외가 날 가능성이 있는 부분에 대해 미리 예상하고, 그에 대해 처리를 프로그래밍하는 것\n",
    "- 이유 : 좀 더 안정적으로 실행하는 것에 그 목적이 있음.\n",
    "```\n",
    "ex) 파일을 다룰 때 : 파일이 없거나, 쓰기가 금지되었던가, 쓰기 금지로 인한 오류 등\n",
    "ex) 데이터베이스 프로그래밍 시 제약조건 등으로 CRUD(CREATE(쓰기), READ(읽기), UPDATE(수정), DELETE(삭제))오류\n",
    "ex) 네트워크 프로그래밍 시 일시적인 네트워크 장애시 연결 실패 오류\n",
    "ex) 리스트나 튜플의 인덱스를 벗어난 오류\n",
    "```"
   ]
  },
  {
   "cell_type": "code",
   "execution_count": 4,
   "id": "6d2f30a0",
   "metadata": {},
   "outputs": [],
   "source": [
    "#예외처리 : 프로그램 실행중 예외(문제)가 발생했을 때, 프로그램이 멈추지 않도록 처리해주는 방법\n",
    "#예외가 발생할 경우에 ~게 처리해라 라는 지시를 내리는 용도\n",
    "\n",
    "#에러 : 문법적으로 나타나는 에러\n",
    "#논리 에러 : 프로그래머가 잘못 작성해서 이상한 결과가 나오는 경우\n",
    "#시스템 에러 : 프로그래머의 의지와 상관없이 나타나는 에러\n",
    "#↑이건 개발자가 수정해야 함.\n",
    "\n",
    "#예외사항 : 정상적으로 프로그램이 동작하는 과정에서 나타나는 에러, 프로그램 실행 중에 발상하는 예기치 않는 사건\n",
    "#    ex) 정수를 0으로 나누는 경우, 배열 인덱스를 벗어난 경우, 부적절한 형변환이 일어난 경우, 입출력을 위한 파일이 없는 경우\n",
    "#↑이번 장에서 배울 내용"
   ]
  },
  {
   "cell_type": "code",
   "execution_count": 4,
   "id": "46d92c4d",
   "metadata": {},
   "outputs": [
    {
     "name": "stdout",
     "output_type": "stream",
     "text": [
      "파일명은(ch08.txt)?ch08.txt\n"
     ]
    },
    {
     "data": {
      "text/plain": [
       "'Hello\\nWorld'"
      ]
     },
     "execution_count": 4,
     "metadata": {},
     "output_type": "execute_result"
    }
   ],
   "source": [
    "filename = input('파일명은(ch08.txt)?')\n",
    "f = open('data/'+filename, 'r') #읽기전용으로 파일을 열기 #f=빨대(스트링)\n",
    "f.read()                        #파일 전체 객체를 한번에 읽음."
   ]
  },
  {
   "cell_type": "code",
   "execution_count": null,
   "id": "470dc21b",
   "metadata": {},
   "outputs": [],
   "source": [
    "f.close() #파일을 닫는다는 뜻"
   ]
  },
  {
   "cell_type": "code",
   "execution_count": null,
   "id": "4329a033",
   "metadata": {},
   "outputs": [],
   "source": []
  },
  {
   "cell_type": "code",
   "execution_count": 5,
   "id": "e7ac82c5",
   "metadata": {},
   "outputs": [
    {
     "ename": "IndexError",
     "evalue": "list index out of range",
     "output_type": "error",
     "traceback": [
      "\u001b[1;31m---------------------------------------------------------------------------\u001b[0m",
      "\u001b[1;31mIndexError\u001b[0m                                Traceback (most recent call last)",
      "Cell \u001b[1;32mIn[5], line 2\u001b[0m\n\u001b[0;32m      1\u001b[0m a\u001b[38;5;241m=\u001b[39m[\u001b[38;5;241m1\u001b[39m,\u001b[38;5;241m2\u001b[39m,\u001b[38;5;241m3\u001b[39m]\n\u001b[1;32m----> 2\u001b[0m \u001b[43ma\u001b[49m\u001b[43m[\u001b[49m\u001b[38;5;241;43m3\u001b[39;49m\u001b[43m]\u001b[49m\n",
      "\u001b[1;31mIndexError\u001b[0m: list index out of range"
     ]
    }
   ],
   "source": [
    "#예외가 발생됨.\n",
    "a=[1,2,3]\n",
    "a[3]\n",
    "#실제라면 이런식으로 예외가 발생되면 시스템이 에러가 걸리므로 예외처리를 통해 조절될 수 있도록 조치해야함."
   ]
  },
  {
   "cell_type": "code",
   "execution_count": null,
   "id": "47f8e933",
   "metadata": {},
   "outputs": [],
   "source": []
  },
  {
   "cell_type": "markdown",
   "id": "bd152206",
   "metadata": {},
   "source": [
    "# 2절. try~except로 예외처리\n",
    "## 2.1 try~except\n",
    "```\n",
    "try:\n",
    "    예외가 발생할 가능성이 있는 명령어들\n",
    "except:\n",
    "    예외가 발생했을 경우 실행할 명령어들\n",
    "```"
   ]
  },
  {
   "cell_type": "code",
   "execution_count": 9,
   "id": "5eb16e76",
   "metadata": {},
   "outputs": [
    {
     "name": "stdout",
     "output_type": "stream",
     "text": [
      "정수를 입력하세요 :a\n"
     ]
    },
    {
     "ename": "ValueError",
     "evalue": "invalid literal for int() with base 10: 'a'",
     "output_type": "error",
     "traceback": [
      "\u001b[1;31m---------------------------------------------------------------------------\u001b[0m",
      "\u001b[1;31mValueError\u001b[0m                                Traceback (most recent call last)",
      "Cell \u001b[1;32mIn[9], line 7\u001b[0m\n\u001b[0;32m      1\u001b[0m \u001b[38;5;66;03m# 100을 입력받은 정수값으로 나눠 출력\u001b[39;00m\n\u001b[0;32m      2\u001b[0m \u001b[38;5;66;03m#여기에서 0을 입력할 경우 예외가 발생함\u001b[39;00m\n\u001b[0;32m      3\u001b[0m \u001b[38;5;66;03m#ZeroDivisionError: division by zero\u001b[39;00m\n\u001b[0;32m      4\u001b[0m \u001b[38;5;66;03m# ↑ 0을 입력시에 발생되는 예외 오류 메세지 \u001b[39;00m\n\u001b[0;32m      5\u001b[0m \u001b[38;5;66;03m#다만, 실제에서 고객에게 정수를 입력하라고 해도 0을 입력하는 멍청이가 존재하기 마련이다. 따라서 예외처리가 필요하다.\u001b[39;00m\n\u001b[1;32m----> 7\u001b[0m x \u001b[38;5;241m=\u001b[39m \u001b[38;5;28;43mint\u001b[39;49m\u001b[43m(\u001b[49m\u001b[38;5;28;43minput\u001b[39;49m\u001b[43m(\u001b[49m\u001b[38;5;124;43m'\u001b[39;49m\u001b[38;5;124;43m정수를 입력하세요 :\u001b[39;49m\u001b[38;5;124;43m'\u001b[39;49m\u001b[43m)\u001b[49m\u001b[43m)\u001b[49m\n\u001b[0;32m      8\u001b[0m \u001b[38;5;28mprint\u001b[39m(\u001b[38;5;124m'\u001b[39m\u001b[38;5;124m100을 입력한 정수로 나누면 \u001b[39m\u001b[38;5;132;01m{:.3f}\u001b[39;00m\u001b[38;5;124m'\u001b[39m\u001b[38;5;241m.\u001b[39mformat(\u001b[38;5;241m100\u001b[39m\u001b[38;5;241m/\u001b[39mx))\n",
      "\u001b[1;31mValueError\u001b[0m: invalid literal for int() with base 10: 'a'"
     ]
    }
   ],
   "source": [
    "# 100을 입력받은 정수값으로 나눠 출력\n",
    "#여기에서 0을 입력할 경우 예외가 발생함\n",
    "#ZeroDivisionError: division by zero\n",
    "# ↑ 0을 입력시에 발생되는 예외 오류 메세지 \n",
    "# ValueError: invalid literal for int() with base 10: 'a'\n",
    "# ↑ a을 입력시에 발생되는 예외 오류 메세지 \n",
    "#다만, 실제에서 고객에게 정수를 입력하라고 해도 0이나 a를 입력하는 멍청이가 존재하기 마련이다. \n",
    "# 프로그램이 셧다운 될수도 있으므로 예외처리가 필요하다. 예를 들면 다시입력하세요 같은거\n",
    "\n",
    "x = int(input('정수를 입력하세요 :'))\n",
    "print('100을 입력한 정수로 나누면 {:.3f}'.format(100/x))\n"
   ]
  },
  {
   "cell_type": "code",
   "execution_count": 11,
   "id": "aaa32dea",
   "metadata": {},
   "outputs": [
    {
     "name": "stdout",
     "output_type": "stream",
     "text": [
      "정수를 입력하세요 :0\n",
      "정수가 아닙니다.\n"
     ]
    }
   ],
   "source": [
    "# 100을 입력받은 정수값으로 나눠 출력\n",
    "#여기에서 0을 입력할 경우 예외가 발생함\n",
    "#ZeroDivisionError: division by zero\n",
    "# ↑ 0을 입력시에 발생되는 예외 오류 메세지 \n",
    "# ValueError: invalid literal for int() with base 10: 'a'\n",
    "# ↑ a을 입력시에 발생되는 예외 오류 메세지 \n",
    "#다만, 실제에서 고객에게 정수를 입력하라고 해도 0이나 a를 입력하는 멍청이가 존재하기 마련이다. \n",
    "# 프로그램이 셧다운 될수도 있으므로 예외처리가 필요하다. 예를 들면 다시입력하세요 같은거\n",
    "try: #예외가 발생할수도 있는 라인을 작성\n",
    "    x = int(input('정수를 입력하세요 :'))\n",
    "    print('100을 입력한 정수로 나누면 {:.3f}'.format(100/x))\n",
    "except: #예외가 발생했을 시의 처리방법을 작성\n",
    "    print('정수가 아닙니다.')"
   ]
  },
  {
   "cell_type": "code",
   "execution_count": 13,
   "id": "c976e8df",
   "metadata": {},
   "outputs": [
    {
     "name": "stdout",
     "output_type": "stream",
     "text": [
      "정수를 입력하세요 :0\n",
      "x값 입력 받음 0\n",
      "정수가 아닙니다.\n"
     ]
    }
   ],
   "source": [
    "#부여된 내용을 위에서부터 차례대로 수행함. 예외가 발생한 곳에서 except에서 진행됨.\n",
    "try: \n",
    "    x = int(input('정수를 입력하세요 :'))\n",
    "    print('x값 입력 받음', x)\n",
    "    print('100을 입력한 정수로 나누면 {:.3f}'.format(100/x))\n",
    "    print('예외가 발생 안 됨')\n",
    "except: \n",
    "    print('정수가 아닙니다.')"
   ]
  },
  {
   "cell_type": "code",
   "execution_count": 14,
   "id": "ef23e948",
   "metadata": {},
   "outputs": [
    {
     "data": {
      "text/plain": [
       "30"
      ]
     },
     "execution_count": 14,
     "metadata": {},
     "output_type": "execute_result"
    }
   ],
   "source": [
    "# 100을 나눌 유효한 정수를 입력할 때까지 입력받아\n",
    "# 유효한 정수를 입력하면, 100을 입력한 수로 나눈 결과를 출력\n",
    "# 나눈 결과가 .0으로 끝나면 정수 결과를 출력/ .0으로 끝나지 않으면 소수점 2자리까지 출력\n",
    "round(30,3) #반올림 함수"
   ]
  },
  {
   "cell_type": "code",
   "execution_count": 2,
   "id": "f773f69a",
   "metadata": {},
   "outputs": [
    {
     "name": "stdout",
     "output_type": "stream",
     "text": [
      "정수를 입력하세요 :3\n",
      "33.33\n"
     ]
    }
   ],
   "source": [
    "# try 안에 while를 넣는 방법\n",
    "while True:\n",
    "    try:\n",
    "        x = int(input('정수를 입력하세요 :'))\n",
    "        result = 100/x\n",
    "        result = f\"{100/x:.0f}\" if round(result)==result else f\"{100/x:.2f}\"\n",
    "        print(result)\n",
    "        break\n",
    "    except:\n",
    "        print('유효한 정수를 입력하세요')"
   ]
  },
  {
   "cell_type": "code",
   "execution_count": null,
   "id": "e2f39595",
   "metadata": {},
   "outputs": [],
   "source": []
  },
  {
   "cell_type": "markdown",
   "id": "f6f55391",
   "metadata": {},
   "source": [
    "## 2.2 예외를 지정한 처리\n",
    "- 예외조건에 따른 예외처리\n",
    "- ZeroDivisionError: division by zero\n",
    "- ↑ 0을 입력시에 발생되는 예외 오류 메세지 \n",
    "- ValueError: invalid literal for int() with base 10: 'a'\n",
    "- ↑ a을 입력시에 발생되는 예외 오류 메세지 \n",
    "- 위 두가지 메세지를 별도로 처리하고 싶은 경우(예외조건에 따른 예외처리)\n",
    "\n",
    "```\n",
    "try:\n",
    "    예외가 발생할 수도 있는 문장들\n",
    "except 예외타입1:\n",
    "    해당 예외가 발생할 경우 실행할 문장\n",
    "except 예외타입2:\n",
    "    해당 예외가 발생할 경우 실행할 문장\n",
    "```"
   ]
  },
  {
   "cell_type": "code",
   "execution_count": 3,
   "id": "53c3ce79",
   "metadata": {},
   "outputs": [
    {
     "name": "stdout",
     "output_type": "stream",
     "text": [
      "정수를 입력하세요 :ㅁ\n",
      "정수를 입력하세요\n",
      "정수를 입력하세요 :0\n",
      "0으로 나눌 수 없어요\n",
      "정수를 입력하세요 :a\n",
      "정수를 입력하세요\n",
      "정수를 입력하세요 :2\n",
      "50\n"
     ]
    }
   ],
   "source": [
    "# try 안에 while를 넣는 방법\n",
    "while True:\n",
    "    try:\n",
    "        x = int(input('정수를 입력하세요 :'))\n",
    "        result = 100/x\n",
    "        result = f\"{100/x:.0f}\" if round(result)==result else f\"{100/x:.2f}\"\n",
    "        print(result)\n",
    "        break\n",
    "    except ValueError: #ValueError: invalid literal for int() with base 10: 'a'  에 대한 처리조건 명시\n",
    "        print('정수를 입력하세요')\n",
    "    except ZeroDivisionError: #ZeroDivisionError: division by zero  에 대한 처리조건 명시\n",
    "        print('0으로 나눌 수 없어요')\n",
    "    except Exception:  #위 두가지 사항 이외의 예기치 못한 변수에 대한 처리\n",
    "        print('다시 시도하세요!')"
   ]
  },
  {
   "cell_type": "code",
   "execution_count": 4,
   "id": "3a18226e",
   "metadata": {},
   "outputs": [
    {
     "name": "stdout",
     "output_type": "stream",
     "text": [
      "정수를 입력하세요 :ㅁ\n",
      "다시 시도하세요!\n",
      "정수를 입력하세요 :0\n",
      "다시 시도하세요!\n",
      "정수를 입력하세요 :a\n",
      "다시 시도하세요!\n",
      "정수를 입력하세요 :2\n",
      "50\n"
     ]
    }
   ],
   "source": [
    "# Exception은 모든 오류의 상위 처리방안임. 따라서 아래에 있는 오류는 처리되지 않음.\n",
    "# 정답지를 확인할것. 아래 정수를입력, 0으로 나눌수 없음이 작동하지 않음.\n",
    "while True:\n",
    "    try:\n",
    "        x = int(input('정수를 입력하세요 :'))\n",
    "        result = 100/x\n",
    "        result = f\"{100/x:.0f}\" if round(result)==result else f\"{100/x:.2f}\"\n",
    "        print(result)\n",
    "        break\n",
    "    except Exception: \n",
    "        print('다시 시도하세요!')\n",
    "    except ValueError: \n",
    "        print('정수를 입력하세요')\n",
    "    except ZeroDivisionError: \n",
    "        print('0으로 나눌 수 없어요')"
   ]
  },
  {
   "cell_type": "markdown",
   "id": "4f53e6d1",
   "metadata": {},
   "source": [
    "## 2.3 예외메세지(예외인수)\n",
    "```\n",
    "try :\n",
    "    예외가 발생할수도 있는 구문\n",
    "except [예외타입 as e]:\n",
    "    예외가 발생되면 수행할 구문\n",
    "else:\n",
    "    try절을 수행하다 예외가 발생하지 않은 경우 else절을 한번 수행(자주 사용되진 않음.)\n",
    "finally :\n",
    "    예외가 발생 안하면 try-else-finally절 수행\n",
    "    예외가 발생하면 try 수행중 except - finally절 수행\n",
    "```"
   ]
  },
  {
   "cell_type": "code",
   "execution_count": 9,
   "id": "01310177",
   "metadata": {},
   "outputs": [
    {
     "name": "stdout",
     "output_type": "stream",
     "text": [
      "정수를 입력하세요 :a\n",
      "invalid literal for int() with base 10: 'a'\n",
      "<class 'ValueError'>\n",
      "예외메세지 : (\"invalid literal for int() with base 10: 'a'\",)\n",
      "예외메세지 : invalid literal for int() with base 10: 'a'\n",
      "정수를 입력하세요 :10\n",
      "10\n"
     ]
    }
   ],
   "source": [
    "# 개발자들 간에는 친절하게 안알려줌. 걍 이렇게 나오게 만들어버림.\n",
    "while True :\n",
    "    try :\n",
    "        x = int(input('정수를 입력하세요 :'))\n",
    "        result = 100/x\n",
    "        result = f\"{100/x:.0f}\" if round(result)==result else f\"{100/x:.2f}\"\n",
    "        print(result)\n",
    "        break\n",
    "    except (ZeroDivisionError, ValueError) as e :  #생성된 예외 메세지가 e에 포함됨.\n",
    "        print(e) #e.__str__() : 예외메세지\n",
    "        print(type(e))\n",
    "        print('예외메세지 :', e.args)\n",
    "        print('예외메세지 :', e.args[0])\n",
    "    except Exception : \n",
    "        print('다시 시도하세요!')"
   ]
  },
  {
   "cell_type": "code",
   "execution_count": 10,
   "id": "e7d66174",
   "metadata": {},
   "outputs": [
    {
     "name": "stdout",
     "output_type": "stream",
     "text": [
      "Hello\n",
      "World\n"
     ]
    }
   ],
   "source": [
    "try:\n",
    "    f = open(r'data\\ch08.txt', 'r')\n",
    "except FileNotFoundError as e:  #예외가 발생되면 수행할 구문\n",
    "    print(e)\n",
    "    print('해당 파일이 없습니다.')\n",
    "else:                           #try절을 수행하다 예외가 발생하지 않은 경우 else절을 한번 수행\n",
    "    data = f.read()\n",
    "    print(data)\n",
    "finally:                        #예외가 발생 안하면 try-else-finally절 수행\n",
    "    f.close()"
   ]
  },
  {
   "cell_type": "code",
   "execution_count": 11,
   "id": "221a1a9f",
   "metadata": {},
   "outputs": [
    {
     "name": "stdout",
     "output_type": "stream",
     "text": [
      "[Errno 2] No such file or directory: 'data\\\\ch00.txt'\n",
      "해당 파일이 없습니다.\n"
     ]
    }
   ],
   "source": [
    "#오류가 발생하는 경우 except부터 수행함.\n",
    "try:\n",
    "    f = open(r'data\\ch00.txt', 'r')\n",
    "except FileNotFoundError as e:  #예외가 발생되면 수행할 구문\n",
    "    print(e)\n",
    "    print('해당 파일이 없습니다.')\n",
    "else:                           #try절을 수행하다 예외가 발생하지 않은 경우 else절을 한번 수행\n",
    "    data = f.read()\n",
    "    print(data)\n",
    "finally:                        #예외가 발생 안하면 try-else-finally절 수행\n",
    "    f.close()"
   ]
  },
  {
   "cell_type": "code",
   "execution_count": 12,
   "id": "0e81148c",
   "metadata": {},
   "outputs": [
    {
     "name": "stdout",
     "output_type": "stream",
     "text": [
      "Hello\n",
      "World\n",
      "반드시 실행\n"
     ]
    }
   ],
   "source": [
    "#finally절은 어떠한 일이 있더라도 반드시 수행함. 최후의 방어선 같은 느낌\n",
    "try:\n",
    "    f = open(r'data\\ch08.txt', 'r')\n",
    "except FileNotFoundError as e:  #예외가 발생되면 수행할 구문\n",
    "    print(e)\n",
    "    print('해당 파일이 없습니다.')\n",
    "else:                           #try절을 수행하다 예외가 발생하지 않은 경우 else절을 한번 수행\n",
    "    data = f.read()\n",
    "    print(data)\n",
    "finally:                        #예외가 발생 안하면 try-else-finally절 수행\n",
    "    print('반드시 실행')\n",
    "    f.close()"
   ]
  },
  {
   "cell_type": "markdown",
   "id": "bf380f92",
   "metadata": {},
   "source": [
    "# 3절. raise\n",
    "- 강제 예외 발생"
   ]
  },
  {
   "cell_type": "code",
   "execution_count": 13,
   "id": "7c1f6c20",
   "metadata": {},
   "outputs": [
    {
     "ename": "NameError",
     "evalue": "예외 발생함",
     "output_type": "error",
     "traceback": [
      "\u001b[1;31m---------------------------------------------------------------------------\u001b[0m",
      "\u001b[1;31mNameError\u001b[0m                                 Traceback (most recent call last)",
      "Cell \u001b[1;32mIn[13], line 1\u001b[0m\n\u001b[1;32m----> 1\u001b[0m \u001b[38;5;28;01mraise\u001b[39;00m \u001b[38;5;167;01mNameError\u001b[39;00m(\u001b[38;5;124m\"\u001b[39m\u001b[38;5;124m예외 발생함\u001b[39m\u001b[38;5;124m\"\u001b[39m)\n",
      "\u001b[1;31mNameError\u001b[0m: 예외 발생함"
     ]
    }
   ],
   "source": [
    "raise NameError(\"예외 발생함\")  \n",
    "# raise : 개발자가 의도적으로 무언가를 발생시킬 때 사용\n",
    "# NameError : 파이썬 내장 예외 중 하나\n",
    "# (\"예외 발생함\") : 개발자가 지정한 문구"
   ]
  },
  {
   "cell_type": "code",
   "execution_count": 14,
   "id": "c5fb18f5",
   "metadata": {},
   "outputs": [],
   "source": [
    "# 사용자 정의 예외 : Exception 클래스 또는 그 하위 클래스를 상속받아 구현\n",
    "class LengthZeroError(Exception):\n",
    "    '길이가 0일 때 발생할 예외'\n",
    "    pass\n",
    "#    def __init__(self, message):\n",
    "#        self.message = message"
   ]
  },
  {
   "cell_type": "code",
   "execution_count": 15,
   "id": "635702de",
   "metadata": {},
   "outputs": [],
   "source": [
    "def insert(*data): #튜플 매개변수\n",
    "    if len(data)==0:\n",
    "        raise LengthZeroError(\"매개변수가 0인 예외입니다.\")\n",
    "    for item in data:\n",
    "        print(item, end=' ')\n",
    "    print('등을 입력하셨습니다.')"
   ]
  },
  {
   "cell_type": "code",
   "execution_count": 16,
   "id": "56aad5df",
   "metadata": {},
   "outputs": [
    {
     "name": "stdout",
     "output_type": "stream",
     "text": [
      "1 2 등을 입력하셨습니다.\n"
     ]
    }
   ],
   "source": [
    "# 함수값에 맞게 정상적으로 입력하면 예외가 발생하지 않는다.\n",
    "insert(1, 2)"
   ]
  },
  {
   "cell_type": "code",
   "execution_count": 19,
   "id": "4ab7d39a",
   "metadata": {},
   "outputs": [
    {
     "ename": "LengthZeroError",
     "evalue": "매개변수가 0인 예외입니다.",
     "output_type": "error",
     "traceback": [
      "\u001b[1;31m---------------------------------------------------------------------------\u001b[0m",
      "\u001b[1;31mLengthZeroError\u001b[0m                           Traceback (most recent call last)",
      "Cell \u001b[1;32mIn[19], line 2\u001b[0m\n\u001b[0;32m      1\u001b[0m \u001b[38;5;66;03m# 비워두면 if문에 따라 에러가 발생한다.\u001b[39;00m\n\u001b[1;32m----> 2\u001b[0m \u001b[43minsert\u001b[49m\u001b[43m(\u001b[49m\u001b[43m \u001b[49m\u001b[43m)\u001b[49m\n",
      "Cell \u001b[1;32mIn[15], line 3\u001b[0m, in \u001b[0;36minsert\u001b[1;34m(*data)\u001b[0m\n\u001b[0;32m      1\u001b[0m \u001b[38;5;28;01mdef\u001b[39;00m \u001b[38;5;21minsert\u001b[39m(\u001b[38;5;241m*\u001b[39mdata): \u001b[38;5;66;03m#튜플 매개변수\u001b[39;00m\n\u001b[0;32m      2\u001b[0m     \u001b[38;5;28;01mif\u001b[39;00m \u001b[38;5;28mlen\u001b[39m(data)\u001b[38;5;241m==\u001b[39m\u001b[38;5;241m0\u001b[39m:\n\u001b[1;32m----> 3\u001b[0m         \u001b[38;5;28;01mraise\u001b[39;00m LengthZeroError(\u001b[38;5;124m\"\u001b[39m\u001b[38;5;124m매개변수가 0인 예외입니다.\u001b[39m\u001b[38;5;124m\"\u001b[39m)\n\u001b[0;32m      4\u001b[0m     \u001b[38;5;28;01mfor\u001b[39;00m item \u001b[38;5;129;01min\u001b[39;00m data:\n\u001b[0;32m      5\u001b[0m         \u001b[38;5;28mprint\u001b[39m(item, end\u001b[38;5;241m=\u001b[39m\u001b[38;5;124m'\u001b[39m\u001b[38;5;124m \u001b[39m\u001b[38;5;124m'\u001b[39m)\n",
      "\u001b[1;31mLengthZeroError\u001b[0m: 매개변수가 0인 예외입니다."
     ]
    }
   ],
   "source": [
    "# 비워두면 if문에 따라 에러가 발생한다.\n",
    "insert( )"
   ]
  },
  {
   "cell_type": "code",
   "execution_count": 21,
   "id": "e888231c",
   "metadata": {},
   "outputs": [
    {
     "name": "stdout",
     "output_type": "stream",
     "text": [
      "매개변수가 0인 예외입니다.\n",
      "무조건 실행하는 부분 DONE\n"
     ]
    }
   ],
   "source": [
    "data = []\n",
    "try :\n",
    "    insert(*data)\n",
    "except LengthZeroError as e:\n",
    "    print(e)\n",
    "finally:\n",
    "    print('무조건 실행하는 부분 DONE')"
   ]
  },
  {
   "cell_type": "markdown",
   "id": "7b80b445",
   "metadata": {},
   "source": [
    "# 4절. 추상클래스\n",
    "- 추상클래스 : 객체를 생성할 수 없는 클래스. 상속받을 클래스의 포맷 제공\n",
    "- 추상메소드 : 호출할 수 없는 메소드"
   ]
  },
  {
   "cell_type": "code",
   "execution_count": 22,
   "id": "e820206f",
   "metadata": {},
   "outputs": [],
   "source": [
    "# Shape 클래스 : 객체를 만드는게 목적이 아닌, 자식 클래스(서브클래스)를 잘 만들게 목적\n",
    "# Shape 클래스를 상속받은 클래스들의 표준 제시\n",
    "class Shape:\n",
    "    def __init__(self):\n",
    "        raise NotImplementedError('추상 클래스 역할')\n",
    "    def calc_area(self):\n",
    "        raise NotImplementedError('추상 메소드 역할')"
   ]
  },
  {
   "cell_type": "code",
   "execution_count": 24,
   "id": "64a390ca",
   "metadata": {},
   "outputs": [
    {
     "data": {
      "text/plain": [
       "28.259999999999998"
      ]
     },
     "execution_count": 24,
     "metadata": {},
     "output_type": "execute_result"
    }
   ],
   "source": [
    "# s = Shape()\n",
    "class Circle(Shape):\n",
    "    def __init__(self, r=3):\n",
    "        self.r = r\n",
    "    def calc_area(self):\n",
    "        return 3.14*self.r*self.r\n",
    "c = Circle(3)\n",
    "c.calc_area()"
   ]
  },
  {
   "cell_type": "markdown",
   "id": "8c257c36",
   "metadata": {},
   "source": [
    "# 5절. 파일 정리 작업(with 절 이용)"
   ]
  },
  {
   "cell_type": "code",
   "execution_count": 25,
   "id": "118c959d",
   "metadata": {},
   "outputs": [
    {
     "name": "stdout",
     "output_type": "stream",
     "text": [
      "Hello\n",
      "World\n"
     ]
    }
   ],
   "source": [
    "#일일히 데이터를 가져오기엔 지나치게 길어지며 번거로움\n",
    "try:\n",
    "    f=open('data/ch08.txt','r')\n",
    "    print(f.read())\n",
    "except Exception as e:\n",
    "    print(e)\n",
    "finally:\n",
    "    f.close()\n",
    "#파일 clsoe를 자동적으로 수행하기 위해 with를 사용"
   ]
  },
  {
   "cell_type": "code",
   "execution_count": 26,
   "id": "1e06931c",
   "metadata": {},
   "outputs": [
    {
     "name": "stdout",
     "output_type": "stream",
     "text": [
      "Hello\n",
      "World\n"
     ]
    }
   ],
   "source": [
    "f=open('data/ch08.txt','r')\n",
    "print(f.read())\n",
    "f.close()"
   ]
  },
  {
   "cell_type": "code",
   "execution_count": null,
   "id": "866dc799",
   "metadata": {},
   "outputs": [],
   "source": [
    "with open('data/ch.08.txt','r')as f:\n",
    "    print(f.read())\n",
    "#with 절 이후에는 자동 close()실행"
   ]
  },
  {
   "cell_type": "markdown",
   "id": "d80e371e",
   "metadata": {},
   "source": [
    "# 6절. 연습문제"
   ]
  },
  {
   "cell_type": "code",
   "execution_count": null,
   "id": "18bdc13f",
   "metadata": {},
   "outputs": [],
   "source": []
  },
  {
   "cell_type": "code",
   "execution_count": null,
   "id": "5596e448",
   "metadata": {},
   "outputs": [],
   "source": []
  },
  {
   "cell_type": "code",
   "execution_count": null,
   "id": "708b7a13",
   "metadata": {},
   "outputs": [],
   "source": []
  },
  {
   "cell_type": "code",
   "execution_count": null,
   "id": "5e24b42b",
   "metadata": {},
   "outputs": [],
   "source": []
  },
  {
   "cell_type": "code",
   "execution_count": null,
   "id": "5d4722f7",
   "metadata": {},
   "outputs": [],
   "source": []
  },
  {
   "cell_type": "code",
   "execution_count": null,
   "id": "b1b3e185",
   "metadata": {},
   "outputs": [],
   "source": []
  },
  {
   "cell_type": "code",
   "execution_count": null,
   "id": "1fe5d4cd",
   "metadata": {},
   "outputs": [],
   "source": []
  },
  {
   "cell_type": "code",
   "execution_count": null,
   "id": "641d857d",
   "metadata": {},
   "outputs": [],
   "source": []
  }
 ],
 "metadata": {
  "kernelspec": {
   "display_name": "Python 3 (ipykernel)",
   "language": "python",
   "name": "python3"
  },
  "language_info": {
   "codemirror_mode": {
    "name": "ipython",
    "version": 3
   },
   "file_extension": ".py",
   "mimetype": "text/x-python",
   "name": "python",
   "nbconvert_exporter": "python",
   "pygments_lexer": "ipython3",
   "version": "3.10.9"
  },
  "toc": {
   "base_numbering": 1,
   "nav_menu": {},
   "number_sections": false,
   "sideBar": true,
   "skip_h1_title": false,
   "title_cell": "Table of Contents",
   "title_sidebar": "Contents",
   "toc_cell": false,
   "toc_position": {},
   "toc_section_display": true,
   "toc_window_display": false
  }
 },
 "nbformat": 4,
 "nbformat_minor": 5
}
