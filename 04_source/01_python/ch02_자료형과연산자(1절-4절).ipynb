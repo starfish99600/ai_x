{
 "cells": [
  {
   "cell_type": "code",
   "execution_count": 1,
   "id": "8a2c97bc",
   "metadata": {},
   "outputs": [
    {
     "data": {
      "text/html": [
       "\n",
       "<style>\n",
       "div.container{width:86% !important;}\n",
       "div.cell.code_cell.rendered{width:100%;}\n",
       "div.CodeMirror {font-family:Consolas; font-size:15pt;}\n",
       "div.output {font-size:15pt; font-weight:bold;}\n",
       "div.input {font-family:Consolas; font-size:15pt;}\n",
       "div.prompt {min-width:70px;}\n",
       "div#toc-wrapper{padding-top:120px;}\n",
       "div.text_cell_render ul li{font-size:12pt;padding:5px;}\n",
       "table.dataframe{font-size:15px;}\n",
       "</style>\n"
      ],
      "text/plain": [
       "<IPython.core.display.HTML object>"
      ]
     },
     "metadata": {},
     "output_type": "display_data"
    }
   ],
   "source": [
    "from IPython.display import display, HTML\n",
    "display(HTML(\"\"\"\n",
    "<style>\n",
    "div.container{width:86% !important;}\n",
    "div.cell.code_cell.rendered{width:100%;}\n",
    "div.CodeMirror {font-family:Consolas; font-size:15pt;}\n",
    "div.output {font-size:15pt; font-weight:bold;}\n",
    "div.input {font-family:Consolas; font-size:15pt;}\n",
    "div.prompt {min-width:70px;}\n",
    "div#toc-wrapper{padding-top:120px;}\n",
    "div.text_cell_render ul li{font-size:12pt;padding:5px;}\n",
    "table.dataframe{font-size:15px;}\n",
    "</style>\n",
    "\"\"\"))"
   ]
  },
  {
   "cell_type": "markdown",
   "id": "1c149c1b",
   "metadata": {},
   "source": [
    "<font size=\"5\" clolr=\"red\">ch02 자료형과 연산자</font>\n",
    "# 1절 변수\n",
    "- 파이썬은 변수선언을 위한 과정이 없음. 할당과 동시에 타입이 지정되고 값이 할당됨.\n",
    "\n",
    "## 1.1 변수할당\n",
    "- 할당 연산자(=)를 이용해서 값을 할당하면 타입이 셋팅\n",
    "- 파이썬에서의 모든 변수는 객체로 저장"
   ]
  },
  {
   "cell_type": "code",
   "execution_count": 9,
   "id": "83bac1fe",
   "metadata": {
    "scrolled": true
   },
   "outputs": [
    {
     "name": "stdout",
     "output_type": "stream",
     "text": [
      "계산된 넓이는 78.5\n"
     ]
    }
   ],
   "source": [
    "r = 5                            # r에 5라는 변수를 할당\n",
    "area = 3.14 * r * r              # area에 3.14 곱하기 r(5), 곱하기 r(5)라는 변수를 할당함.\n",
    "print(\"계산된 넓이는\", area)     #print 함수사용"
   ]
  },
  {
   "cell_type": "code",
   "execution_count": null,
   "id": "25be9a62-2ca3-48e2-8d6b-6a7839c54007",
   "metadata": {},
   "outputs": [],
   "source": [
    "# 복습문제 풀이"
   ]
  },
  {
   "cell_type": "code",
   "execution_count": 2,
   "id": "03ff2fe0-efc6-4629-b238-9769cc7fb96a",
   "metadata": {},
   "outputs": [
    {
     "name": "stdout",
     "output_type": "stream",
     "text": [
      "이름 : 도현 나이 : 5\n"
     ]
    }
   ],
   "source": [
    "name =\"도현\"\n",
    "age = 5\n",
    "print(\"이름 :\", name, \"나이 :\", age) "
   ]
  },
  {
   "cell_type": "code",
   "execution_count": 5,
   "id": "74981c86-99e5-4512-9d0d-65bbcef53531",
   "metadata": {},
   "outputs": [
    {
     "name": "stdout",
     "output_type": "stream",
     "text": [
      "도현 은 5 살입니다.\n"
     ]
    }
   ],
   "source": [
    "print(name,\"은\", age,\"살입니다.\")"
   ]
  },
  {
   "cell_type": "code",
   "execution_count": 9,
   "id": "d608c5ed-4c8c-4eea-a148-c64fe36d455d",
   "metadata": {},
   "outputs": [
    {
     "name": "stdout",
     "output_type": "stream",
     "text": [
      "도현은5살입니다.\n"
     ]
    }
   ],
   "source": [
    "print(name+\"은\"+ str(age)+\"살입니다.\")"
   ]
  },
  {
   "cell_type": "code",
   "execution_count": null,
   "id": "f2d6f116-1438-499c-affe-996ed2140691",
   "metadata": {},
   "outputs": [],
   "source": []
  },
  {
   "cell_type": "code",
   "execution_count": 12,
   "id": "6459b03e",
   "metadata": {},
   "outputs": [
    {
     "name": "stdout",
     "output_type": "stream",
     "text": [
      "area = 78.53981633974483\n"
     ]
    }
   ],
   "source": [
    "r=5\n",
    "import numpy as np     \n",
    "#'numpy'라는 외장 라이브러리를 'np'라는 이름으로 호출함.\n",
    "# import \"모듈명\" as \"별칭\" : 모듈의 이름을 원하는 별칭으로 바꿔서 사용하게 해줌(코드)\n",
    "#'numpy'는 파이썬에서 부족한 수학연산능력을 보완하는 목적으로 사용되는 외부라이브러리임.\n",
    "area = np.pi * r * r    \n",
    "#np.pi는 파이 (π ≈ 3.14159265...)를 나타냄.(import를 사용하지 않는 경우 numpy.pi로 사용됨)\n",
    "print('area =', area)"
   ]
  },
  {
   "cell_type": "code",
   "execution_count": 16,
   "id": "9cfce23c",
   "metadata": {},
   "outputs": [
    {
     "data": {
      "text/plain": [
       "False"
      ]
     },
     "execution_count": 16,
     "metadata": {},
     "output_type": "execute_result"
    }
   ],
   "source": [
    "# is_integer는 정수형인지 인지 여부를 판단 하는 함수\n",
    "area.is_integer() "
   ]
  },
  {
   "cell_type": "code",
   "execution_count": 41,
   "id": "37a531db-9342-4ae8-ab2c-7102ceb7c214",
   "metadata": {},
   "outputs": [],
   "source": [
    "#주요 자료형 종류\n",
    "# int : 정수(1,100,-5)\n",
    "# float : 실수(소수점) (3.14, -2.0)\n",
    "# complex : 복소수(2+3j, -1.5+4j) #복소수는 실수+허수로 구성된 숫자를 뜻함.\n",
    "# 실수 = 눈에 보이는 병력. 허수 = 정찰로 추정된 적 병력 (확실하지 않음), 복소수 = \"보이는 병력 + 보일 수도 있는 병력\"  \n",
    "# str : 문자열(\"안녕\", \"123\")\n",
    "# bool : 참/거짓 (True, False)\n",
    "# list : 리스트(배열) [1,2,3] -대괄호[]와 ,로 나타냄\n",
    "# dict : 딕셔너리(사전형) {'a':1,'b':2} -중괄호{}와 :로 나타내며 key와 value로 나타냄\n",
    "# tuple : 튜플(고정 리스트) (1,2) -소괄호()와 ,로 나타냄\n",
    "# set : 집합(중복없음)"
   ]
  },
  {
   "cell_type": "code",
   "execution_count": 32,
   "id": "3e37dee9-1458-4d68-9821-c69d357417b6",
   "metadata": {},
   "outputs": [
    {
     "name": "stdout",
     "output_type": "stream",
     "text": [
      "<class 'float'>\n",
      "True\n",
      "False\n",
      "5.0\n"
     ]
    }
   ],
   "source": [
    "# 데이터 타입을 확인할 수 있는 함수와 도구들\n",
    "# type : 변수의 자료형을 알려주는 함수\n",
    "x = 3.14\n",
    "print(type(x))       # <class 'float'>\n",
    "\n",
    "# isinstance(변수, 자료형) : 변수가 특정자료형인지 참(True) 거짓(False)으로 알려줌\n",
    "x = 3.14\n",
    "print(isinstance(x, float))   # True\n",
    "print(isinstance(x, int))     # False\n",
    "\n",
    "# float() : 다른 자료형을 실수형으로 바꾸는 함수\n",
    "x = float(5)     # 정수 5 → 실수 5.0\n",
    "print(x)         # 5.0"
   ]
  },
  {
   "cell_type": "code",
   "execution_count": 21,
   "id": "dc56b802",
   "metadata": {},
   "outputs": [
    {
     "name": "stdout",
     "output_type": "stream",
     "text": [
      "area의 주소 : 2607293647920\n",
      "area의 타입 : <class 'float'>\n"
     ]
    }
   ],
   "source": [
    "#float(실수형) 자료의 주소와 자료 형태를 확인하는 법\n",
    "area=5.5\n",
    "print('area의 주소 :', id(area))      #id : 변수가 메모리상 어디 저장되어있는지를 알려주는 함수\n",
    "print('area의 타입 :', type(area))    #type : 변수의 자료형(데이터타입)을 확인하는 함수"
   ]
  },
  {
   "cell_type": "code",
   "execution_count": 20,
   "id": "32950aa7",
   "metadata": {},
   "outputs": [
    {
     "name": "stdout",
     "output_type": "stream",
     "text": [
      "area의 주소 : 140725892557528\n",
      "area의 타입 : <class 'int'>\n"
     ]
    }
   ],
   "source": [
    "#int(정수형) 자료의 주소와 자료 형태를 확인하는 법\n",
    "area=10\n",
    "print('area의 주소 :', id(area))\n",
    "print('area의 타입 :', type(area))"
   ]
  },
  {
   "cell_type": "code",
   "execution_count": 19,
   "id": "e40ebbab",
   "metadata": {},
   "outputs": [
    {
     "name": "stdout",
     "output_type": "stream",
     "text": [
      "area의 주소 : 2607312992608\n",
      "area의 타입 : <class 'str'>\n"
     ]
    }
   ],
   "source": [
    "#str(문자열) 자료의 주소와 자료 형태를 확인하는 법\n",
    "area= \"파이썬\"\n",
    "print('area의 주소 :', id(area))\n",
    "print('area의 타입 :', type(area))"
   ]
  },
  {
   "cell_type": "markdown",
   "id": "25dbe3a0",
   "metadata": {},
   "source": [
    "## 1.2 변수이름 규칙\n",
    "- 변수이름은 문자로 시작하며 숫자로 시작 할 수 없음. ex) 123=\"홍길동\" => 이러면 안됨!\n",
    "- 문자, 숫자(중간이나 끝에), _(권장)로 변수명 작성 ex) Isr_1 = \"정찰자산\" 이런식으로 권장됨.\n",
    "- 함수명은 변수이름으로 가능하나 피한다. 써야한다면 int_식으로 _를 이용한다. ex) print=출력 이런거 비권장\n",
    "- 파이썬 예약어(for, ..)는 변수이름 사용 불가\n",
    "- 한글변수는 꼭 필요시에만 이용(프로그램이 꼬일 수 있음.)"
   ]
  },
  {
   "cell_type": "code",
   "execution_count": 23,
   "id": "bc745007",
   "metadata": {},
   "outputs": [
    {
     "name": "stdout",
     "output_type": "stream",
     "text": [
      "홍길동\n"
     ]
    }
   ],
   "source": [
    "이름 = \"홍길동\"\n",
    "print(이름)"
   ]
  },
  {
   "cell_type": "code",
   "execution_count": 24,
   "id": "672ebc6e",
   "metadata": {},
   "outputs": [
    {
     "data": {
      "text/plain": [
       "'홍길동'"
      ]
     },
     "execution_count": 24,
     "metadata": {},
     "output_type": "execute_result"
    }
   ],
   "source": [
    "이름"
   ]
  },
  {
   "cell_type": "code",
   "execution_count": 28,
   "id": "b17f7ea6",
   "metadata": {},
   "outputs": [
    {
     "name": "stdout",
     "output_type": "stream",
     "text": [
      "홍길동\n",
      "고길동\n"
     ]
    }
   ],
   "source": [
    "member_name=\"홍길동\"\n",
    "memberName=\"고길동\"\n",
    "\n",
    "print(member_name)\n",
    "print(memberName)"
   ]
  },
  {
   "cell_type": "code",
   "execution_count": 30,
   "id": "9457f0b3",
   "metadata": {},
   "outputs": [
    {
     "name": "stdout",
     "output_type": "stream",
     "text": [
      "10\n"
     ]
    }
   ],
   "source": [
    "#대문자로 시작한 변수, 함수명의 변수는 강력비추\n",
    "Print=10 \n",
    "print(Print)"
   ]
  },
  {
   "cell_type": "code",
   "execution_count": 43,
   "id": "1bc9b436",
   "metadata": {},
   "outputs": [
    {
     "data": {
      "text/plain": [
       "complex"
      ]
     },
     "execution_count": 43,
     "metadata": {},
     "output_type": "execute_result"
    }
   ],
   "source": [
    "#파이썬에서의 숫자 : 정수, 실수, 복소수\n",
    "i = 3 + 3j #복소수생성 코드\n",
    "type(i)"
   ]
  },
  {
   "cell_type": "code",
   "execution_count": 44,
   "id": "bd7a4b08",
   "metadata": {},
   "outputs": [
    {
     "data": {
      "text/plain": [
       "True"
      ]
     },
     "execution_count": 44,
     "metadata": {},
     "output_type": "execute_result"
    }
   ],
   "source": [
    "#i변수(객체)가 complex인지 여부 확인 isinstance(변수, 자료형) 사용\n",
    "isinstance(i, complex) "
   ]
  },
  {
   "cell_type": "markdown",
   "id": "fe0385bc",
   "metadata": {},
   "source": [
    "## 1.3 도움말"
   ]
  },
  {
   "cell_type": "code",
   "execution_count": 51,
   "id": "ec2f77de",
   "metadata": {},
   "outputs": [
    {
     "name": "stdout",
     "output_type": "stream",
     "text": [
      "Help on built-in function print in module builtins:\n",
      "\n",
      "print(*args, sep=' ', end='\\n', file=None, flush=False)\n",
      "    Prints the values to a stream, or to sys.stdout by default.\n",
      "\n",
      "    sep\n",
      "      string inserted between values, default a space.\n",
      "    end\n",
      "      string appended after the last value, default a newline.\n",
      "    file\n",
      "      a file-like object (stream); defaults to the current sys.stdout.\n",
      "    flush\n",
      "      whether to forcibly flush the stream.\n",
      "\n"
     ]
    }
   ],
   "source": [
    "#도움말 사용법 예시 hepl(설명을 듣고자 하는 대상)\n",
    "help(print)"
   ]
  },
  {
   "cell_type": "code",
   "execution_count": 33,
   "id": "040f8cf4",
   "metadata": {
    "collapsed": true,
    "jupyter": {
     "outputs_hidden": true
    }
   },
   "outputs": [
    {
     "name": "stdout",
     "output_type": "stream",
     "text": [
      "\n",
      "Welcome to Python 3.10's help utility!\n",
      "\n",
      "If this is your first time using Python, you should definitely check out\n",
      "the tutorial on the internet at https://docs.python.org/3.10/tutorial/.\n",
      "\n",
      "Enter the name of any module, keyword, or topic to get help on writing\n",
      "Python programs and using Python modules.  To quit this help utility and\n",
      "return to the interpreter, just type \"quit\".\n",
      "\n",
      "To get a list of available modules, keywords, symbols, or topics, type\n",
      "\"modules\", \"keywords\", \"symbols\", or \"topics\".  Each module also comes\n",
      "with a one-line summary of what it does; to list the modules whose name\n",
      "or summary contain a given string such as \"spam\", type \"modules spam\".\n",
      "\n",
      "help> print\n",
      "Help on built-in function print in module builtins:\n",
      "\n",
      "print(...)\n",
      "    print(value, ..., sep=' ', end='\\n', file=sys.stdout, flush=False)\n",
      "    \n",
      "    Prints the values to a stream, or to sys.stdout by default.\n",
      "    Optional keyword arguments:\n",
      "    file:  a file-like object (stream); defaults to the current sys.stdout.\n",
      "    sep:   string inserted between values, default a space.\n",
      "    end:   string appended after the last value, default a newline.\n",
      "    flush: whether to forcibly flush the stream.\n",
      "\n",
      "help> q\n",
      "\n",
      "You are now leaving help and returning to the Python interpreter.\n",
      "If you want to ask for help on a particular object directly from the\n",
      "interpreter, you can type \"help(object)\".  Executing \"help('string')\"\n",
      "has the same effect as typing a particular string at the help> prompt.\n"
     ]
    }
   ],
   "source": [
    "help() # help를 빠져나오려면 q입력 / ESC+O : 결과 접기/펴기"
   ]
  },
  {
   "cell_type": "code",
   "execution_count": 34,
   "id": "e7049728",
   "metadata": {},
   "outputs": [
    {
     "name": "stdout",
     "output_type": "stream",
     "text": [
      "\n"
     ]
    }
   ],
   "source": [
    "#도움말 : shift+tab(두번누를것)키\n",
    "print()"
   ]
  },
  {
   "cell_type": "code",
   "execution_count": 42,
   "id": "1f7ed6fd",
   "metadata": {},
   "outputs": [],
   "source": [
    "def add(x, y=0):            \n",
    "    #def : 함수정의 키워드, add : 사용자 임의지정 함수명\n",
    "    #x, y 함수에 들어가는 기본값, 별도로 입력이 필요함.\n",
    "    \"\"\"\n",
    "    매개변수 2개를 받아 두자리 숫자로 만들어요\n",
    "    x = 10의 자리수가 됨\n",
    "    y = 1의 자리수가 됨\n",
    "    사용법 : add(2,3) => 23\n",
    "    \"\"\"\n",
    "    return x*10+y\n",
    "    #return : 함수의 결과값을 반환함."
   ]
  },
  {
   "cell_type": "code",
   "execution_count": 47,
   "id": "507b1f29",
   "metadata": {},
   "outputs": [
    {
     "data": {
      "text/plain": [
       "24"
      ]
     },
     "execution_count": 47,
     "metadata": {},
     "output_type": "execute_result"
    }
   ],
   "source": [
    "add(2, 4)"
   ]
  },
  {
   "cell_type": "code",
   "execution_count": 45,
   "id": "d55b7596",
   "metadata": {},
   "outputs": [
    {
     "data": {
      "text/plain": [
       "23"
      ]
     },
     "execution_count": 45,
     "metadata": {},
     "output_type": "execute_result"
    }
   ],
   "source": [
    "a = add\n",
    "a(2, 3)"
   ]
  },
  {
   "cell_type": "code",
   "execution_count": 46,
   "id": "0699ece9-0dd2-4167-8f37-955a68fe512c",
   "metadata": {},
   "outputs": [],
   "source": [
    "# 변수삭제 함수\n",
    "x =10\n",
    "z =100\n",
    "del (x, z) # a변수와 b변수를 동시에 삭제한다는 의미"
   ]
  },
  {
   "cell_type": "markdown",
   "id": "125e3915",
   "metadata": {},
   "source": [
    "## 1.4 다중 변수 할당"
   ]
  },
  {
   "cell_type": "code",
   "execution_count": 47,
   "id": "208132c8",
   "metadata": {},
   "outputs": [],
   "source": [
    "#기존방식\n",
    "a=10\n",
    "b=20"
   ]
  },
  {
   "cell_type": "code",
   "execution_count": 50,
   "id": "b0af5515",
   "metadata": {},
   "outputs": [
    {
     "name": "stdout",
     "output_type": "stream",
     "text": [
      "10 20\n"
     ]
    }
   ],
   "source": [
    "# 다중 변수 할당 방식(packing 이라고 부름)\n",
    "a, b = 10, 20\n",
    "print(a,b)"
   ]
  },
  {
   "cell_type": "code",
   "execution_count": 49,
   "id": "35705199",
   "metadata": {},
   "outputs": [
    {
     "name": "stdout",
     "output_type": "stream",
     "text": [
      "20 30\n"
     ]
    }
   ],
   "source": [
    "# 다중 변수 할당시 순차적 할당이 아니고, 일괄 동시 할당(가독성이 떨어져 자주 사용하지는 않음.)\n",
    "a, b = b, a+b\n",
    "print(a, b)"
   ]
  },
  {
   "cell_type": "markdown",
   "id": "e5ba4b04",
   "metadata": {},
   "source": [
    "# 2절. 화면입출력(i/o)"
   ]
  },
  {
   "cell_type": "code",
   "execution_count": 53,
   "id": "ba6b0cde",
   "metadata": {},
   "outputs": [
    {
     "name": "stdin",
     "output_type": "stream",
     "text": [
      "첫번째 숫자는? 5\n"
     ]
    },
    {
     "data": {
      "text/plain": [
       "'5'"
      ]
     },
     "execution_count": 53,
     "metadata": {},
     "output_type": "execute_result"
    }
   ],
   "source": [
    "#input() : 사용자로부터 값을 입력받기 위한 함수. 무조껀 문자열로 인식됨.\n",
    "first = input(\"첫번째 숫자는?\")\n",
    "first"
   ]
  },
  {
   "cell_type": "code",
   "execution_count": 54,
   "id": "1a0e7546",
   "metadata": {},
   "outputs": [
    {
     "name": "stdin",
     "output_type": "stream",
     "text": [
      "두번째 숫자는? 10\n"
     ]
    },
    {
     "data": {
      "text/plain": [
       "'10'"
      ]
     },
     "execution_count": 54,
     "metadata": {},
     "output_type": "execute_result"
    }
   ],
   "source": [
    "second = input(\"두번째 숫자는?\")\n",
    "second"
   ]
  },
  {
   "cell_type": "code",
   "execution_count": 55,
   "id": "8080a734",
   "metadata": {},
   "outputs": [
    {
     "name": "stdout",
     "output_type": "stream",
     "text": [
      "합: 15\n"
     ]
    }
   ],
   "source": [
    "#int : 문자열(str)이나 실수(float)를 정수형으로 바꿔주는 함수, \n",
    "#입력된 값이 input함수로 인해 문자열로 인식되기 때문에 정수로 바꿔줘야해서 입력함.\n",
    "sum = int(first) + int(second)\n",
    "print('합:', sum)"
   ]
  },
  {
   "cell_type": "code",
   "execution_count": 56,
   "id": "53c29173",
   "metadata": {},
   "outputs": [
    {
     "name": "stdin",
     "output_type": "stream",
     "text": [
      "첫번째 수는? 5\n",
      "두번째 수는? 10\n"
     ]
    },
    {
     "name": "stdout",
     "output_type": "stream",
     "text": [
      "합 15\n"
     ]
    }
   ],
   "source": [
    "first = int(input('첫번째 수는?'))\n",
    "second = int(input('두번째 수는?'))\n",
    "sum=first+second\n",
    "print('합', sum)"
   ]
  },
  {
   "cell_type": "code",
   "execution_count": 55,
   "id": "21d85524",
   "metadata": {},
   "outputs": [
    {
     "name": "stdout",
     "output_type": "stream",
     "text": [
      "합=30\n"
     ]
    }
   ],
   "source": [
    "#sep : print()에서 여러값을 출력 할 때 사이에 무엇을 넣을지를 정하는 옵션\n",
    "print('합', sum, sep='=')"
   ]
  },
  {
   "cell_type": "code",
   "execution_count": 58,
   "id": "25804a64",
   "metadata": {},
   "outputs": [
    {
     "name": "stdout",
     "output_type": "stream",
     "text": [
      "합=30/합~30/합은30\n"
     ]
    }
   ],
   "source": [
    "#end : print()가 끝난 후 자동 줄바꿈을 할지, 다른걸 붙일지를 정하는 옵션\n",
    "print('합', sum, sep=\"=\", end=\"/\")\n",
    "print('합', sum, sep=\"~\",  end=\"/\")\n",
    "print('합', sum, sep=\"은\")"
   ]
  },
  {
   "cell_type": "code",
   "execution_count": 57,
   "id": "5ae7d9ea",
   "metadata": {},
   "outputs": [
    {
     "name": "stdout",
     "output_type": "stream",
     "text": [
      "hello, world\n"
     ]
    }
   ],
   "source": [
    "#import : 외부 모듈을 불러오는 명령어\n",
    "#sys : 시스템 관련 모듈\n",
    "#sys.stdout : print관련 결과를 화면에 출력하라는 명령어\n",
    "import sys\n",
    "print('hello', 'world', sep=\", \", file=sys.stdout)"
   ]
  },
  {
   "cell_type": "markdown",
   "id": "4c4dc11d",
   "metadata": {},
   "source": [
    "# 3절. 기본 자료형\n",
    "- 자료형에 따라 값의 크기와 저장방식이 달라짐\n",
    "    - 숫자 : int, float, complex\n",
    "    - 문자 : str\n",
    "    - 논리 : bool(True/False)\n",
    "    \n",
    "## 3.1 숫자형    \n",
    "    -정수(int), 실수(float), 복소수형(complax)이 있음."
   ]
  },
  {
   "cell_type": "code",
   "execution_count": 63,
   "id": "fc7ec5a9",
   "metadata": {},
   "outputs": [
    {
     "data": {
      "text/plain": [
       "9223372036854775807"
      ]
     },
     "execution_count": 63,
     "metadata": {},
     "output_type": "execute_result"
    }
   ],
   "source": [
    "# 파이썬에서 가장 큰 정수값을 불러옴\n",
    "# 64비트 시스템에서의 정수 최대값 2의 63승-1 (2**63 -1)\n",
    "import sys\n",
    "sys.maxsize "
   ]
  },
  {
   "cell_type": "code",
   "execution_count": 64,
   "id": "8d5f6ab2",
   "metadata": {},
   "outputs": [
    {
     "data": {
      "text/plain": [
       "9223372036854776807"
      ]
     },
     "execution_count": 64,
     "metadata": {},
     "output_type": "execute_result"
    }
   ],
   "source": [
    "# 다만, 시스템 최대값을 불러왔다고 해도 이 값을 변조해도 문제없이 작동함.\n",
    "i = sys.maxsize + 1000\n",
    "i"
   ]
  },
  {
   "cell_type": "code",
   "execution_count": 65,
   "id": "3bd05821",
   "metadata": {},
   "outputs": [
    {
     "name": "stdout",
     "output_type": "stream",
     "text": [
      "9223372036854776807\n",
      "<class 'int'>\n"
     ]
    }
   ],
   "source": [
    "i = sys.maxsize + 1000\n",
    "print(i)\n",
    "print(type(i))"
   ]
  },
  {
   "cell_type": "code",
   "execution_count": 61,
   "id": "861f1068",
   "metadata": {},
   "outputs": [
    {
     "name": "stdout",
     "output_type": "stream",
     "text": [
      "2.0\n",
      "<class 'float'>\n"
     ]
    }
   ],
   "source": [
    "#정수(int)/정수(int)는 무조껀 실수(float)\n",
    "f=4/2 \n",
    "f\n",
    "print(f)\n",
    "print(type(f))"
   ]
  },
  {
   "cell_type": "code",
   "execution_count": 63,
   "id": "21dbbde7",
   "metadata": {},
   "outputs": [
    {
     "name": "stdout",
     "output_type": "stream",
     "text": [
      "2\n",
      "<class 'int'>\n",
      "2\n",
      "<class 'int'>\n"
     ]
    }
   ],
   "source": [
    "# 자바처럼 정수/정수의 결과를 정수로\n",
    "f = 4//2 #몫연산자\n",
    "print(f)\n",
    "print(type(f))\n",
    "f1 = int(4/2)\n",
    "print(f)\n",
    "print(type(f1))"
   ]
  },
  {
   "cell_type": "code",
   "execution_count": 64,
   "id": "80a58b4d",
   "metadata": {},
   "outputs": [
    {
     "name": "stdout",
     "output_type": "stream",
     "text": [
      "(-1+0j)\n"
     ]
    }
   ],
   "source": [
    "#파이썬을 빌어먹게도 복소수 연산도 지원한다.\n",
    "c = 1j #수학시간의 0=1i\n",
    "print(c**2) # ** 승연산자"
   ]
  },
  {
   "cell_type": "code",
   "execution_count": 74,
   "id": "2cd12b18",
   "metadata": {},
   "outputs": [
    {
     "name": "stdout",
     "output_type": "stream",
     "text": [
      "지수형 표현할당시 실수형으로 저장 : 1120000000000.0\n",
      "지수형 표현할당시 실수형으로 저장 : 1.12e-12\n"
     ]
    }
   ],
   "source": [
    "f = 1.12e12 #1.12의 10의 12승 112000000000000 (e는 10의 승을 뜻함.)\n",
    "print('지수형 표현할당시 실수형으로 저장 :', f)\n",
    "f = 1.12e-12 # 0.00000000000112\n",
    "print('지수형 표현할당시 실수형으로 저장 :', f)"
   ]
  },
  {
   "cell_type": "markdown",
   "id": "33c4d81d",
   "metadata": {},
   "source": [
    "## 3.2 문자형\n",
    "-쌍따옴표(\"-\")나 홑따옴표('-'), 따옴표 3개('''-''' 또는 \"\"\"-\"\"\")로 문자열을 생성"
   ]
  },
  {
   "cell_type": "code",
   "execution_count": 72,
   "id": "6871afb3-8f95-42ad-969b-6f5035477b4d",
   "metadata": {},
   "outputs": [],
   "source": [
    "# 이스케이프 코드\n",
    "# \\n 줄바꿈\n",
    "# \\t 탭(들여쓰기)\n",
    "# \\' 작은 따옴표 문자\n",
    "# \\\" 큰 따옴표 문자\n",
    "# \\\\ 역 슬래시 자체(여기선 표현이 안되지만 '원'문자 표현시)\n",
    "# \\r 캐리지 리던(행의 첫번째 열로 돌아옴)\n",
    "# \\b 백스페이스(한 글자 삭제)"
   ]
  },
  {
   "cell_type": "code",
   "execution_count": 68,
   "id": "95c86793-05cf-4c9d-81ed-8a320d4a6487",
   "metadata": {},
   "outputs": [
    {
     "ename": "SyntaxError",
     "evalue": "invalid syntax. Perhaps you forgot a comma? (3841251202.py, line 1)",
     "output_type": "error",
     "traceback": [
      "\u001b[1;36m  Cell \u001b[1;32mIn[68], line 1\u001b[1;36m\u001b[0m\n\u001b[1;33m    print(\"He said \"No\"\")\u001b[0m\n\u001b[1;37m          ^\u001b[0m\n\u001b[1;31mSyntaxError\u001b[0m\u001b[1;31m:\u001b[0m invalid syntax. Perhaps you forgot a comma?\n"
     ]
    }
   ],
   "source": [
    "# 문장을 만들기 위해, 예를 들어 \n",
    "# 도현이가 \"안돼\" 라고 말했다. 같은 문장을 만들기 위해 \"\"를 남발하면 문제가 생긴다.\n",
    "print(\"He said \"No\"\")"
   ]
  },
  {
   "cell_type": "code",
   "execution_count": 70,
   "id": "b3340dc7-c2b8-4178-bbfe-55d6a028ac18",
   "metadata": {},
   "outputs": [
    {
     "name": "stdout",
     "output_type": "stream",
     "text": [
      "He said \"No\"\n"
     ]
    }
   ],
   "source": [
    "# 따라서 \"\"를 사용하는 문장을 만들기 위해선 \\(역슬레시, 이스케이프 문자라고 함)을 사용\n",
    "print(\"He said \\\"No\\\"\")"
   ]
  },
  {
   "cell_type": "code",
   "execution_count": 65,
   "id": "3401af78",
   "metadata": {},
   "outputs": [
    {
     "name": "stdout",
     "output_type": "stream",
     "text": [
      "홍길동\"짱\" 서울시 관악구 '신림동'\n"
     ]
    }
   ],
   "source": [
    "name = '' # 홍길동\"짱\"\n",
    "# \"홍길동\"짱\"\"으로 작성할 경우 에러가 남\n",
    "# 따라서 아래와 같이 해야 에러가 안남\n",
    "name = \"홍길동\\\"짱\\\"\"\n",
    "name = '홍길동\"짱\"'\n",
    "address = '서울시 관악구 \\'신림동''' # 서울시 관악구 '신길동'(비추천하는 방식)\n",
    "address = \"서울시 관악구 '신림동'\"\n",
    "print(name, address)"
   ]
  },
  {
   "cell_type": "code",
   "execution_count": 67,
   "id": "6d3dea1f",
   "metadata": {},
   "outputs": [
    {
     "name": "stdout",
     "output_type": "stream",
     "text": [
      "홍길동\"짱\"\n"
     ]
    }
   ],
   "source": [
    "name = \"홍길동\\\"짱\\\"\"\n",
    "print(name)"
   ]
  },
  {
   "cell_type": "code",
   "execution_count": 78,
   "id": "0ddf30f5",
   "metadata": {},
   "outputs": [
    {
     "name": "stdout",
     "output_type": "stream",
     "text": [
      "홍길동\"짱\"\n"
     ]
    }
   ],
   "source": [
    "name = '홍길동\"짱\"'\n",
    "print(name)"
   ]
  },
  {
   "cell_type": "code",
   "execution_count": 86,
   "id": "ef659e85",
   "metadata": {},
   "outputs": [
    {
     "name": "stdout",
     "output_type": "stream",
     "text": [
      "서울시 관악구'신림동\n"
     ]
    }
   ],
   "source": [
    "address = '서울시 관악구\\'신림동'''\n",
    "print(address)"
   ]
  },
  {
   "cell_type": "code",
   "execution_count": 81,
   "id": "eec2e5cc",
   "metadata": {},
   "outputs": [
    {
     "name": "stdout",
     "output_type": "stream",
     "text": [
      "서울시 관악구 '신림동'\n"
     ]
    }
   ],
   "source": [
    "address = \"서울시 관악구 '신림동'\"\n",
    "print(address)"
   ]
  },
  {
   "cell_type": "code",
   "execution_count": 84,
   "id": "732cbfff",
   "metadata": {},
   "outputs": [
    {
     "name": "stdout",
     "output_type": "stream",
     "text": [
      "여러줄 짜리 내용\n",
      "줄바꿈문자를 쓰지 않고 따옴표 3개로 처리\n",
      "이처럼 쓰는 경우가 많아요\n"
     ]
    }
   ],
   "source": [
    "# 문자형 변수 여러줄을 작성 할 경우 따옴표 3개를 사용하면 편하다.\n",
    "text = '''여러줄 짜리 내용\n",
    "줄바꿈문자를 쓰지 않고 따옴표 3개로 처리\n",
    "이처럼 쓰는 경우가 많아요'''\n",
    "print(text)"
   ]
  },
  {
   "cell_type": "markdown",
   "id": "d91291e9",
   "metadata": {},
   "source": [
    "### ※ 문자열 연산"
   ]
  },
  {
   "cell_type": "code",
   "execution_count": 88,
   "id": "74f4ba3b",
   "metadata": {},
   "outputs": [
    {
     "name": "stdout",
     "output_type": "stream",
     "text": [
      "홍길동동에 번쩍 서에 번쩍\n"
     ]
    }
   ],
   "source": [
    "'''\n",
    "    여러 줄 주석 용도\n",
    "    2025.04.08 문자열 연산 소스 by 아무개\n",
    "'''\n",
    "name1 = \"홍길동\"\n",
    "name2 = \"동에 번쩍 서에 번쩍\"\n",
    "print(name1+name2)"
   ]
  },
  {
   "cell_type": "code",
   "execution_count": 91,
   "id": "55787efd",
   "metadata": {},
   "outputs": [
    {
     "name": "stdout",
     "output_type": "stream",
     "text": [
      "홍길동홍길동홍길동\n"
     ]
    }
   ],
   "source": [
    "print(name1*3) #문자열을 곱하면 반복"
   ]
  },
  {
   "cell_type": "markdown",
   "id": "5979a9a8",
   "metadata": {},
   "source": [
    "### ※ raw 데이터\n",
    "- 용도 : 정규표현식 이용, 디렉토리 경로 표현시 이용"
   ]
  },
  {
   "cell_type": "code",
   "execution_count": 93,
   "id": "5efa0f90",
   "metadata": {},
   "outputs": [
    {
     "name": "stdout",
     "output_type": "stream",
     "text": [
      "hello\\nWordl\n",
      "Hello\\nWordl\n"
     ]
    }
   ],
   "source": [
    "print(r'hello\\nWordl') #r을 안쓰면 \\n을 인식함.\n",
    "print('Hello\\\\nWordl') #\\\\를 사용하는 방법도 있으나 선호되진 않음. 코드가 보기 싫어짐."
   ]
  },
  {
   "cell_type": "code",
   "execution_count": null,
   "id": "ef59a1e9",
   "metadata": {},
   "outputs": [],
   "source": [
    "정규표현식\n",
    "'''(마크업 셀에서 백틱은 블록을 만들 때 사용)\n",
    "1. 참조 : 위키백과\n",
    "2. 간략한 문법 :\n",
    "    \\d (숫자와 매치, [0-9]와 동일\n",
    "    \\D (숫자가 아닌것)\n",
    "    \\w (영문자나 숫자, [a-zA-Z0-9]\n",
    "    \\W (영문자나 숫자가 아닌 문자)\n",
    "    . (문자하나를 뜻함)\n",
    "    \\. (.의미)\n",
    "    \\- (-의미)\n",
    "    {2, 4} (2~4번 반복)\n",
    "    {4}    (4번 반복)\n",
    "    {2,}   (2번이상 반복)\n",
    "    +      (1번이상 반복)\n",
    "    *      (0번이상 반복)\n",
    "    ?      (0번이나 1번 반복) \n",
    "    *해당될 경우 true 특정패턴 (숫자, 문자 등이 0번이나 1번 반복되는 것을 체크해라)\n",
    "    ()     (그룹화/추출/범위지정)\n",
    "    |      (선택(or)연산자, 이것 또는 저것)\n",
    "3. 정규표현식 연습장(https://regexr.com/)\n",
    "    ex1. 전화번호 : 010-9999-9999  02-7777-8888   01099997777   0277778888\n",
    "                    02)714-5656    010 1234 1234  010.1234.1234\n",
    "                    \"\\d{2,3}[\\-) \\.]?\\d{3,4}[\\- \\.]?\\d{4}\"\n",
    "    ex2. 이메일 : acb12@naver.com / abc123@0to.co.kr\n",
    "                  abc@한국.com\n",
    "                  \"\\w{3,}@[a-zA-Z0-9가-힣]+\\.[a-zA-Z]+(\\.[a-zA-Z]+)?\"    \n",
    "    \n",
    "4. 소스 구현\n",
    "'''"
   ]
  },
  {
   "cell_type": "code",
   "execution_count": 16,
   "id": "1874c135",
   "metadata": {},
   "outputs": [
    {
     "name": "stdout",
     "output_type": "stream",
     "text": [
      "홍길동인데 전번이 041-888-8888, 010 9999 9999 동에번쩍 서에번쩍 ㅋㅋ ㅠㅠ 오늘 날씨는 엄청 좋아요\n"
     ]
    }
   ],
   "source": [
    "import re\n",
    "data=\"홍길동인데 전번이 041-888-8888, 010 9999 9999 동에번쩍 서에번쩍 ㅋㅋ ㅠㅠ \\\n",
    "오늘 날씨는 엄청 좋아요\"\n",
    "print(data)"
   ]
  },
  {
   "cell_type": "code",
   "execution_count": 10,
   "id": "f24101c5",
   "metadata": {},
   "outputs": [],
   "source": [
    "email_pattern = r\"\\w{3,}@[a-zA-Z0-9가-힣]+\\.[a-zA-Z]+(\\.[a-zA-Z]+)?\""
   ]
  },
  {
   "cell_type": "code",
   "execution_count": 13,
   "id": "f0976f71",
   "metadata": {},
   "outputs": [],
   "source": [
    "tel_pattern = r\"\\d{2,3}[\\-) \\.]?\\d{3,4}[\\- \\.]?\\d{4}\""
   ]
  },
  {
   "cell_type": "code",
   "execution_count": 17,
   "id": "dee2142f",
   "metadata": {},
   "outputs": [
    {
     "data": {
      "text/plain": [
       "['041-888-8888', '010 9999 9999']"
      ]
     },
     "execution_count": 17,
     "metadata": {},
     "output_type": "execute_result"
    }
   ],
   "source": [
    "#해당 패턴을 다 찾아줌. 없으면 []반환\n",
    "tels = re.findall(tel_pattern, data)\n",
    "tels"
   ]
  },
  {
   "cell_type": "code",
   "execution_count": 18,
   "id": "d3e15809",
   "metadata": {},
   "outputs": [
    {
     "data": {
      "text/plain": [
       "<re.Match object; span=(10, 22), match='041-888-8888'>"
      ]
     },
     "execution_count": 18,
     "metadata": {},
     "output_type": "execute_result"
    }
   ],
   "source": [
    "# search() : 정규표현식 패턴과 일치하는 처음단어만 찾음\n",
    "pattern = \"(\\d{2,3})-(\\d{3,4})-(\\d{4})\"\n",
    "firstTel = re.search(pattern, data)\n",
    "firstTel"
   ]
  },
  {
   "cell_type": "code",
   "execution_count": 20,
   "id": "8d39eebf",
   "metadata": {},
   "outputs": [
    {
     "data": {
      "text/plain": [
       "'041-888-8888'"
      ]
     },
     "execution_count": 20,
     "metadata": {},
     "output_type": "execute_result"
    }
   ],
   "source": [
    "data[10:22] #문자 슬라이싱(원하는 부분만 빼내기)"
   ]
  },
  {
   "cell_type": "code",
   "execution_count": 22,
   "id": "61701665",
   "metadata": {},
   "outputs": [
    {
     "name": "stdout",
     "output_type": "stream",
     "text": [
      "전화번호 전체 : 041-888-8888\n",
      "국번 041\n",
      "중간번호 888\n",
      "끝번호 8888\n"
     ]
    }
   ],
   "source": [
    "print('전화번호 전체 :', firstTel.group(0))\n",
    "print('국번', firstTel.group(1))\n",
    "print('중간번호', firstTel.group(2))\n",
    "print('끝번호', firstTel.group(3))"
   ]
  },
  {
   "cell_type": "code",
   "execution_count": 23,
   "id": "549e774a",
   "metadata": {},
   "outputs": [
    {
     "data": {
      "text/plain": [
       "'홍길동인데 전번이 0418888888 010 9999 9999 동에번쩍 서에번쩍   오늘 날씨는 엄청 좋아요'"
      ]
     },
     "execution_count": 23,
     "metadata": {},
     "output_type": "execute_result"
    }
   ],
   "source": [
    "re.sub(r'[^가-힣0-9\\s]', '',data) \n",
    "#^는 이것을 제외하라는 뜻임.\n",
    "#특수문자, 자음, 모음 없애기"
   ]
  },
  {
   "cell_type": "code",
   "execution_count": 25,
   "id": "a055842c",
   "metadata": {},
   "outputs": [],
   "source": [
    "#파일을 추출하여 사용하는 방법\n",
    "#파일경로에는 반드시 r을 사용하거나 \\\\를 사용\n",
    "file_path = r\"C:\\AI_x\\04_source\\01_python\\test.py\" \n",
    "file_path = \"C:\\\\AI_x\\\\04_source\\\\01_python\\\\test.py\"\n",
    "file_path = \"C:/AI_x/04_source/01_python/test.py\""
   ]
  },
  {
   "cell_type": "code",
   "execution_count": 27,
   "id": "3fd2adb9",
   "metadata": {},
   "outputs": [
    {
     "name": "stdout",
     "output_type": "stream",
     "text": [
      "Hello ~ world\n"
     ]
    }
   ],
   "source": [
    "file_stream = open(file_path, 'w') #쓰기 모드로 파일 열기\n",
    "print(\"Hello\", \"world\", sep=\" ~ \") #콘솔출력\n",
    "print(\"Hello\", \"world\", sep=\" ~ \", file=file_stream) #파일출력\n",
    "file_stream.close() #close를 하지 않으면 파일저장 안됨"
   ]
  },
  {
   "cell_type": "code",
   "execution_count": null,
   "id": "5d17b000",
   "metadata": {},
   "outputs": [],
   "source": [
    "#파일에서 특정단어를 추출하는 행위를 스트링이라고하며 절차는 위와 같다."
   ]
  },
  {
   "cell_type": "markdown",
   "id": "f46960bb",
   "metadata": {},
   "source": [
    "### ※문자열 슬라이싱"
   ]
  },
  {
   "cell_type": "code",
   "execution_count": 29,
   "id": "f6684693",
   "metadata": {},
   "outputs": [],
   "source": [
    "#변수를 넣을 때 \\n\n",
    "#변수=값\n",
    "#변수=값들\n",
    "#['ㅁ','ㅍ']"
   ]
  },
  {
   "cell_type": "code",
   "execution_count": 30,
   "id": "f4387dab",
   "metadata": {},
   "outputs": [
    {
     "data": {
      "text/plain": [
       "'0123456789'"
      ]
     },
     "execution_count": 30,
     "metadata": {},
     "output_type": "execute_result"
    }
   ],
   "source": [
    "str_ = '0123456789'\n",
    "str_"
   ]
  },
  {
   "cell_type": "code",
   "execution_count": 33,
   "id": "8cab1d36",
   "metadata": {},
   "outputs": [
    {
     "data": {
      "text/plain": [
       "('0', '2', '9', '7')"
      ]
     },
     "execution_count": 33,
     "metadata": {},
     "output_type": "execute_result"
    }
   ],
   "source": [
    "# 문자 인덱싱(데이터의 특정부분만 추출해서 사용하는것)\n",
    "# -를 사용하는 경우 뒷열에 있는 문자를 추출함.\n",
    "str_[0], str_[2], str_[-1], str_[-3]"
   ]
  },
  {
   "cell_type": "code",
   "execution_count": 32,
   "id": "c64058b7",
   "metadata": {},
   "outputs": [
    {
     "ename": "IndexError",
     "evalue": "string index out of range",
     "output_type": "error",
     "traceback": [
      "\u001b[1;31m---------------------------------------------------------------------------\u001b[0m",
      "\u001b[1;31mIndexError\u001b[0m                                Traceback (most recent call last)",
      "Cell \u001b[1;32mIn[32], line 1\u001b[0m\n\u001b[1;32m----> 1\u001b[0m \u001b[43mstr_\u001b[49m\u001b[43m[\u001b[49m\u001b[38;5;241;43m20\u001b[39;49m\u001b[43m]\u001b[49m\n",
      "\u001b[1;31mIndexError\u001b[0m: string index out of range"
     ]
    }
   ],
   "source": [
    "str_[20] # 없는 인덱싱은 에러"
   ]
  },
  {
   "cell_type": "code",
   "execution_count": 35,
   "id": "8a4add3c",
   "metadata": {},
   "outputs": [
    {
     "data": {
      "text/plain": [
       "'\\n문자변수[from:stop] : from부터 stop앞까지 추출\\n'"
      ]
     },
     "execution_count": 35,
     "metadata": {},
     "output_type": "execute_result"
    }
   ],
   "source": [
    "'''\n",
    "문자변수[from:stop] : from부터 stop앞까지 추출\n",
    "문자변수[from:stop:step] : from부터 stop앞까지 step씩 전진하면서 추출\n",
    "    step(추출시작 인덱스) 생략시 1\n",
    "    from(추출종료 인덱스) 생략시 처음부터\n",
    "    stop(추출간격, 기본값1) 생략시 끝까지\n",
    "'''"
   ]
  },
  {
   "cell_type": "code",
   "execution_count": 34,
   "id": "4b20c77a",
   "metadata": {},
   "outputs": [
    {
     "data": {
      "text/plain": [
       "'01234'"
      ]
     },
     "execution_count": 34,
     "metadata": {},
     "output_type": "execute_result"
    }
   ],
   "source": [
    "str_[0:5] #0번째~5번째 앞까지"
   ]
  },
  {
   "cell_type": "code",
   "execution_count": 36,
   "id": "db89d887",
   "metadata": {},
   "outputs": [
    {
     "data": {
      "text/plain": [
       "'0246'"
      ]
     },
     "execution_count": 36,
     "metadata": {},
     "output_type": "execute_result"
    }
   ],
   "source": [
    "str_[0:8:2] #뒤에서 5번째부터 뒤에서1번째 앞까지"
   ]
  },
  {
   "cell_type": "code",
   "execution_count": 37,
   "id": "4293a8e0",
   "metadata": {},
   "outputs": [
    {
     "data": {
      "text/plain": [
       "'6789'"
      ]
     },
     "execution_count": 37,
     "metadata": {},
     "output_type": "execute_result"
    }
   ],
   "source": [
    "str_[-4:] #문자열에서 뒤로부터 4번째부터 끝까지"
   ]
  },
  {
   "cell_type": "code",
   "execution_count": 38,
   "id": "bf9a377a",
   "metadata": {},
   "outputs": [
    {
     "data": {
      "text/plain": [
       "'6789'"
      ]
     },
     "execution_count": 38,
     "metadata": {},
     "output_type": "execute_result"
    }
   ],
   "source": [
    "str_[-4:20] \n",
    "#인덱스 범위를 벗어나면 끝까지를 의미 \n",
    "#*통상 이렇게 하진 않음.(생략해버리면 되니까)"
   ]
  },
  {
   "cell_type": "code",
   "execution_count": 39,
   "id": "c2b88f1c",
   "metadata": {},
   "outputs": [
    {
     "data": {
      "text/plain": [
       "'987654321'"
      ]
     },
     "execution_count": 39,
     "metadata": {},
     "output_type": "execute_result"
    }
   ],
   "source": [
    "str_[9:0:-1] #from이 stop보다 숫자가 높은경우 거꾸로 실시함."
   ]
  },
  {
   "cell_type": "code",
   "execution_count": 62,
   "id": "80756cd4",
   "metadata": {},
   "outputs": [
    {
     "name": "stdout",
     "output_type": "stream",
     "text": [
      "0123456\n",
      "56789\n",
      "9876543210\n",
      "9876543210\n"
     ]
    }
   ],
   "source": [
    "#첫문자~6번째 인덱스까지 추출\n",
    "print(str_[0:7])\n",
    "#5번째부터 끝까지 추출\n",
    "print(str_[5:])\n",
    "#str_을 거꾸로 추출\n",
    "print(str_[::-1])\n",
    "print(str_[-1::-1])"
   ]
  },
  {
   "cell_type": "markdown",
   "id": "9e70c11f",
   "metadata": {},
   "source": [
    "## 3.3 논리형(True/False)"
   ]
  },
  {
   "cell_type": "code",
   "execution_count": 81,
   "id": "cde8dbdd",
   "metadata": {},
   "outputs": [
    {
     "name": "stdout",
     "output_type": "stream",
     "text": [
      "True\n",
      "<class 'bool'>\n",
      "True\n",
      "a주소: 140731850442960\n",
      "b주소: 140731850442960\n",
      "b주소: 140731850442992\n"
     ]
    }
   ],
   "source": [
    "a = True\n",
    "print(a) # a:매개변수=인자\n",
    "print(type(a)) #a변수의 타입\n",
    "print(isinstance(a, bool)) # instance(변수, 타입) : 변수가 해당 타입인지 여부\n",
    "print('a주소:',id(a))\n",
    "b = True\n",
    "print('b주소:',id(b))\n",
    "b = False\n",
    "print('b주소:', id(b))"
   ]
  },
  {
   "cell_type": "code",
   "execution_count": 65,
   "id": "696570b4",
   "metadata": {},
   "outputs": [
    {
     "data": {
      "text/plain": [
       "(1, 0)"
      ]
     },
     "execution_count": 65,
     "metadata": {},
     "output_type": "execute_result"
    }
   ],
   "source": [
    "int(True), int(False)"
   ]
  },
  {
   "cell_type": "code",
   "execution_count": null,
   "id": "6bd20e74",
   "metadata": {},
   "outputs": [],
   "source": [
    "# False로 간주되는 것 : 0, \"\"(빈스트링), None, [], (), {}\n",
    "# False외의 값은 다 True \" \""
   ]
  },
  {
   "cell_type": "code",
   "execution_count": 72,
   "id": "a83c0bb6",
   "metadata": {},
   "outputs": [
    {
     "name": "stdout",
     "output_type": "stream",
     "text": [
      "i가 크네\n"
     ]
    }
   ],
   "source": [
    "i = 10\n",
    "if  i>5:\n",
    "    print('i가 크네') #if문이 참인경우 해당내용을 출력할것.\n",
    "else:\n",
    "    print('i가 부족하네') #if문이 거짓인경우 해당내용을 출력할것."
   ]
  },
  {
   "cell_type": "code",
   "execution_count": 71,
   "id": "b9a097e6",
   "metadata": {},
   "outputs": [
    {
     "ename": "IndentationError",
     "evalue": "expected an indented block after 'if' statement on line 2 (2620420846.py, line 3)",
     "output_type": "error",
     "traceback": [
      "\u001b[1;36m  Cell \u001b[1;32mIn[71], line 3\u001b[1;36m\u001b[0m\n\u001b[1;33m    print('i가 크네')\u001b[0m\n\u001b[1;37m    ^\u001b[0m\n\u001b[1;31mIndentationError\u001b[0m\u001b[1;31m:\u001b[0m expected an indented block after 'if' statement on line 2\n"
     ]
    }
   ],
   "source": [
    "i = 10\n",
    "if  i>5:\n",
    "print('i가 크네')\n",
    "else:\n",
    "    print('i가 부족하네')\n",
    "#파이썬은 들여쓰기를 안하면 실행이 안된다."
   ]
  },
  {
   "cell_type": "code",
   "execution_count": 74,
   "id": "343c3657",
   "metadata": {},
   "outputs": [
    {
     "name": "stdout",
     "output_type": "stream",
     "text": [
      "False다\n"
     ]
    }
   ],
   "source": [
    "if []:\n",
    "    print('True다')\n",
    "else :\n",
    "    print('False다')\n",
    "# 빈괄호는 False다. 윗쪽내용 참조."
   ]
  },
  {
   "cell_type": "markdown",
   "id": "59a93fac",
   "metadata": {},
   "source": [
    "## 3.4 자료형 확인 및 형변환 함수\n",
    "#파이썬 자료의 형태에는 세가지만 존재함.(숫자형, 문자형, 논리형)\n",
    "\n",
    "#형변환 함수는 이런 자료의 형태를 바꾸는 함수임.\n",
    "\n",
    "-type('변수')\n",
    "-isinstance(변수, 타입)\n",
    "\n",
    "-int()   : 정수형으로 변환\n",
    "-float() : 실수형으로 변환\n",
    "-str()   : 문자형으로 변환 \n",
    "-bool()  : 논리형으로 변환"
   ]
  },
  {
   "cell_type": "code",
   "execution_count": 100,
   "id": "8334e9d6",
   "metadata": {},
   "outputs": [
    {
     "data": {
      "text/plain": [
       "(123, 123, 1, 123)"
      ]
     },
     "execution_count": 100,
     "metadata": {},
     "output_type": "execute_result"
    }
   ],
   "source": [
    "int(\"123\"), int(123.9), int(True), int(\"  123   \")"
   ]
  },
  {
   "cell_type": "code",
   "execution_count": 99,
   "id": "325bcb45",
   "metadata": {},
   "outputs": [
    {
     "data": {
      "text/plain": [
       "(123.5, 123.0, 1.0, 123.5)"
      ]
     },
     "execution_count": 99,
     "metadata": {},
     "output_type": "execute_result"
    }
   ],
   "source": [
    "float(\"123.5\"), float(123), float(True), float(\" 123.5  \")"
   ]
  },
  {
   "cell_type": "code",
   "execution_count": 92,
   "id": "6f94ea36",
   "metadata": {},
   "outputs": [
    {
     "data": {
      "text/plain": [
       "123.0"
      ]
     },
     "execution_count": 92,
     "metadata": {},
     "output_type": "execute_result"
    }
   ],
   "source": [
    "float(\"123\")\n",
    "#정수형은 소수형으로 변경시 실수로 변경됨"
   ]
  },
  {
   "cell_type": "code",
   "execution_count": 91,
   "id": "322733e9",
   "metadata": {},
   "outputs": [
    {
     "ename": "ValueError",
     "evalue": "invalid literal for int() with base 10: '123.5'",
     "output_type": "error",
     "traceback": [
      "\u001b[1;31m---------------------------------------------------------------------------\u001b[0m",
      "\u001b[1;31mValueError\u001b[0m                                Traceback (most recent call last)",
      "Cell \u001b[1;32mIn[91], line 1\u001b[0m\n\u001b[1;32m----> 1\u001b[0m \u001b[38;5;28;43mint\u001b[39;49m\u001b[43m(\u001b[49m\u001b[38;5;124;43m\"\u001b[39;49m\u001b[38;5;124;43m123.5\u001b[39;49m\u001b[38;5;124;43m\"\u001b[39;49m\u001b[43m)\u001b[49m\n",
      "\u001b[1;31mValueError\u001b[0m: invalid literal for int() with base 10: '123.5'"
     ]
    }
   ],
   "source": [
    "int(\"123.5\")\n",
    "#실수형을 정수형으로 변경시 오류가 발생함."
   ]
  },
  {
   "cell_type": "code",
   "execution_count": 93,
   "id": "01ab4d9c",
   "metadata": {},
   "outputs": [
    {
     "ename": "ValueError",
     "evalue": "invalid literal for int() with base 10: '1,000'",
     "output_type": "error",
     "traceback": [
      "\u001b[1;31m---------------------------------------------------------------------------\u001b[0m",
      "\u001b[1;31mValueError\u001b[0m                                Traceback (most recent call last)",
      "Cell \u001b[1;32mIn[93], line 5\u001b[0m\n\u001b[0;32m      1\u001b[0m \u001b[38;5;66;03m#오류가 발생하는 경우들\u001b[39;00m\n\u001b[0;32m      2\u001b[0m \u001b[38;5;66;03m#int(\"123.5\")\u001b[39;00m\n\u001b[0;32m      3\u001b[0m \u001b[38;5;66;03m#int(' ')\u001b[39;00m\n\u001b[0;32m      4\u001b[0m \u001b[38;5;66;03m#int('')\u001b[39;00m\n\u001b[1;32m----> 5\u001b[0m \u001b[38;5;28;43mint\u001b[39;49m\u001b[43m(\u001b[49m\u001b[38;5;124;43m\"\u001b[39;49m\u001b[38;5;124;43m1,000\u001b[39;49m\u001b[38;5;124;43m\"\u001b[39;49m\u001b[43m)\u001b[49m\n",
      "\u001b[1;31mValueError\u001b[0m: invalid literal for int() with base 10: '1,000'"
     ]
    }
   ],
   "source": [
    "# int() 오류가 발생하는 경우들 *()=함수라는뜻\n",
    "#int(\"123.5\")\n",
    "#int(' ')\n",
    "#int('')\n",
    "int(\"1,000\")"
   ]
  },
  {
   "cell_type": "code",
   "execution_count": 101,
   "id": "44242737",
   "metadata": {},
   "outputs": [],
   "source": [
    "#float() 오류 발생하는 것들\n",
    "#float(\"1,000.0\")\n",
    "#float(\"\")\n",
    "#float(\" \")"
   ]
  },
  {
   "cell_type": "code",
   "execution_count": 104,
   "id": "79e65fc9",
   "metadata": {},
   "outputs": [
    {
     "data": {
      "text/plain": [
       "('10', '10.5', 'True', '1120000000000.0')"
      ]
     },
     "execution_count": 104,
     "metadata": {},
     "output_type": "execute_result"
    }
   ],
   "source": [
    "str(10), str(10.5), str(True), str(1.12e12)"
   ]
  },
  {
   "cell_type": "code",
   "execution_count": 105,
   "id": "57a6d449",
   "metadata": {},
   "outputs": [
    {
     "data": {
      "text/plain": [
       "(False, False, False, False, False, False, False)"
      ]
     },
     "execution_count": 105,
     "metadata": {},
     "output_type": "execute_result"
    }
   ],
   "source": [
    "bool(\"\"), bool(0), bool(0.0), bool([]), bool(()), bool({}), bool(None)\n",
    "#논리형(True/False)에서 위에 해당되는 사항은 False로 간주됨."
   ]
  },
  {
   "cell_type": "code",
   "execution_count": 106,
   "id": "0e2b23d5",
   "metadata": {},
   "outputs": [
    {
     "data": {
      "text/plain": [
       "True"
      ]
     },
     "execution_count": 106,
     "metadata": {},
     "output_type": "execute_result"
    }
   ],
   "source": [
    "bool(\" \")"
   ]
  },
  {
   "cell_type": "markdown",
   "id": "82d639d9",
   "metadata": {},
   "source": [
    "파이썬 기본 자료형(정리)\n",
    "1. 숫자 - int, float, complex\n",
    "2. 문자 - str, 문자슬라이싱, raw데이터(정규표현식, 파일경로)\n",
    "3. 논리 - False로 판별되는 경우"
   ]
  },
  {
   "cell_type": "markdown",
   "id": "01c1f84a",
   "metadata": {},
   "source": [
    "# 4절. 포맷팅\n",
    "- 포맷팅이란, 출력할 문자, 숫자, 날짜 데이터의 형식을 지정하는 것.(사람이 보기좋게 어떻게 출력할 것인가?)\n",
    "- *파이썬의 기본데이터는 문자, 숫자, 논리형인데 날짜데이터가 포함되어있다. 왜? 파이썬은 날짜데이터를 사용할 수 있으며, 이는 기본데이터에 포함되지 않는다.\n",
    "- 변수와 텍스트를 결합해서 보기 좋은 형식의 새로운 텍스트를 만들 수 있음.\n",
    "- 포맷팅: 문자열, 숫자, 날짜 등의 출력 형식을 지정하는 것\n",
    "- 날짜형은 파이썬에서 쓸 수 있지만, 기본 데이터형에는 포함되지 않는다\n",
    "\n",
    "## 4.1 문자열에 출력형식 지정"
   ]
  },
  {
   "cell_type": "code",
   "execution_count": 108,
   "id": "60c6f528",
   "metadata": {},
   "outputs": [
    {
     "name": "stdout",
     "output_type": "stream",
     "text": [
      "홍길동님의 나이는30살입니다\n"
     ]
    }
   ],
   "source": [
    "name = \"홍길동\"\n",
    "age = 30\n",
    "print(name, '님의 나이는', age, '살입니다', sep='')\n",
    "#sep=''은 print() 함수에서 **출력되는 값들 사이에 들어갈 구분자(separator)**를 지정하는 옵션(자료들 사이에 어떤내용을 들어갈지를 결정)"
   ]
  },
  {
   "cell_type": "code",
   "execution_count": 112,
   "id": "f6d797a1",
   "metadata": {},
   "outputs": [
    {
     "name": "stdout",
     "output_type": "stream",
     "text": [
      "홍길동님의 나이는 30살입니다\n",
      "홍길동님의 나이는 30살입니다\n",
      "홍길동님의 나이는 30살입니다\n"
     ]
    }
   ],
   "source": [
    "print(\"%s님의 나이는 %d살입니다\"%(name, age))\n",
    "     # %s: 문자, %d:정수, %f:실수 (이건 다소 옛날방식)\n",
    "print(f\"{name}님의 나이는 {age}살입니다\")\n",
    "     #이건 좀 최신방식, 자주 사용됨. 단점 : 자료의 자릿수를 지정할 수 없음.\n",
    "print(\"{}님의 나이는 {}살입니다\".format(name, age))\n",
    "     #가장 많이 사용됨. {}안에 다양한 변수삽입가능"
   ]
  },
  {
   "cell_type": "code",
   "execution_count": 114,
   "id": "c17cb6db",
   "metadata": {},
   "outputs": [],
   "source": [
    "## 4.2 format() 문법"
   ]
  },
  {
   "cell_type": "code",
   "execution_count": null,
   "id": "ea4ae745",
   "metadata": {},
   "outputs": [],
   "source": [
    "# format함수 : 문자열 안에 변수 값을 삽입하거나, 정렬·자릿수·타입을 지정해서 출력할 수 있도록 도와주는 문자열 포맷팅 함수\n",
    "#포맷팅 : 값을 보기좋게, 내가 원하는 모양으로 만드는것을 뜻함.\n",
    "#↓기본 문법, 형식은 아래와 같다.\n",
    "\"{[인덱스]:[공백대체문자][정렬방식][자릿수][타입]}\".format(변수)\n",
    "     # 인덱스 : format함수 안의 매개변수의 순서\n",
    "     # 정렬방식 : 데이터를 정렬할 방식을 뜻함.(한글의 왼쪽정렬 가운데 정렬같은 느낌) <(왼쪽정렬), <(오른쪽 정렬), ^(중앙정렬)\n",
    "     # 정수자릿수 : 출력될 자릿수d. 변수 내용보다 작은 자릿수가 지정되면 자릿수 무시\n",
    "     # 실수자릿수 : 출력될자릿수, 소수점자릿수f\n",
    "     # 문자자릿수 : 전체확보될자릿수[.변수중출력할자릿수]s\n",
    "     # 타입 : d(10진수 정수), b(2진수), x(16진수), f(실수), s(문자)\n",
    "     # 공백대체문자 : 작성된 문자가 공백일 경우 이를 대체할 문자를 의미함.(쓸 경우 정렬방식을 반드시 기입해야함.)"
   ]
  },
  {
   "cell_type": "code",
   "execution_count": 117,
   "id": "2cf42267",
   "metadata": {},
   "outputs": [
    {
     "name": "stdout",
     "output_type": "stream",
     "text": [
      "이름은?홍길동\n",
      "나이는?30\n",
      "30살 홍길동님 반갑습니다\n",
      "*30*살 홍길동_______님 반갑습니다\n"
     ]
    }
   ],
   "source": [
    "name = input('이름은?')\n",
    "age = int(input('나이는?'))\n",
    "#에러가 발생할수도 있는것을 '예외처리'라고함.(차후 8장에서 배울예정)\n",
    "print(\"{}살 {}님 반갑습니다\".format(age, name))\n",
    "print(\"{1:*^4d}살 {0:_<10}님 반갑습니다\".format(name, age))"
   ]
  },
  {
   "cell_type": "code",
   "execution_count": 123,
   "id": "ae0a8763",
   "metadata": {},
   "outputs": [
    {
     "name": "stdout",
     "output_type": "stream",
     "text": [
      "[12345], [     12345], [12345]\n",
      "[Hello], [Hello     ], [Hello]\n"
     ]
    }
   ],
   "source": [
    "#숫자의 경우 : 오른쪽 정렬(기본값)\n",
    "#문자의 경우 : 왼쪽정렬(기본값)\n",
    "#변수보다 작은 자리수를 지정하면 자릿수가 무시되고 다 출력(정수 자리수)\n",
    "i = 12345\n",
    "s = \"Hello\"\n",
    "print(\"[{0}], [{0:10}], [{0:3}]\".format(i))\n",
    "print(\"[{0}], [{0:10}], [{0:3}]\".format(s))"
   ]
  },
  {
   "cell_type": "code",
   "execution_count": 120,
   "id": "10d1dd61",
   "metadata": {},
   "outputs": [
    {
     "ename": "IndexError",
     "evalue": "Replacement index 1 out of range for positional args tuple",
     "output_type": "error",
     "traceback": [
      "\u001b[1;31m---------------------------------------------------------------------------\u001b[0m",
      "\u001b[1;31mIndexError\u001b[0m                                Traceback (most recent call last)",
      "Cell \u001b[1;32mIn[120], line 3\u001b[0m\n\u001b[0;32m      1\u001b[0m i \u001b[38;5;241m=\u001b[39m \u001b[38;5;241m12345\u001b[39m\n\u001b[0;32m      2\u001b[0m s \u001b[38;5;241m=\u001b[39m \u001b[38;5;124m\"\u001b[39m\u001b[38;5;124mHello\u001b[39m\u001b[38;5;124m\"\u001b[39m\n\u001b[1;32m----> 3\u001b[0m \u001b[38;5;28mprint\u001b[39m(\u001b[38;5;124;43m\"\u001b[39;49m\u001b[38;5;124;43m[\u001b[39;49m\u001b[38;5;132;43;01m{}\u001b[39;49;00m\u001b[38;5;124;43m], [\u001b[39;49m\u001b[38;5;132;43;01m{:10}\u001b[39;49;00m\u001b[38;5;124;43m], [\u001b[39;49m\u001b[38;5;132;43;01m{:3}\u001b[39;49;00m\u001b[38;5;124;43m]\u001b[39;49m\u001b[38;5;124;43m\"\u001b[39;49m\u001b[38;5;241;43m.\u001b[39;49m\u001b[43mformat\u001b[49m\u001b[43m(\u001b[49m\u001b[43mi\u001b[49m\u001b[43m)\u001b[49m)\n",
      "\u001b[1;31mIndexError\u001b[0m: Replacement index 1 out of range for positional args tuple"
     ]
    }
   ],
   "source": [
    "i = 12345\n",
    "s = \"Hello\"\n",
    "print(\"[{}], [{:10}], [{:3}]\".format(i))\n",
    "#이렇게 하면 에러가 발생함.(자리는 3개인데 포멧은 하나임.)"
   ]
  },
  {
   "cell_type": "code",
   "execution_count": 129,
   "id": "8585b9ad",
   "metadata": {},
   "outputs": [
    {
     "name": "stdout",
     "output_type": "stream",
     "text": [
      "f = [$2.76]\n",
      "s = [He___]\n"
     ]
    }
   ],
   "source": [
    "#문자 : 전체자리수, 표현될 자리수\n",
    "#실수 : 전체자리수, 소수점이하 표현될 자리수\n",
    "f = 2.758\n",
    "s = \"Hello\"\n",
    "print(\"f = [{:$>5.2f}]\".format(f))\n",
    "print(\"s = [{:_<5.2}]\".format(s))"
   ]
  },
  {
   "cell_type": "code",
   "execution_count": 133,
   "id": "1e92d3da",
   "metadata": {},
   "outputs": [
    {
     "name": "stdout",
     "output_type": "stream",
     "text": [
      "[  123], [ -123]\n",
      "[ +123], [ -123]\n",
      "[+ 123], [- 123]\n"
     ]
    }
   ],
   "source": [
    "# + : 부호를 출력\n",
    "# = : 부호를 맨 앞에 출력\n",
    "a, b = 123, -123\n",
    "print(\"[{:=5}], [{:5}]\".format(a, b))\n",
    "print(\"[{:+5}], [{:+5}]\".format(a, b))\n",
    "print(\"[{:=+5}], [{:=5}]\".format(a, b))"
   ]
  },
  {
   "cell_type": "code",
   "execution_count": 137,
   "id": "7e3f7a65",
   "metadata": {},
   "outputs": [
    {
     "name": "stdout",
     "output_type": "stream",
     "text": [
      "[     +2.79]\n"
     ]
    }
   ],
   "source": [
    "#\n",
    "f = 2.785\n",
    "print(\"[{:+10.2f}]\".format(f))"
   ]
  },
  {
   "cell_type": "code",
   "execution_count": 139,
   "id": "fa19f52f",
   "metadata": {},
   "outputs": [
    {
     "name": "stdout",
     "output_type": "stream",
     "text": [
      "[    +2.785]\n"
     ]
    }
   ],
   "source": [
    "sign = '+'\n",
    "width = 10\n",
    "precision = 3\n",
    "print(\"[{:{}{}.{}f}]\".format(f,\n",
    "                            sign,\n",
    "                            width,\n",
    "                            precision))"
   ]
  },
  {
   "cell_type": "code",
   "execution_count": 140,
   "id": "edc3e857",
   "metadata": {},
   "outputs": [
    {
     "name": "stdout",
     "output_type": "stream",
     "text": [
      "[    +2.785]\n"
     ]
    }
   ],
   "source": [
    "print(\"[{:{sign}{width}.{precision}f}]\".format(f,\n",
    "                            sign=sign,\n",
    "                            width=width,\n",
    "                            precision=precision))"
   ]
  },
  {
   "cell_type": "code",
   "execution_count": 142,
   "id": "a8ab0d68",
   "metadata": {},
   "outputs": [
    {
     "name": "stdout",
     "output_type": "stream",
     "text": [
      "10진수 a=[   15]\n",
      "16진수 a=[    f]\n",
      " 2진수 a=[ 1111]\n"
     ]
    }
   ],
   "source": [
    "a = 15\n",
    "print(\"10진수 a=[{:5d}]\".format(a))\n",
    "print(\"16진수 a=[{:5x}]\".format(a))\n",
    "print(\" 2진수 a=[{:5b}]\".format(a))"
   ]
  },
  {
   "cell_type": "markdown",
   "id": "525df271",
   "metadata": {},
   "source": [
    "## 4.3 날짜출력"
   ]
  },
  {
   "cell_type": "code",
   "execution_count": 147,
   "id": "a0fee038",
   "metadata": {},
   "outputs": [
    {
     "data": {
      "text/plain": [
       "datetime.datetime(2025, 4, 9, 17, 44, 56, 49960)"
      ]
     },
     "execution_count": 147,
     "metadata": {},
     "output_type": "execute_result"
    }
   ],
   "source": [
    "import re\n",
    "from datetime import datetime\n",
    "now = datetime.now()\n",
    "now"
   ]
  },
  {
   "cell_type": "code",
   "execution_count": 149,
   "id": "7e8a82f8",
   "metadata": {},
   "outputs": [
    {
     "name": "stdout",
     "output_type": "stream",
     "text": [
      "2025-04-09 17:44:56.049960\n",
      "2025년04월09일 PM 05시 44분 56초\n",
      "2025년04월09일 17시 44분 56초\n"
     ]
    }
   ],
   "source": [
    "print(\"{}\".format(now))\n",
    "print(\"{:%Y년%m월%d일 %p %I시 %M분 %S초}\".format(now)) #오후 5시로 사용하는 경우\n",
    "print(\"{:%Y년%m월%d일 %H시 %M분 %S초}\".format(now)) #24시간으로 사용하는 경우"
   ]
  },
  {
   "cell_type": "code",
   "execution_count": 150,
   "id": "b73474c3",
   "metadata": {},
   "outputs": [
    {
     "name": "stdout",
     "output_type": "stream",
     "text": [
      "2025년04월09일 17시 44분 56초\n"
     ]
    }
   ],
   "source": [
    "print(now.strftime(\"%Y년%m월%d일 %H시 %M분 %S초\"))"
   ]
  }
 ],
 "metadata": {
  "kernelspec": {
   "display_name": "Python 3 (ipykernel)",
   "language": "python",
   "name": "python3"
  },
  "language_info": {
   "codemirror_mode": {
    "name": "ipython",
    "version": 3
   },
   "file_extension": ".py",
   "mimetype": "text/x-python",
   "name": "python",
   "nbconvert_exporter": "python",
   "pygments_lexer": "ipython3",
   "version": "3.12.7"
  },
  "toc": {
   "base_numbering": 1,
   "nav_menu": {},
   "number_sections": false,
   "sideBar": true,
   "skip_h1_title": false,
   "title_cell": "Table of Contents",
   "title_sidebar": "Contents",
   "toc_cell": false,
   "toc_position": {
    "height": "calc(100% - 180px)",
    "left": "10px",
    "top": "150px",
    "width": "249.797px"
   },
   "toc_section_display": true,
   "toc_window_display": true
  }
 },
 "nbformat": 4,
 "nbformat_minor": 5
}
