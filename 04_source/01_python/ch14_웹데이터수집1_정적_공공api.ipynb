{
 "cells": [
  {
   "cell_type": "code",
   "execution_count": 9,
   "id": "2c3c43f8",
   "metadata": {},
   "outputs": [
    {
     "data": {
      "text/html": [
       "\n",
       "<style>\n",
       "div.container{width:85% !important;}\n",
       "div.cell.code_cell.rendered{width:100%;}\n",
       "div.input_prompt{padding:0px;}\n",
       "div.CodeMirror {font-family:Consolas; font-size:12pt;}\n",
       "div.output {font-size:12pt; font-weight:bold;}\n",
       "div.input {font-family:Consolas; font-size:12pt;}\n",
       "div.prompt {min-width:70px;}\n",
       "div#toc-wrapper{padding-top:120px;}\n",
       "div.text_cell_render ul li{font-size:12pt;padding:5px;}\n",
       "table.dataframe{font-size:12px;}\n",
       "</style>\n"
      ],
      "text/plain": [
       "<IPython.core.display.HTML object>"
      ]
     },
     "metadata": {},
     "output_type": "display_data"
    }
   ],
   "source": [
    "from IPython.display import display, HTML\n",
    "display(HTML(\"\"\"\n",
    "<style>\n",
    "div.container{width:85% !important;}\n",
    "div.cell.code_cell.rendered{width:100%;}\n",
    "div.input_prompt{padding:0px;}\n",
    "div.CodeMirror {font-family:Consolas; font-size:12pt;}\n",
    "div.output {font-size:12pt; font-weight:bold;}\n",
    "div.input {font-family:Consolas; font-size:12pt;}\n",
    "div.prompt {min-width:70px;}\n",
    "div#toc-wrapper{padding-top:120px;}\n",
    "div.text_cell_render ul li{font-size:12pt;padding:5px;}\n",
    "table.dataframe{font-size:12px;}\n",
    "</style>\n",
    "\"\"\")) "
   ]
  },
  {
   "cell_type": "markdown",
   "id": "4390231a",
   "metadata": {},
   "source": [
    "<b><font color=\"red\" size=\"5\">ch.14 웹데이터 수집</font></b>\n",
    "# 1절. BeautifulSoup과 parser\n",
    "```pip insatall bs4``` 아나콘다를 설치하면 7500여개의 패키지가 설치됨.\n",
    "- 공식 사이트 : https://www.crummy.com/software/BeautifulSoup/\n",
    "- Docs : https://www.crummy.com/software/BeautifulSoup/bs4/doc/"
   ]
  },
  {
   "cell_type": "code",
   "execution_count": 10,
   "id": "8f343f59",
   "metadata": {},
   "outputs": [],
   "source": [
    "import requests # HTTP 요청처리 lib\n",
    "from requests_file import FileAdapter"
   ]
  },
  {
   "cell_type": "code",
   "execution_count": 29,
   "id": "1d1851ce",
   "metadata": {},
   "outputs": [
    {
     "data": {
      "text/plain": [
       "<Response [200]>"
      ]
     },
     "execution_count": 29,
     "metadata": {},
     "output_type": "execute_result"
    }
   ],
   "source": [
    "s = requests.Session() # HTTP 요청관리를 위한 세션 객체\n",
    "s.mount(\"file://\", FileAdapter())\n",
    "response = s.get('file:///AI_x/04_source/01_python/data/ch14_sample.html')\n",
    "response"
   ]
  },
  {
   "cell_type": "code",
   "execution_count": 12,
   "id": "ca622365",
   "metadata": {},
   "outputs": [
    {
     "data": {
      "text/plain": [
       "200"
      ]
     },
     "execution_count": 12,
     "metadata": {},
     "output_type": "execute_result"
    }
   ],
   "source": [
    "response.status_code \n",
    "# 200 : 정상\n",
    "# 404 : 없는 페이지\n",
    "# 406 : get, post 오류"
   ]
  },
  {
   "cell_type": "code",
   "execution_count": 15,
   "id": "6e538f1d",
   "metadata": {},
   "outputs": [
    {
     "data": {
      "text/plain": [
       "b'<!DOCTYPE html>\\r\\n<html lang=\"en\">\\r\\n<head>\\r\\n  <meta charset=\"UTF-8\">\\r\\n</head>\\r\\n<body>\\r\\n  <h1 class=\"greeting css\" id=\"text\">Hello, CSS</h1>\\r\\n  <h1 class=\"css\">Hi, CSS</h1>\\r\\n  <div id=\"subject\">subject \\xec\\x84\\xa0\\xed\\x83\\x9d\\xec\\x9e\\x90 \\xec\\x95\\x88\\xec\\x9d\\x98 \\xeb\\x82\\xb4\\xec\\x9a\\xa9</div>\\r\\n  <p>CSS \\xec\\x84\\xa0\\xed\\x83\\x9d\\xec\\x9e\\x90\\xeb\\x8a\\x94 \\xeb\\x8b\\xa4\\xec\\x96\\x91\\xed\\x95\\x9c \\xea\\xb3\\xb3\\xec\\x97\\x90\\xec\\x84\\x9c \\xed\\x99\\x9c\\xec\\x9a\\xa9\\xeb\\x90\\xa9\\xeb\\x8b\\x88\\xeb\\x8b\\xa4</p>\\r\\n  <div class=\"contents\">\\r\\n    \\xec\\x84\\xa0\\xed\\x83\\x9d\\xec\\x9e\\x90\\xeb\\xa5\\xbc \\xec\\x96\\xb4\\xeb\\x96\\xbb\\xea\\xb2\\x8c \\xec\\x9e\\x91\\xec\\x84\\xb1\\xed\\x95\\x98\\xeb\\x8a\\x90\\xeb\\x83\\x90\\xec\\x97\\x90 \\xeb\\x94\\xb0\\xeb\\x9d\\xbc\\r\\n    <span>\\xeb\\x8b\\xa4\\xeb\\xa5\\xb8<b>\\xec\\x9a\\x94\\xec\\x86\\x8c\\xea\\xb0\\x80 \\xeb\\xb0\\x98\\xed\\x99\\x98</b></span>\\xeb\\x90\\xa9\\xeb\\x8b\\x88\\xeb\\x8b\\xa4\\r\\n  </div>\\r\\n  <div>CSS \\xec\\x84\\xa0\\xed\\x83\\x9d\\xec\\x9e\\x90\\xeb\\x8a\\x94 \\xeb\\x8b\\xa4\\xec\\x96\\x91\\xed\\x95\\x9c \\xea\\xb3\\xb3\\xec\\x97\\x90 <b>\\xed\\x99\\x9c\\xec\\x9a\\xa9</b>\\xeb\\x90\\xa9\\xeb\\x8b\\x88\\xeb\\x8b\\xa4</div>\\r\\n</body>\\r\\n</html>'"
      ]
     },
     "execution_count": 15,
     "metadata": {},
     "output_type": "execute_result"
    }
   ],
   "source": [
    "response.content # 바이너리 형식의 내용"
   ]
  },
  {
   "cell_type": "code",
   "execution_count": 16,
   "id": "693bc78b",
   "metadata": {},
   "outputs": [
    {
     "data": {
      "text/plain": [
       "'<!DOCTYPE html>\\r\\n<html lang=\"en\">\\r\\n<head>\\r\\n  <meta charset=\"UTF-8\">\\r\\n</head>\\r\\n<body>\\r\\n  <h1 class=\"greeting css\" id=\"text\">Hello, CSS</h1>\\r\\n  <h1 class=\"css\">Hi, CSS</h1>\\r\\n  <div id=\"subject\">subject 선택자 안의 내용</div>\\r\\n  <p>CSS 선택자는 다양한 곳에서 활용됩니다</p>\\r\\n  <div class=\"contents\">\\r\\n    선택자를 어떻게 작성하느냐에 따라\\r\\n    <span>다른<b>요소가 반환</b></span>됩니다\\r\\n  </div>\\r\\n  <div>CSS 선택자는 다양한 곳에 <b>활용</b>됩니다</div>\\r\\n</body>\\r\\n</html>'"
      ]
     },
     "execution_count": 16,
     "metadata": {},
     "output_type": "execute_result"
    }
   ],
   "source": [
    "response.content.decode('utf-8')"
   ]
  },
  {
   "cell_type": "code",
   "execution_count": 17,
   "id": "0f029d1f",
   "metadata": {},
   "outputs": [
    {
     "data": {
      "text/plain": [
       "'<!DOCTYPE html>\\r\\n<html lang=\"en\">\\r\\n<head>\\r\\n  <meta charset=\"UTF-8\">\\r\\n</head>\\r\\n<body>\\r\\n  <h1 class=\"greeting css\" id=\"text\">Hello, CSS</h1>\\r\\n  <h1 class=\"css\">Hi, CSS</h1>\\r\\n  <div id=\"subject\">subject 선택자 안의 내용</div>\\r\\n  <p>CSS 선택자는 다양한 곳에서 활용됩니다</p>\\r\\n  <div class=\"contents\">\\r\\n    선택자를 어떻게 작성하느냐에 따라\\r\\n    <span>다른<b>요소가 반환</b></span>됩니다\\r\\n  </div>\\r\\n  <div>CSS 선택자는 다양한 곳에 <b>활용</b>됩니다</div>\\r\\n</body>\\r\\n</html>'"
      ]
     },
     "execution_count": 17,
     "metadata": {},
     "output_type": "execute_result"
    }
   ],
   "source": [
    "response.text"
   ]
  },
  {
   "cell_type": "code",
   "execution_count": 30,
   "id": "95da5431",
   "metadata": {},
   "outputs": [],
   "source": [
    "# html 파싱\n",
    "from bs4 import BeautifulSoup\n",
    "soup = BeautifulSoup(response.content, # response.text\n",
    "                    \"html.parser\")\n",
    "# soup"
   ]
  },
  {
   "cell_type": "code",
   "execution_count": 34,
   "id": "32fdc459",
   "metadata": {},
   "outputs": [
    {
     "name": "stdout",
     "output_type": "stream",
     "text": [
      "el : <h1 class=\"greeting css\" id=\"text\" title=\"greeting\">Hello, CSS</h1>\n",
      "el.text : Hello, CSS\n",
      "el.string : Hello, CSS\n",
      "el의 속성들 : {'class': ['greeting', 'css'], 'id': 'text', 'title': 'greeting'}\n",
      "el의 title속성 : greeting\n",
      "el의 title속성 : greeting\n",
      "el의 이름: h1\n"
     ]
    }
   ],
   "source": [
    "# soup.select_one('선택자') : 해당 선택자 처음 하나만\n",
    "el = soup.select_one('h1') # 처음 나오는 h1태그 하나만\n",
    "print('el :', el)\n",
    "print('el.text :', el.text)\n",
    "print('el.string :', el.text)\n",
    "print('el의 속성들 :', el.attrs)\n",
    "print('el의 title속성 :', el.attrs['title'])\n",
    "print('el의 title속성 :', el.attrs.get('title') )\n",
    "print('el의 이름:', el.name)"
   ]
  },
  {
   "cell_type": "code",
   "execution_count": 39,
   "id": "a145a392",
   "metadata": {},
   "outputs": [
    {
     "name": "stdout",
     "output_type": "stream",
     "text": [
      "리스트 el : [<h1 class=\"greeting css\" id=\"text\" title=\"greeting\">Hello, CSS</h1>, <h1 class=\"css\">Hi, CSS</h1>]\n",
      "el의 text들 : ['Hello, CSS', 'Hi, CSS']\n",
      "el의 속성들 : [{'class': ['greeting', 'css'], 'id': 'text', 'title': 'greeting'}, {'class': ['css']}]\n",
      "el의 class속성들 : [['greeting', 'css'], ['css']]\n"
     ]
    }
   ],
   "source": [
    "# soup.select('선택자') : 해당 선택자 모든 엘리먼트를 리스트로\n",
    "el = soup.select('h1')\n",
    "print('리스트 el :', el)\n",
    "print('el의 text들 :', [e.text for e in el])\n",
    "# for e in el:\n",
    "#    print(e.text, end=',')\n",
    "print('el의 속성들 :', [e.attrs for e in el])\n",
    "print('el의 class속성들 :', [e.attrs.get('class') for e in el])"
   ]
  },
  {
   "cell_type": "code",
   "execution_count": 48,
   "id": "8cbeb485",
   "metadata": {},
   "outputs": [
    {
     "name": "stdout",
     "output_type": "stream",
     "text": [
      "select_one : <h1 class=\"greeting css\" id=\"text\" title=\"greeting\">Hello, CSS</h1>\n",
      "find : <h1 class=\"greeting css\" id=\"text\" title=\"greeting\">Hello, CSS</h1>\n",
      "find : <h1 class=\"greeting css\" id=\"text\" title=\"greeting\">Hello, CSS</h1>\n",
      "\n",
      "select_one : <h1 class=\"greeting css\" id=\"text\" title=\"greeting\">Hello, CSS</h1>\n",
      "find : <h1 class=\"greeting css\" id=\"text\" title=\"greeting\">Hello, CSS</h1>\n",
      "\n",
      "select\n"
     ]
    }
   ],
   "source": [
    "# select_one(선택자)와 find(태그, 속성)\n",
    "print(\"select_one :\", soup.select_one('h1.css'))\n",
    "print('find :', soup.find('h1', {'class':'css'}))\n",
    "print('find :', soup.find('h1', class_='css'))\n",
    "print()\n",
    "print('select_one :', soup.select_one('h1#text'))\n",
    "print('find :', soup.find('h1', {'id':'text'}));\n",
    "print()\n",
    "print('select')"
   ]
  },
  {
   "cell_type": "code",
   "execution_count": 56,
   "id": "7144f293",
   "metadata": {},
   "outputs": [
    {
     "name": "stdout",
     "output_type": "stream",
     "text": [
      "모든 h1.css, span 태그(select) : [<h1 class=\"greeting css\" id=\"text\" title=\"greeting\">Hello, CSS</h1>, <h1 class=\"css\">Hi, CSS</h1>, <span>다른<b>요소가 반환</b></span>]\n",
      "모든 h1.css, span태그(find_all) : [<h1 class=\"greeting css\" id=\"text\" title=\"greeting\">Hello, CSS</h1>, <h1 class=\"css\">Hi, CSS</h1>]\n"
     ]
    }
   ],
   "source": [
    "# select(선택자)와 find_all(태그, 속성)\n",
    "print('모든 h1.css, span 태그(select) :',\n",
    "     soup.select('h1.css, span'))\n",
    "print('모든 h1.css, span태그(find_all) :',\n",
    "     soup.find_all(['h1','span'], class_='css'))"
   ]
  },
  {
   "cell_type": "code",
   "execution_count": 61,
   "id": "31cd1048",
   "metadata": {},
   "outputs": [
    {
     "name": "stdout",
     "output_type": "stream",
     "text": [
      "find_all(빈 list) : []\n",
      "find(None) : None\n",
      "select(빈 list) : []\n",
      "select_one(None) : None\n"
     ]
    }
   ],
   "source": [
    "# 없는 엘리먼트 찾기\n",
    "print('find_all(빈 list) :', soup.find_all('a', class_='css'))\n",
    "print('find(None) :', soup.find('a', class_='css'))\n",
    "print('select(빈 list) :', soup.select('a.css'))\n",
    "print('select_one(None) :', soup.select_one('a.css'))"
   ]
  },
  {
   "cell_type": "markdown",
   "id": "564e0505",
   "metadata": {},
   "source": [
    "# 2절. 정적 웹 데이터 수집(정적 웹크롤링)\n",
    "- json, html, xml\n",
    "## 2.1 JSON파일\n",
    "- request모듈(get)\n",
    "- urllib.request모듈(urlopen)"
   ]
  },
  {
   "cell_type": "code",
   "execution_count": 69,
   "id": "53c3152c",
   "metadata": {},
   "outputs": [],
   "source": [
    "# 크롤링 허용 범위는 사이트마다 ~/robots.txt에서 확인할 수 있습니다."
   ]
  },
  {
   "cell_type": "code",
   "execution_count": 64,
   "id": "fb2b3a2a",
   "metadata": {},
   "outputs": [
    {
     "data": {
      "text/plain": [
       "(<Response [403]>, 403)"
      ]
     },
     "execution_count": 64,
     "metadata": {},
     "output_type": "execute_result"
    }
   ],
   "source": [
    "# 방법 1\n",
    "import requests\n",
    "response = requests.get('http://api.github.com')\n",
    "response, response.status_code"
   ]
  },
  {
   "cell_type": "code",
   "execution_count": 131,
   "id": "97cb882d",
   "metadata": {},
   "outputs": [],
   "source": [
    "# 방법2\n",
    "from urllib.request import urlopen\n",
    "#response = urlopen('http://api.github.com')\n",
    "#response"
   ]
  },
  {
   "cell_type": "code",
   "execution_count": 128,
   "id": "49101224",
   "metadata": {},
   "outputs": [
    {
     "data": {
      "text/plain": [
       "str"
      ]
     },
     "execution_count": 128,
     "metadata": {},
     "output_type": "execute_result"
    }
   ],
   "source": [
    "text = '{\"속성1\":\"값1\",\"속성2\":\"값2\"}'\n",
    "type(text)"
   ]
  },
  {
   "cell_type": "code",
   "execution_count": 129,
   "id": "5855d159",
   "metadata": {},
   "outputs": [
    {
     "data": {
      "text/plain": [
       "{'속성1': '값1', '속성2': '값2'}"
      ]
     },
     "execution_count": 129,
     "metadata": {},
     "output_type": "execute_result"
    }
   ],
   "source": [
    "# 문자(딕셔너리 타입)를 딕셔너리\n",
    "# '{\"속성1\":\"값1\",\"속성2\":\"값2\"}' => {\"속성1\":\"값1\",\"속성2\":\"값2\"}\n",
    "import json\n",
    "json.loads(text)"
   ]
  },
  {
   "cell_type": "code",
   "execution_count": null,
   "id": "0131aa47",
   "metadata": {},
   "outputs": [],
   "source": []
  },
  {
   "cell_type": "code",
   "execution_count": null,
   "id": "56e39e4a",
   "metadata": {},
   "outputs": [],
   "source": []
  },
  {
   "cell_type": "code",
   "execution_count": null,
   "id": "c05b5340",
   "metadata": {},
   "outputs": [],
   "source": []
  },
  {
   "cell_type": "markdown",
   "id": "d1644d4f",
   "metadata": {},
   "source": [
    "## 2.2 html 파일\n",
    "### 1) 환율정보 가져오기(네이버->증권->시장지표)\n",
    "- https://finance.naver.com/marketindex/"
   ]
  },
  {
   "cell_type": "code",
   "execution_count": 77,
   "id": "86b1d4df",
   "metadata": {},
   "outputs": [],
   "source": [
    "# 방법 1\n",
    "import requests\n",
    "from bs4 import BeautifulSoup\n",
    "url = 'https://finance.naver.com/marketindex'\n",
    "response = requests.get(url)\n",
    "# response, response.status_code\n",
    "# response.content\n",
    "# response.content.decode('cp949') == response.text\n",
    "soup = BeautifulSoup(response.text, # response.content\n",
    "                    'html.parser')"
   ]
  },
  {
   "cell_type": "code",
   "execution_count": 83,
   "id": "03fb44d3",
   "metadata": {},
   "outputs": [],
   "source": [
    "# 방법2\n",
    "from urllib.request import urlopen\n",
    "response = urlopen(url)\n",
    "# response.status 상태코드\n",
    "# response.read()\n",
    "# response.read().decode('cp949')\n",
    "soup = BeautifulSoup(response, # response.read()\n",
    "                     'html.parser')"
   ]
  },
  {
   "cell_type": "code",
   "execution_count": 86,
   "id": "d38ceaaf",
   "metadata": {},
   "outputs": [
    {
     "name": "stdout",
     "output_type": "stream",
     "text": [
      "미국 USD\t일본 JPY(100엔)\t유럽연합 EUR\t중국 CNY\t달러/일본 엔\t유로/달러\t영국 파운드/달러\t달러인덱스\tWTI\t휘발유\t국제 금\t국내 금\t"
     ]
    }
   ],
   "source": [
    "title = soup.select('h3.h_lst > span.blind')\n",
    "for t in title:\n",
    "    print(t.text, end='\\t')"
   ]
  },
  {
   "cell_type": "code",
   "execution_count": 102,
   "id": "86749708",
   "metadata": {},
   "outputs": [
    {
     "data": {
      "text/plain": [
       "[1375, 953, 1556, 191, 144, 1, 1, 99, 61, 1633, 3300, 146218]"
      ]
     },
     "execution_count": 102,
     "metadata": {},
     "output_type": "execute_result"
    }
   ],
   "source": [
    "price = soup.select('div.head_info > span.value')\n",
    "[p.text for p in price]\n",
    "[round(float(p.text.replace(',',''))) for p in price]\n",
    "[round(float(''.join(p.text.split(',')))) for p in price]"
   ]
  },
  {
   "cell_type": "code",
   "execution_count": 92,
   "id": "2c0ab2e0",
   "metadata": {},
   "outputs": [
    {
     "data": {
      "text/plain": [
       "1375"
      ]
     },
     "execution_count": 92,
     "metadata": {},
     "output_type": "execute_result"
    }
   ],
   "source": [
    "out = '1,374.70'\n",
    "round(float(''.join(out.split(','))))"
   ]
  },
  {
   "cell_type": "code",
   "execution_count": 95,
   "id": "b0b9874b",
   "metadata": {},
   "outputs": [
    {
     "data": {
      "text/plain": [
       "1375"
      ]
     },
     "execution_count": 95,
     "metadata": {},
     "output_type": "execute_result"
    }
   ],
   "source": [
    "round(float(out.replace(',','')))"
   ]
  },
  {
   "cell_type": "code",
   "execution_count": 104,
   "id": "33ab4a4d",
   "metadata": {},
   "outputs": [
    {
     "data": {
      "text/plain": [
       "['원', '원', '원', '원', '엔', '달러', '달러', '', '달러', '원', '달러', '원']"
      ]
     },
     "execution_count": 104,
     "metadata": {},
     "output_type": "execute_result"
    }
   ],
   "source": [
    "unit = soup.select('div.head_info > span > span.blind')\n",
    "unit = [u.text for u in unit]\n",
    "unit.insert(7, '') # 7번째 index에 ''추가\n",
    "unit"
   ]
  },
  {
   "cell_type": "code",
   "execution_count": 111,
   "id": "b3a474ca",
   "metadata": {},
   "outputs": [
    {
     "data": {
      "text/plain": [
       "['하락', '하락', '하락', '하락', '상승', '하락', '하락', '상승', '하락', '하락', '하락', '상승']"
      ]
     },
     "execution_count": 111,
     "metadata": {},
     "output_type": "execute_result"
    }
   ],
   "source": [
    "status = soup.select('div.head_info > span.blind')\n",
    "[t.text for t in title]\n",
    "[p.text for p in price]\n",
    "unit\n",
    "[s.string for s in status]"
   ]
  },
  {
   "cell_type": "code",
   "execution_count": 112,
   "id": "8d298b46",
   "metadata": {},
   "outputs": [
    {
     "data": {
      "text/plain": [
       "(12, 12, 12, 12)"
      ]
     },
     "execution_count": 112,
     "metadata": {},
     "output_type": "execute_result"
    }
   ],
   "source": [
    "len(title), len(price), len(unit), len(status)"
   ]
  },
  {
   "cell_type": "code",
   "execution_count": 115,
   "id": "bb028bcf",
   "metadata": {},
   "outputs": [
    {
     "name": "stdout",
     "output_type": "stream",
     "text": [
      "1. 미국 USD : 1,375.20원 - 하락\n",
      "2. 일본 JPY(100엔) : 953.05원 - 하락\n",
      "3. 유럽연합 EUR : 1,556.38원 - 하락\n",
      "4. 중국 CNY : 191.04원 - 하락\n",
      "5. 달러/일본 엔 : 144.3800엔 - 상승\n",
      "6. 유로/달러 : 1.1342달러 - 하락\n",
      "7. 영국 파운드/달러 : 1.3520달러 - 하락\n",
      "8. 달러인덱스 : 99.4200 - 상승\n",
      "9. WTI : 60.89달러 - 하락\n",
      "10. 휘발유 : 1633.17원 - 하락\n",
      "11. 국제 금 : 3300.4달러 - 하락\n",
      "12. 국내 금 : 146218.18원 - 상승\n"
     ]
    }
   ],
   "source": [
    "for idx in range(len(title)):\n",
    "    print(\"{}. {} : {}{} - {}\".format(idx+1,\n",
    "                                 title[idx].text,\n",
    "                                 price[idx].text,\n",
    "                                 unit[idx],\n",
    "                                 status[idx].text))"
   ]
  },
  {
   "cell_type": "code",
   "execution_count": 122,
   "id": "77456891",
   "metadata": {},
   "outputs": [
    {
     "name": "stdout",
     "output_type": "stream",
     "text": [
      "미국 USD : 1,375.20원 - 하락\n",
      "일본 JPY(100엔) : 953.05원 - 하락\n",
      "유럽연합 EUR : 1,556.38원 - 하락\n",
      "중국 CNY : 191.04원 - 하락\n",
      "달러/일본 엔 : 144.3800엔 - 상승\n",
      "유로/달러 : 1.1342달러 - 하락\n",
      "영국 파운드/달러 : 1.3520달러 - 하락\n",
      "달러인덱스 : 99.4200 - 상승\n",
      "WTI : 60.89달러 - 하락\n",
      "휘발유 : 1633.17원 - 하락\n",
      "국제 금 : 3300.4달러 - 하락\n",
      "국내 금 : 146218.18원 - 상승\n"
     ]
    }
   ],
   "source": [
    "for t, p, u, s  in zip(title, price, unit, status):\n",
    "    print(\"{} : {}{} - {}\".format(t.text,\n",
    "                                 p.text,\n",
    "                                 u,\n",
    "                                 s.text))"
   ]
  },
  {
   "cell_type": "markdown",
   "id": "99bd7b98",
   "metadata": {},
   "source": [
    "### 2) 이번주 로또번호 출력\n",
    "- https://dhlottery.co.kr/gameResult.do?method=byWin(google에 \"로또번호 당첨번호\" 검색)\n",
    "```\n",
    "    1173회(2025년 05월 24일 추첨)\n",
    "    당첨번호 [1 5 18 20 30 35]\n",
    "    보너스 3\n",
    "```"
   ]
  },
  {
   "cell_type": "code",
   "execution_count": 135,
   "id": "0a5d43c7",
   "metadata": {},
   "outputs": [],
   "source": [
    "# 방법 1의 soup객체 생성\n",
    "import requests\n",
    "from bs4 import BeautifulSoup\n",
    "url = 'https://dhlottery.co.kr/gameResult.do?method=byWin'\n",
    "response = requests.get(url)\n",
    "soup = BeautifulSoup(response.text, # response.text\n",
    "                    'html.parser')"
   ]
  },
  {
   "cell_type": "code",
   "execution_count": 141,
   "id": "13b25068",
   "metadata": {},
   "outputs": [],
   "source": [
    "# 방법2의 sou객체 생성\n",
    "from urllib.request import urlopen\n",
    "response = urlopen(url)\n",
    "soup = BeautifulSoup(response, \"html.parser\")"
   ]
  },
  {
   "cell_type": "code",
   "execution_count": 143,
   "id": "e1e3699c",
   "metadata": {},
   "outputs": [
    {
     "name": "stdout",
     "output_type": "stream",
     "text": [
      "1173회 (2025년 05월 24일 추첨)\n",
      "당첨번호 [1, 5, 18, 20, 30, 35]\n",
      "보너스 3\n"
     ]
    }
   ],
   "source": [
    "times = soup.select_one('div.win_result > h4 > strong').text # 1173회\n",
    "date = soup.select_one('div.win_result >p.desc').text  #(2025년 05월 24일 추첨)\n",
    "print(times, date)\n",
    "title1 = soup.select_one('div.num.win > strong').text\n",
    "lotto_number = soup.select('div.num.win > p > span')\n",
    "print(title1, [int(lotto.text) for lotto in lotto_number])\n",
    "title2 = soup.select_one('div.num.bonus > strong').string\n",
    "bonus_number = soup.select_one('div.num.bonus > p > span').text\n",
    "print(title2, bonus_number)"
   ]
  },
  {
   "cell_type": "code",
   "execution_count": 153,
   "id": "e99ffd10",
   "metadata": {},
   "outputs": [
    {
     "name": "stdout",
     "output_type": "stream",
     "text": [
      "1173회 (2025년 05월 24일 추첨)\n",
      "당첨번호 [1, 5, 18, 20, 30, 35]\n",
      "당첨번호 1\n"
     ]
    }
   ],
   "source": [
    "# 위의 select 함수를 find함수로\n",
    "# times = soup.select_one('div.win_result > h4 > strong').text # 1173회\n",
    "win_result = soup.find('div', class_=\"win_result\")\n",
    "times = win_result.find('strong').text\n",
    "# date = soup.select_one('div.win_result >p.desc').text  #(2025년 05월 24일 추첨)\n",
    "date = soup.find('p', class_='desc').text\n",
    "print(times, date)\n",
    "# title1 = soup.select_one('div.num.win > strong').text\n",
    "num_win = soup.find('div', class_=['num', 'win'])\n",
    "title1 = num_win.find('strong').text\n",
    "# lotto_number = soup.select('div.num.win > p > span')\n",
    "lotto_number = num_win.find_all('span') #배열\n",
    "print(title1, [int(lotto.text) for lotto in lotto_number])\n",
    "# title2 = soup.select_one('div.num.bonus > strong').string\n",
    "num_bonus = soup.find('div', class_=['num','bonus'])\n",
    "title2 = num_bonus.find('strong').text\n",
    "# bonus_number = soup.select_one('div.num.bonus > p > span').text\n",
    "bonus_number = num_bonus.find('span').text\n",
    "print(title2, bonus_number)"
   ]
  },
  {
   "cell_type": "markdown",
   "id": "f45c2e2a",
   "metadata": {},
   "source": [
    "### 3) 다음 검색 리스트\n",
    "```\n",
    "no title link\n",
    "0 [비트코인 2025] 백악관 크립토 차르 “美 정부 비트코인 추가 매입 검토…부채 안 늘리면 가능 https://v.daum.net/v/20250528103907230\n",
    "1. [비즈 나우] 비트코인 2025 컨퍼런스 개막…'전략자산' 선언 코앞 https://v.daum.net/v/20250528075215864\n",
    "....\n",
    "````"
   ]
  },
  {
   "cell_type": "code",
   "execution_count": 199,
   "id": "c47e1a8f",
   "metadata": {},
   "outputs": [
    {
     "data": {
      "text/html": [
       "<div>\n",
       "<style scoped>\n",
       "    .dataframe tbody tr th:only-of-type {\n",
       "        vertical-align: middle;\n",
       "    }\n",
       "\n",
       "    .dataframe tbody tr th {\n",
       "        vertical-align: top;\n",
       "    }\n",
       "\n",
       "    .dataframe thead th {\n",
       "        text-align: right;\n",
       "    }\n",
       "</style>\n",
       "<table border=\"1\" class=\"dataframe\">\n",
       "  <thead>\n",
       "    <tr style=\"text-align: right;\">\n",
       "      <th></th>\n",
       "      <th>no</th>\n",
       "      <th>title</th>\n",
       "      <th>link</th>\n",
       "    </tr>\n",
       "  </thead>\n",
       "  <tbody>\n",
       "    <tr>\n",
       "      <th>0</th>\n",
       "      <td>0</td>\n",
       "      <td>美·日 국채 팔고 비트코인 샀다…'안전자산' 등극</td>\n",
       "      <td>http://v.daum.net/v/20250528154126316</td>\n",
       "    </tr>\n",
       "    <tr>\n",
       "      <th>1</th>\n",
       "      <td>1</td>\n",
       "      <td>블랙록, 자사 비트코인 ETF 보유량 25% 확대…기관 투자 본격화 신호탄</td>\n",
       "      <td>http://v.daum.net/v/20250528151802080</td>\n",
       "    </tr>\n",
       "    <tr>\n",
       "      <th>2</th>\n",
       "      <td>2</td>\n",
       "      <td>[비트코인 2025] 백악관 크립토 차르 “美 정부 비트코인 추가 매입 검토…부채...</td>\n",
       "      <td>http://v.daum.net/v/20250528103907230</td>\n",
       "    </tr>\n",
       "    <tr>\n",
       "      <th>3</th>\n",
       "      <td>3</td>\n",
       "      <td>[비즈 나우] 비트코인 2025 컨퍼런스 개막…'전략자산' 선언 코앞</td>\n",
       "      <td>http://v.daum.net/v/20250528075215864</td>\n",
       "    </tr>\n",
       "    <tr>\n",
       "      <th>4</th>\n",
       "      <td>4</td>\n",
       "      <td>“맥O날드보다 맛없어!” 혹평이 가득한 트럼프 만찬과 비트코인 피자데이[엠블록레터]</td>\n",
       "      <td>http://v.daum.net/v/20250528143002735</td>\n",
       "    </tr>\n",
       "    <tr>\n",
       "      <th>5</th>\n",
       "      <td>5</td>\n",
       "      <td>비트코인, 트럼프 미디어 비축 소식에도 주춤…1억5100만원대</td>\n",
       "      <td>http://v.daum.net/v/20250528095112897</td>\n",
       "    </tr>\n",
       "    <tr>\n",
       "      <th>6</th>\n",
       "      <td>6</td>\n",
       "      <td>美 상원의원 \"트럼프 대통령, 비트코인법 지지\"</td>\n",
       "      <td>http://v.daum.net/v/20250528090342853</td>\n",
       "    </tr>\n",
       "    <tr>\n",
       "      <th>7</th>\n",
       "      <td>7</td>\n",
       "      <td>[비트코인 2025] 로빈후드 창업자 “토큰화 증권은 美 ‘자본 패권’ 키우는 수단”</td>\n",
       "      <td>http://v.daum.net/v/20250528110600761</td>\n",
       "    </tr>\n",
       "    <tr>\n",
       "      <th>8</th>\n",
       "      <td>8</td>\n",
       "      <td>트럼프미디어그룹, 25억 달러 규모 자금 조달 통해 비트코인 매입 예고</td>\n",
       "      <td>http://v.daum.net/v/20250528084245020</td>\n",
       "    </tr>\n",
       "    <tr>\n",
       "      <th>9</th>\n",
       "      <td>9</td>\n",
       "      <td>'비트코인 빚투' 스트레티지, 또 샀다…보유량 58만개 돌파</td>\n",
       "      <td>http://v.daum.net/v/20250528042404292</td>\n",
       "    </tr>\n",
       "  </tbody>\n",
       "</table>\n",
       "</div>"
      ],
      "text/plain": [
       "   no                                              title  \\\n",
       "0   0                       美·日 국채 팔고 비트코인 샀다…'안전자산' 등극    \n",
       "1   1         블랙록, 자사 비트코인 ETF 보유량 25% 확대…기관 투자 본격화 신호탄    \n",
       "2   2   [비트코인 2025] 백악관 크립토 차르 “美 정부 비트코인 추가 매입 검토…부채...   \n",
       "3   3            [비즈 나우] 비트코인 2025 컨퍼런스 개막…'전략자산' 선언 코앞    \n",
       "4   4    “맥O날드보다 맛없어!” 혹평이 가득한 트럼프 만찬과 비트코인 피자데이[엠블록레터]    \n",
       "5   5                비트코인, 트럼프 미디어 비축 소식에도 주춤…1억5100만원대    \n",
       "6   6                        美 상원의원 \"트럼프 대통령, 비트코인법 지지\"    \n",
       "7   7   [비트코인 2025] 로빈후드 창업자 “토큰화 증권은 美 ‘자본 패권’ 키우는 수단”    \n",
       "8   8           트럼프미디어그룹, 25억 달러 규모 자금 조달 통해 비트코인 매입 예고    \n",
       "9   9                 '비트코인 빚투' 스트레티지, 또 샀다…보유량 58만개 돌파    \n",
       "\n",
       "                                    link  \n",
       "0  http://v.daum.net/v/20250528154126316  \n",
       "1  http://v.daum.net/v/20250528151802080  \n",
       "2  http://v.daum.net/v/20250528103907230  \n",
       "3  http://v.daum.net/v/20250528075215864  \n",
       "4  http://v.daum.net/v/20250528143002735  \n",
       "5  http://v.daum.net/v/20250528095112897  \n",
       "6  http://v.daum.net/v/20250528090342853  \n",
       "7  http://v.daum.net/v/20250528110600761  \n",
       "8  http://v.daum.net/v/20250528084245020  \n",
       "9  http://v.daum.net/v/20250528042404292  "
      ]
     },
     "execution_count": 199,
     "metadata": {},
     "output_type": "execute_result"
    }
   ],
   "source": [
    "# 방법1\n",
    "import requests\n",
    "from bs4 import BeautifulSoup\n",
    "word = '비트코인'\n",
    "url = 'https://search.daum.net/search?w=news&nil_search=btn&DA=NTB&enc=utf8&cluster=y&cluster_page=1&q='+word\n",
    "response = requests.get(url)\n",
    "soup = BeautifulSoup(response.text, # response.content\n",
    "                    \"html.parser\")\n",
    "items_find_list = [] # 검색한 결과를 담을 dict list\n",
    "items_el = soup.select('div.item-title > strong.tit-g.clamp-g > a')\n",
    "# len(items_el)\n",
    "for idx, item in enumerate(items_el):\n",
    "    items_find_list.append({'no': idx,\n",
    "                           'title': item.text,\n",
    "                           'link': item.attrs['href']})\n",
    "import pandas as pd\n",
    "pd.DataFrame(items_find_list)"
   ]
  },
  {
   "cell_type": "code",
   "execution_count": 177,
   "id": "3e7028fd",
   "metadata": {},
   "outputs": [
    {
     "name": "stdout",
     "output_type": "stream",
     "text": [
      "%EB%B9%84%ED%8A%B8%EC%BD%94%EC%9D%B8\n"
     ]
    },
    {
     "data": {
      "text/html": [
       "<div>\n",
       "<style scoped>\n",
       "    .dataframe tbody tr th:only-of-type {\n",
       "        vertical-align: middle;\n",
       "    }\n",
       "\n",
       "    .dataframe tbody tr th {\n",
       "        vertical-align: top;\n",
       "    }\n",
       "\n",
       "    .dataframe thead th {\n",
       "        text-align: right;\n",
       "    }\n",
       "</style>\n",
       "<table border=\"1\" class=\"dataframe\">\n",
       "  <thead>\n",
       "    <tr style=\"text-align: right;\">\n",
       "      <th></th>\n",
       "      <th>no</th>\n",
       "      <th>title</th>\n",
       "      <th>link</th>\n",
       "    </tr>\n",
       "  </thead>\n",
       "  <tbody>\n",
       "    <tr>\n",
       "      <th>0</th>\n",
       "      <td>0</td>\n",
       "      <td>[비트코인 2025] 백악관 크립토 차르 “美 정부 비트코인 추가 매입 검토…부채...</td>\n",
       "      <td>http://v.daum.net/v/20250528103907230</td>\n",
       "    </tr>\n",
       "    <tr>\n",
       "      <th>1</th>\n",
       "      <td>1</td>\n",
       "      <td>EU관세 발언 후 10만8000달러선 회복 비트코인…파키스탄 ‘비트코인 채굴’ 전...</td>\n",
       "      <td>http://v.daum.net/v/20250526080440640</td>\n",
       "    </tr>\n",
       "    <tr>\n",
       "      <th>2</th>\n",
       "      <td>2</td>\n",
       "      <td>숨 고르는 비트코인, 10만8000달러선 '주춤'</td>\n",
       "      <td>http://v.daum.net/v/20250528095921258</td>\n",
       "    </tr>\n",
       "    <tr>\n",
       "      <th>3</th>\n",
       "      <td>3</td>\n",
       "      <td>[비즈 나우] 비트코인 2025 컨퍼런스 개막…'전략자산' 선언 코앞</td>\n",
       "      <td>http://v.daum.net/v/20250528075215864</td>\n",
       "    </tr>\n",
       "    <tr>\n",
       "      <th>4</th>\n",
       "      <td>4</td>\n",
       "      <td>\"비트코인 산다\"…트럼프家, 25억달러 자금 조달 추진[코인브리핑]</td>\n",
       "      <td>http://v.daum.net/v/20250528111837527</td>\n",
       "    </tr>\n",
       "    <tr>\n",
       "      <th>5</th>\n",
       "      <td>5</td>\n",
       "      <td>비트코인, 트럼프 미디어 비축 소식에도 주춤…1억5100만원대</td>\n",
       "      <td>http://v.daum.net/v/20250528095112897</td>\n",
       "    </tr>\n",
       "    <tr>\n",
       "      <th>6</th>\n",
       "      <td>6</td>\n",
       "      <td>'비트코인 빚투' 스트레티지, 또 샀다…보유량 58만개 돌파</td>\n",
       "      <td>http://v.daum.net/v/20250528042404292</td>\n",
       "    </tr>\n",
       "    <tr>\n",
       "      <th>7</th>\n",
       "      <td>7</td>\n",
       "      <td>10만 달러, 11만 달러… 트럼프 관세 변덕에 비트코인 '출렁'</td>\n",
       "      <td>http://v.daum.net/v/20250527132843430</td>\n",
       "    </tr>\n",
       "    <tr>\n",
       "      <th>8</th>\n",
       "      <td>8</td>\n",
       "      <td>'해킹 산업화'의 원흉 '비트코인'…위치추적 안 되자 활개[은폐⑥]</td>\n",
       "      <td>http://v.daum.net/v/20250527090029503</td>\n",
       "    </tr>\n",
       "    <tr>\n",
       "      <th>9</th>\n",
       "      <td>9</td>\n",
       "      <td>美 상원의원 \"트럼프 대통령, 비트코인법 지지\"</td>\n",
       "      <td>http://v.daum.net/v/20250528090342853</td>\n",
       "    </tr>\n",
       "    <tr>\n",
       "      <th>10</th>\n",
       "      <td>0</td>\n",
       "      <td>[비트코인 2025] 백악관 크립토 차르 “美 정부 비트코인 추가 매입 검토…부채...</td>\n",
       "      <td>http://v.daum.net/v/20250528103907230</td>\n",
       "    </tr>\n",
       "    <tr>\n",
       "      <th>11</th>\n",
       "      <td>1</td>\n",
       "      <td>EU관세 발언 후 10만8000달러선 회복 비트코인…파키스탄 ‘비트코인 채굴’ 전...</td>\n",
       "      <td>http://v.daum.net/v/20250526080440640</td>\n",
       "    </tr>\n",
       "    <tr>\n",
       "      <th>12</th>\n",
       "      <td>2</td>\n",
       "      <td>숨 고르는 비트코인, 10만8000달러선 '주춤'</td>\n",
       "      <td>http://v.daum.net/v/20250528095921258</td>\n",
       "    </tr>\n",
       "    <tr>\n",
       "      <th>13</th>\n",
       "      <td>3</td>\n",
       "      <td>[비즈 나우] 비트코인 2025 컨퍼런스 개막…'전략자산' 선언 코앞</td>\n",
       "      <td>http://v.daum.net/v/20250528075215864</td>\n",
       "    </tr>\n",
       "    <tr>\n",
       "      <th>14</th>\n",
       "      <td>4</td>\n",
       "      <td>\"비트코인 산다\"…트럼프家, 25억달러 자금 조달 추진[코인브리핑]</td>\n",
       "      <td>http://v.daum.net/v/20250528111837527</td>\n",
       "    </tr>\n",
       "    <tr>\n",
       "      <th>15</th>\n",
       "      <td>5</td>\n",
       "      <td>비트코인, 트럼프 미디어 비축 소식에도 주춤…1억5100만원대</td>\n",
       "      <td>http://v.daum.net/v/20250528095112897</td>\n",
       "    </tr>\n",
       "    <tr>\n",
       "      <th>16</th>\n",
       "      <td>6</td>\n",
       "      <td>'비트코인 빚투' 스트레티지, 또 샀다…보유량 58만개 돌파</td>\n",
       "      <td>http://v.daum.net/v/20250528042404292</td>\n",
       "    </tr>\n",
       "    <tr>\n",
       "      <th>17</th>\n",
       "      <td>7</td>\n",
       "      <td>10만 달러, 11만 달러… 트럼프 관세 변덕에 비트코인 '출렁'</td>\n",
       "      <td>http://v.daum.net/v/20250527132843430</td>\n",
       "    </tr>\n",
       "    <tr>\n",
       "      <th>18</th>\n",
       "      <td>8</td>\n",
       "      <td>'해킹 산업화'의 원흉 '비트코인'…위치추적 안 되자 활개[은폐⑥]</td>\n",
       "      <td>http://v.daum.net/v/20250527090029503</td>\n",
       "    </tr>\n",
       "    <tr>\n",
       "      <th>19</th>\n",
       "      <td>9</td>\n",
       "      <td>美 상원의원 \"트럼프 대통령, 비트코인법 지지\"</td>\n",
       "      <td>http://v.daum.net/v/20250528090342853</td>\n",
       "    </tr>\n",
       "  </tbody>\n",
       "</table>\n",
       "</div>"
      ],
      "text/plain": [
       "    no                                              title  \\\n",
       "0    0   [비트코인 2025] 백악관 크립토 차르 “美 정부 비트코인 추가 매입 검토…부채...   \n",
       "1    1   EU관세 발언 후 10만8000달러선 회복 비트코인…파키스탄 ‘비트코인 채굴’ 전...   \n",
       "2    2                       숨 고르는 비트코인, 10만8000달러선 '주춤'    \n",
       "3    3            [비즈 나우] 비트코인 2025 컨퍼런스 개막…'전략자산' 선언 코앞    \n",
       "4    4             \"비트코인 산다\"…트럼프家, 25억달러 자금 조달 추진[코인브리핑]    \n",
       "5    5                비트코인, 트럼프 미디어 비축 소식에도 주춤…1억5100만원대    \n",
       "6    6                 '비트코인 빚투' 스트레티지, 또 샀다…보유량 58만개 돌파    \n",
       "7    7              10만 달러, 11만 달러… 트럼프 관세 변덕에 비트코인 '출렁'    \n",
       "8    8             '해킹 산업화'의 원흉 '비트코인'…위치추적 안 되자 활개[은폐⑥]    \n",
       "9    9                        美 상원의원 \"트럼프 대통령, 비트코인법 지지\"    \n",
       "10   0   [비트코인 2025] 백악관 크립토 차르 “美 정부 비트코인 추가 매입 검토…부채...   \n",
       "11   1   EU관세 발언 후 10만8000달러선 회복 비트코인…파키스탄 ‘비트코인 채굴’ 전...   \n",
       "12   2                       숨 고르는 비트코인, 10만8000달러선 '주춤'    \n",
       "13   3            [비즈 나우] 비트코인 2025 컨퍼런스 개막…'전략자산' 선언 코앞    \n",
       "14   4             \"비트코인 산다\"…트럼프家, 25억달러 자금 조달 추진[코인브리핑]    \n",
       "15   5                비트코인, 트럼프 미디어 비축 소식에도 주춤…1억5100만원대    \n",
       "16   6                 '비트코인 빚투' 스트레티지, 또 샀다…보유량 58만개 돌파    \n",
       "17   7              10만 달러, 11만 달러… 트럼프 관세 변덕에 비트코인 '출렁'    \n",
       "18   8             '해킹 산업화'의 원흉 '비트코인'…위치추적 안 되자 활개[은폐⑥]    \n",
       "19   9                        美 상원의원 \"트럼프 대통령, 비트코인법 지지\"    \n",
       "\n",
       "                                     link  \n",
       "0   http://v.daum.net/v/20250528103907230  \n",
       "1   http://v.daum.net/v/20250526080440640  \n",
       "2   http://v.daum.net/v/20250528095921258  \n",
       "3   http://v.daum.net/v/20250528075215864  \n",
       "4   http://v.daum.net/v/20250528111837527  \n",
       "5   http://v.daum.net/v/20250528095112897  \n",
       "6   http://v.daum.net/v/20250528042404292  \n",
       "7   http://v.daum.net/v/20250527132843430  \n",
       "8   http://v.daum.net/v/20250527090029503  \n",
       "9   http://v.daum.net/v/20250528090342853  \n",
       "10  http://v.daum.net/v/20250528103907230  \n",
       "11  http://v.daum.net/v/20250526080440640  \n",
       "12  http://v.daum.net/v/20250528095921258  \n",
       "13  http://v.daum.net/v/20250528075215864  \n",
       "14  http://v.daum.net/v/20250528111837527  \n",
       "15  http://v.daum.net/v/20250528095112897  \n",
       "16  http://v.daum.net/v/20250528042404292  \n",
       "17  http://v.daum.net/v/20250527132843430  \n",
       "18  http://v.daum.net/v/20250527090029503  \n",
       "19  http://v.daum.net/v/20250528090342853  "
      ]
     },
     "execution_count": 177,
     "metadata": {},
     "output_type": "execute_result"
    }
   ],
   "source": [
    "\n",
    "import requests\n",
    "from bs4 import BeautifulSoup\n",
    "word = '비트코인'\n",
    "url = 'https://search.daum.net/search?w=news&nil_search=btn&DA=NTB&enc=utf8&cluster=y&cluster_page=1&q='+word\n",
    "response = requests.get(url)\n",
    "soup = BeautifulSoup(response.text, # response.content\n",
    "                    \"html.parser\")\n",
    "items_find_list = [] # 검색한 결과를 담을 2차원 리스트\n",
    "items_el = soup.select('div.item-title > strong.tit-g.clamp-g > a')\n",
    "for idx, item in enumerate(items_el):\n",
    "    items_find_list.append([idx, item.text, item.attrs.get('href')])\n",
    "# items_find_list\n",
    "import pandas as pd\n",
    "pd.DataFrame(items_find_list, columns=['no', 'title', 'link'])"
   ]
  },
  {
   "cell_type": "code",
   "execution_count": 201,
   "id": "6d9e5211",
   "metadata": {},
   "outputs": [
    {
     "name": "stdout",
     "output_type": "stream",
     "text": [
      "{'no': 10, 'title': ' 달러 스테이블코인, 국내 거래 확산…당국 외환흐름 통제력 약화 우려 ', 'link': 'http://v.daum.net/v/20250528152520516'}\n",
      "{'no': 11, 'title': ' 전력거래소, `공감·혁신` 토대 조직문화 바꾸기 ', 'link': 'http://v.daum.net/v/20250528152647580'}\n",
      "{'no': 12, 'title': \" 숨 고르는 비트코인, 10만8000달러선 '주춤' \", 'link': 'http://v.daum.net/v/20250528095921258'}\n",
      "{'no': 13, 'title': ' [포토]라스베이거스에서 열린 2025 비트코인 콘퍼런스 ', 'link': 'http://v.daum.net/v/20250528155536962'}\n",
      "{'no': 14, 'title': ' 연일 최고가 경신하는 비트코인…투자자들 강 건너 불구경하는 이유는 ', 'link': 'http://v.daum.net/v/20250526212400275'}\n",
      "{'no': 15, 'title': ' \"비트코인 산다\"…트럼프家, 25억달러 자금 조달 추진[코인브리핑] ', 'link': 'http://v.daum.net/v/20250528111837527'}\n",
      "{'no': 16, 'title': ' [김대호 박사의 오늘의 키워드] 소비자신뢰지수·비트코인 2025·머스크 한마디·애플 괘씸죄 ', 'link': 'http://v.daum.net/v/20250528071325361'}\n",
      "{'no': 17, 'title': ' 비트코인과 엇갈리는 이더리움·리플, 왜? ', 'link': 'http://v.daum.net/v/20250526164319028'}\n",
      "{'no': 18, 'title': ' 잘 나가는 비트코인 산다는데 왜?…트럼프 미디어 주가 10% 급락 [투자360] ', 'link': 'http://v.daum.net/v/20250528074002668'}\n",
      "{'no': 19, 'title': ' “미국 대통령이 이래도 되나”…트럼프 일가, 4조원 유치해 대놓고 코인 투자 ', 'link': 'http://v.daum.net/v/20250527220300328'}\n"
     ]
    }
   ],
   "source": [
    "# 다음 뉴스 검색(키워드, 원하는 페이지수)\n",
    "import requests\n",
    "from bs4 import BeautifulSoup\n",
    "import pandas as pd\n",
    "import time\n",
    "keyword = '비트코인'\n",
    "page = 2\n",
    "# url = f'https://search.daum.net/search?w=news&nil_search=btn&DA=PGD&enc=utf8&cluster=y&q={keyword}&p={page}'\n",
    "# response = requests.get(url)\n",
    "url = f'https://search.daum.net/search?w=news&nil_search=btn&DA=PGD&enc=utf8&cluster=y'\n",
    "params = {'q':keyword, 'p':page}\n",
    "response = requests.get(url, params=params)\n",
    "soup = BeautifulSoup(response.text,  # response.content\n",
    "                    'html.parser')\n",
    "items_find_list = [] # 검색한 결과를 담을 dict list\n",
    "items_el = soup.select('div.item-title > strong.tit-g.clamp-g > a')\n",
    "# len(items_el)\n",
    "for idx, item in enumerate(items_el):\n",
    "    items_find_list.append({'no': (page-1)*10 + idx,\n",
    "                           'title': item.text,\n",
    "                           'link': item.attrs['href']})\n",
    "    print({'no': (page-1)*10 + idx,\n",
    "           'title': item.text,\n",
    "           'link': item.attrs['href']})"
   ]
  },
  {
   "cell_type": "code",
   "execution_count": 202,
   "id": "cd306f9f",
   "metadata": {},
   "outputs": [],
   "source": [
    "import requests\n",
    "from bs4 import BeautifulSoup\n",
    "import pandas as pd\n",
    "import time\n",
    "def collect_list(keyword, page=1):\n",
    "    'keyword로 다음 검색한 결과(해당 page)를 return'\n",
    "    url = f'https://search.daum.net/search?w=news&nil_search=btn&DA=PGD&enc=utf8&cluster=y'\n",
    "    params = {'q':keyword, 'p':page}\n",
    "    response = requests.get(url, params=params)\n",
    "    soup = BeautifulSoup(response.text,  # response.content\n",
    "                    'html.parser')\n",
    "    items_find_list = [] # 검색한 결과를 담을 dict list\n",
    "    items_el = soup.select('div.item-title > strong.tit-g.clamp-g > a')\n",
    "    for idx, item in enumerate(items_el):\n",
    "        items_find_list.append({'no': (page-1)*10 + idx,\n",
    "                           'title': item.text,\n",
    "                           'link': item.attrs['href']})\n",
    "    return items_find_list"
   ]
  },
  {
   "cell_type": "code",
   "execution_count": 203,
   "id": "e5238c14",
   "metadata": {},
   "outputs": [
    {
     "data": {
      "text/plain": [
       "[{'no': 10,\n",
       "  'title': \" 공약집 없이 대선 투표 시작… 가열되는 '비방전' 투표율 낮출라 \",\n",
       "  'link': 'http://v.daum.net/v/20250524123705877'},\n",
       " {'no': 11,\n",
       "  'title': \" '시장 스타일 구기는 것 쯤이야'…광명시, 대선투표 독려 영상 화제 \",\n",
       "  'link': 'http://v.daum.net/v/20250528100556682'},\n",
       " {'no': 12,\n",
       "  'title': \" 국민의힘 방세환 광주시장, 대선 투표참여 독려 '눈길' \",\n",
       "  'link': 'http://v.daum.net/v/20250527155213156'},\n",
       " {'no': 13,\n",
       "  'title': ' 전남도, 대선 투표 참여 캠페인 ',\n",
       "  'link': 'http://v.daum.net/v/20250528112007618'},\n",
       " {'no': 14,\n",
       "  'title': ' 대선 투표참여 홍보에 발벗고 나선 김영록 지사 ',\n",
       "  'link': 'http://v.daum.net/v/20250527144205460'},\n",
       " {'no': 15,\n",
       "  'title': ' <호텔소식> 센텀비즈니스호텔 \"대선 투표 인증샷, 당일 선착순 1박 무료\" ',\n",
       "  'link': 'http://v.daum.net/v/20250527112515888'},\n",
       " {'no': 16,\n",
       "  'title': ' ‘대선’ 투표 참여 독려하는 강북구…홍보 현수막·배너 설치 ',\n",
       "  'link': 'http://v.daum.net/v/20250527141101069'},\n",
       " {'no': 17,\n",
       "  'title': ' 김보라 안성시장 “제21대 대선 투표 꼭 하세요”…유권자 독려 ',\n",
       "  'link': 'http://v.daum.net/v/20250526171720742'},\n",
       " {'no': 18,\n",
       "  'title': ' [동정] 권익현 부안군수, 대선 투표 독려 캠페인 동참 ',\n",
       "  'link': 'http://v.daum.net/v/20250528135202999'},\n",
       " {'no': 19,\n",
       "  'title': \" 강원선관위 '대선 투표 교통편의 제공' \",\n",
       "  'link': 'http://v.daum.net/v/20250528104206392'}]"
      ]
     },
     "execution_count": 203,
     "metadata": {},
     "output_type": "execute_result"
    }
   ],
   "source": [
    "collect_list('대선투표',2)"
   ]
  },
  {
   "cell_type": "code",
   "execution_count": 204,
   "id": "4078c3bd",
   "metadata": {},
   "outputs": [
    {
     "data": {
      "text/html": [
       "<div>\n",
       "<style scoped>\n",
       "    .dataframe tbody tr th:only-of-type {\n",
       "        vertical-align: middle;\n",
       "    }\n",
       "\n",
       "    .dataframe tbody tr th {\n",
       "        vertical-align: top;\n",
       "    }\n",
       "\n",
       "    .dataframe thead th {\n",
       "        text-align: right;\n",
       "    }\n",
       "</style>\n",
       "<table border=\"1\" class=\"dataframe\">\n",
       "  <thead>\n",
       "    <tr style=\"text-align: right;\">\n",
       "      <th></th>\n",
       "      <th>no</th>\n",
       "      <th>title</th>\n",
       "      <th>link</th>\n",
       "    </tr>\n",
       "  </thead>\n",
       "  <tbody>\n",
       "    <tr>\n",
       "      <th>0</th>\n",
       "      <td>0</td>\n",
       "      <td>'이병헌♥' 이민정, 매장 통째로 빌려 청바지 쇼핑</td>\n",
       "      <td>http://v.daum.net/v/20250528050507783</td>\n",
       "    </tr>\n",
       "    <tr>\n",
       "      <th>1</th>\n",
       "      <td>1</td>\n",
       "      <td>“추앙받을 만 하네”… 김지원, 셔츠에 청바지만 입어도 공항 ‘정지’</td>\n",
       "      <td>http://v.daum.net/v/20250526182411395</td>\n",
       "    </tr>\n",
       "    <tr>\n",
       "      <th>2</th>\n",
       "      <td>2</td>\n",
       "      <td>흰 티셔츠에 청바지 정석대로 입는 법</td>\n",
       "      <td>http://v.daum.net/v/20250527185425864</td>\n",
       "    </tr>\n",
       "    <tr>\n",
       "      <th>3</th>\n",
       "      <td>3</td>\n",
       "      <td>이민정, 매장 빌려 폭풍 쇼핑 \"10년 전 샀던 청바지는 응급실\"(MJ)</td>\n",
       "      <td>http://v.daum.net/v/20250527191015309</td>\n",
       "    </tr>\n",
       "    <tr>\n",
       "      <th>4</th>\n",
       "      <td>4</td>\n",
       "      <td>‘이병헌♥’ 이민정, 청바지 사는데 매장 통째로 빌렸다..남다른 쇼핑 클래스 “나...</td>\n",
       "      <td>http://v.daum.net/v/20250527192310643</td>\n",
       "    </tr>\n",
       "  </tbody>\n",
       "</table>\n",
       "</div>"
      ],
      "text/plain": [
       "   no                                              title  \\\n",
       "0   0                      '이병헌♥' 이민정, 매장 통째로 빌려 청바지 쇼핑    \n",
       "1   1            “추앙받을 만 하네”… 김지원, 셔츠에 청바지만 입어도 공항 ‘정지’    \n",
       "2   2                              흰 티셔츠에 청바지 정석대로 입는 법    \n",
       "3   3          이민정, 매장 빌려 폭풍 쇼핑 \"10년 전 샀던 청바지는 응급실\"(MJ)    \n",
       "4   4   ‘이병헌♥’ 이민정, 청바지 사는데 매장 통째로 빌렸다..남다른 쇼핑 클래스 “나...   \n",
       "\n",
       "                                    link  \n",
       "0  http://v.daum.net/v/20250528050507783  \n",
       "1  http://v.daum.net/v/20250526182411395  \n",
       "2  http://v.daum.net/v/20250527185425864  \n",
       "3  http://v.daum.net/v/20250527191015309  \n",
       "4  http://v.daum.net/v/20250527192310643  "
      ]
     },
     "execution_count": 204,
     "metadata": {},
     "output_type": "execute_result"
    }
   ],
   "source": [
    "# 원하는 keyword로 다음검색\n",
    "result = []\n",
    "keyword = \"청바지\"\n",
    "pages = 4\n",
    "for page in range(1, pages+1):\n",
    "    result.extend(collect_list(keyword, page))\n",
    "    time.sleep(1)\n",
    "result_df = pd.DataFrame(result)\n",
    "result_df.head()"
   ]
  },
  {
   "cell_type": "code",
   "execution_count": 206,
   "id": "aebdcdd8",
   "metadata": {},
   "outputs": [
    {
     "name": "stdout",
     "output_type": "stream",
     "text": [
      "~ ~ ~ 0번째 청바지 1 검색 중입니다 ~ ~ ~\n",
      "~ ~ ~ 0번째 청바지 2 검색 중입니다 ~ ~ ~\n",
      "~ ~ ~ 0번째 청바지 3 검색 중입니다 ~ ~ ~\n",
      "~ ~ ~ 0번째 청바지 4 검색 중입니다 ~ ~ ~\n",
      "~ ~ ~ 0번째 청바지 5 검색 중입니다 ~ ~ ~\n",
      "~ ~ ~ 1번째 면바지 1 검색 중입니다 ~ ~ ~\n",
      "~ ~ ~ 1번째 면바지 2 검색 중입니다 ~ ~ ~\n",
      "~ ~ ~ 1번째 면바지 3 검색 중입니다 ~ ~ ~\n",
      "~ ~ ~ 1번째 면바지 4 검색 중입니다 ~ ~ ~\n",
      "~ ~ ~ 1번째 면바지 5 검색 중입니다 ~ ~ ~\n"
     ]
    }
   ],
   "source": [
    "keywords = ['청바지','면바지']\n",
    "pages = 5\n",
    "result0 = [] # 청바지 검색결과 50개\n",
    "result1 = [] # 면바지 검색결과 50개\n",
    "for i, keyword in enumerate(keywords):\n",
    "    for page in range(1, pages+1):\n",
    "        print(f'~ ~ ~ {i}번째 {keyword} {page} 검색 중입니다 ~ ~ ~')\n",
    "        if i==0:\n",
    "            result0.extend(collect_list(keyword, page))\n",
    "        else:\n",
    "            result1.extend(collect_list(keyword, page))\n",
    "        time.sleep(4)"
   ]
  },
  {
   "cell_type": "code",
   "execution_count": 207,
   "id": "f0fb7f37",
   "metadata": {},
   "outputs": [
    {
     "data": {
      "text/html": [
       "<div>\n",
       "<style scoped>\n",
       "    .dataframe tbody tr th:only-of-type {\n",
       "        vertical-align: middle;\n",
       "    }\n",
       "\n",
       "    .dataframe tbody tr th {\n",
       "        vertical-align: top;\n",
       "    }\n",
       "\n",
       "    .dataframe thead th {\n",
       "        text-align: right;\n",
       "    }\n",
       "</style>\n",
       "<table border=\"1\" class=\"dataframe\">\n",
       "  <thead>\n",
       "    <tr style=\"text-align: right;\">\n",
       "      <th></th>\n",
       "    </tr>\n",
       "  </thead>\n",
       "  <tbody>\n",
       "  </tbody>\n",
       "</table>\n",
       "</div>"
      ],
      "text/plain": [
       "Empty DataFrame\n",
       "Columns: []\n",
       "Index: []"
      ]
     },
     "execution_count": 207,
     "metadata": {},
     "output_type": "execute_result"
    }
   ],
   "source": [
    "result0_df = pd.DataFrame(result0)\n",
    "result0_df.head()"
   ]
  },
  {
   "cell_type": "code",
   "execution_count": 208,
   "id": "27153937",
   "metadata": {},
   "outputs": [
    {
     "data": {
      "text/html": [
       "<div>\n",
       "<style scoped>\n",
       "    .dataframe tbody tr th:only-of-type {\n",
       "        vertical-align: middle;\n",
       "    }\n",
       "\n",
       "    .dataframe tbody tr th {\n",
       "        vertical-align: top;\n",
       "    }\n",
       "\n",
       "    .dataframe thead th {\n",
       "        text-align: right;\n",
       "    }\n",
       "</style>\n",
       "<table border=\"1\" class=\"dataframe\">\n",
       "  <thead>\n",
       "    <tr style=\"text-align: right;\">\n",
       "      <th></th>\n",
       "    </tr>\n",
       "  </thead>\n",
       "  <tbody>\n",
       "  </tbody>\n",
       "</table>\n",
       "</div>"
      ],
      "text/plain": [
       "Empty DataFrame\n",
       "Columns: []\n",
       "Index: []"
      ]
     },
     "execution_count": 208,
     "metadata": {},
     "output_type": "execute_result"
    }
   ],
   "source": [
    "result1_df = pd.DataFrame(result1)\n",
    "result1_df.head()"
   ]
  },
  {
   "cell_type": "code",
   "execution_count": 209,
   "id": "7a89c7af",
   "metadata": {},
   "outputs": [],
   "source": [
    "result0_df.to_csv('data/ch14_'+keywords[0]+'.csv', index=False, encoding='cp949')\n",
    "result1_df.to_csv('data/ch14_'+keywords[1]+'.csv', index=False)"
   ]
  },
  {
   "cell_type": "markdown",
   "id": "71c4762a",
   "metadata": {},
   "source": [
    "-꼭 User-Agent를 사용하여야 하는 경우 : https://www.melon.com/chart/"
   ]
  },
  {
   "cell_type": "code",
   "execution_count": 211,
   "id": "2e576fc0",
   "metadata": {},
   "outputs": [
    {
     "data": {
      "text/plain": [
       "406"
      ]
     },
     "execution_count": 211,
     "metadata": {},
     "output_type": "execute_result"
    }
   ],
   "source": [
    "# 방법 1\n",
    "import requests\n",
    "from bs4 import BeautifulSoup\n",
    "url = 'https://www.melon.com/chart/'\n",
    "melonpage = requests.get(url)\n",
    "melonpage.status_code"
   ]
  },
  {
   "cell_type": "code",
   "execution_count": 213,
   "id": "9ab81bad",
   "metadata": {},
   "outputs": [],
   "source": [
    "# 방법 2\n",
    "from urllib.request import urlopen, Request\n",
    "# melonpage = urlopen(url) 에러남"
   ]
  },
  {
   "cell_type": "code",
   "execution_count": 215,
   "id": "b6ecab24",
   "metadata": {},
   "outputs": [],
   "source": [
    "# User-Agent 추가\n",
    "headers = {'user-agent':\n",
    "           'Mozilla/5.0 (Windows NT 10.0; Win64; x64) AppleWebKit/537.36 (KHTML, like Gecko) Chrome/136.0.0.0 Safari/537.36'\n",
    "}\n",
    "# 방법2\n",
    "request = Request(url, headers=headers)\n",
    "melonpage = urlopen(request)\n",
    "# 방법1\n",
    "melonpage = requests.get(url, headers=headers)\n",
    "soup = BeautifulSoup(melonpage.text, #melonpage.content\n",
    "                    \"html.parser\")\n",
    "#soup"
   ]
  },
  {
   "cell_type": "code",
   "execution_count": 224,
   "id": "77a8c758",
   "metadata": {},
   "outputs": [
    {
     "name": "stdout",
     "output_type": "stream",
     "text": [
      "1위 | 너에게 닿기를 - 10CM\n",
      "2위 | Never Ending Story - 아이유\n",
      "3위 | Drowning - WOODZ\n",
      "4위 | like JENNIE - 제니 (JENNIE)\n",
      "5위 | 모르시나요(PROD.로코베리) - 조째즈\n",
      "6위 | THUNDER - 세븐틴 (SEVENTEEN)\n",
      "7위 | TOO BAD (feat. Anderson .Paak) - G-DRAGON\n",
      "8위 | 네모의 꿈 - 아이유\n",
      "9위 | Whiplash - aespa\n",
      "10위 | HOME SWEET HOME (feat. 태양, 대성) - G-DRAGON\n",
      "11위 | 나는 반딧불 - 황가람\n",
      "12위 | 어제보다 슬픈 오늘 - 우디 (Woody)\n",
      "13위 | 오늘만 I LOVE YOU - BOYNEXTDOOR\n",
      "14위 | REBEL HEART - IVE (아이브)\n",
      "15위 | HAPPY - DAY6 (데이식스)\n",
      "16위 | 빨간 운동화 - 아이유\n",
      "17위 | Flower - 오반(OVAN)\n",
      "18위 | APT. - 로제 (ROSÉ), Bruno Mars\n",
      "19위 | 청춘만화 - 이무진\n",
      "20위 | HOT - LE SSERAFIM (르세라핌)\n",
      "21위 | 10월 4일 - 아이유\n",
      "22위 | 한 페이지가 될 수 있게 - DAY6 (데이식스)\n",
      "23위 | Last Scene (Feat. 원슈타인) - 아이유\n",
      "24위 | HBD - 세븐틴 (SEVENTEEN)\n",
      "25위 | MY LOVE(2025) - 이예은, 아샤트리, 전건호\n",
      "26위 | 그날이 오면 - 투모로우바이투게더\n",
      "27위 | 내게 사랑이 뭐냐고 물어본다면 - 로이킴\n",
      "28위 | Fly Up - RIIZE\n",
      "29위 | Welcome to the Show - DAY6 (데이식스)\n",
      "30위 | 소나기 - 이클립스 (ECLIPSE)\n",
      "31위 | 천상연 - 이창섭\n",
      "32위 | Die With A Smile - Lady Gaga, Bruno Mars\n",
      "33위 | toxic till the end - 로제 (ROSÉ)\n",
      "34위 | HANDS UP - MEOVV (미야오)\n",
      "35위 | Supernova - aespa\n",
      "36위 | 예뻤어 - DAY6 (데이식스)\n",
      "37위 | Skyfall (THE 8 Solo) - 세븐틴 (SEVENTEEN)\n",
      "38위 | ATTITUDE - IVE (아이브)\n",
      "39위 | I DO ME - KiiiKiii (키키)\n",
      "40위 | 미치게 그리워서 - 황가람\n",
      "41위 | 미인 (Feat. Balming Tiger) - 아이유\n",
      "42위 | 어떻게 이별까지 사랑하겠어, 널 사랑하는 거지 - AKMU (악뮤)\n",
      "43위 | DRIP - BABYMONSTER\n",
      "44위 | Love wins all - 아이유\n",
      "45위 | PO￦ER - G-DRAGON\n",
      "46위 | 청혼하지 않을 이유를 못 찾았어 - 이무진\n",
      "47위 | 그대만 있다면 (여름날 우리 X 너드커넥션 (Nerd Connection)) - 너드커넥션 (Nerd Connection)\n",
      "48위 | 사랑은 늘 도망가 - 임영웅\n",
      "49위 | Bad Influence (Prod. by Pharrell Williams) - 세븐틴 (SEVENTEEN)\n",
      "50위 | 내 이름 맑음 - QWER\n",
      "51위 | 99.9% (WONWOO Solo) - 세븐틴 (SEVENTEEN)\n",
      "52위 | 슬픈 초대장 - 순순희(지환)\n",
      "53위 | 첫 만남은 계획대로 되지 않아 - TWS (투어스)\n",
      "54위 | Fortunate Change (JOSHUA Solo) - 세븐틴 (SEVENTEEN)\n",
      "55위 | Raindrops (SEUNGKWAN Solo) - 세븐틴 (SEVENTEEN)\n",
      "56위 | UP (KARINA Solo) - aespa\n",
      "57위 | 고민중독 - QWER\n",
      "58위 | 나는 아픈 건 딱 질색이니까 - i-dle (아이들)\n",
      "59위 | 주저하는 연인들을 위해 - 잔나비\n",
      "60위 | TAKE ME - G-DRAGON\n",
      "61위 | 너의 모든 순간 - 성시경\n",
      "62위 | 운명 (WOOZI Solo) - 세븐틴 (SEVENTEEN)\n",
      "63위 | Damage (HOSHI Solo) (feat. Timbaland) - 세븐틴 (SEVENTEEN)\n",
      "64위 | Happy Virus (DK Solo) - 세븐틴 (SEVENTEEN)\n",
      "65위 | Magnetic - 아일릿(ILLIT)\n",
      "66위 | How Sweet - NewJeans\n",
      "67위 | 사랑인가 봐 - 멜로망스\n",
      "68위 | I Feel Good - BOYNEXTDOOR\n",
      "69위 | 에피소드 - 이무진\n",
      "70위 | 비의 랩소디 - 임재현\n",
      "71위 | Shake It Off (MINGYU Solo) - 세븐틴 (SEVENTEEN)\n",
      "72위 | 우연 (JEONGHAN Solo) - 세븐틴 (SEVENTEEN)\n",
      "73위 | Bag Bad Back - RIIZE\n",
      "74위 | 123-78 - BOYNEXTDOOR\n",
      "75위 | 모든 날, 모든 순간 (Every day, Every Moment) - 폴킴\n",
      "76위 | The Chase - Hearts2Hearts (하츠투하츠)\n",
      "77위 | 시작의 아이 - 마크툽 (MAKTUB)\n",
      "78위 | Supersonic - 프로미스나인\n",
      "79위 | Jungle (S.COUPS Solo) - 세븐틴 (SEVENTEEN)\n",
      "80위 | 쌍둥이자리 (Gemini) (JUN Solo) - 세븐틴 (SEVENTEEN)\n",
      "81위 | I AM - IVE (아이브)\n",
      "82위 | Shining Star (Vernon Solo) - 세븐틴 (SEVENTEEN)\n",
      "83위 | Hype Boy - NewJeans\n",
      "84위 | 다정히 내 이름을 부르면 - 경서예지, 전건호\n",
      "85위 | Seven (feat. Latto) - Clean Ver. - 정국\n",
      "86위 | 헤어지자 말해요 - 박재정\n",
      "87위 | Trigger (DINO Solo) - 세븐틴 (SEVENTEEN)\n",
      "88위 | 영원해 - 도경수(D.O.)\n",
      "89위 | 이렇게 좋아해 본 적이 없어요 - BOYNEXTDOOR\n",
      "90위 | 우리들의 블루스 - 임영웅\n",
      "91위 | 봄날 - 방탄소년단\n",
      "92위 | 무제(無題) (Untitled, 2014) - G-DRAGON\n",
      "93위 | 천국보다 아름다운 - 임영웅\n",
      "94위 | 인사 - 범진\n",
      "95위 | 굿데이 2025 (텔레파시 + 달빛 창가에서) - G-DRAGON, 황정민, 데프콘, 홍진경, 정형돈, 조세호, 기안84, 안성재, 태양, 정해인, 황광희, 임시완, 이수혁, 대성, 코드 쿤스트 (CODE KUNST), CL, 김고은, DAY6 (데이식스), 부석순 (SEVENTEEN), aespa\n",
      "96위 | Sticky - KISS OF LIFE\n",
      "97위 | Small girl (feat. 도경수(D.O.)) - 이영지\n",
      "98위 | Dash - PLAVE\n",
      "99위 | 사막에서 꽃을 피우듯 - 우디 (Woody)\n",
      "100위 | 다시 만날 수 있을까 - 임영웅\n"
     ]
    }
   ],
   "source": [
    "# 멜론 순위, 노래제목, 가수, 좋아요 갯수\n",
    "# 1위 | 너에게 닿기를 | 10cm (100위까지 크롤링)\n",
    "title_els = soup.select('div.ellipsis.rank01 > span')\n",
    "singer_els = soup.select('div.ellipsis.rank02 > span.checkEllipsis')\n",
    "len([title.text.strip() for title in title_els]), \\\n",
    "len([singer.text for singer in singer_els])\n",
    "for idx, (title, singer) in enumerate(zip(title_els, singer_els)):\n",
    "    print('{}위 | {} - {}'.format(idx+1,\n",
    "                                title.text.strip(),\n",
    "                                singer.text))"
   ]
  },
  {
   "cell_type": "code",
   "execution_count": null,
   "id": "33a7abfc",
   "metadata": {},
   "outputs": [],
   "source": []
  },
  {
   "cell_type": "code",
   "execution_count": null,
   "id": "c9f72fb4",
   "metadata": {},
   "outputs": [],
   "source": []
  },
  {
   "cell_type": "code",
   "execution_count": null,
   "id": "e251fae1",
   "metadata": {},
   "outputs": [],
   "source": []
  },
  {
   "cell_type": "markdown",
   "id": "bcb9bc53",
   "metadata": {},
   "source": [
    "### 4) User-agent를 추가하여 크롤링\n",
    "- urlopen()함수를 사용하면 크롤링이 안 되는 사이트\n",
    "- User-agent를 추가하여 "
   ]
  },
  {
   "cell_type": "code",
   "execution_count": 200,
   "id": "98ccf661",
   "metadata": {},
   "outputs": [
    {
     "data": {
      "text/html": [
       "<div>\n",
       "<style scoped>\n",
       "    .dataframe tbody tr th:only-of-type {\n",
       "        vertical-align: middle;\n",
       "    }\n",
       "\n",
       "    .dataframe tbody tr th {\n",
       "        vertical-align: top;\n",
       "    }\n",
       "\n",
       "    .dataframe thead th {\n",
       "        text-align: right;\n",
       "    }\n",
       "</style>\n",
       "<table border=\"1\" class=\"dataframe\">\n",
       "  <thead>\n",
       "    <tr style=\"text-align: right;\">\n",
       "      <th></th>\n",
       "    </tr>\n",
       "  </thead>\n",
       "  <tbody>\n",
       "  </tbody>\n",
       "</table>\n",
       "</div>"
      ],
      "text/plain": [
       "Empty DataFrame\n",
       "Columns: []\n",
       "Index: []"
      ]
     },
     "execution_count": 200,
     "metadata": {},
     "output_type": "execute_result"
    }
   ],
   "source": [
    "# 방법2\n",
    "from urllib.request import urlopen\n",
    "import urllib.parse\n",
    "word = '비트코인'\n",
    "word = urllib.parse.quote(word)\n",
    "# print(word)\n",
    "url = 'https://search.daum.net/search?w=news&nil_search=btn&DA=NTB&enc=utf8&cluster=y&cluster_page=1&q='+word\n",
    "response = urlopen(url)\n",
    "soup = BeautifulSoup(response, # response.content\n",
    "                    \"html.parser\")\n",
    "items_find_list = [] # 검색한 결과를 담을 dict list\n",
    "items_el = soup.select('div.item-title > strong.tit-g.clamp-g > a')\n",
    "# len(items_el)\n",
    "for idx, item in enumerate(items_el):\n",
    "    items_find_list.append({'no': idx,\n",
    "                           'title': item.text,\n",
    "                           'link': item.attrs['href']})\n",
    "import pandas as pd\n",
    "pd.DataFrame(items_find_list)"
   ]
  },
  {
   "cell_type": "code",
   "execution_count": null,
   "id": "6f744d8c",
   "metadata": {},
   "outputs": [],
   "source": []
  },
  {
   "cell_type": "code",
   "execution_count": null,
   "id": "aef4793a",
   "metadata": {},
   "outputs": [],
   "source": []
  },
  {
   "cell_type": "code",
   "execution_count": null,
   "id": "919410f7",
   "metadata": {},
   "outputs": [],
   "source": []
  },
  {
   "cell_type": "code",
   "execution_count": null,
   "id": "03f6c952",
   "metadata": {},
   "outputs": [],
   "source": []
  },
  {
   "cell_type": "code",
   "execution_count": null,
   "id": "bc19a6b3",
   "metadata": {},
   "outputs": [],
   "source": []
  },
  {
   "cell_type": "code",
   "execution_count": null,
   "id": "fa88206f",
   "metadata": {},
   "outputs": [],
   "source": []
  },
  {
   "cell_type": "code",
   "execution_count": null,
   "id": "59108183",
   "metadata": {},
   "outputs": [],
   "source": []
  },
  {
   "cell_type": "code",
   "execution_count": null,
   "id": "43abaca1",
   "metadata": {},
   "outputs": [],
   "source": []
  },
  {
   "cell_type": "code",
   "execution_count": null,
   "id": "7df8c5df",
   "metadata": {},
   "outputs": [],
   "source": []
  },
  {
   "cell_type": "code",
   "execution_count": null,
   "id": "2b14a409",
   "metadata": {},
   "outputs": [],
   "source": []
  },
  {
   "cell_type": "code",
   "execution_count": null,
   "id": "d951fef8",
   "metadata": {},
   "outputs": [],
   "source": []
  },
  {
   "cell_type": "code",
   "execution_count": null,
   "id": "16f10181",
   "metadata": {},
   "outputs": [],
   "source": []
  }
 ],
 "metadata": {
  "kernelspec": {
   "display_name": "Python 3 (ipykernel)",
   "language": "python",
   "name": "python3"
  },
  "language_info": {
   "codemirror_mode": {
    "name": "ipython",
    "version": 3
   },
   "file_extension": ".py",
   "mimetype": "text/x-python",
   "name": "python",
   "nbconvert_exporter": "python",
   "pygments_lexer": "ipython3",
   "version": "3.10.9"
  },
  "toc": {
   "base_numbering": 1,
   "nav_menu": {},
   "number_sections": false,
   "sideBar": true,
   "skip_h1_title": false,
   "title_cell": "Table of Contents",
   "title_sidebar": "Contents",
   "toc_cell": false,
   "toc_position": {},
   "toc_section_display": true,
   "toc_window_display": false
  }
 },
 "nbformat": 4,
 "nbformat_minor": 5
}
