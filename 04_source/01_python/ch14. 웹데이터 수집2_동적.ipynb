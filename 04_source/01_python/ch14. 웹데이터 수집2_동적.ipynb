{
 "cells": [
  {
   "cell_type": "code",
   "execution_count": 1,
   "id": "fa5aedb1",
   "metadata": {},
   "outputs": [
    {
     "data": {
      "text/html": [
       "\n",
       "<style>\n",
       "div.container{width:85% !important;}\n",
       "div.cell.code_cell.rendered{width:100%;}\n",
       "div.input_prompt{padding:0px;}\n",
       "div.CodeMirror {font-family:Consolas; font-size:12pt;}\n",
       "div.output {font-size:12pt; font-weight:bold;}\n",
       "div.input {font-family:Consolas; font-size:12pt;}\n",
       "div.prompt {min-width:70px;}\n",
       "div#toc-wrapper{padding-top:120px;}\n",
       "div.text_cell_render ul li{font-size:12pt;padding:5px;}\n",
       "table.dataframe{font-size:12px;}\n",
       "</style>\n"
      ],
      "text/plain": [
       "<IPython.core.display.HTML object>"
      ]
     },
     "metadata": {},
     "output_type": "display_data"
    }
   ],
   "source": [
    "from IPython.display import display, HTML\n",
    "display(HTML(\"\"\"\n",
    "<style>\n",
    "div.container{width:85% !important;}\n",
    "div.cell.code_cell.rendered{width:100%;}\n",
    "div.input_prompt{padding:0px;}\n",
    "div.CodeMirror {font-family:Consolas; font-size:12pt;}\n",
    "div.output {font-size:12pt; font-weight:bold;}\n",
    "div.input {font-family:Consolas; font-size:12pt;}\n",
    "div.prompt {min-width:70px;}\n",
    "div#toc-wrapper{padding-top:120px;}\n",
    "div.text_cell_render ul li{font-size:12pt;padding:5px;}\n",
    "table.dataframe{font-size:12px;}\n",
    "</style>\n",
    "\"\"\"))"
   ]
  },
  {
   "cell_type": "markdown",
   "id": "99f2e4e8",
   "metadata": {},
   "source": [
    "<b><font color=\"red\" size=\"6\">ch14. 웹데이터 수집2_동적</font></b>\n",
    "## 3절. 동적 웹데이터 수집\n",
    "### 3.1 문법\n",
    "```\n",
    "pip install selenium\n",
    "```\n",
    "Docs : https://www.selenium.dev/documentation/ <br>\n",
    "        https://selenium-python.readthedocs.io/"
   ]
  },
  {
   "cell_type": "code",
   "execution_count": 2,
   "id": "c266a11c",
   "metadata": {},
   "outputs": [],
   "source": [
    "from selenium import webdriver\n",
    "from selenium.webdriver.common.by import By\n",
    "import time\n",
    "driver = webdriver.Chrome()\n",
    "driver.get(\"http://www.python.org\")\n",
    "elem = driver.find_element(By.NAME, 'q')\n",
    "elem.clear()\n",
    "elem.send_keys('pycon')\n",
    "from selenium.webdriver.common.keys import Keys\n",
    "elem.send_keys(Keys.RETURN) # enter 효과"
   ]
  },
  {
   "cell_type": "code",
   "execution_count": 3,
   "id": "fa573cb1",
   "metadata": {},
   "outputs": [],
   "source": [
    "result_list = driver.find_elements(By.CSS_SELECTOR, 'li > h3 > a')\n",
    "for result in result_list:\n",
    "    print(\"{} - {}\".format(result.text, result.get_attribute('href')) )"
   ]
  },
  {
   "cell_type": "code",
   "execution_count": 4,
   "id": "e079ab49",
   "metadata": {},
   "outputs": [
    {
     "name": "stdout",
     "output_type": "stream",
     "text": [
      "PSF PyCon Trademark Usage Policy -/psf/trademarks/pycon\n",
      "PyCon Italia 2016 (PyCon Sette) -/events/python-events/378/\n",
      "PyCon Australia 2013 -/events/python-events/57/\n",
      "PyCon AU 2019 -/events/python-events/776/\n",
      "PyCon Australia 2014 -/events/python-events/10/\n",
      "PyCon Ireland 2012 -/events/python-events/76/\n",
      "PyCon Ireland 2016 -/events/python-events/429/\n",
      "PyCon Ireland 2022 -/events/python-events/1320/\n",
      "PyCon Australia 2014 -/events/python-events/1447/\n",
      "PyCon Ireland 2024 -/events/python-events/1862/\n",
      "PyCon APAC 2025 -/events/python-events/1879/\n",
      "PyCon AU 2018 -/events/python-events/696/\n",
      "PyCon APAC 2022 -/events/python-events/1216/\n",
      "PyCon PH 2024 -/events/python-events/1661/\n",
      "PyCon Ireland 2023 -/events/python-events/1568/\n",
      "PyCon PL 2014 -/events/python-events/191/\n",
      "PyCon MY 2015 -/events/python-events/313/\n",
      "PyCon Ireland 2015 -/events/python-events/333/\n",
      "PyCon AU 2015 -/events/python-events/273/\n",
      "PyCon Australia 2016 -/events/python-events/357/\n"
     ]
    }
   ],
   "source": [
    "from bs4 import BeautifulSoup\n",
    "soup = BeautifulSoup(driver.page_source, \"html.parser\")\n",
    "result_list = soup.select('li > h3 > a')\n",
    "for result in result_list:\n",
    "    print(\"{} -{}\".format(result.text, result.attrs['href']))"
   ]
  },
  {
   "cell_type": "code",
   "execution_count": 5,
   "id": "eac33fb1",
   "metadata": {},
   "outputs": [
    {
     "name": "stdout",
     "output_type": "stream",
     "text": [
      "현재 주소 : https://www.python.org/search/?q=pycon&submit=\n",
      "parse_url : ParseResult(scheme='https', netloc='www.python.org', path='/search/', params='', query='q=pycon&submit=', fragment='')\n"
     ]
    }
   ],
   "source": [
    "# 셀리니움을 통해 접근한 현재 url\n",
    "from urllib.parse import urlparse\n",
    "current_url = driver.current_url\n",
    "print('현재 주소 :', current_url)\n",
    "parse_url = urlparse(current_url)\n",
    "print('parse_url :', parse_url)\n",
    "domain = f'{parse_url.scheme}://{parse_url.netloc}'"
   ]
  },
  {
   "cell_type": "code",
   "execution_count": 6,
   "id": "2020b291",
   "metadata": {},
   "outputs": [],
   "source": [
    "driver.close() # 브라우저 종료"
   ]
  },
  {
   "cell_type": "markdown",
   "id": "bd38489b",
   "metadata": {},
   "source": [
    "### 3.2 예제\n",
    "### 1) 다음 뉴스 검색"
   ]
  },
  {
   "cell_type": "code",
   "execution_count": 7,
   "id": "5a005530",
   "metadata": {},
   "outputs": [
    {
     "name": "stdout",
     "output_type": "stream",
     "text": [
      "검색하고자 하는 단어는?청바지\n",
      "“추앙받을 만 하네”… 김지원, 셔츠에 청바지만 입어도 공항 ‘정지’ http://v.daum.net/v/20250526182411395\n",
      "이민정, 매장 빌려 폭풍 쇼핑 \"10년 전 샀던 청바지는 응급실\"(MJ) http://v.daum.net/v/20250527191015309\n",
      "흰 티셔츠에 청바지 정석대로 입는 법 http://v.daum.net/v/20250527185425864\n",
      "이민정, 매장 통째로 빌려 청바지 쇼핑…♥이병헌도 놀랄 핏 http://v.daum.net/v/20250527185535885\n",
      "\"청바지가 잘 어울리는 남자\" 재해석…브브걸 감성 리메이크 '희망사항' 발매 http://v.daum.net/v/20250529180842220\n",
      "'의사 그만둔' 고윤정, 흰 티+청바지...\"정석 미녀\" [★해시태그] http://v.daum.net/v/20250522182007490\n",
      "이시영처럼 다리 길어보이고 싶어서 청바지 분석함 [입스타그램] http://v.daum.net/v/20250519172231644\n",
      "\"청렴이 최고\" … 창원특례시 성산구 문화위생과, '청바지 데이' 추진 http://v.daum.net/v/20250511091428626\n",
      "패셔니스타 김지원, 청바지가 어울리는 여자랍니다! [포토] http://v.daum.net/v/20250518220139191\n",
      "박병은 \"류준하로 3개월 활동\"…청바지 모델 시절 언급 http://v.daum.net/v/20250519190323957\n"
     ]
    }
   ],
   "source": [
    "from selenium.webdriver.common.by import By\n",
    "from selenium.webdriver.common.keys import Keys\n",
    "import time\n",
    "driver = webdriver.Chrome()\n",
    "driver.get(\"https://www.daum.net/\")\n",
    "# input 태그를 click\n",
    "time.sleep(1)\n",
    "\n",
    "elem = driver.find_element(By.NAME, 'q').click()\n",
    "query = input('검색하고자 하는 단어는?')\n",
    "driver.find_element(By.CSS_SELECTOR, 'input[type=\"text\"]').send_keys(query)\n",
    "driver.find_element(By.CLASS_NAME, 'btn_ksearch').click()\n",
    "time.sleep(2)\n",
    "# 뉴스탭 클릭 : ul.list_tab > li\n",
    "# driver.find_elements(By.CSS_SELECTOR, 'ul.list_tab >')[3].click()\n",
    "driver.find_element(By.LINK_TEXT, '뉴스').click() # 쉬는 시간 훈련생 제안\n",
    "news_list = []\n",
    "elems = driver.find_elements(By.CSS_SELECTOR, 'div.item-title > strong.tit-g > a')\n",
    "for elem in elems:\n",
    "    title = elem.text\n",
    "    link = elem.get_attribute('href')\n",
    "    news_list.append([title, link])\n",
    "    print(title, link)"
   ]
  },
  {
   "cell_type": "code",
   "execution_count": 8,
   "id": "ac4a18f2",
   "metadata": {},
   "outputs": [],
   "source": [
    "# 2page로\n",
    "page_div = driver.find_element(By.CSS_SELECTOR, 'div.inner_paging')\n",
    "#print(page_div.text)\n",
    "next_page = page_div.find_element(By.LINK_TEXT, '2')\n",
    "next_page.click()"
   ]
  },
  {
   "cell_type": "markdown",
   "id": "af3f5eaf",
   "metadata": {},
   "source": [
    "### 페이징 처리\n",
    "- 다음 뉴스 검색 : 원하는 단어를 page수만큼"
   ]
  },
  {
   "cell_type": "code",
   "execution_count": 11,
   "id": "a35861a9",
   "metadata": {},
   "outputs": [
    {
     "name": "stdout",
     "output_type": "stream",
     "text": [
      "검색하고자 하는 단어?청바지\n",
      "~~ 현재 1페이지 데이터 수집 중입니다 ~~\n",
      "~~ 현재 2페이지 데이터 수집 중입니다 ~~\n",
      "~~ 현재 3페이지 데이터 수집 중입니다 ~~\n"
     ]
    }
   ],
   "source": [
    "from selenium import webdriver\n",
    "from selenium.webdriver.common.by import By\n",
    "from selenium.webdriver.common.keys import Keys\n",
    "import time\n",
    "driver = webdriver.Chrome()\n",
    "driver.get('https://www.daum.net/')\n",
    "# input 태그를 click\n",
    "time.sleep(1)\n",
    "driver.find_element(By.NAME, 'q').click()\n",
    "query = input('검색하고자 하는 단어?')\n",
    "driver.find_element(By.CSS_SELECTOR, 'input[type=\"text\"]').send_keys(query)\n",
    "driver.find_element(By.CLASS_NAME, 'btn_ksearch').click()\n",
    "time.sleep(2)\n",
    "# 뉴스탭 클릭 : ul.list_tab > li\n",
    "# driver.find_elements(By.CSS_SELECTOR, 'ul.list_tab > li')[3].click()\n",
    "driver.find_element(By.LINK_TEXT, '뉴스').click() # 쉬는 시간 훈련생 제안\n",
    "time.sleep(2)\n",
    "news_list = []\n",
    "pages = 3\n",
    "for page in range(1, pages+1):\n",
    "    elems = driver.find_elements(By.CSS_SELECTOR, 'div.item-title > strong.tit-g > a')\n",
    "    for elem in elems:\n",
    "        title = elem.text\n",
    "        link  = elem.get_attribute('href')\n",
    "        news_list.append([title, link])\n",
    "        #print(title, link)\n",
    "    # 2page로\n",
    "    page_div = driver.find_element(By.CSS_SELECTOR, 'div.inner_paging')\n",
    "    #print(page_div.text)\n",
    "    next_page = page_div.find_element(By.LINK_TEXT, str(page+1) )\n",
    "    next_page.click()\n",
    "    time.sleep(1.5)\n",
    "    print(f'~~ 현재 {page}페이지 데이터 수집 중입니다 ~~')\n",
    "driver.close()\n",
    "import pandas as pd\n",
    "df = pd.DataFrame(news_list, columns=['title', 'link'])\n",
    "df.to_csv('data/ch14_daum.csv', index=False)"
   ]
  },
  {
   "cell_type": "markdown",
   "id": "47fa76d5",
   "metadata": {},
   "source": [
    "### 2) 맞춤법 검사기\n",
    "- 네이버 맞춤법 검사기 이용"
   ]
  },
  {
   "cell_type": "code",
   "execution_count": 21,
   "id": "587a662b",
   "metadata": {},
   "outputs": [],
   "source": [
    "# f = open('data/ch14_맞춤법전.txt', 'r', encoding='utf-8')\n",
    "# text = f.read()\n",
    "# f.close()"
   ]
  },
  {
   "cell_type": "code",
   "execution_count": 22,
   "id": "1fc52c07",
   "metadata": {},
   "outputs": [
    {
     "name": "stdout",
     "output_type": "stream",
     "text": [
      "총글자 수 : 1429\n",
      "294\n",
      "298\n",
      "294\n",
      "254\n"
     ]
    },
    {
     "data": {
      "text/plain": [
       "['2025년 5월 3', '\\n러시아는 북부 수', '\\n외교적으로는 미국', '\\n트럼프 대통령은 ', '\\n현재까지 러시아군']"
      ]
     },
     "execution_count": 22,
     "metadata": {},
     "output_type": "execute_result"
    }
   ],
   "source": [
    "# ch14_맞춤법전.txt를 300자이내로 자르기\n",
    "with open('data/ch14_맞춤법전.txt', 'r', encoding='utf-8') as f:\n",
    "    text = f.read()\n",
    "print('총글자 수 :',len(text))\n",
    "ready_list = [] # 맞춤법 검사할 text 내용(300이자 이내로 list)\n",
    "while(len(text) > 300):\n",
    "    temp = text[:300]\n",
    "    new_line_char_index = temp.rfind('\\n')\n",
    "    print(new_line_char_index)\n",
    "    ready_list.append(text[:new_line_char_index])\n",
    "    text = text[new_line_char_index:]\n",
    "ready_list.append(text)\n",
    "[ready[:10] for ready in ready_list]"
   ]
  },
  {
   "cell_type": "code",
   "execution_count": 37,
   "id": "cb997832",
   "metadata": {},
   "outputs": [
    {
     "data": {
      "text/plain": [
       "'2025년 5월 30일 기준, 우크라이나 전쟁은 여전히 격렬하게 진행 중이며, 전선에서는 치열한 교전이 이어지고 있습니다. 러시아군은 하르 키위와 도네츠크 지역에서 공격을 강화하여 세 개의 마을을 점령했다고 발표했습니다. 우크라이나군은 하르키우 북부의 스타리 차와 보우찬스크에서 9차례의 공격을 저지했으며, 도네츠크의 포크로 위스크 방향에서는 66차례의 러시아군 공격을 방어했습니다. 또한, 우크라이나군은 지난 하루 동안 러시아군 병력과 장비 집중 지역 8곳, 지휘소 1곳, 포병 시스템 4기, 방공 자산 1기를 타격했습니다.'"
      ]
     },
     "execution_count": 37,
     "metadata": {},
     "output_type": "execute_result"
    }
   ],
   "source": [
    "from selenium import webdriver\n",
    "from selenium.webdriver.common.by import By\n",
    "from selenium.webdriver.common.keys import Keys\n",
    "import time\n",
    "driver = webdriver.Chrome()\n",
    "time.sleep(0.5)\n",
    "driver.get('https://www.naver.com/')\n",
    "input_elem = driver.find_element(By.CSS_SELECTOR, 'input[name=\"query\"]')\n",
    "input_elem.send_keys('맞춤법 검사기')\n",
    "input_elem.send_keys(Keys.RETURN)\n",
    "time.sleep(0.5)\n",
    "textarea = driver.find_element(By.CLASS_NAME, 'txt_gray')\n",
    "textarea.send_keys(ready_list[0])\n",
    "\n",
    "button = driver.find_element(By.CLASS_NAME, 'btn_check')\n",
    "button.click()\n",
    "time.sleep(2)\n",
    "soup = BeautifulSoup(driver.page_source, \"html.parser\")\n",
    "result = soup.select_one('p._result_text.stand_txt').text\n",
    "result"
   ]
  },
  {
   "cell_type": "code",
   "execution_count": 34,
   "id": "b75ea108",
   "metadata": {},
   "outputs": [],
   "source": [
    "from selenium import webdriver\n",
    "from selenium.webdriver.common.by import By\n",
    "from selenium.webdriver.common.keys import Keys\n",
    "import time\n",
    "driver = webdriver.Chrome()\n",
    "time.sleep(0.5)\n",
    "driver.get('https://www.naver.com/')\n",
    "input_elem = driver.find_element(By.CSS_SELECTOR, 'input[name=\"query\"]')\n",
    "input_elem.send_keys('맞춤법 검사기')\n",
    "input_elem.send_keys(Keys.RETURN)\n",
    "time.sleep(0.5)\n",
    "results = '' # 맞춤법 검사 후 내용\n",
    "textarea = driver.find_element(By.CLASS_NAME, 'txt_gray')\n",
    "\n",
    "for ready in ready_list:\n",
    "    time.sleep(2)    \n",
    "    textarea.send_keys(Keys.CONTROL, 'a') # control + a\n",
    "    textarea.send_keys(ready)\n",
    "\n",
    "    button = driver.find_element(By.CLASS_NAME, 'btn_check')\n",
    "    button.click()\n",
    "    time.sleep(2)\n",
    "    soup = BeautifulSoup(driver.page_source, \"html.parser\")\n",
    "    result = soup.select_one('p._result_text.stand_txt').text\n",
    "    results += result + '\\n\\n'\n",
    "driver.close()\n",
    "with open('data/ch14_맞춤법후.txt', 'w', encoding='utf-8') as f:\n",
    "    f.write(results)"
   ]
  },
  {
   "cell_type": "markdown",
   "id": "89cf4381",
   "metadata": {},
   "source": [
    "### 4절-2 연습문제\n",
    "\n",
    "영어번역 자동화 프로그램을 구현하시오. 네이버 맞춤법 검사를 마친 텍스트를 https://translate.kakao.com/ 를 통해 영어로 번역된 텍스트를 파일로 출력하는 동적 웹크롤링 프로그램을 구현하시오.\n",
    "\n",
    "-번역전 파일 : ch14_맞춤법후.txt\n",
    "\n",
    "-번역후 파일 : 2_자동화영어번역본.txt"
   ]
  },
  {
   "cell_type": "code",
   "execution_count": 40,
   "id": "401a7ca4",
   "metadata": {},
   "outputs": [
    {
     "name": "stdout",
     "output_type": "stream",
     "text": [
      "Nice to see you\n"
     ]
    }
   ],
   "source": [
    "# test\n",
    "from selenium import webdriver\n",
    "from selenium.webdriver.common.by import By\n",
    "from selenium.webdriver.common.keys import Keys\n",
    "import time\n",
    "driver = webdriver.Chrome()\n",
    "time.sleep(0.5)\n",
    "driver.get('https://translate.kakao.com/')\n",
    "textarea = driver.find_element(By.CSS_SELECTOR, 'textarea.translate_area.area_item.translate_many')\n",
    "button = driver.find_element(By.CSS_SELECTOR, 'div.btn_item')\n",
    "textarea.send_keys(\"반갑습니다\")\n",
    "button.click()\n",
    "time.sleep(1)\n",
    "\n",
    "# soup = BeautifulSoup(driver.page_source, \"html.parser\")\n",
    "# result = soup.select_one('div.result_area.translate_many').text\n",
    "result = driver.find_element(By.CSS_SELECTOR, 'div.result_area.translate_many').text\n",
    "print(result)"
   ]
  },
  {
   "cell_type": "code",
   "execution_count": 42,
   "id": "36d89033",
   "metadata": {},
   "outputs": [
    {
     "name": "stdout",
     "output_type": "stream",
     "text": [
      "크롤링 할 text 수 : [880, 543]\n",
      "0.0% 번역 중입니다\n",
      "50.0% 번역 중입니다\n",
      "번역 완료\n"
     ]
    }
   ],
   "source": [
    "# ch14_맞춤법후.txt를 1000자이내로 자르기\n",
    "with open('data/ch14_맞춤법후.txt', 'r', encoding='utf-8') as f:\n",
    "    text = f.read()\n",
    "ready_list = [] # 맞춤법 검사할 text 내용(300이자 이내로 list)\n",
    "while(len(text) > 1000):\n",
    "    temp = text[:1000]\n",
    "    new_line_char_index = temp.rfind('\\n')\n",
    "    ready_list.append(text[:new_line_char_index])\n",
    "    text = text[new_line_char_index:]\n",
    "ready_list.append(text)\n",
    "print('크롤링 할 text 수 :',[len(ready) for ready in ready_list])\n",
    "# 크롤링\n",
    "from selenium import webdriver\n",
    "from selenium.webdriver.common.by import By\n",
    "from selenium.webdriver.common.keys import Keys\n",
    "import time\n",
    "driver = webdriver.Chrome()\n",
    "time.sleep(0.5)\n",
    "driver.get('https://translate.kakao.com/')\n",
    "textarea = driver.find_element(By.CSS_SELECTOR, 'textarea.translate_area.area_item.translate_many')\n",
    "button = driver.find_element(By.CSS_SELECTOR, 'div.btn_item')\n",
    "results = ''\n",
    "for idx, ready in enumerate(ready_list):\n",
    "    print( f'{round(idx/len(ready_list) * 100, 2)}% 번역 중입니다')\n",
    "    textarea.clear()\n",
    "    textarea.send_keys(ready)\n",
    "    button.click()\n",
    "    time.sleep(1)\n",
    "\n",
    "    # soup = BeautifulSoup(driver.page_source, \"html.parser\")\n",
    "    # result = soup.select_one('div.result_area.translate_many').text\n",
    "    result = driver.find_element(By.CSS_SELECTOR, 'div.result_area.translate_many').text\n",
    "    results += result + '\\n\\n'\n",
    "    \n",
    "driver.close()    \n",
    "# 번역한 결과 파일 출력\n",
    "with open('data/ch14_자동화영어번역본.txt', 'w', encoding='utf-8') as f:\n",
    "    f.write(results)\n",
    "print('번역 완료')"
   ]
  },
  {
   "cell_type": "code",
   "execution_count": null,
   "id": "64974d4d",
   "metadata": {},
   "outputs": [],
   "source": []
  },
  {
   "cell_type": "code",
   "execution_count": null,
   "id": "5e29c9cd",
   "metadata": {},
   "outputs": [],
   "source": []
  },
  {
   "cell_type": "code",
   "execution_count": null,
   "id": "9f6f0f90",
   "metadata": {},
   "outputs": [],
   "source": []
  },
  {
   "cell_type": "code",
   "execution_count": null,
   "id": "64503276",
   "metadata": {},
   "outputs": [],
   "source": []
  },
  {
   "cell_type": "code",
   "execution_count": null,
   "id": "f56a660a",
   "metadata": {},
   "outputs": [],
   "source": []
  },
  {
   "cell_type": "code",
   "execution_count": null,
   "id": "3a9550b5",
   "metadata": {},
   "outputs": [],
   "source": []
  },
  {
   "cell_type": "code",
   "execution_count": null,
   "id": "e17c4fb3",
   "metadata": {},
   "outputs": [],
   "source": []
  },
  {
   "cell_type": "code",
   "execution_count": null,
   "id": "7d047e87",
   "metadata": {},
   "outputs": [],
   "source": []
  },
  {
   "cell_type": "code",
   "execution_count": null,
   "id": "c2d05056",
   "metadata": {},
   "outputs": [],
   "source": []
  },
  {
   "cell_type": "code",
   "execution_count": null,
   "id": "c04ef55b",
   "metadata": {},
   "outputs": [],
   "source": []
  },
  {
   "cell_type": "code",
   "execution_count": null,
   "id": "07b5e60c",
   "metadata": {},
   "outputs": [],
   "source": []
  },
  {
   "cell_type": "code",
   "execution_count": null,
   "id": "2d7a6b5d",
   "metadata": {},
   "outputs": [],
   "source": []
  },
  {
   "cell_type": "code",
   "execution_count": null,
   "id": "9359bfed",
   "metadata": {},
   "outputs": [],
   "source": []
  },
  {
   "cell_type": "code",
   "execution_count": null,
   "id": "b5dbe97b",
   "metadata": {},
   "outputs": [],
   "source": []
  }
 ],
 "metadata": {
  "kernelspec": {
   "display_name": "Python 3 (ipykernel)",
   "language": "python",
   "name": "python3"
  },
  "language_info": {
   "codemirror_mode": {
    "name": "ipython",
    "version": 3
   },
   "file_extension": ".py",
   "mimetype": "text/x-python",
   "name": "python",
   "nbconvert_exporter": "python",
   "pygments_lexer": "ipython3",
   "version": "3.10.9"
  },
  "toc": {
   "base_numbering": 1,
   "nav_menu": {},
   "number_sections": false,
   "sideBar": true,
   "skip_h1_title": false,
   "title_cell": "Table of Contents",
   "title_sidebar": "Contents",
   "toc_cell": false,
   "toc_position": {},
   "toc_section_display": true,
   "toc_window_display": false
  }
 },
 "nbformat": 4,
 "nbformat_minor": 5
}
