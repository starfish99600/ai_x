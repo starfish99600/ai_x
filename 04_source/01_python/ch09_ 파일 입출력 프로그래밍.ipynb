{
 "cells": [
  {
   "cell_type": "code",
   "execution_count": 49,
   "id": "a6a36350",
   "metadata": {},
   "outputs": [
    {
     "data": {
      "text/html": [
       "\n",
       "<style>\n",
       "div.container{width:95% !important;}\n",
       "div.cell.code_cell.rendered{width:100%;}\n",
       "div.CodeMirror {font-family:Consolas; font-size:15pt;}\n",
       "div.output {font-size:15pt; font-weight:bold;}\n",
       "div.input {font-family:Consolas; font-size:15pt;}\n",
       "div.prompt {min-width:70px;}\n",
       "div#toc-wrapper{padding-top:120px;}\n",
       "div.text_cell_render ul li{font-size:12pt;padding:5px;}\n",
       "table.dataframe{font-size:15px;}\n",
       "</style>\n"
      ],
      "text/plain": [
       "<IPython.core.display.HTML object>"
      ]
     },
     "metadata": {},
     "output_type": "display_data"
    }
   ],
   "source": [
    "from IPython.display import display, HTML\n",
    "display(HTML(\"\"\"\n",
    "<style>\n",
    "div.container{width:95% !important;}\n",
    "div.cell.code_cell.rendered{width:100%;}\n",
    "div.CodeMirror {font-family:Consolas; font-size:15pt;}\n",
    "div.output {font-size:15pt; font-weight:bold;}\n",
    "div.input {font-family:Consolas; font-size:15pt;}\n",
    "div.prompt {min-width:70px;}\n",
    "div#toc-wrapper{padding-top:120px;}\n",
    "div.text_cell_render ul li{font-size:12pt;padding:5px;}\n",
    "table.dataframe{font-size:15px;}\n",
    "</style>\n",
    "\"\"\"))"
   ]
  },
  {
   "cell_type": "markdown",
   "id": "4b53c906",
   "metadata": {},
   "source": [
    "<b><font color=\"red\" size=\"5\">ch09. 파일 io(입출력) 프로그래밍</font></b>\n",
    "파일 : txt, pickle, csv, json, hdf5(h5)"
   ]
  },
  {
   "cell_type": "markdown",
   "id": "59ef6872",
   "metadata": {},
   "source": [
    "```\n",
    "파일의 형식\n",
    "\n",
    "1. *.txt : \n",
    "-형식: 사람이 읽을 수 있는 일반 텍스트\n",
    "-용도: 간단한 로그, 텍스트 데이터 저장용\n",
    "   김회원, 33, 아무동 9\n",
    "   이회원, 22, 무시기동8\n",
    "\n",
    "2. pickle파일(*.data, *pkl) : 머신러닝 모델 저장용\n",
    "-형식: 바이너리 형태로 파이썬 객체를 직렬화하여 저장\n",
    "-특징: 사람이 읽을 수 없음, 메모리에서 바로 객체로 복원 가능\n",
    "-용도: 머신러닝 모델, 객체 리스트 등 복잡한 구조 저장\n",
    "   객체저장용으로 메모장에서 열수 없음.\n",
    "   객체리스트 저장(머신러닝모델 저장용)\n",
    "\n",
    "3. *.csv 파일\n",
    "-형식: 쉼표로 구분된 텍스트 데이터\n",
    "-용도: 표 형식의 데이터 저장 및 불러오기, 엑셀과 호환\n",
    "   name, age, address\n",
    "   \"김회원\", 33, \"아무동9\"\n",
    "   \"이회원\", 22, \"무시기동9\"\n",
    "\n",
    "4. *.json파일\n",
    "-정의 : JSON은 JavaScript Object Notation의 약자로,\n",
    "데이터를 키-값 쌍(key-value pair) 형태로 표현하는 텍스트 기반의 데이터 포맷\n",
    "-텍스트 기반의 데이터 포맷으로, 딕셔너리나 리스트 형태의 데이터를 저장하는 데 적합.\n",
    "파이썬의 dict, list 구조를 그대로 저장하고 불러올 수 있음\n",
    "\n",
    " [{'name':'김회원', 'age':33, 'address':'아무동9'},\n",
    "{'name':'이회원', 'age':22, 'address':'무시기동9'}]\n",
    "대괄호 []: 리스트(배열)를 나타냅니다.\n",
    "내부에는 중괄호 {}로 구성된 여러 개의 객체가 들어갑니다.\n",
    "들여쓰기를 해서 저장할지 말지를 정할 수 있음.\n",
    "\n",
    "5. *.h5이나 *.hdf5 (=>딥러닝 모델 저장)\n",
    "-정의 : 계층적 구조로 데이터를 저장하는 바이너리 형식의 파일\n",
    "-용도 : 딥러닝, 과학 데이터, 대규모 센서 데이터 저장 등에 많이 사용.\n",
    " HDVview로 읽을 수 있음.\n",
    "/\n",
    "├── model_weights\n",
    "│   ├── dense_1\n",
    "│   ├── dense_2\n",
    "└── model_config\n",
    "파일 안에 또 다른 디렉터리와 파일이 들어 있는 것처럼\n",
    "구조화된 데이터를 저장할 수 있습니다.\n",
    "\n",
    "6. *.xml 엑셀을 가져오는것을 웹 크롤링과 동일함.\n",
    "<font size=\"6\">\n",
    " <custmomer>\n",
    "\t<name> 김회원</name>\n",
    "\t<age>33</age>\n",
    "\t<address>아무동9</address>\n",
    "\n",
    "```"
   ]
  },
  {
   "cell_type": "code",
   "execution_count": null,
   "id": "29a77dd5",
   "metadata": {},
   "outputs": [],
   "source": [
    "#txt 파일 불러오기\n",
    "with open('data.txt', 'r', encoding='utf-8') as f:  # 텍스트 파일을 읽기 모드('r')로 열고, utf-8로 인코딩 설정\n",
    "    for line in f:  # 파일에서 한 줄씩 반복하여 읽기\n",
    "        print(line.strip().split(', '))  # 줄 끝의 개행 문자를 제거하고(', ' 기준으로 분리해서 리스트로 출력)"
   ]
  },
  {
   "cell_type": "code",
   "execution_count": null,
   "id": "be1c50ea",
   "metadata": {},
   "outputs": [],
   "source": [
    "#Pickle 파일 불러오기\n",
    "import pickle  # pickle 모듈은 파이썬 객체를 파일로 저장하고 불러올 때 사용\n",
    "\n",
    "with open('data.pkl', 'rb') as f:  # pickle 파일을 바이너리 읽기 모드('rb')로 열기\n",
    "    loaded_data = pickle.load(f)  # 파일에서 객체를 역직렬화하여 불러오기\n",
    "\n",
    "print(loaded_data)  # 불러온 데이터를 출력\n"
   ]
  },
  {
   "cell_type": "code",
   "execution_count": null,
   "id": "d73686e2",
   "metadata": {},
   "outputs": [],
   "source": [
    "#CSV 파일 불러오기 (pandas 사용)\n",
    "import pandas as pd  # 데이터 분석을 위한 pandas 모듈 불러오기\n",
    "\n",
    "df = pd.read_csv('data.csv')  # csv 파일을 읽어서 DataFrame으로 불러오기\n",
    "\n",
    "print(df)  # 표 형태로 출력\n"
   ]
  },
  {
   "cell_type": "code",
   "execution_count": null,
   "id": "354cc26d",
   "metadata": {},
   "outputs": [],
   "source": [
    "#JSON 파일 불러오기\n",
    "import json  # JSON 형식의 데이터를 다루기 위한 json 모듈 불러오기\n",
    "\n",
    "with open('data.json', 'r', encoding='utf-8') as f:  # json 파일을 읽기 모드로 열기 (한글 깨짐 방지 위해 utf-8 설정)\n",
    "    loaded_data = json.load(f)  # json 파일의 내용을 파이썬 객체(list, dict 등)로 변환하여 불러오기\n",
    "\n",
    "print(loaded_data)  # 불러온 데이터를 출력\n"
   ]
  },
  {
   "cell_type": "code",
   "execution_count": null,
   "id": "6701caff",
   "metadata": {},
   "outputs": [],
   "source": [
    "#*.h5이나 *.hdf5 파일 저장\n",
    "model.save('model.h5')  # 모델 전체(구조 + 가중치 + 옵티마이저 상태 등) 저장"
   ]
  },
  {
   "cell_type": "code",
   "execution_count": null,
   "id": "a7b1dff6",
   "metadata": {},
   "outputs": [],
   "source": [
    "#*.h5이나 *.hdf5 파일 불러오기\n",
    "from tensorflow.keras.models import load_model\n",
    "\n",
    "model = load_model('model.h5')  # 저장된 모델 불러오기"
   ]
  },
  {
   "cell_type": "code",
   "execution_count": null,
   "id": "6b2a4635",
   "metadata": {},
   "outputs": [],
   "source": [
    "#*.h5py 모듈사용 일반적인 데이터 저장\n",
    "import h5py\n",
    "import numpy as np\n",
    "\n",
    "# 데이터 저장\n",
    "with h5py.File('data.h5', 'w') as f:\n",
    "    f.create_dataset('dataset1', data=np.arange(10))  # 'dataset1'에 배열 저장\n",
    "\n",
    "# 데이터 불러오기\n",
    "with h5py.File('data.h5', 'r') as f:\n",
    "    data = f['dataset1'][:]  # 전체 데이터를 numpy 배열로 불러옴\n",
    "    print(data)"
   ]
  },
  {
   "cell_type": "markdown",
   "id": "378482cb",
   "metadata": {},
   "source": [
    "# 1절. txt파일에 데이터 저장하고 불러오기"
   ]
  },
  {
   "cell_type": "code",
   "execution_count": 3,
   "id": "d2ae08d0",
   "metadata": {},
   "outputs": [
    {
     "name": "stdout",
     "output_type": "stream",
     "text": [
      "[Errno 2] No such file or directory: 'dat/ch09.txt'\n"
     ]
    }
   ],
   "source": [
    "try :  \n",
    "    f = open('dat/ch09.txt', 'w')     # 'dat' 폴더 아래에 'ch09.txt' 파일을 쓰기 모드로 열기  \n",
    "except FileNotFoundError as e:        # 폴더가 존재하지 않아 파일을 열지 못하면 예외 발생  \n",
    "    print(e)                          # 예외 메시지 출력  \n",
    "finally:  \n",
    "    f.close()                         # 파일을 닫음 (하지만 f가 정의되지 않았을 경우 오류 발생 가능)"
   ]
  },
  {
   "cell_type": "code",
   "execution_count": 4,
   "id": "ca2d61f6",
   "metadata": {},
   "outputs": [
    {
     "name": "stdout",
     "output_type": "stream",
     "text": [
      "쓰기 가능한지 여부 : True\n"
     ]
    }
   ],
   "source": [
    "f = open('data/ch09.txt','w') \n",
    "print('쓰기 가능한지 여부 :', f.writable())"
   ]
  },
  {
   "cell_type": "code",
   "execution_count": 5,
   "id": "a6d70162",
   "metadata": {},
   "outputs": [],
   "source": [
    "f.write('Hello\\nWorld')  \n",
    "#write() : 파일 객체(f)에 문자열 데이터를 한 줄 또는 여러 줄로 기록하는 함수\n",
    "#문자열만 쓸 수 있음.\n",
    "#숫자나 리스트 등을 쓰려면 문자열로 **변환(str())**해야 함.\n",
    "f.close() # close()쓰기한 내용이 저장x"
   ]
  },
  {
   "cell_type": "code",
   "execution_count": 2,
   "id": "2082c7f3",
   "metadata": {},
   "outputs": [
    {
     "name": "stdout",
     "output_type": "stream",
     "text": [
      "쓰기 가능한지 여부 : True\n"
     ]
    }
   ],
   "source": [
    "#with 문을 사용하여 위와 동일한 문장을 작성\n",
    "with open('data/ch09.txt', 'w') as f:\n",
    "    print('쓰기 가능한지 여부 :', f.writable())\n",
    "    f.write('Hello\\nPython')"
   ]
  },
  {
   "cell_type": "code",
   "execution_count": null,
   "id": "76a235da",
   "metadata": {},
   "outputs": [],
   "source": [
    "#파일열기 mode 요약(open()함수에서 사용) \n",
    "    #'r' 또는 'rt' : text 읽기모드(파일이 없는 경우 예외발생)\n",
    "    # 'rb' : 이미지, 오디오, 모델 파일 등 바이너리 데이터 읽기용\n",
    "    # 'w' 또는 'wt' : text쓰기 모드(파일이 있으면 기존 내용 삭제 후 새로 씀, 파일이 없으면 파일 생성)\n",
    "    # 'wb' : 바이너리 데이터를 쓰기 위해 사용 (ex: 이미지 저장 등)\n",
    "    # 'a' 또는 'at' : text 추가모드(파일이 있으면 append, 파일이 없으면 파일 생성)\n",
    "    # 읽기모드에서 파일이 없으면 예외발생 / 쓰기모드에서는 폴더가 없으면 예외발생\n",
    "# encoding : 인코딩은 문자를 컴퓨터가 이해할 수 있는 이진값으로 변환하는 방식\n",
    "    # euc-kr (한글 완성형) 믜x\n",
    "    # cp949 (euc-kr 한글 완성형) : open() 함수 기본 encoding방식(window 운영체제 에서)\n",
    "    # utf-8 (한글 조합형) : open() 함수 기본 encoding방식(mac, linux 운영체제 에서)"
   ]
  },
  {
   "cell_type": "code",
   "execution_count": 5,
   "id": "0154cec9",
   "metadata": {},
   "outputs": [],
   "source": [
    "with open('data/ch09.txt', 'w') as f:\n",
    "    # 1방법\n",
    "    f.write('홍길동, 33, 아무동9\\n')\n",
    "    f.write('김길동, 33, 아무동9\\n')\n",
    "    # 2방법\n",
    "    textlist = ['홍길동, 33, 아무동9\\n', '김길동, 33, 아무동9\\n']\n",
    "    for line in textlist:\n",
    "        f.write(line)\n",
    "    # 3방법\n",
    "    f.writelines(textlist) #위쪽의 리스트 textlist = ['홍길동, 33, 아무동9\\n', '김길동, 33, 아무동9\\n']"
   ]
  },
  {
   "cell_type": "code",
   "execution_count": 6,
   "id": "b09a8d86",
   "metadata": {},
   "outputs": [
    {
     "name": "stdout",
     "output_type": "stream",
     "text": [
      "홍길동, 33, 아무동9\n",
      "김길동, 33, 아무동9\n",
      "홍길동, 33, 아무동9\n",
      "김길동, 33, 아무동9\n",
      "홍길동, 33, 아무동9\n",
      "김길동, 33, 아무동9\n"
     ]
    }
   ],
   "source": [
    "#한줄씩 읽기\n",
    "with open('data/ch09.txt', 'r') as f:\n",
    "    line = f.readline()\n",
    "    while line!='':\n",
    "        print(line, end='')\n",
    "        line = f.readline()"
   ]
  },
  {
   "cell_type": "code",
   "execution_count": 9,
   "id": "98505703",
   "metadata": {},
   "outputs": [
    {
     "name": "stdout",
     "output_type": "stream",
     "text": [
      "['홍길동, 33, 아무동9\\n', '김길동, 33, 아무동9\\n', '홍길동, 33, 아무동9\\n', '김길동, 33, 아무동9\\n', '홍길동, 33, 아무동9\\n', '김길동, 33, 아무동9\\n']\n"
     ]
    }
   ],
   "source": [
    "#모든 줄을 읽기\n",
    "with open('data/ch09.txt', 'r') as f:\n",
    "    lines = f.readlines()\n",
    "    print(lines)"
   ]
  },
  {
   "cell_type": "code",
   "execution_count": 11,
   "id": "d090f23a",
   "metadata": {},
   "outputs": [
    {
     "data": {
      "text/plain": [
       "'홍길동, 33, 아무동9\\n김길동, 33, 아무동9\\n홍길동, 33, 아무동9\\n김길동, 33, 아무동9\\n홍길동, 33, 아무동9\\n김길동, 33, 아무동9\\n'"
      ]
     },
     "execution_count": 11,
     "metadata": {},
     "output_type": "execute_result"
    }
   ],
   "source": [
    "#모두 읽기\n",
    "with open('data/ch09.txt', 'r') as f:\n",
    "    lines = f.read()\n",
    "lines"
   ]
  },
  {
   "cell_type": "markdown",
   "id": "86c36daa",
   "metadata": {},
   "source": [
    "# 2절. 피클을 이용한 객체 저장 및 불러오기"
   ]
  },
  {
   "cell_type": "markdown",
   "id": "d9a73413",
   "metadata": {},
   "source": [
    "## 2.1 형식이 있는 txt 데이터 불러오기"
   ]
  },
  {
   "cell_type": "code",
   "execution_count": 16,
   "id": "0cf1bf73",
   "metadata": {},
   "outputs": [],
   "source": [
    "class Member:\n",
    "    def __init__(self, name, age, email, address): # 생성자: Member 객체를 만들 때 실행됨\n",
    "        self.name = name\n",
    "        self.age = age\n",
    "        self.email = email\n",
    "        self.address = address\n",
    "    def __str__(self): # 객체를 문자열로 표현할 때 사용 (print 함수로 출력 시)\n",
    "        return \"{}, {}, {}, {}\".format(self.name,\n",
    "                                      \"성년\" if self.age>18 else \"미성년\",\n",
    "                                      self.email,\n",
    "                                      self.address)\n",
    "    def as_dict(self): # 객체를 딕셔너리로 변환 (JSON 등으로 저장하거나 처리할 때 유용)\n",
    "        return {\n",
    "            'name':self.name,\n",
    "            'age':self.age,\n",
    "            'email':self.email,\n",
    "            'address':self.address\n",
    "                }\n",
    "    def __eq__(self, other): # 두 객체를 비교할 때 (==) 자동으로 호출되는 특별한 메서드(연산자 오버라이딩)\n",
    "        return self.name == other.name and \\\n",
    "               self.age==other.age and \\\n",
    "               self.email==other.email and \\\n",
    "               self.address==other.address"
   ]
  },
  {
   "cell_type": "code",
   "execution_count": 17,
   "id": "43d6b206",
   "metadata": {},
   "outputs": [
    {
     "name": "stdout",
     "output_type": "stream",
     "text": [
      "True\n",
      "True\n"
     ]
    }
   ],
   "source": [
    "user1= Member('홍',20,'a@a.com','신림동')\n",
    "user2= Member('홍',20,'a@a.com','신림동')\n",
    "print(user1==user2)\n",
    "print(user1.__eq__(user2)) # 같은 내용이면 True"
   ]
  },
  {
   "cell_type": "code",
   "execution_count": 25,
   "id": "b997f112",
   "metadata": {},
   "outputs": [],
   "source": [
    "# 형식이 있는 txt 파일 내용을 member list(피클저장), 딕셔너리 list(데이터프레임)로 저장\n",
    "user_list = [] # member list\n",
    "user_dict = [] # 딕셔너리 list\n",
    "with open('data/ch09_member.txt', 'r', encoding='utf-8') as t:\n",
    "    lines = t.readlines()\n",
    "# print(lines)\n",
    "for line in lines:\n",
    "    data = line.split(',')\n",
    "    #print(data)\n",
    "    name = data[0]\n",
    "    age = int(data[1].strip()) #strip(): 좌우공백(space, \\t, \\n) 제거\n",
    "    email = data[2].strip()\n",
    "    address = data[3].strip()\n",
    "    user = Member(name, age, email, address)\n",
    "    user_list.append(user)\n",
    "    user_dict.append(user.as_dict())\n",
    "    #user_dict.append(user.__dict__)"
   ]
  },
  {
   "cell_type": "code",
   "execution_count": 26,
   "id": "3fdffac5",
   "metadata": {},
   "outputs": [
    {
     "name": "stdout",
     "output_type": "stream",
     "text": [
      "홍길동, 성년, kildong@hong.com, 서울시 관악구\n",
      "홍길숙, 성년, kilsuk1@hong.com, 서울시 영등포구\n",
      "신길동, 성년, shinkil@hong.com, 서울시 동작구\n"
     ]
    }
   ],
   "source": [
    "for user in user_list:\n",
    "    print(user)"
   ]
  },
  {
   "cell_type": "markdown",
   "id": "8c48bfc2",
   "metadata": {},
   "source": [
    "## 2.2 피클링\n",
    "- 파이썬의 객체(예: 리스트, 클래스 인스턴스 등)를 파일로 저장하거나, 저장된 파일로부터 객체를 복원하는 과정입니다.\n",
    "- 사용하는 모듈: import pickle\n",
    "- 객체 리스트 → 파일로 저장 훈련 데이터, 모델 설정, 사용자 정보 등 저장\n",
    "- 파일 → 객체 리스트 복원 프로그램 종료 후에도 데이터 그대로 복원 가능\n",
    "- 객체 리스트 -> 피클파일로 쓰기\n",
    "- 피클 파일을 읽기 -> 객체 리스트(load_list)"
   ]
  },
  {
   "cell_type": "code",
   "execution_count": 28,
   "id": "c365c02b",
   "metadata": {},
   "outputs": [],
   "source": [
    "# 피클링을 이용한 객체를 저장하기\n",
    "import pickle # pickle: 객체 저장/복원 기능을 가진 내장 모듈 (설치 없이 바로 사용 가능)\n",
    "with open('data/ch09_mamber.data', 'wb') as f:  # 'wb'는 binary write\n",
    "    pickle.dump(user_list, f)"
   ]
  },
  {
   "cell_type": "code",
   "execution_count": 31,
   "id": "c404f3da",
   "metadata": {},
   "outputs": [],
   "source": [
    "# 피클링을 이용한 파일에서 객체 데이터로 읽기\n",
    "with open('data/ch09_mamber.data', 'rb') as f:\n",
    "    load_user_list = pickle.load(f)"
   ]
  },
  {
   "cell_type": "code",
   "execution_count": 32,
   "id": "e0254eea",
   "metadata": {},
   "outputs": [
    {
     "data": {
      "text/plain": [
       "True"
      ]
     },
     "execution_count": 32,
     "metadata": {},
     "output_type": "execute_result"
    }
   ],
   "source": [
    "user_list == load_user_list"
   ]
  },
  {
   "cell_type": "code",
   "execution_count": 35,
   "id": "a44025cc",
   "metadata": {},
   "outputs": [
    {
     "name": "stdout",
     "output_type": "stream",
     "text": [
      "0 홍길동, 성년, kildong@hong.com, 서울시 관악구\n",
      "0 홍길동, 성년, kildong@hong.com, 서울시 관악구\n",
      "1 홍길숙, 성년, kilsuk1@hong.com, 서울시 영등포구\n",
      "1 홍길숙, 성년, kilsuk1@hong.com, 서울시 영등포구\n",
      "2 신길동, 성년, shinkil@hong.com, 서울시 동작구\n",
      "2 신길동, 성년, shinkil@hong.com, 서울시 동작구\n"
     ]
    }
   ],
   "source": [
    "for idx in range(len(user_list)):\n",
    "    print(idx, user[idx])\n",
    "    print(idx, load_user_list[idx])"
   ]
  },
  {
   "cell_type": "code",
   "execution_count": 41,
   "id": "9469b126",
   "metadata": {},
   "outputs": [
    {
     "name": "stdout",
     "output_type": "stream",
     "text": [
      "0 홍길동, 성년, kildong@hong.com, 서울시 관악구\n",
      "0 홍길동, 성년, kildong@hong.com, 서울시 관악구\n",
      "True\n",
      "1 홍길숙, 성년, kilsuk1@hong.com, 서울시 영등포구\n",
      "1 홍길숙, 성년, kilsuk1@hong.com, 서울시 영등포구\n",
      "True\n",
      "2 신길동, 성년, shinkil@hong.com, 서울시 동작구\n",
      "2 신길동, 성년, shinkil@hong.com, 서울시 동작구\n",
      "True\n"
     ]
    }
   ],
   "source": [
    "for idx, (user, load_user) in enumerate(zip(user_list, load_user_list)):\n",
    "    print(idx, user)\n",
    "    print(idx, load_user)\n",
    "    print(user==load_user)"
   ]
  },
  {
   "cell_type": "code",
   "execution_count": 43,
   "id": "00e84aee",
   "metadata": {},
   "outputs": [
    {
     "data": {
      "text/plain": [
       "True"
      ]
     },
     "execution_count": 43,
     "metadata": {},
     "output_type": "execute_result"
    }
   ],
   "source": [
    "result = []\n",
    "for user, load_user in zip(user_list, load_user_list):\n",
    "    result.append(user==load_user)\n",
    "all(result)"
   ]
  },
  {
   "cell_type": "markdown",
   "id": "caea4238",
   "metadata": {},
   "source": [
    "# 3절. CSV형식 파일 읽기/쓰기\n",
    "- 쉼표로 구분된 텍스트 데이터 파일입니다. 엑셀에서도 열 수 있는 파일 형식이죠.\n",
    "- CSV파일 -> 리스트데이터로 읽기 또는 리스트데이터를 CSV파일로 저장 3.1 CSV → 리스트, 3.2 리스트 → CSV\n",
    "- CSV파일을 읽어서 딕셔너리로 읽기 또는 딕셔너리 데이터를 CSV파일로 저장 3.3 CSV → 딕셔너리, 3.4 딕셔너리 → CSV"
   ]
  },
  {
   "cell_type": "markdown",
   "id": "632477d1",
   "metadata": {},
   "source": [
    "## 3.1 reader : CSV파일을 가져다가 리스트로 저장"
   ]
  },
  {
   "cell_type": "code",
   "execution_count": 45,
   "id": "2b1f6393",
   "metadata": {},
   "outputs": [
    {
     "name": "stdout",
     "output_type": "stream",
     "text": [
      "[['홍길동', '20', 'kildong@hong.com', '서울시 관악구'], ['김길동', '40', 'kimdong@hong.com', '서울시 영등포구'], ['신길동', '30', 'sindong@hong.com', '서울시 동작구']]\n"
     ]
    }
   ],
   "source": [
    "import csv # CSV 파일을 다루기 위한 표준 모듈 불러오기\n",
    "with open('data/ch09_member1.csv', 'r', encoding='utf-8') as f:\n",
    "    reader = csv.reader(f) # 파일을 CSV 형식으로 읽을 수 있는 reader 객체 생성\n",
    "    print(list(reader))"
   ]
  },
  {
   "cell_type": "code",
   "execution_count": 46,
   "id": "82a0e946",
   "metadata": {},
   "outputs": [
    {
     "name": "stdout",
     "output_type": "stream",
     "text": [
      "[['홍길동', 20.0, 'kildong@hong.com', '서울시 관악구'], ['김길동', 40.0, 'kimdong@hong.com', '서울시 영등포구'], ['신길동', 30.0, 'sindong@hong.com', '서울시 동작구']]\n"
     ]
    }
   ],
   "source": [
    "# \"\"(따옴표)가 없는 데이터는 numeric으로\n",
    "import csv # CSV 파일을 다루기 위한 표준 모듈 불러오기\n",
    "with open('data/ch09_member1.csv', 'r', encoding='utf-8') as f:\n",
    "    reader = csv.reader(f,\n",
    "                       quoting=csv.QUOTE_NONNUMERIC)\n",
    "    result = list(reader)\n",
    "print(result)"
   ]
  },
  {
   "cell_type": "code",
   "execution_count": 47,
   "id": "8e0e05fe",
   "metadata": {},
   "outputs": [
    {
     "name": "stdout",
     "output_type": "stream",
     "text": [
      "[{'naeme': '홍길동', 'age': 20, 'email': 'kildong@hong.com', 'address': '서울시 관악구'}, {'naeme': '김길동', 'age': 40, 'email': 'kimdong@hong.com', 'address': '서울시 영등포구'}, {'naeme': '신길동', 'age': 30, 'email': 'sindong@hong.com', 'address': '서울시 동작구'}]\n"
     ]
    }
   ],
   "source": [
    "#딕셔너리 형태로 변경\n",
    "import csv # CSV 파일을 다루기 위한 표준 모듈 불러오기\n",
    "with open('data/ch09_member1.csv', 'r', encoding='utf-8') as f:\n",
    "    reader = csv.reader(f,\n",
    "                       quoting=csv.QUOTE_NONNUMERIC)\n",
    "    result = list(reader)\n",
    "dict_list = []\n",
    "for data in result:\n",
    "    dict_list.append({\n",
    "        'naeme':data[0],\n",
    "        'age':int(data[1]),\n",
    "        'email':data[2],\n",
    "        'address':data[3]        \n",
    "    })\n",
    "print(dict_list)"
   ]
  },
  {
   "cell_type": "markdown",
   "id": "55198d2f",
   "metadata": {},
   "source": [
    "## 3.2 writer(리스트 데이터를 csv파일로 변환하는 법)"
   ]
  },
  {
   "cell_type": "code",
   "execution_count": 48,
   "id": "da8ee111",
   "metadata": {},
   "outputs": [],
   "source": [
    "user_list = [['홍길동', 20, 'kildong@hong.com', '서울시 관악구'], \n",
    "             ['김길동', 40, 'kimdong@hong.com', '서울시 영등포구']]"
   ]
  },
  {
   "cell_type": "code",
   "execution_count": 49,
   "id": "9fc7510b",
   "metadata": {},
   "outputs": [],
   "source": [
    "with open('data/ch09_menber1_write.csv', 'a', newline='', encoding='utf-8') as f: \n",
    "#'a'\tappend(이어쓰기) 모드\n",
    "# newline=''\t윈도우에서 줄바꿈 오류 방지\n",
    "# writer = csv.writer(f)\t파일을 csv 쓰기용 객체로 준비\n",
    "# writer.writerows(user_list)\t2차원 리스트를 줄마다 하나씩 파일에 저장\n",
    "    writer = csv.writer(f)   # writer 객체 생성\n",
    "    writer.writerows(user_list)  # 여러 줄(행)을 한꺼번에 저장"
   ]
  },
  {
   "cell_type": "code",
   "execution_count": 50,
   "id": "1be63f95",
   "metadata": {},
   "outputs": [],
   "source": [
    "with open('data/ch09_menber1_write.csv', 'a', newline='', encoding='utf-8') as f: \n",
    "    writer = csv.writer(f, quoting=csv.QUOTE_NONNUMERIC)\n",
    "    writer.writerows(user_list)"
   ]
  },
  {
   "cell_type": "markdown",
   "id": "14be43cd",
   "metadata": {},
   "source": [
    "## 3.3 DictReader"
   ]
  },
  {
   "cell_type": "code",
   "execution_count": 52,
   "id": "50da1452",
   "metadata": {},
   "outputs": [
    {
     "name": "stdout",
     "output_type": "stream",
     "text": [
      "{'name': '홍길동', 'age': '20', 'email': 'h@h.com', 'address': '서울시 관악구', 'job': None}\n",
      "{'name': '신길동', 'age': '40', 'email': 's@h.com', 'address': '서울시 영등포구', 'job': '팀장'}\n",
      "{'name': '김길동', 'age': '30', 'email': 'k@h.com', 'address': '서울시 동작구', 'job': None}\n"
     ]
    }
   ],
   "source": [
    "# CSV 파일을 딕셔너리로 변경하는 방법\n",
    "with open('data/ch09_member3.csv', 'r', encoding='utf-8') as f:\n",
    "    dict_reader = csv.DictReader(f)\n",
    "    for row in dict_reader:\n",
    "        print(row)"
   ]
  },
  {
   "cell_type": "code",
   "execution_count": 2,
   "id": "428e53cc",
   "metadata": {},
   "outputs": [
    {
     "name": "stdout",
     "output_type": "stream",
     "text": [
      "[{'name': '홍길동', 'age': '20', 'email': 'h@h.com', 'address': '서울시 관악구', 'job': None}, {'name': '신길동', 'age': '40', 'email': 's@h.com', 'address': '서울시 영등포구', 'job': '팀장'}, {'name': '김길동', 'age': '30', 'email': 'k@h.com', 'address': '서울시 동작구', 'job': None}]\n",
      "홍길동 20 h@h.com 서울시 관악구\n",
      "신길동 40 s@h.com 서울시 영등포구 팀장\n",
      "김길동 30 k@h.com 서울시 동작구\n"
     ]
    }
   ],
   "source": [
    "import csv\n",
    "with open('data/ch09_member3.csv', 'r', encoding='utf-8') as f:\n",
    "    dict_reader = csv.DictReader(f) \n",
    "# csv.DictReader : CSV 파일을 읽을 때, 각 줄(row)을 딕셔너리(dict) 형태로 변환해주는 도구\n",
    "    dict_list = list(dict_reader)\n",
    "print(dict_list)\n",
    "for row in dict_list:\n",
    "    if row['job'] is None:\n",
    "        print(row['name'], row['age'], row['email'], row['address'])\n",
    "    else:\n",
    "        print(row['name'], row['age'], row['email'], row['address'], row['job'])"
   ]
  },
  {
   "cell_type": "code",
   "execution_count": 3,
   "id": "9d67e898",
   "metadata": {},
   "outputs": [
    {
     "name": "stdout",
     "output_type": "stream",
     "text": [
      "{'Name': '홍길동', 'Age': '20', 'Email': 'kildong@hong.com', 'Address': '서울시 관악구', 'Job': ''}\n",
      "{'Name': '김길동', 'Age': '40', 'Email': 'kimdong@hong.com', 'Address': '서울시 영등포구', 'Job': '팀장'}\n",
      "{'Name': '신길동', 'Age': '30', 'Email': 'sindong@hong.com', 'Address': '서울시 동작구', 'Job': ''}\n"
     ]
    }
   ],
   "source": [
    "#header가 없는 csv파일(ch09_member1-cp.csv)을 딕셔너리로 읽기\n",
    "with open('data/ch09_member1-cp.csv', encoding='cp949') as f:\n",
    "    dict_reader = csv.DictReader(f,\n",
    "                                fieldnames=['Name','Age','Email','Address','Job'])\n",
    "    result = list(dict_reader)\n",
    "for row in result:\n",
    "    print(row)"
   ]
  },
  {
   "cell_type": "code",
   "execution_count": 4,
   "id": "10ad75db",
   "metadata": {},
   "outputs": [
    {
     "name": "stdout",
     "output_type": "stream",
     "text": [
      "{'Name': '홍길동', 'Age': '20', 'Email': 'kildong@hong.com', 'Address': '서울시 관악구', 'job': ['']}\n",
      "{'Name': '김길동', 'Age': '40', 'Email': 'kimdong@hong.com', 'Address': '서울시 영등포구', 'job': ['팀장']}\n",
      "{'Name': '신길동', 'Age': '30', 'Email': 'sindong@hong.com', 'Address': '서울시 동작구', 'job': ['']}\n"
     ]
    }
   ],
   "source": [
    "#header가 없는 csv파일(ch09_member1-cp.csv)을 딕셔너리로 읽기\n",
    "with open('data/ch09_member1-cp.csv', encoding='cp949') as f:\n",
    "    dict_reader = csv.DictReader(f,\n",
    "                                fieldnames=['Name','Age','Email','Address'],\n",
    "                                restkey='job')\n",
    "    result = list(dict_reader)\n",
    "for row in result:\n",
    "    print(row)"
   ]
  },
  {
   "cell_type": "markdown",
   "id": "a1f3fbe7",
   "metadata": {},
   "source": [
    "## 3.4 DictWriter\n",
    "- 파이썬의 csv 모듈에서 제공하는 기능으로,딕셔너리 형태의 데이터를 CSV 파일로 저장할 수 있게 해주는 클래스\n",
    "- 딕셔너리 리스트->CSV파일"
   ]
  },
  {
   "cell_type": "code",
   "execution_count": 10,
   "id": "38c4191b",
   "metadata": {},
   "outputs": [],
   "source": [
    "user1 = {'name':'홍길동','age':22, 'email':'a@a.com', 'address':'신림동'}\n",
    "user2 = {'name':'신길동','age':32, 'email':'a@a.com', 'address':'신림동'}\n",
    "user3 = {'name':'김길동','age':42, 'email':'a@a.com', 'address':'신림동'}\n",
    "user_list = [user1, user2, user3]\n",
    "fieldnames = list(user1.keys()) #fieldnames는 DictWriter에서 CSV 파일의 열 이름(헤더) 를 지정해주는 리스트입니다."
   ]
  },
  {
   "cell_type": "code",
   "execution_count": 11,
   "id": "8f60d95a",
   "metadata": {},
   "outputs": [],
   "source": [
    "with open('data/ch09_member4.csv', 'w', encoding='utf-8', newline='') as f:\n",
    "    dict_writer = csv.DictWriter(f,\n",
    "                                fieldnames=fieldnames)\n",
    "    dict_writer.writeheader() #header 쓰기\n",
    "    dict_writer.writerows(user_list)"
   ]
  },
  {
   "cell_type": "markdown",
   "id": "89c6daef",
   "metadata": {},
   "source": [
    "## CSV<->데이터프레임"
   ]
  },
  {
   "cell_type": "code",
   "execution_count": 15,
   "id": "64ff4df1",
   "metadata": {},
   "outputs": [],
   "source": [
    "# 데이터프레임 : 엑셀 표처럼 생긴 데이터 구조예요. 행(row)과 열(column)로 구성된 2차원 표 형태의 데이터입니다.\n",
    "# pandas의 역할 : pandas는 **표 형태의 데이터(테이블)**를 다루는 데 특화된 라이브러리입니다.\n",
    "# CSV 파일을 읽으면 → 데이터프레임, 데이터프레임을 저장하면 → CSV 파일이 됩니다.\n",
    "# 작업 :CSV → DataFrame 함수: pd.read_csv() 설명: 파일을 읽어 표 형태로 변환\n",
    "# 작업 : DataFrame → CSV 함수: df.to_csv() 설명 :표 형태를 파일로 저장"
   ]
  },
  {
   "cell_type": "code",
   "execution_count": 14,
   "id": "5e167ace",
   "metadata": {},
   "outputs": [
    {
     "data": {
      "text/html": [
       "<div>\n",
       "<style scoped>\n",
       "    .dataframe tbody tr th:only-of-type {\n",
       "        vertical-align: middle;\n",
       "    }\n",
       "\n",
       "    .dataframe tbody tr th {\n",
       "        vertical-align: top;\n",
       "    }\n",
       "\n",
       "    .dataframe thead th {\n",
       "        text-align: right;\n",
       "    }\n",
       "</style>\n",
       "<table border=\"1\" class=\"dataframe\">\n",
       "  <thead>\n",
       "    <tr style=\"text-align: right;\">\n",
       "      <th></th>\n",
       "      <th>name</th>\n",
       "      <th>age</th>\n",
       "      <th>email</th>\n",
       "      <th>address</th>\n",
       "      <th>job</th>\n",
       "    </tr>\n",
       "  </thead>\n",
       "  <tbody>\n",
       "    <tr>\n",
       "      <th>0</th>\n",
       "      <td>홍길동</td>\n",
       "      <td>20</td>\n",
       "      <td>h@h.com</td>\n",
       "      <td>서울시 관악구</td>\n",
       "      <td>NaN</td>\n",
       "    </tr>\n",
       "    <tr>\n",
       "      <th>1</th>\n",
       "      <td>신길동</td>\n",
       "      <td>40</td>\n",
       "      <td>s@h.com</td>\n",
       "      <td>서울시 영등포구</td>\n",
       "      <td>팀장</td>\n",
       "    </tr>\n",
       "    <tr>\n",
       "      <th>2</th>\n",
       "      <td>김길동</td>\n",
       "      <td>30</td>\n",
       "      <td>k@h.com</td>\n",
       "      <td>서울시 동작구</td>\n",
       "      <td>NaN</td>\n",
       "    </tr>\n",
       "  </tbody>\n",
       "</table>\n",
       "</div>"
      ],
      "text/plain": [
       "  name  age    email   address  job\n",
       "0  홍길동   20  h@h.com   서울시 관악구  NaN\n",
       "1  신길동   40  s@h.com  서울시 영등포구   팀장\n",
       "2  김길동   30  k@h.com   서울시 동작구  NaN"
      ]
     },
     "execution_count": 14,
     "metadata": {},
     "output_type": "execute_result"
    }
   ],
   "source": [
    "# 작업 :CSV → DataFrame 함수: pd.read_csv() 설명: 파일을 읽어 표 형태로 변환\n",
    "import pandas as pd\n",
    "member = pd.read_csv('data/ch09_member3.csv')\n",
    "member"
   ]
  },
  {
   "cell_type": "code",
   "execution_count": 16,
   "id": "919bf148",
   "metadata": {},
   "outputs": [
    {
     "data": {
      "text/plain": [
       "pandas.core.frame.DataFrame"
      ]
     },
     "execution_count": 16,
     "metadata": {},
     "output_type": "execute_result"
    }
   ],
   "source": [
    "type(member)"
   ]
  },
  {
   "cell_type": "markdown",
   "id": "3b39c7ae",
   "metadata": {},
   "source": [
    "# 4절. JSON 데이터 저장하고 불러오기(dump, load)\n",
    "- 딕셔너리리스트<->JSON파일(기본)\n",
    "- 객체리스트<->JSON파일"
   ]
  },
  {
   "cell_type": "markdown",
   "id": "b48ce28e",
   "metadata": {},
   "source": [
    "## 4.1 dump(파일출력)"
   ]
  },
  {
   "cell_type": "code",
   "execution_count": 20,
   "id": "aea3fd76",
   "metadata": {},
   "outputs": [],
   "source": [
    "data = [{'name':'홍길동','age':20, 'email':'kildong@hong.com', 'address':'서울'},\n",
    "        {'name':'김길동','age':30, 'email':'kildong@hong.com', 'address':'인천'}]"
   ]
  },
  {
   "cell_type": "code",
   "execution_count": 22,
   "id": "db6563cd",
   "metadata": {},
   "outputs": [],
   "source": [
    "# ensure_ascil 매개변수\n",
    "    # True : 비ASCII문은 유니코드 형태로 저장\n",
    "    # False : 비 ASCII문자 원래 형태로 저장\n",
    "import json\n",
    "with open('data/ch09_member.json', 'w', encoding='utf-8') as jsonfile:\n",
    "    json.dump(data, #딕셔너리 리스트\n",
    "             jsonfile,\n",
    "             ensure_ascii=False)"
   ]
  },
  {
   "cell_type": "code",
   "execution_count": 31,
   "id": "e679ffa0",
   "metadata": {},
   "outputs": [],
   "source": [
    "class Member:\n",
    "    def __init__(self, name, age, email, address): # 생성자: Member 객체를 만들 때 실행됨\n",
    "        self.name = name\n",
    "        self.age = age\n",
    "        self.email = email\n",
    "        self.address = address\n",
    "    def __str__(self): # 객체를 문자열로 표현할 때 사용 (print 함수로 출력 시)\n",
    "        return \"{}, {}, {}, {}\".format(self.name,\n",
    "                                      self.age,\n",
    "                                      self.email,\n",
    "                                      self.address)\n",
    "    def as_dict(self): # 객체를 딕셔너리로 변환 (JSON 등으로 저장하거나 처리할 때 유용)\n",
    "        return {\n",
    "            'name':self.name,\n",
    "            'age':self.age,\n",
    "            'email':self.email,\n",
    "            'address':self.address\n",
    "                }\n",
    "    def __eq__(self, other):\n",
    "        if isinstance(other, Member):\n",
    "            return self.__dict__ == other.__dict__\n",
    "        else:\n",
    "            return False"
   ]
  },
  {
   "cell_type": "code",
   "execution_count": 32,
   "id": "d7ab8e7f",
   "metadata": {},
   "outputs": [
    {
     "name": "stdout",
     "output_type": "stream",
     "text": [
      "True\n",
      "True\n"
     ]
    }
   ],
   "source": [
    "user1 = Member('홍길동', 22, 'a@a.com','신림동')\n",
    "user2 = Member('홍길동', 22, 'a@a.com','신림동')\n",
    "print(user1.__eq__(user2))\n",
    "print(user1==user2)"
   ]
  },
  {
   "cell_type": "code",
   "execution_count": 37,
   "id": "f0c11f7d",
   "metadata": {},
   "outputs": [],
   "source": [
    "member_list = [Member('홍길동', 22, 'a@a.com', '서울'),\n",
    "               Member('신길동', 32, 'a@a.com', '서울'),\n",
    "               Member('김길동', 42, 'a@a.com', '서울'),]"
   ]
  },
  {
   "cell_type": "code",
   "execution_count": 38,
   "id": "7ade2641",
   "metadata": {},
   "outputs": [],
   "source": [
    "with open('data/ch09_member1.json', 'w', encoding='utf-8') as jsonfile:\n",
    "    json.dump(member_list, #객체 리스트\n",
    "             jsonfile,\n",
    "             ensure_ascii=False,\n",
    "             indent='\\t',\n",
    "             default=Member.as_dict # 객체를 딕셔너리로 return 하는 인스턴스 함수\n",
    "             )"
   ]
  },
  {
   "cell_type": "markdown",
   "id": "9e792b6f",
   "metadata": {},
   "source": [
    "## 4.2 load(파일입력)\n",
    "- json파일 -> 딕셔너리 리스트(기본)\n",
    "                  ↓\n",
    "- json파일 ->   객체리스트"
   ]
  },
  {
   "cell_type": "code",
   "execution_count": 39,
   "id": "8af674ed",
   "metadata": {},
   "outputs": [],
   "source": [
    "def as_member(dic):\n",
    "    '매개변수로 딕셔너리를 받아 Member 객체를 return'\n",
    "    return Member(dic.get('name'), dic['age'], dic.get('email'), dic.get('address'))"
   ]
  },
  {
   "cell_type": "code",
   "execution_count": 40,
   "id": "b4fddb80",
   "metadata": {},
   "outputs": [
    {
     "name": "stdout",
     "output_type": "stream",
     "text": [
      "김길동, 20, z@a.com, 관악\n"
     ]
    }
   ],
   "source": [
    "member = as_member({'name':'김길동', 'age':20, 'email':'z@a.com', 'address':'관악'})\n",
    "print(member)"
   ]
  },
  {
   "cell_type": "code",
   "execution_count": 41,
   "id": "903aa641",
   "metadata": {},
   "outputs": [
    {
     "data": {
      "text/plain": [
       "[{'name': '홍길동', 'age': 20, 'email': 'kildong@hong.com', 'address': '서울'},\n",
       " {'name': '김길동', 'age': 30, 'email': 'kildong@hong.com', 'address': '인천'}]"
      ]
     },
     "execution_count": 41,
     "metadata": {},
     "output_type": "execute_result"
    }
   ],
   "source": [
    "with open('data/ch09_member.json', 'r', encoding='utf-8') as f:\n",
    "    load_data = json.load(f)\n",
    "load_data"
   ]
  },
  {
   "cell_type": "code",
   "execution_count": 43,
   "id": "b10f54a3",
   "metadata": {},
   "outputs": [
    {
     "name": "stdout",
     "output_type": "stream",
     "text": [
      "홍길동, 22, a@a.com, 서울\n",
      "신길동, 32, a@a.com, 서울\n",
      "김길동, 42, a@a.com, 서울\n"
     ]
    }
   ],
   "source": [
    "with open('data/ch09_member1.json', 'r', encoding='utf-8') as f:\n",
    "    load_member_list = json.load(f, object_hook=as_member)\n",
    "for load_member in load_member_list:\n",
    "    print(load_member)"
   ]
  },
  {
   "cell_type": "markdown",
   "id": "2c97e91f",
   "metadata": {},
   "source": [
    "## JSON->데이터프레임"
   ]
  },
  {
   "cell_type": "code",
   "execution_count": 47,
   "id": "48d332cd",
   "metadata": {},
   "outputs": [
    {
     "data": {
      "text/html": [
       "<div>\n",
       "<style scoped>\n",
       "    .dataframe tbody tr th:only-of-type {\n",
       "        vertical-align: middle;\n",
       "    }\n",
       "\n",
       "    .dataframe tbody tr th {\n",
       "        vertical-align: top;\n",
       "    }\n",
       "\n",
       "    .dataframe thead th {\n",
       "        text-align: right;\n",
       "    }\n",
       "</style>\n",
       "<table border=\"1\" class=\"dataframe\">\n",
       "  <thead>\n",
       "    <tr style=\"text-align: right;\">\n",
       "      <th></th>\n",
       "      <th>name</th>\n",
       "      <th>age</th>\n",
       "      <th>email</th>\n",
       "      <th>address</th>\n",
       "    </tr>\n",
       "  </thead>\n",
       "  <tbody>\n",
       "    <tr>\n",
       "      <th>0</th>\n",
       "      <td>홍길동</td>\n",
       "      <td>22</td>\n",
       "      <td>a@a.com</td>\n",
       "      <td>서울</td>\n",
       "    </tr>\n",
       "    <tr>\n",
       "      <th>1</th>\n",
       "      <td>신길동</td>\n",
       "      <td>32</td>\n",
       "      <td>a@a.com</td>\n",
       "      <td>서울</td>\n",
       "    </tr>\n",
       "    <tr>\n",
       "      <th>2</th>\n",
       "      <td>김길동</td>\n",
       "      <td>42</td>\n",
       "      <td>a@a.com</td>\n",
       "      <td>서울</td>\n",
       "    </tr>\n",
       "  </tbody>\n",
       "</table>\n",
       "</div>"
      ],
      "text/plain": [
       "  name  age    email address\n",
       "0  홍길동   22  a@a.com      서울\n",
       "1  신길동   32  a@a.com      서울\n",
       "2  김길동   42  a@a.com      서울"
      ]
     },
     "execution_count": 47,
     "metadata": {},
     "output_type": "execute_result"
    }
   ],
   "source": [
    "import pandas as pd\n",
    "pd.read_json('data/ch09_member1.json')\n",
    "# pd.함수() : encoding='utf-8' 기본값\n",
    "# open(파일, 모드)함수 : encoding='cp949' 기본값"
   ]
  },
  {
   "cell_type": "code",
   "execution_count": 48,
   "id": "48f36635",
   "metadata": {},
   "outputs": [
    {
     "data": {
      "text/html": [
       "<div>\n",
       "<style scoped>\n",
       "    .dataframe tbody tr th:only-of-type {\n",
       "        vertical-align: middle;\n",
       "    }\n",
       "\n",
       "    .dataframe tbody tr th {\n",
       "        vertical-align: top;\n",
       "    }\n",
       "\n",
       "    .dataframe thead th {\n",
       "        text-align: right;\n",
       "    }\n",
       "</style>\n",
       "<table border=\"1\" class=\"dataframe\">\n",
       "  <thead>\n",
       "    <tr style=\"text-align: right;\">\n",
       "      <th></th>\n",
       "      <th>name</th>\n",
       "      <th>age</th>\n",
       "      <th>email</th>\n",
       "      <th>address</th>\n",
       "    </tr>\n",
       "  </thead>\n",
       "  <tbody>\n",
       "    <tr>\n",
       "      <th>0</th>\n",
       "      <td>홍길동</td>\n",
       "      <td>22</td>\n",
       "      <td>a@a.com</td>\n",
       "      <td>서울</td>\n",
       "    </tr>\n",
       "    <tr>\n",
       "      <th>1</th>\n",
       "      <td>신길동</td>\n",
       "      <td>32</td>\n",
       "      <td>a@a.com</td>\n",
       "      <td>서울</td>\n",
       "    </tr>\n",
       "    <tr>\n",
       "      <th>2</th>\n",
       "      <td>김길동</td>\n",
       "      <td>42</td>\n",
       "      <td>a@a.com</td>\n",
       "      <td>서울</td>\n",
       "    </tr>\n",
       "  </tbody>\n",
       "</table>\n",
       "</div>"
      ],
      "text/plain": [
       "  name  age    email address\n",
       "0  홍길동   22  a@a.com      서울\n",
       "1  신길동   32  a@a.com      서울\n",
       "2  김길동   42  a@a.com      서울"
      ]
     },
     "execution_count": 48,
     "metadata": {},
     "output_type": "execute_result"
    }
   ],
   "source": [
    "pd.read_json('data/ch09_member1.json', encoding='utf-8')"
   ]
  },
  {
   "cell_type": "markdown",
   "id": "c46f1cf4",
   "metadata": {},
   "source": []
  },
  {
   "cell_type": "code",
   "execution_count": null,
   "id": "29042639",
   "metadata": {},
   "outputs": [],
   "source": []
  },
  {
   "cell_type": "code",
   "execution_count": null,
   "id": "0156118e",
   "metadata": {},
   "outputs": [],
   "source": []
  },
  {
   "cell_type": "code",
   "execution_count": null,
   "id": "11fd6110",
   "metadata": {},
   "outputs": [],
   "source": []
  },
  {
   "cell_type": "code",
   "execution_count": null,
   "id": "ca9e6435",
   "metadata": {},
   "outputs": [],
   "source": []
  },
  {
   "cell_type": "code",
   "execution_count": null,
   "id": "66353c4d",
   "metadata": {},
   "outputs": [],
   "source": []
  },
  {
   "cell_type": "code",
   "execution_count": null,
   "id": "df0fa8a3",
   "metadata": {},
   "outputs": [],
   "source": []
  },
  {
   "cell_type": "code",
   "execution_count": null,
   "id": "85cc6236",
   "metadata": {},
   "outputs": [],
   "source": []
  },
  {
   "cell_type": "code",
   "execution_count": null,
   "id": "c87eb219",
   "metadata": {},
   "outputs": [],
   "source": []
  }
 ],
 "metadata": {
  "kernelspec": {
   "display_name": "Python 3 (ipykernel)",
   "language": "python",
   "name": "python3"
  },
  "language_info": {
   "codemirror_mode": {
    "name": "ipython",
    "version": 3
   },
   "file_extension": ".py",
   "mimetype": "text/x-python",
   "name": "python",
   "nbconvert_exporter": "python",
   "pygments_lexer": "ipython3",
   "version": "3.10.9"
  },
  "toc": {
   "base_numbering": 1,
   "nav_menu": {},
   "number_sections": false,
   "sideBar": true,
   "skip_h1_title": false,
   "title_cell": "Table of Contents",
   "title_sidebar": "Contents",
   "toc_cell": false,
   "toc_position": {},
   "toc_section_display": true,
   "toc_window_display": false
  }
 },
 "nbformat": 4,
 "nbformat_minor": 5
}
