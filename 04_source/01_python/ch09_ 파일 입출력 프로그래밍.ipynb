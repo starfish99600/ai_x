{
 "cells": [
  {
   "cell_type": "code",
   "execution_count": 1,
   "id": "a6a36350",
   "metadata": {},
   "outputs": [
    {
     "data": {
      "text/html": [
       "\n",
       "<style>\n",
       "div.container{width:95% !important;}\n",
       "div.cell.code_cell.rendered{width:100%;}\n",
       "div.CodeMirror {font-family:Consolas; font-size:15pt;}\n",
       "div.output {font-size:15pt; font-weight:bold;}\n",
       "div.input {font-family:Consolas; font-size:15pt;}\n",
       "div.prompt {min-width:70px;}\n",
       "div#toc-wrapper{padding-top:120px;}\n",
       "div.text_cell_render ul li{font-size:12pt;padding:5px;}\n",
       "table.dataframe{font-size:15px;}\n",
       "</style>\n"
      ],
      "text/plain": [
       "<IPython.core.display.HTML object>"
      ]
     },
     "metadata": {},
     "output_type": "display_data"
    }
   ],
   "source": [
    "from IPython.display import display, HTML\n",
    "display(HTML(\"\"\"\n",
    "<style>\n",
    "div.container{width:95% !important;}\n",
    "div.cell.code_cell.rendered{width:100%;}\n",
    "div.CodeMirror {font-family:Consolas; font-size:15pt;}\n",
    "div.output {font-size:15pt; font-weight:bold;}\n",
    "div.input {font-family:Consolas; font-size:15pt;}\n",
    "div.prompt {min-width:70px;}\n",
    "div#toc-wrapper{padding-top:120px;}\n",
    "div.text_cell_render ul li{font-size:12pt;padding:5px;}\n",
    "table.dataframe{font-size:15px;}\n",
    "</style>\n",
    "\"\"\"))"
   ]
  },
  {
   "cell_type": "markdown",
   "id": "4b53c906",
   "metadata": {},
   "source": [
    "<b><font color=\"red\" size=\"5\">ch09. 파일 io(입출력) 프로그래밍</font></b>\n",
    "파일 : txt, pickle, csv, json, hdf5(h5)"
   ]
  },
  {
   "cell_type": "markdown",
   "id": "59ef6872",
   "metadata": {},
   "source": [
    "```\n",
    "파일의 형식\n",
    "\n",
    "1. *.txt : \n",
    "-형식: 사람이 읽을 수 있는 일반 텍스트\n",
    "-용도: 간단한 로그, 텍스트 데이터 저장용\n",
    "   김회원, 33, 아무동 9\n",
    "   이회원, 22, 무시기동8\n",
    "\n",
    "2. pickle파일(*.data, *pkl) : 머신러닝 모델 저장용\n",
    "-형식: 바이너리 형태로 파이썬 객체를 직렬화하여 저장\n",
    "-특징: 사람이 읽을 수 없음, 메모리에서 바로 객체로 복원 가능\n",
    "-용도: 머신러닝 모델, 객체 리스트 등 복잡한 구조 저장\n",
    "   객체저장용으로 메모장에서 열수 없음.\n",
    "   객체리스트 저장(머신러닝모델 저장용)\n",
    "\n",
    "3. *.csv 파일\n",
    "-형식: 쉼표로 구분된 텍스트 데이터\n",
    "-용도: 표 형식의 데이터 저장 및 불러오기, 엑셀과 호환\n",
    "   name, age, address\n",
    "   \"김회원\", 33, \"아무동9\"\n",
    "   \"이회원\", 22, \"무시기동9\"\n",
    "\n",
    "4. *.json파일\n",
    "-정의 : JSON은 JavaScript Object Notation의 약자로,\n",
    "데이터를 키-값 쌍(key-value pair) 형태로 표현하는 텍스트 기반의 데이터 포맷\n",
    "-텍스트 기반의 데이터 포맷으로, 딕셔너리나 리스트 형태의 데이터를 저장하는 데 적합.\n",
    "파이썬의 dict, list 구조를 그대로 저장하고 불러올 수 있음\n",
    "\n",
    " [{'name':'김회원', 'age':33, 'address':'아무동9'},\n",
    "{'name':'이회원', 'age':22, 'address':'무시기동9'}]\n",
    "대괄호 []: 리스트(배열)를 나타냅니다.\n",
    "내부에는 중괄호 {}로 구성된 여러 개의 객체가 들어갑니다.\n",
    "들여쓰기를 해서 저장할지 말지를 정할 수 있음.\n",
    "\n",
    "5. *.h5이나 *.hdf5 (=>딥러닝 모델 저장)\n",
    "-정의 : 계층적 구조로 데이터를 저장하는 바이너리 형식의 파일\n",
    "-용도 : 딥러닝, 과학 데이터, 대규모 센서 데이터 저장 등에 많이 사용.\n",
    " HDVview로 읽을 수 있음.\n",
    "/\n",
    "├── model_weights\n",
    "│   ├── dense_1\n",
    "│   ├── dense_2\n",
    "└── model_config\n",
    "파일 안에 또 다른 디렉터리와 파일이 들어 있는 것처럼\n",
    "구조화된 데이터를 저장할 수 있습니다.\n",
    "\n",
    "6. *.xml 엑셀을 가져오는것을 웹 크롤링과 동일함.\n",
    "<font size=\"6\">\n",
    " <custmomer>\n",
    "\t<name> 김회원</name>\n",
    "\t<age>33</age>\n",
    "\t<address>아무동9</address>\n",
    "\n",
    "```"
   ]
  },
  {
   "cell_type": "code",
   "execution_count": null,
   "id": "29a77dd5",
   "metadata": {},
   "outputs": [],
   "source": [
    "#txt 파일 불러오기\n",
    "with open('data.txt', 'r', encoding='utf-8') as f:  # 텍스트 파일을 읽기 모드('r')로 열고, utf-8로 인코딩 설정\n",
    "    for line in f:  # 파일에서 한 줄씩 반복하여 읽기\n",
    "        print(line.strip().split(', '))  # 줄 끝의 개행 문자를 제거하고(', ' 기준으로 분리해서 리스트로 출력)"
   ]
  },
  {
   "cell_type": "code",
   "execution_count": null,
   "id": "be1c50ea",
   "metadata": {},
   "outputs": [],
   "source": [
    "#Pickle 파일 불러오기\n",
    "import pickle  # pickle 모듈은 파이썬 객체를 파일로 저장하고 불러올 때 사용\n",
    "\n",
    "with open('data.pkl', 'rb') as f:  # pickle 파일을 바이너리 읽기 모드('rb')로 열기\n",
    "    loaded_data = pickle.load(f)  # 파일에서 객체를 역직렬화하여 불러오기\n",
    "\n",
    "print(loaded_data)  # 불러온 데이터를 출력\n"
   ]
  },
  {
   "cell_type": "code",
   "execution_count": null,
   "id": "d73686e2",
   "metadata": {},
   "outputs": [],
   "source": [
    "#CSV 파일 불러오기 (pandas 사용)\n",
    "import pandas as pd  # 데이터 분석을 위한 pandas 모듈 불러오기\n",
    "\n",
    "df = pd.read_csv('data.csv')  # csv 파일을 읽어서 DataFrame으로 불러오기\n",
    "\n",
    "print(df)  # 표 형태로 출력\n"
   ]
  },
  {
   "cell_type": "code",
   "execution_count": null,
   "id": "354cc26d",
   "metadata": {},
   "outputs": [],
   "source": [
    "#JSON 파일 불러오기\n",
    "import json  # JSON 형식의 데이터를 다루기 위한 json 모듈 불러오기\n",
    "\n",
    "with open('data.json', 'r', encoding='utf-8') as f:  # json 파일을 읽기 모드로 열기 (한글 깨짐 방지 위해 utf-8 설정)\n",
    "    loaded_data = json.load(f)  # json 파일의 내용을 파이썬 객체(list, dict 등)로 변환하여 불러오기\n",
    "\n",
    "print(loaded_data)  # 불러온 데이터를 출력\n"
   ]
  },
  {
   "cell_type": "code",
   "execution_count": null,
   "id": "6701caff",
   "metadata": {},
   "outputs": [],
   "source": [
    "#*.h5이나 *.hdf5 파일 저장\n",
    "model.save('model.h5')  # 모델 전체(구조 + 가중치 + 옵티마이저 상태 등) 저장"
   ]
  },
  {
   "cell_type": "code",
   "execution_count": null,
   "id": "a7b1dff6",
   "metadata": {},
   "outputs": [],
   "source": [
    "#*.h5이나 *.hdf5 파일 불러오기\n",
    "from tensorflow.keras.models import load_model\n",
    "\n",
    "model = load_model('model.h5')  # 저장된 모델 불러오기"
   ]
  },
  {
   "cell_type": "code",
   "execution_count": null,
   "id": "6b2a4635",
   "metadata": {},
   "outputs": [],
   "source": [
    "#*.h5py 모듈사용 일반적인 데이터 저장\n",
    "import h5py\n",
    "import numpy as np\n",
    "\n",
    "# 데이터 저장\n",
    "with h5py.File('data.h5', 'w') as f:\n",
    "    f.create_dataset('dataset1', data=np.arange(10))  # 'dataset1'에 배열 저장\n",
    "\n",
    "# 데이터 불러오기\n",
    "with h5py.File('data.h5', 'r') as f:\n",
    "    data = f['dataset1'][:]  # 전체 데이터를 numpy 배열로 불러옴\n",
    "    print(data)"
   ]
  },
  {
   "cell_type": "markdown",
   "id": "378482cb",
   "metadata": {},
   "source": [
    "# 1절. txt파일에 데이터 저장하고 불러오기"
   ]
  },
  {
   "cell_type": "code",
   "execution_count": 3,
   "id": "d2ae08d0",
   "metadata": {},
   "outputs": [
    {
     "name": "stdout",
     "output_type": "stream",
     "text": [
      "[Errno 2] No such file or directory: 'dat/ch09.txt'\n"
     ]
    }
   ],
   "source": [
    "try :  \n",
    "    f = open('dat/ch09.txt', 'w')     # 'dat' 폴더 아래에 'ch09.txt' 파일을 쓰기 모드로 열기  \n",
    "except FileNotFoundError as e:        # 폴더가 존재하지 않아 파일을 열지 못하면 예외 발생  \n",
    "    print(e)                          # 예외 메시지 출력  \n",
    "finally:  \n",
    "    f.close()                         # 파일을 닫음 (하지만 f가 정의되지 않았을 경우 오류 발생 가능)"
   ]
  },
  {
   "cell_type": "code",
   "execution_count": 4,
   "id": "ca2d61f6",
   "metadata": {},
   "outputs": [
    {
     "name": "stdout",
     "output_type": "stream",
     "text": [
      "쓰기 가능한지 여부 : True\n"
     ]
    }
   ],
   "source": [
    "f = open('data/ch09.txt','w') \n",
    "print('쓰기 가능한지 여부 :', f.writable())"
   ]
  },
  {
   "cell_type": "code",
   "execution_count": 5,
   "id": "a6d70162",
   "metadata": {},
   "outputs": [],
   "source": [
    "f.write('Hello\\nWorld')  \n",
    "#write() : 파일 객체(f)에 문자열 데이터를 한 줄 또는 여러 줄로 기록하는 함수\n",
    "#문자열만 쓸 수 있음.\n",
    "#숫자나 리스트 등을 쓰려면 문자열로 **변환(str())**해야 함.\n",
    "f.close() # close()쓰기한 내용이 저장x"
   ]
  },
  {
   "cell_type": "code",
   "execution_count": 2,
   "id": "2082c7f3",
   "metadata": {},
   "outputs": [
    {
     "name": "stdout",
     "output_type": "stream",
     "text": [
      "쓰기 가능한지 여부 : True\n"
     ]
    }
   ],
   "source": [
    "#with 문을 사용하여 위와 동일한 문장을 작성\n",
    "with open('data/ch09.txt', 'w') as f:\n",
    "    print('쓰기 가능한지 여부 :', f.writable())\n",
    "    f.write('Hello\\nPython')"
   ]
  },
  {
   "cell_type": "code",
   "execution_count": null,
   "id": "76a235da",
   "metadata": {},
   "outputs": [],
   "source": [
    "#파일열기 mode 요약(open()함수에서 사용) \n",
    "    #'r' 또는 'rt' : text 읽기모드(파일이 없는 경우 예외발생)\n",
    "    # 'rb' : 이미지, 오디오, 모델 파일 등 바이너리 데이터 읽기용\n",
    "    # 'w' 또는 'wt' : text쓰기 모드(파일이 있으면 기존 내용 삭제 후 새로 씀, 파일이 없으면 파일 생성)\n",
    "    # 'wb' : 바이너리 데이터를 쓰기 위해 사용 (ex: 이미지 저장 등)\n",
    "    # 'a' 또는 'at' : text 추가모드(파일이 있으면 append, 파일이 없으면 파일 생성)\n",
    "    # 읽기모드에서 파일이 없으면 예외발생 / 쓰기모드에서는 폴더가 없으면 예외발생\n",
    "# encoding : 인코딩은 문자를 컴퓨터가 이해할 수 있는 이진값으로 변환하는 방식\n",
    "    # euc-kr (한글 완성형) 믜x\n",
    "    # cp949 (euc-kr 한글 완성형) : open() 함수 기본 encoding방식(window 운영체제 에서)\n",
    "    # utf-8 (한글 조합형) : open() 함수 기본 encoding방식(mac, linux 운영체제 에서)"
   ]
  },
  {
   "cell_type": "code",
   "execution_count": 5,
   "id": "0154cec9",
   "metadata": {},
   "outputs": [],
   "source": [
    "with open('data/ch09.txt', 'w') as f:\n",
    "    # 1방법\n",
    "    f.write('홍길동, 33, 아무동9\\n')\n",
    "    f.write('김길동, 33, 아무동9\\n')\n",
    "    # 2방법\n",
    "    textlist = ['홍길동, 33, 아무동9\\n', '김길동, 33, 아무동9\\n']\n",
    "    for line in textlist:\n",
    "        f.write(line)\n",
    "    # 3방법\n",
    "    f.writelines(textlist) #위쪽의 리스트 textlist = ['홍길동, 33, 아무동9\\n', '김길동, 33, 아무동9\\n']"
   ]
  },
  {
   "cell_type": "code",
   "execution_count": 6,
   "id": "b09a8d86",
   "metadata": {},
   "outputs": [
    {
     "name": "stdout",
     "output_type": "stream",
     "text": [
      "홍길동, 33, 아무동9\n",
      "김길동, 33, 아무동9\n",
      "홍길동, 33, 아무동9\n",
      "김길동, 33, 아무동9\n",
      "홍길동, 33, 아무동9\n",
      "김길동, 33, 아무동9\n"
     ]
    }
   ],
   "source": [
    "#한줄씩 읽기\n",
    "with open('data/ch09.txt', 'r') as f:\n",
    "    line = f.readline()\n",
    "    while line!='':\n",
    "        print(line, end='')\n",
    "        line = f.readline()"
   ]
  },
  {
   "cell_type": "code",
   "execution_count": 9,
   "id": "98505703",
   "metadata": {},
   "outputs": [
    {
     "name": "stdout",
     "output_type": "stream",
     "text": [
      "['홍길동, 33, 아무동9\\n', '김길동, 33, 아무동9\\n', '홍길동, 33, 아무동9\\n', '김길동, 33, 아무동9\\n', '홍길동, 33, 아무동9\\n', '김길동, 33, 아무동9\\n']\n"
     ]
    }
   ],
   "source": [
    "#모든 줄을 읽기\n",
    "with open('data/ch09.txt', 'r') as f:\n",
    "    lines = f.readlines()\n",
    "    print(lines)"
   ]
  },
  {
   "cell_type": "code",
   "execution_count": 11,
   "id": "d090f23a",
   "metadata": {},
   "outputs": [
    {
     "data": {
      "text/plain": [
       "'홍길동, 33, 아무동9\\n김길동, 33, 아무동9\\n홍길동, 33, 아무동9\\n김길동, 33, 아무동9\\n홍길동, 33, 아무동9\\n김길동, 33, 아무동9\\n'"
      ]
     },
     "execution_count": 11,
     "metadata": {},
     "output_type": "execute_result"
    }
   ],
   "source": [
    "#모두 읽기\n",
    "with open('data/ch09.txt', 'r') as f:\n",
    "    lines = f.read()\n",
    "lines"
   ]
  },
  {
   "cell_type": "markdown",
   "id": "86c36daa",
   "metadata": {},
   "source": [
    "# 2절. 피클을 이용한 객체 저장 및 불러오기"
   ]
  },
  {
   "cell_type": "markdown",
   "id": "d9a73413",
   "metadata": {},
   "source": [
    "## 2.1 형식이 있는 txt 데이터 불러오기"
   ]
  },
  {
   "cell_type": "code",
   "execution_count": 16,
   "id": "0cf1bf73",
   "metadata": {},
   "outputs": [],
   "source": [
    "class Member:\n",
    "    def __init__(self, name, age, email, address): # 생성자: Member 객체를 만들 때 실행됨\n",
    "        self.name = name\n",
    "        self.age = age\n",
    "        self.email = email\n",
    "        self.address = address\n",
    "    def __str__(self): # 객체를 문자열로 표현할 때 사용 (print 함수로 출력 시)\n",
    "        return \"{}, {}, {}, {}\".format(self.name,\n",
    "                                      \"성년\" if self.age>18 else \"미성년\",\n",
    "                                      self.email,\n",
    "                                      self.address)\n",
    "    def as_dict(self): # 객체를 딕셔너리로 변환 (JSON 등으로 저장하거나 처리할 때 유용)\n",
    "        return {\n",
    "            'name':self.name,\n",
    "            'age':self.age,\n",
    "            'email':self.email,\n",
    "            'address':self.address\n",
    "                }\n",
    "    def __eq__(self, other): # 두 객체를 비교할 때 (==) 자동으로 호출되는 특별한 메서드(연산자 오버라이딩)\n",
    "        return self.name == other.name and \\\n",
    "               self.age==other.age and \\\n",
    "               self.email==other.email and \\\n",
    "               self.address==other.address"
   ]
  },
  {
   "cell_type": "code",
   "execution_count": 17,
   "id": "43d6b206",
   "metadata": {},
   "outputs": [
    {
     "name": "stdout",
     "output_type": "stream",
     "text": [
      "True\n",
      "True\n"
     ]
    }
   ],
   "source": [
    "user1= Member('홍',20,'a@a.com','신림동')\n",
    "user2= Member('홍',20,'a@a.com','신림동')\n",
    "print(user1==user2)\n",
    "print(user1.__eq__(user2)) # 같은 내용이면 True"
   ]
  },
  {
   "cell_type": "code",
   "execution_count": 25,
   "id": "b997f112",
   "metadata": {},
   "outputs": [],
   "source": [
    "# 형식이 있는 txt 파일 내용을 member list(피클저장), 딕셔너리 list(데이터프레임)로 저장\n",
    "user_list = [] # member list\n",
    "user_dict = [] # 딕셔너리 list\n",
    "with open('data/ch09_member.txt', 'r', encoding='utf-8') as t:\n",
    "    lines = t.readlines()\n",
    "# print(lines)\n",
    "for line in lines:\n",
    "    data = line.split(',')\n",
    "    #print(data)\n",
    "    name = data[0]\n",
    "    age = int(data[1].strip()) #strip(): 좌우공백(space, \\t, \\n) 제거\n",
    "    email = data[2].strip()\n",
    "    address = data[3].strip()\n",
    "    user = Member(name, age, email, address)\n",
    "    user_list.append(user)\n",
    "    user_dict.append(user.as_dict())\n",
    "    #user_dict.append(user.__dict__)"
   ]
  },
  {
   "cell_type": "code",
   "execution_count": 26,
   "id": "3fdffac5",
   "metadata": {},
   "outputs": [
    {
     "name": "stdout",
     "output_type": "stream",
     "text": [
      "홍길동, 성년, kildong@hong.com, 서울시 관악구\n",
      "홍길숙, 성년, kilsuk1@hong.com, 서울시 영등포구\n",
      "신길동, 성년, shinkil@hong.com, 서울시 동작구\n"
     ]
    }
   ],
   "source": [
    "for user in user_list:\n",
    "    print(user)"
   ]
  },
  {
   "cell_type": "markdown",
   "id": "8c48bfc2",
   "metadata": {},
   "source": [
    "## 2.2 피클링\n",
    "- 파이썬의 객체(예: 리스트, 클래스 인스턴스 등)를 파일로 저장하거나, 저장된 파일로부터 객체를 복원하는 과정입니다.\n",
    "- 사용하는 모듈: import pickle\n",
    "- 객체 리스트 → 파일로 저장 훈련 데이터, 모델 설정, 사용자 정보 등 저장\n",
    "- 파일 → 객체 리스트 복원 프로그램 종료 후에도 데이터 그대로 복원 가능\n",
    "- 객체 리스트 -> 피클파일로 쓰기\n",
    "- 피클 파일을 읽기 -> 객체 리스트(load_list)"
   ]
  },
  {
   "cell_type": "code",
   "execution_count": 28,
   "id": "c365c02b",
   "metadata": {},
   "outputs": [],
   "source": [
    "# 피클링을 이용한 객체를 저장하기\n",
    "import pickle # pickle: 객체 저장/복원 기능을 가진 내장 모듈 (설치 없이 바로 사용 가능)\n",
    "with open('data/ch09_mamber.data', 'wb') as f:  # 'wb'는 binary write\n",
    "    pickle.dump(user_list, f)"
   ]
  },
  {
   "cell_type": "code",
   "execution_count": 31,
   "id": "c404f3da",
   "metadata": {},
   "outputs": [],
   "source": [
    "# 피클링을 이용한 파일에서 객체 데이터로 읽기\n",
    "with open('data/ch09_mamber.data', 'rb') as f:\n",
    "    load_user_list = pickle.load(f)"
   ]
  },
  {
   "cell_type": "code",
   "execution_count": 32,
   "id": "e0254eea",
   "metadata": {},
   "outputs": [
    {
     "data": {
      "text/plain": [
       "True"
      ]
     },
     "execution_count": 32,
     "metadata": {},
     "output_type": "execute_result"
    }
   ],
   "source": [
    "user_list == load_user_list"
   ]
  },
  {
   "cell_type": "code",
   "execution_count": 35,
   "id": "a44025cc",
   "metadata": {},
   "outputs": [
    {
     "name": "stdout",
     "output_type": "stream",
     "text": [
      "0 홍길동, 성년, kildong@hong.com, 서울시 관악구\n",
      "0 홍길동, 성년, kildong@hong.com, 서울시 관악구\n",
      "1 홍길숙, 성년, kilsuk1@hong.com, 서울시 영등포구\n",
      "1 홍길숙, 성년, kilsuk1@hong.com, 서울시 영등포구\n",
      "2 신길동, 성년, shinkil@hong.com, 서울시 동작구\n",
      "2 신길동, 성년, shinkil@hong.com, 서울시 동작구\n"
     ]
    }
   ],
   "source": [
    "for idx in range(len(user_list)):\n",
    "    print(idx, user[idx])\n",
    "    print(idx, load_user_list[idx])"
   ]
  },
  {
   "cell_type": "code",
   "execution_count": 41,
   "id": "9469b126",
   "metadata": {},
   "outputs": [
    {
     "name": "stdout",
     "output_type": "stream",
     "text": [
      "0 홍길동, 성년, kildong@hong.com, 서울시 관악구\n",
      "0 홍길동, 성년, kildong@hong.com, 서울시 관악구\n",
      "True\n",
      "1 홍길숙, 성년, kilsuk1@hong.com, 서울시 영등포구\n",
      "1 홍길숙, 성년, kilsuk1@hong.com, 서울시 영등포구\n",
      "True\n",
      "2 신길동, 성년, shinkil@hong.com, 서울시 동작구\n",
      "2 신길동, 성년, shinkil@hong.com, 서울시 동작구\n",
      "True\n"
     ]
    }
   ],
   "source": [
    "for idx, (user, load_user) in enumerate(zip(user_list, load_user_list)):\n",
    "    print(idx, user)\n",
    "    print(idx, load_user)\n",
    "    print(user==load_user)"
   ]
  },
  {
   "cell_type": "code",
   "execution_count": 43,
   "id": "00e84aee",
   "metadata": {},
   "outputs": [
    {
     "data": {
      "text/plain": [
       "True"
      ]
     },
     "execution_count": 43,
     "metadata": {},
     "output_type": "execute_result"
    }
   ],
   "source": [
    "result = []\n",
    "for user, load_user in zip(user_list, load_user_list):\n",
    "    result.append(user==load_user)\n",
    "all(result)"
   ]
  },
  {
   "cell_type": "markdown",
   "id": "caea4238",
   "metadata": {},
   "source": [
    "# 3절. CSV형식 파일 읽기/쓰기\n",
    "- 쉼표로 구분된 텍스트 데이터 파일입니다. 엑셀에서도 열 수 있는 파일 형식이죠.\n",
    "- CSV파일 -> 리스트데이터로 읽기 또는 리스트데이터를 CSV파일로 저장 3.1 CSV → 리스트, 3.2 리스트 → CSV\n",
    "- CSV파일을 읽어서 딕셔너리로 읽기 또는 딕셔너리 데이터를 CSV파일로 저장 3.3 CSV → 딕셔너리, 3.4 딕셔너리 → CSV"
   ]
  },
  {
   "cell_type": "markdown",
   "id": "632477d1",
   "metadata": {},
   "source": [
    "## 3.1 reader : CSV파일을 가져다가 리스트로 저장"
   ]
  },
  {
   "cell_type": "code",
   "execution_count": 45,
   "id": "2b1f6393",
   "metadata": {},
   "outputs": [
    {
     "name": "stdout",
     "output_type": "stream",
     "text": [
      "[['홍길동', '20', 'kildong@hong.com', '서울시 관악구'], ['김길동', '40', 'kimdong@hong.com', '서울시 영등포구'], ['신길동', '30', 'sindong@hong.com', '서울시 동작구']]\n"
     ]
    }
   ],
   "source": [
    "import csv # CSV 파일을 다루기 위한 표준 모듈 불러오기\n",
    "with open('data/ch09_member1.csv', 'r', encoding='utf-8') as f:\n",
    "    reader = csv.reader(f) # 파일을 CSV 형식으로 읽을 수 있는 reader 객체 생성\n",
    "    print(list(reader))"
   ]
  },
  {
   "cell_type": "code",
   "execution_count": 46,
   "id": "82a0e946",
   "metadata": {},
   "outputs": [
    {
     "name": "stdout",
     "output_type": "stream",
     "text": [
      "[['홍길동', 20.0, 'kildong@hong.com', '서울시 관악구'], ['김길동', 40.0, 'kimdong@hong.com', '서울시 영등포구'], ['신길동', 30.0, 'sindong@hong.com', '서울시 동작구']]\n"
     ]
    }
   ],
   "source": [
    "# \"\"(따옴표)가 없는 데이터는 numeric으로\n",
    "import csv # CSV 파일을 다루기 위한 표준 모듈 불러오기\n",
    "with open('data/ch09_member1.csv', 'r', encoding='utf-8') as f:\n",
    "    reader = csv.reader(f,\n",
    "                       quoting=csv.QUOTE_NONNUMERIC)\n",
    "    result = list(reader)\n",
    "print(result)"
   ]
  },
  {
   "cell_type": "code",
   "execution_count": 47,
   "id": "8e0e05fe",
   "metadata": {},
   "outputs": [
    {
     "name": "stdout",
     "output_type": "stream",
     "text": [
      "[{'naeme': '홍길동', 'age': 20, 'email': 'kildong@hong.com', 'address': '서울시 관악구'}, {'naeme': '김길동', 'age': 40, 'email': 'kimdong@hong.com', 'address': '서울시 영등포구'}, {'naeme': '신길동', 'age': 30, 'email': 'sindong@hong.com', 'address': '서울시 동작구'}]\n"
     ]
    }
   ],
   "source": [
    "#딕셔너리 형태로 변경\n",
    "import csv # CSV 파일을 다루기 위한 표준 모듈 불러오기\n",
    "with open('data/ch09_member1.csv', 'r', encoding='utf-8') as f:\n",
    "    reader = csv.reader(f,\n",
    "                       quoting=csv.QUOTE_NONNUMERIC)\n",
    "    result = list(reader)\n",
    "dict_list = []\n",
    "for data in result:\n",
    "    dict_list.append({\n",
    "        'naeme':data[0],\n",
    "        'age':int(data[1]),\n",
    "        'email':data[2],\n",
    "        'address':data[3]        \n",
    "    })\n",
    "print(dict_list)"
   ]
  },
  {
   "cell_type": "markdown",
   "id": "55198d2f",
   "metadata": {},
   "source": [
    "## 3.2 writer(리스트 데이터를 csv파일로 변환하는 법)"
   ]
  },
  {
   "cell_type": "code",
   "execution_count": 48,
   "id": "da8ee111",
   "metadata": {},
   "outputs": [],
   "source": [
    "user_list = [['홍길동', 20, 'kildong@hong.com', '서울시 관악구'], \n",
    "             ['김길동', 40, 'kimdong@hong.com', '서울시 영등포구']]"
   ]
  },
  {
   "cell_type": "code",
   "execution_count": 49,
   "id": "9fc7510b",
   "metadata": {},
   "outputs": [],
   "source": [
    "with open('data/ch09_menber1_write.csv', 'a', newline='', encoding='utf-8') as f: \n",
    "#'a'\tappend(이어쓰기) 모드\n",
    "# newline=''\t윈도우에서 줄바꿈 오류 방지\n",
    "# writer = csv.writer(f)\t파일을 csv 쓰기용 객체로 준비\n",
    "# writer.writerows(user_list)\t2차원 리스트를 줄마다 하나씩 파일에 저장\n",
    "    writer = csv.writer(f)   # writer 객체 생성\n",
    "    writer.writerows(user_list)  # 여러 줄(행)을 한꺼번에 저장"
   ]
  },
  {
   "cell_type": "code",
   "execution_count": 50,
   "id": "1be63f95",
   "metadata": {},
   "outputs": [],
   "source": [
    "with open('data/ch09_menber1_write.csv', 'a', newline='', encoding='utf-8') as f: \n",
    "    writer = csv.writer(f, quoting=csv.QUOTE_NONNUMERIC)\n",
    "    writer.writerows(user_list)"
   ]
  },
  {
   "cell_type": "markdown",
   "id": "14be43cd",
   "metadata": {},
   "source": [
    "## 3.3 DictReader(CSV 파일을 딕셔너리로 변경하는 방법)"
   ]
  },
  {
   "cell_type": "code",
   "execution_count": 52,
   "id": "50da1452",
   "metadata": {},
   "outputs": [
    {
     "name": "stdout",
     "output_type": "stream",
     "text": [
      "{'name': '홍길동', 'age': '20', 'email': 'h@h.com', 'address': '서울시 관악구', 'job': None}\n",
      "{'name': '신길동', 'age': '40', 'email': 's@h.com', 'address': '서울시 영등포구', 'job': '팀장'}\n",
      "{'name': '김길동', 'age': '30', 'email': 'k@h.com', 'address': '서울시 동작구', 'job': None}\n"
     ]
    }
   ],
   "source": [
    "# CSV 파일을 딕셔너리로 변경하는 방법\n",
    "with open('data/ch09_member3.csv', 'r', encoding='utf-8') as f:\n",
    "    dict_reader = csv.DictReader(f)\n",
    "    for row in dict_reader:\n",
    "        print(row)"
   ]
  },
  {
   "cell_type": "code",
   "execution_count": 2,
   "id": "428e53cc",
   "metadata": {},
   "outputs": [
    {
     "name": "stdout",
     "output_type": "stream",
     "text": [
      "[{'name': '홍길동', 'age': '20', 'email': 'h@h.com', 'address': '서울시 관악구', 'job': None}, {'name': '신길동', 'age': '40', 'email': 's@h.com', 'address': '서울시 영등포구', 'job': '팀장'}, {'name': '김길동', 'age': '30', 'email': 'k@h.com', 'address': '서울시 동작구', 'job': None}]\n",
      "홍길동 20 h@h.com 서울시 관악구\n",
      "신길동 40 s@h.com 서울시 영등포구 팀장\n",
      "김길동 30 k@h.com 서울시 동작구\n"
     ]
    }
   ],
   "source": [
    "import csv\n",
    "with open('data/ch09_member3.csv', 'r', encoding='utf-8') as f:\n",
    "    dict_reader = csv.DictReader(f) \n",
    "# csv.DictReader : CSV 파일을 읽을 때, 각 줄(row)을 딕셔너리(dict) 형태로 변환해주는 도구\n",
    "    dict_list = list(dict_reader)\n",
    "print(dict_list)\n",
    "for row in dict_list:\n",
    "    if row['job'] is None:\n",
    "        print(row['name'], row['age'], row['email'], row['address'])\n",
    "    else:\n",
    "        print(row['name'], row['age'], row['email'], row['address'], row['job'])"
   ]
  },
  {
   "cell_type": "code",
   "execution_count": 3,
   "id": "9d67e898",
   "metadata": {},
   "outputs": [
    {
     "name": "stdout",
     "output_type": "stream",
     "text": [
      "{'Name': '홍길동', 'Age': '20', 'Email': 'kildong@hong.com', 'Address': '서울시 관악구', 'Job': ''}\n",
      "{'Name': '김길동', 'Age': '40', 'Email': 'kimdong@hong.com', 'Address': '서울시 영등포구', 'Job': '팀장'}\n",
      "{'Name': '신길동', 'Age': '30', 'Email': 'sindong@hong.com', 'Address': '서울시 동작구', 'Job': ''}\n"
     ]
    }
   ],
   "source": [
    "#header가 없는 csv파일(ch09_member1-cp.csv)을 딕셔너리로 읽기\n",
    "with open('data/ch09_member1-cp.csv', encoding='cp949') as f:\n",
    "    dict_reader = csv.DictReader(f,\n",
    "                                fieldnames=['Name','Age','Email','Address','Job'])\n",
    "    result = list(dict_reader)\n",
    "for row in result:\n",
    "    print(row)"
   ]
  },
  {
   "cell_type": "code",
   "execution_count": 4,
   "id": "10ad75db",
   "metadata": {},
   "outputs": [
    {
     "name": "stdout",
     "output_type": "stream",
     "text": [
      "{'Name': '홍길동', 'Age': '20', 'Email': 'kildong@hong.com', 'Address': '서울시 관악구', 'job': ['']}\n",
      "{'Name': '김길동', 'Age': '40', 'Email': 'kimdong@hong.com', 'Address': '서울시 영등포구', 'job': ['팀장']}\n",
      "{'Name': '신길동', 'Age': '30', 'Email': 'sindong@hong.com', 'Address': '서울시 동작구', 'job': ['']}\n"
     ]
    }
   ],
   "source": [
    "#header가 없는 csv파일(ch09_member1-cp.csv)을 딕셔너리로 읽기\n",
    "with open('data/ch09_member1-cp.csv', encoding='cp949') as f:\n",
    "    dict_reader = csv.DictReader(f,\n",
    "                                fieldnames=['Name','Age','Email','Address'],\n",
    "                                restkey='job')\n",
    "    result = list(dict_reader)\n",
    "for row in result:\n",
    "    print(row)"
   ]
  },
  {
   "cell_type": "markdown",
   "id": "a1f3fbe7",
   "metadata": {},
   "source": [
    "## 3.4 DictWriter : 딕셔너리 형태의 데이터를 CSV 파일로 저장할 수 있게 해주는 클래스\n",
    "- 파이썬의 csv 모듈에서 제공하는 기능으로,딕셔너리 형태의 데이터를 CSV 파일로 저장할 수 있게 해주는 클래스\n",
    "- 딕셔너리 리스트->CSV파일"
   ]
  },
  {
   "cell_type": "code",
   "execution_count": 10,
   "id": "38c4191b",
   "metadata": {},
   "outputs": [],
   "source": [
    "user1 = {'name':'홍길동','age':22, 'email':'a@a.com', 'address':'신림동'}\n",
    "user2 = {'name':'신길동','age':32, 'email':'a@a.com', 'address':'신림동'}\n",
    "user3 = {'name':'김길동','age':42, 'email':'a@a.com', 'address':'신림동'}\n",
    "user_list = [user1, user2, user3]\n",
    "fieldnames = list(user1.keys()) #fieldnames는 DictWriter에서 CSV 파일의 열 이름(헤더) 를 지정해주는 리스트입니다."
   ]
  },
  {
   "cell_type": "code",
   "execution_count": 11,
   "id": "8f60d95a",
   "metadata": {},
   "outputs": [],
   "source": [
    "with open('data/ch09_member4.csv', 'w', encoding='utf-8', newline='') as f:\n",
    "    dict_writer = csv.DictWriter(f,\n",
    "                                fieldnames=fieldnames)\n",
    "    dict_writer.writeheader() #header 쓰기\n",
    "    dict_writer.writerows(user_list)"
   ]
  },
  {
   "cell_type": "markdown",
   "id": "89c6daef",
   "metadata": {},
   "source": [
    "## CSV<->데이터프레임"
   ]
  },
  {
   "cell_type": "code",
   "execution_count": 15,
   "id": "64ff4df1",
   "metadata": {},
   "outputs": [],
   "source": [
    "# 데이터프레임 : 엑셀 표처럼 생긴 데이터 구조예요. 행(row)과 열(column)로 구성된 2차원 표 형태의 데이터입니다.\n",
    "# pandas의 역할 : pandas는 **표 형태의 데이터(테이블)**를 다루는 데 특화된 라이브러리입니다.\n",
    "# CSV 파일을 읽으면 → 데이터프레임, 데이터프레임을 저장하면 → CSV 파일이 됩니다.\n",
    "# 작업 :CSV → DataFrame 함수: pd.read_csv() 설명: 파일을 읽어 표 형태로 변환\n",
    "# 작업 : DataFrame → CSV 함수: df.to_csv() 설명 :표 형태를 파일로 저장"
   ]
  },
  {
   "cell_type": "code",
   "execution_count": 14,
   "id": "5e167ace",
   "metadata": {},
   "outputs": [
    {
     "data": {
      "text/html": [
       "<div>\n",
       "<style scoped>\n",
       "    .dataframe tbody tr th:only-of-type {\n",
       "        vertical-align: middle;\n",
       "    }\n",
       "\n",
       "    .dataframe tbody tr th {\n",
       "        vertical-align: top;\n",
       "    }\n",
       "\n",
       "    .dataframe thead th {\n",
       "        text-align: right;\n",
       "    }\n",
       "</style>\n",
       "<table border=\"1\" class=\"dataframe\">\n",
       "  <thead>\n",
       "    <tr style=\"text-align: right;\">\n",
       "      <th></th>\n",
       "      <th>name</th>\n",
       "      <th>age</th>\n",
       "      <th>email</th>\n",
       "      <th>address</th>\n",
       "      <th>job</th>\n",
       "    </tr>\n",
       "  </thead>\n",
       "  <tbody>\n",
       "    <tr>\n",
       "      <th>0</th>\n",
       "      <td>홍길동</td>\n",
       "      <td>20</td>\n",
       "      <td>h@h.com</td>\n",
       "      <td>서울시 관악구</td>\n",
       "      <td>NaN</td>\n",
       "    </tr>\n",
       "    <tr>\n",
       "      <th>1</th>\n",
       "      <td>신길동</td>\n",
       "      <td>40</td>\n",
       "      <td>s@h.com</td>\n",
       "      <td>서울시 영등포구</td>\n",
       "      <td>팀장</td>\n",
       "    </tr>\n",
       "    <tr>\n",
       "      <th>2</th>\n",
       "      <td>김길동</td>\n",
       "      <td>30</td>\n",
       "      <td>k@h.com</td>\n",
       "      <td>서울시 동작구</td>\n",
       "      <td>NaN</td>\n",
       "    </tr>\n",
       "  </tbody>\n",
       "</table>\n",
       "</div>"
      ],
      "text/plain": [
       "  name  age    email   address  job\n",
       "0  홍길동   20  h@h.com   서울시 관악구  NaN\n",
       "1  신길동   40  s@h.com  서울시 영등포구   팀장\n",
       "2  김길동   30  k@h.com   서울시 동작구  NaN"
      ]
     },
     "execution_count": 14,
     "metadata": {},
     "output_type": "execute_result"
    }
   ],
   "source": [
    "# 작업 :CSV → DataFrame 함수: pd.read_csv() 설명: 파일을 읽어 표 형태로 변환\n",
    "import pandas as pd\n",
    "member = pd.read_csv('data/ch09_member3.csv')\n",
    "member"
   ]
  },
  {
   "cell_type": "code",
   "execution_count": 16,
   "id": "919bf148",
   "metadata": {},
   "outputs": [
    {
     "data": {
      "text/plain": [
       "pandas.core.frame.DataFrame"
      ]
     },
     "execution_count": 16,
     "metadata": {},
     "output_type": "execute_result"
    }
   ],
   "source": [
    "type(member)"
   ]
  },
  {
   "cell_type": "markdown",
   "id": "3b39c7ae",
   "metadata": {},
   "source": [
    "# 4절. JSON 데이터 저장하고 불러오기(dump, load)\n",
    "- 딕셔너리리스트<->JSON파일(기본)\n",
    "- 객체리스트<->JSON파일"
   ]
  },
  {
   "cell_type": "markdown",
   "id": "b48ce28e",
   "metadata": {},
   "source": [
    "## 4.1 dump(파일출력)"
   ]
  },
  {
   "cell_type": "code",
   "execution_count": 20,
   "id": "aea3fd76",
   "metadata": {},
   "outputs": [],
   "source": [
    "data = [{'name':'홍길동','age':20, 'email':'kildong@hong.com', 'address':'서울'},\n",
    "        {'name':'김길동','age':30, 'email':'kildong@hong.com', 'address':'인천'}]"
   ]
  },
  {
   "cell_type": "code",
   "execution_count": 22,
   "id": "db6563cd",
   "metadata": {},
   "outputs": [],
   "source": [
    "# ensure_ascil 매개변수\n",
    "    # True : 비ASCII문은 유니코드 형태로 저장\n",
    "    # False : 비 ASCII문자 원래 형태로 저장\n",
    "import json\n",
    "with open('data/ch09_member.json', 'w', encoding='utf-8') as jsonfile:\n",
    "    json.dump(data, #딕셔너리 리스트\n",
    "             jsonfile,\n",
    "             ensure_ascii=False)"
   ]
  },
  {
   "cell_type": "code",
   "execution_count": 31,
   "id": "e679ffa0",
   "metadata": {},
   "outputs": [],
   "source": [
    "class Member:\n",
    "    def __init__(self, name, age, email, address): # 생성자: Member 객체를 만들 때 실행됨\n",
    "        self.name = name\n",
    "        self.age = age\n",
    "        self.email = email\n",
    "        self.address = address\n",
    "    def __str__(self): # 객체를 문자열로 표현할 때 사용 (print 함수로 출력 시)\n",
    "        return \"{}, {}, {}, {}\".format(self.name,\n",
    "                                      self.age,\n",
    "                                      self.email,\n",
    "                                      self.address)\n",
    "    def as_dict(self): # 객체를 딕셔너리로 변환 (JSON 등으로 저장하거나 처리할 때 유용)\n",
    "        return {\n",
    "            'name':self.name,\n",
    "            'age':self.age,\n",
    "            'email':self.email,\n",
    "            'address':self.address\n",
    "                }\n",
    "    def __eq__(self, other):\n",
    "        if isinstance(other, Member):\n",
    "            return self.__dict__ == other.__dict__\n",
    "        else:\n",
    "            return False"
   ]
  },
  {
   "cell_type": "code",
   "execution_count": 32,
   "id": "d7ab8e7f",
   "metadata": {},
   "outputs": [
    {
     "name": "stdout",
     "output_type": "stream",
     "text": [
      "True\n",
      "True\n"
     ]
    }
   ],
   "source": [
    "user1 = Member('홍길동', 22, 'a@a.com','신림동')\n",
    "user2 = Member('홍길동', 22, 'a@a.com','신림동')\n",
    "print(user1.__eq__(user2))\n",
    "print(user1==user2)"
   ]
  },
  {
   "cell_type": "code",
   "execution_count": 37,
   "id": "f0c11f7d",
   "metadata": {},
   "outputs": [],
   "source": [
    "member_list = [Member('홍길동', 22, 'a@a.com', '서울'),\n",
    "               Member('신길동', 32, 'a@a.com', '서울'),\n",
    "               Member('김길동', 42, 'a@a.com', '서울'),]"
   ]
  },
  {
   "cell_type": "code",
   "execution_count": 38,
   "id": "7ade2641",
   "metadata": {},
   "outputs": [],
   "source": [
    "with open('data/ch09_member1.json', 'w', encoding='utf-8') as jsonfile:\n",
    "    json.dump(member_list, #객체 리스트\n",
    "             jsonfile,\n",
    "             ensure_ascii=False,\n",
    "             indent='\\t',\n",
    "             default=Member.as_dict # 객체를 딕셔너리로 return 하는 인스턴스 함수\n",
    "             )"
   ]
  },
  {
   "cell_type": "markdown",
   "id": "9e792b6f",
   "metadata": {},
   "source": [
    "## 4.2 load(파일입력)\n",
    "- json파일 -> 딕셔너리 리스트(기본)\n",
    "                  ↓\n",
    "- json파일 ->   객체리스트"
   ]
  },
  {
   "cell_type": "code",
   "execution_count": 39,
   "id": "8af674ed",
   "metadata": {},
   "outputs": [],
   "source": [
    "def as_member(dic):\n",
    "    '매개변수로 딕셔너리를 받아 Member 객체를 return'\n",
    "    return Member(dic.get('name'), dic['age'], dic.get('email'), dic.get('address'))"
   ]
  },
  {
   "cell_type": "code",
   "execution_count": 40,
   "id": "b4fddb80",
   "metadata": {},
   "outputs": [
    {
     "name": "stdout",
     "output_type": "stream",
     "text": [
      "김길동, 20, z@a.com, 관악\n"
     ]
    }
   ],
   "source": [
    "member = as_member({'name':'김길동', 'age':20, 'email':'z@a.com', 'address':'관악'})\n",
    "print(member)"
   ]
  },
  {
   "cell_type": "code",
   "execution_count": 41,
   "id": "903aa641",
   "metadata": {},
   "outputs": [
    {
     "data": {
      "text/plain": [
       "[{'name': '홍길동', 'age': 20, 'email': 'kildong@hong.com', 'address': '서울'},\n",
       " {'name': '김길동', 'age': 30, 'email': 'kildong@hong.com', 'address': '인천'}]"
      ]
     },
     "execution_count": 41,
     "metadata": {},
     "output_type": "execute_result"
    }
   ],
   "source": [
    "with open('data/ch09_member.json', 'r', encoding='utf-8') as f:\n",
    "    load_data = json.load(f)\n",
    "load_data"
   ]
  },
  {
   "cell_type": "code",
   "execution_count": 43,
   "id": "b10f54a3",
   "metadata": {},
   "outputs": [
    {
     "name": "stdout",
     "output_type": "stream",
     "text": [
      "홍길동, 22, a@a.com, 서울\n",
      "신길동, 32, a@a.com, 서울\n",
      "김길동, 42, a@a.com, 서울\n"
     ]
    }
   ],
   "source": [
    "with open('data/ch09_member1.json', 'r', encoding='utf-8') as f:\n",
    "    load_member_list = json.load(f, object_hook=as_member)\n",
    "for load_member in load_member_list:\n",
    "    print(load_member)"
   ]
  },
  {
   "cell_type": "markdown",
   "id": "2c97e91f",
   "metadata": {},
   "source": [
    "## JSON->데이터프레임"
   ]
  },
  {
   "cell_type": "code",
   "execution_count": 47,
   "id": "48d332cd",
   "metadata": {},
   "outputs": [
    {
     "data": {
      "text/html": [
       "<div>\n",
       "<style scoped>\n",
       "    .dataframe tbody tr th:only-of-type {\n",
       "        vertical-align: middle;\n",
       "    }\n",
       "\n",
       "    .dataframe tbody tr th {\n",
       "        vertical-align: top;\n",
       "    }\n",
       "\n",
       "    .dataframe thead th {\n",
       "        text-align: right;\n",
       "    }\n",
       "</style>\n",
       "<table border=\"1\" class=\"dataframe\">\n",
       "  <thead>\n",
       "    <tr style=\"text-align: right;\">\n",
       "      <th></th>\n",
       "      <th>name</th>\n",
       "      <th>age</th>\n",
       "      <th>email</th>\n",
       "      <th>address</th>\n",
       "    </tr>\n",
       "  </thead>\n",
       "  <tbody>\n",
       "    <tr>\n",
       "      <th>0</th>\n",
       "      <td>홍길동</td>\n",
       "      <td>22</td>\n",
       "      <td>a@a.com</td>\n",
       "      <td>서울</td>\n",
       "    </tr>\n",
       "    <tr>\n",
       "      <th>1</th>\n",
       "      <td>신길동</td>\n",
       "      <td>32</td>\n",
       "      <td>a@a.com</td>\n",
       "      <td>서울</td>\n",
       "    </tr>\n",
       "    <tr>\n",
       "      <th>2</th>\n",
       "      <td>김길동</td>\n",
       "      <td>42</td>\n",
       "      <td>a@a.com</td>\n",
       "      <td>서울</td>\n",
       "    </tr>\n",
       "  </tbody>\n",
       "</table>\n",
       "</div>"
      ],
      "text/plain": [
       "  name  age    email address\n",
       "0  홍길동   22  a@a.com      서울\n",
       "1  신길동   32  a@a.com      서울\n",
       "2  김길동   42  a@a.com      서울"
      ]
     },
     "execution_count": 47,
     "metadata": {},
     "output_type": "execute_result"
    }
   ],
   "source": [
    "import pandas as pd\n",
    "pd.read_json('data/ch09_member1.json')\n",
    "# pd.함수() : encoding='utf-8' 기본값\n",
    "# open(파일, 모드)함수 : encoding='cp949' 기본값"
   ]
  },
  {
   "cell_type": "code",
   "execution_count": 48,
   "id": "48f36635",
   "metadata": {},
   "outputs": [
    {
     "data": {
      "text/html": [
       "<div>\n",
       "<style scoped>\n",
       "    .dataframe tbody tr th:only-of-type {\n",
       "        vertical-align: middle;\n",
       "    }\n",
       "\n",
       "    .dataframe tbody tr th {\n",
       "        vertical-align: top;\n",
       "    }\n",
       "\n",
       "    .dataframe thead th {\n",
       "        text-align: right;\n",
       "    }\n",
       "</style>\n",
       "<table border=\"1\" class=\"dataframe\">\n",
       "  <thead>\n",
       "    <tr style=\"text-align: right;\">\n",
       "      <th></th>\n",
       "      <th>name</th>\n",
       "      <th>age</th>\n",
       "      <th>email</th>\n",
       "      <th>address</th>\n",
       "    </tr>\n",
       "  </thead>\n",
       "  <tbody>\n",
       "    <tr>\n",
       "      <th>0</th>\n",
       "      <td>홍길동</td>\n",
       "      <td>22</td>\n",
       "      <td>a@a.com</td>\n",
       "      <td>서울</td>\n",
       "    </tr>\n",
       "    <tr>\n",
       "      <th>1</th>\n",
       "      <td>신길동</td>\n",
       "      <td>32</td>\n",
       "      <td>a@a.com</td>\n",
       "      <td>서울</td>\n",
       "    </tr>\n",
       "    <tr>\n",
       "      <th>2</th>\n",
       "      <td>김길동</td>\n",
       "      <td>42</td>\n",
       "      <td>a@a.com</td>\n",
       "      <td>서울</td>\n",
       "    </tr>\n",
       "  </tbody>\n",
       "</table>\n",
       "</div>"
      ],
      "text/plain": [
       "  name  age    email address\n",
       "0  홍길동   22  a@a.com      서울\n",
       "1  신길동   32  a@a.com      서울\n",
       "2  김길동   42  a@a.com      서울"
      ]
     },
     "execution_count": 48,
     "metadata": {},
     "output_type": "execute_result"
    }
   ],
   "source": [
    "pd.read_json('data/ch09_member1.json', encoding='utf-8')"
   ]
  },
  {
   "cell_type": "markdown",
   "id": "c46f1cf4",
   "metadata": {},
   "source": []
  },
  {
   "cell_type": "markdown",
   "id": "c5bd93fb",
   "metadata": {},
   "source": [
    "# 5절. hdf5(h5)파일 쓰기/읽기\n",
    "- h5py 사용 : HDF5 파일을 다루기 위해 사용하는 대표적인 라이브러리, NumPy 배열, 딕셔너리 형태의 데이터를 저장/불러올 수 있습니다.\n",
    "## 5.1 hdf5파일 쓰기\n",
    "- 기본값이 딕셔너리 데이터임. 딕셔너리 데이터를 hdf5파일에 쓰기\n",
    "- 데이터프레임을 hdf5파일에 쓰기"
   ]
  },
  {
   "cell_type": "code",
   "execution_count": 8,
   "id": "0156118e",
   "metadata": {},
   "outputs": [
    {
     "data": {
      "text/html": [
       "<div>\n",
       "<style scoped>\n",
       "    .dataframe tbody tr th:only-of-type {\n",
       "        vertical-align: middle;\n",
       "    }\n",
       "\n",
       "    .dataframe tbody tr th {\n",
       "        vertical-align: top;\n",
       "    }\n",
       "\n",
       "    .dataframe thead th {\n",
       "        text-align: right;\n",
       "    }\n",
       "</style>\n",
       "<table border=\"1\" class=\"dataframe\">\n",
       "  <thead>\n",
       "    <tr style=\"text-align: right;\">\n",
       "      <th></th>\n",
       "      <th>sepal_length</th>\n",
       "      <th>sepal_width</th>\n",
       "      <th>petal_length</th>\n",
       "      <th>petal_width</th>\n",
       "      <th>species</th>\n",
       "    </tr>\n",
       "  </thead>\n",
       "  <tbody>\n",
       "    <tr>\n",
       "      <th>0</th>\n",
       "      <td>5.1</td>\n",
       "      <td>3.5</td>\n",
       "      <td>1.4</td>\n",
       "      <td>0.2</td>\n",
       "      <td>setosa</td>\n",
       "    </tr>\n",
       "    <tr>\n",
       "      <th>50</th>\n",
       "      <td>7.0</td>\n",
       "      <td>3.2</td>\n",
       "      <td>4.7</td>\n",
       "      <td>1.4</td>\n",
       "      <td>versicolor</td>\n",
       "    </tr>\n",
       "    <tr>\n",
       "      <th>100</th>\n",
       "      <td>6.3</td>\n",
       "      <td>3.3</td>\n",
       "      <td>6.0</td>\n",
       "      <td>2.5</td>\n",
       "      <td>virginica</td>\n",
       "    </tr>\n",
       "  </tbody>\n",
       "</table>\n",
       "</div>"
      ],
      "text/plain": [
       "     sepal_length  sepal_width  petal_length  petal_width     species\n",
       "0             5.1          3.5           1.4          0.2      setosa\n",
       "50            7.0          3.2           4.7          1.4  versicolor\n",
       "100           6.3          3.3           6.0          2.5   virginica"
      ]
     },
     "metadata": {},
     "output_type": "display_data"
    }
   ],
   "source": [
    "# seaborn : 시각화 패키지(아나콘다 설치시 기본사용됨.) 학습을 위한 데이터셋 다수\n",
    "import seaborn as sns\n",
    "iris_df = sns.load_dataset(\"iris\")\n",
    "display(iris_df[::50]) #print()함수를 쓰면 가독성이 떨어짐\n",
    "# sns.load_dataset() : seaborn에서 제공하는 예제 데이터셋을 불러오는 함수입니다.\n",
    "#            이걸 쓰는 이유 : 학습이나 시각화 예제를 만들 때 실험용 데이터를 쉽게 불러오기 위해 사용합니다.\n",
    "#            예시 또는 활용 방식 : sns.load_dataset(\"iris\"), sns.load_dataset(\"titanic\") 등\n",
    "#iris 데이터셋 각각 50개 데이터의 꽃받침의 길이와 너비, 꽃잎의 길이와 너비를 센티미터 단위로 측정하여 정리한 데이터셋"
   ]
  },
  {
   "cell_type": "code",
   "execution_count": 9,
   "id": "11fd6110",
   "metadata": {},
   "outputs": [],
   "source": [
    "iris_df.to_hdf('data/ch09_iris.hdf5', key='iris')\n",
    "#to_이후 TAB키를 누르면 함수가 많이뜸. 변경할 화일확장자로 선택하여 사용\n",
    "#iris_df\t앞서 불러온 iris 데이터셋의 DataFrame\n",
    "#.to_hdf()\tpandas에서 DataFrame을 .h5 또는 .hdf5 파일로 저장하는 메서드\n",
    "#'data/ch09_iris.hdf5'\t저장할 파일 경로 및 이름 (data 폴더 안에 ch09_iris.hdf5로 저장됨)\n",
    "#key='iris'\tHDF5 파일 내부에서 사용할 데이터 이름 (그룹 이름처럼 작동)"
   ]
  },
  {
   "cell_type": "code",
   "execution_count": 14,
   "id": "ca9e6435",
   "metadata": {},
   "outputs": [],
   "source": [
    "iris_df.to_hdf(\"data/ch09_iris.hdf5\", key='iris')"
   ]
  },
  {
   "cell_type": "code",
   "execution_count": 17,
   "id": "01354a9b",
   "metadata": {},
   "outputs": [
    {
     "data": {
      "text/plain": [
       "(dict, pandas.core.frame.DataFrame)"
      ]
     },
     "execution_count": 17,
     "metadata": {},
     "output_type": "execute_result"
    }
   ],
   "source": [
    "iris_dic = iris_df.to_dict()#DataFrame을 Python의 딕셔너리 형태로 변환\n",
    "type(iris_dic), type(iris_df)\n",
    "#type(iris_dic)\tdict 타입 (파이썬 기본 딕셔너리)\n",
    "#type(iris_df)\tpandas.core.frame.DataFrame 타입 (원래 형식)"
   ]
  },
  {
   "cell_type": "code",
   "execution_count": 19,
   "id": "139dacdf",
   "metadata": {},
   "outputs": [
    {
     "data": {
      "text/plain": [
       "dict_keys(['sepal_length', 'sepal_width', 'petal_length', 'petal_width', 'species'])"
      ]
     },
     "execution_count": 19,
     "metadata": {},
     "output_type": "execute_result"
    }
   ],
   "source": [
    "iris_dic.keys()"
   ]
  },
  {
   "cell_type": "code",
   "execution_count": 20,
   "id": "0243cedf",
   "metadata": {
    "collapsed": true
   },
   "outputs": [
    {
     "name": "stdout",
     "output_type": "stream",
     "text": [
      "그룹명: sepal_length\n",
      "{0: 5.1, 1: 4.9, 2: 4.7, 3: 4.6, 4: 5.0, 5: 5.4, 6: 4.6, 7: 5.0, 8: 4.4, 9: 4.9, 10: 5.4, 11: 4.8, 12: 4.8, 13: 4.3, 14: 5.8, 15: 5.7, 16: 5.4, 17: 5.1, 18: 5.7, 19: 5.1, 20: 5.4, 21: 5.1, 22: 4.6, 23: 5.1, 24: 4.8, 25: 5.0, 26: 5.0, 27: 5.2, 28: 5.2, 29: 4.7, 30: 4.8, 31: 5.4, 32: 5.2, 33: 5.5, 34: 4.9, 35: 5.0, 36: 5.5, 37: 4.9, 38: 4.4, 39: 5.1, 40: 5.0, 41: 4.5, 42: 4.4, 43: 5.0, 44: 5.1, 45: 4.8, 46: 5.1, 47: 4.6, 48: 5.3, 49: 5.0, 50: 7.0, 51: 6.4, 52: 6.9, 53: 5.5, 54: 6.5, 55: 5.7, 56: 6.3, 57: 4.9, 58: 6.6, 59: 5.2, 60: 5.0, 61: 5.9, 62: 6.0, 63: 6.1, 64: 5.6, 65: 6.7, 66: 5.6, 67: 5.8, 68: 6.2, 69: 5.6, 70: 5.9, 71: 6.1, 72: 6.3, 73: 6.1, 74: 6.4, 75: 6.6, 76: 6.8, 77: 6.7, 78: 6.0, 79: 5.7, 80: 5.5, 81: 5.5, 82: 5.8, 83: 6.0, 84: 5.4, 85: 6.0, 86: 6.7, 87: 6.3, 88: 5.6, 89: 5.5, 90: 5.5, 91: 6.1, 92: 5.8, 93: 5.0, 94: 5.6, 95: 5.7, 96: 5.7, 97: 6.2, 98: 5.1, 99: 5.7, 100: 6.3, 101: 5.8, 102: 7.1, 103: 6.3, 104: 6.5, 105: 7.6, 106: 4.9, 107: 7.3, 108: 6.7, 109: 7.2, 110: 6.5, 111: 6.4, 112: 6.8, 113: 5.7, 114: 5.8, 115: 6.4, 116: 6.5, 117: 7.7, 118: 7.7, 119: 6.0, 120: 6.9, 121: 5.6, 122: 7.7, 123: 6.3, 124: 6.7, 125: 7.2, 126: 6.2, 127: 6.1, 128: 6.4, 129: 7.2, 130: 7.4, 131: 7.9, 132: 6.4, 133: 6.3, 134: 6.1, 135: 7.7, 136: 6.3, 137: 6.4, 138: 6.0, 139: 6.9, 140: 6.7, 141: 6.9, 142: 5.8, 143: 6.8, 144: 6.7, 145: 6.7, 146: 6.3, 147: 6.5, 148: 6.2, 149: 5.9}\n",
      "그룹명: sepal_width\n",
      "{0: 3.5, 1: 3.0, 2: 3.2, 3: 3.1, 4: 3.6, 5: 3.9, 6: 3.4, 7: 3.4, 8: 2.9, 9: 3.1, 10: 3.7, 11: 3.4, 12: 3.0, 13: 3.0, 14: 4.0, 15: 4.4, 16: 3.9, 17: 3.5, 18: 3.8, 19: 3.8, 20: 3.4, 21: 3.7, 22: 3.6, 23: 3.3, 24: 3.4, 25: 3.0, 26: 3.4, 27: 3.5, 28: 3.4, 29: 3.2, 30: 3.1, 31: 3.4, 32: 4.1, 33: 4.2, 34: 3.1, 35: 3.2, 36: 3.5, 37: 3.6, 38: 3.0, 39: 3.4, 40: 3.5, 41: 2.3, 42: 3.2, 43: 3.5, 44: 3.8, 45: 3.0, 46: 3.8, 47: 3.2, 48: 3.7, 49: 3.3, 50: 3.2, 51: 3.2, 52: 3.1, 53: 2.3, 54: 2.8, 55: 2.8, 56: 3.3, 57: 2.4, 58: 2.9, 59: 2.7, 60: 2.0, 61: 3.0, 62: 2.2, 63: 2.9, 64: 2.9, 65: 3.1, 66: 3.0, 67: 2.7, 68: 2.2, 69: 2.5, 70: 3.2, 71: 2.8, 72: 2.5, 73: 2.8, 74: 2.9, 75: 3.0, 76: 2.8, 77: 3.0, 78: 2.9, 79: 2.6, 80: 2.4, 81: 2.4, 82: 2.7, 83: 2.7, 84: 3.0, 85: 3.4, 86: 3.1, 87: 2.3, 88: 3.0, 89: 2.5, 90: 2.6, 91: 3.0, 92: 2.6, 93: 2.3, 94: 2.7, 95: 3.0, 96: 2.9, 97: 2.9, 98: 2.5, 99: 2.8, 100: 3.3, 101: 2.7, 102: 3.0, 103: 2.9, 104: 3.0, 105: 3.0, 106: 2.5, 107: 2.9, 108: 2.5, 109: 3.6, 110: 3.2, 111: 2.7, 112: 3.0, 113: 2.5, 114: 2.8, 115: 3.2, 116: 3.0, 117: 3.8, 118: 2.6, 119: 2.2, 120: 3.2, 121: 2.8, 122: 2.8, 123: 2.7, 124: 3.3, 125: 3.2, 126: 2.8, 127: 3.0, 128: 2.8, 129: 3.0, 130: 2.8, 131: 3.8, 132: 2.8, 133: 2.8, 134: 2.6, 135: 3.0, 136: 3.4, 137: 3.1, 138: 3.0, 139: 3.1, 140: 3.1, 141: 3.1, 142: 2.7, 143: 3.2, 144: 3.3, 145: 3.0, 146: 2.5, 147: 3.0, 148: 3.4, 149: 3.0}\n",
      "그룹명: petal_length\n",
      "{0: 1.4, 1: 1.4, 2: 1.3, 3: 1.5, 4: 1.4, 5: 1.7, 6: 1.4, 7: 1.5, 8: 1.4, 9: 1.5, 10: 1.5, 11: 1.6, 12: 1.4, 13: 1.1, 14: 1.2, 15: 1.5, 16: 1.3, 17: 1.4, 18: 1.7, 19: 1.5, 20: 1.7, 21: 1.5, 22: 1.0, 23: 1.7, 24: 1.9, 25: 1.6, 26: 1.6, 27: 1.5, 28: 1.4, 29: 1.6, 30: 1.6, 31: 1.5, 32: 1.5, 33: 1.4, 34: 1.5, 35: 1.2, 36: 1.3, 37: 1.4, 38: 1.3, 39: 1.5, 40: 1.3, 41: 1.3, 42: 1.3, 43: 1.6, 44: 1.9, 45: 1.4, 46: 1.6, 47: 1.4, 48: 1.5, 49: 1.4, 50: 4.7, 51: 4.5, 52: 4.9, 53: 4.0, 54: 4.6, 55: 4.5, 56: 4.7, 57: 3.3, 58: 4.6, 59: 3.9, 60: 3.5, 61: 4.2, 62: 4.0, 63: 4.7, 64: 3.6, 65: 4.4, 66: 4.5, 67: 4.1, 68: 4.5, 69: 3.9, 70: 4.8, 71: 4.0, 72: 4.9, 73: 4.7, 74: 4.3, 75: 4.4, 76: 4.8, 77: 5.0, 78: 4.5, 79: 3.5, 80: 3.8, 81: 3.7, 82: 3.9, 83: 5.1, 84: 4.5, 85: 4.5, 86: 4.7, 87: 4.4, 88: 4.1, 89: 4.0, 90: 4.4, 91: 4.6, 92: 4.0, 93: 3.3, 94: 4.2, 95: 4.2, 96: 4.2, 97: 4.3, 98: 3.0, 99: 4.1, 100: 6.0, 101: 5.1, 102: 5.9, 103: 5.6, 104: 5.8, 105: 6.6, 106: 4.5, 107: 6.3, 108: 5.8, 109: 6.1, 110: 5.1, 111: 5.3, 112: 5.5, 113: 5.0, 114: 5.1, 115: 5.3, 116: 5.5, 117: 6.7, 118: 6.9, 119: 5.0, 120: 5.7, 121: 4.9, 122: 6.7, 123: 4.9, 124: 5.7, 125: 6.0, 126: 4.8, 127: 4.9, 128: 5.6, 129: 5.8, 130: 6.1, 131: 6.4, 132: 5.6, 133: 5.1, 134: 5.6, 135: 6.1, 136: 5.6, 137: 5.5, 138: 4.8, 139: 5.4, 140: 5.6, 141: 5.1, 142: 5.1, 143: 5.9, 144: 5.7, 145: 5.2, 146: 5.0, 147: 5.2, 148: 5.4, 149: 5.1}\n",
      "그룹명: petal_width\n",
      "{0: 0.2, 1: 0.2, 2: 0.2, 3: 0.2, 4: 0.2, 5: 0.4, 6: 0.3, 7: 0.2, 8: 0.2, 9: 0.1, 10: 0.2, 11: 0.2, 12: 0.1, 13: 0.1, 14: 0.2, 15: 0.4, 16: 0.4, 17: 0.3, 18: 0.3, 19: 0.3, 20: 0.2, 21: 0.4, 22: 0.2, 23: 0.5, 24: 0.2, 25: 0.2, 26: 0.4, 27: 0.2, 28: 0.2, 29: 0.2, 30: 0.2, 31: 0.4, 32: 0.1, 33: 0.2, 34: 0.2, 35: 0.2, 36: 0.2, 37: 0.1, 38: 0.2, 39: 0.2, 40: 0.3, 41: 0.3, 42: 0.2, 43: 0.6, 44: 0.4, 45: 0.3, 46: 0.2, 47: 0.2, 48: 0.2, 49: 0.2, 50: 1.4, 51: 1.5, 52: 1.5, 53: 1.3, 54: 1.5, 55: 1.3, 56: 1.6, 57: 1.0, 58: 1.3, 59: 1.4, 60: 1.0, 61: 1.5, 62: 1.0, 63: 1.4, 64: 1.3, 65: 1.4, 66: 1.5, 67: 1.0, 68: 1.5, 69: 1.1, 70: 1.8, 71: 1.3, 72: 1.5, 73: 1.2, 74: 1.3, 75: 1.4, 76: 1.4, 77: 1.7, 78: 1.5, 79: 1.0, 80: 1.1, 81: 1.0, 82: 1.2, 83: 1.6, 84: 1.5, 85: 1.6, 86: 1.5, 87: 1.3, 88: 1.3, 89: 1.3, 90: 1.2, 91: 1.4, 92: 1.2, 93: 1.0, 94: 1.3, 95: 1.2, 96: 1.3, 97: 1.3, 98: 1.1, 99: 1.3, 100: 2.5, 101: 1.9, 102: 2.1, 103: 1.8, 104: 2.2, 105: 2.1, 106: 1.7, 107: 1.8, 108: 1.8, 109: 2.5, 110: 2.0, 111: 1.9, 112: 2.1, 113: 2.0, 114: 2.4, 115: 2.3, 116: 1.8, 117: 2.2, 118: 2.3, 119: 1.5, 120: 2.3, 121: 2.0, 122: 2.0, 123: 1.8, 124: 2.1, 125: 1.8, 126: 1.8, 127: 1.8, 128: 2.1, 129: 1.6, 130: 1.9, 131: 2.0, 132: 2.2, 133: 1.5, 134: 1.4, 135: 2.3, 136: 2.4, 137: 1.8, 138: 1.8, 139: 2.1, 140: 2.4, 141: 2.3, 142: 1.9, 143: 2.3, 144: 2.5, 145: 2.3, 146: 1.9, 147: 2.0, 148: 2.3, 149: 1.8}\n",
      "그룹명: species\n",
      "{0: 'setosa', 1: 'setosa', 2: 'setosa', 3: 'setosa', 4: 'setosa', 5: 'setosa', 6: 'setosa', 7: 'setosa', 8: 'setosa', 9: 'setosa', 10: 'setosa', 11: 'setosa', 12: 'setosa', 13: 'setosa', 14: 'setosa', 15: 'setosa', 16: 'setosa', 17: 'setosa', 18: 'setosa', 19: 'setosa', 20: 'setosa', 21: 'setosa', 22: 'setosa', 23: 'setosa', 24: 'setosa', 25: 'setosa', 26: 'setosa', 27: 'setosa', 28: 'setosa', 29: 'setosa', 30: 'setosa', 31: 'setosa', 32: 'setosa', 33: 'setosa', 34: 'setosa', 35: 'setosa', 36: 'setosa', 37: 'setosa', 38: 'setosa', 39: 'setosa', 40: 'setosa', 41: 'setosa', 42: 'setosa', 43: 'setosa', 44: 'setosa', 45: 'setosa', 46: 'setosa', 47: 'setosa', 48: 'setosa', 49: 'setosa', 50: 'versicolor', 51: 'versicolor', 52: 'versicolor', 53: 'versicolor', 54: 'versicolor', 55: 'versicolor', 56: 'versicolor', 57: 'versicolor', 58: 'versicolor', 59: 'versicolor', 60: 'versicolor', 61: 'versicolor', 62: 'versicolor', 63: 'versicolor', 64: 'versicolor', 65: 'versicolor', 66: 'versicolor', 67: 'versicolor', 68: 'versicolor', 69: 'versicolor', 70: 'versicolor', 71: 'versicolor', 72: 'versicolor', 73: 'versicolor', 74: 'versicolor', 75: 'versicolor', 76: 'versicolor', 77: 'versicolor', 78: 'versicolor', 79: 'versicolor', 80: 'versicolor', 81: 'versicolor', 82: 'versicolor', 83: 'versicolor', 84: 'versicolor', 85: 'versicolor', 86: 'versicolor', 87: 'versicolor', 88: 'versicolor', 89: 'versicolor', 90: 'versicolor', 91: 'versicolor', 92: 'versicolor', 93: 'versicolor', 94: 'versicolor', 95: 'versicolor', 96: 'versicolor', 97: 'versicolor', 98: 'versicolor', 99: 'versicolor', 100: 'virginica', 101: 'virginica', 102: 'virginica', 103: 'virginica', 104: 'virginica', 105: 'virginica', 106: 'virginica', 107: 'virginica', 108: 'virginica', 109: 'virginica', 110: 'virginica', 111: 'virginica', 112: 'virginica', 113: 'virginica', 114: 'virginica', 115: 'virginica', 116: 'virginica', 117: 'virginica', 118: 'virginica', 119: 'virginica', 120: 'virginica', 121: 'virginica', 122: 'virginica', 123: 'virginica', 124: 'virginica', 125: 'virginica', 126: 'virginica', 127: 'virginica', 128: 'virginica', 129: 'virginica', 130: 'virginica', 131: 'virginica', 132: 'virginica', 133: 'virginica', 134: 'virginica', 135: 'virginica', 136: 'virginica', 137: 'virginica', 138: 'virginica', 139: 'virginica', 140: 'virginica', 141: 'virginica', 142: 'virginica', 143: 'virginica', 144: 'virginica', 145: 'virginica', 146: 'virginica', 147: 'virginica', 148: 'virginica', 149: 'virginica'}\n"
     ]
    }
   ],
   "source": [
    "for group, value in iris_dic.items():\n",
    "    print('그룹명:',group)\n",
    "    print(value)\n",
    "#for group, value in iris_dic.items()\t딕셔너리의 키와 값을 하나씩 꺼내서 반복\n",
    "#group\t각 열의 이름 (ex. 'sepal_length')\n",
    "#value\t해당 열의 전체 값 (리스트 또는 시리즈 형태)\n",
    "#print()\t각 열 이름과 해당 열의 데이터를 출력"
   ]
  },
  {
   "cell_type": "code",
   "execution_count": 22,
   "id": "74a54874",
   "metadata": {
    "collapsed": true
   },
   "outputs": [
    {
     "name": "stdout",
     "output_type": "stream",
     "text": [
      "그룹명: sepal_length\n",
      "0:5.1\t1:4.9\t2:4.7\t3:4.6\t4:5.0\t5:5.4\t6:4.6\t7:5.0\t8:4.4\t9:4.9\t10:5.4\t11:4.8\t12:4.8\t13:4.3\t14:5.8\t15:5.7\t16:5.4\t17:5.1\t18:5.7\t19:5.1\t20:5.4\t21:5.1\t22:4.6\t23:5.1\t24:4.8\t25:5.0\t26:5.0\t27:5.2\t28:5.2\t29:4.7\t30:4.8\t31:5.4\t32:5.2\t33:5.5\t34:4.9\t35:5.0\t36:5.5\t37:4.9\t38:4.4\t39:5.1\t40:5.0\t41:4.5\t42:4.4\t43:5.0\t44:5.1\t45:4.8\t46:5.1\t47:4.6\t48:5.3\t49:5.0\t50:7.0\t51:6.4\t52:6.9\t53:5.5\t54:6.5\t55:5.7\t56:6.3\t57:4.9\t58:6.6\t59:5.2\t60:5.0\t61:5.9\t62:6.0\t63:6.1\t64:5.6\t65:6.7\t66:5.6\t67:5.8\t68:6.2\t69:5.6\t70:5.9\t71:6.1\t72:6.3\t73:6.1\t74:6.4\t75:6.6\t76:6.8\t77:6.7\t78:6.0\t79:5.7\t80:5.5\t81:5.5\t82:5.8\t83:6.0\t84:5.4\t85:6.0\t86:6.7\t87:6.3\t88:5.6\t89:5.5\t90:5.5\t91:6.1\t92:5.8\t93:5.0\t94:5.6\t95:5.7\t96:5.7\t97:6.2\t98:5.1\t99:5.7\t100:6.3\t101:5.8\t102:7.1\t103:6.3\t104:6.5\t105:7.6\t106:4.9\t107:7.3\t108:6.7\t109:7.2\t110:6.5\t111:6.4\t112:6.8\t113:5.7\t114:5.8\t115:6.4\t116:6.5\t117:7.7\t118:7.7\t119:6.0\t120:6.9\t121:5.6\t122:7.7\t123:6.3\t124:6.7\t125:7.2\t126:6.2\t127:6.1\t128:6.4\t129:7.2\t130:7.4\t131:7.9\t132:6.4\t133:6.3\t134:6.1\t135:7.7\t136:6.3\t137:6.4\t138:6.0\t139:6.9\t140:6.7\t141:6.9\t142:5.8\t143:6.8\t144:6.7\t145:6.7\t146:6.3\t147:6.5\t148:6.2\t149:5.9\t\n",
      "그룹명: sepal_width\n",
      "0:3.5\t1:3.0\t2:3.2\t3:3.1\t4:3.6\t5:3.9\t6:3.4\t7:3.4\t8:2.9\t9:3.1\t10:3.7\t11:3.4\t12:3.0\t13:3.0\t14:4.0\t15:4.4\t16:3.9\t17:3.5\t18:3.8\t19:3.8\t20:3.4\t21:3.7\t22:3.6\t23:3.3\t24:3.4\t25:3.0\t26:3.4\t27:3.5\t28:3.4\t29:3.2\t30:3.1\t31:3.4\t32:4.1\t33:4.2\t34:3.1\t35:3.2\t36:3.5\t37:3.6\t38:3.0\t39:3.4\t40:3.5\t41:2.3\t42:3.2\t43:3.5\t44:3.8\t45:3.0\t46:3.8\t47:3.2\t48:3.7\t49:3.3\t50:3.2\t51:3.2\t52:3.1\t53:2.3\t54:2.8\t55:2.8\t56:3.3\t57:2.4\t58:2.9\t59:2.7\t60:2.0\t61:3.0\t62:2.2\t63:2.9\t64:2.9\t65:3.1\t66:3.0\t67:2.7\t68:2.2\t69:2.5\t70:3.2\t71:2.8\t72:2.5\t73:2.8\t74:2.9\t75:3.0\t76:2.8\t77:3.0\t78:2.9\t79:2.6\t80:2.4\t81:2.4\t82:2.7\t83:2.7\t84:3.0\t85:3.4\t86:3.1\t87:2.3\t88:3.0\t89:2.5\t90:2.6\t91:3.0\t92:2.6\t93:2.3\t94:2.7\t95:3.0\t96:2.9\t97:2.9\t98:2.5\t99:2.8\t100:3.3\t101:2.7\t102:3.0\t103:2.9\t104:3.0\t105:3.0\t106:2.5\t107:2.9\t108:2.5\t109:3.6\t110:3.2\t111:2.7\t112:3.0\t113:2.5\t114:2.8\t115:3.2\t116:3.0\t117:3.8\t118:2.6\t119:2.2\t120:3.2\t121:2.8\t122:2.8\t123:2.7\t124:3.3\t125:3.2\t126:2.8\t127:3.0\t128:2.8\t129:3.0\t130:2.8\t131:3.8\t132:2.8\t133:2.8\t134:2.6\t135:3.0\t136:3.4\t137:3.1\t138:3.0\t139:3.1\t140:3.1\t141:3.1\t142:2.7\t143:3.2\t144:3.3\t145:3.0\t146:2.5\t147:3.0\t148:3.4\t149:3.0\t\n",
      "그룹명: petal_length\n",
      "0:1.4\t1:1.4\t2:1.3\t3:1.5\t4:1.4\t5:1.7\t6:1.4\t7:1.5\t8:1.4\t9:1.5\t10:1.5\t11:1.6\t12:1.4\t13:1.1\t14:1.2\t15:1.5\t16:1.3\t17:1.4\t18:1.7\t19:1.5\t20:1.7\t21:1.5\t22:1.0\t23:1.7\t24:1.9\t25:1.6\t26:1.6\t27:1.5\t28:1.4\t29:1.6\t30:1.6\t31:1.5\t32:1.5\t33:1.4\t34:1.5\t35:1.2\t36:1.3\t37:1.4\t38:1.3\t39:1.5\t40:1.3\t41:1.3\t42:1.3\t43:1.6\t44:1.9\t45:1.4\t46:1.6\t47:1.4\t48:1.5\t49:1.4\t50:4.7\t51:4.5\t52:4.9\t53:4.0\t54:4.6\t55:4.5\t56:4.7\t57:3.3\t58:4.6\t59:3.9\t60:3.5\t61:4.2\t62:4.0\t63:4.7\t64:3.6\t65:4.4\t66:4.5\t67:4.1\t68:4.5\t69:3.9\t70:4.8\t71:4.0\t72:4.9\t73:4.7\t74:4.3\t75:4.4\t76:4.8\t77:5.0\t78:4.5\t79:3.5\t80:3.8\t81:3.7\t82:3.9\t83:5.1\t84:4.5\t85:4.5\t86:4.7\t87:4.4\t88:4.1\t89:4.0\t90:4.4\t91:4.6\t92:4.0\t93:3.3\t94:4.2\t95:4.2\t96:4.2\t97:4.3\t98:3.0\t99:4.1\t100:6.0\t101:5.1\t102:5.9\t103:5.6\t104:5.8\t105:6.6\t106:4.5\t107:6.3\t108:5.8\t109:6.1\t110:5.1\t111:5.3\t112:5.5\t113:5.0\t114:5.1\t115:5.3\t116:5.5\t117:6.7\t118:6.9\t119:5.0\t120:5.7\t121:4.9\t122:6.7\t123:4.9\t124:5.7\t125:6.0\t126:4.8\t127:4.9\t128:5.6\t129:5.8\t130:6.1\t131:6.4\t132:5.6\t133:5.1\t134:5.6\t135:6.1\t136:5.6\t137:5.5\t138:4.8\t139:5.4\t140:5.6\t141:5.1\t142:5.1\t143:5.9\t144:5.7\t145:5.2\t146:5.0\t147:5.2\t148:5.4\t149:5.1\t\n",
      "그룹명: petal_width\n",
      "0:0.2\t1:0.2\t2:0.2\t3:0.2\t4:0.2\t5:0.4\t6:0.3\t7:0.2\t8:0.2\t9:0.1\t10:0.2\t11:0.2\t12:0.1\t13:0.1\t14:0.2\t15:0.4\t16:0.4\t17:0.3\t18:0.3\t19:0.3\t20:0.2\t21:0.4\t22:0.2\t23:0.5\t24:0.2\t25:0.2\t26:0.4\t27:0.2\t28:0.2\t29:0.2\t30:0.2\t31:0.4\t32:0.1\t33:0.2\t34:0.2\t35:0.2\t36:0.2\t37:0.1\t38:0.2\t39:0.2\t40:0.3\t41:0.3\t42:0.2\t43:0.6\t44:0.4\t45:0.3\t46:0.2\t47:0.2\t48:0.2\t49:0.2\t50:1.4\t51:1.5\t52:1.5\t53:1.3\t54:1.5\t55:1.3\t56:1.6\t57:1.0\t58:1.3\t59:1.4\t60:1.0\t61:1.5\t62:1.0\t63:1.4\t64:1.3\t65:1.4\t66:1.5\t67:1.0\t68:1.5\t69:1.1\t70:1.8\t71:1.3\t72:1.5\t73:1.2\t74:1.3\t75:1.4\t76:1.4\t77:1.7\t78:1.5\t79:1.0\t80:1.1\t81:1.0\t82:1.2\t83:1.6\t84:1.5\t85:1.6\t86:1.5\t87:1.3\t88:1.3\t89:1.3\t90:1.2\t91:1.4\t92:1.2\t93:1.0\t94:1.3\t95:1.2\t96:1.3\t97:1.3\t98:1.1\t99:1.3\t100:2.5\t101:1.9\t102:2.1\t103:1.8\t104:2.2\t105:2.1\t106:1.7\t107:1.8\t108:1.8\t109:2.5\t110:2.0\t111:1.9\t112:2.1\t113:2.0\t114:2.4\t115:2.3\t116:1.8\t117:2.2\t118:2.3\t119:1.5\t120:2.3\t121:2.0\t122:2.0\t123:1.8\t124:2.1\t125:1.8\t126:1.8\t127:1.8\t128:2.1\t129:1.6\t130:1.9\t131:2.0\t132:2.2\t133:1.5\t134:1.4\t135:2.3\t136:2.4\t137:1.8\t138:1.8\t139:2.1\t140:2.4\t141:2.3\t142:1.9\t143:2.3\t144:2.5\t145:2.3\t146:1.9\t147:2.0\t148:2.3\t149:1.8\t\n",
      "그룹명: species\n",
      "0:setosa\t1:setosa\t2:setosa\t3:setosa\t4:setosa\t5:setosa\t6:setosa\t7:setosa\t8:setosa\t9:setosa\t10:setosa\t11:setosa\t12:setosa\t13:setosa\t14:setosa\t15:setosa\t16:setosa\t17:setosa\t18:setosa\t19:setosa\t20:setosa\t21:setosa\t22:setosa\t23:setosa\t24:setosa\t25:setosa\t26:setosa\t27:setosa\t28:setosa\t29:setosa\t30:setosa\t31:setosa\t32:setosa\t33:setosa\t34:setosa\t35:setosa\t36:setosa\t37:setosa\t38:setosa\t39:setosa\t40:setosa\t41:setosa\t42:setosa\t43:setosa\t44:setosa\t45:setosa\t46:setosa\t47:setosa\t48:setosa\t49:setosa\t50:versicolor\t51:versicolor\t52:versicolor\t53:versicolor\t54:versicolor\t55:versicolor\t56:versicolor\t57:versicolor\t58:versicolor\t59:versicolor\t60:versicolor\t61:versicolor\t62:versicolor\t63:versicolor\t64:versicolor\t65:versicolor\t66:versicolor\t67:versicolor\t68:versicolor\t69:versicolor\t70:versicolor\t71:versicolor\t72:versicolor\t73:versicolor\t74:versicolor\t75:versicolor\t76:versicolor\t77:versicolor\t78:versicolor\t79:versicolor\t80:versicolor\t81:versicolor\t82:versicolor\t83:versicolor\t84:versicolor\t85:versicolor\t86:versicolor\t87:versicolor\t88:versicolor\t89:versicolor\t90:versicolor\t91:versicolor\t92:versicolor\t93:versicolor\t94:versicolor\t95:versicolor\t96:versicolor\t97:versicolor\t98:versicolor\t99:versicolor\t100:virginica\t101:virginica\t102:virginica\t103:virginica\t104:virginica\t105:virginica\t106:virginica\t107:virginica\t108:virginica\t109:virginica\t110:virginica\t111:virginica\t112:virginica\t113:virginica\t114:virginica\t115:virginica\t116:virginica\t117:virginica\t118:virginica\t119:virginica\t120:virginica\t121:virginica\t122:virginica\t123:virginica\t124:virginica\t125:virginica\t126:virginica\t127:virginica\t128:virginica\t129:virginica\t130:virginica\t131:virginica\t132:virginica\t133:virginica\t134:virginica\t135:virginica\t136:virginica\t137:virginica\t138:virginica\t139:virginica\t140:virginica\t141:virginica\t142:virginica\t143:virginica\t144:virginica\t145:virginica\t146:virginica\t147:virginica\t148:virginica\t149:virginica\t\n"
     ]
    }
   ],
   "source": [
    "for group, value in iris_dic.items():\n",
    "    print('그룹명:', group)\n",
    "    for key, data in value.items():\n",
    "        print('{}:{}'.format(str(key), data), end='\\t')\n",
    "    print() #개행"
   ]
  },
  {
   "cell_type": "code",
   "execution_count": 23,
   "id": "74dc11df",
   "metadata": {},
   "outputs": [],
   "source": [
    "# 딕셔너리 리스트를 hdf파일로 쓰기\n",
    "import h5py\n",
    "with h5py.File('data/ch09_iris_dic.hdf5', 'w') as f:\n",
    "    for group, value in iris_dic.items():\n",
    "        grp = f.create_group(group)\n",
    "        for key, data in value.items():\n",
    "            grp.create_dataset(str(key), data=data)"
   ]
  },
  {
   "cell_type": "markdown",
   "id": "9021163a",
   "metadata": {},
   "source": [
    "## 5.2 hdf5 파일 읽기\n",
    "- hdf5파일을 딕셔너리 리스트로 읽기\n",
    "- hdf5파일을 데이터프레임으로 읽기"
   ]
  },
  {
   "cell_type": "code",
   "execution_count": 27,
   "id": "85cc6236",
   "metadata": {
    "collapsed": true
   },
   "outputs": [
    {
     "data": {
      "text/html": [
       "<div>\n",
       "<style scoped>\n",
       "    .dataframe tbody tr th:only-of-type {\n",
       "        vertical-align: middle;\n",
       "    }\n",
       "\n",
       "    .dataframe tbody tr th {\n",
       "        vertical-align: top;\n",
       "    }\n",
       "\n",
       "    .dataframe thead th {\n",
       "        text-align: right;\n",
       "    }\n",
       "</style>\n",
       "<table border=\"1\" class=\"dataframe\">\n",
       "  <thead>\n",
       "    <tr style=\"text-align: right;\">\n",
       "      <th></th>\n",
       "      <th>sepal_length</th>\n",
       "      <th>sepal_width</th>\n",
       "      <th>petal_length</th>\n",
       "      <th>petal_width</th>\n",
       "      <th>species</th>\n",
       "    </tr>\n",
       "  </thead>\n",
       "  <tbody>\n",
       "    <tr>\n",
       "      <th>0</th>\n",
       "      <td>5.1</td>\n",
       "      <td>3.5</td>\n",
       "      <td>1.4</td>\n",
       "      <td>0.2</td>\n",
       "      <td>setosa</td>\n",
       "    </tr>\n",
       "    <tr>\n",
       "      <th>1</th>\n",
       "      <td>4.9</td>\n",
       "      <td>3.0</td>\n",
       "      <td>1.4</td>\n",
       "      <td>0.2</td>\n",
       "      <td>setosa</td>\n",
       "    </tr>\n",
       "    <tr>\n",
       "      <th>2</th>\n",
       "      <td>4.7</td>\n",
       "      <td>3.2</td>\n",
       "      <td>1.3</td>\n",
       "      <td>0.2</td>\n",
       "      <td>setosa</td>\n",
       "    </tr>\n",
       "    <tr>\n",
       "      <th>3</th>\n",
       "      <td>4.6</td>\n",
       "      <td>3.1</td>\n",
       "      <td>1.5</td>\n",
       "      <td>0.2</td>\n",
       "      <td>setosa</td>\n",
       "    </tr>\n",
       "    <tr>\n",
       "      <th>4</th>\n",
       "      <td>5.0</td>\n",
       "      <td>3.6</td>\n",
       "      <td>1.4</td>\n",
       "      <td>0.2</td>\n",
       "      <td>setosa</td>\n",
       "    </tr>\n",
       "    <tr>\n",
       "      <th>...</th>\n",
       "      <td>...</td>\n",
       "      <td>...</td>\n",
       "      <td>...</td>\n",
       "      <td>...</td>\n",
       "      <td>...</td>\n",
       "    </tr>\n",
       "    <tr>\n",
       "      <th>145</th>\n",
       "      <td>6.7</td>\n",
       "      <td>3.0</td>\n",
       "      <td>5.2</td>\n",
       "      <td>2.3</td>\n",
       "      <td>virginica</td>\n",
       "    </tr>\n",
       "    <tr>\n",
       "      <th>146</th>\n",
       "      <td>6.3</td>\n",
       "      <td>2.5</td>\n",
       "      <td>5.0</td>\n",
       "      <td>1.9</td>\n",
       "      <td>virginica</td>\n",
       "    </tr>\n",
       "    <tr>\n",
       "      <th>147</th>\n",
       "      <td>6.5</td>\n",
       "      <td>3.0</td>\n",
       "      <td>5.2</td>\n",
       "      <td>2.0</td>\n",
       "      <td>virginica</td>\n",
       "    </tr>\n",
       "    <tr>\n",
       "      <th>148</th>\n",
       "      <td>6.2</td>\n",
       "      <td>3.4</td>\n",
       "      <td>5.4</td>\n",
       "      <td>2.3</td>\n",
       "      <td>virginica</td>\n",
       "    </tr>\n",
       "    <tr>\n",
       "      <th>149</th>\n",
       "      <td>5.9</td>\n",
       "      <td>3.0</td>\n",
       "      <td>5.1</td>\n",
       "      <td>1.8</td>\n",
       "      <td>virginica</td>\n",
       "    </tr>\n",
       "  </tbody>\n",
       "</table>\n",
       "<p>150 rows × 5 columns</p>\n",
       "</div>"
      ],
      "text/plain": [
       "     sepal_length  sepal_width  petal_length  petal_width    species\n",
       "0             5.1          3.5           1.4          0.2     setosa\n",
       "1             4.9          3.0           1.4          0.2     setosa\n",
       "2             4.7          3.2           1.3          0.2     setosa\n",
       "3             4.6          3.1           1.5          0.2     setosa\n",
       "4             5.0          3.6           1.4          0.2     setosa\n",
       "..            ...          ...           ...          ...        ...\n",
       "145           6.7          3.0           5.2          2.3  virginica\n",
       "146           6.3          2.5           5.0          1.9  virginica\n",
       "147           6.5          3.0           5.2          2.0  virginica\n",
       "148           6.2          3.4           5.4          2.3  virginica\n",
       "149           5.9          3.0           5.1          1.8  virginica\n",
       "\n",
       "[150 rows x 5 columns]"
      ]
     },
     "execution_count": 27,
     "metadata": {},
     "output_type": "execute_result"
    }
   ],
   "source": [
    "import pandas as pd\n",
    "load_iris_df = pd.read_hdf('data/ch09_iris.hdf5', key='iris')\n",
    "load_iris_df\n",
    "#pd.read_hdf()\tpandas에서 .hdf5 또는 .h5 형식의 파일을 불러올 때 사용하는 함수\n",
    "#'data/ch09_iris.hdf5'\t불러올 파일 경로 및 이름\n",
    "#key='iris'\t해당 HDF5 파일 안에 저장된 \"그룹 이름\" 혹은 데이터셋 이름입니다.\n",
    "#.to_hdf()에서 저장할 때 지정했던 key와 같아야 합니다."
   ]
  },
  {
   "cell_type": "code",
   "execution_count": 28,
   "id": "68e4ec9c",
   "metadata": {},
   "outputs": [
    {
     "data": {
      "text/plain": [
       "True"
      ]
     },
     "execution_count": 28,
     "metadata": {},
     "output_type": "execute_result"
    }
   ],
   "source": [
    "all(iris_df == load_iris_df) #두 데이터프레임 변수의 모든 행과 열의 값이 같은지 여부"
   ]
  },
  {
   "cell_type": "code",
   "execution_count": 30,
   "id": "c5ac6be6",
   "metadata": {
    "collapsed": true
   },
   "outputs": [
    {
     "name": "stdout",
     "output_type": "stream",
     "text": [
      "그룹 :  petal_length\n",
      "0:1.4\t1:1.4\t10:1.5\t100:6.0\t101:5.1\t102:5.9\t103:5.6\t104:5.8\t105:6.6\t106:4.5\t107:6.3\t108:5.8\t109:6.1\t11:1.6\t110:5.1\t111:5.3\t112:5.5\t113:5.0\t114:5.1\t115:5.3\t116:5.5\t117:6.7\t118:6.9\t119:5.0\t12:1.4\t120:5.7\t121:4.9\t122:6.7\t123:4.9\t124:5.7\t125:6.0\t126:4.8\t127:4.9\t128:5.6\t129:5.8\t13:1.1\t130:6.1\t131:6.4\t132:5.6\t133:5.1\t134:5.6\t135:6.1\t136:5.6\t137:5.5\t138:4.8\t139:5.4\t14:1.2\t140:5.6\t141:5.1\t142:5.1\t143:5.9\t144:5.7\t145:5.2\t146:5.0\t147:5.2\t148:5.4\t149:5.1\t15:1.5\t16:1.3\t17:1.4\t18:1.7\t19:1.5\t2:1.3\t20:1.7\t21:1.5\t22:1.0\t23:1.7\t24:1.9\t25:1.6\t26:1.6\t27:1.5\t28:1.4\t29:1.6\t3:1.5\t30:1.6\t31:1.5\t32:1.5\t33:1.4\t34:1.5\t35:1.2\t36:1.3\t37:1.4\t38:1.3\t39:1.5\t4:1.4\t40:1.3\t41:1.3\t42:1.3\t43:1.6\t44:1.9\t45:1.4\t46:1.6\t47:1.4\t48:1.5\t49:1.4\t5:1.7\t50:4.7\t51:4.5\t52:4.9\t53:4.0\t54:4.6\t55:4.5\t56:4.7\t57:3.3\t58:4.6\t59:3.9\t6:1.4\t60:3.5\t61:4.2\t62:4.0\t63:4.7\t64:3.6\t65:4.4\t66:4.5\t67:4.1\t68:4.5\t69:3.9\t7:1.5\t70:4.8\t71:4.0\t72:4.9\t73:4.7\t74:4.3\t75:4.4\t76:4.8\t77:5.0\t78:4.5\t79:3.5\t8:1.4\t80:3.8\t81:3.7\t82:3.9\t83:5.1\t84:4.5\t85:4.5\t86:4.7\t87:4.4\t88:4.1\t89:4.0\t9:1.5\t90:4.4\t91:4.6\t92:4.0\t93:3.3\t94:4.2\t95:4.2\t96:4.2\t97:4.3\t98:3.0\t99:4.1\t그룹 :  petal_width\n",
      "0:0.2\t1:0.2\t10:0.2\t100:2.5\t101:1.9\t102:2.1\t103:1.8\t104:2.2\t105:2.1\t106:1.7\t107:1.8\t108:1.8\t109:2.5\t11:0.2\t110:2.0\t111:1.9\t112:2.1\t113:2.0\t114:2.4\t115:2.3\t116:1.8\t117:2.2\t118:2.3\t119:1.5\t12:0.1\t120:2.3\t121:2.0\t122:2.0\t123:1.8\t124:2.1\t125:1.8\t126:1.8\t127:1.8\t128:2.1\t129:1.6\t13:0.1\t130:1.9\t131:2.0\t132:2.2\t133:1.5\t134:1.4\t135:2.3\t136:2.4\t137:1.8\t138:1.8\t139:2.1\t14:0.2\t140:2.4\t141:2.3\t142:1.9\t143:2.3\t144:2.5\t145:2.3\t146:1.9\t147:2.0\t148:2.3\t149:1.8\t15:0.4\t16:0.4\t17:0.3\t18:0.3\t19:0.3\t2:0.2\t20:0.2\t21:0.4\t22:0.2\t23:0.5\t24:0.2\t25:0.2\t26:0.4\t27:0.2\t28:0.2\t29:0.2\t3:0.2\t30:0.2\t31:0.4\t32:0.1\t33:0.2\t34:0.2\t35:0.2\t36:0.2\t37:0.1\t38:0.2\t39:0.2\t4:0.2\t40:0.3\t41:0.3\t42:0.2\t43:0.6\t44:0.4\t45:0.3\t46:0.2\t47:0.2\t48:0.2\t49:0.2\t5:0.4\t50:1.4\t51:1.5\t52:1.5\t53:1.3\t54:1.5\t55:1.3\t56:1.6\t57:1.0\t58:1.3\t59:1.4\t6:0.3\t60:1.0\t61:1.5\t62:1.0\t63:1.4\t64:1.3\t65:1.4\t66:1.5\t67:1.0\t68:1.5\t69:1.1\t7:0.2\t70:1.8\t71:1.3\t72:1.5\t73:1.2\t74:1.3\t75:1.4\t76:1.4\t77:1.7\t78:1.5\t79:1.0\t8:0.2\t80:1.1\t81:1.0\t82:1.2\t83:1.6\t84:1.5\t85:1.6\t86:1.5\t87:1.3\t88:1.3\t89:1.3\t9:0.1\t90:1.2\t91:1.4\t92:1.2\t93:1.0\t94:1.3\t95:1.2\t96:1.3\t97:1.3\t98:1.1\t99:1.3\t그룹 :  sepal_length\n",
      "0:5.1\t1:4.9\t10:5.4\t100:6.3\t101:5.8\t102:7.1\t103:6.3\t104:6.5\t105:7.6\t106:4.9\t107:7.3\t108:6.7\t109:7.2\t11:4.8\t110:6.5\t111:6.4\t112:6.8\t113:5.7\t114:5.8\t115:6.4\t116:6.5\t117:7.7\t118:7.7\t119:6.0\t12:4.8\t120:6.9\t121:5.6\t122:7.7\t123:6.3\t124:6.7\t125:7.2\t126:6.2\t127:6.1\t128:6.4\t129:7.2\t13:4.3\t130:7.4\t131:7.9\t132:6.4\t133:6.3\t134:6.1\t135:7.7\t136:6.3\t137:6.4\t138:6.0\t139:6.9\t14:5.8\t140:6.7\t141:6.9\t142:5.8\t143:6.8\t144:6.7\t145:6.7\t146:6.3\t147:6.5\t148:6.2\t149:5.9\t15:5.7\t16:5.4\t17:5.1\t18:5.7\t19:5.1\t2:4.7\t20:5.4\t21:5.1\t22:4.6\t23:5.1\t24:4.8\t25:5.0\t26:5.0\t27:5.2\t28:5.2\t29:4.7\t3:4.6\t30:4.8\t31:5.4\t32:5.2\t33:5.5\t34:4.9\t35:5.0\t36:5.5\t37:4.9\t38:4.4\t39:5.1\t4:5.0\t40:5.0\t41:4.5\t42:4.4\t43:5.0\t44:5.1\t45:4.8\t46:5.1\t47:4.6\t48:5.3\t49:5.0\t5:5.4\t50:7.0\t51:6.4\t52:6.9\t53:5.5\t54:6.5\t55:5.7\t56:6.3\t57:4.9\t58:6.6\t59:5.2\t6:4.6\t60:5.0\t61:5.9\t62:6.0\t63:6.1\t64:5.6\t65:6.7\t66:5.6\t67:5.8\t68:6.2\t69:5.6\t7:5.0\t70:5.9\t71:6.1\t72:6.3\t73:6.1\t74:6.4\t75:6.6\t76:6.8\t77:6.7\t78:6.0\t79:5.7\t8:4.4\t80:5.5\t81:5.5\t82:5.8\t83:6.0\t84:5.4\t85:6.0\t86:6.7\t87:6.3\t88:5.6\t89:5.5\t9:4.9\t90:5.5\t91:6.1\t92:5.8\t93:5.0\t94:5.6\t95:5.7\t96:5.7\t97:6.2\t98:5.1\t99:5.7\t그룹 :  sepal_width\n",
      "0:3.5\t1:3.0\t10:3.7\t100:3.3\t101:2.7\t102:3.0\t103:2.9\t104:3.0\t105:3.0\t106:2.5\t107:2.9\t108:2.5\t109:3.6\t11:3.4\t110:3.2\t111:2.7\t112:3.0\t113:2.5\t114:2.8\t115:3.2\t116:3.0\t117:3.8\t118:2.6\t119:2.2\t12:3.0\t120:3.2\t121:2.8\t122:2.8\t123:2.7\t124:3.3\t125:3.2\t126:2.8\t127:3.0\t128:2.8\t129:3.0\t13:3.0\t130:2.8\t131:3.8\t132:2.8\t133:2.8\t134:2.6\t135:3.0\t136:3.4\t137:3.1\t138:3.0\t139:3.1\t14:4.0\t140:3.1\t141:3.1\t142:2.7\t143:3.2\t144:3.3\t145:3.0\t146:2.5\t147:3.0\t148:3.4\t149:3.0\t15:4.4\t16:3.9\t17:3.5\t18:3.8\t19:3.8\t2:3.2\t20:3.4\t21:3.7\t22:3.6\t23:3.3\t24:3.4\t25:3.0\t26:3.4\t27:3.5\t28:3.4\t29:3.2\t3:3.1\t30:3.1\t31:3.4\t32:4.1\t33:4.2\t34:3.1\t35:3.2\t36:3.5\t37:3.6\t38:3.0\t39:3.4\t4:3.6\t40:3.5\t41:2.3\t42:3.2\t43:3.5\t44:3.8\t45:3.0\t46:3.8\t47:3.2\t48:3.7\t49:3.3\t5:3.9\t50:3.2\t51:3.2\t52:3.1\t53:2.3\t54:2.8\t55:2.8\t56:3.3\t57:2.4\t58:2.9\t59:2.7\t6:3.4\t60:2.0\t61:3.0\t62:2.2\t63:2.9\t64:2.9\t65:3.1\t66:3.0\t67:2.7\t68:2.2\t69:2.5\t7:3.4\t70:3.2\t71:2.8\t72:2.5\t73:2.8\t74:2.9\t75:3.0\t76:2.8\t77:3.0\t78:2.9\t79:2.6\t8:2.9\t80:2.4\t81:2.4\t82:2.7\t83:2.7\t84:3.0\t85:3.4\t86:3.1\t87:2.3\t88:3.0\t89:2.5\t9:3.1\t90:2.6\t91:3.0\t92:2.6\t93:2.3\t94:2.7\t95:3.0\t96:2.9\t97:2.9\t98:2.5\t99:2.8\t그룹 :  species\n",
      "0:b'setosa'\t1:b'setosa'\t10:b'setosa'\t100:b'virginica'\t101:b'virginica'\t102:b'virginica'\t103:b'virginica'\t104:b'virginica'\t105:b'virginica'\t106:b'virginica'\t107:b'virginica'\t108:b'virginica'\t109:b'virginica'\t11:b'setosa'\t110:b'virginica'\t111:b'virginica'\t112:b'virginica'\t113:b'virginica'\t114:b'virginica'\t115:b'virginica'\t116:b'virginica'\t117:b'virginica'\t118:b'virginica'\t119:b'virginica'\t12:b'setosa'\t120:b'virginica'\t121:b'virginica'\t122:b'virginica'\t123:b'virginica'\t124:b'virginica'\t125:b'virginica'\t126:b'virginica'\t127:b'virginica'\t128:b'virginica'\t129:b'virginica'\t13:b'setosa'\t130:b'virginica'\t131:b'virginica'\t132:b'virginica'\t133:b'virginica'\t134:b'virginica'\t135:b'virginica'\t136:b'virginica'\t137:b'virginica'\t138:b'virginica'\t139:b'virginica'\t14:b'setosa'\t140:b'virginica'\t141:b'virginica'\t142:b'virginica'\t143:b'virginica'\t144:b'virginica'\t145:b'virginica'\t146:b'virginica'\t147:b'virginica'\t148:b'virginica'\t149:b'virginica'\t15:b'setosa'\t16:b'setosa'\t17:b'setosa'\t18:b'setosa'\t19:b'setosa'\t2:b'setosa'\t20:b'setosa'\t21:b'setosa'\t22:b'setosa'\t23:b'setosa'\t24:b'setosa'\t25:b'setosa'\t26:b'setosa'\t27:b'setosa'\t28:b'setosa'\t29:b'setosa'\t3:b'setosa'\t30:b'setosa'\t31:b'setosa'\t32:b'setosa'\t33:b'setosa'\t34:b'setosa'\t35:b'setosa'\t36:b'setosa'\t37:b'setosa'\t38:b'setosa'\t39:b'setosa'\t4:b'setosa'\t40:b'setosa'\t41:b'setosa'\t42:b'setosa'\t43:b'setosa'\t44:b'setosa'\t45:b'setosa'\t46:b'setosa'\t47:b'setosa'\t48:b'setosa'\t49:b'setosa'\t5:b'setosa'\t50:b'versicolor'\t51:b'versicolor'\t52:b'versicolor'\t53:b'versicolor'\t54:b'versicolor'\t55:b'versicolor'\t56:b'versicolor'\t57:b'versicolor'\t58:b'versicolor'\t59:b'versicolor'\t6:b'setosa'\t60:b'versicolor'\t61:b'versicolor'\t62:b'versicolor'\t63:b'versicolor'\t64:b'versicolor'\t65:b'versicolor'\t66:b'versicolor'\t67:b'versicolor'\t68:b'versicolor'\t69:b'versicolor'\t7:b'setosa'\t70:b'versicolor'\t71:b'versicolor'\t72:b'versicolor'\t73:b'versicolor'\t74:b'versicolor'\t75:b'versicolor'\t76:b'versicolor'\t77:b'versicolor'\t78:b'versicolor'\t79:b'versicolor'\t8:b'setosa'\t80:b'versicolor'\t81:b'versicolor'\t82:b'versicolor'\t83:b'versicolor'\t84:b'versicolor'\t85:b'versicolor'\t86:b'versicolor'\t87:b'versicolor'\t88:b'versicolor'\t89:b'versicolor'\t9:b'setosa'\t90:b'versicolor'\t91:b'versicolor'\t92:b'versicolor'\t93:b'versicolor'\t94:b'versicolor'\t95:b'versicolor'\t96:b'versicolor'\t97:b'versicolor'\t98:b'versicolor'\t99:b'versicolor'\t"
     ]
    }
   ],
   "source": [
    "with h5py.File('data/ch09_iris_dic.hdf5', 'r') as f:\n",
    "    for group, value in f.items():\n",
    "        print('그룹 : ', group)\n",
    "        for key, data in value.items():\n",
    "            print('{}:{}'.format(key, data[()]), end='\\t')\n",
    "            # data[()] : h5 DataSet 타입을 가져올 때"
   ]
  },
  {
   "cell_type": "code",
   "execution_count": 42,
   "id": "f3618486",
   "metadata": {},
   "outputs": [
    {
     "data": {
      "text/plain": [
       "dict_keys(['petal_length', 'petal_width', 'sepal_length', 'sepal_width', 'species'])"
      ]
     },
     "execution_count": 42,
     "metadata": {},
     "output_type": "execute_result"
    }
   ],
   "source": [
    "load_iris_dic = {}\n",
    "with h5py.File('data/ch09_iris_dic.hdf5', 'r') as f:\n",
    "    for group, value in f.items():\n",
    "        temp = {}\n",
    "        for key, data in value.items():\n",
    "            temp[int(key)] = data[()]\n",
    "        load_iris_dic[group] = temp\n",
    "        \n",
    "#load_iris_dic['s_l']={0:5.4, 1:4}\n",
    "#load_iris_dic['s_w']={0:5.4, 1:4}\n",
    "load_iris_dic.keys()"
   ]
  },
  {
   "cell_type": "code",
   "execution_count": 36,
   "id": "93fecb13",
   "metadata": {},
   "outputs": [
    {
     "data": {
      "text/plain": [
       "{'s_l': {0: 5.4, 1: 4}}"
      ]
     },
     "execution_count": 36,
     "metadata": {},
     "output_type": "execute_result"
    }
   ],
   "source": [
    "{'s_l':{0:5.4, 1:4}}"
   ]
  },
  {
   "cell_type": "markdown",
   "id": "75a54a8f",
   "metadata": {},
   "source": [
    "# 6절. 연습문제 : 고객관리\n",
    "- 프로그램 시작시 'data/ch09_customers.txt(고객 데이터 백업용)'의 내용을 load(객체 list)\n",
    "        - 파일이 없을 경우 빈 파일 생성\n",
    "\n",
    "- 'data/ch09_customers.txt(고객 데이터 백업용)'의 내용\n",
    "- 홍길동, 010-9999-9999, a@a.com, 30, 3, 까칠해\n",
    "- 홍길동, 010-9999-9999, a@a.com, 30, 3, 까칠해\n",
    "\n",
    "## Customer 클래스 작성"
   ]
  },
  {
   "cell_type": "code",
   "execution_count": 19,
   "id": "9380c451",
   "metadata": {},
   "outputs": [],
   "source": [
    "class Customer:\n",
    "    '고객데이터와 as_dic(), to_list_style(txt백업시), __str__()'\n",
    "    def __init__(self, name, phone, email, age, grade, etc):\n",
    "        self.name = name\n",
    "        self.phone = phone\n",
    "        self.email = email\n",
    "        self.age  = age\n",
    "        self.grade = grade\n",
    "        self.etc = etc\n",
    "    def as_dic(self):\n",
    "        return {\"name\":self.name, \n",
    "                \"phone\":self.phone, \n",
    "                \"email\":self.email,\n",
    "                \"age\":self.age, \n",
    "                \"grade\":self.grade, \n",
    "                \"etc\":self.etc}\n",
    "    def to_list_style(self):\n",
    "        # return \"홍길동, 010-9999-9999, a@a.com, 30, 3, 까칠해\"\n",
    "#         return \"{}, {}, {}, {}, {}, {}\".format(self.name, self.phone, self.email,\n",
    "#                                               self.age, self.grade, self.etc)\n",
    "        temp = [self.name, \n",
    "                self.phone, \n",
    "                self.email, \n",
    "                str(self.age), \n",
    "                str(self.grade), \n",
    "                self.etc]\n",
    "        return ', '.join(temp)\n",
    "    def __str__(self):\n",
    "        # return \"  *** 홍길동, 010-9999-9999, a@a.com, 30, 까칠해\"\n",
    "        return \"{:>5}\\t{:3}\\t{:13}\\t{:15}\\t{:3}\\t{}\".format('*'*self.grade,\n",
    "                                                            self.name, \n",
    "                                                            self.phone, \n",
    "                                                            self.email, \n",
    "                                                            self.age, \n",
    "                                                            self.etc)"
   ]
  },
  {
   "cell_type": "code",
   "execution_count": 20,
   "id": "a3bea62f",
   "metadata": {},
   "outputs": [],
   "source": [
    "def to_customer(row):\n",
    "    '''\n",
    "    row = \"홍길동, 010-9999-9999, a@a.com, 30, 3, 까칠해\"(txt파일 내용)을 매개변수로 받아\n",
    "    Customer 객체로 return \n",
    "    '''\n",
    "    data = row.split(',')\n",
    "    name = data[0]\n",
    "    phone = data[1].strip() # strip은 앞뒤 white space 제거\n",
    "    email = data[2].strip()\n",
    "    age = int(data[3].strip())\n",
    "    grade = int(data[4].strip())\n",
    "    etc = data[5].strip()\n",
    "    return Customer(name, phone, email, age, grade, etc)"
   ]
  },
  {
   "cell_type": "code",
   "execution_count": 12,
   "id": "d086d741",
   "metadata": {},
   "outputs": [
    {
     "name": "stdout",
     "output_type": "stream",
     "text": [
      "  ***\t홍길동\t010-9999-9999\ta@a.com        \t 30\t까칠해\n",
      "as_dic() = {'name': '홍길동', 'phone': '010-9999-9999', 'email': 'a@a.com', 'age': 30, 'grade': 3, 'etc': '까칠해'}\n",
      "to_list_style() = 홍길동, 010-9999-9999, a@a.com, 30, 3, 까칠해\n",
      "  ***\t홍길동\t010-9999-9999\ta@a.com        \t 30\t까칠해\n"
     ]
    }
   ],
   "source": [
    "c1 = Customer(\"홍길동\", \"010-9999-9999\", \"a@a.com\", 30, 3, \"까칠해\")\n",
    "print(c1)\n",
    "print('as_dic() =',c1.as_dic())\n",
    "print('to_list_style() =',c1.to_list_style())\n",
    "c2 = to_customer(\"홍길동, 010-9999-9999, a@a.com, 30, 3, 까칠해\")\n",
    "print(c2)"
   ]
  },
  {
   "cell_type": "markdown",
   "id": "9b1f0044",
   "metadata": {},
   "source": [
    "## 0. 처음 실행시 호출\n",
    "- ch09_customers.txt(백업데이터)에서 customer_list return\n",
    "- 파일이 없으면 빈 파일 생성, customer_list = [] return"
   ]
  },
  {
   "cell_type": "code",
   "execution_count": 13,
   "id": "a0cd0974",
   "metadata": {},
   "outputs": [],
   "source": [
    "def load_customers():   # 고객 목록을 불러오는 함수 정의\n",
    "    customer_list = []  # 고객 객체들을 저장할 리스트 생성\n",
    "    try:\n",
    "        with open('data/ch09_customers.txt', 'r', encoding='utf-8') as f:\n",
    "            # txt 데이터 한줄씩 customer 객체로 받아 customer_list.append\n",
    "            lines = f.readlines()  # 파일의 모든 줄을 읽어서 리스트로 저장\n",
    "            for line in lines: # 각 줄을 반복하여 처리\n",
    "                #line = \"홍길동, 010-9999-9999, a@a.com, 30, 3, 까칠해\"를 객체로 만들어야함.\n",
    "                customer = to_customer(line) # 문자열을 Customer 객체로 변환\n",
    "                customer_list.append(customer)  # 변환된 객체를 리스트에 추가\n",
    "    except:\n",
    "        with open('data/ch09_customers.txt', 'w', encoding='utf-8') as f:\n",
    "            print('초기화 파일을 생성했습니다')\n",
    "    return customer_list"
   ]
  },
  {
   "cell_type": "code",
   "execution_count": 14,
   "id": "36f0d22c",
   "metadata": {},
   "outputs": [
    {
     "name": "stdout",
     "output_type": "stream",
     "text": [
      "  ***\t홍길동\t010-9999-9999\ta@a.com        \t 30\t까칠해\n",
      "  ***\t홍길동\t010-9999-9999\ta@a.com        \t 30\t까칠해\n"
     ]
    }
   ],
   "source": [
    "customer_list = load_customers()\n",
    "for customer in customer_list:\n",
    "    print(customer)\n",
    "    #print(customer)"
   ]
  },
  {
   "cell_type": "markdown",
   "id": "72494770",
   "metadata": {},
   "source": [
    "### 1. 입력"
   ]
  },
  {
   "cell_type": "code",
   "execution_count": 15,
   "id": "fb49c3f2",
   "metadata": {},
   "outputs": [],
   "source": [
    "def fn1_insert_customer_info():\n",
    "    '''\n",
    "    사용자로부터 name, phone, email, age, grade, ect를 입력받아 Customer형 객체 반환\n",
    "    '''\n",
    "    import re\n",
    "    name=input('이름 :')\n",
    "    name_pattern = r'[가-힣{2,})]'\n",
    "    while not re.search(name_pattern, name):\n",
    "        print('이름을 제대로 입력하세요(한글 2글자 이상)')\n",
    "        name = input('이름:')\n",
    "    phone=input('전화 :')\n",
    "    email=input('이메일 :')\n",
    "    while True :\n",
    "        try:                     #고객이 나이를 다른것으로 입력할수도 있으므로 예외처리\n",
    "            age =int(input('나이 :'))\n",
    "            if (age<0) | (age>130) :          #나이가 0살이거나 130살 이상일수는 없으므로 관련된 조치\n",
    "                raise Exception('나이 범위 이상') #잘못된 정보를 입력했을 경우 예외발생시킨다.\n",
    "            break\n",
    "        except:\n",
    "            print('올바른 나이를 입력하세요')\n",
    "    try:    #고객이 의도한 숫자와 다른걸 입력할수도 있으므로 예외처리 준비\n",
    "        grade=int(input('등급(1~5) : '))  \n",
    "        # grade = 1 if grade < 1 else 5 if grade>5 else grade\n",
    "        if grade < 1:\n",
    "            grade = 1\n",
    "        if grade > 5:\n",
    "            grade = 5\n",
    "    except:\n",
    "        print('유효하지 않은 등급 입력 시 1등급으로 초기화')\n",
    "        grade = 1\n",
    "    etc = input('기타 정보 :')\n",
    "    return Customer(name, phone, email, age, grade, etc)\n",
    "    "
   ]
  },
  {
   "cell_type": "code",
   "execution_count": 16,
   "id": "50bec2fb",
   "metadata": {},
   "outputs": [
    {
     "name": "stdout",
     "output_type": "stream",
     "text": [
      "이름 :김도현\n",
      "전화 :03\n",
      "이메일 :32ㄱ\n",
      "나이 :32\n",
      "등급(1~5) : 5\n",
      "기타 정보 :ㅏㅣㅇㄹㄴ\n",
      "  ***\t홍길동\t010-9999-9999\ta@a.com        \t 30\t까칠해\n",
      "  ***\t홍길동\t010-9999-9999\ta@a.com        \t 30\t까칠해\n",
      "*****\t김도현\t03           \t32ㄱ            \t 32\tㅏㅣㅇㄹㄴ\n"
     ]
    }
   ],
   "source": [
    "# 1번 함수 테스트\n",
    "customer_list = load_customers()\n",
    "customer = fn1_insert_customer_info()\n",
    "customer_list.append(customer)\n",
    "for customer in customer_list:\n",
    "    print(customer)"
   ]
  },
  {
   "cell_type": "markdown",
   "id": "7bf31821",
   "metadata": {},
   "source": [
    "### 2번. 전체출력"
   ]
  },
  {
   "cell_type": "code",
   "execution_count": 17,
   "id": "a62d5f4b",
   "metadata": {},
   "outputs": [],
   "source": [
    "def fn2_print_customers(customer_list):\n",
    "    'customer_list를 출력(pdf 40page 스타일)'\n",
    "    print('='*70)\n",
    "    print('{:^70}'.format('고객정보'))\n",
    "    print('-'*70)\n",
    "    print(\"{:>5}\\t{:3}\\t{:13}\\t{:15}\\t{:3}\\t{}\".format('grade','이름','전화','메일','나이','기타'))\n",
    "    print('-'*70)\n",
    "    for customer in customer_list:\n",
    "        print(customer)"
   ]
  },
  {
   "cell_type": "code",
   "execution_count": 18,
   "id": "1a0097a0",
   "metadata": {},
   "outputs": [
    {
     "name": "stdout",
     "output_type": "stream",
     "text": [
      "======================================================================\n",
      "                                 고객정보                                 \n",
      "----------------------------------------------------------------------\n",
      "grade\t이름 \t전화           \t메일             \t나이 \t기타\n",
      "----------------------------------------------------------------------\n",
      "  ***\t홍길동\t010-9999-9999\ta@a.com        \t 30\t까칠해\n",
      "  ***\t홍길동\t010-9999-9999\ta@a.com        \t 30\t까칠해\n"
     ]
    }
   ],
   "source": [
    "# 2번기능 테스트\n",
    "customer_list = load_customers()\n",
    "fn2_print_customers(customer_list)"
   ]
  },
  {
   "cell_type": "markdown",
   "id": "0de50ffa",
   "metadata": {},
   "source": [
    "### 3. 삭제"
   ]
  },
  {
   "cell_type": "code",
   "execution_count": 24,
   "id": "d7fa3686",
   "metadata": {},
   "outputs": [],
   "source": [
    "# 3. 삭제(동명이인이 없을경우 구현)\n",
    "def fn3_delete_customer(customer_list):\n",
    "    '''삭제하고자 하는 고객이름을 input으로 받아\n",
    "    매개변수로 들어온 customer_list에서 삭제하고 삭제했음/삭제못했음\"을 메세지로 출력'''\n",
    "    delite_name=input('삭제한 고객 이름은?')\n",
    "    for customer in customer_list:\n",
    "        if customer.name == delite_name:\n",
    "            customer_list.remove(customer)\n",
    "            print('{}님 데이터를 삭제하였습니다'.format(delite_name))\n",
    "            break\n",
    "    else:\n",
    "        print('{}님 데이터는 존재하지 않습니다'.format(delite_name))"
   ]
  },
  {
   "cell_type": "code",
   "execution_count": 36,
   "id": "951272d5",
   "metadata": {},
   "outputs": [],
   "source": [
    "# 3. 삭제(동명이인이 있을경우 구현)\n",
    "def fn3_delete_customer(customer_list):\n",
    "    '''삭제하고자 하는 고객이름을 input으로 받아\n",
    "    매개변수로 들어온 customer_list에서 삭제하고 \"삭제했음/삭제못했음\"을 메세지로 출력'''\n",
    "    delete_name = input('삭제할 고객 이름은?')\n",
    "    delete_idx = [] # 삭제할 인덱스를 저장하는 용도\n",
    "    for idx, customer in enumerate(customer_list):\n",
    "        if customer.name == delete_name:\n",
    "            delete_idx.append(idx)\n",
    "    if delete_idx:\n",
    "        for idx in delete_idx[::-1]: # [1,0]\n",
    "            del customer_list[idx]\n",
    "        print('{}님 {}명 삭제하였습니다'.format(delete_name, len(delete_idx)))\n",
    "    else:\n",
    "        print('{}님 데이터가 존재하지 않습니다'.format(delete_name))"
   ]
  },
  {
   "cell_type": "code",
   "execution_count": 37,
   "id": "0f492d6f",
   "metadata": {},
   "outputs": [
    {
     "name": "stdout",
     "output_type": "stream",
     "text": [
      "삭제할 고객 이름은?홍길동\n",
      "홍길동님 2명 삭제하였습니다\n"
     ]
    }
   ],
   "source": [
    "# 3번기능 테스트\n",
    "customer_list = load_customers()\n",
    "fn3_delete_customer(customer_list)"
   ]
  },
  {
   "cell_type": "code",
   "execution_count": 38,
   "id": "1978edb3",
   "metadata": {},
   "outputs": [
    {
     "name": "stdout",
     "output_type": "stream",
     "text": [
      "======================================================================\n",
      "                                 고객정보                                 \n",
      "----------------------------------------------------------------------\n",
      "grade\t이름 \t전화           \t메일             \t나이 \t기타\n",
      "----------------------------------------------------------------------\n",
      "  ***\t신길동\t010-9999-9999\ta@a.com        \t 30\t까칠해\n",
      "  ***\t신길동\t010-9999-9999\ta@a.com        \t 30\t까칠해\n",
      "  ***\t이길동\t010-9999-9999\ta@a.com        \t 30\t까칠해\n",
      "  ***\t김길동\t010-9999-9999\ta@a.com        \t 30\t까칠해\n"
     ]
    }
   ],
   "source": [
    "fn2_print_customers(customer_list)"
   ]
  },
  {
   "cell_type": "markdown",
   "id": "39f75931",
   "metadata": {},
   "source": [
    "### 4. 이름찾기"
   ]
  },
  {
   "cell_type": "code",
   "execution_count": 39,
   "id": "0ef7bd20",
   "metadata": {},
   "outputs": [],
   "source": [
    "# 4. 이름찾기(동명이인이 있음)\n",
    "def fn4_search_customer(customer_list):\n",
    "    '''찾고자 하는 이름을 input으로 받아, customer_list에서 검색하여\n",
    "    같은 이름을 search_list에 append한 후 search_list를 출력\n",
    "    같은 이름이 없으면 없다고 출력'''\n",
    "    search_customer = input('검색할 이름은?')\n",
    "    search_idx = []\n",
    "    for customer in customer_list:\n",
    "        if customer.name == search_name:\n",
    "            search_ldx.append(idx)\n",
    "    if search_list:\n",
    "        fn2_print_customers(search_list)\n",
    "    else:\n",
    "        print(\"{}님 데이터는 존재하지 않습니다.\".format(search_name))"
   ]
  },
  {
   "cell_type": "code",
   "execution_count": 40,
   "id": "ce4ee7c0",
   "metadata": {},
   "outputs": [
    {
     "name": "stdout",
     "output_type": "stream",
     "text": [
      "검색할 이름은?마길동\n"
     ]
    },
    {
     "ename": "NameError",
     "evalue": "name 'search_name' is not defined",
     "output_type": "error",
     "traceback": [
      "\u001b[1;31m---------------------------------------------------------------------------\u001b[0m",
      "\u001b[1;31mNameError\u001b[0m                                 Traceback (most recent call last)",
      "Cell \u001b[1;32mIn[40], line 2\u001b[0m\n\u001b[0;32m      1\u001b[0m \u001b[38;5;66;03m# 4번기능 테스트\u001b[39;00m\n\u001b[1;32m----> 2\u001b[0m \u001b[43mfn4_search_customer\u001b[49m\u001b[43m(\u001b[49m\u001b[43mcustomer_list\u001b[49m\u001b[43m)\u001b[49m\n",
      "Cell \u001b[1;32mIn[39], line 9\u001b[0m, in \u001b[0;36mfn4_search_customer\u001b[1;34m(customer_list)\u001b[0m\n\u001b[0;32m      7\u001b[0m search_list \u001b[38;5;241m=\u001b[39m []\n\u001b[0;32m      8\u001b[0m \u001b[38;5;28;01mfor\u001b[39;00m customer \u001b[38;5;129;01min\u001b[39;00m customer_list:\n\u001b[1;32m----> 9\u001b[0m     \u001b[38;5;28;01mif\u001b[39;00m customer\u001b[38;5;241m.\u001b[39mname \u001b[38;5;241m==\u001b[39m \u001b[43msearch_name\u001b[49m:\n\u001b[0;32m     10\u001b[0m         search_list\u001b[38;5;241m.\u001b[39mappend(customer)\n\u001b[0;32m     11\u001b[0m \u001b[38;5;28;01mif\u001b[39;00m search_list:\n",
      "\u001b[1;31mNameError\u001b[0m: name 'search_name' is not defined"
     ]
    }
   ],
   "source": [
    "# 4번기능 테스트\n",
    "fn4_search_customer(customer_list)"
   ]
  },
  {
   "cell_type": "markdown",
   "id": "5b242244",
   "metadata": {},
   "source": [
    "### 5. 내보내기(CSV)"
   ]
  },
  {
   "cell_type": "code",
   "execution_count": 67,
   "id": "7bc77b4c",
   "metadata": {},
   "outputs": [],
   "source": [
    "# 5. 내보내기(CSV)\n",
    "def fn5_save_customer(customer_list):\n",
    "    pass"
   ]
  },
  {
   "cell_type": "code",
   "execution_count": null,
   "id": "495c5931",
   "metadata": {},
   "outputs": [],
   "source": [
    "# 5번기능 테스트"
   ]
  },
  {
   "cell_type": "markdown",
   "id": "06bb8568",
   "metadata": {},
   "source": [
    "### 9. 종료"
   ]
  },
  {
   "cell_type": "code",
   "execution_count": 68,
   "id": "8c774059",
   "metadata": {},
   "outputs": [],
   "source": [
    "# 9. 종료(종료하기 전 customer_list를 txt파일에 저장하고 종료)\n",
    "def fn9_save_customer_txt(customer_list):\n",
    "    pass"
   ]
  },
  {
   "cell_type": "code",
   "execution_count": 69,
   "id": "85b7278c",
   "metadata": {},
   "outputs": [],
   "source": [
    "# 9번기능 테스트"
   ]
  },
  {
   "cell_type": "code",
   "execution_count": null,
   "id": "79306801",
   "metadata": {},
   "outputs": [],
   "source": []
  },
  {
   "cell_type": "code",
   "execution_count": null,
   "id": "d5fca38c",
   "metadata": {},
   "outputs": [],
   "source": []
  },
  {
   "cell_type": "code",
   "execution_count": null,
   "id": "d7252d51",
   "metadata": {},
   "outputs": [],
   "source": []
  },
  {
   "cell_type": "code",
   "execution_count": null,
   "id": "08ef3bba",
   "metadata": {},
   "outputs": [],
   "source": []
  },
  {
   "cell_type": "code",
   "execution_count": null,
   "id": "3e34773e",
   "metadata": {},
   "outputs": [],
   "source": []
  },
  {
   "cell_type": "code",
   "execution_count": null,
   "id": "4517d60e",
   "metadata": {},
   "outputs": [],
   "source": []
  },
  {
   "cell_type": "code",
   "execution_count": null,
   "id": "ecec00d8",
   "metadata": {},
   "outputs": [],
   "source": []
  },
  {
   "cell_type": "code",
   "execution_count": null,
   "id": "d5db1c9c",
   "metadata": {},
   "outputs": [],
   "source": []
  },
  {
   "cell_type": "code",
   "execution_count": null,
   "id": "c87eb219",
   "metadata": {},
   "outputs": [],
   "source": []
  }
 ],
 "metadata": {
  "kernelspec": {
   "display_name": "Python 3 (ipykernel)",
   "language": "python",
   "name": "python3"
  },
  "language_info": {
   "codemirror_mode": {
    "name": "ipython",
    "version": 3
   },
   "file_extension": ".py",
   "mimetype": "text/x-python",
   "name": "python",
   "nbconvert_exporter": "python",
   "pygments_lexer": "ipython3",
   "version": "3.10.9"
  },
  "toc": {
   "base_numbering": 1,
   "nav_menu": {},
   "number_sections": false,
   "sideBar": true,
   "skip_h1_title": false,
   "title_cell": "Table of Contents",
   "title_sidebar": "Contents",
   "toc_cell": false,
   "toc_position": {},
   "toc_section_display": true,
   "toc_window_display": false
  }
 },
 "nbformat": 4,
 "nbformat_minor": 5
}
