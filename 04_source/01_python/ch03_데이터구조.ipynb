{
 "cells": [
  {
   "cell_type": "code",
   "execution_count": 1,
   "id": "0ffb4060",
   "metadata": {},
   "outputs": [
    {
     "data": {
      "text/html": [
       "\n",
       "<style>\n",
       "div.container{width:95% !important;}\n",
       "div.cell.code_cell.rendered{width:100%;}\n",
       "div.CodeMirror {font-family:Consolas; font-size:15pt;}\n",
       "div.output {font-size:15pt; font-weight:bold;}\n",
       "div.input {font-family:Consolas; font-size:15pt;}\n",
       "div.prompt {min-width:70px;}\n",
       "div#toc-wrapper{padding-top:120px;}\n",
       "div.text_cell_render ul li{font-size:12pt;padding:5px;}\n",
       "table.dataframe{font-size:15px;}\n",
       "</style>\n"
      ],
      "text/plain": [
       "<IPython.core.display.HTML object>"
      ]
     },
     "metadata": {},
     "output_type": "display_data"
    }
   ],
   "source": [
    "from IPython.display import display, HTML\n",
    "display(HTML(\"\"\"\n",
    "<style>\n",
    "div.container{width:95% !important;}\n",
    "div.cell.code_cell.rendered{width:100%;}\n",
    "div.CodeMirror {font-family:Consolas; font-size:15pt;}\n",
    "div.output {font-size:15pt; font-weight:bold;}\n",
    "div.input {font-family:Consolas; font-size:15pt;}\n",
    "div.prompt {min-width:70px;}\n",
    "div#toc-wrapper{padding-top:120px;}\n",
    "div.text_cell_render ul li{font-size:12pt;padding:5px;}\n",
    "table.dataframe{font-size:15px;}\n",
    "</style>\n",
    "\"\"\"))"
   ]
  },
  {
   "cell_type": "markdown",
   "id": "cb16b5fe",
   "metadata": {},
   "source": [
    "<font color=\"red\" size=\"5\">ch03. 데이터구조</font>\n",
    "- 리스트[], 튜플(), 딕셔너리{}, 셋\n",
    "\n",
    "# 1절. 리스트\n",
    "## 1.1 리스트 만들기\n",
    "\n",
    "- []를 이용해서 만들며, 여러개 값(여러 타입)을 하나의 변수에 저장/관리할 수 있음\n",
    "- list(리스트로 변환 가능한 자료)함수 이용도 가능\n",
    "- 인덱스 : 각 요소의 위치. 0부터 시작. 맨 마지막 인덱스는 -1\n",
    "- 슬라이싱( [from:stop:step] ) : 부분 데이터셋 추출\n",
    "- 인덱스와 슬라이싱을 이용해서 읽기/쓰기 지원"
   ]
  },
  {
   "cell_type": "code",
   "execution_count": 2,
   "id": "8b28143e",
   "metadata": {},
   "outputs": [
    {
     "data": {
      "text/plain": [
       "list"
      ]
     },
     "execution_count": 2,
     "metadata": {},
     "output_type": "execute_result"
    }
   ],
   "source": [
    "fruits = ['banana', 'apple', 'orange', 'grape']\n",
    "type(fruits)"
   ]
  },
  {
   "cell_type": "code",
   "execution_count": 4,
   "id": "33009702",
   "metadata": {},
   "outputs": [
    {
     "name": "stdout",
     "output_type": "stream",
     "text": [
      "['banana', 'apple', 'orange', 'grape']\n",
      "banana\n"
     ]
    }
   ],
   "source": [
    "print(fruits)\n",
    "print(fruits[0])"
   ]
  },
  {
   "cell_type": "code",
   "execution_count": 5,
   "id": "04afa3f3",
   "metadata": {},
   "outputs": [
    {
     "name": "stdout",
     "output_type": "stream",
     "text": [
      "['mango', 'apple', 'orange', 'grape']\n"
     ]
    }
   ],
   "source": [
    "fruits[0] = 'mango'\n",
    "print(fruits)"
   ]
  },
  {
   "cell_type": "code",
   "execution_count": 11,
   "id": "3aa05e4d",
   "metadata": {},
   "outputs": [
    {
     "name": "stdout",
     "output_type": "stream",
     "text": [
      "x=mango\n",
      "y=apple\n",
      "z=orange\n",
      "fruits=['mango', 'apple', 'orange']\n"
     ]
    }
   ],
   "source": [
    "fruits = ['mango', 'apple', 'orange']\n",
    "x, y, z = fruits\n",
    "print(f'x={x}')\n",
    "print(f'y={y}')\n",
    "print('z={}'.format(z))\n",
    "print(f'fruits={fruits}')"
   ]
  },
  {
   "cell_type": "code",
   "execution_count": 15,
   "id": "7f2556e7",
   "metadata": {},
   "outputs": [
    {
     "data": {
      "text/plain": [
       "[0, 1, 2, 3, 4, 5, 6, 7, 8, 9]"
      ]
     },
     "execution_count": 15,
     "metadata": {},
     "output_type": "execute_result"
    }
   ],
   "source": [
    "# range(from, to, by) : from부터 to앞까지 by씩 증가하면서 지정된 범위의 정수\n",
    "        # from 생략시 : 0\n",
    "        # by 생략시 1\n",
    "list(range(10))"
   ]
  },
  {
   "cell_type": "code",
   "execution_count": 16,
   "id": "f433e8b8",
   "metadata": {},
   "outputs": [
    {
     "data": {
      "text/plain": [
       "[101, 102, 103, 104, 105, 106, 107, 108, 109, 110]"
      ]
     },
     "execution_count": 16,
     "metadata": {},
     "output_type": "execute_result"
    }
   ],
   "source": [
    "list(range(101, 111))"
   ]
  },
  {
   "cell_type": "code",
   "execution_count": 17,
   "id": "b03a965f",
   "metadata": {},
   "outputs": [
    {
     "data": {
      "text/plain": [
       "[10, 8, 6, 4, 2, 0]"
      ]
     },
     "execution_count": 17,
     "metadata": {},
     "output_type": "execute_result"
    }
   ],
   "source": [
    "list(range(10, -1, -2))"
   ]
  },
  {
   "cell_type": "code",
   "execution_count": 27,
   "id": "f68ecd73",
   "metadata": {},
   "outputs": [
    {
     "name": "stdout",
     "output_type": "stream",
     "text": [
      "0\n",
      "1\n",
      "2\n"
     ]
    }
   ],
   "source": [
    "# 반복문(3회)\n",
    "for i in range(3):\n",
    "    print(i)"
   ]
  },
  {
   "cell_type": "code",
   "execution_count": 40,
   "id": "ad56c9c0",
   "metadata": {},
   "outputs": [
    {
     "name": "stdout",
     "output_type": "stream",
     "text": [
      "0번째 과일은 mango입니다\n",
      "1번째 과일은 apple입니다\n",
      "2번째 과일은 orange입니다\n",
      "3번째 과일은 grape입니다\n"
     ]
    }
   ],
   "source": [
    "fruits = ['mango', 'apple', 'orange', 'grape']\n",
    "# len(fruits) : 리스트 데이터 수\n",
    "for i in range(len(fruits)):\n",
    "    print(\"{}번째 과일은 {}입니다\".format(i, fruits[i]))"
   ]
  },
  {
   "cell_type": "code",
   "execution_count": 41,
   "id": "7799cc9e",
   "metadata": {},
   "outputs": [
    {
     "name": "stdout",
     "output_type": "stream",
     "text": [
      "mango\n",
      "apple\n",
      "orange\n",
      "grape\n"
     ]
    }
   ],
   "source": [
    "for value in fruits:\n",
    "    print(value)"
   ]
  },
  {
   "cell_type": "code",
   "execution_count": 47,
   "id": "71ab6e16",
   "metadata": {},
   "outputs": [
    {
     "data": {
      "text/plain": [
       "[(0, 'mango'), (1, 'apple'), (2, 'orange'), (3, 'grape')]"
      ]
     },
     "execution_count": 47,
     "metadata": {},
     "output_type": "execute_result"
    }
   ],
   "source": [
    "list(enumerate(fruits))"
   ]
  },
  {
   "cell_type": "code",
   "execution_count": 44,
   "id": "8cac4ad3",
   "metadata": {},
   "outputs": [
    {
     "name": "stdout",
     "output_type": "stream",
     "text": [
      "0번째 과일은 mango입니다\n",
      "1번째 과일은 apple입니다\n",
      "2번째 과일은 orange입니다\n",
      "3번째 과일은 grape입니다\n"
     ]
    }
   ],
   "source": [
    "# enumerate(나열가능한 자료) : -> (index,값)들의 셋들\n",
    "for idx, value in enumerate(fruits):\n",
    "    print(\"{}번째 과일은 {}입니다\".format(idx, value))"
   ]
  },
  {
   "cell_type": "code",
   "execution_count": 55,
   "id": "4044deb3",
   "metadata": {},
   "outputs": [
    {
     "name": "stdout",
     "output_type": "stream",
     "text": [
      "[0, True, '2', 3, [4, 5, 6]]\n",
      "True 5\n"
     ]
    }
   ],
   "source": [
    "# 리스트는 여러 타입의 데이터를 담을 수 있음\n",
    "numbers = [0, True, '2', 3, [4,5,6] ]\n",
    "print(numbers)\n",
    "print(numbers[1], numbers[4][1])"
   ]
  },
  {
   "cell_type": "code",
   "execution_count": 3,
   "id": "33e3d022",
   "metadata": {},
   "outputs": [
    {
     "data": {
      "text/plain": [
       "(3, 4)"
      ]
     },
     "execution_count": 3,
     "metadata": {},
     "output_type": "execute_result"
    }
   ],
   "source": [
    "# 2차원 리스트\n",
    "numbers_2d = [[90, 91, 92, 93],\n",
    "              [80, 81, 82, 83],\n",
    "              [70, 71, 72, 73],]\n",
    "len(numbers_2d), len(numbers_2d[0])"
   ]
  },
  {
   "cell_type": "code",
   "execution_count": 5,
   "id": "1e6dc021",
   "metadata": {},
   "outputs": [
    {
     "name": "stdout",
     "output_type": "stream",
     "text": [
      "0행0열:90\t0행1열:91\t0행2열:92\t0행3열:93\t\n",
      "1행0열:80\t1행1열:81\t1행2열:82\t1행3열:83\t\n",
      "2행0열:70\t2행1열:71\t2행2열:72\t2행3열:73\t\n"
     ]
    }
   ],
   "source": [
    "for i, row in enumerate(numbers_2d):\n",
    "    for j, value in enumerate(row):\n",
    "        print(\"{}행{}열:{}\".format(i, j, value), end='\\t')\n",
    "    print() # 개행 "
   ]
  },
  {
   "cell_type": "code",
   "execution_count": 8,
   "id": "95f175aa",
   "metadata": {},
   "outputs": [
    {
     "name": "stdout",
     "output_type": "stream",
     "text": [
      "90\t91\t92\t93\t\n",
      "80\t81\t82\t83\t\n",
      "70\t71\t72\t73\t\n"
     ]
    }
   ],
   "source": [
    "for row in numbers_2d:\n",
    "    for item in row:\n",
    "        print(item, end='\\t')\n",
    "    print()"
   ]
  },
  {
   "cell_type": "markdown",
   "id": "6ffe6261",
   "metadata": {},
   "source": [
    "## 1.2 기본 정보 조회"
   ]
  },
  {
   "cell_type": "code",
   "execution_count": 9,
   "id": "a9aebaa6",
   "metadata": {},
   "outputs": [],
   "source": [
    "numbers = [1, 12, 3, 5, 4]\n",
    "numbers_2d = [[100, 0],\n",
    "              [9, 100, 1, 2, 3],\n",
    "              [50, 54]]"
   ]
  },
  {
   "cell_type": "code",
   "execution_count": 10,
   "id": "0846259d",
   "metadata": {},
   "outputs": [
    {
     "name": "stdout",
     "output_type": "stream",
     "text": [
      "5 3\n"
     ]
    }
   ],
   "source": [
    "# 요소의 수\n",
    "print(len(numbers), len(numbers_2d))"
   ]
  },
  {
   "cell_type": "code",
   "execution_count": 11,
   "id": "3533b40c",
   "metadata": {},
   "outputs": [
    {
     "data": {
      "text/plain": [
       "(1, 12)"
      ]
     },
     "execution_count": 11,
     "metadata": {},
     "output_type": "execute_result"
    }
   ],
   "source": [
    "# 최소값, 최대값\n",
    "min(numbers), max(numbers)"
   ]
  },
  {
   "cell_type": "code",
   "execution_count": 14,
   "id": "a039ab0d",
   "metadata": {},
   "outputs": [
    {
     "data": {
      "text/plain": [
       "([9, 100, 1, 2, 3], [100, 0])"
      ]
     },
     "execution_count": 14,
     "metadata": {},
     "output_type": "execute_result"
    }
   ],
   "source": [
    "# 2차원 list의 min() : 0번 인덱스 요소가 가장 작은 것\n",
    "#             man() : 0번 인덱스 요소가 가장 큰 것\n",
    "min(numbers_2d), max(numbers_2d)"
   ]
  },
  {
   "cell_type": "code",
   "execution_count": 16,
   "id": "a41e238e",
   "metadata": {},
   "outputs": [
    {
     "data": {
      "text/plain": [
       "('APPLE', 'orange')"
      ]
     },
     "execution_count": 16,
     "metadata": {},
     "output_type": "execute_result"
    }
   ],
   "source": [
    "# 문자 list일 경우 ascii 코드값으로 min(), max() 적용\n",
    "fruits = ['mango', 'apple', 'orange', 'APPLE']\n",
    "min(fruits), max(fruits)"
   ]
  },
  {
   "cell_type": "code",
   "execution_count": 21,
   "id": "adc2fe6d",
   "metadata": {},
   "outputs": [
    {
     "name": "stdout",
     "output_type": "stream",
     "text": [
      "오름차순 : [1, 3, 4, 5, 12]\n",
      "내림차순 : [12, 5, 4, 3, 1]\n",
      "sorted함수 사용시 리스트 내용이 바뀌지 않음 : [1, 3, 12, 5, 4]\n",
      "합 : 25\n"
     ]
    }
   ],
   "source": [
    "numbers = [1, 3, 12, 5, 4]\n",
    "# 정렬(오름차순, 내림차순)\n",
    "print('오름차순 :', sorted(numbers) )\n",
    "print('내림차순 :', sorted(numbers, reverse=True))\n",
    "print('sorted함수 사용시 리스트 내용이 바뀌지 않음 :', numbers)\n",
    "print('합 :', sum(numbers))"
   ]
  },
  {
   "cell_type": "markdown",
   "id": "49f3aa71",
   "metadata": {},
   "source": [
    "## 1.3 요소 추가\n",
    "```\n",
    "+ : 두 리스트 연결\n",
    "* : 리스트를 곱한 수만 반복\n",
    "append() : 맨 뒤에 요소 추가\n",
    "extend() : 맨 뒤에 리스트를 요소별로 추가\n",
    "insert(idx, 값) : idx번째 인덱스 위치에 추가(기존 데이터는 shift)\n",
    "```"
   ]
  },
  {
   "cell_type": "code",
   "execution_count": 27,
   "id": "e046259f",
   "metadata": {},
   "outputs": [
    {
     "data": {
      "text/plain": [
       "[1, 2, 3, 1, 2, 3]"
      ]
     },
     "execution_count": 27,
     "metadata": {},
     "output_type": "execute_result"
    }
   ],
   "source": [
    "# 연결\n",
    "numbers = [1, 2, 3]\n",
    "numbers = numbers + numbers\n",
    "numbers"
   ]
  },
  {
   "cell_type": "code",
   "execution_count": 29,
   "id": "2551993c",
   "metadata": {},
   "outputs": [
    {
     "name": "stdout",
     "output_type": "stream",
     "text": [
      "[1, 2, 3, 1, 2, 3, 1, 2, 3]\n",
      "[1, 2, 3, 1, 2, 3, 1, 2, 3]\n"
     ]
    }
   ],
   "source": [
    "# 반복\n",
    "numbers = [1, 2, 3]\n",
    "print(numbers * 3)\n",
    "print(3 * numbers)"
   ]
  },
  {
   "cell_type": "code",
   "execution_count": 30,
   "id": "8a86816e",
   "metadata": {},
   "outputs": [
    {
     "name": "stdout",
     "output_type": "stream",
     "text": [
      "[1, 2, 3, 4]\n"
     ]
    }
   ],
   "source": [
    "# 추가\n",
    "numbers = [1, 2, 3]\n",
    "numbers.append(4)\n",
    "print(numbers)"
   ]
  },
  {
   "cell_type": "code",
   "execution_count": 31,
   "id": "073448b2",
   "metadata": {},
   "outputs": [
    {
     "name": "stdout",
     "output_type": "stream",
     "text": [
      "[1, 2, 3, 4, [5, 6, 7]]\n"
     ]
    }
   ],
   "source": [
    "numbers.append([5,6,7]) # 맨 뒤에 하나의 요소로 추가\n",
    "print(numbers)"
   ]
  },
  {
   "cell_type": "code",
   "execution_count": 38,
   "id": "d1f915c8",
   "metadata": {},
   "outputs": [
    {
     "name": "stdout",
     "output_type": "stream",
     "text": [
      "[1, 2, 3, 4, 5, 6]\n"
     ]
    }
   ],
   "source": [
    "# 요소별로 각기 추가\n",
    "num = [1, 2, 3]\n",
    "num.extend([4,5,6])\n",
    "print(num)"
   ]
  },
  {
   "cell_type": "code",
   "execution_count": 39,
   "id": "8595348f",
   "metadata": {},
   "outputs": [
    {
     "name": "stdout",
     "output_type": "stream",
     "text": [
      "[1, 2, 'X', 3, 4, 5, 6]\n"
     ]
    }
   ],
   "source": [
    "num.insert(2, 'X')\n",
    "print(num)"
   ]
  },
  {
   "cell_type": "markdown",
   "id": "d6b45ec8",
   "metadata": {},
   "source": [
    "## 1.4 인덱싱과 요소 갯수\n",
    "- 변수[index] : 인덱스를 이용한 접근\n",
    "- index(찾을데이터) : 해당 찾을 데이터가 있는 요소의 index를 반환\n",
    "                     찾을데이터가 없을 경우 오류\n",
    "- count(찾을데이터) : 리스트에서 찾을데이터의 갯수 반환"
   ]
  },
  {
   "cell_type": "code",
   "execution_count": 42,
   "id": "8ca289c1",
   "metadata": {},
   "outputs": [
    {
     "data": {
      "text/plain": [
       "(2, 0)"
      ]
     },
     "execution_count": 42,
     "metadata": {},
     "output_type": "execute_result"
    }
   ],
   "source": [
    "numbers = [1, 2, 3, [1, 2, 3], 1, 2, 3]\n",
    "numbers.count(2), numbers.count(9)"
   ]
  },
  {
   "cell_type": "code",
   "execution_count": 43,
   "id": "25f24f22",
   "metadata": {},
   "outputs": [
    {
     "data": {
      "text/plain": [
       "1"
      ]
     },
     "execution_count": 43,
     "metadata": {},
     "output_type": "execute_result"
    }
   ],
   "source": [
    "numbers.index(2) # 0번째 index부터 2가 처음 나오는 index를 반환"
   ]
  },
  {
   "cell_type": "code",
   "execution_count": 44,
   "id": "b77ceb67",
   "metadata": {},
   "outputs": [
    {
     "data": {
      "text/plain": [
       "5"
      ]
     },
     "execution_count": 44,
     "metadata": {},
     "output_type": "execute_result"
    }
   ],
   "source": [
    "numbers.index(2, 3) # 3번째 index부터 2가 처음 나오는 index를 반환"
   ]
  },
  {
   "cell_type": "code",
   "execution_count": 47,
   "id": "11f5cd8c",
   "metadata": {},
   "outputs": [
    {
     "name": "stdout",
     "output_type": "stream",
     "text": [
      "9가 없어요\n"
     ]
    }
   ],
   "source": [
    "numbers = [1, 2, 3, [1, 2, 3], 1, 2, 3]\n",
    "if 9 in numbers:\n",
    "    print(numbers.index(9))\n",
    "else:\n",
    "    print('9가 없어요')"
   ]
  },
  {
   "cell_type": "code",
   "execution_count": 48,
   "id": "13178123",
   "metadata": {},
   "outputs": [
    {
     "data": {
      "text/plain": [
       "False"
      ]
     },
     "execution_count": 48,
     "metadata": {},
     "output_type": "execute_result"
    }
   ],
   "source": [
    "9 in numbers # numbers 리스트에 9가 존재하는지 여부"
   ]
  },
  {
   "cell_type": "code",
   "execution_count": 50,
   "id": "0a037e2e",
   "metadata": {},
   "outputs": [],
   "source": [
    "def safe_index(lst, data):\n",
    "    if data in lst: # lst안에 data 있는지 여부\n",
    "        return lst.index(data)\n",
    "    else:\n",
    "        return -1"
   ]
  },
  {
   "cell_type": "code",
   "execution_count": 51,
   "id": "8cc8b553",
   "metadata": {},
   "outputs": [
    {
     "data": {
      "text/plain": [
       "-1"
      ]
     },
     "execution_count": 51,
     "metadata": {},
     "output_type": "execute_result"
    }
   ],
   "source": [
    "safe_index(numbers, 9)"
   ]
  },
  {
   "cell_type": "code",
   "execution_count": 54,
   "id": "3969980e",
   "metadata": {},
   "outputs": [
    {
     "data": {
      "text/plain": [
       "[1, 2, 3, [1, 2, 3], 1, 2, 3]"
      ]
     },
     "execution_count": 54,
     "metadata": {},
     "output_type": "execute_result"
    }
   ],
   "source": [
    "# numbers.index(9)\n",
    "# numbers[20]\n",
    "numbers[0:20]"
   ]
  },
  {
   "cell_type": "markdown",
   "id": "a3d24a31",
   "metadata": {},
   "source": [
    "## 1.5 원하는 요소 추출\n",
    "1. 리스트 슬라이싱 : 리스트에서 원하는 index의 데이터를 추출(인덱스 범위 벗어나도 에러 안 남)\n",
    "    - [from:stop:step] from부터 stop앞까지 step씩 중가하는 index의 값을 추출\n",
    "    - from 생략시 처음. stop생략시 끝. step생략시 1. 모두 생략 가능\n",
    "    - 음수 인덱스 가능\n",
    "\n",
    "2. <font color=\"red\">리스트 컴프리헨션</font> : 리스트에서 원하는 데이터를 추출"
   ]
  },
  {
   "cell_type": "code",
   "execution_count": 56,
   "id": "70ab5f31",
   "metadata": {},
   "outputs": [
    {
     "name": "stdout",
     "output_type": "stream",
     "text": [
      "[1, 5, 10, 13]\n",
      "[20, 13, 12, 10, 9, 5, 3, 1]\n"
     ]
    }
   ],
   "source": [
    "numbers = [1, 3, 5, 9, 10, 12, 13, 20]\n",
    "# 짝수번째 인덱스 값 출력\n",
    "print(numbers[::2])\n",
    "# 꺼꾸로 출력\n",
    "print(numbers[::-1])"
   ]
  },
  {
   "cell_type": "code",
   "execution_count": 58,
   "id": "0915b147",
   "metadata": {},
   "outputs": [
    {
     "name": "stdout",
     "output_type": "stream",
     "text": [
      "[1, 3, 5, 9, 10, 12, 13, 20]\n",
      "[10, 12, 20]\n"
     ]
    }
   ],
   "source": [
    "numbers = [1, 3, 5, 9, 10, 12, 13, 20]\n",
    "# 리스트에서 모든 데이터를 변수에 담아 출력하시오.\n",
    "result = []\n",
    "for data in numbers:\n",
    "    result.append(data)\n",
    "print(result)\n",
    "# 리스트에서 짝수 데이터만 변수에 담아 출력하시오.\n",
    "result = []\n",
    "for data in numbers:\n",
    "    if not data%2:\n",
    "        result.append(data)\n",
    "print(result)"
   ]
  },
  {
   "cell_type": "markdown",
   "id": "402c8411",
   "metadata": {},
   "source": [
    "**리스트컴프리헨션**"
   ]
  },
  {
   "cell_type": "code",
   "execution_count": 59,
   "id": "5d4812fd",
   "metadata": {},
   "outputs": [
    {
     "data": {
      "text/plain": [
       "[1, 3, 5, 9, 10, 12, 13, 20]"
      ]
     },
     "execution_count": 59,
     "metadata": {},
     "output_type": "execute_result"
    }
   ],
   "source": [
    "# numbers의 모든 데이터를 리스트컴프리헨션으로 추출\n",
    "[data for data in numbers]"
   ]
  },
  {
   "cell_type": "code",
   "execution_count": 61,
   "id": "02225f6d",
   "metadata": {},
   "outputs": [
    {
     "data": {
      "text/plain": [
       "[10, 12, 20]"
      ]
     },
     "execution_count": 61,
     "metadata": {},
     "output_type": "execute_result"
    }
   ],
   "source": [
    "# numbers의 짝수 데이터를 리스트컴프리헨션으로 추출\n",
    "[data for data in numbers if data%2==0]"
   ]
  },
  {
   "cell_type": "code",
   "execution_count": 65,
   "id": "cf37bf24",
   "metadata": {},
   "outputs": [
    {
     "data": {
      "text/plain": [
       "[10, 12, 13, 20]"
      ]
     },
     "execution_count": 65,
     "metadata": {},
     "output_type": "execute_result"
    }
   ],
   "source": [
    "# ex1. numbers에서 10이상만 추출\n",
    "numbers = [1, 3, 5, 9, 10, 12, 13, 20]\n",
    "[item for item in numbers if item>=10]"
   ]
  },
  {
   "cell_type": "code",
   "execution_count": 67,
   "id": "2e479b64",
   "metadata": {},
   "outputs": [
    {
     "data": {
      "text/plain": [
       "['orange']"
      ]
     },
     "execution_count": 67,
     "metadata": {},
     "output_type": "execute_result"
    }
   ],
   "source": [
    "# ex2. fruits에서 5글자가 넘는 과일만 추출\n",
    "fruits = ['orange', 'apple', 'mango', 'kiwi']\n",
    "[item for item in fruits if len(item)>5]"
   ]
  },
  {
   "cell_type": "code",
   "execution_count": 68,
   "id": "3ac0b545",
   "metadata": {},
   "outputs": [
    {
     "data": {
      "text/plain": [
       "[9, 16, 25]"
      ]
     },
     "execution_count": 68,
     "metadata": {},
     "output_type": "execute_result"
    }
   ],
   "source": [
    "# ex3. 3이상의 요소들의 제곱을 추출\n",
    "L = [1, 2, 3, 4, 5]\n",
    "[item**2 for item in L if item>=3]"
   ]
  },
  {
   "cell_type": "markdown",
   "id": "820064eb",
   "metadata": {},
   "source": [
    "## 1.6 요소 수정하기"
   ]
  },
  {
   "cell_type": "code",
   "execution_count": 74,
   "id": "f084b6bf",
   "metadata": {},
   "outputs": [
    {
     "data": {
      "text/plain": [
       "[0, 1, 222, 3, 4, 5, 6, 7, 8, 9]"
      ]
     },
     "execution_count": 74,
     "metadata": {},
     "output_type": "execute_result"
    }
   ],
   "source": [
    "numbers = [0, 1, 2, 3, 4, 5, 6, 7, 8, 9]\n",
    "# 인덱스를 이용해서 요소 수정\n",
    "numbers[2]=222\n",
    "numbers"
   ]
  },
  {
   "cell_type": "code",
   "execution_count": 75,
   "id": "5cf04ac1",
   "metadata": {},
   "outputs": [
    {
     "data": {
      "text/plain": [
       "[0, 'X', 'Y', 'Z', 'ㅋ', 'ㅎ', 4, 5, 6, 7, 8, 9]"
      ]
     },
     "execution_count": 75,
     "metadata": {},
     "output_type": "execute_result"
    }
   ],
   "source": [
    "# 슬라이싱을 이용해서 요소 수정(step부분이 미포함 : 부분 리스트가 통째로 수정) \n",
    "numbers[1:4] = ['X', 'Y', 'Z', 'ㅋ', 'ㅎ']\n",
    "numbers"
   ]
  },
  {
   "cell_type": "code",
   "execution_count": 77,
   "id": "eb5a8100",
   "metadata": {},
   "outputs": [
    {
     "data": {
      "text/plain": [
       "[99, 1, 99, 3, 99, 5, 99, 7, 99, 9]"
      ]
     },
     "execution_count": 77,
     "metadata": {},
     "output_type": "execute_result"
    }
   ],
   "source": [
    "# 슬라이싱을 이용해서 요소 수정(step부분 포함 : 요소 갯수가 맞아야 함)\n",
    "numbers = [0, 1, 2, 3, 4, 5, 6, 7, 8, 9]\n",
    "numbers[::2] = [99,99,99,99,99]\n",
    "numbers"
   ]
  },
  {
   "cell_type": "markdown",
   "id": "42eaab23",
   "metadata": {},
   "source": [
    "## 1.7 요소 삭제\n",
    "- pop() : 가장 마지막 인덱스 요소가 반환되고 삭제\n",
    "- pop(idx) : idx번째 요소가 반환되고 삭제\n",
    "- remove(지울data) : 리스트안의 data가 삭제\n",
    "- del 변수[idx] : idx번째 요소가 삭제"
   ]
  },
  {
   "cell_type": "code",
   "execution_count": 83,
   "id": "1dbde8c9",
   "metadata": {},
   "outputs": [
    {
     "name": "stdout",
     "output_type": "stream",
     "text": [
      "삭제된 데이터 : 5, 리스트 : [1, 2, 3, 4]\n",
      "삭제된 데이터 : 1, 리스트 : [2, 3, 4]\n",
      "numbers : [2, 3]\n"
     ]
    }
   ],
   "source": [
    "numbers = [1, 2, 3, 4, 5]\n",
    "delete_data = numbers.pop()\n",
    "print(\"삭제된 데이터 : {}, 리스트 : {}\".format(delete_data, numbers))\n",
    "delete_data2 = numbers.pop(0)\n",
    "print(\"삭제된 데이터 : {}, 리스트 : {}\".format(delete_data2, numbers))\n",
    "del numbers[2]\n",
    "print('numbers :', numbers)"
   ]
  },
  {
   "cell_type": "code",
   "execution_count": 86,
   "id": "cd4dade7",
   "metadata": {},
   "outputs": [
    {
     "name": "stdout",
     "output_type": "stream",
     "text": [
      "[1, 2, 4, 5]\n"
     ]
    }
   ],
   "source": [
    "numbers = [1, 2, 3, 4, 5]\n",
    "# remove()는 반환값이 없고, 해당 데이터만 삭제. 해당데이터가 없으면 오류\n",
    "numbers.remove(3) \n",
    "print(numbers)"
   ]
  },
  {
   "cell_type": "code",
   "execution_count": 87,
   "id": "d9f741e5",
   "metadata": {},
   "outputs": [
    {
     "ename": "ValueError",
     "evalue": "list.remove(x): x not in list",
     "output_type": "error",
     "traceback": [
      "\u001b[1;31m---------------------------------------------------------------------------\u001b[0m",
      "\u001b[1;31mValueError\u001b[0m                                Traceback (most recent call last)",
      "Cell \u001b[1;32mIn[87], line 1\u001b[0m\n\u001b[1;32m----> 1\u001b[0m \u001b[43mnumbers\u001b[49m\u001b[38;5;241;43m.\u001b[39;49m\u001b[43mremove\u001b[49m\u001b[43m(\u001b[49m\u001b[38;5;241;43m9\u001b[39;49m\u001b[43m)\u001b[49m\n",
      "\u001b[1;31mValueError\u001b[0m: list.remove(x): x not in list"
     ]
    }
   ],
   "source": [
    "numbers.remove(9)"
   ]
  },
  {
   "cell_type": "code",
   "execution_count": 89,
   "id": "994c8bff",
   "metadata": {},
   "outputs": [
    {
     "name": "stdout",
     "output_type": "stream",
     "text": [
      "해당 데이터가 없습니다\n"
     ]
    }
   ],
   "source": [
    "if 9 in numbers:\n",
    "    numbers.remove(9)\n",
    "else:\n",
    "    print('해당 데이터가 없습니다')"
   ]
  },
  {
   "cell_type": "code",
   "execution_count": 90,
   "id": "c88e25f4",
   "metadata": {},
   "outputs": [],
   "source": [
    "def safe_remove(lst, remove_data):\n",
    "    if remove_data in lst:\n",
    "        lst.remove(remove_data)\n",
    "        print(remove_data, '삭제 완료')\n",
    "    else:\n",
    "        print(f'{remove_data}는 없는 아이템입니다')"
   ]
  },
  {
   "cell_type": "code",
   "execution_count": 92,
   "id": "a8065bb1",
   "metadata": {},
   "outputs": [
    {
     "name": "stdout",
     "output_type": "stream",
     "text": [
      "9는 없는 아이템입니다\n",
      "5 삭제 완료\n"
     ]
    }
   ],
   "source": [
    "safe_remove(numbers, 9)\n",
    "safe_remove(numbers, 5)"
   ]
  },
  {
   "cell_type": "code",
   "execution_count": 93,
   "id": "2653749b",
   "metadata": {},
   "outputs": [
    {
     "data": {
      "text/plain": [
       "[1, 2, 4]"
      ]
     },
     "execution_count": 93,
     "metadata": {},
     "output_type": "execute_result"
    }
   ],
   "source": [
    "numbers"
   ]
  },
  {
   "cell_type": "markdown",
   "id": "a930dc50",
   "metadata": {},
   "source": [
    "## 1.8 정렬하기"
   ]
  },
  {
   "cell_type": "code",
   "execution_count": 7,
   "id": "5fbea4a3",
   "metadata": {},
   "outputs": [
    {
     "name": "stdout",
     "output_type": "stream",
     "text": [
      "numbers는 변경하지 않고 정렬 : [0, 1, 5, 8, 9] [9, 8, 5, 1, 0]\n",
      "numbers : [1, 9, 5, 0, 8]\n"
     ]
    }
   ],
   "source": [
    "numbers=[1, 9, 5, 0, 8]\n",
    "print('numbers는 변경하지 않고 정렬 :', sorted(numbers), sorted(numbers, reverse=True))\n",
    "print('numbers :', numbers)"
   ]
  },
  {
   "cell_type": "code",
   "execution_count": 9,
   "id": "ad79144b",
   "metadata": {},
   "outputs": [
    {
     "data": {
      "text/plain": [
       "[0, 1, 5, 8, 9]"
      ]
     },
     "execution_count": 9,
     "metadata": {},
     "output_type": "execute_result"
    }
   ],
   "source": [
    "numbers.sort() # numbers 자체가 정렬한 결과로 바뀜(기본정렬 : 오름차순) \n",
    "               #즉, 데이터 자체의 내용을 바꿔버리며 이후에 변수를 입력하면 정렬된 결과가 출력됨.\n",
    "numbers"
   ]
  },
  {
   "cell_type": "code",
   "execution_count": 5,
   "id": "c550907d",
   "metadata": {},
   "outputs": [
    {
     "data": {
      "text/plain": [
       "[9, 8, 5, 1, 0]"
      ]
     },
     "execution_count": 5,
     "metadata": {},
     "output_type": "execute_result"
    }
   ],
   "source": [
    "numbers.reverse() # numbers 자체가 역순으로 변경\n",
    "numbers"
   ]
  },
  {
   "cell_type": "code",
   "execution_count": 11,
   "id": "9e5e7687",
   "metadata": {},
   "outputs": [
    {
     "data": {
      "text/plain": [
       "[9, 5, 2]"
      ]
     },
     "execution_count": 11,
     "metadata": {},
     "output_type": "execute_result"
    }
   ],
   "source": [
    "lst = [2, 5, 9]\n",
    "# lst.reverse()\n",
    "lst = lst[::-1]\n",
    "lst"
   ]
  },
  {
   "cell_type": "markdown",
   "id": "dedd271a",
   "metadata": {},
   "source": [
    "## 1.9 복제하기"
   ]
  },
  {
   "cell_type": "code",
   "execution_count": 16,
   "id": "5586ceea",
   "metadata": {},
   "outputs": [
    {
     "name": "stdout",
     "output_type": "stream",
     "text": [
      "원본=10, 복사복=10 / 원본주소=1486397374992, 복사본주소=1486397374992\n",
      "원본=10, 복사복=99 / 원본주소=1486397374992, 복사본주소=1486397377840\n"
     ]
    }
   ],
   "source": [
    "# 스칼라 데이터의 복제\n",
    "i=10       #원본\n",
    "copy_i = i #복제본(원본을 훼손하지 않고 운용하고 싶을 때 사용)\n",
    "print(f\"원본={i}, 복사복={copy_i} / 원본주소={id(i)}, 복사본주소={id(copy_i)}\")\n",
    "copy_i = 99\n",
    "print(f\"원본={i}, 복사복={copy_i} / 원본주소={id(i)}, 복사본주소={id(copy_i)}\")"
   ]
  },
  {
   "cell_type": "code",
   "execution_count": 24,
   "id": "e81e16ab",
   "metadata": {},
   "outputs": [
    {
     "name": "stdout",
     "output_type": "stream",
     "text": [
      "원본: [9, 6, 1]\n",
      "복제본: [9, 6, 1]\n"
     ]
    }
   ],
   "source": [
    "# 리스트(배열, 데이터프레임, 딕셔너리)의 복제(절대 안 됨) *배열과 데이터프레임을 자주 복제함.\n",
    "numbers=[5, 6, 1] #원복\n",
    "new_numbers = numbers #본제본\n",
    "new_numbers[0] = 9\n",
    "print('원본:', numbers)\n",
    "print('복제본:', new_numbers)"
   ]
  },
  {
   "cell_type": "code",
   "execution_count": 25,
   "id": "af718e8d",
   "metadata": {},
   "outputs": [
    {
     "name": "stdout",
     "output_type": "stream",
     "text": [
      "9 1486397374960\n",
      "8 1486397374928\n"
     ]
    }
   ],
   "source": [
    "a = 9\n",
    "print(a, id(a)) #id()함수는 해당 변수의 주소를 나타냄.\n",
    "a = 8\n",
    "print(a, id(a))"
   ]
  },
  {
   "cell_type": "code",
   "execution_count": 32,
   "id": "26731ee3",
   "metadata": {},
   "outputs": [
    {
     "name": "stdout",
     "output_type": "stream",
     "text": [
      "원본=[5, 8, 1], 복제본=[5, 8, 1]\n",
      "원본주소=1486509741568, 복제본=1486509741568\n",
      "복제본만 지지고 볶고\n",
      "원본=[1, 8], 복제본=[1, 8]\n",
      "원본주소=1486509741568, 복제본=1486509741568\n"
     ]
    }
   ],
   "source": [
    "#얕은 복사(할당) / 깊은복사(복제)\n",
    "numbers=[5,8,1] #원본, 5,8,1에 대한 주소가 저장됨\n",
    "new_numbers = numbers #얕은 복사(할당), 원본에 대한 주소가 저장됨.\n",
    "print(f\"원본={numbers}, 복제본={new_numbers}\")\n",
    "print(f\"원본주소={id(numbers)}, 복제본={id(new_numbers)}\")\n",
    "new_numbers[0] = -99\n",
    "new_numbers.sort()\n",
    "new_numbers.remove(-99)\n",
    "print(\"복제본만 지지고 볶고\")\n",
    "print(f\"원본={numbers}, 복제본={new_numbers}\")\n",
    "print(f\"원본주소={id(numbers)}, 복제본={id(new_numbers)}\")\n",
    "\n",
    "#결론 : 얕은복사를 하면 복사본의 내용을 변경하면 원본의 내용도 변경됨."
   ]
  },
  {
   "cell_type": "code",
   "execution_count": 33,
   "id": "59651c68",
   "metadata": {},
   "outputs": [
    {
     "data": {
      "text/plain": [
       "[]"
      ]
     },
     "execution_count": 33,
     "metadata": {},
     "output_type": "execute_result"
    }
   ],
   "source": [
    "numbers.clear() #모든 항목 삭제\n",
    "numbers"
   ]
  },
  {
   "cell_type": "markdown",
   "id": "c06febe2",
   "metadata": {},
   "source": [
    "# 2절 튜플\n",
    "- 리스트와 유사하지만, 읽기전용. 수정이 필요없는 데이터에서 사용\n",
    "- 수정불가하므로, 튜플에 데이터 수정, 삭제, 정렬, 복제 불가(제공되는 함수도 많지 않음.)\n",
    "- ()또는 tuple()을 이용해서 생성\n",
    "- 기본적으로 리스트와 동일한 작동방식을 가지나, 결정적인 차이점은 데이터의 변조가능여부에 따라 다름."
   ]
  },
  {
   "cell_type": "code",
   "execution_count": 35,
   "id": "8a2044fd",
   "metadata": {},
   "outputs": [
    {
     "name": "stdout",
     "output_type": "stream",
     "text": [
      "<class 'tuple'>\n",
      "('서울', '부산', '인천', '목포')\n"
     ]
    }
   ],
   "source": [
    "# city=('서울','부산','인천','목포')\n",
    "# 파이썬은 여러개의 값이 전달된 때, 튜플 타입으로 전달 수정\n",
    "city = '서울','부산','인천','목포'\n",
    "print(type(city))\n",
    "print(city)"
   ]
  },
  {
   "cell_type": "code",
   "execution_count": 39,
   "id": "94627c9d",
   "metadata": {},
   "outputs": [
    {
     "name": "stdout",
     "output_type": "stream",
     "text": [
      "10 12\n"
     ]
    }
   ],
   "source": [
    "a, b = (10,12)\n",
    "print(a,b)"
   ]
  },
  {
   "cell_type": "code",
   "execution_count": 40,
   "id": "2659a1b9",
   "metadata": {},
   "outputs": [
    {
     "data": {
      "text/plain": [
       "'서울 = 부산 = 인천 = 목포'"
      ]
     },
     "execution_count": 40,
     "metadata": {},
     "output_type": "execute_result"
    }
   ],
   "source": [
    "#city = ['서울','부산','인천','목포']\n",
    "city = ('서울','부산','인천','목포')\n",
    "' = '.join(city)"
   ]
  },
  {
   "cell_type": "code",
   "execution_count": 43,
   "id": "15861799",
   "metadata": {},
   "outputs": [
    {
     "name": "stdout",
     "output_type": "stream",
     "text": [
      "<class 'list'> ['서울']\n"
     ]
    }
   ],
   "source": [
    "l = ['서울'] #요소가 하나 있는 리스트\n",
    "print(type(l), l)"
   ]
  },
  {
   "cell_type": "code",
   "execution_count": 47,
   "id": "01c2cf99",
   "metadata": {},
   "outputs": [
    {
     "name": "stdout",
     "output_type": "stream",
     "text": [
      "<class 'tuple'> ('서울',)\n"
     ]
    }
   ],
   "source": [
    "t = ('서울', ) #요소가 하나 있는 튜플(,를 반드시 기입)\n",
    "print(type(t), t)"
   ]
  },
  {
   "cell_type": "code",
   "execution_count": 48,
   "id": "f53592ec",
   "metadata": {},
   "outputs": [
    {
     "data": {
      "text/plain": [
       "(1, 3, 6, [3, 2, 1])"
      ]
     },
     "execution_count": 48,
     "metadata": {},
     "output_type": "execute_result"
    }
   ],
   "source": [
    "numbers = (1, 2, 3)\n",
    "# numbers.remove(3) 수정하기 위한 함수는 제공되지 않음\n",
    "# numbers.append(4)\n",
    "# numbers.pop()\n",
    "# numbers.sort()\n",
    "min(numbers), max(noumbers), sum(numbers), sorted(numbers, reverse=True)"
   ]
  },
  {
   "cell_type": "code",
   "execution_count": 49,
   "id": "24b1e0a1",
   "metadata": {},
   "outputs": [
    {
     "data": {
      "text/plain": [
       "(2, 0)"
      ]
     },
     "execution_count": 49,
     "metadata": {},
     "output_type": "execute_result"
    }
   ],
   "source": [
    "numbers = (0, 1, 2, (1, 2), 0, 1, 2)\n",
    "numbers.count(2), numbers.count(9)"
   ]
  },
  {
   "cell_type": "code",
   "execution_count": 51,
   "id": "1a4f04d8",
   "metadata": {},
   "outputs": [
    {
     "ename": "AttributeError",
     "evalue": "'tuple' object has no attribute 'inxex'",
     "output_type": "error",
     "traceback": [
      "\u001b[1;31m---------------------------------------------------------------------------\u001b[0m",
      "\u001b[1;31mAttributeError\u001b[0m                            Traceback (most recent call last)",
      "Cell \u001b[1;32mIn[51], line 1\u001b[0m\n\u001b[1;32m----> 1\u001b[0m \u001b[43mnumbers\u001b[49m\u001b[38;5;241;43m.\u001b[39;49m\u001b[43minxex\u001b[49m(\u001b[38;5;241m2\u001b[39m)\n",
      "\u001b[1;31mAttributeError\u001b[0m: 'tuple' object has no attribute 'inxex'"
     ]
    }
   ],
   "source": [
    "numbers.inxex(2)\n",
    "#인덱스와 동일하게 없는 변수를 확인하려하면 오류가 걸림"
   ]
  },
  {
   "cell_type": "code",
   "execution_count": 52,
   "id": "6eb43e41",
   "metadata": {},
   "outputs": [
    {
     "ename": "SyntaxError",
     "evalue": "invalid syntax (2211973799.py, line 1)",
     "output_type": "error",
     "traceback": [
      "\u001b[1;36m  Cell \u001b[1;32mIn[52], line 1\u001b[1;36m\u001b[0m\n\u001b[1;33m    is 9 in numbers:\u001b[0m\n\u001b[1;37m    ^\u001b[0m\n\u001b[1;31mSyntaxError\u001b[0m\u001b[1;31m:\u001b[0m invalid syntax\n"
     ]
    }
   ],
   "source": [
    "is 9 in numbers:\n",
    "    numbers.index(9)\n",
    "else:\n",
    "    print('9요소가 없어요')"
   ]
  },
  {
   "cell_type": "code",
   "execution_count": 54,
   "id": "9e61f66e",
   "metadata": {},
   "outputs": [],
   "source": [
    "def safe_index(lst, item):\n",
    "    \"\"\"\n",
    "    lst안에 item 요소가 있으면 item 요소의 index를 반환 없으면 -1반환\n",
    "    lst : 나열가능한 데이터\n",
    "    item : 찾을 데이터\n",
    "    \"\"\"\n",
    "    if item in lst :\n",
    "        return lst.index(item)\n",
    "    else:\n",
    "        return -1\n",
    "    #return lst.index(item) if item in lst else -1"
   ]
  },
  {
   "cell_type": "code",
   "execution_count": 3,
   "id": "fe02868e",
   "metadata": {},
   "outputs": [
    {
     "data": {
      "text/plain": [
       "(-1, 2)"
      ]
     },
     "execution_count": 3,
     "metadata": {},
     "output_type": "execute_result"
    }
   ],
   "source": [
    "from safe import safe_index\n",
    "numbers = (0, 1, 2, (1, 2), 0, 1, 2)\n",
    "safe_index(numbers, 9), safe_index(numbers, 2)"
   ]
  },
  {
   "cell_type": "code",
   "execution_count": 4,
   "id": "27ea584c",
   "metadata": {},
   "outputs": [
    {
     "data": {
      "text/plain": [
       "(0, 1, 2, (1, 2), 0, 1, 2, 0, 1, 2, (1, 2), 0, 1, 2, 0, 1, 2, (1, 2), 0, 1, 2)"
      ]
     },
     "execution_count": 4,
     "metadata": {},
     "output_type": "execute_result"
    }
   ],
   "source": [
    "numbers *3"
   ]
  },
  {
   "cell_type": "code",
   "execution_count": 9,
   "id": "96e8887a",
   "metadata": {},
   "outputs": [
    {
     "data": {
      "text/plain": [
       "(4, 16, 36)"
      ]
     },
     "execution_count": 9,
     "metadata": {},
     "output_type": "execute_result"
    }
   ],
   "source": [
    "#ex. 짝수 요소들을 추출하여 제곱한 데이터를 튜플로 출력\n",
    "numbers = (1, 2, 3, 4, 5, 6)\n",
    "tuple([num**2 for num in numbers if num%2==0])"
   ]
  },
  {
   "cell_type": "markdown",
   "id": "643220e9",
   "metadata": {},
   "source": [
    "# 3절. 딕셔너리\n",
    "- 중괄호({})를 이용해서, 키(key)-값(value) 쌍으로 구성된 자료구조\n",
    "- 키는 중복불가(유일한 값). 키에 list는 사용불가.\n",
    "- 값은 중복가능\n",
    "- 인덱스를 이용한 참조 지원 안 함"
   ]
  },
  {
   "cell_type": "code",
   "execution_count": 12,
   "id": "af224747",
   "metadata": {},
   "outputs": [
    {
     "name": "stdout",
     "output_type": "stream",
     "text": [
      "<class 'dict'>\n",
      "{'name': '홍길동', 1: 22, (1, 2): [1, 2]}\n",
      "데이터 갯수 : 3\n"
     ]
    }
   ],
   "source": [
    "dic = {'name':'홍길동',1:22, (1,2):[1,2]}\n",
    "print(type(dic))\n",
    "print(dic)\n",
    "print('데이터 갯수 :', len(dic))"
   ]
  },
  {
   "cell_type": "code",
   "execution_count": 13,
   "id": "4b1f3d62",
   "metadata": {},
   "outputs": [
    {
     "data": {
      "text/plain": [
       "{'fruit': 'apple', 'number': 12, 'sport': 'golf'}"
      ]
     },
     "execution_count": 13,
     "metadata": {},
     "output_type": "execute_result"
    }
   ],
   "source": [
    "my_favorite = {'fruit':'apple', 'number':12, 'sport':'golf'}\n",
    "my_favorite"
   ]
  },
  {
   "cell_type": "code",
   "execution_count": 15,
   "id": "7e6f36f1",
   "metadata": {},
   "outputs": [
    {
     "name": "stdout",
     "output_type": "stream",
     "text": [
      "apple\n",
      "apple\n"
     ]
    }
   ],
   "source": [
    "#딕셔너리 상에서 원하는 데이터 추출(현 예시에서는 key를 입력했을때 value값을 출력하는 방법을 보여줌.)\n",
    "print(my_favorite['fruit']) #리스트가 안되므로 리스트 처럼 [0]으로 데이터를 추출할 수 없음.\n",
    "print(my_favorite.get('fruit')) #이걸 더 많이씀"
   ]
  },
  {
   "cell_type": "code",
   "execution_count": 20,
   "id": "b6564c8f",
   "metadata": {},
   "outputs": [
    {
     "name": "stdout",
     "output_type": "stream",
     "text": [
      "None\n",
      "-\n"
     ]
    }
   ],
   "source": [
    "#print(my_favorite['people']) #없는 키값을 인덱스 방식으로 참조시 에러가 발생함.\n",
    "print(my_favorite.get('people')) #없는 키값을 get함수로 참조시 none(웹페이지 등에선 에러가 발생하면 문제가 생기므로)\n",
    "print(my_favorite.get('people','-')) #없는 키를 get함수로 참조시 '-'"
   ]
  },
  {
   "cell_type": "code",
   "execution_count": 133,
   "id": "862ae402",
   "metadata": {},
   "outputs": [
    {
     "name": "stdout",
     "output_type": "stream",
     "text": [
      "fruit 수정 후 : {'fruit': 'mango', 'number': 12, 'sport': 'golf'}\n",
      "my_favorite 추가 후 : {'fruit': 'mango', 'number': 12, 'sport': 'golf', 'people': '홍길동'}\n",
      "fruit 제거 후: {'number': 12, 'sport': 'golf', 'people': '홍길동'}\n",
      "remove data : 12\n",
      "number 제거 후 딕셔너리 : {'sport': 'golf', 'people': '홍길동'}\n"
     ]
    }
   ],
   "source": [
    "# 딕셔너리 수정\n",
    "my_favorite = {'fruit':'apple', 'number':12, 'sport':'golf'}\n",
    "my_favorite.get('fruit') #데이터에 엑세스 할때는 []를 잘 안씀. 에러가 발생할 수 있으므로 get함수를 사용함.\n",
    "my_favorite['fruit']='mango' # fruit 데이터 수정\n",
    "print('fruit 수정 후 :', my_favorite)\n",
    "my_favorite['people'] = '홍길동' #데이터 추가\n",
    "print('my_favorite 추가 후 :', my_favorite)\n",
    "\n",
    "#데이터 제거하기(2가지 방법이 있음.)\n",
    "#1번째 방법 : 단순 제거만 하는 방법\n",
    "del my_favorite['fruit']   \n",
    "print('fruit 제거 후:', my_favorite)\n",
    "\n",
    "#2번째 방법 : number키의 값을 반환하고 제거\n",
    "remove_data = my_favorite.pop('number') \n",
    "print('remove data :', remove_data)\n",
    "print('number 제거 후 딕셔너리 :', my_favorite)"
   ]
  },
  {
   "cell_type": "code",
   "execution_count": 32,
   "id": "6b41546e",
   "metadata": {},
   "outputs": [],
   "source": [
    "#for문을 이용한 튜플(리스트) 출력\n",
    "my_tup = ('홍길동', 30, '010-9999-9999')"
   ]
  },
  {
   "cell_type": "code",
   "execution_count": 33,
   "id": "f6121d83",
   "metadata": {},
   "outputs": [
    {
     "name": "stdout",
     "output_type": "stream",
     "text": [
      "홍길동\t30\t010-9999-9999\t\n",
      "0번째 홍길동\t1번째 30\t2번째 010-9999-9999\t\n",
      "0번째 홍길동\t1번째 30\t2번째 010-9999-9999\t"
     ]
    }
   ],
   "source": [
    "for data in my_tup:\n",
    "    print(data, end='\\t')\n",
    "print()\n",
    "for idx in range(len(my_tup)):\n",
    "    print(f\"{idx}번째 {my_tup[idx]}\", end=\"\\t\")\n",
    "print()\n",
    "for idx, value in enumerate(my_tup):\n",
    "        print(f\"{idx}번째 {value}\", end=\"\\t\")"
   ]
  },
  {
   "cell_type": "code",
   "execution_count": 28,
   "id": "a0a95845",
   "metadata": {},
   "outputs": [],
   "source": [
    "my_dic = {'name':'홍길동', 'age':30, 'tel':'010-9999-9999'}"
   ]
  },
  {
   "cell_type": "code",
   "execution_count": 47,
   "id": "2770d651",
   "metadata": {},
   "outputs": [
    {
     "name": "stdout",
     "output_type": "stream",
     "text": [
      "name\tage\ttel\t"
     ]
    }
   ],
   "source": [
    "for data in my_dic:    #my_dic.keys():\n",
    "        print(data, end='\\t')"
   ]
  },
  {
   "cell_type": "code",
   "execution_count": 35,
   "id": "35a9b6f2",
   "metadata": {},
   "outputs": [
    {
     "name": "stdout",
     "output_type": "stream",
     "text": [
      "홍길동\t30\t010-9999-9999\t"
     ]
    }
   ],
   "source": [
    "#강사님께서 매우 비추천하는 방법\n",
    "for data in my_dic:\n",
    "    print(my_dic.get(data), end='\\t')"
   ]
  },
  {
   "cell_type": "code",
   "execution_count": 36,
   "id": "7785330f",
   "metadata": {},
   "outputs": [
    {
     "name": "stdout",
     "output_type": "stream",
     "text": [
      "홍길동\t30\t010-9999-9999\t"
     ]
    }
   ],
   "source": [
    "for data in my_dic.values(): \n",
    "    print(data, end='\\t')"
   ]
  },
  {
   "cell_type": "code",
   "execution_count": 38,
   "id": "2af731a8",
   "metadata": {},
   "outputs": [
    {
     "data": {
      "text/plain": [
       "dict_values(['홍길동', 30, '010-9999-9999'])"
      ]
     },
     "execution_count": 38,
     "metadata": {},
     "output_type": "execute_result"
    }
   ],
   "source": [
    "my_dic.values() # 값만 추출"
   ]
  },
  {
   "cell_type": "code",
   "execution_count": 39,
   "id": "140029a1",
   "metadata": {},
   "outputs": [
    {
     "data": {
      "text/plain": [
       "dict_keys(['name', 'age', 'tel'])"
      ]
     },
     "execution_count": 39,
     "metadata": {},
     "output_type": "execute_result"
    }
   ],
   "source": [
    "my_dic.keys() #키만 추출"
   ]
  },
  {
   "cell_type": "code",
   "execution_count": 41,
   "id": "60fdd258",
   "metadata": {},
   "outputs": [
    {
     "data": {
      "text/plain": [
       "dict_items([('name', '홍길동'), ('age', 30), ('tel', '010-9999-9999')])"
      ]
     },
     "execution_count": 41,
     "metadata": {},
     "output_type": "execute_result"
    }
   ],
   "source": [
    "my_dic.items() #(키-값)쌍을 추출"
   ]
  },
  {
   "cell_type": "code",
   "execution_count": 43,
   "id": "d6cda560",
   "metadata": {},
   "outputs": [
    {
     "name": "stdout",
     "output_type": "stream",
     "text": [
      "name:홍길동\tage:30\ttel:010-9999-9999\t"
     ]
    }
   ],
   "source": [
    "for key, value in my_dic.items() :\n",
    "    print(f\"{key}:{value}\", end='\\t')"
   ]
  },
  {
   "cell_type": "code",
   "execution_count": 48,
   "id": "4dfc7b16",
   "metadata": {},
   "outputs": [
    {
     "data": {
      "text/plain": [
       "[(0, ('name', '홍길동')), (1, ('age', 30)), (2, ('tel', '010-9999-9999'))]"
      ]
     },
     "execution_count": 48,
     "metadata": {},
     "output_type": "execute_result"
    }
   ],
   "source": [
    "list(enumerate(my_dic.items()))"
   ]
  },
  {
   "cell_type": "code",
   "execution_count": 49,
   "id": "114897c8",
   "metadata": {},
   "outputs": [
    {
     "name": "stdout",
     "output_type": "stream",
     "text": [
      "1.name : 홍길동\n",
      "2.age  : 30\n",
      "3.tel  : 010-9999-9999\n"
     ]
    }
   ],
   "source": [
    "for idx, (key, value) in enumerate(my_dic.items()):\n",
    "    print('{}.{:4} : {}'.format(idx+1, key, value))"
   ]
  },
  {
   "cell_type": "code",
   "execution_count": 51,
   "id": "24a50c54",
   "metadata": {},
   "outputs": [
    {
     "data": {
      "text/plain": [
       "False"
      ]
     },
     "execution_count": 51,
     "metadata": {},
     "output_type": "execute_result"
    }
   ],
   "source": [
    "\"홍길동\" in my_dic.keys()"
   ]
  },
  {
   "cell_type": "code",
   "execution_count": 52,
   "id": "7e3620dc",
   "metadata": {},
   "outputs": [
    {
     "data": {
      "text/plain": [
       "True"
      ]
     },
     "execution_count": 52,
     "metadata": {},
     "output_type": "execute_result"
    }
   ],
   "source": [
    "\"홍길동\" in my_dic.values()"
   ]
  },
  {
   "cell_type": "code",
   "execution_count": 53,
   "id": "0611598c",
   "metadata": {},
   "outputs": [
    {
     "name": "stdout",
     "output_type": "stream",
     "text": [
      "{'fruit': 'apple', 'number': 12, 'people': '홍길동'}\n",
      "{'fruit': 'apple', 'number': 12, 'people': '홍길동'}\n"
     ]
    }
   ],
   "source": [
    "#얕은 복사\n",
    "my_favorite={'fruit':'apple', 'number':12} #원본\n",
    "new_favorite=my_favorite # 복제본(얕은복사)\n",
    "new_favorite['people'] = '홍길동'\n",
    "print(my_favorite)\n",
    "print(new_favorite)"
   ]
  },
  {
   "cell_type": "code",
   "execution_count": 54,
   "id": "60d54333",
   "metadata": {},
   "outputs": [
    {
     "name": "stdout",
     "output_type": "stream",
     "text": [
      "{'fruit': 'apple', 'number': 12}\n",
      "{'fruit': 'apple', 'number': 12, 'people': '홍길동'}\n"
     ]
    }
   ],
   "source": [
    "# 깊은 복사\n",
    "my_favorite={'fruit':'apple', 'number':12} #원본\n",
    "new_favorite=my_favorite.copy() # 복제본(깊은복사)\n",
    "new_favorite['people'] = '홍길동'\n",
    "print(my_favorite)\n",
    "print(new_favorite)"
   ]
  },
  {
   "cell_type": "markdown",
   "id": "2fac19dc",
   "metadata": {},
   "source": [
    "# 4절. 셋\n",
    "- 중복을 허용하지 않는 집합(순서x == 인덱스 X)\n",
    "- 중괄호({})나 set()함수를 이용해서 셋 생성\n",
    "- 추가 : add(), update()\n",
    "- 집합연산자 : &, |, - (각각 교집합, 합집합, 여집합)\n",
    "- 삭제 : remove()"
   ]
  },
  {
   "cell_type": "code",
   "execution_count": 56,
   "id": "80b75819",
   "metadata": {},
   "outputs": [
    {
     "data": {
      "text/plain": [
       "{'apple', 'banana', 'orange'}"
      ]
     },
     "execution_count": 56,
     "metadata": {},
     "output_type": "execute_result"
    }
   ],
   "source": [
    "fruits = {'banana', 'orange', 'banana', 'banana', 'apple'} #순서없이 컴퓨터 마음대로 데이터를 출력함.\n",
    "fruits "
   ]
  },
  {
   "cell_type": "code",
   "execution_count": 57,
   "id": "ce45245b",
   "metadata": {},
   "outputs": [
    {
     "data": {
      "text/plain": [
       "{1, 20, 21, 22}"
      ]
     },
     "execution_count": 57,
     "metadata": {},
     "output_type": "execute_result"
    }
   ],
   "source": [
    "s1 = set([1, 20, 1, 21, 1, 22])\n",
    "s1"
   ]
  },
  {
   "cell_type": "code",
   "execution_count": 58,
   "id": "90118aa7",
   "metadata": {},
   "outputs": [
    {
     "data": {
      "text/plain": [
       "{'fruit', 'number'}"
      ]
     },
     "execution_count": 58,
     "metadata": {},
     "output_type": "execute_result"
    }
   ],
   "source": [
    "# set 함수를 이용해서 딕셔너리로 셋으로 전환할 때는 key만 적용됨.\n",
    "my_favorite={'fruit':'apple', 'number':12}\n",
    "set(my_favorite)"
   ]
  },
  {
   "cell_type": "markdown",
   "id": "1df04265",
   "metadata": {},
   "source": [
    "## 추가하기\n",
    "- add() : 기본자료형, 튜플데이터를 하나의 요소로 추가할 경우\n",
    "- update() : 리스트, 튜플, 딕셔너리, 셋(set) 요소 하나하나씩 추가할 경우. dict사용시 key만 추가"
   ]
  },
  {
   "cell_type": "code",
   "execution_count": 61,
   "id": "273623da",
   "metadata": {},
   "outputs": [
    {
     "data": {
      "text/plain": [
       "{1, 2, 3, 4, 5, 6, 7}"
      ]
     },
     "execution_count": 61,
     "metadata": {},
     "output_type": "execute_result"
    }
   ],
   "source": [
    "s2 = {1, 1, 2, 3}\n",
    "s2.add(4)\n",
    "s2.update([5, 6, 7]) #스칼라 데이터는 오류가 발생하므로 다수의 데이터를 추가하는 경우에 사용\n",
    "s2"
   ]
  },
  {
   "cell_type": "code",
   "execution_count": 69,
   "id": "7945172f",
   "metadata": {},
   "outputs": [
    {
     "data": {
      "text/plain": [
       "{False, 1, 2, 3}"
      ]
     },
     "execution_count": 69,
     "metadata": {},
     "output_type": "execute_result"
    }
   ],
   "source": [
    "# 논리값 False는 False, 0으로\n",
    "# 논리값 True는 True, 1로\n",
    "s = {1, 2, 3}\n",
    "s.add(False)\n",
    "s.add(True)\n",
    "s.add(0)\n",
    "s"
   ]
  },
  {
   "cell_type": "code",
   "execution_count": 70,
   "id": "11de2be8",
   "metadata": {},
   "outputs": [
    {
     "data": {
      "text/plain": [
       "{False, 2, 3}"
      ]
     },
     "execution_count": 70,
     "metadata": {},
     "output_type": "execute_result"
    }
   ],
   "source": [
    "s.remove(True)\n",
    "s"
   ]
  },
  {
   "cell_type": "markdown",
   "id": "f1947e24",
   "metadata": {},
   "source": [
    "## 연산:&(교집합), |(합집합), -(차집합)\n",
    "\n",
    "- &, | : 괄호를 잘 쳐야한다. 집합연산자, 논리연산자, 비트연산자"
   ]
  },
  {
   "cell_type": "code",
   "execution_count": 71,
   "id": "ae95ce99",
   "metadata": {},
   "outputs": [
    {
     "name": "stdout",
     "output_type": "stream",
     "text": [
      "s1 | s2 = {1, 2, 3, 4, 5, 6, 7}\n",
      "s1 & s2 = {3, 4, 5}\n",
      "s1 - s2 = {1, 2}\n"
     ]
    }
   ],
   "source": [
    "s1 = {1, 2, 3, 4, 5}\n",
    "s2 = {3, 4, 5, 6, 7}\n",
    "print('s1 | s2 =', s1|s2)\n",
    "print('s1 & s2 =', s1&s2)\n",
    "print('s1 - s2 =', s1-s2)"
   ]
  },
  {
   "cell_type": "code",
   "execution_count": 73,
   "id": "b4eadbb2",
   "metadata": {},
   "outputs": [],
   "source": [
    "#리스트를 잘 이해하면 튜플, 딕셔너리, 셋은 쉽게 익힐 수 있다."
   ]
  },
  {
   "cell_type": "markdown",
   "id": "8fa0c8d8",
   "metadata": {},
   "source": [
    "# 5절. enumerate\n",
    "- 반복자 또는 순서 객체로 반복문을 처리할 때 사용하는 함수\n",
    "- 리스트, 튜플, 셋, 딕셔너리를 for문에 사용시"
   ]
  },
  {
   "cell_type": "code",
   "execution_count": 74,
   "id": "f9d88e56",
   "metadata": {},
   "outputs": [
    {
     "name": "stdout",
     "output_type": "stream",
     "text": [
      "길동\t영자\t길자\t"
     ]
    }
   ],
   "source": [
    "names = {'길자', '길동', '영자'}\n",
    "for name in names :\n",
    "    print(name, end='\\t')"
   ]
  },
  {
   "cell_type": "code",
   "execution_count": 75,
   "id": "04a2fbf8",
   "metadata": {},
   "outputs": [
    {
     "name": "stdout",
     "output_type": "stream",
     "text": [
      "0.길동\n",
      "1.영자\n",
      "2.길자\n"
     ]
    }
   ],
   "source": [
    "for no, name in enumerate(names) :\n",
    "    print(f\"{no}.{name}\")"
   ]
  },
  {
   "cell_type": "code",
   "execution_count": 82,
   "id": "2e9f7b5d",
   "metadata": {},
   "outputs": [
    {
     "name": "stdout",
     "output_type": "stream",
     "text": [
      "1.순자의 연락처는 010-9999-9999고 서울에 살아요\n",
      "2.길동의 연락처는 010-8888-8888고 인천에 살아요\n",
      "3.길자의 연락처는 010-7777-7777고 판교에 살아요\n"
     ]
    }
   ],
   "source": [
    "names = ['순자','길동','길자']\n",
    "tels=['010-9999-9999','010-8888-8888','010-7777-7777']\n",
    "adds=['서울','인천','판교']\n",
    "\n",
    "for idx in range(len(names)):\n",
    "    print(\"{}.{}의 연락처는 {}고 {}에 살아요\".format(idx+1,\n",
    "                                                   names[idx],\n",
    "                                                   tels[idx],\n",
    "                                                   adds[idx]))"
   ]
  },
  {
   "cell_type": "code",
   "execution_count": 83,
   "id": "e63888e4",
   "metadata": {},
   "outputs": [
    {
     "data": {
      "text/plain": [
       "[('순자', '010-9999-9999', '서울'),\n",
       " ('길동', '010-8888-8888', '인천'),\n",
       " ('길자', '010-7777-7777', '판교')]"
      ]
     },
     "execution_count": 83,
     "metadata": {},
     "output_type": "execute_result"
    }
   ],
   "source": [
    "list(zip(names, tels, adds))"
   ]
  },
  {
   "cell_type": "code",
   "execution_count": 85,
   "id": "e8d34d11",
   "metadata": {},
   "outputs": [
    {
     "name": "stdout",
     "output_type": "stream",
     "text": [
      "순자 : 010-9999-9999 - 서울\n",
      "길동 : 010-8888-8888 - 인천\n",
      "길자 : 010-7777-7777 - 판교\n"
     ]
    }
   ],
   "source": [
    "for name, tel, add in zip(names, tels, adds):\n",
    "    print(f\"{name} : {tel} - {add}\")"
   ]
  },
  {
   "cell_type": "code",
   "execution_count": 87,
   "id": "8b9cec62",
   "metadata": {},
   "outputs": [
    {
     "name": "stdout",
     "output_type": "stream",
     "text": [
      "1. 순자 : 010-9999-9999 - 서울\n",
      "2. 길동 : 010-8888-8888 - 인천\n",
      "3. 길자 : 010-7777-7777 - 판교\n"
     ]
    }
   ],
   "source": [
    "for idx, (name, tel, add) in enumerate(zip(names, tels, adds)):\n",
    "    print(\"{}. {} : {} - {}\".format(idx+1,\n",
    "                                   name,\n",
    "                                   tel,\n",
    "                                   add))"
   ]
  },
  {
   "cell_type": "markdown",
   "id": "b4d7d2ea",
   "metadata": {},
   "source": [
    "주피터 환경에서 이미지를 넣는법\n",
    "'''\n",
    "![자료형들](https://pynative.com/wp-content/uploads/2021/02/python-data-types.jpg)\n",
    "'''\n",
    "<img src=\"https://pynative.com/wp-content/uploads/2021/02/python-data-types.jpg\"\n",
    "     width=\"400\"\n",
    "     style=\"float:left\"\n",
    "     >"
   ]
  },
  {
   "cell_type": "markdown",
   "id": "4ffad60c",
   "metadata": {},
   "source": [
    "# 6절. 연습문제\n",
    "## 실습형"
   ]
  },
  {
   "cell_type": "code",
   "execution_count": 114,
   "id": "84c78869",
   "metadata": {},
   "outputs": [
    {
     "name": "stdout",
     "output_type": "stream",
     "text": [
      "1번문제: [1, 2, 3, 4, 5, 6, 7, 8, 9, 10, 100]\n",
      "2번문제: [1, 2, 3, 4, 5, 6, 7, 8, 9, 10, 100, 200, 300, 400, 500]\n",
      "3번문제: [1, 2, 3, 4, 5]\n",
      "4번문제: [1, 3, 5, 7, 9, 100, 300, 500]\n",
      "5번문제: [0, 2, 0, 4, 0, 6, 0, 8, 0, 10, 0, 200, 0, 400, 0]\n",
      "6번문제: [0, 400, 0, 200, 0, 10, 0, 8, 0, 6, 0, 4, 0, 2, 0]\n"
     ]
    }
   ],
   "source": [
    "#다음 리스트가 주어졌을 경우 요구사항대로 코드를 작성하시오.\n",
    "numbers=[1,2,3,4,5,6,7,8,9,10]\n",
    "#1. 숫자 100을 맨 뒤에 추가하세요\n",
    "numbers.append(100)\n",
    "print(\"1번문제:\", numbers)\n",
    "\n",
    "#2. 다음 리스트를 numbers리스트 맨 뒤에 추가하세요\n",
    "data=[200,300,400,500]\n",
    "a=numbers+data\n",
    "print(\"2번문제:\",a)\n",
    "#number.extend(data)\n",
    "\n",
    "#3. 처음 다섯개 숫자만 출력하세요\n",
    "print(\"3번문제:\",a[:5:])\n",
    "\n",
    "#4. 리스트에서 짝수 번째 데이터만 출력하세요\n",
    "print(\"4번문제:\",a[::2])\n",
    "\n",
    "#5. 짝수번째 데이터를 모두 0 으로 바꾸세요\n",
    "a[::2]=[0,0,0,0,0,0,0,0]\n",
    "print(\"5번문제:\",a)\n",
    "\n",
    "#다른방법\n",
    "# for i in range(0, len(numbers), 2):\n",
    "#     numbers[i] = 0\n",
    "#numbers[::2] = [0] * len(numbers[::2])\n",
    "#print('5번 후 결과 :', numbers)\n",
    "\n",
    "#6. 데이터를 역순으로 나열하세요 내림차순 정렬이 아닙니다\n",
    "a.reverse()\n",
    "print(\"6번문제:\",a)"
   ]
  },
  {
   "cell_type": "code",
   "execution_count": 142,
   "id": "de801f76",
   "metadata": {},
   "outputs": [
    {
     "name": "stdout",
     "output_type": "stream",
     "text": [
      "7번문제: 서울시 마포구\n",
      "8번문제: 90\n",
      "9번문제: {'name': '홍길동', 'age': 20, 'address': '서울시 서대문구'}\n",
      "10번문제: dict_values(['홍길동', 20, '서울시 서대문구'])\n"
     ]
    }
   ],
   "source": [
    "#다음 딕셔너리 데이터가 주어졌을 경우 요구사항대로 코드를 작성하세요\n",
    "member_info={'name':'홍길동','age':20, 'address':'서울시 마포구','score':90}\n",
    "#7. address 값을 출력하세요.\n",
    "print('7번문제:',member_info.get('address')) #강추\n",
    "\n",
    "#8. score 를 출력하고 member_info 딕셔너리에서 삭제하세요.\n",
    "remove_date=member_info.pop('score')\n",
    "print('8번문제:',remove_date)\n",
    "\n",
    "#9. address 를 서울시 서대문구 로 변경하세요\n",
    "member_info['address']='서울시 서대문구'\n",
    "print('9번문제:',member_info)\n",
    "\n",
    "#10. member_info 딕셔너리 데이터의 값을 리스트로 출력하세요.\n",
    "print('10번문제:', member_info.values())"
   ]
  },
  {
   "cell_type": "markdown",
   "id": "a5f1e977",
   "metadata": {},
   "source": [
    "## 서술형"
   ]
  },
  {
   "cell_type": "code",
   "execution_count": 144,
   "id": "94c8162a",
   "metadata": {},
   "outputs": [],
   "source": [
    "#1. 다음 코드를 실행했을 때 출력되는 것은\n",
    "# orange, banana"
   ]
  },
  {
   "cell_type": "code",
   "execution_count": 145,
   "id": "c2f3f3f3",
   "metadata": {},
   "outputs": [],
   "source": [
    "#2.다음 코드와 실행결과가 잘못 짝지어진 것은? 2번"
   ]
  },
  {
   "cell_type": "code",
   "execution_count": 146,
   "id": "d4e32bc3",
   "metadata": {},
   "outputs": [],
   "source": [
    "#3. 다음 구문에 의해 출력되는 것은?\n",
    "#[1,3,4]"
   ]
  },
  {
   "cell_type": "code",
   "execution_count": 149,
   "id": "dae12277",
   "metadata": {},
   "outputs": [],
   "source": [
    "#4. 다음 코드의 실행결과가 나올 수 있는 빈칸에 들어갈 함수 이름은\n",
    "#append"
   ]
  },
  {
   "cell_type": "code",
   "execution_count": 150,
   "id": "6878a5bf",
   "metadata": {},
   "outputs": [],
   "source": [
    "#5. 다음 구문을 실행할 때 결과는?\n",
    "#해보면 알겠지만 머리로만 하면 모르겠습니다 ㅠ"
   ]
  },
  {
   "cell_type": "code",
   "execution_count": 151,
   "id": "c8606198",
   "metadata": {},
   "outputs": [],
   "source": [
    "#6. 다음 구문을 실행할 때 결과는?\n",
    "#5,7,9"
   ]
  },
  {
   "cell_type": "code",
   "execution_count": null,
   "id": "a396ae56",
   "metadata": {},
   "outputs": [],
   "source": [
    "#7. 다음 구문을 실행할 때 결과는 ?\n"
   ]
  },
  {
   "cell_type": "code",
   "execution_count": null,
   "id": "c6aacc89",
   "metadata": {},
   "outputs": [],
   "source": []
  },
  {
   "cell_type": "code",
   "execution_count": null,
   "id": "b4d15711",
   "metadata": {},
   "outputs": [],
   "source": []
  },
  {
   "cell_type": "code",
   "execution_count": null,
   "id": "1aa832f1",
   "metadata": {},
   "outputs": [],
   "source": []
  }
 ],
 "metadata": {
  "kernelspec": {
   "display_name": "Python 3 (ipykernel)",
   "language": "python",
   "name": "python3"
  },
  "language_info": {
   "codemirror_mode": {
    "name": "ipython",
    "version": 3
   },
   "file_extension": ".py",
   "mimetype": "text/x-python",
   "name": "python",
   "nbconvert_exporter": "python",
   "pygments_lexer": "ipython3",
   "version": "3.10.9"
  },
  "toc": {
   "base_numbering": 1,
   "nav_menu": {},
   "number_sections": false,
   "sideBar": true,
   "skip_h1_title": false,
   "title_cell": "Table of Contents",
   "title_sidebar": "Contents",
   "toc_cell": false,
   "toc_position": {
    "height": "calc(100% - 180px)",
    "left": "10px",
    "top": "150px",
    "width": "266.391px"
   },
   "toc_section_display": true,
   "toc_window_display": false
  }
 },
 "nbformat": 4,
 "nbformat_minor": 5
}
