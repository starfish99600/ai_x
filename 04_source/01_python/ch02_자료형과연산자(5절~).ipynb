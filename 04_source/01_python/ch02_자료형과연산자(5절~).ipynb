{
 "cells": [
  {
   "cell_type": "code",
   "execution_count": 1,
   "id": "c3b50e21",
   "metadata": {},
   "outputs": [
    {
     "data": {
      "text/html": [
       "\n",
       "<style>\n",
       "div.container{width:86% !important;}\n",
       "div.cell.code_cell.rendered{width:100%;}\n",
       "div.CodeMirror {font-family:Consolas; font-size:15pt;}\n",
       "div.output {font-size:15pt; font-weight:bold;}\n",
       "div.input {font-family:Consolas; font-size:15pt;}\n",
       "div.prompt {min-width:70px;}\n",
       "div#toc-wrapper{padding-top:120px;}\n",
       "div.text_cell_render ul li{font-size:12pt;padding:5px;}\n",
       "table.dataframe{font-size:15px;}\n",
       "</style>\n"
      ],
      "text/plain": [
       "<IPython.core.display.HTML object>"
      ]
     },
     "metadata": {},
     "output_type": "display_data"
    }
   ],
   "source": [
    "from IPython.display import display, HTML\n",
    "display(HTML(\"\"\"\n",
    "<style>\n",
    "div.container{width:86% !important;}\n",
    "div.cell.code_cell.rendered{width:100%;}\n",
    "div.CodeMirror {font-family:Consolas; font-size:15pt;}\n",
    "div.output {font-size:15pt; font-weight:bold;}\n",
    "div.input {font-family:Consolas; font-size:15pt;}\n",
    "div.prompt {min-width:70px;}\n",
    "div#toc-wrapper{padding-top:120px;}\n",
    "div.text_cell_render ul li{font-size:12pt;padding:5px;}\n",
    "table.dataframe{font-size:15px;}\n",
    "</style>\n",
    "\"\"\"))"
   ]
  },
  {
   "cell_type": "markdown",
   "id": "ab768d39",
   "metadata": {},
   "source": [
    "<font size=\"5\" clolr=\"red\">ch02 자료형과 연산자</font>\n",
    "# 5절. 연산자\n",
    "## 5.1 산술연산자 : +,-,*,/,//(몫연산자), %(나머지 연산자), **(제곱)"
   ]
  },
  {
   "cell_type": "code",
   "execution_count": 3,
   "id": "7525dce1",
   "metadata": {},
   "outputs": [
    {
     "name": "stdout",
     "output_type": "stream",
     "text": [
      "10의 5승 : 100000\n",
      "4/2(결과 실수) : 2.0\n",
      "4//2(몫) : 2\n",
      "4%2(나머지) : 0\n"
     ]
    }
   ],
   "source": [
    "print('10의 5승 :',10**5)\n",
    "print('4/2(결과 실수) :', 4/2)\n",
    "print('4//2(몫) :', 4//2)\n",
    "print('4%2(나머지) :', 4%2)"
   ]
  },
  {
   "cell_type": "code",
   "execution_count": 4,
   "id": "78a74009",
   "metadata": {},
   "outputs": [
    {
     "name": "stdout",
     "output_type": "stream",
     "text": [
      "정수를 입력하세요 :9\n",
      "입력하신 수는 9, 2로 나눈 나머지는 1. 따라서 홀수를 입력하셨습니다.\n"
     ]
    }
   ],
   "source": [
    "#quiz 1. 정수를 입력받아 짝수인지 홀수인지 여부를 출력\n",
    "num = int(input('정수를 입력하세요 :'))\n",
    "result = num%2\n",
    "if result:\n",
    "    print('입력하신 수는 {}, 2로 나눈 나머지는 {}. 따라서 홀수를 입력하셨습니다.'.format(num,result))\n",
    "    \n",
    "else:\n",
    "    print('입력하신 수는 {}, 2로 나눈 나머지는 {}. 따라서 짝수를 입력하셨습니다.'.format(num,result))"
   ]
  },
  {
   "cell_type": "code",
   "execution_count": 6,
   "id": "f5973c46",
   "metadata": {},
   "outputs": [
    {
     "ename": "SyntaxError",
     "evalue": "unterminated string literal (detected at line 8) (1936679242.py, line 8)",
     "output_type": "error",
     "traceback": [
      "\u001b[1;36m  Cell \u001b[1;32mIn[6], line 8\u001b[1;36m\u001b[0m\n\u001b[1;33m    print(f\"입력하신 수는 {num}, 2로 나눈 나머지는 {result}, 따라서 {temp}를 입력하셨군요.)\u001b[0m\n\u001b[1;37m          ^\u001b[0m\n\u001b[1;31mSyntaxError\u001b[0m\u001b[1;31m:\u001b[0m unterminated string literal (detected at line 8)\n"
     ]
    }
   ],
   "source": [
    "#quiz 1. 정수를 입력받아 짝수인지 홀수인지 여부를 출력(이런방법도 있다.)\n",
    "num = int(input('정수를 입력하세요 :'))\n",
    "result = num%2\n",
    "if result:\n",
    "    temp = \"홀수\"\n",
    "else:\n",
    "    temp = \"짝수\"\n",
    "print(f\"입력하신 수는 {num}, 2로 나눈 나머지는 {result}, 따라서 {temp}를 입력하셨군요.)"
   ]
  },
  {
   "cell_type": "code",
   "execution_count": 3,
   "id": "64d2f2cd",
   "metadata": {},
   "outputs": [
    {
     "name": "stdout",
     "output_type": "stream",
     "text": [
      "정수를 입력하세요 :5\n",
      "5의 배수가 아님\n"
     ]
    }
   ],
   "source": [
    "#quiz 2. 정수를 입력받아 5의 배수인지 여부를 출력 !!내가푼거\n",
    "num2 = int(input('정수를 입력하세요 :'))\n",
    "result2 = num2%5\n",
    "if result2:\n",
    "    print(\"5의 배수\")\n",
    "else:\n",
    "    print(\"5의 배수가 아님\")"
   ]
  },
  {
   "cell_type": "code",
   "execution_count": 15,
   "id": "aad156c3",
   "metadata": {},
   "outputs": [
    {
     "name": "stdout",
     "output_type": "stream",
     "text": [
      "정수를 입력하세요 :5\n",
      "입력하신 수는 5, 5의 배수를 입력하셨군요\n"
     ]
    }
   ],
   "source": [
    "# quiz 2. 정수를 입력받아 5의 배수인지 여부를 출력 !!강사님 풀이\n",
    "num = int(input('정수를 입력하세요 :'))\n",
    "if num%5:\n",
    "    temp = \"5의 배수가 아님\"\n",
    "else:\n",
    "    temp = \"5의 배수\"\n",
    "print(f\"입력하신 수는 {num}, {temp}를 입력하셨군요\")"
   ]
  },
  {
   "cell_type": "code",
   "execution_count": 10,
   "id": "d330c91c",
   "metadata": {},
   "outputs": [
    {
     "name": "stdout",
     "output_type": "stream",
     "text": [
      "국어:99\n",
      "영어:98\n",
      "수학:99\n",
      "국어 : 99 , 영어 : 98 , 수학 : 99\n",
      "총점 : 296 , 평균 : 98.7 \n"
     ]
    }
   ],
   "source": [
    "#quiz 3. 국,영,수 점수를 입력받아 다음셀에서 다음과 같이 출력하도록 구현하시오.\n",
    "#국어 : 99, 영어 : 98, 수학 : 99, 총점 : 296, 평균 : 98.7\n",
    "#!!내가푼거, 결과값의 오와열이 맞지 않음.\n",
    "\n",
    "a = int(input('국어:'))\n",
    "b = int(input('영어:'))\n",
    "c = int(input('수학:'))\n",
    "d = a+b+c\n",
    "e = d/3\n",
    "print(\"국어 : {} , 영어 : {} , 수학 : {}\".format(a,b,c))\n",
    "print(\"총점 : {} , 평균 : {:.1f} \".format(d,e))"
   ]
  },
  {
   "cell_type": "code",
   "execution_count": 13,
   "id": "de138aa5",
   "metadata": {},
   "outputs": [
    {
     "name": "stdout",
     "output_type": "stream",
     "text": [
      "국어:99\n",
      "영어:98\n",
      "수학:99\n"
     ]
    }
   ],
   "source": [
    "#강사님 풀이\n",
    "#\\t는 \n",
    "kor=int(input(\"국어:\"))\n",
    "eng=int(input(\"영어:\"))\n",
    "mat=int(input(\"수학:\"))\n",
    "sum = kor + eng + mat\n",
    "avg = sum/3"
   ]
  },
  {
   "cell_type": "code",
   "execution_count": 14,
   "id": "a8772b06",
   "metadata": {},
   "outputs": [
    {
     "name": "stdout",
     "output_type": "stream",
     "text": [
      "국어: 99\t영어: 98\t수학: 99\n",
      "총점:296\t평균: 98.7\n"
     ]
    }
   ],
   "source": [
    "print(\"국어:{:3d}\\t영어:{:3d}\\t수학:{:3d}\".format(kor, eng, mat))\n",
    "print(\"총점:{:3d}\\t평균:{:5.1f}\".format(sum, avg))"
   ]
  },
  {
   "cell_type": "markdown",
   "id": "440b24f2",
   "metadata": {},
   "source": [
    "## 5.2 할당연산자 : =,+=,-=,*=,/=,//=,%=\n",
    "- 변수에 값을 저장하거나 수정하는 역할을 수행함.\n",
    "- =의 뜻은 오른쪽값을 왼쪽 변수에 저장한다는 의미임."
   ]
  },
  {
   "cell_type": "code",
   "execution_count": 16,
   "id": "1c48449d",
   "metadata": {},
   "outputs": [
    {
     "name": "stdout",
     "output_type": "stream",
     "text": [
      "5더하기: 15\n"
     ]
    }
   ],
   "source": [
    "a=10\n",
    "a+= 5 #a=a+5\n",
    "print('5더하기:',a)"
   ]
  },
  {
   "cell_type": "markdown",
   "id": "602ce6d7",
   "metadata": {},
   "source": [
    "## 5.3 논리연산자 : & , and , | , or, not\n",
    "- 참(True) 또는 거짓(False) 값을 다루는 연산자\n",
    "- 조건문에서 여러조건을 결합하거나 부정할 때 사용됨.\n",
    "- and : 둘다 참이어야지만 참으로 결론을 내림\n",
    "- or : 하나만 참이어도 참으로 간주함.\n",
    "- not : 조건의 참과 거짓을 반대로 뒤집음. 예를들어 참으로 결론이 나와도 거짓으로 판명함."
   ]
  },
  {
   "cell_type": "code",
   "execution_count": 24,
   "id": "f82beeba",
   "metadata": {},
   "outputs": [
    {
     "name": "stdout",
     "output_type": "stream",
     "text": [
      "True\n",
      "0\n"
     ]
    }
   ],
   "source": [
    "# & : 논리연산자일수도 있고 비트연산자가 될수도 있음.\n",
    "print( (10>3) & (10>5) ) # 논리연산 True & True\n",
    "print(12 & 1)    # 비트연산 12 : 0000 1100\n",
    "                 #          1 : 0000 0001\n",
    "                 #    12 & 1  : 0000 0000     "
   ]
  },
  {
   "cell_type": "code",
   "execution_count": 23,
   "id": "3ee95ed4",
   "metadata": {},
   "outputs": [
    {
     "name": "stdout",
     "output_type": "stream",
     "text": [
      "False\n",
      "True\n",
      "False\n"
     ]
    }
   ],
   "source": [
    "# and : 논리연산, 둘다 참이어야지만 참으로 결론을 내림.\n",
    "#       False로 판별되는 첫번째 항을 반환\n",
    "#       모든 항이 참이면 마지막 항을 반환\n",
    "print(False and True and True)\n",
    "print(True and True)\n",
    "print(True and True and False)"
   ]
  },
  {
   "cell_type": "code",
   "execution_count": 26,
   "id": "011236ca",
   "metadata": {},
   "outputs": [
    {
     "name": "stdout",
     "output_type": "stream",
     "text": [
      "논리연산(연산자 앞뒤에 논리형일 때) : True\n",
      "비트연산(연산자 앞이나 뒤에 숫자일 때) : 3\n"
     ]
    }
   ],
   "source": [
    "# | :논리연산자일수도 있고 비트연산자가 될수도 있음.\n",
    "result = False | True\n",
    "print('논리연산(연산자 앞뒤에 논리형일 때) :',result) #이 경우 논리연산으로 작동함.\n",
    "result = False | 3 #0000 0000 (False)\n",
    "                   #0000 0011 (3)   -------이 경우 비트연산으로 적용됨.\n",
    "print('비트연산(연산자 앞이나 뒤에 숫자일 때) :',result)"
   ]
  },
  {
   "cell_type": "code",
   "execution_count": 27,
   "id": "e91ba811",
   "metadata": {},
   "outputs": [
    {
     "name": "stdout",
     "output_type": "stream",
     "text": [
      "\n"
     ]
    }
   ],
   "source": [
    "# or : 논리연산, 참으로 판별되는 첫번째 항을 반환\n",
    "#      모든 항이 거짓이면, 마지막항을 반환\n",
    "#      하나만 참이어도 참으로 간주함.\n",
    "print(False or False or 'non')\n",
    "print('Hong' or ' ')"
   ]
  },
  {
   "cell_type": "code",
   "execution_count": 28,
   "id": "1c914bdd",
   "metadata": {},
   "outputs": [
    {
     "name": "stdout",
     "output_type": "stream",
     "text": [
      "False\n"
     ]
    }
   ],
   "source": [
    "#not : 조건의 참과 거짓을 반대로 뒤집음. 예를들어 참으로 결론이 나와도 거짓으로 판명함.\n",
    "print(not True)"
   ]
  },
  {
   "cell_type": "markdown",
   "id": "b53b256b",
   "metadata": {},
   "source": [
    "## 5.4 비교연산자 : >,>=,<,<=,==(같다),!=(다르다)"
   ]
  },
  {
   "cell_type": "code",
   "execution_count": 33,
   "id": "0e9e2810",
   "metadata": {},
   "outputs": [
    {
     "name": "stdout",
     "output_type": "stream",
     "text": [
      "True\n",
      "True\n"
     ]
    }
   ],
   "source": [
    "# 비교연산자 : 두 개의 값을 비교하여 논리값(True 또는 False)을 반환하는 연산자\n",
    "# 비교연산자는 이항, 삼항, 사항... 다항연산자\n",
    "x=5\n",
    "print(4 < x < 10)\n",
    "\n",
    "print(5>3) #>는 크다는 뜻 True가 나옴\n",
    "#차후 GPT 상의 '주요 비교연산자 정리'를 필기에 포함시킬것"
   ]
  },
  {
   "cell_type": "code",
   "execution_count": 32,
   "id": "ec9fd235",
   "metadata": {},
   "outputs": [
    {
     "name": "stdout",
     "output_type": "stream",
     "text": [
      "True\n",
      "False\n",
      "False\n",
      "True\n"
     ]
    }
   ],
   "source": [
    "# 파이썬은 비교연산자의 우선순위가 논리연산의 우선순위보다 낮다. 즉, 두가지가 있는 경우 논리연산을 우선적으로 수행한다.\n",
    "print((10>5) & (10>6))\n",
    "print(10>5 & 10>7) # 0101\n",
    "                   # 1010\n",
    "print(10>0>7)\n",
    "print(10>5 and 10>7)"
   ]
  },
  {
   "cell_type": "code",
   "execution_count": 34,
   "id": "f627f53e",
   "metadata": {},
   "outputs": [
    {
     "ename": "TypeError",
     "evalue": "unsupported operand type(s) for &: 'str' and 'int'",
     "output_type": "error",
     "traceback": [
      "\u001b[1;31m---------------------------------------------------------------------------\u001b[0m",
      "\u001b[1;31mTypeError\u001b[0m                                 Traceback (most recent call last)",
      "Cell \u001b[1;32mIn[34], line 3\u001b[0m\n\u001b[0;32m      1\u001b[0m address \u001b[38;5;241m=\u001b[39m \u001b[38;5;124m'\u001b[39m\u001b[38;5;124m서울\u001b[39m\u001b[38;5;124m'\u001b[39m\n\u001b[0;32m      2\u001b[0m age \u001b[38;5;241m=\u001b[39m \u001b[38;5;241m29\u001b[39m\n\u001b[1;32m----> 3\u001b[0m \u001b[38;5;28mprint\u001b[39m(address\u001b[38;5;241m==\u001b[39m\u001b[38;5;124;43m'\u001b[39;49m\u001b[38;5;124;43m서울\u001b[39;49m\u001b[38;5;124;43m'\u001b[39;49m\u001b[43m \u001b[49m\u001b[38;5;241;43m&\u001b[39;49m\u001b[43m \u001b[49m\u001b[43mage\u001b[49m\u001b[38;5;241m>\u001b[39m\u001b[38;5;241m=\u001b[39m\u001b[38;5;241m30\u001b[39m)\n",
      "\u001b[1;31mTypeError\u001b[0m: unsupported operand type(s) for &: 'str' and 'int'"
     ]
    }
   ],
   "source": [
    "address = '서울'\n",
    "age = 29\n",
    "print(address=='서울' & age>=30)\n",
    "#애러가 나옴 why? 논리연산을 우선적으로 수행하므로, 따라서 현 문장에서는 서울이라는 문자열과 age라는 변수를 먼저 논리연산을 수행하므로 오류가 발생하는 것임.\n",
    "#아래 애러 프롬프트 참고할것."
   ]
  },
  {
   "cell_type": "code",
   "execution_count": 35,
   "id": "1fffeffb",
   "metadata": {},
   "outputs": [
    {
     "name": "stdout",
     "output_type": "stream",
     "text": [
      "False\n"
     ]
    }
   ],
   "source": [
    "#따라서 논리연산자와 비교연산자르 동시에 사용해야는 상황에서 비교연산을 우선적으로 수행하고자 하는 경우엔 ()로 처리함으로써 우선순위를 높여서 수행해야 의도대로으로 수행한다.\n",
    "print((address=='서울') & (age>=30))"
   ]
  },
  {
   "cell_type": "code",
   "execution_count": 37,
   "id": "bf19b3b6",
   "metadata": {},
   "outputs": [
    {
     "data": {
      "text/plain": [
       "True"
      ]
     },
     "execution_count": 37,
     "metadata": {},
     "output_type": "execute_result"
    }
   ],
   "source": [
    "# 문자비교 : ASCII 코드(아스키코드) 순으로 비교가능 : 특수문자 < 숫자 < 대문자 < 소문자\n",
    "'scott' < 'tiger'\n",
    "#이 경우 무조껀 첫번째 글자만 사용하여 비교함."
   ]
  },
  {
   "cell_type": "code",
   "execution_count": 38,
   "id": "9b43710b",
   "metadata": {},
   "outputs": [
    {
     "data": {
      "text/plain": [
       "True"
      ]
     },
     "execution_count": 38,
     "metadata": {},
     "output_type": "execute_result"
    }
   ],
   "source": [
    "'9'>'10'"
   ]
  },
  {
   "cell_type": "code",
   "execution_count": 39,
   "id": "b1e8a332",
   "metadata": {},
   "outputs": [
    {
     "data": {
      "text/plain": [
       "True"
      ]
     },
     "execution_count": 39,
     "metadata": {},
     "output_type": "execute_result"
    }
   ],
   "source": [
    "'김길동식무한무거북이와'<'홍길동'"
   ]
  },
  {
   "cell_type": "code",
   "execution_count": 40,
   "id": "5224570f",
   "metadata": {},
   "outputs": [
    {
     "data": {
      "text/plain": [
       "False"
      ]
     },
     "execution_count": 40,
     "metadata": {},
     "output_type": "execute_result"
    }
   ],
   "source": [
    "'9'<'10'"
   ]
  },
  {
   "cell_type": "markdown",
   "id": "acf0810a",
   "metadata": {},
   "source": [
    "## 5.5 비트연산자 ;,&,|,^(XOR),~"
   ]
  },
  {
   "cell_type": "code",
   "execution_count": 41,
   "id": "757761c0",
   "metadata": {},
   "outputs": [],
   "source": [
    "#x y x&Y  X^Y\n",
    "#0 0  0    0\n",
    "#0 1  0    1\n",
    "#1 0  0    1\n",
    "#1 1  1    0"
   ]
  },
  {
   "cell_type": "code",
   "execution_count": 45,
   "id": "0902db86",
   "metadata": {},
   "outputs": [
    {
     "name": "stdout",
     "output_type": "stream",
     "text": [
      "a   =15 : 1111\n",
      "b   = 2 : 0010\n",
      "a^b =13 : 1101\n"
     ]
    }
   ],
   "source": [
    "a=15 #1111\n",
    "b=2  #0010\n",
    "print(\"a   ={0:2} : {0:04b}\".format(a))\n",
    "print(\"b   ={0:2} : {0:04b}\".format(b))\n",
    "print(\"a^b ={0:2} : {0:04b}\".format(a^b))"
   ]
  },
  {
   "cell_type": "markdown",
   "id": "da40df3a",
   "metadata": {},
   "source": [
    "- 오전 수업내용 정리!!\n",
    "- 연산자\n",
    "     - 산술연산 : +-\n",
    "     - 할당연산 : = += -= *= /= //= %=\n",
    "     - 논리연산 : & and | or not\n",
    "     - 비트연산 : > >= < <= == !=\n",
    "     - 비트연산 : & | ^\n",
    "     - &와 |은 비교연산자보다 우선순위가 높다."
   ]
  },
  {
   "cell_type": "markdown",
   "id": "887e2103",
   "metadata": {},
   "source": [
    "# 6절. 문자열 다루기\n",
    "- 문자열 슬라이싱 변수[from:stop:step]\n",
    "- len(문자열변수) : 문자갯수\n",
    "- upper() : 소문자를 대문자로 변환\n",
    "- lower() : 대문자를 소문자로 변환\n",
    "- title() : 각 어절의 첫글자만 대문자로\n",
    "- capitalize() : 첫문자만 대문자로\n",
    "- count('찾을문자열') : '찾을문자열'이 몇개 들어있는지 갯수 반환\n",
    "- find('찾을문자열') : '찾을문자열'이 왼쪽부터 시작하여 몇번째 인덱스에 있는지 인덱스를 반환\n",
    "- rfind('찾을문자열') : '찾을문자열'이 오른쪽부터 시작하여 몇번째 인덱스에 있는지 찾아서 인덱스를 반환 \n",
    "       **r이 right의 약자인것을 착안하면 편할것 같다.** \n",
    "       **찾을문자열이 없으면 -1을 반환**\n",
    "      cf) index('찾을 문자열') : 찾을 문자열의 인덱스를 반환. 찾을 문자열이 없으면 오류\n",
    "- startswith('특정문자열') : 특정문자열로 시작하는지 여부\n",
    "- endswith('특정문자열') : 특정문자열로 끝나는지 여부\n",
    "- **(정말 많이사용됨)** strip() : 좌우 공백 제거\n",
    "- rstrip() : 오른쪽 공백제거(r=right의 약자)\n",
    "- lstrip() : 왼쪽 공백제거(l=left의 약자)\n",
    "- isdigit() : 문자열이 숫자문자열인지 여부 \"100점\"\n",
    "- islower() : 소문자문자열인지 여부 *True 또는 Falses인지 확인해줌\n",
    "- isupper() : 대문자문자열인지 여부 *True 또는 Falses인지 확인해줌\n",
    "- replace(oldStr, newStr) : oldStr를newStr로 변경"
   ]
  },
  {
   "cell_type": "code",
   "execution_count": 84,
   "id": "cf3ecb76",
   "metadata": {},
   "outputs": [
    {
     "name": "stdout",
     "output_type": "stream",
     "text": [
      "1. 글자수 : 39\n",
      "2. 대문자로 : PYTHON IS EASY. PYTHON IS SMART. PYTHON\n",
      "3. 소문자로 : python is easy. python is smart. python\n",
      "4. title : Python Is Easy. Python Is Smart. Python\n",
      "5. capitalize : Python is easy. python is smart. python\n",
      "6. python이 몇번 나오는지 : 2\n",
      "7. 대소문자구분없이 python이 몇번 나오는지 : 3\n",
      "7. 대소문자구분없이 python이 몇번 나오는지 : 3\n",
      "7. 대소문자구분없이 python이 몇번 나오는지 : 3\n",
      "8. python이 나오는 첫 inxex 위치 : 0\n",
      "8. python이 나오는 마지막에 나오는 inxex 위치 : 33\n",
      "8. java이 나오는 마지막에 나오는 inxex 위치 : -1\n",
      "9. python으로 시작하는지 여부 : True\n",
      "10. python으로 끝나는지 여부 : False\n",
      "10. python으로 끝나는지 여부 : True\n"
     ]
    }
   ],
   "source": [
    "#len함수는 문자열내 포함된 문자의 갯수를 세는 역할을 수행하며 예시는 아래와 같다.\n",
    "temp = \"python is easy. pYThon is smart. python\"\n",
    "temp, len(temp)\n",
    "print('1. 글자수 :', len(temp))\n",
    "#upper함수는 문자열을 소문자->대문자로 변환한다.\n",
    "print('2. 대문자로 :', temp.upper())\n",
    "print('3. 소문자로 :', temp.lower())\n",
    "# title() : 각 어절의 첫글자만 대문자로 변환한다.\n",
    "print('4. title :', temp. title())\n",
    "# capitalize() : 첫문자만 대문자로\n",
    "print('5. capitalize :',temp. capitalize())\n",
    "# count('찾을문자열') : '찾을문자열'이 몇개 들어있는지 갯수 반환\n",
    "print('6. python이 몇번 나오는지 :', temp. count('python'))\n",
    "# 응용, 대소문자 구분없이 특정단어를 찾을때.\n",
    "print('7. 대소문자구분없이 python이 몇번 나오는지 :', temp.lower().count('python')) #소문자로 전환 후 카운트\n",
    "print('7. 대소문자구분없이 python이 몇번 나오는지 :', temp.upper().count('PYTHON')) #대문자로 전환 후 카운트\n",
    "print('7. 대소문자구분없이 python이 몇번 나오는지 :', temp.title().count('Python')) #어절의 앞글자만 대문자로 전환 후 카운트\n",
    "#find('찾을문자열') : '찾을문자열'이 왼쪽부터 시작하여 몇번째 인덱스에 있는지 인덱스를 반환\n",
    "print('8. python이 나오는 첫 inxex 위치 :', temp.find('python'))\n",
    "#rfind('찾을문자열') : '찾을문자열'이 오른쪽부터 시작하여 몇번째 인덱스에 있는지 찾아서 인덱스를 반환 \n",
    "print('8. python이 나오는 마지막에 나오는 inxex 위치 :', temp.rfind('python'))\n",
    "print('8. java이 나오는 마지막에 나오는 inxex 위치 :', temp.rfind('java'))\n",
    "print('9. python으로 시작하는지 여부 :', temp.startswith('python'))\n",
    "print('10. python으로 끝나는지 여부 :', temp.endswith('PYTHON'))\n",
    "print('10. python으로 끝나는지 여부 :', temp.upper().endswith('PYTHON'))"
   ]
  },
  {
   "cell_type": "code",
   "execution_count": 102,
   "id": "2f48ab96",
   "metadata": {},
   "outputs": [
    {
     "name": "stdout",
     "output_type": "stream",
     "text": [
      "11. 좌우공백 제거 : python is easy.\n",
      "11. 좌우공백 제거 : [python is easy.]\n",
      "11. 좌측공백 제거 : [python is easy.          ]\n",
      "11. 우측공백 제거 : [    python is easy.]\n",
      "12. 숫자열인지 문자열인지 : False\n",
      "13. 소문자문자열인지: True\n",
      "13. 대문자문자열인지: False\n",
      "14. ,제거 : 1000000\n",
      "14. ,제거 : 1000\n"
     ]
    }
   ],
   "source": [
    "temp='    python is easy.          '\n",
    "notdisit = '1,000,000'\n",
    "num_str = '1000'\n",
    "#strip() : 좌우 공백 제거\n",
    "print('11. 좌우공백 제거 :',temp.strip())\n",
    "#우측공백 제거여부를 확인하고 싶다면 .format을 응용해서 적용 가능하다.\n",
    "print('11. 좌우공백 제거 : [{}]'.format(temp.strip()))\n",
    "#lstrip() : 좌측 공백 제거\n",
    "print('11. 좌측공백 제거 : [{}]'.format(temp.lstrip()))\n",
    "#rstrip() : 오른쪽 공백제거(r=right의 약자)\n",
    "print('11. 우측공백 제거 : [{}]'.format(temp.rstrip()))\n",
    "\n",
    "#islower() : 소문자문자열인지 여부 *True 또는 Falses인지 확인해줌\n",
    "print('12. 숫자열인지 문자열인지 :', notdisit.isdigit())\n",
    "\n",
    "# islower() : 소문자문자열인지 여부 *True 또는 Falses인지 확인해줌 *한글인 경우에도 False로 간주함.\n",
    "print('13. 소문자문자열인지:', temp.islower())\n",
    "\n",
    "#isupper() : 대문자문자열인지 여부 *True 또는 Falses인지 확인해줌\n",
    "print('13. 대문자문자열인지:', temp.isupper())\n",
    "\n",
    "#replace(oldStr, newStr) : oldStr를newStr로 변경(현재 예시에서는 notdisit변수에 대한 ,제거를 대체함.)\n",
    "#첫번째 스트링을 두번째 스트링으로 대체하는것을 보여주고 있음.\n",
    "print('14. ,제거 :', notdisit.replace(',', ''))\n",
    "print('14. ,제거 :', num_str.replace(',', ''))"
   ]
  },
  {
   "cell_type": "code",
   "execution_count": 104,
   "id": "4b6667e9",
   "metadata": {},
   "outputs": [
    {
     "name": "stdout",
     "output_type": "stream",
     "text": [
      "space단위로 temp를 분리 : ['홍길동', '김길동', '신길동', '유길동']\n"
     ]
    }
   ],
   "source": [
    "#문자열 분할함수\n",
    "#split : 문자열을 특정 구분자를 기준으로 잘라서 리스트로 만들어주는 함수\n",
    "temp = \"    홍길동    김길동  신길동 유길동\"\n",
    "print('space단위로 temp를 분리 :', temp.split()) #기본이 스페이스 단위로 분리"
   ]
  },
  {
   "cell_type": "code",
   "execution_count": 108,
   "id": "65038713",
   "metadata": {},
   "outputs": [
    {
     "name": "stdout",
     "output_type": "stream",
     "text": [
      " - 단위로 data를 분리(결과 : list)\n",
      "['2025', '04', '10']\n",
      "년: 2025\n",
      "월: 04\n",
      "일: 10\n"
     ]
    }
   ],
   "source": [
    "data = \"2025-04-10\" #data변수정의\n",
    "print(' - 단위로 data를 분리(결과 : list)') #''에 있는 텍스트를 출력하라\n",
    "data_list = data.split('-') #해당변수는 data를 -단위로 분리하는것을 의미한다. \n",
    "                            #data문자열을 -를 기준으로 나눠서 리스트로 반환해라\n",
    "print(data_list) #위에서 실시한 사항을 출력해라. 나누어진 문자열 리스트를 사용자에게 보여줘라\n",
    "print(\"년:\", data_list[0]) #나누어진 리스트 중 0번째 데이터를 출력해라.\n",
    "print(\"월:\", data_list[1]) #나누어진 리스트 중 1번째 데이터를 출력해라.\n",
    "print(\"일:\", data_list[2]) #나누어진 리스트 중 2번째 데이터를 출력해라."
   ]
  },
  {
   "cell_type": "code",
   "execution_count": 110,
   "id": "52b14c2e",
   "metadata": {},
   "outputs": [
    {
     "name": "stdout",
     "output_type": "stream",
     "text": [
      "원 데이터 : Python - HTML/CSS - JavaScript - DBMS - 딥러닝(DNN-CNN-RNN)\n",
      "분리된 데이터 : ['Python', 'HTML/CSS', 'JavaScript', 'DBMS', '딥러닝(DNN-CNN-RNN)']\n",
      "join된 데이터 : Python/HTML/CSS/JavaScript/DBMS/딥러닝(DNN-CNN-RNN)\n"
     ]
    }
   ],
   "source": [
    "#문자열 가공 및 정제\n",
    "# '-'을 '/'로 바꾸기\n",
    "temp = \"Python - HTML/CSS - JavaScript - DBMS - 딥러닝(DNN-CNN-RNN)\"\n",
    "# temp.replace(' - ','/') *치환 : 문자열에서 -를 /로 바꿈\n",
    "print('원 데이터 :', temp)      #'원데이터 :'이란 문자열과 temp라는 변수를 출력해라\n",
    "splited_temp = temp.split(' - ') #문자열 분리 : -를 기준으로 문자열을 쪼개서 리스트로 만듬\n",
    "print('분리된 데이터 :', splited_temp)\n",
    "joined_temp = '/'.join(splited_temp) #문자열 결합 : 리스트 안의 요소들을 '/'로 연결하여 하나의 문자열로 만듬\n",
    "print('join된 데이터 :', joined_temp)"
   ]
  },
  {
   "cell_type": "code",
   "execution_count": null,
   "id": "f3bb5242",
   "metadata": {},
   "outputs": [],
   "source": [
    "str_='ABC'\n",
    "#str_=['A','B','C']"
   ]
  },
  {
   "cell_type": "code",
   "execution_count": 111,
   "id": "a9da14e1",
   "metadata": {
    "collapsed": true
   },
   "outputs": [
    {
     "data": {
      "text/plain": [
       "['__add__',\n",
       " '__class__',\n",
       " '__contains__',\n",
       " '__delattr__',\n",
       " '__dir__',\n",
       " '__doc__',\n",
       " '__eq__',\n",
       " '__format__',\n",
       " '__ge__',\n",
       " '__getattribute__',\n",
       " '__getitem__',\n",
       " '__getnewargs__',\n",
       " '__gt__',\n",
       " '__hash__',\n",
       " '__init__',\n",
       " '__init_subclass__',\n",
       " '__iter__',\n",
       " '__le__',\n",
       " '__len__',\n",
       " '__lt__',\n",
       " '__mod__',\n",
       " '__mul__',\n",
       " '__ne__',\n",
       " '__new__',\n",
       " '__reduce__',\n",
       " '__reduce_ex__',\n",
       " '__repr__',\n",
       " '__rmod__',\n",
       " '__rmul__',\n",
       " '__setattr__',\n",
       " '__sizeof__',\n",
       " '__str__',\n",
       " '__subclasshook__',\n",
       " 'capitalize',\n",
       " 'casefold',\n",
       " 'center',\n",
       " 'count',\n",
       " 'encode',\n",
       " 'endswith',\n",
       " 'expandtabs',\n",
       " 'find',\n",
       " 'format',\n",
       " 'format_map',\n",
       " 'index',\n",
       " 'isalnum',\n",
       " 'isalpha',\n",
       " 'isascii',\n",
       " 'isdecimal',\n",
       " 'isdigit',\n",
       " 'isidentifier',\n",
       " 'islower',\n",
       " 'isnumeric',\n",
       " 'isprintable',\n",
       " 'isspace',\n",
       " 'istitle',\n",
       " 'isupper',\n",
       " 'join',\n",
       " 'ljust',\n",
       " 'lower',\n",
       " 'lstrip',\n",
       " 'maketrans',\n",
       " 'partition',\n",
       " 'removeprefix',\n",
       " 'removesuffix',\n",
       " 'replace',\n",
       " 'rfind',\n",
       " 'rindex',\n",
       " 'rjust',\n",
       " 'rpartition',\n",
       " 'rsplit',\n",
       " 'rstrip',\n",
       " 'split',\n",
       " 'splitlines',\n",
       " 'startswith',\n",
       " 'strip',\n",
       " 'swapcase',\n",
       " 'title',\n",
       " 'translate',\n",
       " 'upper',\n",
       " 'zfill']"
      ]
     },
     "execution_count": 111,
     "metadata": {},
     "output_type": "execute_result"
    }
   ],
   "source": [
    "# 문자열을 통해 다룰 수 있는 함수들과 변수들 목록\n",
    "dir(str)\n",
    "#dir함수란 파이썬의 내장함수임.\n",
    "#str은 문자열을 의미함"
   ]
  },
  {
   "cell_type": "markdown",
   "id": "beed9bf3",
   "metadata": {},
   "source": [
    "# 7절. 시간,날짜,날짜시간 다루기"
   ]
  },
  {
   "cell_type": "code",
   "execution_count": null,
   "id": "1f539a18",
   "metadata": {},
   "outputs": [],
   "source": []
  },
  {
   "cell_type": "markdown",
   "id": "059ed6fb",
   "metadata": {},
   "source": [
    "# 8절. 연습문제"
   ]
  },
  {
   "cell_type": "code",
   "execution_count": 9,
   "id": "baaf039b",
   "metadata": {},
   "outputs": [
    {
     "name": "stdout",
     "output_type": "stream",
     "text": [
      "홍길동님의 나이 :23\n"
     ]
    }
   ],
   "source": [
    "#1. 이름과 나이 변수를 다음 형식으로 출력하도록 format() 함수를 이용해 형식화하세요\n",
    "#출력형식 : 홍길동님의 나이는 23 살입니다\n",
    "age=int(input(\"홍길동님의 나이 :\"))"
   ]
  },
  {
   "cell_type": "code",
   "execution_count": 10,
   "id": "7bf63a64",
   "metadata": {},
   "outputs": [
    {
     "name": "stdout",
     "output_type": "stream",
     "text": [
      "홍길동님의 나이는 23살 입니다.\n"
     ]
    }
   ],
   "source": [
    "print(\"홍길동님의 나이는 {}살 입니다.\".format(age))"
   ]
  },
  {
   "cell_type": "code",
   "execution_count": 24,
   "id": "af8ce8d4",
   "metadata": {},
   "outputs": [
    {
     "name": "stdout",
     "output_type": "stream",
     "text": [
      "4\n",
      "5\n"
     ]
    }
   ],
   "source": [
    "#2. 두 정수를 입력받아 두 수의 덧셈 , 뺄셈 , 곱셈 , 나눗셈 , 몫 , 나머지를 출력하세요\n",
    "a=int(input())\n",
    "b=int(input())\n",
    "c=a+b\n",
    "d=a-b\n",
    "e=a*b\n",
    "f=a/b\n",
    "g=a//b\n",
    "h=a%b"
   ]
  },
  {
   "cell_type": "code",
   "execution_count": 31,
   "id": "a07e3232",
   "metadata": {},
   "outputs": [
    {
     "name": "stdout",
     "output_type": "stream",
     "text": [
      "4+5=9\n",
      "4-5=-1\n",
      "4x5=20\n",
      "4/5=0.8\n",
      "4//5=0\n",
      "4%5=4\n"
     ]
    }
   ],
   "source": [
    "print(\"{}+{}={}\".format(a,b,c))\n",
    "print(\"{}-{}={}\".format(a,b,d))\n",
    "print(\"{}x{}={}\".format(a,b,e))\n",
    "print(\"{}/{}={}\".format(a,b,f))\n",
    "print(\"{}//{}={}\".format(a,b,g))\n",
    "print(\"{}%{}={}\".format(a,b,h))"
   ]
  },
  {
   "cell_type": "code",
   "execution_count": 53,
   "id": "d7950b2f",
   "metadata": {},
   "outputs": [
    {
     "name": "stdout",
     "output_type": "stream",
     "text": [
      "WorldHello\n"
     ]
    }
   ],
   "source": [
    "#3. 문자열의 분리하기와 합치기 기능을 이용하여 'Hello World'가 할당된 변수를 이용하여 'World Hello'로 출력하세요\n",
    "temp=\"Hello World\"\n",
    "splited_temp = temp.split(\" \")\n",
    "print(splited_temp[1]+splited_temp[0])"
   ]
  },
  {
   "cell_type": "code",
   "execution_count": 70,
   "id": "ba0c8ab4",
   "metadata": {},
   "outputs": [
    {
     "name": "stdout",
     "output_type": "stream",
     "text": [
      "abcdef\n",
      "a\n"
     ]
    }
   ],
   "source": [
    "#4. x = ' abcdef ＇를 이용하여 bcdefa 로 출력하세요 문자 슬라이싱이용\n",
    "x = 'abcdef'\n",
    "print(x)\n",
    "print(x[0])"
   ]
  },
  {
   "cell_type": "code",
   "execution_count": null,
   "id": "d629fd17",
   "metadata": {},
   "outputs": [],
   "source": []
  },
  {
   "cell_type": "code",
   "execution_count": null,
   "id": "011d1576",
   "metadata": {},
   "outputs": [],
   "source": []
  },
  {
   "cell_type": "code",
   "execution_count": null,
   "id": "c1e8ff30",
   "metadata": {},
   "outputs": [],
   "source": []
  },
  {
   "cell_type": "code",
   "execution_count": null,
   "id": "5ebd0c3a",
   "metadata": {},
   "outputs": [],
   "source": []
  },
  {
   "cell_type": "code",
   "execution_count": null,
   "id": "1802a3f1",
   "metadata": {},
   "outputs": [],
   "source": []
  },
  {
   "cell_type": "code",
   "execution_count": null,
   "id": "efeabcb6",
   "metadata": {},
   "outputs": [],
   "source": []
  },
  {
   "cell_type": "code",
   "execution_count": null,
   "id": "37099010",
   "metadata": {},
   "outputs": [],
   "source": [
    "#파일메뉴 들어가서 다운로드 에즈로 들어가면 파일형식을 변경해서 저장할 수 있음.\n",
    "#숙제 제출시에는 HTML로 변환하여 저장 후 강사님 메일로 송신"
   ]
  }
 ],
 "metadata": {
  "kernelspec": {
   "display_name": "Python 3 (ipykernel)",
   "language": "python",
   "name": "python3"
  },
  "language_info": {
   "codemirror_mode": {
    "name": "ipython",
    "version": 3
   },
   "file_extension": ".py",
   "mimetype": "text/x-python",
   "name": "python",
   "nbconvert_exporter": "python",
   "pygments_lexer": "ipython3",
   "version": "3.10.9"
  },
  "toc": {
   "base_numbering": 1,
   "nav_menu": {},
   "number_sections": false,
   "sideBar": true,
   "skip_h1_title": false,
   "title_cell": "Table of Contents",
   "title_sidebar": "Contents",
   "toc_cell": false,
   "toc_position": {
    "height": "calc(100% - 180px)",
    "left": "10px",
    "top": "150px",
    "width": "421.4px"
   },
   "toc_section_display": true,
   "toc_window_display": true
  }
 },
 "nbformat": 4,
 "nbformat_minor": 5
}
