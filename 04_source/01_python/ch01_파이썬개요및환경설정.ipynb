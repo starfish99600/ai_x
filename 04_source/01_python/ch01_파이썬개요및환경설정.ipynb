{
 "cells": [
  {
   "cell_type": "code",
   "execution_count": 1,
   "id": "33dc3184",
   "metadata": {},
   "outputs": [
    {
     "data": {
      "text/html": [
       "\n",
       "<style>\n",
       "div.container{width:86% !important;}\n",
       "div.cell.code_cell.rendered{width:100%;}\n",
       "div.CodeMirror {font-family:Consolas; font-size:15pt;}\n",
       "div.output {font-size:15pt; font-weight:bold;}\n",
       "div.input {font-family:Consolas; font-size:15pt;}\n",
       "div.prompt {min-width:70px;}\n",
       "div#toc-wrapper{padding-top:120px;}\n",
       "div.text_cell_render ul li{font-size:12pt;padding:5px;}\n",
       "table.dataframe{font-size:15px;}\n",
       "</style>\n"
      ],
      "text/plain": [
       "<IPython.core.display.HTML object>"
      ]
     },
     "metadata": {},
     "output_type": "display_data"
    }
   ],
   "source": [
    "from IPython.display import display, HTML\n",
    "display(HTML(\"\"\"\n",
    "<style>\n",
    "div.container{width:86% !important;}\n",
    "div.cell.code_cell.rendered{width:100%;}\n",
    "div.CodeMirror {font-family:Consolas; font-size:15pt;}\n",
    "div.output {font-size:15pt; font-weight:bold;}\n",
    "div.input {font-family:Consolas; font-size:15pt;}\n",
    "div.prompt {min-width:70px;}\n",
    "div#toc-wrapper{padding-top:120px;}\n",
    "div.text_cell_render ul li{font-size:12pt;padding:5px;}\n",
    "table.dataframe{font-size:15px;}\n",
    "</style>\n",
    "\"\"\"))"
   ]
  },
  {
   "cell_type": "markdown",
   "id": "20ed06a4",
   "metadata": {},
   "source": [
    "<font size=\"5\" clolr=\"red\">ch01 파이썬 개요 및 환경 설정</font>>\n",
    "# 1. 주피터 노트북 사용법\n",
    "- shift+Enter : 선택된 셀이 실행되고, 다음셀로 이동\n",
    "- alt+Enter : 선택된 셀이 실행되고 다음셀이 생성된 후 다음셀로 이동\n",
    "- ctrl + Enter : 선택된 셀이 실행되고, 해당셀에 있음.(다음셀로 넘어가지 않음.)\n",
    "- Enter(셀 클릭) : 다시 편집상태로 돌아감"
   ]
  },
  {
   "cell_type": "code",
   "execution_count": 4,
   "id": "2d846edb",
   "metadata": {},
   "outputs": [
    {
     "name": "stdout",
     "output_type": "stream",
     "text": [
      "Hello, world\n",
      "홍길동\n"
     ]
    }
   ],
   "source": [
    "print(\"Hello, world\\n홍길동\")"
   ]
  },
  {
   "cell_type": "code",
   "execution_count": 7,
   "id": "4324e60e",
   "metadata": {},
   "outputs": [
    {
     "name": "stdout",
     "output_type": "stream",
     "text": [
      "252\n",
      "27\n"
     ]
    }
   ],
   "source": [
    "age = 25\n",
    "duration = \"2\"\n",
    "print(str(age)+duration)\n",
    "print(age+int(duration))"
   ]
  },
  {
   "cell_type": "code",
   "execution_count": 10,
   "id": "e30e0554",
   "metadata": {},
   "outputs": [
    {
     "name": "stdout",
     "output_type": "stream",
     "text": [
      "0\n",
      "1\n",
      "2\n",
      "3\n",
      "4\n",
      "5\n",
      "6\n",
      "7\n",
      "8\n",
      "9\n"
     ]
    }
   ],
   "source": [
    "#반복하는 명령(주석:실행하지 않고 개발자가 보는 용도)\n",
    "# for i in range(10) :\n",
    "#     print(i)"
   ]
  },
  {
   "cell_type": "code",
   "execution_count": 3,
   "id": "6860a9c6",
   "metadata": {},
   "outputs": [
    {
     "ename": "NameError",
     "evalue": "name 'print' is not defined",
     "output_type": "error",
     "traceback": [
      "\u001b[1;31m---------------------------------------------------------------------------\u001b[0m",
      "\u001b[1;31mNameError\u001b[0m                                 Traceback (most recent call last)",
      "Cell \u001b[1;32mIn[3], line 4\u001b[0m\n\u001b[0;32m      1\u001b[0m \u001b[38;5;66;03m# 실수로 print에 10 할당을 취소하는 방법\u001b[39;00m\n\u001b[0;32m      2\u001b[0m \u001b[38;5;66;03m# 1. 커널 재시작\u001b[39;00m\n\u001b[0;32m      3\u001b[0m \u001b[38;5;66;03m# print 변수만 제거\u001b[39;00m\n\u001b[1;32m----> 4\u001b[0m \u001b[38;5;28;01mdel\u001b[39;00m \u001b[38;5;28mprint\u001b[39m\n",
      "\u001b[1;31mNameError\u001b[0m: name 'print' is not defined"
     ]
    }
   ],
   "source": [
    "# 실수로 print에 10 할당을 취소하는 방법\n",
    "# 1. 커널 재시작\n",
    "# print 변수만 제거\n",
    "del print"
   ]
  },
  {
   "cell_type": "markdown",
   "id": "a187f551",
   "metadata": {},
   "source": [
    "# 2. esc키 누르고 (핫키)\n",
    "- dd : 삭제\n",
    "- a : 윗셀추가\n",
    "- m : 아랫셀 추가\n",
    "- y : 코드셀로 변경\n",
    "- o : 실행결과 접기/펴기(토글기능)"
   ]
  },
  {
   "cell_type": "markdown",
   "id": "65346cea",
   "metadata": {},
   "source": [
    "# 3.마크다운이란?\n",
    "- 코드와 함께 문서화할 수 있음.\n",
    "- 다양한 문서화 문법 ex. README.md"
   ]
  },
  {
   "cell_type": "code",
   "execution_count": 4,
   "id": "319de0cf",
   "metadata": {},
   "outputs": [
    {
     "name": "stdout",
     "output_type": "stream",
     "text": [
      " C 드라이브의 볼륨에는 이름이 없습니다.\n",
      " 볼륨 일련 번호: 3664-591E\n",
      "\n",
      " C:\\AI_x\\04_source\\01_python 디렉터리\n",
      "\n",
      "2025-04-08  오후 12:38    <DIR>          .\n",
      "2025-04-08  오후 12:38    <DIR>          ..\n",
      "2025-04-08  오전 11:37    <DIR>          .ipynb_checkpoints\n",
      "2025-04-08  오후 12:38             5,959 ch_01파이썬개요및환경설정.ipynb\n",
      "2025-04-08  오전 11:29                21 test.py\n",
      "               2개 파일               5,980 바이트\n",
      "               3개 디렉터리  165,715,394,560 바이트 남음\n"
     ]
    }
   ],
   "source": [
    "# 주피터 노트북에서 cmd명령을 실행하는 방법\n",
    "! dir"
   ]
  },
  {
   "cell_type": "code",
   "execution_count": 5,
   "id": "37a92f46",
   "metadata": {},
   "outputs": [
    {
     "name": "stdout",
     "output_type": "stream",
     "text": [
      " C 드라이브의 볼륨에는 이름이 없습니다.\n",
      " 볼륨 일련 번호: 3664-591E\n",
      "\n",
      " C:\\AI_x\\04_source\\01_python 디렉터리\n",
      "\n",
      "2025-04-08  오후 12:38    <DIR>          .\n",
      "2025-04-08  오후 12:38    <DIR>          ..\n",
      "2025-04-08  오전 11:37    <DIR>          .ipynb_checkpoints\n",
      "2025-04-08  오후 12:38             5,959 ch_01파이썬개요및환경설정.ipynb\n",
      "2025-04-08  오전 11:29                21 test.py\n",
      "               2개 파일               5,980 바이트\n",
      "               3개 디렉터리  165,713,211,392 바이트 남음\n"
     ]
    }
   ],
   "source": [
    "%ls"
   ]
  },
  {
   "cell_type": "code",
   "execution_count": null,
   "id": "b3176d82",
   "metadata": {},
   "outputs": [],
   "source": []
  }
 ],
 "metadata": {
  "kernelspec": {
   "display_name": "Python 3 (ipykernel)",
   "language": "python",
   "name": "python3"
  },
  "language_info": {
   "codemirror_mode": {
    "name": "ipython",
    "version": 3
   },
   "file_extension": ".py",
   "mimetype": "text/x-python",
   "name": "python",
   "nbconvert_exporter": "python",
   "pygments_lexer": "ipython3",
   "version": "3.10.9"
  },
  "toc": {
   "base_numbering": 1,
   "nav_menu": {},
   "number_sections": false,
   "sideBar": true,
   "skip_h1_title": false,
   "title_cell": "Table of Contents",
   "title_sidebar": "Contents",
   "toc_cell": false,
   "toc_position": {
    "height": "calc(100% - 180px)",
    "left": "10px",
    "top": "150px",
    "width": "165px"
   },
   "toc_section_display": true,
   "toc_window_display": false
  }
 },
 "nbformat": 4,
 "nbformat_minor": 5
}
