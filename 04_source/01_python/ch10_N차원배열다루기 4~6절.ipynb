{
 "cells": [
  {
   "cell_type": "code",
   "execution_count": 1,
   "id": "c782a65e",
   "metadata": {},
   "outputs": [
    {
     "data": {
      "text/html": [
       "\n",
       "<style>\n",
       "div.container{width:95% !important;}\n",
       "div.cell.code_cell.rendered{width:100%;}\n",
       "div.CodeMirror {font-family:Consolas; font-size:15pt;}\n",
       "div.output {font-size:15pt; font-weight:bold;}\n",
       "div.input {font-family:Consolas; font-size:15pt;}\n",
       "div.prompt {min-width:70px;}\n",
       "div#toc-wrapper{padding-top:120px;}\n",
       "div.text_cell_render ul li{font-size:12pt;padding:5px;}\n",
       "table.dataframe{font-size:15px;}\n",
       "</style>\n"
      ],
      "text/plain": [
       "<IPython.core.display.HTML object>"
      ]
     },
     "metadata": {},
     "output_type": "display_data"
    }
   ],
   "source": [
    "from IPython.display import display, HTML\n",
    "display(HTML(\"\"\"\n",
    "<style>\n",
    "div.container{width:95% !important;}\n",
    "div.cell.code_cell.rendered{width:100%;}\n",
    "div.CodeMirror {font-family:Consolas; font-size:15pt;}\n",
    "div.output {font-size:15pt; font-weight:bold;}\n",
    "div.input {font-family:Consolas; font-size:15pt;}\n",
    "div.prompt {min-width:70px;}\n",
    "div#toc-wrapper{padding-top:120px;}\n",
    "div.text_cell_render ul li{font-size:12pt;padding:5px;}\n",
    "table.dataframe{font-size:15px;}\n",
    "</style>\n",
    "\"\"\"))"
   ]
  },
  {
   "cell_type": "markdown",
   "id": "a522ea0b",
   "metadata": {},
   "source": [
    "<b><font color=\"red\" size=\"5\">ch.10 N차원 배열 다루기</font></b>\n",
    "# 4절. 복사와 뷰\n",
    "## 4.1 할당"
   ]
  },
  {
   "cell_type": "code",
   "execution_count": 2,
   "id": "060ccbe8",
   "metadata": {},
   "outputs": [
    {
     "data": {
      "text/plain": [
       "array([0, 1, 2, 3, 4, 5])"
      ]
     },
     "execution_count": 2,
     "metadata": {},
     "output_type": "execute_result"
    }
   ],
   "source": [
    "import numpy as np\n",
    "a = np.arange(6)\n",
    "a"
   ]
  },
  {
   "cell_type": "code",
   "execution_count": 4,
   "id": "a9909438",
   "metadata": {},
   "outputs": [],
   "source": [
    "#b에 a를 할당\n",
    "b = a"
   ]
  },
  {
   "cell_type": "code",
   "execution_count": 6,
   "id": "441bd596",
   "metadata": {},
   "outputs": [
    {
     "data": {
      "text/plain": [
       "True"
      ]
     },
     "execution_count": 6,
     "metadata": {},
     "output_type": "execute_result"
    }
   ],
   "source": [
    "# a와 b가 같은 객체인지를 물어봄\n",
    "a is b"
   ]
  },
  {
   "cell_type": "code",
   "execution_count": 10,
   "id": "d4aebf2f",
   "metadata": {},
   "outputs": [
    {
     "data": {
      "text/plain": [
       "array([[0, 1, 2],\n",
       "       [3, 4, 5]])"
      ]
     },
     "execution_count": 10,
     "metadata": {},
     "output_type": "execute_result"
    }
   ],
   "source": [
    "b.shape = (2, 3)\n",
    "b"
   ]
  },
  {
   "cell_type": "code",
   "execution_count": 12,
   "id": "a561da47",
   "metadata": {},
   "outputs": [
    {
     "data": {
      "text/plain": [
       "array([[0, 1, 2],\n",
       "       [3, 4, 5]])"
      ]
     },
     "execution_count": 12,
     "metadata": {},
     "output_type": "execute_result"
    }
   ],
   "source": [
    "#b의 형태가 변경되자 a(원본)도 바뀜\n",
    "a"
   ]
  },
  {
   "cell_type": "markdown",
   "id": "c2ceb49b",
   "metadata": {},
   "source": [
    "## 4.2 뷰(view)\n",
    "- 슬라이싱을 할 경우 자동 view가 생성됨."
   ]
  },
  {
   "cell_type": "code",
   "execution_count": 13,
   "id": "8bd43438",
   "metadata": {},
   "outputs": [
    {
     "data": {
      "text/plain": [
       "array([[ 0,  1,  2,  3,  4,  5],\n",
       "       [ 6,  7,  8,  9, 10, 11]])"
      ]
     },
     "execution_count": 13,
     "metadata": {},
     "output_type": "execute_result"
    }
   ],
   "source": [
    "c = np.arange(12).reshape(2, -1)\n",
    "c"
   ]
  },
  {
   "cell_type": "code",
   "execution_count": 16,
   "id": "ae156623",
   "metadata": {},
   "outputs": [
    {
     "data": {
      "text/plain": [
       "False"
      ]
     },
     "execution_count": 16,
     "metadata": {},
     "output_type": "execute_result"
    }
   ],
   "source": [
    "d = c.view() #c의 view를 생성(얇은 복사)\n",
    "d is c # d와 c의 객체가 다름"
   ]
  },
  {
   "cell_type": "code",
   "execution_count": 17,
   "id": "d947fa8b",
   "metadata": {},
   "outputs": [
    {
     "data": {
      "text/plain": [
       "(1461741201392, 1461741199760)"
      ]
     },
     "execution_count": 17,
     "metadata": {},
     "output_type": "execute_result"
    }
   ],
   "source": [
    "id(c), id(d)"
   ]
  },
  {
   "cell_type": "code",
   "execution_count": 20,
   "id": "9473ce57",
   "metadata": {},
   "outputs": [
    {
     "data": {
      "text/plain": [
       "True"
      ]
     },
     "execution_count": 20,
     "metadata": {},
     "output_type": "execute_result"
    }
   ],
   "source": [
    "np.all(c == d) #주소는 다르나, 내부 데이터 자체는 같음."
   ]
  },
  {
   "cell_type": "code",
   "execution_count": 23,
   "id": "240f650f",
   "metadata": {},
   "outputs": [
    {
     "data": {
      "text/plain": [
       "array([[ 0,  1,  2,  3],\n",
       "       [ 4,  5,  6,  7],\n",
       "       [ 8,  9, 10, 11]])"
      ]
     },
     "execution_count": 23,
     "metadata": {},
     "output_type": "execute_result"
    }
   ],
   "source": [
    "d.shape = (3,4)\n",
    "d"
   ]
  },
  {
   "cell_type": "code",
   "execution_count": 24,
   "id": "dec06858",
   "metadata": {},
   "outputs": [
    {
     "data": {
      "text/plain": [
       "array([[ 0,  1,  2,  3,  4,  5],\n",
       "       [ 6,  7,  8,  9, 10, 11]])"
      ]
     },
     "execution_count": 24,
     "metadata": {},
     "output_type": "execute_result"
    }
   ],
   "source": [
    "c"
   ]
  },
  {
   "cell_type": "code",
   "execution_count": 25,
   "id": "d5562389",
   "metadata": {},
   "outputs": [
    {
     "data": {
      "text/plain": [
       "array([[-99,   1, -99,   3],\n",
       "       [  4,   5,   6,   7],\n",
       "       [  8,   9,  10,  11]])"
      ]
     },
     "execution_count": 25,
     "metadata": {},
     "output_type": "execute_result"
    }
   ],
   "source": [
    "d[0, ::2] = -99\n",
    "d"
   ]
  },
  {
   "cell_type": "code",
   "execution_count": 26,
   "id": "b4850063",
   "metadata": {},
   "outputs": [
    {
     "data": {
      "text/plain": [
       "array([[-99,   1, -99,   3,   4,   5],\n",
       "       [  6,   7,   8,   9,  10,  11]])"
      ]
     },
     "execution_count": 26,
     "metadata": {},
     "output_type": "execute_result"
    }
   ],
   "source": [
    "c"
   ]
  },
  {
   "cell_type": "code",
   "execution_count": 28,
   "id": "72568427",
   "metadata": {},
   "outputs": [
    {
     "data": {
      "text/plain": [
       "array([[ 0,  1,  2,  3,  4,  5],\n",
       "       [ 6,  7,  8,  9, 10, 11]])"
      ]
     },
     "execution_count": 28,
     "metadata": {},
     "output_type": "execute_result"
    }
   ],
   "source": [
    "# 슬라이싱이 될 때 자동 뷰가 반환됨.\n",
    "c = np.arange(12).reshape(2, 6)\n",
    "c"
   ]
  },
  {
   "cell_type": "code",
   "execution_count": 29,
   "id": "801411d8",
   "metadata": {},
   "outputs": [
    {
     "data": {
      "text/plain": [
       "array([[ 0,  1,  2,  3,  4],\n",
       "       [ 6,  7,  8,  9, 10]])"
      ]
     },
     "execution_count": 29,
     "metadata": {},
     "output_type": "execute_result"
    }
   ],
   "source": [
    "d = c[:, :-1]\n",
    "d"
   ]
  },
  {
   "cell_type": "code",
   "execution_count": 31,
   "id": "3d492294",
   "metadata": {},
   "outputs": [
    {
     "data": {
      "text/plain": [
       "array([[ 0,  1,  2,  3, 99],\n",
       "       [ 6,  7,  8,  9, 99]])"
      ]
     },
     "execution_count": 31,
     "metadata": {},
     "output_type": "execute_result"
    }
   ],
   "source": [
    "d[..., -1] = 99\n",
    "d"
   ]
  },
  {
   "cell_type": "code",
   "execution_count": 32,
   "id": "d2a6ab0f",
   "metadata": {},
   "outputs": [
    {
     "data": {
      "text/plain": [
       "array([[ 0,  1,  2,  3, 99,  5],\n",
       "       [ 6,  7,  8,  9, 99, 11]])"
      ]
     },
     "execution_count": 32,
     "metadata": {},
     "output_type": "execute_result"
    }
   ],
   "source": [
    "c"
   ]
  },
  {
   "cell_type": "markdown",
   "id": "4e8f569c",
   "metadata": {},
   "source": [
    "## 4.3 깊은복사"
   ]
  },
  {
   "cell_type": "code",
   "execution_count": 38,
   "id": "b6a647a6",
   "metadata": {},
   "outputs": [
    {
     "data": {
      "text/plain": [
       "array([[ 0,  1,  2,  3,  4,  5],\n",
       "       [ 6,  7,  8,  9, 10, 11]])"
      ]
     },
     "execution_count": 38,
     "metadata": {},
     "output_type": "execute_result"
    }
   ],
   "source": [
    "c = np.arange(12).reshape(2, 6)\n",
    "c"
   ]
  },
  {
   "cell_type": "code",
   "execution_count": 39,
   "id": "839ba199",
   "metadata": {},
   "outputs": [
    {
     "data": {
      "text/plain": [
       "array([[ 0,  1,  2,  3, 99],\n",
       "       [ 6,  7,  8,  9, 99]])"
      ]
     },
     "execution_count": 39,
     "metadata": {},
     "output_type": "execute_result"
    }
   ],
   "source": [
    "d = c[:, :-1].copy() # 깊은 복사\n",
    "d[..., -1] = 99\n",
    "d"
   ]
  },
  {
   "cell_type": "code",
   "execution_count": 40,
   "id": "fc778cce",
   "metadata": {},
   "outputs": [
    {
     "data": {
      "text/plain": [
       "array([[ 0,  1,  2,  3,  4,  5],\n",
       "       [ 6,  7,  8,  9, 10, 11]])"
      ]
     },
     "execution_count": 40,
     "metadata": {},
     "output_type": "execute_result"
    }
   ],
   "source": [
    "c"
   ]
  },
  {
   "cell_type": "markdown",
   "id": "762a40f2",
   "metadata": {},
   "source": [
    "# 5절. 고급인덱싱\n",
    "## 5.1 인덱스 배열로 인덱싱"
   ]
  },
  {
   "cell_type": "code",
   "execution_count": 41,
   "id": "144c8387",
   "metadata": {},
   "outputs": [
    {
     "data": {
      "text/plain": [
       "array([  0,   1,   4,   9,  16,  25,  36,  49,  64,  81, 100, 121])"
      ]
     },
     "execution_count": 41,
     "metadata": {},
     "output_type": "execute_result"
    }
   ],
   "source": [
    "a = np.arange(12)**2\n",
    "a"
   ]
  },
  {
   "cell_type": "code",
   "execution_count": 42,
   "id": "502484ad",
   "metadata": {},
   "outputs": [
    {
     "data": {
      "text/plain": [
       "array([ 0,  0,  1, 25])"
      ]
     },
     "execution_count": 42,
     "metadata": {},
     "output_type": "execute_result"
    }
   ],
   "source": [
    "a[ [0,0,1,5] ]"
   ]
  },
  {
   "cell_type": "code",
   "execution_count": 43,
   "id": "2e8f7502",
   "metadata": {},
   "outputs": [
    {
     "data": {
      "text/plain": [
       "array([ 0,  0,  1, 25])"
      ]
     },
     "execution_count": 43,
     "metadata": {},
     "output_type": "execute_result"
    }
   ],
   "source": [
    "# 인덱싱하기 위한 값을 배열로 만듦\n",
    "i = np.array([0,0,1,5])\n",
    "a[i]"
   ]
  },
  {
   "cell_type": "code",
   "execution_count": 44,
   "id": "5d63714f",
   "metadata": {},
   "outputs": [
    {
     "data": {
      "text/plain": [
       "array([[ 0,  0],\n",
       "       [ 1, 25]])"
      ]
     },
     "execution_count": 44,
     "metadata": {},
     "output_type": "execute_result"
    }
   ],
   "source": [
    "# 이미지 딥러닝에 자주 사용됨, 인덱싱하기 위한 값을 배열로 만듦\n",
    "j = np.array([[0, 0],\n",
    "             [1, 5]])\n",
    "a[j]"
   ]
  },
  {
   "cell_type": "code",
   "execution_count": 45,
   "id": "04c25350",
   "metadata": {},
   "outputs": [],
   "source": [
    "#image_data = [[[255,255,255],\n",
    "#               [255,255,255]\n",
    "#               [255,255,255]\n",
    "#               [0,0,0],\n",
    "#              ],\n",
    "#             ]"
   ]
  },
  {
   "cell_type": "code",
   "execution_count": 47,
   "id": "9e902108",
   "metadata": {},
   "outputs": [],
   "source": [
    "                    #R G B\n",
    "palette = np.array([[0,0,0], #black\n",
    "                    [255,0,0], #red\n",
    "                    [0,255,0], #green\n",
    "                    [0,0,255], #blue\n",
    "                    [255,255,255]]) #white"
   ]
  },
  {
   "cell_type": "code",
   "execution_count": 51,
   "id": "e3e68cc8",
   "metadata": {},
   "outputs": [],
   "source": [
    "image_index = np.array([[4,4,4,0,0,0,0,4,4,4],\n",
    "                        [4,0,0,4,4,4,4,0,0,4],\n",
    "                        [0,0,4,4,4,4,4,4,0,0],\n",
    "                        [0,4,4,1,4,4,3,4,4,0],\n",
    "                        [0,4,4,1,4,4,3,4,4,0],\n",
    "                        [0,4,4,4,4,4,4,4,4,0],\n",
    "                        [0,4,4,2,4,4,2,4,4,0],\n",
    "                        [4,0,4,4,2,2,4,4,0,4],\n",
    "                        [4,4,0,4,4,4,4,0,4,4],\n",
    "                        [4,4,4,0,0,0,0,4,4,4]])\n",
    "image_data = palette[image_index]"
   ]
  },
  {
   "cell_type": "code",
   "execution_count": 53,
   "id": "b829abd2",
   "metadata": {},
   "outputs": [
    {
     "data": {
      "text/plain": [
       "(10, 10, 3)"
      ]
     },
     "execution_count": 53,
     "metadata": {},
     "output_type": "execute_result"
    }
   ],
   "source": [
    "image_data.shape"
   ]
  },
  {
   "cell_type": "code",
   "execution_count": 54,
   "id": "1180ce28",
   "metadata": {},
   "outputs": [
    {
     "data": {
      "image/png": "[encoded data removed]",
      "text/plain": [
       "<Figure size 200x200 with 1 Axes>"
      ]
     },
     "metadata": {},
     "output_type": "display_data"
    }
   ],
   "source": [
    "from matplotlib import pyplot as plt\n",
    "plt.figure(figsize=(2,2))\n",
    "plt.imshow(image_data)\n",
    "plt.show()"
   ]
  },
  {
   "cell_type": "markdown",
   "id": "63640410",
   "metadata": {},
   "source": [
    "## 5.2 논리 배열을 이용한 인덱싱"
   ]
  },
  {
   "cell_type": "code",
   "execution_count": 57,
   "id": "20506e02",
   "metadata": {},
   "outputs": [
    {
     "data": {
      "text/plain": [
       "array([ 0,  1, 10, 11, 12, 13, 14, 15, 99])"
      ]
     },
     "execution_count": 57,
     "metadata": {},
     "output_type": "execute_result"
    }
   ],
   "source": [
    "a = np.array([0,1,10,11,12,13,14,15,99])\n",
    "a"
   ]
  },
  {
   "cell_type": "code",
   "execution_count": 58,
   "id": "0d827caf",
   "metadata": {},
   "outputs": [
    {
     "data": {
      "text/plain": [
       "array([ True, False,  True, False,  True, False,  True, False, False])"
      ]
     },
     "execution_count": 58,
     "metadata": {},
     "output_type": "execute_result"
    }
   ],
   "source": [
    "a%2==0"
   ]
  },
  {
   "cell_type": "code",
   "execution_count": 60,
   "id": "5a0d9d09",
   "metadata": {},
   "outputs": [
    {
     "data": {
      "text/plain": [
       "array([ 0, 10, 12, 14])"
      ]
     },
     "execution_count": 60,
     "metadata": {},
     "output_type": "execute_result"
    }
   ],
   "source": [
    "a[a%2==0] #논리 배열을 이용한 인덱싱 시 True요소만 추출"
   ]
  },
  {
   "cell_type": "code",
   "execution_count": 61,
   "id": "23948f53",
   "metadata": {},
   "outputs": [
    {
     "data": {
      "text/plain": [
       "array([13, 14, 15, 99])"
      ]
     },
     "execution_count": 61,
     "metadata": {},
     "output_type": "execute_result"
    }
   ],
   "source": [
    "# a에서 12보다 큰 값만 추출\n",
    "a[a>12]"
   ]
  },
  {
   "cell_type": "markdown",
   "id": "9a2c13ad",
   "metadata": {},
   "source": [
    "# 6절. 선형대수\n",
    "- 벡터와 행렬을 다루는 수학 분야,넘파이에서는 2차원 배열(ndarray)을 행렬로 보고,다양한 연산을 지원합니다.\n",
    "- 2차원 numpy배열을 행렬\n",
    "    * 행렬 곱 : np.dot(A, B) 또는 A @ B, 수학적 의미의 행렬 곱\n",
    "    * 역행렬 : np.linalg.inv(A), 역행렬과 행렬을 곱했을 때 단위행렬이 되는 것\n",
    "    * 전치 행렬 : 행렬.T / 행렬.transpose() 행과 열을 뒤집은 행렬\n",
    "\n",
    "    * 단위 행렬 : np.eye(n), 대각선이 1이고 나머지는 0인 n×n 행렬\n",
    "    * 행렬식 : np.linalg.det(A), 행렬의 특성을 나타내는 수\n",
    "    * 연립방정식 : np.linalg.solve(A, b), Ax = b 형태의 해를 구함"
   ]
  },
  {
   "cell_type": "code",
   "execution_count": 62,
   "id": "db42b976",
   "metadata": {},
   "outputs": [
    {
     "data": {
      "text/plain": [
       "array([[1, 2],\n",
       "       [3, 4]])"
      ]
     },
     "execution_count": 62,
     "metadata": {},
     "output_type": "execute_result"
    }
   ],
   "source": [
    "a = np.array([[1,2],\n",
    "              [3,4]])\n",
    "a #정방행렬"
   ]
  },
  {
   "cell_type": "code",
   "execution_count": 63,
   "id": "4f9a8726",
   "metadata": {},
   "outputs": [
    {
     "data": {
      "text/plain": [
       "array([[-2. ,  1. ],\n",
       "       [ 1.5, -0.5]])"
      ]
     },
     "execution_count": 63,
     "metadata": {},
     "output_type": "execute_result"
    }
   ],
   "source": [
    "# a의 역행렬 : a의 역행렬 @ a = a@a의 역행렬 => 단위행렬\n",
    "np.linalg.inv(a)"
   ]
  },
  {
   "cell_type": "code",
   "execution_count": 64,
   "id": "15bb3942",
   "metadata": {},
   "outputs": [
    {
     "data": {
      "text/plain": [
       "array([[1.0000000e+00, 4.4408921e-16],\n",
       "       [0.0000000e+00, 1.0000000e+00]])"
      ]
     },
     "execution_count": 64,
     "metadata": {},
     "output_type": "execute_result"
    }
   ],
   "source": [
    "np.linalg.inv(a) @ a"
   ]
  },
  {
   "cell_type": "markdown",
   "id": "666c2256",
   "metadata": {},
   "source": [
    "## 6.1 선형 연립방정식 풀기(독립변수1, 데이터2)"
   ]
  },
  {
   "cell_type": "code",
   "execution_count": 3,
   "id": "6278e68b",
   "metadata": {},
   "outputs": [
    {
     "data": {
      "text/plain": [
       "(array([[[2., 1.],\n",
       "         [4., 1.]]]),\n",
       " (1, 2, 2))"
      ]
     },
     "execution_count": 3,
     "metadata": {},
     "output_type": "execute_result"
    }
   ],
   "source": [
    "import numpy as np\n",
    "x = np.array([2, 4]) #독립변수\n",
    "Y = np.array([40,60]) #종속변수\n",
    "X = np.dstack( (x, np.ones(len(x))))\n",
    "X, X.shape"
   ]
  },
  {
   "cell_type": "code",
   "execution_count": 5,
   "id": "08bb4135",
   "metadata": {},
   "outputs": [
    {
     "data": {
      "text/plain": [
       "array([[40],\n",
       "       [60]])"
      ]
     },
     "execution_count": 5,
     "metadata": {},
     "output_type": "execute_result"
    }
   ],
   "source": [
    "Y.reshape(-1, 1) # 출력결과가 나오면 Y는 그대로, return 값만 출력"
   ]
  },
  {
   "cell_type": "code",
   "execution_count": 6,
   "id": "99cf4e06",
   "metadata": {},
   "outputs": [
    {
     "data": {
      "text/plain": [
       "array([[10., 20.]])"
      ]
     },
     "execution_count": 6,
     "metadata": {},
     "output_type": "execute_result"
    }
   ],
   "source": [
    "# X @ wb = Y\n",
    "# X의 역행렬 @ X @ wb = X의 역행렬 @ Y\n",
    "# wb = X의 역행렬 @ Y\n",
    "wb = np.linalg.inv(X) @ Y\n",
    "wb"
   ]
  },
  {
   "cell_type": "code",
   "execution_count": 8,
   "id": "17dbcd3f",
   "metadata": {},
   "outputs": [
    {
     "data": {
      "image/png": "[encoded data removed]",
      "text/plain": [
       "<Figure size 640x480 with 1 Axes>"
      ]
     },
     "metadata": {},
     "output_type": "display_data"
    }
   ],
   "source": [
    "import matplotlib.pyplot as plt # matplotlib 라이브러리의 pyplot 모듈을 plt라는 이름으로 불러옵니다 (그래프 그리기용)\n",
    "plt.scatter(x, Y) #주어진 x, y 좌표에 점을 찍습니다.\n",
    "plt.plot(x, 10*x+20, 'r') #x축과 y=10x+20을 연결해서 빨간 선을 그립니다.\n",
    "plt.show()     # 명령어는 출력하지 않고, 그래프만 출력하는 함수"
   ]
  },
  {
   "cell_type": "code",
   "execution_count": 11,
   "id": "3a3d71fa",
   "metadata": {},
   "outputs": [
    {
     "ename": "ValueError",
     "evalue": "solve: Input operand 1 does not have enough dimensions (has 1, gufunc core with signature (m,m),(m,n)->(m,n) requires 2)",
     "output_type": "error",
     "traceback": [
      "\u001b[1;31m---------------------------------------------------------------------------\u001b[0m",
      "\u001b[1;31mValueError\u001b[0m                                Traceback (most recent call last)",
      "Cell \u001b[1;32mIn[11], line 1\u001b[0m\n\u001b[1;32m----> 1\u001b[0m \u001b[43mnp\u001b[49m\u001b[38;5;241;43m.\u001b[39;49m\u001b[43mlinalg\u001b[49m\u001b[38;5;241;43m.\u001b[39;49m\u001b[43msolve\u001b[49m\u001b[43m(\u001b[49m\u001b[43mX\u001b[49m\u001b[43m,\u001b[49m\u001b[43m \u001b[49m\u001b[43mY\u001b[49m\u001b[43m)\u001b[49m\n",
      "File \u001b[1;32m<__array_function__ internals>:180\u001b[0m, in \u001b[0;36msolve\u001b[1;34m(*args, **kwargs)\u001b[0m\n",
      "File \u001b[1;32m~\\anaconda3\\lib\\site-packages\\numpy\\linalg\\linalg.py:400\u001b[0m, in \u001b[0;36msolve\u001b[1;34m(a, b)\u001b[0m\n\u001b[0;32m    398\u001b[0m signature \u001b[38;5;241m=\u001b[39m \u001b[38;5;124m'\u001b[39m\u001b[38;5;124mDD->D\u001b[39m\u001b[38;5;124m'\u001b[39m \u001b[38;5;28;01mif\u001b[39;00m isComplexType(t) \u001b[38;5;28;01melse\u001b[39;00m \u001b[38;5;124m'\u001b[39m\u001b[38;5;124mdd->d\u001b[39m\u001b[38;5;124m'\u001b[39m\n\u001b[0;32m    399\u001b[0m extobj \u001b[38;5;241m=\u001b[39m get_linalg_error_extobj(_raise_linalgerror_singular)\n\u001b[1;32m--> 400\u001b[0m r \u001b[38;5;241m=\u001b[39m \u001b[43mgufunc\u001b[49m\u001b[43m(\u001b[49m\u001b[43ma\u001b[49m\u001b[43m,\u001b[49m\u001b[43m \u001b[49m\u001b[43mb\u001b[49m\u001b[43m,\u001b[49m\u001b[43m \u001b[49m\u001b[43msignature\u001b[49m\u001b[38;5;241;43m=\u001b[39;49m\u001b[43msignature\u001b[49m\u001b[43m,\u001b[49m\u001b[43m \u001b[49m\u001b[43mextobj\u001b[49m\u001b[38;5;241;43m=\u001b[39;49m\u001b[43mextobj\u001b[49m\u001b[43m)\u001b[49m\n\u001b[0;32m    402\u001b[0m \u001b[38;5;28;01mreturn\u001b[39;00m wrap(r\u001b[38;5;241m.\u001b[39mastype(result_t, copy\u001b[38;5;241m=\u001b[39m\u001b[38;5;28;01mFalse\u001b[39;00m))\n",
      "\u001b[1;31mValueError\u001b[0m: solve: Input operand 1 does not have enough dimensions (has 1, gufunc core with signature (m,m),(m,n)->(m,n) requires 2)"
     ]
    }
   ],
   "source": [
    "np.linalg.solve(X, Y) # w(기울기), b(Y절편)을 구하는 함수"
   ]
  },
  {
   "cell_type": "markdown",
   "id": "808cc90c",
   "metadata": {},
   "source": [
    "## 6.2 선형연립방정식 풀기(회귀분석) : 독립변수 1개, 데이터 n개\n",
    "- 선형 연립방정식 : 여러 개의 1차 방정식을 동시에 푸는 것\n",
    "- 회귀분석 : 하나 이상의 독립변수(x) 를 사용해서 종속변수(y) 가 어떻게 변하는지를 모델링하는 통계적 기법\n",
    "- 정방행렬 : 행(Row)과 열(Column)의 수가 같은 행렬"
   ]
  },
  {
   "cell_type": "code",
   "execution_count": 14,
   "id": "97f259bd",
   "metadata": {},
   "outputs": [
    {
     "data": {
      "text/plain": [
       "array([[ 32.,   1.],\n",
       "       [ 64.,   1.],\n",
       "       [ 96.,   1.],\n",
       "       [118.,   1.]])"
      ]
     },
     "execution_count": 14,
     "metadata": {},
     "output_type": "execute_result"
    }
   ],
   "source": [
    "x = np.array([32,64,96,118])\n",
    "X = np.c_[x, np.ones(len(x))]\n",
    "X # 정방행렬이 아님"
   ]
  },
  {
   "cell_type": "code",
   "execution_count": 16,
   "id": "37a279fc",
   "metadata": {},
   "outputs": [],
   "source": [
    "# np.linalg.inv(X) X가 정방행렬이 아니면 역행렬을 구할 수 없음."
   ]
  },
  {
   "cell_type": "code",
   "execution_count": 17,
   "id": "20d99d99",
   "metadata": {},
   "outputs": [],
   "source": [
    "# X의 역행렬 @ x @ wb = X의 역행렬 @ Y"
   ]
  },
  {
   "cell_type": "code",
   "execution_count": 19,
   "id": "a7e005eb",
   "metadata": {},
   "outputs": [
    {
     "data": {
      "text/plain": [
       "(array([[ 32.,  64.,  96., 118.],\n",
       "        [  1.,   1.,   1.,   1.]]),\n",
       " array([[ 32.,  64.,  96., 118.],\n",
       "        [  1.,   1.,   1.,   1.]]))"
      ]
     },
     "execution_count": 19,
     "metadata": {},
     "output_type": "execute_result"
    }
   ],
   "source": [
    "X.T, X.transpose() # 전치행렬"
   ]
  },
  {
   "cell_type": "code",
   "execution_count": 21,
   "id": "2c1533f2",
   "metadata": {},
   "outputs": [
    {
     "data": {
      "text/plain": [
       "(array([[ 32.,  64.,  96., 118.],\n",
       "        [  1.,   1.,   1.,   1.]]),\n",
       " array([[ 32.,  64.,  96., 118.],\n",
       "        [  1.,   1.,   1.,   1.]]))"
      ]
     },
     "execution_count": 21,
     "metadata": {},
     "output_type": "execute_result"
    }
   ],
   "source": [
    "X.T, X.transpose() # 전치행렬"
   ]
  },
  {
   "cell_type": "code",
   "execution_count": 20,
   "id": "6e8d004e",
   "metadata": {},
   "outputs": [
    {
     "data": {
      "text/plain": [
       "array([[2.826e+04, 3.100e+02],\n",
       "       [3.100e+02, 4.000e+00]])"
      ]
     },
     "execution_count": 20,
     "metadata": {},
     "output_type": "execute_result"
    }
   ],
   "source": [
    "X_ = X.T @ X\n",
    "X_"
   ]
  },
  {
   "cell_type": "code",
   "execution_count": 22,
   "id": "d71fb119",
   "metadata": {},
   "outputs": [
    {
     "data": {
      "text/plain": [
       "array([[1., 0.],\n",
       "       [0., 1.]])"
      ]
     },
     "execution_count": 22,
     "metadata": {},
     "output_type": "execute_result"
    }
   ],
   "source": [
    "# x가 정방행열이 아닌경우, X.T @X로 정방행렬을 만든 후 역행렬을 곱\n",
    "np.linalg.inv(X_) @ X_"
   ]
  },
  {
   "cell_type": "code",
   "execution_count": 26,
   "id": "1d9784f6",
   "metadata": {},
   "outputs": [
    {
     "data": {
      "text/plain": [
       "(array([[ 32. ,   1. ],\n",
       "        [ 64. ,   1. ],\n",
       "        [ 96. ,   1. ],\n",
       "        [118. ,   1. ],\n",
       "        [126. ,   1. ],\n",
       "        [144. ,   1. ],\n",
       "        [152.5,   1. ],\n",
       "        [158. ,   1. ]]),\n",
       " array([[ 18. ],\n",
       "        [ 24. ],\n",
       "        [ 61.5],\n",
       "        [ 49. ],\n",
       "        [ 52. ],\n",
       "        [105. ],\n",
       "        [130.3],\n",
       "        [125. ]]))"
      ]
     },
     "execution_count": 26,
     "metadata": {},
     "output_type": "execute_result"
    }
   ],
   "source": [
    "x = np.array([32, 64, 96, 118, 126, 144, 152.5, 158])\n",
    "y = np.array([18, 24, 61.5, 49, 52, 105, 130.3, 125])\n",
    "X = np.c_[x, np.ones(len(x))] # np.c_[x, np.ones(x.shape[0])]\n",
    "Y = y.reshape(-1, 1)\n",
    "X, Y"
   ]
  },
  {
   "cell_type": "code",
   "execution_count": 27,
   "id": "1d083d74",
   "metadata": {},
   "outputs": [
    {
     "data": {
      "text/plain": [
       "array([[  0.87493126],\n",
       "       [-26.79078617]])"
      ]
     },
     "execution_count": 27,
     "metadata": {},
     "output_type": "execute_result"
    }
   ],
   "source": [
    "#             X @ wb = Y\n",
    "#      X_(X.T @ X @ wb = X.T @ Y\n",
    "#(X.T @ X)의 역행렬 @ X.T @ X @ wb = (X.T @ X)의 역행렬 @ X.T @ Y\n",
    "    # X_의 역행렬 @ X_ @ wb = X_ 의 역행렬 @ X.T @ Y\n",
    "wb = np.linalg.inv(X.T @ X) @ X.T @ Y\n",
    "wb"
   ]
  },
  {
   "cell_type": "code",
   "execution_count": 31,
   "id": "4088bccb",
   "metadata": {},
   "outputs": [
    {
     "name": "stdout",
     "output_type": "stream",
     "text": [
      "0.8749312625981291 -26.79078616795418\n",
      "독립변수 : [ 32.   64.   96.  118.  126.  144.  152.5 158. ]\n",
      "종속변수 : [ 18.   24.   61.5  49.   52.  105.  130.3 125. ]\n",
      "예측값 : [  1.20701424  29.20481464  57.20261504  76.45110282  83.45055292\n",
      "  99.19931565 106.63623138 111.44835332]\n"
     ]
    }
   ],
   "source": [
    "print(wb[0, 0], wb[1,0]) # 기울기와 Y절편\n",
    "y_hat = wb[0,0] * x + wb[1,0] #실제값은 통상 y라고 표현하고 추측값은 y_hat으로 함(실무에서)\n",
    "print('독립변수 :', x)\n",
    "print('종속변수 :', y)\n",
    "print('예측값 :', y_hat)"
   ]
  },
  {
   "cell_type": "code",
   "execution_count": 36,
   "id": "682754ed",
   "metadata": {},
   "outputs": [
    {
     "data": {
      "image/png": "[encoded data removed]",
      "text/plain": [
       "<Figure size 600x600 with 1 Axes>"
      ]
     },
     "metadata": {},
     "output_type": "display_data"
    }
   ],
   "source": [
    "import matplotlib.pyplot as plt\n",
    "plt.figure(figsize=(6, 6))\n",
    "plt.scatter(x, y)\n",
    "plt.plot(x, y_hat, 'r')\n",
    "_ = plt.show"
   ]
  },
  {
   "cell_type": "markdown",
   "id": "3ef298ea",
   "metadata": {},
   "source": [
    "# 7절. 연습문제\n",
    "## 실습형"
   ]
  },
  {
   "cell_type": "code",
   "execution_count": 41,
   "id": "3525d6da",
   "metadata": {},
   "outputs": [],
   "source": [
    "from sklearn import datasets\n",
    "iris = datasets.load_iris()\n",
    "iris_data = iris.data"
   ]
  },
  {
   "cell_type": "code",
   "execution_count": 45,
   "id": "65fb3ec0",
   "metadata": {},
   "outputs": [
    {
     "data": {
      "text/plain": [
       "(numpy.ndarray, dtype('float64'), (150, 4))"
      ]
     },
     "execution_count": 45,
     "metadata": {},
     "output_type": "execute_result"
    }
   ],
   "source": [
    "type(iris_data), iris_data.dtype, iris_data.shape # 150행 4열짜리 float 배열"
   ]
  },
  {
   "cell_type": "code",
   "execution_count": 47,
   "id": "31c0393d",
   "metadata": {},
   "outputs": [
    {
     "name": "stdout",
     "output_type": "stream",
     "text": [
      "[5.84333333 3.05733333 3.758      1.19933333]\n"
     ]
    }
   ],
   "source": [
    "# 1. 열별 평균\n",
    "means = np.mean(iris_data, axis=0)   # 열(column)별 평균을 계산\n",
    "print(means)"
   ]
  },
  {
   "cell_type": "code",
   "execution_count": 48,
   "id": "7d49bd9e",
   "metadata": {},
   "outputs": [
    {
     "name": "stdout",
     "output_type": "stream",
     "text": [
      "[[5.1 3.5 1.4 0.2]\n",
      " [4.9 3.  1.4 0.2]\n",
      " [4.7 3.2 1.3 0.2]\n",
      " [4.6 3.1 1.5 0.2]\n",
      " [5.  3.6 1.4 0.2]]\n"
     ]
    }
   ],
   "source": [
    "# 2. 처음 다섯개 행 출력\n",
    "print(iris_data[:5])\n",
    "# 다음과 같이 해도 동일한 값을 얻을 수 있음\n",
    "#  #iris_data[:5,], iris_data[:5,:] iris_data[:5,...]"
   ]
  },
  {
   "cell_type": "code",
   "execution_count": 49,
   "id": "63e435ce",
   "metadata": {},
   "outputs": [
    {
     "name": "stdout",
     "output_type": "stream",
     "text": [
      "[[5.1 3.5 1.4]\n",
      " [4.9 3.  1.4]\n",
      " [4.7 3.2 1.3]\n",
      " [4.6 3.1 1.5]\n",
      " [5.  3.6 1.4]]\n"
     ]
    }
   ],
   "source": [
    "# 3. 처음 다섯개 행에서 마지막 열을 제외한 나머지 열을 출력하세요\n",
    "print(iris_data[:5, :-1])"
   ]
  },
  {
   "cell_type": "code",
   "execution_count": 94,
   "id": "578a94bf",
   "metadata": {},
   "outputs": [
    {
     "data": {
      "text/plain": [
       "array([[5.1, 3.5, 1.4],\n",
       "       [4.9, 3. , 1.4],\n",
       "       [4.7, 3.2, 1.3],\n",
       "       [4.6, 3.1, 1.5],\n",
       "       [5. , 3.6, 1.4]])"
      ]
     },
     "execution_count": 94,
     "metadata": {},
     "output_type": "execute_result"
    }
   ],
   "source": [
    "# 강사님 답안 실습형3. 처음 다섯개 행에서 마지막 열을 제외한 나머지 열을 출력\n",
    "ex3 = iris_data[:5, :-1]\n",
    "ex3"
   ]
  },
  {
   "cell_type": "code",
   "execution_count": 52,
   "id": "40ba48ce",
   "metadata": {},
   "outputs": [
    {
     "name": "stdout",
     "output_type": "stream",
     "text": [
      "[0.2 0.2 0.2 0.2 0.2]\n"
     ]
    }
   ],
   "source": [
    "# 4. 처음 다섯개 행에서 마지막 열만 출력하세요\n",
    "print(iris_data[:5, -1])"
   ]
  },
  {
   "cell_type": "code",
   "execution_count": 95,
   "id": "ff555cd3",
   "metadata": {},
   "outputs": [
    {
     "data": {
      "text/plain": [
       "array([0.2, 0.2, 0.2, 0.2, 0.2])"
      ]
     },
     "execution_count": 95,
     "metadata": {},
     "output_type": "execute_result"
    }
   ],
   "source": [
    "# 강사님 답안 실습형 4. 처음 다섯개 행에서 마지막 열만 출력\n",
    "ex4 = iris_data[:5,-1] #iris_data[:5,-1:]라고 하면 5행1열로 됨\n",
    "ex4"
   ]
  },
  {
   "cell_type": "code",
   "execution_count": 90,
   "id": "6783dc01",
   "metadata": {},
   "outputs": [
    {
     "name": "stdout",
     "output_type": "stream",
     "text": [
      "[[5.1 3.5 1.4 0.2]\n",
      " [4.9 3.  1.4 0.2]\n",
      " [4.7 3.2 1.3 0.2]\n",
      " [4.6 3.1 1.5 0.2]\n",
      " [5.  3.6 1.4 0.2]]\n"
     ]
    }
   ],
   "source": [
    "# 5. 3번 배열과 4번 배열을 원래 모양으로 합하기\n",
    "x1 = iris_data[:5, :-1]\n",
    "x2 = iris_data[:5, -1].reshape(-1, 1)\n",
    "result = np.concatenate([x1, x2], axis=1)\n",
    "print(result)"
   ]
  },
  {
   "cell_type": "code",
   "execution_count": 98,
   "id": "5c4e487f",
   "metadata": {},
   "outputs": [
    {
     "name": "stdout",
     "output_type": "stream",
     "text": [
      "[[5.1 3.5 1.4 0.2]\n",
      " [4.9 3.  1.4 0.2]\n",
      " [4.7 3.2 1.3 0.2]\n",
      " [4.6 3.1 1.5 0.2]\n",
      " [5.  3.6 1.4 0.2]]\n"
     ]
    }
   ],
   "source": [
    "# 강사님 답안.\n",
    "answer1 = np.c_[ex3,ex4]\n",
    "answer2 = np.column_stack((ex3, ex4))\n",
    "answer3 = np.hstack((ex3, ex4[:, np.newaxis]))\n",
    "answer4 = np.hstack( (ex3, ex4.reshape(-1,1)))\n",
    "answer5 = np.concatenate( (ex3, ex4.reshape(-1, 1)), axis=1)\n",
    "print(answer1)"
   ]
  },
  {
   "cell_type": "code",
   "execution_count": 99,
   "id": "e7ae4bc8",
   "metadata": {},
   "outputs": [
    {
     "name": "stdout",
     "output_type": "stream",
     "text": [
      "[5.1 3.5 4.9 1.5 5.  3.6]\n"
     ]
    }
   ],
   "source": [
    "# 6. 처음 다섯 개 행을 이용해서 각 열 별로 평균보다 큰 값들만 출력하세요\n",
    "data = iris_data[:5]\n",
    "col_means = np.mean(data, axis=0)\n",
    "result = data[data > col_means]\n",
    "print(result)\n",
    "\n",
    "#sample = iris_data[:5]\n",
    "#sample[sample > np.mean(sample, axis=0)]\n",
    "#print(sample)\n",
    "#print('열별 평균 : ', np.mean(sample, axis=0))"
   ]
  },
  {
   "cell_type": "markdown",
   "id": "30be76df",
   "metadata": {},
   "source": [
    "## 문제풀이형"
   ]
  },
  {
   "cell_type": "code",
   "execution_count": 58,
   "id": "fa099945",
   "metadata": {},
   "outputs": [
    {
     "data": {
      "text/plain": [
       "array([[ 0,  1,  2,  3],\n",
       "       [ 4,  5,  6,  7],\n",
       "       [ 8,  9, 10, 11]])"
      ]
     },
     "execution_count": 58,
     "metadata": {},
     "output_type": "execute_result"
    }
   ],
   "source": [
    "# 1. 다음 보기의 데이터가 있을 경우 print(a.sum(0))의 결과는? 3번\n",
    "import numpy as np\n",
    "a = np.arange(12).reshape(3,4)\n",
    "a"
   ]
  },
  {
   "cell_type": "code",
   "execution_count": 57,
   "id": "0ad080be",
   "metadata": {},
   "outputs": [
    {
     "name": "stdout",
     "output_type": "stream",
     "text": [
      "[12 15 18 21]\n"
     ]
    }
   ],
   "source": [
    "print(a.sum(0))"
   ]
  },
  {
   "cell_type": "code",
   "execution_count": 61,
   "id": "55341a43",
   "metadata": {},
   "outputs": [
    {
     "data": {
      "text/plain": [
       "array([[4., 4., 6., 2.],\n",
       "       [4., 8., 9., 7.],\n",
       "       [8., 0., 0., 7.]])"
      ]
     },
     "execution_count": 61,
     "metadata": {},
     "output_type": "execute_result"
    }
   ],
   "source": [
    "# 2. a 데이터가 다음과 같을 때 다음 중 차원을 바꿀 수 있는 방법을 모두 고르세요. 1번 -> 3번\n",
    "#       나머지는 차원이 바뀐 값을 return하여 출력될 뿐 a가 바뀌지 않는다\n",
    "import numpy as np\n",
    "a = np.floor(10*np.random.random((3,4)))\n",
    "a"
   ]
  },
  {
   "cell_type": "code",
   "execution_count": 65,
   "id": "7c6f8d82",
   "metadata": {},
   "outputs": [
    {
     "data": {
      "text/plain": [
       "(3, 4)"
      ]
     },
     "execution_count": 65,
     "metadata": {},
     "output_type": "execute_result"
    }
   ],
   "source": [
    "a.shape"
   ]
  },
  {
   "cell_type": "code",
   "execution_count": 67,
   "id": "26dd0adf",
   "metadata": {},
   "outputs": [
    {
     "data": {
      "text/plain": [
       "array([4., 4., 6., 2., 4., 8., 9., 7., 8., 0., 0., 7.])"
      ]
     },
     "execution_count": 67,
     "metadata": {},
     "output_type": "execute_result"
    }
   ],
   "source": [
    "a.ravel()"
   ]
  },
  {
   "cell_type": "code",
   "execution_count": 69,
   "id": "f8dd7913",
   "metadata": {},
   "outputs": [
    {
     "data": {
      "text/plain": [
       "array([[4., 4.],\n",
       "       [6., 2.],\n",
       "       [4., 8.],\n",
       "       [9., 7.],\n",
       "       [8., 0.],\n",
       "       [0., 7.]])"
      ]
     },
     "execution_count": 69,
     "metadata": {},
     "output_type": "execute_result"
    }
   ],
   "source": [
    "a.reshape(6,2)"
   ]
  },
  {
   "cell_type": "code",
   "execution_count": 76,
   "id": "af3575c0",
   "metadata": {},
   "outputs": [
    {
     "name": "stdout",
     "output_type": "stream",
     "text": [
      "[[4. 4. 6. 2. 4. 8.]\n",
      " [9. 7. 8. 0. 0. 7.]]\n"
     ]
    }
   ],
   "source": [
    "a.resize((2,6))\n",
    "print(a)"
   ]
  },
  {
   "cell_type": "code",
   "execution_count": 77,
   "id": "efc7c473",
   "metadata": {},
   "outputs": [
    {
     "data": {
      "text/plain": [
       "array([[4., 9.],\n",
       "       [4., 7.],\n",
       "       [6., 8.],\n",
       "       [2., 0.],\n",
       "       [4., 0.],\n",
       "       [8., 7.]])"
      ]
     },
     "execution_count": 77,
     "metadata": {},
     "output_type": "execute_result"
    }
   ],
   "source": [
    "a.T"
   ]
  },
  {
   "cell_type": "code",
   "execution_count": null,
   "id": "802ec1d5",
   "metadata": {},
   "outputs": [],
   "source": [
    "# 3. 다음 데이터에서 첫번째 행과 두번째 행만 뽑아내고 싶습니다. 빈칸에 들어갈 내용으로 옳은 것을 고르세요. 1번"
   ]
  },
  {
   "cell_type": "code",
   "execution_count": 79,
   "id": "44a0c58e",
   "metadata": {},
   "outputs": [
    {
     "data": {
      "text/plain": [
       "array([[ 0,  1,  2,  3],\n",
       "       [ 4,  5,  6,  7],\n",
       "       [ 8,  9, 10, 11]])"
      ]
     },
     "execution_count": 79,
     "metadata": {},
     "output_type": "execute_result"
    }
   ],
   "source": [
    "import numpy as np\n",
    "a = np.arange(12).reshape(3,4)\n",
    "a"
   ]
  },
  {
   "cell_type": "code",
   "execution_count": 80,
   "id": "ac16f999",
   "metadata": {},
   "outputs": [
    {
     "data": {
      "text/plain": [
       "array([[0, 1, 2, 3],\n",
       "       [4, 5, 6, 7]])"
      ]
     },
     "execution_count": 80,
     "metadata": {},
     "output_type": "execute_result"
    }
   ],
   "source": [
    "a[:2]"
   ]
  },
  {
   "cell_type": "code",
   "execution_count": 81,
   "id": "2cb253ae",
   "metadata": {},
   "outputs": [
    {
     "data": {
      "text/plain": [
       "array([[0, 1],\n",
       "       [4, 5],\n",
       "       [8, 9]])"
      ]
     },
     "execution_count": 81,
     "metadata": {},
     "output_type": "execute_result"
    }
   ],
   "source": [
    "a[:,:2]"
   ]
  },
  {
   "cell_type": "code",
   "execution_count": 82,
   "id": "3a6c8fec",
   "metadata": {},
   "outputs": [
    {
     "data": {
      "text/plain": [
       "6"
      ]
     },
     "execution_count": 82,
     "metadata": {},
     "output_type": "execute_result"
    }
   ],
   "source": [
    "a[1,2]"
   ]
  },
  {
   "cell_type": "code",
   "execution_count": 83,
   "id": "1bbfa2da",
   "metadata": {},
   "outputs": [
    {
     "data": {
      "text/plain": [
       "6"
      ]
     },
     "execution_count": 83,
     "metadata": {},
     "output_type": "execute_result"
    }
   ],
   "source": [
    "a[1][2]"
   ]
  },
  {
   "cell_type": "code",
   "execution_count": null,
   "id": "20fa21c7",
   "metadata": {},
   "outputs": [],
   "source": [
    "# 4. 다음 코드의 실행 결과는 ? 2번"
   ]
  },
  {
   "cell_type": "code",
   "execution_count": 84,
   "id": "14c87068",
   "metadata": {},
   "outputs": [
    {
     "data": {
      "text/plain": [
       "array([1, 0, 3, 0, 0])"
      ]
     },
     "execution_count": 84,
     "metadata": {},
     "output_type": "execute_result"
    }
   ],
   "source": [
    "import numpy as np\n",
    "a=np.array([1,2,3,4,5])\n",
    "a[[1,3,4]]=0\n",
    "a"
   ]
  },
  {
   "cell_type": "code",
   "execution_count": null,
   "id": "05d6fc1c",
   "metadata": {},
   "outputs": [],
   "source": [
    "# 5. 다음 두 배열 a, b를 출력의 예시처럼 만들고 싶을 때 빈 칸에 입력해야 할 내용으로 바른 것은? 2번"
   ]
  },
  {
   "cell_type": "code",
   "execution_count": 85,
   "id": "bff2c2da",
   "metadata": {},
   "outputs": [],
   "source": [
    "import numpy as np\n",
    "a = np.array([1,2,3,4,5])\n",
    "b = np.array([6,7,8,9,10])"
   ]
  },
  {
   "cell_type": "code",
   "execution_count": 86,
   "id": "8df0dee2",
   "metadata": {},
   "outputs": [
    {
     "data": {
      "text/plain": [
       "array([ 1,  2,  3,  4,  5,  6,  7,  8,  9, 10])"
      ]
     },
     "execution_count": 86,
     "metadata": {},
     "output_type": "execute_result"
    }
   ],
   "source": [
    "np.r_[a,b]"
   ]
  },
  {
   "cell_type": "code",
   "execution_count": 87,
   "id": "5d395d3c",
   "metadata": {},
   "outputs": [
    {
     "data": {
      "text/plain": [
       "array([[ 1,  6],\n",
       "       [ 2,  7],\n",
       "       [ 3,  8],\n",
       "       [ 4,  9],\n",
       "       [ 5, 10]])"
      ]
     },
     "execution_count": 87,
     "metadata": {},
     "output_type": "execute_result"
    }
   ],
   "source": [
    "np.c_[a,b]"
   ]
  },
  {
   "cell_type": "code",
   "execution_count": 88,
   "id": "08226aa0",
   "metadata": {},
   "outputs": [
    {
     "data": {
      "text/plain": [
       "(array([[1],\n",
       "        [2],\n",
       "        [3],\n",
       "        [4],\n",
       "        [5]]),\n",
       " array([[ 6,  7,  8,  9, 10]]))"
      ]
     },
     "execution_count": 88,
     "metadata": {},
     "output_type": "execute_result"
    }
   ],
   "source": [
    "np.ix_(a,b)"
   ]
  },
  {
   "cell_type": "code",
   "execution_count": 89,
   "id": "c9214043",
   "metadata": {},
   "outputs": [
    {
     "data": {
      "text/plain": [
       "[[array([1, 2, 3, 4, 5])], [array([ 6,  7,  8,  9, 10])]]"
      ]
     },
     "execution_count": 89,
     "metadata": {},
     "output_type": "execute_result"
    }
   ],
   "source": [
    "[[a],[b]]"
   ]
  },
  {
   "cell_type": "code",
   "execution_count": null,
   "id": "50bc6b57",
   "metadata": {},
   "outputs": [],
   "source": []
  }
 ],
 "metadata": {
  "kernelspec": {
   "display_name": "Python 3 (ipykernel)",
   "language": "python",
   "name": "python3"
  },
  "language_info": {
   "codemirror_mode": {
    "name": "ipython",
    "version": 3
   },
   "file_extension": ".py",
   "mimetype": "text/x-python",
   "name": "python",
   "nbconvert_exporter": "python",
   "pygments_lexer": "ipython3",
   "version": "3.10.9"
  },
  "toc": {
   "base_numbering": 1,
   "nav_menu": {},
   "number_sections": false,
   "sideBar": true,
   "skip_h1_title": false,
   "title_cell": "Table of Contents",
   "title_sidebar": "Contents",
   "toc_cell": false,
   "toc_position": {},
   "toc_section_display": true,
   "toc_window_display": false
  }
 },
 "nbformat": 4,
 "nbformat_minor": 5
}
