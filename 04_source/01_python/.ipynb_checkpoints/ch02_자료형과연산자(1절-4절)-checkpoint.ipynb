{
 "cells": [
  {
   "cell_type": "code",
   "execution_count": 61,
   "id": "8a2c97bc",
   "metadata": {},
   "outputs": [
    {
     "data": {
      "text/html": [
       "\n",
       "<style>\n",
       "div.container{width:86% !important;}\n",
       "div.cell.code_cell.rendered{width:100%;}\n",
       "div.CodeMirror {font-family:Consolas; font-size:15pt;}\n",
       "div.output {font-size:15pt; font-weight:bold;}\n",
       "div.input {font-family:Consolas; font-size:15pt;}\n",
       "div.prompt {min-width:70px;}\n",
       "div#toc-wrapper{padding-top:120px;}\n",
       "div.text_cell_render ul li{font-size:12pt;padding:5px;}\n",
       "table.dataframe{font-size:15px;}\n",
       "</style>\n"
      ],
      "text/plain": [
       "<IPython.core.display.HTML object>"
      ]
     },
     "metadata": {},
     "output_type": "display_data"
    }
   ],
   "source": [
    "from IPython.display import display, HTML\n",
    "display(HTML(\"\"\"\n",
    "<style>\n",
    "div.container{width:86% !important;}\n",
    "div.cell.code_cell.rendered{width:100%;}\n",
    "div.CodeMirror {font-family:Consolas; font-size:15pt;}\n",
    "div.output {font-size:15pt; font-weight:bold;}\n",
    "div.input {font-family:Consolas; font-size:15pt;}\n",
    "div.prompt {min-width:70px;}\n",
    "div#toc-wrapper{padding-top:120px;}\n",
    "div.text_cell_render ul li{font-size:12pt;padding:5px;}\n",
    "table.dataframe{font-size:15px;}\n",
    "</style>\n",
    "\"\"\"))"
   ]
  },
  {
   "cell_type": "markdown",
   "id": "1c149c1b",
   "metadata": {},
   "source": [
    "<font size=\"5\" clolr=\"red\">ch02 자료형과 연산자</font>\n",
    "# 1절 변수\n",
    "- 파이썬은 변수선언을 위한 과정이 없음. 할당과 동시에 타입이 지정되고 값이 할당됨.\n",
    "\n",
    "## 1.1 변수할당\n",
    "- 할당 연산자(=)를 이용해서 값을 할당하면 타입이 셋팅\n",
    "- 파이썬에서의 모든 변수는 객체로 저장"
   ]
  },
  {
   "cell_type": "code",
   "execution_count": 9,
   "id": "83bac1fe",
   "metadata": {
    "scrolled": true
   },
   "outputs": [
    {
     "name": "stdout",
     "output_type": "stream",
     "text": [
      "계산된 넓이는 78.5\n"
     ]
    }
   ],
   "source": [
    "r = 5\n",
    "area = 3.14 * r * r\n",
    "print(\"계산된 넓이는\", area)"
   ]
  },
  {
   "cell_type": "code",
   "execution_count": 12,
   "id": "6459b03e",
   "metadata": {},
   "outputs": [
    {
     "name": "stdout",
     "output_type": "stream",
     "text": [
      "area = 78.53981633974483\n"
     ]
    }
   ],
   "source": [
    "import numpy as np\n",
    "area = np.pi * r * r\n",
    "print('area =', area)"
   ]
  },
  {
   "cell_type": "code",
   "execution_count": 13,
   "id": "9cfce23c",
   "metadata": {},
   "outputs": [
    {
     "data": {
      "text/plain": [
       "False"
      ]
     },
     "execution_count": 13,
     "metadata": {},
     "output_type": "execute_result"
    }
   ],
   "source": [
    "area.is_integer() # area가 integer인지 여부를 반환"
   ]
  },
  {
   "cell_type": "code",
   "execution_count": 16,
   "id": "dc56b802",
   "metadata": {},
   "outputs": [
    {
     "name": "stdout",
     "output_type": "stream",
     "text": [
      "area의 주소 : 3014670861104\n",
      "area의 타입 : <class 'float'>\n"
     ]
    }
   ],
   "source": [
    "area=5.5\n",
    "print('area의 주소 :', id(area))\n",
    "print('area의 타입 :', type(area))"
   ]
  },
  {
   "cell_type": "code",
   "execution_count": 18,
   "id": "32950aa7",
   "metadata": {},
   "outputs": [
    {
     "name": "stdout",
     "output_type": "stream",
     "text": [
      "area의 주소 : 3014592365072\n",
      "area의 타입 : <class 'int'>\n"
     ]
    }
   ],
   "source": [
    "area=10\n",
    "print('area의 주소 :', id(area))\n",
    "print('area의 타입 :', type(area))"
   ]
  },
  {
   "cell_type": "code",
   "execution_count": 19,
   "id": "e40ebbab",
   "metadata": {},
   "outputs": [
    {
     "name": "stdout",
     "output_type": "stream",
     "text": [
      "area의 주소 : 3014667162448\n",
      "area의 타입 : <class 'str'>\n"
     ]
    }
   ],
   "source": [
    "area= \"파이썬\"\n",
    "print('area의 주소 :', id(area))\n",
    "print('area의 타입 :', type(area))"
   ]
  },
  {
   "cell_type": "markdown",
   "id": "25dbe3a0",
   "metadata": {},
   "source": [
    "## 1.2 변수이름 규칙\n",
    "- 문자로 시작(숫자시작 불가)\n",
    "- 문자, 숫자, _로 변수명 작성\n",
    "- 함수명은 변수이름으로 가능하나 피한다. 써야한다면 int_식으로 _를 이용한다.\n",
    "- 파이썬 예약어(for, ..)는 변수이름 사용 불가\n",
    "- 한글변수는 꼭 필요시에만 이용"
   ]
  },
  {
   "cell_type": "code",
   "execution_count": 23,
   "id": "bc745007",
   "metadata": {},
   "outputs": [
    {
     "name": "stdout",
     "output_type": "stream",
     "text": [
      "홍길동\n"
     ]
    }
   ],
   "source": [
    "이름 = \"홍길동\"\n",
    "print(이름)"
   ]
  },
  {
   "cell_type": "code",
   "execution_count": 24,
   "id": "672ebc6e",
   "metadata": {},
   "outputs": [
    {
     "data": {
      "text/plain": [
       "'홍길동'"
      ]
     },
     "execution_count": 24,
     "metadata": {},
     "output_type": "execute_result"
    }
   ],
   "source": [
    "이름"
   ]
  },
  {
   "cell_type": "code",
   "execution_count": 28,
   "id": "b17f7ea6",
   "metadata": {},
   "outputs": [],
   "source": [
    "# member.name =\"홍길동\"\n",
    "member_name=\"홍길동\"\n",
    "memberName=\"홍길동\""
   ]
  },
  {
   "cell_type": "code",
   "execution_count": 29,
   "id": "9457f0b3",
   "metadata": {},
   "outputs": [
    {
     "name": "stdout",
     "output_type": "stream",
     "text": [
      "10\n"
     ]
    }
   ],
   "source": [
    "Print=10 #대문자로 시작한 변수, 함수명의 변수는 강력비추\n",
    "print(Print)"
   ]
  },
  {
   "cell_type": "code",
   "execution_count": 30,
   "id": "1bc9b436",
   "metadata": {},
   "outputs": [
    {
     "data": {
      "text/plain": [
       "complex"
      ]
     },
     "execution_count": 30,
     "metadata": {},
     "output_type": "execute_result"
    }
   ],
   "source": [
    "#파이썬에서의 숫자 : 정수, 실수, 복소수\n",
    "i = 3 + 3j #복소수\n",
    "type(i)"
   ]
  },
  {
   "cell_type": "code",
   "execution_count": 31,
   "id": "bd7a4b08",
   "metadata": {},
   "outputs": [
    {
     "data": {
      "text/plain": [
       "True"
      ]
     },
     "execution_count": 31,
     "metadata": {},
     "output_type": "execute_result"
    }
   ],
   "source": [
    "isinstance(i, complex) #i변수(객체)가 complex인지 여부"
   ]
  },
  {
   "cell_type": "markdown",
   "id": "fe0385bc",
   "metadata": {},
   "source": [
    "## 1.3 도움말"
   ]
  },
  {
   "cell_type": "code",
   "execution_count": 32,
   "id": "ec2f77de",
   "metadata": {},
   "outputs": [
    {
     "name": "stdout",
     "output_type": "stream",
     "text": [
      "Help on built-in function print in module builtins:\n",
      "\n",
      "print(...)\n",
      "    print(value, ..., sep=' ', end='\\n', file=sys.stdout, flush=False)\n",
      "    \n",
      "    Prints the values to a stream, or to sys.stdout by default.\n",
      "    Optional keyword arguments:\n",
      "    file:  a file-like object (stream); defaults to the current sys.stdout.\n",
      "    sep:   string inserted between values, default a space.\n",
      "    end:   string appended after the last value, default a newline.\n",
      "    flush: whether to forcibly flush the stream.\n",
      "\n"
     ]
    }
   ],
   "source": [
    "help(print)"
   ]
  },
  {
   "cell_type": "code",
   "execution_count": 33,
   "id": "040f8cf4",
   "metadata": {
    "collapsed": true
   },
   "outputs": [
    {
     "name": "stdout",
     "output_type": "stream",
     "text": [
      "\n",
      "Welcome to Python 3.10's help utility!\n",
      "\n",
      "If this is your first time using Python, you should definitely check out\n",
      "the tutorial on the internet at https://docs.python.org/3.10/tutorial/.\n",
      "\n",
      "Enter the name of any module, keyword, or topic to get help on writing\n",
      "Python programs and using Python modules.  To quit this help utility and\n",
      "return to the interpreter, just type \"quit\".\n",
      "\n",
      "To get a list of available modules, keywords, symbols, or topics, type\n",
      "\"modules\", \"keywords\", \"symbols\", or \"topics\".  Each module also comes\n",
      "with a one-line summary of what it does; to list the modules whose name\n",
      "or summary contain a given string such as \"spam\", type \"modules spam\".\n",
      "\n",
      "help> print\n",
      "Help on built-in function print in module builtins:\n",
      "\n",
      "print(...)\n",
      "    print(value, ..., sep=' ', end='\\n', file=sys.stdout, flush=False)\n",
      "    \n",
      "    Prints the values to a stream, or to sys.stdout by default.\n",
      "    Optional keyword arguments:\n",
      "    file:  a file-like object (stream); defaults to the current sys.stdout.\n",
      "    sep:   string inserted between values, default a space.\n",
      "    end:   string appended after the last value, default a newline.\n",
      "    flush: whether to forcibly flush the stream.\n",
      "\n",
      "help> q\n",
      "\n",
      "You are now leaving help and returning to the Python interpreter.\n",
      "If you want to ask for help on a particular object directly from the\n",
      "interpreter, you can type \"help(object)\".  Executing \"help('string')\"\n",
      "has the same effect as typing a particular string at the help> prompt.\n"
     ]
    }
   ],
   "source": [
    "help() # help를 빠져나오려면 q입력 / ESC+O : 결과 접기/펴기"
   ]
  },
  {
   "cell_type": "code",
   "execution_count": 34,
   "id": "e7049728",
   "metadata": {},
   "outputs": [
    {
     "name": "stdout",
     "output_type": "stream",
     "text": [
      "\n"
     ]
    }
   ],
   "source": [
    "#도움말 : shift+tab(두번누를것)키\n",
    "print()"
   ]
  },
  {
   "cell_type": "code",
   "execution_count": 42,
   "id": "1f7ed6fd",
   "metadata": {},
   "outputs": [],
   "source": [
    "def add(x, y=0):\n",
    "    \"\"\"\n",
    "    매개변수 2개를 받아 두자리 숫자로 만들어요\n",
    "    x = 10의 자리수가 됨\n",
    "    y = 1의 자리수가 됨\n",
    "    사용법 : add(2,3) => 23\n",
    "    \"\"\"\n",
    "    return x*10+y"
   ]
  },
  {
   "cell_type": "code",
   "execution_count": 47,
   "id": "507b1f29",
   "metadata": {},
   "outputs": [
    {
     "data": {
      "text/plain": [
       "24"
      ]
     },
     "execution_count": 47,
     "metadata": {},
     "output_type": "execute_result"
    }
   ],
   "source": [
    "add(2, 4)"
   ]
  },
  {
   "cell_type": "code",
   "execution_count": 45,
   "id": "d55b7596",
   "metadata": {},
   "outputs": [
    {
     "data": {
      "text/plain": [
       "23"
      ]
     },
     "execution_count": 45,
     "metadata": {},
     "output_type": "execute_result"
    }
   ],
   "source": [
    "a = add\n",
    "a(2, 3)"
   ]
  },
  {
   "cell_type": "markdown",
   "id": "125e3915",
   "metadata": {},
   "source": [
    "## 1.4 다중 변수 할당"
   ]
  },
  {
   "cell_type": "code",
   "execution_count": null,
   "id": "208132c8",
   "metadata": {},
   "outputs": [],
   "source": [
    "a=10\n",
    "b=20"
   ]
  },
  {
   "cell_type": "code",
   "execution_count": 48,
   "id": "b0af5515",
   "metadata": {},
   "outputs": [
    {
     "name": "stdout",
     "output_type": "stream",
     "text": [
      "10 20\n"
     ]
    }
   ],
   "source": [
    "a, b = 10, 20\n",
    "print(a,b)"
   ]
  },
  {
   "cell_type": "code",
   "execution_count": 49,
   "id": "35705199",
   "metadata": {},
   "outputs": [
    {
     "name": "stdout",
     "output_type": "stream",
     "text": [
      "20 30\n"
     ]
    }
   ],
   "source": [
    "# 다중 변수 할당시 순차적 할당이 아니고, 일괄 동시 할당(가독성이 떨어져 자주 사용하지는 않음.)\n",
    "a, b = b, a+b\n",
    "print(a, b)"
   ]
  },
  {
   "cell_type": "markdown",
   "id": "e5ba4b04",
   "metadata": {},
   "source": [
    "# 2절. 화면입출력(i/o)"
   ]
  },
  {
   "cell_type": "code",
   "execution_count": 51,
   "id": "ba6b0cde",
   "metadata": {},
   "outputs": [
    {
     "name": "stdout",
     "output_type": "stream",
     "text": [
      "첫번째 숫자는?5\n"
     ]
    },
    {
     "data": {
      "text/plain": [
       "'5'"
      ]
     },
     "execution_count": 51,
     "metadata": {},
     "output_type": "execute_result"
    }
   ],
   "source": [
    "#input() : 사용자로부터 값을 입력받기 위한 함수. 문자열로 입력\n",
    "first = input(\"첫번째 숫자는?\")\n",
    "first"
   ]
  },
  {
   "cell_type": "code",
   "execution_count": 52,
   "id": "1a0e7546",
   "metadata": {},
   "outputs": [
    {
     "name": "stdout",
     "output_type": "stream",
     "text": [
      "두번째 숫자는?2\n"
     ]
    },
    {
     "data": {
      "text/plain": [
       "'2'"
      ]
     },
     "execution_count": 52,
     "metadata": {},
     "output_type": "execute_result"
    }
   ],
   "source": [
    "second = input(\"두번째 숫자는?\")\n",
    "second"
   ]
  },
  {
   "cell_type": "code",
   "execution_count": 53,
   "id": "8080a734",
   "metadata": {},
   "outputs": [
    {
     "name": "stdout",
     "output_type": "stream",
     "text": [
      "합: 7\n"
     ]
    }
   ],
   "source": [
    "sum = int(first) + int(second)\n",
    "print('합:', sum)"
   ]
  },
  {
   "cell_type": "code",
   "execution_count": 54,
   "id": "53c29173",
   "metadata": {},
   "outputs": [
    {
     "name": "stdout",
     "output_type": "stream",
     "text": [
      "첫번째 수는?10\n",
      "두번째 수는?20\n",
      "합 30\n"
     ]
    }
   ],
   "source": [
    "first = int(input('첫번째 수는?'))\n",
    "second = int(input('두번째 수는?'))\n",
    "sum=first+second\n",
    "print('합', sum)"
   ]
  },
  {
   "cell_type": "code",
   "execution_count": 55,
   "id": "21d85524",
   "metadata": {},
   "outputs": [
    {
     "name": "stdout",
     "output_type": "stream",
     "text": [
      "합=30\n"
     ]
    }
   ],
   "source": [
    "print('합', sum, sep='=')"
   ]
  },
  {
   "cell_type": "code",
   "execution_count": 58,
   "id": "25804a64",
   "metadata": {},
   "outputs": [
    {
     "name": "stdout",
     "output_type": "stream",
     "text": [
      "합=30/합~30/합은30\n"
     ]
    }
   ],
   "source": [
    "print('합', sum, sep=\"=\", end=\"/\")\n",
    "print('합', sum, sep=\"~\",  end=\"/\")\n",
    "print('합', sum, sep=\"은\")"
   ]
  },
  {
   "cell_type": "code",
   "execution_count": 60,
   "id": "5ae7d9ea",
   "metadata": {},
   "outputs": [
    {
     "name": "stdout",
     "output_type": "stream",
     "text": [
      "hello, world\n"
     ]
    }
   ],
   "source": [
    "import sys\n",
    "print('hello', 'world', sep=\", \", file=sys.stdout)"
   ]
  },
  {
   "cell_type": "markdown",
   "id": "4c4dc11d",
   "metadata": {},
   "source": [
    "# 3절. 기본 자료형\n",
    "- 자료형에 따라 값의 크기와 저장방식이 달라짐\n",
    "    - 숫자 : int, float, complex\n",
    "    - 문자 : str\n",
    "    - 논리 : bool(True/False)\n",
    "    \n",
    "## 3.1 숫자형    "
   ]
  },
  {
   "cell_type": "code",
   "execution_count": 63,
   "id": "fc7ec5a9",
   "metadata": {},
   "outputs": [
    {
     "data": {
      "text/plain": [
       "9223372036854775807"
      ]
     },
     "execution_count": 63,
     "metadata": {},
     "output_type": "execute_result"
    }
   ],
   "source": [
    "import sys\n",
    "sys.maxsize # 정수의 최대값 2의 63승-1 (2**63 -1)"
   ]
  },
  {
   "cell_type": "code",
   "execution_count": 64,
   "id": "8d5f6ab2",
   "metadata": {},
   "outputs": [
    {
     "data": {
      "text/plain": [
       "9223372036854776807"
      ]
     },
     "execution_count": 64,
     "metadata": {},
     "output_type": "execute_result"
    }
   ],
   "source": [
    "i = sys.maxsize + 1000\n",
    "i"
   ]
  },
  {
   "cell_type": "code",
   "execution_count": 65,
   "id": "3bd05821",
   "metadata": {},
   "outputs": [
    {
     "name": "stdout",
     "output_type": "stream",
     "text": [
      "9223372036854776807\n",
      "<class 'int'>\n"
     ]
    }
   ],
   "source": [
    "i = sys.maxsize + 1000\n",
    "print(i)\n",
    "print(type(i))"
   ]
  },
  {
   "cell_type": "code",
   "execution_count": 67,
   "id": "861f1068",
   "metadata": {},
   "outputs": [
    {
     "data": {
      "text/plain": [
       "2.0"
      ]
     },
     "execution_count": 67,
     "metadata": {},
     "output_type": "execute_result"
    }
   ],
   "source": [
    "f=4/2 #정수/정수는 무조껀 실수\n",
    "f"
   ]
  },
  {
   "cell_type": "code",
   "execution_count": 69,
   "id": "21dbbde7",
   "metadata": {},
   "outputs": [
    {
     "name": "stdout",
     "output_type": "stream",
     "text": [
      "2\n",
      "2\n"
     ]
    }
   ],
   "source": [
    "# 자바처럼 정수/정수의 결과를 정수로\n",
    "f = 4//2 #몫연산자\n",
    "print(f)\n",
    "f = int(4/2)\n",
    "print(f)"
   ]
  },
  {
   "cell_type": "code",
   "execution_count": 72,
   "id": "80a58b4d",
   "metadata": {},
   "outputs": [
    {
     "name": "stdout",
     "output_type": "stream",
     "text": [
      "(-1+0j)\n"
     ]
    }
   ],
   "source": [
    "c = 1j #수학시간의 0=1i\n",
    "print(c**2) # ** 승연산자"
   ]
  },
  {
   "cell_type": "code",
   "execution_count": 74,
   "id": "2cd12b18",
   "metadata": {},
   "outputs": [
    {
     "name": "stdout",
     "output_type": "stream",
     "text": [
      "지수형 표현할당시 실수형으로 저장 : 1120000000000.0\n",
      "지수형 표현할당시 실수형으로 저장 : 1.12e-12\n"
     ]
    }
   ],
   "source": [
    "f = 1.12e12 #1.12의 10의 12승 112000000000000 (e는 10의 승을 뜻함.)\n",
    "print('지수형 표현할당시 실수형으로 저장 :', f)\n",
    "f = 1.12e-12 # 0.00000000000112\n",
    "print('지수형 표현할당시 실수형으로 저장 :', f)"
   ]
  },
  {
   "cell_type": "markdown",
   "id": "33c4d81d",
   "metadata": {},
   "source": [
    "## 3.2 문자형\n",
    "쌍따옴표(\"-\")나 홑따옴표('-')이용"
   ]
  },
  {
   "cell_type": "code",
   "execution_count": 87,
   "id": "3401af78",
   "metadata": {},
   "outputs": [
    {
     "name": "stdout",
     "output_type": "stream",
     "text": [
      "홍길동\"짱\" 서울시 관악구 '신림동'\n"
     ]
    }
   ],
   "source": [
    "name = '' # 홍길동\"짱\"\n",
    "# \"홍길동\"짱\"\"으로 작성할 경우 에러가 남\n",
    "# 따라서 아래와 같이 해야 에러가 안남\n",
    "name = \"홍길동\\\"짱\\\"\"\n",
    "name = '홍길동\"짱\"'\n",
    "address = '서울시 관악구 \\'신림동''' # 서울시 관악구 '신길동'(비추천하는 방식)\n",
    "address = \"서울시 관악구 '신림동'\"\n",
    "print(name, address)"
   ]
  },
  {
   "cell_type": "code",
   "execution_count": 77,
   "id": "6d3dea1f",
   "metadata": {},
   "outputs": [
    {
     "name": "stdout",
     "output_type": "stream",
     "text": [
      "홍길동\"짱\"\n"
     ]
    }
   ],
   "source": [
    "name = \"홍길동\\\"짱\\\"\"\n",
    "print(name)"
   ]
  },
  {
   "cell_type": "code",
   "execution_count": 78,
   "id": "0ddf30f5",
   "metadata": {},
   "outputs": [
    {
     "name": "stdout",
     "output_type": "stream",
     "text": [
      "홍길동\"짱\"\n"
     ]
    }
   ],
   "source": [
    "name = '홍길동\"짱\"'\n",
    "print(name)"
   ]
  },
  {
   "cell_type": "code",
   "execution_count": 86,
   "id": "ef659e85",
   "metadata": {},
   "outputs": [
    {
     "name": "stdout",
     "output_type": "stream",
     "text": [
      "서울시 관악구'신림동\n"
     ]
    }
   ],
   "source": [
    "address = '서울시 관악구\\'신림동'''\n",
    "print(address)"
   ]
  },
  {
   "cell_type": "code",
   "execution_count": 81,
   "id": "eec2e5cc",
   "metadata": {},
   "outputs": [
    {
     "name": "stdout",
     "output_type": "stream",
     "text": [
      "서울시 관악구 '신림동'\n"
     ]
    }
   ],
   "source": [
    "address = \"서울시 관악구 '신림동'\"\n",
    "print(address)"
   ]
  },
  {
   "cell_type": "code",
   "execution_count": 84,
   "id": "732cbfff",
   "metadata": {},
   "outputs": [
    {
     "name": "stdout",
     "output_type": "stream",
     "text": [
      "여러줄 짜리 내용\n",
      "줄바꿈문자를 쓰지 않고 따옴표 3개로 처리\n",
      "이처럼 쓰는 경우가 많아요\n"
     ]
    }
   ],
   "source": [
    "# 문자형 변수 여러줄\n",
    "text = '''여러줄 짜리 내용\n",
    "줄바꿈문자를 쓰지 않고 따옴표 3개로 처리\n",
    "이처럼 쓰는 경우가 많아요'''\n",
    "print(text)"
   ]
  },
  {
   "cell_type": "markdown",
   "id": "d91291e9",
   "metadata": {},
   "source": [
    "### ※ 문자열 연산"
   ]
  },
  {
   "cell_type": "code",
   "execution_count": 88,
   "id": "74f4ba3b",
   "metadata": {},
   "outputs": [
    {
     "name": "stdout",
     "output_type": "stream",
     "text": [
      "홍길동동에 번쩍 서에 번쩍\n"
     ]
    }
   ],
   "source": [
    "'''\n",
    "    여러 줄 주석 용도\n",
    "    2025.04.08 문자열 연산 소스 by 아무개\n",
    "'''\n",
    "name1 = \"홍길동\"\n",
    "name2 = \"동에 번쩍 서에 번쩍\"\n",
    "print(name1+name2)"
   ]
  },
  {
   "cell_type": "code",
   "execution_count": 91,
   "id": "55787efd",
   "metadata": {},
   "outputs": [
    {
     "name": "stdout",
     "output_type": "stream",
     "text": [
      "홍길동홍길동홍길동\n"
     ]
    }
   ],
   "source": [
    "print(name1*3) #문자열을 곱하면 반복"
   ]
  },
  {
   "cell_type": "markdown",
   "id": "5979a9a8",
   "metadata": {},
   "source": [
    "### ※ raw 데이터\n",
    "- 용도 : 정규표현식 이용, 디렉토리 경로 표현시 이용"
   ]
  },
  {
   "cell_type": "code",
   "execution_count": 93,
   "id": "5efa0f90",
   "metadata": {},
   "outputs": [
    {
     "name": "stdout",
     "output_type": "stream",
     "text": [
      "hello\\nWordl\n",
      "Hello\\nWordl\n"
     ]
    }
   ],
   "source": [
    "print(r'hello\\nWordl') #r을 안쓰면 \\n을 인식함.\n",
    "print('Hello\\\\nWordl') #\\\\를 사용하는 방법도 있으나 선호되진 않음. 코드가 보기 싫어짐."
   ]
  },
  {
   "cell_type": "code",
   "execution_count": null,
   "id": "ef59a1e9",
   "metadata": {},
   "outputs": [],
   "source": [
    "정규표현식\n",
    "'''(마크업 셀에서 백틱은 블록을 만들 때 사용)\n",
    "1. 참조 : 위키백과\n",
    "2. 간략한 문법 :\n",
    "    \\d (숫자와 매치, [0-9]와 동일\n",
    "    \\D (숫자가 아닌것)\n",
    "    \\w (영문자나 숫자, [a-zA-Z0-9]\n",
    "    \\W (영문자나 숫자가 아닌 문자)\n",
    "    . (문자하나를 뜻함)\n",
    "    \\. (.의미)\n",
    "    \\- (-의미)\n",
    "    {2, 4} (2~4번 반복)\n",
    "    {4}    (4번 반복)\n",
    "    {2,}   (2번이상 반복)\n",
    "    +      (1번이상 반복)\n",
    "    *      (0번이상 반복)\n",
    "    ?      (0번이나 1번 반복)\n",
    "3. 정규표현식 연습장(https://regexr.com/)\n",
    "'''"
   ]
  },
  {
   "cell_type": "code",
   "execution_count": null,
   "id": "1874c135",
   "metadata": {},
   "outputs": [],
   "source": []
  },
  {
   "cell_type": "code",
   "execution_count": null,
   "id": "f0976f71",
   "metadata": {},
   "outputs": [],
   "source": []
  },
  {
   "cell_type": "code",
   "execution_count": null,
   "id": "dee2142f",
   "metadata": {},
   "outputs": [],
   "source": []
  },
  {
   "cell_type": "code",
   "execution_count": null,
   "id": "a68428d4",
   "metadata": {},
   "outputs": [],
   "source": []
  }
 ],
 "metadata": {
  "kernelspec": {
   "display_name": "Python 3 (ipykernel)",
   "language": "python",
   "name": "python3"
  },
  "language_info": {
   "codemirror_mode": {
    "name": "ipython",
    "version": 3
   },
   "file_extension": ".py",
   "mimetype": "text/x-python",
   "name": "python",
   "nbconvert_exporter": "python",
   "pygments_lexer": "ipython3",
   "version": "3.10.9"
  },
  "toc": {
   "base_numbering": 1,
   "nav_menu": {},
   "number_sections": false,
   "sideBar": true,
   "skip_h1_title": false,
   "title_cell": "Table of Contents",
   "title_sidebar": "Contents",
   "toc_cell": false,
   "toc_position": {
    "height": "calc(100% - 180px)",
    "left": "10px",
    "top": "150px",
    "width": "165px"
   },
   "toc_section_display": true,
   "toc_window_display": true
  }
 },
 "nbformat": 4,
 "nbformat_minor": 5
}
