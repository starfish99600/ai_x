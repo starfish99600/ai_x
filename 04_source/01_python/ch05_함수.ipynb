{
 "cells": [
  {
   "cell_type": "code",
   "execution_count": 1,
   "id": "e50a2354",
   "metadata": {},
   "outputs": [
    {
     "data": {
      "text/html": [
       "\n",
       "<style>\n",
       "div.container{width:95% !important;}\n",
       "div.cell.code_cell.rendered{width:100%;}\n",
       "div.CodeMirror {font-family:Consolas; font-size:15pt;}\n",
       "div.output {font-size:15pt; font-weight:bold;}\n",
       "div.input {font-family:Consolas; font-size:15pt;}\n",
       "div.prompt {min-width:70px;}\n",
       "div#toc-wrapper{padding-top:120px;}\n",
       "div.text_cell_render ul li{font-size:12pt;padding:5px;}\n",
       "table.dataframe{font-size:15px;}\n",
       "</style>\n"
      ],
      "text/plain": [
       "<IPython.core.display.HTML object>"
      ]
     },
     "metadata": {},
     "output_type": "display_data"
    }
   ],
   "source": [
    "from IPython.display import display, HTML\n",
    "display(HTML(\"\"\"\n",
    "<style>\n",
    "div.container{width:95% !important;}\n",
    "div.cell.code_cell.rendered{width:100%;}\n",
    "div.CodeMirror {font-family:Consolas; font-size:15pt;}\n",
    "div.output {font-size:15pt; font-weight:bold;}\n",
    "div.input {font-family:Consolas; font-size:15pt;}\n",
    "div.prompt {min-width:70px;}\n",
    "div#toc-wrapper{padding-top:120px;}\n",
    "div.text_cell_render ul li{font-size:12pt;padding:5px;}\n",
    "table.dataframe{font-size:15px;}\n",
    "</style>\n",
    "\"\"\"))"
   ]
  },
  {
   "cell_type": "markdown",
   "id": "3ad8adac",
   "metadata": {},
   "source": [
    "<b><font color=\"red\" size=\"5\">ch05. 함수</font></b>\n",
    "- 사용할 코드를 묶어 놓고 그것에 이름을 붙인 것\n",
    "- 오버로딩(같은 이름의 함수를 매개변수를 달리해서 사용)->파이썬에서는 불가능함.\n",
    "- *오버로딩 : 함수이름이 같고, 매개변수의 타입이나 갯수로 다른 함수를 허용하는것 \n",
    "- 함수정의\n",
    "```\n",
    "def 함수명(숫자로 시작하면 안됨. 변수를 작성하는 원칙과 동일함. 가급적 한국어, 특수문자사용, 숫자를 우선 사용하는 것을 피할것.)\n",
    "def 함수명([매개변수1, 매개변수2, 매개변수n])\n",
    "    명령어 1\n",
    "    명령어 2\n",
    "    명령어 n\n",
    "```\n",
    "# 1절. 함수의 정의 및 사용\n",
    "## 1.1 함수 정의"
   ]
  },
  {
   "cell_type": "code",
   "execution_count": 3,
   "id": "529e4f01",
   "metadata": {},
   "outputs": [
    {
     "name": "stdout",
     "output_type": "stream",
     "text": [
      "20\n"
     ]
    }
   ],
   "source": [
    "a=10  #날아감\n",
    "a=20  # 뒤에 적은게 a가 됨.\n",
    "print(a)"
   ]
  },
  {
   "cell_type": "code",
   "execution_count": 3,
   "id": "53d83e9e",
   "metadata": {},
   "outputs": [
    {
     "name": "stdout",
     "output_type": "stream",
     "text": [
      "Hello\n",
      "Hello\n",
      "Hello\n",
      "Hello\n",
      "Hello\n"
     ]
    }
   ],
   "source": [
    "#함수 정의\n",
    "def hello():                  #hello라는 함수를 정의함. 해당 함수는 매개변수를 정의하지 않았으므로, 차후 사용시 매개변수를 사용하면 안됨.\n",
    "    for i in range(5):        #def는 함수를 정의할 때 사용되는 키워드\n",
    "        print(\"Hello\")\n",
    "#파이썬내 별도의 메모리 공간에 함수가 저장됨.\n",
    "\n",
    "# 함수 사용\n",
    "hello()"
   ]
  },
  {
   "cell_type": "code",
   "execution_count": 6,
   "id": "cd27d604",
   "metadata": {},
   "outputs": [],
   "source": [
    "#매개변수가 들어가 있는 함수 정의\n",
    "def my_message(x, msg):                  #msg를 x번 출력하는 함수를 만듬\n",
    "    for i in range(x)#함수 명령어: 예시에서는 for-in문과 range함수를 사용함. range(범위지정) i에 슬라이싱해서 넣고 수행해라.\n",
    "        print(msg)   #for-in문에 대한 수행어 : print msg를 출력해라.\n",
    "                     #하위 명령문들은 다시 상위 함수에 반영되어 수행됨."
   ]
  },
  {
   "cell_type": "code",
   "execution_count": 8,
   "id": "f1ed1af4",
   "metadata": {},
   "outputs": [
    {
     "ename": "TypeError",
     "evalue": "my_message() missing 2 required positional arguments: 'x' and 'msg'",
     "output_type": "error",
     "traceback": [
      "\u001b[1;31m---------------------------------------------------------------------------\u001b[0m",
      "\u001b[1;31mTypeError\u001b[0m                                 Traceback (most recent call last)",
      "Cell \u001b[1;32mIn[8], line 2\u001b[0m\n\u001b[0;32m      1\u001b[0m \u001b[38;5;66;03m#매개변수가 들어있는 함수는 반드시 매개변수를 입력해야 한다.\u001b[39;00m\n\u001b[1;32m----> 2\u001b[0m \u001b[43mmy_message\u001b[49m\u001b[43m(\u001b[49m\u001b[43m)\u001b[49m\n",
      "\u001b[1;31mTypeError\u001b[0m: my_message() missing 2 required positional arguments: 'x' and 'msg'"
     ]
    }
   ],
   "source": [
    "#매개변수가 들어있는 함수는 반드시 매개변수를 입력해야 한다.(그렇지 않으면 아래처럼 오류가 발생함.)\n",
    "my_message()"
   ]
  },
  {
   "cell_type": "code",
   "execution_count": 7,
   "id": "82fb76fc",
   "metadata": {},
   "outputs": [
    {
     "name": "stdout",
     "output_type": "stream",
     "text": [
      "Hello\n",
      "Hello\n",
      "Hello\n",
      "Hello\n",
      "Hello\n"
     ]
    }
   ],
   "source": [
    "#정상적으로 사용하였을시의 예시(매개변수가 들어가 있는 함수)\n",
    "my_message(5,'Hello')"
   ]
  },
  {
   "cell_type": "code",
   "execution_count": 8,
   "id": "f6b39c8c",
   "metadata": {},
   "outputs": [
    {
     "name": "stdout",
     "output_type": "stream",
     "text": [
      "hello\n",
      "hello\n",
      "hello\n"
     ]
    }
   ],
   "source": [
    "my_msg = my_message\n",
    "my_msg(3, 'hello')"
   ]
  },
  {
   "cell_type": "code",
   "execution_count": 9,
   "id": "969ce054",
   "metadata": {},
   "outputs": [
    {
     "data": {
      "text/plain": [
       "(function, function)"
      ]
     },
     "execution_count": 9,
     "metadata": {},
     "output_type": "execute_result"
    }
   ],
   "source": [
    "#함수를 변수로 설정하면, 변수도 함수가 된다.\n",
    "type(my_msg), type(my_message)  "
   ]
  },
  {
   "cell_type": "code",
   "execution_count": 16,
   "id": "fe0d9061",
   "metadata": {},
   "outputs": [
    {
     "name": "stdout",
     "output_type": "stream",
     "text": [
      "ttt\n",
      "ttt\n",
      "ttt\n"
     ]
    }
   ],
   "source": [
    "#변수가 함수가 되었을 때, 동일한 역할을 수행할 수 있다.\n",
    "my_message(3, 'ttt')"
   ]
  },
  {
   "cell_type": "code",
   "execution_count": 17,
   "id": "e263b459",
   "metadata": {},
   "outputs": [
    {
     "name": "stdout",
     "output_type": "stream",
     "text": [
      "Hello\n",
      "Hello\n"
     ]
    }
   ],
   "source": [
    "print('Hello')  #파이썬 내장함수(import하지 않고소 쓸 수 있는 함수를 뜻함.) ex) print, add 등\n",
    "print=5\n",
    "#print('Hello')\n",
    "del print\n",
    "print('Hello')"
   ]
  },
  {
   "cell_type": "code",
   "execution_count": 18,
   "id": "90b045f8",
   "metadata": {},
   "outputs": [
    {
     "name": "stdout",
     "output_type": "stream",
     "text": [
      "Hello\n",
      "Hello\n"
     ]
    }
   ],
   "source": [
    "my_message(2, 'Hello')"
   ]
  },
  {
   "cell_type": "code",
   "execution_count": 19,
   "id": "551be0eb",
   "metadata": {},
   "outputs": [],
   "source": [
    "my_message = 5"
   ]
  },
  {
   "cell_type": "code",
   "execution_count": 28,
   "id": "2796af2a",
   "metadata": {},
   "outputs": [],
   "source": [
    "del my_message\n",
    "#변수를 삭제해도 함수 사용불가(파이썬 내장함수가 아니라서)"
   ]
  },
  {
   "cell_type": "code",
   "execution_count": 29,
   "id": "b460fa94",
   "metadata": {},
   "outputs": [
    {
     "ename": "NameError",
     "evalue": "name 'my_message' is not defined",
     "output_type": "error",
     "traceback": [
      "\u001b[1;31m---------------------------------------------------------------------------\u001b[0m",
      "\u001b[1;31mNameError\u001b[0m                                 Traceback (most recent call last)",
      "Cell \u001b[1;32mIn[29], line 1\u001b[0m\n\u001b[1;32m----> 1\u001b[0m \u001b[43mmy_message\u001b[49m(\u001b[38;5;241m2\u001b[39m, \u001b[38;5;124m'\u001b[39m\u001b[38;5;124mHello\u001b[39m\u001b[38;5;124m'\u001b[39m)\n",
      "\u001b[1;31mNameError\u001b[0m: name 'my_message' is not defined"
     ]
    }
   ],
   "source": [
    "my_message(2, 'Hello')"
   ]
  },
  {
   "cell_type": "code",
   "execution_count": 10,
   "id": "3e58c33b",
   "metadata": {},
   "outputs": [],
   "source": [
    "#함수정의 : 4월 16일(수)\n",
    "def my_hello():\n",
    "    print('Hello, Python')\n",
    "    print('Hello, World')\n",
    "def my_hello(cnt):\n",
    "    for i in range(cnt):\n",
    "        print('Hello, Python')\n",
    "        print('Hello, world')\n",
    "#함수 이름은 동일하게 두 번 정의하면 가장 마지막 정의가 유효\n",
    "#이 코드에서는 my_hello(cnt)만 살아있음.\n",
    "#cnt는 count의 줄임말로 '횟수', 즉 얼마나 반복할지를 나타내는 매개변수임."
   ]
  },
  {
   "cell_type": "code",
   "execution_count": 12,
   "id": "8af7122a",
   "metadata": {},
   "outputs": [
    {
     "name": "stdout",
     "output_type": "stream",
     "text": [
      "Hello, Python\n",
      "Hello, world\n",
      "Hello, Python\n",
      "Hello, world\n"
     ]
    }
   ],
   "source": [
    "#함수호출(=함수사용, 호출이라는 표현을 실무에서 더 많이 사용함.)\n",
    "my_hello(2)"
   ]
  },
  {
   "cell_type": "code",
   "execution_count": 13,
   "id": "6ea000fd",
   "metadata": {},
   "outputs": [
    {
     "data": {
      "text/plain": [
       "<function __main__.my_hello(cnt)>"
      ]
     },
     "execution_count": 13,
     "metadata": {},
     "output_type": "execute_result"
    }
   ],
   "source": [
    "#단순 함수이름을 쳤을 때 파이썬이 보여주는 함수 자체에 대한 정보\n",
    "my_hello"
   ]
  },
  {
   "cell_type": "code",
   "execution_count": 14,
   "id": "a0f1d3b6",
   "metadata": {},
   "outputs": [
    {
     "data": {
      "text/plain": [
       "'__main__'"
      ]
     },
     "execution_count": 14,
     "metadata": {},
     "output_type": "execute_result"
    }
   ],
   "source": [
    "__name__"
   ]
  },
  {
   "cell_type": "code",
   "execution_count": 15,
   "id": "da966482",
   "metadata": {},
   "outputs": [
    {
     "name": "stdout",
     "output_type": "stream",
     "text": [
      "Hello, Python\n",
      "Hello, world\n",
      "Hello, Python\n",
      "Hello, world\n"
     ]
    }
   ],
   "source": [
    "if __name__=='__main__':\n",
    "    my_hello(2)"
   ]
  },
  {
   "cell_type": "code",
   "execution_count": 3,
   "id": "c2664248",
   "metadata": {},
   "outputs": [],
   "source": [
    "#vscode와 연동하여 사용, ch05모듈을 load\n",
    "import ch05"
   ]
  },
  {
   "cell_type": "code",
   "execution_count": 2,
   "id": "f2e66005",
   "metadata": {},
   "outputs": [
    {
     "name": "stdout",
     "output_type": "stream",
     "text": [
      "Hello, Python\n",
      "Hello, world\n",
      "Hello, Python\n",
      "Hello, world\n"
     ]
    }
   ],
   "source": [
    "ch05.my_hello(2)"
   ]
  },
  {
   "cell_type": "code",
   "execution_count": 5,
   "id": "8c7fd079",
   "metadata": {},
   "outputs": [],
   "source": [
    "#ch05모듈안의 my_hello를 load *ch05에서 my_hello를 가져와라.\n",
    "from ch05 import my_hello "
   ]
  },
  {
   "cell_type": "code",
   "execution_count": 6,
   "id": "136e3a27",
   "metadata": {},
   "outputs": [
    {
     "name": "stdout",
     "output_type": "stream",
     "text": [
      "Hello, Python\n",
      "Hello, world\n",
      "Hello, Python\n",
      "Hello, world\n"
     ]
    }
   ],
   "source": [
    "my_hello(2)"
   ]
  },
  {
   "cell_type": "markdown",
   "id": "6cd2edbb",
   "metadata": {},
   "source": [
    "## 1.2 docstring"
   ]
  },
  {
   "cell_type": "code",
   "execution_count": 9,
   "id": "8c34be0f",
   "metadata": {},
   "outputs": [],
   "source": [
    "def my_function():\n",
    "    '''\n",
    "    함수의 첫라인에 독스트링을 포함할 수 있습니다.\n",
    "    독스트링은 함수의 설명서를 달아주는 역할\n",
    "    주석보다 많은 기능(shift+tab으로 독스트링을 볼 수 있음.)\n",
    "    '''\n",
    "    pass"
   ]
  },
  {
   "cell_type": "code",
   "execution_count": null,
   "id": "493aa02a",
   "metadata": {},
   "outputs": [],
   "source": [
    "my_function()"
   ]
  },
  {
   "cell_type": "code",
   "execution_count": 10,
   "id": "d5819242",
   "metadata": {},
   "outputs": [
    {
     "name": "stdout",
     "output_type": "stream",
     "text": [
      "\n",
      "    함수의 첫라인에 독스트링을 포함할 수 있습니다.\n",
      "    독스트링은 함수의 설명서를 달아주는 역할\n",
      "    주석보다 많은 기능(shift+tab으로 독스트링을 볼 수 있음.)\n",
      "    \n"
     ]
    }
   ],
   "source": [
    "print(my_function.__doc__)"
   ]
  },
  {
   "cell_type": "code",
   "execution_count": 11,
   "id": "f21b1552",
   "metadata": {},
   "outputs": [],
   "source": [
    "#피보나치(fibonacci)수열 : 앞의 두 수를 더해서 다음 수를 만드는 수열\n",
    "#ex) 0 1 1 2 3 5 8 13 21 34\n",
    "def fibonacci(n):\n",
    "    a, b = 0, 1\n",
    "    while a < n:\n",
    "        print(a, end=' ')\n",
    "        a, b = b, a+b\n",
    "    print() #개행"
   ]
  },
  {
   "cell_type": "code",
   "execution_count": 12,
   "id": "2311d31a",
   "metadata": {},
   "outputs": [
    {
     "name": "stdout",
     "output_type": "stream",
     "text": [
      "0 1 1 2 3 5 8 13 21 34 55 89 144 233 377 610 987 \n"
     ]
    }
   ],
   "source": [
    "fibonacci(1000)"
   ]
  },
  {
   "cell_type": "code",
   "execution_count": null,
   "id": "95a5a140",
   "metadata": {},
   "outputs": [],
   "source": []
  },
  {
   "cell_type": "markdown",
   "id": "958a3f25",
   "metadata": {},
   "source": [
    "## 1.3 지역변수(local var)와 전역변수(global var)\n",
    "- 지역변수와 전역변수는 변수의 사용범위에 따라 구분됨.\n",
    "- 전역변수 : 함수 바깥에서 선언된 변수(파일 전체에서 사용가능함.)\n",
    "- 지역변수 : 함수 안에서 선언된 변수(해당 함수 안에서만 사용 가능.)"
   ]
  },
  {
   "cell_type": "code",
   "execution_count": 13,
   "id": "d322c822",
   "metadata": {},
   "outputs": [
    {
     "name": "stdout",
     "output_type": "stream",
     "text": [
      "함수안: 100\n"
     ]
    }
   ],
   "source": [
    "global_var = 100 # 전역변수\n",
    "def func1():\n",
    "    print('함수안:', global_var)\n",
    "func1()\n",
    "print('함수밖 :', global_var)"
   ]
  },
  {
   "cell_type": "code",
   "execution_count": 19,
   "id": "48de5b77",
   "metadata": {},
   "outputs": [
    {
     "name": "stdout",
     "output_type": "stream",
     "text": [
      "함수 안 : 200\n"
     ]
    },
    {
     "ename": "NameError",
     "evalue": "name 'local_var' is not defined",
     "output_type": "error",
     "traceback": [
      "\u001b[1;31m---------------------------------------------------------------------------\u001b[0m",
      "\u001b[1;31mNameError\u001b[0m                                 Traceback (most recent call last)",
      "Cell \u001b[1;32mIn[19], line 5\u001b[0m\n\u001b[0;32m      3\u001b[0m     \u001b[38;5;28mprint\u001b[39m(\u001b[38;5;124m'\u001b[39m\u001b[38;5;124m함수 안 :\u001b[39m\u001b[38;5;124m'\u001b[39m, local_var)\n\u001b[0;32m      4\u001b[0m func2()\n\u001b[1;32m----> 5\u001b[0m \u001b[38;5;28mprint\u001b[39m(\u001b[38;5;124m'\u001b[39m\u001b[38;5;124m함수 밖 :\u001b[39m\u001b[38;5;124m'\u001b[39m, \u001b[43mlocal_var\u001b[49m)\n",
      "\u001b[1;31mNameError\u001b[0m: name 'local_var' is not defined"
     ]
    }
   ],
   "source": [
    "def func2():\n",
    "    local_var = 200 # 지역변수\n",
    "    print('함수 안 :', local_var)\n",
    "func2()\n",
    "print('함수 밖 :', local_var)"
   ]
  },
  {
   "cell_type": "code",
   "execution_count": 22,
   "id": "28f482f7",
   "metadata": {},
   "outputs": [
    {
     "name": "stdout",
     "output_type": "stream",
     "text": [
      "함수 안(지역변수 g_var) : 200\n",
      "함수 밖(전역변수 g_var) : 100\n"
     ]
    }
   ],
   "source": [
    "g_var = 100 #전역변수\n",
    "def func3():\n",
    "    g_var = 200 #지역변수(변수선언과 할당)\n",
    "    print('함수 안(지역변수 g_var) :', g_var)\n",
    "func3()\n",
    "print('함수 밖(전역변수 g_var) :', g_var)"
   ]
  },
  {
   "cell_type": "code",
   "execution_count": 23,
   "id": "d3b2030f",
   "metadata": {},
   "outputs": [
    {
     "ename": "UnboundLocalError",
     "evalue": "local variable 'g_var' referenced before assignment",
     "output_type": "error",
     "traceback": [
      "\u001b[1;31m---------------------------------------------------------------------------\u001b[0m",
      "\u001b[1;31mUnboundLocalError\u001b[0m                         Traceback (most recent call last)",
      "Cell \u001b[1;32mIn[23], line 5\u001b[0m\n\u001b[0;32m      3\u001b[0m     \u001b[38;5;28mprint\u001b[39m(\u001b[38;5;124m'\u001b[39m\u001b[38;5;124m함수 안 g_var :\u001b[39m\u001b[38;5;124m'\u001b[39m, g_var)\n\u001b[0;32m      4\u001b[0m     g_var \u001b[38;5;241m=\u001b[39m \u001b[38;5;241m200\u001b[39m\n\u001b[1;32m----> 5\u001b[0m \u001b[43mfunc4\u001b[49m\u001b[43m(\u001b[49m\u001b[43m)\u001b[49m\n",
      "Cell \u001b[1;32mIn[23], line 3\u001b[0m, in \u001b[0;36mfunc4\u001b[1;34m()\u001b[0m\n\u001b[0;32m      2\u001b[0m \u001b[38;5;28;01mdef\u001b[39;00m \u001b[38;5;21mfunc4\u001b[39m():\n\u001b[1;32m----> 3\u001b[0m     \u001b[38;5;28mprint\u001b[39m(\u001b[38;5;124m'\u001b[39m\u001b[38;5;124m함수 안 g_var :\u001b[39m\u001b[38;5;124m'\u001b[39m, \u001b[43mg_var\u001b[49m)\n\u001b[0;32m      4\u001b[0m     g_var \u001b[38;5;241m=\u001b[39m \u001b[38;5;241m200\u001b[39m\n",
      "\u001b[1;31mUnboundLocalError\u001b[0m: local variable 'g_var' referenced before assignment"
     ]
    }
   ],
   "source": [
    "# 렉시컬 특성\n",
    "g_var = 100 #전역변수\n",
    "def func4():\n",
    "    print('함수 안 g_var :', g_var)\n",
    "    g_var = 200 #지역변수\n",
    "func4()"
   ]
  },
  {
   "cell_type": "code",
   "execution_count": 24,
   "id": "4868c457",
   "metadata": {},
   "outputs": [
    {
     "name": "stdout",
     "output_type": "stream",
     "text": [
      "함수 안 g_var : 100\n",
      "함수밖 g_var : 200\n"
     ]
    }
   ],
   "source": [
    "# 지역변수를 전역변수처럼 사용하고 싶을때\n",
    "g_var = 100 #전역변수\n",
    "def func4():\n",
    "    global g_var #func4함수내의 g_var는 전역변수를 쓴다.\n",
    "    print('함수 안 g_var :', g_var)\n",
    "    g_var = 200 #지역변수\n",
    "func4()\n",
    "print('함수밖 g_var :', g_var)"
   ]
  },
  {
   "cell_type": "markdown",
   "id": "8c251976",
   "metadata": {},
   "source": [
    "## 1.4 값에 의한 호출\n",
    "- 함수의 매개변수(인수)로 전달되는 변수가 스칼라 변수(문자, 숫자, 논리형)일 때\n",
    "- 복사본을 줘서 함수에 보냄"
   ]
  },
  {
   "cell_type": "code",
   "execution_count": 25,
   "id": "5bc5e2e8",
   "metadata": {},
   "outputs": [
    {
     "data": {
      "text/plain": [
       "2029137454896"
      ]
     },
     "execution_count": 25,
     "metadata": {},
     "output_type": "execute_result"
    }
   ],
   "source": [
    "foo = 'a' #전역변수 foo에 문자열 'a' 저장\n",
    "id(foo)   #id함수 : 어떤 변수(또는 객체)가 메모리상 어디에 저장되어있는지를 알려주는 함수\n",
    "          #foo의 메모리 주소 출력"
   ]
  },
  {
   "cell_type": "code",
   "execution_count": 31,
   "id": "e85f2849",
   "metadata": {},
   "outputs": [
    {
     "name": "stdout",
     "output_type": "stream",
     "text": [
      "Before: a id(f) 2029137454896\n",
      "After: aaa id(f) 2029257682992\n"
     ]
    }
   ],
   "source": [
    "def func1(f): #매개변수 f는 지역변수, foo를 f라는 이름으로 함수에 전달\n",
    "    print('Before:', f , 'id(f):', id(f))\n",
    "    f=f*3\n",
    "    print('After:', f , 'id(f)':, id(f))\n",
    "func1(foo) #함수호출(foo의 값을 f에 전달)"
   ]
  },
  {
   "cell_type": "code",
   "execution_count": 32,
   "id": "b0868baa",
   "metadata": {},
   "outputs": [
    {
     "name": "stdout",
     "output_type": "stream",
     "text": [
      "a 2029137454896\n"
     ]
    }
   ],
   "source": [
    "print(foo, id(foo))"
   ]
  },
  {
   "cell_type": "markdown",
   "id": "6876946e",
   "metadata": {},
   "source": [
    "## 1.5 참조에 의한 호출(주소에 의한 호출)\n",
    "- 함수의 매개변수(인자)로 전달되는 변수가 리스트, 튜플, 셋, 딕셔너리 등의 객체일 경우\n",
    "- 원본 주소(실물)을 줌"
   ]
  },
  {
   "cell_type": "code",
   "execution_count": 28,
   "id": "95e79d77",
   "metadata": {},
   "outputs": [
    {
     "data": {
      "text/plain": [
       "2029257579840"
      ]
     },
     "execution_count": 28,
     "metadata": {},
     "output_type": "execute_result"
    }
   ],
   "source": [
    "L=[1,2,3]\n",
    "id(L)"
   ]
  },
  {
   "cell_type": "code",
   "execution_count": 33,
   "id": "fb8a9013",
   "metadata": {},
   "outputs": [
    {
     "name": "stdout",
     "output_type": "stream",
     "text": [
      "Before : [1, 2, 3, 4] 2029257579840\n",
      "After : [1, 2, 3, 4, 4] 2029257579840\n"
     ]
    }
   ],
   "source": [
    "def func2(f): # 매개변수는 지역변수\n",
    "    print('Before :', f, id(f))\n",
    "    f.append(4)\n",
    "    print('After :', f, id(f))\n",
    "func2(L)"
   ]
  },
  {
   "cell_type": "code",
   "execution_count": 34,
   "id": "ccb018ea",
   "metadata": {},
   "outputs": [
    {
     "name": "stdout",
     "output_type": "stream",
     "text": [
      "L = [1, 2, 3, 4, 4] 2029257579840\n"
     ]
    }
   ],
   "source": [
    "print('L =', L, id(L))"
   ]
  },
  {
   "cell_type": "markdown",
   "id": "46372b27",
   "metadata": {},
   "source": [
    "# 2절. 함수의 실행결과를 반환하는 return\n",
    "- 함수가 실행을 끝내고 결과를 밖으로 돌려주는 문장을 뜻함."
   ]
  },
  {
   "cell_type": "code",
   "execution_count": 169,
   "id": "c10df3ad",
   "metadata": {},
   "outputs": [
    {
     "name": "stdout",
     "output_type": "stream",
     "text": [
      "8\n"
     ]
    }
   ],
   "source": [
    "def adf(a, b):         #함수를 정의함 adf는 (a,b)\n",
    "    return a + b\n",
    "result = adf(3, 5)     #변수선언\n",
    "print(result)"
   ]
  },
  {
   "cell_type": "code",
   "execution_count": 51,
   "id": "eb36040f",
   "metadata": {},
   "outputs": [],
   "source": [
    "def fibonacci_print(n):\n",
    "    '''\n",
    "    매개변수로 들어온 n값 미만의 피보나치 수열을 출력\n",
    "    ex. n=10이면 0 1 1 2 3 5 8을 출력\n",
    "    '''\n",
    "    a, b = 0, 1\n",
    "    while a < n:\n",
    "        print(a, end=' ')\n",
    "        a, b = b, a+b\n",
    "    print() #개행\n",
    "\n",
    "def fibonacci_return(n):\n",
    "    '''\n",
    "    매개변수로 들어온 n값 미만의 피보나치 수열을 리스트로 return\n",
    "    ex. n=10이면 [0 1 1 2 3 5 8]을 return\n",
    "    '''\n",
    "    result = []\n",
    "    a, b = 0, 1\n",
    "    while a < n:\n",
    "        result.append(a)\n",
    "        a, b = b, a+b\n",
    "    return result"
   ]
  },
  {
   "cell_type": "code",
   "execution_count": 50,
   "id": "68cd4ca1",
   "metadata": {},
   "outputs": [
    {
     "name": "stdout",
     "output_type": "stream",
     "text": [
      "0 1 1 2 3 5 8 13 21 34 55 89 \n",
      "None\n"
     ]
    }
   ],
   "source": [
    "x = fibonacci_print(100)\n",
    "print(x)"
   ]
  },
  {
   "cell_type": "code",
   "execution_count": 52,
   "id": "bbaa1c45",
   "metadata": {},
   "outputs": [
    {
     "name": "stdout",
     "output_type": "stream",
     "text": [
      "[0, 1, 1, 2, 3, 5, 8, 13, 21, 34, 55, 89]\n",
      "<class 'list'>\n"
     ]
    }
   ],
   "source": [
    "x = fibonacci_return(100)\n",
    "print(x)\n",
    "print(type(x))"
   ]
  },
  {
   "cell_type": "markdown",
   "id": "eb99b153",
   "metadata": {},
   "source": [
    "## 여러개 값을 return"
   ]
  },
  {
   "cell_type": "code",
   "execution_count": 53,
   "id": "c262ac91",
   "metadata": {},
   "outputs": [],
   "source": [
    "def swap(a, b):\n",
    "    '매개변수의 순서를 바꿔서 return'\n",
    "    return b, a"
   ]
  },
  {
   "cell_type": "code",
   "execution_count": 54,
   "id": "982ae0b3",
   "metadata": {},
   "outputs": [],
   "source": [
    "a, b = 10, 11"
   ]
  },
  {
   "cell_type": "code",
   "execution_count": 58,
   "id": "b2818b75",
   "metadata": {},
   "outputs": [
    {
     "name": "stdout",
     "output_type": "stream",
     "text": [
      "함수 실행 전 : x=5 y=10\n",
      "함수 실행 후 : x=10 y=5\n"
     ]
    }
   ],
   "source": [
    "x, y = 5, 10\n",
    "print(f'함수 실행 전 : x={x} y={y}')\n",
    "x, y = swap(x, y)\n",
    "print(f'함수 실행 후 : x={x} y={y}')"
   ]
  },
  {
   "cell_type": "markdown",
   "id": "d655707c",
   "metadata": {},
   "source": [
    "# 3절.  함수의 매개변수 ★\n",
    "- 함수를 정의할 때 인자를 여러개 받을 수 있는 방법"
   ]
  },
  {
   "cell_type": "markdown",
   "id": "0596cd08",
   "metadata": {},
   "source": [
    "## 3.1 기본값을 갖는 매개변수"
   ]
  },
  {
   "cell_type": "code",
   "execution_count": 66,
   "id": "13141eb6",
   "metadata": {},
   "outputs": [],
   "source": [
    "def make_url(ip, port=80):   #순서인수가 앞에 와야하며, 기본값은 갖는 매개변수가 뒤에 와야한다.\n",
    "    return \"http://{}:{}\".format(ip, port)"
   ]
  },
  {
   "cell_type": "code",
   "execution_count": 68,
   "id": "d2282aa4",
   "metadata": {},
   "outputs": [
    {
     "name": "stdout",
     "output_type": "stream",
     "text": [
      "http://www.naver.com:80\n",
      "http://localhost:8090\n",
      "http://localhost:8090\n"
     ]
    }
   ],
   "source": [
    "print(make_url('www.naver.com'))\n",
    "print(make_url('localhost', 8090))\n",
    "print(make_url(port=8090, ip='localhost'))"
   ]
  },
  {
   "cell_type": "markdown",
   "id": "89a7e24b",
   "metadata": {},
   "source": [
    "## 3.2 기본변수를 갖는 매개변수\n",
    "- 기본변수가 스칼라 변수일 때\n",
    "- 기본변수가 리스트, 셋, 딕셔너리 등의 객체일 때"
   ]
  },
  {
   "cell_type": "code",
   "execution_count": 72,
   "id": "f1e17081",
   "metadata": {},
   "outputs": [],
   "source": [
    "i = 5\n",
    "# 기본값을 갖는 변수가 스칼라 변수일 때 : arg의 기본값은 함수가 정의되는 시점의 값\n",
    "def func2(arg=i):\n",
    "    print('arg=',arg)"
   ]
  },
  {
   "cell_type": "code",
   "execution_count": 74,
   "id": "971a2992",
   "metadata": {},
   "outputs": [
    {
     "name": "stdout",
     "output_type": "stream",
     "text": [
      "arg= 5\n"
     ]
    }
   ],
   "source": [
    "i=50\n",
    "func2()"
   ]
  },
  {
   "cell_type": "code",
   "execution_count": 76,
   "id": "5b05a9b0",
   "metadata": {},
   "outputs": [],
   "source": [
    "list_ = []\n",
    "# 기본값을 갖는 변수가 객체(데이터구조)일 때 : arg의 기본값은 함수가 정의되는 시점의 값\n",
    "def func3(data, L=list_):\n",
    "    'data를 L에 append'\n",
    "    L.append(data)\n",
    "    return L"
   ]
  },
  {
   "cell_type": "code",
   "execution_count": 84,
   "id": "2b49f0c5",
   "metadata": {},
   "outputs": [
    {
     "name": "stdout",
     "output_type": "stream",
     "text": [
      "[10, 10, 10, 10, 10, 10, 10, 10]\n"
     ]
    }
   ],
   "source": [
    "print(func3(10)) #list_가 수정 : [10]"
   ]
  },
  {
   "cell_type": "code",
   "execution_count": 85,
   "id": "f2e9bb78",
   "metadata": {},
   "outputs": [
    {
     "data": {
      "text/plain": [
       "[10, 10, 10, 10, 10, 10, 10, 10]"
      ]
     },
     "execution_count": 85,
     "metadata": {},
     "output_type": "execute_result"
    }
   ],
   "source": [
    "list_"
   ]
  },
  {
   "cell_type": "code",
   "execution_count": 86,
   "id": "c27fddd8",
   "metadata": {},
   "outputs": [
    {
     "name": "stdout",
     "output_type": "stream",
     "text": [
      "[10, 10, 10, 10, 10, 10, 10, 10, 20]\n"
     ]
    }
   ],
   "source": [
    "print(func3(20, list_))"
   ]
  },
  {
   "cell_type": "code",
   "execution_count": 87,
   "id": "3061ce85",
   "metadata": {},
   "outputs": [
    {
     "data": {
      "text/plain": [
       "[10, 10, 10, 10, 10, 10, 10, 10, 20]"
      ]
     },
     "execution_count": 87,
     "metadata": {},
     "output_type": "execute_result"
    }
   ],
   "source": [
    "list_"
   ]
  },
  {
   "cell_type": "code",
   "execution_count": 90,
   "id": "a2c829b9",
   "metadata": {},
   "outputs": [],
   "source": [
    "def func4(data, L=None):\n",
    "    if L==None:\n",
    "        L = []\n",
    "    L.append(data)\n",
    "    return L"
   ]
  },
  {
   "cell_type": "code",
   "execution_count": 91,
   "id": "c40372a0",
   "metadata": {},
   "outputs": [
    {
     "name": "stdout",
     "output_type": "stream",
     "text": [
      "[10]\n",
      "[10, 10, 10, 10, 10, 10, 10, 10, 20, 10]\n"
     ]
    }
   ],
   "source": [
    "print(func4(10))\n",
    "print(func4(10, list_))"
   ]
  },
  {
   "cell_type": "markdown",
   "id": "b08aacfb",
   "metadata": {},
   "source": [
    "## 3.3 튜플 매개변수를 이용한 가변인수 설정"
   ]
  },
  {
   "cell_type": "code",
   "execution_count": 92,
   "id": "fe93e8ee",
   "metadata": {},
   "outputs": [],
   "source": [
    "#파이썬은 오버로딩(함수의 중복)을 지원하지 않는다.\n",
    "def add(a, b):\n",
    "    return a+b\n",
    "def add(a, b, c):\n",
    "    return a+b+c"
   ]
  },
  {
   "cell_type": "code",
   "execution_count": 93,
   "id": "33da1ff5",
   "metadata": {},
   "outputs": [
    {
     "ename": "TypeError",
     "evalue": "add() takes 3 positional arguments but 4 were given",
     "output_type": "error",
     "traceback": [
      "\u001b[1;31m---------------------------------------------------------------------------\u001b[0m",
      "\u001b[1;31mTypeError\u001b[0m                                 Traceback (most recent call last)",
      "Cell \u001b[1;32mIn[93], line 1\u001b[0m\n\u001b[1;32m----> 1\u001b[0m \u001b[43madd\u001b[49m\u001b[43m(\u001b[49m\u001b[38;5;241;43m1\u001b[39;49m\u001b[43m,\u001b[49m\u001b[38;5;241;43m2\u001b[39;49m\u001b[43m,\u001b[49m\u001b[38;5;241;43m3\u001b[39;49m\u001b[43m,\u001b[49m\u001b[38;5;241;43m4\u001b[39;49m\u001b[43m)\u001b[49m\n",
      "\u001b[1;31mTypeError\u001b[0m: add() takes 3 positional arguments but 4 were given"
     ]
    }
   ],
   "source": [
    "add(1,2,3,4)"
   ]
  },
  {
   "cell_type": "code",
   "execution_count": 101,
   "id": "11baa461",
   "metadata": {},
   "outputs": [],
   "source": [
    "# *args: 튜플 매개변수라는 뜻으로, 매개변수를 튜플로 묶어서 받는 문법(함수에 인자를 몇개 넣을지 모를 때 유용함.)\n",
    "# '*'가 핵심임 그 뒤에 단어를 아무거나 해도 상관없음.\n",
    "def add(*args):\n",
    "    '전달받은 매개변수들의 합은 return'\n",
    "    # print('args = ',args)\n",
    "    result_tot = 0 #누적변수\n",
    "    for data in args:\n",
    "        result_tot += data\n",
    "    return result_tot"
   ]
  },
  {
   "cell_type": "code",
   "execution_count": 102,
   "id": "079cc4a4",
   "metadata": {},
   "outputs": [
    {
     "name": "stdout",
     "output_type": "stream",
     "text": [
      "1\n",
      "3\n",
      "6\n",
      "21\n"
     ]
    }
   ],
   "source": [
    "print(add(1))\n",
    "print(add(1,2))\n",
    "print(add(1,2,3))\n",
    "print(add(1,2,3,4,5,6))"
   ]
  },
  {
   "cell_type": "code",
   "execution_count": 104,
   "id": "e62b9184",
   "metadata": {},
   "outputs": [
    {
     "data": {
      "text/plain": [
       "'Python/Oracle/DL/ML'"
      ]
     },
     "execution_count": 104,
     "metadata": {},
     "output_type": "execute_result"
    }
   ],
   "source": [
    "subject=('Python','Oracle','DL','ML')\n",
    "'/'.join(subject)"
   ]
  },
  {
   "cell_type": "code",
   "execution_count": 106,
   "id": "f775e855",
   "metadata": {},
   "outputs": [],
   "source": [
    "def concat(*subject, sep):\n",
    "    return sep.join(subject)"
   ]
  },
  {
   "cell_type": "code",
   "execution_count": 108,
   "id": "549251a0",
   "metadata": {},
   "outputs": [
    {
     "ename": "TypeError",
     "evalue": "concat() missing 1 required keyword-only argument: 'sep'",
     "output_type": "error",
     "traceback": [
      "\u001b[1;31m---------------------------------------------------------------------------\u001b[0m",
      "\u001b[1;31mTypeError\u001b[0m                                 Traceback (most recent call last)",
      "Cell \u001b[1;32mIn[108], line 1\u001b[0m\n\u001b[1;32m----> 1\u001b[0m \u001b[43mconcat\u001b[49m\u001b[43m(\u001b[49m\u001b[38;5;124;43m'\u001b[39;49m\u001b[38;5;124;43mPython\u001b[39;49m\u001b[38;5;124;43m'\u001b[39;49m\u001b[43m,\u001b[49m\u001b[43m \u001b[49m\u001b[38;5;124;43m'\u001b[39;49m\u001b[38;5;124;43mOracle\u001b[39;49m\u001b[38;5;124;43m'\u001b[39;49m\u001b[43m,\u001b[49m\u001b[43m \u001b[49m\u001b[38;5;124;43m'\u001b[39;49m\u001b[38;5;124;43mDL\u001b[39;49m\u001b[38;5;124;43m'\u001b[39;49m\u001b[43m,\u001b[49m\u001b[43m \u001b[49m\u001b[38;5;124;43m'\u001b[39;49m\u001b[38;5;124;43mML\u001b[39;49m\u001b[38;5;124;43m'\u001b[39;49m\u001b[43m,\u001b[49m\u001b[43m \u001b[49m\u001b[38;5;124;43m'\u001b[39;49m\u001b[38;5;124;43m/\u001b[39;49m\u001b[38;5;124;43m'\u001b[39;49m\u001b[43m)\u001b[49m\n",
      "\u001b[1;31mTypeError\u001b[0m: concat() missing 1 required keyword-only argument: 'sep'"
     ]
    }
   ],
   "source": [
    "concat('Python', 'Oracle', 'DL', 'ML', '/')"
   ]
  },
  {
   "cell_type": "code",
   "execution_count": 112,
   "id": "415be694",
   "metadata": {},
   "outputs": [
    {
     "data": {
      "text/plain": [
       "'Python/Oracle/DL/ML'"
      ]
     },
     "execution_count": 112,
     "metadata": {},
     "output_type": "execute_result"
    }
   ],
   "source": [
    "# 해결책 1 : 매개변수 이름을 지정해서 호출(강사님 기준 가장 비추천하는 방식)\n",
    "concat('Python', 'Oracle', 'DL', 'ML', sep='/')"
   ]
  },
  {
   "cell_type": "code",
   "execution_count": 116,
   "id": "4862a117",
   "metadata": {},
   "outputs": [],
   "source": [
    "#해결책 2 : 기본값을 반드시 갖는 키워드인수 사용\n",
    "def concat(*subject, sep=' ~ '):\n",
    "    return sep.join(subject)"
   ]
  },
  {
   "cell_type": "code",
   "execution_count": 118,
   "id": "b4f9cd42",
   "metadata": {},
   "outputs": [
    {
     "data": {
      "text/plain": [
       "'Python/Oracle/DL/ML'"
      ]
     },
     "execution_count": 118,
     "metadata": {},
     "output_type": "execute_result"
    }
   ],
   "source": [
    "concat('Python', 'Oracle', 'DL', 'ML', sep='/')"
   ]
  },
  {
   "cell_type": "code",
   "execution_count": 119,
   "id": "d299b8db",
   "metadata": {},
   "outputs": [
    {
     "name": "stdout",
     "output_type": "stream",
     "text": [
      "Python/Oracle/DL/ML\n"
     ]
    }
   ],
   "source": [
    "print('Python', 'Oracle', 'DL', 'ML', sep='/')"
   ]
  },
  {
   "cell_type": "code",
   "execution_count": 123,
   "id": "f5a9e71e",
   "metadata": {},
   "outputs": [],
   "source": [
    "#해결책 3 : sep을 순서인수로 앞에 선언\n",
    "#(가장 추천하는 방식, 사실상 이게 가장 깔끔한 해결책이라고 할 수 있다.)\n",
    "def concat(sep, *subject):\n",
    "    return sep.join(subject)"
   ]
  },
  {
   "cell_type": "code",
   "execution_count": 124,
   "id": "503347c3",
   "metadata": {},
   "outputs": [
    {
     "data": {
      "text/plain": [
       "'Python/Oracle/DL'"
      ]
     },
     "execution_count": 124,
     "metadata": {},
     "output_type": "execute_result"
    }
   ],
   "source": [
    "concat('/','Python','Oracle','DL')"
   ]
  },
  {
   "cell_type": "markdown",
   "id": "921831fd",
   "metadata": {},
   "source": [
    "## 3.4 딕셔너리 매개변수\n",
    "- 여러 개의 키워드 인수를 딕셔너리 형태로 받아서 가변키워드 인수처리"
   ]
  },
  {
   "cell_type": "code",
   "execution_count": 127,
   "id": "36b22f6d",
   "metadata": {},
   "outputs": [],
   "source": [
    "def func5(**kwargs):\n",
    "    print(kwargs)\n",
    "    print(type(kwargs))\n",
    "    print('이름 :', kwargs.get('name', '대마왕'))\n",
    "    print('나이 :', kwargs.get('age', '30'))\n",
    "    print('주소 :', kwargs.get('address', '서울'))"
   ]
  },
  {
   "cell_type": "code",
   "execution_count": 128,
   "id": "2a2b80eb",
   "metadata": {},
   "outputs": [
    {
     "name": "stdout",
     "output_type": "stream",
     "text": [
      "{'name': '홍길동', 'age': '30', 'address': '신림동'}\n",
      "<class 'dict'>\n",
      "이름 : 홍길동\n",
      "나이 : 30\n",
      "주소 : 신림동\n"
     ]
    }
   ],
   "source": [
    "func5(name='홍길동', age='30', address='신림동')"
   ]
  },
  {
   "cell_type": "code",
   "execution_count": 129,
   "id": "382e5a04",
   "metadata": {},
   "outputs": [
    {
     "name": "stdout",
     "output_type": "stream",
     "text": [
      "{'name': '김길동'}\n",
      "<class 'dict'>\n",
      "이름 : 김길동\n",
      "나이 : 30\n",
      "주소 : 서울\n"
     ]
    }
   ],
   "source": [
    "func5(name='김길동')"
   ]
  },
  {
   "cell_type": "markdown",
   "id": "33ff41c8",
   "metadata": {},
   "source": [
    "## 3.5 함수정의시 매개변수 순서\n",
    "- 순서인수 > 튜플매개변수(*) > 키워드인수(매개변수이름반드시명시) > 딕셔너리매개변수(**)"
   ]
  },
  {
   "cell_type": "code",
   "execution_count": 130,
   "id": "fe3cb29f",
   "metadata": {},
   "outputs": [],
   "source": [
    "def func6(a, b, *c, **d):            #순서가 중요함, 순서가 틀릴 시 오류가 발생할 수 있음.\n",
    "#        ↑순서  ↑튜플 ↑딕셔너리\n",
    "    print('순서인수 a :', a)\n",
    "    print('순서인수 b :', b)\n",
    "    print('튜플인수 c :', c)\n",
    "    print('딕셔너리 인수 d :', d)"
   ]
  },
  {
   "cell_type": "code",
   "execution_count": 131,
   "id": "e7997f4f",
   "metadata": {},
   "outputs": [
    {
     "name": "stdout",
     "output_type": "stream",
     "text": [
      "순서인수 a : 10\n",
      "순서인수 b : 20\n",
      "튜플인수 c : (1, 2, 3, 4, 5, 6, 7, 8, 9)\n",
      "딕셔너리 인수 d : {'name': '홍길동', 'age': 30, 'address': '서울'}\n"
     ]
    }
   ],
   "source": [
    "func6(10, 20, 1, 2, 3, 4, 5, 6, 7, 8, 9, name='홍길동', age=30, address='서울')"
   ]
  },
  {
   "cell_type": "code",
   "execution_count": 134,
   "id": "9ff0eccb",
   "metadata": {},
   "outputs": [],
   "source": [
    "def func7(a, b, *c, d='기본값', **e) :\n",
    "    print('순서인수 a :', a)\n",
    "    print('순서인수 b :', b)\n",
    "    print('튜플인수 c :', c)\n",
    "    print('키워드인수(기본값을 갖는 인수, 호출시 매개변수명 반드시 명시) d :', d)\n",
    "    print('딕셔너리인수 e :', e)"
   ]
  },
  {
   "cell_type": "code",
   "execution_count": 135,
   "id": "8a0c3067",
   "metadata": {},
   "outputs": [
    {
     "name": "stdout",
     "output_type": "stream",
     "text": [
      "순서인수 a : 10\n",
      "순서인수 b : 20\n",
      "튜플인수 c : (1, 2, 3)\n",
      "키워드인수(기본값을 갖는 인수, 호출시 매개변수명 반드시 명시) d : 딴거\n",
      "딕셔너리인수 e : {'fontsize': 12, 'fontfamily': 'consola'}\n"
     ]
    }
   ],
   "source": [
    "func7(10, 20, 1, 2, 3, d='딴거', fontsize=12, fontfamily='consola')"
   ]
  },
  {
   "cell_type": "code",
   "execution_count": 136,
   "id": "f96cf82b",
   "metadata": {},
   "outputs": [
    {
     "name": "stdout",
     "output_type": "stream",
     "text": [
      "순서인수 a : 10\n",
      "순서인수 b : 20\n",
      "튜플인수 c : (1, 2, 3, '딴거')\n",
      "키워드인수(기본값을 갖는 인수, 호출시 매개변수명 반드시 명시) d : 기본값\n",
      "딕셔너리인수 e : {'fontsize': 12, 'fontfamily': 'consola'}\n"
     ]
    }
   ],
   "source": [
    "func7(10, 20, 1, 2, 3, '딴거', fontsize=12, fontfamily='consola')"
   ]
  },
  {
   "cell_type": "markdown",
   "id": "fd3374f4",
   "metadata": {},
   "source": [
    "## 3.6 인수(매개변수)의 언패킹\n",
    "### 튜플인수 언패킹\n",
    "- 언패킹 : 함수 호출 시 매개변수 앞에 *붙임\n",
    "- 패킹 : 함수 정의 시 매개변수 앞에 *붙임(튜플매개변수)"
   ]
  },
  {
   "cell_type": "code",
   "execution_count": 142,
   "id": "022b5d6b",
   "metadata": {},
   "outputs": [],
   "source": [
    "def add(*args) :\n",
    "    print(args)\n",
    "    tot = 0\n",
    "    for num in args:\n",
    "        tot += num\n",
    "    return tot"
   ]
  },
  {
   "cell_type": "code",
   "execution_count": 143,
   "id": "8443acbd",
   "metadata": {},
   "outputs": [
    {
     "name": "stdout",
     "output_type": "stream",
     "text": [
      "(1, 2, 3, 4)\n"
     ]
    },
    {
     "data": {
      "text/plain": [
       "10"
      ]
     },
     "execution_count": 143,
     "metadata": {},
     "output_type": "execute_result"
    }
   ],
   "source": [
    "add(1, 2, 3, 4,)"
   ]
  },
  {
   "cell_type": "code",
   "execution_count": 144,
   "id": "9f807d7d",
   "metadata": {},
   "outputs": [
    {
     "name": "stdout",
     "output_type": "stream",
     "text": [
      "(1, 2, 3, 4)\n"
     ]
    },
    {
     "data": {
      "text/plain": [
       "10"
      ]
     },
     "execution_count": 144,
     "metadata": {},
     "output_type": "execute_result"
    }
   ],
   "source": [
    "numbers = [1, 2, 3, 4]\n",
    "add(*numbers) # 언패킹"
   ]
  },
  {
   "cell_type": "code",
   "execution_count": 145,
   "id": "4d856b1a",
   "metadata": {},
   "outputs": [
    {
     "name": "stdout",
     "output_type": "stream",
     "text": [
      "(1, 2, 3, 4)\n"
     ]
    },
    {
     "data": {
      "text/plain": [
       "10"
      ]
     },
     "execution_count": 145,
     "metadata": {},
     "output_type": "execute_result"
    }
   ],
   "source": [
    "numbers=(1,2,3,4)\n",
    "add(*numbers) #언패킹"
   ]
  },
  {
   "cell_type": "markdown",
   "id": "2ce03708",
   "metadata": {},
   "source": [
    "### 딕셔너리인수 언패킹\n",
    "- 언패킹 : 함수 호출 시 매개변수 앞에 ** 붙임\n",
    "- 패킹 : 함수 정의 시 매개변수 앞에 ** 붙임(딕셔너리 매개변수)"
   ]
  },
  {
   "cell_type": "code",
   "execution_count": 147,
   "id": "41595ed6",
   "metadata": {},
   "outputs": [],
   "source": [
    "def func5(**data):\n",
    "    print(type(data))\n",
    "    for key, item in data.items():\n",
    "        print(f'{key}:{item}')"
   ]
  },
  {
   "cell_type": "code",
   "execution_count": 148,
   "id": "49a77348",
   "metadata": {},
   "outputs": [
    {
     "name": "stdout",
     "output_type": "stream",
     "text": [
      "<class 'dict'>\n",
      "name:홍길동\n",
      "age:30\n",
      "address:신림\n"
     ]
    }
   ],
   "source": [
    "func5(name='홍길동', age=30, address='신림')"
   ]
  },
  {
   "cell_type": "code",
   "execution_count": 150,
   "id": "f758df71",
   "metadata": {},
   "outputs": [
    {
     "name": "stdout",
     "output_type": "stream",
     "text": [
      "<class 'dict'>\n",
      "name:홍길동\n",
      "age:30\n",
      "address:서울시 강남구\n",
      "score:900\n"
     ]
    }
   ],
   "source": [
    "customInfo = {'name':'홍길동', 'age':30, 'address':'서울시 강남구', 'score':900}\n",
    "func5(**customInfo)"
   ]
  },
  {
   "cell_type": "markdown",
   "id": "1fb25677",
   "metadata": {},
   "source": [
    "# 4절. 람다식\n",
    "- return 한줄짜리 작은 익명함수\n",
    "- 간단한 계산을 짧게 쓰는 함수"
   ]
  },
  {
   "cell_type": "markdown",
   "id": "a7225ac2",
   "metadata": {},
   "source": [
    "## 4.1 람다식 연습"
   ]
  },
  {
   "cell_type": "code",
   "execution_count": 152,
   "id": "78642795",
   "metadata": {},
   "outputs": [],
   "source": [
    "#문법구조\n",
    "# lambda 매개변수 : 결과식"
   ]
  },
  {
   "cell_type": "code",
   "execution_count": 153,
   "id": "7810a76e",
   "metadata": {},
   "outputs": [
    {
     "data": {
      "text/plain": [
       "7"
      ]
     },
     "execution_count": 153,
     "metadata": {},
     "output_type": "execute_result"
    }
   ],
   "source": [
    "#예시\n",
    "#일반함수\n",
    "def add(x, y):\n",
    "    return x+y\n",
    "add(3, 4)"
   ]
  },
  {
   "cell_type": "code",
   "execution_count": 156,
   "id": "a46af635",
   "metadata": {},
   "outputs": [
    {
     "data": {
      "text/plain": [
       "7"
      ]
     },
     "execution_count": 156,
     "metadata": {},
     "output_type": "execute_result"
    }
   ],
   "source": [
    "#람다식\n",
    "#모든함수를 람다식으로 바꿀 수 없으며 return이 포함되어 있어야 함.\n",
    "add2 = lambda a,b : a+b\n",
    "add2(3, 4)"
   ]
  },
  {
   "cell_type": "code",
   "execution_count": 157,
   "id": "1fab538b",
   "metadata": {},
   "outputs": [
    {
     "data": {
      "text/plain": [
       "(function, function)"
      ]
     },
     "execution_count": 157,
     "metadata": {},
     "output_type": "execute_result"
    }
   ],
   "source": [
    "type(add), type(add2)"
   ]
  },
  {
   "cell_type": "code",
   "execution_count": 158,
   "id": "ba320540",
   "metadata": {},
   "outputs": [
    {
     "data": {
      "text/plain": [
       "7"
      ]
     },
     "execution_count": 158,
     "metadata": {},
     "output_type": "execute_result"
    }
   ],
   "source": [
    "(lambda a, b : a+b)(3, 4)"
   ]
  },
  {
   "cell_type": "code",
   "execution_count": 163,
   "id": "00bb9bfb",
   "metadata": {},
   "outputs": [
    {
     "data": {
      "text/plain": [
       "('짝수', '홀수')"
      ]
     },
     "execution_count": 163,
     "metadata": {},
     "output_type": "execute_result"
    }
   ],
   "source": [
    "# ex1. 매개변수로 들어온 값이 짝수인지 홀수인지 return\n",
    "#람다식 만드는 요령 1 일단 함수를 하나 만든다\n",
    "def ex1(num):\n",
    "    if num%2:\n",
    "        result=\"홀수\"\n",
    "    else:\n",
    "        result=\"짝수\"\n",
    "    result = \"홀수\" if num%2 else \"짝수\"\n",
    "    return result\n",
    "ex1(2), ex1(-9)"
   ]
  },
  {
   "cell_type": "code",
   "execution_count": 159,
   "id": "d1ac271e",
   "metadata": {},
   "outputs": [
    {
     "data": {
      "text/plain": [
       "('짝수', '홀수')"
      ]
     },
     "execution_count": 159,
     "metadata": {},
     "output_type": "execute_result"
    }
   ],
   "source": [
    "ex1 = lambda num : \"홀수\" if num%2 else \"짝수\"\n",
    "ex1(10), ex1(-9)"
   ]
  },
  {
   "cell_type": "code",
   "execution_count": 172,
   "id": "f235254a",
   "metadata": {},
   "outputs": [
    {
     "data": {
      "text/plain": [
       "(1, 10)"
      ]
     },
     "execution_count": 172,
     "metadata": {},
     "output_type": "execute_result"
    }
   ],
   "source": [
    "# ex2. 두 매개변수의 차이를 return\n",
    "def diff(a,b):\n",
    "    if a>b:\n",
    "        result = a-b\n",
    "    else:\n",
    "        result = b-a\n",
    "    return result\n",
    "diff(2, 1), diff(10, 20)    \n",
    "#람다식으로 변경하기 위해선 위의 if문을 한줄로 바꿀 수 있어야 한다.\n",
    "# result = a-b if a>b else b-a"
   ]
  },
  {
   "cell_type": "code",
   "execution_count": 173,
   "id": "42734a93",
   "metadata": {},
   "outputs": [
    {
     "name": "stdout",
     "output_type": "stream",
     "text": [
      "1 10\n",
      "<class 'function'> <class 'function'>\n"
     ]
    }
   ],
   "source": [
    "ex2 = lambda a, b : a-b if a>b else b-a\n",
    "print(ex2(2, 1), ex2(10,20))\n",
    "print(type(diff), type(ex2))"
   ]
  },
  {
   "cell_type": "code",
   "execution_count": 174,
   "id": "c5004715",
   "metadata": {},
   "outputs": [
    {
     "data": {
      "text/plain": [
       "(1000, 'negative')"
      ]
     },
     "execution_count": 174,
     "metadata": {},
     "output_type": "execute_result"
    }
   ],
   "source": [
    "# ex3. 매개변수로 잔액을 받아 양수면 잔액을 return, 음수 'negative'를 return\n",
    "ex3 = lambda money : money if money>0 else 'negative'\n",
    "ex3(1000), ex3(-100)"
   ]
  },
  {
   "cell_type": "code",
   "execution_count": null,
   "id": "cce055ed",
   "metadata": {},
   "outputs": [],
   "source": [
    "# ex4. 점수를 입력받아 점수가 80점 이상은 A팀, 60점 이상은 B팀, 60점 미만은 재시험. 그외는 유효하지 않음.\n",
    "ex4 = lambda score : \"A팀\" if 80<=score<=100 else (\"B팀\" if 60<=score<80)"
   ]
  },
  {
   "cell_type": "code",
   "execution_count": null,
   "id": "f9968311",
   "metadata": {},
   "outputs": [],
   "source": [
    "# ex5. safe_index를 람다식으로 \n",
    "def safe_index(lst, data):\n",
    "    if data in lst: # lst안에 data 있는지 여부\n",
    "        return lst.index(data)\n",
    "    else:\n",
    "        return -1"
   ]
  },
  {
   "cell_type": "markdown",
   "id": "e6a1951f",
   "metadata": {},
   "source": [
    "## 4.2 함수의 매개변수에 람다식을 이용\n",
    "\n",
    "### (1) map"
   ]
  },
  {
   "cell_type": "code",
   "execution_count": 4,
   "id": "0eac82a3",
   "metadata": {},
   "outputs": [],
   "source": [
    "def map_template(func, L=[]):\n",
    "    '''\n",
    "    L의 모든 요소를 func()함수를 적용시켜 return\n",
    "    '''\n",
    "    result = []\n",
    "    for l in L:\n",
    "        result.append(func(l))\n",
    "    return result\n",
    "#    result = [func(1) for l in L]"
   ]
  },
  {
   "cell_type": "code",
   "execution_count": 227,
   "id": "23f91f92",
   "metadata": {},
   "outputs": [
    {
     "data": {
      "text/plain": [
       "[2, 4, 6, 8, 10, 12, 14, 16, 18, 20]"
      ]
     },
     "execution_count": 227,
     "metadata": {},
     "output_type": "execute_result"
    }
   ],
   "source": [
    "# 리스트 데이터를 가공하는 방법 1. map_template\n",
    "list_data = [1, 2, 3, 4, 5, 6, 7, 8, 9, 10]\n",
    "map_template(lambda x : x*2, list_data)\n",
    "# def x_2(x):\n",
    "#     return x*2\n",
    "# map_template(x_2, list_data)"
   ]
  },
  {
   "cell_type": "code",
   "execution_count": 8,
   "id": "13ff9cb4",
   "metadata": {},
   "outputs": [
    {
     "data": {
      "text/plain": [
       "[2, 4, 6, 8, 10, 12, 14, 16, 18, 20]"
      ]
     },
     "execution_count": 8,
     "metadata": {},
     "output_type": "execute_result"
    }
   ],
   "source": [
    "# 리스트 데이터를 가공하는 방법 2. 리스트 컴프리헨션\n",
    "[l*2 for l in list_data]"
   ]
  },
  {
   "cell_type": "code",
   "execution_count": 11,
   "id": "db1ba7a6",
   "metadata": {},
   "outputs": [
    {
     "data": {
      "text/plain": [
       "[2, 4, 6, 8, 10, 12, 14, 16, 18, 20]"
      ]
     },
     "execution_count": 11,
     "metadata": {},
     "output_type": "execute_result"
    }
   ],
   "source": [
    "# 리스트 데이터를 가공하는 방법 3. map():파이썬 내장함수\n",
    "list(map(lambda x : x*2, list_data))"
   ]
  },
  {
   "cell_type": "code",
   "execution_count": 12,
   "id": "a3897378",
   "metadata": {},
   "outputs": [
    {
     "name": "stdout",
     "output_type": "stream",
     "text": [
      "2 4 6 8 10 12 14 16 18 20 "
     ]
    }
   ],
   "source": [
    "for item in map(lambda x : x*2, list_data):\n",
    "    print(item, end=' ')"
   ]
  },
  {
   "cell_type": "code",
   "execution_count": 19,
   "id": "902629ca",
   "metadata": {},
   "outputs": [],
   "source": [
    "'''\n",
    "예제 1. [5000,800,1000,6000]로 바꾸시오(map함수 사용)\n",
    "'''\n",
    "prices = ['5,000', '800', '1000', '6,000']"
   ]
  },
  {
   "cell_type": "code",
   "execution_count": 13,
   "id": "d53e35b7",
   "metadata": {},
   "outputs": [
    {
     "data": {
      "text/plain": [
       "(5000, 1800)"
      ]
     },
     "execution_count": 13,
     "metadata": {},
     "output_type": "execute_result"
    }
   ],
   "source": [
    "def func(x):\n",
    "    return int(x.replace(',',''))\n",
    "func(\"5,000\"), func(\"1800\")"
   ]
  },
  {
   "cell_type": "code",
   "execution_count": 20,
   "id": "610768e3",
   "metadata": {},
   "outputs": [
    {
     "data": {
      "text/plain": [
       "[5000, 800, 1000, 6000]"
      ]
     },
     "execution_count": 20,
     "metadata": {},
     "output_type": "execute_result"
    }
   ],
   "source": [
    "list(map(lambda x : int(x.replace(',','')), prices))"
   ]
  },
  {
   "cell_type": "code",
   "execution_count": 49,
   "id": "2f0780d5",
   "metadata": {},
   "outputs": [],
   "source": [
    "'''\n",
    "예제 2. member1=[{'name':'홍길동', 'birth':'2000-01-01'},\n",
    "                {'name':'신길동', 'birth':'1998-12-31'},]를\n",
    "        member2=[{'name':'홍길동', 'year':2000, 'month':1, 'day':1},\n",
    "                 {'name':'신길동', 'year':1998, 'month':12, 'day':31},]를 바꿉니다.\n",
    "'''\n",
    "member1=[{'name':'홍길동', 'birth':'2000-01-01'},\n",
    "         {'name':'신길동', 'birth':'1998-12-31'},]"
   ]
  },
  {
   "cell_type": "code",
   "execution_count": 50,
   "id": "82a23927",
   "metadata": {},
   "outputs": [],
   "source": [
    "# '2000-01-01' => {'year':1998, 'month':12, 'day':31}\n",
    "def split_date(date):\n",
    "    split_data = date.split('-')\n",
    "#    print(split_data[0], split_data[1], split_data[2])\n",
    "    return {'year': int(split_data[0]),\n",
    "           'month': int(split_data[1]),\n",
    "           'day': int(split_data[2])\n",
    "           }"
   ]
  },
  {
   "cell_type": "code",
   "execution_count": 51,
   "id": "729d6fd5",
   "metadata": {},
   "outputs": [
    {
     "data": {
      "text/plain": [
       "{'year': 2000, 'month': 1, 'day': 1}"
      ]
     },
     "execution_count": 51,
     "metadata": {},
     "output_type": "execute_result"
    }
   ],
   "source": [
    "split_date(\"2000-01-01\")"
   ]
  },
  {
   "cell_type": "code",
   "execution_count": 54,
   "id": "befc8ddd",
   "metadata": {},
   "outputs": [
    {
     "data": {
      "text/plain": [
       "{'name': '홍길동', 'year': 2000, 'month': 1, 'day': 1}"
      ]
     },
     "execution_count": 54,
     "metadata": {},
     "output_type": "execute_result"
    }
   ],
   "source": [
    "def member_func(member): #{'name':'홍길동', 'birth':'2000-01-01'}\n",
    "    \"{'name':'신길동', 'year':1998, 'month':12, 'day':31}식으로 return\"\n",
    "    return {\n",
    "        'name': member.get('name'),\n",
    "        'year': int(member['birth'].split('-')[0]),\n",
    "        'month': int(member['birth'].split('-')[1]),\n",
    "        'day': int(member['birth'].split('-')[2]),\n",
    "    }\n",
    "member_func(member1[0])"
   ]
  },
  {
   "cell_type": "code",
   "execution_count": 56,
   "id": "ac18485f",
   "metadata": {},
   "outputs": [
    {
     "data": {
      "text/plain": [
       "[{'name': '홍길동', 'year': 2000, 'month': 1, 'day': 1},\n",
       " {'name': '신길동', 'year': 1998, 'month': 12, 'day': 31}]"
      ]
     },
     "execution_count": 56,
     "metadata": {},
     "output_type": "execute_result"
    }
   ],
   "source": [
    "member2 =list(map(lambda member : {\n",
    "                        'name': member.get('name'),\n",
    "                        'year': int(member['birth'].split('-')[0]),\n",
    "                        'month': int(member['birth'].split('-')[1]),\n",
    "                        'day': int(member['birth'].split('-')[2]),\n",
    "                        } ,\n",
    "        member1\n",
    "        )\n",
    "    )\n",
    "member2"
   ]
  },
  {
   "cell_type": "code",
   "execution_count": null,
   "id": "ef3a90b7",
   "metadata": {},
   "outputs": [],
   "source": [
    "'예제 3. member2를 menber1로 바꿉니다.'"
   ]
  },
  {
   "cell_type": "code",
   "execution_count": 77,
   "id": "1a6d5ff2",
   "metadata": {},
   "outputs": [],
   "source": [
    "# {'year': 2000, 'month': 1, 'day': 1} => \"2000-01-01\"를 return하는 함수\n",
    "def join_date(data):\n",
    "    # print([data.get('year'), data.get('month'), data.get('day')])\n",
    "    year = str(data.get('year'))\n",
    "    month = data.get('month')\n",
    "    if month < 10:\n",
    "        month = '0'+str(month)\n",
    "    else:\n",
    "        month = str(month)\n",
    "    day = data.get('day')\n",
    "    if day < 10:\n",
    "        day = '0'+str(day)\n",
    "    else:\n",
    "        day = str(day)\n",
    "    return '-'.join([year, month, day])"
   ]
  },
  {
   "cell_type": "code",
   "execution_count": 79,
   "id": "395bbbb8",
   "metadata": {},
   "outputs": [],
   "source": [
    "def join_date(data):\n",
    "    print(\"{}-{:02}={:02}\".format(data.get('year'),\n",
    "                                  data.get('month'),\n",
    "                                  data.get('day')))"
   ]
  },
  {
   "cell_type": "code",
   "execution_count": 80,
   "id": "9dda9e6d",
   "metadata": {},
   "outputs": [],
   "source": [
    "def join_date(data):\n",
    "    print(\"{year}-{month:02}={day:02}\".format(\n",
    "                                  year = data.get('year'),\n",
    "                                  month = data.get('month'),\n",
    "                                  day= data.get('day')))"
   ]
  },
  {
   "cell_type": "code",
   "execution_count": 81,
   "id": "e9e90968",
   "metadata": {},
   "outputs": [],
   "source": [
    "def join_date(data):\n",
    "    return \"{year}-{month:02}-{day:02}\".format(**data)"
   ]
  },
  {
   "cell_type": "code",
   "execution_count": 78,
   "id": "77425b01",
   "metadata": {},
   "outputs": [
    {
     "data": {
      "text/plain": [
       "'2000-01-01'"
      ]
     },
     "execution_count": 78,
     "metadata": {},
     "output_type": "execute_result"
    }
   ],
   "source": [
    "join_date({'year': 2000, 'month': 1, 'day': 1})"
   ]
  },
  {
   "cell_type": "code",
   "execution_count": 84,
   "id": "3fa1bdb3",
   "metadata": {},
   "outputs": [
    {
     "data": {
      "text/plain": [
       "[{'name': '홍길동', 'birth': '2000-01-01'},\n",
       " {'name': '신길동', 'birth': '1998-12-31'}]"
      ]
     },
     "execution_count": 84,
     "metadata": {},
     "output_type": "execute_result"
    }
   ],
   "source": [
    "# {'name':'홍길동', 'year':2000, 'month':1, 'day':1}(member2)를\n",
    "# {'name':'홍길동', 'birth':'2000-01-01'}으로 가공\n",
    "list(map(lambda member : {\n",
    "                        'name' : member.get('name'),\n",
    "                        'birth' : \"{year}-{month:02}-{day:02}\".format(**member)\n",
    "                        },\n",
    "    member2\n",
    "         \n",
    "))"
   ]
  },
  {
   "cell_type": "markdown",
   "id": "6d5321de",
   "metadata": {},
   "source": [
    "### (2) filter\n",
    "- map처리 : [1000,2000,1,2,3,4,5,] => [2,4,6,8,10] (벡터의 모든 데이터를 가공)\n",
    "- filter : [1,2,3,4,5] => [2,4] (원하는 정보를 추출)\n",
    "* cf. 리스트 컴프리헨션"
   ]
  },
  {
   "cell_type": "code",
   "execution_count": 85,
   "id": "d4632e5a",
   "metadata": {},
   "outputs": [],
   "source": [
    "def filter_template(func, L=[]):\n",
    "    result = []\n",
    "    for l in L :\n",
    "        if func(l):\n",
    "            result.append(l)\n",
    "    return result"
   ]
  },
  {
   "cell_type": "code",
   "execution_count": 86,
   "id": "43549e41",
   "metadata": {},
   "outputs": [
    {
     "data": {
      "text/plain": [
       "(True, False)"
      ]
     },
     "execution_count": 86,
     "metadata": {},
     "output_type": "execute_result"
    }
   ],
   "source": [
    "def evenChk(value):\n",
    "    return value%2==0\n",
    "evenChk(10), evenChk(-9)"
   ]
  },
  {
   "cell_type": "code",
   "execution_count": 88,
   "id": "3e65a1d4",
   "metadata": {},
   "outputs": [
    {
     "data": {
      "text/plain": [
       "[2, 4]"
      ]
     },
     "execution_count": 88,
     "metadata": {},
     "output_type": "execute_result"
    }
   ],
   "source": [
    "list_data = [1, 2, 3, 4, 5]\n",
    "filter_template(lambda value : value%2==0 , list_data)"
   ]
  },
  {
   "cell_type": "code",
   "execution_count": 90,
   "id": "13215e45",
   "metadata": {},
   "outputs": [
    {
     "data": {
      "text/plain": [
       "[2, 4]"
      ]
     },
     "execution_count": 90,
     "metadata": {},
     "output_type": "execute_result"
    }
   ],
   "source": [
    "list(filter(lambda value : value%2==0, list_data))"
   ]
  },
  {
   "cell_type": "code",
   "execution_count": 92,
   "id": "02c5dbbe",
   "metadata": {},
   "outputs": [
    {
     "data": {
      "text/plain": [
       "[2, 4]"
      ]
     },
     "execution_count": 92,
     "metadata": {},
     "output_type": "execute_result"
    }
   ],
   "source": [
    "[data for data in list_data if data%2==0]"
   ]
  },
  {
   "cell_type": "markdown",
   "id": "c9ed94d0",
   "metadata": {},
   "source": [
    "### (3) sort"
   ]
  },
  {
   "cell_type": "code",
   "execution_count": 93,
   "id": "95dbbdc9",
   "metadata": {},
   "outputs": [
    {
     "data": {
      "text/plain": [
       "[9, 7, 2]"
      ]
     },
     "execution_count": 93,
     "metadata": {},
     "output_type": "execute_result"
    }
   ],
   "source": [
    "P = [9, 2, 7]\n",
    "P.sort(reverse=True)\n",
    "P"
   ]
  },
  {
   "cell_type": "code",
   "execution_count": 98,
   "id": "7b81c6a9",
   "metadata": {},
   "outputs": [
    {
     "data": {
      "text/plain": [
       "[(1, 'one'), (2, 'two'), (3, 'three'), (4, 'four')]"
      ]
     },
     "execution_count": 98,
     "metadata": {},
     "output_type": "execute_result"
    }
   ],
   "source": [
    "# 무조껀 0번째 item 기준으로 정렬\n",
    "pairs = [(2, 'two'), (1, 'one'), (4, 'four'), (3, 'three')]\n",
    "pairs.sort()\n",
    "pairs"
   ]
  },
  {
   "cell_type": "code",
   "execution_count": 99,
   "id": "5fc8ff13",
   "metadata": {},
   "outputs": [
    {
     "data": {
      "text/plain": [
       "[(4, 'four'), (1, 'one'), (3, 'three'), (2, 'two')]"
      ]
     },
     "execution_count": 99,
     "metadata": {},
     "output_type": "execute_result"
    }
   ],
   "source": [
    "# 1번째 item 기준으로 정렬(abc순)\n",
    "pairs.sort(key=lambda pair : pair[1])\n",
    "pairs"
   ]
  },
  {
   "cell_type": "code",
   "execution_count": 96,
   "id": "95d22668",
   "metadata": {},
   "outputs": [
    {
     "data": {
      "text/plain": [
       "[[10, 1], [9, 9, 9, 9, 9, 9, 9, 9], [1, 100]]"
      ]
     },
     "execution_count": 96,
     "metadata": {},
     "output_type": "execute_result"
    }
   ],
   "source": [
    "# 무조껀 0번째 item기준으로 정렬\n",
    "number2d = [[9, 9, 9, 9, 9, 9, 9, 9],\n",
    "           [1, 100],\n",
    "           [10, 1]]\n",
    "number2d.sort(reverse=True) # 기본(reverse=False): 오름차순정렬/reverse=True: 내림차순정렬\n",
    "number2d"
   ]
  },
  {
   "cell_type": "code",
   "execution_count": 106,
   "id": "6896dd18",
   "metadata": {},
   "outputs": [
    {
     "data": {
      "text/plain": [
       "[[1, 100], [9, 9, 9, 9, 9, 9, 9, 9], [10, 1]]"
      ]
     },
     "execution_count": 106,
     "metadata": {},
     "output_type": "execute_result"
    }
   ],
   "source": [
    "# 합이 큰 순으로 정렬\n",
    "number2d.sort(key = lambda item : sum(item), reverse = True)\n",
    "number2d"
   ]
  },
  {
   "cell_type": "code",
   "execution_count": 100,
   "id": "01daaef6",
   "metadata": {},
   "outputs": [
    {
     "data": {
      "text/plain": [
       "6"
      ]
     },
     "execution_count": 100,
     "metadata": {},
     "output_type": "execute_result"
    }
   ],
   "source": [
    "(lambda item : sum(item))([1,2,3,])"
   ]
  },
  {
   "cell_type": "code",
   "execution_count": 116,
   "id": "6a2649ae",
   "metadata": {},
   "outputs": [],
   "source": [
    "students = [\n",
    "    {'name':'홍길동', 'score':90},\n",
    "    {'name':'김길동', 'score':50},\n",
    "    {'name':'윤길동', 'score':99},\n",
    "    {'score':100}\n",
    "]"
   ]
  },
  {
   "cell_type": "code",
   "execution_count": 121,
   "id": "08753e31",
   "metadata": {},
   "outputs": [
    {
     "data": {
      "text/plain": [
       "[{'score': 100},\n",
       " {'name': '김길동', 'score': 50},\n",
       " {'name': '윤길동', 'score': 99},\n",
       " {'name': '홍길동', 'score': 90}]"
      ]
     },
     "execution_count": 121,
     "metadata": {},
     "output_type": "execute_result"
    }
   ],
   "source": [
    "# 이름순으로 정렬(ㄱㄴㄷ순)\n",
    "students.sort(key=lambda item : item.get('name','가'))  \n",
    "#이름이 없는 인원을 맨 위로 올리고 싶으면 '가', 아래로 내리고 싶으면 '힣'(한글 유니코드 상 마지막 코드)\n",
    "students"
   ]
  },
  {
   "cell_type": "code",
   "execution_count": 122,
   "id": "837b0424",
   "metadata": {},
   "outputs": [
    {
     "data": {
      "text/plain": [
       "[{'score': 100},\n",
       " {'name': '윤길동', 'score': 99},\n",
       " {'name': '홍길동', 'score': 90},\n",
       " {'name': '김길동', 'score': 50}]"
      ]
     },
     "execution_count": 122,
     "metadata": {},
     "output_type": "execute_result"
    }
   ],
   "source": [
    "# score순으로 정렬(내림차순 정렬)\n",
    "students.sort(key=lambda item : item.get('score', 0), reverse=True)  \n",
    "students"
   ]
  },
  {
   "cell_type": "code",
   "execution_count": 123,
   "id": "79655ab6",
   "metadata": {},
   "outputs": [],
   "source": [
    "# 책제목순 정렬(ㄱㄴㄷ순), 저자순 정렬(ㄱㄴㄷ순), 가격순 정렬\n",
    "books =[\n",
    "    {'no':1, 'title':'강남 아파트 인사이트', 'writer':'오스톨', 'price':'25,200'},\n",
    "    {'no':2, 'title':'한 한번의 삶', 'writer':'김영하', 'price':'18,100'},\n",
    "    {'no':3, 'title':'흔한남매 19', 'writer':'백난도', 'price':'14,220'},\n",
    "    {'no':4, 'title':'가격이잘못', 'writer':'홍길동', 'price':'-'},\n",
    "    {'no':5, 'title':'가격이숫자', 'writer':'신길동', 'price':900},\n",
    "    {'no':6, 'title':'가격이없음', 'writer':'김길동'},\n",
    "]"
   ]
  },
  {
   "cell_type": "code",
   "execution_count": 124,
   "id": "a1c8520a",
   "metadata": {},
   "outputs": [
    {
     "data": {
      "text/plain": [
       "[{'no': 5, 'title': '가격이숫자', 'writer': '신길동', 'price': 900},\n",
       " {'no': 6, 'title': '가격이없음', 'writer': '김길동'},\n",
       " {'no': 4, 'title': '가격이잘못', 'writer': '홍길동', 'price': '-'},\n",
       " {'no': 1, 'title': '강남 아파트 인사이트', 'writer': '오스톨', 'price': '25,200'},\n",
       " {'no': 2, 'title': '한 한번의 삶', 'writer': '김영하', 'price': '18,100'},\n",
       " {'no': 3, 'title': '흔한남매 19', 'writer': '백난도', 'price': '14,220'}]"
      ]
     },
     "execution_count": 124,
     "metadata": {},
     "output_type": "execute_result"
    }
   ],
   "source": [
    "books.sort(key=lambda book : book.get('title'))\n",
    "books"
   ]
  },
  {
   "cell_type": "code",
   "execution_count": 125,
   "id": "d4367cf5",
   "metadata": {},
   "outputs": [
    {
     "data": {
      "text/plain": [
       "[{'no': 6, 'title': '가격이없음', 'writer': '김길동'},\n",
       " {'no': 2, 'title': '한 한번의 삶', 'writer': '김영하', 'price': '18,100'},\n",
       " {'no': 3, 'title': '흔한남매 19', 'writer': '백난도', 'price': '14,220'},\n",
       " {'no': 5, 'title': '가격이숫자', 'writer': '신길동', 'price': 900},\n",
       " {'no': 1, 'title': '강남 아파트 인사이트', 'writer': '오스톨', 'price': '25,200'},\n",
       " {'no': 4, 'title': '가격이잘못', 'writer': '홍길동', 'price': '-'}]"
      ]
     },
     "execution_count": 125,
     "metadata": {},
     "output_type": "execute_result"
    }
   ],
   "source": [
    "books.sort(key=lambda book : book.get('writer'))\n",
    "books"
   ]
  },
  {
   "cell_type": "code",
   "execution_count": 128,
   "id": "dce75b77",
   "metadata": {},
   "outputs": [
    {
     "ename": "TypeError",
     "evalue": "'<' not supported between instances of 'str' and 'int'",
     "output_type": "error",
     "traceback": [
      "\u001b[1;31m---------------------------------------------------------------------------\u001b[0m",
      "\u001b[1;31mTypeError\u001b[0m                                 Traceback (most recent call last)",
      "Cell \u001b[1;32mIn[128], line 4\u001b[0m\n\u001b[0;32m      1\u001b[0m \u001b[38;5;66;03m# 가격순 정렬은 위의 작업방식과 다르다.\u001b[39;00m\n\u001b[0;32m      2\u001b[0m \u001b[38;5;66;03m# 숫자로 잘못된 것들도 있고, 문자로 구현된 것들도 있음.\u001b[39;00m\n\u001b[0;32m      3\u001b[0m \u001b[38;5;66;03m# 따라서 sort문, 문자인지 숫자인지를 구분하는 작업이 추가로 필요하다.\u001b[39;00m\n\u001b[1;32m----> 4\u001b[0m \u001b[43mbooks\u001b[49m\u001b[38;5;241;43m.\u001b[39;49m\u001b[43msort\u001b[49m\u001b[43m(\u001b[49m\u001b[43mkey\u001b[49m\u001b[38;5;241;43m=\u001b[39;49m\u001b[38;5;28;43;01mlambda\u001b[39;49;00m\u001b[43m \u001b[49m\u001b[43mbook\u001b[49m\u001b[43m \u001b[49m\u001b[43m:\u001b[49m\u001b[43m \u001b[49m\u001b[43mbook\u001b[49m\u001b[38;5;241;43m.\u001b[39;49m\u001b[43mget\u001b[49m\u001b[43m(\u001b[49m\u001b[38;5;124;43m'\u001b[39;49m\u001b[38;5;124;43mprice\u001b[39;49m\u001b[38;5;124;43m'\u001b[39;49m\u001b[43m,\u001b[49m\u001b[38;5;241;43m0\u001b[39;49m\u001b[43m)\u001b[49m\u001b[43m)\u001b[49m\n\u001b[0;32m      5\u001b[0m books\n",
      "\u001b[1;31mTypeError\u001b[0m: '<' not supported between instances of 'str' and 'int'"
     ]
    }
   ],
   "source": [
    "# 가격순 정렬은 위의 작업방식과 다르다.\n",
    "# 숫자로 잘못된 것들도 있고, 문자로 구현된 것들도 있음.\n",
    "# 따라서 sort문, 문자인지 숫자인지를 구분하는 작업이 추가로 필요하다.\n",
    "books.sort(key=lambda book : book.get('price',0))\n",
    "books\n",
    "#해당 방식은 숫자와 문자를 동시에 사용하려 하니 에러가 발생하는 것이다."
   ]
  },
  {
   "cell_type": "code",
   "execution_count": 143,
   "id": "ad3eba1e",
   "metadata": {},
   "outputs": [],
   "source": [
    "#'14,000' -> 14000 / 800 -> 800 / '-' -> 0  #조건이 3가지가 필요하다.\n",
    "#조건식을 만들기 어렵다면 일단 함수를 만들고, 람다식으로 만드는 방법이 추천된다.\n",
    "def parse_int(price):\n",
    "    #print(type(price))\n",
    "    if isinstance(price, str) and price.replace(',','').isdigit():\n",
    "        #↑ 해당 함수는 어떤 값이 특정 자료형인지를 확인할 때 사용되는 함수임.\n",
    "        # isinstance(값, 자료형) #결과는 True 또는 False로 출력됨.\n",
    "        return int(price.replace(',',''))\n",
    "    elif isinstance(price, int):\n",
    "        return price"
   ]
  },
  {
   "cell_type": "code",
   "execution_count": 144,
   "id": "05a5252f",
   "metadata": {},
   "outputs": [
    {
     "data": {
      "text/plain": [
       "(8000, 8000, 800, None)"
      ]
     },
     "execution_count": 144,
     "metadata": {},
     "output_type": "execute_result"
    }
   ],
   "source": [
    "parse_int(\"8,000\"), parse_int(\"8000\"), parse_int(800), parse_int('-')"
   ]
  },
  {
   "cell_type": "code",
   "execution_count": 150,
   "id": "c20f3309",
   "metadata": {},
   "outputs": [
    {
     "data": {
      "text/plain": [
       "(0, 900, 14220, 0)"
      ]
     },
     "execution_count": 150,
     "metadata": {},
     "output_type": "execute_result"
    }
   ],
   "source": [
    "# {'no': 6, 'title': '가격이없음', 'writer': '김길동'} => 0 return으로 바꿔야함.(주어진 데이터에서 값이 안나와있으므로)\n",
    "# {'no': 3, 'title': '흔한남매 19', 'writer': '백난도', 'price': '14,220'} => 14220\n",
    "# {'no': 5, 'title': '가격이숫자', 'writer': '신길동', 'price': 900} => 900\n",
    "def parse_int(book):\n",
    "    if isinstance(book.get('price'),str) and \\ #문장이 너무 길어져서 줄변경이 필요할 경우 \\를 사용(뒤에 아무것도 없어야함.)\n",
    "    book.get('price').replace(',','').isdigit():\n",
    "        return int(book.get('price').replace(',','') )\n",
    "    elif isinstance(book.get('price'), int):\n",
    "        return book.get('price')\n",
    "    else :\n",
    "        return 0\n",
    "parse_int(books[0]), parse_int(books[3]), parse_int(books[2]), parse_int(books[5])\n",
    "#람다식 변경시 if문이 맨 위로 오도록 하는것이 편리할 수 있음."
   ]
  },
  {
   "cell_type": "code",
   "execution_count": 152,
   "id": "61a76690",
   "metadata": {},
   "outputs": [],
   "source": [
    "books =[\n",
    "    {'no':1, 'title':'강남 아파트 인사이트', 'writer':'오스톨', 'price':'25,200'},\n",
    "    {'no':2, 'title':'한 한번의 삶', 'writer':'김영하', 'price':'18,100'},\n",
    "    {'no':3, 'title':'흔한남매 19', 'writer':'백난도', 'price':'14,220'},\n",
    "    {'no':4, 'title':'가격이잘못', 'writer':'홍길동', 'price':'-'},\n",
    "    {'no':5, 'title':'가격이숫자', 'writer':'신길동', 'price':900},\n",
    "    {'no':6, 'title':'가격이없음', 'writer':'김길동'},\n",
    "]\n",
    "copy_books = books.copy() #깊은복사"
   ]
  },
  {
   "cell_type": "code",
   "execution_count": 153,
   "id": "3b2aa4ce",
   "metadata": {},
   "outputs": [],
   "source": [
    "copy_books.sort(key = lambda book : \n",
    "                int(book.get('price').replace(',','')) \\\n",
    "                    if isinstance(book.get('price'),str) and \\\n",
    "                    book.get('price').replace(',','').isdigit() else \\\n",
    "                book.get('price') if isinstance(book.get('price'), int) else \\\n",
    "                0 \n",
    "               )"
   ]
  },
  {
   "cell_type": "code",
   "execution_count": 154,
   "id": "389f9954",
   "metadata": {},
   "outputs": [
    {
     "data": {
      "text/plain": [
       "25200"
      ]
     },
     "execution_count": 154,
     "metadata": {},
     "output_type": "execute_result"
    }
   ],
   "source": [
    "#람다식 테스트 확인\n",
    "(lambda book : \n",
    "                int(book.get('price').replace(',','')) \\\n",
    "                    if isinstance(book.get('price'),str) and \\\n",
    "                    book.get('price').replace(',','').isdigit() else \\\n",
    "                book.get('price') if isinstance(book.get('price'), int) else \\\n",
    "                0 )(books[0])"
   ]
  },
  {
   "cell_type": "markdown",
   "id": "f87e784f",
   "metadata": {},
   "source": [
    "## 4.3 return문에 람다식 이용"
   ]
  },
  {
   "cell_type": "code",
   "execution_count": 156,
   "id": "f57e80c1",
   "metadata": {},
   "outputs": [],
   "source": [
    "# 함수를 return\n",
    "def make_box(shape): #shape : [l]=>len가 l인 list를 생성하는 함수 return, [l], \n",
    "                    #         [r,c] => r행 c열인 list를 생성하는 함수 return\n",
    "    def box(init_value):\n",
    "        if len(shape)==1:\n",
    "            return [init_value]*shape[0]\n",
    "        elif len(shape)==2:\n",
    "            return [ [init_value]*shape[1] ] * shape[0]\n",
    "    return box"
   ]
  },
  {
   "cell_type": "code",
   "execution_count": 160,
   "id": "3dc5e0b8",
   "metadata": {},
   "outputs": [
    {
     "ename": "SyntaxError",
     "evalue": "expected ':' (782891461.py, line 4)",
     "output_type": "error",
     "traceback": [
      "\u001b[1;36m  Cell \u001b[1;32mIn[160], line 4\u001b[1;36m\u001b[0m\n\u001b[1;33m    else len(shape)==2:\u001b[0m\n\u001b[1;37m         ^\u001b[0m\n\u001b[1;31mSyntaxError\u001b[0m\u001b[1;31m:\u001b[0m expected ':'\n"
     ]
    }
   ],
   "source": [
    "def make_box(shape) :\n",
    "    if len(shape)==1:\n",
    "        return lambda init_value : [init_value]*shape[0]\n",
    "    else len(shape)==2:\n",
    "        return lambda init_value : [[init_value]*shape[1]]*shape[0]"
   ]
  },
  {
   "cell_type": "code",
   "execution_count": 157,
   "id": "2600d73a",
   "metadata": {},
   "outputs": [
    {
     "data": {
      "text/plain": [
       "[[3, 3, 3], [3, 3, 3]]"
      ]
     },
     "execution_count": 157,
     "metadata": {},
     "output_type": "execute_result"
    }
   ],
   "source": [
    "line_func = make_box([2,3])\n",
    "line_func(3)"
   ]
  },
  {
   "cell_type": "code",
   "execution_count": 159,
   "id": "2a983a3d",
   "metadata": {},
   "outputs": [
    {
     "data": {
      "text/plain": [
       "[3, 3, 3, 3, 3, 3, 3, 3, 3, 3]"
      ]
     },
     "execution_count": 159,
     "metadata": {},
     "output_type": "execute_result"
    }
   ],
   "source": [
    "line_func1 = make_box([10])\n",
    "line_func1(3)"
   ]
  },
  {
   "cell_type": "markdown",
   "id": "349b0287",
   "metadata": {},
   "source": [
    "# 5절. 파이썬 내장함수\n",
    "- import하지않고 바로 사용 가능한 함수\n",
    "- 키워드처럼 간주되므로, 식별자(변수명, 함수명, 클래스명)로 사용하는 것을 피한다."
   ]
  },
  {
   "cell_type": "code",
   "execution_count": 161,
   "id": "898dc056",
   "metadata": {},
   "outputs": [
    {
     "data": {
      "text/plain": [
       "{'__name__': '__main__',\n",
       " '__doc__': \"\\n예제 2. member1=[{'name':'홍길동', 'birth':'2000-01-01'},\\n                {'name':'신길동', 'birth':'1998-12-31'},]를\\n        member2=[{'name':'홍길동', 'year':2000, 'month':1, 'day':1},\\n                 {'name':'신길동', 'year':1998, 'month':12, 'day':31},]를 바꿉니다.\\n\",\n",
       " '__package__': None,\n",
       " '__loader__': None,\n",
       " '__spec__': None,\n",
       " '__builtin__': <module 'builtins' (built-in)>,\n",
       " '__builtins__': <module 'builtins' (built-in)>,\n",
       " '_ih': ['',\n",
       "  'from IPython.display import display, HTML\\ndisplay(HTML(\"\"\"\\n<style>\\ndiv.container{width:95% !important;}\\ndiv.cell.code_cell.rendered{width:100%;}\\ndiv.CodeMirror {font-family:Consolas; font-size:15pt;}\\ndiv.output {font-size:15pt; font-weight:bold;}\\ndiv.input {font-family:Consolas; font-size:15pt;}\\ndiv.prompt {min-width:70px;}\\ndiv#toc-wrapper{padding-top:120px;}\\ndiv.text_cell_render ul li{font-size:12pt;padding:5px;}\\ntable.dataframe{font-size:15px;}\\n</style>\\n\"\"\"))',\n",
       "  \"def map_template(func, L=[1, 2, 3]):\\n    '''\\n    L의 모든 요소를 func()함수를 적용시켜 return\\n    [func(1) for 1 in L]\\n    '''\\n    result = []\\n    for l in L:\\n        result.append(func(L))\\n    return result\\n#    result = [func(1) for l in L]\",\n",
       "  'list_data = [1, 2, 3, 4, 5, 6, 7, 8, 9, 10]\\ndef x_2(x):\\n    return x*2\\nmap_template(x_2, list_data)',\n",
       "  \"def map_template(func, L=[]):\\n    '''\\n    L의 모든 요소를 func()함수를 적용시켜 return\\n    '''\\n    result = []\\n    for l in L:\\n        result.append(func(l))\\n    return result\\n#    result = [func(1) for l in L]\",\n",
       "  'list_data = [1, 2, 3, 4, 5, 6, 7, 8, 9, 10]\\ndef x_2(x):\\n    return x*2\\nmap_template(x_2, list_data)',\n",
       "  'list_data = [1, 2, 3, 4, 5, 6, 7, 8, 9, 10]\\nmap_template(lambda x : x*2, list_data)\\n# def x_2(x):\\n#     return x*2\\n# map_template(x_2, list_data)',\n",
       "  '# 리스트 데이터를 가공하는 방법 1. map\\nlist_data = [1, 2, 3, 4, 5, 6, 7, 8, 9, 10]\\nmap_template(lambda x : x*2, list_data)\\n# def x_2(x):\\n#     return x*2\\n# map_template(x_2, list_data)',\n",
       "  '# 리스트 데이터를 가공하는 방법 2. 리스트 컴프리헨션\\n[l*2 for l in list_data]',\n",
       "  '# 리스트 데이터를 가공하는 방법 1. map_template\\nlist_data = [1, 2, 3, 4, 5, 6, 7, 8, 9, 10]\\nmap_template(lambda x : x*2, list_data)\\n# def x_2(x):\\n#     return x*2\\n# map_template(x_2, list_data)',\n",
       "  '# 리스트 데이터를 가공하는 방법 3. map():파이썬 내장함수\\nmap(lambda x : x*2, list_data)',\n",
       "  '# 리스트 데이터를 가공하는 방법 3. map():파이썬 내장함수\\nlist(map(lambda x : x*2, list_data))',\n",
       "  \"for item in map(lambda x : x*2, list_data):\\n    print(item, end=' ')\",\n",
       "  'def func(x):\\n    return int(x.replace(\\',\\',\\'\\'))\\nfunc(\"5,000\"), func(\"1800\")',\n",
       "  \"map(lambda x : int(x.replace(',','')), prices))\",\n",
       "  \"map(lambda x : int(x.replace(',',''))), prices))\",\n",
       "  \"map(lambda x : int(x.replace(',','')), prices)\",\n",
       "  \"map(lambda x : int(x.replace(',','')), prices)\",\n",
       "  \"list(map(lambda x : int(x.replace(',','')), prices))\",\n",
       "  \"'''\\n예제 1. [5000,800,1000,6000]로 바꾸시오(map함수 사용)\\n'''\\nprices = ['5,000', '800', '1000', '6,000']\",\n",
       "  \"list(map(lambda x : int(x.replace(',','')), prices))\",\n",
       "  'split_date(\"2000-01-01\")',\n",
       "  \"# '2000-01-01' => {'year':1998, 'month':12, 'day':31}\\ndef split_date(date):\\n    split_date = date.split('-')\",\n",
       "  'split_date(\"2000-01-01\")',\n",
       "  'split_date(\"2000-01-01\")',\n",
       "  \"# '2000-01-01' => {'year':1998, 'month':12, 'day':31}\\ndef split_date(date):\\n    split_data = date.split('-')\",\n",
       "  'split_date(\"2000-01-01\")',\n",
       "  \"# '2000-01-01' => {'year':1998, 'month':12, 'day':31}\\ndef split_date(date):\\n    split_data = date.split('-')\\n    print(split_data[0], split_data[1], split_data[2])\\n    return {'year': int(split_data[0]),\\n           'month': int(split_data[1]),\\n           'day': int(split_data[2])}\",\n",
       "  'split_date(\"2000-01-01\")',\n",
       "  \"# '2000-01-01' => {'year':1998, 'month':12, 'day':31}\\ndef split_date(date):\\n    split_data = date.split('-')\\n    print(split_data[0], split_data[1], split_data[2])\\n    return {'year': int(split_data[0]),\\n           'month': int(split_data[1]),\\n           'day': int(split_data[2])})\",\n",
       "  \"# '2000-01-01' => {'year':1998, 'month':12, 'day':31}\\ndef split_date(date):\\n    split_data = date.split('-')\\n    print(split_data[0], split_data[1], split_data[2])\\n    return {'year': int(split_data[0]),\\n           'month': int(split_data[1]),\\n           'day': int(split_data[2])}\",\n",
       "  'split_date(\"2000-01-01\")',\n",
       "  \"# '2000-01-01' => {'year':1998, 'month':12, 'day':31}\\ndef split_date(date):\\n    split_data = date.split('-')\\n#     print(split_data[0], split_data[1], split_data[2])\\n    print(split_data[0], split_data[1], split_data[2])\\n    return {'year': int(split_data[0]),\\n           'month': int(split_data[1]),\\n           'day': int(split_data[2])}\",\n",
       "  \"# '2000-01-01' => {'year':1998, 'month':12, 'day':31}\\ndef split_date(date):\\n    split_data = date.split('-')\\n#     print(split_data[0], split_data[1], split_data[2])\\n    print(split_data[0], split_data[1], split_data[2])\\n    return {'year': int(split_data[0]),\\n           'month': int(split_data[1]),\\n           'day': int(split_data[2])\\n           }\",\n",
       "  'split_date(\"2000-01-01\")',\n",
       "  \"# '2000-01-01' => {'year':1998, 'month':12, 'day':31}\\ndef split_date(date):\\n    split_data = date.split('-')\\n#    print(split_data[0], split_data[1], split_data[2])\\n    return {'year': int(split_data[0]),\\n           'month': int(split_data[1]),\\n           'day': int(split_data[2])\\n           }\",\n",
       "  'split_date(\"2000-01-01\")',\n",
       "  \"def member_func(menber): #{'name':'홍길동', 'birth':'2000-01-01'}\\n    '{'name':'신길동', 'year':1998, 'month':12, 'day':31}식으로 return'\\n    return {\\n        'name': menber.get('name'),\\n        'year': int(member['birth'].split('-')[0])\\n    }\",\n",
       "  \"def member_func(menber): #{'name':'홍길동', 'birth':'2000-01-01'}\\n    '{'name':'신길동', 'year':1998, 'month':12, 'day':31}식으로 return'\\n    return {\\n        'name': menber.get('name'),\\n        'year': int(member['birth'].split('-')[0])\\n    }\",\n",
       "  \"def member_func(menber): #{'name':'홍길동', 'birth':'2000-01-01'}\\n    '{'name':'신길동', 'year':1998, 'month':12, 'day':31}식으로 return'\\n    return {\\n        'name': menber.get('name'),\\n        'year': int(member['birth'].split('-')[0])\\n    }\",\n",
       "  'def member_func(menber): #{\\'name\\':\\'홍길동\\', \\'birth\\':\\'2000-01-01\\'}\\n    \"{\\'name\\':\\'신길동\\', \\'year\\':1998, \\'month\\':12, \\'day\\':31}식으로 return\"\\n    return {\\n        \\'name\\': menber.get(\\'name\\'),\\n        \\'year\\': int(member[\\'birth\\'].split(\\'-\\')[0])\\n    }',\n",
       "  'def member_func(menber): #{\\'name\\':\\'홍길동\\', \\'birth\\':\\'2000-01-01\\'}\\n    \"{\\'name\\':\\'신길동\\', \\'year\\':1998, \\'month\\':12, \\'day\\':31}식으로 return\"\\n    return {\\n        \\'name\\': menber.get(\\'name\\'),\\n        \\'year\\': int(member[\\'birth\\'].split(\\'-\\')[0]),\\n        \\'month\\': int(member[\\'birth\\'].split(\\'-\\')[1])\\n        \\'day\\': int(member[\\'birth\\'].split(\\'-\\')[2])\\n    }',\n",
       "  'def member_func(menber): #{\\'name\\':\\'홍길동\\', \\'birth\\':\\'2000-01-01\\'}\\n    \"{\\'name\\':\\'신길동\\', \\'year\\':1998, \\'month\\':12, \\'day\\':31}식으로 return\"\\n    return {\\n        \\'name\\': menber.get(\\'name\\'),\\n        \\'year\\': int(member[\\'birth\\'].split(\\'-\\')[0]),\\n        \\'month\\': int(member[\\'birth\\'].split(\\'-\\')[1]),\\n        \\'day\\': int(member[\\'birth\\'].split(\\'-\\')[2]),\\n    }',\n",
       "  \"'''\\n예제 2. member1=[{'name':'홍길동', 'birth':'2000-01-01'},\\n                {'name':'신길동', 'birth':'1998-12-31'},]를\\n        member2=[{'name':'홍길동', 'year':2000, 'month':1, 'day':1},\\n                 {'name':'신길동', 'year':1998, 'month':12, 'day':31},]를 바꿉니다.\\n'''\\nmember1=[{'name':'홍길동', 'birth':'2000-01-01'},\\n         {'name':'신길동', 'birth':'1998-12-31'},]\",\n",
       "  'def member_func(menber): #{\\'name\\':\\'홍길동\\', \\'birth\\':\\'2000-01-01\\'}\\n    \"{\\'name\\':\\'신길동\\', \\'year\\':1998, \\'month\\':12, \\'day\\':31}식으로 return\"\\n    return {\\n        \\'name\\': menber.get(\\'name\\'),\\n        \\'year\\': int(member[\\'birth\\'].split(\\'-\\')[0]),\\n        \\'month\\': int(member[\\'birth\\'].split(\\'-\\')[1]),\\n        \\'day\\': int(member[\\'birth\\'].split(\\'-\\')[2]),\\n    }\\nmember_func(member1[0])',\n",
       "  \"'''\\n예제 2. member1=[{'name':'홍길동', 'birth':'2000-01-01'},\\n                {'name':'신길동', 'birth':'1998-12-31'},]를\\n        member2=[{'name':'홍길동', 'year':2000, 'month':1, 'day':1},\\n                 {'name':'신길동', 'year':1998, 'month':12, 'day':31},]를 바꿉니다.\\n'''\\nmember1=[{'name':'홍길동', 'birth':'2000-01-01'},\\n         {'name':'신길동', 'birth':'1998-12-31'},]\",\n",
       "  'def member_func(menber): #{\\'name\\':\\'홍길동\\', \\'birth\\':\\'2000-01-01\\'}\\n    \"{\\'name\\':\\'신길동\\', \\'year\\':1998, \\'month\\':12, \\'day\\':31}식으로 return\"\\n    return {\\n        \\'name\\': menber.get(\\'name\\'),\\n        \\'year\\': int(member[\\'birth\\'].split(\\'-\\')[0]),\\n        \\'month\\': int(member[\\'birth\\'].split(\\'-\\')[1]),\\n        \\'day\\': int(member[\\'birth\\'].split(\\'-\\')[2]),\\n    }\\nmember_func(member1[0])',\n",
       "  'def member_func(menber): #{\\'name\\':\\'홍길동\\', \\'birth\\':\\'2000-01-01\\'}\\n    \"{\\'name\\':\\'신길동\\', \\'year\\':1998, \\'month\\':12, \\'day\\':31}식으로 return\"\\n    return {\\n        \\'name\\': menber.get(\\'name\\'),\\n        \\'year\\': int(member[\\'birth\\'].split(\\'-\\')[0]),\\n        \\'month\\': int(member[\\'birth\\'].split(\\'-\\')[1]),\\n        \\'day\\': int(member[\\'birth\\'].split(\\'-\\')[2]),\\n    }\\nmember_func(member1[0])',\n",
       "  \"# '2000-01-01' => {'year':1998, 'month':12, 'day':31}\\ndef split_date(date):\\n    split_data = date.split('-')\\n#    print(split_data[0], split_data[1], split_data[2])\\n    return {'year': int(split_data[0]),\\n           'month': int(split_data[1]),\\n           'day': int(split_data[2])\\n           }\",\n",
       "  \"'''\\n예제 2. member1=[{'name':'홍길동', 'birth':'2000-01-01'},\\n                {'name':'신길동', 'birth':'1998-12-31'},]를\\n        member2=[{'name':'홍길동', 'year':2000, 'month':1, 'day':1},\\n                 {'name':'신길동', 'year':1998, 'month':12, 'day':31},]를 바꿉니다.\\n'''\\nmember1=[{'name':'홍길동', 'birth':'2000-01-01'},\\n         {'name':'신길동', 'birth':'1998-12-31'},]\",\n",
       "  \"# '2000-01-01' => {'year':1998, 'month':12, 'day':31}\\ndef split_date(date):\\n    split_data = date.split('-')\\n#    print(split_data[0], split_data[1], split_data[2])\\n    return {'year': int(split_data[0]),\\n           'month': int(split_data[1]),\\n           'day': int(split_data[2])\\n           }\",\n",
       "  'split_date(\"2000-01-01\")',\n",
       "  'def member_func(menber): #{\\'name\\':\\'홍길동\\', \\'birth\\':\\'2000-01-01\\'}\\n    \"{\\'name\\':\\'신길동\\', \\'year\\':1998, \\'month\\':12, \\'day\\':31}식으로 return\"\\n    return {\\n        \\'name\\': menber.get(\\'name\\'),\\n        \\'year\\': int(member[\\'birth\\'].split(\\'-\\')[0]),\\n        \\'month\\': int(member[\\'birth\\'].split(\\'-\\')[1]),\\n        \\'day\\': int(member[\\'birth\\'].split(\\'-\\')[2]),\\n    }\\nmember_func(member1[0])',\n",
       "  \"member2 =list(map(lambda member : {\\n                        'name': menber.get('name'),\\n                        'year': int(member['birth'].split('-')[0]),\\n                        'month': int(member['birth'].split('-')[1]),\\n                        'day': int(member['birth'].split('-')[2]),\\n                        } ,\\n        member1\\n        )\\n    )\\nmember2\",\n",
       "  'def member_func(member): #{\\'name\\':\\'홍길동\\', \\'birth\\':\\'2000-01-01\\'}\\n    \"{\\'name\\':\\'신길동\\', \\'year\\':1998, \\'month\\':12, \\'day\\':31}식으로 return\"\\n    return {\\n        \\'name\\': member.get(\\'name\\'),\\n        \\'year\\': int(member[\\'birth\\'].split(\\'-\\')[0]),\\n        \\'month\\': int(member[\\'birth\\'].split(\\'-\\')[1]),\\n        \\'day\\': int(member[\\'birth\\'].split(\\'-\\')[2]),\\n    }\\nmember_func(member1[0])',\n",
       "  \"member2 =list(map(lambda member : {\\n                        'name': menber.get('name'),\\n                        'year': int(member['birth'].split('-')[0]),\\n                        'month': int(member['birth'].split('-')[1]),\\n                        'day': int(member['birth'].split('-')[2]),\\n                        } ,\\n        member1\\n        )\\n    )\\nmember2\",\n",
       "  \"member2 =list(map(lambda member : {\\n                        'name': member.get('name'),\\n                        'year': int(member['birth'].split('-')[0]),\\n                        'month': int(member['birth'].split('-')[1]),\\n                        'day': int(member['birth'].split('-')[2]),\\n                        } ,\\n        member1\\n        )\\n    )\\nmember2\",\n",
       "  \"join_date({'year':2000, 'month': 1, 'day': 1})\",\n",
       "  '#{\\'year\\': 2000, \\'month\\':1, \\'day\\':1} => \"2000-01-01\"를 return하는 함수\\ndef join_date(data):\\n    print(data)',\n",
       "  \"join_date({'year':2000, 'month': 1, 'day': 1})\",\n",
       "  '#{\\'year\\': 2000, \\'month\\':1, \\'day\\':1} => \"2000-01-01\"를 return하는 함수\\ndef join_date(data):\\n    print(data)',\n",
       "  '#{\\'year\\': 2000, \\'month\\':1, \\'day\\':1} => \"2000-01-01\"를 return하는 함수\\ndef join_date(data):\\n    print(data.get(\\'year\\'), data.get(\\'month\\'), data.get(\\'day\\'))',\n",
       "  \"join_date({'year':2000, 'month': 1, 'day': 1})\",\n",
       "  '#{\\'year\\': 2000, \\'month\\':1, \\'day\\':1} => \"2000-01-01\"를 return하는 함수\\ndef join_date(data):\\n    print([data.get(\\'year\\'), data.get(\\'month\\'), data.get(\\'day\\')])\\n    return \\'-\\'.join([data.get(\\'year\\'), data.get(\\'month\\'), data.get(\\'day\\')])',\n",
       "  \"join_date({'year':2000, 'month': 1, 'day': 1})\",\n",
       "  '#{\\'year\\': 2000, \\'month\\':1, \\'day\\':1} => \"2000-01-01\"를 return하는 함수\\ndef join_date(data):\\n    print([data.get(\\'year\\'), data.get(\\'month\\'), data.get(\\'day\\')])\\n    year = str(data.get(\\'year\\'))\\n    return \\'-\\'.join([year, data.get(\\'year\\'), data.get(\\'month\\'), data.get(\\'day\\')])',\n",
       "  \"join_date({'year':2000, 'month': 1, 'day': 1})\",\n",
       "  '#{\\'year\\': 2000, \\'month\\':1, \\'day\\':1} => \"2000-01-01\"를 return하는 함수\\ndef join_date(data):\\n    print([data.get(\\'year\\'), data.get(\\'month\\'), data.get(\\'day\\')])\\n    year = str(data.get(\\'year\\'))\\n    month = str(data.get(\\'month\\'))\\n    return \\'-\\'.join([year, data.get(\\'year\\'), data.get(\\'month\\'), data.get(\\'day\\')])',\n",
       "  \"join_date({'year':2000, 'month': 1, 'day': 1})\",\n",
       "  '#{\\'year\\': 2000, \\'month\\':1, \\'day\\':1} => \"2000-01-01\"를 return하는 함수\\ndef join_date(data):\\n    print([data.get(\\'year\\'), data.get(\\'month\\'), data.get(\\'day\\')])\\n    year = str(data.get(\\'year\\'))\\n    month = data.get(\\'month\\')\\n    \\n    return \\'-\\'.join([year, data.get(\\'year\\'), data.get(\\'month\\'), data.get(\\'day\\')])',\n",
       "  '#{\\'year\\': 2000, \\'month\\':1, \\'day\\':1} => \"2000-01-01\"를 return하는 함수\\ndef join_date(data):\\n    print([data.get(\\'year\\'), data.get(\\'month\\'), data.get(\\'day\\')])\\n    year = str(data.get(\\'year\\'))\\n    month = data.get(\\'month\\')\\n    if month < 10:\\n        month = \\'0\\'+str(month)\\n    else:\\n        month = str(month)\\n    day = data.get(\\'day\\')\\n    if month < 10:\\n        month = \\'0\\'+str(day)\\n    else:\\n        month = str(month)    \\n    return \\'-\\'.join([year, data.get(\\'year\\'), data.get(\\'month\\'), data.get(\\'day\\')])',\n",
       "  \"join_date({'year':2000, 'month': 1, 'day': 1})\",\n",
       "  '#{\\'year\\': 2000, \\'month\\':1, \\'day\\':1} => \"2000-01-01\"를 return하는 함수\\ndef join_date(data):\\n    #print([data.get(\\'year\\'), data.get(\\'month\\'), data.get(\\'day\\')])\\n    year = str(data.get(\\'year\\'))\\n    month = data.get(\\'month\\')\\n    if month < 10:\\n        month = \\'0\\'+str(month)\\n    else:\\n        month = str(month)\\n    day = data.get(\\'day\\')\\n    if month < 10:\\n        month = \\'0\\'+str(day)\\n    else:\\n        month = str(month)    \\n    return \\'-\\'.join([year, data.get(\\'year\\'), data.get(\\'month\\'), data.get(\\'day\\')])',\n",
       "  \"join_date({'year':2000, 'month': 1, 'day': 1})\",\n",
       "  '#{\\'year\\': 2000, \\'month\\':1, \\'day\\':1} => \"2000-01-01\"를 return하는 함수\\ndef join_date(data):\\n    #print([data.get(\\'year\\'), data.get(\\'month\\'), data.get(\\'day\\')])\\n    year = str(data.get(\\'year\\'))\\n    month = data.get(\\'month\\')\\n    if month < 10:\\n        month = \\'0\\'+str(month)\\n    else:\\n        month = str(month)\\n    day = data.get(\\'day\\')\\n    if day < 10:\\n        day = \\'0\\'+str(day)\\n    else:\\n        day = str(month)    \\n    return \\'-\\'.join([year, data.get(\\'year\\'), data.get(\\'month\\'), data.get(\\'day\\')])',\n",
       "  '#{\\'year\\': 2000, \\'month\\':1, \\'day\\':1} => \"2000-01-01\"를 return하는 함수\\ndef join_date(data):\\n    #print([data.get(\\'year\\'), data.get(\\'month\\'), data.get(\\'day\\')])\\n    year = str(data.get(\\'year\\'))\\n    month = data.get(\\'month\\')\\n    if month < 10:\\n        month = \\'0\\'+str(month)\\n    else:\\n        month = str(month)\\n    day = data.get(\\'day\\')\\n    if day < 10:\\n        day = \\'0\\'+str(day)\\n    else:\\n        day = str(month)    \\n    return \\'-\\'.join([year, data.get(\\'year\\'), data.get(\\'month\\'), data.get(\\'day\\')])',\n",
       "  \"join_date({'year':2000, 'month': 1, 'day': 1})\",\n",
       "  '# {\\'year\\': 2000, \\'month\\': 1, \\'day\\': 1} => \"2000-01-01\"를 return하는 함수\\ndef join_date(data):\\n    # print([data.get(\\'year\\'), data.get(\\'month\\'), data.get(\\'day\\')])\\n    year = str(data.get(\\'year\\'))\\n    month = data.get(\\'month\\')\\n    if month < 10:\\n        month = \\'0\\'+str(month)\\n    else:\\n        month = str(month)\\n    day = data.get(\\'day\\')\\n    if day < 10:\\n        day = \\'0\\'+str(day)\\n    else:\\n        day = str(day)\\n    return \\'-\\'.join([year, month, day])',\n",
       "  \"join_date({'year': 2000, 'month': 1, 'day': 1})\",\n",
       "  'def join_date(data):\\n    print(\"{}-{:02}={:02}\".format(data.get(\\'year\\'),\\n                                  data.get(\\'month\\'),\\n                                  data.get(\\'day\\')))',\n",
       "  'def join_date(data):\\n    print(\"{year}-{month:02}={day:02}\".format(\\n                                  year = data.get(\\'year\\'),\\n                                  month = data.get(\\'month\\'),\\n                                  day= data.get(\\'day\\')))',\n",
       "  'def join_date(data):\\n    return \"{year}-{month:02}-{day:02}\".format(**data)',\n",
       "  '# {\\'name\\':\\'홍길동\\', \\'year\\':2000, \\'month\\':1, \\'day\\':1}(member2)를\\n# {\\'name\\':\\'홍길동\\', \\'birth\\':\\'2000-01-01\\'}으로 가공\\nlist(map(lambda member : {\\n        \\'name\\' : member.get(\\'name\\'),\\n        \\'birth\\' : \"{year}-{month:02}-{day:02}\".format(**data)\\n        },\\n    member2\\n))',\n",
       "  '# {\\'name\\':\\'홍길동\\', \\'year\\':2000, \\'month\\':1, \\'day\\':1}(member2)를\\n# {\\'name\\':\\'홍길동\\', \\'birth\\':\\'2000-01-01\\'}으로 가공\\nlist(map(lambda member : {\\n                        \\'name\\' : member.get(\\'name\\'),\\n                        \\'birth\\' : \"{year}-{month:02}-{day:02}\".format(**data)\\n                        },\\n    member2\\n))',\n",
       "  '# {\\'name\\':\\'홍길동\\', \\'year\\':2000, \\'month\\':1, \\'day\\':1}(member2)를\\n# {\\'name\\':\\'홍길동\\', \\'birth\\':\\'2000-01-01\\'}으로 가공\\nlist(map(lambda member : {\\n                        \\'name\\' : member.get(\\'name\\'),\\n                        \\'birth\\' : \"{year}-{month:02}-{day:02}\".format(**member)\\n                        },\\n    member2\\n))',\n",
       "  'def filter_template(func, L=[]):\\n    result = []\\n    for l in L :\\n        if func(l):\\n            result.append(l)\\n    return result',\n",
       "  'def evenChk(value):\\n    return value%2==0\\nevenChk(10), evenChk(-9)',\n",
       "  'list_data = [1, 2, 3, 4, 5]\\nfilter_template(lambda value : value%2==0 , )',\n",
       "  'list_data = [1, 2, 3, 4, 5]\\nfilter_template(lambda value : value%2==0 , list_data)',\n",
       "  'list(filter(lambda value : value%2==0, list_data))',\n",
       "  'list(filter(lambda value : value%2==0, list_data))',\n",
       "  '[for data in list_data if data%2==0]',\n",
       "  '[data for data in list_data if data%2==0]',\n",
       "  'P = [9, 2, 7]\\nP.sort(reverse=True)\\nP',\n",
       "  'number2d = [[9, 9],\\n           [1, 100],\\n           [10, 1]]\\nnumber2d.sort()\\nnumber2d',\n",
       "  '# 무조껀 0번 item기준으로 정렬\\nnumber2d = [[9, 9],\\n           [1, 100],\\n           [10, 1]]\\nnumber2d.sort(reverse=True)\\nnumber2d',\n",
       "  '# 무조껀 0번 item기준으로 정렬\\nnumber2d = [[9, 9, 9, 9, 9, 9, 9, 9],\\n           [1, 100],\\n           [10, 1]]\\nnumber2d.sort(reverse=True)\\nnumber2d',\n",
       "  \"pairs = [(2, 'two'), (1, 'one'), (4, 'four'), (3, 'three')]\\npairs.sort()\\npairs\",\n",
       "  \"# 무조껀 0번째 item 기준으로 정렬\\npairs = [(2, 'two'), (1, 'one'), (4, 'four'), (3, 'three')]\\npairs.sort()\\npairs\",\n",
       "  '# 1번째 item 기준으로 정렬(abc순)\\npairs.sort(key=lambda pair : pair[1])\\npairs',\n",
       "  '(lambda item : sum(item))([1,2,3,])',\n",
       "  '# 합이 큰 순으로 정렬\\nnumber2d.sort(key = lambda item : sum(item))',\n",
       "  '# 합이 큰 순으로 정렬\\nnumber2d.sort(key = lambda item : sum(item))\\nnumber2d',\n",
       "  '# 합이 큰 순으로 정렬\\nnumber2d.sort(key = lambda item : sum(item)), reverse=true\\nnumber2d',\n",
       "  '# 합이 큰 순으로 정렬\\nnumber2d.sort(key = lambda item : sum(item)), reverse = true\\nnumber2d',\n",
       "  '# 합이 큰 순으로 정렬\\nnumber2d.sort(key = lambda item : sum(item)), reverse = True\\nnumber2d',\n",
       "  '# 합이 큰 순으로 정렬\\nnumber2d.sort(key = lambda item : sum(item), reverse = True)\\nnumber2d',\n",
       "  'def add(x, y=5):\\n    return key+reverse',\n",
       "  'add(reverse=10, key=7)',\n",
       "  \"students = [\\n    {'name':'홍길동', 'score':90},\\n    {'name':'김길동', 'score':50},\\n    {'name':'윤길동', 'score':99},\\n]\",\n",
       "  'students.sort()\\nstudents',\n",
       "  '# 이름순으로 정렬(ㄱㄴㄷ순)\\nstudents.sort()\\nstudents',\n",
       "  '# 이름순으로 정렬(ㄱㄴㄷ순)\\nstudents.sort()\\nstudents',\n",
       "  '# 이름순으로 정렬(ㄱㄴㄷ순)\\nstudents.sort(key=lambda pair : pair[1])\\nstudents',\n",
       "  '# 이름순으로 정렬(ㄱㄴㄷ순)\\nstudents.sort(key=lambda pair : pair[name])\\nstudents',\n",
       "  \"# 이름순으로 정렬(ㄱㄴㄷ순)\\nstudents.sort(key=lambda item : item['name'])\\nstudents\",\n",
       "  \"students = [\\n    {'name':'홍길동', 'score':90},\\n    {'name':'김길동', 'score':50},\\n    {'name':'윤길동', 'score':99},\\n    {'score':100}\\n]\",\n",
       "  \"# 이름순으로 정렬(ㄱㄴㄷ순)\\nstudents.sort(key=lambda item : item['name'])\\nstudents\",\n",
       "  \"# 이름순으로 정렬(ㄱㄴㄷ순)\\nstudents.sort(key=lambda item : item.get['name'])\\nstudents\",\n",
       "  \"# 이름순으로 정렬(ㄱㄴㄷ순)\\nstudents.sort(key=lambda item : item.get('name'))\\nstudents\",\n",
       "  \"# 이름순으로 정렬(ㄱㄴㄷ순)\\nstudents.sort(key=lambda item : item.get('name','힣'))\\nstudents\",\n",
       "  \"# 이름순으로 정렬(ㄱㄴㄷ순)\\nstudents.sort(key=lambda item : item.get('name','가'))\\nstudents\",\n",
       "  \"# score순으로 정렬(내림차순 정렬)\\nstudents.sort(key=lambda item : item.get('score', 0), reverse=True)  \\nstudents\",\n",
       "  \"# 책제목순 정렬(ㄱㄴㄷ순), 저자순 정렬(ㄱㄴㄷ순), 가격순 정렬\\nbooks =[\\n    {'no':1, 'title':'강남 아파트 인사이트', 'writer':'오스톨', 'price':'25,200'},\\n    {'no':2, 'title':'한 한번의 삶', 'writer':'김영하', 'price':'18,100'},\\n    {'no':3, 'title':'흔한남매 19', 'writer':'백난도', 'price':'14,220'},\\n    {'no':4, 'title':'가격이잘못', 'writer':'홍길동', 'price':'-'},\\n    {'no':5, 'title':'가격이숫자', 'writer':'신길동', 'price':900},\\n    {'no':6, 'title':'가격이없음', 'writer':'김길동'},\\n]\",\n",
       "  \"books.sort(key=lambda book : book.get('title'))\\nbooks\",\n",
       "  \"books.sort(key=lambda book : book.get('writer'))\\nbooks\",\n",
       "  \"# 가격순 정렬은 위의 작업방식과 다르다.\\n# 숫자로 잘못된 것들도 있고, 문자로 구현된 것들도 있음.\\n# 따라서 sort문, 문자인지 숫자인지를 구분하는 작업이 추가로 필요하다.\\nbooks.sort(key=lambda book : book.get('price'.0))\\nbooks\",\n",
       "  \"# 가격순 정렬은 위의 작업방식과 다르다.\\n# 숫자로 잘못된 것들도 있고, 문자로 구현된 것들도 있음.\\n# 따라서 sort문, 문자인지 숫자인지를 구분하는 작업이 추가로 필요하다.\\nbooks.sort(key=lambda book : book.get('price',0))\\nbooks\",\n",
       "  \"# 가격순 정렬은 위의 작업방식과 다르다.\\n# 숫자로 잘못된 것들도 있고, 문자로 구현된 것들도 있음.\\n# 따라서 sort문, 문자인지 숫자인지를 구분하는 작업이 추가로 필요하다.\\nbooks.sort(key=lambda book : book.get('price',0))\\nbooks\\n#해당 방식은 숫자와 문자를 동시에 사용하려 하니 에러가 발생하는 것이다.\",\n",
       "  \"#'14,000' -> 14000 / 800 -> 800 / '-' -> 0\\n#조건식을 만들기 어렵다면 일단 함수를 만들고, 람다식으로 만드는 방법이 추천된다.\\ndef parse_int(price):\\n    print(type(price))\",\n",
       "  'parse_int(800)',\n",
       "  'parse_int(800)\\n#int 타입이면 빼거나 조정하는 작업이 필요하다.',\n",
       "  \"#'14,000' -> 14000 / 800 -> 800 / '-' -> 0  #조건이 3가지가 필요하다.\\n#조건식을 만들기 어렵다면 일단 함수를 만들고, 람다식으로 만드는 방법이 추천된다.\\ndef parse_int(price):\\n    #print(type(price))\\n    if isinstance(price, int):\\n        return price\",\n",
       "  'parse_int(800)\\n#int 타입이면 빼거나 조정하는 작업이 필요하다.',\n",
       "  \"#'14,000' -> 14000 / 800 -> 800 / '-' -> 0  #조건이 3가지가 필요하다.\\n#조건식을 만들기 어렵다면 일단 함수를 만들고, 람다식으로 만드는 방법이 추천된다.\\ndef parse_int(price):\\n    #print(type(price))\\n    if isinstance(prics, str) and price.replace(',','').isdigit():\\n        #↑ 해당 함수는 어떤 값이 특정 자료형인지를 확인할 때 사용되는 함수임.\\n        # isinstance(값, 자료형) #결과는 True 또는 False로 출력됨.\\n        return int(price,replace(',', ''))\\n    elif isinstance(price, int):\\n        return price\",\n",
       "  'parse_int(800)',\n",
       "  \"#'14,000' -> 14000 / 800 -> 800 / '-' -> 0  #조건이 3가지가 필요하다.\\n#조건식을 만들기 어렵다면 일단 함수를 만들고, 람다식으로 만드는 방법이 추천된다.\\ndef parse_int(price):\\n    #print(type(price))\\n    if isinstance(prices, str) and price.replace(',','').isdigit():\\n        #↑ 해당 함수는 어떤 값이 특정 자료형인지를 확인할 때 사용되는 함수임.\\n        # isinstance(값, 자료형) #결과는 True 또는 False로 출력됨.\\n        return int(price,replace(',', ''))\\n    elif isinstance(price, int):\\n        return price\",\n",
       "  \"#'14,000' -> 14000 / 800 -> 800 / '-' -> 0  #조건이 3가지가 필요하다.\\n#조건식을 만들기 어렵다면 일단 함수를 만들고, 람다식으로 만드는 방법이 추천된다.\\ndef parse_int(price):\\n    #print(type(price))\\n    if isinstance(price, str) and price.replace(',','').isdigit():\\n        #↑ 해당 함수는 어떤 값이 특정 자료형인지를 확인할 때 사용되는 함수임.\\n        # isinstance(값, 자료형) #결과는 True 또는 False로 출력됨.\\n        return int(price,replace(',', ''))\\n    elif isinstance(price, int):\\n        return price\",\n",
       "  'parse_int(800)',\n",
       "  'parse_int(\"8,000\"), parse_int(\"8000\"), parse_int(800), parse_int(\\'-\\')',\n",
       "  \"#'14,000' -> 14000 / 800 -> 800 / '-' -> 0  #조건이 3가지가 필요하다.\\n#조건식을 만들기 어렵다면 일단 함수를 만들고, 람다식으로 만드는 방법이 추천된다.\\ndef parse_int(price):\\n    #print(type(price))\\n    if isinstance(price, str) and price.replace(',','').isdigit():\\n        #↑ 해당 함수는 어떤 값이 특정 자료형인지를 확인할 때 사용되는 함수임.\\n        # isinstance(값, 자료형) #결과는 True 또는 False로 출력됨.\\n        return int(price,replace(',',''))\\n    elif isinstance(price, int):\\n        return price\",\n",
       "  'parse_int(\"8,000\"), parse_int(\"8000\"), parse_int(800), parse_int(\\'-\\')',\n",
       "  'parse_int(\"8,000\"), parse_int(\"8000\"), parse_int(800), parse_int(\\'-\\')',\n",
       "  \"#'14,000' -> 14000 / 800 -> 800 / '-' -> 0  #조건이 3가지가 필요하다.\\n#조건식을 만들기 어렵다면 일단 함수를 만들고, 람다식으로 만드는 방법이 추천된다.\\ndef parse_int(price):\\n    #print(type(price))\\n    if isinstance(price, str) and price.replace(',','').isdigit():\\n        #↑ 해당 함수는 어떤 값이 특정 자료형인지를 확인할 때 사용되는 함수임.\\n        # isinstance(값, 자료형) #결과는 True 또는 False로 출력됨.\\n        return int(price.replace(',',''))\\n    elif isinstance(price, int):\\n        return price\",\n",
       "  'parse_int(\"8,000\"), parse_int(\"8000\"), parse_int(800), parse_int(\\'-\\')',\n",
       "  \"# {'no': 6, 'title': '가격이없음', 'writer': '김길동'} => 0 return으로 바꿔야함.(주어진 데이터에서 값이 안나와있으므로)\\n# {'no': 3, 'title': '흔한남매 19', 'writer': '백난도', 'price': '14,220'} => 14220\\n# {'no': 5, 'title': '가격이숫자', 'writer': '신길동', 'price': 900} => 900\\ndef parse_int(book):\\n    if isinstance(book.get('price'),str) and book.get('price').replace(',','').isdigit():\\n        return int(book.get('price').replace(',','') )\\n    elif isinstance(book.get('price'), int):\\n        return book.get('price')\\n    else :\\n        return 0\\nparse_int(books[0])\",\n",
       "  \"# {'no': 6, 'title': '가격이없음', 'writer': '김길동'} => 0 return으로 바꿔야함.(주어진 데이터에서 값이 안나와있으므로)\\n# {'no': 3, 'title': '흔한남매 19', 'writer': '백난도', 'price': '14,220'} => 14220\\n# {'no': 5, 'title': '가격이숫자', 'writer': '신길동', 'price': 900} => 900\\ndef parse_int(book):\\n    if isinstance(book.get('price'),str) and \\\\\\n        book.get('price').replace(',','').isdigit():\\n        return int(book.get('price').replace(',','') )\\n    elif isinstance(book.get('price'), int):\\n        return book.get('price')\\n    else :\\n        return 0\\nparse_int(books[0])\",\n",
       "  \"# {'no': 6, 'title': '가격이없음', 'writer': '김길동'} => 0 return으로 바꿔야함.(주어진 데이터에서 값이 안나와있으므로)\\n# {'no': 3, 'title': '흔한남매 19', 'writer': '백난도', 'price': '14,220'} => 14220\\n# {'no': 5, 'title': '가격이숫자', 'writer': '신길동', 'price': 900} => 900\\ndef parse_int(book):\\n    if isinstance(book.get('price'),str) and \\\\ #함수가 너무 길어져서 가독성이 떨어질 경우 \\\\로 표기함.\\n        book.get('price').replace(',','').isdigit():\\n        return int(book.get('price').replace(',','') )\\n    elif isinstance(book.get('price'), int):\\n        return book.get('price')\\n    else :\\n        return 0\\nparse_int(books[0]), parse_int(books[3]), parse_int(books[2]), parse_int(books[5])\",\n",
       "  \"# {'no': 6, 'title': '가격이없음', 'writer': '김길동'} => 0 return으로 바꿔야함.(주어진 데이터에서 값이 안나와있으므로)\\n# {'no': 3, 'title': '흔한남매 19', 'writer': '백난도', 'price': '14,220'} => 14220\\n# {'no': 5, 'title': '가격이숫자', 'writer': '신길동', 'price': 900} => 900\\ndef parse_int(book):\\n    if isinstance(book.get('price'),str) and book.get('price').replace(',','').isdigit():\\n        return int(book.get('price').replace(',','') )\\n    elif isinstance(book.get('price'), int):\\n        return book.get('price')\\n    else :\\n        return 0\\nparse_int(books[0]), parse_int(books[3]), parse_int(books[2]), parse_int(books[5])\",\n",
       "  \"# {'no': 6, 'title': '가격이없음', 'writer': '김길동'} => 0 return으로 바꿔야함.(주어진 데이터에서 값이 안나와있으므로)\\n# {'no': 3, 'title': '흔한남매 19', 'writer': '백난도', 'price': '14,220'} => 14220\\n# {'no': 5, 'title': '가격이숫자', 'writer': '신길동', 'price': 900} => 900\\ndef parse_int(book):\\n    if isinstance(book.get('price'),str) and \\\\\\n    book.get('price').replace(',','').isdigit():\\n        return int(book.get('price').replace(',','') )\\n    elif isinstance(book.get('price'), int):\\n        return book.get('price')\\n    else :\\n        return 0\\nparse_int(books[0]), parse_int(books[3]), parse_int(books[2]), parse_int(books[5])\\n#람다식 변경시 if문이 맨 위로 오도록 하는것이 편리할 수 있음.\",\n",
       "  \"# {'no': 6, 'title': '가격이없음', 'writer': '김길동'} => 0 return으로 바꿔야함.(주어진 데이터에서 값이 안나와있으므로)\\n# {'no': 3, 'title': '흔한남매 19', 'writer': '백난도', 'price': '14,220'} => 14220\\n# {'no': 5, 'title': '가격이숫자', 'writer': '신길동', 'price': 900} => 900\\ndef parse_int(book):\\n    if isinstance(book.get('price'),str) and \\\\\\n    book.get('price').replace(',','').isdigit():\\n        return int(book.get('price').replace(',','') )\\n    elif isinstance(book.get('price'), int):\\n        return book.get('price')\\n    else :\\n        return 0\\nparse_int(books[0]), parse_int(books[3]), parse_int(books[2]), parse_int(books[5])\\n#람다식 변경시 if문이 맨 위로 오도록 하는것이 편리할 수 있음.\",\n",
       "  'copy_books',\n",
       "  \"books =[\\n    {'no':1, 'title':'강남 아파트 인사이트', 'writer':'오스톨', 'price':'25,200'},\\n    {'no':2, 'title':'한 한번의 삶', 'writer':'김영하', 'price':'18,100'},\\n    {'no':3, 'title':'흔한남매 19', 'writer':'백난도', 'price':'14,220'},\\n    {'no':4, 'title':'가격이잘못', 'writer':'홍길동', 'price':'-'},\\n    {'no':5, 'title':'가격이숫자', 'writer':'신길동', 'price':900},\\n    {'no':6, 'title':'가격이없음', 'writer':'김길동'},\\n]\\ncopy_books = books.copy() #깊은복사\",\n",
       "  \"copy_books.sort(key = lambda book : \\n                int(book.get('price').replace(',','')) \\\\\\n                    if isinstance(book.get('price'),str) and \\\\\\n                    book.get('price').replace(',','').isdigit() else \\\\\\n                book.get('price') if isinstance(book.get('price'), int) else \\\\\\n                0               \\n               )\",\n",
       "  \"#람다식 테스트 확인\\n(lambda book : \\n                int(book.get('price').replace(',','')) \\\\\\n                    if isinstance(book.get('price'),str) and \\\\\\n                    book.get('price').replace(',','').isdigit() else \\\\\\n                book.get('price') if isinstance(book.get('price'), int) else \\\\\\n                0 )(books[0])\",\n",
       "  'line_func = make_box([2,3])\\nline_func(3)',\n",
       "  '# 함수를 return\\ndef make_box(shape): #shape : [l]=>len가 l인 list를 생성하는 함수 return, [l], \\n                    #         [r,c] => r행 c열인 list를 생성하는 함수 return\\n    def box(init_value):\\n        if len(shape)==1:\\n            return [init_value]*shape[0]\\n        elif len(shape)==2:\\n            return [ [init_value]*shape[1] ] * shape[0]\\n    return box',\n",
       "  'line_func = make_box([2,3])\\nline_func(3)',\n",
       "  'line_func1 = make_box([10])\\nline_func(3)',\n",
       "  'line_func1 = make_box([10])\\nline_func1(3)',\n",
       "  'def make_box(shape) :\\n    if len(shape)==1:\\n        return lambda init_value : [init_value]*shape[0]\\n    else len(shape)==2:\\n        return lambda init_value : [[init_value]*shape[1]]*shape[0]',\n",
       "  'globals()'],\n",
       " '_oh': {3: [[1, 2, 3, 4, 5, 6, 7, 8, 9, 10, 1, 2, 3, 4, 5, 6, 7, 8, 9, 10],\n",
       "   [1, 2, 3, 4, 5, 6, 7, 8, 9, 10, 1, 2, 3, 4, 5, 6, 7, 8, 9, 10],\n",
       "   [1, 2, 3, 4, 5, 6, 7, 8, 9, 10, 1, 2, 3, 4, 5, 6, 7, 8, 9, 10],\n",
       "   [1, 2, 3, 4, 5, 6, 7, 8, 9, 10, 1, 2, 3, 4, 5, 6, 7, 8, 9, 10],\n",
       "   [1, 2, 3, 4, 5, 6, 7, 8, 9, 10, 1, 2, 3, 4, 5, 6, 7, 8, 9, 10],\n",
       "   [1, 2, 3, 4, 5, 6, 7, 8, 9, 10, 1, 2, 3, 4, 5, 6, 7, 8, 9, 10],\n",
       "   [1, 2, 3, 4, 5, 6, 7, 8, 9, 10, 1, 2, 3, 4, 5, 6, 7, 8, 9, 10],\n",
       "   [1, 2, 3, 4, 5, 6, 7, 8, 9, 10, 1, 2, 3, 4, 5, 6, 7, 8, 9, 10],\n",
       "   [1, 2, 3, 4, 5, 6, 7, 8, 9, 10, 1, 2, 3, 4, 5, 6, 7, 8, 9, 10],\n",
       "   [1, 2, 3, 4, 5, 6, 7, 8, 9, 10, 1, 2, 3, 4, 5, 6, 7, 8, 9, 10]],\n",
       "  5: [2, 4, 6, 8, 10, 12, 14, 16, 18, 20],\n",
       "  6: [2, 4, 6, 8, 10, 12, 14, 16, 18, 20],\n",
       "  7: [2, 4, 6, 8, 10, 12, 14, 16, 18, 20],\n",
       "  8: [2, 4, 6, 8, 10, 12, 14, 16, 18, 20],\n",
       "  9: [2, 4, 6, 8, 10, 12, 14, 16, 18, 20],\n",
       "  10: <map at 0x1e387770430>,\n",
       "  11: [2, 4, 6, 8, 10, 12, 14, 16, 18, 20],\n",
       "  13: (5000, 1800),\n",
       "  20: [5000, 800, 1000, 6000],\n",
       "  28: {'year': 2000, 'month': 1, 'day': 1},\n",
       "  31: {'year': 2000, 'month': 1, 'day': 1},\n",
       "  34: {'year': 2000, 'month': 1, 'day': 1},\n",
       "  36: {'year': 2000, 'month': 1, 'day': 1},\n",
       "  51: {'year': 2000, 'month': 1, 'day': 1},\n",
       "  54: {'name': '홍길동', 'year': 2000, 'month': 1, 'day': 1},\n",
       "  56: [{'name': '홍길동', 'year': 2000, 'month': 1, 'day': 1},\n",
       "   {'name': '신길동', 'year': 1998, 'month': 12, 'day': 31}],\n",
       "  78: '2000-01-01',\n",
       "  84: [{'name': '홍길동', 'birth': '2000-01-01'},\n",
       "   {'name': '신길동', 'birth': '1998-12-31'}],\n",
       "  86: (True, False),\n",
       "  87: [],\n",
       "  88: [2, 4],\n",
       "  89: [2, 4],\n",
       "  90: [2, 4],\n",
       "  92: [2, 4],\n",
       "  93: [9, 7, 2],\n",
       "  94: [[1, 100], [9, 9], [10, 1]],\n",
       "  95: [[10, 1], [9, 9], [1, 100]],\n",
       "  96: [[1, 100], [9, 9, 9, 9, 9, 9, 9, 9], [10, 1]],\n",
       "  97: [(1, 'one'), (2, 'two'), (3, 'three'), (4, 'four')],\n",
       "  98: [(4, 'four'), (1, 'one'), (3, 'three'), (2, 'two')],\n",
       "  99: [(4, 'four'), (1, 'one'), (3, 'three'), (2, 'two')],\n",
       "  100: 6,\n",
       "  102: [[1, 100], [9, 9, 9, 9, 9, 9, 9, 9], [10, 1]],\n",
       "  106: [[1, 100], [9, 9, 9, 9, 9, 9, 9, 9], [10, 1]],\n",
       "  115: [{'name': '김길동', 'score': 50},\n",
       "   {'name': '윤길동', 'score': 99},\n",
       "   {'name': '홍길동', 'score': 90}],\n",
       "  120: [{'score': 100},\n",
       "   {'name': '윤길동', 'score': 99},\n",
       "   {'name': '홍길동', 'score': 90},\n",
       "   {'name': '김길동', 'score': 50}],\n",
       "  121: [{'score': 100},\n",
       "   {'name': '윤길동', 'score': 99},\n",
       "   {'name': '홍길동', 'score': 90},\n",
       "   {'name': '김길동', 'score': 50}],\n",
       "  122: [{'score': 100},\n",
       "   {'name': '윤길동', 'score': 99},\n",
       "   {'name': '홍길동', 'score': 90},\n",
       "   {'name': '김길동', 'score': 50}],\n",
       "  124: [{'no': 6, 'title': '가격이없음', 'writer': '김길동'},\n",
       "   {'no': 2, 'title': '한 한번의 삶', 'writer': '김영하', 'price': '18,100'},\n",
       "   {'no': 3, 'title': '흔한남매 19', 'writer': '백난도', 'price': '14,220'},\n",
       "   {'no': 5, 'title': '가격이숫자', 'writer': '신길동', 'price': 900},\n",
       "   {'no': 1, 'title': '강남 아파트 인사이트', 'writer': '오스톨', 'price': '25,200'},\n",
       "   {'no': 4, 'title': '가격이잘못', 'writer': '홍길동', 'price': '-'}],\n",
       "  125: [{'no': 6, 'title': '가격이없음', 'writer': '김길동'},\n",
       "   {'no': 2, 'title': '한 한번의 삶', 'writer': '김영하', 'price': '18,100'},\n",
       "   {'no': 3, 'title': '흔한남매 19', 'writer': '백난도', 'price': '14,220'},\n",
       "   {'no': 5, 'title': '가격이숫자', 'writer': '신길동', 'price': 900},\n",
       "   {'no': 1, 'title': '강남 아파트 인사이트', 'writer': '오스톨', 'price': '25,200'},\n",
       "   {'no': 4, 'title': '가격이잘못', 'writer': '홍길동', 'price': '-'}],\n",
       "  133: 800,\n",
       "  138: 800,\n",
       "  144: (8000, 8000, 800, None),\n",
       "  145: 0,\n",
       "  146: 0,\n",
       "  148: (0, 900, 14220, 0),\n",
       "  149: (0, 900, 14220, 0),\n",
       "  150: (0, 900, 14220, 0),\n",
       "  154: 25200,\n",
       "  157: [[3, 3, 3], [3, 3, 3]],\n",
       "  158: [[3, 3, 3], [3, 3, 3]],\n",
       "  159: [3, 3, 3, 3, 3, 3, 3, 3, 3, 3]},\n",
       " '_dh': [WindowsPath('C:/AI_x/04_source/01_python')],\n",
       " 'In': ['',\n",
       "  'from IPython.display import display, HTML\\ndisplay(HTML(\"\"\"\\n<style>\\ndiv.container{width:95% !important;}\\ndiv.cell.code_cell.rendered{width:100%;}\\ndiv.CodeMirror {font-family:Consolas; font-size:15pt;}\\ndiv.output {font-size:15pt; font-weight:bold;}\\ndiv.input {font-family:Consolas; font-size:15pt;}\\ndiv.prompt {min-width:70px;}\\ndiv#toc-wrapper{padding-top:120px;}\\ndiv.text_cell_render ul li{font-size:12pt;padding:5px;}\\ntable.dataframe{font-size:15px;}\\n</style>\\n\"\"\"))',\n",
       "  \"def map_template(func, L=[1, 2, 3]):\\n    '''\\n    L의 모든 요소를 func()함수를 적용시켜 return\\n    [func(1) for 1 in L]\\n    '''\\n    result = []\\n    for l in L:\\n        result.append(func(L))\\n    return result\\n#    result = [func(1) for l in L]\",\n",
       "  'list_data = [1, 2, 3, 4, 5, 6, 7, 8, 9, 10]\\ndef x_2(x):\\n    return x*2\\nmap_template(x_2, list_data)',\n",
       "  \"def map_template(func, L=[]):\\n    '''\\n    L의 모든 요소를 func()함수를 적용시켜 return\\n    '''\\n    result = []\\n    for l in L:\\n        result.append(func(l))\\n    return result\\n#    result = [func(1) for l in L]\",\n",
       "  'list_data = [1, 2, 3, 4, 5, 6, 7, 8, 9, 10]\\ndef x_2(x):\\n    return x*2\\nmap_template(x_2, list_data)',\n",
       "  'list_data = [1, 2, 3, 4, 5, 6, 7, 8, 9, 10]\\nmap_template(lambda x : x*2, list_data)\\n# def x_2(x):\\n#     return x*2\\n# map_template(x_2, list_data)',\n",
       "  '# 리스트 데이터를 가공하는 방법 1. map\\nlist_data = [1, 2, 3, 4, 5, 6, 7, 8, 9, 10]\\nmap_template(lambda x : x*2, list_data)\\n# def x_2(x):\\n#     return x*2\\n# map_template(x_2, list_data)',\n",
       "  '# 리스트 데이터를 가공하는 방법 2. 리스트 컴프리헨션\\n[l*2 for l in list_data]',\n",
       "  '# 리스트 데이터를 가공하는 방법 1. map_template\\nlist_data = [1, 2, 3, 4, 5, 6, 7, 8, 9, 10]\\nmap_template(lambda x : x*2, list_data)\\n# def x_2(x):\\n#     return x*2\\n# map_template(x_2, list_data)',\n",
       "  '# 리스트 데이터를 가공하는 방법 3. map():파이썬 내장함수\\nmap(lambda x : x*2, list_data)',\n",
       "  '# 리스트 데이터를 가공하는 방법 3. map():파이썬 내장함수\\nlist(map(lambda x : x*2, list_data))',\n",
       "  \"for item in map(lambda x : x*2, list_data):\\n    print(item, end=' ')\",\n",
       "  'def func(x):\\n    return int(x.replace(\\',\\',\\'\\'))\\nfunc(\"5,000\"), func(\"1800\")',\n",
       "  \"map(lambda x : int(x.replace(',','')), prices))\",\n",
       "  \"map(lambda x : int(x.replace(',',''))), prices))\",\n",
       "  \"map(lambda x : int(x.replace(',','')), prices)\",\n",
       "  \"map(lambda x : int(x.replace(',','')), prices)\",\n",
       "  \"list(map(lambda x : int(x.replace(',','')), prices))\",\n",
       "  \"'''\\n예제 1. [5000,800,1000,6000]로 바꾸시오(map함수 사용)\\n'''\\nprices = ['5,000', '800', '1000', '6,000']\",\n",
       "  \"list(map(lambda x : int(x.replace(',','')), prices))\",\n",
       "  'split_date(\"2000-01-01\")',\n",
       "  \"# '2000-01-01' => {'year':1998, 'month':12, 'day':31}\\ndef split_date(date):\\n    split_date = date.split('-')\",\n",
       "  'split_date(\"2000-01-01\")',\n",
       "  'split_date(\"2000-01-01\")',\n",
       "  \"# '2000-01-01' => {'year':1998, 'month':12, 'day':31}\\ndef split_date(date):\\n    split_data = date.split('-')\",\n",
       "  'split_date(\"2000-01-01\")',\n",
       "  \"# '2000-01-01' => {'year':1998, 'month':12, 'day':31}\\ndef split_date(date):\\n    split_data = date.split('-')\\n    print(split_data[0], split_data[1], split_data[2])\\n    return {'year': int(split_data[0]),\\n           'month': int(split_data[1]),\\n           'day': int(split_data[2])}\",\n",
       "  'split_date(\"2000-01-01\")',\n",
       "  \"# '2000-01-01' => {'year':1998, 'month':12, 'day':31}\\ndef split_date(date):\\n    split_data = date.split('-')\\n    print(split_data[0], split_data[1], split_data[2])\\n    return {'year': int(split_data[0]),\\n           'month': int(split_data[1]),\\n           'day': int(split_data[2])})\",\n",
       "  \"# '2000-01-01' => {'year':1998, 'month':12, 'day':31}\\ndef split_date(date):\\n    split_data = date.split('-')\\n    print(split_data[0], split_data[1], split_data[2])\\n    return {'year': int(split_data[0]),\\n           'month': int(split_data[1]),\\n           'day': int(split_data[2])}\",\n",
       "  'split_date(\"2000-01-01\")',\n",
       "  \"# '2000-01-01' => {'year':1998, 'month':12, 'day':31}\\ndef split_date(date):\\n    split_data = date.split('-')\\n#     print(split_data[0], split_data[1], split_data[2])\\n    print(split_data[0], split_data[1], split_data[2])\\n    return {'year': int(split_data[0]),\\n           'month': int(split_data[1]),\\n           'day': int(split_data[2])}\",\n",
       "  \"# '2000-01-01' => {'year':1998, 'month':12, 'day':31}\\ndef split_date(date):\\n    split_data = date.split('-')\\n#     print(split_data[0], split_data[1], split_data[2])\\n    print(split_data[0], split_data[1], split_data[2])\\n    return {'year': int(split_data[0]),\\n           'month': int(split_data[1]),\\n           'day': int(split_data[2])\\n           }\",\n",
       "  'split_date(\"2000-01-01\")',\n",
       "  \"# '2000-01-01' => {'year':1998, 'month':12, 'day':31}\\ndef split_date(date):\\n    split_data = date.split('-')\\n#    print(split_data[0], split_data[1], split_data[2])\\n    return {'year': int(split_data[0]),\\n           'month': int(split_data[1]),\\n           'day': int(split_data[2])\\n           }\",\n",
       "  'split_date(\"2000-01-01\")',\n",
       "  \"def member_func(menber): #{'name':'홍길동', 'birth':'2000-01-01'}\\n    '{'name':'신길동', 'year':1998, 'month':12, 'day':31}식으로 return'\\n    return {\\n        'name': menber.get('name'),\\n        'year': int(member['birth'].split('-')[0])\\n    }\",\n",
       "  \"def member_func(menber): #{'name':'홍길동', 'birth':'2000-01-01'}\\n    '{'name':'신길동', 'year':1998, 'month':12, 'day':31}식으로 return'\\n    return {\\n        'name': menber.get('name'),\\n        'year': int(member['birth'].split('-')[0])\\n    }\",\n",
       "  \"def member_func(menber): #{'name':'홍길동', 'birth':'2000-01-01'}\\n    '{'name':'신길동', 'year':1998, 'month':12, 'day':31}식으로 return'\\n    return {\\n        'name': menber.get('name'),\\n        'year': int(member['birth'].split('-')[0])\\n    }\",\n",
       "  'def member_func(menber): #{\\'name\\':\\'홍길동\\', \\'birth\\':\\'2000-01-01\\'}\\n    \"{\\'name\\':\\'신길동\\', \\'year\\':1998, \\'month\\':12, \\'day\\':31}식으로 return\"\\n    return {\\n        \\'name\\': menber.get(\\'name\\'),\\n        \\'year\\': int(member[\\'birth\\'].split(\\'-\\')[0])\\n    }',\n",
       "  'def member_func(menber): #{\\'name\\':\\'홍길동\\', \\'birth\\':\\'2000-01-01\\'}\\n    \"{\\'name\\':\\'신길동\\', \\'year\\':1998, \\'month\\':12, \\'day\\':31}식으로 return\"\\n    return {\\n        \\'name\\': menber.get(\\'name\\'),\\n        \\'year\\': int(member[\\'birth\\'].split(\\'-\\')[0]),\\n        \\'month\\': int(member[\\'birth\\'].split(\\'-\\')[1])\\n        \\'day\\': int(member[\\'birth\\'].split(\\'-\\')[2])\\n    }',\n",
       "  'def member_func(menber): #{\\'name\\':\\'홍길동\\', \\'birth\\':\\'2000-01-01\\'}\\n    \"{\\'name\\':\\'신길동\\', \\'year\\':1998, \\'month\\':12, \\'day\\':31}식으로 return\"\\n    return {\\n        \\'name\\': menber.get(\\'name\\'),\\n        \\'year\\': int(member[\\'birth\\'].split(\\'-\\')[0]),\\n        \\'month\\': int(member[\\'birth\\'].split(\\'-\\')[1]),\\n        \\'day\\': int(member[\\'birth\\'].split(\\'-\\')[2]),\\n    }',\n",
       "  \"'''\\n예제 2. member1=[{'name':'홍길동', 'birth':'2000-01-01'},\\n                {'name':'신길동', 'birth':'1998-12-31'},]를\\n        member2=[{'name':'홍길동', 'year':2000, 'month':1, 'day':1},\\n                 {'name':'신길동', 'year':1998, 'month':12, 'day':31},]를 바꿉니다.\\n'''\\nmember1=[{'name':'홍길동', 'birth':'2000-01-01'},\\n         {'name':'신길동', 'birth':'1998-12-31'},]\",\n",
       "  'def member_func(menber): #{\\'name\\':\\'홍길동\\', \\'birth\\':\\'2000-01-01\\'}\\n    \"{\\'name\\':\\'신길동\\', \\'year\\':1998, \\'month\\':12, \\'day\\':31}식으로 return\"\\n    return {\\n        \\'name\\': menber.get(\\'name\\'),\\n        \\'year\\': int(member[\\'birth\\'].split(\\'-\\')[0]),\\n        \\'month\\': int(member[\\'birth\\'].split(\\'-\\')[1]),\\n        \\'day\\': int(member[\\'birth\\'].split(\\'-\\')[2]),\\n    }\\nmember_func(member1[0])',\n",
       "  \"'''\\n예제 2. member1=[{'name':'홍길동', 'birth':'2000-01-01'},\\n                {'name':'신길동', 'birth':'1998-12-31'},]를\\n        member2=[{'name':'홍길동', 'year':2000, 'month':1, 'day':1},\\n                 {'name':'신길동', 'year':1998, 'month':12, 'day':31},]를 바꿉니다.\\n'''\\nmember1=[{'name':'홍길동', 'birth':'2000-01-01'},\\n         {'name':'신길동', 'birth':'1998-12-31'},]\",\n",
       "  'def member_func(menber): #{\\'name\\':\\'홍길동\\', \\'birth\\':\\'2000-01-01\\'}\\n    \"{\\'name\\':\\'신길동\\', \\'year\\':1998, \\'month\\':12, \\'day\\':31}식으로 return\"\\n    return {\\n        \\'name\\': menber.get(\\'name\\'),\\n        \\'year\\': int(member[\\'birth\\'].split(\\'-\\')[0]),\\n        \\'month\\': int(member[\\'birth\\'].split(\\'-\\')[1]),\\n        \\'day\\': int(member[\\'birth\\'].split(\\'-\\')[2]),\\n    }\\nmember_func(member1[0])',\n",
       "  'def member_func(menber): #{\\'name\\':\\'홍길동\\', \\'birth\\':\\'2000-01-01\\'}\\n    \"{\\'name\\':\\'신길동\\', \\'year\\':1998, \\'month\\':12, \\'day\\':31}식으로 return\"\\n    return {\\n        \\'name\\': menber.get(\\'name\\'),\\n        \\'year\\': int(member[\\'birth\\'].split(\\'-\\')[0]),\\n        \\'month\\': int(member[\\'birth\\'].split(\\'-\\')[1]),\\n        \\'day\\': int(member[\\'birth\\'].split(\\'-\\')[2]),\\n    }\\nmember_func(member1[0])',\n",
       "  \"# '2000-01-01' => {'year':1998, 'month':12, 'day':31}\\ndef split_date(date):\\n    split_data = date.split('-')\\n#    print(split_data[0], split_data[1], split_data[2])\\n    return {'year': int(split_data[0]),\\n           'month': int(split_data[1]),\\n           'day': int(split_data[2])\\n           }\",\n",
       "  \"'''\\n예제 2. member1=[{'name':'홍길동', 'birth':'2000-01-01'},\\n                {'name':'신길동', 'birth':'1998-12-31'},]를\\n        member2=[{'name':'홍길동', 'year':2000, 'month':1, 'day':1},\\n                 {'name':'신길동', 'year':1998, 'month':12, 'day':31},]를 바꿉니다.\\n'''\\nmember1=[{'name':'홍길동', 'birth':'2000-01-01'},\\n         {'name':'신길동', 'birth':'1998-12-31'},]\",\n",
       "  \"# '2000-01-01' => {'year':1998, 'month':12, 'day':31}\\ndef split_date(date):\\n    split_data = date.split('-')\\n#    print(split_data[0], split_data[1], split_data[2])\\n    return {'year': int(split_data[0]),\\n           'month': int(split_data[1]),\\n           'day': int(split_data[2])\\n           }\",\n",
       "  'split_date(\"2000-01-01\")',\n",
       "  'def member_func(menber): #{\\'name\\':\\'홍길동\\', \\'birth\\':\\'2000-01-01\\'}\\n    \"{\\'name\\':\\'신길동\\', \\'year\\':1998, \\'month\\':12, \\'day\\':31}식으로 return\"\\n    return {\\n        \\'name\\': menber.get(\\'name\\'),\\n        \\'year\\': int(member[\\'birth\\'].split(\\'-\\')[0]),\\n        \\'month\\': int(member[\\'birth\\'].split(\\'-\\')[1]),\\n        \\'day\\': int(member[\\'birth\\'].split(\\'-\\')[2]),\\n    }\\nmember_func(member1[0])',\n",
       "  \"member2 =list(map(lambda member : {\\n                        'name': menber.get('name'),\\n                        'year': int(member['birth'].split('-')[0]),\\n                        'month': int(member['birth'].split('-')[1]),\\n                        'day': int(member['birth'].split('-')[2]),\\n                        } ,\\n        member1\\n        )\\n    )\\nmember2\",\n",
       "  'def member_func(member): #{\\'name\\':\\'홍길동\\', \\'birth\\':\\'2000-01-01\\'}\\n    \"{\\'name\\':\\'신길동\\', \\'year\\':1998, \\'month\\':12, \\'day\\':31}식으로 return\"\\n    return {\\n        \\'name\\': member.get(\\'name\\'),\\n        \\'year\\': int(member[\\'birth\\'].split(\\'-\\')[0]),\\n        \\'month\\': int(member[\\'birth\\'].split(\\'-\\')[1]),\\n        \\'day\\': int(member[\\'birth\\'].split(\\'-\\')[2]),\\n    }\\nmember_func(member1[0])',\n",
       "  \"member2 =list(map(lambda member : {\\n                        'name': menber.get('name'),\\n                        'year': int(member['birth'].split('-')[0]),\\n                        'month': int(member['birth'].split('-')[1]),\\n                        'day': int(member['birth'].split('-')[2]),\\n                        } ,\\n        member1\\n        )\\n    )\\nmember2\",\n",
       "  \"member2 =list(map(lambda member : {\\n                        'name': member.get('name'),\\n                        'year': int(member['birth'].split('-')[0]),\\n                        'month': int(member['birth'].split('-')[1]),\\n                        'day': int(member['birth'].split('-')[2]),\\n                        } ,\\n        member1\\n        )\\n    )\\nmember2\",\n",
       "  \"join_date({'year':2000, 'month': 1, 'day': 1})\",\n",
       "  '#{\\'year\\': 2000, \\'month\\':1, \\'day\\':1} => \"2000-01-01\"를 return하는 함수\\ndef join_date(data):\\n    print(data)',\n",
       "  \"join_date({'year':2000, 'month': 1, 'day': 1})\",\n",
       "  '#{\\'year\\': 2000, \\'month\\':1, \\'day\\':1} => \"2000-01-01\"를 return하는 함수\\ndef join_date(data):\\n    print(data)',\n",
       "  '#{\\'year\\': 2000, \\'month\\':1, \\'day\\':1} => \"2000-01-01\"를 return하는 함수\\ndef join_date(data):\\n    print(data.get(\\'year\\'), data.get(\\'month\\'), data.get(\\'day\\'))',\n",
       "  \"join_date({'year':2000, 'month': 1, 'day': 1})\",\n",
       "  '#{\\'year\\': 2000, \\'month\\':1, \\'day\\':1} => \"2000-01-01\"를 return하는 함수\\ndef join_date(data):\\n    print([data.get(\\'year\\'), data.get(\\'month\\'), data.get(\\'day\\')])\\n    return \\'-\\'.join([data.get(\\'year\\'), data.get(\\'month\\'), data.get(\\'day\\')])',\n",
       "  \"join_date({'year':2000, 'month': 1, 'day': 1})\",\n",
       "  '#{\\'year\\': 2000, \\'month\\':1, \\'day\\':1} => \"2000-01-01\"를 return하는 함수\\ndef join_date(data):\\n    print([data.get(\\'year\\'), data.get(\\'month\\'), data.get(\\'day\\')])\\n    year = str(data.get(\\'year\\'))\\n    return \\'-\\'.join([year, data.get(\\'year\\'), data.get(\\'month\\'), data.get(\\'day\\')])',\n",
       "  \"join_date({'year':2000, 'month': 1, 'day': 1})\",\n",
       "  '#{\\'year\\': 2000, \\'month\\':1, \\'day\\':1} => \"2000-01-01\"를 return하는 함수\\ndef join_date(data):\\n    print([data.get(\\'year\\'), data.get(\\'month\\'), data.get(\\'day\\')])\\n    year = str(data.get(\\'year\\'))\\n    month = str(data.get(\\'month\\'))\\n    return \\'-\\'.join([year, data.get(\\'year\\'), data.get(\\'month\\'), data.get(\\'day\\')])',\n",
       "  \"join_date({'year':2000, 'month': 1, 'day': 1})\",\n",
       "  '#{\\'year\\': 2000, \\'month\\':1, \\'day\\':1} => \"2000-01-01\"를 return하는 함수\\ndef join_date(data):\\n    print([data.get(\\'year\\'), data.get(\\'month\\'), data.get(\\'day\\')])\\n    year = str(data.get(\\'year\\'))\\n    month = data.get(\\'month\\')\\n    \\n    return \\'-\\'.join([year, data.get(\\'year\\'), data.get(\\'month\\'), data.get(\\'day\\')])',\n",
       "  '#{\\'year\\': 2000, \\'month\\':1, \\'day\\':1} => \"2000-01-01\"를 return하는 함수\\ndef join_date(data):\\n    print([data.get(\\'year\\'), data.get(\\'month\\'), data.get(\\'day\\')])\\n    year = str(data.get(\\'year\\'))\\n    month = data.get(\\'month\\')\\n    if month < 10:\\n        month = \\'0\\'+str(month)\\n    else:\\n        month = str(month)\\n    day = data.get(\\'day\\')\\n    if month < 10:\\n        month = \\'0\\'+str(day)\\n    else:\\n        month = str(month)    \\n    return \\'-\\'.join([year, data.get(\\'year\\'), data.get(\\'month\\'), data.get(\\'day\\')])',\n",
       "  \"join_date({'year':2000, 'month': 1, 'day': 1})\",\n",
       "  '#{\\'year\\': 2000, \\'month\\':1, \\'day\\':1} => \"2000-01-01\"를 return하는 함수\\ndef join_date(data):\\n    #print([data.get(\\'year\\'), data.get(\\'month\\'), data.get(\\'day\\')])\\n    year = str(data.get(\\'year\\'))\\n    month = data.get(\\'month\\')\\n    if month < 10:\\n        month = \\'0\\'+str(month)\\n    else:\\n        month = str(month)\\n    day = data.get(\\'day\\')\\n    if month < 10:\\n        month = \\'0\\'+str(day)\\n    else:\\n        month = str(month)    \\n    return \\'-\\'.join([year, data.get(\\'year\\'), data.get(\\'month\\'), data.get(\\'day\\')])',\n",
       "  \"join_date({'year':2000, 'month': 1, 'day': 1})\",\n",
       "  '#{\\'year\\': 2000, \\'month\\':1, \\'day\\':1} => \"2000-01-01\"를 return하는 함수\\ndef join_date(data):\\n    #print([data.get(\\'year\\'), data.get(\\'month\\'), data.get(\\'day\\')])\\n    year = str(data.get(\\'year\\'))\\n    month = data.get(\\'month\\')\\n    if month < 10:\\n        month = \\'0\\'+str(month)\\n    else:\\n        month = str(month)\\n    day = data.get(\\'day\\')\\n    if day < 10:\\n        day = \\'0\\'+str(day)\\n    else:\\n        day = str(month)    \\n    return \\'-\\'.join([year, data.get(\\'year\\'), data.get(\\'month\\'), data.get(\\'day\\')])',\n",
       "  '#{\\'year\\': 2000, \\'month\\':1, \\'day\\':1} => \"2000-01-01\"를 return하는 함수\\ndef join_date(data):\\n    #print([data.get(\\'year\\'), data.get(\\'month\\'), data.get(\\'day\\')])\\n    year = str(data.get(\\'year\\'))\\n    month = data.get(\\'month\\')\\n    if month < 10:\\n        month = \\'0\\'+str(month)\\n    else:\\n        month = str(month)\\n    day = data.get(\\'day\\')\\n    if day < 10:\\n        day = \\'0\\'+str(day)\\n    else:\\n        day = str(month)    \\n    return \\'-\\'.join([year, data.get(\\'year\\'), data.get(\\'month\\'), data.get(\\'day\\')])',\n",
       "  \"join_date({'year':2000, 'month': 1, 'day': 1})\",\n",
       "  '# {\\'year\\': 2000, \\'month\\': 1, \\'day\\': 1} => \"2000-01-01\"를 return하는 함수\\ndef join_date(data):\\n    # print([data.get(\\'year\\'), data.get(\\'month\\'), data.get(\\'day\\')])\\n    year = str(data.get(\\'year\\'))\\n    month = data.get(\\'month\\')\\n    if month < 10:\\n        month = \\'0\\'+str(month)\\n    else:\\n        month = str(month)\\n    day = data.get(\\'day\\')\\n    if day < 10:\\n        day = \\'0\\'+str(day)\\n    else:\\n        day = str(day)\\n    return \\'-\\'.join([year, month, day])',\n",
       "  \"join_date({'year': 2000, 'month': 1, 'day': 1})\",\n",
       "  'def join_date(data):\\n    print(\"{}-{:02}={:02}\".format(data.get(\\'year\\'),\\n                                  data.get(\\'month\\'),\\n                                  data.get(\\'day\\')))',\n",
       "  'def join_date(data):\\n    print(\"{year}-{month:02}={day:02}\".format(\\n                                  year = data.get(\\'year\\'),\\n                                  month = data.get(\\'month\\'),\\n                                  day= data.get(\\'day\\')))',\n",
       "  'def join_date(data):\\n    return \"{year}-{month:02}-{day:02}\".format(**data)',\n",
       "  '# {\\'name\\':\\'홍길동\\', \\'year\\':2000, \\'month\\':1, \\'day\\':1}(member2)를\\n# {\\'name\\':\\'홍길동\\', \\'birth\\':\\'2000-01-01\\'}으로 가공\\nlist(map(lambda member : {\\n        \\'name\\' : member.get(\\'name\\'),\\n        \\'birth\\' : \"{year}-{month:02}-{day:02}\".format(**data)\\n        },\\n    member2\\n))',\n",
       "  '# {\\'name\\':\\'홍길동\\', \\'year\\':2000, \\'month\\':1, \\'day\\':1}(member2)를\\n# {\\'name\\':\\'홍길동\\', \\'birth\\':\\'2000-01-01\\'}으로 가공\\nlist(map(lambda member : {\\n                        \\'name\\' : member.get(\\'name\\'),\\n                        \\'birth\\' : \"{year}-{month:02}-{day:02}\".format(**data)\\n                        },\\n    member2\\n))',\n",
       "  '# {\\'name\\':\\'홍길동\\', \\'year\\':2000, \\'month\\':1, \\'day\\':1}(member2)를\\n# {\\'name\\':\\'홍길동\\', \\'birth\\':\\'2000-01-01\\'}으로 가공\\nlist(map(lambda member : {\\n                        \\'name\\' : member.get(\\'name\\'),\\n                        \\'birth\\' : \"{year}-{month:02}-{day:02}\".format(**member)\\n                        },\\n    member2\\n))',\n",
       "  'def filter_template(func, L=[]):\\n    result = []\\n    for l in L :\\n        if func(l):\\n            result.append(l)\\n    return result',\n",
       "  'def evenChk(value):\\n    return value%2==0\\nevenChk(10), evenChk(-9)',\n",
       "  'list_data = [1, 2, 3, 4, 5]\\nfilter_template(lambda value : value%2==0 , )',\n",
       "  'list_data = [1, 2, 3, 4, 5]\\nfilter_template(lambda value : value%2==0 , list_data)',\n",
       "  'list(filter(lambda value : value%2==0, list_data))',\n",
       "  'list(filter(lambda value : value%2==0, list_data))',\n",
       "  '[for data in list_data if data%2==0]',\n",
       "  '[data for data in list_data if data%2==0]',\n",
       "  'P = [9, 2, 7]\\nP.sort(reverse=True)\\nP',\n",
       "  'number2d = [[9, 9],\\n           [1, 100],\\n           [10, 1]]\\nnumber2d.sort()\\nnumber2d',\n",
       "  '# 무조껀 0번 item기준으로 정렬\\nnumber2d = [[9, 9],\\n           [1, 100],\\n           [10, 1]]\\nnumber2d.sort(reverse=True)\\nnumber2d',\n",
       "  '# 무조껀 0번 item기준으로 정렬\\nnumber2d = [[9, 9, 9, 9, 9, 9, 9, 9],\\n           [1, 100],\\n           [10, 1]]\\nnumber2d.sort(reverse=True)\\nnumber2d',\n",
       "  \"pairs = [(2, 'two'), (1, 'one'), (4, 'four'), (3, 'three')]\\npairs.sort()\\npairs\",\n",
       "  \"# 무조껀 0번째 item 기준으로 정렬\\npairs = [(2, 'two'), (1, 'one'), (4, 'four'), (3, 'three')]\\npairs.sort()\\npairs\",\n",
       "  '# 1번째 item 기준으로 정렬(abc순)\\npairs.sort(key=lambda pair : pair[1])\\npairs',\n",
       "  '(lambda item : sum(item))([1,2,3,])',\n",
       "  '# 합이 큰 순으로 정렬\\nnumber2d.sort(key = lambda item : sum(item))',\n",
       "  '# 합이 큰 순으로 정렬\\nnumber2d.sort(key = lambda item : sum(item))\\nnumber2d',\n",
       "  '# 합이 큰 순으로 정렬\\nnumber2d.sort(key = lambda item : sum(item)), reverse=true\\nnumber2d',\n",
       "  '# 합이 큰 순으로 정렬\\nnumber2d.sort(key = lambda item : sum(item)), reverse = true\\nnumber2d',\n",
       "  '# 합이 큰 순으로 정렬\\nnumber2d.sort(key = lambda item : sum(item)), reverse = True\\nnumber2d',\n",
       "  '# 합이 큰 순으로 정렬\\nnumber2d.sort(key = lambda item : sum(item), reverse = True)\\nnumber2d',\n",
       "  'def add(x, y=5):\\n    return key+reverse',\n",
       "  'add(reverse=10, key=7)',\n",
       "  \"students = [\\n    {'name':'홍길동', 'score':90},\\n    {'name':'김길동', 'score':50},\\n    {'name':'윤길동', 'score':99},\\n]\",\n",
       "  'students.sort()\\nstudents',\n",
       "  '# 이름순으로 정렬(ㄱㄴㄷ순)\\nstudents.sort()\\nstudents',\n",
       "  '# 이름순으로 정렬(ㄱㄴㄷ순)\\nstudents.sort()\\nstudents',\n",
       "  '# 이름순으로 정렬(ㄱㄴㄷ순)\\nstudents.sort(key=lambda pair : pair[1])\\nstudents',\n",
       "  '# 이름순으로 정렬(ㄱㄴㄷ순)\\nstudents.sort(key=lambda pair : pair[name])\\nstudents',\n",
       "  \"# 이름순으로 정렬(ㄱㄴㄷ순)\\nstudents.sort(key=lambda item : item['name'])\\nstudents\",\n",
       "  \"students = [\\n    {'name':'홍길동', 'score':90},\\n    {'name':'김길동', 'score':50},\\n    {'name':'윤길동', 'score':99},\\n    {'score':100}\\n]\",\n",
       "  \"# 이름순으로 정렬(ㄱㄴㄷ순)\\nstudents.sort(key=lambda item : item['name'])\\nstudents\",\n",
       "  \"# 이름순으로 정렬(ㄱㄴㄷ순)\\nstudents.sort(key=lambda item : item.get['name'])\\nstudents\",\n",
       "  \"# 이름순으로 정렬(ㄱㄴㄷ순)\\nstudents.sort(key=lambda item : item.get('name'))\\nstudents\",\n",
       "  \"# 이름순으로 정렬(ㄱㄴㄷ순)\\nstudents.sort(key=lambda item : item.get('name','힣'))\\nstudents\",\n",
       "  \"# 이름순으로 정렬(ㄱㄴㄷ순)\\nstudents.sort(key=lambda item : item.get('name','가'))\\nstudents\",\n",
       "  \"# score순으로 정렬(내림차순 정렬)\\nstudents.sort(key=lambda item : item.get('score', 0), reverse=True)  \\nstudents\",\n",
       "  \"# 책제목순 정렬(ㄱㄴㄷ순), 저자순 정렬(ㄱㄴㄷ순), 가격순 정렬\\nbooks =[\\n    {'no':1, 'title':'강남 아파트 인사이트', 'writer':'오스톨', 'price':'25,200'},\\n    {'no':2, 'title':'한 한번의 삶', 'writer':'김영하', 'price':'18,100'},\\n    {'no':3, 'title':'흔한남매 19', 'writer':'백난도', 'price':'14,220'},\\n    {'no':4, 'title':'가격이잘못', 'writer':'홍길동', 'price':'-'},\\n    {'no':5, 'title':'가격이숫자', 'writer':'신길동', 'price':900},\\n    {'no':6, 'title':'가격이없음', 'writer':'김길동'},\\n]\",\n",
       "  \"books.sort(key=lambda book : book.get('title'))\\nbooks\",\n",
       "  \"books.sort(key=lambda book : book.get('writer'))\\nbooks\",\n",
       "  \"# 가격순 정렬은 위의 작업방식과 다르다.\\n# 숫자로 잘못된 것들도 있고, 문자로 구현된 것들도 있음.\\n# 따라서 sort문, 문자인지 숫자인지를 구분하는 작업이 추가로 필요하다.\\nbooks.sort(key=lambda book : book.get('price'.0))\\nbooks\",\n",
       "  \"# 가격순 정렬은 위의 작업방식과 다르다.\\n# 숫자로 잘못된 것들도 있고, 문자로 구현된 것들도 있음.\\n# 따라서 sort문, 문자인지 숫자인지를 구분하는 작업이 추가로 필요하다.\\nbooks.sort(key=lambda book : book.get('price',0))\\nbooks\",\n",
       "  \"# 가격순 정렬은 위의 작업방식과 다르다.\\n# 숫자로 잘못된 것들도 있고, 문자로 구현된 것들도 있음.\\n# 따라서 sort문, 문자인지 숫자인지를 구분하는 작업이 추가로 필요하다.\\nbooks.sort(key=lambda book : book.get('price',0))\\nbooks\\n#해당 방식은 숫자와 문자를 동시에 사용하려 하니 에러가 발생하는 것이다.\",\n",
       "  \"#'14,000' -> 14000 / 800 -> 800 / '-' -> 0\\n#조건식을 만들기 어렵다면 일단 함수를 만들고, 람다식으로 만드는 방법이 추천된다.\\ndef parse_int(price):\\n    print(type(price))\",\n",
       "  'parse_int(800)',\n",
       "  'parse_int(800)\\n#int 타입이면 빼거나 조정하는 작업이 필요하다.',\n",
       "  \"#'14,000' -> 14000 / 800 -> 800 / '-' -> 0  #조건이 3가지가 필요하다.\\n#조건식을 만들기 어렵다면 일단 함수를 만들고, 람다식으로 만드는 방법이 추천된다.\\ndef parse_int(price):\\n    #print(type(price))\\n    if isinstance(price, int):\\n        return price\",\n",
       "  'parse_int(800)\\n#int 타입이면 빼거나 조정하는 작업이 필요하다.',\n",
       "  \"#'14,000' -> 14000 / 800 -> 800 / '-' -> 0  #조건이 3가지가 필요하다.\\n#조건식을 만들기 어렵다면 일단 함수를 만들고, 람다식으로 만드는 방법이 추천된다.\\ndef parse_int(price):\\n    #print(type(price))\\n    if isinstance(prics, str) and price.replace(',','').isdigit():\\n        #↑ 해당 함수는 어떤 값이 특정 자료형인지를 확인할 때 사용되는 함수임.\\n        # isinstance(값, 자료형) #결과는 True 또는 False로 출력됨.\\n        return int(price,replace(',', ''))\\n    elif isinstance(price, int):\\n        return price\",\n",
       "  'parse_int(800)',\n",
       "  \"#'14,000' -> 14000 / 800 -> 800 / '-' -> 0  #조건이 3가지가 필요하다.\\n#조건식을 만들기 어렵다면 일단 함수를 만들고, 람다식으로 만드는 방법이 추천된다.\\ndef parse_int(price):\\n    #print(type(price))\\n    if isinstance(prices, str) and price.replace(',','').isdigit():\\n        #↑ 해당 함수는 어떤 값이 특정 자료형인지를 확인할 때 사용되는 함수임.\\n        # isinstance(값, 자료형) #결과는 True 또는 False로 출력됨.\\n        return int(price,replace(',', ''))\\n    elif isinstance(price, int):\\n        return price\",\n",
       "  \"#'14,000' -> 14000 / 800 -> 800 / '-' -> 0  #조건이 3가지가 필요하다.\\n#조건식을 만들기 어렵다면 일단 함수를 만들고, 람다식으로 만드는 방법이 추천된다.\\ndef parse_int(price):\\n    #print(type(price))\\n    if isinstance(price, str) and price.replace(',','').isdigit():\\n        #↑ 해당 함수는 어떤 값이 특정 자료형인지를 확인할 때 사용되는 함수임.\\n        # isinstance(값, 자료형) #결과는 True 또는 False로 출력됨.\\n        return int(price,replace(',', ''))\\n    elif isinstance(price, int):\\n        return price\",\n",
       "  'parse_int(800)',\n",
       "  'parse_int(\"8,000\"), parse_int(\"8000\"), parse_int(800), parse_int(\\'-\\')',\n",
       "  \"#'14,000' -> 14000 / 800 -> 800 / '-' -> 0  #조건이 3가지가 필요하다.\\n#조건식을 만들기 어렵다면 일단 함수를 만들고, 람다식으로 만드는 방법이 추천된다.\\ndef parse_int(price):\\n    #print(type(price))\\n    if isinstance(price, str) and price.replace(',','').isdigit():\\n        #↑ 해당 함수는 어떤 값이 특정 자료형인지를 확인할 때 사용되는 함수임.\\n        # isinstance(값, 자료형) #결과는 True 또는 False로 출력됨.\\n        return int(price,replace(',',''))\\n    elif isinstance(price, int):\\n        return price\",\n",
       "  'parse_int(\"8,000\"), parse_int(\"8000\"), parse_int(800), parse_int(\\'-\\')',\n",
       "  'parse_int(\"8,000\"), parse_int(\"8000\"), parse_int(800), parse_int(\\'-\\')',\n",
       "  \"#'14,000' -> 14000 / 800 -> 800 / '-' -> 0  #조건이 3가지가 필요하다.\\n#조건식을 만들기 어렵다면 일단 함수를 만들고, 람다식으로 만드는 방법이 추천된다.\\ndef parse_int(price):\\n    #print(type(price))\\n    if isinstance(price, str) and price.replace(',','').isdigit():\\n        #↑ 해당 함수는 어떤 값이 특정 자료형인지를 확인할 때 사용되는 함수임.\\n        # isinstance(값, 자료형) #결과는 True 또는 False로 출력됨.\\n        return int(price.replace(',',''))\\n    elif isinstance(price, int):\\n        return price\",\n",
       "  'parse_int(\"8,000\"), parse_int(\"8000\"), parse_int(800), parse_int(\\'-\\')',\n",
       "  \"# {'no': 6, 'title': '가격이없음', 'writer': '김길동'} => 0 return으로 바꿔야함.(주어진 데이터에서 값이 안나와있으므로)\\n# {'no': 3, 'title': '흔한남매 19', 'writer': '백난도', 'price': '14,220'} => 14220\\n# {'no': 5, 'title': '가격이숫자', 'writer': '신길동', 'price': 900} => 900\\ndef parse_int(book):\\n    if isinstance(book.get('price'),str) and book.get('price').replace(',','').isdigit():\\n        return int(book.get('price').replace(',','') )\\n    elif isinstance(book.get('price'), int):\\n        return book.get('price')\\n    else :\\n        return 0\\nparse_int(books[0])\",\n",
       "  \"# {'no': 6, 'title': '가격이없음', 'writer': '김길동'} => 0 return으로 바꿔야함.(주어진 데이터에서 값이 안나와있으므로)\\n# {'no': 3, 'title': '흔한남매 19', 'writer': '백난도', 'price': '14,220'} => 14220\\n# {'no': 5, 'title': '가격이숫자', 'writer': '신길동', 'price': 900} => 900\\ndef parse_int(book):\\n    if isinstance(book.get('price'),str) and \\\\\\n        book.get('price').replace(',','').isdigit():\\n        return int(book.get('price').replace(',','') )\\n    elif isinstance(book.get('price'), int):\\n        return book.get('price')\\n    else :\\n        return 0\\nparse_int(books[0])\",\n",
       "  \"# {'no': 6, 'title': '가격이없음', 'writer': '김길동'} => 0 return으로 바꿔야함.(주어진 데이터에서 값이 안나와있으므로)\\n# {'no': 3, 'title': '흔한남매 19', 'writer': '백난도', 'price': '14,220'} => 14220\\n# {'no': 5, 'title': '가격이숫자', 'writer': '신길동', 'price': 900} => 900\\ndef parse_int(book):\\n    if isinstance(book.get('price'),str) and \\\\ #함수가 너무 길어져서 가독성이 떨어질 경우 \\\\로 표기함.\\n        book.get('price').replace(',','').isdigit():\\n        return int(book.get('price').replace(',','') )\\n    elif isinstance(book.get('price'), int):\\n        return book.get('price')\\n    else :\\n        return 0\\nparse_int(books[0]), parse_int(books[3]), parse_int(books[2]), parse_int(books[5])\",\n",
       "  \"# {'no': 6, 'title': '가격이없음', 'writer': '김길동'} => 0 return으로 바꿔야함.(주어진 데이터에서 값이 안나와있으므로)\\n# {'no': 3, 'title': '흔한남매 19', 'writer': '백난도', 'price': '14,220'} => 14220\\n# {'no': 5, 'title': '가격이숫자', 'writer': '신길동', 'price': 900} => 900\\ndef parse_int(book):\\n    if isinstance(book.get('price'),str) and book.get('price').replace(',','').isdigit():\\n        return int(book.get('price').replace(',','') )\\n    elif isinstance(book.get('price'), int):\\n        return book.get('price')\\n    else :\\n        return 0\\nparse_int(books[0]), parse_int(books[3]), parse_int(books[2]), parse_int(books[5])\",\n",
       "  \"# {'no': 6, 'title': '가격이없음', 'writer': '김길동'} => 0 return으로 바꿔야함.(주어진 데이터에서 값이 안나와있으므로)\\n# {'no': 3, 'title': '흔한남매 19', 'writer': '백난도', 'price': '14,220'} => 14220\\n# {'no': 5, 'title': '가격이숫자', 'writer': '신길동', 'price': 900} => 900\\ndef parse_int(book):\\n    if isinstance(book.get('price'),str) and \\\\\\n    book.get('price').replace(',','').isdigit():\\n        return int(book.get('price').replace(',','') )\\n    elif isinstance(book.get('price'), int):\\n        return book.get('price')\\n    else :\\n        return 0\\nparse_int(books[0]), parse_int(books[3]), parse_int(books[2]), parse_int(books[5])\\n#람다식 변경시 if문이 맨 위로 오도록 하는것이 편리할 수 있음.\",\n",
       "  \"# {'no': 6, 'title': '가격이없음', 'writer': '김길동'} => 0 return으로 바꿔야함.(주어진 데이터에서 값이 안나와있으므로)\\n# {'no': 3, 'title': '흔한남매 19', 'writer': '백난도', 'price': '14,220'} => 14220\\n# {'no': 5, 'title': '가격이숫자', 'writer': '신길동', 'price': 900} => 900\\ndef parse_int(book):\\n    if isinstance(book.get('price'),str) and \\\\\\n    book.get('price').replace(',','').isdigit():\\n        return int(book.get('price').replace(',','') )\\n    elif isinstance(book.get('price'), int):\\n        return book.get('price')\\n    else :\\n        return 0\\nparse_int(books[0]), parse_int(books[3]), parse_int(books[2]), parse_int(books[5])\\n#람다식 변경시 if문이 맨 위로 오도록 하는것이 편리할 수 있음.\",\n",
       "  'copy_books',\n",
       "  \"books =[\\n    {'no':1, 'title':'강남 아파트 인사이트', 'writer':'오스톨', 'price':'25,200'},\\n    {'no':2, 'title':'한 한번의 삶', 'writer':'김영하', 'price':'18,100'},\\n    {'no':3, 'title':'흔한남매 19', 'writer':'백난도', 'price':'14,220'},\\n    {'no':4, 'title':'가격이잘못', 'writer':'홍길동', 'price':'-'},\\n    {'no':5, 'title':'가격이숫자', 'writer':'신길동', 'price':900},\\n    {'no':6, 'title':'가격이없음', 'writer':'김길동'},\\n]\\ncopy_books = books.copy() #깊은복사\",\n",
       "  \"copy_books.sort(key = lambda book : \\n                int(book.get('price').replace(',','')) \\\\\\n                    if isinstance(book.get('price'),str) and \\\\\\n                    book.get('price').replace(',','').isdigit() else \\\\\\n                book.get('price') if isinstance(book.get('price'), int) else \\\\\\n                0               \\n               )\",\n",
       "  \"#람다식 테스트 확인\\n(lambda book : \\n                int(book.get('price').replace(',','')) \\\\\\n                    if isinstance(book.get('price'),str) and \\\\\\n                    book.get('price').replace(',','').isdigit() else \\\\\\n                book.get('price') if isinstance(book.get('price'), int) else \\\\\\n                0 )(books[0])\",\n",
       "  'line_func = make_box([2,3])\\nline_func(3)',\n",
       "  '# 함수를 return\\ndef make_box(shape): #shape : [l]=>len가 l인 list를 생성하는 함수 return, [l], \\n                    #         [r,c] => r행 c열인 list를 생성하는 함수 return\\n    def box(init_value):\\n        if len(shape)==1:\\n            return [init_value]*shape[0]\\n        elif len(shape)==2:\\n            return [ [init_value]*shape[1] ] * shape[0]\\n    return box',\n",
       "  'line_func = make_box([2,3])\\nline_func(3)',\n",
       "  'line_func1 = make_box([10])\\nline_func(3)',\n",
       "  'line_func1 = make_box([10])\\nline_func1(3)',\n",
       "  'def make_box(shape) :\\n    if len(shape)==1:\\n        return lambda init_value : [init_value]*shape[0]\\n    else len(shape)==2:\\n        return lambda init_value : [[init_value]*shape[1]]*shape[0]',\n",
       "  'globals()'],\n",
       " 'Out': {3: [[1, 2, 3, 4, 5, 6, 7, 8, 9, 10, 1, 2, 3, 4, 5, 6, 7, 8, 9, 10],\n",
       "   [1, 2, 3, 4, 5, 6, 7, 8, 9, 10, 1, 2, 3, 4, 5, 6, 7, 8, 9, 10],\n",
       "   [1, 2, 3, 4, 5, 6, 7, 8, 9, 10, 1, 2, 3, 4, 5, 6, 7, 8, 9, 10],\n",
       "   [1, 2, 3, 4, 5, 6, 7, 8, 9, 10, 1, 2, 3, 4, 5, 6, 7, 8, 9, 10],\n",
       "   [1, 2, 3, 4, 5, 6, 7, 8, 9, 10, 1, 2, 3, 4, 5, 6, 7, 8, 9, 10],\n",
       "   [1, 2, 3, 4, 5, 6, 7, 8, 9, 10, 1, 2, 3, 4, 5, 6, 7, 8, 9, 10],\n",
       "   [1, 2, 3, 4, 5, 6, 7, 8, 9, 10, 1, 2, 3, 4, 5, 6, 7, 8, 9, 10],\n",
       "   [1, 2, 3, 4, 5, 6, 7, 8, 9, 10, 1, 2, 3, 4, 5, 6, 7, 8, 9, 10],\n",
       "   [1, 2, 3, 4, 5, 6, 7, 8, 9, 10, 1, 2, 3, 4, 5, 6, 7, 8, 9, 10],\n",
       "   [1, 2, 3, 4, 5, 6, 7, 8, 9, 10, 1, 2, 3, 4, 5, 6, 7, 8, 9, 10]],\n",
       "  5: [2, 4, 6, 8, 10, 12, 14, 16, 18, 20],\n",
       "  6: [2, 4, 6, 8, 10, 12, 14, 16, 18, 20],\n",
       "  7: [2, 4, 6, 8, 10, 12, 14, 16, 18, 20],\n",
       "  8: [2, 4, 6, 8, 10, 12, 14, 16, 18, 20],\n",
       "  9: [2, 4, 6, 8, 10, 12, 14, 16, 18, 20],\n",
       "  10: <map at 0x1e387770430>,\n",
       "  11: [2, 4, 6, 8, 10, 12, 14, 16, 18, 20],\n",
       "  13: (5000, 1800),\n",
       "  20: [5000, 800, 1000, 6000],\n",
       "  28: {'year': 2000, 'month': 1, 'day': 1},\n",
       "  31: {'year': 2000, 'month': 1, 'day': 1},\n",
       "  34: {'year': 2000, 'month': 1, 'day': 1},\n",
       "  36: {'year': 2000, 'month': 1, 'day': 1},\n",
       "  51: {'year': 2000, 'month': 1, 'day': 1},\n",
       "  54: {'name': '홍길동', 'year': 2000, 'month': 1, 'day': 1},\n",
       "  56: [{'name': '홍길동', 'year': 2000, 'month': 1, 'day': 1},\n",
       "   {'name': '신길동', 'year': 1998, 'month': 12, 'day': 31}],\n",
       "  78: '2000-01-01',\n",
       "  84: [{'name': '홍길동', 'birth': '2000-01-01'},\n",
       "   {'name': '신길동', 'birth': '1998-12-31'}],\n",
       "  86: (True, False),\n",
       "  87: [],\n",
       "  88: [2, 4],\n",
       "  89: [2, 4],\n",
       "  90: [2, 4],\n",
       "  92: [2, 4],\n",
       "  93: [9, 7, 2],\n",
       "  94: [[1, 100], [9, 9], [10, 1]],\n",
       "  95: [[10, 1], [9, 9], [1, 100]],\n",
       "  96: [[1, 100], [9, 9, 9, 9, 9, 9, 9, 9], [10, 1]],\n",
       "  97: [(1, 'one'), (2, 'two'), (3, 'three'), (4, 'four')],\n",
       "  98: [(4, 'four'), (1, 'one'), (3, 'three'), (2, 'two')],\n",
       "  99: [(4, 'four'), (1, 'one'), (3, 'three'), (2, 'two')],\n",
       "  100: 6,\n",
       "  102: [[1, 100], [9, 9, 9, 9, 9, 9, 9, 9], [10, 1]],\n",
       "  106: [[1, 100], [9, 9, 9, 9, 9, 9, 9, 9], [10, 1]],\n",
       "  115: [{'name': '김길동', 'score': 50},\n",
       "   {'name': '윤길동', 'score': 99},\n",
       "   {'name': '홍길동', 'score': 90}],\n",
       "  120: [{'score': 100},\n",
       "   {'name': '윤길동', 'score': 99},\n",
       "   {'name': '홍길동', 'score': 90},\n",
       "   {'name': '김길동', 'score': 50}],\n",
       "  121: [{'score': 100},\n",
       "   {'name': '윤길동', 'score': 99},\n",
       "   {'name': '홍길동', 'score': 90},\n",
       "   {'name': '김길동', 'score': 50}],\n",
       "  122: [{'score': 100},\n",
       "   {'name': '윤길동', 'score': 99},\n",
       "   {'name': '홍길동', 'score': 90},\n",
       "   {'name': '김길동', 'score': 50}],\n",
       "  124: [{'no': 6, 'title': '가격이없음', 'writer': '김길동'},\n",
       "   {'no': 2, 'title': '한 한번의 삶', 'writer': '김영하', 'price': '18,100'},\n",
       "   {'no': 3, 'title': '흔한남매 19', 'writer': '백난도', 'price': '14,220'},\n",
       "   {'no': 5, 'title': '가격이숫자', 'writer': '신길동', 'price': 900},\n",
       "   {'no': 1, 'title': '강남 아파트 인사이트', 'writer': '오스톨', 'price': '25,200'},\n",
       "   {'no': 4, 'title': '가격이잘못', 'writer': '홍길동', 'price': '-'}],\n",
       "  125: [{'no': 6, 'title': '가격이없음', 'writer': '김길동'},\n",
       "   {'no': 2, 'title': '한 한번의 삶', 'writer': '김영하', 'price': '18,100'},\n",
       "   {'no': 3, 'title': '흔한남매 19', 'writer': '백난도', 'price': '14,220'},\n",
       "   {'no': 5, 'title': '가격이숫자', 'writer': '신길동', 'price': 900},\n",
       "   {'no': 1, 'title': '강남 아파트 인사이트', 'writer': '오스톨', 'price': '25,200'},\n",
       "   {'no': 4, 'title': '가격이잘못', 'writer': '홍길동', 'price': '-'}],\n",
       "  133: 800,\n",
       "  138: 800,\n",
       "  144: (8000, 8000, 800, None),\n",
       "  145: 0,\n",
       "  146: 0,\n",
       "  148: (0, 900, 14220, 0),\n",
       "  149: (0, 900, 14220, 0),\n",
       "  150: (0, 900, 14220, 0),\n",
       "  154: 25200,\n",
       "  157: [[3, 3, 3], [3, 3, 3]],\n",
       "  158: [[3, 3, 3], [3, 3, 3]],\n",
       "  159: [3, 3, 3, 3, 3, 3, 3, 3, 3, 3]},\n",
       " 'get_ipython': <bound method InteractiveShell.get_ipython of <ipykernel.zmqshell.ZMQInteractiveShell object at 0x000001E386FBFD60>>,\n",
       " 'exit': <IPython.core.autocall.ZMQExitAutocall at 0x1e386fcf5e0>,\n",
       " 'quit': <IPython.core.autocall.ZMQExitAutocall at 0x1e386fcf5e0>,\n",
       " 'open': <function io.open(file, mode='r', buffering=-1, encoding=None, errors=None, newline=None, closefd=True, opener=None)>,\n",
       " '_': [3, 3, 3, 3, 3, 3, 3, 3, 3, 3],\n",
       " '__': [[3, 3, 3], [3, 3, 3]],\n",
       " '___': [[3, 3, 3], [3, 3, 3]],\n",
       " '_i': 'def make_box(shape) :\\n    if len(shape)==1:\\n        return lambda init_value : [init_value]*shape[0]\\n    else len(shape)==2:\\n        return lambda init_value : [[init_value]*shape[1]]*shape[0]',\n",
       " '_ii': 'line_func1 = make_box([10])\\nline_func1(3)',\n",
       " '_iii': 'line_func1 = make_box([10])\\nline_func(3)',\n",
       " '_i1': 'from IPython.display import display, HTML\\ndisplay(HTML(\"\"\"\\n<style>\\ndiv.container{width:95% !important;}\\ndiv.cell.code_cell.rendered{width:100%;}\\ndiv.CodeMirror {font-family:Consolas; font-size:15pt;}\\ndiv.output {font-size:15pt; font-weight:bold;}\\ndiv.input {font-family:Consolas; font-size:15pt;}\\ndiv.prompt {min-width:70px;}\\ndiv#toc-wrapper{padding-top:120px;}\\ndiv.text_cell_render ul li{font-size:12pt;padding:5px;}\\ntable.dataframe{font-size:15px;}\\n</style>\\n\"\"\"))',\n",
       " 'display': <function IPython.core.display_functions.display(*objs, include=None, exclude=None, metadata=None, transient=None, display_id=None, raw=False, clear=False, **kwargs)>,\n",
       " 'HTML': IPython.core.display.HTML,\n",
       " '_i2': \"def map_template(func, L=[1, 2, 3]):\\n    '''\\n    L의 모든 요소를 func()함수를 적용시켜 return\\n    [func(1) for 1 in L]\\n    '''\\n    result = []\\n    for l in L:\\n        result.append(func(L))\\n    return result\\n#    result = [func(1) for l in L]\",\n",
       " 'map_template': <function __main__.map_template(func, L=[])>,\n",
       " '_i3': 'list_data = [1, 2, 3, 4, 5, 6, 7, 8, 9, 10]\\ndef x_2(x):\\n    return x*2\\nmap_template(x_2, list_data)',\n",
       " 'list_data': [1, 2, 3, 4, 5],\n",
       " 'x_2': <function __main__.x_2(x)>,\n",
       " '_3': [[1, 2, 3, 4, 5, 6, 7, 8, 9, 10, 1, 2, 3, 4, 5, 6, 7, 8, 9, 10],\n",
       "  [1, 2, 3, 4, 5, 6, 7, 8, 9, 10, 1, 2, 3, 4, 5, 6, 7, 8, 9, 10],\n",
       "  [1, 2, 3, 4, 5, 6, 7, 8, 9, 10, 1, 2, 3, 4, 5, 6, 7, 8, 9, 10],\n",
       "  [1, 2, 3, 4, 5, 6, 7, 8, 9, 10, 1, 2, 3, 4, 5, 6, 7, 8, 9, 10],\n",
       "  [1, 2, 3, 4, 5, 6, 7, 8, 9, 10, 1, 2, 3, 4, 5, 6, 7, 8, 9, 10],\n",
       "  [1, 2, 3, 4, 5, 6, 7, 8, 9, 10, 1, 2, 3, 4, 5, 6, 7, 8, 9, 10],\n",
       "  [1, 2, 3, 4, 5, 6, 7, 8, 9, 10, 1, 2, 3, 4, 5, 6, 7, 8, 9, 10],\n",
       "  [1, 2, 3, 4, 5, 6, 7, 8, 9, 10, 1, 2, 3, 4, 5, 6, 7, 8, 9, 10],\n",
       "  [1, 2, 3, 4, 5, 6, 7, 8, 9, 10, 1, 2, 3, 4, 5, 6, 7, 8, 9, 10],\n",
       "  [1, 2, 3, 4, 5, 6, 7, 8, 9, 10, 1, 2, 3, 4, 5, 6, 7, 8, 9, 10]],\n",
       " '_i4': \"def map_template(func, L=[]):\\n    '''\\n    L의 모든 요소를 func()함수를 적용시켜 return\\n    '''\\n    result = []\\n    for l in L:\\n        result.append(func(l))\\n    return result\\n#    result = [func(1) for l in L]\",\n",
       " '_i5': 'list_data = [1, 2, 3, 4, 5, 6, 7, 8, 9, 10]\\ndef x_2(x):\\n    return x*2\\nmap_template(x_2, list_data)',\n",
       " '_5': [2, 4, 6, 8, 10, 12, 14, 16, 18, 20],\n",
       " '_i6': 'list_data = [1, 2, 3, 4, 5, 6, 7, 8, 9, 10]\\nmap_template(lambda x : x*2, list_data)\\n# def x_2(x):\\n#     return x*2\\n# map_template(x_2, list_data)',\n",
       " '_6': [2, 4, 6, 8, 10, 12, 14, 16, 18, 20],\n",
       " '_i7': '# 리스트 데이터를 가공하는 방법 1. map\\nlist_data = [1, 2, 3, 4, 5, 6, 7, 8, 9, 10]\\nmap_template(lambda x : x*2, list_data)\\n# def x_2(x):\\n#     return x*2\\n# map_template(x_2, list_data)',\n",
       " '_7': [2, 4, 6, 8, 10, 12, 14, 16, 18, 20],\n",
       " '_i8': '# 리스트 데이터를 가공하는 방법 2. 리스트 컴프리헨션\\n[l*2 for l in list_data]',\n",
       " '_8': [2, 4, 6, 8, 10, 12, 14, 16, 18, 20],\n",
       " '_i9': '# 리스트 데이터를 가공하는 방법 1. map_template\\nlist_data = [1, 2, 3, 4, 5, 6, 7, 8, 9, 10]\\nmap_template(lambda x : x*2, list_data)\\n# def x_2(x):\\n#     return x*2\\n# map_template(x_2, list_data)',\n",
       " '_9': [2, 4, 6, 8, 10, 12, 14, 16, 18, 20],\n",
       " '_i10': '# 리스트 데이터를 가공하는 방법 3. map():파이썬 내장함수\\nmap(lambda x : x*2, list_data)',\n",
       " '_10': <map at 0x1e387770430>,\n",
       " '_i11': '# 리스트 데이터를 가공하는 방법 3. map():파이썬 내장함수\\nlist(map(lambda x : x*2, list_data))',\n",
       " '_11': [2, 4, 6, 8, 10, 12, 14, 16, 18, 20],\n",
       " '_i12': \"for item in map(lambda x : x*2, list_data):\\n    print(item, end=' ')\",\n",
       " 'item': 20,\n",
       " '_i13': 'def func(x):\\n    return int(x.replace(\\',\\',\\'\\'))\\nfunc(\"5,000\"), func(\"1800\")',\n",
       " 'func': <function __main__.func(x)>,\n",
       " '_13': (5000, 1800),\n",
       " '_i14': \"map(lambda x : int(x.replace(',','')), prices))\",\n",
       " '_i15': \"map(lambda x : int(x.replace(',',''))), prices))\",\n",
       " '_i16': \"map(lambda x : int(x.replace(',','')), prices)\",\n",
       " '_i17': \"map(lambda x : int(x.replace(',','')), prices)\",\n",
       " '_i18': \"list(map(lambda x : int(x.replace(',','')), prices))\",\n",
       " '_i19': \"'''\\n예제 1. [5000,800,1000,6000]로 바꾸시오(map함수 사용)\\n'''\\nprices = ['5,000', '800', '1000', '6,000']\",\n",
       " 'prices': ['5,000', '800', '1000', '6,000'],\n",
       " '_i20': \"list(map(lambda x : int(x.replace(',','')), prices))\",\n",
       " '_20': [5000, 800, 1000, 6000],\n",
       " '_i21': 'split_date(\"2000-01-01\")',\n",
       " '_i22': \"# '2000-01-01' => {'year':1998, 'month':12, 'day':31}\\ndef split_date(date):\\n    split_date = date.split('-')\",\n",
       " 'split_date': <function __main__.split_date(date)>,\n",
       " '_i23': 'split_date(\"2000-01-01\")',\n",
       " '_i24': 'split_date(\"2000-01-01\")',\n",
       " '_i25': \"# '2000-01-01' => {'year':1998, 'month':12, 'day':31}\\ndef split_date(date):\\n    split_data = date.split('-')\",\n",
       " '_i26': 'split_date(\"2000-01-01\")',\n",
       " '_i27': \"# '2000-01-01' => {'year':1998, 'month':12, 'day':31}\\ndef split_date(date):\\n    split_data = date.split('-')\\n    print(split_data[0], split_data[1], split_data[2])\\n    return {'year': int(split_data[0]),\\n           'month': int(split_data[1]),\\n           'day': int(split_data[2])}\",\n",
       " '_i28': 'split_date(\"2000-01-01\")',\n",
       " '_28': {'year': 2000, 'month': 1, 'day': 1},\n",
       " '_i29': \"# '2000-01-01' => {'year':1998, 'month':12, 'day':31}\\ndef split_date(date):\\n    split_data = date.split('-')\\n    print(split_data[0], split_data[1], split_data[2])\\n    return {'year': int(split_data[0]),\\n           'month': int(split_data[1]),\\n           'day': int(split_data[2])})\",\n",
       " '_i30': \"# '2000-01-01' => {'year':1998, 'month':12, 'day':31}\\ndef split_date(date):\\n    split_data = date.split('-')\\n    print(split_data[0], split_data[1], split_data[2])\\n    return {'year': int(split_data[0]),\\n           'month': int(split_data[1]),\\n           'day': int(split_data[2])}\",\n",
       " '_i31': 'split_date(\"2000-01-01\")',\n",
       " '_31': {'year': 2000, 'month': 1, 'day': 1},\n",
       " '_i32': \"# '2000-01-01' => {'year':1998, 'month':12, 'day':31}\\ndef split_date(date):\\n    split_data = date.split('-')\\n#     print(split_data[0], split_data[1], split_data[2])\\n    print(split_data[0], split_data[1], split_data[2])\\n    return {'year': int(split_data[0]),\\n           'month': int(split_data[1]),\\n           'day': int(split_data[2])}\",\n",
       " '_i33': \"# '2000-01-01' => {'year':1998, 'month':12, 'day':31}\\ndef split_date(date):\\n    split_data = date.split('-')\\n#     print(split_data[0], split_data[1], split_data[2])\\n    print(split_data[0], split_data[1], split_data[2])\\n    return {'year': int(split_data[0]),\\n           'month': int(split_data[1]),\\n           'day': int(split_data[2])\\n           }\",\n",
       " '_i34': 'split_date(\"2000-01-01\")',\n",
       " '_34': {'year': 2000, 'month': 1, 'day': 1},\n",
       " '_i35': \"# '2000-01-01' => {'year':1998, 'month':12, 'day':31}\\ndef split_date(date):\\n    split_data = date.split('-')\\n#    print(split_data[0], split_data[1], split_data[2])\\n    return {'year': int(split_data[0]),\\n           'month': int(split_data[1]),\\n           'day': int(split_data[2])\\n           }\",\n",
       " '_i36': 'split_date(\"2000-01-01\")',\n",
       " '_36': {'year': 2000, 'month': 1, 'day': 1},\n",
       " '_i37': \"def member_func(menber): #{'name':'홍길동', 'birth':'2000-01-01'}\\n    '{'name':'신길동', 'year':1998, 'month':12, 'day':31}식으로 return'\\n    return {\\n        'name': menber.get('name'),\\n        'year': int(member['birth'].split('-')[0])\\n    }\",\n",
       " '_i38': \"def member_func(menber): #{'name':'홍길동', 'birth':'2000-01-01'}\\n    '{'name':'신길동', 'year':1998, 'month':12, 'day':31}식으로 return'\\n    return {\\n        'name': menber.get('name'),\\n        'year': int(member['birth'].split('-')[0])\\n    }\",\n",
       " '_i39': \"def member_func(menber): #{'name':'홍길동', 'birth':'2000-01-01'}\\n    '{'name':'신길동', 'year':1998, 'month':12, 'day':31}식으로 return'\\n    return {\\n        'name': menber.get('name'),\\n        'year': int(member['birth'].split('-')[0])\\n    }\",\n",
       " '_i40': 'def member_func(menber): #{\\'name\\':\\'홍길동\\', \\'birth\\':\\'2000-01-01\\'}\\n    \"{\\'name\\':\\'신길동\\', \\'year\\':1998, \\'month\\':12, \\'day\\':31}식으로 return\"\\n    return {\\n        \\'name\\': menber.get(\\'name\\'),\\n        \\'year\\': int(member[\\'birth\\'].split(\\'-\\')[0])\\n    }',\n",
       " 'member_func': <function __main__.member_func(member)>,\n",
       " '_i41': 'def member_func(menber): #{\\'name\\':\\'홍길동\\', \\'birth\\':\\'2000-01-01\\'}\\n    \"{\\'name\\':\\'신길동\\', \\'year\\':1998, \\'month\\':12, \\'day\\':31}식으로 return\"\\n    return {\\n        \\'name\\': menber.get(\\'name\\'),\\n        \\'year\\': int(member[\\'birth\\'].split(\\'-\\')[0]),\\n        \\'month\\': int(member[\\'birth\\'].split(\\'-\\')[1])\\n        \\'day\\': int(member[\\'birth\\'].split(\\'-\\')[2])\\n    }',\n",
       " '_i42': 'def member_func(menber): #{\\'name\\':\\'홍길동\\', \\'birth\\':\\'2000-01-01\\'}\\n    \"{\\'name\\':\\'신길동\\', \\'year\\':1998, \\'month\\':12, \\'day\\':31}식으로 return\"\\n    return {\\n        \\'name\\': menber.get(\\'name\\'),\\n        \\'year\\': int(member[\\'birth\\'].split(\\'-\\')[0]),\\n        \\'month\\': int(member[\\'birth\\'].split(\\'-\\')[1]),\\n        \\'day\\': int(member[\\'birth\\'].split(\\'-\\')[2]),\\n    }',\n",
       " '_i43': \"'''\\n예제 2. member1=[{'name':'홍길동', 'birth':'2000-01-01'},\\n                {'name':'신길동', 'birth':'1998-12-31'},]를\\n        member2=[{'name':'홍길동', 'year':2000, 'month':1, 'day':1},\\n                 {'name':'신길동', 'year':1998, 'month':12, 'day':31},]를 바꿉니다.\\n'''\\nmember1=[{'name':'홍길동', 'birth':'2000-01-01'},\\n         {'name':'신길동', 'birth':'1998-12-31'},]\",\n",
       " 'member1': [{'name': '홍길동', 'birth': '2000-01-01'},\n",
       "  {'name': '신길동', 'birth': '1998-12-31'}],\n",
       " '_i44': 'def member_func(menber): #{\\'name\\':\\'홍길동\\', \\'birth\\':\\'2000-01-01\\'}\\n    \"{\\'name\\':\\'신길동\\', \\'year\\':1998, \\'month\\':12, \\'day\\':31}식으로 return\"\\n    return {\\n        \\'name\\': menber.get(\\'name\\'),\\n        \\'year\\': int(member[\\'birth\\'].split(\\'-\\')[0]),\\n        \\'month\\': int(member[\\'birth\\'].split(\\'-\\')[1]),\\n        \\'day\\': int(member[\\'birth\\'].split(\\'-\\')[2]),\\n    }\\nmember_func(member1[0])',\n",
       " '_i45': \"'''\\n예제 2. member1=[{'name':'홍길동', 'birth':'2000-01-01'},\\n                {'name':'신길동', 'birth':'1998-12-31'},]를\\n        member2=[{'name':'홍길동', 'year':2000, 'month':1, 'day':1},\\n                 {'name':'신길동', 'year':1998, 'month':12, 'day':31},]를 바꿉니다.\\n'''\\nmember1=[{'name':'홍길동', 'birth':'2000-01-01'},\\n         {'name':'신길동', 'birth':'1998-12-31'},]\",\n",
       " '_i46': 'def member_func(menber): #{\\'name\\':\\'홍길동\\', \\'birth\\':\\'2000-01-01\\'}\\n    \"{\\'name\\':\\'신길동\\', \\'year\\':1998, \\'month\\':12, \\'day\\':31}식으로 return\"\\n    return {\\n        \\'name\\': menber.get(\\'name\\'),\\n        \\'year\\': int(member[\\'birth\\'].split(\\'-\\')[0]),\\n        \\'month\\': int(member[\\'birth\\'].split(\\'-\\')[1]),\\n        \\'day\\': int(member[\\'birth\\'].split(\\'-\\')[2]),\\n    }\\nmember_func(member1[0])',\n",
       " '_i47': 'def member_func(menber): #{\\'name\\':\\'홍길동\\', \\'birth\\':\\'2000-01-01\\'}\\n    \"{\\'name\\':\\'신길동\\', \\'year\\':1998, \\'month\\':12, \\'day\\':31}식으로 return\"\\n    return {\\n        \\'name\\': menber.get(\\'name\\'),\\n        \\'year\\': int(member[\\'birth\\'].split(\\'-\\')[0]),\\n        \\'month\\': int(member[\\'birth\\'].split(\\'-\\')[1]),\\n        \\'day\\': int(member[\\'birth\\'].split(\\'-\\')[2]),\\n    }\\nmember_func(member1[0])',\n",
       " '_i48': \"# '2000-01-01' => {'year':1998, 'month':12, 'day':31}\\ndef split_date(date):\\n    split_data = date.split('-')\\n#    print(split_data[0], split_data[1], split_data[2])\\n    return {'year': int(split_data[0]),\\n           'month': int(split_data[1]),\\n           'day': int(split_data[2])\\n           }\",\n",
       " '_i49': \"'''\\n예제 2. member1=[{'name':'홍길동', 'birth':'2000-01-01'},\\n                {'name':'신길동', 'birth':'1998-12-31'},]를\\n        member2=[{'name':'홍길동', 'year':2000, 'month':1, 'day':1},\\n                 {'name':'신길동', 'year':1998, 'month':12, 'day':31},]를 바꿉니다.\\n'''\\nmember1=[{'name':'홍길동', 'birth':'2000-01-01'},\\n         {'name':'신길동', 'birth':'1998-12-31'},]\",\n",
       " '_i50': \"# '2000-01-01' => {'year':1998, 'month':12, 'day':31}\\ndef split_date(date):\\n    split_data = date.split('-')\\n#    print(split_data[0], split_data[1], split_data[2])\\n    return {'year': int(split_data[0]),\\n           'month': int(split_data[1]),\\n           'day': int(split_data[2])\\n           }\",\n",
       " '_i51': 'split_date(\"2000-01-01\")',\n",
       " '_51': {'year': 2000, 'month': 1, 'day': 1},\n",
       " '_i52': 'def member_func(menber): #{\\'name\\':\\'홍길동\\', \\'birth\\':\\'2000-01-01\\'}\\n    \"{\\'name\\':\\'신길동\\', \\'year\\':1998, \\'month\\':12, \\'day\\':31}식으로 return\"\\n    return {\\n        \\'name\\': menber.get(\\'name\\'),\\n        \\'year\\': int(member[\\'birth\\'].split(\\'-\\')[0]),\\n        \\'month\\': int(member[\\'birth\\'].split(\\'-\\')[1]),\\n        \\'day\\': int(member[\\'birth\\'].split(\\'-\\')[2]),\\n    }\\nmember_func(member1[0])',\n",
       " '_i53': \"member2 =list(map(lambda member : {\\n                        'name': menber.get('name'),\\n                        'year': int(member['birth'].split('-')[0]),\\n                        'month': int(member['birth'].split('-')[1]),\\n                        'day': int(member['birth'].split('-')[2]),\\n                        } ,\\n        member1\\n        )\\n    )\\nmember2\",\n",
       " '_i54': 'def member_func(member): #{\\'name\\':\\'홍길동\\', \\'birth\\':\\'2000-01-01\\'}\\n    \"{\\'name\\':\\'신길동\\', \\'year\\':1998, \\'month\\':12, \\'day\\':31}식으로 return\"\\n    return {\\n        \\'name\\': member.get(\\'name\\'),\\n        \\'year\\': int(member[\\'birth\\'].split(\\'-\\')[0]),\\n        \\'month\\': int(member[\\'birth\\'].split(\\'-\\')[1]),\\n        \\'day\\': int(member[\\'birth\\'].split(\\'-\\')[2]),\\n    }\\nmember_func(member1[0])',\n",
       " '_54': {'name': '홍길동', 'year': 2000, 'month': 1, 'day': 1},\n",
       " '_i55': \"member2 =list(map(lambda member : {\\n                        'name': menber.get('name'),\\n                        'year': int(member['birth'].split('-')[0]),\\n                        'month': int(member['birth'].split('-')[1]),\\n                        'day': int(member['birth'].split('-')[2]),\\n                        } ,\\n        member1\\n        )\\n    )\\nmember2\",\n",
       " '_i56': \"member2 =list(map(lambda member : {\\n                        'name': member.get('name'),\\n                        'year': int(member['birth'].split('-')[0]),\\n                        'month': int(member['birth'].split('-')[1]),\\n                        'day': int(member['birth'].split('-')[2]),\\n                        } ,\\n        member1\\n        )\\n    )\\nmember2\",\n",
       " 'member2': [{'name': '홍길동', 'year': 2000, 'month': 1, 'day': 1},\n",
       "  {'name': '신길동', 'year': 1998, 'month': 12, 'day': 31}],\n",
       " '_56': [{'name': '홍길동', 'year': 2000, 'month': 1, 'day': 1},\n",
       "  {'name': '신길동', 'year': 1998, 'month': 12, 'day': 31}],\n",
       " '_i57': \"join_date({'year':2000, 'month': 1, 'day': 1})\",\n",
       " '_i58': '#{\\'year\\': 2000, \\'month\\':1, \\'day\\':1} => \"2000-01-01\"를 return하는 함수\\ndef join_date(data):\\n    print(data)',\n",
       " 'join_date': <function __main__.join_date(data)>,\n",
       " '_i59': \"join_date({'year':2000, 'month': 1, 'day': 1})\",\n",
       " '_i60': '#{\\'year\\': 2000, \\'month\\':1, \\'day\\':1} => \"2000-01-01\"를 return하는 함수\\ndef join_date(data):\\n    print(data)',\n",
       " '_i61': '#{\\'year\\': 2000, \\'month\\':1, \\'day\\':1} => \"2000-01-01\"를 return하는 함수\\ndef join_date(data):\\n    print(data.get(\\'year\\'), data.get(\\'month\\'), data.get(\\'day\\'))',\n",
       " '_i62': \"join_date({'year':2000, 'month': 1, 'day': 1})\",\n",
       " '_i63': '#{\\'year\\': 2000, \\'month\\':1, \\'day\\':1} => \"2000-01-01\"를 return하는 함수\\ndef join_date(data):\\n    print([data.get(\\'year\\'), data.get(\\'month\\'), data.get(\\'day\\')])\\n    return \\'-\\'.join([data.get(\\'year\\'), data.get(\\'month\\'), data.get(\\'day\\')])',\n",
       " '_i64': \"join_date({'year':2000, 'month': 1, 'day': 1})\",\n",
       " '_i65': '#{\\'year\\': 2000, \\'month\\':1, \\'day\\':1} => \"2000-01-01\"를 return하는 함수\\ndef join_date(data):\\n    print([data.get(\\'year\\'), data.get(\\'month\\'), data.get(\\'day\\')])\\n    year = str(data.get(\\'year\\'))\\n    return \\'-\\'.join([year, data.get(\\'year\\'), data.get(\\'month\\'), data.get(\\'day\\')])',\n",
       " '_i66': \"join_date({'year':2000, 'month': 1, 'day': 1})\",\n",
       " '_i67': '#{\\'year\\': 2000, \\'month\\':1, \\'day\\':1} => \"2000-01-01\"를 return하는 함수\\ndef join_date(data):\\n    print([data.get(\\'year\\'), data.get(\\'month\\'), data.get(\\'day\\')])\\n    year = str(data.get(\\'year\\'))\\n    month = str(data.get(\\'month\\'))\\n    return \\'-\\'.join([year, data.get(\\'year\\'), data.get(\\'month\\'), data.get(\\'day\\')])',\n",
       " '_i68': \"join_date({'year':2000, 'month': 1, 'day': 1})\",\n",
       " '_i69': '#{\\'year\\': 2000, \\'month\\':1, \\'day\\':1} => \"2000-01-01\"를 return하는 함수\\ndef join_date(data):\\n    print([data.get(\\'year\\'), data.get(\\'month\\'), data.get(\\'day\\')])\\n    year = str(data.get(\\'year\\'))\\n    month = data.get(\\'month\\')\\n    \\n    return \\'-\\'.join([year, data.get(\\'year\\'), data.get(\\'month\\'), data.get(\\'day\\')])',\n",
       " '_i70': '#{\\'year\\': 2000, \\'month\\':1, \\'day\\':1} => \"2000-01-01\"를 return하는 함수\\ndef join_date(data):\\n    print([data.get(\\'year\\'), data.get(\\'month\\'), data.get(\\'day\\')])\\n    year = str(data.get(\\'year\\'))\\n    month = data.get(\\'month\\')\\n    if month < 10:\\n        month = \\'0\\'+str(month)\\n    else:\\n        month = str(month)\\n    day = data.get(\\'day\\')\\n    if month < 10:\\n        month = \\'0\\'+str(day)\\n    else:\\n        month = str(month)    \\n    return \\'-\\'.join([year, data.get(\\'year\\'), data.get(\\'month\\'), data.get(\\'day\\')])',\n",
       " '_i71': \"join_date({'year':2000, 'month': 1, 'day': 1})\",\n",
       " '_i72': '#{\\'year\\': 2000, \\'month\\':1, \\'day\\':1} => \"2000-01-01\"를 return하는 함수\\ndef join_date(data):\\n    #print([data.get(\\'year\\'), data.get(\\'month\\'), data.get(\\'day\\')])\\n    year = str(data.get(\\'year\\'))\\n    month = data.get(\\'month\\')\\n    if month < 10:\\n        month = \\'0\\'+str(month)\\n    else:\\n        month = str(month)\\n    day = data.get(\\'day\\')\\n    if month < 10:\\n        month = \\'0\\'+str(day)\\n    else:\\n        month = str(month)    \\n    return \\'-\\'.join([year, data.get(\\'year\\'), data.get(\\'month\\'), data.get(\\'day\\')])',\n",
       " '_i73': \"join_date({'year':2000, 'month': 1, 'day': 1})\",\n",
       " '_i74': '#{\\'year\\': 2000, \\'month\\':1, \\'day\\':1} => \"2000-01-01\"를 return하는 함수\\ndef join_date(data):\\n    #print([data.get(\\'year\\'), data.get(\\'month\\'), data.get(\\'day\\')])\\n    year = str(data.get(\\'year\\'))\\n    month = data.get(\\'month\\')\\n    if month < 10:\\n        month = \\'0\\'+str(month)\\n    else:\\n        month = str(month)\\n    day = data.get(\\'day\\')\\n    if day < 10:\\n        day = \\'0\\'+str(day)\\n    else:\\n        day = str(month)    \\n    return \\'-\\'.join([year, data.get(\\'year\\'), data.get(\\'month\\'), data.get(\\'day\\')])',\n",
       " '_i75': '#{\\'year\\': 2000, \\'month\\':1, \\'day\\':1} => \"2000-01-01\"를 return하는 함수\\ndef join_date(data):\\n    #print([data.get(\\'year\\'), data.get(\\'month\\'), data.get(\\'day\\')])\\n    year = str(data.get(\\'year\\'))\\n    month = data.get(\\'month\\')\\n    if month < 10:\\n        month = \\'0\\'+str(month)\\n    else:\\n        month = str(month)\\n    day = data.get(\\'day\\')\\n    if day < 10:\\n        day = \\'0\\'+str(day)\\n    else:\\n        day = str(month)    \\n    return \\'-\\'.join([year, data.get(\\'year\\'), data.get(\\'month\\'), data.get(\\'day\\')])',\n",
       " '_i76': \"join_date({'year':2000, 'month': 1, 'day': 1})\",\n",
       " '_i77': '# {\\'year\\': 2000, \\'month\\': 1, \\'day\\': 1} => \"2000-01-01\"를 return하는 함수\\ndef join_date(data):\\n    # print([data.get(\\'year\\'), data.get(\\'month\\'), data.get(\\'day\\')])\\n    year = str(data.get(\\'year\\'))\\n    month = data.get(\\'month\\')\\n    if month < 10:\\n        month = \\'0\\'+str(month)\\n    else:\\n        month = str(month)\\n    day = data.get(\\'day\\')\\n    if day < 10:\\n        day = \\'0\\'+str(day)\\n    else:\\n        day = str(day)\\n    return \\'-\\'.join([year, month, day])',\n",
       " '_i78': \"join_date({'year': 2000, 'month': 1, 'day': 1})\",\n",
       " '_78': '2000-01-01',\n",
       " '_i79': 'def join_date(data):\\n    print(\"{}-{:02}={:02}\".format(data.get(\\'year\\'),\\n                                  data.get(\\'month\\'),\\n                                  data.get(\\'day\\')))',\n",
       " '_i80': 'def join_date(data):\\n    print(\"{year}-{month:02}={day:02}\".format(\\n                                  year = data.get(\\'year\\'),\\n                                  month = data.get(\\'month\\'),\\n                                  day= data.get(\\'day\\')))',\n",
       " '_i81': 'def join_date(data):\\n    return \"{year}-{month:02}-{day:02}\".format(**data)',\n",
       " '_i82': '# {\\'name\\':\\'홍길동\\', \\'year\\':2000, \\'month\\':1, \\'day\\':1}(member2)를\\n# {\\'name\\':\\'홍길동\\', \\'birth\\':\\'2000-01-01\\'}으로 가공\\nlist(map(lambda member : {\\n        \\'name\\' : member.get(\\'name\\'),\\n        \\'birth\\' : \"{year}-{month:02}-{day:02}\".format(**data)\\n        },\\n    member2\\n))',\n",
       " '_i83': '# {\\'name\\':\\'홍길동\\', \\'year\\':2000, \\'month\\':1, \\'day\\':1}(member2)를\\n# {\\'name\\':\\'홍길동\\', \\'birth\\':\\'2000-01-01\\'}으로 가공\\nlist(map(lambda member : {\\n                        \\'name\\' : member.get(\\'name\\'),\\n                        \\'birth\\' : \"{year}-{month:02}-{day:02}\".format(**data)\\n                        },\\n    member2\\n))',\n",
       " '_i84': '# {\\'name\\':\\'홍길동\\', \\'year\\':2000, \\'month\\':1, \\'day\\':1}(member2)를\\n# {\\'name\\':\\'홍길동\\', \\'birth\\':\\'2000-01-01\\'}으로 가공\\nlist(map(lambda member : {\\n                        \\'name\\' : member.get(\\'name\\'),\\n                        \\'birth\\' : \"{year}-{month:02}-{day:02}\".format(**member)\\n                        },\\n    member2\\n))',\n",
       " '_84': [{'name': '홍길동', 'birth': '2000-01-01'},\n",
       "  {'name': '신길동', 'birth': '1998-12-31'}],\n",
       " '_i85': 'def filter_template(func, L=[]):\\n    result = []\\n    for l in L :\\n        if func(l):\\n            result.append(l)\\n    return result',\n",
       " 'filter_template': <function __main__.filter_template(func, L=[])>,\n",
       " '_i86': 'def evenChk(value):\\n    return value%2==0\\nevenChk(10), evenChk(-9)',\n",
       " 'evenChk': <function __main__.evenChk(value)>,\n",
       " '_86': (True, False),\n",
       " '_i87': 'list_data = [1, 2, 3, 4, 5]\\nfilter_template(lambda value : value%2==0 , )',\n",
       " '_87': [],\n",
       " '_i88': 'list_data = [1, 2, 3, 4, 5]\\nfilter_template(lambda value : value%2==0 , list_data)',\n",
       " '_88': [2, 4],\n",
       " '_i89': 'list(filter(lambda value : value%2==0, list_data))',\n",
       " '_89': [2, 4],\n",
       " '_i90': 'list(filter(lambda value : value%2==0, list_data))',\n",
       " '_90': [2, 4],\n",
       " '_i91': '[for data in list_data if data%2==0]',\n",
       " '_i92': '[data for data in list_data if data%2==0]',\n",
       " '_92': [2, 4],\n",
       " '_i93': 'P = [9, 2, 7]\\nP.sort(reverse=True)\\nP',\n",
       " 'P': [9, 7, 2],\n",
       " '_93': [9, 7, 2],\n",
       " '_i94': 'number2d = [[9, 9],\\n           [1, 100],\\n           [10, 1]]\\nnumber2d.sort()\\nnumber2d',\n",
       " 'number2d': [[1, 100], [9, 9, 9, 9, 9, 9, 9, 9], [10, 1]],\n",
       " '_94': [[1, 100], [9, 9], [10, 1]],\n",
       " '_i95': '# 무조껀 0번 item기준으로 정렬\\nnumber2d = [[9, 9],\\n           [1, 100],\\n           [10, 1]]\\nnumber2d.sort(reverse=True)\\nnumber2d',\n",
       " '_95': [[10, 1], [9, 9], [1, 100]],\n",
       " '_i96': '# 무조껀 0번 item기준으로 정렬\\nnumber2d = [[9, 9, 9, 9, 9, 9, 9, 9],\\n           [1, 100],\\n           [10, 1]]\\nnumber2d.sort(reverse=True)\\nnumber2d',\n",
       " '_96': [[1, 100], [9, 9, 9, 9, 9, 9, 9, 9], [10, 1]],\n",
       " '_i97': \"pairs = [(2, 'two'), (1, 'one'), (4, 'four'), (3, 'three')]\\npairs.sort()\\npairs\",\n",
       " 'pairs': [(4, 'four'), (1, 'one'), (3, 'three'), (2, 'two')],\n",
       " '_97': [(1, 'one'), (2, 'two'), (3, 'three'), (4, 'four')],\n",
       " '_i98': \"# 무조껀 0번째 item 기준으로 정렬\\npairs = [(2, 'two'), (1, 'one'), (4, 'four'), (3, 'three')]\\npairs.sort()\\npairs\",\n",
       " '_98': [(4, 'four'), (1, 'one'), (3, 'three'), (2, 'two')],\n",
       " '_i99': '# 1번째 item 기준으로 정렬(abc순)\\npairs.sort(key=lambda pair : pair[1])\\npairs',\n",
       " '_99': [(4, 'four'), (1, 'one'), (3, 'three'), (2, 'two')],\n",
       " '_i100': '(lambda item : sum(item))([1,2,3,])',\n",
       " '_100': 6,\n",
       " '_i101': '# 합이 큰 순으로 정렬\\nnumber2d.sort(key = lambda item : sum(item))',\n",
       " '_i102': '# 합이 큰 순으로 정렬\\nnumber2d.sort(key = lambda item : sum(item))\\nnumber2d',\n",
       " '_102': [[1, 100], [9, 9, 9, 9, 9, 9, 9, 9], [10, 1]],\n",
       " '_i103': '# 합이 큰 순으로 정렬\\nnumber2d.sort(key = lambda item : sum(item)), reverse=true\\nnumber2d',\n",
       " '_i104': '# 합이 큰 순으로 정렬\\nnumber2d.sort(key = lambda item : sum(item)), reverse = true\\nnumber2d',\n",
       " '_i105': '# 합이 큰 순으로 정렬\\nnumber2d.sort(key = lambda item : sum(item)), reverse = True\\nnumber2d',\n",
       " '_i106': '# 합이 큰 순으로 정렬\\nnumber2d.sort(key = lambda item : sum(item), reverse = True)\\nnumber2d',\n",
       " '_106': [[1, 100], [9, 9, 9, 9, 9, 9, 9, 9], [10, 1]],\n",
       " '_i107': 'def add(x, y=5):\\n    return key+reverse',\n",
       " 'add': <function __main__.add(x, y=5)>,\n",
       " '_i108': 'add(reverse=10, key=7)',\n",
       " '_i109': \"students = [\\n    {'name':'홍길동', 'score':90},\\n    {'name':'김길동', 'score':50},\\n    {'name':'윤길동', 'score':99},\\n]\",\n",
       " 'students': [{'score': 100},\n",
       "  {'name': '윤길동', 'score': 99},\n",
       "  {'name': '홍길동', 'score': 90},\n",
       "  {'name': '김길동', 'score': 50}],\n",
       " '_i110': 'students.sort()\\nstudents',\n",
       " '_i111': '# 이름순으로 정렬(ㄱㄴㄷ순)\\nstudents.sort()\\nstudents',\n",
       " '_i112': '# 이름순으로 정렬(ㄱㄴㄷ순)\\nstudents.sort()\\nstudents',\n",
       " '_i113': '# 이름순으로 정렬(ㄱㄴㄷ순)\\nstudents.sort(key=lambda pair : pair[1])\\nstudents',\n",
       " '_i114': '# 이름순으로 정렬(ㄱㄴㄷ순)\\nstudents.sort(key=lambda pair : pair[name])\\nstudents',\n",
       " '_i115': \"# 이름순으로 정렬(ㄱㄴㄷ순)\\nstudents.sort(key=lambda item : item['name'])\\nstudents\",\n",
       " '_115': [{'name': '김길동', 'score': 50},\n",
       "  {'name': '윤길동', 'score': 99},\n",
       "  {'name': '홍길동', 'score': 90}],\n",
       " '_i116': \"students = [\\n    {'name':'홍길동', 'score':90},\\n    {'name':'김길동', 'score':50},\\n    {'name':'윤길동', 'score':99},\\n    {'score':100}\\n]\",\n",
       " '_i117': \"# 이름순으로 정렬(ㄱㄴㄷ순)\\nstudents.sort(key=lambda item : item['name'])\\nstudents\",\n",
       " '_i118': \"# 이름순으로 정렬(ㄱㄴㄷ순)\\nstudents.sort(key=lambda item : item.get['name'])\\nstudents\",\n",
       " '_i119': \"# 이름순으로 정렬(ㄱㄴㄷ순)\\nstudents.sort(key=lambda item : item.get('name'))\\nstudents\",\n",
       " '_i120': \"# 이름순으로 정렬(ㄱㄴㄷ순)\\nstudents.sort(key=lambda item : item.get('name','힣'))\\nstudents\",\n",
       " '_120': [{'score': 100},\n",
       "  {'name': '윤길동', 'score': 99},\n",
       "  {'name': '홍길동', 'score': 90},\n",
       "  {'name': '김길동', 'score': 50}],\n",
       " '_i121': \"# 이름순으로 정렬(ㄱㄴㄷ순)\\nstudents.sort(key=lambda item : item.get('name','가'))\\nstudents\",\n",
       " '_121': [{'score': 100},\n",
       "  {'name': '윤길동', 'score': 99},\n",
       "  {'name': '홍길동', 'score': 90},\n",
       "  {'name': '김길동', 'score': 50}],\n",
       " '_i122': \"# score순으로 정렬(내림차순 정렬)\\nstudents.sort(key=lambda item : item.get('score', 0), reverse=True)  \\nstudents\",\n",
       " '_122': [{'score': 100},\n",
       "  {'name': '윤길동', 'score': 99},\n",
       "  {'name': '홍길동', 'score': 90},\n",
       "  {'name': '김길동', 'score': 50}],\n",
       " '_i123': \"# 책제목순 정렬(ㄱㄴㄷ순), 저자순 정렬(ㄱㄴㄷ순), 가격순 정렬\\nbooks =[\\n    {'no':1, 'title':'강남 아파트 인사이트', 'writer':'오스톨', 'price':'25,200'},\\n    {'no':2, 'title':'한 한번의 삶', 'writer':'김영하', 'price':'18,100'},\\n    {'no':3, 'title':'흔한남매 19', 'writer':'백난도', 'price':'14,220'},\\n    {'no':4, 'title':'가격이잘못', 'writer':'홍길동', 'price':'-'},\\n    {'no':5, 'title':'가격이숫자', 'writer':'신길동', 'price':900},\\n    {'no':6, 'title':'가격이없음', 'writer':'김길동'},\\n]\",\n",
       " 'books': [{'no': 1,\n",
       "   'title': '강남 아파트 인사이트',\n",
       "   'writer': '오스톨',\n",
       "   'price': '25,200'},\n",
       "  {'no': 2, 'title': '한 한번의 삶', 'writer': '김영하', 'price': '18,100'},\n",
       "  {'no': 3, 'title': '흔한남매 19', 'writer': '백난도', 'price': '14,220'},\n",
       "  {'no': 4, 'title': '가격이잘못', 'writer': '홍길동', 'price': '-'},\n",
       "  {'no': 5, 'title': '가격이숫자', 'writer': '신길동', 'price': 900},\n",
       "  {'no': 6, 'title': '가격이없음', 'writer': '김길동'}],\n",
       " '_i124': \"books.sort(key=lambda book : book.get('title'))\\nbooks\",\n",
       " '_124': [{'no': 6, 'title': '가격이없음', 'writer': '김길동'},\n",
       "  {'no': 2, 'title': '한 한번의 삶', 'writer': '김영하', 'price': '18,100'},\n",
       "  {'no': 3, 'title': '흔한남매 19', 'writer': '백난도', 'price': '14,220'},\n",
       "  {'no': 5, 'title': '가격이숫자', 'writer': '신길동', 'price': 900},\n",
       "  {'no': 1, 'title': '강남 아파트 인사이트', 'writer': '오스톨', 'price': '25,200'},\n",
       "  {'no': 4, 'title': '가격이잘못', 'writer': '홍길동', 'price': '-'}],\n",
       " '_i125': \"books.sort(key=lambda book : book.get('writer'))\\nbooks\",\n",
       " '_125': [{'no': 6, 'title': '가격이없음', 'writer': '김길동'},\n",
       "  {'no': 2, 'title': '한 한번의 삶', 'writer': '김영하', 'price': '18,100'},\n",
       "  {'no': 3, 'title': '흔한남매 19', 'writer': '백난도', 'price': '14,220'},\n",
       "  {'no': 5, 'title': '가격이숫자', 'writer': '신길동', 'price': 900},\n",
       "  {'no': 1, 'title': '강남 아파트 인사이트', 'writer': '오스톨', 'price': '25,200'},\n",
       "  {'no': 4, 'title': '가격이잘못', 'writer': '홍길동', 'price': '-'}],\n",
       " '_i126': \"# 가격순 정렬은 위의 작업방식과 다르다.\\n# 숫자로 잘못된 것들도 있고, 문자로 구현된 것들도 있음.\\n# 따라서 sort문, 문자인지 숫자인지를 구분하는 작업이 추가로 필요하다.\\nbooks.sort(key=lambda book : book.get('price'.0))\\nbooks\",\n",
       " '_i127': \"# 가격순 정렬은 위의 작업방식과 다르다.\\n# 숫자로 잘못된 것들도 있고, 문자로 구현된 것들도 있음.\\n# 따라서 sort문, 문자인지 숫자인지를 구분하는 작업이 추가로 필요하다.\\nbooks.sort(key=lambda book : book.get('price',0))\\nbooks\",\n",
       " '_i128': \"# 가격순 정렬은 위의 작업방식과 다르다.\\n# 숫자로 잘못된 것들도 있고, 문자로 구현된 것들도 있음.\\n# 따라서 sort문, 문자인지 숫자인지를 구분하는 작업이 추가로 필요하다.\\nbooks.sort(key=lambda book : book.get('price',0))\\nbooks\\n#해당 방식은 숫자와 문자를 동시에 사용하려 하니 에러가 발생하는 것이다.\",\n",
       " '_i129': \"#'14,000' -> 14000 / 800 -> 800 / '-' -> 0\\n#조건식을 만들기 어렵다면 일단 함수를 만들고, 람다식으로 만드는 방법이 추천된다.\\ndef parse_int(price):\\n    print(type(price))\",\n",
       " 'parse_int': <function __main__.parse_int(book)>,\n",
       " '_i130': 'parse_int(800)',\n",
       " '_i131': 'parse_int(800)\\n#int 타입이면 빼거나 조정하는 작업이 필요하다.',\n",
       " '_i132': \"#'14,000' -> 14000 / 800 -> 800 / '-' -> 0  #조건이 3가지가 필요하다.\\n#조건식을 만들기 어렵다면 일단 함수를 만들고, 람다식으로 만드는 방법이 추천된다.\\ndef parse_int(price):\\n    #print(type(price))\\n    if isinstance(price, int):\\n        return price\",\n",
       " '_i133': 'parse_int(800)\\n#int 타입이면 빼거나 조정하는 작업이 필요하다.',\n",
       " '_133': 800,\n",
       " '_i134': \"#'14,000' -> 14000 / 800 -> 800 / '-' -> 0  #조건이 3가지가 필요하다.\\n#조건식을 만들기 어렵다면 일단 함수를 만들고, 람다식으로 만드는 방법이 추천된다.\\ndef parse_int(price):\\n    #print(type(price))\\n    if isinstance(prics, str) and price.replace(',','').isdigit():\\n        #↑ 해당 함수는 어떤 값이 특정 자료형인지를 확인할 때 사용되는 함수임.\\n        # isinstance(값, 자료형) #결과는 True 또는 False로 출력됨.\\n        return int(price,replace(',', ''))\\n    elif isinstance(price, int):\\n        return price\",\n",
       " '_i135': 'parse_int(800)',\n",
       " '_i136': \"#'14,000' -> 14000 / 800 -> 800 / '-' -> 0  #조건이 3가지가 필요하다.\\n#조건식을 만들기 어렵다면 일단 함수를 만들고, 람다식으로 만드는 방법이 추천된다.\\ndef parse_int(price):\\n    #print(type(price))\\n    if isinstance(prices, str) and price.replace(',','').isdigit():\\n        #↑ 해당 함수는 어떤 값이 특정 자료형인지를 확인할 때 사용되는 함수임.\\n        # isinstance(값, 자료형) #결과는 True 또는 False로 출력됨.\\n        return int(price,replace(',', ''))\\n    elif isinstance(price, int):\\n        return price\",\n",
       " '_i137': \"#'14,000' -> 14000 / 800 -> 800 / '-' -> 0  #조건이 3가지가 필요하다.\\n#조건식을 만들기 어렵다면 일단 함수를 만들고, 람다식으로 만드는 방법이 추천된다.\\ndef parse_int(price):\\n    #print(type(price))\\n    if isinstance(price, str) and price.replace(',','').isdigit():\\n        #↑ 해당 함수는 어떤 값이 특정 자료형인지를 확인할 때 사용되는 함수임.\\n        # isinstance(값, 자료형) #결과는 True 또는 False로 출력됨.\\n        return int(price,replace(',', ''))\\n    elif isinstance(price, int):\\n        return price\",\n",
       " '_i138': 'parse_int(800)',\n",
       " '_138': 800,\n",
       " '_i139': 'parse_int(\"8,000\"), parse_int(\"8000\"), parse_int(800), parse_int(\\'-\\')',\n",
       " '_i140': \"#'14,000' -> 14000 / 800 -> 800 / '-' -> 0  #조건이 3가지가 필요하다.\\n#조건식을 만들기 어렵다면 일단 함수를 만들고, 람다식으로 만드는 방법이 추천된다.\\ndef parse_int(price):\\n    #print(type(price))\\n    if isinstance(price, str) and price.replace(',','').isdigit():\\n        #↑ 해당 함수는 어떤 값이 특정 자료형인지를 확인할 때 사용되는 함수임.\\n        # isinstance(값, 자료형) #결과는 True 또는 False로 출력됨.\\n        return int(price,replace(',',''))\\n    elif isinstance(price, int):\\n        return price\",\n",
       " '_i141': 'parse_int(\"8,000\"), parse_int(\"8000\"), parse_int(800), parse_int(\\'-\\')',\n",
       " '_i142': 'parse_int(\"8,000\"), parse_int(\"8000\"), parse_int(800), parse_int(\\'-\\')',\n",
       " '_i143': \"#'14,000' -> 14000 / 800 -> 800 / '-' -> 0  #조건이 3가지가 필요하다.\\n#조건식을 만들기 어렵다면 일단 함수를 만들고, 람다식으로 만드는 방법이 추천된다.\\ndef parse_int(price):\\n    #print(type(price))\\n    if isinstance(price, str) and price.replace(',','').isdigit():\\n        #↑ 해당 함수는 어떤 값이 특정 자료형인지를 확인할 때 사용되는 함수임.\\n        # isinstance(값, 자료형) #결과는 True 또는 False로 출력됨.\\n        return int(price.replace(',',''))\\n    elif isinstance(price, int):\\n        return price\",\n",
       " '_i144': 'parse_int(\"8,000\"), parse_int(\"8000\"), parse_int(800), parse_int(\\'-\\')',\n",
       " '_144': (8000, 8000, 800, None),\n",
       " '_i145': \"# {'no': 6, 'title': '가격이없음', 'writer': '김길동'} => 0 return으로 바꿔야함.(주어진 데이터에서 값이 안나와있으므로)\\n# {'no': 3, 'title': '흔한남매 19', 'writer': '백난도', 'price': '14,220'} => 14220\\n# {'no': 5, 'title': '가격이숫자', 'writer': '신길동', 'price': 900} => 900\\ndef parse_int(book):\\n    if isinstance(book.get('price'),str) and book.get('price').replace(',','').isdigit():\\n        return int(book.get('price').replace(',','') )\\n    elif isinstance(book.get('price'), int):\\n        return book.get('price')\\n    else :\\n        return 0\\nparse_int(books[0])\",\n",
       " '_145': 0,\n",
       " '_i146': \"# {'no': 6, 'title': '가격이없음', 'writer': '김길동'} => 0 return으로 바꿔야함.(주어진 데이터에서 값이 안나와있으므로)\\n# {'no': 3, 'title': '흔한남매 19', 'writer': '백난도', 'price': '14,220'} => 14220\\n# {'no': 5, 'title': '가격이숫자', 'writer': '신길동', 'price': 900} => 900\\ndef parse_int(book):\\n    if isinstance(book.get('price'),str) and \\\\\\n        book.get('price').replace(',','').isdigit():\\n        return int(book.get('price').replace(',','') )\\n    elif isinstance(book.get('price'), int):\\n        return book.get('price')\\n    else :\\n        return 0\\nparse_int(books[0])\",\n",
       " '_146': 0,\n",
       " '_i147': \"# {'no': 6, 'title': '가격이없음', 'writer': '김길동'} => 0 return으로 바꿔야함.(주어진 데이터에서 값이 안나와있으므로)\\n# {'no': 3, 'title': '흔한남매 19', 'writer': '백난도', 'price': '14,220'} => 14220\\n# {'no': 5, 'title': '가격이숫자', 'writer': '신길동', 'price': 900} => 900\\ndef parse_int(book):\\n    if isinstance(book.get('price'),str) and \\\\ #함수가 너무 길어져서 가독성이 떨어질 경우 \\\\로 표기함.\\n        book.get('price').replace(',','').isdigit():\\n        return int(book.get('price').replace(',','') )\\n    elif isinstance(book.get('price'), int):\\n        return book.get('price')\\n    else :\\n        return 0\\nparse_int(books[0]), parse_int(books[3]), parse_int(books[2]), parse_int(books[5])\",\n",
       " '_i148': \"# {'no': 6, 'title': '가격이없음', 'writer': '김길동'} => 0 return으로 바꿔야함.(주어진 데이터에서 값이 안나와있으므로)\\n# {'no': 3, 'title': '흔한남매 19', 'writer': '백난도', 'price': '14,220'} => 14220\\n# {'no': 5, 'title': '가격이숫자', 'writer': '신길동', 'price': 900} => 900\\ndef parse_int(book):\\n    if isinstance(book.get('price'),str) and book.get('price').replace(',','').isdigit():\\n        return int(book.get('price').replace(',','') )\\n    elif isinstance(book.get('price'), int):\\n        return book.get('price')\\n    else :\\n        return 0\\nparse_int(books[0]), parse_int(books[3]), parse_int(books[2]), parse_int(books[5])\",\n",
       " '_148': (0, 900, 14220, 0),\n",
       " '_i149': \"# {'no': 6, 'title': '가격이없음', 'writer': '김길동'} => 0 return으로 바꿔야함.(주어진 데이터에서 값이 안나와있으므로)\\n# {'no': 3, 'title': '흔한남매 19', 'writer': '백난도', 'price': '14,220'} => 14220\\n# {'no': 5, 'title': '가격이숫자', 'writer': '신길동', 'price': 900} => 900\\ndef parse_int(book):\\n    if isinstance(book.get('price'),str) and \\\\\\n    book.get('price').replace(',','').isdigit():\\n        return int(book.get('price').replace(',','') )\\n    elif isinstance(book.get('price'), int):\\n        return book.get('price')\\n    else :\\n        return 0\\nparse_int(books[0]), parse_int(books[3]), parse_int(books[2]), parse_int(books[5])\\n#람다식 변경시 if문이 맨 위로 오도록 하는것이 편리할 수 있음.\",\n",
       " '_149': (0, 900, 14220, 0),\n",
       " '_i150': \"# {'no': 6, 'title': '가격이없음', 'writer': '김길동'} => 0 return으로 바꿔야함.(주어진 데이터에서 값이 안나와있으므로)\\n# {'no': 3, 'title': '흔한남매 19', 'writer': '백난도', 'price': '14,220'} => 14220\\n# {'no': 5, 'title': '가격이숫자', 'writer': '신길동', 'price': 900} => 900\\ndef parse_int(book):\\n    if isinstance(book.get('price'),str) and \\\\\\n    book.get('price').replace(',','').isdigit():\\n        return int(book.get('price').replace(',','') )\\n    elif isinstance(book.get('price'), int):\\n        return book.get('price')\\n    else :\\n        return 0\\nparse_int(books[0]), parse_int(books[3]), parse_int(books[2]), parse_int(books[5])\\n#람다식 변경시 if문이 맨 위로 오도록 하는것이 편리할 수 있음.\",\n",
       " '_150': (0, 900, 14220, 0),\n",
       " '_i151': 'copy_books',\n",
       " '_i152': \"books =[\\n    {'no':1, 'title':'강남 아파트 인사이트', 'writer':'오스톨', 'price':'25,200'},\\n    {'no':2, 'title':'한 한번의 삶', 'writer':'김영하', 'price':'18,100'},\\n    {'no':3, 'title':'흔한남매 19', 'writer':'백난도', 'price':'14,220'},\\n    {'no':4, 'title':'가격이잘못', 'writer':'홍길동', 'price':'-'},\\n    {'no':5, 'title':'가격이숫자', 'writer':'신길동', 'price':900},\\n    {'no':6, 'title':'가격이없음', 'writer':'김길동'},\\n]\\ncopy_books = books.copy() #깊은복사\",\n",
       " 'copy_books': [{'no': 4, 'title': '가격이잘못', 'writer': '홍길동', 'price': '-'},\n",
       "  {'no': 6, 'title': '가격이없음', 'writer': '김길동'},\n",
       "  {'no': 5, 'title': '가격이숫자', 'writer': '신길동', 'price': 900},\n",
       "  {'no': 3, 'title': '흔한남매 19', 'writer': '백난도', 'price': '14,220'},\n",
       "  {'no': 2, 'title': '한 한번의 삶', 'writer': '김영하', 'price': '18,100'},\n",
       "  {'no': 1, 'title': '강남 아파트 인사이트', 'writer': '오스톨', 'price': '25,200'}],\n",
       " '_i153': \"copy_books.sort(key = lambda book : \\n                int(book.get('price').replace(',','')) \\\\\\n                    if isinstance(book.get('price'),str) and \\\\\\n                    book.get('price').replace(',','').isdigit() else \\\\\\n                book.get('price') if isinstance(book.get('price'), int) else \\\\\\n                0               \\n               )\",\n",
       " '_i154': \"#람다식 테스트 확인\\n(lambda book : \\n                int(book.get('price').replace(',','')) \\\\\\n                    if isinstance(book.get('price'),str) and \\\\\\n                    book.get('price').replace(',','').isdigit() else \\\\\\n                book.get('price') if isinstance(book.get('price'), int) else \\\\\\n                0 )(books[0])\",\n",
       " '_154': 25200,\n",
       " '_i155': 'line_func = make_box([2,3])\\nline_func(3)',\n",
       " '_i156': '# 함수를 return\\ndef make_box(shape): #shape : [l]=>len가 l인 list를 생성하는 함수 return, [l], \\n                    #         [r,c] => r행 c열인 list를 생성하는 함수 return\\n    def box(init_value):\\n        if len(shape)==1:\\n            return [init_value]*shape[0]\\n        elif len(shape)==2:\\n            return [ [init_value]*shape[1] ] * shape[0]\\n    return box',\n",
       " 'make_box': <function __main__.make_box(shape)>,\n",
       " '_i157': 'line_func = make_box([2,3])\\nline_func(3)',\n",
       " 'line_func': <function __main__.make_box.<locals>.box(init_value)>,\n",
       " '_157': [[3, 3, 3], [3, 3, 3]],\n",
       " '_i158': 'line_func1 = make_box([10])\\nline_func(3)',\n",
       " 'line_func1': <function __main__.make_box.<locals>.box(init_value)>,\n",
       " '_158': [[3, 3, 3], [3, 3, 3]],\n",
       " '_i159': 'line_func1 = make_box([10])\\nline_func1(3)',\n",
       " '_159': [3, 3, 3, 3, 3, 3, 3, 3, 3, 3],\n",
       " '_i160': 'def make_box(shape) :\\n    if len(shape)==1:\\n        return lambda init_value : [init_value]*shape[0]\\n    else len(shape)==2:\\n        return lambda init_value : [[init_value]*shape[1]]*shape[0]',\n",
       " '_i161': 'globals()'}"
      ]
     },
     "execution_count": 161,
     "metadata": {},
     "output_type": "execute_result"
    }
   ],
   "source": [
    "globals() #전역변수 리스트"
   ]
  },
  {
   "cell_type": "code",
   "execution_count": 162,
   "id": "4b517a5e",
   "metadata": {},
   "outputs": [
    {
     "data": {
      "text/plain": [
       "{'__name__': '__main__',\n",
       " '__doc__': \"\\n예제 2. member1=[{'name':'홍길동', 'birth':'2000-01-01'},\\n                {'name':'신길동', 'birth':'1998-12-31'},]를\\n        member2=[{'name':'홍길동', 'year':2000, 'month':1, 'day':1},\\n                 {'name':'신길동', 'year':1998, 'month':12, 'day':31},]를 바꿉니다.\\n\",\n",
       " '__package__': None,\n",
       " '__loader__': None,\n",
       " '__spec__': None,\n",
       " '__builtin__': <module 'builtins' (built-in)>,\n",
       " '__builtins__': <module 'builtins' (built-in)>,\n",
       " '_ih': ['',\n",
       "  'from IPython.display import display, HTML\\ndisplay(HTML(\"\"\"\\n<style>\\ndiv.container{width:95% !important;}\\ndiv.cell.code_cell.rendered{width:100%;}\\ndiv.CodeMirror {font-family:Consolas; font-size:15pt;}\\ndiv.output {font-size:15pt; font-weight:bold;}\\ndiv.input {font-family:Consolas; font-size:15pt;}\\ndiv.prompt {min-width:70px;}\\ndiv#toc-wrapper{padding-top:120px;}\\ndiv.text_cell_render ul li{font-size:12pt;padding:5px;}\\ntable.dataframe{font-size:15px;}\\n</style>\\n\"\"\"))',\n",
       "  \"def map_template(func, L=[1, 2, 3]):\\n    '''\\n    L의 모든 요소를 func()함수를 적용시켜 return\\n    [func(1) for 1 in L]\\n    '''\\n    result = []\\n    for l in L:\\n        result.append(func(L))\\n    return result\\n#    result = [func(1) for l in L]\",\n",
       "  'list_data = [1, 2, 3, 4, 5, 6, 7, 8, 9, 10]\\ndef x_2(x):\\n    return x*2\\nmap_template(x_2, list_data)',\n",
       "  \"def map_template(func, L=[]):\\n    '''\\n    L의 모든 요소를 func()함수를 적용시켜 return\\n    '''\\n    result = []\\n    for l in L:\\n        result.append(func(l))\\n    return result\\n#    result = [func(1) for l in L]\",\n",
       "  'list_data = [1, 2, 3, 4, 5, 6, 7, 8, 9, 10]\\ndef x_2(x):\\n    return x*2\\nmap_template(x_2, list_data)',\n",
       "  'list_data = [1, 2, 3, 4, 5, 6, 7, 8, 9, 10]\\nmap_template(lambda x : x*2, list_data)\\n# def x_2(x):\\n#     return x*2\\n# map_template(x_2, list_data)',\n",
       "  '# 리스트 데이터를 가공하는 방법 1. map\\nlist_data = [1, 2, 3, 4, 5, 6, 7, 8, 9, 10]\\nmap_template(lambda x : x*2, list_data)\\n# def x_2(x):\\n#     return x*2\\n# map_template(x_2, list_data)',\n",
       "  '# 리스트 데이터를 가공하는 방법 2. 리스트 컴프리헨션\\n[l*2 for l in list_data]',\n",
       "  '# 리스트 데이터를 가공하는 방법 1. map_template\\nlist_data = [1, 2, 3, 4, 5, 6, 7, 8, 9, 10]\\nmap_template(lambda x : x*2, list_data)\\n# def x_2(x):\\n#     return x*2\\n# map_template(x_2, list_data)',\n",
       "  '# 리스트 데이터를 가공하는 방법 3. map():파이썬 내장함수\\nmap(lambda x : x*2, list_data)',\n",
       "  '# 리스트 데이터를 가공하는 방법 3. map():파이썬 내장함수\\nlist(map(lambda x : x*2, list_data))',\n",
       "  \"for item in map(lambda x : x*2, list_data):\\n    print(item, end=' ')\",\n",
       "  'def func(x):\\n    return int(x.replace(\\',\\',\\'\\'))\\nfunc(\"5,000\"), func(\"1800\")',\n",
       "  \"map(lambda x : int(x.replace(',','')), prices))\",\n",
       "  \"map(lambda x : int(x.replace(',',''))), prices))\",\n",
       "  \"map(lambda x : int(x.replace(',','')), prices)\",\n",
       "  \"map(lambda x : int(x.replace(',','')), prices)\",\n",
       "  \"list(map(lambda x : int(x.replace(',','')), prices))\",\n",
       "  \"'''\\n예제 1. [5000,800,1000,6000]로 바꾸시오(map함수 사용)\\n'''\\nprices = ['5,000', '800', '1000', '6,000']\",\n",
       "  \"list(map(lambda x : int(x.replace(',','')), prices))\",\n",
       "  'split_date(\"2000-01-01\")',\n",
       "  \"# '2000-01-01' => {'year':1998, 'month':12, 'day':31}\\ndef split_date(date):\\n    split_date = date.split('-')\",\n",
       "  'split_date(\"2000-01-01\")',\n",
       "  'split_date(\"2000-01-01\")',\n",
       "  \"# '2000-01-01' => {'year':1998, 'month':12, 'day':31}\\ndef split_date(date):\\n    split_data = date.split('-')\",\n",
       "  'split_date(\"2000-01-01\")',\n",
       "  \"# '2000-01-01' => {'year':1998, 'month':12, 'day':31}\\ndef split_date(date):\\n    split_data = date.split('-')\\n    print(split_data[0], split_data[1], split_data[2])\\n    return {'year': int(split_data[0]),\\n           'month': int(split_data[1]),\\n           'day': int(split_data[2])}\",\n",
       "  'split_date(\"2000-01-01\")',\n",
       "  \"# '2000-01-01' => {'year':1998, 'month':12, 'day':31}\\ndef split_date(date):\\n    split_data = date.split('-')\\n    print(split_data[0], split_data[1], split_data[2])\\n    return {'year': int(split_data[0]),\\n           'month': int(split_data[1]),\\n           'day': int(split_data[2])})\",\n",
       "  \"# '2000-01-01' => {'year':1998, 'month':12, 'day':31}\\ndef split_date(date):\\n    split_data = date.split('-')\\n    print(split_data[0], split_data[1], split_data[2])\\n    return {'year': int(split_data[0]),\\n           'month': int(split_data[1]),\\n           'day': int(split_data[2])}\",\n",
       "  'split_date(\"2000-01-01\")',\n",
       "  \"# '2000-01-01' => {'year':1998, 'month':12, 'day':31}\\ndef split_date(date):\\n    split_data = date.split('-')\\n#     print(split_data[0], split_data[1], split_data[2])\\n    print(split_data[0], split_data[1], split_data[2])\\n    return {'year': int(split_data[0]),\\n           'month': int(split_data[1]),\\n           'day': int(split_data[2])}\",\n",
       "  \"# '2000-01-01' => {'year':1998, 'month':12, 'day':31}\\ndef split_date(date):\\n    split_data = date.split('-')\\n#     print(split_data[0], split_data[1], split_data[2])\\n    print(split_data[0], split_data[1], split_data[2])\\n    return {'year': int(split_data[0]),\\n           'month': int(split_data[1]),\\n           'day': int(split_data[2])\\n           }\",\n",
       "  'split_date(\"2000-01-01\")',\n",
       "  \"# '2000-01-01' => {'year':1998, 'month':12, 'day':31}\\ndef split_date(date):\\n    split_data = date.split('-')\\n#    print(split_data[0], split_data[1], split_data[2])\\n    return {'year': int(split_data[0]),\\n           'month': int(split_data[1]),\\n           'day': int(split_data[2])\\n           }\",\n",
       "  'split_date(\"2000-01-01\")',\n",
       "  \"def member_func(menber): #{'name':'홍길동', 'birth':'2000-01-01'}\\n    '{'name':'신길동', 'year':1998, 'month':12, 'day':31}식으로 return'\\n    return {\\n        'name': menber.get('name'),\\n        'year': int(member['birth'].split('-')[0])\\n    }\",\n",
       "  \"def member_func(menber): #{'name':'홍길동', 'birth':'2000-01-01'}\\n    '{'name':'신길동', 'year':1998, 'month':12, 'day':31}식으로 return'\\n    return {\\n        'name': menber.get('name'),\\n        'year': int(member['birth'].split('-')[0])\\n    }\",\n",
       "  \"def member_func(menber): #{'name':'홍길동', 'birth':'2000-01-01'}\\n    '{'name':'신길동', 'year':1998, 'month':12, 'day':31}식으로 return'\\n    return {\\n        'name': menber.get('name'),\\n        'year': int(member['birth'].split('-')[0])\\n    }\",\n",
       "  'def member_func(menber): #{\\'name\\':\\'홍길동\\', \\'birth\\':\\'2000-01-01\\'}\\n    \"{\\'name\\':\\'신길동\\', \\'year\\':1998, \\'month\\':12, \\'day\\':31}식으로 return\"\\n    return {\\n        \\'name\\': menber.get(\\'name\\'),\\n        \\'year\\': int(member[\\'birth\\'].split(\\'-\\')[0])\\n    }',\n",
       "  'def member_func(menber): #{\\'name\\':\\'홍길동\\', \\'birth\\':\\'2000-01-01\\'}\\n    \"{\\'name\\':\\'신길동\\', \\'year\\':1998, \\'month\\':12, \\'day\\':31}식으로 return\"\\n    return {\\n        \\'name\\': menber.get(\\'name\\'),\\n        \\'year\\': int(member[\\'birth\\'].split(\\'-\\')[0]),\\n        \\'month\\': int(member[\\'birth\\'].split(\\'-\\')[1])\\n        \\'day\\': int(member[\\'birth\\'].split(\\'-\\')[2])\\n    }',\n",
       "  'def member_func(menber): #{\\'name\\':\\'홍길동\\', \\'birth\\':\\'2000-01-01\\'}\\n    \"{\\'name\\':\\'신길동\\', \\'year\\':1998, \\'month\\':12, \\'day\\':31}식으로 return\"\\n    return {\\n        \\'name\\': menber.get(\\'name\\'),\\n        \\'year\\': int(member[\\'birth\\'].split(\\'-\\')[0]),\\n        \\'month\\': int(member[\\'birth\\'].split(\\'-\\')[1]),\\n        \\'day\\': int(member[\\'birth\\'].split(\\'-\\')[2]),\\n    }',\n",
       "  \"'''\\n예제 2. member1=[{'name':'홍길동', 'birth':'2000-01-01'},\\n                {'name':'신길동', 'birth':'1998-12-31'},]를\\n        member2=[{'name':'홍길동', 'year':2000, 'month':1, 'day':1},\\n                 {'name':'신길동', 'year':1998, 'month':12, 'day':31},]를 바꿉니다.\\n'''\\nmember1=[{'name':'홍길동', 'birth':'2000-01-01'},\\n         {'name':'신길동', 'birth':'1998-12-31'},]\",\n",
       "  'def member_func(menber): #{\\'name\\':\\'홍길동\\', \\'birth\\':\\'2000-01-01\\'}\\n    \"{\\'name\\':\\'신길동\\', \\'year\\':1998, \\'month\\':12, \\'day\\':31}식으로 return\"\\n    return {\\n        \\'name\\': menber.get(\\'name\\'),\\n        \\'year\\': int(member[\\'birth\\'].split(\\'-\\')[0]),\\n        \\'month\\': int(member[\\'birth\\'].split(\\'-\\')[1]),\\n        \\'day\\': int(member[\\'birth\\'].split(\\'-\\')[2]),\\n    }\\nmember_func(member1[0])',\n",
       "  \"'''\\n예제 2. member1=[{'name':'홍길동', 'birth':'2000-01-01'},\\n                {'name':'신길동', 'birth':'1998-12-31'},]를\\n        member2=[{'name':'홍길동', 'year':2000, 'month':1, 'day':1},\\n                 {'name':'신길동', 'year':1998, 'month':12, 'day':31},]를 바꿉니다.\\n'''\\nmember1=[{'name':'홍길동', 'birth':'2000-01-01'},\\n         {'name':'신길동', 'birth':'1998-12-31'},]\",\n",
       "  'def member_func(menber): #{\\'name\\':\\'홍길동\\', \\'birth\\':\\'2000-01-01\\'}\\n    \"{\\'name\\':\\'신길동\\', \\'year\\':1998, \\'month\\':12, \\'day\\':31}식으로 return\"\\n    return {\\n        \\'name\\': menber.get(\\'name\\'),\\n        \\'year\\': int(member[\\'birth\\'].split(\\'-\\')[0]),\\n        \\'month\\': int(member[\\'birth\\'].split(\\'-\\')[1]),\\n        \\'day\\': int(member[\\'birth\\'].split(\\'-\\')[2]),\\n    }\\nmember_func(member1[0])',\n",
       "  'def member_func(menber): #{\\'name\\':\\'홍길동\\', \\'birth\\':\\'2000-01-01\\'}\\n    \"{\\'name\\':\\'신길동\\', \\'year\\':1998, \\'month\\':12, \\'day\\':31}식으로 return\"\\n    return {\\n        \\'name\\': menber.get(\\'name\\'),\\n        \\'year\\': int(member[\\'birth\\'].split(\\'-\\')[0]),\\n        \\'month\\': int(member[\\'birth\\'].split(\\'-\\')[1]),\\n        \\'day\\': int(member[\\'birth\\'].split(\\'-\\')[2]),\\n    }\\nmember_func(member1[0])',\n",
       "  \"# '2000-01-01' => {'year':1998, 'month':12, 'day':31}\\ndef split_date(date):\\n    split_data = date.split('-')\\n#    print(split_data[0], split_data[1], split_data[2])\\n    return {'year': int(split_data[0]),\\n           'month': int(split_data[1]),\\n           'day': int(split_data[2])\\n           }\",\n",
       "  \"'''\\n예제 2. member1=[{'name':'홍길동', 'birth':'2000-01-01'},\\n                {'name':'신길동', 'birth':'1998-12-31'},]를\\n        member2=[{'name':'홍길동', 'year':2000, 'month':1, 'day':1},\\n                 {'name':'신길동', 'year':1998, 'month':12, 'day':31},]를 바꿉니다.\\n'''\\nmember1=[{'name':'홍길동', 'birth':'2000-01-01'},\\n         {'name':'신길동', 'birth':'1998-12-31'},]\",\n",
       "  \"# '2000-01-01' => {'year':1998, 'month':12, 'day':31}\\ndef split_date(date):\\n    split_data = date.split('-')\\n#    print(split_data[0], split_data[1], split_data[2])\\n    return {'year': int(split_data[0]),\\n           'month': int(split_data[1]),\\n           'day': int(split_data[2])\\n           }\",\n",
       "  'split_date(\"2000-01-01\")',\n",
       "  'def member_func(menber): #{\\'name\\':\\'홍길동\\', \\'birth\\':\\'2000-01-01\\'}\\n    \"{\\'name\\':\\'신길동\\', \\'year\\':1998, \\'month\\':12, \\'day\\':31}식으로 return\"\\n    return {\\n        \\'name\\': menber.get(\\'name\\'),\\n        \\'year\\': int(member[\\'birth\\'].split(\\'-\\')[0]),\\n        \\'month\\': int(member[\\'birth\\'].split(\\'-\\')[1]),\\n        \\'day\\': int(member[\\'birth\\'].split(\\'-\\')[2]),\\n    }\\nmember_func(member1[0])',\n",
       "  \"member2 =list(map(lambda member : {\\n                        'name': menber.get('name'),\\n                        'year': int(member['birth'].split('-')[0]),\\n                        'month': int(member['birth'].split('-')[1]),\\n                        'day': int(member['birth'].split('-')[2]),\\n                        } ,\\n        member1\\n        )\\n    )\\nmember2\",\n",
       "  'def member_func(member): #{\\'name\\':\\'홍길동\\', \\'birth\\':\\'2000-01-01\\'}\\n    \"{\\'name\\':\\'신길동\\', \\'year\\':1998, \\'month\\':12, \\'day\\':31}식으로 return\"\\n    return {\\n        \\'name\\': member.get(\\'name\\'),\\n        \\'year\\': int(member[\\'birth\\'].split(\\'-\\')[0]),\\n        \\'month\\': int(member[\\'birth\\'].split(\\'-\\')[1]),\\n        \\'day\\': int(member[\\'birth\\'].split(\\'-\\')[2]),\\n    }\\nmember_func(member1[0])',\n",
       "  \"member2 =list(map(lambda member : {\\n                        'name': menber.get('name'),\\n                        'year': int(member['birth'].split('-')[0]),\\n                        'month': int(member['birth'].split('-')[1]),\\n                        'day': int(member['birth'].split('-')[2]),\\n                        } ,\\n        member1\\n        )\\n    )\\nmember2\",\n",
       "  \"member2 =list(map(lambda member : {\\n                        'name': member.get('name'),\\n                        'year': int(member['birth'].split('-')[0]),\\n                        'month': int(member['birth'].split('-')[1]),\\n                        'day': int(member['birth'].split('-')[2]),\\n                        } ,\\n        member1\\n        )\\n    )\\nmember2\",\n",
       "  \"join_date({'year':2000, 'month': 1, 'day': 1})\",\n",
       "  '#{\\'year\\': 2000, \\'month\\':1, \\'day\\':1} => \"2000-01-01\"를 return하는 함수\\ndef join_date(data):\\n    print(data)',\n",
       "  \"join_date({'year':2000, 'month': 1, 'day': 1})\",\n",
       "  '#{\\'year\\': 2000, \\'month\\':1, \\'day\\':1} => \"2000-01-01\"를 return하는 함수\\ndef join_date(data):\\n    print(data)',\n",
       "  '#{\\'year\\': 2000, \\'month\\':1, \\'day\\':1} => \"2000-01-01\"를 return하는 함수\\ndef join_date(data):\\n    print(data.get(\\'year\\'), data.get(\\'month\\'), data.get(\\'day\\'))',\n",
       "  \"join_date({'year':2000, 'month': 1, 'day': 1})\",\n",
       "  '#{\\'year\\': 2000, \\'month\\':1, \\'day\\':1} => \"2000-01-01\"를 return하는 함수\\ndef join_date(data):\\n    print([data.get(\\'year\\'), data.get(\\'month\\'), data.get(\\'day\\')])\\n    return \\'-\\'.join([data.get(\\'year\\'), data.get(\\'month\\'), data.get(\\'day\\')])',\n",
       "  \"join_date({'year':2000, 'month': 1, 'day': 1})\",\n",
       "  '#{\\'year\\': 2000, \\'month\\':1, \\'day\\':1} => \"2000-01-01\"를 return하는 함수\\ndef join_date(data):\\n    print([data.get(\\'year\\'), data.get(\\'month\\'), data.get(\\'day\\')])\\n    year = str(data.get(\\'year\\'))\\n    return \\'-\\'.join([year, data.get(\\'year\\'), data.get(\\'month\\'), data.get(\\'day\\')])',\n",
       "  \"join_date({'year':2000, 'month': 1, 'day': 1})\",\n",
       "  '#{\\'year\\': 2000, \\'month\\':1, \\'day\\':1} => \"2000-01-01\"를 return하는 함수\\ndef join_date(data):\\n    print([data.get(\\'year\\'), data.get(\\'month\\'), data.get(\\'day\\')])\\n    year = str(data.get(\\'year\\'))\\n    month = str(data.get(\\'month\\'))\\n    return \\'-\\'.join([year, data.get(\\'year\\'), data.get(\\'month\\'), data.get(\\'day\\')])',\n",
       "  \"join_date({'year':2000, 'month': 1, 'day': 1})\",\n",
       "  '#{\\'year\\': 2000, \\'month\\':1, \\'day\\':1} => \"2000-01-01\"를 return하는 함수\\ndef join_date(data):\\n    print([data.get(\\'year\\'), data.get(\\'month\\'), data.get(\\'day\\')])\\n    year = str(data.get(\\'year\\'))\\n    month = data.get(\\'month\\')\\n    \\n    return \\'-\\'.join([year, data.get(\\'year\\'), data.get(\\'month\\'), data.get(\\'day\\')])',\n",
       "  '#{\\'year\\': 2000, \\'month\\':1, \\'day\\':1} => \"2000-01-01\"를 return하는 함수\\ndef join_date(data):\\n    print([data.get(\\'year\\'), data.get(\\'month\\'), data.get(\\'day\\')])\\n    year = str(data.get(\\'year\\'))\\n    month = data.get(\\'month\\')\\n    if month < 10:\\n        month = \\'0\\'+str(month)\\n    else:\\n        month = str(month)\\n    day = data.get(\\'day\\')\\n    if month < 10:\\n        month = \\'0\\'+str(day)\\n    else:\\n        month = str(month)    \\n    return \\'-\\'.join([year, data.get(\\'year\\'), data.get(\\'month\\'), data.get(\\'day\\')])',\n",
       "  \"join_date({'year':2000, 'month': 1, 'day': 1})\",\n",
       "  '#{\\'year\\': 2000, \\'month\\':1, \\'day\\':1} => \"2000-01-01\"를 return하는 함수\\ndef join_date(data):\\n    #print([data.get(\\'year\\'), data.get(\\'month\\'), data.get(\\'day\\')])\\n    year = str(data.get(\\'year\\'))\\n    month = data.get(\\'month\\')\\n    if month < 10:\\n        month = \\'0\\'+str(month)\\n    else:\\n        month = str(month)\\n    day = data.get(\\'day\\')\\n    if month < 10:\\n        month = \\'0\\'+str(day)\\n    else:\\n        month = str(month)    \\n    return \\'-\\'.join([year, data.get(\\'year\\'), data.get(\\'month\\'), data.get(\\'day\\')])',\n",
       "  \"join_date({'year':2000, 'month': 1, 'day': 1})\",\n",
       "  '#{\\'year\\': 2000, \\'month\\':1, \\'day\\':1} => \"2000-01-01\"를 return하는 함수\\ndef join_date(data):\\n    #print([data.get(\\'year\\'), data.get(\\'month\\'), data.get(\\'day\\')])\\n    year = str(data.get(\\'year\\'))\\n    month = data.get(\\'month\\')\\n    if month < 10:\\n        month = \\'0\\'+str(month)\\n    else:\\n        month = str(month)\\n    day = data.get(\\'day\\')\\n    if day < 10:\\n        day = \\'0\\'+str(day)\\n    else:\\n        day = str(month)    \\n    return \\'-\\'.join([year, data.get(\\'year\\'), data.get(\\'month\\'), data.get(\\'day\\')])',\n",
       "  '#{\\'year\\': 2000, \\'month\\':1, \\'day\\':1} => \"2000-01-01\"를 return하는 함수\\ndef join_date(data):\\n    #print([data.get(\\'year\\'), data.get(\\'month\\'), data.get(\\'day\\')])\\n    year = str(data.get(\\'year\\'))\\n    month = data.get(\\'month\\')\\n    if month < 10:\\n        month = \\'0\\'+str(month)\\n    else:\\n        month = str(month)\\n    day = data.get(\\'day\\')\\n    if day < 10:\\n        day = \\'0\\'+str(day)\\n    else:\\n        day = str(month)    \\n    return \\'-\\'.join([year, data.get(\\'year\\'), data.get(\\'month\\'), data.get(\\'day\\')])',\n",
       "  \"join_date({'year':2000, 'month': 1, 'day': 1})\",\n",
       "  '# {\\'year\\': 2000, \\'month\\': 1, \\'day\\': 1} => \"2000-01-01\"를 return하는 함수\\ndef join_date(data):\\n    # print([data.get(\\'year\\'), data.get(\\'month\\'), data.get(\\'day\\')])\\n    year = str(data.get(\\'year\\'))\\n    month = data.get(\\'month\\')\\n    if month < 10:\\n        month = \\'0\\'+str(month)\\n    else:\\n        month = str(month)\\n    day = data.get(\\'day\\')\\n    if day < 10:\\n        day = \\'0\\'+str(day)\\n    else:\\n        day = str(day)\\n    return \\'-\\'.join([year, month, day])',\n",
       "  \"join_date({'year': 2000, 'month': 1, 'day': 1})\",\n",
       "  'def join_date(data):\\n    print(\"{}-{:02}={:02}\".format(data.get(\\'year\\'),\\n                                  data.get(\\'month\\'),\\n                                  data.get(\\'day\\')))',\n",
       "  'def join_date(data):\\n    print(\"{year}-{month:02}={day:02}\".format(\\n                                  year = data.get(\\'year\\'),\\n                                  month = data.get(\\'month\\'),\\n                                  day= data.get(\\'day\\')))',\n",
       "  'def join_date(data):\\n    return \"{year}-{month:02}-{day:02}\".format(**data)',\n",
       "  '# {\\'name\\':\\'홍길동\\', \\'year\\':2000, \\'month\\':1, \\'day\\':1}(member2)를\\n# {\\'name\\':\\'홍길동\\', \\'birth\\':\\'2000-01-01\\'}으로 가공\\nlist(map(lambda member : {\\n        \\'name\\' : member.get(\\'name\\'),\\n        \\'birth\\' : \"{year}-{month:02}-{day:02}\".format(**data)\\n        },\\n    member2\\n))',\n",
       "  '# {\\'name\\':\\'홍길동\\', \\'year\\':2000, \\'month\\':1, \\'day\\':1}(member2)를\\n# {\\'name\\':\\'홍길동\\', \\'birth\\':\\'2000-01-01\\'}으로 가공\\nlist(map(lambda member : {\\n                        \\'name\\' : member.get(\\'name\\'),\\n                        \\'birth\\' : \"{year}-{month:02}-{day:02}\".format(**data)\\n                        },\\n    member2\\n))',\n",
       "  '# {\\'name\\':\\'홍길동\\', \\'year\\':2000, \\'month\\':1, \\'day\\':1}(member2)를\\n# {\\'name\\':\\'홍길동\\', \\'birth\\':\\'2000-01-01\\'}으로 가공\\nlist(map(lambda member : {\\n                        \\'name\\' : member.get(\\'name\\'),\\n                        \\'birth\\' : \"{year}-{month:02}-{day:02}\".format(**member)\\n                        },\\n    member2\\n))',\n",
       "  'def filter_template(func, L=[]):\\n    result = []\\n    for l in L :\\n        if func(l):\\n            result.append(l)\\n    return result',\n",
       "  'def evenChk(value):\\n    return value%2==0\\nevenChk(10), evenChk(-9)',\n",
       "  'list_data = [1, 2, 3, 4, 5]\\nfilter_template(lambda value : value%2==0 , )',\n",
       "  'list_data = [1, 2, 3, 4, 5]\\nfilter_template(lambda value : value%2==0 , list_data)',\n",
       "  'list(filter(lambda value : value%2==0, list_data))',\n",
       "  'list(filter(lambda value : value%2==0, list_data))',\n",
       "  '[for data in list_data if data%2==0]',\n",
       "  '[data for data in list_data if data%2==0]',\n",
       "  'P = [9, 2, 7]\\nP.sort(reverse=True)\\nP',\n",
       "  'number2d = [[9, 9],\\n           [1, 100],\\n           [10, 1]]\\nnumber2d.sort()\\nnumber2d',\n",
       "  '# 무조껀 0번 item기준으로 정렬\\nnumber2d = [[9, 9],\\n           [1, 100],\\n           [10, 1]]\\nnumber2d.sort(reverse=True)\\nnumber2d',\n",
       "  '# 무조껀 0번 item기준으로 정렬\\nnumber2d = [[9, 9, 9, 9, 9, 9, 9, 9],\\n           [1, 100],\\n           [10, 1]]\\nnumber2d.sort(reverse=True)\\nnumber2d',\n",
       "  \"pairs = [(2, 'two'), (1, 'one'), (4, 'four'), (3, 'three')]\\npairs.sort()\\npairs\",\n",
       "  \"# 무조껀 0번째 item 기준으로 정렬\\npairs = [(2, 'two'), (1, 'one'), (4, 'four'), (3, 'three')]\\npairs.sort()\\npairs\",\n",
       "  '# 1번째 item 기준으로 정렬(abc순)\\npairs.sort(key=lambda pair : pair[1])\\npairs',\n",
       "  '(lambda item : sum(item))([1,2,3,])',\n",
       "  '# 합이 큰 순으로 정렬\\nnumber2d.sort(key = lambda item : sum(item))',\n",
       "  '# 합이 큰 순으로 정렬\\nnumber2d.sort(key = lambda item : sum(item))\\nnumber2d',\n",
       "  '# 합이 큰 순으로 정렬\\nnumber2d.sort(key = lambda item : sum(item)), reverse=true\\nnumber2d',\n",
       "  '# 합이 큰 순으로 정렬\\nnumber2d.sort(key = lambda item : sum(item)), reverse = true\\nnumber2d',\n",
       "  '# 합이 큰 순으로 정렬\\nnumber2d.sort(key = lambda item : sum(item)), reverse = True\\nnumber2d',\n",
       "  '# 합이 큰 순으로 정렬\\nnumber2d.sort(key = lambda item : sum(item), reverse = True)\\nnumber2d',\n",
       "  'def add(x, y=5):\\n    return key+reverse',\n",
       "  'add(reverse=10, key=7)',\n",
       "  \"students = [\\n    {'name':'홍길동', 'score':90},\\n    {'name':'김길동', 'score':50},\\n    {'name':'윤길동', 'score':99},\\n]\",\n",
       "  'students.sort()\\nstudents',\n",
       "  '# 이름순으로 정렬(ㄱㄴㄷ순)\\nstudents.sort()\\nstudents',\n",
       "  '# 이름순으로 정렬(ㄱㄴㄷ순)\\nstudents.sort()\\nstudents',\n",
       "  '# 이름순으로 정렬(ㄱㄴㄷ순)\\nstudents.sort(key=lambda pair : pair[1])\\nstudents',\n",
       "  '# 이름순으로 정렬(ㄱㄴㄷ순)\\nstudents.sort(key=lambda pair : pair[name])\\nstudents',\n",
       "  \"# 이름순으로 정렬(ㄱㄴㄷ순)\\nstudents.sort(key=lambda item : item['name'])\\nstudents\",\n",
       "  \"students = [\\n    {'name':'홍길동', 'score':90},\\n    {'name':'김길동', 'score':50},\\n    {'name':'윤길동', 'score':99},\\n    {'score':100}\\n]\",\n",
       "  \"# 이름순으로 정렬(ㄱㄴㄷ순)\\nstudents.sort(key=lambda item : item['name'])\\nstudents\",\n",
       "  \"# 이름순으로 정렬(ㄱㄴㄷ순)\\nstudents.sort(key=lambda item : item.get['name'])\\nstudents\",\n",
       "  \"# 이름순으로 정렬(ㄱㄴㄷ순)\\nstudents.sort(key=lambda item : item.get('name'))\\nstudents\",\n",
       "  \"# 이름순으로 정렬(ㄱㄴㄷ순)\\nstudents.sort(key=lambda item : item.get('name','힣'))\\nstudents\",\n",
       "  \"# 이름순으로 정렬(ㄱㄴㄷ순)\\nstudents.sort(key=lambda item : item.get('name','가'))\\nstudents\",\n",
       "  \"# score순으로 정렬(내림차순 정렬)\\nstudents.sort(key=lambda item : item.get('score', 0), reverse=True)  \\nstudents\",\n",
       "  \"# 책제목순 정렬(ㄱㄴㄷ순), 저자순 정렬(ㄱㄴㄷ순), 가격순 정렬\\nbooks =[\\n    {'no':1, 'title':'강남 아파트 인사이트', 'writer':'오스톨', 'price':'25,200'},\\n    {'no':2, 'title':'한 한번의 삶', 'writer':'김영하', 'price':'18,100'},\\n    {'no':3, 'title':'흔한남매 19', 'writer':'백난도', 'price':'14,220'},\\n    {'no':4, 'title':'가격이잘못', 'writer':'홍길동', 'price':'-'},\\n    {'no':5, 'title':'가격이숫자', 'writer':'신길동', 'price':900},\\n    {'no':6, 'title':'가격이없음', 'writer':'김길동'},\\n]\",\n",
       "  \"books.sort(key=lambda book : book.get('title'))\\nbooks\",\n",
       "  \"books.sort(key=lambda book : book.get('writer'))\\nbooks\",\n",
       "  \"# 가격순 정렬은 위의 작업방식과 다르다.\\n# 숫자로 잘못된 것들도 있고, 문자로 구현된 것들도 있음.\\n# 따라서 sort문, 문자인지 숫자인지를 구분하는 작업이 추가로 필요하다.\\nbooks.sort(key=lambda book : book.get('price'.0))\\nbooks\",\n",
       "  \"# 가격순 정렬은 위의 작업방식과 다르다.\\n# 숫자로 잘못된 것들도 있고, 문자로 구현된 것들도 있음.\\n# 따라서 sort문, 문자인지 숫자인지를 구분하는 작업이 추가로 필요하다.\\nbooks.sort(key=lambda book : book.get('price',0))\\nbooks\",\n",
       "  \"# 가격순 정렬은 위의 작업방식과 다르다.\\n# 숫자로 잘못된 것들도 있고, 문자로 구현된 것들도 있음.\\n# 따라서 sort문, 문자인지 숫자인지를 구분하는 작업이 추가로 필요하다.\\nbooks.sort(key=lambda book : book.get('price',0))\\nbooks\\n#해당 방식은 숫자와 문자를 동시에 사용하려 하니 에러가 발생하는 것이다.\",\n",
       "  \"#'14,000' -> 14000 / 800 -> 800 / '-' -> 0\\n#조건식을 만들기 어렵다면 일단 함수를 만들고, 람다식으로 만드는 방법이 추천된다.\\ndef parse_int(price):\\n    print(type(price))\",\n",
       "  'parse_int(800)',\n",
       "  'parse_int(800)\\n#int 타입이면 빼거나 조정하는 작업이 필요하다.',\n",
       "  \"#'14,000' -> 14000 / 800 -> 800 / '-' -> 0  #조건이 3가지가 필요하다.\\n#조건식을 만들기 어렵다면 일단 함수를 만들고, 람다식으로 만드는 방법이 추천된다.\\ndef parse_int(price):\\n    #print(type(price))\\n    if isinstance(price, int):\\n        return price\",\n",
       "  'parse_int(800)\\n#int 타입이면 빼거나 조정하는 작업이 필요하다.',\n",
       "  \"#'14,000' -> 14000 / 800 -> 800 / '-' -> 0  #조건이 3가지가 필요하다.\\n#조건식을 만들기 어렵다면 일단 함수를 만들고, 람다식으로 만드는 방법이 추천된다.\\ndef parse_int(price):\\n    #print(type(price))\\n    if isinstance(prics, str) and price.replace(',','').isdigit():\\n        #↑ 해당 함수는 어떤 값이 특정 자료형인지를 확인할 때 사용되는 함수임.\\n        # isinstance(값, 자료형) #결과는 True 또는 False로 출력됨.\\n        return int(price,replace(',', ''))\\n    elif isinstance(price, int):\\n        return price\",\n",
       "  'parse_int(800)',\n",
       "  \"#'14,000' -> 14000 / 800 -> 800 / '-' -> 0  #조건이 3가지가 필요하다.\\n#조건식을 만들기 어렵다면 일단 함수를 만들고, 람다식으로 만드는 방법이 추천된다.\\ndef parse_int(price):\\n    #print(type(price))\\n    if isinstance(prices, str) and price.replace(',','').isdigit():\\n        #↑ 해당 함수는 어떤 값이 특정 자료형인지를 확인할 때 사용되는 함수임.\\n        # isinstance(값, 자료형) #결과는 True 또는 False로 출력됨.\\n        return int(price,replace(',', ''))\\n    elif isinstance(price, int):\\n        return price\",\n",
       "  \"#'14,000' -> 14000 / 800 -> 800 / '-' -> 0  #조건이 3가지가 필요하다.\\n#조건식을 만들기 어렵다면 일단 함수를 만들고, 람다식으로 만드는 방법이 추천된다.\\ndef parse_int(price):\\n    #print(type(price))\\n    if isinstance(price, str) and price.replace(',','').isdigit():\\n        #↑ 해당 함수는 어떤 값이 특정 자료형인지를 확인할 때 사용되는 함수임.\\n        # isinstance(값, 자료형) #결과는 True 또는 False로 출력됨.\\n        return int(price,replace(',', ''))\\n    elif isinstance(price, int):\\n        return price\",\n",
       "  'parse_int(800)',\n",
       "  'parse_int(\"8,000\"), parse_int(\"8000\"), parse_int(800), parse_int(\\'-\\')',\n",
       "  \"#'14,000' -> 14000 / 800 -> 800 / '-' -> 0  #조건이 3가지가 필요하다.\\n#조건식을 만들기 어렵다면 일단 함수를 만들고, 람다식으로 만드는 방법이 추천된다.\\ndef parse_int(price):\\n    #print(type(price))\\n    if isinstance(price, str) and price.replace(',','').isdigit():\\n        #↑ 해당 함수는 어떤 값이 특정 자료형인지를 확인할 때 사용되는 함수임.\\n        # isinstance(값, 자료형) #결과는 True 또는 False로 출력됨.\\n        return int(price,replace(',',''))\\n    elif isinstance(price, int):\\n        return price\",\n",
       "  'parse_int(\"8,000\"), parse_int(\"8000\"), parse_int(800), parse_int(\\'-\\')',\n",
       "  'parse_int(\"8,000\"), parse_int(\"8000\"), parse_int(800), parse_int(\\'-\\')',\n",
       "  \"#'14,000' -> 14000 / 800 -> 800 / '-' -> 0  #조건이 3가지가 필요하다.\\n#조건식을 만들기 어렵다면 일단 함수를 만들고, 람다식으로 만드는 방법이 추천된다.\\ndef parse_int(price):\\n    #print(type(price))\\n    if isinstance(price, str) and price.replace(',','').isdigit():\\n        #↑ 해당 함수는 어떤 값이 특정 자료형인지를 확인할 때 사용되는 함수임.\\n        # isinstance(값, 자료형) #결과는 True 또는 False로 출력됨.\\n        return int(price.replace(',',''))\\n    elif isinstance(price, int):\\n        return price\",\n",
       "  'parse_int(\"8,000\"), parse_int(\"8000\"), parse_int(800), parse_int(\\'-\\')',\n",
       "  \"# {'no': 6, 'title': '가격이없음', 'writer': '김길동'} => 0 return으로 바꿔야함.(주어진 데이터에서 값이 안나와있으므로)\\n# {'no': 3, 'title': '흔한남매 19', 'writer': '백난도', 'price': '14,220'} => 14220\\n# {'no': 5, 'title': '가격이숫자', 'writer': '신길동', 'price': 900} => 900\\ndef parse_int(book):\\n    if isinstance(book.get('price'),str) and book.get('price').replace(',','').isdigit():\\n        return int(book.get('price').replace(',','') )\\n    elif isinstance(book.get('price'), int):\\n        return book.get('price')\\n    else :\\n        return 0\\nparse_int(books[0])\",\n",
       "  \"# {'no': 6, 'title': '가격이없음', 'writer': '김길동'} => 0 return으로 바꿔야함.(주어진 데이터에서 값이 안나와있으므로)\\n# {'no': 3, 'title': '흔한남매 19', 'writer': '백난도', 'price': '14,220'} => 14220\\n# {'no': 5, 'title': '가격이숫자', 'writer': '신길동', 'price': 900} => 900\\ndef parse_int(book):\\n    if isinstance(book.get('price'),str) and \\\\\\n        book.get('price').replace(',','').isdigit():\\n        return int(book.get('price').replace(',','') )\\n    elif isinstance(book.get('price'), int):\\n        return book.get('price')\\n    else :\\n        return 0\\nparse_int(books[0])\",\n",
       "  \"# {'no': 6, 'title': '가격이없음', 'writer': '김길동'} => 0 return으로 바꿔야함.(주어진 데이터에서 값이 안나와있으므로)\\n# {'no': 3, 'title': '흔한남매 19', 'writer': '백난도', 'price': '14,220'} => 14220\\n# {'no': 5, 'title': '가격이숫자', 'writer': '신길동', 'price': 900} => 900\\ndef parse_int(book):\\n    if isinstance(book.get('price'),str) and \\\\ #함수가 너무 길어져서 가독성이 떨어질 경우 \\\\로 표기함.\\n        book.get('price').replace(',','').isdigit():\\n        return int(book.get('price').replace(',','') )\\n    elif isinstance(book.get('price'), int):\\n        return book.get('price')\\n    else :\\n        return 0\\nparse_int(books[0]), parse_int(books[3]), parse_int(books[2]), parse_int(books[5])\",\n",
       "  \"# {'no': 6, 'title': '가격이없음', 'writer': '김길동'} => 0 return으로 바꿔야함.(주어진 데이터에서 값이 안나와있으므로)\\n# {'no': 3, 'title': '흔한남매 19', 'writer': '백난도', 'price': '14,220'} => 14220\\n# {'no': 5, 'title': '가격이숫자', 'writer': '신길동', 'price': 900} => 900\\ndef parse_int(book):\\n    if isinstance(book.get('price'),str) and book.get('price').replace(',','').isdigit():\\n        return int(book.get('price').replace(',','') )\\n    elif isinstance(book.get('price'), int):\\n        return book.get('price')\\n    else :\\n        return 0\\nparse_int(books[0]), parse_int(books[3]), parse_int(books[2]), parse_int(books[5])\",\n",
       "  \"# {'no': 6, 'title': '가격이없음', 'writer': '김길동'} => 0 return으로 바꿔야함.(주어진 데이터에서 값이 안나와있으므로)\\n# {'no': 3, 'title': '흔한남매 19', 'writer': '백난도', 'price': '14,220'} => 14220\\n# {'no': 5, 'title': '가격이숫자', 'writer': '신길동', 'price': 900} => 900\\ndef parse_int(book):\\n    if isinstance(book.get('price'),str) and \\\\\\n    book.get('price').replace(',','').isdigit():\\n        return int(book.get('price').replace(',','') )\\n    elif isinstance(book.get('price'), int):\\n        return book.get('price')\\n    else :\\n        return 0\\nparse_int(books[0]), parse_int(books[3]), parse_int(books[2]), parse_int(books[5])\\n#람다식 변경시 if문이 맨 위로 오도록 하는것이 편리할 수 있음.\",\n",
       "  \"# {'no': 6, 'title': '가격이없음', 'writer': '김길동'} => 0 return으로 바꿔야함.(주어진 데이터에서 값이 안나와있으므로)\\n# {'no': 3, 'title': '흔한남매 19', 'writer': '백난도', 'price': '14,220'} => 14220\\n# {'no': 5, 'title': '가격이숫자', 'writer': '신길동', 'price': 900} => 900\\ndef parse_int(book):\\n    if isinstance(book.get('price'),str) and \\\\\\n    book.get('price').replace(',','').isdigit():\\n        return int(book.get('price').replace(',','') )\\n    elif isinstance(book.get('price'), int):\\n        return book.get('price')\\n    else :\\n        return 0\\nparse_int(books[0]), parse_int(books[3]), parse_int(books[2]), parse_int(books[5])\\n#람다식 변경시 if문이 맨 위로 오도록 하는것이 편리할 수 있음.\",\n",
       "  'copy_books',\n",
       "  \"books =[\\n    {'no':1, 'title':'강남 아파트 인사이트', 'writer':'오스톨', 'price':'25,200'},\\n    {'no':2, 'title':'한 한번의 삶', 'writer':'김영하', 'price':'18,100'},\\n    {'no':3, 'title':'흔한남매 19', 'writer':'백난도', 'price':'14,220'},\\n    {'no':4, 'title':'가격이잘못', 'writer':'홍길동', 'price':'-'},\\n    {'no':5, 'title':'가격이숫자', 'writer':'신길동', 'price':900},\\n    {'no':6, 'title':'가격이없음', 'writer':'김길동'},\\n]\\ncopy_books = books.copy() #깊은복사\",\n",
       "  \"copy_books.sort(key = lambda book : \\n                int(book.get('price').replace(',','')) \\\\\\n                    if isinstance(book.get('price'),str) and \\\\\\n                    book.get('price').replace(',','').isdigit() else \\\\\\n                book.get('price') if isinstance(book.get('price'), int) else \\\\\\n                0               \\n               )\",\n",
       "  \"#람다식 테스트 확인\\n(lambda book : \\n                int(book.get('price').replace(',','')) \\\\\\n                    if isinstance(book.get('price'),str) and \\\\\\n                    book.get('price').replace(',','').isdigit() else \\\\\\n                book.get('price') if isinstance(book.get('price'), int) else \\\\\\n                0 )(books[0])\",\n",
       "  'line_func = make_box([2,3])\\nline_func(3)',\n",
       "  '# 함수를 return\\ndef make_box(shape): #shape : [l]=>len가 l인 list를 생성하는 함수 return, [l], \\n                    #         [r,c] => r행 c열인 list를 생성하는 함수 return\\n    def box(init_value):\\n        if len(shape)==1:\\n            return [init_value]*shape[0]\\n        elif len(shape)==2:\\n            return [ [init_value]*shape[1] ] * shape[0]\\n    return box',\n",
       "  'line_func = make_box([2,3])\\nline_func(3)',\n",
       "  'line_func1 = make_box([10])\\nline_func(3)',\n",
       "  'line_func1 = make_box([10])\\nline_func1(3)',\n",
       "  'def make_box(shape) :\\n    if len(shape)==1:\\n        return lambda init_value : [init_value]*shape[0]\\n    else len(shape)==2:\\n        return lambda init_value : [[init_value]*shape[1]]*shape[0]',\n",
       "  'globals()',\n",
       "  'locals() #지역변수 리스트'],\n",
       " '_oh': {3: [[1, 2, 3, 4, 5, 6, 7, 8, 9, 10, 1, 2, 3, 4, 5, 6, 7, 8, 9, 10],\n",
       "   [1, 2, 3, 4, 5, 6, 7, 8, 9, 10, 1, 2, 3, 4, 5, 6, 7, 8, 9, 10],\n",
       "   [1, 2, 3, 4, 5, 6, 7, 8, 9, 10, 1, 2, 3, 4, 5, 6, 7, 8, 9, 10],\n",
       "   [1, 2, 3, 4, 5, 6, 7, 8, 9, 10, 1, 2, 3, 4, 5, 6, 7, 8, 9, 10],\n",
       "   [1, 2, 3, 4, 5, 6, 7, 8, 9, 10, 1, 2, 3, 4, 5, 6, 7, 8, 9, 10],\n",
       "   [1, 2, 3, 4, 5, 6, 7, 8, 9, 10, 1, 2, 3, 4, 5, 6, 7, 8, 9, 10],\n",
       "   [1, 2, 3, 4, 5, 6, 7, 8, 9, 10, 1, 2, 3, 4, 5, 6, 7, 8, 9, 10],\n",
       "   [1, 2, 3, 4, 5, 6, 7, 8, 9, 10, 1, 2, 3, 4, 5, 6, 7, 8, 9, 10],\n",
       "   [1, 2, 3, 4, 5, 6, 7, 8, 9, 10, 1, 2, 3, 4, 5, 6, 7, 8, 9, 10],\n",
       "   [1, 2, 3, 4, 5, 6, 7, 8, 9, 10, 1, 2, 3, 4, 5, 6, 7, 8, 9, 10]],\n",
       "  5: [2, 4, 6, 8, 10, 12, 14, 16, 18, 20],\n",
       "  6: [2, 4, 6, 8, 10, 12, 14, 16, 18, 20],\n",
       "  7: [2, 4, 6, 8, 10, 12, 14, 16, 18, 20],\n",
       "  8: [2, 4, 6, 8, 10, 12, 14, 16, 18, 20],\n",
       "  9: [2, 4, 6, 8, 10, 12, 14, 16, 18, 20],\n",
       "  10: <map at 0x1e387770430>,\n",
       "  11: [2, 4, 6, 8, 10, 12, 14, 16, 18, 20],\n",
       "  13: (5000, 1800),\n",
       "  20: [5000, 800, 1000, 6000],\n",
       "  28: {'year': 2000, 'month': 1, 'day': 1},\n",
       "  31: {'year': 2000, 'month': 1, 'day': 1},\n",
       "  34: {'year': 2000, 'month': 1, 'day': 1},\n",
       "  36: {'year': 2000, 'month': 1, 'day': 1},\n",
       "  51: {'year': 2000, 'month': 1, 'day': 1},\n",
       "  54: {'name': '홍길동', 'year': 2000, 'month': 1, 'day': 1},\n",
       "  56: [{'name': '홍길동', 'year': 2000, 'month': 1, 'day': 1},\n",
       "   {'name': '신길동', 'year': 1998, 'month': 12, 'day': 31}],\n",
       "  78: '2000-01-01',\n",
       "  84: [{'name': '홍길동', 'birth': '2000-01-01'},\n",
       "   {'name': '신길동', 'birth': '1998-12-31'}],\n",
       "  86: (True, False),\n",
       "  87: [],\n",
       "  88: [2, 4],\n",
       "  89: [2, 4],\n",
       "  90: [2, 4],\n",
       "  92: [2, 4],\n",
       "  93: [9, 7, 2],\n",
       "  94: [[1, 100], [9, 9], [10, 1]],\n",
       "  95: [[10, 1], [9, 9], [1, 100]],\n",
       "  96: [[1, 100], [9, 9, 9, 9, 9, 9, 9, 9], [10, 1]],\n",
       "  97: [(1, 'one'), (2, 'two'), (3, 'three'), (4, 'four')],\n",
       "  98: [(4, 'four'), (1, 'one'), (3, 'three'), (2, 'two')],\n",
       "  99: [(4, 'four'), (1, 'one'), (3, 'three'), (2, 'two')],\n",
       "  100: 6,\n",
       "  102: [[1, 100], [9, 9, 9, 9, 9, 9, 9, 9], [10, 1]],\n",
       "  106: [[1, 100], [9, 9, 9, 9, 9, 9, 9, 9], [10, 1]],\n",
       "  115: [{'name': '김길동', 'score': 50},\n",
       "   {'name': '윤길동', 'score': 99},\n",
       "   {'name': '홍길동', 'score': 90}],\n",
       "  120: [{'score': 100},\n",
       "   {'name': '윤길동', 'score': 99},\n",
       "   {'name': '홍길동', 'score': 90},\n",
       "   {'name': '김길동', 'score': 50}],\n",
       "  121: [{'score': 100},\n",
       "   {'name': '윤길동', 'score': 99},\n",
       "   {'name': '홍길동', 'score': 90},\n",
       "   {'name': '김길동', 'score': 50}],\n",
       "  122: [{'score': 100},\n",
       "   {'name': '윤길동', 'score': 99},\n",
       "   {'name': '홍길동', 'score': 90},\n",
       "   {'name': '김길동', 'score': 50}],\n",
       "  124: [{'no': 6, 'title': '가격이없음', 'writer': '김길동'},\n",
       "   {'no': 2, 'title': '한 한번의 삶', 'writer': '김영하', 'price': '18,100'},\n",
       "   {'no': 3, 'title': '흔한남매 19', 'writer': '백난도', 'price': '14,220'},\n",
       "   {'no': 5, 'title': '가격이숫자', 'writer': '신길동', 'price': 900},\n",
       "   {'no': 1, 'title': '강남 아파트 인사이트', 'writer': '오스톨', 'price': '25,200'},\n",
       "   {'no': 4, 'title': '가격이잘못', 'writer': '홍길동', 'price': '-'}],\n",
       "  125: [{'no': 6, 'title': '가격이없음', 'writer': '김길동'},\n",
       "   {'no': 2, 'title': '한 한번의 삶', 'writer': '김영하', 'price': '18,100'},\n",
       "   {'no': 3, 'title': '흔한남매 19', 'writer': '백난도', 'price': '14,220'},\n",
       "   {'no': 5, 'title': '가격이숫자', 'writer': '신길동', 'price': 900},\n",
       "   {'no': 1, 'title': '강남 아파트 인사이트', 'writer': '오스톨', 'price': '25,200'},\n",
       "   {'no': 4, 'title': '가격이잘못', 'writer': '홍길동', 'price': '-'}],\n",
       "  133: 800,\n",
       "  138: 800,\n",
       "  144: (8000, 8000, 800, None),\n",
       "  145: 0,\n",
       "  146: 0,\n",
       "  148: (0, 900, 14220, 0),\n",
       "  149: (0, 900, 14220, 0),\n",
       "  150: (0, 900, 14220, 0),\n",
       "  154: 25200,\n",
       "  157: [[3, 3, 3], [3, 3, 3]],\n",
       "  158: [[3, 3, 3], [3, 3, 3]],\n",
       "  159: [3, 3, 3, 3, 3, 3, 3, 3, 3, 3],\n",
       "  161: {...}},\n",
       " '_dh': [WindowsPath('C:/AI_x/04_source/01_python')],\n",
       " 'In': ['',\n",
       "  'from IPython.display import display, HTML\\ndisplay(HTML(\"\"\"\\n<style>\\ndiv.container{width:95% !important;}\\ndiv.cell.code_cell.rendered{width:100%;}\\ndiv.CodeMirror {font-family:Consolas; font-size:15pt;}\\ndiv.output {font-size:15pt; font-weight:bold;}\\ndiv.input {font-family:Consolas; font-size:15pt;}\\ndiv.prompt {min-width:70px;}\\ndiv#toc-wrapper{padding-top:120px;}\\ndiv.text_cell_render ul li{font-size:12pt;padding:5px;}\\ntable.dataframe{font-size:15px;}\\n</style>\\n\"\"\"))',\n",
       "  \"def map_template(func, L=[1, 2, 3]):\\n    '''\\n    L의 모든 요소를 func()함수를 적용시켜 return\\n    [func(1) for 1 in L]\\n    '''\\n    result = []\\n    for l in L:\\n        result.append(func(L))\\n    return result\\n#    result = [func(1) for l in L]\",\n",
       "  'list_data = [1, 2, 3, 4, 5, 6, 7, 8, 9, 10]\\ndef x_2(x):\\n    return x*2\\nmap_template(x_2, list_data)',\n",
       "  \"def map_template(func, L=[]):\\n    '''\\n    L의 모든 요소를 func()함수를 적용시켜 return\\n    '''\\n    result = []\\n    for l in L:\\n        result.append(func(l))\\n    return result\\n#    result = [func(1) for l in L]\",\n",
       "  'list_data = [1, 2, 3, 4, 5, 6, 7, 8, 9, 10]\\ndef x_2(x):\\n    return x*2\\nmap_template(x_2, list_data)',\n",
       "  'list_data = [1, 2, 3, 4, 5, 6, 7, 8, 9, 10]\\nmap_template(lambda x : x*2, list_data)\\n# def x_2(x):\\n#     return x*2\\n# map_template(x_2, list_data)',\n",
       "  '# 리스트 데이터를 가공하는 방법 1. map\\nlist_data = [1, 2, 3, 4, 5, 6, 7, 8, 9, 10]\\nmap_template(lambda x : x*2, list_data)\\n# def x_2(x):\\n#     return x*2\\n# map_template(x_2, list_data)',\n",
       "  '# 리스트 데이터를 가공하는 방법 2. 리스트 컴프리헨션\\n[l*2 for l in list_data]',\n",
       "  '# 리스트 데이터를 가공하는 방법 1. map_template\\nlist_data = [1, 2, 3, 4, 5, 6, 7, 8, 9, 10]\\nmap_template(lambda x : x*2, list_data)\\n# def x_2(x):\\n#     return x*2\\n# map_template(x_2, list_data)',\n",
       "  '# 리스트 데이터를 가공하는 방법 3. map():파이썬 내장함수\\nmap(lambda x : x*2, list_data)',\n",
       "  '# 리스트 데이터를 가공하는 방법 3. map():파이썬 내장함수\\nlist(map(lambda x : x*2, list_data))',\n",
       "  \"for item in map(lambda x : x*2, list_data):\\n    print(item, end=' ')\",\n",
       "  'def func(x):\\n    return int(x.replace(\\',\\',\\'\\'))\\nfunc(\"5,000\"), func(\"1800\")',\n",
       "  \"map(lambda x : int(x.replace(',','')), prices))\",\n",
       "  \"map(lambda x : int(x.replace(',',''))), prices))\",\n",
       "  \"map(lambda x : int(x.replace(',','')), prices)\",\n",
       "  \"map(lambda x : int(x.replace(',','')), prices)\",\n",
       "  \"list(map(lambda x : int(x.replace(',','')), prices))\",\n",
       "  \"'''\\n예제 1. [5000,800,1000,6000]로 바꾸시오(map함수 사용)\\n'''\\nprices = ['5,000', '800', '1000', '6,000']\",\n",
       "  \"list(map(lambda x : int(x.replace(',','')), prices))\",\n",
       "  'split_date(\"2000-01-01\")',\n",
       "  \"# '2000-01-01' => {'year':1998, 'month':12, 'day':31}\\ndef split_date(date):\\n    split_date = date.split('-')\",\n",
       "  'split_date(\"2000-01-01\")',\n",
       "  'split_date(\"2000-01-01\")',\n",
       "  \"# '2000-01-01' => {'year':1998, 'month':12, 'day':31}\\ndef split_date(date):\\n    split_data = date.split('-')\",\n",
       "  'split_date(\"2000-01-01\")',\n",
       "  \"# '2000-01-01' => {'year':1998, 'month':12, 'day':31}\\ndef split_date(date):\\n    split_data = date.split('-')\\n    print(split_data[0], split_data[1], split_data[2])\\n    return {'year': int(split_data[0]),\\n           'month': int(split_data[1]),\\n           'day': int(split_data[2])}\",\n",
       "  'split_date(\"2000-01-01\")',\n",
       "  \"# '2000-01-01' => {'year':1998, 'month':12, 'day':31}\\ndef split_date(date):\\n    split_data = date.split('-')\\n    print(split_data[0], split_data[1], split_data[2])\\n    return {'year': int(split_data[0]),\\n           'month': int(split_data[1]),\\n           'day': int(split_data[2])})\",\n",
       "  \"# '2000-01-01' => {'year':1998, 'month':12, 'day':31}\\ndef split_date(date):\\n    split_data = date.split('-')\\n    print(split_data[0], split_data[1], split_data[2])\\n    return {'year': int(split_data[0]),\\n           'month': int(split_data[1]),\\n           'day': int(split_data[2])}\",\n",
       "  'split_date(\"2000-01-01\")',\n",
       "  \"# '2000-01-01' => {'year':1998, 'month':12, 'day':31}\\ndef split_date(date):\\n    split_data = date.split('-')\\n#     print(split_data[0], split_data[1], split_data[2])\\n    print(split_data[0], split_data[1], split_data[2])\\n    return {'year': int(split_data[0]),\\n           'month': int(split_data[1]),\\n           'day': int(split_data[2])}\",\n",
       "  \"# '2000-01-01' => {'year':1998, 'month':12, 'day':31}\\ndef split_date(date):\\n    split_data = date.split('-')\\n#     print(split_data[0], split_data[1], split_data[2])\\n    print(split_data[0], split_data[1], split_data[2])\\n    return {'year': int(split_data[0]),\\n           'month': int(split_data[1]),\\n           'day': int(split_data[2])\\n           }\",\n",
       "  'split_date(\"2000-01-01\")',\n",
       "  \"# '2000-01-01' => {'year':1998, 'month':12, 'day':31}\\ndef split_date(date):\\n    split_data = date.split('-')\\n#    print(split_data[0], split_data[1], split_data[2])\\n    return {'year': int(split_data[0]),\\n           'month': int(split_data[1]),\\n           'day': int(split_data[2])\\n           }\",\n",
       "  'split_date(\"2000-01-01\")',\n",
       "  \"def member_func(menber): #{'name':'홍길동', 'birth':'2000-01-01'}\\n    '{'name':'신길동', 'year':1998, 'month':12, 'day':31}식으로 return'\\n    return {\\n        'name': menber.get('name'),\\n        'year': int(member['birth'].split('-')[0])\\n    }\",\n",
       "  \"def member_func(menber): #{'name':'홍길동', 'birth':'2000-01-01'}\\n    '{'name':'신길동', 'year':1998, 'month':12, 'day':31}식으로 return'\\n    return {\\n        'name': menber.get('name'),\\n        'year': int(member['birth'].split('-')[0])\\n    }\",\n",
       "  \"def member_func(menber): #{'name':'홍길동', 'birth':'2000-01-01'}\\n    '{'name':'신길동', 'year':1998, 'month':12, 'day':31}식으로 return'\\n    return {\\n        'name': menber.get('name'),\\n        'year': int(member['birth'].split('-')[0])\\n    }\",\n",
       "  'def member_func(menber): #{\\'name\\':\\'홍길동\\', \\'birth\\':\\'2000-01-01\\'}\\n    \"{\\'name\\':\\'신길동\\', \\'year\\':1998, \\'month\\':12, \\'day\\':31}식으로 return\"\\n    return {\\n        \\'name\\': menber.get(\\'name\\'),\\n        \\'year\\': int(member[\\'birth\\'].split(\\'-\\')[0])\\n    }',\n",
       "  'def member_func(menber): #{\\'name\\':\\'홍길동\\', \\'birth\\':\\'2000-01-01\\'}\\n    \"{\\'name\\':\\'신길동\\', \\'year\\':1998, \\'month\\':12, \\'day\\':31}식으로 return\"\\n    return {\\n        \\'name\\': menber.get(\\'name\\'),\\n        \\'year\\': int(member[\\'birth\\'].split(\\'-\\')[0]),\\n        \\'month\\': int(member[\\'birth\\'].split(\\'-\\')[1])\\n        \\'day\\': int(member[\\'birth\\'].split(\\'-\\')[2])\\n    }',\n",
       "  'def member_func(menber): #{\\'name\\':\\'홍길동\\', \\'birth\\':\\'2000-01-01\\'}\\n    \"{\\'name\\':\\'신길동\\', \\'year\\':1998, \\'month\\':12, \\'day\\':31}식으로 return\"\\n    return {\\n        \\'name\\': menber.get(\\'name\\'),\\n        \\'year\\': int(member[\\'birth\\'].split(\\'-\\')[0]),\\n        \\'month\\': int(member[\\'birth\\'].split(\\'-\\')[1]),\\n        \\'day\\': int(member[\\'birth\\'].split(\\'-\\')[2]),\\n    }',\n",
       "  \"'''\\n예제 2. member1=[{'name':'홍길동', 'birth':'2000-01-01'},\\n                {'name':'신길동', 'birth':'1998-12-31'},]를\\n        member2=[{'name':'홍길동', 'year':2000, 'month':1, 'day':1},\\n                 {'name':'신길동', 'year':1998, 'month':12, 'day':31},]를 바꿉니다.\\n'''\\nmember1=[{'name':'홍길동', 'birth':'2000-01-01'},\\n         {'name':'신길동', 'birth':'1998-12-31'},]\",\n",
       "  'def member_func(menber): #{\\'name\\':\\'홍길동\\', \\'birth\\':\\'2000-01-01\\'}\\n    \"{\\'name\\':\\'신길동\\', \\'year\\':1998, \\'month\\':12, \\'day\\':31}식으로 return\"\\n    return {\\n        \\'name\\': menber.get(\\'name\\'),\\n        \\'year\\': int(member[\\'birth\\'].split(\\'-\\')[0]),\\n        \\'month\\': int(member[\\'birth\\'].split(\\'-\\')[1]),\\n        \\'day\\': int(member[\\'birth\\'].split(\\'-\\')[2]),\\n    }\\nmember_func(member1[0])',\n",
       "  \"'''\\n예제 2. member1=[{'name':'홍길동', 'birth':'2000-01-01'},\\n                {'name':'신길동', 'birth':'1998-12-31'},]를\\n        member2=[{'name':'홍길동', 'year':2000, 'month':1, 'day':1},\\n                 {'name':'신길동', 'year':1998, 'month':12, 'day':31},]를 바꿉니다.\\n'''\\nmember1=[{'name':'홍길동', 'birth':'2000-01-01'},\\n         {'name':'신길동', 'birth':'1998-12-31'},]\",\n",
       "  'def member_func(menber): #{\\'name\\':\\'홍길동\\', \\'birth\\':\\'2000-01-01\\'}\\n    \"{\\'name\\':\\'신길동\\', \\'year\\':1998, \\'month\\':12, \\'day\\':31}식으로 return\"\\n    return {\\n        \\'name\\': menber.get(\\'name\\'),\\n        \\'year\\': int(member[\\'birth\\'].split(\\'-\\')[0]),\\n        \\'month\\': int(member[\\'birth\\'].split(\\'-\\')[1]),\\n        \\'day\\': int(member[\\'birth\\'].split(\\'-\\')[2]),\\n    }\\nmember_func(member1[0])',\n",
       "  'def member_func(menber): #{\\'name\\':\\'홍길동\\', \\'birth\\':\\'2000-01-01\\'}\\n    \"{\\'name\\':\\'신길동\\', \\'year\\':1998, \\'month\\':12, \\'day\\':31}식으로 return\"\\n    return {\\n        \\'name\\': menber.get(\\'name\\'),\\n        \\'year\\': int(member[\\'birth\\'].split(\\'-\\')[0]),\\n        \\'month\\': int(member[\\'birth\\'].split(\\'-\\')[1]),\\n        \\'day\\': int(member[\\'birth\\'].split(\\'-\\')[2]),\\n    }\\nmember_func(member1[0])',\n",
       "  \"# '2000-01-01' => {'year':1998, 'month':12, 'day':31}\\ndef split_date(date):\\n    split_data = date.split('-')\\n#    print(split_data[0], split_data[1], split_data[2])\\n    return {'year': int(split_data[0]),\\n           'month': int(split_data[1]),\\n           'day': int(split_data[2])\\n           }\",\n",
       "  \"'''\\n예제 2. member1=[{'name':'홍길동', 'birth':'2000-01-01'},\\n                {'name':'신길동', 'birth':'1998-12-31'},]를\\n        member2=[{'name':'홍길동', 'year':2000, 'month':1, 'day':1},\\n                 {'name':'신길동', 'year':1998, 'month':12, 'day':31},]를 바꿉니다.\\n'''\\nmember1=[{'name':'홍길동', 'birth':'2000-01-01'},\\n         {'name':'신길동', 'birth':'1998-12-31'},]\",\n",
       "  \"# '2000-01-01' => {'year':1998, 'month':12, 'day':31}\\ndef split_date(date):\\n    split_data = date.split('-')\\n#    print(split_data[0], split_data[1], split_data[2])\\n    return {'year': int(split_data[0]),\\n           'month': int(split_data[1]),\\n           'day': int(split_data[2])\\n           }\",\n",
       "  'split_date(\"2000-01-01\")',\n",
       "  'def member_func(menber): #{\\'name\\':\\'홍길동\\', \\'birth\\':\\'2000-01-01\\'}\\n    \"{\\'name\\':\\'신길동\\', \\'year\\':1998, \\'month\\':12, \\'day\\':31}식으로 return\"\\n    return {\\n        \\'name\\': menber.get(\\'name\\'),\\n        \\'year\\': int(member[\\'birth\\'].split(\\'-\\')[0]),\\n        \\'month\\': int(member[\\'birth\\'].split(\\'-\\')[1]),\\n        \\'day\\': int(member[\\'birth\\'].split(\\'-\\')[2]),\\n    }\\nmember_func(member1[0])',\n",
       "  \"member2 =list(map(lambda member : {\\n                        'name': menber.get('name'),\\n                        'year': int(member['birth'].split('-')[0]),\\n                        'month': int(member['birth'].split('-')[1]),\\n                        'day': int(member['birth'].split('-')[2]),\\n                        } ,\\n        member1\\n        )\\n    )\\nmember2\",\n",
       "  'def member_func(member): #{\\'name\\':\\'홍길동\\', \\'birth\\':\\'2000-01-01\\'}\\n    \"{\\'name\\':\\'신길동\\', \\'year\\':1998, \\'month\\':12, \\'day\\':31}식으로 return\"\\n    return {\\n        \\'name\\': member.get(\\'name\\'),\\n        \\'year\\': int(member[\\'birth\\'].split(\\'-\\')[0]),\\n        \\'month\\': int(member[\\'birth\\'].split(\\'-\\')[1]),\\n        \\'day\\': int(member[\\'birth\\'].split(\\'-\\')[2]),\\n    }\\nmember_func(member1[0])',\n",
       "  \"member2 =list(map(lambda member : {\\n                        'name': menber.get('name'),\\n                        'year': int(member['birth'].split('-')[0]),\\n                        'month': int(member['birth'].split('-')[1]),\\n                        'day': int(member['birth'].split('-')[2]),\\n                        } ,\\n        member1\\n        )\\n    )\\nmember2\",\n",
       "  \"member2 =list(map(lambda member : {\\n                        'name': member.get('name'),\\n                        'year': int(member['birth'].split('-')[0]),\\n                        'month': int(member['birth'].split('-')[1]),\\n                        'day': int(member['birth'].split('-')[2]),\\n                        } ,\\n        member1\\n        )\\n    )\\nmember2\",\n",
       "  \"join_date({'year':2000, 'month': 1, 'day': 1})\",\n",
       "  '#{\\'year\\': 2000, \\'month\\':1, \\'day\\':1} => \"2000-01-01\"를 return하는 함수\\ndef join_date(data):\\n    print(data)',\n",
       "  \"join_date({'year':2000, 'month': 1, 'day': 1})\",\n",
       "  '#{\\'year\\': 2000, \\'month\\':1, \\'day\\':1} => \"2000-01-01\"를 return하는 함수\\ndef join_date(data):\\n    print(data)',\n",
       "  '#{\\'year\\': 2000, \\'month\\':1, \\'day\\':1} => \"2000-01-01\"를 return하는 함수\\ndef join_date(data):\\n    print(data.get(\\'year\\'), data.get(\\'month\\'), data.get(\\'day\\'))',\n",
       "  \"join_date({'year':2000, 'month': 1, 'day': 1})\",\n",
       "  '#{\\'year\\': 2000, \\'month\\':1, \\'day\\':1} => \"2000-01-01\"를 return하는 함수\\ndef join_date(data):\\n    print([data.get(\\'year\\'), data.get(\\'month\\'), data.get(\\'day\\')])\\n    return \\'-\\'.join([data.get(\\'year\\'), data.get(\\'month\\'), data.get(\\'day\\')])',\n",
       "  \"join_date({'year':2000, 'month': 1, 'day': 1})\",\n",
       "  '#{\\'year\\': 2000, \\'month\\':1, \\'day\\':1} => \"2000-01-01\"를 return하는 함수\\ndef join_date(data):\\n    print([data.get(\\'year\\'), data.get(\\'month\\'), data.get(\\'day\\')])\\n    year = str(data.get(\\'year\\'))\\n    return \\'-\\'.join([year, data.get(\\'year\\'), data.get(\\'month\\'), data.get(\\'day\\')])',\n",
       "  \"join_date({'year':2000, 'month': 1, 'day': 1})\",\n",
       "  '#{\\'year\\': 2000, \\'month\\':1, \\'day\\':1} => \"2000-01-01\"를 return하는 함수\\ndef join_date(data):\\n    print([data.get(\\'year\\'), data.get(\\'month\\'), data.get(\\'day\\')])\\n    year = str(data.get(\\'year\\'))\\n    month = str(data.get(\\'month\\'))\\n    return \\'-\\'.join([year, data.get(\\'year\\'), data.get(\\'month\\'), data.get(\\'day\\')])',\n",
       "  \"join_date({'year':2000, 'month': 1, 'day': 1})\",\n",
       "  '#{\\'year\\': 2000, \\'month\\':1, \\'day\\':1} => \"2000-01-01\"를 return하는 함수\\ndef join_date(data):\\n    print([data.get(\\'year\\'), data.get(\\'month\\'), data.get(\\'day\\')])\\n    year = str(data.get(\\'year\\'))\\n    month = data.get(\\'month\\')\\n    \\n    return \\'-\\'.join([year, data.get(\\'year\\'), data.get(\\'month\\'), data.get(\\'day\\')])',\n",
       "  '#{\\'year\\': 2000, \\'month\\':1, \\'day\\':1} => \"2000-01-01\"를 return하는 함수\\ndef join_date(data):\\n    print([data.get(\\'year\\'), data.get(\\'month\\'), data.get(\\'day\\')])\\n    year = str(data.get(\\'year\\'))\\n    month = data.get(\\'month\\')\\n    if month < 10:\\n        month = \\'0\\'+str(month)\\n    else:\\n        month = str(month)\\n    day = data.get(\\'day\\')\\n    if month < 10:\\n        month = \\'0\\'+str(day)\\n    else:\\n        month = str(month)    \\n    return \\'-\\'.join([year, data.get(\\'year\\'), data.get(\\'month\\'), data.get(\\'day\\')])',\n",
       "  \"join_date({'year':2000, 'month': 1, 'day': 1})\",\n",
       "  '#{\\'year\\': 2000, \\'month\\':1, \\'day\\':1} => \"2000-01-01\"를 return하는 함수\\ndef join_date(data):\\n    #print([data.get(\\'year\\'), data.get(\\'month\\'), data.get(\\'day\\')])\\n    year = str(data.get(\\'year\\'))\\n    month = data.get(\\'month\\')\\n    if month < 10:\\n        month = \\'0\\'+str(month)\\n    else:\\n        month = str(month)\\n    day = data.get(\\'day\\')\\n    if month < 10:\\n        month = \\'0\\'+str(day)\\n    else:\\n        month = str(month)    \\n    return \\'-\\'.join([year, data.get(\\'year\\'), data.get(\\'month\\'), data.get(\\'day\\')])',\n",
       "  \"join_date({'year':2000, 'month': 1, 'day': 1})\",\n",
       "  '#{\\'year\\': 2000, \\'month\\':1, \\'day\\':1} => \"2000-01-01\"를 return하는 함수\\ndef join_date(data):\\n    #print([data.get(\\'year\\'), data.get(\\'month\\'), data.get(\\'day\\')])\\n    year = str(data.get(\\'year\\'))\\n    month = data.get(\\'month\\')\\n    if month < 10:\\n        month = \\'0\\'+str(month)\\n    else:\\n        month = str(month)\\n    day = data.get(\\'day\\')\\n    if day < 10:\\n        day = \\'0\\'+str(day)\\n    else:\\n        day = str(month)    \\n    return \\'-\\'.join([year, data.get(\\'year\\'), data.get(\\'month\\'), data.get(\\'day\\')])',\n",
       "  '#{\\'year\\': 2000, \\'month\\':1, \\'day\\':1} => \"2000-01-01\"를 return하는 함수\\ndef join_date(data):\\n    #print([data.get(\\'year\\'), data.get(\\'month\\'), data.get(\\'day\\')])\\n    year = str(data.get(\\'year\\'))\\n    month = data.get(\\'month\\')\\n    if month < 10:\\n        month = \\'0\\'+str(month)\\n    else:\\n        month = str(month)\\n    day = data.get(\\'day\\')\\n    if day < 10:\\n        day = \\'0\\'+str(day)\\n    else:\\n        day = str(month)    \\n    return \\'-\\'.join([year, data.get(\\'year\\'), data.get(\\'month\\'), data.get(\\'day\\')])',\n",
       "  \"join_date({'year':2000, 'month': 1, 'day': 1})\",\n",
       "  '# {\\'year\\': 2000, \\'month\\': 1, \\'day\\': 1} => \"2000-01-01\"를 return하는 함수\\ndef join_date(data):\\n    # print([data.get(\\'year\\'), data.get(\\'month\\'), data.get(\\'day\\')])\\n    year = str(data.get(\\'year\\'))\\n    month = data.get(\\'month\\')\\n    if month < 10:\\n        month = \\'0\\'+str(month)\\n    else:\\n        month = str(month)\\n    day = data.get(\\'day\\')\\n    if day < 10:\\n        day = \\'0\\'+str(day)\\n    else:\\n        day = str(day)\\n    return \\'-\\'.join([year, month, day])',\n",
       "  \"join_date({'year': 2000, 'month': 1, 'day': 1})\",\n",
       "  'def join_date(data):\\n    print(\"{}-{:02}={:02}\".format(data.get(\\'year\\'),\\n                                  data.get(\\'month\\'),\\n                                  data.get(\\'day\\')))',\n",
       "  'def join_date(data):\\n    print(\"{year}-{month:02}={day:02}\".format(\\n                                  year = data.get(\\'year\\'),\\n                                  month = data.get(\\'month\\'),\\n                                  day= data.get(\\'day\\')))',\n",
       "  'def join_date(data):\\n    return \"{year}-{month:02}-{day:02}\".format(**data)',\n",
       "  '# {\\'name\\':\\'홍길동\\', \\'year\\':2000, \\'month\\':1, \\'day\\':1}(member2)를\\n# {\\'name\\':\\'홍길동\\', \\'birth\\':\\'2000-01-01\\'}으로 가공\\nlist(map(lambda member : {\\n        \\'name\\' : member.get(\\'name\\'),\\n        \\'birth\\' : \"{year}-{month:02}-{day:02}\".format(**data)\\n        },\\n    member2\\n))',\n",
       "  '# {\\'name\\':\\'홍길동\\', \\'year\\':2000, \\'month\\':1, \\'day\\':1}(member2)를\\n# {\\'name\\':\\'홍길동\\', \\'birth\\':\\'2000-01-01\\'}으로 가공\\nlist(map(lambda member : {\\n                        \\'name\\' : member.get(\\'name\\'),\\n                        \\'birth\\' : \"{year}-{month:02}-{day:02}\".format(**data)\\n                        },\\n    member2\\n))',\n",
       "  '# {\\'name\\':\\'홍길동\\', \\'year\\':2000, \\'month\\':1, \\'day\\':1}(member2)를\\n# {\\'name\\':\\'홍길동\\', \\'birth\\':\\'2000-01-01\\'}으로 가공\\nlist(map(lambda member : {\\n                        \\'name\\' : member.get(\\'name\\'),\\n                        \\'birth\\' : \"{year}-{month:02}-{day:02}\".format(**member)\\n                        },\\n    member2\\n))',\n",
       "  'def filter_template(func, L=[]):\\n    result = []\\n    for l in L :\\n        if func(l):\\n            result.append(l)\\n    return result',\n",
       "  'def evenChk(value):\\n    return value%2==0\\nevenChk(10), evenChk(-9)',\n",
       "  'list_data = [1, 2, 3, 4, 5]\\nfilter_template(lambda value : value%2==0 , )',\n",
       "  'list_data = [1, 2, 3, 4, 5]\\nfilter_template(lambda value : value%2==0 , list_data)',\n",
       "  'list(filter(lambda value : value%2==0, list_data))',\n",
       "  'list(filter(lambda value : value%2==0, list_data))',\n",
       "  '[for data in list_data if data%2==0]',\n",
       "  '[data for data in list_data if data%2==0]',\n",
       "  'P = [9, 2, 7]\\nP.sort(reverse=True)\\nP',\n",
       "  'number2d = [[9, 9],\\n           [1, 100],\\n           [10, 1]]\\nnumber2d.sort()\\nnumber2d',\n",
       "  '# 무조껀 0번 item기준으로 정렬\\nnumber2d = [[9, 9],\\n           [1, 100],\\n           [10, 1]]\\nnumber2d.sort(reverse=True)\\nnumber2d',\n",
       "  '# 무조껀 0번 item기준으로 정렬\\nnumber2d = [[9, 9, 9, 9, 9, 9, 9, 9],\\n           [1, 100],\\n           [10, 1]]\\nnumber2d.sort(reverse=True)\\nnumber2d',\n",
       "  \"pairs = [(2, 'two'), (1, 'one'), (4, 'four'), (3, 'three')]\\npairs.sort()\\npairs\",\n",
       "  \"# 무조껀 0번째 item 기준으로 정렬\\npairs = [(2, 'two'), (1, 'one'), (4, 'four'), (3, 'three')]\\npairs.sort()\\npairs\",\n",
       "  '# 1번째 item 기준으로 정렬(abc순)\\npairs.sort(key=lambda pair : pair[1])\\npairs',\n",
       "  '(lambda item : sum(item))([1,2,3,])',\n",
       "  '# 합이 큰 순으로 정렬\\nnumber2d.sort(key = lambda item : sum(item))',\n",
       "  '# 합이 큰 순으로 정렬\\nnumber2d.sort(key = lambda item : sum(item))\\nnumber2d',\n",
       "  '# 합이 큰 순으로 정렬\\nnumber2d.sort(key = lambda item : sum(item)), reverse=true\\nnumber2d',\n",
       "  '# 합이 큰 순으로 정렬\\nnumber2d.sort(key = lambda item : sum(item)), reverse = true\\nnumber2d',\n",
       "  '# 합이 큰 순으로 정렬\\nnumber2d.sort(key = lambda item : sum(item)), reverse = True\\nnumber2d',\n",
       "  '# 합이 큰 순으로 정렬\\nnumber2d.sort(key = lambda item : sum(item), reverse = True)\\nnumber2d',\n",
       "  'def add(x, y=5):\\n    return key+reverse',\n",
       "  'add(reverse=10, key=7)',\n",
       "  \"students = [\\n    {'name':'홍길동', 'score':90},\\n    {'name':'김길동', 'score':50},\\n    {'name':'윤길동', 'score':99},\\n]\",\n",
       "  'students.sort()\\nstudents',\n",
       "  '# 이름순으로 정렬(ㄱㄴㄷ순)\\nstudents.sort()\\nstudents',\n",
       "  '# 이름순으로 정렬(ㄱㄴㄷ순)\\nstudents.sort()\\nstudents',\n",
       "  '# 이름순으로 정렬(ㄱㄴㄷ순)\\nstudents.sort(key=lambda pair : pair[1])\\nstudents',\n",
       "  '# 이름순으로 정렬(ㄱㄴㄷ순)\\nstudents.sort(key=lambda pair : pair[name])\\nstudents',\n",
       "  \"# 이름순으로 정렬(ㄱㄴㄷ순)\\nstudents.sort(key=lambda item : item['name'])\\nstudents\",\n",
       "  \"students = [\\n    {'name':'홍길동', 'score':90},\\n    {'name':'김길동', 'score':50},\\n    {'name':'윤길동', 'score':99},\\n    {'score':100}\\n]\",\n",
       "  \"# 이름순으로 정렬(ㄱㄴㄷ순)\\nstudents.sort(key=lambda item : item['name'])\\nstudents\",\n",
       "  \"# 이름순으로 정렬(ㄱㄴㄷ순)\\nstudents.sort(key=lambda item : item.get['name'])\\nstudents\",\n",
       "  \"# 이름순으로 정렬(ㄱㄴㄷ순)\\nstudents.sort(key=lambda item : item.get('name'))\\nstudents\",\n",
       "  \"# 이름순으로 정렬(ㄱㄴㄷ순)\\nstudents.sort(key=lambda item : item.get('name','힣'))\\nstudents\",\n",
       "  \"# 이름순으로 정렬(ㄱㄴㄷ순)\\nstudents.sort(key=lambda item : item.get('name','가'))\\nstudents\",\n",
       "  \"# score순으로 정렬(내림차순 정렬)\\nstudents.sort(key=lambda item : item.get('score', 0), reverse=True)  \\nstudents\",\n",
       "  \"# 책제목순 정렬(ㄱㄴㄷ순), 저자순 정렬(ㄱㄴㄷ순), 가격순 정렬\\nbooks =[\\n    {'no':1, 'title':'강남 아파트 인사이트', 'writer':'오스톨', 'price':'25,200'},\\n    {'no':2, 'title':'한 한번의 삶', 'writer':'김영하', 'price':'18,100'},\\n    {'no':3, 'title':'흔한남매 19', 'writer':'백난도', 'price':'14,220'},\\n    {'no':4, 'title':'가격이잘못', 'writer':'홍길동', 'price':'-'},\\n    {'no':5, 'title':'가격이숫자', 'writer':'신길동', 'price':900},\\n    {'no':6, 'title':'가격이없음', 'writer':'김길동'},\\n]\",\n",
       "  \"books.sort(key=lambda book : book.get('title'))\\nbooks\",\n",
       "  \"books.sort(key=lambda book : book.get('writer'))\\nbooks\",\n",
       "  \"# 가격순 정렬은 위의 작업방식과 다르다.\\n# 숫자로 잘못된 것들도 있고, 문자로 구현된 것들도 있음.\\n# 따라서 sort문, 문자인지 숫자인지를 구분하는 작업이 추가로 필요하다.\\nbooks.sort(key=lambda book : book.get('price'.0))\\nbooks\",\n",
       "  \"# 가격순 정렬은 위의 작업방식과 다르다.\\n# 숫자로 잘못된 것들도 있고, 문자로 구현된 것들도 있음.\\n# 따라서 sort문, 문자인지 숫자인지를 구분하는 작업이 추가로 필요하다.\\nbooks.sort(key=lambda book : book.get('price',0))\\nbooks\",\n",
       "  \"# 가격순 정렬은 위의 작업방식과 다르다.\\n# 숫자로 잘못된 것들도 있고, 문자로 구현된 것들도 있음.\\n# 따라서 sort문, 문자인지 숫자인지를 구분하는 작업이 추가로 필요하다.\\nbooks.sort(key=lambda book : book.get('price',0))\\nbooks\\n#해당 방식은 숫자와 문자를 동시에 사용하려 하니 에러가 발생하는 것이다.\",\n",
       "  \"#'14,000' -> 14000 / 800 -> 800 / '-' -> 0\\n#조건식을 만들기 어렵다면 일단 함수를 만들고, 람다식으로 만드는 방법이 추천된다.\\ndef parse_int(price):\\n    print(type(price))\",\n",
       "  'parse_int(800)',\n",
       "  'parse_int(800)\\n#int 타입이면 빼거나 조정하는 작업이 필요하다.',\n",
       "  \"#'14,000' -> 14000 / 800 -> 800 / '-' -> 0  #조건이 3가지가 필요하다.\\n#조건식을 만들기 어렵다면 일단 함수를 만들고, 람다식으로 만드는 방법이 추천된다.\\ndef parse_int(price):\\n    #print(type(price))\\n    if isinstance(price, int):\\n        return price\",\n",
       "  'parse_int(800)\\n#int 타입이면 빼거나 조정하는 작업이 필요하다.',\n",
       "  \"#'14,000' -> 14000 / 800 -> 800 / '-' -> 0  #조건이 3가지가 필요하다.\\n#조건식을 만들기 어렵다면 일단 함수를 만들고, 람다식으로 만드는 방법이 추천된다.\\ndef parse_int(price):\\n    #print(type(price))\\n    if isinstance(prics, str) and price.replace(',','').isdigit():\\n        #↑ 해당 함수는 어떤 값이 특정 자료형인지를 확인할 때 사용되는 함수임.\\n        # isinstance(값, 자료형) #결과는 True 또는 False로 출력됨.\\n        return int(price,replace(',', ''))\\n    elif isinstance(price, int):\\n        return price\",\n",
       "  'parse_int(800)',\n",
       "  \"#'14,000' -> 14000 / 800 -> 800 / '-' -> 0  #조건이 3가지가 필요하다.\\n#조건식을 만들기 어렵다면 일단 함수를 만들고, 람다식으로 만드는 방법이 추천된다.\\ndef parse_int(price):\\n    #print(type(price))\\n    if isinstance(prices, str) and price.replace(',','').isdigit():\\n        #↑ 해당 함수는 어떤 값이 특정 자료형인지를 확인할 때 사용되는 함수임.\\n        # isinstance(값, 자료형) #결과는 True 또는 False로 출력됨.\\n        return int(price,replace(',', ''))\\n    elif isinstance(price, int):\\n        return price\",\n",
       "  \"#'14,000' -> 14000 / 800 -> 800 / '-' -> 0  #조건이 3가지가 필요하다.\\n#조건식을 만들기 어렵다면 일단 함수를 만들고, 람다식으로 만드는 방법이 추천된다.\\ndef parse_int(price):\\n    #print(type(price))\\n    if isinstance(price, str) and price.replace(',','').isdigit():\\n        #↑ 해당 함수는 어떤 값이 특정 자료형인지를 확인할 때 사용되는 함수임.\\n        # isinstance(값, 자료형) #결과는 True 또는 False로 출력됨.\\n        return int(price,replace(',', ''))\\n    elif isinstance(price, int):\\n        return price\",\n",
       "  'parse_int(800)',\n",
       "  'parse_int(\"8,000\"), parse_int(\"8000\"), parse_int(800), parse_int(\\'-\\')',\n",
       "  \"#'14,000' -> 14000 / 800 -> 800 / '-' -> 0  #조건이 3가지가 필요하다.\\n#조건식을 만들기 어렵다면 일단 함수를 만들고, 람다식으로 만드는 방법이 추천된다.\\ndef parse_int(price):\\n    #print(type(price))\\n    if isinstance(price, str) and price.replace(',','').isdigit():\\n        #↑ 해당 함수는 어떤 값이 특정 자료형인지를 확인할 때 사용되는 함수임.\\n        # isinstance(값, 자료형) #결과는 True 또는 False로 출력됨.\\n        return int(price,replace(',',''))\\n    elif isinstance(price, int):\\n        return price\",\n",
       "  'parse_int(\"8,000\"), parse_int(\"8000\"), parse_int(800), parse_int(\\'-\\')',\n",
       "  'parse_int(\"8,000\"), parse_int(\"8000\"), parse_int(800), parse_int(\\'-\\')',\n",
       "  \"#'14,000' -> 14000 / 800 -> 800 / '-' -> 0  #조건이 3가지가 필요하다.\\n#조건식을 만들기 어렵다면 일단 함수를 만들고, 람다식으로 만드는 방법이 추천된다.\\ndef parse_int(price):\\n    #print(type(price))\\n    if isinstance(price, str) and price.replace(',','').isdigit():\\n        #↑ 해당 함수는 어떤 값이 특정 자료형인지를 확인할 때 사용되는 함수임.\\n        # isinstance(값, 자료형) #결과는 True 또는 False로 출력됨.\\n        return int(price.replace(',',''))\\n    elif isinstance(price, int):\\n        return price\",\n",
       "  'parse_int(\"8,000\"), parse_int(\"8000\"), parse_int(800), parse_int(\\'-\\')',\n",
       "  \"# {'no': 6, 'title': '가격이없음', 'writer': '김길동'} => 0 return으로 바꿔야함.(주어진 데이터에서 값이 안나와있으므로)\\n# {'no': 3, 'title': '흔한남매 19', 'writer': '백난도', 'price': '14,220'} => 14220\\n# {'no': 5, 'title': '가격이숫자', 'writer': '신길동', 'price': 900} => 900\\ndef parse_int(book):\\n    if isinstance(book.get('price'),str) and book.get('price').replace(',','').isdigit():\\n        return int(book.get('price').replace(',','') )\\n    elif isinstance(book.get('price'), int):\\n        return book.get('price')\\n    else :\\n        return 0\\nparse_int(books[0])\",\n",
       "  \"# {'no': 6, 'title': '가격이없음', 'writer': '김길동'} => 0 return으로 바꿔야함.(주어진 데이터에서 값이 안나와있으므로)\\n# {'no': 3, 'title': '흔한남매 19', 'writer': '백난도', 'price': '14,220'} => 14220\\n# {'no': 5, 'title': '가격이숫자', 'writer': '신길동', 'price': 900} => 900\\ndef parse_int(book):\\n    if isinstance(book.get('price'),str) and \\\\\\n        book.get('price').replace(',','').isdigit():\\n        return int(book.get('price').replace(',','') )\\n    elif isinstance(book.get('price'), int):\\n        return book.get('price')\\n    else :\\n        return 0\\nparse_int(books[0])\",\n",
       "  \"# {'no': 6, 'title': '가격이없음', 'writer': '김길동'} => 0 return으로 바꿔야함.(주어진 데이터에서 값이 안나와있으므로)\\n# {'no': 3, 'title': '흔한남매 19', 'writer': '백난도', 'price': '14,220'} => 14220\\n# {'no': 5, 'title': '가격이숫자', 'writer': '신길동', 'price': 900} => 900\\ndef parse_int(book):\\n    if isinstance(book.get('price'),str) and \\\\ #함수가 너무 길어져서 가독성이 떨어질 경우 \\\\로 표기함.\\n        book.get('price').replace(',','').isdigit():\\n        return int(book.get('price').replace(',','') )\\n    elif isinstance(book.get('price'), int):\\n        return book.get('price')\\n    else :\\n        return 0\\nparse_int(books[0]), parse_int(books[3]), parse_int(books[2]), parse_int(books[5])\",\n",
       "  \"# {'no': 6, 'title': '가격이없음', 'writer': '김길동'} => 0 return으로 바꿔야함.(주어진 데이터에서 값이 안나와있으므로)\\n# {'no': 3, 'title': '흔한남매 19', 'writer': '백난도', 'price': '14,220'} => 14220\\n# {'no': 5, 'title': '가격이숫자', 'writer': '신길동', 'price': 900} => 900\\ndef parse_int(book):\\n    if isinstance(book.get('price'),str) and book.get('price').replace(',','').isdigit():\\n        return int(book.get('price').replace(',','') )\\n    elif isinstance(book.get('price'), int):\\n        return book.get('price')\\n    else :\\n        return 0\\nparse_int(books[0]), parse_int(books[3]), parse_int(books[2]), parse_int(books[5])\",\n",
       "  \"# {'no': 6, 'title': '가격이없음', 'writer': '김길동'} => 0 return으로 바꿔야함.(주어진 데이터에서 값이 안나와있으므로)\\n# {'no': 3, 'title': '흔한남매 19', 'writer': '백난도', 'price': '14,220'} => 14220\\n# {'no': 5, 'title': '가격이숫자', 'writer': '신길동', 'price': 900} => 900\\ndef parse_int(book):\\n    if isinstance(book.get('price'),str) and \\\\\\n    book.get('price').replace(',','').isdigit():\\n        return int(book.get('price').replace(',','') )\\n    elif isinstance(book.get('price'), int):\\n        return book.get('price')\\n    else :\\n        return 0\\nparse_int(books[0]), parse_int(books[3]), parse_int(books[2]), parse_int(books[5])\\n#람다식 변경시 if문이 맨 위로 오도록 하는것이 편리할 수 있음.\",\n",
       "  \"# {'no': 6, 'title': '가격이없음', 'writer': '김길동'} => 0 return으로 바꿔야함.(주어진 데이터에서 값이 안나와있으므로)\\n# {'no': 3, 'title': '흔한남매 19', 'writer': '백난도', 'price': '14,220'} => 14220\\n# {'no': 5, 'title': '가격이숫자', 'writer': '신길동', 'price': 900} => 900\\ndef parse_int(book):\\n    if isinstance(book.get('price'),str) and \\\\\\n    book.get('price').replace(',','').isdigit():\\n        return int(book.get('price').replace(',','') )\\n    elif isinstance(book.get('price'), int):\\n        return book.get('price')\\n    else :\\n        return 0\\nparse_int(books[0]), parse_int(books[3]), parse_int(books[2]), parse_int(books[5])\\n#람다식 변경시 if문이 맨 위로 오도록 하는것이 편리할 수 있음.\",\n",
       "  'copy_books',\n",
       "  \"books =[\\n    {'no':1, 'title':'강남 아파트 인사이트', 'writer':'오스톨', 'price':'25,200'},\\n    {'no':2, 'title':'한 한번의 삶', 'writer':'김영하', 'price':'18,100'},\\n    {'no':3, 'title':'흔한남매 19', 'writer':'백난도', 'price':'14,220'},\\n    {'no':4, 'title':'가격이잘못', 'writer':'홍길동', 'price':'-'},\\n    {'no':5, 'title':'가격이숫자', 'writer':'신길동', 'price':900},\\n    {'no':6, 'title':'가격이없음', 'writer':'김길동'},\\n]\\ncopy_books = books.copy() #깊은복사\",\n",
       "  \"copy_books.sort(key = lambda book : \\n                int(book.get('price').replace(',','')) \\\\\\n                    if isinstance(book.get('price'),str) and \\\\\\n                    book.get('price').replace(',','').isdigit() else \\\\\\n                book.get('price') if isinstance(book.get('price'), int) else \\\\\\n                0               \\n               )\",\n",
       "  \"#람다식 테스트 확인\\n(lambda book : \\n                int(book.get('price').replace(',','')) \\\\\\n                    if isinstance(book.get('price'),str) and \\\\\\n                    book.get('price').replace(',','').isdigit() else \\\\\\n                book.get('price') if isinstance(book.get('price'), int) else \\\\\\n                0 )(books[0])\",\n",
       "  'line_func = make_box([2,3])\\nline_func(3)',\n",
       "  '# 함수를 return\\ndef make_box(shape): #shape : [l]=>len가 l인 list를 생성하는 함수 return, [l], \\n                    #         [r,c] => r행 c열인 list를 생성하는 함수 return\\n    def box(init_value):\\n        if len(shape)==1:\\n            return [init_value]*shape[0]\\n        elif len(shape)==2:\\n            return [ [init_value]*shape[1] ] * shape[0]\\n    return box',\n",
       "  'line_func = make_box([2,3])\\nline_func(3)',\n",
       "  'line_func1 = make_box([10])\\nline_func(3)',\n",
       "  'line_func1 = make_box([10])\\nline_func1(3)',\n",
       "  'def make_box(shape) :\\n    if len(shape)==1:\\n        return lambda init_value : [init_value]*shape[0]\\n    else len(shape)==2:\\n        return lambda init_value : [[init_value]*shape[1]]*shape[0]',\n",
       "  'globals()',\n",
       "  'locals() #지역변수 리스트'],\n",
       " 'Out': {3: [[1, 2, 3, 4, 5, 6, 7, 8, 9, 10, 1, 2, 3, 4, 5, 6, 7, 8, 9, 10],\n",
       "   [1, 2, 3, 4, 5, 6, 7, 8, 9, 10, 1, 2, 3, 4, 5, 6, 7, 8, 9, 10],\n",
       "   [1, 2, 3, 4, 5, 6, 7, 8, 9, 10, 1, 2, 3, 4, 5, 6, 7, 8, 9, 10],\n",
       "   [1, 2, 3, 4, 5, 6, 7, 8, 9, 10, 1, 2, 3, 4, 5, 6, 7, 8, 9, 10],\n",
       "   [1, 2, 3, 4, 5, 6, 7, 8, 9, 10, 1, 2, 3, 4, 5, 6, 7, 8, 9, 10],\n",
       "   [1, 2, 3, 4, 5, 6, 7, 8, 9, 10, 1, 2, 3, 4, 5, 6, 7, 8, 9, 10],\n",
       "   [1, 2, 3, 4, 5, 6, 7, 8, 9, 10, 1, 2, 3, 4, 5, 6, 7, 8, 9, 10],\n",
       "   [1, 2, 3, 4, 5, 6, 7, 8, 9, 10, 1, 2, 3, 4, 5, 6, 7, 8, 9, 10],\n",
       "   [1, 2, 3, 4, 5, 6, 7, 8, 9, 10, 1, 2, 3, 4, 5, 6, 7, 8, 9, 10],\n",
       "   [1, 2, 3, 4, 5, 6, 7, 8, 9, 10, 1, 2, 3, 4, 5, 6, 7, 8, 9, 10]],\n",
       "  5: [2, 4, 6, 8, 10, 12, 14, 16, 18, 20],\n",
       "  6: [2, 4, 6, 8, 10, 12, 14, 16, 18, 20],\n",
       "  7: [2, 4, 6, 8, 10, 12, 14, 16, 18, 20],\n",
       "  8: [2, 4, 6, 8, 10, 12, 14, 16, 18, 20],\n",
       "  9: [2, 4, 6, 8, 10, 12, 14, 16, 18, 20],\n",
       "  10: <map at 0x1e387770430>,\n",
       "  11: [2, 4, 6, 8, 10, 12, 14, 16, 18, 20],\n",
       "  13: (5000, 1800),\n",
       "  20: [5000, 800, 1000, 6000],\n",
       "  28: {'year': 2000, 'month': 1, 'day': 1},\n",
       "  31: {'year': 2000, 'month': 1, 'day': 1},\n",
       "  34: {'year': 2000, 'month': 1, 'day': 1},\n",
       "  36: {'year': 2000, 'month': 1, 'day': 1},\n",
       "  51: {'year': 2000, 'month': 1, 'day': 1},\n",
       "  54: {'name': '홍길동', 'year': 2000, 'month': 1, 'day': 1},\n",
       "  56: [{'name': '홍길동', 'year': 2000, 'month': 1, 'day': 1},\n",
       "   {'name': '신길동', 'year': 1998, 'month': 12, 'day': 31}],\n",
       "  78: '2000-01-01',\n",
       "  84: [{'name': '홍길동', 'birth': '2000-01-01'},\n",
       "   {'name': '신길동', 'birth': '1998-12-31'}],\n",
       "  86: (True, False),\n",
       "  87: [],\n",
       "  88: [2, 4],\n",
       "  89: [2, 4],\n",
       "  90: [2, 4],\n",
       "  92: [2, 4],\n",
       "  93: [9, 7, 2],\n",
       "  94: [[1, 100], [9, 9], [10, 1]],\n",
       "  95: [[10, 1], [9, 9], [1, 100]],\n",
       "  96: [[1, 100], [9, 9, 9, 9, 9, 9, 9, 9], [10, 1]],\n",
       "  97: [(1, 'one'), (2, 'two'), (3, 'three'), (4, 'four')],\n",
       "  98: [(4, 'four'), (1, 'one'), (3, 'three'), (2, 'two')],\n",
       "  99: [(4, 'four'), (1, 'one'), (3, 'three'), (2, 'two')],\n",
       "  100: 6,\n",
       "  102: [[1, 100], [9, 9, 9, 9, 9, 9, 9, 9], [10, 1]],\n",
       "  106: [[1, 100], [9, 9, 9, 9, 9, 9, 9, 9], [10, 1]],\n",
       "  115: [{'name': '김길동', 'score': 50},\n",
       "   {'name': '윤길동', 'score': 99},\n",
       "   {'name': '홍길동', 'score': 90}],\n",
       "  120: [{'score': 100},\n",
       "   {'name': '윤길동', 'score': 99},\n",
       "   {'name': '홍길동', 'score': 90},\n",
       "   {'name': '김길동', 'score': 50}],\n",
       "  121: [{'score': 100},\n",
       "   {'name': '윤길동', 'score': 99},\n",
       "   {'name': '홍길동', 'score': 90},\n",
       "   {'name': '김길동', 'score': 50}],\n",
       "  122: [{'score': 100},\n",
       "   {'name': '윤길동', 'score': 99},\n",
       "   {'name': '홍길동', 'score': 90},\n",
       "   {'name': '김길동', 'score': 50}],\n",
       "  124: [{'no': 6, 'title': '가격이없음', 'writer': '김길동'},\n",
       "   {'no': 2, 'title': '한 한번의 삶', 'writer': '김영하', 'price': '18,100'},\n",
       "   {'no': 3, 'title': '흔한남매 19', 'writer': '백난도', 'price': '14,220'},\n",
       "   {'no': 5, 'title': '가격이숫자', 'writer': '신길동', 'price': 900},\n",
       "   {'no': 1, 'title': '강남 아파트 인사이트', 'writer': '오스톨', 'price': '25,200'},\n",
       "   {'no': 4, 'title': '가격이잘못', 'writer': '홍길동', 'price': '-'}],\n",
       "  125: [{'no': 6, 'title': '가격이없음', 'writer': '김길동'},\n",
       "   {'no': 2, 'title': '한 한번의 삶', 'writer': '김영하', 'price': '18,100'},\n",
       "   {'no': 3, 'title': '흔한남매 19', 'writer': '백난도', 'price': '14,220'},\n",
       "   {'no': 5, 'title': '가격이숫자', 'writer': '신길동', 'price': 900},\n",
       "   {'no': 1, 'title': '강남 아파트 인사이트', 'writer': '오스톨', 'price': '25,200'},\n",
       "   {'no': 4, 'title': '가격이잘못', 'writer': '홍길동', 'price': '-'}],\n",
       "  133: 800,\n",
       "  138: 800,\n",
       "  144: (8000, 8000, 800, None),\n",
       "  145: 0,\n",
       "  146: 0,\n",
       "  148: (0, 900, 14220, 0),\n",
       "  149: (0, 900, 14220, 0),\n",
       "  150: (0, 900, 14220, 0),\n",
       "  154: 25200,\n",
       "  157: [[3, 3, 3], [3, 3, 3]],\n",
       "  158: [[3, 3, 3], [3, 3, 3]],\n",
       "  159: [3, 3, 3, 3, 3, 3, 3, 3, 3, 3],\n",
       "  161: {...}},\n",
       " 'get_ipython': <bound method InteractiveShell.get_ipython of <ipykernel.zmqshell.ZMQInteractiveShell object at 0x000001E386FBFD60>>,\n",
       " 'exit': <IPython.core.autocall.ZMQExitAutocall at 0x1e386fcf5e0>,\n",
       " 'quit': <IPython.core.autocall.ZMQExitAutocall at 0x1e386fcf5e0>,\n",
       " 'open': <function io.open(file, mode='r', buffering=-1, encoding=None, errors=None, newline=None, closefd=True, opener=None)>,\n",
       " '_': {...},\n",
       " '__': [3, 3, 3, 3, 3, 3, 3, 3, 3, 3],\n",
       " '___': [[3, 3, 3], [3, 3, 3]],\n",
       " '_i': 'globals()',\n",
       " '_ii': 'def make_box(shape) :\\n    if len(shape)==1:\\n        return lambda init_value : [init_value]*shape[0]\\n    else len(shape)==2:\\n        return lambda init_value : [[init_value]*shape[1]]*shape[0]',\n",
       " '_iii': 'line_func1 = make_box([10])\\nline_func1(3)',\n",
       " '_i1': 'from IPython.display import display, HTML\\ndisplay(HTML(\"\"\"\\n<style>\\ndiv.container{width:95% !important;}\\ndiv.cell.code_cell.rendered{width:100%;}\\ndiv.CodeMirror {font-family:Consolas; font-size:15pt;}\\ndiv.output {font-size:15pt; font-weight:bold;}\\ndiv.input {font-family:Consolas; font-size:15pt;}\\ndiv.prompt {min-width:70px;}\\ndiv#toc-wrapper{padding-top:120px;}\\ndiv.text_cell_render ul li{font-size:12pt;padding:5px;}\\ntable.dataframe{font-size:15px;}\\n</style>\\n\"\"\"))',\n",
       " 'display': <function IPython.core.display_functions.display(*objs, include=None, exclude=None, metadata=None, transient=None, display_id=None, raw=False, clear=False, **kwargs)>,\n",
       " 'HTML': IPython.core.display.HTML,\n",
       " '_i2': \"def map_template(func, L=[1, 2, 3]):\\n    '''\\n    L의 모든 요소를 func()함수를 적용시켜 return\\n    [func(1) for 1 in L]\\n    '''\\n    result = []\\n    for l in L:\\n        result.append(func(L))\\n    return result\\n#    result = [func(1) for l in L]\",\n",
       " 'map_template': <function __main__.map_template(func, L=[])>,\n",
       " '_i3': 'list_data = [1, 2, 3, 4, 5, 6, 7, 8, 9, 10]\\ndef x_2(x):\\n    return x*2\\nmap_template(x_2, list_data)',\n",
       " 'list_data': [1, 2, 3, 4, 5],\n",
       " 'x_2': <function __main__.x_2(x)>,\n",
       " '_3': [[1, 2, 3, 4, 5, 6, 7, 8, 9, 10, 1, 2, 3, 4, 5, 6, 7, 8, 9, 10],\n",
       "  [1, 2, 3, 4, 5, 6, 7, 8, 9, 10, 1, 2, 3, 4, 5, 6, 7, 8, 9, 10],\n",
       "  [1, 2, 3, 4, 5, 6, 7, 8, 9, 10, 1, 2, 3, 4, 5, 6, 7, 8, 9, 10],\n",
       "  [1, 2, 3, 4, 5, 6, 7, 8, 9, 10, 1, 2, 3, 4, 5, 6, 7, 8, 9, 10],\n",
       "  [1, 2, 3, 4, 5, 6, 7, 8, 9, 10, 1, 2, 3, 4, 5, 6, 7, 8, 9, 10],\n",
       "  [1, 2, 3, 4, 5, 6, 7, 8, 9, 10, 1, 2, 3, 4, 5, 6, 7, 8, 9, 10],\n",
       "  [1, 2, 3, 4, 5, 6, 7, 8, 9, 10, 1, 2, 3, 4, 5, 6, 7, 8, 9, 10],\n",
       "  [1, 2, 3, 4, 5, 6, 7, 8, 9, 10, 1, 2, 3, 4, 5, 6, 7, 8, 9, 10],\n",
       "  [1, 2, 3, 4, 5, 6, 7, 8, 9, 10, 1, 2, 3, 4, 5, 6, 7, 8, 9, 10],\n",
       "  [1, 2, 3, 4, 5, 6, 7, 8, 9, 10, 1, 2, 3, 4, 5, 6, 7, 8, 9, 10]],\n",
       " '_i4': \"def map_template(func, L=[]):\\n    '''\\n    L의 모든 요소를 func()함수를 적용시켜 return\\n    '''\\n    result = []\\n    for l in L:\\n        result.append(func(l))\\n    return result\\n#    result = [func(1) for l in L]\",\n",
       " '_i5': 'list_data = [1, 2, 3, 4, 5, 6, 7, 8, 9, 10]\\ndef x_2(x):\\n    return x*2\\nmap_template(x_2, list_data)',\n",
       " '_5': [2, 4, 6, 8, 10, 12, 14, 16, 18, 20],\n",
       " '_i6': 'list_data = [1, 2, 3, 4, 5, 6, 7, 8, 9, 10]\\nmap_template(lambda x : x*2, list_data)\\n# def x_2(x):\\n#     return x*2\\n# map_template(x_2, list_data)',\n",
       " '_6': [2, 4, 6, 8, 10, 12, 14, 16, 18, 20],\n",
       " '_i7': '# 리스트 데이터를 가공하는 방법 1. map\\nlist_data = [1, 2, 3, 4, 5, 6, 7, 8, 9, 10]\\nmap_template(lambda x : x*2, list_data)\\n# def x_2(x):\\n#     return x*2\\n# map_template(x_2, list_data)',\n",
       " '_7': [2, 4, 6, 8, 10, 12, 14, 16, 18, 20],\n",
       " '_i8': '# 리스트 데이터를 가공하는 방법 2. 리스트 컴프리헨션\\n[l*2 for l in list_data]',\n",
       " '_8': [2, 4, 6, 8, 10, 12, 14, 16, 18, 20],\n",
       " '_i9': '# 리스트 데이터를 가공하는 방법 1. map_template\\nlist_data = [1, 2, 3, 4, 5, 6, 7, 8, 9, 10]\\nmap_template(lambda x : x*2, list_data)\\n# def x_2(x):\\n#     return x*2\\n# map_template(x_2, list_data)',\n",
       " '_9': [2, 4, 6, 8, 10, 12, 14, 16, 18, 20],\n",
       " '_i10': '# 리스트 데이터를 가공하는 방법 3. map():파이썬 내장함수\\nmap(lambda x : x*2, list_data)',\n",
       " '_10': <map at 0x1e387770430>,\n",
       " '_i11': '# 리스트 데이터를 가공하는 방법 3. map():파이썬 내장함수\\nlist(map(lambda x : x*2, list_data))',\n",
       " '_11': [2, 4, 6, 8, 10, 12, 14, 16, 18, 20],\n",
       " '_i12': \"for item in map(lambda x : x*2, list_data):\\n    print(item, end=' ')\",\n",
       " 'item': 20,\n",
       " '_i13': 'def func(x):\\n    return int(x.replace(\\',\\',\\'\\'))\\nfunc(\"5,000\"), func(\"1800\")',\n",
       " 'func': <function __main__.func(x)>,\n",
       " '_13': (5000, 1800),\n",
       " '_i14': \"map(lambda x : int(x.replace(',','')), prices))\",\n",
       " '_i15': \"map(lambda x : int(x.replace(',',''))), prices))\",\n",
       " '_i16': \"map(lambda x : int(x.replace(',','')), prices)\",\n",
       " '_i17': \"map(lambda x : int(x.replace(',','')), prices)\",\n",
       " '_i18': \"list(map(lambda x : int(x.replace(',','')), prices))\",\n",
       " '_i19': \"'''\\n예제 1. [5000,800,1000,6000]로 바꾸시오(map함수 사용)\\n'''\\nprices = ['5,000', '800', '1000', '6,000']\",\n",
       " 'prices': ['5,000', '800', '1000', '6,000'],\n",
       " '_i20': \"list(map(lambda x : int(x.replace(',','')), prices))\",\n",
       " '_20': [5000, 800, 1000, 6000],\n",
       " '_i21': 'split_date(\"2000-01-01\")',\n",
       " '_i22': \"# '2000-01-01' => {'year':1998, 'month':12, 'day':31}\\ndef split_date(date):\\n    split_date = date.split('-')\",\n",
       " 'split_date': <function __main__.split_date(date)>,\n",
       " '_i23': 'split_date(\"2000-01-01\")',\n",
       " '_i24': 'split_date(\"2000-01-01\")',\n",
       " '_i25': \"# '2000-01-01' => {'year':1998, 'month':12, 'day':31}\\ndef split_date(date):\\n    split_data = date.split('-')\",\n",
       " '_i26': 'split_date(\"2000-01-01\")',\n",
       " '_i27': \"# '2000-01-01' => {'year':1998, 'month':12, 'day':31}\\ndef split_date(date):\\n    split_data = date.split('-')\\n    print(split_data[0], split_data[1], split_data[2])\\n    return {'year': int(split_data[0]),\\n           'month': int(split_data[1]),\\n           'day': int(split_data[2])}\",\n",
       " '_i28': 'split_date(\"2000-01-01\")',\n",
       " '_28': {'year': 2000, 'month': 1, 'day': 1},\n",
       " '_i29': \"# '2000-01-01' => {'year':1998, 'month':12, 'day':31}\\ndef split_date(date):\\n    split_data = date.split('-')\\n    print(split_data[0], split_data[1], split_data[2])\\n    return {'year': int(split_data[0]),\\n           'month': int(split_data[1]),\\n           'day': int(split_data[2])})\",\n",
       " '_i30': \"# '2000-01-01' => {'year':1998, 'month':12, 'day':31}\\ndef split_date(date):\\n    split_data = date.split('-')\\n    print(split_data[0], split_data[1], split_data[2])\\n    return {'year': int(split_data[0]),\\n           'month': int(split_data[1]),\\n           'day': int(split_data[2])}\",\n",
       " '_i31': 'split_date(\"2000-01-01\")',\n",
       " '_31': {'year': 2000, 'month': 1, 'day': 1},\n",
       " '_i32': \"# '2000-01-01' => {'year':1998, 'month':12, 'day':31}\\ndef split_date(date):\\n    split_data = date.split('-')\\n#     print(split_data[0], split_data[1], split_data[2])\\n    print(split_data[0], split_data[1], split_data[2])\\n    return {'year': int(split_data[0]),\\n           'month': int(split_data[1]),\\n           'day': int(split_data[2])}\",\n",
       " '_i33': \"# '2000-01-01' => {'year':1998, 'month':12, 'day':31}\\ndef split_date(date):\\n    split_data = date.split('-')\\n#     print(split_data[0], split_data[1], split_data[2])\\n    print(split_data[0], split_data[1], split_data[2])\\n    return {'year': int(split_data[0]),\\n           'month': int(split_data[1]),\\n           'day': int(split_data[2])\\n           }\",\n",
       " '_i34': 'split_date(\"2000-01-01\")',\n",
       " '_34': {'year': 2000, 'month': 1, 'day': 1},\n",
       " '_i35': \"# '2000-01-01' => {'year':1998, 'month':12, 'day':31}\\ndef split_date(date):\\n    split_data = date.split('-')\\n#    print(split_data[0], split_data[1], split_data[2])\\n    return {'year': int(split_data[0]),\\n           'month': int(split_data[1]),\\n           'day': int(split_data[2])\\n           }\",\n",
       " '_i36': 'split_date(\"2000-01-01\")',\n",
       " '_36': {'year': 2000, 'month': 1, 'day': 1},\n",
       " '_i37': \"def member_func(menber): #{'name':'홍길동', 'birth':'2000-01-01'}\\n    '{'name':'신길동', 'year':1998, 'month':12, 'day':31}식으로 return'\\n    return {\\n        'name': menber.get('name'),\\n        'year': int(member['birth'].split('-')[0])\\n    }\",\n",
       " '_i38': \"def member_func(menber): #{'name':'홍길동', 'birth':'2000-01-01'}\\n    '{'name':'신길동', 'year':1998, 'month':12, 'day':31}식으로 return'\\n    return {\\n        'name': menber.get('name'),\\n        'year': int(member['birth'].split('-')[0])\\n    }\",\n",
       " '_i39': \"def member_func(menber): #{'name':'홍길동', 'birth':'2000-01-01'}\\n    '{'name':'신길동', 'year':1998, 'month':12, 'day':31}식으로 return'\\n    return {\\n        'name': menber.get('name'),\\n        'year': int(member['birth'].split('-')[0])\\n    }\",\n",
       " '_i40': 'def member_func(menber): #{\\'name\\':\\'홍길동\\', \\'birth\\':\\'2000-01-01\\'}\\n    \"{\\'name\\':\\'신길동\\', \\'year\\':1998, \\'month\\':12, \\'day\\':31}식으로 return\"\\n    return {\\n        \\'name\\': menber.get(\\'name\\'),\\n        \\'year\\': int(member[\\'birth\\'].split(\\'-\\')[0])\\n    }',\n",
       " 'member_func': <function __main__.member_func(member)>,\n",
       " '_i41': 'def member_func(menber): #{\\'name\\':\\'홍길동\\', \\'birth\\':\\'2000-01-01\\'}\\n    \"{\\'name\\':\\'신길동\\', \\'year\\':1998, \\'month\\':12, \\'day\\':31}식으로 return\"\\n    return {\\n        \\'name\\': menber.get(\\'name\\'),\\n        \\'year\\': int(member[\\'birth\\'].split(\\'-\\')[0]),\\n        \\'month\\': int(member[\\'birth\\'].split(\\'-\\')[1])\\n        \\'day\\': int(member[\\'birth\\'].split(\\'-\\')[2])\\n    }',\n",
       " '_i42': 'def member_func(menber): #{\\'name\\':\\'홍길동\\', \\'birth\\':\\'2000-01-01\\'}\\n    \"{\\'name\\':\\'신길동\\', \\'year\\':1998, \\'month\\':12, \\'day\\':31}식으로 return\"\\n    return {\\n        \\'name\\': menber.get(\\'name\\'),\\n        \\'year\\': int(member[\\'birth\\'].split(\\'-\\')[0]),\\n        \\'month\\': int(member[\\'birth\\'].split(\\'-\\')[1]),\\n        \\'day\\': int(member[\\'birth\\'].split(\\'-\\')[2]),\\n    }',\n",
       " '_i43': \"'''\\n예제 2. member1=[{'name':'홍길동', 'birth':'2000-01-01'},\\n                {'name':'신길동', 'birth':'1998-12-31'},]를\\n        member2=[{'name':'홍길동', 'year':2000, 'month':1, 'day':1},\\n                 {'name':'신길동', 'year':1998, 'month':12, 'day':31},]를 바꿉니다.\\n'''\\nmember1=[{'name':'홍길동', 'birth':'2000-01-01'},\\n         {'name':'신길동', 'birth':'1998-12-31'},]\",\n",
       " 'member1': [{'name': '홍길동', 'birth': '2000-01-01'},\n",
       "  {'name': '신길동', 'birth': '1998-12-31'}],\n",
       " '_i44': 'def member_func(menber): #{\\'name\\':\\'홍길동\\', \\'birth\\':\\'2000-01-01\\'}\\n    \"{\\'name\\':\\'신길동\\', \\'year\\':1998, \\'month\\':12, \\'day\\':31}식으로 return\"\\n    return {\\n        \\'name\\': menber.get(\\'name\\'),\\n        \\'year\\': int(member[\\'birth\\'].split(\\'-\\')[0]),\\n        \\'month\\': int(member[\\'birth\\'].split(\\'-\\')[1]),\\n        \\'day\\': int(member[\\'birth\\'].split(\\'-\\')[2]),\\n    }\\nmember_func(member1[0])',\n",
       " '_i45': \"'''\\n예제 2. member1=[{'name':'홍길동', 'birth':'2000-01-01'},\\n                {'name':'신길동', 'birth':'1998-12-31'},]를\\n        member2=[{'name':'홍길동', 'year':2000, 'month':1, 'day':1},\\n                 {'name':'신길동', 'year':1998, 'month':12, 'day':31},]를 바꿉니다.\\n'''\\nmember1=[{'name':'홍길동', 'birth':'2000-01-01'},\\n         {'name':'신길동', 'birth':'1998-12-31'},]\",\n",
       " '_i46': 'def member_func(menber): #{\\'name\\':\\'홍길동\\', \\'birth\\':\\'2000-01-01\\'}\\n    \"{\\'name\\':\\'신길동\\', \\'year\\':1998, \\'month\\':12, \\'day\\':31}식으로 return\"\\n    return {\\n        \\'name\\': menber.get(\\'name\\'),\\n        \\'year\\': int(member[\\'birth\\'].split(\\'-\\')[0]),\\n        \\'month\\': int(member[\\'birth\\'].split(\\'-\\')[1]),\\n        \\'day\\': int(member[\\'birth\\'].split(\\'-\\')[2]),\\n    }\\nmember_func(member1[0])',\n",
       " '_i47': 'def member_func(menber): #{\\'name\\':\\'홍길동\\', \\'birth\\':\\'2000-01-01\\'}\\n    \"{\\'name\\':\\'신길동\\', \\'year\\':1998, \\'month\\':12, \\'day\\':31}식으로 return\"\\n    return {\\n        \\'name\\': menber.get(\\'name\\'),\\n        \\'year\\': int(member[\\'birth\\'].split(\\'-\\')[0]),\\n        \\'month\\': int(member[\\'birth\\'].split(\\'-\\')[1]),\\n        \\'day\\': int(member[\\'birth\\'].split(\\'-\\')[2]),\\n    }\\nmember_func(member1[0])',\n",
       " '_i48': \"# '2000-01-01' => {'year':1998, 'month':12, 'day':31}\\ndef split_date(date):\\n    split_data = date.split('-')\\n#    print(split_data[0], split_data[1], split_data[2])\\n    return {'year': int(split_data[0]),\\n           'month': int(split_data[1]),\\n           'day': int(split_data[2])\\n           }\",\n",
       " '_i49': \"'''\\n예제 2. member1=[{'name':'홍길동', 'birth':'2000-01-01'},\\n                {'name':'신길동', 'birth':'1998-12-31'},]를\\n        member2=[{'name':'홍길동', 'year':2000, 'month':1, 'day':1},\\n                 {'name':'신길동', 'year':1998, 'month':12, 'day':31},]를 바꿉니다.\\n'''\\nmember1=[{'name':'홍길동', 'birth':'2000-01-01'},\\n         {'name':'신길동', 'birth':'1998-12-31'},]\",\n",
       " '_i50': \"# '2000-01-01' => {'year':1998, 'month':12, 'day':31}\\ndef split_date(date):\\n    split_data = date.split('-')\\n#    print(split_data[0], split_data[1], split_data[2])\\n    return {'year': int(split_data[0]),\\n           'month': int(split_data[1]),\\n           'day': int(split_data[2])\\n           }\",\n",
       " '_i51': 'split_date(\"2000-01-01\")',\n",
       " '_51': {'year': 2000, 'month': 1, 'day': 1},\n",
       " '_i52': 'def member_func(menber): #{\\'name\\':\\'홍길동\\', \\'birth\\':\\'2000-01-01\\'}\\n    \"{\\'name\\':\\'신길동\\', \\'year\\':1998, \\'month\\':12, \\'day\\':31}식으로 return\"\\n    return {\\n        \\'name\\': menber.get(\\'name\\'),\\n        \\'year\\': int(member[\\'birth\\'].split(\\'-\\')[0]),\\n        \\'month\\': int(member[\\'birth\\'].split(\\'-\\')[1]),\\n        \\'day\\': int(member[\\'birth\\'].split(\\'-\\')[2]),\\n    }\\nmember_func(member1[0])',\n",
       " '_i53': \"member2 =list(map(lambda member : {\\n                        'name': menber.get('name'),\\n                        'year': int(member['birth'].split('-')[0]),\\n                        'month': int(member['birth'].split('-')[1]),\\n                        'day': int(member['birth'].split('-')[2]),\\n                        } ,\\n        member1\\n        )\\n    )\\nmember2\",\n",
       " '_i54': 'def member_func(member): #{\\'name\\':\\'홍길동\\', \\'birth\\':\\'2000-01-01\\'}\\n    \"{\\'name\\':\\'신길동\\', \\'year\\':1998, \\'month\\':12, \\'day\\':31}식으로 return\"\\n    return {\\n        \\'name\\': member.get(\\'name\\'),\\n        \\'year\\': int(member[\\'birth\\'].split(\\'-\\')[0]),\\n        \\'month\\': int(member[\\'birth\\'].split(\\'-\\')[1]),\\n        \\'day\\': int(member[\\'birth\\'].split(\\'-\\')[2]),\\n    }\\nmember_func(member1[0])',\n",
       " '_54': {'name': '홍길동', 'year': 2000, 'month': 1, 'day': 1},\n",
       " '_i55': \"member2 =list(map(lambda member : {\\n                        'name': menber.get('name'),\\n                        'year': int(member['birth'].split('-')[0]),\\n                        'month': int(member['birth'].split('-')[1]),\\n                        'day': int(member['birth'].split('-')[2]),\\n                        } ,\\n        member1\\n        )\\n    )\\nmember2\",\n",
       " '_i56': \"member2 =list(map(lambda member : {\\n                        'name': member.get('name'),\\n                        'year': int(member['birth'].split('-')[0]),\\n                        'month': int(member['birth'].split('-')[1]),\\n                        'day': int(member['birth'].split('-')[2]),\\n                        } ,\\n        member1\\n        )\\n    )\\nmember2\",\n",
       " 'member2': [{'name': '홍길동', 'year': 2000, 'month': 1, 'day': 1},\n",
       "  {'name': '신길동', 'year': 1998, 'month': 12, 'day': 31}],\n",
       " '_56': [{'name': '홍길동', 'year': 2000, 'month': 1, 'day': 1},\n",
       "  {'name': '신길동', 'year': 1998, 'month': 12, 'day': 31}],\n",
       " '_i57': \"join_date({'year':2000, 'month': 1, 'day': 1})\",\n",
       " '_i58': '#{\\'year\\': 2000, \\'month\\':1, \\'day\\':1} => \"2000-01-01\"를 return하는 함수\\ndef join_date(data):\\n    print(data)',\n",
       " 'join_date': <function __main__.join_date(data)>,\n",
       " '_i59': \"join_date({'year':2000, 'month': 1, 'day': 1})\",\n",
       " '_i60': '#{\\'year\\': 2000, \\'month\\':1, \\'day\\':1} => \"2000-01-01\"를 return하는 함수\\ndef join_date(data):\\n    print(data)',\n",
       " '_i61': '#{\\'year\\': 2000, \\'month\\':1, \\'day\\':1} => \"2000-01-01\"를 return하는 함수\\ndef join_date(data):\\n    print(data.get(\\'year\\'), data.get(\\'month\\'), data.get(\\'day\\'))',\n",
       " '_i62': \"join_date({'year':2000, 'month': 1, 'day': 1})\",\n",
       " '_i63': '#{\\'year\\': 2000, \\'month\\':1, \\'day\\':1} => \"2000-01-01\"를 return하는 함수\\ndef join_date(data):\\n    print([data.get(\\'year\\'), data.get(\\'month\\'), data.get(\\'day\\')])\\n    return \\'-\\'.join([data.get(\\'year\\'), data.get(\\'month\\'), data.get(\\'day\\')])',\n",
       " '_i64': \"join_date({'year':2000, 'month': 1, 'day': 1})\",\n",
       " '_i65': '#{\\'year\\': 2000, \\'month\\':1, \\'day\\':1} => \"2000-01-01\"를 return하는 함수\\ndef join_date(data):\\n    print([data.get(\\'year\\'), data.get(\\'month\\'), data.get(\\'day\\')])\\n    year = str(data.get(\\'year\\'))\\n    return \\'-\\'.join([year, data.get(\\'year\\'), data.get(\\'month\\'), data.get(\\'day\\')])',\n",
       " '_i66': \"join_date({'year':2000, 'month': 1, 'day': 1})\",\n",
       " '_i67': '#{\\'year\\': 2000, \\'month\\':1, \\'day\\':1} => \"2000-01-01\"를 return하는 함수\\ndef join_date(data):\\n    print([data.get(\\'year\\'), data.get(\\'month\\'), data.get(\\'day\\')])\\n    year = str(data.get(\\'year\\'))\\n    month = str(data.get(\\'month\\'))\\n    return \\'-\\'.join([year, data.get(\\'year\\'), data.get(\\'month\\'), data.get(\\'day\\')])',\n",
       " '_i68': \"join_date({'year':2000, 'month': 1, 'day': 1})\",\n",
       " '_i69': '#{\\'year\\': 2000, \\'month\\':1, \\'day\\':1} => \"2000-01-01\"를 return하는 함수\\ndef join_date(data):\\n    print([data.get(\\'year\\'), data.get(\\'month\\'), data.get(\\'day\\')])\\n    year = str(data.get(\\'year\\'))\\n    month = data.get(\\'month\\')\\n    \\n    return \\'-\\'.join([year, data.get(\\'year\\'), data.get(\\'month\\'), data.get(\\'day\\')])',\n",
       " '_i70': '#{\\'year\\': 2000, \\'month\\':1, \\'day\\':1} => \"2000-01-01\"를 return하는 함수\\ndef join_date(data):\\n    print([data.get(\\'year\\'), data.get(\\'month\\'), data.get(\\'day\\')])\\n    year = str(data.get(\\'year\\'))\\n    month = data.get(\\'month\\')\\n    if month < 10:\\n        month = \\'0\\'+str(month)\\n    else:\\n        month = str(month)\\n    day = data.get(\\'day\\')\\n    if month < 10:\\n        month = \\'0\\'+str(day)\\n    else:\\n        month = str(month)    \\n    return \\'-\\'.join([year, data.get(\\'year\\'), data.get(\\'month\\'), data.get(\\'day\\')])',\n",
       " '_i71': \"join_date({'year':2000, 'month': 1, 'day': 1})\",\n",
       " '_i72': '#{\\'year\\': 2000, \\'month\\':1, \\'day\\':1} => \"2000-01-01\"를 return하는 함수\\ndef join_date(data):\\n    #print([data.get(\\'year\\'), data.get(\\'month\\'), data.get(\\'day\\')])\\n    year = str(data.get(\\'year\\'))\\n    month = data.get(\\'month\\')\\n    if month < 10:\\n        month = \\'0\\'+str(month)\\n    else:\\n        month = str(month)\\n    day = data.get(\\'day\\')\\n    if month < 10:\\n        month = \\'0\\'+str(day)\\n    else:\\n        month = str(month)    \\n    return \\'-\\'.join([year, data.get(\\'year\\'), data.get(\\'month\\'), data.get(\\'day\\')])',\n",
       " '_i73': \"join_date({'year':2000, 'month': 1, 'day': 1})\",\n",
       " '_i74': '#{\\'year\\': 2000, \\'month\\':1, \\'day\\':1} => \"2000-01-01\"를 return하는 함수\\ndef join_date(data):\\n    #print([data.get(\\'year\\'), data.get(\\'month\\'), data.get(\\'day\\')])\\n    year = str(data.get(\\'year\\'))\\n    month = data.get(\\'month\\')\\n    if month < 10:\\n        month = \\'0\\'+str(month)\\n    else:\\n        month = str(month)\\n    day = data.get(\\'day\\')\\n    if day < 10:\\n        day = \\'0\\'+str(day)\\n    else:\\n        day = str(month)    \\n    return \\'-\\'.join([year, data.get(\\'year\\'), data.get(\\'month\\'), data.get(\\'day\\')])',\n",
       " '_i75': '#{\\'year\\': 2000, \\'month\\':1, \\'day\\':1} => \"2000-01-01\"를 return하는 함수\\ndef join_date(data):\\n    #print([data.get(\\'year\\'), data.get(\\'month\\'), data.get(\\'day\\')])\\n    year = str(data.get(\\'year\\'))\\n    month = data.get(\\'month\\')\\n    if month < 10:\\n        month = \\'0\\'+str(month)\\n    else:\\n        month = str(month)\\n    day = data.get(\\'day\\')\\n    if day < 10:\\n        day = \\'0\\'+str(day)\\n    else:\\n        day = str(month)    \\n    return \\'-\\'.join([year, data.get(\\'year\\'), data.get(\\'month\\'), data.get(\\'day\\')])',\n",
       " '_i76': \"join_date({'year':2000, 'month': 1, 'day': 1})\",\n",
       " '_i77': '# {\\'year\\': 2000, \\'month\\': 1, \\'day\\': 1} => \"2000-01-01\"를 return하는 함수\\ndef join_date(data):\\n    # print([data.get(\\'year\\'), data.get(\\'month\\'), data.get(\\'day\\')])\\n    year = str(data.get(\\'year\\'))\\n    month = data.get(\\'month\\')\\n    if month < 10:\\n        month = \\'0\\'+str(month)\\n    else:\\n        month = str(month)\\n    day = data.get(\\'day\\')\\n    if day < 10:\\n        day = \\'0\\'+str(day)\\n    else:\\n        day = str(day)\\n    return \\'-\\'.join([year, month, day])',\n",
       " '_i78': \"join_date({'year': 2000, 'month': 1, 'day': 1})\",\n",
       " '_78': '2000-01-01',\n",
       " '_i79': 'def join_date(data):\\n    print(\"{}-{:02}={:02}\".format(data.get(\\'year\\'),\\n                                  data.get(\\'month\\'),\\n                                  data.get(\\'day\\')))',\n",
       " '_i80': 'def join_date(data):\\n    print(\"{year}-{month:02}={day:02}\".format(\\n                                  year = data.get(\\'year\\'),\\n                                  month = data.get(\\'month\\'),\\n                                  day= data.get(\\'day\\')))',\n",
       " '_i81': 'def join_date(data):\\n    return \"{year}-{month:02}-{day:02}\".format(**data)',\n",
       " '_i82': '# {\\'name\\':\\'홍길동\\', \\'year\\':2000, \\'month\\':1, \\'day\\':1}(member2)를\\n# {\\'name\\':\\'홍길동\\', \\'birth\\':\\'2000-01-01\\'}으로 가공\\nlist(map(lambda member : {\\n        \\'name\\' : member.get(\\'name\\'),\\n        \\'birth\\' : \"{year}-{month:02}-{day:02}\".format(**data)\\n        },\\n    member2\\n))',\n",
       " '_i83': '# {\\'name\\':\\'홍길동\\', \\'year\\':2000, \\'month\\':1, \\'day\\':1}(member2)를\\n# {\\'name\\':\\'홍길동\\', \\'birth\\':\\'2000-01-01\\'}으로 가공\\nlist(map(lambda member : {\\n                        \\'name\\' : member.get(\\'name\\'),\\n                        \\'birth\\' : \"{year}-{month:02}-{day:02}\".format(**data)\\n                        },\\n    member2\\n))',\n",
       " '_i84': '# {\\'name\\':\\'홍길동\\', \\'year\\':2000, \\'month\\':1, \\'day\\':1}(member2)를\\n# {\\'name\\':\\'홍길동\\', \\'birth\\':\\'2000-01-01\\'}으로 가공\\nlist(map(lambda member : {\\n                        \\'name\\' : member.get(\\'name\\'),\\n                        \\'birth\\' : \"{year}-{month:02}-{day:02}\".format(**member)\\n                        },\\n    member2\\n))',\n",
       " '_84': [{'name': '홍길동', 'birth': '2000-01-01'},\n",
       "  {'name': '신길동', 'birth': '1998-12-31'}],\n",
       " '_i85': 'def filter_template(func, L=[]):\\n    result = []\\n    for l in L :\\n        if func(l):\\n            result.append(l)\\n    return result',\n",
       " 'filter_template': <function __main__.filter_template(func, L=[])>,\n",
       " '_i86': 'def evenChk(value):\\n    return value%2==0\\nevenChk(10), evenChk(-9)',\n",
       " 'evenChk': <function __main__.evenChk(value)>,\n",
       " '_86': (True, False),\n",
       " '_i87': 'list_data = [1, 2, 3, 4, 5]\\nfilter_template(lambda value : value%2==0 , )',\n",
       " '_87': [],\n",
       " '_i88': 'list_data = [1, 2, 3, 4, 5]\\nfilter_template(lambda value : value%2==0 , list_data)',\n",
       " '_88': [2, 4],\n",
       " '_i89': 'list(filter(lambda value : value%2==0, list_data))',\n",
       " '_89': [2, 4],\n",
       " '_i90': 'list(filter(lambda value : value%2==0, list_data))',\n",
       " '_90': [2, 4],\n",
       " '_i91': '[for data in list_data if data%2==0]',\n",
       " '_i92': '[data for data in list_data if data%2==0]',\n",
       " '_92': [2, 4],\n",
       " '_i93': 'P = [9, 2, 7]\\nP.sort(reverse=True)\\nP',\n",
       " 'P': [9, 7, 2],\n",
       " '_93': [9, 7, 2],\n",
       " '_i94': 'number2d = [[9, 9],\\n           [1, 100],\\n           [10, 1]]\\nnumber2d.sort()\\nnumber2d',\n",
       " 'number2d': [[1, 100], [9, 9, 9, 9, 9, 9, 9, 9], [10, 1]],\n",
       " '_94': [[1, 100], [9, 9], [10, 1]],\n",
       " '_i95': '# 무조껀 0번 item기준으로 정렬\\nnumber2d = [[9, 9],\\n           [1, 100],\\n           [10, 1]]\\nnumber2d.sort(reverse=True)\\nnumber2d',\n",
       " '_95': [[10, 1], [9, 9], [1, 100]],\n",
       " '_i96': '# 무조껀 0번 item기준으로 정렬\\nnumber2d = [[9, 9, 9, 9, 9, 9, 9, 9],\\n           [1, 100],\\n           [10, 1]]\\nnumber2d.sort(reverse=True)\\nnumber2d',\n",
       " '_96': [[1, 100], [9, 9, 9, 9, 9, 9, 9, 9], [10, 1]],\n",
       " '_i97': \"pairs = [(2, 'two'), (1, 'one'), (4, 'four'), (3, 'three')]\\npairs.sort()\\npairs\",\n",
       " 'pairs': [(4, 'four'), (1, 'one'), (3, 'three'), (2, 'two')],\n",
       " '_97': [(1, 'one'), (2, 'two'), (3, 'three'), (4, 'four')],\n",
       " '_i98': \"# 무조껀 0번째 item 기준으로 정렬\\npairs = [(2, 'two'), (1, 'one'), (4, 'four'), (3, 'three')]\\npairs.sort()\\npairs\",\n",
       " '_98': [(4, 'four'), (1, 'one'), (3, 'three'), (2, 'two')],\n",
       " '_i99': '# 1번째 item 기준으로 정렬(abc순)\\npairs.sort(key=lambda pair : pair[1])\\npairs',\n",
       " '_99': [(4, 'four'), (1, 'one'), (3, 'three'), (2, 'two')],\n",
       " '_i100': '(lambda item : sum(item))([1,2,3,])',\n",
       " '_100': 6,\n",
       " '_i101': '# 합이 큰 순으로 정렬\\nnumber2d.sort(key = lambda item : sum(item))',\n",
       " '_i102': '# 합이 큰 순으로 정렬\\nnumber2d.sort(key = lambda item : sum(item))\\nnumber2d',\n",
       " '_102': [[1, 100], [9, 9, 9, 9, 9, 9, 9, 9], [10, 1]],\n",
       " '_i103': '# 합이 큰 순으로 정렬\\nnumber2d.sort(key = lambda item : sum(item)), reverse=true\\nnumber2d',\n",
       " '_i104': '# 합이 큰 순으로 정렬\\nnumber2d.sort(key = lambda item : sum(item)), reverse = true\\nnumber2d',\n",
       " '_i105': '# 합이 큰 순으로 정렬\\nnumber2d.sort(key = lambda item : sum(item)), reverse = True\\nnumber2d',\n",
       " '_i106': '# 합이 큰 순으로 정렬\\nnumber2d.sort(key = lambda item : sum(item), reverse = True)\\nnumber2d',\n",
       " '_106': [[1, 100], [9, 9, 9, 9, 9, 9, 9, 9], [10, 1]],\n",
       " '_i107': 'def add(x, y=5):\\n    return key+reverse',\n",
       " 'add': <function __main__.add(x, y=5)>,\n",
       " '_i108': 'add(reverse=10, key=7)',\n",
       " '_i109': \"students = [\\n    {'name':'홍길동', 'score':90},\\n    {'name':'김길동', 'score':50},\\n    {'name':'윤길동', 'score':99},\\n]\",\n",
       " 'students': [{'score': 100},\n",
       "  {'name': '윤길동', 'score': 99},\n",
       "  {'name': '홍길동', 'score': 90},\n",
       "  {'name': '김길동', 'score': 50}],\n",
       " '_i110': 'students.sort()\\nstudents',\n",
       " '_i111': '# 이름순으로 정렬(ㄱㄴㄷ순)\\nstudents.sort()\\nstudents',\n",
       " '_i112': '# 이름순으로 정렬(ㄱㄴㄷ순)\\nstudents.sort()\\nstudents',\n",
       " '_i113': '# 이름순으로 정렬(ㄱㄴㄷ순)\\nstudents.sort(key=lambda pair : pair[1])\\nstudents',\n",
       " '_i114': '# 이름순으로 정렬(ㄱㄴㄷ순)\\nstudents.sort(key=lambda pair : pair[name])\\nstudents',\n",
       " '_i115': \"# 이름순으로 정렬(ㄱㄴㄷ순)\\nstudents.sort(key=lambda item : item['name'])\\nstudents\",\n",
       " '_115': [{'name': '김길동', 'score': 50},\n",
       "  {'name': '윤길동', 'score': 99},\n",
       "  {'name': '홍길동', 'score': 90}],\n",
       " '_i116': \"students = [\\n    {'name':'홍길동', 'score':90},\\n    {'name':'김길동', 'score':50},\\n    {'name':'윤길동', 'score':99},\\n    {'score':100}\\n]\",\n",
       " '_i117': \"# 이름순으로 정렬(ㄱㄴㄷ순)\\nstudents.sort(key=lambda item : item['name'])\\nstudents\",\n",
       " '_i118': \"# 이름순으로 정렬(ㄱㄴㄷ순)\\nstudents.sort(key=lambda item : item.get['name'])\\nstudents\",\n",
       " '_i119': \"# 이름순으로 정렬(ㄱㄴㄷ순)\\nstudents.sort(key=lambda item : item.get('name'))\\nstudents\",\n",
       " '_i120': \"# 이름순으로 정렬(ㄱㄴㄷ순)\\nstudents.sort(key=lambda item : item.get('name','힣'))\\nstudents\",\n",
       " '_120': [{'score': 100},\n",
       "  {'name': '윤길동', 'score': 99},\n",
       "  {'name': '홍길동', 'score': 90},\n",
       "  {'name': '김길동', 'score': 50}],\n",
       " '_i121': \"# 이름순으로 정렬(ㄱㄴㄷ순)\\nstudents.sort(key=lambda item : item.get('name','가'))\\nstudents\",\n",
       " '_121': [{'score': 100},\n",
       "  {'name': '윤길동', 'score': 99},\n",
       "  {'name': '홍길동', 'score': 90},\n",
       "  {'name': '김길동', 'score': 50}],\n",
       " '_i122': \"# score순으로 정렬(내림차순 정렬)\\nstudents.sort(key=lambda item : item.get('score', 0), reverse=True)  \\nstudents\",\n",
       " '_122': [{'score': 100},\n",
       "  {'name': '윤길동', 'score': 99},\n",
       "  {'name': '홍길동', 'score': 90},\n",
       "  {'name': '김길동', 'score': 50}],\n",
       " '_i123': \"# 책제목순 정렬(ㄱㄴㄷ순), 저자순 정렬(ㄱㄴㄷ순), 가격순 정렬\\nbooks =[\\n    {'no':1, 'title':'강남 아파트 인사이트', 'writer':'오스톨', 'price':'25,200'},\\n    {'no':2, 'title':'한 한번의 삶', 'writer':'김영하', 'price':'18,100'},\\n    {'no':3, 'title':'흔한남매 19', 'writer':'백난도', 'price':'14,220'},\\n    {'no':4, 'title':'가격이잘못', 'writer':'홍길동', 'price':'-'},\\n    {'no':5, 'title':'가격이숫자', 'writer':'신길동', 'price':900},\\n    {'no':6, 'title':'가격이없음', 'writer':'김길동'},\\n]\",\n",
       " 'books': [{'no': 1,\n",
       "   'title': '강남 아파트 인사이트',\n",
       "   'writer': '오스톨',\n",
       "   'price': '25,200'},\n",
       "  {'no': 2, 'title': '한 한번의 삶', 'writer': '김영하', 'price': '18,100'},\n",
       "  {'no': 3, 'title': '흔한남매 19', 'writer': '백난도', 'price': '14,220'},\n",
       "  {'no': 4, 'title': '가격이잘못', 'writer': '홍길동', 'price': '-'},\n",
       "  {'no': 5, 'title': '가격이숫자', 'writer': '신길동', 'price': 900},\n",
       "  {'no': 6, 'title': '가격이없음', 'writer': '김길동'}],\n",
       " '_i124': \"books.sort(key=lambda book : book.get('title'))\\nbooks\",\n",
       " '_124': [{'no': 6, 'title': '가격이없음', 'writer': '김길동'},\n",
       "  {'no': 2, 'title': '한 한번의 삶', 'writer': '김영하', 'price': '18,100'},\n",
       "  {'no': 3, 'title': '흔한남매 19', 'writer': '백난도', 'price': '14,220'},\n",
       "  {'no': 5, 'title': '가격이숫자', 'writer': '신길동', 'price': 900},\n",
       "  {'no': 1, 'title': '강남 아파트 인사이트', 'writer': '오스톨', 'price': '25,200'},\n",
       "  {'no': 4, 'title': '가격이잘못', 'writer': '홍길동', 'price': '-'}],\n",
       " '_i125': \"books.sort(key=lambda book : book.get('writer'))\\nbooks\",\n",
       " '_125': [{'no': 6, 'title': '가격이없음', 'writer': '김길동'},\n",
       "  {'no': 2, 'title': '한 한번의 삶', 'writer': '김영하', 'price': '18,100'},\n",
       "  {'no': 3, 'title': '흔한남매 19', 'writer': '백난도', 'price': '14,220'},\n",
       "  {'no': 5, 'title': '가격이숫자', 'writer': '신길동', 'price': 900},\n",
       "  {'no': 1, 'title': '강남 아파트 인사이트', 'writer': '오스톨', 'price': '25,200'},\n",
       "  {'no': 4, 'title': '가격이잘못', 'writer': '홍길동', 'price': '-'}],\n",
       " '_i126': \"# 가격순 정렬은 위의 작업방식과 다르다.\\n# 숫자로 잘못된 것들도 있고, 문자로 구현된 것들도 있음.\\n# 따라서 sort문, 문자인지 숫자인지를 구분하는 작업이 추가로 필요하다.\\nbooks.sort(key=lambda book : book.get('price'.0))\\nbooks\",\n",
       " '_i127': \"# 가격순 정렬은 위의 작업방식과 다르다.\\n# 숫자로 잘못된 것들도 있고, 문자로 구현된 것들도 있음.\\n# 따라서 sort문, 문자인지 숫자인지를 구분하는 작업이 추가로 필요하다.\\nbooks.sort(key=lambda book : book.get('price',0))\\nbooks\",\n",
       " '_i128': \"# 가격순 정렬은 위의 작업방식과 다르다.\\n# 숫자로 잘못된 것들도 있고, 문자로 구현된 것들도 있음.\\n# 따라서 sort문, 문자인지 숫자인지를 구분하는 작업이 추가로 필요하다.\\nbooks.sort(key=lambda book : book.get('price',0))\\nbooks\\n#해당 방식은 숫자와 문자를 동시에 사용하려 하니 에러가 발생하는 것이다.\",\n",
       " '_i129': \"#'14,000' -> 14000 / 800 -> 800 / '-' -> 0\\n#조건식을 만들기 어렵다면 일단 함수를 만들고, 람다식으로 만드는 방법이 추천된다.\\ndef parse_int(price):\\n    print(type(price))\",\n",
       " 'parse_int': <function __main__.parse_int(book)>,\n",
       " '_i130': 'parse_int(800)',\n",
       " '_i131': 'parse_int(800)\\n#int 타입이면 빼거나 조정하는 작업이 필요하다.',\n",
       " '_i132': \"#'14,000' -> 14000 / 800 -> 800 / '-' -> 0  #조건이 3가지가 필요하다.\\n#조건식을 만들기 어렵다면 일단 함수를 만들고, 람다식으로 만드는 방법이 추천된다.\\ndef parse_int(price):\\n    #print(type(price))\\n    if isinstance(price, int):\\n        return price\",\n",
       " '_i133': 'parse_int(800)\\n#int 타입이면 빼거나 조정하는 작업이 필요하다.',\n",
       " '_133': 800,\n",
       " '_i134': \"#'14,000' -> 14000 / 800 -> 800 / '-' -> 0  #조건이 3가지가 필요하다.\\n#조건식을 만들기 어렵다면 일단 함수를 만들고, 람다식으로 만드는 방법이 추천된다.\\ndef parse_int(price):\\n    #print(type(price))\\n    if isinstance(prics, str) and price.replace(',','').isdigit():\\n        #↑ 해당 함수는 어떤 값이 특정 자료형인지를 확인할 때 사용되는 함수임.\\n        # isinstance(값, 자료형) #결과는 True 또는 False로 출력됨.\\n        return int(price,replace(',', ''))\\n    elif isinstance(price, int):\\n        return price\",\n",
       " '_i135': 'parse_int(800)',\n",
       " '_i136': \"#'14,000' -> 14000 / 800 -> 800 / '-' -> 0  #조건이 3가지가 필요하다.\\n#조건식을 만들기 어렵다면 일단 함수를 만들고, 람다식으로 만드는 방법이 추천된다.\\ndef parse_int(price):\\n    #print(type(price))\\n    if isinstance(prices, str) and price.replace(',','').isdigit():\\n        #↑ 해당 함수는 어떤 값이 특정 자료형인지를 확인할 때 사용되는 함수임.\\n        # isinstance(값, 자료형) #결과는 True 또는 False로 출력됨.\\n        return int(price,replace(',', ''))\\n    elif isinstance(price, int):\\n        return price\",\n",
       " '_i137': \"#'14,000' -> 14000 / 800 -> 800 / '-' -> 0  #조건이 3가지가 필요하다.\\n#조건식을 만들기 어렵다면 일단 함수를 만들고, 람다식으로 만드는 방법이 추천된다.\\ndef parse_int(price):\\n    #print(type(price))\\n    if isinstance(price, str) and price.replace(',','').isdigit():\\n        #↑ 해당 함수는 어떤 값이 특정 자료형인지를 확인할 때 사용되는 함수임.\\n        # isinstance(값, 자료형) #결과는 True 또는 False로 출력됨.\\n        return int(price,replace(',', ''))\\n    elif isinstance(price, int):\\n        return price\",\n",
       " '_i138': 'parse_int(800)',\n",
       " '_138': 800,\n",
       " '_i139': 'parse_int(\"8,000\"), parse_int(\"8000\"), parse_int(800), parse_int(\\'-\\')',\n",
       " '_i140': \"#'14,000' -> 14000 / 800 -> 800 / '-' -> 0  #조건이 3가지가 필요하다.\\n#조건식을 만들기 어렵다면 일단 함수를 만들고, 람다식으로 만드는 방법이 추천된다.\\ndef parse_int(price):\\n    #print(type(price))\\n    if isinstance(price, str) and price.replace(',','').isdigit():\\n        #↑ 해당 함수는 어떤 값이 특정 자료형인지를 확인할 때 사용되는 함수임.\\n        # isinstance(값, 자료형) #결과는 True 또는 False로 출력됨.\\n        return int(price,replace(',',''))\\n    elif isinstance(price, int):\\n        return price\",\n",
       " '_i141': 'parse_int(\"8,000\"), parse_int(\"8000\"), parse_int(800), parse_int(\\'-\\')',\n",
       " '_i142': 'parse_int(\"8,000\"), parse_int(\"8000\"), parse_int(800), parse_int(\\'-\\')',\n",
       " '_i143': \"#'14,000' -> 14000 / 800 -> 800 / '-' -> 0  #조건이 3가지가 필요하다.\\n#조건식을 만들기 어렵다면 일단 함수를 만들고, 람다식으로 만드는 방법이 추천된다.\\ndef parse_int(price):\\n    #print(type(price))\\n    if isinstance(price, str) and price.replace(',','').isdigit():\\n        #↑ 해당 함수는 어떤 값이 특정 자료형인지를 확인할 때 사용되는 함수임.\\n        # isinstance(값, 자료형) #결과는 True 또는 False로 출력됨.\\n        return int(price.replace(',',''))\\n    elif isinstance(price, int):\\n        return price\",\n",
       " '_i144': 'parse_int(\"8,000\"), parse_int(\"8000\"), parse_int(800), parse_int(\\'-\\')',\n",
       " '_144': (8000, 8000, 800, None),\n",
       " '_i145': \"# {'no': 6, 'title': '가격이없음', 'writer': '김길동'} => 0 return으로 바꿔야함.(주어진 데이터에서 값이 안나와있으므로)\\n# {'no': 3, 'title': '흔한남매 19', 'writer': '백난도', 'price': '14,220'} => 14220\\n# {'no': 5, 'title': '가격이숫자', 'writer': '신길동', 'price': 900} => 900\\ndef parse_int(book):\\n    if isinstance(book.get('price'),str) and book.get('price').replace(',','').isdigit():\\n        return int(book.get('price').replace(',','') )\\n    elif isinstance(book.get('price'), int):\\n        return book.get('price')\\n    else :\\n        return 0\\nparse_int(books[0])\",\n",
       " '_145': 0,\n",
       " '_i146': \"# {'no': 6, 'title': '가격이없음', 'writer': '김길동'} => 0 return으로 바꿔야함.(주어진 데이터에서 값이 안나와있으므로)\\n# {'no': 3, 'title': '흔한남매 19', 'writer': '백난도', 'price': '14,220'} => 14220\\n# {'no': 5, 'title': '가격이숫자', 'writer': '신길동', 'price': 900} => 900\\ndef parse_int(book):\\n    if isinstance(book.get('price'),str) and \\\\\\n        book.get('price').replace(',','').isdigit():\\n        return int(book.get('price').replace(',','') )\\n    elif isinstance(book.get('price'), int):\\n        return book.get('price')\\n    else :\\n        return 0\\nparse_int(books[0])\",\n",
       " '_146': 0,\n",
       " '_i147': \"# {'no': 6, 'title': '가격이없음', 'writer': '김길동'} => 0 return으로 바꿔야함.(주어진 데이터에서 값이 안나와있으므로)\\n# {'no': 3, 'title': '흔한남매 19', 'writer': '백난도', 'price': '14,220'} => 14220\\n# {'no': 5, 'title': '가격이숫자', 'writer': '신길동', 'price': 900} => 900\\ndef parse_int(book):\\n    if isinstance(book.get('price'),str) and \\\\ #함수가 너무 길어져서 가독성이 떨어질 경우 \\\\로 표기함.\\n        book.get('price').replace(',','').isdigit():\\n        return int(book.get('price').replace(',','') )\\n    elif isinstance(book.get('price'), int):\\n        return book.get('price')\\n    else :\\n        return 0\\nparse_int(books[0]), parse_int(books[3]), parse_int(books[2]), parse_int(books[5])\",\n",
       " '_i148': \"# {'no': 6, 'title': '가격이없음', 'writer': '김길동'} => 0 return으로 바꿔야함.(주어진 데이터에서 값이 안나와있으므로)\\n# {'no': 3, 'title': '흔한남매 19', 'writer': '백난도', 'price': '14,220'} => 14220\\n# {'no': 5, 'title': '가격이숫자', 'writer': '신길동', 'price': 900} => 900\\ndef parse_int(book):\\n    if isinstance(book.get('price'),str) and book.get('price').replace(',','').isdigit():\\n        return int(book.get('price').replace(',','') )\\n    elif isinstance(book.get('price'), int):\\n        return book.get('price')\\n    else :\\n        return 0\\nparse_int(books[0]), parse_int(books[3]), parse_int(books[2]), parse_int(books[5])\",\n",
       " '_148': (0, 900, 14220, 0),\n",
       " '_i149': \"# {'no': 6, 'title': '가격이없음', 'writer': '김길동'} => 0 return으로 바꿔야함.(주어진 데이터에서 값이 안나와있으므로)\\n# {'no': 3, 'title': '흔한남매 19', 'writer': '백난도', 'price': '14,220'} => 14220\\n# {'no': 5, 'title': '가격이숫자', 'writer': '신길동', 'price': 900} => 900\\ndef parse_int(book):\\n    if isinstance(book.get('price'),str) and \\\\\\n    book.get('price').replace(',','').isdigit():\\n        return int(book.get('price').replace(',','') )\\n    elif isinstance(book.get('price'), int):\\n        return book.get('price')\\n    else :\\n        return 0\\nparse_int(books[0]), parse_int(books[3]), parse_int(books[2]), parse_int(books[5])\\n#람다식 변경시 if문이 맨 위로 오도록 하는것이 편리할 수 있음.\",\n",
       " '_149': (0, 900, 14220, 0),\n",
       " '_i150': \"# {'no': 6, 'title': '가격이없음', 'writer': '김길동'} => 0 return으로 바꿔야함.(주어진 데이터에서 값이 안나와있으므로)\\n# {'no': 3, 'title': '흔한남매 19', 'writer': '백난도', 'price': '14,220'} => 14220\\n# {'no': 5, 'title': '가격이숫자', 'writer': '신길동', 'price': 900} => 900\\ndef parse_int(book):\\n    if isinstance(book.get('price'),str) and \\\\\\n    book.get('price').replace(',','').isdigit():\\n        return int(book.get('price').replace(',','') )\\n    elif isinstance(book.get('price'), int):\\n        return book.get('price')\\n    else :\\n        return 0\\nparse_int(books[0]), parse_int(books[3]), parse_int(books[2]), parse_int(books[5])\\n#람다식 변경시 if문이 맨 위로 오도록 하는것이 편리할 수 있음.\",\n",
       " '_150': (0, 900, 14220, 0),\n",
       " '_i151': 'copy_books',\n",
       " '_i152': \"books =[\\n    {'no':1, 'title':'강남 아파트 인사이트', 'writer':'오스톨', 'price':'25,200'},\\n    {'no':2, 'title':'한 한번의 삶', 'writer':'김영하', 'price':'18,100'},\\n    {'no':3, 'title':'흔한남매 19', 'writer':'백난도', 'price':'14,220'},\\n    {'no':4, 'title':'가격이잘못', 'writer':'홍길동', 'price':'-'},\\n    {'no':5, 'title':'가격이숫자', 'writer':'신길동', 'price':900},\\n    {'no':6, 'title':'가격이없음', 'writer':'김길동'},\\n]\\ncopy_books = books.copy() #깊은복사\",\n",
       " 'copy_books': [{'no': 4, 'title': '가격이잘못', 'writer': '홍길동', 'price': '-'},\n",
       "  {'no': 6, 'title': '가격이없음', 'writer': '김길동'},\n",
       "  {'no': 5, 'title': '가격이숫자', 'writer': '신길동', 'price': 900},\n",
       "  {'no': 3, 'title': '흔한남매 19', 'writer': '백난도', 'price': '14,220'},\n",
       "  {'no': 2, 'title': '한 한번의 삶', 'writer': '김영하', 'price': '18,100'},\n",
       "  {'no': 1, 'title': '강남 아파트 인사이트', 'writer': '오스톨', 'price': '25,200'}],\n",
       " '_i153': \"copy_books.sort(key = lambda book : \\n                int(book.get('price').replace(',','')) \\\\\\n                    if isinstance(book.get('price'),str) and \\\\\\n                    book.get('price').replace(',','').isdigit() else \\\\\\n                book.get('price') if isinstance(book.get('price'), int) else \\\\\\n                0               \\n               )\",\n",
       " '_i154': \"#람다식 테스트 확인\\n(lambda book : \\n                int(book.get('price').replace(',','')) \\\\\\n                    if isinstance(book.get('price'),str) and \\\\\\n                    book.get('price').replace(',','').isdigit() else \\\\\\n                book.get('price') if isinstance(book.get('price'), int) else \\\\\\n                0 )(books[0])\",\n",
       " '_154': 25200,\n",
       " '_i155': 'line_func = make_box([2,3])\\nline_func(3)',\n",
       " '_i156': '# 함수를 return\\ndef make_box(shape): #shape : [l]=>len가 l인 list를 생성하는 함수 return, [l], \\n                    #         [r,c] => r행 c열인 list를 생성하는 함수 return\\n    def box(init_value):\\n        if len(shape)==1:\\n            return [init_value]*shape[0]\\n        elif len(shape)==2:\\n            return [ [init_value]*shape[1] ] * shape[0]\\n    return box',\n",
       " 'make_box': <function __main__.make_box(shape)>,\n",
       " '_i157': 'line_func = make_box([2,3])\\nline_func(3)',\n",
       " 'line_func': <function __main__.make_box.<locals>.box(init_value)>,\n",
       " '_157': [[3, 3, 3], [3, 3, 3]],\n",
       " '_i158': 'line_func1 = make_box([10])\\nline_func(3)',\n",
       " 'line_func1': <function __main__.make_box.<locals>.box(init_value)>,\n",
       " '_158': [[3, 3, 3], [3, 3, 3]],\n",
       " '_i159': 'line_func1 = make_box([10])\\nline_func1(3)',\n",
       " '_159': [3, 3, 3, 3, 3, 3, 3, 3, 3, 3],\n",
       " '_i160': 'def make_box(shape) :\\n    if len(shape)==1:\\n        return lambda init_value : [init_value]*shape[0]\\n    else len(shape)==2:\\n        return lambda init_value : [[init_value]*shape[1]]*shape[0]',\n",
       " '_i161': 'globals()',\n",
       " '_161': {...},\n",
       " '_i162': 'locals() #지역변수 리스트'}"
      ]
     },
     "execution_count": 162,
     "metadata": {},
     "output_type": "execute_result"
    }
   ],
   "source": [
    "locals() #지역변수 리스트"
   ]
  },
  {
   "cell_type": "code",
   "execution_count": 165,
   "id": "ec675d99",
   "metadata": {},
   "outputs": [
    {
     "data": {
      "text/plain": [
       "False"
      ]
     },
     "execution_count": 165,
     "metadata": {},
     "output_type": "execute_result"
    }
   ],
   "source": [
    "all([True, True, True, True, False]) #전부 True인지 여부를 판명"
   ]
  },
  {
   "cell_type": "code",
   "execution_count": 167,
   "id": "da5a0ee4",
   "metadata": {},
   "outputs": [
    {
     "data": {
      "text/plain": [
       "4"
      ]
     },
     "execution_count": 167,
     "metadata": {},
     "output_type": "execute_result"
    }
   ],
   "source": [
    "round(3.5) #반올림"
   ]
  },
  {
   "cell_type": "code",
   "execution_count": 171,
   "id": "7bba229d",
   "metadata": {},
   "outputs": [
    {
     "data": {
      "text/plain": [
       "(4.0, 4.0, 3.0)"
      ]
     },
     "execution_count": 171,
     "metadata": {},
     "output_type": "execute_result"
    }
   ],
   "source": [
    "import numpy as np # numpy 모듈을 np라는 이름으로 load\n",
    "np.round(3.5), np.ceil(3.1), np.floor(3.9) #반올림, 올림, 내림"
   ]
  },
  {
   "cell_type": "markdown",
   "id": "67fcfc66",
   "metadata": {},
   "source": [
    "# 6절. 연습문제"
   ]
  },
  {
   "cell_type": "code",
   "execution_count": 173,
   "id": "b39a3db5",
   "metadata": {},
   "outputs": [
    {
     "data": {
      "text/plain": [
       "(6, 1)"
      ]
     },
     "execution_count": 173,
     "metadata": {},
     "output_type": "execute_result"
    }
   ],
   "source": [
    "#1. 함수의 인자로 리스트를 받은 후 리스트 내에 있는 모든 정수값에 대한 최대값과 최소값을 리턴하는 함수를 작성하세요\n",
    "def get_max_min(data_list):\n",
    "    return max(data_list), min(data_list)\n",
    "    \n",
    "get_max_min= lambda data_list : (max(data_list), min(data_list))\n",
    "get_max_min([1,2,3,4,5,6,])"
   ]
  },
  {
   "cell_type": "code",
   "execution_count": 207,
   "id": "91efa2ca",
   "metadata": {},
   "outputs": [
    {
     "name": "stdout",
     "output_type": "stream",
     "text": [
      "50\n",
      "180\n",
      "고도비만\n"
     ]
    }
   ],
   "source": [
    "#2. 체질량 지수(Body Mass Index, BMI)는 체중과 키를 이용해 비만도를 나타내는 지수로 아래의 수식에 의해 계산됩니다. \n",
    "# 함수의 인자로 체중(kg)과 신장(m)를입력받은 후 BMI값에 따라 ‘마른 체형‘, ‘표준‘, ‘비만‘, ‘고도비만‘ 중 \n",
    "# 하나의 상태를 출력하는 함수를 구현해 보세요.\n",
    "\n",
    "bmi = (int(input())/int(input()))**2\n",
    "if bmi == 18.5 :\n",
    "        print('마른체형')\n",
    "elif 18.5<bmi<25 :\n",
    "        print('표준')\n",
    "elif 25<bmi<30 :\n",
    "        print('비만')\n",
    "else :\n",
    "        print('고도비만')\n",
    "\n",
    "# getBMI(kg, m):\n",
    "# BMI지수 = 체중(kg) / 신장(m)의 제곱\n",
    "# BMI<18.5 : 마른체형\n",
    "# 18.5<=BMI<25 : 표준\n",
    "# 25<=BMI<30 : 비만\n",
    "# BMI >=30 : 고도비만"
   ]
  },
  {
   "cell_type": "code",
   "execution_count": null,
   "id": "67b4e297",
   "metadata": {},
   "outputs": [],
   "source": [
    "#3.직각삼각형의 밑변과 높이를 입력받은 후 삼각형의 면적과 둘레를 계산하는 함수를 작성하세요\n",
    "# 리턴값은 면적과 둘레를 return하도록 구현하세요\n",
    "# math.sqrt() : 제곱근을 구하는 함수이용 (ex)math.sqrt(25) : 5.0\n",
    "# def get_triangle(width, height):\n",
    "\n",
    "def math.sqrt(data)\n",
    "\n",
    "return"
   ]
  },
  {
   "cell_type": "code",
   "execution_count": null,
   "id": "729fa10c",
   "metadata": {},
   "outputs": [],
   "source": [
    "#4. 함수의 인자로 시작과 끝 숫자가 주어질 때 시작부터 끝까지의 모든 정수값의 합을 리턴하는 함수를 작성하세요(시작값과 끝값 포함).\n",
    "# def mysum(fRom, end):"
   ]
  },
  {
   "cell_type": "code",
   "execution_count": null,
   "id": "ddecfb0c",
   "metadata": {},
   "outputs": [],
   "source": [
    "#5.함수의인자로 문자열을 포함하는 리스트가 입력될 때 각 문자열의 첫 세글자로만 구성된 리스트를 리턴하는 \n",
    "#함수와 람다식을 작성하세요\n",
    "#예를 들어 함수의 입력으로 [‘Seoul’, ‘Daegu’, ‘Kwangju’, ‘Jeju’]가 입력될 때 함수의 리턴값은 [‘Seo’, ‘Dae’, ‘Kwa’,’Jej’]\n",
    "#def get_abbrs(lst):"
   ]
  },
  {
   "cell_type": "code",
   "execution_count": 214,
   "id": "d7f7e3b7",
   "metadata": {},
   "outputs": [
    {
     "data": {
      "text/plain": [
       "9"
      ]
     },
     "execution_count": 214,
     "metadata": {},
     "output_type": "execute_result"
    }
   ],
   "source": [
    "#6.다음 코드를 람다 함수 형태로 수정할 때 알맞은 코드를 작성하시오.\n",
    "def f(x,y):\n",
    "    return x**y\n",
    "\n",
    "f(3,2)"
   ]
  },
  {
   "cell_type": "code",
   "execution_count": 215,
   "id": "272b98b3",
   "metadata": {},
   "outputs": [
    {
     "data": {
      "text/plain": [
       "9"
      ]
     },
     "execution_count": 215,
     "metadata": {},
     "output_type": "execute_result"
    }
   ],
   "source": [
    "f1 = lambda x,y : x**y\n",
    "f1(3,2)"
   ]
  },
  {
   "cell_type": "code",
   "execution_count": 229,
   "id": "2b71c941",
   "metadata": {},
   "outputs": [],
   "source": [
    "#7. ex = [1,2,3,4,5]를 [1,4,9,16,25]의 결과를 얻을 수 있도록 람다함수와 map()\n",
    "#함수를 사용하여 구현과 리스트 컴프리헨션으로 구현하시오"
   ]
  },
  {
   "cell_type": "code",
   "execution_count": 230,
   "id": "6c93404e",
   "metadata": {},
   "outputs": [
    {
     "ename": "IndentationError",
     "evalue": "expected an indented block after function definition on line 2 (97117767.py, line 3)",
     "output_type": "error",
     "traceback": [
      "\u001b[1;36m  Cell \u001b[1;32mIn[230], line 3\u001b[1;36m\u001b[0m\n\u001b[1;33m    map_tem(lambda x : x**2, ex)\u001b[0m\n\u001b[1;37m    ^\u001b[0m\n\u001b[1;31mIndentationError\u001b[0m\u001b[1;31m:\u001b[0m expected an indented block after function definition on line 2\n"
     ]
    }
   ],
   "source": [
    "def map_tem(func, L=[]):\n",
    "    result = []\n",
    "    for l in L:\n",
    "        result.app"
   ]
  },
  {
   "cell_type": "code",
   "execution_count": null,
   "id": "ad93542a",
   "metadata": {},
   "outputs": [],
   "source": []
  },
  {
   "cell_type": "code",
   "execution_count": null,
   "id": "d9455551",
   "metadata": {},
   "outputs": [],
   "source": []
  },
  {
   "cell_type": "code",
   "execution_count": null,
   "id": "fd466fa0",
   "metadata": {},
   "outputs": [],
   "source": []
  },
  {
   "cell_type": "code",
   "execution_count": null,
   "id": "4eb0b35f",
   "metadata": {},
   "outputs": [],
   "source": []
  },
  {
   "cell_type": "code",
   "execution_count": null,
   "id": "1f871c99",
   "metadata": {},
   "outputs": [],
   "source": []
  },
  {
   "cell_type": "code",
   "execution_count": null,
   "id": "0a3e5cac",
   "metadata": {},
   "outputs": [],
   "source": []
  }
 ],
 "metadata": {
  "kernelspec": {
   "display_name": "Python 3 (ipykernel)",
   "language": "python",
   "name": "python3"
  },
  "language_info": {
   "codemirror_mode": {
    "name": "ipython",
    "version": 3
   },
   "file_extension": ".py",
   "mimetype": "text/x-python",
   "name": "python",
   "nbconvert_exporter": "python",
   "pygments_lexer": "ipython3",
   "version": "3.10.9"
  },
  "toc": {
   "base_numbering": 1,
   "nav_menu": {},
   "number_sections": false,
   "sideBar": true,
   "skip_h1_title": false,
   "title_cell": "Table of Contents",
   "title_sidebar": "Contents",
   "toc_cell": false,
   "toc_position": {
    "height": "calc(100% - 180px)",
    "left": "10px",
    "top": "150px",
    "width": "382px"
   },
   "toc_section_display": true,
   "toc_window_display": false
  }
 },
 "nbformat": 4,
 "nbformat_minor": 5
}
