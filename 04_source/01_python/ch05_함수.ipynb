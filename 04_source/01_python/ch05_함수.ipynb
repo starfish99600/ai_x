{
 "cells": [
  {
   "cell_type": "code",
   "execution_count": 1,
   "id": "e50a2354",
   "metadata": {},
   "outputs": [
    {
     "data": {
      "text/html": [
       "\n",
       "<style>\n",
       "div.container{width:95% !important;}\n",
       "div.cell.code_cell.rendered{width:100%;}\n",
       "div.CodeMirror {font-family:Consolas; font-size:15pt;}\n",
       "div.output {font-size:15pt; font-weight:bold;}\n",
       "div.input {font-family:Consolas; font-size:15pt;}\n",
       "div.prompt {min-width:70px;}\n",
       "div#toc-wrapper{padding-top:120px;}\n",
       "div.text_cell_render ul li{font-size:12pt;padding:5px;}\n",
       "table.dataframe{font-size:15px;}\n",
       "</style>\n"
      ],
      "text/plain": [
       "<IPython.core.display.HTML object>"
      ]
     },
     "metadata": {},
     "output_type": "display_data"
    }
   ],
   "source": [
    "from IPython.display import display, HTML\n",
    "display(HTML(\"\"\"\n",
    "<style>\n",
    "div.container{width:95% !important;}\n",
    "div.cell.code_cell.rendered{width:100%;}\n",
    "div.CodeMirror {font-family:Consolas; font-size:15pt;}\n",
    "div.output {font-size:15pt; font-weight:bold;}\n",
    "div.input {font-family:Consolas; font-size:15pt;}\n",
    "div.prompt {min-width:70px;}\n",
    "div#toc-wrapper{padding-top:120px;}\n",
    "div.text_cell_render ul li{font-size:12pt;padding:5px;}\n",
    "table.dataframe{font-size:15px;}\n",
    "</style>\n",
    "\"\"\"))"
   ]
  },
  {
   "cell_type": "markdown",
   "id": "3ad8adac",
   "metadata": {},
   "source": [
    "<b><font color=\"red\" size=\"5\">ch05. 함수</font></b>\n",
    "- 사용할 코드를 묶어 놓고 그것에 이름을 붙인 것\n",
    "- 오버로딩(같은 이름의 함수를 매개변수를 달리해서 사용)->파이썬에서는 불가능함.\n",
    "- *오버로딩 : 함수이름이 같고, 매개변수의 타입이나 갯수로 다른 함수를 허용하는것 \n",
    "- 함수정의\n",
    "```\n",
    "def 함수명(숫자로 시작하면 안됨. 변수를 작성하는 원칙과 동일함. 가급적 한국어, 특수문자사용, 숫자를 우선 사용하는 것을 피할것.)\n",
    "def 함수명([매개변수1, 매개변수2, 매개변수n])\n",
    "    명령어 1\n",
    "    명령어 2\n",
    "    명령어 n\n",
    "```\n",
    "# 1절. 함수의 정의 및 사용\n",
    "## 1.1 함수 정의"
   ]
  },
  {
   "cell_type": "code",
   "execution_count": 3,
   "id": "529e4f01",
   "metadata": {},
   "outputs": [
    {
     "name": "stdout",
     "output_type": "stream",
     "text": [
      "20\n"
     ]
    }
   ],
   "source": [
    "a=10  #날아감\n",
    "a=20  # 뒤에 적은게 a가 됨.\n",
    "print(a)"
   ]
  },
  {
   "cell_type": "code",
   "execution_count": 3,
   "id": "53d83e9e",
   "metadata": {},
   "outputs": [
    {
     "name": "stdout",
     "output_type": "stream",
     "text": [
      "Hello\n",
      "Hello\n",
      "Hello\n",
      "Hello\n",
      "Hello\n"
     ]
    }
   ],
   "source": [
    "#함수 정의\n",
    "def hello():                  #hello라는 함수를 정의함. 해당 함수는 매개변수를 정의하지 않았으므로, 차후 사용시 매개변수를 사용하면 안됨.\n",
    "    for i in range(5):        #def는 함수를 정의할 때 사용되는 키워드\n",
    "        print(\"Hello\")\n",
    "#파이썬내 별도의 메모리 공간에 함수가 저장됨.\n",
    "\n",
    "# 함수 사용\n",
    "hello()"
   ]
  },
  {
   "cell_type": "code",
   "execution_count": 6,
   "id": "cd27d604",
   "metadata": {},
   "outputs": [],
   "source": [
    "#매개변수가 들어가 있는 함수 정의\n",
    "def my_message(x, msg):                  #msg를 x번 출력하는 함수를 만듬\n",
    "    for i in range(x)#함수 명령어: 예시에서는 for-in문과 range함수를 사용함. range(범위지정) i에 슬라이싱해서 넣고 수행해라.\n",
    "        print(msg)   #for-in문에 대한 수행어 : print msg를 출력해라.\n",
    "                     #하위 명령문들은 다시 상위 함수에 반영되어 수행됨."
   ]
  },
  {
   "cell_type": "code",
   "execution_count": 8,
   "id": "f1ed1af4",
   "metadata": {},
   "outputs": [
    {
     "ename": "TypeError",
     "evalue": "my_message() missing 2 required positional arguments: 'x' and 'msg'",
     "output_type": "error",
     "traceback": [
      "\u001b[1;31m---------------------------------------------------------------------------\u001b[0m",
      "\u001b[1;31mTypeError\u001b[0m                                 Traceback (most recent call last)",
      "Cell \u001b[1;32mIn[8], line 2\u001b[0m\n\u001b[0;32m      1\u001b[0m \u001b[38;5;66;03m#매개변수가 들어있는 함수는 반드시 매개변수를 입력해야 한다.\u001b[39;00m\n\u001b[1;32m----> 2\u001b[0m \u001b[43mmy_message\u001b[49m\u001b[43m(\u001b[49m\u001b[43m)\u001b[49m\n",
      "\u001b[1;31mTypeError\u001b[0m: my_message() missing 2 required positional arguments: 'x' and 'msg'"
     ]
    }
   ],
   "source": [
    "#매개변수가 들어있는 함수는 반드시 매개변수를 입력해야 한다.(그렇지 않으면 아래처럼 오류가 발생함.)\n",
    "my_message()"
   ]
  },
  {
   "cell_type": "code",
   "execution_count": 7,
   "id": "82fb76fc",
   "metadata": {},
   "outputs": [
    {
     "name": "stdout",
     "output_type": "stream",
     "text": [
      "Hello\n",
      "Hello\n",
      "Hello\n",
      "Hello\n",
      "Hello\n"
     ]
    }
   ],
   "source": [
    "#정상적으로 사용하였을시의 예시(매개변수가 들어가 있는 함수)\n",
    "my_message(5,'Hello')"
   ]
  },
  {
   "cell_type": "code",
   "execution_count": 8,
   "id": "f6b39c8c",
   "metadata": {},
   "outputs": [
    {
     "name": "stdout",
     "output_type": "stream",
     "text": [
      "hello\n",
      "hello\n",
      "hello\n"
     ]
    }
   ],
   "source": [
    "my_msg = my_message\n",
    "my_msg(3, 'hello')"
   ]
  },
  {
   "cell_type": "code",
   "execution_count": 9,
   "id": "969ce054",
   "metadata": {},
   "outputs": [
    {
     "data": {
      "text/plain": [
       "(function, function)"
      ]
     },
     "execution_count": 9,
     "metadata": {},
     "output_type": "execute_result"
    }
   ],
   "source": [
    "#함수를 변수로 설정하면, 변수도 함수가 된다.\n",
    "type(my_msg), type(my_message)  "
   ]
  },
  {
   "cell_type": "code",
   "execution_count": 16,
   "id": "fe0d9061",
   "metadata": {},
   "outputs": [
    {
     "name": "stdout",
     "output_type": "stream",
     "text": [
      "ttt\n",
      "ttt\n",
      "ttt\n"
     ]
    }
   ],
   "source": [
    "#변수가 함수가 되었을 때, 동일한 역할을 수행할 수 있다.\n",
    "my_message(3, 'ttt')"
   ]
  },
  {
   "cell_type": "code",
   "execution_count": 17,
   "id": "e263b459",
   "metadata": {},
   "outputs": [
    {
     "name": "stdout",
     "output_type": "stream",
     "text": [
      "Hello\n",
      "Hello\n"
     ]
    }
   ],
   "source": [
    "print('Hello')  #파이썬 내장함수(import하지 않고소 쓸 수 있는 함수를 뜻함.) ex) print, add 등\n",
    "print=5\n",
    "#print('Hello')\n",
    "del print\n",
    "print('Hello')"
   ]
  },
  {
   "cell_type": "code",
   "execution_count": 18,
   "id": "90b045f8",
   "metadata": {},
   "outputs": [
    {
     "name": "stdout",
     "output_type": "stream",
     "text": [
      "Hello\n",
      "Hello\n"
     ]
    }
   ],
   "source": [
    "my_message(2, 'Hello')"
   ]
  },
  {
   "cell_type": "code",
   "execution_count": 19,
   "id": "551be0eb",
   "metadata": {},
   "outputs": [],
   "source": [
    "my_message = 5"
   ]
  },
  {
   "cell_type": "code",
   "execution_count": 28,
   "id": "2796af2a",
   "metadata": {},
   "outputs": [],
   "source": [
    "del my_message\n",
    "#변수를 삭제해도 함수 사용불가(파이썬 내장함수가 아니라서)"
   ]
  },
  {
   "cell_type": "code",
   "execution_count": 29,
   "id": "b460fa94",
   "metadata": {},
   "outputs": [
    {
     "ename": "NameError",
     "evalue": "name 'my_message' is not defined",
     "output_type": "error",
     "traceback": [
      "\u001b[1;31m---------------------------------------------------------------------------\u001b[0m",
      "\u001b[1;31mNameError\u001b[0m                                 Traceback (most recent call last)",
      "Cell \u001b[1;32mIn[29], line 1\u001b[0m\n\u001b[1;32m----> 1\u001b[0m \u001b[43mmy_message\u001b[49m(\u001b[38;5;241m2\u001b[39m, \u001b[38;5;124m'\u001b[39m\u001b[38;5;124mHello\u001b[39m\u001b[38;5;124m'\u001b[39m)\n",
      "\u001b[1;31mNameError\u001b[0m: name 'my_message' is not defined"
     ]
    }
   ],
   "source": [
    "my_message(2, 'Hello')"
   ]
  },
  {
   "cell_type": "code",
   "execution_count": 10,
   "id": "3e58c33b",
   "metadata": {},
   "outputs": [],
   "source": [
    "#함수정의 : 4월 16일(수)\n",
    "def my_hello():\n",
    "    print('Hello, Python')\n",
    "    print('Hello, World')\n",
    "def my_hello(cnt):\n",
    "    for i in range(cnt):\n",
    "        print('Hello, Python')\n",
    "        print('Hello, world')\n",
    "#함수 이름은 동일하게 두 번 정의하면 가장 마지막 정의가 유효\n",
    "#이 코드에서는 my_hello(cnt)만 살아있음.\n",
    "#cnt는 count의 줄임말로 '횟수', 즉 얼마나 반복할지를 나타내는 매개변수임."
   ]
  },
  {
   "cell_type": "code",
   "execution_count": 12,
   "id": "8af7122a",
   "metadata": {},
   "outputs": [
    {
     "name": "stdout",
     "output_type": "stream",
     "text": [
      "Hello, Python\n",
      "Hello, world\n",
      "Hello, Python\n",
      "Hello, world\n"
     ]
    }
   ],
   "source": [
    "#함수호출(=함수사용, 호출이라는 표현을 실무에서 더 많이 사용함.)\n",
    "my_hello(2)"
   ]
  },
  {
   "cell_type": "code",
   "execution_count": 13,
   "id": "6ea000fd",
   "metadata": {},
   "outputs": [
    {
     "data": {
      "text/plain": [
       "<function __main__.my_hello(cnt)>"
      ]
     },
     "execution_count": 13,
     "metadata": {},
     "output_type": "execute_result"
    }
   ],
   "source": [
    "#단순 함수이름을 쳤을 때 파이썬이 보여주는 함수 자체에 대한 정보\n",
    "my_hello"
   ]
  },
  {
   "cell_type": "code",
   "execution_count": 14,
   "id": "a0f1d3b6",
   "metadata": {},
   "outputs": [
    {
     "data": {
      "text/plain": [
       "'__main__'"
      ]
     },
     "execution_count": 14,
     "metadata": {},
     "output_type": "execute_result"
    }
   ],
   "source": [
    "__name__"
   ]
  },
  {
   "cell_type": "code",
   "execution_count": 15,
   "id": "da966482",
   "metadata": {},
   "outputs": [
    {
     "name": "stdout",
     "output_type": "stream",
     "text": [
      "Hello, Python\n",
      "Hello, world\n",
      "Hello, Python\n",
      "Hello, world\n"
     ]
    }
   ],
   "source": [
    "if __name__=='__main__':\n",
    "    my_hello(2)"
   ]
  },
  {
   "cell_type": "code",
   "execution_count": 3,
   "id": "c2664248",
   "metadata": {},
   "outputs": [],
   "source": [
    "#vscode와 연동하여 사용, ch05모듈을 load\n",
    "import ch05"
   ]
  },
  {
   "cell_type": "code",
   "execution_count": 2,
   "id": "f2e66005",
   "metadata": {},
   "outputs": [
    {
     "name": "stdout",
     "output_type": "stream",
     "text": [
      "Hello, Python\n",
      "Hello, world\n",
      "Hello, Python\n",
      "Hello, world\n"
     ]
    }
   ],
   "source": [
    "ch05.my_hello(2)"
   ]
  },
  {
   "cell_type": "code",
   "execution_count": 5,
   "id": "8c7fd079",
   "metadata": {},
   "outputs": [],
   "source": [
    "#ch05모듈안의 my_hello를 load *ch05에서 my_hello를 가져와라.\n",
    "from ch05 import my_hello "
   ]
  },
  {
   "cell_type": "code",
   "execution_count": 6,
   "id": "136e3a27",
   "metadata": {},
   "outputs": [
    {
     "name": "stdout",
     "output_type": "stream",
     "text": [
      "Hello, Python\n",
      "Hello, world\n",
      "Hello, Python\n",
      "Hello, world\n"
     ]
    }
   ],
   "source": [
    "my_hello(2)"
   ]
  },
  {
   "cell_type": "markdown",
   "id": "6cd2edbb",
   "metadata": {},
   "source": [
    "## 1.2 docstring"
   ]
  },
  {
   "cell_type": "code",
   "execution_count": 9,
   "id": "8c34be0f",
   "metadata": {},
   "outputs": [],
   "source": [
    "def my_function():\n",
    "    '''\n",
    "    함수의 첫라인에 독스트링을 포함할 수 있습니다.\n",
    "    독스트링은 함수의 설명서를 달아주는 역할\n",
    "    주석보다 많은 기능(shift+tab으로 독스트링을 볼 수 있음.)\n",
    "    '''\n",
    "    pass"
   ]
  },
  {
   "cell_type": "code",
   "execution_count": null,
   "id": "493aa02a",
   "metadata": {},
   "outputs": [],
   "source": [
    "my_function()"
   ]
  },
  {
   "cell_type": "code",
   "execution_count": 10,
   "id": "d5819242",
   "metadata": {},
   "outputs": [
    {
     "name": "stdout",
     "output_type": "stream",
     "text": [
      "\n",
      "    함수의 첫라인에 독스트링을 포함할 수 있습니다.\n",
      "    독스트링은 함수의 설명서를 달아주는 역할\n",
      "    주석보다 많은 기능(shift+tab으로 독스트링을 볼 수 있음.)\n",
      "    \n"
     ]
    }
   ],
   "source": [
    "print(my_function.__doc__)"
   ]
  },
  {
   "cell_type": "code",
   "execution_count": 11,
   "id": "f21b1552",
   "metadata": {},
   "outputs": [],
   "source": [
    "#피보나치(fibonacci)수열 : 앞의 두 수를 더해서 다음 수를 만드는 수열\n",
    "#ex) 0 1 1 2 3 5 8 13 21 34\n",
    "def fibonacci(n):\n",
    "    a, b = 0, 1\n",
    "    while a < n:\n",
    "        print(a, end=' ')\n",
    "        a, b = b, a+b\n",
    "    print() #개행"
   ]
  },
  {
   "cell_type": "code",
   "execution_count": 12,
   "id": "2311d31a",
   "metadata": {},
   "outputs": [
    {
     "name": "stdout",
     "output_type": "stream",
     "text": [
      "0 1 1 2 3 5 8 13 21 34 55 89 144 233 377 610 987 \n"
     ]
    }
   ],
   "source": [
    "fibonacci(1000)"
   ]
  },
  {
   "cell_type": "code",
   "execution_count": null,
   "id": "95a5a140",
   "metadata": {},
   "outputs": [],
   "source": []
  },
  {
   "cell_type": "markdown",
   "id": "958a3f25",
   "metadata": {},
   "source": [
    "## 1.3 지역변수(local var)와 전역변수(global var)\n",
    "- 지역변수와 전역변수는 변수의 사용범위에 따라 구분됨.\n",
    "- 전역변수 : 함수 바깥에서 선언된 변수(파일 전체에서 사용가능함.)\n",
    "- 지역변수 : 함수 안에서 선언된 변수(해당 함수 안에서만 사용 가능.)"
   ]
  },
  {
   "cell_type": "code",
   "execution_count": 13,
   "id": "d322c822",
   "metadata": {},
   "outputs": [
    {
     "name": "stdout",
     "output_type": "stream",
     "text": [
      "함수안: 100\n"
     ]
    }
   ],
   "source": [
    "global_var = 100 # 전역변수\n",
    "def func1():\n",
    "    print('함수안:', global_var)\n",
    "func1()\n",
    "print('함수밖 :', global_var)"
   ]
  },
  {
   "cell_type": "code",
   "execution_count": 19,
   "id": "48de5b77",
   "metadata": {},
   "outputs": [
    {
     "name": "stdout",
     "output_type": "stream",
     "text": [
      "함수 안 : 200\n"
     ]
    },
    {
     "ename": "NameError",
     "evalue": "name 'local_var' is not defined",
     "output_type": "error",
     "traceback": [
      "\u001b[1;31m---------------------------------------------------------------------------\u001b[0m",
      "\u001b[1;31mNameError\u001b[0m                                 Traceback (most recent call last)",
      "Cell \u001b[1;32mIn[19], line 5\u001b[0m\n\u001b[0;32m      3\u001b[0m     \u001b[38;5;28mprint\u001b[39m(\u001b[38;5;124m'\u001b[39m\u001b[38;5;124m함수 안 :\u001b[39m\u001b[38;5;124m'\u001b[39m, local_var)\n\u001b[0;32m      4\u001b[0m func2()\n\u001b[1;32m----> 5\u001b[0m \u001b[38;5;28mprint\u001b[39m(\u001b[38;5;124m'\u001b[39m\u001b[38;5;124m함수 밖 :\u001b[39m\u001b[38;5;124m'\u001b[39m, \u001b[43mlocal_var\u001b[49m)\n",
      "\u001b[1;31mNameError\u001b[0m: name 'local_var' is not defined"
     ]
    }
   ],
   "source": [
    "def func2():\n",
    "    local_var = 200 # 지역변수\n",
    "    print('함수 안 :', local_var)\n",
    "func2()\n",
    "print('함수 밖 :', local_var)"
   ]
  },
  {
   "cell_type": "code",
   "execution_count": 22,
   "id": "28f482f7",
   "metadata": {},
   "outputs": [
    {
     "name": "stdout",
     "output_type": "stream",
     "text": [
      "함수 안(지역변수 g_var) : 200\n",
      "함수 밖(전역변수 g_var) : 100\n"
     ]
    }
   ],
   "source": [
    "g_var = 100 #전역변수\n",
    "def func3():\n",
    "    g_var = 200 #지역변수(변수선언과 할당)\n",
    "    print('함수 안(지역변수 g_var) :', g_var)\n",
    "func3()\n",
    "print('함수 밖(전역변수 g_var) :', g_var)"
   ]
  },
  {
   "cell_type": "code",
   "execution_count": 23,
   "id": "d3b2030f",
   "metadata": {},
   "outputs": [
    {
     "ename": "UnboundLocalError",
     "evalue": "local variable 'g_var' referenced before assignment",
     "output_type": "error",
     "traceback": [
      "\u001b[1;31m---------------------------------------------------------------------------\u001b[0m",
      "\u001b[1;31mUnboundLocalError\u001b[0m                         Traceback (most recent call last)",
      "Cell \u001b[1;32mIn[23], line 5\u001b[0m\n\u001b[0;32m      3\u001b[0m     \u001b[38;5;28mprint\u001b[39m(\u001b[38;5;124m'\u001b[39m\u001b[38;5;124m함수 안 g_var :\u001b[39m\u001b[38;5;124m'\u001b[39m, g_var)\n\u001b[0;32m      4\u001b[0m     g_var \u001b[38;5;241m=\u001b[39m \u001b[38;5;241m200\u001b[39m\n\u001b[1;32m----> 5\u001b[0m \u001b[43mfunc4\u001b[49m\u001b[43m(\u001b[49m\u001b[43m)\u001b[49m\n",
      "Cell \u001b[1;32mIn[23], line 3\u001b[0m, in \u001b[0;36mfunc4\u001b[1;34m()\u001b[0m\n\u001b[0;32m      2\u001b[0m \u001b[38;5;28;01mdef\u001b[39;00m \u001b[38;5;21mfunc4\u001b[39m():\n\u001b[1;32m----> 3\u001b[0m     \u001b[38;5;28mprint\u001b[39m(\u001b[38;5;124m'\u001b[39m\u001b[38;5;124m함수 안 g_var :\u001b[39m\u001b[38;5;124m'\u001b[39m, \u001b[43mg_var\u001b[49m)\n\u001b[0;32m      4\u001b[0m     g_var \u001b[38;5;241m=\u001b[39m \u001b[38;5;241m200\u001b[39m\n",
      "\u001b[1;31mUnboundLocalError\u001b[0m: local variable 'g_var' referenced before assignment"
     ]
    }
   ],
   "source": [
    "# 렉시컬 특성\n",
    "g_var = 100 #전역변수\n",
    "def func4():\n",
    "    print('함수 안 g_var :', g_var)\n",
    "    g_var = 200 #지역변수\n",
    "func4()"
   ]
  },
  {
   "cell_type": "code",
   "execution_count": 24,
   "id": "4868c457",
   "metadata": {},
   "outputs": [
    {
     "name": "stdout",
     "output_type": "stream",
     "text": [
      "함수 안 g_var : 100\n",
      "함수밖 g_var : 200\n"
     ]
    }
   ],
   "source": [
    "# 지역변수를 전역변수처럼 사용하고 싶을때\n",
    "g_var = 100 #전역변수\n",
    "def func4():\n",
    "    global g_var #func4함수내의 g_var는 전역변수를 쓴다.\n",
    "    print('함수 안 g_var :', g_var)\n",
    "    g_var = 200 #지역변수\n",
    "func4()\n",
    "print('함수밖 g_var :', g_var)"
   ]
  },
  {
   "cell_type": "markdown",
   "id": "8c251976",
   "metadata": {},
   "source": [
    "## 1.4 값에 의한 호출\n",
    "- 함수의 매개변수(인수)로 전달되는 변수가 스칼라 변수(문자, 숫자, 논리형)일 때\n",
    "- 복사본을 줘서 함수에 보냄"
   ]
  },
  {
   "cell_type": "code",
   "execution_count": 25,
   "id": "5bc5e2e8",
   "metadata": {},
   "outputs": [
    {
     "data": {
      "text/plain": [
       "2029137454896"
      ]
     },
     "execution_count": 25,
     "metadata": {},
     "output_type": "execute_result"
    }
   ],
   "source": [
    "foo = 'a' #전역변수 foo에 문자열 'a' 저장\n",
    "id(foo)   #id함수 : 어떤 변수(또는 객체)가 메모리상 어디에 저장되어있는지를 알려주는 함수\n",
    "          #foo의 메모리 주소 출력"
   ]
  },
  {
   "cell_type": "code",
   "execution_count": 31,
   "id": "e85f2849",
   "metadata": {},
   "outputs": [
    {
     "name": "stdout",
     "output_type": "stream",
     "text": [
      "Before: a id(f) 2029137454896\n",
      "After: aaa id(f) 2029257682992\n"
     ]
    }
   ],
   "source": [
    "def func1(f): #매개변수 f는 지역변수, foo를 f라는 이름으로 함수에 전달\n",
    "    print('Before:', f , 'id(f):', id(f))\n",
    "    f=f*3\n",
    "    print('After:', f , 'id(f)':, id(f))\n",
    "func1(foo) #함수호출(foo의 값을 f에 전달)"
   ]
  },
  {
   "cell_type": "code",
   "execution_count": 32,
   "id": "b0868baa",
   "metadata": {},
   "outputs": [
    {
     "name": "stdout",
     "output_type": "stream",
     "text": [
      "a 2029137454896\n"
     ]
    }
   ],
   "source": [
    "print(foo, id(foo))"
   ]
  },
  {
   "cell_type": "markdown",
   "id": "6876946e",
   "metadata": {},
   "source": [
    "## 1.5 참조에 의한 호출(주소에 의한 호출)\n",
    "- 함수의 매개변수(인자)로 전달되는 변수가 리스트, 튜플, 셋, 딕셔너리 등의 객체일 경우\n",
    "- 원본 주소(실물)을 줌"
   ]
  },
  {
   "cell_type": "code",
   "execution_count": 28,
   "id": "95e79d77",
   "metadata": {},
   "outputs": [
    {
     "data": {
      "text/plain": [
       "2029257579840"
      ]
     },
     "execution_count": 28,
     "metadata": {},
     "output_type": "execute_result"
    }
   ],
   "source": [
    "L=[1,2,3]\n",
    "id(L)"
   ]
  },
  {
   "cell_type": "code",
   "execution_count": 33,
   "id": "fb8a9013",
   "metadata": {},
   "outputs": [
    {
     "name": "stdout",
     "output_type": "stream",
     "text": [
      "Before : [1, 2, 3, 4] 2029257579840\n",
      "After : [1, 2, 3, 4, 4] 2029257579840\n"
     ]
    }
   ],
   "source": [
    "def func2(f): # 매개변수는 지역변수\n",
    "    print('Before :', f, id(f))\n",
    "    f.append(4)\n",
    "    print('After :', f, id(f))\n",
    "func2(L)"
   ]
  },
  {
   "cell_type": "code",
   "execution_count": 34,
   "id": "ccb018ea",
   "metadata": {},
   "outputs": [
    {
     "name": "stdout",
     "output_type": "stream",
     "text": [
      "L = [1, 2, 3, 4, 4] 2029257579840\n"
     ]
    }
   ],
   "source": [
    "print('L =', L, id(L))"
   ]
  },
  {
   "cell_type": "markdown",
   "id": "46372b27",
   "metadata": {},
   "source": [
    "# 2절. 함수의 실행결과를 반환하는 return\n",
    "- 함수가 실행을 끝내고 결과를 밖으로 돌려주는 문장을 뜻함."
   ]
  },
  {
   "cell_type": "code",
   "execution_count": 169,
   "id": "c10df3ad",
   "metadata": {},
   "outputs": [
    {
     "name": "stdout",
     "output_type": "stream",
     "text": [
      "8\n"
     ]
    }
   ],
   "source": [
    "def adf(a, b):         #함수를 정의함 adf는 (a,b)\n",
    "    return a + b\n",
    "result = adf(3, 5)     #변수선언\n",
    "print(result)"
   ]
  },
  {
   "cell_type": "code",
   "execution_count": 51,
   "id": "eb36040f",
   "metadata": {},
   "outputs": [],
   "source": [
    "def fibonacci_print(n):\n",
    "    '''\n",
    "    매개변수로 들어온 n값 미만의 피보나치 수열을 출력\n",
    "    ex. n=10이면 0 1 1 2 3 5 8을 출력\n",
    "    '''\n",
    "    a, b = 0, 1\n",
    "    while a < n:\n",
    "        print(a, end=' ')\n",
    "        a, b = b, a+b\n",
    "    print() #개행\n",
    "\n",
    "def fibonacci_return(n):\n",
    "    '''\n",
    "    매개변수로 들어온 n값 미만의 피보나치 수열을 리스트로 return\n",
    "    ex. n=10이면 [0 1 1 2 3 5 8]을 return\n",
    "    '''\n",
    "    result = []\n",
    "    a, b = 0, 1\n",
    "    while a < n:\n",
    "        result.append(a)\n",
    "        a, b = b, a+b\n",
    "    return result"
   ]
  },
  {
   "cell_type": "code",
   "execution_count": 50,
   "id": "68cd4ca1",
   "metadata": {},
   "outputs": [
    {
     "name": "stdout",
     "output_type": "stream",
     "text": [
      "0 1 1 2 3 5 8 13 21 34 55 89 \n",
      "None\n"
     ]
    }
   ],
   "source": [
    "x = fibonacci_print(100)\n",
    "print(x)"
   ]
  },
  {
   "cell_type": "code",
   "execution_count": 52,
   "id": "bbaa1c45",
   "metadata": {},
   "outputs": [
    {
     "name": "stdout",
     "output_type": "stream",
     "text": [
      "[0, 1, 1, 2, 3, 5, 8, 13, 21, 34, 55, 89]\n",
      "<class 'list'>\n"
     ]
    }
   ],
   "source": [
    "x = fibonacci_return(100)\n",
    "print(x)\n",
    "print(type(x))"
   ]
  },
  {
   "cell_type": "markdown",
   "id": "eb99b153",
   "metadata": {},
   "source": [
    "## 여러개 값을 return"
   ]
  },
  {
   "cell_type": "code",
   "execution_count": 53,
   "id": "c262ac91",
   "metadata": {},
   "outputs": [],
   "source": [
    "def swap(a, b):\n",
    "    '매개변수의 순서를 바꿔서 return'\n",
    "    return b, a"
   ]
  },
  {
   "cell_type": "code",
   "execution_count": 54,
   "id": "982ae0b3",
   "metadata": {},
   "outputs": [],
   "source": [
    "a, b = 10, 11"
   ]
  },
  {
   "cell_type": "code",
   "execution_count": 58,
   "id": "b2818b75",
   "metadata": {},
   "outputs": [
    {
     "name": "stdout",
     "output_type": "stream",
     "text": [
      "함수 실행 전 : x=5 y=10\n",
      "함수 실행 후 : x=10 y=5\n"
     ]
    }
   ],
   "source": [
    "x, y = 5, 10\n",
    "print(f'함수 실행 전 : x={x} y={y}')\n",
    "x, y = swap(x, y)\n",
    "print(f'함수 실행 후 : x={x} y={y}')"
   ]
  },
  {
   "cell_type": "markdown",
   "id": "d655707c",
   "metadata": {},
   "source": [
    "# 3절.  함수의 매개변수 ★\n",
    "- 함수를 정의할 때 인자를 여러개 받을 수 있는 방법"
   ]
  },
  {
   "cell_type": "markdown",
   "id": "0596cd08",
   "metadata": {},
   "source": [
    "## 3.1 기본값을 갖는 매개변수"
   ]
  },
  {
   "cell_type": "code",
   "execution_count": 66,
   "id": "13141eb6",
   "metadata": {},
   "outputs": [],
   "source": [
    "def make_url(ip, port=80):   #순서인수가 앞에 와야하며, 기본값은 갖는 매개변수가 뒤에 와야한다.\n",
    "    return \"http://{}:{}\".format(ip, port)"
   ]
  },
  {
   "cell_type": "code",
   "execution_count": 68,
   "id": "d2282aa4",
   "metadata": {},
   "outputs": [
    {
     "name": "stdout",
     "output_type": "stream",
     "text": [
      "http://www.naver.com:80\n",
      "http://localhost:8090\n",
      "http://localhost:8090\n"
     ]
    }
   ],
   "source": [
    "print(make_url('www.naver.com'))\n",
    "print(make_url('localhost', 8090))\n",
    "print(make_url(port=8090, ip='localhost'))"
   ]
  },
  {
   "cell_type": "markdown",
   "id": "89a7e24b",
   "metadata": {},
   "source": [
    "## 3.2 기본변수를 갖는 매개변수\n",
    "- 기본변수가 스칼라 변수일 때\n",
    "- 기본변수가 리스트, 셋, 딕셔너리 등의 객체일 때"
   ]
  },
  {
   "cell_type": "code",
   "execution_count": 72,
   "id": "f1e17081",
   "metadata": {},
   "outputs": [],
   "source": [
    "i = 5\n",
    "# 기본값을 갖는 변수가 스칼라 변수일 때 : arg의 기본값은 함수가 정의되는 시점의 값\n",
    "def func2(arg=i):\n",
    "    print('arg=',arg)"
   ]
  },
  {
   "cell_type": "code",
   "execution_count": 74,
   "id": "971a2992",
   "metadata": {},
   "outputs": [
    {
     "name": "stdout",
     "output_type": "stream",
     "text": [
      "arg= 5\n"
     ]
    }
   ],
   "source": [
    "i=50\n",
    "func2()"
   ]
  },
  {
   "cell_type": "code",
   "execution_count": 76,
   "id": "5b05a9b0",
   "metadata": {},
   "outputs": [],
   "source": [
    "list_ = []\n",
    "# 기본값을 갖는 변수가 객체(데이터구조)일 때 : arg의 기본값은 함수가 정의되는 시점의 값\n",
    "def func3(data, L=list_):\n",
    "    'data를 L에 append'\n",
    "    L.append(data)\n",
    "    return L"
   ]
  },
  {
   "cell_type": "code",
   "execution_count": 84,
   "id": "2b49f0c5",
   "metadata": {},
   "outputs": [
    {
     "name": "stdout",
     "output_type": "stream",
     "text": [
      "[10, 10, 10, 10, 10, 10, 10, 10]\n"
     ]
    }
   ],
   "source": [
    "print(func3(10)) #list_가 수정 : [10]"
   ]
  },
  {
   "cell_type": "code",
   "execution_count": 85,
   "id": "f2e9bb78",
   "metadata": {},
   "outputs": [
    {
     "data": {
      "text/plain": [
       "[10, 10, 10, 10, 10, 10, 10, 10]"
      ]
     },
     "execution_count": 85,
     "metadata": {},
     "output_type": "execute_result"
    }
   ],
   "source": [
    "list_"
   ]
  },
  {
   "cell_type": "code",
   "execution_count": 86,
   "id": "c27fddd8",
   "metadata": {},
   "outputs": [
    {
     "name": "stdout",
     "output_type": "stream",
     "text": [
      "[10, 10, 10, 10, 10, 10, 10, 10, 20]\n"
     ]
    }
   ],
   "source": [
    "print(func3(20, list_))"
   ]
  },
  {
   "cell_type": "code",
   "execution_count": 87,
   "id": "3061ce85",
   "metadata": {},
   "outputs": [
    {
     "data": {
      "text/plain": [
       "[10, 10, 10, 10, 10, 10, 10, 10, 20]"
      ]
     },
     "execution_count": 87,
     "metadata": {},
     "output_type": "execute_result"
    }
   ],
   "source": [
    "list_"
   ]
  },
  {
   "cell_type": "code",
   "execution_count": 90,
   "id": "a2c829b9",
   "metadata": {},
   "outputs": [],
   "source": [
    "def func4(data, L=None):\n",
    "    if L==None:\n",
    "        L = []\n",
    "    L.append(data)\n",
    "    return L"
   ]
  },
  {
   "cell_type": "code",
   "execution_count": 91,
   "id": "c40372a0",
   "metadata": {},
   "outputs": [
    {
     "name": "stdout",
     "output_type": "stream",
     "text": [
      "[10]\n",
      "[10, 10, 10, 10, 10, 10, 10, 10, 20, 10]\n"
     ]
    }
   ],
   "source": [
    "print(func4(10))\n",
    "print(func4(10, list_))"
   ]
  },
  {
   "cell_type": "markdown",
   "id": "b08aacfb",
   "metadata": {},
   "source": [
    "## 3.3 튜플 매개변수를 이용한 가변인수 설정"
   ]
  },
  {
   "cell_type": "code",
   "execution_count": 92,
   "id": "fe93e8ee",
   "metadata": {},
   "outputs": [],
   "source": [
    "#파이썬은 오버로딩(함수의 중복)을 지원하지 않는다.\n",
    "def add(a, b):\n",
    "    return a+b\n",
    "def add(a, b, c):\n",
    "    return a+b+c"
   ]
  },
  {
   "cell_type": "code",
   "execution_count": 93,
   "id": "33da1ff5",
   "metadata": {},
   "outputs": [
    {
     "ename": "TypeError",
     "evalue": "add() takes 3 positional arguments but 4 were given",
     "output_type": "error",
     "traceback": [
      "\u001b[1;31m---------------------------------------------------------------------------\u001b[0m",
      "\u001b[1;31mTypeError\u001b[0m                                 Traceback (most recent call last)",
      "Cell \u001b[1;32mIn[93], line 1\u001b[0m\n\u001b[1;32m----> 1\u001b[0m \u001b[43madd\u001b[49m\u001b[43m(\u001b[49m\u001b[38;5;241;43m1\u001b[39;49m\u001b[43m,\u001b[49m\u001b[38;5;241;43m2\u001b[39;49m\u001b[43m,\u001b[49m\u001b[38;5;241;43m3\u001b[39;49m\u001b[43m,\u001b[49m\u001b[38;5;241;43m4\u001b[39;49m\u001b[43m)\u001b[49m\n",
      "\u001b[1;31mTypeError\u001b[0m: add() takes 3 positional arguments but 4 were given"
     ]
    }
   ],
   "source": [
    "add(1,2,3,4)"
   ]
  },
  {
   "cell_type": "code",
   "execution_count": 101,
   "id": "11baa461",
   "metadata": {},
   "outputs": [],
   "source": [
    "# *args: 튜플 매개변수라는 뜻으로, 매개변수를 튜플로 묶어서 받는 문법(함수에 인자를 몇개 넣을지 모를 때 유용함.)\n",
    "# '*'가 핵심임 그 뒤에 단어를 아무거나 해도 상관없음.\n",
    "def add(*args):\n",
    "    '전달받은 매개변수들의 합은 return'\n",
    "    # print('args = ',args)\n",
    "    result_tot = 0 #누적변수\n",
    "    for data in args:\n",
    "        result_tot += data\n",
    "    return result_tot"
   ]
  },
  {
   "cell_type": "code",
   "execution_count": 102,
   "id": "079cc4a4",
   "metadata": {},
   "outputs": [
    {
     "name": "stdout",
     "output_type": "stream",
     "text": [
      "1\n",
      "3\n",
      "6\n",
      "21\n"
     ]
    }
   ],
   "source": [
    "print(add(1))\n",
    "print(add(1,2))\n",
    "print(add(1,2,3))\n",
    "print(add(1,2,3,4,5,6))"
   ]
  },
  {
   "cell_type": "code",
   "execution_count": 104,
   "id": "e62b9184",
   "metadata": {},
   "outputs": [
    {
     "data": {
      "text/plain": [
       "'Python/Oracle/DL/ML'"
      ]
     },
     "execution_count": 104,
     "metadata": {},
     "output_type": "execute_result"
    }
   ],
   "source": [
    "subject=('Python','Oracle','DL','ML')\n",
    "'/'.join(subject)"
   ]
  },
  {
   "cell_type": "code",
   "execution_count": 106,
   "id": "f775e855",
   "metadata": {},
   "outputs": [],
   "source": [
    "def concat(*subject, sep):\n",
    "    return sep.join(subject)"
   ]
  },
  {
   "cell_type": "code",
   "execution_count": 108,
   "id": "549251a0",
   "metadata": {},
   "outputs": [
    {
     "ename": "TypeError",
     "evalue": "concat() missing 1 required keyword-only argument: 'sep'",
     "output_type": "error",
     "traceback": [
      "\u001b[1;31m---------------------------------------------------------------------------\u001b[0m",
      "\u001b[1;31mTypeError\u001b[0m                                 Traceback (most recent call last)",
      "Cell \u001b[1;32mIn[108], line 1\u001b[0m\n\u001b[1;32m----> 1\u001b[0m \u001b[43mconcat\u001b[49m\u001b[43m(\u001b[49m\u001b[38;5;124;43m'\u001b[39;49m\u001b[38;5;124;43mPython\u001b[39;49m\u001b[38;5;124;43m'\u001b[39;49m\u001b[43m,\u001b[49m\u001b[43m \u001b[49m\u001b[38;5;124;43m'\u001b[39;49m\u001b[38;5;124;43mOracle\u001b[39;49m\u001b[38;5;124;43m'\u001b[39;49m\u001b[43m,\u001b[49m\u001b[43m \u001b[49m\u001b[38;5;124;43m'\u001b[39;49m\u001b[38;5;124;43mDL\u001b[39;49m\u001b[38;5;124;43m'\u001b[39;49m\u001b[43m,\u001b[49m\u001b[43m \u001b[49m\u001b[38;5;124;43m'\u001b[39;49m\u001b[38;5;124;43mML\u001b[39;49m\u001b[38;5;124;43m'\u001b[39;49m\u001b[43m,\u001b[49m\u001b[43m \u001b[49m\u001b[38;5;124;43m'\u001b[39;49m\u001b[38;5;124;43m/\u001b[39;49m\u001b[38;5;124;43m'\u001b[39;49m\u001b[43m)\u001b[49m\n",
      "\u001b[1;31mTypeError\u001b[0m: concat() missing 1 required keyword-only argument: 'sep'"
     ]
    }
   ],
   "source": [
    "concat('Python', 'Oracle', 'DL', 'ML', '/')"
   ]
  },
  {
   "cell_type": "code",
   "execution_count": 112,
   "id": "415be694",
   "metadata": {},
   "outputs": [
    {
     "data": {
      "text/plain": [
       "'Python/Oracle/DL/ML'"
      ]
     },
     "execution_count": 112,
     "metadata": {},
     "output_type": "execute_result"
    }
   ],
   "source": [
    "# 해결책 1 : 매개변수 이름을 지정해서 호출(강사님 기준 가장 비추천하는 방식)\n",
    "concat('Python', 'Oracle', 'DL', 'ML', sep='/')"
   ]
  },
  {
   "cell_type": "code",
   "execution_count": 116,
   "id": "4862a117",
   "metadata": {},
   "outputs": [],
   "source": [
    "#해결책 2 : 기본값을 반드시 갖는 키워드인수 사용\n",
    "def concat(*subject, sep=' ~ '):\n",
    "    return sep.join(subject)"
   ]
  },
  {
   "cell_type": "code",
   "execution_count": 118,
   "id": "b4f9cd42",
   "metadata": {},
   "outputs": [
    {
     "data": {
      "text/plain": [
       "'Python/Oracle/DL/ML'"
      ]
     },
     "execution_count": 118,
     "metadata": {},
     "output_type": "execute_result"
    }
   ],
   "source": [
    "concat('Python', 'Oracle', 'DL', 'ML', sep='/')"
   ]
  },
  {
   "cell_type": "code",
   "execution_count": 119,
   "id": "d299b8db",
   "metadata": {},
   "outputs": [
    {
     "name": "stdout",
     "output_type": "stream",
     "text": [
      "Python/Oracle/DL/ML\n"
     ]
    }
   ],
   "source": [
    "print('Python', 'Oracle', 'DL', 'ML', sep='/')"
   ]
  },
  {
   "cell_type": "code",
   "execution_count": 123,
   "id": "f5a9e71e",
   "metadata": {},
   "outputs": [],
   "source": [
    "#해결책 3 : sep을 순서인수로 앞에 선언\n",
    "#(가장 추천하는 방식, 사실상 이게 가장 깔끔한 해결책이라고 할 수 있다.)\n",
    "def concat(sep, *subject):\n",
    "    return sep.join(subject)"
   ]
  },
  {
   "cell_type": "code",
   "execution_count": 124,
   "id": "503347c3",
   "metadata": {},
   "outputs": [
    {
     "data": {
      "text/plain": [
       "'Python/Oracle/DL'"
      ]
     },
     "execution_count": 124,
     "metadata": {},
     "output_type": "execute_result"
    }
   ],
   "source": [
    "concat('/','Python','Oracle','DL')"
   ]
  },
  {
   "cell_type": "markdown",
   "id": "921831fd",
   "metadata": {},
   "source": [
    "## 3.4 딕셔너리 매개변수\n",
    "- 여러 개의 키워드 인수를 딕셔너리 형태로 받아서 가변키워드 인수처리"
   ]
  },
  {
   "cell_type": "code",
   "execution_count": 127,
   "id": "36b22f6d",
   "metadata": {},
   "outputs": [],
   "source": [
    "def func5(**kwargs):\n",
    "    print(kwargs)\n",
    "    print(type(kwargs))\n",
    "    print('이름 :', kwargs.get('name', '대마왕'))\n",
    "    print('나이 :', kwargs.get('age', '30'))\n",
    "    print('주소 :', kwargs.get('address', '서울'))"
   ]
  },
  {
   "cell_type": "code",
   "execution_count": 128,
   "id": "2a2b80eb",
   "metadata": {},
   "outputs": [
    {
     "name": "stdout",
     "output_type": "stream",
     "text": [
      "{'name': '홍길동', 'age': '30', 'address': '신림동'}\n",
      "<class 'dict'>\n",
      "이름 : 홍길동\n",
      "나이 : 30\n",
      "주소 : 신림동\n"
     ]
    }
   ],
   "source": [
    "func5(name='홍길동', age='30', address='신림동')"
   ]
  },
  {
   "cell_type": "code",
   "execution_count": 129,
   "id": "382e5a04",
   "metadata": {},
   "outputs": [
    {
     "name": "stdout",
     "output_type": "stream",
     "text": [
      "{'name': '김길동'}\n",
      "<class 'dict'>\n",
      "이름 : 김길동\n",
      "나이 : 30\n",
      "주소 : 서울\n"
     ]
    }
   ],
   "source": [
    "func5(name='김길동')"
   ]
  },
  {
   "cell_type": "markdown",
   "id": "33ff41c8",
   "metadata": {},
   "source": [
    "## 3.5 함수정의시 매개변수 순서\n",
    "- 순서인수 > 튜플매개변수(*) > 키워드인수(매개변수이름반드시명시) > 딕셔너리매개변수(**)"
   ]
  },
  {
   "cell_type": "code",
   "execution_count": 130,
   "id": "fe3cb29f",
   "metadata": {},
   "outputs": [],
   "source": [
    "def func6(a, b, *c, **d):            #순서가 중요함, 순서가 틀릴 시 오류가 발생할 수 있음.\n",
    "#        ↑순서  ↑튜플 ↑딕셔너리\n",
    "    print('순서인수 a :', a)\n",
    "    print('순서인수 b :', b)\n",
    "    print('튜플인수 c :', c)\n",
    "    print('딕셔너리 인수 d :', d)"
   ]
  },
  {
   "cell_type": "code",
   "execution_count": 131,
   "id": "e7997f4f",
   "metadata": {},
   "outputs": [
    {
     "name": "stdout",
     "output_type": "stream",
     "text": [
      "순서인수 a : 10\n",
      "순서인수 b : 20\n",
      "튜플인수 c : (1, 2, 3, 4, 5, 6, 7, 8, 9)\n",
      "딕셔너리 인수 d : {'name': '홍길동', 'age': 30, 'address': '서울'}\n"
     ]
    }
   ],
   "source": [
    "func6(10, 20, 1, 2, 3, 4, 5, 6, 7, 8, 9, name='홍길동', age=30, address='서울')"
   ]
  },
  {
   "cell_type": "code",
   "execution_count": 134,
   "id": "9ff0eccb",
   "metadata": {},
   "outputs": [],
   "source": [
    "def func7(a, b, *c, d='기본값', **e) :\n",
    "    print('순서인수 a :', a)\n",
    "    print('순서인수 b :', b)\n",
    "    print('튜플인수 c :', c)\n",
    "    print('키워드인수(기본값을 갖는 인수, 호출시 매개변수명 반드시 명시) d :', d)\n",
    "    print('딕셔너리인수 e :', e)"
   ]
  },
  {
   "cell_type": "code",
   "execution_count": 135,
   "id": "8a0c3067",
   "metadata": {},
   "outputs": [
    {
     "name": "stdout",
     "output_type": "stream",
     "text": [
      "순서인수 a : 10\n",
      "순서인수 b : 20\n",
      "튜플인수 c : (1, 2, 3)\n",
      "키워드인수(기본값을 갖는 인수, 호출시 매개변수명 반드시 명시) d : 딴거\n",
      "딕셔너리인수 e : {'fontsize': 12, 'fontfamily': 'consola'}\n"
     ]
    }
   ],
   "source": [
    "func7(10, 20, 1, 2, 3, d='딴거', fontsize=12, fontfamily='consola')"
   ]
  },
  {
   "cell_type": "code",
   "execution_count": 136,
   "id": "f96cf82b",
   "metadata": {},
   "outputs": [
    {
     "name": "stdout",
     "output_type": "stream",
     "text": [
      "순서인수 a : 10\n",
      "순서인수 b : 20\n",
      "튜플인수 c : (1, 2, 3, '딴거')\n",
      "키워드인수(기본값을 갖는 인수, 호출시 매개변수명 반드시 명시) d : 기본값\n",
      "딕셔너리인수 e : {'fontsize': 12, 'fontfamily': 'consola'}\n"
     ]
    }
   ],
   "source": [
    "func7(10, 20, 1, 2, 3, '딴거', fontsize=12, fontfamily='consola')"
   ]
  },
  {
   "cell_type": "markdown",
   "id": "fd3374f4",
   "metadata": {},
   "source": [
    "## 3.6 인수(매개변수)의 언패킹\n",
    "### 튜플인수 언패킹\n",
    "- 언패킹 : 함수 호출 시 매개변수 앞에 *붙임\n",
    "- 패킹 : 함수 정의 시 매개변수 앞에 *붙임(튜플매개변수)"
   ]
  },
  {
   "cell_type": "code",
   "execution_count": 142,
   "id": "022b5d6b",
   "metadata": {},
   "outputs": [],
   "source": [
    "def add(*args) :\n",
    "    print(args)\n",
    "    tot = 0\n",
    "    for num in args:\n",
    "        tot += num\n",
    "    return tot"
   ]
  },
  {
   "cell_type": "code",
   "execution_count": 143,
   "id": "8443acbd",
   "metadata": {},
   "outputs": [
    {
     "name": "stdout",
     "output_type": "stream",
     "text": [
      "(1, 2, 3, 4)\n"
     ]
    },
    {
     "data": {
      "text/plain": [
       "10"
      ]
     },
     "execution_count": 143,
     "metadata": {},
     "output_type": "execute_result"
    }
   ],
   "source": [
    "add(1, 2, 3, 4,)"
   ]
  },
  {
   "cell_type": "code",
   "execution_count": 144,
   "id": "9f807d7d",
   "metadata": {},
   "outputs": [
    {
     "name": "stdout",
     "output_type": "stream",
     "text": [
      "(1, 2, 3, 4)\n"
     ]
    },
    {
     "data": {
      "text/plain": [
       "10"
      ]
     },
     "execution_count": 144,
     "metadata": {},
     "output_type": "execute_result"
    }
   ],
   "source": [
    "numbers = [1, 2, 3, 4]\n",
    "add(*numbers) # 언패킹"
   ]
  },
  {
   "cell_type": "code",
   "execution_count": 145,
   "id": "4d856b1a",
   "metadata": {},
   "outputs": [
    {
     "name": "stdout",
     "output_type": "stream",
     "text": [
      "(1, 2, 3, 4)\n"
     ]
    },
    {
     "data": {
      "text/plain": [
       "10"
      ]
     },
     "execution_count": 145,
     "metadata": {},
     "output_type": "execute_result"
    }
   ],
   "source": [
    "numbers=(1,2,3,4)\n",
    "add(*numbers) #언패킹"
   ]
  },
  {
   "cell_type": "markdown",
   "id": "2ce03708",
   "metadata": {},
   "source": [
    "### 딕셔너리인수 언패킹\n",
    "- 언패킹 : 함수 호출 시 매개변수 앞에 ** 붙임\n",
    "- 패킹 : 함수 정의 시 매개변수 앞에 ** 붙임(딕셔너리 매개변수)"
   ]
  },
  {
   "cell_type": "code",
   "execution_count": 147,
   "id": "41595ed6",
   "metadata": {},
   "outputs": [],
   "source": [
    "def func5(**data):\n",
    "    print(type(data))\n",
    "    for key, item in data.items():\n",
    "        print(f'{key}:{item}')"
   ]
  },
  {
   "cell_type": "code",
   "execution_count": 148,
   "id": "49a77348",
   "metadata": {},
   "outputs": [
    {
     "name": "stdout",
     "output_type": "stream",
     "text": [
      "<class 'dict'>\n",
      "name:홍길동\n",
      "age:30\n",
      "address:신림\n"
     ]
    }
   ],
   "source": [
    "func5(name='홍길동', age=30, address='신림')"
   ]
  },
  {
   "cell_type": "code",
   "execution_count": 150,
   "id": "f758df71",
   "metadata": {},
   "outputs": [
    {
     "name": "stdout",
     "output_type": "stream",
     "text": [
      "<class 'dict'>\n",
      "name:홍길동\n",
      "age:30\n",
      "address:서울시 강남구\n",
      "score:900\n"
     ]
    }
   ],
   "source": [
    "customInfo = {'name':'홍길동', 'age':30, 'address':'서울시 강남구', 'score':900}\n",
    "func5(**customInfo)"
   ]
  },
  {
   "cell_type": "markdown",
   "id": "1fb25677",
   "metadata": {},
   "source": [
    "# 4절. 람다식\n",
    "- return 한줄짜리 작은 익명함수\n",
    "- 간단한 계산을 짧게 쓰는 함수"
   ]
  },
  {
   "cell_type": "code",
   "execution_count": 152,
   "id": "78642795",
   "metadata": {},
   "outputs": [],
   "source": [
    "#문법구조\n",
    "# lambda 매개변수 : 결과식"
   ]
  },
  {
   "cell_type": "code",
   "execution_count": 153,
   "id": "7810a76e",
   "metadata": {},
   "outputs": [
    {
     "data": {
      "text/plain": [
       "7"
      ]
     },
     "execution_count": 153,
     "metadata": {},
     "output_type": "execute_result"
    }
   ],
   "source": [
    "#예시\n",
    "#일반함수\n",
    "def add(x, y):\n",
    "    return x+y\n",
    "add(3, 4)"
   ]
  },
  {
   "cell_type": "code",
   "execution_count": 156,
   "id": "a46af635",
   "metadata": {},
   "outputs": [
    {
     "data": {
      "text/plain": [
       "7"
      ]
     },
     "execution_count": 156,
     "metadata": {},
     "output_type": "execute_result"
    }
   ],
   "source": [
    "#람다식\n",
    "#모든함수를 람다식으로 바꿀 수 없으며 return이 포함되어 있어야 함.\n",
    "add2 = lambda a,b : a+b\n",
    "add2(3, 4)"
   ]
  },
  {
   "cell_type": "code",
   "execution_count": 157,
   "id": "1fab538b",
   "metadata": {},
   "outputs": [
    {
     "data": {
      "text/plain": [
       "(function, function)"
      ]
     },
     "execution_count": 157,
     "metadata": {},
     "output_type": "execute_result"
    }
   ],
   "source": [
    "type(add), type(add2)"
   ]
  },
  {
   "cell_type": "code",
   "execution_count": 158,
   "id": "ba320540",
   "metadata": {},
   "outputs": [
    {
     "data": {
      "text/plain": [
       "7"
      ]
     },
     "execution_count": 158,
     "metadata": {},
     "output_type": "execute_result"
    }
   ],
   "source": [
    "(lambda a, b : a+b)(3, 4)"
   ]
  },
  {
   "cell_type": "code",
   "execution_count": 163,
   "id": "00bb9bfb",
   "metadata": {},
   "outputs": [
    {
     "data": {
      "text/plain": [
       "('짝수', '홀수')"
      ]
     },
     "execution_count": 163,
     "metadata": {},
     "output_type": "execute_result"
    }
   ],
   "source": [
    "# ex1. 매개변수로 들어온 값이 짝수인지 홀수인지 return\n",
    "#람다식 만드는 요령 1 일단 함수를 하나 만든다\n",
    "def ex1(num):\n",
    "    if num%2:\n",
    "        result=\"홀수\"\n",
    "    else:\n",
    "        result=\"짝수\"\n",
    "    result = \"홀수\" if num%2 else \"짝수\"\n",
    "    return result\n",
    "ex1(2), ex1(-9)"
   ]
  },
  {
   "cell_type": "code",
   "execution_count": 159,
   "id": "d1ac271e",
   "metadata": {},
   "outputs": [
    {
     "data": {
      "text/plain": [
       "('짝수', '홀수')"
      ]
     },
     "execution_count": 159,
     "metadata": {},
     "output_type": "execute_result"
    }
   ],
   "source": [
    "ex1 = lambda num : \"홀수\" if num%2 else \"짝수\"\n",
    "ex1(10), ex1(-9)"
   ]
  },
  {
   "cell_type": "code",
   "execution_count": 172,
   "id": "f235254a",
   "metadata": {},
   "outputs": [
    {
     "data": {
      "text/plain": [
       "(1, 10)"
      ]
     },
     "execution_count": 172,
     "metadata": {},
     "output_type": "execute_result"
    }
   ],
   "source": [
    "# ex2. 두 매개변수의 차이를 return\n",
    "def diff(a,b):\n",
    "    if a>b:\n",
    "        result = a-b\n",
    "    else:\n",
    "        result = b-a\n",
    "    return result\n",
    "diff(2, 1), diff(10, 20)    \n",
    "#람다식으로 변경하기 위해선 위의 if문을 한줄로 바꿀 수 있어야 한다.\n",
    "# result = a-b if a>b else b-a"
   ]
  },
  {
   "cell_type": "code",
   "execution_count": 173,
   "id": "42734a93",
   "metadata": {},
   "outputs": [
    {
     "name": "stdout",
     "output_type": "stream",
     "text": [
      "1 10\n",
      "<class 'function'> <class 'function'>\n"
     ]
    }
   ],
   "source": [
    "ex2 = lambda a, b : a-b if a>b else b-a\n",
    "print(ex2(2, 1), ex2(10,20))\n",
    "print(type(diff), type(ex2))"
   ]
  },
  {
   "cell_type": "code",
   "execution_count": 174,
   "id": "c5004715",
   "metadata": {},
   "outputs": [
    {
     "data": {
      "text/plain": [
       "(1000, 'negative')"
      ]
     },
     "execution_count": 174,
     "metadata": {},
     "output_type": "execute_result"
    }
   ],
   "source": [
    "# ex3. 매개변수로 잔액을 받아 양수면 잔액을 return, 음수 'negative'를 return\n",
    "ex3 = lambda money : money if money>0 else 'negative'\n",
    "ex3(1000), ex3(-100)"
   ]
  },
  {
   "cell_type": "code",
   "execution_count": null,
   "id": "cce055ed",
   "metadata": {},
   "outputs": [],
   "source": [
    "# ex4. 점수를 입력받아 점수가 80점 이상은 A팀, 60점 이상은 B팀, 60점 미만은 재시험. 그외는 유효하지 않음.\n",
    "ex4 = lambda score : \"A팀\" if 80<=score<=100 else (\"B팀\" if 60<=score<80)"
   ]
  },
  {
   "cell_type": "code",
   "execution_count": null,
   "id": "f9968311",
   "metadata": {},
   "outputs": [],
   "source": [
    "# ex5. safe_index를 람다식으로 \n",
    "def safe_index(lst, data):\n",
    "    if data in lst: # lst안에 data 있는지 여부\n",
    "        return lst.index(data)\n",
    "    else:\n",
    "        return -1"
   ]
  },
  {
   "cell_type": "code",
   "execution_count": null,
   "id": "4bccf7a7",
   "metadata": {},
   "outputs": [],
   "source": []
  },
  {
   "cell_type": "code",
   "execution_count": null,
   "id": "902629ca",
   "metadata": {},
   "outputs": [],
   "source": []
  },
  {
   "cell_type": "code",
   "execution_count": null,
   "id": "d53e35b7",
   "metadata": {},
   "outputs": [],
   "source": []
  },
  {
   "cell_type": "code",
   "execution_count": null,
   "id": "2f0780d5",
   "metadata": {},
   "outputs": [],
   "source": []
  },
  {
   "cell_type": "code",
   "execution_count": null,
   "id": "82a23927",
   "metadata": {},
   "outputs": [],
   "source": []
  },
  {
   "cell_type": "code",
   "execution_count": null,
   "id": "ef3a90b7",
   "metadata": {},
   "outputs": [],
   "source": []
  },
  {
   "cell_type": "code",
   "execution_count": null,
   "id": "1a6d5ff2",
   "metadata": {},
   "outputs": [],
   "source": []
  },
  {
   "cell_type": "code",
   "execution_count": null,
   "id": "77425b01",
   "metadata": {},
   "outputs": [],
   "source": []
  },
  {
   "cell_type": "code",
   "execution_count": null,
   "id": "3fa1bdb3",
   "metadata": {},
   "outputs": [],
   "source": []
  },
  {
   "cell_type": "code",
   "execution_count": null,
   "id": "3d101288",
   "metadata": {},
   "outputs": [],
   "source": []
  },
  {
   "cell_type": "code",
   "execution_count": null,
   "id": "3e65a1d4",
   "metadata": {},
   "outputs": [],
   "source": []
  },
  {
   "cell_type": "code",
   "execution_count": null,
   "id": "13215e45",
   "metadata": {},
   "outputs": [],
   "source": []
  },
  {
   "cell_type": "code",
   "execution_count": null,
   "id": "c6449b9a",
   "metadata": {},
   "outputs": [],
   "source": []
  },
  {
   "cell_type": "code",
   "execution_count": null,
   "id": "95d22668",
   "metadata": {},
   "outputs": [],
   "source": []
  },
  {
   "cell_type": "code",
   "execution_count": null,
   "id": "6896dd18",
   "metadata": {},
   "outputs": [],
   "source": []
  },
  {
   "cell_type": "code",
   "execution_count": null,
   "id": "0a3e5cac",
   "metadata": {},
   "outputs": [],
   "source": []
  }
 ],
 "metadata": {
  "kernelspec": {
   "display_name": "Python 3 (ipykernel)",
   "language": "python",
   "name": "python3"
  },
  "language_info": {
   "codemirror_mode": {
    "name": "ipython",
    "version": 3
   },
   "file_extension": ".py",
   "mimetype": "text/x-python",
   "name": "python",
   "nbconvert_exporter": "python",
   "pygments_lexer": "ipython3",
   "version": "3.10.9"
  },
  "toc": {
   "base_numbering": 1,
   "nav_menu": {},
   "number_sections": false,
   "sideBar": true,
   "skip_h1_title": false,
   "title_cell": "Table of Contents",
   "title_sidebar": "Contents",
   "toc_cell": false,
   "toc_position": {
    "height": "calc(100% - 180px)",
    "left": "10px",
    "top": "150px",
    "width": "382px"
   },
   "toc_section_display": true,
   "toc_window_display": false
  }
 },
 "nbformat": 4,
 "nbformat_minor": 5
}
