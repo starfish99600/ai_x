{
 "cells": [
  {
   "cell_type": "code",
   "execution_count": 2,
   "id": "5b2c2310",
   "metadata": {},
   "outputs": [
    {
     "data": {
      "text/html": [
       "\n",
       "<style>\n",
       "div.container{width:85% !important;}\n",
       "div.cell.code_cell.rendered{width:100%;}\n",
       "div.input_prompt{padding:0px;}\n",
       "div.CodeMirror {font-family:Consolas; font-size:12pt;}\n",
       "div.output {font-size:12pt; font-weight:bold;}\n",
       "div.input {font-family:Consolas; font-size:12pt;}\n",
       "div.prompt {min-width:70px;}\n",
       "div#toc-wrapper{padding-top:120px;}\n",
       "div.text_cell_render ul li{font-size:12pt;padding:5px;}\n",
       "table.dataframe{font-size:12px;}\n",
       "</style>\n"
      ],
      "text/plain": [
       "<IPython.core.display.HTML object>"
      ]
     },
     "metadata": {},
     "output_type": "display_data"
    }
   ],
   "source": [
    "from IPython.display import display, HTML\n",
    "display(HTML(\"\"\"\n",
    "<style>\n",
    "div.container{width:85% !important;}\n",
    "div.cell.code_cell.rendered{width:100%;}\n",
    "div.input_prompt{padding:0px;}\n",
    "div.CodeMirror {font-family:Consolas; font-size:12pt;}\n",
    "div.output {font-size:12pt; font-weight:bold;}\n",
    "div.input {font-family:Consolas; font-size:12pt;}\n",
    "div.prompt {min-width:70px;}\n",
    "div#toc-wrapper{padding-top:120px;}\n",
    "div.text_cell_render ul li{font-size:12pt;padding:5px;}\n",
    "table.dataframe{font-size:12px;}\n",
    "</style>\n",
    "\"\"\"))"
   ]
  },
  {
   "cell_type": "code",
   "execution_count": 26,
   "id": "dad3901e",
   "metadata": {},
   "outputs": [
    {
     "name": "stdout",
     "output_type": "stream",
     "text": [
      "Requirement already satisfied: openai in c:\\users\\admin\\anaconda3\\lib\\site-packages (1.91.0)\n",
      "Requirement already satisfied: langchain in c:\\users\\admin\\anaconda3\\lib\\site-packages (0.3.26)\n",
      "Requirement already satisfied: python-dotenv in c:\\users\\admin\\anaconda3\\lib\\site-packages (1.1.0)\n",
      "Requirement already satisfied: anyio<5,>=3.5.0 in c:\\users\\admin\\anaconda3\\lib\\site-packages (from openai) (3.5.0)\n",
      "Requirement already satisfied: tqdm>4 in c:\\users\\admin\\anaconda3\\lib\\site-packages (from openai) (4.64.1)\n",
      "Requirement already satisfied: jiter<1,>=0.4.0 in c:\\users\\admin\\anaconda3\\lib\\site-packages (from openai) (0.10.0)\n",
      "Requirement already satisfied: httpx<1,>=0.23.0 in c:\\users\\admin\\anaconda3\\lib\\site-packages (from openai) (0.28.1)\n",
      "Requirement already satisfied: distro<2,>=1.7.0 in c:\\users\\admin\\anaconda3\\lib\\site-packages (from openai) (1.9.0)\n",
      "Requirement already satisfied: typing-extensions<5,>=4.11 in c:\\users\\admin\\anaconda3\\lib\\site-packages (from openai) (4.14.0)\n",
      "Requirement already satisfied: sniffio in c:\\users\\admin\\anaconda3\\lib\\site-packages (from openai) (1.3.1)\n",
      "Requirement already satisfied: pydantic<3,>=1.9.0 in c:\\users\\admin\\anaconda3\\lib\\site-packages (from openai) (2.11.7)\n",
      "Requirement already satisfied: langsmith>=0.1.17 in c:\\users\\admin\\anaconda3\\lib\\site-packages (from langchain) (0.4.2)\n",
      "Requirement already satisfied: langchain-text-splitters<1.0.0,>=0.3.8 in c:\\users\\admin\\anaconda3\\lib\\site-packages (from langchain) (0.3.8)\n",
      "Requirement already satisfied: langchain-core<1.0.0,>=0.3.66 in c:\\users\\admin\\anaconda3\\lib\\site-packages (from langchain) (0.3.66)\n",
      "Requirement already satisfied: PyYAML>=5.3 in c:\\users\\admin\\anaconda3\\lib\\site-packages (from langchain) (6.0.2)\n",
      "Requirement already satisfied: SQLAlchemy<3,>=1.4 in c:\\users\\admin\\anaconda3\\lib\\site-packages (from langchain) (1.4.39)\n",
      "Requirement already satisfied: requests<3,>=2 in c:\\users\\admin\\anaconda3\\lib\\site-packages (from langchain) (2.28.1)\n",
      "Requirement already satisfied: async-timeout<5.0.0,>=4.0.0 in c:\\users\\admin\\anaconda3\\lib\\site-packages (from langchain) (4.0.3)\n",
      "Requirement already satisfied: idna>=2.8 in c:\\users\\admin\\anaconda3\\lib\\site-packages (from anyio<5,>=3.5.0->openai) (3.4)\n",
      "Requirement already satisfied: httpcore==1.* in c:\\users\\admin\\anaconda3\\lib\\site-packages (from httpx<1,>=0.23.0->openai) (1.0.9)\n",
      "Requirement already satisfied: certifi in c:\\users\\admin\\anaconda3\\lib\\site-packages (from httpx<1,>=0.23.0->openai) (2025.4.26)\n",
      "Requirement already satisfied: h11>=0.16 in c:\\users\\admin\\anaconda3\\lib\\site-packages (from httpcore==1.*->httpx<1,>=0.23.0->openai) (0.16.0)\n",
      "Requirement already satisfied: packaging<25,>=23.2 in c:\\users\\admin\\anaconda3\\lib\\site-packages (from langchain-core<1.0.0,>=0.3.66->langchain) (24.2)\n",
      "Requirement already satisfied: jsonpatch<2.0,>=1.33 in c:\\users\\admin\\anaconda3\\lib\\site-packages (from langchain-core<1.0.0,>=0.3.66->langchain) (1.33)\n",
      "Requirement already satisfied: tenacity!=8.4.0,<10.0.0,>=8.1.0 in c:\\users\\admin\\anaconda3\\lib\\site-packages (from langchain-core<1.0.0,>=0.3.66->langchain) (9.1.2)\n",
      "Requirement already satisfied: orjson<4.0.0,>=3.9.14 in c:\\users\\admin\\anaconda3\\lib\\site-packages (from langsmith>=0.1.17->langchain) (3.10.18)\n",
      "Requirement already satisfied: zstandard<0.24.0,>=0.23.0 in c:\\users\\admin\\anaconda3\\lib\\site-packages (from langsmith>=0.1.17->langchain) (0.23.0)\n",
      "Requirement already satisfied: requests-toolbelt<2.0.0,>=1.0.0 in c:\\users\\admin\\anaconda3\\lib\\site-packages (from langsmith>=0.1.17->langchain) (1.0.0)\n",
      "Requirement already satisfied: pydantic-core==2.33.2 in c:\\users\\admin\\anaconda3\\lib\\site-packages (from pydantic<3,>=1.9.0->openai) (2.33.2)\n",
      "Requirement already satisfied: typing-inspection>=0.4.0 in c:\\users\\admin\\anaconda3\\lib\\site-packages (from pydantic<3,>=1.9.0->openai) (0.4.1)\n",
      "Requirement already satisfied: annotated-types>=0.6.0 in c:\\users\\admin\\anaconda3\\lib\\site-packages (from pydantic<3,>=1.9.0->openai) (0.7.0)\n",
      "Requirement already satisfied: urllib3<1.27,>=1.21.1 in c:\\users\\admin\\anaconda3\\lib\\site-packages (from requests<3,>=2->langchain) (1.26.20)\n",
      "Requirement already satisfied: charset-normalizer<3,>=2 in c:\\users\\admin\\anaconda3\\lib\\site-packages (from requests<3,>=2->langchain) (2.0.4)\n",
      "Requirement already satisfied: greenlet!=0.4.17 in c:\\users\\admin\\anaconda3\\lib\\site-packages (from SQLAlchemy<3,>=1.4->langchain) (2.0.1)\n",
      "Requirement already satisfied: colorama in c:\\users\\admin\\anaconda3\\lib\\site-packages (from tqdm>4->openai) (0.4.6)\n",
      "Requirement already satisfied: jsonpointer>=1.9 in c:\\users\\admin\\anaconda3\\lib\\site-packages (from jsonpatch<2.0,>=1.33->langchain-core<1.0.0,>=0.3.66->langchain) (2.1)\n"
     ]
    },
    {
     "name": "stderr",
     "output_type": "stream",
     "text": [
      "WARNING: Ignoring invalid distribution -standard (c:\\users\\admin\\anaconda3\\lib\\site-packages)\n",
      "WARNING: Ignoring invalid distribution -standard (c:\\users\\admin\\anaconda3\\lib\\site-packages)\n",
      "WARNING: Ignoring invalid distribution -standard (c:\\users\\admin\\anaconda3\\lib\\site-packages)\n",
      "WARNING: Ignoring invalid distribution -standard (c:\\users\\admin\\anaconda3\\lib\\site-packages)\n",
      "WARNING: Ignoring invalid distribution -standard (c:\\users\\admin\\anaconda3\\lib\\site-packages)\n",
      "WARNING: Ignoring invalid distribution -standard (c:\\users\\admin\\anaconda3\\lib\\site-packages)\n"
     ]
    },
    {
     "name": "stdout",
     "output_type": "stream",
     "text": [
      " 나라 이름을 입력하세요: 대한민국\n",
      "\n",
      "\n",
      "\u001b[1m> Entering new SequentialChain chain...\u001b[0m\n",
      "\n",
      "\u001b[1m> Finished chain.\u001b[0m\n",
      "추천 음식: 김치\n",
      "\n",
      "해당 음식의 레시피:\n",
      "김치는 한국의 대표적인 발효 음식으로, 집에서 만들기 위한 기본적인 레시피는 다음과 같습니다. 이 레시피는 배추김치를 기준으로 합니다.\n",
      "\n",
      "### 재료:\n",
      "- 배추: 2포기\n",
      "- 굵은 소금: 1컵 (약 200g)\n",
      "- 물: 10컵\n",
      "\n",
      "#### 양념 재료:\n",
      "- 고춧가루: 1컵 (약 100g)\n",
      "- 다진 마늘: 1/4컵\n",
      "- 다진 생강: 1큰술\n",
      "- 까나리 액젓 (또는 멸치액젓): 1/2컵\n",
      "- 설탕: 1큰술\n",
      "- 쪽파: 1줌\n",
      "- 무: 1/2개 (채 썬 것)\n",
      "- 양파: 1개 (채 썬 것)\n",
      "\n",
      "### 순서:\n",
      "\n",
      "1. **배추 절이기:**\n",
      "   - 배추를 길이로 반을 자르고, 다시 반으로 잘라 총 4등분으로 나눕니다.\n",
      "   - 큰 용기에 물 10컵을 붓고, 굵은 소금 1컵을 녹입니다.\n",
      "   - 배추를 소금물에 담가 절여줍니다. 이때 배추 잎 사이사이에 소금을 골고루 뿌려줍니다.\n",
      "   - 약 6~8시간 동안 절여주며, 중간에 한두 번 뒤집어 줍니다.\n",
      "   - 배추가 잘 절여졌으면 흐르는 물에 여러 번 씻어 소금기를 제거하고, 체에 밭쳐 물기를 빼줍니다.\n",
      "\n",
      "2. **양념 준비:**\n",
      "   - 큰 볼에 고춧가루, 다진 마늘, 다진 생강, 액젓, 설탕을 넣고 잘 섞어 양념장을 만듭니다.\n",
      "   - 채 썬 무, 양파, 쪽파를 양념장에 넣고 고루 섞어줍니다.\n",
      "\n",
      "3. **배추에 양념 바르기:**\n",
      "   - 물기가 빠진 배추에 양념을 골고루 발라줍니다. 배추 한 잎 한 잎 사이에 양념이 잘 스며들도록 꼼꼼히 바릅니다.\n",
      "\n",
      "4. **김치 보관하기:**\n",
      "   - 양념이 발라진 배추를 김치통이나 용기에 차곡차곡 담습니다.\n",
      "   - 김치가 숙성될 수 있도록 실온에서 하루 정도 두었다가, 이후에는 냉장고나 김치 냉장고에 보관합니다.\n",
      "\n",
      "5. **숙성:**\n",
      "   - 김치는 보통 1~2주 정도 숙성시키면 맛있게 먹을 수 있습니다. 개인의 취향에 따라 숙성 기간을 조절하세요.\n",
      "\n",
      "이렇게 집에서 직접 김치를 만들어 보세요. 김치는 발효가 진행되면서 맛이 깊어지므로, 숙성 정도를 보며 원하는 맛이 났을 때 드시면 됩니다.\n"
     ]
    }
   ],
   "source": [
    "# 생성형AI.ipynb 내용 (Jupyter용 파이썬 코드)\n",
    "# 평가 요구사항에 맞는 LangChain 기반 음식 추천 + 레시피 생성 시스템\n",
    "\n",
    "!pip install openai langchain python-dotenv\n",
    "\n",
    "import os\n",
    "from dotenv import load_dotenv\n",
    "from langchain.chat_models import ChatOpenAI\n",
    "from langchain.prompts import ChatPromptTemplate\n",
    "from langchain.chains import LLMChain, SequentialChain\n",
    "\n",
    "# 1. 환경변수 로드 및 LLM 설정\n",
    "load_dotenv()\n",
    "llm = ChatOpenAI(temperature=0.7, model=\"gpt-4o\")\n",
    "\n",
    "# 2. food_chain: 나라명을 입력받아 대표 음식 추천\n",
    "food_prompt = ChatPromptTemplate.from_template(\n",
    "    \"\"\"\n",
    "    사용자가 입력한 나라: {country}\n",
    "    해당 나라의 가장 유명한 음식 한 가지를 추천해주세요. 음식명만 출력하세요.\n",
    "    \"\"\"\n",
    ")\n",
    "food_chain = LLMChain(llm=llm, prompt=food_prompt, output_key=\"food\")\n",
    "\n",
    "# 3. recipe_chain: 음식명을 입력받아 레시피 출력\n",
    "recipe_prompt = ChatPromptTemplate.from_template(\n",
    "    \"\"\"\n",
    "    음식 이름: {food}\n",
    "    위 음식을 집에서 만들 수 있는 레시피를 알려주세요. 재료와 순서를 포함하세요.\n",
    "    \"\"\"\n",
    ")\n",
    "recipe_chain = LLMChain(llm=llm, prompt=recipe_prompt, output_key=\"recipe\")\n",
    "\n",
    "# 4. 두 체인 연결: 나라 → 음식 → 레시피\n",
    "full_chain = SequentialChain(\n",
    "    chains=[food_chain, recipe_chain],\n",
    "    input_variables=[\"country\"],\n",
    "    output_variables=[\"food\", \"recipe\"],\n",
    "    verbose=True\n",
    ")\n",
    "\n",
    "# 5. 실행 예시 (사용자 입력)\n",
    "input_country = input(\" 나라 이름을 입력하세요: \")\n",
    "result = full_chain({\"country\": input_country})\n",
    "\n",
    "# 6. 결과 출력\n",
    "print(f\"추천 음식: {result['food']}\")\n",
    "print(\"\\n해당 음식의 레시피:\")\n",
    "print(result['recipe'])\n"
   ]
  },
  {
   "cell_type": "code",
   "execution_count": null,
   "id": "8e95c7d7",
   "metadata": {},
   "outputs": [],
   "source": []
  },
  {
   "cell_type": "code",
   "execution_count": null,
   "id": "b6090c0c",
   "metadata": {},
   "outputs": [],
   "source": []
  },
  {
   "cell_type": "code",
   "execution_count": null,
   "id": "93ccdd7f",
   "metadata": {},
   "outputs": [],
   "source": []
  },
  {
   "cell_type": "code",
   "execution_count": null,
   "id": "0732bd08",
   "metadata": {},
   "outputs": [],
   "source": []
  },
  {
   "cell_type": "code",
   "execution_count": null,
   "id": "d07a9dd9",
   "metadata": {},
   "outputs": [],
   "source": []
  },
  {
   "cell_type": "code",
   "execution_count": null,
   "id": "0257f71e",
   "metadata": {},
   "outputs": [],
   "source": []
  },
  {
   "cell_type": "code",
   "execution_count": null,
   "id": "cf119b2a",
   "metadata": {},
   "outputs": [],
   "source": []
  },
  {
   "cell_type": "code",
   "execution_count": null,
   "id": "5725a7f4",
   "metadata": {},
   "outputs": [],
   "source": []
  },
  {
   "cell_type": "code",
   "execution_count": null,
   "id": "e6a77b7a",
   "metadata": {},
   "outputs": [],
   "source": []
  },
  {
   "cell_type": "code",
   "execution_count": null,
   "id": "e47a14e1",
   "metadata": {},
   "outputs": [],
   "source": []
  },
  {
   "cell_type": "code",
   "execution_count": null,
   "id": "3006a0d4",
   "metadata": {},
   "outputs": [],
   "source": []
  }
 ],
 "metadata": {
  "kernelspec": {
   "display_name": "llm(ipykernel)",
   "language": "python",
   "name": "llm"
  },
  "language_info": {
   "codemirror_mode": {
    "name": "ipython",
    "version": 3
   },
   "file_extension": ".py",
   "mimetype": "text/x-python",
   "name": "python",
   "nbconvert_exporter": "python",
   "pygments_lexer": "ipython3",
   "version": "3.10.18"
  },
  "toc": {
   "base_numbering": 1,
   "nav_menu": {},
   "number_sections": false,
   "sideBar": true,
   "skip_h1_title": false,
   "title_cell": "Table of Contents",
   "title_sidebar": "Contents",
   "toc_cell": false,
   "toc_position": {},
   "toc_section_display": true,
   "toc_window_display": false
  }
 },
 "nbformat": 4,
 "nbformat_minor": 5
}
